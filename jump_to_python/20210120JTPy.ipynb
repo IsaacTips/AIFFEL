{
  "nbformat": 4,
  "nbformat_minor": 0,
  "metadata": {
    "colab": {
      "name": "20210120JTPy",
      "provenance": [],
      "collapsed_sections": [
        "iJ4cxjH5aUk3"
      ],
      "authorship_tag": "ABX9TyN/i9025wUiaejI0p02Owhl",
      "include_colab_link": true
    },
    "kernelspec": {
      "name": "python3",
      "display_name": "Python 3"
    }
  },
  "cells": [
    {
      "cell_type": "markdown",
      "metadata": {
        "id": "view-in-github",
        "colab_type": "text"
      },
      "source": [
        "<a href=\"https://colab.research.google.com/github/IsaacTips/AIFFEL/blob/master/20210120JTPy.ipynb\" target=\"_parent\"><img src=\"https://colab.research.google.com/assets/colab-badge.svg\" alt=\"Open In Colab\"/></a>"
      ]
    },
    {
      "cell_type": "markdown",
      "metadata": {
        "id": "6qDlZmhjH8Qw"
      },
      "source": [
        "# 불 자료형\r\n",
        "불은 true false 참과 거짓"
      ]
    },
    {
      "cell_type": "code",
      "metadata": {
        "colab": {
          "base_uri": "https://localhost:8080/"
        },
        "id": "2fylkEmcDaeV",
        "outputId": "3b86e9fc-f517-4261-a172-ffe2cd6ad9e1"
      },
      "source": [
        "a = True\r\n",
        "print(type(a))"
      ],
      "execution_count": null,
      "outputs": [
        {
          "output_type": "stream",
          "text": [
            "<class 'bool'>\n"
          ],
          "name": "stdout"
        }
      ]
    },
    {
      "cell_type": "markdown",
      "metadata": {
        "id": "fL_EzD_8IdOE"
      },
      "source": [
        "불 자료형은 불리언이라고 불린다. \r\n",
        "* 문자열 자료형 = 참\r\n",
        "* 문자열 자료형인데 값이 없고 비었다? = 거짓\r\n",
        "* 리스트, 튜플, 딕셔너리 있는것 - 참\r\n",
        "* 리스트, 튜플, 딕셔너리 아무것도 없는 값 = 거짓\r\n",
        "\r\n",
        "결론 있는건 참 없는건 거짓\r\n"
      ]
    },
    {
      "cell_type": "code",
      "metadata": {
        "colab": {
          "base_uri": "https://localhost:8080/"
        },
        "id": "59CqvXklDagz",
        "outputId": "94016a73-a8d1-4e73-c15d-4e371910ddd0"
      },
      "source": [
        "a = [1, 2, 3, 4]\r\n",
        "while a:\r\n",
        "    a.pop()\r\n",
        "    print(a)\r\n",
        "#true일 경우 무한정 나오는데 pop으로 하나씩 날리기 때문에 멈춤"
      ],
      "execution_count": null,
      "outputs": [
        {
          "output_type": "stream",
          "text": [
            "[1, 2, 3]\n",
            "[1, 2]\n",
            "[1]\n",
            "[]\n"
          ],
          "name": "stdout"
        }
      ]
    },
    {
      "cell_type": "markdown",
      "metadata": {
        "id": "QjVV9_gsJhmW"
      },
      "source": [
        "# 변수\r\n",
        "어떤 값을 실제로 컴퓨터에서 처리할 때 메모리로 올린다. 메모리가 실제 저장장치. 변수는 우리가 담는 상자고 실제 값은 메모리에 담는다. 근데 메모리에 주소가 있다.\r\n",
        "변수는 주소를 가지고 있는데 그 주소로 값을 가지고 온다.\r\n",
        "\r\n"
      ]
    },
    {
      "cell_type": "code",
      "metadata": {
        "colab": {
          "base_uri": "https://localhost:8080/"
        },
        "id": "Jw2GEW_sDajE",
        "outputId": "63f13835-03f2-46cc-d54b-f9b7a4d2ff28"
      },
      "source": [
        "a = [1,2,3]\r\n",
        "b = a\r\n",
        "#주소를 가지고 온다.\r\n",
        "a[1] = 4\r\n",
        "#a가 바뀐거니까 b는 그대로겠지?? 아니다. 주소를 가지고 온 것이라 b도 변한다.\r\n",
        "b\r\n",
        "#목사의 개념이 아니라 같은걸 가지고 온것~~"
      ],
      "execution_count": null,
      "outputs": [
        {
          "output_type": "execute_result",
          "data": {
            "text/plain": [
              "[1, 4, 3]"
            ]
          },
          "metadata": {
            "tags": []
          },
          "execution_count": 9
        }
      ]
    },
    {
      "cell_type": "markdown",
      "metadata": {
        "id": "_O-bAq5gLD-V"
      },
      "source": [
        "그럼 복사하려면 어떻게 할까?"
      ]
    },
    {
      "cell_type": "code",
      "metadata": {
        "colab": {
          "base_uri": "https://localhost:8080/"
        },
        "id": "DMwWUniVDalu",
        "outputId": "b6b794bf-233a-4d65-c5a6-d2ed4ee11204"
      },
      "source": [
        "a = [1,2,3]\r\n",
        "b = a\r\n",
        "a[1] = 4\r\n",
        "print(id(a))\r\n",
        "print(id(b))\r\n",
        "print(a is b)"
      ],
      "execution_count": null,
      "outputs": [
        {
          "output_type": "stream",
          "text": [
            "140476742555784\n",
            "140476742555784\n",
            "True\n"
          ],
          "name": "stdout"
        }
      ]
    },
    {
      "cell_type": "code",
      "metadata": {
        "colab": {
          "base_uri": "https://localhost:8080/"
        },
        "id": "XvxM_bM1DaoE",
        "outputId": "6988b257-efbb-4b74-8a80-d5e25169457c"
      },
      "source": [
        "a = [1,2,3]\r\n",
        "b = a[:] #슬라이싱 하면 새로운게 따져서 들어간다.\r\n",
        "a[1] = 4\r\n",
        "\r\n",
        "print(a)\r\n",
        "print(b)\r\n",
        "print(id(a))\r\n",
        "print(id(b))\r\n",
        "#주소가 달라짐"
      ],
      "execution_count": null,
      "outputs": [
        {
          "output_type": "stream",
          "text": [
            "[1, 4, 3]\n",
            "[1, 2, 3]\n",
            "140476742261768\n",
            "140476742528520\n"
          ],
          "name": "stdout"
        }
      ]
    },
    {
      "cell_type": "code",
      "metadata": {
        "colab": {
          "base_uri": "https://localhost:8080/"
        },
        "id": "wH2FB_vEDaqs",
        "outputId": "9ae1f593-be1c-459b-d8ff-676d637f4fa5"
      },
      "source": [
        "from copy import copy\r\n",
        "\r\n",
        "a = [1,2,3]\r\n",
        "b = copy(a) #copy라는 함수를 쓸수 있게됨.\r\n",
        "a[1] = 4\r\n",
        "print(id(a))\r\n",
        "print(id(b))\r\n",
        "#주소가 달라짐"
      ],
      "execution_count": null,
      "outputs": [
        {
          "output_type": "stream",
          "text": [
            "140476742244360\n",
            "140476742554376\n"
          ],
          "name": "stdout"
        }
      ]
    },
    {
      "cell_type": "code",
      "metadata": {
        "colab": {
          "base_uri": "https://localhost:8080/"
        },
        "id": "RaiCs3cVDatN",
        "outputId": "4a65d798-3319-4b08-cb49-702a3723e37b"
      },
      "source": [
        "a, b = ('python', 'life')\r\n",
        "\r\n",
        "print(a)\r\n",
        "print(b)\r\n",
        "\r\n",
        "(a, b) = 'python', 'life' #요것도 가능\r\n",
        "\r\n",
        "a = b = 'hello'#요것도 가능\r\n"
      ],
      "execution_count": null,
      "outputs": [
        {
          "output_type": "stream",
          "text": [
            "python\n",
            "life\n"
          ],
          "name": "stdout"
        }
      ]
    },
    {
      "cell_type": "code",
      "metadata": {
        "colab": {
          "base_uri": "https://localhost:8080/"
        },
        "id": "4mOn6M7CDavc",
        "outputId": "136456ac-0b6c-410f-b153-11e5b77ee245"
      },
      "source": [
        "a = 3\r\n",
        "b = 5\r\n",
        "\r\n",
        "tmp = b\r\n",
        "b = a\r\n",
        "a = tmp\r\n",
        "\r\n",
        "print(a)\r\n",
        "print(b)\r\n",
        "#다른 언어들이 a랑 b를 바꾸는 방법"
      ],
      "execution_count": null,
      "outputs": [
        {
          "output_type": "stream",
          "text": [
            "5\n",
            "3\n"
          ],
          "name": "stdout"
        }
      ]
    },
    {
      "cell_type": "code",
      "metadata": {
        "id": "c2OHmp-xDax8",
        "colab": {
          "base_uri": "https://localhost:8080/"
        },
        "outputId": "c89ca9d4-4340-439d-914a-658bb6bbf608"
      },
      "source": [
        "a = 3\r\n",
        "b = 5\r\n",
        "a,b = b,a\r\n",
        "\r\n",
        "print(a)\r\n",
        "print(b)\r\n",
        "#파이썬이 a랑 b를 바꾸는 방법"
      ],
      "execution_count": null,
      "outputs": [
        {
          "output_type": "stream",
          "text": [
            "5\n",
            "3\n"
          ],
          "name": "stdout"
        }
      ]
    },
    {
      "cell_type": "markdown",
      "metadata": {
        "id": "wgMNGFJGDa2l"
      },
      "source": [
        "#제어문\r\n",
        "조건문, 반복문\r\n",
        "\r\n",
        "돈이 있으면 택시를 타고, 돈이 없으면 걸어간다. \r\n",
        "\r\n"
      ]
    },
    {
      "cell_type": "code",
      "metadata": {
        "id": "pvCq20DYDa_E"
      },
      "source": [
        "money = True\r\n",
        "if money:\r\n",
        "    print(\"택시를 타고 가라\")\r\n",
        "else:\r\n",
        "    print(\"걸어 가라\")"
      ],
      "execution_count": null,
      "outputs": []
    },
    {
      "cell_type": "code",
      "metadata": {
        "id": "Obig8zLsDbBV",
        "colab": {
          "base_uri": "https://localhost:8080/"
        },
        "outputId": "a8b46f7f-3887-4cc1-adc9-eda7c389a911"
      },
      "source": [
        "money = False\r\n",
        "if money:\r\n",
        "    print(\"택시를 타고 가라\")\r\n",
        "else:\r\n",
        "    print(\"걸어 가라\")"
      ],
      "execution_count": null,
      "outputs": [
        {
          "output_type": "stream",
          "text": [
            "걸어 가라\n"
          ],
          "name": "stdout"
        }
      ]
    },
    {
      "cell_type": "code",
      "metadata": {
        "id": "LfULv-HCDbDs",
        "colab": {
          "base_uri": "https://localhost:8080/",
          "height": 136
        },
        "outputId": "4d733d7b-8909-4197-8a4d-f63e505931d4"
      },
      "source": [
        "money = False\r\n",
        "if money:\r\n",
        "    print(\"택시를 타고 가라\")\r\n",
        "print(\"aa\")\r\n",
        "else:\r\n",
        "    print(\"걸어 가라\")\r\n",
        "\r\n",
        "#파이썬은 들여쓰기가 굉장히 중요하다. tap으로 줄을 맞추어 줘야 함."
      ],
      "execution_count": null,
      "outputs": [
        {
          "output_type": "error",
          "ename": "SyntaxError",
          "evalue": "ignored",
          "traceback": [
            "\u001b[0;36m  File \u001b[0;32m\"<ipython-input-26-6881cdf8b031>\"\u001b[0;36m, line \u001b[0;32m5\u001b[0m\n\u001b[0;31m    else:\u001b[0m\n\u001b[0m       ^\u001b[0m\n\u001b[0;31mSyntaxError\u001b[0m\u001b[0;31m:\u001b[0m invalid syntax\n"
          ]
        }
      ]
    },
    {
      "cell_type": "markdown",
      "metadata": {
        "id": "lJ3-ckAgUbdf"
      },
      "source": [
        "03-1 If문\r\n",
        "\r\n",
        "비교연산자\r\n",
        "* x < y x가 y보다 작다\r\n",
        "* x > y x가 y보다 크다\r\n",
        "* x == y x와 y가 같다\r\n",
        "* x != y x와 y가 같지 않다."
      ]
    },
    {
      "cell_type": "code",
      "metadata": {
        "id": "2-9JoRNDDbGE",
        "colab": {
          "base_uri": "https://localhost:8080/"
        },
        "outputId": "7f29911f-7aec-4c01-8f22-de91d476b8ad"
      },
      "source": [
        "a = 1\r\n",
        "b = 2\r\n",
        "if a < b:\r\n",
        "    print(\"택시를 타고 가라\")\r\n",
        "else:\r\n",
        "    print(\"걸어 가라\")"
      ],
      "execution_count": null,
      "outputs": [
        {
          "output_type": "stream",
          "text": [
            "택시를 타고 가라\n"
          ],
          "name": "stdout"
        }
      ]
    },
    {
      "cell_type": "code",
      "metadata": {
        "id": "v9yXRSKiDbIm",
        "colab": {
          "base_uri": "https://localhost:8080/"
        },
        "outputId": "25f48c91-9c29-495a-e434-baeb6c3dad8c"
      },
      "source": [
        "money = 2000\r\n",
        "if money >= 3000:\r\n",
        "    print(\"택시를 타고 가라\")\r\n",
        "else:\r\n",
        "    print(\"걸어 가라\")"
      ],
      "execution_count": null,
      "outputs": [
        {
          "output_type": "stream",
          "text": [
            "걸어 가라\n"
          ],
          "name": "stdout"
        }
      ]
    },
    {
      "cell_type": "markdown",
      "metadata": {
        "id": "gaeYdN6aVwi0"
      },
      "source": [
        "and or not"
      ]
    },
    {
      "cell_type": "code",
      "metadata": {
        "id": "GHUNBkm1DbLE",
        "colab": {
          "base_uri": "https://localhost:8080/"
        },
        "outputId": "a86c4f72-e5f7-4516-951b-27fd4bb8ed7d"
      },
      "source": [
        "money = 2000\r\n",
        "card = 1\r\n",
        "if False or card: #or는 둘중에 하나라도 참이 있으면 참! |(바)를 사용해서 or를 사용할 수 있음\r\n",
        "    print(\"택시를 타고 가라\")\r\n",
        "else:\r\n",
        "    print(\"걸어 가라\")"
      ],
      "execution_count": null,
      "outputs": [
        {
          "output_type": "stream",
          "text": [
            "택시를 타고 가라\n"
          ],
          "name": "stdout"
        }
      ]
    },
    {
      "cell_type": "code",
      "metadata": {
        "id": "4t3H6rJNDbNX",
        "colab": {
          "base_uri": "https://localhost:8080/"
        },
        "outputId": "a9a6f565-2c75-4786-bb10-e21a04a71f5a"
      },
      "source": [
        "money = 2000\r\n",
        "card = 1\r\n",
        "if False and card: #and는 둘 다 참이어야 참! &를 사용해서 and를 사용할 수 있음\r\n",
        "    print(\"택시를 타고 가라\")\r\n",
        "else:\r\n",
        "    print(\"걸어 가라\")"
      ],
      "execution_count": null,
      "outputs": [
        {
          "output_type": "stream",
          "text": [
            "걸어 가라\n"
          ],
          "name": "stdout"
        }
      ]
    },
    {
      "cell_type": "code",
      "metadata": {
        "id": "Wzy5H8N_DbPh",
        "colab": {
          "base_uri": "https://localhost:8080/"
        },
        "outputId": "a3d1bed7-2af8-4350-f333-705d96a899ae"
      },
      "source": [
        "money = 2000\r\n",
        "card = 1\r\n",
        "if not False and card: #not을 붙이면 true가 false로 false를 true로 바꾸어줌!\r\n",
        "    print(\"택시를 타고 가라\")\r\n",
        "else:\r\n",
        "    print(\"걸어 가라\")"
      ],
      "execution_count": null,
      "outputs": [
        {
          "output_type": "stream",
          "text": [
            "택시를 타고 가라\n"
          ],
          "name": "stdout"
        }
      ]
    },
    {
      "cell_type": "code",
      "metadata": {
        "colab": {
          "base_uri": "https://localhost:8080/"
        },
        "id": "zYYQ1eMVWcxb",
        "outputId": "09fff6c2-4ce4-4826-8da1-24757ac6d875"
      },
      "source": [
        "money = 2000\r\n",
        "card = 1\r\n",
        "if 1 in [1,2,3]: #리스트에 1이 있냐?? 123중에 1이 있기 때문에 택시를 타고 가라가 실행됨.\r\n",
        "    print(\"택시를 타고 가라\")\r\n",
        "else:\r\n",
        "    print(\"걸어 가라\")"
      ],
      "execution_count": null,
      "outputs": [
        {
          "output_type": "stream",
          "text": [
            "택시를 타고 가라\n"
          ],
          "name": "stdout"
        }
      ]
    },
    {
      "cell_type": "code",
      "metadata": {
        "colab": {
          "base_uri": "https://localhost:8080/"
        },
        "id": "vy8lt_t3WxGU",
        "outputId": "1ce5aa24-2ec0-4ffa-f257-c460538781a4"
      },
      "source": [
        "money = 2000\r\n",
        "card = 1\r\n",
        "if 1 not in [1,2,3]: #리스트에 1이 있냐?? 있으면 걸어가라를 실행!\r\n",
        "    print(\"택시를 타고 가라\")\r\n",
        "else:\r\n",
        "    print(\"걸어 가라\")"
      ],
      "execution_count": null,
      "outputs": [
        {
          "output_type": "stream",
          "text": [
            "걸어 가라\n"
          ],
          "name": "stdout"
        }
      ]
    },
    {
      "cell_type": "code",
      "metadata": {
        "colab": {
          "base_uri": "https://localhost:8080/"
        },
        "id": "ZWhcrnkKW9h7",
        "outputId": "ce4da56f-997c-42e7-88ce-72d369ad64c3"
      },
      "source": [
        "money = 2000\r\n",
        "card = 1\r\n",
        "if 1 not in [1,2,3]: \r\n",
        "    pass #pass를 사용하면 아무것도 안넣어도 됨.\r\n",
        "else:\r\n",
        "    print(\"걸어 가라\")"
      ],
      "execution_count": null,
      "outputs": [
        {
          "output_type": "stream",
          "text": [
            "걸어 가라\n"
          ],
          "name": "stdout"
        }
      ]
    },
    {
      "cell_type": "code",
      "metadata": {
        "colab": {
          "base_uri": "https://localhost:8080/"
        },
        "id": "eoQds_DWXS3A",
        "outputId": "2bf1fdf6-426c-48e3-a3c5-13490c627e80"
      },
      "source": [
        "pocket = ['paper', 'cellphone']\r\n",
        "card = 1\r\n",
        "if 'money' in pocket: \r\n",
        "    pass\r\n",
        "elif card:\r\n",
        "    print(\"택시를 타고 가라\")\r\n",
        "else:\r\n",
        "    print(\"걸어 가라\")"
      ],
      "execution_count": null,
      "outputs": [
        {
          "output_type": "stream",
          "text": [
            "택시를 타고 가라\n"
          ],
          "name": "stdout"
        }
      ]
    },
    {
      "cell_type": "code",
      "metadata": {
        "colab": {
          "base_uri": "https://localhost:8080/"
        },
        "id": "XVN5xP7pXj7n",
        "outputId": "8cd69e17-f5ee-4b61-c26a-87d90b4a0aac"
      },
      "source": [
        "pocket = ['paper', 'cellphone']\r\n",
        "card = False\r\n",
        "a = True\r\n",
        "if 'money' in pocket: \r\n",
        "    pass\r\n",
        "elif card:\r\n",
        "    print(\"택시를 타고 가라\")\r\n",
        "elif a:\r\n",
        "    print(\"택시를 타고 가라\")\r\n",
        "else:\r\n",
        "    print(\"걸어 가라\")"
      ],
      "execution_count": null,
      "outputs": [
        {
          "output_type": "stream",
          "text": [
            "택시를 타고 가라\n"
          ],
          "name": "stdout"
        }
      ]
    },
    {
      "cell_type": "code",
      "metadata": {
        "colab": {
          "base_uri": "https://localhost:8080/"
        },
        "id": "SPnJBrJZX3cm",
        "outputId": "60a78d74-4c25-4143-cd15-fb1641a88e4a"
      },
      "source": [
        "score = 70\r\n",
        "# if score >= 60:\r\n",
        "#     message = \"success\"\r\n",
        "# else:\r\n",
        "#     message = \"failure\"\r\n",
        "message = \"success\" if score >= 60 else \"failure\" #한줄로 쓰는 법\r\n",
        "print(message)"
      ],
      "execution_count": null,
      "outputs": [
        {
          "output_type": "stream",
          "text": [
            "success\n"
          ],
          "name": "stdout"
        }
      ]
    },
    {
      "cell_type": "markdown",
      "metadata": {
        "id": "dTnV3ap6m1E5"
      },
      "source": [
        "조건부 표현식\r\n",
        "1. 성공일때 조건을 먼저 써주고\r\n",
        "2. 조건식을 써준다."
      ]
    },
    {
      "cell_type": "markdown",
      "metadata": {
        "id": "YvjpW5-8YaPM"
      },
      "source": [
        "# 반복문\r\n",
        "##while\r\n",
        "반복적으로 수행해야 한다. 할때 반복문을 쓴다.\r\n",
        "while 문"
      ]
    },
    {
      "cell_type": "code",
      "metadata": {
        "colab": {
          "base_uri": "https://localhost:8080/"
        },
        "id": "Uiqz6g3kYOmw",
        "outputId": "7a8b4d06-080f-49e0-c0e5-94e8823b3fbd"
      },
      "source": [
        "treeHit = 0\r\n",
        "while treeHit < 10:\r\n",
        "    treeHit = treeHit +1\r\n",
        "    print(\"나무를 %d번 찍었습니다.\" % treeHit)\r\n",
        "    if treeHit == 10:\r\n",
        "        print(\"나무 넘어갑니다.\")"
      ],
      "execution_count": null,
      "outputs": [
        {
          "output_type": "stream",
          "text": [
            "나무를 1번 찍었습니다.\n",
            "나무를 2번 찍었습니다.\n",
            "나무를 3번 찍었습니다.\n",
            "나무를 4번 찍었습니다.\n",
            "나무를 5번 찍었습니다.\n",
            "나무를 6번 찍었습니다.\n",
            "나무를 7번 찍었습니다.\n",
            "나무를 8번 찍었습니다.\n",
            "나무를 9번 찍었습니다.\n",
            "나무를 10번 찍었습니다.\n",
            "나무 넘어갑니다.\n"
          ],
          "name": "stdout"
        }
      ]
    },
    {
      "cell_type": "markdown",
      "metadata": {
        "id": "EB8P1ArmlaB_"
      },
      "source": [
        "break"
      ]
    },
    {
      "cell_type": "code",
      "metadata": {
        "colab": {
          "base_uri": "https://localhost:8080/"
        },
        "id": "ojhD-0eLkYec",
        "outputId": "91769640-1770-4c3c-f375-562b58d6f079"
      },
      "source": [
        "coffee = 10\r\n",
        "money = 300\r\n",
        "while money:\r\n",
        "    print(\"돈을 받았으니 커피를 줍니다.\")\r\n",
        "    coffee = coffee -1\r\n",
        "    print(\"남은 커피의 양은 %d개입니다.\" %coffee)\r\n",
        "    if not coffee:\r\n",
        "        print(\"커피가 다 떨어졌습니다. 판매를 중지합니다\")\r\n",
        "        break #반복문을 빠져나간다."
      ],
      "execution_count": null,
      "outputs": [
        {
          "output_type": "stream",
          "text": [
            "돈을 받았으니 커피를 줍니다.\n",
            "남은 커피의 양은 9개입니다.\n",
            "돈을 받았으니 커피를 줍니다.\n",
            "남은 커피의 양은 8개입니다.\n",
            "돈을 받았으니 커피를 줍니다.\n",
            "남은 커피의 양은 7개입니다.\n",
            "돈을 받았으니 커피를 줍니다.\n",
            "남은 커피의 양은 6개입니다.\n",
            "돈을 받았으니 커피를 줍니다.\n",
            "남은 커피의 양은 5개입니다.\n",
            "돈을 받았으니 커피를 줍니다.\n",
            "남은 커피의 양은 4개입니다.\n",
            "돈을 받았으니 커피를 줍니다.\n",
            "남은 커피의 양은 3개입니다.\n",
            "돈을 받았으니 커피를 줍니다.\n",
            "남은 커피의 양은 2개입니다.\n",
            "돈을 받았으니 커피를 줍니다.\n",
            "남은 커피의 양은 1개입니다.\n",
            "돈을 받았으니 커피를 줍니다.\n",
            "남은 커피의 양은 0개입니다.\n",
            "커피가 다 떨어졌습니다. 판매를 중지합니다\n"
          ],
          "name": "stdout"
        }
      ]
    },
    {
      "cell_type": "markdown",
      "metadata": {
        "id": "2tabL8UkmWdY"
      },
      "source": [
        "continue"
      ]
    },
    {
      "cell_type": "code",
      "metadata": {
        "colab": {
          "base_uri": "https://localhost:8080/"
        },
        "id": "wvYJq2qdl0B8",
        "outputId": "b220be76-1c99-4098-ae59-307c0a2009a7"
      },
      "source": [
        "a = 0\r\n",
        "while a < 10:\r\n",
        "    a = a + 1\r\n",
        "    if a % 2 == 0:\r\n",
        "       continue\r\n",
        "    print(a)"
      ],
      "execution_count": null,
      "outputs": [
        {
          "output_type": "stream",
          "text": [
            "1\n",
            "3\n",
            "5\n",
            "7\n",
            "9\n"
          ],
          "name": "stdout"
        }
      ]
    },
    {
      "cell_type": "markdown",
      "metadata": {
        "id": "QVFiE-0Mmtuq"
      },
      "source": [
        "무한루프"
      ]
    },
    {
      "cell_type": "code",
      "metadata": {
        "colab": {
          "base_uri": "https://localhost:8080/"
        },
        "id": "qlC7xrXnmUr5",
        "outputId": "fe5ec3a4-b780-4498-e396-e91792597948"
      },
      "source": [
        "while True:\r\n",
        "    print(\"안녕하세요\")\r\n",
        "    break #이거 지우면 무한루프...\r\n",
        "#무한정 실행이 되기 때문에 Ctrl C 로 멈추시오."
      ],
      "execution_count": null,
      "outputs": [
        {
          "output_type": "stream",
          "text": [
            "안녕하세요\n"
          ],
          "name": "stdout"
        }
      ]
    },
    {
      "cell_type": "markdown",
      "metadata": {
        "id": "v-YvI40Vq-hD"
      },
      "source": [
        "## for문\r\n",
        "for문의 기본 구조<br><br>\r\n",
        "for 변수 in 리스트(또는 튜플, 문자열)<br>\r\n",
        " <br>   수행할 문장1\r\n",
        " <br>   수행할 문장2\r\n",
        "    ...\r\n"
      ]
    },
    {
      "cell_type": "code",
      "metadata": {
        "colab": {
          "base_uri": "https://localhost:8080/"
        },
        "id": "zakY9Opyq-A8",
        "outputId": "24188458-5dff-4b9d-a8d5-aa5f5c241059"
      },
      "source": [
        "test_list = ['one', 'two', 'three']\r\n",
        "for i in test_list:\r\n",
        "    print(i)"
      ],
      "execution_count": null,
      "outputs": [
        {
          "output_type": "stream",
          "text": [
            "one\n",
            "two\n",
            "three\n"
          ],
          "name": "stdout"
        }
      ]
    },
    {
      "cell_type": "markdown",
      "metadata": {
        "id": "bULt_6R6q-KK"
      },
      "source": [
        "다양한 for문의 사용"
      ]
    },
    {
      "cell_type": "code",
      "metadata": {
        "colab": {
          "base_uri": "https://localhost:8080/"
        },
        "id": "2BMhPjL0mzKD",
        "outputId": "d78fcf51-8deb-4580-8ee4-b2022db93d1e"
      },
      "source": [
        "a = [(1,2), (3,4), (5,6)]\r\n",
        "for (first, last) in a:\r\n",
        "    print(first + last)\r\n",
        "\r\n",
        "(a,b) = (1,2)"
      ],
      "execution_count": null,
      "outputs": [
        {
          "output_type": "stream",
          "text": [
            "3\n",
            "7\n",
            "11\n"
          ],
          "name": "stdout"
        }
      ]
    },
    {
      "cell_type": "markdown",
      "metadata": {
        "id": "HZshK9Bbsm1j"
      },
      "source": [
        ""
      ]
    },
    {
      "cell_type": "code",
      "metadata": {
        "colab": {
          "base_uri": "https://localhost:8080/"
        },
        "id": "374d66YbsgMq",
        "outputId": "7ccf5621-0a83-4223-b1c4-189a9bd4b9a9"
      },
      "source": [
        "marks = [90, 25, 67, 45, 80]\r\n",
        "number = 0\r\n",
        "for mark in marks:\r\n",
        "    number = number +1\r\n",
        "    if mark >= 60:\r\n",
        "        print(\"%d번 학생은 합격입니다.\" % number)\r\n",
        "    else:\r\n",
        "        print(\"%d번 학생은 불합격입니다.\" % number)"
      ],
      "execution_count": null,
      "outputs": [
        {
          "output_type": "stream",
          "text": [
            "1번 학생은 합격입니다.\n",
            "2번 학생은 불합격입니다.\n",
            "3번 학생은 합격입니다.\n",
            "4번 학생은 불합격입니다.\n",
            "5번 학생은 합격입니다.\n"
          ],
          "name": "stdout"
        }
      ]
    },
    {
      "cell_type": "markdown",
      "metadata": {
        "id": "yc0dq-hWtiro"
      },
      "source": [
        "for문과 continue"
      ]
    },
    {
      "cell_type": "code",
      "metadata": {
        "colab": {
          "base_uri": "https://localhost:8080/"
        },
        "id": "WZkoSTc8tCme",
        "outputId": "eba1a067-5450-4c04-82a8-807886c56d16"
      },
      "source": [
        "marks = [90, 25, 67, 45, 80]\r\n",
        "\r\n",
        "number = 0\r\n",
        "for mark in marks:\r\n",
        "    number = number +1\r\n",
        "    if mark < 60: continue\r\n",
        "    print(\"%d번 학생 축하합니다. 합격입니다.\" % number)"
      ],
      "execution_count": null,
      "outputs": [
        {
          "output_type": "stream",
          "text": [
            "1번 학생 축하합니다. 합격입니다.\n",
            "3번 학생 축하합니다. 합격입니다.\n",
            "5번 학생 축하합니다. 합격입니다.\n"
          ],
          "name": "stdout"
        }
      ]
    },
    {
      "cell_type": "markdown",
      "metadata": {
        "id": "3OCoMOsvuKXR"
      },
      "source": [
        "range 함수"
      ]
    },
    {
      "cell_type": "code",
      "metadata": {
        "colab": {
          "base_uri": "https://localhost:8080/"
        },
        "id": "qPy2mYQet27K",
        "outputId": "c3a15a42-2527-4073-d011-ccf22bbac104"
      },
      "source": [
        "sum = 0\r\n",
        "for i in range(1, 11): #1 <= x < 11\r\n",
        "    print(i)\r\n",
        "print(sum)"
      ],
      "execution_count": null,
      "outputs": [
        {
          "output_type": "stream",
          "text": [
            "1\n",
            "2\n",
            "3\n",
            "4\n",
            "5\n",
            "6\n",
            "7\n",
            "8\n",
            "9\n",
            "10\n",
            "0\n"
          ],
          "name": "stdout"
        }
      ]
    },
    {
      "cell_type": "code",
      "metadata": {
        "colab": {
          "base_uri": "https://localhost:8080/"
        },
        "id": "Rnr5kV6YuUbw",
        "outputId": "2def6e5b-fc12-4f65-c1df-c3ab15e29727"
      },
      "source": [
        "sum = 0\r\n",
        "for i in range(1, 11): #1 <= x < 11\r\n",
        "    sum = sum + i\r\n",
        "print(sum)"
      ],
      "execution_count": null,
      "outputs": [
        {
          "output_type": "stream",
          "text": [
            "55\n"
          ],
          "name": "stdout"
        }
      ]
    },
    {
      "cell_type": "markdown",
      "metadata": {
        "id": "HjSfyy9Zu2Vl"
      },
      "source": [
        "구구단"
      ]
    },
    {
      "cell_type": "code",
      "metadata": {
        "colab": {
          "base_uri": "https://localhost:8080/"
        },
        "id": "SedkkTmgulGr",
        "outputId": "ebb46212-34fa-432e-a0d9-6b5f77953419"
      },
      "source": [
        "for i in range(2, 10):\r\n",
        "    for j in range(1, 10):\r\n",
        "        print(i * j, end=\" \") #end는 print함수의 옵션\r\n",
        "    print('')"
      ],
      "execution_count": null,
      "outputs": [
        {
          "output_type": "stream",
          "text": [
            "2 4 6 8 10 12 14 16 18 \n",
            "3 6 9 12 15 18 21 24 27 \n",
            "4 8 12 16 20 24 28 32 36 \n",
            "5 10 15 20 25 30 35 40 45 \n",
            "6 12 18 24 30 36 42 48 54 \n",
            "7 14 21 28 35 42 49 56 63 \n",
            "8 16 24 32 40 48 56 64 72 \n",
            "9 18 27 36 45 54 63 72 81 \n"
          ],
          "name": "stdout"
        }
      ]
    },
    {
      "cell_type": "markdown",
      "metadata": {
        "id": "DtjWDVf7wZae"
      },
      "source": [
        "리스트 내포"
      ]
    },
    {
      "cell_type": "code",
      "metadata": {
        "colab": {
          "base_uri": "https://localhost:8080/"
        },
        "id": "A-83J_8vvGbf",
        "outputId": "fa426ad3-b5f0-49ee-bac4-ffbbff4e290b"
      },
      "source": [
        "a = [1,2,3,4]\r\n",
        "result = []\r\n",
        "for num in a:\r\n",
        "    result.append(num*3)\r\n",
        "\r\n",
        "print(result)"
      ],
      "execution_count": null,
      "outputs": [
        {
          "output_type": "stream",
          "text": [
            "[3, 6, 9, 12]\n"
          ],
          "name": "stdout"
        }
      ]
    },
    {
      "cell_type": "code",
      "metadata": {
        "colab": {
          "base_uri": "https://localhost:8080/"
        },
        "id": "eF6itY7uwmW5",
        "outputId": "e09de8a1-b397-4a24-ab2a-e639bd9526d2"
      },
      "source": [
        "a = [1,2,3,4]\r\n",
        "result = [num * 3 for num in a] #위 for 문을 리스트에 넣을 수 있다.\r\n",
        "print(result)"
      ],
      "execution_count": null,
      "outputs": [
        {
          "output_type": "stream",
          "text": [
            "[3, 6, 9, 12]\n"
          ],
          "name": "stdout"
        }
      ]
    },
    {
      "cell_type": "code",
      "metadata": {
        "colab": {
          "base_uri": "https://localhost:8080/"
        },
        "id": "s64Pnec7xI5S",
        "outputId": "932077e8-47c8-4724-cb0e-448a4072392a"
      },
      "source": [
        "a = [1,2,3,4]\r\n",
        "result = [num * 3 for num in a if num % 2 == 0]\r\n",
        "print(result)"
      ],
      "execution_count": null,
      "outputs": [
        {
          "output_type": "stream",
          "text": [
            "[6, 12]\n"
          ],
          "name": "stdout"
        }
      ]
    },
    {
      "cell_type": "markdown",
      "metadata": {
        "id": "KjdrGXyhaJHA"
      },
      "source": [
        "## 숙제\r\n",
        "* 얕은 복사, 깊은 복사 설명해보기\r\n",
        "* while문과 for문 언제 사용될까? 설명해보기\r\n",
        "* range()함수만 써서 홀수의 구구단, 짝수의 구구단(if문 no!)"
      ]
    },
    {
      "cell_type": "markdown",
      "metadata": {
        "id": "iJ4cxjH5aUk3"
      },
      "source": [
        "#### 얕은 복사, 깊은 복사 설명해보기\r\n"
      ]
    },
    {
      "cell_type": "code",
      "metadata": {
        "colab": {
          "base_uri": "https://localhost:8080/"
        },
        "id": "wwMHpV7db6EA",
        "outputId": "c89b1904-de41-4b33-a3c6-9c912fcbddd7"
      },
      "source": [
        "a = [1, 2, 3]\r\n",
        "b = a\r\n",
        "b[1] = 0\r\n",
        "print(b)\r\n",
        "print(a)\r\n"
      ],
      "execution_count": null,
      "outputs": [
        {
          "output_type": "stream",
          "text": [
            "[1, 0, 3]\n",
            "[1, 0, 3]\n"
          ],
          "name": "stdout"
        }
      ]
    },
    {
      "cell_type": "code",
      "metadata": {
        "colab": {
          "base_uri": "https://localhost:8080/"
        },
        "id": "7YCC0ITtb-iN",
        "outputId": "d0c01e6f-ecf3-40f1-d616-bcb1f37142f4"
      },
      "source": [
        "id(a), id(b)"
      ],
      "execution_count": null,
      "outputs": [
        {
          "output_type": "execute_result",
          "data": {
            "text/plain": [
              "(140429915672904, 140429915672904)"
            ]
          },
          "metadata": {
            "tags": []
          },
          "execution_count": 51
        }
      ]
    },
    {
      "cell_type": "code",
      "metadata": {
        "colab": {
          "base_uri": "https://localhost:8080/"
        },
        "id": "ki-6ywatcKyK",
        "outputId": "8e48d61a-4eed-400a-ebf3-21d13453b897"
      },
      "source": [
        "b = a.copy() #얕은 복사\r\n",
        "print(id(a))\r\n",
        "print(id(b))\r\n",
        "b[1] = 10\r\n",
        "print(b)\r\n",
        "print(a)"
      ],
      "execution_count": null,
      "outputs": [
        {
          "output_type": "stream",
          "text": [
            "140429915672904\n",
            "140429916633800\n",
            "[1, 10, 3]\n",
            "[1, 0, 3]\n"
          ],
          "name": "stdout"
        }
      ]
    },
    {
      "cell_type": "markdown",
      "metadata": {
        "id": "kmAUVF4ScxLj"
      },
      "source": [
        "그러나 문제가 있음..."
      ]
    },
    {
      "cell_type": "code",
      "metadata": {
        "colab": {
          "base_uri": "https://localhost:8080/"
        },
        "id": "yp4kwRxIcfTZ",
        "outputId": "55aacef6-173a-4e4a-860a-089558faece2"
      },
      "source": [
        "a = [[1, 2], [3, 4], [5, 6]]\r\n",
        "b = a.copy()\r\n",
        "print(id(a))\r\n",
        "print(id(b))\r\n",
        "#분명 id가 다름... 그러나...\r\n",
        "print(b[1])\r\n",
        "b[1][1] = 0 #4를 0으로 바꾸어 보았다.\r\n",
        "#리스트 안에 있는 객체는 복사가 안된 모습...\r\n",
        "print(b)\r\n",
        "print(a)"
      ],
      "execution_count": null,
      "outputs": [
        {
          "output_type": "stream",
          "text": [
            "140429915194952\n",
            "140429915675464\n",
            "[3, 4]\n",
            "[[1, 2], [3, 0], [5, 6]]\n",
            "[[1, 2], [3, 0], [5, 6]]\n"
          ],
          "name": "stdout"
        }
      ]
    },
    {
      "cell_type": "markdown",
      "metadata": {
        "id": "d2PWCIsyfKK_"
      },
      "source": [
        "copy 모듈의 copy도 얕은 복사임."
      ]
    },
    {
      "cell_type": "code",
      "metadata": {
        "colab": {
          "base_uri": "https://localhost:8080/"
        },
        "id": "OOgGaYXketj0",
        "outputId": "16019d65-9ee8-4b56-d998-9026b914c455"
      },
      "source": [
        "import copy\r\n",
        "a = [[1, 2], [3, 4], [5, 6]]\r\n",
        "b = copy.copy(a)\r\n",
        "id(a), id(b) #a, b의 id는 달라졌지만..."
      ],
      "execution_count": null,
      "outputs": [
        {
          "output_type": "execute_result",
          "data": {
            "text/plain": [
              "(140429915224328, 140429915676488)"
            ]
          },
          "metadata": {
            "tags": []
          },
          "execution_count": 54
        }
      ]
    },
    {
      "cell_type": "code",
      "metadata": {
        "colab": {
          "base_uri": "https://localhost:8080/"
        },
        "id": "WkRzudgce-jU",
        "outputId": "6830c3df-0a02-4fd7-978e-7873a62af4f9"
      },
      "source": [
        "print(id(a[1]))\r\n",
        "print(id(b[1])) #안에 있는 리스트 id는 동일함..."
      ],
      "execution_count": null,
      "outputs": [
        {
          "output_type": "stream",
          "text": [
            "140430048169288\n",
            "140430048169288\n"
          ],
          "name": "stdout"
        }
      ]
    },
    {
      "cell_type": "markdown",
      "metadata": {
        "id": "wPI0xCkXd8Ws"
      },
      "source": [
        "id가 달라져서 될 것 같지만 안에 있는 리스트의 요소들은 id가 같아서 동일한 현상을 보인다.(앝은 복사의 함정)"
      ]
    },
    {
      "cell_type": "markdown",
      "metadata": {
        "id": "ww9GPf3ffYLI"
      },
      "source": [
        "깊은 복사"
      ]
    },
    {
      "cell_type": "code",
      "metadata": {
        "colab": {
          "base_uri": "https://localhost:8080/"
        },
        "id": "ppJoLwIwc46E",
        "outputId": "73f879f7-a72c-4185-fc26-2e5b2463ea2f"
      },
      "source": [
        "b = copy.deepcopy(a)\r\n",
        "id(a), id(b)"
      ],
      "execution_count": null,
      "outputs": [
        {
          "output_type": "execute_result",
          "data": {
            "text/plain": [
              "(140429915224328, 140429915621192)"
            ]
          },
          "metadata": {
            "tags": []
          },
          "execution_count": 56
        }
      ]
    },
    {
      "cell_type": "code",
      "metadata": {
        "colab": {
          "base_uri": "https://localhost:8080/"
        },
        "id": "ckTMNbiIfkUa",
        "outputId": "a0c9931b-c405-4970-e73b-8aa46cfc874a"
      },
      "source": [
        "print(id(a[1]))\r\n",
        "print(id(b[1])) #deepcopy를 쓰면 안에 있는 것들의 id가 달라진다."
      ],
      "execution_count": null,
      "outputs": [
        {
          "output_type": "stream",
          "text": [
            "140430048169288\n",
            "140429915224776\n"
          ],
          "name": "stdout"
        }
      ]
    },
    {
      "cell_type": "code",
      "metadata": {
        "colab": {
          "base_uri": "https://localhost:8080/"
        },
        "id": "9d8ElDosfn64",
        "outputId": "93a0daee-5804-41e1-f845-f772822048ee"
      },
      "source": [
        "a = [[1, 2], [3, 4], [5, 6]]\r\n",
        "b = copy.deepcopy(a)\r\n",
        "b[1][1] = 0\r\n",
        "print(b)\r\n",
        "print(a)"
      ],
      "execution_count": null,
      "outputs": [
        {
          "output_type": "stream",
          "text": [
            "[[1, 2], [3, 0], [5, 6]]\n",
            "[[1, 2], [3, 4], [5, 6]]\n"
          ],
          "name": "stdout"
        }
      ]
    },
    {
      "cell_type": "markdown",
      "metadata": {
        "id": "2fCp5KnlgK5Z"
      },
      "source": [
        "#### while문과 for문 언제 사용될까? 설명해보기"
      ]
    },
    {
      "cell_type": "code",
      "metadata": {
        "colab": {
          "base_uri": "https://localhost:8080/"
        },
        "id": "2OxYoel7h4XQ",
        "outputId": "b3eb5ce2-8a62-4c41-8f0a-1d6cca7a82c7"
      },
      "source": [
        "for i in range(1, 10):\r\n",
        "    print(i)\r\n"
      ],
      "execution_count": null,
      "outputs": [
        {
          "output_type": "stream",
          "text": [
            "1\n",
            "2\n",
            "3\n",
            "4\n",
            "5\n",
            "6\n",
            "7\n",
            "8\n",
            "9\n"
          ],
          "name": "stdout"
        }
      ]
    },
    {
      "cell_type": "markdown",
      "metadata": {
        "id": "kTfCZFaUicgd"
      },
      "source": [
        "for문은 반복횟수를 알 때 사용한다. <br>\r\n",
        "예를 들어 10번 곱할때, 어떤 문장이나 값을 30번 출력할때..."
      ]
    },
    {
      "cell_type": "code",
      "metadata": {
        "colab": {
          "base_uri": "https://localhost:8080/"
        },
        "id": "ub1aktVeiThe",
        "outputId": "870071c7-9d2b-49d4-d00a-bdf632dc0b08"
      },
      "source": [
        "x = 3;\r\n",
        "while x < 6:\r\n",
        "    print(x)\r\n",
        "    x = x + 1\r\n"
      ],
      "execution_count": null,
      "outputs": [
        {
          "output_type": "stream",
          "text": [
            "3\n",
            "4\n",
            "5\n"
          ],
          "name": "stdout"
        }
      ]
    },
    {
      "cell_type": "markdown",
      "metadata": {
        "id": "MriLNNmRi_QR"
      },
      "source": [
        "while문은 원하는 값이 나올때 까지 반복할 수 있다. <br>\r\n",
        "true면 코드를 계속 실행하고 false가 되면 코드를 중단한다.<br>\r\n",
        "예를 들어 100이란 값이 나올때 까지 더할때, 무한으로 계속 진행하고 싶을때..."
      ]
    },
    {
      "cell_type": "markdown",
      "metadata": {
        "id": "wAeHeb2ugSc4"
      },
      "source": [
        "#### range()함수만 써서 홀수의 구구단, 짝수의 구구단(if문 no!)"
      ]
    },
    {
      "cell_type": "code",
      "metadata": {
        "colab": {
          "base_uri": "https://localhost:8080/"
        },
        "id": "t7tULFbQgRnC",
        "outputId": "c2021b2d-ae35-46a7-e630-143737938c43"
      },
      "source": [
        "for i in range(2,10, 2):        # ①번 for문\r\n",
        "     for j in range(1, 10):   # ②번 for문\r\n",
        "         print(i*j, end=\" \") \r\n",
        "     print('') "
      ],
      "execution_count": null,
      "outputs": [
        {
          "output_type": "stream",
          "text": [
            "2 4 6 8 10 12 14 16 18 \n",
            "4 8 12 16 20 24 28 32 36 \n",
            "6 12 18 24 30 36 42 48 54 \n",
            "8 16 24 32 40 48 56 64 72 \n"
          ],
          "name": "stdout"
        }
      ]
    },
    {
      "cell_type": "code",
      "metadata": {
        "colab": {
          "base_uri": "https://localhost:8080/"
        },
        "id": "4OEKyXfnf8WI",
        "outputId": "751c9bae-a49b-4ff2-a561-5265ec4fb6f4"
      },
      "source": [
        "for i in range(3,10,2):        # ①번 for문\r\n",
        "     for j in range(1, 10):   # ②번 for문\r\n",
        "         print(i*j, end=\" \") \r\n",
        "     print('') "
      ],
      "execution_count": null,
      "outputs": [
        {
          "output_type": "stream",
          "text": [
            "3 6 9 12 15 18 21 24 27 \n",
            "5 10 15 20 25 30 35 40 45 \n",
            "7 14 21 28 35 42 49 56 63 \n",
            "9 18 27 36 45 54 63 72 81 \n"
          ],
          "name": "stdout"
        }
      ]
    }
  ]
}
