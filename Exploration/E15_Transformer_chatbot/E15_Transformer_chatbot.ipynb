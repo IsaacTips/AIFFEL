{
 "cells": [
  {
   "cell_type": "markdown",
   "id": "grateful-christmas",
   "metadata": {},
   "source": [
    "# 15. 트랜스포머로 만드는 대화형 챗봇"
   ]
  },
  {
   "cell_type": "markdown",
   "id": "valued-factor",
   "metadata": {},
   "source": [
    "## 14. 프로젝트: 한국어 데이터로 챗봇 만들기\n",
    "영어로 만들었던 챗봇을 한국어 데이터로 바꿔서 훈련시켜보자."
   ]
  },
  {
   "cell_type": "markdown",
   "id": "direct-military",
   "metadata": {},
   "source": [
    "### 트랜스포머와 인코더 디코더\n",
    "---"
   ]
  },
  {
   "cell_type": "markdown",
   "id": "welcome-female",
   "metadata": {},
   "source": [
    "#### 인코더와 디코더 구조 되짚어보기\n",
    "\n",
    "번역기를 만드는 데 사용한 대표적인 모델인 인코더와 디코더 구조를 되짚어보자.\n",
    "\n",
    "<img src=\"./image/translation.png\" alt=\"translation\" />\n",
    "\n",
    "번역기는 인코더와 디코더 두 가지 아키텍처로 구성되어져 있었다. 인코더에 입력 문장이 들어가고, 디코더는 이에 상응하는 출력 문장을 생성한다. 그리고 이를 훈련한다는 것은 결국 입력 문장과 출력 문장 두 가지 병렬 구조로 구성된 데이터셋을 훈련한다는 의미였다."
   ]
  },
  {
   "cell_type": "markdown",
   "id": "powerful-british",
   "metadata": {},
   "source": [
    "#### 훈련 데이터셋의 구성(번역)\n",
    "\n",
    "* 입력 문장 : '저는 학생입니다.'\n",
    "* 출력 문장 : 'I am a student'\n",
    "\n",
    "이런 병렬적으로 구성된 데이터셋을 인코더와 디코더로 학습하는 경우는 사실 번역기에만 한정되지는 않는다. 질문에 대해서 대답을 하도록 구성된 데이터셋을 인코더와 디코더 구조로 학습한다면, 주어진 질문에 답변할 수 있는 챗봇 또한 만들 수 있을 것이다."
   ]
  },
  {
   "cell_type": "markdown",
   "id": "horizontal-chair",
   "metadata": {},
   "source": [
    "#### 훈련 데이터셋의 구성(질문-답변)\n",
    "\n",
    "* 입력 문장 : '오늘의 날씨는 어때?'\n",
    "* 출력 문장 : '오늘은 매우 화창한 날씨야'"
   ]
  },
  {
   "cell_type": "markdown",
   "id": "pointed-conversation",
   "metadata": {},
   "source": [
    "#### 트랜스포머의 인코더와 디코더\n",
    "\n",
    "트랜스포머 또한 번역기와 마찬가지로 기본적으로 인코더와 디코더 구성을 가지고 있다. 입력 문장을 넣으면 출력 문장을 내뱉고 있는 것이다.\n",
    "\n",
    "<img src=\"./image/transformer.png\" alt=\"transformer\" />\n",
    "\n",
    "위의 블랙박스로 가려져 있는 트랜스포머의 내부구조를 열어보면 아래와 같다\n",
    "\n",
    "<img src=\"./image/transformer2.png\" alt=\"transformer\" />\n",
    "\n",
    "초록색 색깔의 도형을 인코더 층(Encoder layer), 핑크색 색깔의 도형을 디코더(Decoder layer)라고 하였을 때, 입력 문장은 누적되어져 쌓아 올린 인코더의 층을 통해서 정보를 뽑아내고, 디코더는 누적되어져 쌓아 올린 디코더의 층을 통해서 출력 문장의 단어를 하나씩 만들어가는 구조를 갖고 있다.\n",
    "\n",
    "그리고 그 내부를 조금 더 확대해 보면 아래와 같이 톱니바퀴처럼 맞물려 돌아가는 여러 가지 부품들로 구성되어져 있다.\n",
    "\n",
    "<img src=\"./image/transformer3.png\" alt=\"transformer\" />\n",
    "\n",
    "위의 그림에서 적혀져 있는 모듈들을 하나씩 정리해보자."
   ]
  },
  {
   "cell_type": "markdown",
   "id": "brief-turkish",
   "metadata": {},
   "source": [
    "### 트랜스포머의 입력 이해하기\n",
    "---\n",
    "먼저 앞으로 진행하면서 필요한 패키지를 임포트하자."
   ]
  },
  {
   "cell_type": "code",
   "execution_count": 1,
   "id": "attempted-voltage",
   "metadata": {
    "ExecuteTime": {
     "end_time": "2021-03-10T16:25:58.887161Z",
     "start_time": "2021-03-10T16:25:57.143173Z"
    }
   },
   "outputs": [],
   "source": [
    "import tensorflow as tf\n",
    "import tensorflow_datasets as tfds\n",
    "import os\n",
    "import urllib.request\n",
    "import re\n",
    "import pandas as pd\n",
    "import numpy as np\n",
    "import matplotlib.pyplot as plt"
   ]
  },
  {
   "cell_type": "markdown",
   "id": "average-uzbekistan",
   "metadata": {
    "ExecuteTime": {
     "end_time": "2021-03-04T01:26:52.065424Z",
     "start_time": "2021-03-04T01:26:52.056477Z"
    }
   },
   "source": [
    "<img src=\"./image/embedding.png\" alt=\"embeddings\" />\n",
    "\n",
    "많은 자연어 처리 모델들은 텍스트 문장을 입력으로 받기 위해 단어를 임베딩 벡터로 변환하는 벡터화 과정을 거친다. 트랜스포머 또한 그 점에서는 다른 모델들과 다르지 않다. 하지만 트랜스포머 모델의 입력데이터 처리에는 RNN 계열의 모델들과 다른 점이 한 가지 있다. 바로 임베딩 벡터에 어떤 값을 더해준 뒤에 입력으로 사용한다는 점이다. 그 값은 바로 위 그림에서의 포지셔널 인코딩(positional Encoding)에 해당하는 부분이다.\n",
    "\n",
    "위 그림에서 인코더의 입력 부분을 조금 더 확대해 본다면 이런 그림이 나올 것이다.\n",
    "\n",
    "<img src=\"./image/encoder.png\" alt=\"encoder\" />\n",
    "\n",
    "이렇게 해주는 이유는 트랜스포머는 입력을 받을 때, 문장에 있는 단어들을 1개씩 순차적으로 받는 것이 아니라, 문장에 있는 모든 단어를 한꺼번에 입력으로 받기 때문이다. 트랜스포머가 RNN과 결정적으로 다른 점이 바로 이 부분이다. RNN에는 어차피 문장을 구성하는 단어들이 어순대로 모델에 입력되므로, 모델에게 따로 어순 정보를 알려줄 필요가 없었다. 그러나 문장에 있는 모든 단어를 한꺼번에 문장 단위로 입력받는 트랜스포머는 자칫 'I ate lunch'와 'lunch ate I'를 구분할 수 없을지도 모른다. 그래서 같은 단어라도 그 단어가 문장의 몇 번째 어순으로 입력되었는지를 모델에 추가로 알려 주기 위해, 단어의 임베딩 벡터에다가 위치 정보를 가진 벡터(Positional Encoding) 값을 더해서 모델의 입력으로 삼는 것이다.\n",
    "\n",
    "<img src=\"./image/positional_encoding.png\" alt=\"Positional Encoding\" />\n",
    "\n",
    "포지셔널 인코딩의 벡터값은 위의 수식에 의해서 정해진다. 사인 함수와 코사인 함수의 그래프를 상기해보면 요동치는 값의 형태를 생각해볼 수 있는데, 트랜스포머는 사인 함수와 코사인 함수의 값을 임베딩 벡터에 더해줌으로써 단어의 순서 정보를 더하여 준다.\n",
    "\n",
    "위의 두 함수에는 pos, i, $d_{model}$ 등 생소한 변수들이 있다. 위의 함수를 이해하기 위해서는 위에서 본 임베딩 벡터와 포지셔널 인코딩의 덧셈은 사실 임베딩 벡터가 모여 만들어진 문장 벡터 행렬과 포지셔널 인코딩 행렬의 덧셈 연산을 통해 이루어진다는 점을 이해해야 한다.\n",
    "\n",
    "<img src=\"./image/matrix.png\" alt=\"Positional Encoding matrix\" />\n",
    "\n",
    "$d_{model}$은 임베딩 벡터의 차원을 의미하고 있고, pos는 입력 문장에서의 임베딩 벡터의 위치를 나타내며, i는 임베딩 벡터 내의 차원의 인덱스를 의미한다. 이렇게 임베딩 행렬과 포지셔널 행렬이라는 두 행렬을 더함으로써 각 단어 벡터에 위치 정보를 더해주게 되는 것이다.\n",
    "\n"
   ]
  },
  {
   "cell_type": "markdown",
   "id": "strategic-thousand",
   "metadata": {},
   "source": [
    "* 한 문장에 같은 단어 A가 여러 번 등장하였다고 가정해보자. 임베딩 문장 행렬에 포지셔널 인코딩을 해주었을 때와 해주지 않았을 때, 트랜스포머가 임베딩 문장 행렬 내의 다수의 A 단어 벡터로부터 얻을 수 있는 정보의 차이가 있다. 같은 단어라고 하더라도 포지셔널 인코딩을 해준 경우에는 임베딩 벡터값이 달라지므로, 같은 단어라고 해도 각각 다른 위치에 등장했다는 사실을 모델에 알려줄 수 있다.\n",
    "\n",
    "포지셔널 행렬을 직접 구현해서 눈으로 확인해보자."
   ]
  },
  {
   "cell_type": "code",
   "execution_count": 2,
   "id": "mexican-rebound",
   "metadata": {
    "ExecuteTime": {
     "end_time": "2021-03-10T16:25:58.893894Z",
     "start_time": "2021-03-10T16:25:58.888597Z"
    }
   },
   "outputs": [],
   "source": [
    "# 포지셔널 인코딩 레이어\n",
    "class PositionalEncoding(tf.keras.layers.Layer):\n",
    "\n",
    "    def __init__(self, position, d_model):\n",
    "        super(PositionalEncoding, self).__init__()\n",
    "        self.pos_encoding = self.positional_encoding(position, d_model)\n",
    "\n",
    "    def get_angles(self, position, i, d_model):\n",
    "        angles = 1 / tf.pow(10000, (2 * (i // 2)) / tf.cast(d_model, tf.float32))\n",
    "        return position * angles\n",
    "\n",
    "    def positional_encoding(self, position, d_model):\n",
    "        angle_rads = self.get_angles(\n",
    "            position=tf.range(position, dtype=tf.float32)[:, tf.newaxis],\n",
    "            i=tf.range(d_model, dtype=tf.float32)[tf.newaxis, :],\n",
    "            d_model=d_model)\n",
    "        # 배열의 짝수 인덱스에는 sin 함수 적용\n",
    "        sines = tf.math.sin(angle_rads[:, 0::2])\n",
    "        # 배열의 홀수 인덱스에는 cosine 함수 적용\n",
    "        cosines = tf.math.cos(angle_rads[:, 1::2])\n",
    "\n",
    "        pos_encoding = tf.concat([sines, cosines], axis=-1)\n",
    "        pos_encoding = pos_encoding[tf.newaxis, ...]\n",
    "        return tf.cast(pos_encoding, tf.float32)\n",
    "\n",
    "    def call(self, inputs):\n",
    "        return inputs + self.pos_encoding[:, :tf.shape(inputs)[1], :]"
   ]
  },
  {
   "cell_type": "markdown",
   "id": "applied-maintenance",
   "metadata": {},
   "source": [
    "행의 크기가 50, 열의 크기가 512인 행렬을 그려보자. 이를테면, 최대 문장의 길이가 50이고 워드 임베딩 차원을 512로 하는 모델의 입력 벡터 모양이 이와 같을 것이다."
   ]
  },
  {
   "cell_type": "code",
   "execution_count": 3,
   "id": "subsequent-antarctica",
   "metadata": {
    "ExecuteTime": {
     "end_time": "2021-03-10T16:25:59.601215Z",
     "start_time": "2021-03-10T16:25:58.895001Z"
    }
   },
   "outputs": [
    {
     "data": {
      "image/png": "[encoded data removed]",
      "text/plain": [
       "<Figure size 432x288 with 2 Axes>"
      ]
     },
     "metadata": {
      "needs_background": "light"
     },
     "output_type": "display_data"
    }
   ],
   "source": [
    "sample_pos_encoding = PositionalEncoding(50, 512)\n",
    "\n",
    "plt.pcolormesh(sample_pos_encoding.pos_encoding.numpy()[0], cmap='RdBu')\n",
    "plt.xlabel('Depth')\n",
    "plt.xlim((0, 512))\n",
    "plt.ylabel('Position')\n",
    "plt.colorbar()\n",
    "plt.show()"
   ]
  },
  {
   "cell_type": "markdown",
   "id": "domestic-adventure",
   "metadata": {},
   "source": [
    "임베딩 벡터의 차원이 256이고 최대 문장의 길이가 30인 텍스트를 입력으로 하는 트랜스포머를 구현한다고 하였을 때, 적절한 포지셔널 인코딩 행렬의 크기를 추측해보고 위에 구현한 포지셔널 인코딩 레이어를 사용해 표현해보자"
   ]
  },
  {
   "cell_type": "code",
   "execution_count": 4,
   "id": "literary-mentor",
   "metadata": {
    "ExecuteTime": {
     "end_time": "2021-03-10T16:25:59.790302Z",
     "start_time": "2021-03-10T16:25:59.602600Z"
    }
   },
   "outputs": [
    {
     "data": {
      "image/png": "[encoded data removed]",
      "text/plain": [
       "<Figure size 432x288 with 2 Axes>"
      ]
     },
     "metadata": {
      "needs_background": "light"
     },
     "output_type": "display_data"
    }
   ],
   "source": [
    "sample_pos_encoding = PositionalEncoding(30, 256)\n",
    "\n",
    "plt.pcolormesh(sample_pos_encoding.pos_encoding.numpy()[0], cmap='RdBu')\n",
    "plt.xlabel('Depth')\n",
    "plt.xlim((0, 256))\n",
    "plt.ylabel('Position')\n",
    "plt.colorbar()\n",
    "plt.show()"
   ]
  },
  {
   "cell_type": "markdown",
   "id": "tracked-rwanda",
   "metadata": {},
   "source": [
    "실제 논문에서 제시된 그림에서는 다음과 같이 포지셔널 인코딩을 표현하였다.\n",
    "\n",
    "<img src=\"./image/positional_encoding2.png\" alt=\"Positional Encoding\" />"
   ]
  },
  {
   "cell_type": "markdown",
   "id": "affiliated-scratch",
   "metadata": {},
   "source": [
    "### 어텐션? 어텐션!\n",
    "---\n",
    "트랜스포머의 인코더와 디코더에서 사용하고 있는 개념인 어텐션에 대해서 알아보자"
   ]
  },
  {
   "cell_type": "markdown",
   "id": "particular-cowboy",
   "metadata": {},
   "source": [
    "#### 어텐션이란?\n",
    "\n",
    "어텐션 메커니즘을 그림으로 표현한다면 아래와 같이 표현할 수 있다.\n",
    "\n",
    "<img src=\"./image/attention.png\" alt=\"attention\" />\n",
    "\n",
    "어텐션 함수는 주어진 '쿼리(Query)'에 대해서 모든 '키(Key)'와의 유사도를 각각 구한다. 그리고 구해낸 이 유사도를 키(Key)와 맵핑되어있는 각각의 '값(Value)'에 반영해준다. 그리고 유사도가 반영된 '값(Value)'을 모두 더해서 뭉쳐주면 이를 최종 결과인 __어텐션 값(Attention Value)__라고 한다."
   ]
  },
  {
   "cell_type": "markdown",
   "id": "square-bracket",
   "metadata": {},
   "source": [
    "#### 트랜스포머에서 사용된 어텐션\n",
    "\n",
    "트랜스포머는 총 세 가지의 어텐션을 사용한다.\n",
    "\n",
    "<img src=\"./image/transformer_attention.png\" alt=\"transformer_attention\" />\n",
    "\n",
    "첫 번째 그림인 __인코더 셀프 어텐션__은 인코더에서 이루어지고,\n",
    "\n",
    "두 번째 그림인 __디코더 셀프 어텐션__은 디코더에서 이루어지며,\n",
    "\n",
    "세 번째 그림인 __인코더-디코더 어텐션__ 또한 디코더에서 이루어진다.\n",
    "\n",
    "<img src=\"./image/transformer_attention2.png\" alt=\"transformer_attention\" />\n",
    "\n",
    "위 그림은 트랜스포머의 전체적인 아키텍처에서 각 어텐션이 위치한 곳을 보여준다.\n",
    "\n",
    "트랜스포머의 어텐션 함수에 사용되는 __쿼리(Query), 키(Key), 밸류(Value)__는 기본적으로 __'단어 (정보를 함축한) 벡터'__이다.\n",
    "\n",
    "단, 여기서 __'단어 벡터'__란 초기 입력으로 사용되었던 임베딩 벡터가 아니고, 트랜스포머의 여러 연산을 거친 후의 __'단어 벡터'__이다.\n",
    "\n",
    "그럼 위 세 가지 어텐션이 하는 일을 조금 더 자세히 알아보자.\n",
    "\n",
    "* __인코더 셀프 어텐션__ : 인코더의 입력으로 들어간 문장 내 단어들이 서로 유사도를 구한다.\n",
    "* __디코더 셀프 어텐션__ : 단어를 1개씩 생성하는 디코더가 이미 생성된 앞 단어들과의 유사도를 구한다.\n",
    "* __인코더-디코더 어텐션__ : 디코더가 잘! 예측하기 위해서 인코더에 입력된 단어들과 유사도를 구한다.\n",
    "\n",
    "무려 세 가지 어텐션 중 두 가지가 __셀프 어텐션__이다.\n",
    "\n",
    "자, 그럼 대체 셀프 어텐션이 어떤 의미를 가지고 있으며 트랜스포머에서 왜 중요한지 알아보자"
   ]
  },
  {
   "cell_type": "markdown",
   "id": "studied-hawaiian",
   "metadata": {},
   "source": [
    "#### 셀프 어텐션(Self Attention)\n",
    "\n",
    "__셀프 어텐션__이란 유사도를 구하는 대상이 다른 문장의 단어가 아니라 현재 문장 내의 단어들이 서로 유사도를 구하는 경우를 말한다. 가령, 위에서 언급한 인코더-디코더 어텐션은 서로 다른 단어 목록(인코더 내 단어와 디코더 내 단어) 사이에서 유사도를 구하기에 셀프 어텐션이 아니다.\n",
    "\n",
    "<img src=\"./image/self_attention.png\" alt=\"Self Attention\" />\n",
    "\n",
    "위의 그림은 [구글 AI 블로그 포스트](https://ai.googleblog.com/2017/08/transformer-novel-neural-network.html)에서 가져왔다. 위의 예시 문장을 번역하면 __'그 동물은 길을 건너지 않았다. 왜냐하면 그것은 너무 피곤하였기 때문이다.'__ 라는 의미가 된다. 그런데 여기서 __그것(it)__에 해당하는 것은 과연 __길(street)__일까요? __동물(animal)__일까?\n",
    "\n",
    "인간은 동물이라는 것을 쉽게 알 수 있지만, 기계는 그렇지 않다. 하지만 셀프 어텐션은 입력 문장 내의 단어들끼리 유사도를 구하여 __그것(it)__이 __동물(animal)__과 연관되었을 확률이 높다는 것을 찾아낸다. 그런데 한 가지 의문이 든다. 유사도는 어떻게 구할까?"
   ]
  },
  {
   "cell_type": "markdown",
   "id": "broadband-mapping",
   "metadata": {},
   "source": [
    "### 스케일드 닷 프로덕트 어텐션\n",
    "---\n",
    "앞서 어텐션이 단어들 간의 유사도를 구하는 메커니즘이라고 했었다.\n",
    "\n",
    "그렇다면 유사도를 구하는 방법이 있을 것이다.\n",
    "\n",
    "트랜스포머에서는 어텐션 값을 구하는 방법으로 아래와 같은 수식을 사용했다.\n",
    "\n",
    "$$ Attention(Q,K,V)=softmax \\left ( \\frac{QK^{t}}{\\sqrt{d_{k}}} \\right )V$$\n",
    "\n",
    "Q, K, V는 각각 쿼리(Query), 키(Key), 값(Value)를 나타낸다.\n",
    "\n",
    "앞서 언급했던 어텐션 함수의 정의와 결과값을 다시 상기해보자.\n",
    "\n",
    "어텐션 함수는 주어진 '쿼리(Query)'에 대해서 모든 '키(Key)'와의 __유사도__를 각각 구한다. 그리고 구해낸 이 유사도를 키와 맵핑되어있는 각각의 '값(Value)'에 반영해준다. 그리고 유사도가 반영된 '값(Value)'을 모두 더해서 뭉쳐주면 이를 최종 결과인 __어텐션 값(Attention Value)__라고 한다.\n",
    "\n",
    "위 정의와 아래 내용 세 가지만 기억하면 수식을 그림으로 정리할 수 있다.\n",
    "\n",
    "1. __Q, K, V__는 단어 벡터를 행으로 하는 문장 행렬이다.\n",
    "2. 벡터의 __내적(dot product)__은 벡터의 __유사도__를 의미한다.\n",
    "3. 특정 값을 분모로 사용하는 것은 값의 크기를 조절하는 스케일링(Scaling)을 위함이다.\n",
    "\n",
    "---\n",
    "\n",
    "우선 Q와 K의 전치 행렬을 곱하는 것을 그림으로 표현하면 다음과 같다.\n",
    "\n",
    "<img src=\"./image/qkv.png\" alt=\"qkv\" />\n",
    "\n",
    "문장 행렬 Q와 문장 행렬 K를 곱하면 위의 그림과 같은 초록색 행렬을 얻을 수 있다.\n",
    "\n",
    "위 초록색 행렬이 의미하는 값은 무엇일까? 예를 들어 'am' 행과 'student' 열의 값은 Q 행렬에 있던 'am' 벡터와 K 행렬에 있던 'student 벡터'의 내적값을 의미한다. 결국 각 단어 벡터의 유사도가 모두 기록된 유사도 행렬이 되는 것이다\n",
    "\n",
    "---\n",
    "\n",
    "이 유사도 값을 스케일링 해주기 위해서 행렬 전체를 특정 값으로 나눠주고, 유사도를 0과 1사이의 값으로 Normalize해주기 위해서 소프트맥스 함수를 사용한다. 여기까지가 Q와 K의 유사도를 구하는 과정이라고 볼 수 있겠다. 여기에 문장 행렬 V와 곱하면 __어텐션 값(Attention Value)__를 얻는다.\n",
    "\n",
    "<img src=\"./image/self_attention2.png\" alt=\"Self Attention\" />\n",
    "\n",
    "결국 이를 모두 하나의 그림으로 표현하면 위와 같다.\n",
    "\n",
    "$$ Attention(Q,K,V)=softmax \\left ( \\frac{QK^{t}}{\\sqrt{d_{k}}} \\right )V$$\n",
    "\n",
    "이 수식은 내적(dot product)을 통해 단어 벡터 간 유사도를 구한 후에, 특정 값을 분모로 나눠주는 방식으로 Q와 K의 유사도를 구하였다고 하여 __스케일드 닷 프로덕트 어텐션(Scaled Dot Product Attention)__이라고 한다. 유사도를 구하는 방법이 스케일드 닷 프로덕트(scaled dot product)였기 때문에 이런 이름이 붙은 것이다.\n",
    "\n",
    "만약에 분모에 특정 값을 나눠주는 부분을 사용하지 않았다면 어텐션의 이름은 무엇일까? 그 어텐션은 당연히 __닷 프로덕트 어텐션(dot product attention)__이라고 부른다."
   ]
  },
  {
   "cell_type": "markdown",
   "id": "boring-blame",
   "metadata": {},
   "source": [
    "#### 구현하기\n",
    "\n",
    "스케일드 닷 프로덕트 어텐션 함수를 구현해보자."
   ]
  },
  {
   "cell_type": "code",
   "execution_count": 5,
   "id": "connected-reform",
   "metadata": {
    "ExecuteTime": {
     "end_time": "2021-03-10T16:25:59.796631Z",
     "start_time": "2021-03-10T16:25:59.791469Z"
    }
   },
   "outputs": [],
   "source": [
    "# 스케일드 닷 프로덕트 어텐션 함수\n",
    "def scaled_dot_product_attention(query, key, value, mask):\n",
    "    \"\"\"어텐션 가중치를 계산. \"\"\"\n",
    "    matmul_qk = tf.matmul(query, key, transpose_b=True)\n",
    "\n",
    "    # scale matmul_qk\n",
    "    depth = tf.cast(tf.shape(key)[-1], tf.float32)\n",
    "    logits = matmul_qk / tf.math.sqrt(depth)\n",
    "\n",
    "    # add the mask to zero out padding tokens\n",
    "    if mask is not None:\n",
    "        logits += (mask * -1e9)\n",
    "\n",
    "    # softmax is normalized on the last axis (seq_len_k)\n",
    "    attention_weights = tf.nn.softmax(logits, axis=-1)\n",
    "\n",
    "    output = tf.matmul(attention_weights, value)\n",
    "\n",
    "    return output"
   ]
  },
  {
   "cell_type": "markdown",
   "id": "quarterly-carnival",
   "metadata": {},
   "source": [
    "이 글에서 앞으로 어텐션을 수행한다고 한다면, 스케일드 닷 프로덕트 어텐션을 의미한다."
   ]
  },
  {
   "cell_type": "markdown",
   "id": "restricted-insider",
   "metadata": {},
   "source": [
    "### 머리가 여러 개인 어텐션\n",
    "---\n",
    "<img src=\"./image/hydra.png\" alt=\"hydra\" width=\"30%\"/>\n",
    "\n",
    "그리스 로마 신화에 등장하는 히드라라는 괴물이다. 머리가 여러 개인 이 괴물은 여러 곳으로 동시에 시선을 둘 수 있었기 때문에 시선의 사각지대가 없어서 처치하기 어려운 괴물이다. 결국 헤라클레스가 히드라의 머리를 하나씩 제거한 뒤에야 무찌를 수 있었다.\n",
    "\n",
    "다른 비유를 하나 들어보겠다. 굉장히 어려운 문제가 가득한 시험지를 받았을 때 '혼자가 아니라 옆에서 누군가 같이 풀어준다면 좀 더 좋은 성적을 받을 텐데'하고 누구나 한 번쯤 상상해보았을 것이다.\n",
    "\n",
    "이런 이야기는 현실에서는 상상에 불과하지만, 기계가 할 수 있도록 해줄 수는 있다."
   ]
  },
  {
   "cell_type": "markdown",
   "id": "signed-machinery",
   "metadata": {},
   "source": [
    "#### 병렬로 어텐션 수행하기\n",
    "\n",
    "트랜스포머에서 `num_heads`라는 변수는 기계가 몇 개의 똑똑한 머리를 사용할지, 다시 말해 병렬적으로 몇 개의 어텐션 연산을 수행할지를 결정하는 하이퍼파라미터이다.\n",
    "<img src=\"./image/parallel.png\" alt=\"parallel\" />\n",
    "\n",
    "앞서 포지셔널 인코딩에서 `d_model`은 임베딩 벡터의 차원이라고 언급한 바 있다. 결국 트랜스포머의 초기 입력인 문장 행렬의 크기는 문장의 길이를 행으로, `d_model`을 열의 크기로 가진다.\n",
    "\n",
    "트랜스포머는 이렇게 입력된 문장 행렬을 `num_heads`의 수만큼 쪼개서 어텐션을 수행하고, 이렇게 얻은 `num_heads`의 개수만큼의 어텐션 값 행렬을 다시 하나로 concatenate한다.\n",
    "\n",
    "위의 그림은 `num_heads`가 8개인 경우인데, 다시 concatenate하면서 열의 크기가 `d_model`이 된다.\n",
    "\n",
    "각자 문제지를 나눠서 푼 후에 마지막에 다시 결과를 합친다고 비유해볼 수도 있겠다.\n",
    "\n",
    "* 논문에서 d_model은 512의 값을 가졌다고 하고, num_heads는 8의 값을 가졌다고 한다. 그렇다면, 연결하기 전 8개의 어텐션 값(Attention Value) 행렬의 열의 크기는 512/8 = 64 차원이다."
   ]
  },
  {
   "cell_type": "markdown",
   "id": "thousand-content",
   "metadata": {},
   "source": [
    "#### 멀티-헤드 어텐션\n",
    "\n",
    "이렇게 병렬로 어텐션을 수행하면 얻을 수 있는 효과는 무엇일까?\n",
    "\n",
    "<img src=\"./image/multihead.png\" alt=\"multihead\" />\n",
    "\n",
    "위 그림은 `num_heads`의 값이 8일 때, 병렬로 수행되는 어텐션이 서로 다른 셀프 어텐션 결과를 얻을 수 있음을 보여준다. 다시 말해 8개의 머리는 각각 다른 관점에서 어텐션을 수행하므로 한 번의 어텐션만 수행했다면 놓칠 수도 있던 정보를 캐치할 수 있다. 예를 들어 위 그림에서라면 `it_`이라는 토큰이 `animal_`과 유사하다고 보는 관점과 `street_`과 유사하다고 보는 관점이 한꺼번에 모두 표현 가능하다는 뜻이다.\n",
    "\n",
    "이와 같이 어텐션을 병렬로 수행하는 것을 __멀티 헤드 어텐션__이라고 부른다."
   ]
  },
  {
   "cell_type": "markdown",
   "id": "abroad-actress",
   "metadata": {},
   "source": [
    "#### 구현하기\n",
    "\n",
    "__멀티 헤드 어텐션__을 구현하면 다음과 같다.\n",
    "\n",
    "내부적으로는 __스케일드 닷 프로덕트 어테션 함수__를 호출한다."
   ]
  },
  {
   "cell_type": "code",
   "execution_count": 6,
   "id": "catholic-european",
   "metadata": {
    "ExecuteTime": {
     "end_time": "2021-03-10T16:25:59.805788Z",
     "start_time": "2021-03-10T16:25:59.798264Z"
    }
   },
   "outputs": [],
   "source": [
    "class MultiHeadAttention(tf.keras.layers.Layer):\n",
    "\n",
    "    def __init__(self, d_model, num_heads, name=\"multi_head_attention\"):\n",
    "        super(MultiHeadAttention, self).__init__(name=name)\n",
    "        self.num_heads = num_heads\n",
    "        self.d_model = d_model\n",
    "\n",
    "        assert d_model % self.num_heads == 0\n",
    "\n",
    "        self.depth = d_model // self.num_heads\n",
    "\n",
    "        self.query_dense = tf.keras.layers.Dense(units=d_model)\n",
    "        self.key_dense = tf.keras.layers.Dense(units=d_model)\n",
    "        self.value_dense = tf.keras.layers.Dense(units=d_model)\n",
    "\n",
    "        self.dense = tf.keras.layers.Dense(units=d_model)\n",
    "\n",
    "    def split_heads(self, inputs, batch_size):\n",
    "        inputs = tf.reshape(\n",
    "            inputs, shape=(batch_size, -1, self.num_heads, self.depth))\n",
    "        return tf.transpose(inputs, perm=[0, 2, 1, 3])\n",
    "\n",
    "    def call(self, inputs):\n",
    "        query, key, value, mask = inputs['query'], inputs['key'], inputs[\n",
    "            'value'], inputs['mask']\n",
    "        batch_size = tf.shape(query)[0]\n",
    "\n",
    "        # linear layers\n",
    "        query = self.query_dense(query)\n",
    "        key = self.key_dense(key)\n",
    "        value = self.value_dense(value)\n",
    "\n",
    "        # 병렬 연산을 위한 머리를 여러 개 만듭니다.\n",
    "        query = self.split_heads(query, batch_size)\n",
    "        key = self.split_heads(key, batch_size)\n",
    "        value = self.split_heads(value, batch_size)\n",
    "\n",
    "        # 스케일드 닷 프로덕트 어텐션 함수\n",
    "        scaled_attention = scaled_dot_product_attention(query, key, value, mask)\n",
    "\n",
    "        scaled_attention = tf.transpose(scaled_attention, perm=[0, 2, 1, 3])\n",
    "\n",
    "        # 어텐션 연산 후에 각 결과를 다시 연결(concatenate)합니다.\n",
    "        concat_attention = tf.reshape(scaled_attention,\n",
    "                                        (batch_size, -1, self.d_model))\n",
    "\n",
    "        # final linear layer\n",
    "        outputs = self.dense(concat_attention)\n",
    "\n",
    "        return outputs"
   ]
  },
  {
   "cell_type": "markdown",
   "id": "weekly-internet",
   "metadata": {},
   "source": [
    "### 마스킹\n",
    "---\n",
    "__마스킹(Masking)__이란, 특정 값들을 가려서 실제 연산에 방해가 되지 않도록 하는 기법이다.\n",
    "\n",
    "트랜스포머에서는 어텐션을 위해서 크게 두 가지 마스킹을 사용한다고 한다."
   ]
  },
  {
   "cell_type": "markdown",
   "id": "aggregate-sentence",
   "metadata": {},
   "source": [
    "#### 패딩 마스킹(Padding Masking)\n",
    "\n",
    "첫 번째 마스킹은 패딩 토큰(Padding token)을 이용한 방법이다.\n",
    "\n",
    "자연어 처리에서 패딩(Padding)이란 어떤 개념일까?\n",
    "\n",
    "<img src=\"./image/padding.png\" alt=\"Padding\" />\n",
    "\n",
    "패딩은 문장의 길이가 서로 다를 때, 모든 문장의 길이를 동일하게 해주는 과정에서 정해준 길이보다 짧은 문장의 경우에는 숫자 0을 채워서 문장의 길이를 맞춰주는 자연어 처리 전처리 방법이다.\n",
    "\n",
    "위 그림은 케라스의 pad_sequences()를 사용하여 패딩을 하는 과정을 시각화한 그림이다.\n",
    "\n",
    "그런데 사실 이렇게 주어진 숫자 0은 실제 의미가 있는 단어가 아니므로 실제 어텐션 등과 같은 연산에서는 제외할 필요가 있다. 패딩 마스킹은 이를 위해 숫자 0인 위치를 체크한다.\n",
    "\n",
    "다음은 패딩 마스킹을 구현한 함수이다.\n",
    "\n"
   ]
  },
  {
   "cell_type": "code",
   "execution_count": 7,
   "id": "ancient-draft",
   "metadata": {
    "ExecuteTime": {
     "end_time": "2021-03-10T16:25:59.810547Z",
     "start_time": "2021-03-10T16:25:59.808186Z"
    }
   },
   "outputs": [],
   "source": [
    "def create_padding_mask(x):\n",
    "    mask = tf.cast(tf.math.equal(x, 0), tf.float32)\n",
    "    # (batch_size, 1, 1, sequence length)\n",
    "    return mask[:, tf.newaxis, tf.newaxis, :]"
   ]
  },
  {
   "cell_type": "markdown",
   "id": "vital-pakistan",
   "metadata": {},
   "source": [
    "이 함수에 정수 시퀀스를 입력으로 하면, 이 함수는 숫자가 0인 부분을 체크한 벡터를 리턴한다.\n",
    "\n",
    "두 개의 정수 시퀀스를 입력으로 해보고, 각각 어떤 결과가 나오는지 확인하자."
   ]
  },
  {
   "cell_type": "code",
   "execution_count": 8,
   "id": "pending-textbook",
   "metadata": {
    "ExecuteTime": {
     "end_time": "2021-03-10T16:25:59.815916Z",
     "start_time": "2021-03-10T16:25:59.811996Z"
    }
   },
   "outputs": [
    {
     "name": "stdout",
     "output_type": "stream",
     "text": [
      "tf.Tensor(\n",
      "[[[[0. 0. 1. 0. 1.]]]\n",
      "\n",
      "\n",
      " [[[1. 1. 1. 0. 0.]]]], shape=(2, 1, 1, 5), dtype=float32)\n"
     ]
    }
   ],
   "source": [
    "print(create_padding_mask(tf.constant([[1, 2, 0, 3, 0], [0, 0, 0, 4, 5]])))"
   ]
  },
  {
   "cell_type": "markdown",
   "id": "worse-bread",
   "metadata": {},
   "source": [
    "두 정수 시퀀스에 대해서 각각 결과가 출력되는데, 오직 숫자가 0인 위치에서만 숫자 1이 나오고 숫자 0이 아닌 위치에서는 숫자 0인 벡터를 출력한다.\n",
    "\n",
    "어텐션 연산 시에 __패딩 마스킹__을 참고하면 불필요하게 숫자 0을 참고하지 않게 할 수 있을 것이다."
   ]
  },
  {
   "cell_type": "markdown",
   "id": "excess-india",
   "metadata": {},
   "source": [
    "#### 룩 어헤드 마스킹(Look-ahead masking, 다음 단어 가리기)\n",
    "\n",
    "순환 신경망, RNN과 트랜스포머는 문장을 입력받을 때 입력받는 방법이 전혀 다르다.\n",
    "\n",
    "RNN은 __step__이라는 개념이 존재해서 각 __step__마다 단어가 순서대로 입력으로 들어가는 구조인 반면 트랜스포머의 경우에는 문장 행렬을 만들어 한 번에 행렬 형태로 입력으로 들어간다는 특징이 있다. 그리고 이 특징 때문에 추가적인 __마스킹(Masking)__을 필요하다."
   ]
  },
  {
   "cell_type": "markdown",
   "id": "intellectual-board",
   "metadata": {},
   "source": [
    "#### RNN\n",
    "RNN으로 다음 단어를 예측해가면서 문장을 생성해내는 과정을 보자.\n",
    "\n",
    "다시 말해 RNN으로 디코더를 구현했을 경우이다.\n",
    "\n",
    "<img src=\"./image/rnn.png\" alt=\"RNN\" />\n",
    "\n",
    "RNN은 구조상으로 다음 단어를 만들어 갈 때, 자신보다 앞에 있는 단어들만 참고해서 다음 단어를 예측한다. 위의 그림을 참고로 각 단계에서 다음 단어 예측 과정을 서술하면 다음과 같다.\n",
    "\n",
    "* __첫 번째 step__\n",
    "    - 현재까지의 입력 : what → 출력 : is\n",
    "\n",
    "* __두 번째 step__\n",
    "    - 현재까지의 입력 : what is → 출력 : the\n",
    "\n",
    "* __세 번째 step__\n",
    "    - 현재까지의 입력 : what is the → 출력 problem"
   ]
  },
  {
   "cell_type": "markdown",
   "id": "found-overview",
   "metadata": {},
   "source": [
    "#### 트랜스포머\n",
    "하지만 트랜스포머의 경우, 전체 문장이 문장 행렬로 들어가기 때문에 위치와 상관없이 모든 단어를 참고해서 다음 단어를 예측할 수 있다. 하지만 사실 우리가 원하는 것은 이전 단어들로부터 다음 단어를 예측하는 훈련을 제대로 하는 것이다. 따라서 이러한 문제를 해결하기 위해 자신보다 다음에 나올 단어를 참고하지 않도록 가리는 기법이 룩 어헤드 마스킹 기법이다.\n",
    "\n",
    "이 기법은 어텐션을 수행할 때, Query 단어 뒤에 나오는 Key 단어들에 대해서는 마스킹한다.\n",
    "\n",
    "<img src=\"./image/transformer4.png\" alt=\"transformer\" />\n",
    "\n",
    "위의 그림에서 빨간색으로 색칠된 부분은 마스킹을 표현하고 있다. 빨간색은 실제 어텐션 연산에서 가리는 역할을 하여 어텐션 연산 시에 현재 단어를 기준으로 이전 단어들하고만 유사도를 구할 수 있다. 행을 Query, 열을 Key로 표현된 행렬임을 감안하고 천천히 행렬을 살펴보자.\n",
    "\n",
    "예를 들어 Query 단어가 '찾고'라고 한다면, 이 '찾고'라는 행에는 `<s>`, `<나는>`, `<행복을>`, `<찾고>`까지의 열만 보이고 그 뒤 열은 아예 빨간색으로 칠해져 있다. 즉, 유사도를 구할 수 없도록 해놓았다. 저 빨간색 부분을 마스킹 함수로 구현하면 다음과 같다."
   ]
  },
  {
   "cell_type": "code",
   "execution_count": 9,
   "id": "loose-footwear",
   "metadata": {
    "ExecuteTime": {
     "end_time": "2021-03-10T16:25:59.819656Z",
     "start_time": "2021-03-10T16:25:59.817060Z"
    }
   },
   "outputs": [],
   "source": [
    "def create_look_ahead_mask(x):\n",
    "    seq_len = tf.shape(x)[1]\n",
    "    look_ahead_mask = 1 - tf.linalg.band_part(tf.ones((seq_len, seq_len)), -1, 0)\n",
    "    padding_mask = create_padding_mask(x)\n",
    "    return tf.maximum(look_ahead_mask, padding_mask)"
   ]
  },
  {
   "cell_type": "markdown",
   "id": "recent-paint",
   "metadata": {},
   "source": [
    "직접 입력을 넣어 테스트해보자."
   ]
  },
  {
   "cell_type": "code",
   "execution_count": 10,
   "id": "superior-victoria",
   "metadata": {
    "ExecuteTime": {
     "end_time": "2021-03-10T16:25:59.824415Z",
     "start_time": "2021-03-10T16:25:59.820720Z"
    }
   },
   "outputs": [
    {
     "name": "stdout",
     "output_type": "stream",
     "text": [
      "tf.Tensor(\n",
      "[[[[0. 1. 1. 1. 1.]\n",
      "   [0. 0. 1. 1. 1.]\n",
      "   [0. 0. 0. 1. 1.]\n",
      "   [0. 0. 0. 0. 1.]\n",
      "   [0. 0. 0. 0. 0.]]]], shape=(1, 1, 5, 5), dtype=float32)\n"
     ]
    }
   ],
   "source": [
    "print(create_look_ahead_mask(tf.constant([[1, 2, 3, 4, 5]])))"
   ]
  },
  {
   "cell_type": "markdown",
   "id": "solid-vocabulary",
   "metadata": {},
   "source": [
    "대각선의 형태로 숫자 1이 채워지는 것을 볼 수 있다. 그런데 이 마스킹과 패딩 마스킹은 별개이므로, 이 마스킹을 수행할 때 만약에 숫자 0인 단어가 있다면 이 또한 패딩 해야한다. 그래서 `create_look_ahead_mask()` 함수는 내부적으로 앞서 구현한 패딩 마스크 함수도 호출하고 있다.\n",
    "\n",
    "숫자 0이 포함되었을 경우에도 테스트해보자."
   ]
  },
  {
   "cell_type": "code",
   "execution_count": 11,
   "id": "designing-investment",
   "metadata": {
    "ExecuteTime": {
     "end_time": "2021-03-10T16:25:59.830069Z",
     "start_time": "2021-03-10T16:25:59.825736Z"
    }
   },
   "outputs": [
    {
     "name": "stdout",
     "output_type": "stream",
     "text": [
      "tf.Tensor(\n",
      "[[[[1. 1. 1. 1. 1.]\n",
      "   [1. 0. 1. 1. 1.]\n",
      "   [1. 0. 0. 1. 1.]\n",
      "   [1. 0. 0. 0. 1.]\n",
      "   [1. 0. 0. 0. 0.]]]], shape=(1, 1, 5, 5), dtype=float32)\n"
     ]
    }
   ],
   "source": [
    "print(create_look_ahead_mask(tf.constant([[0, 5, 1, 5, 5]])))"
   ]
  },
  {
   "cell_type": "markdown",
   "id": "baking-translation",
   "metadata": {},
   "source": [
    "###  인코더\n",
    "---\n",
    "트랜스포머의 입력, 그리고 트랜스포머 내부에서 일어나는 어텐션에 대해서도 간단히 정리해봤다. 이제 트랜스포머의 인코더를 설계해보자.\n",
    "\n",
    "<img src=\"./image/encoder2.png\" alt=\"encoder\" />\n",
    "\n",
    "하나의 인코더 층은 크게 총 2개의 서브 층(sublayer)으로 나누어진다.<br>\n",
    "바로 __셀프 어텐션__과 __피드 포워드 신경망__이다. 셀프 어텐션은 __멀티 헤드 어텐션__으로 병렬적으로 이루어진다.\n",
    "\n",
    "두 개의 서브 층을 가지는 하나의 인코더 층을 구현하는 함수는 다음과 같다. 함수 내부적으로 첫 번째 서브 층와 두 번째 서브 층을 구현하고 있다."
   ]
  },
  {
   "cell_type": "code",
   "execution_count": 12,
   "id": "velvet-tract",
   "metadata": {
    "ExecuteTime": {
     "end_time": "2021-03-10T16:25:59.836694Z",
     "start_time": "2021-03-10T16:25:59.831264Z"
    }
   },
   "outputs": [],
   "source": [
    "# 인코더 하나의 레이어를 함수로 구현.\n",
    "# 이 하나의 레이어 안에는 두 개의 서브 레이어가 존재합니다.\n",
    "def encoder_layer(units, d_model, num_heads, dropout, name=\"encoder_layer\"):\n",
    "    inputs = tf.keras.Input(shape=(None, d_model), name=\"inputs\")\n",
    "\n",
    "    # 패딩 마스크 사용\n",
    "    padding_mask = tf.keras.Input(shape=(1, 1, None), name=\"padding_mask\")\n",
    "\n",
    "    # 첫 번째 서브 레이어 : 멀티 헤드 어텐션 수행 (셀프 어텐션)\n",
    "    attention = MultiHeadAttention(\n",
    "        d_model, num_heads, name=\"attention\")({\n",
    "            'query': inputs,\n",
    "            'key': inputs,\n",
    "            'value': inputs,\n",
    "            'mask': padding_mask\n",
    "        })\n",
    "\n",
    "    # 어텐션의 결과는 Dropout과 Layer Normalization이라는 훈련을 돕는 테크닉을 수행\n",
    "    attention = tf.keras.layers.Dropout(rate=dropout)(attention)\n",
    "    attention = tf.keras.layers.LayerNormalization(\n",
    "        epsilon=1e-6)(inputs + attention)\n",
    "\n",
    "    # 두 번째 서브 레이어 : 2개의 완전연결층\n",
    "    outputs = tf.keras.layers.Dense(units=units, activation='relu')(attention)\n",
    "    outputs = tf.keras.layers.Dense(units=d_model)(outputs)\n",
    "\n",
    "    # 완전연결층의 결과는 Dropout과 LayerNormalization이라는 훈련을 돕는 테크닉을 수행\n",
    "    outputs = tf.keras.layers.Dropout(rate=dropout)(outputs)\n",
    "    outputs = tf.keras.layers.LayerNormalization(\n",
    "        epsilon=1e-6)(attention + outputs)\n",
    "\n",
    "    return tf.keras.Model(\n",
    "        inputs=[inputs, padding_mask], outputs=outputs, name=name)"
   ]
  },
  {
   "cell_type": "markdown",
   "id": "grave-cross",
   "metadata": {},
   "source": [
    "<img src=\"./image/encoder3.png\" alt=\"encoder\" />"
   ]
  },
  {
   "cell_type": "markdown",
   "id": "native-presence",
   "metadata": {},
   "source": [
    "#### 인코더 층을 쌓아 인코더 만들기\n",
    "\n",
    "이렇게 구현한 인코더 층을 __임베딩 층(Embedding layer)__과 __포지셔널 인코딩(Positional Encoding)__을 연결하고, 사용자가 원하는 만큼 인코더 층을 쌓음으로써 트랜스포머의 인코더가 완성된다.\n",
    "\n",
    "인코더와 디코더 내부에서는 각 서브층 이후에 훈련을 돕는 __Layer Normalization__이라는 테크닉이 사용되었다. 위 그림에서는 __Normalize__라고 표시된 부분에 해당된다.\n",
    "\n",
    "트랜스포머는 하이퍼파라미터인 __num_layers__ 개수의 인코더 층을 쌓는다. 논문에서는 총 6개의 인코더 층을 사용하였지만, 실습에서는 학습 시간을 고려하여 그보다 적은 개수를 사용할 예정이다."
   ]
  },
  {
   "cell_type": "code",
   "execution_count": 13,
   "id": "numeric-friend",
   "metadata": {
    "ExecuteTime": {
     "end_time": "2021-03-10T16:25:59.843091Z",
     "start_time": "2021-03-10T16:25:59.838376Z"
    }
   },
   "outputs": [],
   "source": [
    "def encoder(vocab_size,\n",
    "            num_layers,\n",
    "            units,\n",
    "            d_model,\n",
    "            num_heads,\n",
    "            dropout,\n",
    "            name=\"encoder\"):\n",
    "    inputs = tf.keras.Input(shape=(None,), name=\"inputs\")\n",
    "\n",
    "    # 패딩 마스크 사용\n",
    "    padding_mask = tf.keras.Input(shape=(1, 1, None), name=\"padding_mask\")\n",
    "\n",
    "    # 임베딩 레이어\n",
    "    embeddings = tf.keras.layers.Embedding(vocab_size, d_model)(inputs)\n",
    "    embeddings *= tf.math.sqrt(tf.cast(d_model, tf.float32))\n",
    "\n",
    "    # 포지셔널 인코딩\n",
    "    embeddings = PositionalEncoding(vocab_size, d_model)(embeddings)\n",
    "\n",
    "    outputs = tf.keras.layers.Dropout(rate=dropout)(embeddings)\n",
    "\n",
    "    # num_layers만큼 쌓아올린 인코더의 층.\n",
    "    for i in range(num_layers):\n",
    "        outputs = encoder_layer(\n",
    "            units=units,\n",
    "            d_model=d_model,\n",
    "            num_heads=num_heads,\n",
    "            dropout=dropout,\n",
    "            name=\"encoder_layer_{}\".format(i),\n",
    "        )([outputs, padding_mask])\n",
    "\n",
    "    return tf.keras.Model(\n",
    "        inputs=[inputs, padding_mask], outputs=outputs, name=name)"
   ]
  },
  {
   "cell_type": "markdown",
   "id": "confirmed-madrid",
   "metadata": {},
   "source": [
    "### 디코더\n",
    "---\n",
    "디코더는 인코더와 비슷하지만, 인코더보다 조금 더 복잡하다. 인코더는 두 개의 서브 층으로 구성되지만, 디코더는 세 개의 서브 층으로 구성된다는 점이 다르다."
   ]
  },
  {
   "cell_type": "markdown",
   "id": "vietnamese-diving",
   "metadata": {},
   "source": [
    "#### 디코더 층\n",
    "\n",
    "<img src=\"./image/decoder.png\" alt=\"decoder\" />\n",
    "\n",
    "첫 번째는 __셀프 어텐션__, 두 번째는 __인코더-디코더 어텐션__, 세 번째는 __피드 포워드 신경망__이다. __인코더-디코더 어텐션__은 셀프 어텐션과는 달리, Query가 디코더의 벡터인 반면에 Key와 Value가 인코더의 벡터라는 특징이 있다. 이 부분이 인코더가 입력 문장으로부터 정보를 디코더에 전달하는 과정이다.\n",
    "\n",
    "<img src=\"./image/decoder2.png\" alt=\"decoder\" />\n",
    "\n",
    "인코더의 __셀프 어텐션__과 마찬가지로 디코더의 __셀프 어텐션__, __인코더-디코더 어텐션__ 두 개의 어텐션 모두 __스케일드 닷 프로덕트 어텐션__을 __멀티 헤드 어텐션__으로 병렬적으로 수행한다.\n",
    "\n",
    "디코더의 세 개의 서브 층을 내부적으로 구현한 디코더의 함수는 다음과 같다."
   ]
  },
  {
   "cell_type": "code",
   "execution_count": 14,
   "id": "saving-result",
   "metadata": {
    "ExecuteTime": {
     "end_time": "2021-03-10T16:25:59.850300Z",
     "start_time": "2021-03-10T16:25:59.844184Z"
    }
   },
   "outputs": [],
   "source": [
    "# 디코더 하나의 레이어를 함수로 구현.\n",
    "# 이 하나의 레이어 안에는 세 개의 서브 레이어가 존재합니다.\n",
    "def decoder_layer(units, d_model, num_heads, dropout, name=\"decoder_layer\"):\n",
    "    inputs = tf.keras.Input(shape=(None, d_model), name=\"inputs\")\n",
    "    enc_outputs = tf.keras.Input(shape=(None, d_model), name=\"encoder_outputs\")\n",
    "    look_ahead_mask = tf.keras.Input(\n",
    "        shape=(1, None, None), name=\"look_ahead_mask\")\n",
    "    padding_mask = tf.keras.Input(shape=(1, 1, None), name='padding_mask')\n",
    "\n",
    "    # 첫 번째 서브 레이어 : 멀티 헤드 어텐션 수행 (셀프 어텐션)\n",
    "    attention1 = MultiHeadAttention(\n",
    "        d_model, num_heads, name=\"attention_1\")(inputs={\n",
    "            'query': inputs,\n",
    "            'key': inputs,\n",
    "            'value': inputs,\n",
    "            'mask': look_ahead_mask\n",
    "        })\n",
    "\n",
    "    # 멀티 헤드 어텐션의 결과는 LayerNormalization이라는 훈련을 돕는 테크닉을 수행\n",
    "    attention1 = tf.keras.layers.LayerNormalization(\n",
    "        epsilon=1e-6)(attention1 + inputs)\n",
    "\n",
    "    # 두 번째 서브 레이어 : 마스크드 멀티 헤드 어텐션 수행 (인코더-디코더 어텐션)\n",
    "    attention2 = MultiHeadAttention(\n",
    "        d_model, num_heads, name=\"attention_2\")(inputs={\n",
    "            'query': attention1,\n",
    "            'key': enc_outputs,\n",
    "            'value': enc_outputs,\n",
    "            'mask': padding_mask\n",
    "        })\n",
    "\n",
    "    # 마스크드 멀티 헤드 어텐션의 결과는\n",
    "    # Dropout과 LayerNormalization이라는 훈련을 돕는 테크닉을 수행\n",
    "    attention2 = tf.keras.layers.Dropout(rate=dropout)(attention2)\n",
    "    attention2 = tf.keras.layers.LayerNormalization(\n",
    "        epsilon=1e-6)(attention2 + attention1)\n",
    "\n",
    "    # 세 번째 서브 레이어 : 2개의 완전연결층\n",
    "    outputs = tf.keras.layers.Dense(units=units, activation='relu')(attention2)\n",
    "    outputs = tf.keras.layers.Dense(units=d_model)(outputs)\n",
    "\n",
    "    # 완전연결층의 결과는 Dropout과 LayerNormalization 수행\n",
    "    outputs = tf.keras.layers.Dropout(rate=dropout)(outputs)\n",
    "    outputs = tf.keras.layers.LayerNormalization(\n",
    "        epsilon=1e-6)(outputs + attention2)\n",
    "\n",
    "    return tf.keras.Model(\n",
    "        inputs=[inputs, enc_outputs, look_ahead_mask, padding_mask],\n",
    "        outputs=outputs,\n",
    "        name=name)"
   ]
  },
  {
   "cell_type": "markdown",
   "id": "acting-correction",
   "metadata": {},
   "source": [
    "#### 디코더 층을 쌓아 디코더 만들기\n",
    "\n",
    "이렇게 구현한 디코더의 층은 __임베딩 층(Embedding layer)__과 __포지셔널 인코딩(Positional Encoding)__을 연결하고, 사용자가 원하는 만큼 디코더 층을 쌓아 트랜스포머의 디코더가 완성된다.\n",
    "\n",
    "인코더와 마찬가지로 __num_layers__ 개수의 디코더 층을 쌓는다. 논문에서는 총 6개의 디코더 층을 사용하였지만, 실습에서는 학습 시간을 고려하여 그보다 적은 개수를 사용할 예정이다."
   ]
  },
  {
   "cell_type": "code",
   "execution_count": 15,
   "id": "suburban-behavior",
   "metadata": {
    "ExecuteTime": {
     "end_time": "2021-03-10T16:25:59.857189Z",
     "start_time": "2021-03-10T16:25:59.851436Z"
    }
   },
   "outputs": [],
   "source": [
    "def decoder(vocab_size,\n",
    "            num_layers,\n",
    "            units,\n",
    "            d_model,\n",
    "            num_heads,\n",
    "            dropout,\n",
    "            name='decoder'):\n",
    "    inputs = tf.keras.Input(shape=(None,), name='inputs')\n",
    "    enc_outputs = tf.keras.Input(shape=(None, d_model), name='encoder_outputs')\n",
    "    look_ahead_mask = tf.keras.Input(\n",
    "        shape=(1, None, None), name='look_ahead_mask')\n",
    "\n",
    "    # 패딩 마스크\n",
    "    padding_mask = tf.keras.Input(shape=(1, 1, None), name='padding_mask')\n",
    "  \n",
    "    # 임베딩 레이어\n",
    "    embeddings = tf.keras.layers.Embedding(vocab_size, d_model)(inputs)\n",
    "    embeddings *= tf.math.sqrt(tf.cast(d_model, tf.float32))\n",
    "\n",
    "    # 포지셔널 인코딩\n",
    "    embeddings = PositionalEncoding(vocab_size, d_model)(embeddings)\n",
    "\n",
    "    # Dropout이라는 훈련을 돕는 테크닉을 수행\n",
    "    outputs = tf.keras.layers.Dropout(rate=dropout)(embeddings)\n",
    "\n",
    "    for i in range(num_layers):\n",
    "        outputs = decoder_layer(\n",
    "            units=units,\n",
    "            d_model=d_model,\n",
    "            num_heads=num_heads,\n",
    "            dropout=dropout,\n",
    "            name='decoder_layer_{}'.format(i),\n",
    "        )(inputs=[outputs, enc_outputs, look_ahead_mask, padding_mask])\n",
    "\n",
    "    return tf.keras.Model(\n",
    "        inputs=[inputs, enc_outputs, look_ahead_mask, padding_mask],\n",
    "        outputs=outputs,\n",
    "        name=name)"
   ]
  },
  {
   "cell_type": "markdown",
   "id": "still-pressure",
   "metadata": {},
   "source": [
    "이제 인코더 층과 디코더 층을 각각 함수로 구현하였다.\n",
    "\n",
    "이를 하나로 조합하여 트랜스포머 모델을 만들 수 있을 텐데, 우선 그 전에 여기서 사용할 챗봇 데이터를 로드하고, 전처리해보겠다."
   ]
  },
  {
   "cell_type": "markdown",
   "id": "marked-ladder",
   "metadata": {},
   "source": [
    "### Step 1. 데이터 수집하기\n",
    "---\n",
    "한국어 챗봇 데이터는 송영숙님이 공개한 챗봇 데이터를 사용한다.\n",
    "\n",
    "이 데이터는 아래의 링크에서 다운로드할 수 있다.\n",
    "\n",
    "* [songys/Chatbot_data](https://github.com/songys/Chatbot_data/blob/master/ChatbotData%20.csv)\n",
    "\n",
    "```bash\n",
    "# wget으로 데이터 다운로드\n",
    "$ wget https://github.com/songys/Chatbot_data/raw/master/ChatbotData%20.csv\n",
    "```"
   ]
  },
  {
   "cell_type": "markdown",
   "id": "encouraging-mechanics",
   "metadata": {},
   "source": [
    "### Step 2. 데이터 전처리하기\n",
    "---\n",
    "영어 데이터와는 전혀 다른 데이터인 만큼 영어 데이터에 사용했던 전처리와 일부 동일한 전처리도 필요하겠지만 전체적으로는 다른 전처리를 수행해야 할 수도 있다."
   ]
  },
  {
   "cell_type": "code",
   "execution_count": 16,
   "id": "understood-vertex",
   "metadata": {
    "ExecuteTime": {
     "end_time": "2021-03-10T16:26:00.917341Z",
     "start_time": "2021-03-10T16:25:59.858792Z"
    }
   },
   "outputs": [
    {
     "data": {
      "text/html": [
       "<div>\n",
       "<style scoped>\n",
       "    .dataframe tbody tr th:only-of-type {\n",
       "        vertical-align: middle;\n",
       "    }\n",
       "\n",
       "    .dataframe tbody tr th {\n",
       "        vertical-align: top;\n",
       "    }\n",
       "\n",
       "    .dataframe thead th {\n",
       "        text-align: right;\n",
       "    }\n",
       "</style>\n",
       "<table border=\"1\" class=\"dataframe\">\n",
       "  <thead>\n",
       "    <tr style=\"text-align: right;\">\n",
       "      <th></th>\n",
       "      <th>Q</th>\n",
       "      <th>A</th>\n",
       "      <th>label</th>\n",
       "    </tr>\n",
       "  </thead>\n",
       "  <tbody>\n",
       "    <tr>\n",
       "      <th>0</th>\n",
       "      <td>12시 땡!</td>\n",
       "      <td>하루가 또 가네요.</td>\n",
       "      <td>0</td>\n",
       "    </tr>\n",
       "    <tr>\n",
       "      <th>1</th>\n",
       "      <td>1지망 학교 떨어졌어</td>\n",
       "      <td>위로해 드립니다.</td>\n",
       "      <td>0</td>\n",
       "    </tr>\n",
       "    <tr>\n",
       "      <th>2</th>\n",
       "      <td>3박4일 놀러가고 싶다</td>\n",
       "      <td>여행은 언제나 좋죠.</td>\n",
       "      <td>0</td>\n",
       "    </tr>\n",
       "    <tr>\n",
       "      <th>3</th>\n",
       "      <td>3박4일 정도 놀러가고 싶다</td>\n",
       "      <td>여행은 언제나 좋죠.</td>\n",
       "      <td>0</td>\n",
       "    </tr>\n",
       "    <tr>\n",
       "      <th>4</th>\n",
       "      <td>PPL 심하네</td>\n",
       "      <td>눈살이 찌푸려지죠.</td>\n",
       "      <td>0</td>\n",
       "    </tr>\n",
       "  </tbody>\n",
       "</table>\n",
       "</div>"
      ],
      "text/plain": [
       "                 Q            A  label\n",
       "0           12시 땡!   하루가 또 가네요.      0\n",
       "1      1지망 학교 떨어졌어    위로해 드립니다.      0\n",
       "2     3박4일 놀러가고 싶다  여행은 언제나 좋죠.      0\n",
       "3  3박4일 정도 놀러가고 싶다  여행은 언제나 좋죠.      0\n",
       "4          PPL 심하네   눈살이 찌푸려지죠.      0"
      ]
     },
     "execution_count": 16,
     "metadata": {},
     "output_type": "execute_result"
    }
   ],
   "source": [
    "urllib.request.urlretrieve(\"https://github.com/songys/Chatbot_data/raw/master/ChatbotData%20.csv\", filename=\"ChatBotData.csv\")\n",
    "data = pd.read_csv('ChatBotData.csv')\n",
    "\n",
    "data.head()"
   ]
  },
  {
   "cell_type": "code",
   "execution_count": 17,
   "id": "crazy-overall",
   "metadata": {
    "ExecuteTime": {
     "end_time": "2021-03-10T16:26:00.920934Z",
     "start_time": "2021-03-10T16:26:00.918536Z"
    }
   },
   "outputs": [
    {
     "name": "stdout",
     "output_type": "stream",
     "text": [
      "챗봇 샘플의 개수 : 11823\n"
     ]
    }
   ],
   "source": [
    "print('챗봇 샘플의 개수 :', len(data))"
   ]
  },
  {
   "cell_type": "markdown",
   "id": "indonesian-insight",
   "metadata": {},
   "source": [
    "Null 값이 있는지 확인해보자."
   ]
  },
  {
   "cell_type": "code",
   "execution_count": 18,
   "id": "proud-congress",
   "metadata": {
    "ExecuteTime": {
     "end_time": "2021-03-10T16:26:00.926405Z",
     "start_time": "2021-03-10T16:26:00.922080Z"
    }
   },
   "outputs": [
    {
     "name": "stdout",
     "output_type": "stream",
     "text": [
      "Q        0\n",
      "A        0\n",
      "label    0\n",
      "dtype: int64\n"
     ]
    }
   ],
   "source": [
    "print(data.isnull().sum())"
   ]
  },
  {
   "cell_type": "markdown",
   "id": "modern-scottish",
   "metadata": {},
   "source": [
    "이번 전처리는 __정규 표현식(Regular Expression)__을 사용하여 __구두점(punctuation)__을 제거하여 단어를 __토크나이징(tokenizing)__하는 일에 방해가 되지 않도록 정제하는 것을 목표로 한다."
   ]
  },
  {
   "cell_type": "code",
   "execution_count": 19,
   "id": "guilty-nitrogen",
   "metadata": {
    "ExecuteTime": {
     "end_time": "2021-03-10T16:26:00.929940Z",
     "start_time": "2021-03-10T16:26:00.927610Z"
    }
   },
   "outputs": [],
   "source": [
    "# 전처리 함수\n",
    "def preprocess_sentence(sentence):\n",
    "    sentence = sentence.lower().strip()\n",
    "\n",
    "    # 단어와 구두점(punctuation) 사이의 거리를 만듭니다.\n",
    "    # 예를 들어서 \"I am a student.\" => \"I am a student .\"와 같이\n",
    "    # student와 온점 사이에 거리를 만듭니다.\n",
    "    sentence = re.sub(r\"([?.!,])\", r\" \\1 \", sentence)\n",
    "    sentence = sentence.strip()\n",
    "    return sentence"
   ]
  },
  {
   "cell_type": "code",
   "execution_count": 20,
   "id": "hollow-bahamas",
   "metadata": {
    "ExecuteTime": {
     "end_time": "2021-03-10T16:26:01.008907Z",
     "start_time": "2021-03-10T16:26:00.931250Z"
    }
   },
   "outputs": [],
   "source": [
    "questions = []\n",
    "for sentence in data['Q']:\n",
    "    # 단어와 구두점(punctuation) 사이의 거리를 만듭니다.\n",
    "    # 예를 들어서 \"I am a student.\" => \"I am a student .\"와 같이\n",
    "    # student와 온점 사이에 거리를 만듭니다.\n",
    "    sentence = re.sub(r\"([?.!,])\", r\" \\1 \", sentence)\n",
    "    sentence = sentence.strip()\n",
    "    questions.append(sentence)\n",
    "    \n",
    "answers = []\n",
    "for sentence in data['A']:\n",
    "    # 단어와 구두점(punctuation) 사이의 거리를 만듭니다.\n",
    "    # 예를 들어서 \"I am a student.\" => \"I am a student .\"와 같이\n",
    "    # student와 온점 사이에 거리를 만듭니다.\n",
    "    sentence = re.sub(r\"([?.!,])\", r\" \\1 \", sentence)\n",
    "    sentence = sentence.strip()\n",
    "    answers.append(sentence)"
   ]
  },
  {
   "cell_type": "markdown",
   "id": "successful-benchmark",
   "metadata": {},
   "source": [
    "이렇게 로드한 데이터의 샘플 수를 확인해보자"
   ]
  },
  {
   "cell_type": "code",
   "execution_count": 21,
   "id": "statistical-depression",
   "metadata": {
    "ExecuteTime": {
     "end_time": "2021-03-10T16:26:01.012499Z",
     "start_time": "2021-03-10T16:26:01.010023Z"
    }
   },
   "outputs": [
    {
     "name": "stdout",
     "output_type": "stream",
     "text": [
      "전체 샘플 수 : 11823\n",
      "전체 샘플 수 : 11823\n"
     ]
    }
   ],
   "source": [
    "print('전체 샘플 수 :', len(questions))\n",
    "print('전체 샘플 수 :', len(answers))"
   ]
  },
  {
   "cell_type": "code",
   "execution_count": 22,
   "id": "biblical-protest",
   "metadata": {
    "ExecuteTime": {
     "end_time": "2021-03-10T16:26:01.018392Z",
     "start_time": "2021-03-10T16:26:01.016118Z"
    }
   },
   "outputs": [
    {
     "name": "stdout",
     "output_type": "stream",
     "text": [
      "['12시 땡 !', '1지망 학교 떨어졌어', '3박4일 놀러가고 싶다', '3박4일 정도 놀러가고 싶다', 'PPL 심하네', 'SD카드 망가졌어', 'SD카드 안돼', 'SNS 맞팔 왜 안하지ㅠㅠ', 'SNS 시간낭비인 거 아는데 매일 하는 중', 'SNS 시간낭비인데 자꾸 보게됨', 'SNS보면 나만 빼고 다 행복해보여', '가끔 궁금해', '가끔 뭐하는지 궁금해', '가끔은 혼자인게 좋다', '가난한 자의 설움', '가만 있어도 땀난다', '가상화폐 쫄딱 망함', '가스불 켜고 나갔어', '가스불 켜놓고 나온거 같아', '가스비 너무 많이 나왔다 .', '가스비 비싼데 감기 걸리겠어', '가스비 장난 아님', '가장 확실한 건 뭘까 ?', '가족 여행 가기로 했어', '가족 여행 고고', '가족 여행 어디로 가지 ?', '가족 있어 ?', '가족관계 알려 줘', '가족끼리 여행간다 .', '가족들 보고 싶어', '가족들이랑 서먹해', '가족들이랑 서먹해졌어', '가족들이랑 어디 가지 ?', '가족들이랑 여행 갈거야', '가족여행 가야지', '가족이 누구야 ?', '가족이랑 여행 가려고', '가족한테 스트레스 풀었어', '가출할까 ?', '가출해도 갈 데가 없어', '간만에 떨리니까 좋더라', '간만에 쇼핑 중', '간만에 휴식 중', '간식 뭐 먹을까', '간식 추천', '간장치킨 시켜야지', '간접흡연 싫어', '갈까 말까 고민 돼', '갈까 말까 ?', '감 말랭이 먹고 싶다 .', '감 말랭이 먹어야지', '감기 같애', '감기 걸린 것 같아', '감기 기운이 있어', '감기 들 거 같애', '감기가 오려나', '감기약이 없어', '감기인거 같애', '감미로운 목소리 좋아', '감정이 쓰레기통처럼 엉망진창이야', '감정컨트롤을 못하겠어', '감정컨트롤이 안돼', '감히 나를 무시하는 애가 있어', '갑자기 나쁜 생각이 막 들더라', '갑자기 눈물 나', '갑자기 물어봐서 당황했어', '갑자기 불편한 사이가 된 거 같아', '강렬한 첫인상 남겨야 하는데', '강아지 키우고 싶어', '강아지 키우고 싶은데 역시 안돼겠지', '강아지 키울 수 있을까', '강아지 키울까', '강원도 가서 살까 ?', '같이 게임하자고 해도 되나 ?', '같이 놀러갈 친구가 없어', '같이 먹었는데 나만 살찐 거 같아', '같이 수영장 가기로 했어', '같이 있으면 힘든데 붙잡고 싶어', '같이 피씨방 가자고 해볼까 ?', '같이 할 수 있는 취미 생활 뭐 있을까', '개강룩 입어볼까', '개강옷 예쁘게 입어 볼까', '개강이다', '개강이라니', '개같은 상황', '개같이 되버렸어 .', '개기름 꼈어', '개념도 놓고 옴', '개념이 없어', '개당황', '개당황했잖아 갑자기 물어 봐서', '개인적인 업무까지 다 시켜', '개인적인 일도 다 시켜', '개졸려', '개좋아', '개학하니까 좋다', '걔 너무 싫다', '걔는 누굴 닮아서 그런거니 ?', '걔랑 같은 반 됐으면 좋겠다', '거지 같이 일해 놓고 갔어']\n",
      "['하루가 또 가네요 .', '위로해 드립니다 .', '여행은 언제나 좋죠 .', '여행은 언제나 좋죠 .', '눈살이 찌푸려지죠 .', '다시 새로 사는 게 마음 편해요 .', '다시 새로 사는 게 마음 편해요 .', '잘 모르고 있을 수도 있어요 .', '시간을 정하고 해보세요 .', '시간을 정하고 해보세요 .', '자랑하는 자리니까요 .', '그 사람도 그럴 거예요 .', '그 사람도 그럴 거예요 .', '혼자를 즐기세요 .', '돈은 다시 들어올 거예요 .', '땀을 식혀주세요 .', '어서 잊고 새출발 하세요 .', '빨리 집에 돌아가서 끄고 나오세요 .', '빨리 집에 돌아가서 끄고 나오세요 .', '다음 달에는 더 절약해봐요 .', '따뜻하게 사세요 !', '다음 달에는 더 절약해봐요 .', '가장 확실한 시간은 오늘이에요 .  어제와 내일을 놓고 고민하느라 시간을 낭비하지 마세요 .', '온 가족이 모두 마음에 드는 곳으로 가보세요 .', '온 가족이 모두 마음에 드는 곳으로 가보세요 .', '온 가족이 모두 마음에 드는 곳으로 가보세요 .', '저를 만들어 준 사람을 부모님 ,  저랑 이야기해 주는 사람을 친구로 생각하고 있어요', '저를 만들어 준 사람을 부모님 ,  저랑 이야기해 주는 사람을 친구로 생각하고 있어요', '더 가까워질 기회가 되겠네요 .', '저도요 .', '다들 바빠서 이야기할 시간이 부족했나봐요 .', '다들 바빠서 이야기할 시간이 부족했나봐요 .', '온 가족이 모두 마음에 드는 곳으로 가보세요 .', '좋은 생각이에요 .', '더 가까워질 기회가 되겠네요 .', '저를 만들어 준 사람을 부모님 ,  저랑 이야기해 주는 사람을 친구로 생각하고 있어요', '좋은 생각이에요 .', '정말 후회할 습관이에요 .', '무모한 결정을 내리지 마세요 .', '선생님이나 기관에 연락해보세요 .', '떨리는 감정은 그 자체로 소중해요 .', '득템했길 바라요 .', '휴식도 필요하죠 .', '단짠으로 두 개 사는게 진리죠 .', '단짠으로 두 개 사는게 진리죠 .', '맛있게 드세요 .', '저도 싫어요 .', '가세요 .', '가세요 .', '맛있게 드세요 .', '맛있게 드세요 .', '병원가세요 .', '이럴 때 잘 쉬는 게 중요해요 .', '이럴 때 잘 쉬는 게 중요해요 .', '이럴 때 잘 쉬는 게 중요해요 .', '따뜻하게 관리하세요 .', '병원가세요 .', '병원가세요 .', '저도 듣고 싶네요 .', '자신을 더 사랑해주세요 .', '그건 습관이에요 .', '그건 습관이에요 .', '콕 집어서 물어보세요 .', '좋은 생각만 하세요 .', '마음이 아픈가요 .', '갑작스러웠나봐요 .', '관계의 변화가 왔나봅니다 .', '처음 3초가 중요해요 .  당신의 매력을 어필해보세요 .', '책임질 수 있을 때 키워 보세요 .', '먼저 생활패턴을 살펴 보세요 .', '먼저 생활패턴을 살펴 보세요 .', '책임질 수 있을 때 키워 보세요 .', '아름다운 곳이죠 .', '안 될 것도 없죠 .', '혼자도 좋아요 .', '연인은 살쪄도 잘 알아차리지 못하고 알아차려도 싫어하지 않을 거예요 .', '즐거운 시간 보내고 오세요 !', '질질 끌지 마세요 .', '말해보세요 .', '함께하면 서로를 더 많이 알게 될 거예요 .', '개시해보세요 .', '개시해보세요 .', '곧 방학이예요 .', '방학이 참 짧죠 .', '벗어나는 게 좋겠네요 .', '벗어나는 게 좋겠네요 .', '세수하고 오세요 .', '그게 제일 중요한 건데요 .', '그게 제일 중요한 건데요 .', '다음부터는 더 많이 아세요 .', '갑작스러웠나봐요 .', '공적인 일부터 하세요 .', '공적인 일부터 하세요 .', '낮잠을 잠깐 자도 괜찮아요 .', '저도 좋아해주세요 .', '친구들이 보고싶었나봐요 .', '되도록 만나지 마세요 .', '당신이요 .', '당신의 운을 믿어보세요 .', '일 못하는 사람이 있으면 옆에 있는 사람이 더 힘들죠 .']\n"
     ]
    }
   ],
   "source": [
    "print(questions[:100])\n",
    "print(answers[:100])"
   ]
  },
  {
   "cell_type": "markdown",
   "id": "interested-nirvana",
   "metadata": {},
   "source": [
    "임의로 22번째 샘플(인덱스 상으로는 21번 샘플)을 출력해서 잘 저장은 되었는지, 그리고 전처리 과정에서 의도했던 전처리가 진행되었는지 확인해보자"
   ]
  },
  {
   "cell_type": "code",
   "execution_count": 23,
   "id": "successful-chaos",
   "metadata": {
    "ExecuteTime": {
     "end_time": "2021-03-10T16:26:01.022271Z",
     "start_time": "2021-03-10T16:26:01.020109Z"
    }
   },
   "outputs": [
    {
     "name": "stdout",
     "output_type": "stream",
     "text": [
      "전처리 후의 22번째 질문 샘플: 가스비 장난 아님\n",
      "전처리 후의 22번째 답변 샘플: 다음 달에는 더 절약해봐요 .\n"
     ]
    }
   ],
   "source": [
    "print('전처리 후의 22번째 질문 샘플: {}'.format(questions[21]))\n",
    "print('전처리 후의 22번째 답변 샘플: {}'.format(answers[21]))"
   ]
  },
  {
   "cell_type": "markdown",
   "id": "immune-stress",
   "metadata": {},
   "source": [
    "### Step 3. SubwordTextEncoder 사용하기\n",
    "---\n",
    "한국어 데이터는 형태소 분석기를 사용하여 토크나이징을 해야 한다고 많은 분이 알고 있다. 하지만 여기서는 형태소 분석기가 아닌 위 실습에서 사용했던 내부 단어 토크나이저인 `SubwordTextEncoder`를 그대로 사용해보자."
   ]
  },
  {
   "cell_type": "markdown",
   "id": "electoral-wichita",
   "metadata": {},
   "source": [
    "#### 단어장(Vocabulary) 만들기"
   ]
  },
  {
   "cell_type": "code",
   "execution_count": 24,
   "id": "serious-population",
   "metadata": {
    "ExecuteTime": {
     "end_time": "2021-03-10T16:26:12.972616Z",
     "start_time": "2021-03-10T16:26:01.023194Z"
    }
   },
   "outputs": [],
   "source": [
    "# 질문과 답변 데이터셋에 대해서 Vocabulary 생성. (Tensorflow 2.2.0 이하)\n",
    "# tokenizer = tfds.features.text.SubwordTextEncoder.build_from_corpus(questions + answers, target_vocab_size=2**13)\n",
    "\n",
    "# (주의) Tensorflow 2.3.0 이상의 버전에서는 아래 주석의 코드를 대신 실행해 주세요. \n",
    "tokenizer = tfds.deprecated.text.SubwordTextEncoder.build_from_corpus(questions + answers, target_vocab_size=2**13)"
   ]
  },
  {
   "cell_type": "markdown",
   "id": "every-graduate",
   "metadata": {},
   "source": [
    "이때 디코더의 문장 생성 과정에서 사용할 '시작 토큰'과 '종료 토큰'에 대해서도 임의로 단어장에 추가하여서 정수를 부여해준다. 이미 생성된 단어장의 번호와 겹치지 않도록 각각 단어장의 크기와 그보다 1이 큰 수를 번호로 부여하면 될 것이다."
   ]
  },
  {
   "cell_type": "code",
   "execution_count": 25,
   "id": "extra-norway",
   "metadata": {
    "ExecuteTime": {
     "end_time": "2021-03-10T16:26:12.975613Z",
     "start_time": "2021-03-10T16:26:12.973624Z"
    }
   },
   "outputs": [],
   "source": [
    "# 시작 토큰과 종료 토큰에 고유한 정수를 부여합니다.\n",
    "START_TOKEN, END_TOKEN = [tokenizer.vocab_size], [tokenizer.vocab_size + 1]"
   ]
  },
  {
   "cell_type": "markdown",
   "id": "competitive-helping",
   "metadata": {},
   "source": [
    "시작 토큰과 종료 토큰에 부여된 정수를 출력해보자."
   ]
  },
  {
   "cell_type": "code",
   "execution_count": 26,
   "id": "contained-center",
   "metadata": {
    "ExecuteTime": {
     "end_time": "2021-03-10T16:26:12.979697Z",
     "start_time": "2021-03-10T16:26:12.977099Z"
    }
   },
   "outputs": [
    {
     "name": "stdout",
     "output_type": "stream",
     "text": [
      "START_TOKEN의 번호 : [8178]\n",
      "END_TOKEN의 번호 : [8179]\n"
     ]
    }
   ],
   "source": [
    "print('START_TOKEN의 번호 :' ,[tokenizer.vocab_size])\n",
    "print('END_TOKEN의 번호 :' ,[tokenizer.vocab_size + 1])"
   ]
  },
  {
   "cell_type": "markdown",
   "id": "drawn-design",
   "metadata": {},
   "source": [
    "각각 8178과 8179라는 점에서 현재 단어장의 크기가  8178(0번부터  8178번)이라는 의미이다.\n",
    "\n",
    "두 개의 토큰을 추가해주었기 때문에 단어장의 크기도 +2임을 명시해주어야 한다."
   ]
  },
  {
   "cell_type": "code",
   "execution_count": 27,
   "id": "architectural-employer",
   "metadata": {
    "ExecuteTime": {
     "end_time": "2021-03-10T16:26:12.982905Z",
     "start_time": "2021-03-10T16:26:12.980775Z"
    }
   },
   "outputs": [
    {
     "name": "stdout",
     "output_type": "stream",
     "text": [
      "8180\n"
     ]
    }
   ],
   "source": [
    "# 시작 토큰과 종료 토큰을 고려하여 +2를 하여 단어장의 크기를 산정합니다.\n",
    "VOCAB_SIZE = tokenizer.vocab_size + 2\n",
    "print(VOCAB_SIZE)"
   ]
  },
  {
   "cell_type": "markdown",
   "id": "remarkable-seventh",
   "metadata": {},
   "source": [
    "위에서 `tensorflow_datasets`의 `SubwordTextEncoder`를 사용해서 tokenizer를 정의하고 Vocabulary를 만들었다면, `tokenizer.encode()`로 각 단어를 정수로 변환할 수 있고 또는 `tokenizer.decode()`를 통해 정수 시퀀스를 단어 시퀀스로 변환할 수 있다.\n",
    "\n",
    "예를 들어서 22번째 샘플을 `tokenizer.encode()`의 입력으로 사용해서 변환 결과를 보자."
   ]
  },
  {
   "cell_type": "code",
   "execution_count": 28,
   "id": "alike-trade",
   "metadata": {
    "ExecuteTime": {
     "end_time": "2021-03-10T16:26:12.986864Z",
     "start_time": "2021-03-10T16:26:12.984169Z"
    }
   },
   "outputs": [
    {
     "name": "stdout",
     "output_type": "stream",
     "text": [
      "정수 인코딩 후의 21번째 질문 샘플: [5766, 611, 2495, 4167]\n",
      "정수 인코딩 후의 21번째 답변 샘플: [2359, 7516, 7, 6279, 97, 1]\n"
     ]
    }
   ],
   "source": [
    "# 임의의 22번째 샘플에 대해서 정수 인코딩 작업을 수행.\n",
    "# 각 토큰을 고유한 정수로 변환\n",
    "print('정수 인코딩 후의 21번째 질문 샘플: {}'.format(tokenizer.encode(questions[21])))\n",
    "print('정수 인코딩 후의 21번째 답변 샘플: {}'.format(tokenizer.encode(answers[21])))"
   ]
  },
  {
   "cell_type": "markdown",
   "id": "advance-export",
   "metadata": {
    "ExecuteTime": {
     "end_time": "2021-03-06T16:41:41.279606Z",
     "start_time": "2021-03-06T16:41:41.276089Z"
    }
   },
   "source": [
    "각 단어에 고유한 정수가 부여된 Vocabulary를 기준으로 단어 시퀀스가 정수 시퀀스로 인코딩된 결과를 확인할 수 있다. 위의 결과와 마찬가지로 질문과 답변 셋에 대해서 전부 __정수 인코딩__을 수행한다. 이와 동시에 문장의 최대 길이를 정하고, 해당 길이로 __패딩(padding)__한다."
   ]
  },
  {
   "cell_type": "code",
   "execution_count": 29,
   "id": "legitimate-morrison",
   "metadata": {
    "ExecuteTime": {
     "end_time": "2021-03-10T16:26:12.990103Z",
     "start_time": "2021-03-10T16:26:12.987970Z"
    }
   },
   "outputs": [
    {
     "name": "stdout",
     "output_type": "stream",
     "text": [
      "40\n"
     ]
    }
   ],
   "source": [
    "# 샘플의 최대 허용 길이 또는 패딩 후의 최종 길이\n",
    "MAX_LENGTH = 40\n",
    "print(MAX_LENGTH)"
   ]
  },
  {
   "cell_type": "code",
   "execution_count": 30,
   "id": "sixth-sacramento",
   "metadata": {
    "ExecuteTime": {
     "end_time": "2021-03-10T16:26:12.994954Z",
     "start_time": "2021-03-10T16:26:12.991219Z"
    }
   },
   "outputs": [],
   "source": [
    "# 정수 인코딩, 최대 길이를 초과하는 샘플 제거, 패딩\n",
    "def tokenize_and_filter(inputs, outputs):\n",
    "    tokenized_inputs, tokenized_outputs = [], []\n",
    "  \n",
    "    for (sentence1, sentence2) in zip(inputs, outputs):\n",
    "        # 정수 인코딩 과정에서 시작 토큰과 종료 토큰을 추가\n",
    "        sentence1 = START_TOKEN + tokenizer.encode(sentence1) + END_TOKEN\n",
    "        sentence2 = START_TOKEN + tokenizer.encode(sentence2) + END_TOKEN\n",
    "\n",
    "        # 최대 길이 40 이하인 경우에만 데이터셋으로 허용\n",
    "        if len(sentence1) <= MAX_LENGTH and len(sentence2) <= MAX_LENGTH:\n",
    "            tokenized_inputs.append(sentence1)\n",
    "            tokenized_outputs.append(sentence2)\n",
    "  \n",
    "    # 최대 길이 40으로 모든 데이터셋을 패딩\n",
    "    tokenized_inputs = tf.keras.preprocessing.sequence.pad_sequences(\n",
    "        tokenized_inputs, maxlen=MAX_LENGTH, padding='post')\n",
    "    tokenized_outputs = tf.keras.preprocessing.sequence.pad_sequences(\n",
    "        tokenized_outputs, maxlen=MAX_LENGTH, padding='post')\n",
    "  \n",
    "    return tokenized_inputs, tokenized_outputs"
   ]
  },
  {
   "cell_type": "markdown",
   "id": "statistical-click",
   "metadata": {},
   "source": [
    "정수 인코딩 과정을 수행하면서 샘플의 길이가 40을 넘는 경우는 샘플들을 필터링하였으므로 일부 샘플이 제외되었다. 단어장의 크기와 샘플의 개수를 확인해 보겠다."
   ]
  },
  {
   "cell_type": "code",
   "execution_count": 31,
   "id": "damaged-newport",
   "metadata": {
    "ExecuteTime": {
     "end_time": "2021-03-10T16:26:13.540136Z",
     "start_time": "2021-03-10T16:26:12.996093Z"
    }
   },
   "outputs": [
    {
     "name": "stdout",
     "output_type": "stream",
     "text": [
      "단어장의 크기 : 8180\n",
      "필터링 후의 질문 샘플 개수: 11823\n",
      "필터링 후의 답변 샘플 개수: 11823\n"
     ]
    }
   ],
   "source": [
    "questions, answers = tokenize_and_filter(questions, answers)\n",
    "print('단어장의 크기 :',(VOCAB_SIZE))\n",
    "print('필터링 후의 질문 샘플 개수: {}'.format(len(questions)))\n",
    "print('필터링 후의 답변 샘플 개수: {}'.format(len(answers)))"
   ]
  },
  {
   "cell_type": "markdown",
   "id": "satellite-functionality",
   "metadata": {},
   "source": [
    "__tf.data.Dataset API__는 훈련 프로세스의 속도가 빨라지도록 입력 파이프라인을 구축하는 API이다.\n",
    "\n",
    "이를 적극 사용하기 위해서 질문과 답변의 쌍을 `tf.data.Dataset`의 입력으로 넣어주는 작업을 한다.\n",
    "\n",
    "이때, 디코더의 입력과 실제값(레이블)을 정의해주기 위해서는 __교사 강요(Teacher Forcing)__이라는 언어 모델의 훈련 기법을 이해해야만 한다. 아래의 글을 통해 교사 강요에 대해 알아보자.\n",
    "\n",
    "* [위키독스: RNN 언어 모델](https://wikidocs.net/46496)\n",
    "\n",
    "* 교사 강요를 하지 않은 경우, 잘못된 예측이 다음 시점(time step)의 입력으로 들어가면서 연쇄적으로 예측 정확도에 영향을 미친다.\n",
    "\n",
    "이전 자신의 출력이 현재 자신의 상태를 결정하는 모델을 __자기회귀 모델(auto-regressive model, AR)__이라고 한다. 앞서 교사 강요를 이해하기 위해 읽었던 글에 등장한 RNN 언어 모델은 대표적인 자기 회귀 모델의 예이며, 트랜스포머의 디코더 또한 자기회귀 모델이다.\n",
    "\n",
    "트랜스포머 디코더에서도 __교사 강요(Teacher Forcing)__를 적용한다.\n",
    "\n",
    "\n",
    ">만약, answers의 한 샘플이 다음과 같았다고 해보자.\n",
    ">\n",
    ">샘플 : '`<START_TOKEN> I AM A STUDENT <END_TOKEN> <PAD> <PAD> <PAD> <PAD>`'\n",
    ">\n",
    ">`<START_TOKEN>`은 문장의 시작을 의미하는 시작 토큰, <br>\n",
    ">`<END_TOKEN>`은 문장의 끝을 의미하는 종료 토큰 <br>\n",
    ">`<PAD>`는 패딩을 위해 사용되는 패딩 토큰이다.\n",
    ">\n",
    ">교사 강요를 적용하기 위해서 위 샘플을 디코더의 입력과 레이블로 사용한다고 하였을 때,\n",
    ">각각 어떻게 수정해서 입력과 레이블로 사용해야 할까?\n",
    "\n",
    "* 입력 : `<START_TOKEN>` I AM A STUDENT `<END_TOKEN>` `<PAD>` `<PAD>` `<PAD>`\n",
    "* 레이블 : I AM A STUDENT `<END_TOKEN>` `<PAD>` `<PAD>` `<PAD>` `<PAD>`"
   ]
  },
  {
   "cell_type": "markdown",
   "id": "frequent-squad",
   "metadata": {},
   "source": [
    "질문과 답변의 쌍을 __tf.data.Dataset API__의 입력으로 사용하여 파이프라인을 구성한다. 이때, 교사 강요를 위해서 `answers[:, :-1]`를 디코더의 입력값, `answers[:, 1:]`를 디코더의 레이블로 사용한다."
   ]
  },
  {
   "cell_type": "code",
   "execution_count": 32,
   "id": "middle-masters",
   "metadata": {
    "ExecuteTime": {
     "end_time": "2021-03-10T16:26:13.547971Z",
     "start_time": "2021-03-10T16:26:13.541170Z"
    }
   },
   "outputs": [],
   "source": [
    "BATCH_SIZE = 64\n",
    "BUFFER_SIZE = 20000\n",
    "\n",
    "# 디코더는 이전의 target을 다음의 input으로 사용합니다.\n",
    "# 이에 따라 outputs에서는 START_TOKEN을 제거하겠습니다.\n",
    "dataset = tf.data.Dataset.from_tensor_slices((\n",
    "    {\n",
    "        'inputs': questions,\n",
    "        'dec_inputs': answers[:, :-1]\n",
    "    },\n",
    "    {\n",
    "        'outputs': answers[:, 1:]\n",
    "    },\n",
    "))\n",
    "\n",
    "dataset = dataset.cache()\n",
    "dataset = dataset.shuffle(BUFFER_SIZE)\n",
    "dataset = dataset.batch(BATCH_SIZE)\n",
    "dataset = dataset.prefetch(tf.data.experimental.AUTOTUNE)"
   ]
  },
  {
   "cell_type": "markdown",
   "id": "temporal-ethernet",
   "metadata": {},
   "source": [
    "### Step 4. 모델 구성하기\n",
    "---\n",
    "위 실습 내용을 참고하여 트랜스포머 모델을 구현한다."
   ]
  },
  {
   "cell_type": "markdown",
   "id": "front-sally",
   "metadata": {},
   "source": [
    "#### 이제 앞서 사용한 인코더 층 함수와 디코더 층 함수를 사용하여 트랜스포머 함수를 정의한다."
   ]
  },
  {
   "cell_type": "code",
   "execution_count": 33,
   "id": "compatible-swift",
   "metadata": {
    "ExecuteTime": {
     "end_time": "2021-03-10T16:26:13.555492Z",
     "start_time": "2021-03-10T16:26:13.549024Z"
    }
   },
   "outputs": [],
   "source": [
    "def transformer(vocab_size,\n",
    "                num_layers,\n",
    "                units,\n",
    "                d_model,\n",
    "                num_heads,\n",
    "                dropout,\n",
    "                name=\"transformer\"):\n",
    "    inputs = tf.keras.Input(shape=(None,), name=\"inputs\")\n",
    "    dec_inputs = tf.keras.Input(shape=(None,), name=\"dec_inputs\")\n",
    "\n",
    "    # 인코더에서 패딩을 위한 마스크\n",
    "    enc_padding_mask = tf.keras.layers.Lambda(\n",
    "        create_padding_mask, output_shape=(1, 1, None),\n",
    "        name='enc_padding_mask')(inputs)\n",
    "\n",
    "    # 디코더에서 미래의 토큰을 마스크 하기 위해서 사용합니다.\n",
    "    # 내부적으로 패딩 마스크도 포함되어져 있습니다.\n",
    "    look_ahead_mask = tf.keras.layers.Lambda(\n",
    "        create_look_ahead_mask,\n",
    "        output_shape=(1, None, None),\n",
    "        name='look_ahead_mask')(dec_inputs)\n",
    "\n",
    "    # 두 번째 어텐션 블록에서 인코더의 벡터들을 마스킹\n",
    "    # 디코더에서 패딩을 위한 마스크\n",
    "    dec_padding_mask = tf.keras.layers.Lambda(\n",
    "        create_padding_mask, output_shape=(1, 1, None),\n",
    "        name='dec_padding_mask')(inputs)\n",
    "\n",
    "    # 인코더\n",
    "    enc_outputs = encoder(\n",
    "        vocab_size=vocab_size,\n",
    "        num_layers=num_layers,\n",
    "        units=units,\n",
    "        d_model=d_model,\n",
    "        num_heads=num_heads,\n",
    "        dropout=dropout,\n",
    "    )(inputs=[inputs, enc_padding_mask])\n",
    "\n",
    "    # 디코더\n",
    "    dec_outputs = decoder(\n",
    "        vocab_size=vocab_size,\n",
    "        num_layers=num_layers,\n",
    "        units=units,\n",
    "        d_model=d_model,\n",
    "        num_heads=num_heads,\n",
    "        dropout=dropout,\n",
    "    )(inputs=[dec_inputs, enc_outputs, look_ahead_mask, dec_padding_mask])\n",
    "\n",
    "    # 완전연결층\n",
    "    outputs = tf.keras.layers.Dense(units=vocab_size, name=\"outputs\")(dec_outputs)\n",
    "\n",
    "    return tf.keras.Model(inputs=[inputs, dec_inputs], outputs=outputs, name=name)"
   ]
  },
  {
   "cell_type": "markdown",
   "id": "meaningful-gamma",
   "metadata": {},
   "source": [
    "#### 모델 생성\n",
    "\n",
    "`num_layers`, `d-Model`, `units`는 전부 사용자가 정할 수 있는 하이퍼파라미터값이다.\n",
    "\n",
    "논문에서 `num_layers`는 6, `d-Model`은 512였지만, 빠르고 원활한 훈련을 위해 여기서는 각 하이퍼파라미터를 논문에서보다는 작은 값을 사용한다."
   ]
  },
  {
   "cell_type": "code",
   "execution_count": 34,
   "id": "ordered-collapse",
   "metadata": {
    "ExecuteTime": {
     "end_time": "2021-03-10T16:26:16.544088Z",
     "start_time": "2021-03-10T16:26:13.556703Z"
    }
   },
   "outputs": [
    {
     "name": "stdout",
     "output_type": "stream",
     "text": [
      "Model: \"transformer\"\n",
      "__________________________________________________________________________________________________\n",
      "Layer (type)                    Output Shape         Param #     Connected to                     \n",
      "==================================================================================================\n",
      "inputs (InputLayer)             [(None, None)]       0                                            \n",
      "__________________________________________________________________________________________________\n",
      "dec_inputs (InputLayer)         [(None, None)]       0                                            \n",
      "__________________________________________________________________________________________________\n",
      "enc_padding_mask (Lambda)       (None, 1, 1, None)   0           inputs[0][0]                     \n",
      "__________________________________________________________________________________________________\n",
      "encoder (Model)                 (None, None, 256)    3148288     inputs[0][0]                     \n",
      "                                                                 enc_padding_mask[0][0]           \n",
      "__________________________________________________________________________________________________\n",
      "look_ahead_mask (Lambda)        (None, 1, None, None 0           dec_inputs[0][0]                 \n",
      "__________________________________________________________________________________________________\n",
      "dec_padding_mask (Lambda)       (None, 1, 1, None)   0           inputs[0][0]                     \n",
      "__________________________________________________________________________________________________\n",
      "decoder (Model)                 (None, None, 256)    3675648     dec_inputs[0][0]                 \n",
      "                                                                 encoder[1][0]                    \n",
      "                                                                 look_ahead_mask[0][0]            \n",
      "                                                                 dec_padding_mask[0][0]           \n",
      "__________________________________________________________________________________________________\n",
      "outputs (Dense)                 (None, None, 8180)   2102260     decoder[1][0]                    \n",
      "==================================================================================================\n",
      "Total params: 8,926,196\n",
      "Trainable params: 8,926,196\n",
      "Non-trainable params: 0\n",
      "__________________________________________________________________________________________________\n"
     ]
    }
   ],
   "source": [
    "tf.keras.backend.clear_session()\n",
    "\n",
    "# 하이퍼파라미터\n",
    "NUM_LAYERS = 2 # 인코더와 디코더의 층의 개수\n",
    "D_MODEL = 256 # 인코더와 디코더 내부의 입, 출력의 고정 차원\n",
    "NUM_HEADS = 8 # 멀티 헤드 어텐션에서의 헤드 수 \n",
    "UNITS = 512 # 피드 포워드 신경망의 은닉층의 크기\n",
    "DROPOUT = 0.1 # 드롭아웃의 비율\n",
    "\n",
    "model = transformer(\n",
    "    vocab_size=VOCAB_SIZE,\n",
    "    num_layers=NUM_LAYERS,\n",
    "    units=UNITS,\n",
    "    d_model=D_MODEL,\n",
    "    num_heads=NUM_HEADS,\n",
    "    dropout=DROPOUT)\n",
    "\n",
    "model.summary()"
   ]
  },
  {
   "cell_type": "markdown",
   "id": "overhead-document",
   "metadata": {},
   "source": [
    "#### 손실 함수(Loss function)\n",
    "\n",
    "레이블인 시퀀스에 패딩이 되어져 있으므로, loss를 계산할 때 패딩 마스크를 적용해야 한다."
   ]
  },
  {
   "cell_type": "code",
   "execution_count": 35,
   "id": "brutal-pixel",
   "metadata": {
    "ExecuteTime": {
     "end_time": "2021-03-10T16:26:16.549872Z",
     "start_time": "2021-03-10T16:26:16.545889Z"
    }
   },
   "outputs": [],
   "source": [
    "def loss_function(y_true, y_pred):\n",
    "    y_true = tf.reshape(y_true, shape=(-1, MAX_LENGTH - 1))\n",
    "  \n",
    "    loss = tf.keras.losses.SparseCategoricalCrossentropy(\n",
    "        from_logits=True, reduction='none')(y_true, y_pred)\n",
    "\n",
    "    mask = tf.cast(tf.not_equal(y_true, 0), tf.float32)\n",
    "    loss = tf.multiply(loss, mask)\n",
    "\n",
    "    return tf.reduce_mean(loss)"
   ]
  },
  {
   "cell_type": "markdown",
   "id": "boolean-curtis",
   "metadata": {
    "ExecuteTime": {
     "end_time": "2021-03-06T16:59:58.458215Z",
     "start_time": "2021-03-06T16:59:58.454215Z"
    }
   },
   "source": [
    "#### 커스텀된 학습률(Learning rate)\n",
    "\n",
    "딥러닝 모델학습 시 learning rate는 매우 중요한 하이퍼파라미터이다. 최근에는 모델학습 초기에 learning rate를 급격히 높였다가, 이후 train step이 진행됨에 따라 서서히 낮추어 가면서 안정적으로 수렴하게 하는 고급 기법을 널리 사용하고 있다. 이런 방법을 커스텀 학습률 스케줄링(Custom Learning rate Scheduling)이라고 한다.\n",
    "\n",
    "논문에 나온 공식을 참고하여 커스텀 학습률 스케줄러를 통한 아담 옵티마이저를 사용한다. 논문에 나온 공식은 다음과 같다.\n",
    "\n",
    "$$\\mathit{lrate=d_{model}^{-0.5}\\cdot min(step\\_num^{-0.5},step\\_num\\cdot warmup\\_steps^{-1.5})}$$"
   ]
  },
  {
   "cell_type": "code",
   "execution_count": 36,
   "id": "global-pennsylvania",
   "metadata": {
    "ExecuteTime": {
     "end_time": "2021-03-10T16:26:16.556099Z",
     "start_time": "2021-03-10T16:26:16.551623Z"
    }
   },
   "outputs": [],
   "source": [
    "class CustomSchedule(tf.keras.optimizers.schedules.LearningRateSchedule):\n",
    "\n",
    "    def __init__(self, d_model, warmup_steps=4000):\n",
    "        super(CustomSchedule, self).__init__()\n",
    "\n",
    "        self.d_model = d_model\n",
    "        self.d_model = tf.cast(self.d_model, tf.float32)\n",
    "\n",
    "        self.warmup_steps = warmup_steps\n",
    "\n",
    "    def __call__(self, step):\n",
    "        arg1 = tf.math.rsqrt(step)\n",
    "        arg2 = step * (self.warmup_steps**-1.5)\n",
    "\n",
    "        return tf.math.rsqrt(self.d_model) * tf.math.minimum(arg1, arg2)"
   ]
  },
  {
   "cell_type": "markdown",
   "id": "appropriate-greek",
   "metadata": {},
   "source": [
    "그러면 방금 정의한 커스텀 학습률 스케줄링 계획을 시각화해 봅시다. 위에 언급한 수식은 $\\mathit{step\\_num^{-0.5}}$에 비례하는 부분과 $\\mathit{step\\_num}$에 비례하는 부분 중 작은 쪽을 택하도록 되어 있다. 그래서 학습 초기에는 learning_rate가 $\\mathit{step\\_num}$에 비례해서 증가하다가 이후로는 감소하는 것을 확인할 수 있다."
   ]
  },
  {
   "cell_type": "code",
   "execution_count": 37,
   "id": "pleasant-midwest",
   "metadata": {
    "ExecuteTime": {
     "end_time": "2021-03-10T16:26:16.722829Z",
     "start_time": "2021-03-10T16:26:16.557548Z"
    }
   },
   "outputs": [
    {
     "data": {
      "text/plain": [
       "Text(0.5, 0, 'Train Step')"
      ]
     },
     "execution_count": 37,
     "metadata": {},
     "output_type": "execute_result"
    },
    {
     "data": {
      "image/png": "[encoded data removed]",
      "text/plain": [
       "<Figure size 432x288 with 1 Axes>"
      ]
     },
     "metadata": {
      "needs_background": "light"
     },
     "output_type": "display_data"
    }
   ],
   "source": [
    "sample_learning_rate = CustomSchedule(d_model=128)\n",
    "\n",
    "plt.plot(sample_learning_rate(tf.range(200000, dtype=tf.float32)))\n",
    "plt.ylabel(\"Learning Rate\")\n",
    "plt.xlabel(\"Train Step\")"
   ]
  },
  {
   "cell_type": "markdown",
   "id": "received-overall",
   "metadata": {},
   "source": [
    "#### 모델 컴파일\n",
    "\n",
    "손실 함수와 커스텀 된 학습률(learning rate)을 사용하여 모델을 컴파일한다."
   ]
  },
  {
   "cell_type": "code",
   "execution_count": 38,
   "id": "incomplete-microphone",
   "metadata": {
    "ExecuteTime": {
     "end_time": "2021-03-10T16:26:16.738156Z",
     "start_time": "2021-03-10T16:26:16.724009Z"
    }
   },
   "outputs": [],
   "source": [
    "learning_rate = CustomSchedule(D_MODEL)\n",
    "\n",
    "optimizer = tf.keras.optimizers.Adam(\n",
    "    learning_rate, beta_1=0.9, beta_2=0.98, epsilon=1e-9)\n",
    "\n",
    "def accuracy(y_true, y_pred):\n",
    "    y_true = tf.reshape(y_true, shape=(-1, MAX_LENGTH - 1))\n",
    "    return tf.keras.metrics.sparse_categorical_accuracy(y_true, y_pred)\n",
    "\n",
    "model.compile(optimizer=optimizer, loss=loss_function, metrics=[accuracy])"
   ]
  },
  {
   "cell_type": "markdown",
   "id": "formed-eclipse",
   "metadata": {},
   "source": [
    "#### 훈련하기\n",
    "\n",
    "총 20 에포크를 학습한다."
   ]
  },
  {
   "cell_type": "code",
   "execution_count": 39,
   "id": "amino-greek",
   "metadata": {
    "ExecuteTime": {
     "end_time": "2021-03-10T16:30:30.251857Z",
     "start_time": "2021-03-10T16:26:16.739360Z"
    }
   },
   "outputs": [
    {
     "name": "stdout",
     "output_type": "stream",
     "text": [
      "Epoch 1/20\n",
      "185/185 [==============================] - 12s 67ms/step - loss: 1.4588 - accuracy: 0.0199\n",
      "Epoch 2/20\n",
      "185/185 [==============================] - 12s 67ms/step - loss: 1.1859 - accuracy: 0.0486\n",
      "Epoch 3/20\n",
      "185/185 [==============================] - 12s 67ms/step - loss: 1.0072 - accuracy: 0.0507\n",
      "Epoch 4/20\n",
      "185/185 [==============================] - 13s 68ms/step - loss: 0.9282 - accuracy: 0.0543\n",
      "Epoch 5/20\n",
      "185/185 [==============================] - 13s 72ms/step - loss: 0.8692 - accuracy: 0.0577\n",
      "Epoch 6/20\n",
      "185/185 [==============================] - 13s 68ms/step - loss: 0.8090 - accuracy: 0.0618\n",
      "Epoch 7/20\n",
      "185/185 [==============================] - 12s 65ms/step - loss: 0.7431 - accuracy: 0.0682\n",
      "Epoch 8/20\n",
      "185/185 [==============================] - 12s 66ms/step - loss: 0.6699 - accuracy: 0.0757\n",
      "Epoch 9/20\n",
      "185/185 [==============================] - 12s 67ms/step - loss: 0.5903 - accuracy: 0.0844\n",
      "Epoch 10/20\n",
      "185/185 [==============================] - 12s 65ms/step - loss: 0.5084 - accuracy: 0.0937\n",
      "Epoch 11/20\n",
      "185/185 [==============================] - 12s 67ms/step - loss: 0.4255 - accuracy: 0.1042\n",
      "Epoch 12/20\n",
      "185/185 [==============================] - 12s 66ms/step - loss: 0.3459 - accuracy: 0.1154\n",
      "Epoch 13/20\n",
      "185/185 [==============================] - 12s 65ms/step - loss: 0.2717 - accuracy: 0.1257\n",
      "Epoch 14/20\n",
      "185/185 [==============================] - 12s 64ms/step - loss: 0.2070 - accuracy: 0.1358\n",
      "Epoch 15/20\n",
      "185/185 [==============================] - 12s 67ms/step - loss: 0.1528 - accuracy: 0.1452\n",
      "Epoch 16/20\n",
      "185/185 [==============================] - 12s 67ms/step - loss: 0.1101 - accuracy: 0.1527\n",
      "Epoch 17/20\n",
      "185/185 [==============================] - 13s 69ms/step - loss: 0.0807 - accuracy: 0.1585\n",
      "Epoch 18/20\n",
      "185/185 [==============================] - 12s 67ms/step - loss: 0.0612 - accuracy: 0.1621\n",
      "Epoch 19/20\n",
      "185/185 [==============================] - 12s 66ms/step - loss: 0.0518 - accuracy: 0.1634\n",
      "Epoch 20/20\n",
      "185/185 [==============================] - 12s 64ms/step - loss: 0.0456 - accuracy: 0.1643\n"
     ]
    },
    {
     "data": {
      "text/plain": [
       "<tensorflow.python.keras.callbacks.History at 0x7f8ec0584e50>"
      ]
     },
     "execution_count": 39,
     "metadata": {},
     "output_type": "execute_result"
    }
   ],
   "source": [
    "EPOCHS = 20\n",
    "model.fit(dataset, epochs=EPOCHS, verbose=1)"
   ]
  },
  {
   "cell_type": "markdown",
   "id": "happy-orchestra",
   "metadata": {},
   "source": [
    "### Step 5. 모델 평가하기\n",
    "---\n",
    "Step 1에서 선택한 전처리 방법을 고려하여 입력된 문장에 대해서 대답을 얻는 예측 함수를 만든다."
   ]
  },
  {
   "cell_type": "markdown",
   "id": "armed-conversion",
   "metadata": {},
   "source": [
    "#### 챗봇 테스트하기\n",
    "예측(inference) 단계는 기본적으로 다음과 같은 과정을 거친다.\n",
    "\n",
    "1. 새로운 입력 문장에 대해서는 훈련 때와 동일한 전처리를 거친다.\n",
    "2. 입력 문장을 토크나이징하고, `START_TOKEN`과 `END_TOKEN`을 추가한다.\n",
    "3. 패딩 마스킹과 룩 어헤드 마스킹을 계산한다.\n",
    "4. 디코더는 입력 시퀀스로부터 다음 단어를 예측한다.\n",
    "5. 디코더는 예측된 다음 단어를 기존의 입력 시퀀스에 추가하여 새로운 입력으로 사용한다.\n",
    "6. `END_TOKEN`이 예측되거나 문장의 최대 길이에 도달하면 디코더는 동작을 멈춘다.\n",
    "\n",
    "위의 과정을 모두 담은 `decoder_inference()` 함수를 만든다."
   ]
  },
  {
   "cell_type": "code",
   "execution_count": 40,
   "id": "descending-madison",
   "metadata": {
    "ExecuteTime": {
     "end_time": "2021-03-10T16:30:30.258185Z",
     "start_time": "2021-03-10T16:30:30.253250Z"
    }
   },
   "outputs": [],
   "source": [
    "def decoder_inference(sentence):\n",
    "    sentence = preprocess_sentence(sentence)\n",
    "\n",
    "    # 입력된 문장을 정수 인코딩 후, 시작 토큰과 종료 토큰을 앞뒤로 추가.\n",
    "    # ex) Where have you been? → [[8331   86   30    5 1059    7 8332]]\n",
    "    sentence = tf.expand_dims(\n",
    "        START_TOKEN + tokenizer.encode(sentence) + END_TOKEN, axis=0)\n",
    "\n",
    "    # 디코더의 현재까지의 예측한 출력 시퀀스가 지속적으로 저장되는 변수.\n",
    "    # 처음에는 예측한 내용이 없음으로 시작 토큰만 별도 저장. ex) 8331\n",
    "    output_sequence = tf.expand_dims(START_TOKEN, 0)\n",
    "\n",
    "    # 디코더의 인퍼런스 단계\n",
    "    for i in range(MAX_LENGTH):\n",
    "        # 디코더는 최대 MAX_LENGTH의 길이만큼 다음 단어 예측을 반복합니다.\n",
    "        predictions = model(inputs=[sentence, output_sequence], training=False)\n",
    "        predictions = predictions[:, -1:, :]\n",
    "\n",
    "        # 현재 예측한 단어의 정수\n",
    "        predicted_id = tf.cast(tf.argmax(predictions, axis=-1), tf.int32)\n",
    "    \n",
    "        # 만약 현재 예측한 단어가 종료 토큰이라면 for문을 종료\n",
    "        if tf.equal(predicted_id, END_TOKEN[0]):\n",
    "            break\n",
    "\n",
    "        # 예측한 단어들은 지속적으로 output_sequence에 추가됩니다.\n",
    "        # 이 output_sequence는 다시 디코더의 입력이 됩니다.\n",
    "        output_sequence = tf.concat([output_sequence, predicted_id], axis=-1)\n",
    "\n",
    "    return tf.squeeze(output_sequence, axis=0)"
   ]
  },
  {
   "cell_type": "markdown",
   "id": "artificial-greek",
   "metadata": {},
   "source": [
    "임의의 입력 문장에 대해서 `decoder_inference()` 함수를 호출하여 챗봇의 대답을 얻는 `sentence_generation()` 함수를 만든다."
   ]
  },
  {
   "cell_type": "code",
   "execution_count": 41,
   "id": "super-pricing",
   "metadata": {
    "ExecuteTime": {
     "end_time": "2021-03-10T16:30:30.269332Z",
     "start_time": "2021-03-10T16:30:30.259453Z"
    }
   },
   "outputs": [],
   "source": [
    "def sentence_generation(sentence):\n",
    "    # 입력 문장에 대해서 디코더를 동작 시켜 예측된 정수 시퀀스를 리턴받습니다.\n",
    "    prediction = decoder_inference(sentence)\n",
    "\n",
    "    # 정수 시퀀스를 다시 텍스트 시퀀스로 변환합니다.\n",
    "    predicted_sentence = tokenizer.decode(\n",
    "        [i for i in prediction if i < tokenizer.vocab_size])\n",
    "\n",
    "    print('입력 : {}'.format(sentence))\n",
    "    print('출력 : {}'.format(predicted_sentence))\n",
    "\n",
    "    return predicted_sentence"
   ]
  },
  {
   "cell_type": "markdown",
   "id": "basic-reviewer",
   "metadata": {},
   "source": [
    "임의의 문장으로부터 챗봇의 대답을 얻어보자."
   ]
  },
  {
   "cell_type": "code",
   "execution_count": 42,
   "id": "complicated-quilt",
   "metadata": {
    "ExecuteTime": {
     "end_time": "2021-03-10T16:30:31.210467Z",
     "start_time": "2021-03-10T16:30:30.270536Z"
    }
   },
   "outputs": [
    {
     "name": "stdout",
     "output_type": "stream",
     "text": [
      "입력 : 책읽자\n",
      "출력 : 눈꺼풀의 무게를 이겨내세요 .\n"
     ]
    },
    {
     "data": {
      "text/plain": [
       "'눈꺼풀의 무게를 이겨내세요 .'"
      ]
     },
     "execution_count": 42,
     "metadata": {},
     "output_type": "execute_result"
    }
   ],
   "source": [
    "sentence_generation('책읽자')"
   ]
  },
  {
   "cell_type": "code",
   "execution_count": 43,
   "id": "familiar-spouse",
   "metadata": {
    "ExecuteTime": {
     "end_time": "2021-03-10T16:30:31.469769Z",
     "start_time": "2021-03-10T16:30:31.211699Z"
    }
   },
   "outputs": [
    {
     "name": "stdout",
     "output_type": "stream",
     "text": [
      "입력 : 배고파\n",
      "출력 : 맛난 거 드세요 .\n"
     ]
    },
    {
     "data": {
      "text/plain": [
       "'맛난 거 드세요 .'"
      ]
     },
     "execution_count": 43,
     "metadata": {},
     "output_type": "execute_result"
    }
   ],
   "source": [
    "sentence_generation(\"배고파\")"
   ]
  },
  {
   "cell_type": "code",
   "execution_count": 44,
   "id": "vulnerable-zambia",
   "metadata": {
    "ExecuteTime": {
     "end_time": "2021-03-10T16:30:31.658676Z",
     "start_time": "2021-03-10T16:30:31.471077Z"
    }
   },
   "outputs": [
    {
     "name": "stdout",
     "output_type": "stream",
     "text": [
      "입력 : 사랑해\n",
      "출력 : 상대방에게 전해보세요 .\n"
     ]
    },
    {
     "data": {
      "text/plain": [
       "'상대방에게 전해보세요 .'"
      ]
     },
     "execution_count": 44,
     "metadata": {},
     "output_type": "execute_result"
    }
   ],
   "source": [
    "sentence_generation(\"사랑해\")"
   ]
  },
  {
   "cell_type": "code",
   "execution_count": 45,
   "id": "personal-oxygen",
   "metadata": {
    "ExecuteTime": {
     "end_time": "2021-03-10T16:30:31.919073Z",
     "start_time": "2021-03-10T16:30:31.660157Z"
    }
   },
   "outputs": [
    {
     "name": "stdout",
     "output_type": "stream",
     "text": [
      "입력 : 이별했어요\n",
      "출력 : 힘든 결정이었겠어요 .\n"
     ]
    },
    {
     "data": {
      "text/plain": [
       "'힘든 결정이었겠어요 .'"
      ]
     },
     "execution_count": 45,
     "metadata": {},
     "output_type": "execute_result"
    }
   ],
   "source": [
    "sentence_generation(\"이별했어요\")"
   ]
  },
  {
   "cell_type": "code",
   "execution_count": 46,
   "id": "southeast-howard",
   "metadata": {
    "ExecuteTime": {
     "end_time": "2021-03-10T16:30:32.059465Z",
     "start_time": "2021-03-10T16:30:31.920342Z"
    }
   },
   "outputs": [
    {
     "name": "stdout",
     "output_type": "stream",
     "text": [
      "입력 : 안녕하세요\n",
      "출력 : 안녕하세요 .\n"
     ]
    },
    {
     "data": {
      "text/plain": [
       "'안녕하세요 .'"
      ]
     },
     "execution_count": 46,
     "metadata": {},
     "output_type": "execute_result"
    }
   ],
   "source": [
    "sentence_generation(\"안녕하세요\")"
   ]
  },
  {
   "cell_type": "code",
   "execution_count": 53,
   "id": "proof-march",
   "metadata": {
    "ExecuteTime": {
     "end_time": "2021-03-10T17:16:53.336327Z",
     "start_time": "2021-03-10T17:16:46.081625Z"
    }
   },
   "outputs": [
    {
     "name": "stdout",
     "output_type": "stream",
     "text": [
      "이름이 뭐야?\n",
      "입력 : 이름이 뭐야?\n",
      "출력 : 위로봇이요 .\n"
     ]
    },
    {
     "data": {
      "text/plain": [
       "'위로봇이요 .'"
      ]
     },
     "execution_count": 53,
     "metadata": {},
     "output_type": "execute_result"
    }
   ],
   "source": [
    "sentence_generation(input())"
   ]
  },
  {
   "cell_type": "code",
   "execution_count": 54,
   "id": "outstanding-mortgage",
   "metadata": {
    "ExecuteTime": {
     "end_time": "2021-03-10T17:17:23.891941Z",
     "start_time": "2021-03-10T17:17:02.812306Z"
    }
   },
   "outputs": [
    {
     "name": "stdout",
     "output_type": "stream",
     "text": [
      "사랑니 뺐어\n",
      "입력 : 사랑니 뺐어\n",
      "출력 : 아프겠어요 .\n"
     ]
    },
    {
     "data": {
      "text/plain": [
       "'아프겠어요 .'"
      ]
     },
     "execution_count": 54,
     "metadata": {},
     "output_type": "execute_result"
    }
   ],
   "source": [
    "sentence_generation(input())"
   ]
  },
  {
   "cell_type": "code",
   "execution_count": 61,
   "id": "cross-september",
   "metadata": {
    "ExecuteTime": {
     "end_time": "2021-03-10T17:21:02.744891Z",
     "start_time": "2021-03-10T17:20:56.012820Z"
    }
   },
   "outputs": [
    {
     "name": "stdout",
     "output_type": "stream",
     "text": [
      "어떤 주식 살까?\n",
      "입력 : 어떤 주식 살까?\n",
      "출력 : 내가 어떻게 생각하는지가 중요해요 .\n"
     ]
    },
    {
     "data": {
      "text/plain": [
       "'내가 어떻게 생각하는지가 중요해요 .'"
      ]
     },
     "execution_count": 61,
     "metadata": {},
     "output_type": "execute_result"
    }
   ],
   "source": [
    "sentence_generation(input())"
   ]
  },
  {
   "cell_type": "code",
   "execution_count": 63,
   "id": "headed-johnston",
   "metadata": {
    "ExecuteTime": {
     "end_time": "2021-03-10T17:21:28.890998Z",
     "start_time": "2021-03-10T17:21:27.365308Z"
    }
   },
   "outputs": [
    {
     "name": "stdout",
     "output_type": "stream",
     "text": [
      "sentence_generation(input())\n",
      "입력 : sentence_generation(input())\n",
      "출력 : 상대에 대한 예의가 없네요 .  자신을 돌보길 바랄게요 .\n"
     ]
    },
    {
     "data": {
      "text/plain": [
       "'상대에 대한 예의가 없네요 .  자신을 돌보길 바랄게요 .'"
      ]
     },
     "execution_count": 63,
     "metadata": {},
     "output_type": "execute_result"
    }
   ],
   "source": [
    "sentence_generation(input())"
   ]
  },
  {
   "cell_type": "markdown",
   "id": "joint-emission",
   "metadata": {},
   "source": [
    "오~ㅋㅋㅋㅋ 실수로 코드를 넣었는데 흥미로운 결과가 나왔다."
   ]
  },
  {
   "cell_type": "code",
   "execution_count": 66,
   "id": "growing-affiliate",
   "metadata": {
    "ExecuteTime": {
     "end_time": "2021-03-10T17:23:51.757248Z",
     "start_time": "2021-03-10T17:23:45.898675Z"
    }
   },
   "outputs": [
    {
     "name": "stdout",
     "output_type": "stream",
     "text": [
      "너 결혼했니?\n",
      "입력 : 너 결혼했니?\n",
      "출력 : 저는 있어요 .\n"
     ]
    },
    {
     "data": {
      "text/plain": [
       "'저는 있어요 .'"
      ]
     },
     "execution_count": 66,
     "metadata": {},
     "output_type": "execute_result"
    }
   ],
   "source": [
    "sentence_generation(input())"
   ]
  },
  {
   "cell_type": "markdown",
   "id": "protected-connection",
   "metadata": {},
   "source": [
    "결혼까지 했구나ㅋㅋㅋ"
   ]
  },
  {
   "cell_type": "markdown",
   "id": "stuffed-marathon",
   "metadata": {},
   "source": [
    "### 회고\n",
    "---\n",
    "* 개념이 다양하여 완벽하게 이해는 못했지만 대략적으로 어떻게 구성되는지 알게되었다.\n",
    "* 확실히 자연어 분야가 결과물 보는 재미가 더 있는 것 같다ㅋㅋㅋ\n",
    "* 영어 데이터 셋과 한국어 데이터 셋이 달라서 파일 불러오는 것부터 헤멧지만 구글링을 통해서 잘 해결하였다.\n",
    "* 한국어 데이터 셋에 맞게 전처리를 진행하는 과정에서 함수를 사용하지 않고 `for`문을 사용했다.\n",
    "* 그 이후에 전처리 함수를 사용하는 부분이 있기 때문에 함수 정의는 해놓았다.\n",
    "* 꽤 좋은 퀄리티의 답변들이 나온것 같아 뿌듯하다."
   ]
  },
  {
   "cell_type": "markdown",
   "id": "spectacular-chassis",
   "metadata": {},
   "source": [
    "### 루브릭\n",
    "---\n",
    "* 한국어 전처리를 통해 학습 데이터셋을 구축하였다.<br>\n",
    "(_공백과 특수문자 처리, 토크나이징, 병렬데이터 구축의 과정이 적절히 진행되었다._)\n",
    "\n",
    "    * __공백과 특수문자 처리, 토크나이징, 병렬데이터 구축의 과정이 한국어 데이터셋에 맞게 적절히 진행되었다.__\n",
    "\n",
    "* 트랜스포머 모델을 구현하여 한국어 챗봇 모델 학습을 정상적으로 진행하였다.<br>\n",
    "( _구현한 트랜스포머 모델이 한국어 병렬 데이터 학습 시 안정적으로 수렴하였다._)\n",
    "    \n",
    "    * __모델 학습이 진행될수록 loss 값은 줄어들고, accuracy 값은 상승하였다.__\n",
    "\n",
    "* 한국어 입력문장에 대해 한국어로 답변하는 함수를 구현하였다.<br>\n",
    "(_한국어 입력문장에 그럴듯한 한국어로 답변을 리턴하였다._)\n",
    "    \n",
    "    * __그럴듯한 한국어 문장으로 답변하였다.__"
   ]
  }
 ],
 "metadata": {
  "kernelspec": {
   "display_name": "aiffel",
   "language": "python",
   "name": "aiffel"
  },
  "language_info": {
   "codemirror_mode": {
    "name": "ipython",
    "version": 3
   },
   "file_extension": ".py",
   "mimetype": "text/x-python",
   "name": "python",
   "nbconvert_exporter": "python",
   "pygments_lexer": "ipython3",
   "version": "3.7.9"
  },
  "toc": {
   "base_numbering": 1,
   "nav_menu": {},
   "number_sections": true,
   "sideBar": true,
   "skip_h1_title": false,
   "title_cell": "Table of Contents",
   "title_sidebar": "Contents",
   "toc_cell": false,
   "toc_position": {},
   "toc_section_display": true,
   "toc_window_display": true
  },
  "varInspector": {
   "cols": {
    "lenName": 16,
    "lenType": 16,
    "lenVar": 40
   },
   "kernels_config": {
    "python": {
     "delete_cmd_postfix": "",
     "delete_cmd_prefix": "del ",
     "library": "var_list.py",
     "varRefreshCmd": "print(var_dic_list())"
    },
    "r": {
     "delete_cmd_postfix": ") ",
     "delete_cmd_prefix": "rm(",
     "library": "var_list.r",
     "varRefreshCmd": "cat(var_dic_list()) "
    }
   },
   "types_to_exclude": [
    "module",
    "function",
    "builtin_function_or_method",
    "instance",
    "_Feature"
   ],
   "window_display": false
  }
 },
 "nbformat": 4,
 "nbformat_minor": 5
}
