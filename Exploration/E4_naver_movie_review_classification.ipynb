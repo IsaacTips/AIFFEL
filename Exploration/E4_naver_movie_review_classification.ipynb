{
 "cells": [
  {
   "cell_type": "markdown",
   "id": "adequate-rescue",
   "metadata": {},
   "source": [
    "# 네이버 영화리뷰 감성분석 도전하기\n",
    "## 1) 데이터 준비와 확인"
   ]
  },
  {
   "cell_type": "code",
   "execution_count": 1,
   "id": "early-mexico",
   "metadata": {},
   "outputs": [
    {
     "data": {
      "text/html": [
       "<div>\n",
       "<style scoped>\n",
       "    .dataframe tbody tr th:only-of-type {\n",
       "        vertical-align: middle;\n",
       "    }\n",
       "\n",
       "    .dataframe tbody tr th {\n",
       "        vertical-align: top;\n",
       "    }\n",
       "\n",
       "    .dataframe thead th {\n",
       "        text-align: right;\n",
       "    }\n",
       "</style>\n",
       "<table border=\"1\" class=\"dataframe\">\n",
       "  <thead>\n",
       "    <tr style=\"text-align: right;\">\n",
       "      <th></th>\n",
       "      <th>id</th>\n",
       "      <th>document</th>\n",
       "      <th>label</th>\n",
       "    </tr>\n",
       "  </thead>\n",
       "  <tbody>\n",
       "    <tr>\n",
       "      <th>0</th>\n",
       "      <td>9976970</td>\n",
       "      <td>아 더빙.. 진짜 짜증나네요 목소리</td>\n",
       "      <td>0</td>\n",
       "    </tr>\n",
       "    <tr>\n",
       "      <th>1</th>\n",
       "      <td>3819312</td>\n",
       "      <td>흠...포스터보고 초딩영화줄....오버연기조차 가볍지 않구나</td>\n",
       "      <td>1</td>\n",
       "    </tr>\n",
       "    <tr>\n",
       "      <th>2</th>\n",
       "      <td>10265843</td>\n",
       "      <td>너무재밓었다그래서보는것을추천한다</td>\n",
       "      <td>0</td>\n",
       "    </tr>\n",
       "    <tr>\n",
       "      <th>3</th>\n",
       "      <td>9045019</td>\n",
       "      <td>교도소 이야기구먼 ..솔직히 재미는 없다..평점 조정</td>\n",
       "      <td>0</td>\n",
       "    </tr>\n",
       "    <tr>\n",
       "      <th>4</th>\n",
       "      <td>6483659</td>\n",
       "      <td>사이몬페그의 익살스런 연기가 돋보였던 영화!스파이더맨에서 늙어보이기만 했던 커스틴 ...</td>\n",
       "      <td>1</td>\n",
       "    </tr>\n",
       "  </tbody>\n",
       "</table>\n",
       "</div>"
      ],
      "text/plain": [
       "         id                                           document  label\n",
       "0   9976970                                아 더빙.. 진짜 짜증나네요 목소리      0\n",
       "1   3819312                  흠...포스터보고 초딩영화줄....오버연기조차 가볍지 않구나      1\n",
       "2  10265843                                  너무재밓었다그래서보는것을추천한다      0\n",
       "3   9045019                      교도소 이야기구먼 ..솔직히 재미는 없다..평점 조정      0\n",
       "4   6483659  사이몬페그의 익살스런 연기가 돋보였던 영화!스파이더맨에서 늙어보이기만 했던 커스틴 ...      1"
      ]
     },
     "execution_count": 1,
     "metadata": {},
     "output_type": "execute_result"
    }
   ],
   "source": [
    "import pandas as pd\n",
    "import urllib.request\n",
    "%matplotlib inline\n",
    "import matplotlib.pyplot as plt\n",
    "import re\n",
    "from konlpy.tag import Okt\n",
    "from tensorflow import keras\n",
    "from tensorflow.keras.preprocessing.text import Tokenizer\n",
    "import numpy as np\n",
    "from tensorflow.keras.preprocessing.sequence import pad_sequences\n",
    "from collections import Counter\n",
    "\n",
    "# 데이터를 읽어봅시다. \n",
    "train_data = pd.read_table('~/AIFFEL/Exploration/E4_sentiment_classification/ratings_train.txt')\n",
    "test_data = pd.read_table('~/AIFFEL/Exploration/E4_sentiment_classification/ratings_test.txt')\n",
    "\n",
    "train_data.head()"
   ]
  },
  {
   "cell_type": "markdown",
   "id": "million-residence",
   "metadata": {},
   "source": [
    "## 2) 데이터로더 구성\n",
    "----------------------------\n",
    "__`data_loader` 안에서는 다음을 수행해야 한다.__\n",
    "* 데이터의 중복 제거\n",
    "* NaN 결측치 제거\n",
    "* 한국어 토크나이저로 토큰화\n",
    "* 불용어(Stopwords) 제거\n",
    "* 사전word_to_index 구성\n",
    "* 텍스트 스트링을 사전 인덱스 스트링으로 변환\n",
    "* X_train, y_train, X_test, y_test, word_to_index 리턴"
   ]
  },
  {
   "cell_type": "code",
   "execution_count": 2,
   "id": "attractive-michigan",
   "metadata": {},
   "outputs": [],
   "source": [
    "from konlpy.tag import Mecab\n",
    "tokenizer = Mecab()\n",
    "stopwords = ['의','가','이','은','들','는','좀','잘','걍','과','도','를','으로','자','에','와','한','하다']\n",
    "\n",
    "def load_data(train_data, test_data, num_words=10000):\n",
    "    train_data.drop_duplicates(subset=['document'], inplace=True)\n",
    "    train_data = train_data.dropna(how = 'any') \n",
    "    test_data.drop_duplicates(subset=['document'], inplace=True)\n",
    "    test_data = test_data.dropna(how = 'any') \n",
    "\n",
    "    x_train = []\n",
    "    for sentence in train_data['document']:\n",
    "        temp_x = tokenizer.morphs(sentence) # 토큰화\n",
    "        temp_x = [word for word in temp_x if not word in stopwords] # 불용어 제거\n",
    "        x_train.append(temp_x)\n",
    "\n",
    "    x_test = []\n",
    "    for sentence in test_data['document']:\n",
    "        temp_x = tokenizer.morphs(sentence) # 토큰화\n",
    "        temp_x = [word for word in temp_x if not word in stopwords] # 불용어 제거\n",
    "        x_test.append(temp_x)\n",
    "\n",
    "    words = np.concatenate(x_train).tolist()\n",
    "    counter = Counter(words)\n",
    "    counter = counter.most_common(10000-4)\n",
    "    vocab = ['<PAD>', '<BOS>', '<UNK>', '<UNUSED>'] + [key for key, _ in counter]\n",
    "    word_to_index = {word:index for index, word in enumerate(vocab)}\n",
    "\n",
    "    def wordlist_to_indexlist(wordlist):\n",
    "        return [word_to_index[word] if word in word_to_index else word_to_index['<UNK>'] for word in wordlist]\n",
    "\n",
    "    x_train = list(map(wordlist_to_indexlist, x_train))\n",
    "    x_test = list(map(wordlist_to_indexlist, x_test))\n",
    "\n",
    "    return x_train, np.array(list(train_data['label'])), x_test, np.array(list(test_data['label'])), word_to_index\n",
    "\n",
    "x_train, y_train, x_test, y_test, word_to_index = load_data(train_data, test_data) "
   ]
  },
  {
   "cell_type": "code",
   "execution_count": 3,
   "id": "opened-letters",
   "metadata": {},
   "outputs": [],
   "source": [
    "index_to_word = {index:word for word, index in word_to_index.items()}"
   ]
  },
  {
   "cell_type": "markdown",
   "id": "balanced-georgia",
   "metadata": {},
   "source": [
    "## 3) 모델구성을 위한 데이터 분석 및 가공\n",
    "-----------------------\n",
    "* 데이터셋 내 문장 길이 분포\n",
    "* 적절한 최대 문장 길이 지정\n",
    "* keras.preprocessing.sequence.pad_sequences 을 활용한 패딩 추가"
   ]
  },
  {
   "cell_type": "code",
   "execution_count": 4,
   "id": "plastic-edition",
   "metadata": {},
   "outputs": [
    {
     "name": "stdout",
     "output_type": "stream",
     "text": [
      "문장길이 평균 :  15.96940191154864\n",
      "문장길이 최대 :  116\n",
      "문장길이 표준편차 :  12.843571191092\n",
      "pad_sequences maxlen :  54\n",
      "전체 문장의 97.20946661956906%가 maxlen 설정값 이내에 포함됩니다. \n"
     ]
    }
   ],
   "source": [
    "total_data_text = list(x_train) + list(x_test)\n",
    "# 텍스트데이터 문장길이의 리스트를 생성한 후\n",
    "num_tokens = [len(tokens) for tokens in total_data_text]\n",
    "num_tokens = np.array(num_tokens)\n",
    "# 문장길이의 평균값, 최대값, 표준편차를 계산해 본다. \n",
    "print('문장길이 평균 : ', np.mean(num_tokens))\n",
    "print('문장길이 최대 : ', np.max(num_tokens))\n",
    "print('문장길이 표준편차 : ', np.std(num_tokens))\n",
    "\n",
    "# 예를들어, 최대 길이를 (평균 + 3*표준편차)로 한다면,  \n",
    "max_tokens = np.mean(num_tokens) + 3 * np.std(num_tokens)\n",
    "maxlen = int(max_tokens)\n",
    "print('pad_sequences maxlen : ', maxlen)\n",
    "print('전체 문장의 {}%가 maxlen 설정값 이내에 포함됩니다. '.format(np.sum(num_tokens < max_tokens)*100 / len(num_tokens)))"
   ]
  },
  {
   "cell_type": "markdown",
   "id": "naval-premises",
   "metadata": {},
   "source": [
    "RNN을 사용할 것이기 때문에 pre로 정했다."
   ]
  },
  {
   "cell_type": "code",
   "execution_count": 5,
   "id": "alpine-minutes",
   "metadata": {},
   "outputs": [
    {
     "name": "stdout",
     "output_type": "stream",
     "text": [
      "(146182, 54)\n"
     ]
    }
   ],
   "source": [
    "x_train = keras.preprocessing.sequence.pad_sequences(x_train,\n",
    "                                                        value=word_to_index[\"<PAD>\"],\n",
    "                                                        padding='pre', # 혹은 'pre'\n",
    "                                                        maxlen=maxlen)\n",
    "\n",
    "x_test = keras.preprocessing.sequence.pad_sequences(x_test,\n",
    "                                                       value=word_to_index[\"<PAD>\"],\n",
    "                                                       padding='pre', # 혹은 'pre'\n",
    "                                                       maxlen=maxlen)\n",
    "\n",
    "print(x_train.shape)"
   ]
  },
  {
   "cell_type": "markdown",
   "id": "greenhouse-utilization",
   "metadata": {},
   "source": [
    "## 4) 모델구성 및 validation set 구성\n",
    "-----------------------\n",
    "모델은 3가지 이상 다양하게 구성하여 실험해 보세요."
   ]
  },
  {
   "cell_type": "markdown",
   "id": "comparable-newark",
   "metadata": {},
   "source": [
    "### LSTM 모델"
   ]
  },
  {
   "cell_type": "code",
   "execution_count": 6,
   "id": "blank-opera",
   "metadata": {},
   "outputs": [
    {
     "name": "stdout",
     "output_type": "stream",
     "text": [
      "Model: \"sequential\"\n",
      "_________________________________________________________________\n",
      "Layer (type)                 Output Shape              Param #   \n",
      "=================================================================\n",
      "embedding (Embedding)        (None, None, 16)          160000    \n",
      "_________________________________________________________________\n",
      "lstm (LSTM)                  (None, 128)               74240     \n",
      "_________________________________________________________________\n",
      "dense (Dense)                (None, 128)               16512     \n",
      "_________________________________________________________________\n",
      "dense_1 (Dense)              (None, 1)                 129       \n",
      "=================================================================\n",
      "Total params: 250,881\n",
      "Trainable params: 250,881\n",
      "Non-trainable params: 0\n",
      "_________________________________________________________________\n"
     ]
    }
   ],
   "source": [
    "vocab_size = 10000    # 어휘 사전의 크기입니다(10,000개의 단어)\n",
    "word_vector_dim = 16  # 워드 벡터의 차원수 (변경가능한 하이퍼파라미터)\n",
    "\n",
    "# model 설계 - 딥러닝 모델 코드를 직접 작성해 주세요.\n",
    "model_LSTM = keras.Sequential()\n",
    "model_LSTM.add(keras.layers.Embedding(vocab_size, word_vector_dim, input_shape=(None,)))\n",
    "model_LSTM.add(keras.layers.LSTM(128))   # 가장 널리 쓰이는 RNN인 LSTM 레이어를 사용하였습니다. 이때 LSTM state 벡터의 차원수는 8로 하였습니다. (변경가능)\n",
    "model_LSTM.add(keras.layers.Dense(128, activation='relu'))\n",
    "model_LSTM.add(keras.layers.Dense(1, activation='sigmoid'))  # 최종 출력은 긍정/부정을 나타내는 1dim 입니다.\n",
    "\n",
    "model_LSTM.summary()"
   ]
  },
  {
   "cell_type": "markdown",
   "id": "silent-deployment",
   "metadata": {},
   "source": [
    "### CNN 모델"
   ]
  },
  {
   "cell_type": "code",
   "execution_count": 7,
   "id": "willing-defense",
   "metadata": {},
   "outputs": [
    {
     "name": "stdout",
     "output_type": "stream",
     "text": [
      "Model: \"sequential_1\"\n",
      "_________________________________________________________________\n",
      "Layer (type)                 Output Shape              Param #   \n",
      "=================================================================\n",
      "embedding_1 (Embedding)      (None, None, 16)          160000    \n",
      "_________________________________________________________________\n",
      "conv1d (Conv1D)              (None, None, 16)          1808      \n",
      "_________________________________________________________________\n",
      "max_pooling1d (MaxPooling1D) (None, None, 16)          0         \n",
      "_________________________________________________________________\n",
      "conv1d_1 (Conv1D)            (None, None, 16)          1808      \n",
      "_________________________________________________________________\n",
      "global_max_pooling1d (Global (None, 16)                0         \n",
      "_________________________________________________________________\n",
      "dense_2 (Dense)              (None, 128)               2176      \n",
      "_________________________________________________________________\n",
      "dense_3 (Dense)              (None, 1)                 129       \n",
      "=================================================================\n",
      "Total params: 165,921\n",
      "Trainable params: 165,921\n",
      "Non-trainable params: 0\n",
      "_________________________________________________________________\n"
     ]
    }
   ],
   "source": [
    "vocab_size = 10000    # 어휘 사전의 크기입니다(10,000개의 단어)\n",
    "word_vector_dim = 16\n",
    "\n",
    "model_Conv1D = keras.Sequential()\n",
    "model_Conv1D.add(keras.layers.Embedding(vocab_size, word_vector_dim, input_shape=(None,)))\n",
    "model_Conv1D.add(keras.layers.Conv1D(16, 7, activation='relu'))\n",
    "model_Conv1D.add(keras.layers.MaxPooling1D(5))\n",
    "model_Conv1D.add(keras.layers.Conv1D(16, 7, activation='relu'))\n",
    "model_Conv1D.add(keras.layers.GlobalMaxPooling1D())\n",
    "model_Conv1D.add(keras.layers.Dense(128, activation='relu'))\n",
    "model_Conv1D.add(keras.layers.Dense(1, activation='sigmoid'))  # 최종 출력은 긍정/부정을 나타내는 1dim 입니다.\n",
    "\n",
    "model_Conv1D.summary()"
   ]
  },
  {
   "cell_type": "markdown",
   "id": "massive-gateway",
   "metadata": {},
   "source": [
    "## GlobalMaxPooling1D() 하나만 사용한 모델\n",
    "__이 방식은 전체 문장 중에서 단 하나의 가장 중요한 단어만 피처로 추출하여 그것으로 문장의 긍정/부정을 평가하는 방식이라고 생각할 수 있는데, 의외로 성능이 잘 나올 수도 있다.__"
   ]
  },
  {
   "cell_type": "code",
   "execution_count": 8,
   "id": "dried-booth",
   "metadata": {},
   "outputs": [
    {
     "name": "stdout",
     "output_type": "stream",
     "text": [
      "Model: \"sequential_2\"\n",
      "_________________________________________________________________\n",
      "Layer (type)                 Output Shape              Param #   \n",
      "=================================================================\n",
      "embedding_2 (Embedding)      (None, None, 16)          160000    \n",
      "_________________________________________________________________\n",
      "global_max_pooling1d_1 (Glob (None, 16)                0         \n",
      "_________________________________________________________________\n",
      "dense_4 (Dense)              (None, 128)               2176      \n",
      "_________________________________________________________________\n",
      "dense_5 (Dense)              (None, 1)                 129       \n",
      "=================================================================\n",
      "Total params: 162,305\n",
      "Trainable params: 162,305\n",
      "Non-trainable params: 0\n",
      "_________________________________________________________________\n"
     ]
    }
   ],
   "source": [
    "vocab_size = 10000    # 어휘 사전의 크기입니다(10,000개의 단어)\n",
    "word_vector_dim = 16\n",
    "\n",
    "model_GMP1D = keras.Sequential()\n",
    "model_GMP1D.add(keras.layers.Embedding(vocab_size, word_vector_dim, input_shape=(None,)))\n",
    "model_GMP1D.add(keras.layers.GlobalMaxPooling1D())\n",
    "model_GMP1D.add(keras.layers.Dense(128, activation='relu'))\n",
    "model_GMP1D.add(keras.layers.Dense(1, activation='sigmoid'))  # 최종 출력은 긍정/부정을 나타내는 1dim 입니다.\n",
    "\n",
    "model_GMP1D.summary()"
   ]
  },
  {
   "cell_type": "markdown",
   "id": "motivated-commons",
   "metadata": {},
   "source": [
    "validation set 구성하기"
   ]
  },
  {
   "cell_type": "code",
   "execution_count": 9,
   "id": "postal-buyer",
   "metadata": {},
   "outputs": [
    {
     "name": "stdout",
     "output_type": "stream",
     "text": [
      "(136182, 54)\n",
      "(136182,)\n"
     ]
    }
   ],
   "source": [
    "# validation set 10000건 분리\n",
    "x_val = x_train[:10000]   \n",
    "y_val = y_train[:10000]\n",
    "\n",
    "# validation set을 제외한 나머지 136182건\n",
    "partial_x_train = x_train[10000:]  \n",
    "partial_y_train = y_train[10000:]\n",
    "\n",
    "print(partial_x_train.shape)\n",
    "print(partial_y_train.shape)"
   ]
  },
  {
   "cell_type": "markdown",
   "id": "nasty-tiffany",
   "metadata": {},
   "source": [
    "## 5) 모델 훈련 개시\n",
    "----------------------------------\n",
    "### LSTM 모델 훈련 시작!"
   ]
  },
  {
   "cell_type": "code",
   "execution_count": 10,
   "id": "german-submission",
   "metadata": {
    "scrolled": true
   },
   "outputs": [
    {
     "name": "stdout",
     "output_type": "stream",
     "text": [
      "Epoch 1/5\n",
      "266/266 [==============================] - 3s 11ms/step - loss: 0.4260 - accuracy: 0.7968 - val_loss: 0.3495 - val_accuracy: 0.8491\n",
      "Epoch 2/5\n",
      "266/266 [==============================] - 3s 10ms/step - loss: 0.3320 - accuracy: 0.8588 - val_loss: 0.3392 - val_accuracy: 0.8530\n",
      "Epoch 3/5\n",
      "266/266 [==============================] - 3s 10ms/step - loss: 0.3136 - accuracy: 0.8685 - val_loss: 0.3380 - val_accuracy: 0.8504\n",
      "Epoch 4/5\n",
      "266/266 [==============================] - 3s 10ms/step - loss: 0.2979 - accuracy: 0.8756 - val_loss: 0.3311 - val_accuracy: 0.8571\n",
      "Epoch 5/5\n",
      "266/266 [==============================] - 3s 10ms/step - loss: 0.2763 - accuracy: 0.8836 - val_loss: 0.3309 - val_accuracy: 0.8605\n",
      "1537/1537 - 3s - loss: 0.3420 - accuracy: 0.8539\n",
      "[0.34197762608528137, 0.8539170622825623]\n"
     ]
    }
   ],
   "source": [
    "model_LSTM.compile(optimizer='adam',\n",
    "              loss='binary_crossentropy',\n",
    "              metrics=['accuracy'])\n",
    "              \n",
    "epochs=5  # 몇 epoch를 훈련하면 좋을지 결과를 보면서 바꾸어 봅시다. \n",
    "\n",
    "history_LSTM = model_LSTM.fit(partial_x_train,\n",
    "                    partial_y_train,\n",
    "                    epochs=epochs,\n",
    "                    batch_size=512,\n",
    "                    validation_data=(x_val, y_val),\n",
    "                    verbose=1)\n",
    "\n",
    "results = model_LSTM.evaluate(x_test,  y_test, verbose=2)\n",
    "\n",
    "print(results)"
   ]
  },
  {
   "cell_type": "markdown",
   "id": "super-tooth",
   "metadata": {},
   "source": [
    "### CNN 모델 학습 시작!"
   ]
  },
  {
   "cell_type": "code",
   "execution_count": 11,
   "id": "fresh-petersburg",
   "metadata": {
    "scrolled": true
   },
   "outputs": [
    {
     "name": "stdout",
     "output_type": "stream",
     "text": [
      "Epoch 1/5\n",
      "266/266 [==============================] - 7s 25ms/step - loss: 0.5187 - accuracy: 0.7237 - val_loss: 0.4300 - val_accuracy: 0.7961\n",
      "Epoch 2/5\n",
      "266/266 [==============================] - 1s 5ms/step - loss: 0.3950 - accuracy: 0.8133 - val_loss: 0.4199 - val_accuracy: 0.7965\n",
      "Epoch 3/5\n",
      "266/266 [==============================] - 1s 5ms/step - loss: 0.3574 - accuracy: 0.8342 - val_loss: 0.4217 - val_accuracy: 0.7930\n",
      "Epoch 4/5\n",
      "266/266 [==============================] - 1s 4ms/step - loss: 0.3194 - accuracy: 0.8542 - val_loss: 0.4334 - val_accuracy: 0.7995\n",
      "Epoch 5/5\n",
      "266/266 [==============================] - 1s 5ms/step - loss: 0.2794 - accuracy: 0.8748 - val_loss: 0.4677 - val_accuracy: 0.7878\n",
      "1537/1537 - 3s - loss: 0.4781 - accuracy: 0.7859\n",
      "[0.478115439414978, 0.7858901023864746]\n"
     ]
    }
   ],
   "source": [
    "model_Conv1D.compile(optimizer='adam',\n",
    "              loss='binary_crossentropy',\n",
    "              metrics=['accuracy'])\n",
    "              \n",
    "epochs=5  # 몇 epoch를 훈련하면 좋을지 결과를 보면서 바꾸어 봅시다. \n",
    "\n",
    "history_Conv1D = model_Conv1D.fit(partial_x_train,\n",
    "                    partial_y_train,\n",
    "                    epochs=epochs,\n",
    "                    batch_size=512,\n",
    "                    validation_data=(x_val, y_val),\n",
    "                    verbose=1)\n",
    "\n",
    "results = model_Conv1D.evaluate(x_test,  y_test, verbose=2)\n",
    "\n",
    "print(results)"
   ]
  },
  {
   "cell_type": "markdown",
   "id": "conditional-fifteen",
   "metadata": {},
   "source": [
    "### GlobalMaxPooling1D() 모델 학습 시작!"
   ]
  },
  {
   "cell_type": "code",
   "execution_count": 12,
   "id": "cordless-kennedy",
   "metadata": {},
   "outputs": [
    {
     "name": "stdout",
     "output_type": "stream",
     "text": [
      "Epoch 1/5\n",
      "266/266 [==============================] - 1s 4ms/step - loss: 0.4949 - accuracy: 0.7724 - val_loss: 0.3622 - val_accuracy: 0.8358\n",
      "Epoch 2/5\n",
      "266/266 [==============================] - 1s 4ms/step - loss: 0.3377 - accuracy: 0.8540 - val_loss: 0.3445 - val_accuracy: 0.8489\n",
      "Epoch 3/5\n",
      "266/266 [==============================] - 1s 4ms/step - loss: 0.3030 - accuracy: 0.8722 - val_loss: 0.3436 - val_accuracy: 0.8518\n",
      "Epoch 4/5\n",
      "266/266 [==============================] - 1s 4ms/step - loss: 0.2804 - accuracy: 0.8833 - val_loss: 0.3525 - val_accuracy: 0.8480\n",
      "Epoch 5/5\n",
      "266/266 [==============================] - 1s 4ms/step - loss: 0.2632 - accuracy: 0.8915 - val_loss: 0.3629 - val_accuracy: 0.8462\n",
      "1537/1537 - 1s - loss: 0.3760 - accuracy: 0.8420\n",
      "[0.3759588599205017, 0.8420367240905762]\n"
     ]
    }
   ],
   "source": [
    "model_GMP1D.compile(optimizer='adam',\n",
    "              loss='binary_crossentropy',\n",
    "              metrics=['accuracy'])\n",
    "              \n",
    "epochs=5  # 몇 epoch를 훈련하면 좋을지 결과를 보면서 바꾸어 봅시다. \n",
    "\n",
    "history_GMP1D = model_GMP1D.fit(partial_x_train,\n",
    "                    partial_y_train,\n",
    "                    epochs=epochs,\n",
    "                    batch_size=512,\n",
    "                    validation_data=(x_val, y_val),\n",
    "                    verbose=1)\n",
    "\n",
    "results = model_GMP1D.evaluate(x_test,  y_test, verbose=2)\n",
    "\n",
    "print(results)"
   ]
  },
  {
   "cell_type": "markdown",
   "id": "transsexual-ecuador",
   "metadata": {},
   "source": [
    "## 6) Loss, Accuracy 그래프 시각화\n",
    "---------------------------------------\n",
    "### LSTM 모델의 Loss, Accuracy 그래프"
   ]
  },
  {
   "cell_type": "code",
   "execution_count": 13,
   "id": "smoking-nicholas",
   "metadata": {},
   "outputs": [
    {
     "data": {
      "image/png": "[encoded data removed]",
      "text/plain": [
       "<Figure size 432x288 with 1 Axes>"
      ]
     },
     "metadata": {
      "needs_background": "light"
     },
     "output_type": "display_data"
    },
    {
     "data": {
      "image/png": "[encoded data removed]",
      "text/plain": [
       "<Figure size 432x288 with 1 Axes>"
      ]
     },
     "metadata": {
      "needs_background": "light"
     },
     "output_type": "display_data"
    }
   ],
   "source": [
    "import matplotlib.pyplot as plt\n",
    "\n",
    "history_dict_LSTM = history_LSTM.history\n",
    "\n",
    "acc = history_dict_LSTM['accuracy']\n",
    "val_acc = history_dict_LSTM['val_accuracy']\n",
    "loss = history_dict_LSTM['loss']\n",
    "val_loss = history_dict_LSTM['val_loss']\n",
    "\n",
    "epochs = range(1, len(acc) + 1)\n",
    "\n",
    "# \"bo\"는 \"파란색 점\"입니다\n",
    "plt.plot(epochs, loss, 'bo', label='Training loss')\n",
    "# b는 \"파란 실선\"입니다\n",
    "plt.plot(epochs, val_loss, 'b', label='Validation loss')\n",
    "plt.title('Training and validation loss')\n",
    "plt.xlabel('Epochs')\n",
    "plt.ylabel('Loss')\n",
    "plt.legend()\n",
    "\n",
    "plt.show()\n",
    "\n",
    "plt.clf()   # 그림을 초기화합니다\n",
    "\n",
    "plt.plot(epochs, acc, 'bo', label='Training acc')\n",
    "plt.plot(epochs, val_acc, 'b', label='Validation acc')\n",
    "plt.title('Training and validation accuracy')\n",
    "plt.xlabel('Epochs')\n",
    "plt.ylabel('Accuracy')\n",
    "plt.legend()\n",
    "\n",
    "plt.show()"
   ]
  },
  {
   "cell_type": "markdown",
   "id": "otherwise-paint",
   "metadata": {},
   "source": [
    "### CNN 모델의 Loss, Accuracy 그래프"
   ]
  },
  {
   "cell_type": "code",
   "execution_count": 14,
   "id": "tender-bracelet",
   "metadata": {},
   "outputs": [
    {
     "data": {
      "image/png": "[encoded data removed]",
      "text/plain": [
       "<Figure size 432x288 with 1 Axes>"
      ]
     },
     "metadata": {
      "needs_background": "light"
     },
     "output_type": "display_data"
    },
    {
     "data": {
      "image/png": "[encoded data removed]",
      "text/plain": [
       "<Figure size 432x288 with 1 Axes>"
      ]
     },
     "metadata": {
      "needs_background": "light"
     },
     "output_type": "display_data"
    }
   ],
   "source": [
    "import matplotlib.pyplot as plt\n",
    "\n",
    "history_dict_Conv1D = history_Conv1D.history\n",
    "\n",
    "acc = history_dict_Conv1D['accuracy']\n",
    "val_acc = history_dict_Conv1D['val_accuracy']\n",
    "loss = history_dict_Conv1D['loss']\n",
    "val_loss = history_dict_Conv1D['val_loss']\n",
    "\n",
    "epochs = range(1, len(acc) + 1)\n",
    "\n",
    "# \"bo\"는 \"파란색 점\"입니다\n",
    "plt.plot(epochs, loss, 'bo', label='Training loss')\n",
    "# b는 \"파란 실선\"입니다\n",
    "plt.plot(epochs, val_loss, 'b', label='Validation loss')\n",
    "plt.title('Training and validation loss')\n",
    "plt.xlabel('Epochs')\n",
    "plt.ylabel('Loss')\n",
    "plt.legend()\n",
    "\n",
    "plt.show()\n",
    "\n",
    "plt.clf()   # 그림을 초기화합니다\n",
    "\n",
    "plt.plot(epochs, acc, 'bo', label='Training acc')\n",
    "plt.plot(epochs, val_acc, 'b', label='Validation acc')\n",
    "plt.title('Training and validation accuracy')\n",
    "plt.xlabel('Epochs')\n",
    "plt.ylabel('Accuracy')\n",
    "plt.legend()\n",
    "\n",
    "plt.show()"
   ]
  },
  {
   "cell_type": "markdown",
   "id": "compound-rehabilitation",
   "metadata": {},
   "source": [
    "### GlobalMaxPooling1D() 모델의 Loss, Accuracy 그래프"
   ]
  },
  {
   "cell_type": "code",
   "execution_count": 15,
   "id": "empty-amateur",
   "metadata": {},
   "outputs": [
    {
     "data": {
      "image/png": "[encoded data removed]",
      "text/plain": [
       "<Figure size 432x288 with 1 Axes>"
      ]
     },
     "metadata": {
      "needs_background": "light"
     },
     "output_type": "display_data"
    },
    {
     "data": {
      "image/png": "[encoded data removed]",
      "text/plain": [
       "<Figure size 432x288 with 1 Axes>"
      ]
     },
     "metadata": {
      "needs_background": "light"
     },
     "output_type": "display_data"
    }
   ],
   "source": [
    "import matplotlib.pyplot as plt\n",
    "\n",
    "history_dict_GMP1D = history_GMP1D.history\n",
    "\n",
    "acc = history_dict_GMP1D['accuracy']\n",
    "val_acc = history_dict_GMP1D['val_accuracy']\n",
    "loss = history_dict_GMP1D['loss']\n",
    "val_loss = history_dict_GMP1D['val_loss']\n",
    "\n",
    "epochs = range(1, len(acc) + 1)\n",
    "\n",
    "# \"bo\"는 \"파란색 점\"입니다\n",
    "plt.plot(epochs, loss, 'bo', label='Training loss')\n",
    "# b는 \"파란 실선\"입니다\n",
    "plt.plot(epochs, val_loss, 'b', label='Validation loss')\n",
    "plt.title('Training and validation loss')\n",
    "plt.xlabel('Epochs')\n",
    "plt.ylabel('Loss')\n",
    "plt.legend()\n",
    "\n",
    "plt.show()\n",
    "\n",
    "plt.clf()   # 그림을 초기화합니다\n",
    "\n",
    "plt.plot(epochs, acc, 'bo', label='Training acc')\n",
    "plt.plot(epochs, val_acc, 'b', label='Validation acc')\n",
    "plt.title('Training and validation accuracy')\n",
    "plt.xlabel('Epochs')\n",
    "plt.ylabel('Accuracy')\n",
    "plt.legend()\n",
    "\n",
    "plt.show()"
   ]
  },
  {
   "cell_type": "markdown",
   "id": "arbitrary-bride",
   "metadata": {},
   "source": [
    "## 7) 학습된 Embedding 레이어 분석\n",
    "-----------------------------\n",
    "라벨링 비용이 많이 드는 머신러닝 기반 감성분석의 비용을 절감하면서 정확도를 크게 향상시킬 수 있는 자연어처리 기법으로 단어의 특성을 저차원 벡터값으로 표현할 수 있는 `워드 임베딩(word embedding)` 기법이 있다. 그 기법을 사용할 것이다.<br>\n",
    "아래 코드는 워드벡터를 다루는데 유용한 gensim 패키지를 설치하는 코드이다.\n",
    "\n",
    "\n",
    "```\n",
    "$ pip install gensim\n",
    "```\n"
   ]
  },
  {
   "cell_type": "code",
   "execution_count": 16,
   "id": "royal-wealth",
   "metadata": {},
   "outputs": [
    {
     "name": "stdout",
     "output_type": "stream",
     "text": [
      "(10000, 16)\n"
     ]
    }
   ],
   "source": [
    "embedding_layer = model_LSTM.layers[0]\n",
    "weights = embedding_layer.get_weights()[0]\n",
    "print(weights.shape)    # shape: (vocab_size, embedding_dim)"
   ]
  },
  {
   "cell_type": "markdown",
   "id": "infrared-jesus",
   "metadata": {},
   "source": [
    "### LSTM 모델로 학습한 Embedding 파라미터를 파일에 써서 저장"
   ]
  },
  {
   "cell_type": "code",
   "execution_count": 17,
   "id": "superb-broadway",
   "metadata": {},
   "outputs": [],
   "source": [
    "import os\n",
    "\n",
    "# 학습한 Embedding 파라미터를 파일에 써서 저장합니다. \n",
    "word2vec_file_path_LSTM = os.getenv('HOME')+'/AIFFEL/Exploration/E4_sentiment_classification/word2vec_LSTM.txt'\n",
    "f = open(word2vec_file_path_LSTM, 'w')\n",
    "f.write('{} {}\\n'.format(vocab_size-4, word_vector_dim))  # 몇개의 벡터를 얼마 사이즈로 기재할지 타이틀을 씁니다.\n",
    "\n",
    "# 단어 개수(에서 특수문자 4개는 제외하고)만큼의 워드 벡터를 파일에 기록합니다. \n",
    "vectors_LSTM = model_LSTM.get_weights()[0]\n",
    "for i in range(4,vocab_size):\n",
    "    f.write('{} {}\\n'.format(index_to_word[i], ' '.join(map(str, list(vectors_LSTM[i, :])))))\n",
    "f.close()"
   ]
  },
  {
   "cell_type": "markdown",
   "id": "deadly-quality",
   "metadata": {},
   "source": [
    "### CNN 모델로 학습한 Embedding 파라미터를 파일에 써서 저장"
   ]
  },
  {
   "cell_type": "code",
   "execution_count": 18,
   "id": "isolated-routine",
   "metadata": {},
   "outputs": [],
   "source": [
    "# 학습한 Embedding 파라미터를 파일에 써서 저장합니다. \n",
    "word2vec_file_path_Conv1D = os.getenv('HOME')+'/AIFFEL/Exploration/E4_sentiment_classification/word2vec_Conv1D.txt'\n",
    "f = open(word2vec_file_path_Conv1D, 'w')\n",
    "f.write('{} {}\\n'.format(vocab_size-4, word_vector_dim))  # 몇개의 벡터를 얼마 사이즈로 기재할지 타이틀을 씁니다.\n",
    "\n",
    "# 단어 개수(에서 특수문자 4개는 제외하고)만큼의 워드 벡터를 파일에 기록합니다. \n",
    "vectors_Conv1D = model_Conv1D.get_weights()[0]\n",
    "for i in range(4,vocab_size):\n",
    "    f.write('{} {}\\n'.format(index_to_word[i], ' '.join(map(str, list(vectors_Conv1D[i, :])))))\n",
    "f.close()"
   ]
  },
  {
   "cell_type": "markdown",
   "id": "julian-market",
   "metadata": {},
   "source": [
    "### GlobalMaxPooling1D() 모델로 학습한 Embedding 파라미터를 파일에 써서 저장"
   ]
  },
  {
   "cell_type": "code",
   "execution_count": 19,
   "id": "talented-shadow",
   "metadata": {},
   "outputs": [],
   "source": [
    "# 학습한 Embedding 파라미터를 파일에 써서 저장합니다. \n",
    "word2vec_file_path_GMP1D = os.getenv('HOME')+'/AIFFEL/Exploration/E4_sentiment_classification/word2vec_GMP1D.txt'\n",
    "f = open(word2vec_file_path_GMP1D, 'w')\n",
    "f.write('{} {}\\n'.format(vocab_size-4, word_vector_dim))  # 몇개의 벡터를 얼마 사이즈로 기재할지 타이틀을 씁니다.\n",
    "\n",
    "# 단어 개수(에서 특수문자 4개는 제외하고)만큼의 워드 벡터를 파일에 기록합니다. \n",
    "vectors_GMP1D = model_GMP1D.get_weights()[0]\n",
    "for i in range(4,vocab_size):\n",
    "    f.write('{} {}\\n'.format(index_to_word[i], ' '.join(map(str, list(vectors_GMP1D[i, :])))))\n",
    "f.close()"
   ]
  },
  {
   "cell_type": "markdown",
   "id": "canadian-reader",
   "metadata": {},
   "source": [
    "`gensim`에서 제공하는 패키지를 이용해, 위에 남긴 임베딩 파라미터를 읽어서 word vector로 활용할 수 있다."
   ]
  },
  {
   "cell_type": "markdown",
   "id": "clear-roots",
   "metadata": {},
   "source": [
    "### LSTM 모델 학습한 걸로 유사 단어 찾기."
   ]
  },
  {
   "cell_type": "code",
   "execution_count": 20,
   "id": "desirable-separate",
   "metadata": {},
   "outputs": [
    {
     "data": {
      "text/plain": [
       "array([ 0.0809165 , -0.13020796,  0.03837604, -0.14119516, -0.12750031,\n",
       "       -0.11584544, -0.11540292,  0.1470474 , -0.06796686, -0.07261936,\n",
       "       -0.08900445,  0.11269029, -0.12264521,  0.11897823, -0.02269963,\n",
       "       -0.11709216], dtype=float32)"
      ]
     },
     "execution_count": 20,
     "metadata": {},
     "output_type": "execute_result"
    }
   ],
   "source": [
    "from gensim.models import KeyedVectors\n",
    "word2vec_path_LSTM = os.getenv('HOME')+'/AIFFEL/Exploration/E4_sentiment_classification/word2vec_LSTM.txt'\n",
    "word2vec_LSTM = KeyedVectors.load_word2vec_format(word2vec_path_LSTM, limit=1000000)\n",
    "vector_LSTM = word2vec_LSTM['재밌']\n",
    "vector_LSTM "
   ]
  },
  {
   "cell_type": "code",
   "execution_count": 21,
   "id": "proper-reservation",
   "metadata": {},
   "outputs": [
    {
     "data": {
      "text/plain": [
       "[('겸손', 0.9764194488525391),\n",
       " ('괜춘', 0.974841296672821),\n",
       " ('일리', 0.9720107316970825),\n",
       " ('방학', 0.9701666831970215),\n",
       " ('하모니', 0.964205801486969),\n",
       " ('노동자', 0.9621592164039612),\n",
       " ('묻히', 0.9617784023284912),\n",
       " ('풍성', 0.961401641368866),\n",
       " ('흠잡', 0.9602104425430298),\n",
       " ('뒤돌아보', 0.9600777626037598)]"
      ]
     },
     "execution_count": 21,
     "metadata": {},
     "output_type": "execute_result"
    }
   ],
   "source": [
    "word2vec_LSTM.similar_by_word(\"재밌\")"
   ]
  },
  {
   "cell_type": "markdown",
   "id": "characteristic-coral",
   "metadata": {},
   "source": [
    "`재밌`과 유사한 단어들을 찾아야 하는데 생뚱맞은 단어들이 많이 나왔다. 좀 더 정확하고 좋은 `워드 임베딩` 모델이 필요할 듯 하다. <br> __그래서 필요한게 한국어 Word2Vec!!!__"
   ]
  },
  {
   "cell_type": "markdown",
   "id": "subjective-board",
   "metadata": {},
   "source": [
    "## 8) 한국어 Word2Vec 임베딩 활용하여 성능개선\n",
    "---------------------------------\n",
    "한국어 `Word2Vec`은 다음 경로에서 구할 수 있다.\n",
    "\n",
    "[https://github.com/Kyubyong/wordvectors](https://github.com/Kyubyong/wordvectors)"
   ]
  },
  {
   "cell_type": "code",
   "execution_count": 22,
   "id": "concrete-champion",
   "metadata": {},
   "outputs": [
    {
     "name": "stderr",
     "output_type": "stream",
     "text": [
      "/home/aiffel-dj10/anaconda3/envs/aiffel/lib/python3.7/site-packages/ipykernel_launcher.py:7: DeprecationWarning: Call to deprecated `__getitem__` (Method will be removed in 4.0.0, use self.wv.__getitem__() instead).\n",
      "  import sys\n"
     ]
    },
    {
     "data": {
      "text/plain": [
       "array([-5.70638835e-01, -1.89795382e-02,  4.18168336e-01, -6.65361881e-01,\n",
       "       -5.78920126e-01, -2.65187681e-01,  1.67045116e-01, -4.47417080e-01,\n",
       "       -2.26184875e-01,  2.07026631e-01, -2.82414615e-01, -2.04017460e-01,\n",
       "        3.99801224e-01,  8.95581722e-01, -4.10150111e-01, -5.30177832e-01,\n",
       "       -1.00408584e-01, -7.79470429e-02,  6.55694246e-01, -6.14580512e-01,\n",
       "       -3.47350031e-01,  2.93210238e-01,  3.37972194e-01, -1.82576463e-01,\n",
       "       -1.41739815e-01, -1.29240826e-01,  9.38577205e-02,  1.57903805e-01,\n",
       "        2.13528946e-01, -2.51577020e-01,  3.94223571e-01,  1.12120651e-01,\n",
       "       -2.87773311e-01,  2.46506810e-01,  4.22204509e-02,  9.81939062e-02,\n",
       "        2.20483780e-01,  2.81774312e-01, -4.36879396e-01, -1.82436377e-01,\n",
       "        2.22101465e-01, -7.39264041e-02,  5.66517971e-02, -2.31536046e-01,\n",
       "        2.88119078e-01,  6.94155395e-02,  4.00188655e-01,  3.44122946e-01,\n",
       "       -5.23211434e-02, -2.06091240e-01, -2.24862620e-01,  3.06395590e-01,\n",
       "        2.28373617e-01,  6.29594475e-02, -3.58188957e-01, -1.52248800e-01,\n",
       "       -7.05243945e-01, -1.09852709e-01,  7.46704817e-01,  3.68611813e-01,\n",
       "        7.38096833e-01,  6.07497133e-02,  1.54468202e-04,  1.82180613e-01,\n",
       "        4.27377045e-01, -2.17877433e-01,  4.40111220e-01, -2.88092375e-01,\n",
       "        2.06193149e-01,  9.90920961e-02, -9.41516310e-02, -7.30906874e-02,\n",
       "        1.58356473e-01,  3.90169293e-01,  2.31166840e-01, -2.57717162e-01,\n",
       "        1.79477975e-01,  8.20117742e-02, -3.02955061e-01,  6.69403151e-02,\n",
       "       -4.48957533e-01, -4.92311940e-02,  9.77871791e-02, -3.79287988e-01,\n",
       "       -5.19076169e-01, -1.07380137e-01, -1.27591237e-01, -1.91889167e-01,\n",
       "       -2.47951925e-01, -1.66879609e-01, -2.76190996e-01, -4.05623227e-01,\n",
       "       -2.37730071e-01,  1.27880856e-01, -3.08829218e-01, -3.90338540e-01,\n",
       "       -3.92800331e-01, -1.76198468e-01,  4.00181055e-01,  4.96889561e-01,\n",
       "       -4.66059782e-02, -1.08287573e-01, -2.81938016e-01, -3.30745667e-01,\n",
       "       -7.75461495e-01,  6.37937367e-01,  4.10608590e-01, -1.93982109e-01,\n",
       "       -3.82834464e-01, -1.56970948e-01,  4.23785716e-01,  2.96694845e-01,\n",
       "       -4.74918634e-02, -5.76999664e-01, -5.56993894e-02,  1.85044974e-01,\n",
       "       -3.79621059e-01, -1.12938076e-01, -4.28880364e-01,  5.04595876e-01,\n",
       "        3.10779661e-01, -8.23155046e-02, -6.15236044e-01, -1.47133037e-01,\n",
       "        1.67218801e-02, -3.01759988e-02, -2.19366729e-01, -3.15969467e-01,\n",
       "        2.48291224e-01, -4.13572878e-01,  2.62743294e-01,  2.21772432e-01,\n",
       "        1.25514790e-01,  3.36238682e-01,  5.23896754e-01, -3.11942130e-01,\n",
       "        2.42872629e-02, -8.88792202e-02,  2.66150385e-01, -8.56325924e-02,\n",
       "        2.16233153e-02,  5.02838314e-01, -2.76452959e-01, -9.13203880e-03,\n",
       "       -1.25528619e-01,  3.79649282e-01, -4.90141749e-01, -2.40715027e-01,\n",
       "       -4.32285994e-01,  4.85425860e-01,  8.93399790e-02, -8.16946745e-01,\n",
       "        7.59168044e-02, -8.34375620e-03, -2.65741590e-02, -2.18079031e-01,\n",
       "        2.21499857e-02,  4.11683410e-01, -3.52139592e-01, -1.78344756e-01,\n",
       "        2.78723300e-01,  2.02263176e-01,  2.50720292e-01, -2.21667081e-01,\n",
       "       -1.80710569e-01,  3.57307851e-01,  2.32334763e-01, -1.97940454e-01,\n",
       "       -1.48922846e-01,  3.54760736e-01, -1.62685156e-01, -4.25538749e-01,\n",
       "        2.10188404e-01, -3.48017275e-01, -1.71089143e-01, -4.27044302e-01,\n",
       "       -9.90610048e-02,  6.73492402e-02, -2.75828034e-01, -1.88036293e-01,\n",
       "       -5.97975791e-01, -1.13881044e-02,  1.96894839e-01, -4.13061261e-01,\n",
       "       -3.48907083e-01, -2.83819497e-01, -7.92093799e-02, -8.47936571e-02,\n",
       "       -4.32179213e-01, -2.53131956e-01, -5.93677536e-02,  3.89176011e-01,\n",
       "        1.94081366e-01,  3.38961720e-01,  3.79901640e-02, -2.03545734e-01,\n",
       "        5.84678292e-01, -3.74983311e-01,  3.88708740e-01,  1.19904116e-01],\n",
       "      dtype=float32)"
      ]
     },
     "execution_count": 22,
     "metadata": {},
     "output_type": "execute_result"
    }
   ],
   "source": [
    "import gensim\n",
    "from gensim.models import KeyedVectors\n",
    "from gensim.models import Word2Vec\n",
    "\n",
    "kor_word2vec_path = os.getenv('HOME')+'/AIFFEL/Exploration/E4_sentiment_classification/ko/ko.bin'\n",
    "kor_word2vec = gensim.models.Word2Vec.load(kor_word2vec_path)\n",
    "kor_vector = kor_word2vec['재밌']\n",
    "kor_vector "
   ]
  },
  {
   "cell_type": "code",
   "execution_count": 23,
   "id": "optical-release",
   "metadata": {},
   "outputs": [
    {
     "name": "stderr",
     "output_type": "stream",
     "text": [
      "/home/aiffel-dj10/anaconda3/envs/aiffel/lib/python3.7/site-packages/ipykernel_launcher.py:1: DeprecationWarning: Call to deprecated `similar_by_word` (Method will be removed in 4.0.0, use self.wv.similar_by_word() instead).\n",
      "  \"\"\"Entry point for launching an IPython kernel.\n"
     ]
    },
    {
     "data": {
      "text/plain": [
       "[('지분', 0.659886360168457),\n",
       " ('증권', 0.6218825578689575),\n",
       " ('사채', 0.617996335029602),\n",
       " ('자본금', 0.6030240058898926),\n",
       " ('현물', 0.5963727235794067),\n",
       " ('주주', 0.5927848815917969),\n",
       " ('코스닥', 0.5803253650665283),\n",
       " ('모회사', 0.579328179359436),\n",
       " ('상장', 0.5687190890312195),\n",
       " ('어음', 0.5640698075294495)]"
      ]
     },
     "execution_count": 23,
     "metadata": {},
     "output_type": "execute_result"
    }
   ],
   "source": [
    "kor_word2vec.similar_by_word(\"주식\")"
   ]
  },
  {
   "cell_type": "markdown",
   "id": "excess-zoning",
   "metadata": {},
   "source": [
    "### kor_word2vec를 불러와서 좀 더 정확한 LSTM 모델 사용하기."
   ]
  },
  {
   "cell_type": "code",
   "execution_count": 24,
   "id": "subjective-species",
   "metadata": {},
   "outputs": [
    {
     "name": "stderr",
     "output_type": "stream",
     "text": [
      "/home/aiffel-dj10/anaconda3/envs/aiffel/lib/python3.7/site-packages/ipykernel_launcher.py:8: DeprecationWarning: Call to deprecated `__contains__` (Method will be removed in 4.0.0, use self.wv.__contains__() instead).\n",
      "  \n",
      "/home/aiffel-dj10/anaconda3/envs/aiffel/lib/python3.7/site-packages/ipykernel_launcher.py:9: DeprecationWarning: Call to deprecated `__getitem__` (Method will be removed in 4.0.0, use self.wv.__getitem__() instead).\n",
      "  if __name__ == '__main__':\n"
     ]
    }
   ],
   "source": [
    "vocab_size = 10000    # 어휘 사전의 크기입니다(10,000개의 단어)\n",
    "word_vector_dim = 200  # 워드 벡터의 차원수 (변경가능한 하이퍼파라미터)\n",
    "\n",
    "embedding_matrix = np.random.rand(vocab_size, word_vector_dim)\n",
    "\n",
    "# embedding_matrix에 Word2Vec 워드벡터를 단어 하나씩마다 차례차례 카피한다.\n",
    "for i in range(4,vocab_size):\n",
    "    if index_to_word[i] in kor_word2vec:\n",
    "        embedding_matrix[i] = kor_word2vec[index_to_word[i]]"
   ]
  },
  {
   "cell_type": "code",
   "execution_count": 25,
   "id": "authorized-edgar",
   "metadata": {},
   "outputs": [
    {
     "name": "stdout",
     "output_type": "stream",
     "text": [
      "Model: \"sequential_3\"\n",
      "_________________________________________________________________\n",
      "Layer (type)                 Output Shape              Param #   \n",
      "=================================================================\n",
      "embedding_3 (Embedding)      (None, 54, 200)           2000000   \n",
      "_________________________________________________________________\n",
      "lstm_1 (LSTM)                (None, 128)               168448    \n",
      "_________________________________________________________________\n",
      "dense_6 (Dense)              (None, 128)               16512     \n",
      "_________________________________________________________________\n",
      "dense_7 (Dense)              (None, 1)                 129       \n",
      "=================================================================\n",
      "Total params: 2,185,089\n",
      "Trainable params: 2,185,089\n",
      "Non-trainable params: 0\n",
      "_________________________________________________________________\n"
     ]
    }
   ],
   "source": [
    "from tensorflow.keras.initializers import Constant\n",
    "\n",
    "vocab_size = 10000    # 어휘 사전의 크기입니다(10,000개의 단어)\n",
    "word_vector_dim = 200  # 워드 벡터의 차원수 (변경가능한 하이퍼파라미터)\n",
    "\n",
    "# 모델 구성\n",
    "model_upgrade_LSTM = keras.Sequential()\n",
    "model_upgrade_LSTM.add(keras.layers.Embedding(vocab_size, \n",
    "                                 word_vector_dim, \n",
    "                                 embeddings_initializer=Constant(embedding_matrix),  # 카피한 임베딩을 여기서 활용\n",
    "                                 input_length=maxlen, \n",
    "                                 trainable=True))   # trainable을 True로 주면 Fine-tuning\n",
    "model_upgrade_LSTM.add(keras.layers.LSTM(128))   # 가장 널리 쓰이는 RNN인 LSTM 레이어를 사용하였습니다. 이때 LSTM state 벡터의 차원수는 8로 하였습니다. (변경가능)\n",
    "model_upgrade_LSTM.add(keras.layers.Dense(128, activation='relu'))\n",
    "model_upgrade_LSTM.add(keras.layers.Dense(1, activation='sigmoid'))  # 최종 출력은 긍정/부정을 나타내는 1dim 입니다.\n",
    "\n",
    "model_upgrade_LSTM.summary()"
   ]
  },
  {
   "cell_type": "code",
   "execution_count": 26,
   "id": "lined-question",
   "metadata": {},
   "outputs": [
    {
     "name": "stdout",
     "output_type": "stream",
     "text": [
      "Epoch 1/5\n",
      "266/266 [==============================] - 9s 33ms/step - loss: 0.4378 - accuracy: 0.7904 - val_loss: 0.3468 - val_accuracy: 0.8465\n",
      "Epoch 2/5\n",
      "266/266 [==============================] - 8s 32ms/step - loss: 0.3174 - accuracy: 0.8630 - val_loss: 0.3230 - val_accuracy: 0.8598\n",
      "Epoch 3/5\n",
      "266/266 [==============================] - 8s 32ms/step - loss: 0.2758 - accuracy: 0.8845 - val_loss: 0.3133 - val_accuracy: 0.8666\n",
      "Epoch 4/5\n",
      "266/266 [==============================] - 9s 32ms/step - loss: 0.2467 - accuracy: 0.8988 - val_loss: 0.3204 - val_accuracy: 0.8656\n",
      "Epoch 5/5\n",
      "266/266 [==============================] - 9s 32ms/step - loss: 0.2211 - accuracy: 0.9101 - val_loss: 0.3341 - val_accuracy: 0.8667\n"
     ]
    }
   ],
   "source": [
    "model_upgrade_LSTM.compile(optimizer='adam',\n",
    "              loss='binary_crossentropy',\n",
    "              metrics=['accuracy'])\n",
    "              \n",
    "epochs=5  # 몇 epoch를 훈련하면 좋을지 결과를 보면서 바꾸어 봅시다. \n",
    "\n",
    "history_upgrade_LSTM = model_upgrade_LSTM.fit(partial_x_train,\n",
    "                    partial_y_train,\n",
    "                    epochs=epochs,\n",
    "                    batch_size=512,\n",
    "                    validation_data=(x_val, y_val),\n",
    "                    verbose=1)"
   ]
  },
  {
   "cell_type": "code",
   "execution_count": 27,
   "id": "handed-basics",
   "metadata": {},
   "outputs": [
    {
     "name": "stdout",
     "output_type": "stream",
     "text": [
      "1537/1537 - 3s - loss: 0.3387 - accuracy: 0.8642\n",
      "[0.33869051933288574, 0.8642106056213379]\n"
     ]
    }
   ],
   "source": [
    "# 테스트셋을 통한 모델 평가\n",
    "results = model_upgrade_LSTM.evaluate(x_test,  y_test, verbose=2)\n",
    "\n",
    "print(results)"
   ]
  },
  {
   "cell_type": "markdown",
   "id": "ordinary-jacob",
   "metadata": {},
   "source": [
    "accuracy는 85에서 86으로 늘어나고, loss는 0.35에서 0.32로 떨어진 것을 볼 수 있다."
   ]
  },
  {
   "cell_type": "markdown",
   "id": "palestinian-museum",
   "metadata": {},
   "source": [
    "### kor_word2vec를 불러와서 좀 더 정확한 CNN 모델 사용하기."
   ]
  },
  {
   "cell_type": "code",
   "execution_count": 28,
   "id": "shaped-service",
   "metadata": {},
   "outputs": [
    {
     "name": "stderr",
     "output_type": "stream",
     "text": [
      "/home/aiffel-dj10/anaconda3/envs/aiffel/lib/python3.7/site-packages/ipykernel_launcher.py:8: DeprecationWarning: Call to deprecated `__contains__` (Method will be removed in 4.0.0, use self.wv.__contains__() instead).\n",
      "  \n",
      "/home/aiffel-dj10/anaconda3/envs/aiffel/lib/python3.7/site-packages/ipykernel_launcher.py:9: DeprecationWarning: Call to deprecated `__getitem__` (Method will be removed in 4.0.0, use self.wv.__getitem__() instead).\n",
      "  if __name__ == '__main__':\n"
     ]
    }
   ],
   "source": [
    "vocab_size = 10000    # 어휘 사전의 크기입니다(10,000개의 단어)\n",
    "word_vector_dim = 200  # 워드 벡터의 차원수 (변경가능한 하이퍼파라미터)\n",
    "\n",
    "embedding_matrix = np.random.rand(vocab_size, word_vector_dim)\n",
    "\n",
    "# embedding_matrix에 Word2Vec 워드벡터를 단어 하나씩마다 차례차례 카피한다.\n",
    "for i in range(4,vocab_size):\n",
    "    if index_to_word[i] in kor_word2vec:\n",
    "        embedding_matrix[i] = kor_word2vec[index_to_word[i]]"
   ]
  },
  {
   "cell_type": "code",
   "execution_count": 29,
   "id": "gross-founder",
   "metadata": {},
   "outputs": [
    {
     "name": "stdout",
     "output_type": "stream",
     "text": [
      "Model: \"sequential_4\"\n",
      "_________________________________________________________________\n",
      "Layer (type)                 Output Shape              Param #   \n",
      "=================================================================\n",
      "embedding_4 (Embedding)      (None, 54, 200)           2000000   \n",
      "_________________________________________________________________\n",
      "conv1d_2 (Conv1D)            (None, 48, 16)            22416     \n",
      "_________________________________________________________________\n",
      "max_pooling1d_1 (MaxPooling1 (None, 9, 16)             0         \n",
      "_________________________________________________________________\n",
      "conv1d_3 (Conv1D)            (None, 3, 16)             1808      \n",
      "_________________________________________________________________\n",
      "global_max_pooling1d_2 (Glob (None, 16)                0         \n",
      "_________________________________________________________________\n",
      "dense_8 (Dense)              (None, 128)               2176      \n",
      "_________________________________________________________________\n",
      "dense_9 (Dense)              (None, 1)                 129       \n",
      "=================================================================\n",
      "Total params: 2,026,529\n",
      "Trainable params: 2,026,529\n",
      "Non-trainable params: 0\n",
      "_________________________________________________________________\n"
     ]
    }
   ],
   "source": [
    "from tensorflow.keras.initializers import Constant\n",
    "\n",
    "vocab_size = 10000    # 어휘 사전의 크기입니다(10,000개의 단어)\n",
    "word_vector_dim = 200  # 워드 벡터의 차원수 (변경가능한 하이퍼파라미터)\n",
    "\n",
    "# 모델 구성\n",
    "model_upgrade_Conv1D = keras.Sequential()\n",
    "model_upgrade_Conv1D.add(keras.layers.Embedding(vocab_size, \n",
    "                                 word_vector_dim, \n",
    "                                 embeddings_initializer=Constant(embedding_matrix),  # 카피한 임베딩을 여기서 활용\n",
    "                                 input_length=maxlen, \n",
    "                                 trainable=True))   # trainable을 True로 주면 Fine-tuning\n",
    "model_upgrade_Conv1D.add(keras.layers.Conv1D(16, 7, activation='relu'))\n",
    "model_upgrade_Conv1D.add(keras.layers.MaxPooling1D(5))\n",
    "model_upgrade_Conv1D.add(keras.layers.Conv1D(16, 7, activation='relu'))\n",
    "model_upgrade_Conv1D.add(keras.layers.GlobalMaxPooling1D())\n",
    "model_upgrade_Conv1D.add(keras.layers.Dense(128, activation='relu'))\n",
    "model_upgrade_Conv1D.add(keras.layers.Dense(1, activation='sigmoid'))  # 최종 출력은 긍정/부정을 나타내는 1dim 입니다.\n",
    "\n",
    "model_upgrade_Conv1D.summary()"
   ]
  },
  {
   "cell_type": "code",
   "execution_count": 30,
   "id": "extensive-nursery",
   "metadata": {},
   "outputs": [
    {
     "name": "stdout",
     "output_type": "stream",
     "text": [
      "Epoch 1/5\n",
      "266/266 [==============================] - 10s 39ms/step - loss: 0.5808 - accuracy: 0.6776 - val_loss: 0.5075 - val_accuracy: 0.7481\n",
      "Epoch 2/5\n",
      "266/266 [==============================] - 7s 25ms/step - loss: 0.4573 - accuracy: 0.7769 - val_loss: 0.4529 - val_accuracy: 0.7808\n",
      "Epoch 3/5\n",
      "266/266 [==============================] - 7s 25ms/step - loss: 0.4049 - accuracy: 0.8082 - val_loss: 0.4380 - val_accuracy: 0.7830\n",
      "Epoch 4/5\n",
      "266/266 [==============================] - 7s 25ms/step - loss: 0.3733 - accuracy: 0.8246 - val_loss: 0.4394 - val_accuracy: 0.7890\n",
      "Epoch 5/5\n",
      "266/266 [==============================] - 7s 26ms/step - loss: 0.3487 - accuracy: 0.8383 - val_loss: 0.4448 - val_accuracy: 0.7827\n"
     ]
    }
   ],
   "source": [
    "model_upgrade_Conv1D.compile(optimizer='adam',\n",
    "              loss='binary_crossentropy',\n",
    "              metrics=['accuracy'])\n",
    "              \n",
    "epochs=5  # 몇 epoch를 훈련하면 좋을지 결과를 보면서 바꾸어 봅시다. \n",
    "\n",
    "history_upgrade_Conv1D = model_upgrade_Conv1D.fit(partial_x_train,\n",
    "                    partial_y_train,\n",
    "                    epochs=epochs,\n",
    "                    batch_size=512,\n",
    "                    validation_data=(x_val, y_val),\n",
    "                    verbose=1)"
   ]
  },
  {
   "cell_type": "code",
   "execution_count": 31,
   "id": "growing-candle",
   "metadata": {},
   "outputs": [
    {
     "name": "stdout",
     "output_type": "stream",
     "text": [
      "1537/1537 - 3s - loss: 0.4474 - accuracy: 0.7873\n",
      "[0.4473750591278076, 0.7872734069824219]\n"
     ]
    }
   ],
   "source": [
    "# 테스트셋을 통한 모델 평가\n",
    "results = model_upgrade_Conv1D.evaluate(x_test,  y_test, verbose=2)\n",
    "\n",
    "print(results)"
   ]
  },
  {
   "cell_type": "code",
   "execution_count": null,
   "id": "disabled-father",
   "metadata": {},
   "outputs": [],
   "source": [
    "흠..... 정확도가 더 떨어지네... 왜그러지??"
   ]
  },
  {
   "cell_type": "markdown",
   "id": "dried-parallel",
   "metadata": {},
   "source": [
    "### kor_word2vec를 불러와서 좀 더 정확한 GlobalMaxPooling1D()모델 사용하기."
   ]
  },
  {
   "cell_type": "code",
   "execution_count": 32,
   "id": "induced-ultimate",
   "metadata": {},
   "outputs": [
    {
     "name": "stderr",
     "output_type": "stream",
     "text": [
      "/home/aiffel-dj10/anaconda3/envs/aiffel/lib/python3.7/site-packages/ipykernel_launcher.py:8: DeprecationWarning: Call to deprecated `__contains__` (Method will be removed in 4.0.0, use self.wv.__contains__() instead).\n",
      "  \n",
      "/home/aiffel-dj10/anaconda3/envs/aiffel/lib/python3.7/site-packages/ipykernel_launcher.py:9: DeprecationWarning: Call to deprecated `__getitem__` (Method will be removed in 4.0.0, use self.wv.__getitem__() instead).\n",
      "  if __name__ == '__main__':\n"
     ]
    }
   ],
   "source": [
    "vocab_size = 10000    # 어휘 사전의 크기입니다(10,000개의 단어)\n",
    "word_vector_dim = 200  # 워드 벡터의 차원수 (변경가능한 하이퍼파라미터)\n",
    "\n",
    "embedding_matrix = np.random.rand(vocab_size, word_vector_dim)\n",
    "\n",
    "# embedding_matrix에 Word2Vec 워드벡터를 단어 하나씩마다 차례차례 카피한다.\n",
    "for i in range(4,vocab_size):\n",
    "    if index_to_word[i] in kor_word2vec:\n",
    "        embedding_matrix[i] = kor_word2vec[index_to_word[i]]"
   ]
  },
  {
   "cell_type": "code",
   "execution_count": 33,
   "id": "opponent-sight",
   "metadata": {},
   "outputs": [
    {
     "name": "stdout",
     "output_type": "stream",
     "text": [
      "Model: \"sequential_5\"\n",
      "_________________________________________________________________\n",
      "Layer (type)                 Output Shape              Param #   \n",
      "=================================================================\n",
      "embedding_5 (Embedding)      (None, 54, 200)           2000000   \n",
      "_________________________________________________________________\n",
      "global_max_pooling1d_3 (Glob (None, 200)               0         \n",
      "_________________________________________________________________\n",
      "dense_10 (Dense)             (None, 128)               25728     \n",
      "_________________________________________________________________\n",
      "dense_11 (Dense)             (None, 1)                 129       \n",
      "=================================================================\n",
      "Total params: 2,025,857\n",
      "Trainable params: 2,025,857\n",
      "Non-trainable params: 0\n",
      "_________________________________________________________________\n"
     ]
    }
   ],
   "source": [
    "from tensorflow.keras.initializers import Constant\n",
    "\n",
    "vocab_size = 10000    # 어휘 사전의 크기입니다(10,000개의 단어)\n",
    "word_vector_dim = 200  # 워드 벡터의 차원수 (변경가능한 하이퍼파라미터)\n",
    "\n",
    "# 모델 구성\n",
    "model_upgrade_GMP1D = keras.Sequential()\n",
    "model_upgrade_GMP1D.add(keras.layers.Embedding(vocab_size, \n",
    "                                 word_vector_dim, \n",
    "                                 embeddings_initializer=Constant(embedding_matrix),  # 카피한 임베딩을 여기서 활용\n",
    "                                 input_length=maxlen, \n",
    "                                 trainable=True))   # trainable을 True로 주면 Fine-tuning\n",
    "model_GMP1D.add(keras.layers.Embedding(vocab_size, word_vector_dim, input_shape=(None,)))\n",
    "model_upgrade_GMP1D.add(keras.layers.GlobalMaxPooling1D())\n",
    "model_upgrade_GMP1D.add(keras.layers.Dense(128, activation='relu'))\n",
    "model_upgrade_GMP1D.add(keras.layers.Dense(1, activation='sigmoid'))  # 최종 출력은 긍정/부정을 나타내는 1dim 입니다.\n",
    "\n",
    "model_upgrade_GMP1D.summary()"
   ]
  },
  {
   "cell_type": "code",
   "execution_count": 34,
   "id": "necessary-practice",
   "metadata": {},
   "outputs": [
    {
     "name": "stdout",
     "output_type": "stream",
     "text": [
      "Epoch 1/5\n",
      "266/266 [==============================] - 7s 26ms/step - loss: 0.6316 - accuracy: 0.6460 - val_loss: 0.5558 - val_accuracy: 0.7182\n",
      "Epoch 2/5\n",
      "266/266 [==============================] - 7s 25ms/step - loss: 0.5196 - accuracy: 0.7414 - val_loss: 0.4991 - val_accuracy: 0.7572\n",
      "Epoch 3/5\n",
      "266/266 [==============================] - 7s 25ms/step - loss: 0.4683 - accuracy: 0.7767 - val_loss: 0.4582 - val_accuracy: 0.7854\n",
      "Epoch 4/5\n",
      "266/266 [==============================] - 7s 25ms/step - loss: 0.4310 - accuracy: 0.7999 - val_loss: 0.4353 - val_accuracy: 0.7984\n",
      "Epoch 5/5\n",
      "266/266 [==============================] - 7s 25ms/step - loss: 0.4072 - accuracy: 0.8145 - val_loss: 0.4221 - val_accuracy: 0.8038\n"
     ]
    }
   ],
   "source": [
    "model_upgrade_GMP1D.compile(optimizer='adam',\n",
    "              loss='binary_crossentropy',\n",
    "              metrics=['accuracy'])\n",
    "              \n",
    "epochs=5  # 몇 epoch를 훈련하면 좋을지 결과를 보면서 바꾸어 봅시다. \n",
    "\n",
    "history_upgrade_GMP1D = model_upgrade_GMP1D.fit(partial_x_train,\n",
    "                    partial_y_train,\n",
    "                    epochs=epochs,\n",
    "                    batch_size=512,\n",
    "                    validation_data=(x_val, y_val),\n",
    "                    verbose=1)"
   ]
  },
  {
   "cell_type": "code",
   "execution_count": 35,
   "id": "opened-samoa",
   "metadata": {},
   "outputs": [
    {
     "name": "stdout",
     "output_type": "stream",
     "text": [
      "1537/1537 - 2s - loss: 0.4314 - accuracy: 0.8005\n",
      "[0.4313809871673584, 0.8004556894302368]\n"
     ]
    }
   ],
   "source": [
    "# 테스트셋을 통한 모델 평가\n",
    "results = model_upgrade_GMP1D.evaluate(x_test,  y_test, verbose=2)\n",
    "\n",
    "print(results)"
   ]
  },
  {
   "cell_type": "markdown",
   "id": "precious-property",
   "metadata": {},
   "source": [
    "흠....... 요것도 마찬가지고......"
   ]
  },
  {
   "cell_type": "markdown",
   "id": "governmental-initial",
   "metadata": {},
   "source": [
    "## 루브릭 평가\n",
    "__* 1. 다양한 방법으로 Text Classification 태스크를 성공적으로 구현하였다.__\n",
    "\n",
    "LSTM, CNN, GlobalMaxPooling1D() 세가지 모델로 Text Classification task를 성공적으로 구현하였다.<br> \n",
    "세가지 모델 전부 dense를 128로 높였고, 기본 epoch이 20이었는데 epoch 4쯤에서 오버피팅이 나는 것을 보고, epoch을 5로 줄였다.<br>\n",
    "추가적으로 LSTM 모델의 경우에는, LSTM state 벡터의 차원수를 8에서 128로 증가시켰다.\n",
    "\n",
    "\n",
    "\n",
    "__* 2. gensim을 활용하여 자체학습된 혹은 사전학습된 임베딩 레이어를 분석하였다.__\n",
    "\n",
    "gensim을 활용하여 LSTM, CNN, GlobalMaxPooling1D() 세가지 모델로 학습된 임베딩 레이어를 분석한 결과, 네이버 영화 리뷰 내의 한정된 단어로 학습을 진행했기에 similar 단어 찾을때, 연관 없는 단어들이 많이 나왔다.\n",
    "\n",
    "__* 3. 한국어 Word2Vec을 활용하여 가시적인 성능향상을 달성했다.__\n",
    "\n",
    "한국어 Word2Vec을 활용하여 업그레이드 된(?) LSTM 모델을 만들었다. accuracy는 높이고 loss를 줄였다.\n",
    "\n",
    "## 질문\n",
    "한국어 Word2Vec을 활용하여 만든 LSTM모델은 왜 더 성능이 향상되고 나머지 두 모델들은 왜 성능 저하가 되었는지 궁금하다..."
   ]
  },
  {
   "cell_type": "markdown",
   "id": "olympic-ottawa",
   "metadata": {},
   "source": [
    "## 느낀점\n",
    "여러가지 하이퍼 파라미터들을 조정하면서 accuracy를 높이는 것이 번거로운 일이라는 것을 깨달았다.ㅋㅋㅋ 뭔가 땅을 파서 뭔가를 찾는 느낌??\n",
    "점점 더 프로젝트가 커지고 어려워지고 있는데 그걸 버텨내고 있는 내가 성장하고 있다는 게 느껴진다. 이번 프로젝트로 오랜만에 밤도 새보고 힘들었지만 동시에 배움의 즐거움을 느낄 수 있어 너무 좋았다.ㅎㅎㅎ   "
   ]
  },
  {
   "cell_type": "code",
   "execution_count": null,
   "id": "returning-likelihood",
   "metadata": {},
   "outputs": [],
   "source": []
  }
 ],
 "metadata": {
  "kernelspec": {
   "display_name": "aiffel",
   "language": "python",
   "name": "aiffel"
  },
  "language_info": {
   "codemirror_mode": {
    "name": "ipython",
    "version": 3
   },
   "file_extension": ".py",
   "mimetype": "text/x-python",
   "name": "python",
   "nbconvert_exporter": "python",
   "pygments_lexer": "ipython3",
   "version": "3.7.9"
  }
 },
 "nbformat": 4,
 "nbformat_minor": 5
}
