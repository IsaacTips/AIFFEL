{
 "cells": [
  {
   "cell_type": "markdown",
   "id": "embedded-locator",
   "metadata": {},
   "source": [
    "# 프로젝트 - Movielens 영화 추천 실습"
   ]
  },
  {
   "cell_type": "markdown",
   "id": "joint-grocery",
   "metadata": {},
   "source": [
    "MF 모델 학습 방법을 토대로, 내가 좋아할 만한 영화 추천 시스템을 제작해 보자.<br>\n",
    "활용할 데이터셋은 추천시스템의 MNIST라고 부를만한 Movielens 데이터이다.\n",
    "\n",
    "* 유저가 영화에 대해 평점을 매긴 데이터가 데이터 크기 별로 있다. `MovieLens 1M Dataset` 사용 권장.\n",
    "* 별점 데이터는 대표적인 explicit 데이터이다. 하지만 implicit 데이터로 간주하고 테스트해볼 수 있다.\n",
    "* 별점을 __시청횟수__로 해석해서 생각.\n",
    "* 또한 유저가 3점 미만으로 준 데이터는 선호하지 않는다고 가정하고 제외.\n",
    "\n",
    "`MovieLens 1M Dataset` 데이터셋을 아래와 같이 직접 다운 받고 압축해제 하기.\n",
    "\n",
    "```bash\n",
    "1) wget으로 데이터 다운로드\n",
    "$ wget http://files.grouplens.org/datasets/movielens/ml-1m.zip\n",
    "\n",
    "2) 다운받은 데이터를 작업디렉토리로 옮김\n",
    "$ mv ml-1m.zip ~/aiffel/recommendata_iu/data\n",
    "\n",
    "3) 작업디렉토리로 이동\n",
    "$ cd ~/aiffel/recommendata_iu/data\n",
    "\n",
    "4) 압축 해제\n",
    "$ unzip ml-1m.zip\n",
    "```\n",
    "\n",
    "/home/aiffel-dj10/AIFFEL/Exploration/E8_"
   ]
  },
  {
   "cell_type": "markdown",
   "id": "optimum-maximum",
   "metadata": {},
   "source": [
    "## 1) 데이터 준비와 전처리\n",
    "---\n",
    "Movielens 데이터는 rating.dat 안에 이미 인덱싱까지 완료된 사용자-영화-평점 데이터가 깔끔하게 정리되어 있다."
   ]
  },
  {
   "cell_type": "markdown",
   "id": "worse-carry",
   "metadata": {},
   "source": [
    "### 필요한 라이브러리 불러오기"
   ]
  },
  {
   "cell_type": "code",
   "execution_count": 1,
   "id": "gentle-crest",
   "metadata": {
    "ExecuteTime": {
     "end_time": "2021-02-16T13:25:02.767158Z",
     "start_time": "2021-02-16T13:25:02.407762Z"
    }
   },
   "outputs": [],
   "source": [
    "import os\n",
    "import pandas as pd\n",
    "import numpy as np\n",
    "\n",
    "from scipy.sparse import csr_matrix\n",
    "\n",
    "from implicit.als import AlternatingLeastSquares"
   ]
  },
  {
   "cell_type": "markdown",
   "id": "loving-saver",
   "metadata": {},
   "source": [
    "### 데이터 불러오기"
   ]
  },
  {
   "cell_type": "code",
   "execution_count": 2,
   "id": "alive-borough",
   "metadata": {
    "ExecuteTime": {
     "end_time": "2021-02-16T13:25:06.019959Z",
     "start_time": "2021-02-16T13:25:02.768816Z"
    }
   },
   "outputs": [
    {
     "data": {
      "text/html": [
       "<div>\n",
       "<style scoped>\n",
       "    .dataframe tbody tr th:only-of-type {\n",
       "        vertical-align: middle;\n",
       "    }\n",
       "\n",
       "    .dataframe tbody tr th {\n",
       "        vertical-align: top;\n",
       "    }\n",
       "\n",
       "    .dataframe thead th {\n",
       "        text-align: right;\n",
       "    }\n",
       "</style>\n",
       "<table border=\"1\" class=\"dataframe\">\n",
       "  <thead>\n",
       "    <tr style=\"text-align: right;\">\n",
       "      <th></th>\n",
       "      <th>user_id</th>\n",
       "      <th>movie_id</th>\n",
       "      <th>rating</th>\n",
       "      <th>timestamp</th>\n",
       "    </tr>\n",
       "  </thead>\n",
       "  <tbody>\n",
       "    <tr>\n",
       "      <th>0</th>\n",
       "      <td>1</td>\n",
       "      <td>1193</td>\n",
       "      <td>5</td>\n",
       "      <td>978300760</td>\n",
       "    </tr>\n",
       "    <tr>\n",
       "      <th>1</th>\n",
       "      <td>1</td>\n",
       "      <td>661</td>\n",
       "      <td>3</td>\n",
       "      <td>978302109</td>\n",
       "    </tr>\n",
       "    <tr>\n",
       "      <th>2</th>\n",
       "      <td>1</td>\n",
       "      <td>914</td>\n",
       "      <td>3</td>\n",
       "      <td>978301968</td>\n",
       "    </tr>\n",
       "    <tr>\n",
       "      <th>3</th>\n",
       "      <td>1</td>\n",
       "      <td>3408</td>\n",
       "      <td>4</td>\n",
       "      <td>978300275</td>\n",
       "    </tr>\n",
       "    <tr>\n",
       "      <th>4</th>\n",
       "      <td>1</td>\n",
       "      <td>2355</td>\n",
       "      <td>5</td>\n",
       "      <td>978824291</td>\n",
       "    </tr>\n",
       "  </tbody>\n",
       "</table>\n",
       "</div>"
      ],
      "text/plain": [
       "   user_id  movie_id  rating  timestamp\n",
       "0        1      1193       5  978300760\n",
       "1        1       661       3  978302109\n",
       "2        1       914       3  978301968\n",
       "3        1      3408       4  978300275\n",
       "4        1      2355       5  978824291"
      ]
     },
     "execution_count": 2,
     "metadata": {},
     "output_type": "execute_result"
    }
   ],
   "source": [
    "rating_file_path=os.getenv('HOME') + '/AIFFEL/Exploration/E8_Recommender_system/data/ml-1m/ratings.dat'\n",
    "ratings_cols = ['user_id', 'movie_id', 'rating', 'timestamp']\n",
    "ratings = pd.read_csv(rating_file_path, sep='::', names=ratings_cols, engine='python')\n",
    "orginal_data_size = len(ratings)\n",
    "ratings.head()"
   ]
  },
  {
   "cell_type": "markdown",
   "id": "stretch-easter",
   "metadata": {},
   "source": [
    "### rating 3점 이상만 남기기"
   ]
  },
  {
   "cell_type": "code",
   "execution_count": 3,
   "id": "tracked-inventory",
   "metadata": {
    "ExecuteTime": {
     "end_time": "2021-02-16T13:25:06.043339Z",
     "start_time": "2021-02-16T13:25:06.021687Z"
    }
   },
   "outputs": [
    {
     "name": "stdout",
     "output_type": "stream",
     "text": [
      "orginal_data_size: 1000209, filtered_data_size: 836478\n",
      "Ratio of Remaining Data is 83.63%\n"
     ]
    }
   ],
   "source": [
    "# 3점 이상만 남깁니다.\n",
    "ratings = ratings[ratings['rating']>=3]\n",
    "filtered_data_size = len(ratings)\n",
    "\n",
    "print(f'orginal_data_size: {orginal_data_size}, filtered_data_size: {filtered_data_size}')\n",
    "print(f'Ratio of Remaining Data is {filtered_data_size / orginal_data_size:.2%}')"
   ]
  },
  {
   "cell_type": "markdown",
   "id": "revised-converter",
   "metadata": {},
   "source": [
    "### rating 컬럼 이름을 count로 바꾸기"
   ]
  },
  {
   "cell_type": "code",
   "execution_count": 4,
   "id": "useful-america",
   "metadata": {
    "ExecuteTime": {
     "end_time": "2021-02-16T13:25:06.047426Z",
     "start_time": "2021-02-16T13:25:06.044622Z"
    }
   },
   "outputs": [],
   "source": [
    "# rating 컬럼의 이름을 count로 바꿉니다.\n",
    "ratings.rename(columns={'rating':'count'}, inplace=True)"
   ]
  },
  {
   "cell_type": "code",
   "execution_count": 5,
   "id": "unlimited-diagram",
   "metadata": {
    "ExecuteTime": {
     "end_time": "2021-02-16T13:25:06.053577Z",
     "start_time": "2021-02-16T13:25:06.048947Z"
    }
   },
   "outputs": [
    {
     "data": {
      "text/plain": [
       "0          5\n",
       "1          3\n",
       "2          3\n",
       "3          4\n",
       "4          5\n",
       "          ..\n",
       "1000203    3\n",
       "1000205    5\n",
       "1000206    5\n",
       "1000207    4\n",
       "1000208    4\n",
       "Name: count, Length: 836478, dtype: int64"
      ]
     },
     "execution_count": 5,
     "metadata": {},
     "output_type": "execute_result"
    }
   ],
   "source": [
    "ratings['count']"
   ]
  },
  {
   "cell_type": "markdown",
   "id": "corresponding-circulation",
   "metadata": {},
   "source": [
    "### 영화 제목을 보기 위해 movies 데이터 불러오기"
   ]
  },
  {
   "cell_type": "code",
   "execution_count": 6,
   "id": "excellent-stylus",
   "metadata": {
    "ExecuteTime": {
     "end_time": "2021-02-16T13:25:06.072678Z",
     "start_time": "2021-02-16T13:25:06.054975Z"
    }
   },
   "outputs": [
    {
     "data": {
      "text/html": [
       "<div>\n",
       "<style scoped>\n",
       "    .dataframe tbody tr th:only-of-type {\n",
       "        vertical-align: middle;\n",
       "    }\n",
       "\n",
       "    .dataframe tbody tr th {\n",
       "        vertical-align: top;\n",
       "    }\n",
       "\n",
       "    .dataframe thead th {\n",
       "        text-align: right;\n",
       "    }\n",
       "</style>\n",
       "<table border=\"1\" class=\"dataframe\">\n",
       "  <thead>\n",
       "    <tr style=\"text-align: right;\">\n",
       "      <th></th>\n",
       "      <th>movie_id</th>\n",
       "      <th>title</th>\n",
       "      <th>genre</th>\n",
       "    </tr>\n",
       "  </thead>\n",
       "  <tbody>\n",
       "    <tr>\n",
       "      <th>0</th>\n",
       "      <td>1</td>\n",
       "      <td>Toy Story (1995)</td>\n",
       "      <td>Animation|Children's|Comedy</td>\n",
       "    </tr>\n",
       "    <tr>\n",
       "      <th>1</th>\n",
       "      <td>2</td>\n",
       "      <td>Jumanji (1995)</td>\n",
       "      <td>Adventure|Children's|Fantasy</td>\n",
       "    </tr>\n",
       "    <tr>\n",
       "      <th>2</th>\n",
       "      <td>3</td>\n",
       "      <td>Grumpier Old Men (1995)</td>\n",
       "      <td>Comedy|Romance</td>\n",
       "    </tr>\n",
       "    <tr>\n",
       "      <th>3</th>\n",
       "      <td>4</td>\n",
       "      <td>Waiting to Exhale (1995)</td>\n",
       "      <td>Comedy|Drama</td>\n",
       "    </tr>\n",
       "    <tr>\n",
       "      <th>4</th>\n",
       "      <td>5</td>\n",
       "      <td>Father of the Bride Part II (1995)</td>\n",
       "      <td>Comedy</td>\n",
       "    </tr>\n",
       "  </tbody>\n",
       "</table>\n",
       "</div>"
      ],
      "text/plain": [
       "   movie_id                               title                         genre\n",
       "0         1                    Toy Story (1995)   Animation|Children's|Comedy\n",
       "1         2                      Jumanji (1995)  Adventure|Children's|Fantasy\n",
       "2         3             Grumpier Old Men (1995)                Comedy|Romance\n",
       "3         4            Waiting to Exhale (1995)                  Comedy|Drama\n",
       "4         5  Father of the Bride Part II (1995)                        Comedy"
      ]
     },
     "execution_count": 6,
     "metadata": {},
     "output_type": "execute_result"
    }
   ],
   "source": [
    "# 영화 제목을 보기 위해 메타 데이터를 읽어옵니다.\n",
    "movie_file_path=os.getenv('HOME') + '/AIFFEL/Exploration/E8_Recommender_system/data/ml-1m/movies.dat'\n",
    "cols = ['movie_id', 'title', 'genre'] \n",
    "movies = pd.read_csv(movie_file_path, sep='::', names=cols, engine='python')\n",
    "movies.head()"
   ]
  },
  {
   "cell_type": "markdown",
   "id": "southwest-designation",
   "metadata": {},
   "source": [
    "## 2) 분석해 봅시다.\n",
    "---\n",
    "* ratings에 있는 유니크한 영화 개수\n",
    "* rating에 있는 유니크한 사용자 수\n",
    "* 가장 인기 있는 영화 30개(인기순)"
   ]
  },
  {
   "cell_type": "markdown",
   "id": "irish-structure",
   "metadata": {},
   "source": [
    "### ratings에 있는 유니크한 영화 개수"
   ]
  },
  {
   "cell_type": "code",
   "execution_count": 7,
   "id": "fifty-anchor",
   "metadata": {
    "ExecuteTime": {
     "end_time": "2021-02-16T13:25:06.082195Z",
     "start_time": "2021-02-16T13:25:06.075223Z"
    }
   },
   "outputs": [
    {
     "name": "stdout",
     "output_type": "stream",
     "text": [
      "3628\n"
     ]
    }
   ],
   "source": [
    "print(ratings['movie_id'].nunique())"
   ]
  },
  {
   "cell_type": "markdown",
   "id": "opening-collar",
   "metadata": {},
   "source": [
    "### rating에 있는 유니크한 사용자 수"
   ]
  },
  {
   "cell_type": "code",
   "execution_count": 8,
   "id": "seven-sperm",
   "metadata": {
    "ExecuteTime": {
     "end_time": "2021-02-16T13:25:06.092461Z",
     "start_time": "2021-02-16T13:25:06.083913Z"
    }
   },
   "outputs": [
    {
     "name": "stdout",
     "output_type": "stream",
     "text": [
      "6039\n"
     ]
    }
   ],
   "source": [
    "print(ratings['user_id'].nunique())"
   ]
  },
  {
   "cell_type": "markdown",
   "id": "electoral-fraction",
   "metadata": {},
   "source": [
    "### 가장 인기 있는 영화 30개(인기순)"
   ]
  },
  {
   "cell_type": "code",
   "execution_count": 9,
   "id": "collectible-interface",
   "metadata": {
    "ExecuteTime": {
     "end_time": "2021-02-16T13:25:06.250938Z",
     "start_time": "2021-02-16T13:25:06.093867Z"
    }
   },
   "outputs": [
    {
     "data": {
      "text/plain": [
       "title\n",
       "American Beauty (1999)                                   3211\n",
       "Star Wars: Episode IV - A New Hope (1977)                2910\n",
       "Star Wars: Episode V - The Empire Strikes Back (1980)    2885\n",
       "Star Wars: Episode VI - Return of the Jedi (1983)        2716\n",
       "Saving Private Ryan (1998)                               2561\n",
       "Terminator 2: Judgment Day (1991)                        2509\n",
       "Silence of the Lambs, The (1991)                         2498\n",
       "Raiders of the Lost Ark (1981)                           2473\n",
       "Back to the Future (1985)                                2460\n",
       "Matrix, The (1999)                                       2434\n",
       "Jurassic Park (1993)                                     2413\n",
       "Sixth Sense, The (1999)                                  2385\n",
       "Fargo (1996)                                             2371\n",
       "Braveheart (1995)                                        2314\n",
       "Men in Black (1997)                                      2297\n",
       "Schindler's List (1993)                                  2257\n",
       "Princess Bride, The (1987)                               2252\n",
       "Shakespeare in Love (1998)                               2213\n",
       "L.A. Confidential (1997)                                 2210\n",
       "Shawshank Redemption, The (1994)                         2194\n",
       "Godfather, The (1972)                                    2167\n",
       "Groundhog Day (1993)                                     2121\n",
       "E.T. the Extra-Terrestrial (1982)                        2102\n",
       "Being John Malkovich (1999)                              2066\n",
       "Ghostbusters (1984)                                      2051\n",
       "Pulp Fiction (1994)                                      2030\n",
       "Forrest Gump (1994)                                      2022\n",
       "Terminator, The (1984)                                   2019\n",
       "Toy Story (1995)                                         2000\n",
       "Fugitive, The (1993)                                     1941\n",
       "Name: user_id, dtype: int64"
      ]
     },
     "execution_count": 9,
     "metadata": {},
     "output_type": "execute_result"
    }
   ],
   "source": [
    "mv_merge = pd.merge(ratings, movies, how='left')\n",
    "mv_merge\n",
    "\n",
    "mv_count = mv_merge.groupby('title')['user_id'].count()\n",
    "mv_count.sort_values(ascending=False).head(30)"
   ]
  },
  {
   "cell_type": "markdown",
   "id": "architectural-marsh",
   "metadata": {},
   "source": [
    "## 3) 내가 선호하는 영화를 5가지 골라서 rating에 추가해 줍시다.\n",
    "---\n",
    "내가 선호하는 Jurassic Park (1993), Toy Story (1995), Toy Story 2 (1999), E.T. the Extra-Terrestrial (1982), Schindler's List (1993) 다섯가지를 추가한다."
   ]
  },
  {
   "cell_type": "code",
   "execution_count": 10,
   "id": "fifteen-party",
   "metadata": {
    "ExecuteTime": {
     "end_time": "2021-02-16T13:25:06.266003Z",
     "start_time": "2021-02-16T13:25:06.251986Z"
    }
   },
   "outputs": [
    {
     "name": "stdout",
     "output_type": "stream",
     "text": [
      "     movie_id                 title                    genre\n",
      "476       480  Jurassic Park (1993)  Action|Adventure|Sci-Fi\n",
      "~~~~~~~~~~~~~~~~~~~~~~~~~~~~~~~~~~~~~~~~~~~~~~~~~~~~~~~~~~~~~~~~~~~~~~~~~~~~~~~\n",
      "   movie_id             title                        genre\n",
      "0         1  Toy Story (1995)  Animation|Children's|Comedy\n",
      "~~~~~~~~~~~~~~~~~~~~~~~~~~~~~~~~~~~~~~~~~~~~~~~~~~~~~~~~~~~~~~~~~~~~~~~~~~~~~~~\n",
      "      movie_id               title                        genre\n",
      "3045      3114  Toy Story 2 (1999)  Animation|Children's|Comedy\n",
      "~~~~~~~~~~~~~~~~~~~~~~~~~~~~~~~~~~~~~~~~~~~~~~~~~~~~~~~~~~~~~~~~~~~~~~~~~~~~~~~\n",
      "      movie_id                              title  \\\n",
      "1081      1097  E.T. the Extra-Terrestrial (1982)   \n",
      "\n",
      "                                genre  \n",
      "1081  Children's|Drama|Fantasy|Sci-Fi  \n",
      "~~~~~~~~~~~~~~~~~~~~~~~~~~~~~~~~~~~~~~~~~~~~~~~~~~~~~~~~~~~~~~~~~~~~~~~~~~~~~~~\n",
      "     movie_id                    title      genre\n",
      "523       527  Schindler's List (1993)  Drama|War\n",
      "~~~~~~~~~~~~~~~~~~~~~~~~~~~~~~~~~~~~~~~~~~~~~~~~~~~~~~~~~~~~~~~~~~~~~~~~~~~~~~~\n"
     ]
    }
   ],
   "source": [
    "my_favorite = ['Jurassic Park (1993)', 'Toy Story (1995)', 'Toy Story 2 (1999)', 'E.T. the Extra-Terrestrial (1982)', \"Schindler's List (1993)\"]\n",
    "               \n",
    "for movie in my_favorite:\n",
    "    print(movies[movies['title'] == movie])\n",
    "    print(\"~~~~~~~~~~~~~~~~~~~~~~~~~~~~~~~~~~~~~~~~~~~~~~~~~~~~~~~~~~~~~~~~~~~~~~~~~~~~~~~\")"
   ]
  },
  {
   "cell_type": "markdown",
   "id": "simple-express",
   "metadata": {},
   "source": [
    "### 데이터 프레임에 추가하기"
   ]
  },
  {
   "cell_type": "code",
   "execution_count": 11,
   "id": "sublime-chile",
   "metadata": {
    "ExecuteTime": {
     "end_time": "2021-02-16T13:25:06.349898Z",
     "start_time": "2021-02-16T13:25:06.267558Z"
    }
   },
   "outputs": [
    {
     "data": {
      "text/html": [
       "<div>\n",
       "<style scoped>\n",
       "    .dataframe tbody tr th:only-of-type {\n",
       "        vertical-align: middle;\n",
       "    }\n",
       "\n",
       "    .dataframe tbody tr th {\n",
       "        vertical-align: top;\n",
       "    }\n",
       "\n",
       "    .dataframe thead th {\n",
       "        text-align: right;\n",
       "    }\n",
       "</style>\n",
       "<table border=\"1\" class=\"dataframe\">\n",
       "  <thead>\n",
       "    <tr style=\"text-align: right;\">\n",
       "      <th></th>\n",
       "      <th>user_id</th>\n",
       "      <th>movie_id</th>\n",
       "      <th>count</th>\n",
       "      <th>timestamp</th>\n",
       "    </tr>\n",
       "  </thead>\n",
       "  <tbody>\n",
       "    <tr>\n",
       "      <th>1000203</th>\n",
       "      <td>6040</td>\n",
       "      <td>1090</td>\n",
       "      <td>3</td>\n",
       "      <td>956715518.0</td>\n",
       "    </tr>\n",
       "    <tr>\n",
       "      <th>1000205</th>\n",
       "      <td>6040</td>\n",
       "      <td>1094</td>\n",
       "      <td>5</td>\n",
       "      <td>956704887.0</td>\n",
       "    </tr>\n",
       "    <tr>\n",
       "      <th>1000206</th>\n",
       "      <td>6040</td>\n",
       "      <td>562</td>\n",
       "      <td>5</td>\n",
       "      <td>956704746.0</td>\n",
       "    </tr>\n",
       "    <tr>\n",
       "      <th>1000207</th>\n",
       "      <td>6040</td>\n",
       "      <td>1096</td>\n",
       "      <td>4</td>\n",
       "      <td>956715648.0</td>\n",
       "    </tr>\n",
       "    <tr>\n",
       "      <th>1000208</th>\n",
       "      <td>6040</td>\n",
       "      <td>1097</td>\n",
       "      <td>4</td>\n",
       "      <td>956715569.0</td>\n",
       "    </tr>\n",
       "    <tr>\n",
       "      <th>0</th>\n",
       "      <td>isaac</td>\n",
       "      <td>480</td>\n",
       "      <td>5</td>\n",
       "      <td>NaN</td>\n",
       "    </tr>\n",
       "    <tr>\n",
       "      <th>1</th>\n",
       "      <td>isaac</td>\n",
       "      <td>1</td>\n",
       "      <td>5</td>\n",
       "      <td>NaN</td>\n",
       "    </tr>\n",
       "    <tr>\n",
       "      <th>2</th>\n",
       "      <td>isaac</td>\n",
       "      <td>3114</td>\n",
       "      <td>5</td>\n",
       "      <td>NaN</td>\n",
       "    </tr>\n",
       "    <tr>\n",
       "      <th>3</th>\n",
       "      <td>isaac</td>\n",
       "      <td>1097</td>\n",
       "      <td>5</td>\n",
       "      <td>NaN</td>\n",
       "    </tr>\n",
       "    <tr>\n",
       "      <th>4</th>\n",
       "      <td>isaac</td>\n",
       "      <td>527</td>\n",
       "      <td>5</td>\n",
       "      <td>NaN</td>\n",
       "    </tr>\n",
       "  </tbody>\n",
       "</table>\n",
       "</div>"
      ],
      "text/plain": [
       "        user_id  movie_id  count    timestamp\n",
       "1000203    6040      1090      3  956715518.0\n",
       "1000205    6040      1094      5  956704887.0\n",
       "1000206    6040       562      5  956704746.0\n",
       "1000207    6040      1096      4  956715648.0\n",
       "1000208    6040      1097      4  956715569.0\n",
       "0         isaac       480      5          NaN\n",
       "1         isaac         1      5          NaN\n",
       "2         isaac      3114      5          NaN\n",
       "3         isaac      1097      5          NaN\n",
       "4         isaac       527      5          NaN"
      ]
     },
     "execution_count": 11,
     "metadata": {},
     "output_type": "execute_result"
    }
   ],
   "source": [
    "my_movielist = pd.DataFrame({'user_id': ['isaac']*5, 'count':[5]*5, 'movie_id': [480, 1, 3114, 1097, 527]})\n",
    "\n",
    "if not ratings.isin({'user_id':['zimin']})['user_id'].any():  # user_id에 'zimin'이라는 데이터가 없다면\n",
    "    ratings = ratings.append(my_movielist)                           # 위에 임의로 만든 my_favorite 데이터를 추가해 줍니다. \n",
    "\n",
    "ratings.tail(10)       # 잘 추가되었는지 확인해 봅시다."
   ]
  },
  {
   "cell_type": "markdown",
   "id": "paperback-trace",
   "metadata": {},
   "source": [
    "### 사용하는 칼럼만 남겨주기. (timestamp 제거)"
   ]
  },
  {
   "cell_type": "code",
   "execution_count": 12,
   "id": "short-feature",
   "metadata": {
    "ExecuteTime": {
     "end_time": "2021-02-16T13:25:06.367876Z",
     "start_time": "2021-02-16T13:25:06.351032Z"
    }
   },
   "outputs": [
    {
     "data": {
      "text/html": [
       "<div>\n",
       "<style scoped>\n",
       "    .dataframe tbody tr th:only-of-type {\n",
       "        vertical-align: middle;\n",
       "    }\n",
       "\n",
       "    .dataframe tbody tr th {\n",
       "        vertical-align: top;\n",
       "    }\n",
       "\n",
       "    .dataframe thead th {\n",
       "        text-align: right;\n",
       "    }\n",
       "</style>\n",
       "<table border=\"1\" class=\"dataframe\">\n",
       "  <thead>\n",
       "    <tr style=\"text-align: right;\">\n",
       "      <th></th>\n",
       "      <th>user_id</th>\n",
       "      <th>movie_id</th>\n",
       "      <th>count</th>\n",
       "    </tr>\n",
       "  </thead>\n",
       "  <tbody>\n",
       "    <tr>\n",
       "      <th>0</th>\n",
       "      <td>1</td>\n",
       "      <td>1193</td>\n",
       "      <td>5</td>\n",
       "    </tr>\n",
       "    <tr>\n",
       "      <th>1</th>\n",
       "      <td>1</td>\n",
       "      <td>661</td>\n",
       "      <td>3</td>\n",
       "    </tr>\n",
       "    <tr>\n",
       "      <th>2</th>\n",
       "      <td>1</td>\n",
       "      <td>914</td>\n",
       "      <td>3</td>\n",
       "    </tr>\n",
       "    <tr>\n",
       "      <th>3</th>\n",
       "      <td>1</td>\n",
       "      <td>3408</td>\n",
       "      <td>4</td>\n",
       "    </tr>\n",
       "    <tr>\n",
       "      <th>4</th>\n",
       "      <td>1</td>\n",
       "      <td>2355</td>\n",
       "      <td>5</td>\n",
       "    </tr>\n",
       "    <tr>\n",
       "      <th>5</th>\n",
       "      <td>1</td>\n",
       "      <td>1197</td>\n",
       "      <td>3</td>\n",
       "    </tr>\n",
       "    <tr>\n",
       "      <th>6</th>\n",
       "      <td>1</td>\n",
       "      <td>1287</td>\n",
       "      <td>5</td>\n",
       "    </tr>\n",
       "    <tr>\n",
       "      <th>7</th>\n",
       "      <td>1</td>\n",
       "      <td>2804</td>\n",
       "      <td>5</td>\n",
       "    </tr>\n",
       "    <tr>\n",
       "      <th>8</th>\n",
       "      <td>1</td>\n",
       "      <td>594</td>\n",
       "      <td>4</td>\n",
       "    </tr>\n",
       "    <tr>\n",
       "      <th>9</th>\n",
       "      <td>1</td>\n",
       "      <td>919</td>\n",
       "      <td>4</td>\n",
       "    </tr>\n",
       "  </tbody>\n",
       "</table>\n",
       "</div>"
      ],
      "text/plain": [
       "  user_id  movie_id  count\n",
       "0       1      1193      5\n",
       "1       1       661      3\n",
       "2       1       914      3\n",
       "3       1      3408      4\n",
       "4       1      2355      5\n",
       "5       1      1197      3\n",
       "6       1      1287      5\n",
       "7       1      2804      5\n",
       "8       1       594      4\n",
       "9       1       919      4"
      ]
     },
     "execution_count": 12,
     "metadata": {},
     "output_type": "execute_result"
    }
   ],
   "source": [
    "# 사용하는 컬럼만 남겨줍니다.\n",
    "using_cols = ['user_id', 'movie_id', 'count']\n",
    "ratings = ratings[using_cols]\n",
    "ratings.head(10)"
   ]
  },
  {
   "cell_type": "markdown",
   "id": "operating-thomson",
   "metadata": {},
   "source": [
    "### user_id와 movie_id를 indexing 하기."
   ]
  },
  {
   "cell_type": "code",
   "execution_count": 13,
   "id": "abroad-wallpaper",
   "metadata": {
    "ExecuteTime": {
     "end_time": "2021-02-16T13:25:06.891103Z",
     "start_time": "2021-02-16T13:25:06.369299Z"
    }
   },
   "outputs": [
    {
     "name": "stdout",
     "output_type": "stream",
     "text": [
      "user_id column indexing OK!!\n",
      "movie column indexing OK!!\n"
     ]
    },
    {
     "data": {
      "text/html": [
       "<div>\n",
       "<style scoped>\n",
       "    .dataframe tbody tr th:only-of-type {\n",
       "        vertical-align: middle;\n",
       "    }\n",
       "\n",
       "    .dataframe tbody tr th {\n",
       "        vertical-align: top;\n",
       "    }\n",
       "\n",
       "    .dataframe thead th {\n",
       "        text-align: right;\n",
       "    }\n",
       "</style>\n",
       "<table border=\"1\" class=\"dataframe\">\n",
       "  <thead>\n",
       "    <tr style=\"text-align: right;\">\n",
       "      <th></th>\n",
       "      <th>user_id</th>\n",
       "      <th>movie_id</th>\n",
       "      <th>count</th>\n",
       "    </tr>\n",
       "  </thead>\n",
       "  <tbody>\n",
       "    <tr>\n",
       "      <th>0</th>\n",
       "      <td>0</td>\n",
       "      <td>0</td>\n",
       "      <td>5</td>\n",
       "    </tr>\n",
       "    <tr>\n",
       "      <th>1</th>\n",
       "      <td>0</td>\n",
       "      <td>1</td>\n",
       "      <td>3</td>\n",
       "    </tr>\n",
       "    <tr>\n",
       "      <th>2</th>\n",
       "      <td>0</td>\n",
       "      <td>2</td>\n",
       "      <td>3</td>\n",
       "    </tr>\n",
       "    <tr>\n",
       "      <th>3</th>\n",
       "      <td>0</td>\n",
       "      <td>3</td>\n",
       "      <td>4</td>\n",
       "    </tr>\n",
       "    <tr>\n",
       "      <th>4</th>\n",
       "      <td>0</td>\n",
       "      <td>4</td>\n",
       "      <td>5</td>\n",
       "    </tr>\n",
       "    <tr>\n",
       "      <th>...</th>\n",
       "      <td>...</td>\n",
       "      <td>...</td>\n",
       "      <td>...</td>\n",
       "    </tr>\n",
       "    <tr>\n",
       "      <th>0</th>\n",
       "      <td>6039</td>\n",
       "      <td>107</td>\n",
       "      <td>5</td>\n",
       "    </tr>\n",
       "    <tr>\n",
       "      <th>1</th>\n",
       "      <td>6039</td>\n",
       "      <td>40</td>\n",
       "      <td>5</td>\n",
       "    </tr>\n",
       "    <tr>\n",
       "      <th>2</th>\n",
       "      <td>6039</td>\n",
       "      <td>50</td>\n",
       "      <td>5</td>\n",
       "    </tr>\n",
       "    <tr>\n",
       "      <th>3</th>\n",
       "      <td>6039</td>\n",
       "      <td>26</td>\n",
       "      <td>5</td>\n",
       "    </tr>\n",
       "    <tr>\n",
       "      <th>4</th>\n",
       "      <td>6039</td>\n",
       "      <td>23</td>\n",
       "      <td>5</td>\n",
       "    </tr>\n",
       "  </tbody>\n",
       "</table>\n",
       "<p>836483 rows × 3 columns</p>\n",
       "</div>"
      ],
      "text/plain": [
       "    user_id  movie_id  count\n",
       "0         0         0      5\n",
       "1         0         1      3\n",
       "2         0         2      3\n",
       "3         0         3      4\n",
       "4         0         4      5\n",
       "..      ...       ...    ...\n",
       "0      6039       107      5\n",
       "1      6039        40      5\n",
       "2      6039        50      5\n",
       "3      6039        26      5\n",
       "4      6039        23      5\n",
       "\n",
       "[836483 rows x 3 columns]"
      ]
     },
     "execution_count": 13,
     "metadata": {},
     "output_type": "execute_result"
    }
   ],
   "source": [
    "# 고유한 유저, 영화를 찾아내는 코드\n",
    "user_unique = ratings['user_id'].unique()\n",
    "movie_unique = ratings['movie_id'].unique()\n",
    "\n",
    "# 유저, 영화 indexing 하는 코드 idx는 index의 약자입니다.\n",
    "user_to_idx = {v:k for k,v in enumerate(user_unique)}\n",
    "movie_to_idx = {v:k for k,v in enumerate(movie_unique)}\n",
    "\n",
    "# indexing을 통해 데이터 컬럼 내 값을 바꾸는 코드\n",
    "# dictionary 자료형의 get 함수는 https://wikidocs.net/16 을 참고하세요.\n",
    "\n",
    "# user_to_idx.get을 통해 user_id 컬럼의 모든 값을 인덱싱한 Series를 구해 봅시다. \n",
    "# 혹시 정상적으로 인덱싱되지 않은 row가 있다면 인덱스가 NaN이 될 테니 dropna()로 제거합니다. \n",
    "temp_user_data = ratings['user_id'].map(user_to_idx.get).dropna()\n",
    "if len(temp_user_data) == len(ratings):   # 모든 row가 정상적으로 인덱싱되었다면\n",
    "    print('user_id column indexing OK!!')\n",
    "    ratings['user_id'] = temp_user_data   # data['user_id']을 인덱싱된 Series로 교체해 줍니다. \n",
    "else:\n",
    "    print('user_id column indexing Fail!!')\n",
    "\n",
    "# movie_to_idx을 통해 movie 컬럼도 동일한 방식으로 인덱싱해 줍니다. \n",
    "temp_movie_data = ratings['movie_id'].map(movie_to_idx.get).dropna()\n",
    "if len(temp_movie_data) == len(ratings):\n",
    "    print('movie column indexing OK!!')\n",
    "    ratings['movie_id'] = temp_movie_data\n",
    "else:\n",
    "    print('movie column indexing Fail!!')\n",
    "\n",
    "ratings"
   ]
  },
  {
   "cell_type": "markdown",
   "id": "coupled-shield",
   "metadata": {},
   "source": [
    "## 4) CSR matrix를 직접 만들어 봅시다.\n",
    "---"
   ]
  },
  {
   "cell_type": "code",
   "execution_count": 14,
   "id": "chicken-kingdom",
   "metadata": {
    "ExecuteTime": {
     "end_time": "2021-02-16T13:25:06.956093Z",
     "start_time": "2021-02-16T13:25:06.893239Z"
    }
   },
   "outputs": [
    {
     "data": {
      "text/plain": [
       "<6040x3628 sparse matrix of type '<class 'numpy.int64'>'\n",
       "\twith 836483 stored elements in Compressed Sparse Row format>"
      ]
     },
     "execution_count": 14,
     "metadata": {},
     "output_type": "execute_result"
    }
   ],
   "source": [
    "num_user = ratings['user_id'].nunique()\n",
    "num_movie = ratings['movie_id'].nunique()\n",
    "\n",
    "csr_data = csr_matrix((ratings['count'], (ratings.user_id, ratings.movie_id)), shape= (num_user, num_movie))\n",
    "csr_data"
   ]
  },
  {
   "cell_type": "markdown",
   "id": "listed-prague",
   "metadata": {},
   "source": [
    "## 5) als_model = AlternatingLeastSquares 모델을 직접 구성하여 훈련시켜 봅시다.\n",
    "---\n"
   ]
  },
  {
   "cell_type": "code",
   "execution_count": 15,
   "id": "electric-minneapolis",
   "metadata": {
    "ExecuteTime": {
     "end_time": "2021-02-16T13:25:06.959323Z",
     "start_time": "2021-02-16T13:25:06.957160Z"
    }
   },
   "outputs": [],
   "source": [
    "# implicit 라이브러리에서 권장하고 있는 부분입니다.\n",
    "os.environ['OPENBLAS_NUM_THREADS']='1'\n",
    "os.environ['KMP_DUPLICATE_LIB_OK']='True'\n",
    "os.environ['MKL_NUM_THREADS']='1'"
   ]
  },
  {
   "cell_type": "markdown",
   "id": "exempt-congress",
   "metadata": {},
   "source": [
    "### AlternatingLeastSquares 모델 선언"
   ]
  },
  {
   "cell_type": "code",
   "execution_count": 16,
   "id": "common-species",
   "metadata": {
    "ExecuteTime": {
     "end_time": "2021-02-16T13:25:06.962526Z",
     "start_time": "2021-02-16T13:25:06.960532Z"
    }
   },
   "outputs": [],
   "source": [
    "# Implicit AlternatingLeastSquares 모델의 선언\n",
    "als_model = AlternatingLeastSquares(factors=100, regularization=0.01, use_gpu=False, iterations=10, dtype=np.float32)"
   ]
  },
  {
   "cell_type": "markdown",
   "id": "reported-sequence",
   "metadata": {},
   "source": [
    "### nput으로 (item X user 꼴의 matrix를 받기 때문에 Transpose해주기."
   ]
  },
  {
   "cell_type": "code",
   "execution_count": 17,
   "id": "individual-donna",
   "metadata": {
    "ExecuteTime": {
     "end_time": "2021-02-16T13:25:06.967131Z",
     "start_time": "2021-02-16T13:25:06.963939Z"
    }
   },
   "outputs": [
    {
     "data": {
      "text/plain": [
       "<3628x6040 sparse matrix of type '<class 'numpy.int64'>'\n",
       "\twith 836483 stored elements in Compressed Sparse Column format>"
      ]
     },
     "execution_count": 17,
     "metadata": {},
     "output_type": "execute_result"
    }
   ],
   "source": [
    "# als 모델은 input으로 (item X user 꼴의 matrix를 받기 때문에 Transpose해줍니다.)\n",
    "csr_data_transpose = csr_data.T\n",
    "csr_data_transpose"
   ]
  },
  {
   "cell_type": "markdown",
   "id": "outer-shelter",
   "metadata": {},
   "source": [
    "### 모델 훈련"
   ]
  },
  {
   "cell_type": "code",
   "execution_count": 18,
   "id": "demanding-viking",
   "metadata": {
    "ExecuteTime": {
     "end_time": "2021-02-16T13:25:08.743345Z",
     "start_time": "2021-02-16T13:25:06.968741Z"
    }
   },
   "outputs": [
    {
     "data": {
      "application/vnd.jupyter.widget-view+json": {
       "model_id": "be0d60aa730f489cb1d2a8ad2a856e3f",
       "version_major": 2,
       "version_minor": 0
      },
      "text/plain": [
       "  0%|          | 0/10 [00:00<?, ?it/s]"
      ]
     },
     "metadata": {},
     "output_type": "display_data"
    }
   ],
   "source": [
    "# 모델 훈련\n",
    "als_model.fit(csr_data_transpose)"
   ]
  },
  {
   "cell_type": "markdown",
   "id": "different-confidentiality",
   "metadata": {},
   "source": [
    "## 6) 내가 선호하는 5가지 영화 중 하나와 그 외의 영화 하나를 골라 훈련된 모델이 예측한 나의 선호도를 파악해 보세요.\n",
    "---"
   ]
  },
  {
   "cell_type": "markdown",
   "id": "beautiful-shell",
   "metadata": {},
   "source": [
    "### isaac이 처음에 추가한 Jurassic_Park의 선호도 구하기."
   ]
  },
  {
   "cell_type": "code",
   "execution_count": 19,
   "id": "mighty-turtle",
   "metadata": {
    "ExecuteTime": {
     "end_time": "2021-02-16T13:25:08.747181Z",
     "start_time": "2021-02-16T13:25:08.744567Z"
    }
   },
   "outputs": [],
   "source": [
    "isaac, Jurassic_Park = user_to_idx['isaac'], movie_to_idx[480] #Jurassic_Park의 인덱스\n",
    "isaac_vector, Jurassic_Park_vector = als_model.user_factors[isaac], als_model.item_factors[Jurassic_Park]"
   ]
  },
  {
   "cell_type": "code",
   "execution_count": 20,
   "id": "unable-memorial",
   "metadata": {
    "ExecuteTime": {
     "end_time": "2021-02-16T13:25:08.752263Z",
     "start_time": "2021-02-16T13:25:08.748460Z"
    }
   },
   "outputs": [
    {
     "data": {
      "text/plain": [
       "array([-0.02386551, -0.87607867,  0.36801165, -0.29957303,  0.02882819,\n",
       "       -0.6979108 , -0.17374676,  0.27483144,  0.5963833 ,  0.4019746 ,\n",
       "        0.44503725, -0.49896365,  0.12812954,  0.7073384 , -0.7197418 ,\n",
       "        0.47106862, -0.6381918 ,  0.5100366 ,  0.14978908,  0.7785976 ,\n",
       "       -1.0330039 , -0.44802856, -0.7169243 ,  0.39942265, -0.40406215,\n",
       "        0.90051967, -0.47214532, -0.84564555,  0.8989661 ,  0.91104245,\n",
       "        1.2129846 ,  0.80364513, -0.5711532 ,  0.6333089 , -0.06375101,\n",
       "       -0.16004841,  0.08671572,  0.7615351 , -0.97713834,  0.47015837,\n",
       "       -0.14112319,  0.21637633,  1.0569081 , -0.22157267, -0.602088  ,\n",
       "       -1.0190368 ,  0.14026661, -1.2144214 ,  0.4363405 , -0.14443816,\n",
       "       -1.3019031 ,  0.5404452 , -0.5976917 ,  0.25918686, -0.05550312,\n",
       "        0.3691377 , -0.30616477,  0.279329  ,  0.5445898 , -0.39094558,\n",
       "       -0.02102244,  0.8141729 , -0.54683006, -0.52023536, -0.07848987,\n",
       "       -0.55622315,  0.9794422 , -0.10185075, -0.03328773, -0.15937962,\n",
       "       -0.30098793,  0.25440985, -0.03229371,  0.48083234,  0.8860094 ,\n",
       "        0.10177999,  0.47239062,  0.85981923, -0.24797335,  0.55255187,\n",
       "        1.1890287 ,  0.92794514, -0.5497311 , -0.07871002, -1.2023767 ,\n",
       "        0.9903428 ,  0.16670975,  0.45284727,  0.509819  ,  0.2963527 ,\n",
       "       -0.6614017 ,  0.35476145, -0.74679965, -0.6842447 ,  0.2709207 ,\n",
       "       -0.06411714,  0.05246418, -0.58411276, -0.26847225, -1.5848253 ],\n",
       "      dtype=float32)"
      ]
     },
     "execution_count": 20,
     "metadata": {},
     "output_type": "execute_result"
    }
   ],
   "source": [
    "isaac_vector"
   ]
  },
  {
   "cell_type": "code",
   "execution_count": 21,
   "id": "intended-cliff",
   "metadata": {
    "ExecuteTime": {
     "end_time": "2021-02-16T13:25:08.763476Z",
     "start_time": "2021-02-16T13:25:08.753420Z"
    }
   },
   "outputs": [
    {
     "data": {
      "text/plain": [
       "array([ 2.5728627e-03,  2.4104880e-02,  2.2717193e-03,  2.8791416e-02,\n",
       "       -1.9117048e-02, -6.2603136e-03, -2.5445204e-02, -2.8015422e-02,\n",
       "        1.2143780e-02,  2.8613903e-02, -9.2518756e-05, -1.8976922e-03,\n",
       "        4.4220481e-03,  2.4245406e-02, -1.4281294e-03,  3.9138120e-02,\n",
       "        1.3301191e-02, -1.0204745e-02, -1.0414334e-02,  2.0861251e-02,\n",
       "        1.3740401e-03, -5.3600627e-03,  8.3918246e-03,  2.2508372e-02,\n",
       "        8.3364835e-03,  1.3065014e-02, -3.7078720e-03, -2.6109401e-02,\n",
       "        2.4294479e-02,  8.9228759e-03,  1.1113954e-02,  5.7978509e-03,\n",
       "        8.9305183e-03,  8.2871392e-03, -1.0974451e-02,  1.3871003e-02,\n",
       "        1.7008021e-02,  1.0997117e-02, -1.4930805e-02,  8.3667887e-03,\n",
       "       -7.2567929e-03,  1.3588779e-03,  3.4346518e-03, -7.1670567e-03,\n",
       "        1.0801674e-02, -2.0758195e-02, -8.5925328e-04, -2.9594749e-02,\n",
       "        2.2954797e-02,  3.0657053e-02,  2.2746516e-02,  3.5363201e-02,\n",
       "        7.3435362e-03,  2.7277721e-02,  3.3053007e-02, -1.4730510e-02,\n",
       "       -1.2209184e-02,  1.6027529e-02,  1.0913271e-02,  5.2001502e-04,\n",
       "        2.1408272e-03,  4.4758101e-03, -8.0250753e-03, -1.4133423e-02,\n",
       "        1.1031283e-02, -3.2351986e-02,  9.9835359e-03,  6.0362853e-03,\n",
       "        9.5077455e-03,  4.3535833e-03,  1.3153454e-02, -6.5909955e-03,\n",
       "        5.1219342e-03,  2.1976950e-02,  5.0152097e-02,  3.7716422e-02,\n",
       "       -1.2438387e-03, -2.4350996e-04, -1.0060974e-02, -5.9999870e-03,\n",
       "        1.8795611e-02,  2.7907155e-03, -1.4536664e-02,  1.1685114e-02,\n",
       "       -1.3894411e-02,  2.5596743e-02, -9.2653772e-03,  1.4645717e-02,\n",
       "       -6.4983550e-03,  4.3146356e-04, -1.8151297e-04, -6.7603895e-03,\n",
       "       -2.8620122e-03, -2.9725132e-03,  2.8530451e-02,  9.0582091e-03,\n",
       "        2.3105731e-02,  3.9538019e-03,  1.2733211e-02, -3.8326547e-02],\n",
       "      dtype=float32)"
      ]
     },
     "execution_count": 21,
     "metadata": {},
     "output_type": "execute_result"
    }
   ],
   "source": [
    "Jurassic_Park_vector"
   ]
  },
  {
   "cell_type": "code",
   "execution_count": 22,
   "id": "loaded-interference",
   "metadata": {
    "ExecuteTime": {
     "end_time": "2021-02-16T13:25:08.769973Z",
     "start_time": "2021-02-16T13:25:08.767136Z"
    }
   },
   "outputs": [
    {
     "data": {
      "text/plain": [
       "0.43541944"
      ]
     },
     "execution_count": 22,
     "metadata": {},
     "output_type": "execute_result"
    }
   ],
   "source": [
    "# isaac과 Jurassic_Park를 내적하는 코드\n",
    "np.dot(isaac_vector, Jurassic_Park_vector)"
   ]
  },
  {
   "cell_type": "markdown",
   "id": "residential-attachment",
   "metadata": {},
   "source": [
    "### 그 외의 영화 Jumanji (1995) 의 선호도 구하기."
   ]
  },
  {
   "cell_type": "code",
   "execution_count": 23,
   "id": "charged-possibility",
   "metadata": {
    "ExecuteTime": {
     "end_time": "2021-02-16T13:25:08.774294Z",
     "start_time": "2021-02-16T13:25:08.772081Z"
    }
   },
   "outputs": [],
   "source": [
    "Jumanji = movie_to_idx[2] #Jumanji (1995)의 인덱스\n",
    "Jumanji_vector = als_model.item_factors[Jumanji]"
   ]
  },
  {
   "cell_type": "code",
   "execution_count": 24,
   "id": "distributed-turkish",
   "metadata": {
    "ExecuteTime": {
     "end_time": "2021-02-16T13:25:08.780300Z",
     "start_time": "2021-02-16T13:25:08.775618Z"
    }
   },
   "outputs": [
    {
     "data": {
      "text/plain": [
       "array([-0.00156311, -0.00565475,  0.00701335,  0.01969632,  0.0088295 ,\n",
       "        0.0112426 ,  0.00154575, -0.00202277,  0.02458137,  0.01363283,\n",
       "        0.01919448,  0.00659395,  0.00369342, -0.00307438, -0.00963572,\n",
       "       -0.01342669,  0.02652991,  0.00328161,  0.01456058,  0.01942626,\n",
       "        0.00671943,  0.01113122, -0.00713603,  0.01290225, -0.00699026,\n",
       "       -0.00475354,  0.01233187,  0.01680723,  0.00684344, -0.00567656,\n",
       "        0.01439512,  0.00313065,  0.01532919,  0.02840651,  0.03631853,\n",
       "        0.01851448,  0.00754408, -0.01025766, -0.0101532 ,  0.01177904,\n",
       "        0.00626052, -0.00106759,  0.01077774,  0.00911419,  0.00958991,\n",
       "        0.03678938,  0.00079037, -0.00210753,  0.00941303, -0.01183442,\n",
       "        0.00595168,  0.000384  ,  0.01773777,  0.02264878,  0.00659837,\n",
       "        0.01553729,  0.00539644,  0.00786941, -0.00580284, -0.01261706,\n",
       "        0.00563437, -0.00046979, -0.00010975,  0.00944363, -0.00076517,\n",
       "       -0.01532622,  0.02049122,  0.01894525,  0.02118128,  0.00481485,\n",
       "        0.02382264, -0.00817341,  0.00701877,  0.00805672,  0.0138232 ,\n",
       "        0.00369136,  0.00591763,  0.00679463,  0.03096127, -0.00511771,\n",
       "        0.00660843,  0.00222451, -0.01562856,  0.00602791,  0.0005936 ,\n",
       "       -0.00284141, -0.00167678,  0.01342985, -0.00167102,  0.02466216,\n",
       "        0.01859479, -0.01273718, -0.00870636,  0.0027413 ,  0.00622757,\n",
       "        0.02907834, -0.0041262 , -0.00630777, -0.02640932, -0.0025447 ],\n",
       "      dtype=float32)"
      ]
     },
     "execution_count": 24,
     "metadata": {},
     "output_type": "execute_result"
    }
   ],
   "source": [
    "Jumanji_vector"
   ]
  },
  {
   "cell_type": "code",
   "execution_count": 25,
   "id": "running-practitioner",
   "metadata": {
    "ExecuteTime": {
     "end_time": "2021-02-16T13:25:08.785018Z",
     "start_time": "2021-02-16T13:25:08.781798Z"
    }
   },
   "outputs": [
    {
     "data": {
      "text/plain": [
       "0.05261048"
      ]
     },
     "execution_count": 25,
     "metadata": {},
     "output_type": "execute_result"
    }
   ],
   "source": [
    "# isaac과 Jumanji를 내적하는 코드\n",
    "np.dot(isaac_vector, Jumanji_vector)"
   ]
  },
  {
   "cell_type": "markdown",
   "id": "armed-jumping",
   "metadata": {},
   "source": [
    "isaac이 5점을 준 Jurassic_Park는 선호도가 __0.43541944__가 나왔고, 그외의 영화 Jumanji의 선호도는 __0.05261048__로 isaac이 선호하는 영화에 점수를 더 잘 주었다."
   ]
  },
  {
   "cell_type": "markdown",
   "id": "worth-personality",
   "metadata": {},
   "source": [
    "## 7) 내가 좋아하는 영화와 비슷한 영화를 추천받아 봅시다.\n",
    "---"
   ]
  },
  {
   "cell_type": "markdown",
   "id": "neutral-alaska",
   "metadata": {},
   "source": [
    "### 함수 만들기"
   ]
  },
  {
   "cell_type": "code",
   "execution_count": 26,
   "id": "unique-heritage",
   "metadata": {
    "ExecuteTime": {
     "end_time": "2021-02-16T13:25:08.790517Z",
     "start_time": "2021-02-16T13:25:08.786641Z"
    }
   },
   "outputs": [],
   "source": [
    "def get_similar_movie(fav_movie):\n",
    "    movie_id = movie_to_idx[fav_movie]\n",
    "    similar_movie = als_model.similar_items(movie_id, N=15)\n",
    "    #artist_to_idx 를 뒤집어, index로부터 artist 이름을 얻는 dict를 생성합니다. \n",
    "    idx_to_movie = {v:k for k,v in movie_to_idx.items()}\n",
    "    recommend = [idx_to_movie[i[0]] for i in similar_movie]\n",
    "    for i in recommend:\n",
    "        print(movies[movies['movie_id'] == i], '\\n')"
   ]
  },
  {
   "cell_type": "code",
   "execution_count": 27,
   "id": "primary-processing",
   "metadata": {
    "ExecuteTime": {
     "end_time": "2021-02-16T13:25:08.822059Z",
     "start_time": "2021-02-16T13:25:08.792041Z"
    }
   },
   "outputs": [
    {
     "name": "stdout",
     "output_type": "stream",
     "text": [
      "   movie_id             title                        genre\n",
      "0         1  Toy Story (1995)  Animation|Children's|Comedy \n",
      "\n",
      "      movie_id               title                        genre\n",
      "3045      3114  Toy Story 2 (1999)  Animation|Children's|Comedy \n",
      "\n",
      "     movie_id           title                                genre\n",
      "584       588  Aladdin (1992)  Animation|Children's|Comedy|Musical \n",
      "\n",
      "    movie_id        title                    genre\n",
      "33        34  Babe (1995)  Children's|Comedy|Drama \n",
      "\n",
      "      movie_id                 title                        genre\n",
      "2286      2355  Bug's Life, A (1998)  Animation|Children's|Comedy \n",
      "\n",
      "      movie_id                 title           genre\n",
      "1245      1265  Groundhog Day (1993)  Comedy|Romance \n",
      "\n",
      "     movie_id                  title                         genre\n",
      "360       364  Lion King, The (1994)  Animation|Children's|Musical \n",
      "\n",
      "     movie_id                        title                         genre\n",
      "591       595  Beauty and the Beast (1991)  Animation|Children's|Musical \n",
      "\n",
      "      movie_id                                title   genre\n",
      "1854      1923  There's Something About Mary (1998)  Comedy \n",
      "\n",
      "      movie_id                 title   genre\n",
      "2252      2321  Pleasantville (1998)  Comedy \n",
      "\n",
      "      movie_id         title                 genre\n",
      "1838      1907  Mulan (1998)  Animation|Children's \n",
      "\n",
      "      movie_id                       title           genre\n",
      "2327      2396  Shakespeare in Love (1998)  Comedy|Romance \n",
      "\n",
      "      movie_id            title                                          genre\n",
      "1526      1566  Hercules (1997)  Adventure|Animation|Children's|Comedy|Musical \n",
      "\n",
      "      movie_id                   title   genre\n",
      "1595      1641  Full Monty, The (1997)  Comedy \n",
      "\n",
      "      movie_id                 title   genre\n",
      "3184      3253  Wayne's World (1992)  Comedy \n",
      "\n"
     ]
    }
   ],
   "source": [
    "get_similar_movie(1)"
   ]
  },
  {
   "cell_type": "markdown",
   "id": "spoken-mechanics",
   "metadata": {},
   "source": [
    "## 8) 내가 가장 좋아할 만한 영화들을 추천받아 봅시다.\n",
    "---"
   ]
  },
  {
   "cell_type": "code",
   "execution_count": 28,
   "id": "respiratory-yukon",
   "metadata": {
    "ExecuteTime": {
     "end_time": "2021-02-16T13:25:08.827134Z",
     "start_time": "2021-02-16T13:25:08.823648Z"
    }
   },
   "outputs": [],
   "source": [
    "def movie_for_user(user_id):\n",
    "    user_id = user_to_idx[user_id]\n",
    "    # recommend에서는 user*item CSR Matrix를 받습니다.\n",
    "    movie_recommended = als_model.recommend(user_id, csr_data, N=20, filter_already_liked_items=True)\n",
    "    idx_to_movie = {v:k for k,v in movie_to_idx.items()}\n",
    "    recommend = [idx_to_movie[i[0]] for i in movie_recommended]\n",
    "    for i in recommend:\n",
    "        print(movies[movies['movie_id'] == i], '\\n')"
   ]
  },
  {
   "cell_type": "code",
   "execution_count": 29,
   "id": "tender-technology",
   "metadata": {
    "ExecuteTime": {
     "end_time": "2021-02-16T13:25:08.880567Z",
     "start_time": "2021-02-16T13:25:08.828427Z"
    }
   },
   "outputs": [
    {
     "name": "stdout",
     "output_type": "stream",
     "text": [
      "     movie_id                    title         genre\n",
      "898       910  Some Like It Hot (1959)  Comedy|Crime \n",
      "\n",
      "      movie_id               title           genre\n",
      "2992      3061  Holiday Inn (1942)  Comedy|Musical \n",
      "\n",
      "      movie_id                   title    genre\n",
      "3606      3675  White Christmas (1954)  Musical \n",
      "\n",
      "      movie_id                   title           genre\n",
      "3602      3671  Blazing Saddles (1974)  Comedy|Western \n",
      "\n",
      "      movie_id                             title               genre\n",
      "1247      1267  Manchurian Candidate, The (1962)  Film-Noir|Thriller \n",
      "\n",
      "     movie_id                                   title  \\\n",
      "590       594  Snow White and the Seven Dwarfs (1937)   \n",
      "\n",
      "                            genre  \n",
      "590  Animation|Children's|Musical   \n",
      "\n",
      "      movie_id                       title                         genre\n",
      "1019      1032  Alice in Wonderland (1951)  Animation|Children's|Musical \n",
      "\n",
      "     movie_id                      title           genre\n",
      "896       908  North by Northwest (1959)  Drama|Thriller \n",
      "\n",
      "     movie_id           title             genre\n",
      "916       928  Rebecca (1940)  Romance|Thriller \n",
      "\n",
      "      movie_id                 title          genre\n",
      "1227      1247  Graduate, The (1967)  Drama|Romance \n",
      "\n",
      "      movie_id                       title    genre\n",
      "1022      1035  Sound of Music, The (1965)  Musical \n",
      "\n",
      "      movie_id                                              title  \\\n",
      "1178      1196  Star Wars: Episode V - The Empire Strikes Back...   \n",
      "\n",
      "                                  genre  \n",
      "1178  Action|Adventure|Drama|Sci-Fi|War   \n",
      "\n",
      "      movie_id               title    genre\n",
      "3537      3606  On the Town (1949)  Musical \n",
      "\n",
      "      movie_id                 title                genre\n",
      "2872      2941  South Pacific (1958)  Musical|Romance|War \n",
      "\n",
      "     movie_id                           title           genre\n",
      "886       898  Philadelphia Story, The (1940)  Comedy|Romance \n",
      "\n",
      "      movie_id                    title                                genre\n",
      "2009      2078  Jungle Book, The (1967)  Animation|Children's|Comedy|Musical \n",
      "\n",
      "      movie_id           title          genre\n",
      "1061      1077  Sleeper (1973)  Comedy|Sci-Fi \n",
      "\n",
      "      movie_id                     title          genre\n",
      "3661      3730  Conversation, The (1974)  Drama|Mystery \n",
      "\n",
      "      movie_id                                   title   genre\n",
      "1120      1136  Monty Python and the Holy Grail (1974)  Comedy \n",
      "\n",
      "     movie_id                         title   genre\n",
      "893       905  It Happened One Night (1934)  Comedy \n",
      "\n"
     ]
    }
   ],
   "source": [
    "movie_for_user(isaac)"
   ]
  },
  {
   "cell_type": "markdown",
   "id": "loved-evening",
   "metadata": {},
   "source": [
    "`Some Like It Hot (1959)`를 추천해주고 있다. 모델은 왜 `Some Like It Hot (1959)`를 추천해줬을까?`AlternatingLeastSquares` 클래스에 구현된 `explain` 메소드를 사용하면 기록을 남긴 데이터 중 __이 추천에 기여한 정도__를 확인할 수 있다."
   ]
  },
  {
   "cell_type": "markdown",
   "id": "vanilla-tracker",
   "metadata": {},
   "source": [
    "## 기여도 확인\n",
    "---"
   ]
  },
  {
   "cell_type": "code",
   "execution_count": 35,
   "id": "coastal-operation",
   "metadata": {
    "ExecuteTime": {
     "end_time": "2021-02-16T13:35:02.175071Z",
     "start_time": "2021-02-16T13:35:02.152925Z"
    }
   },
   "outputs": [],
   "source": [
    "user = user_to_idx['isaac']\n",
    "\n",
    "Some_Like_It_Hot = movie_to_idx[910]\n",
    "explain = als_model.explain(user, csr_data, itemid=Some_Like_It_Hot)"
   ]
  },
  {
   "cell_type": "code",
   "execution_count": 37,
   "id": "happy-completion",
   "metadata": {
    "ExecuteTime": {
     "end_time": "2021-02-16T13:36:06.209904Z",
     "start_time": "2021-02-16T13:36:06.205361Z"
    }
   },
   "outputs": [
    {
     "data": {
      "text/plain": [
       "[(3114, 0.04779760283296606),\n",
       " (1, 0.020718727509404726),\n",
       " (1097, -0.0009548447499069159),\n",
       " (480, -0.004104011309746896),\n",
       " (527, -0.020083074202441598)]"
      ]
     },
     "execution_count": 37,
     "metadata": {},
     "output_type": "execute_result"
    }
   ],
   "source": [
    "idx_to_movie = {v:k for k,v in movie_to_idx.items()}\n",
    "\n",
    "[(idx_to_movie[i[0]], i[1]) for i in explain[1]]"
   ]
  },
  {
   "cell_type": "markdown",
   "id": "wireless-vacuum",
   "metadata": {},
   "source": [
    "모델이 추천해준 `Some Like It Hot (1959)`는 `comedy` 장르이다. 그래서 그런지 `Toy Story 2 (1999)`와 `Toy Story (1995)`의 기여도가 각각 __0.04779760283296606__, __0.020718727509404726__가 나왔다. \n",
    "\n",
    "반면에, `Jurassic Park (1993)`, `E.T. the Extra-Terrestrial (1982)`, `Schindler's List (1993)`는 좀 거리가 있는 장르들이기에 기여도가 각각 __-0.004104011309746896__, __-0.0009548447499069159__, __-0.020083074202441598__가 나왔다고 분석할 수 있다."
   ]
  },
  {
   "cell_type": "markdown",
   "id": "welcome-radical",
   "metadata": {},
   "source": [
    "## 루브릭\n",
    "---\n",
    "1. CSR matrix가 정상적으로 만들어졌다.<br>\n",
    "(_사용자와 아이템 개수를 바탕으로 정확한 사이즈로 만들었다._)\n",
    "    \n",
    "__6040x3628 sparse matrix를 만들었다.__\n",
    "\n",
    "2. MF 모델이 정상적으로 훈련되어 그럴듯한 추천이 이루어졌다.<br>\n",
    "(_사용자와 아이템 벡터 내적수치가 의미있게 형성되었다._)\n",
    "    \n",
    "__isaac이 선호하는 영화의 내적수치는 0.43541944가 나왔고, <br>\n",
    "선호하지 않는 영화의 내적수치는 0.05261048로 나왔다.<br>\n",
    "isaac과 영화의 내적수치가 의미있게 형성된 모습이다.__\n",
    "\n",
    "3. 비슷한 영화 찾기와 유저에게 추천하기의 과정이 정상적으로 진행되었다.<br>\n",
    "(_MF모델이 예측한 유저 선호도 및 아이템간 유사도, 기여도가 의미있게 측정되었다._)\n",
    "    \n",
    "__유저 선호도나 아이템간 유사도가 잘 나왔고, 기여도에 대해서 분석도 하였다.__"
   ]
  },
  {
   "cell_type": "markdown",
   "id": "provincial-figure",
   "metadata": {},
   "source": [
    "## 회고\n",
    "---\n",
    "1. `Toy Story (1995)`의 유사한 영화를 찾았을 때, `Toy Story 2 (1999)`를 추천해주는 것을 보고, 모델을 잘 만들었다고 생각했다.\n",
    "2. 추천 알고리즘도 자연어에 속할 텐데 음성 프로젝트보다는 난이도가 어렵지 않았다고 느꼈다. \n",
    "3. 기여도 분석 단계에서 노드의 설명이 부족하여 좀 헷갈렸으나, slack과 구글링을 통해 기여도 분석도 잘 마무리 했다."
   ]
  }
 ],
 "metadata": {
  "kernelspec": {
   "display_name": "aiffel",
   "language": "python",
   "name": "aiffel"
  },
  "language_info": {
   "codemirror_mode": {
    "name": "ipython",
    "version": 3
   },
   "file_extension": ".py",
   "mimetype": "text/x-python",
   "name": "python",
   "nbconvert_exporter": "python",
   "pygments_lexer": "ipython3",
   "version": "3.7.9"
  },
  "toc": {
   "base_numbering": 1,
   "nav_menu": {},
   "number_sections": true,
   "sideBar": true,
   "skip_h1_title": false,
   "title_cell": "Table of Contents",
   "title_sidebar": "Contents",
   "toc_cell": false,
   "toc_position": {},
   "toc_section_display": true,
   "toc_window_display": false
  },
  "varInspector": {
   "cols": {
    "lenName": 16,
    "lenType": 16,
    "lenVar": 40
   },
   "kernels_config": {
    "python": {
     "delete_cmd_postfix": "",
     "delete_cmd_prefix": "del ",
     "library": "var_list.py",
     "varRefreshCmd": "print(var_dic_list())"
    },
    "r": {
     "delete_cmd_postfix": ") ",
     "delete_cmd_prefix": "rm(",
     "library": "var_list.r",
     "varRefreshCmd": "cat(var_dic_list()) "
    }
   },
   "types_to_exclude": [
    "module",
    "function",
    "builtin_function_or_method",
    "instance",
    "_Feature"
   ],
   "window_display": false
  }
 },
 "nbformat": 4,
 "nbformat_minor": 5
}
