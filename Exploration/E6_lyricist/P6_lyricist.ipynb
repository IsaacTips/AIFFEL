{
 "cells": [
  {
   "cell_type": "markdown",
   "id": "banned-cotton",
   "metadata": {},
   "source": [
    "# (1) 데이터 다듬기\n",
    "작업 디렉토리를 설정\n",
    "\n",
    "\n",
    "```\n",
    "$ mkdir -p ~/aiffel/lyricist/data\n",
    "$ mkdir -p ~/aiffel/lyricist/models\n",
    "```\n",
    "\n",
    "텐서플로우(TensorFlow)가 제공하는 셰익스피어의 연극 대본 다운로드.\n",
    "\n",
    "\n",
    "```\n",
    "$ wget https://storage.googleapis.com/download.tensorflow.org/data/shakespeare.txt\n",
    "$ mv shakespeare.txt ~/aiffel/lyricist/data\n",
    "```"
   ]
  },
  {
   "cell_type": "code",
   "execution_count": 1,
   "id": "limited-doubt",
   "metadata": {},
   "outputs": [
    {
     "name": "stdout",
     "output_type": "stream",
     "text": [
      "['First Citizen:', 'Before we proceed any further, hear me speak.', '', 'All:', 'Speak, speak.', '', 'First Citizen:', 'You are all resolved rather to die than to famish?', '']\n"
     ]
    }
   ],
   "source": [
    "import re                  # 정규표현식을 위한 Regex 지원 모듈 (문장 데이터를 정돈하기 위해) \n",
    "import numpy as np         # 변환된 문장 데이터(행렬)을 편하게 처리하기 위해\n",
    "import tensorflow as tf    # 대망의 텐서플로우!\n",
    "import os\n",
    "\n",
    "# 파일을 읽기모드로 열어 봅니다.\n",
    "file_path = os.getenv('HOME') + '/aiffel/lyricist/data/shakespeare.txt'\n",
    "with open(file_path, \"r\") as f:\n",
    "    raw_corpus = f.read().splitlines()   # 텍스트를 라인 단위로 끊어서 list 형태로 읽어옵니다.\n",
    "\n",
    "print(raw_corpus[:9])    # 앞에서부터 10라인만 화면에 출력해 볼까요?"
   ]
  },
  {
   "cell_type": "markdown",
   "id": "remarkable-portuguese",
   "metadata": {},
   "source": [
    "`:` 를 기준으로 문장 제외, 공백도 제외"
   ]
  },
  {
   "cell_type": "code",
   "execution_count": 3,
   "id": "outer-recycling",
   "metadata": {},
   "outputs": [
    {
     "name": "stdout",
     "output_type": "stream",
     "text": [
      "Before we proceed any further, hear me speak.\n",
      "Speak, speak.\n",
      "You are all resolved rather to die than to famish?\n"
     ]
    }
   ],
   "source": [
    "for idx, sentence in enumerate(raw_corpus):\n",
    "    if len(sentence) == 0: continue   # 길이가 0인 문장은 건너뜁니다.\n",
    "    if sentence[-1] == \":\": continue  # 문장의 끝이 : 인 문장은 건너뜁니다.\n",
    "\n",
    "    if idx > 9: break   # 일단 문장 10개만 확인해 볼 겁니다.\n",
    "        \n",
    "    print(sentence)"
   ]
  },
  {
   "cell_type": "markdown",
   "id": "authentic-screening",
   "metadata": {},
   "source": [
    "텍스트 분류 모델에서 __토큰화(Tokenize)__라는 과정이 있다. 문장을 쪼개서 단어 사전을 만드는 개념이다.<br>\n",
    "가장 심플한 방법은 띄어쓰기를 기준으로 나누는 방법이다. 그러나 이러한 방법은 약간의 문제가 있다.\n",
    "\n",
    "1. Hi, my name is John. *(\"Hi,\" \"my\", …, \"john.\" 으로 분리됨) - 문장부호\n",
    "2. First, open the first chapter. *(First와 first를 다른 단어로 인식) - 대소문자\n",
    "3. He is a ten-year-old boy. *(ten-year-old를 한 단어로 인식) - 특수문자\n",
    "\n",
    "\"1.\" 을 막기 위해 __문장 부호 양쪽에 공백을 추가__ 하고, \"2.\" 를 막기 위해 __모든 문자들을 소문자로 변환__하고. \"3.\"을 막기 위해 __특수문자들은 모두 제거__하여 해결할 수 있다.\n",
    "\n",
    "이런 전처리를 위해 정규표현식(Regex)을 이용한 필터링이 유용하게 사용된다."
   ]
  },
  {
   "cell_type": "code",
   "execution_count": 4,
   "id": "announced-raise",
   "metadata": {},
   "outputs": [
    {
     "name": "stdout",
     "output_type": "stream",
     "text": [
      "<start> this is sample sentence . <end>\n"
     ]
    }
   ],
   "source": [
    "def preprocess_sentence(sentence):\n",
    "    sentence = sentence.lower().strip()       # 소문자로 바꾸고 양쪽 공백을 삭제\n",
    "  \n",
    "    # 아래 3단계를 거쳐 sentence는 스페이스 1개를 delimeter로 하는 소문자 단어 시퀀스로 바뀝니다.\n",
    "    sentence = re.sub(r\"([?.!,¿])\", r\" \\1 \", sentence)        # 패턴의 특수문자를 만나면 특수문자 양쪽에 공백을 추가\n",
    "    sentence = re.sub(r'[\" \"]+', \" \", sentence)                  # 공백 패턴을 만나면 스페이스 1개로 치환\n",
    "    sentence = re.sub(r\"[^a-zA-Z?.!,¿]+\", \" \", sentence)  # a-zA-Z?.!,¿ 패턴을 제외한 모든 문자(공백문자까지도)를 스페이스 1개로 치환\n",
    "\n",
    "    sentence = sentence.strip()\n",
    "\n",
    "    sentence = '<start> ' + sentence + ' <end>'      # 이전 스텝에서 본 것처럼 문장 앞뒤로 <start>와 <end>를 단어처럼 붙여 줍니다\n",
    "    \n",
    "    return sentence\n",
    "\n",
    "print(preprocess_sentence(\"This @_is ;;;sample        sentence.\"))   # 이 문장이 어떻게 필터링되는지 확인해 보세요."
   ]
  },
  {
   "cell_type": "markdown",
   "id": "supreme-steps",
   "metadata": {},
   "source": [
    "구축해야 할 데이터셋은 아래와 같아야 한다.\n",
    "\n",
    "```\n",
    "언어 모델의 입력 문장 :  <start> 나는 밥을 먹었다\n",
    "언어 모델의 출력 문장 : 나는 밥을 먹었다 <end>\n",
    "```\n",
    "\n",
    "자연어처리 분야에서 모델의 입력이 되는 문장을 __소스 문장(Source Sentence)__, 정답 역할을 하게 될 모델의 출력 문장을 __타겟 문장(Target Sentence)__라고 부른다. 각각 X_train, y_train 에 해당한다.\n",
    "\n",
    "즉, 위에서 만든 정제 함수를 통해 만든 데이터셋에서 토큰화를 진행한 후 끝 단어 `<end>`를 없애면 소스 문장, 첫 단어 `<start>`를 없애면 타겟 문장이 되는 것이다."
   ]
  },
  {
   "cell_type": "code",
   "execution_count": 5,
   "id": "bronze-country",
   "metadata": {},
   "outputs": [
    {
     "data": {
      "text/plain": [
       "['<start> before we proceed any further , hear me speak . <end>',\n",
       " '<start> speak , speak . <end>',\n",
       " '<start> you are all resolved rather to die than to famish ? <end>',\n",
       " '<start> resolved . resolved . <end>',\n",
       " '<start> first , you know caius marcius is chief enemy to the people . <end>',\n",
       " '<start> we know t , we know t . <end>',\n",
       " '<start> let us kill him , and we ll have corn at our own price . <end>',\n",
       " '<start> is t a verdict ? <end>',\n",
       " '<start> no more talking on t let it be done away , away ! <end>',\n",
       " '<start> one word , good citizens . <end>']"
      ]
     },
     "execution_count": 5,
     "metadata": {},
     "output_type": "execute_result"
    }
   ],
   "source": [
    "corpus = []\n",
    "\n",
    "for sentence in raw_corpus:\n",
    "    if len(sentence) == 0: continue\n",
    "    if sentence[-1] == \":\": continue\n",
    "        \n",
    "    corpus.append(preprocess_sentence(sentence))\n",
    "        \n",
    "corpus[:10]"
   ]
  },
  {
   "cell_type": "markdown",
   "id": "satisfactory-variable",
   "metadata": {},
   "source": [
    "텐서플로우는 자연어 처리를 위한 여러 가지 모듈을 제공하는데, 아래에서 활용하게 될 `tf.keras.preprocessing.text.Tokenizer` 패키지는 정제된 데이터를 토큰화하고, 단어 사전(vocabulary 또는 dictionary라고 칭함)을 만들어주며, 데이터를 숫자로 변환까지 한 방에 해준다. 이 과정을 __벡터화(vectorize)__ 라 하며, 숫자로 변환된 데이터를 __텐서(tensor)__ 라고 칭한다. 우리가 사용하는 텐서플로우로 만든 모델의 입출력 데이터는 실제로는 모두 이런 텐서로 변환되어 처리된다는 것이다.\n",
    "\n",
    "[Tensor란 무엇인가](https://rekt77.tistory.com/102)"
   ]
  },
  {
   "cell_type": "code",
   "execution_count": 6,
   "id": "certain-clinic",
   "metadata": {},
   "outputs": [
    {
     "name": "stdout",
     "output_type": "stream",
     "text": [
      "[[   2  143   40 ...    0    0    0]\n",
      " [   2  110    4 ...    0    0    0]\n",
      " [   2   11   50 ...    0    0    0]\n",
      " ...\n",
      " [   2  149 4553 ...    0    0    0]\n",
      " [   2   34   71 ...    0    0    0]\n",
      " [   2  945   34 ...    0    0    0]] <keras_preprocessing.text.Tokenizer object at 0x7f40138b1d90>\n"
     ]
    }
   ],
   "source": [
    "def tokenize(corpus):\n",
    "    # 텐서플로우에서 제공하는 Tokenizer 패키지를 생성\n",
    "    tokenizer = tf.keras.preprocessing.text.Tokenizer(\n",
    "        num_words=7000,  # 전체 단어의 개수 \n",
    "        filters=' ',    # 별도로 전처리 로직을 추가할 수 있습니다. 이번에는 사용하지 않겠습니다.\n",
    "        oov_token=\"<unk>\"  # out-of-vocabulary, 사전에 없었던 단어는 어떤 토큰으로 대체할지\n",
    "    )\n",
    "    tokenizer.fit_on_texts(corpus)   # 우리가 구축한 corpus로부터 Tokenizer가 사전을 자동구축하게 됩니다.\n",
    "\n",
    "    # 이후 tokenizer를 활용하여 모델에 입력할 데이터셋을 구축하게 됩니다.\n",
    "    tensor = tokenizer.texts_to_sequences(corpus)   # tokenizer는 구축한 사전으로부터 corpus를 해석해 Tensor로 변환합니다.\n",
    "\n",
    "    # 입력 데이터의 시퀀스 길이를 일정하게 맞추기 위한 padding  메소드를 제공합니다.\n",
    "    # maxlen의 디폴트값은 None입니다. 이 경우 corpus의 가장 긴 문장을 기준으로 시퀀스 길이가 맞춰집니다.\n",
    "    tensor = tf.keras.preprocessing.sequence.pad_sequences(tensor, padding='post')  \n",
    "\n",
    "    print(tensor,tokenizer)\n",
    "    return tensor, tokenizer\n",
    "\n",
    "tensor, tokenizer = tokenize(corpus)"
   ]
  },
  {
   "cell_type": "markdown",
   "id": "floral-magnet",
   "metadata": {},
   "source": [
    "생성된 텐서 데이터를 3번째 행, 10번째 열까지 출력"
   ]
  },
  {
   "cell_type": "code",
   "execution_count": 7,
   "id": "sustained-insured",
   "metadata": {},
   "outputs": [
    {
     "name": "stdout",
     "output_type": "stream",
     "text": [
      "[[   2  143   40  933  140  591    4  124   24  110]\n",
      " [   2  110    4  110    5    3    0    0    0    0]\n",
      " [   2   11   50   43 1201  316    9  201   74    9]]\n"
     ]
    }
   ],
   "source": [
    "print(tensor[:3, :10])"
   ]
  },
  {
   "cell_type": "markdown",
   "id": "tropical-gross",
   "metadata": {},
   "source": [
    "단어사전 확인"
   ]
  },
  {
   "cell_type": "code",
   "execution_count": 8,
   "id": "agreed-finder",
   "metadata": {},
   "outputs": [
    {
     "name": "stdout",
     "output_type": "stream",
     "text": [
      "1 : <unk>\n",
      "2 : <start>\n",
      "3 : <end>\n",
      "4 : ,\n",
      "5 : .\n",
      "6 : the\n",
      "7 : and\n",
      "8 : i\n",
      "9 : to\n",
      "10 : of\n"
     ]
    }
   ],
   "source": [
    "for idx in tokenizer.index_word:\n",
    "    print(idx, \":\", tokenizer.index_word[idx])\n",
    "\n",
    "    if idx >= 10: break"
   ]
  },
  {
   "cell_type": "markdown",
   "id": "unauthorized-professional",
   "metadata": {},
   "source": [
    "사전에는 없지만, 텐서 출력부에서 행 뒤쪽에 0이 많이 나온 부분은 정해진 입력 시퀀스 길이보다 문장이 짧을 경우 0으로 패딩(padding)을 채워넣은 것이다."
   ]
  },
  {
   "cell_type": "code",
   "execution_count": 9,
   "id": "handed-canon",
   "metadata": {},
   "outputs": [
    {
     "name": "stdout",
     "output_type": "stream",
     "text": [
      "[  2 143  40 933 140 591   4 124  24 110   5   3   0   0   0   0   0   0\n",
      "   0   0]\n",
      "[143  40 933 140 591   4 124  24 110   5   3   0   0   0   0   0   0   0\n",
      "   0   0]\n"
     ]
    }
   ],
   "source": [
    "src_input = tensor[:, :-1]  # tensor에서 마지막 토큰을 잘라내서 소스 문장을 생성합니다. 마지막 토큰은 <end>가 아니라 <pad>일 가능성이 높습니다.\n",
    "tgt_input = tensor[:, 1:]    # tensor에서 <start>를 잘라내서 타겟 문장을 생성합니다.\n",
    "\n",
    "print(src_input[0])\n",
    "print(tgt_input[0])"
   ]
  },
  {
   "cell_type": "markdown",
   "id": "prescribed-breath",
   "metadata": {},
   "source": [
    "corpus 내의 첫번째 문장에 대해 생성된 소스와 타겟 문장을 확인해 보았다. 소스는 2(`<start>`)에서 시작해서 3(`<end>`)으로 끝난 후 0(`<pad>`)로 채워져 있다. 반면에 타겟은 2로 시작하지 않고 소스를 왼쪽으로 한칸 시프트한 형태를 가지고 있다."
   ]
  },
  {
   "cell_type": "markdown",
   "id": "incredible-drain",
   "metadata": {},
   "source": [
    "이미 데이터셋을 텐서 형태로 생성해 두었으므로, `tf.data.Dataset.from_tensor_slices()` 메소드를 이용해 `tf.data.Dataset`객체를 생성보겠다."
   ]
  },
  {
   "cell_type": "code",
   "execution_count": 10,
   "id": "elementary-shelter",
   "metadata": {},
   "outputs": [
    {
     "data": {
      "text/plain": [
       "<BatchDataset shapes: ((256, 20), (256, 20)), types: (tf.int32, tf.int32)>"
      ]
     },
     "execution_count": 10,
     "metadata": {},
     "output_type": "execute_result"
    }
   ],
   "source": [
    "BUFFER_SIZE = len(src_input)\n",
    "BATCH_SIZE = 256\n",
    "steps_per_epoch = len(src_input) // BATCH_SIZE\n",
    "\n",
    "VOCAB_SIZE = tokenizer.num_words + 1    # tokenizer가 구축한 단어사전 내 7000개와, 여기 포함되지 않은 0:<pad>를 포함하여 7001개\n",
    "\n",
    "dataset = tf.data.Dataset.from_tensor_slices((src_input, tgt_input)).shuffle(BUFFER_SIZE)\n",
    "dataset = dataset.batch(BATCH_SIZE, drop_remainder=True)\n",
    "dataset"
   ]
  },
  {
   "cell_type": "markdown",
   "id": "isolated-parks",
   "metadata": {},
   "source": [
    "데이터셋 생성 과정\n",
    "* 정규표현식을 이용한 corpus 생성\n",
    "* `tf.keras.preprocessing.text.Tokenizer`를 이용해 corpus를 텐서로 변환\n",
    "* `tf.data.Dataset.from_tensor_slices()`를 이용해 corpus 텐서를 `tf.data.Dataset`객체로 변환\n",
    "\n",
    "이 모든 과정을 텐서플로우에서의 __데이터 전처리__ 라 칭한다."
   ]
  },
  {
   "cell_type": "markdown",
   "id": "industrial-daily",
   "metadata": {},
   "source": [
    "# (2) 인공지능 학습시키기\n",
    "모델의 구조도\n",
    "![E-12-4.max-800x600.png](data:image/png;base64,iVBORw0KGgoAAAANSUhEUgAAAnwAAAJYCAIAAAB3sqwhAAEAAElEQVR42uyddVhV2dfH96lbXBqUEBBQFOzGwBy7O8aOGTtHRx17rLE7sLvG7u4OMLCwFQOk4cbJ948t5z1z7wXR0fkprs8zD4OXk/vcs797rb32WoQkSQgAAAAAgK8PCU0AAAAAACC6AAAAAACiCwAAAAAAiC4AAAAAgOgCAAAAAIguAAAAAAAgugAAAAAAogsAAAAAAIguAAAAAIDoAgAAAACILgAAAAAAILoAAAAAAKILAAAAAACILgAAAACA6AIAAAAAiC4AAAAAACC6AAAAAACiCwAAAAAAiC4AAAAAgOgCAAAAAIguAAAAAAAgugAAAAAAogsAAAAAAIguAAAAAIDoAgAAAACILgAAAAAAILoAAAAAAKILAAAAAACILgAAAACA6AIAAAAAiC7wLSOKoiRJkiRBUwAAAIDoAl8FrLKSJP39999XrlwhCAJ0FwAA4LuGhib4lkWXIIgTJ05cu3btwYMHHh4efn5+oiiSJAyVAAAAwNIFvhxYXG/cuHHq1Cl7e3ue57dv356QkACKCwAAAKILfGEblyTJFy9eHDx4kKIoSZIoikpISNi1a5fJZIL5XQAAABBd4IspLkEQKSkpWGJJksQqq1arHz16dPToUYIgUMaMLwAAAACiC3w+BEGIorhr1663b98yDCOLqyiKGo3m0qVLFy9ehKAqAAAAEF3g34JXB+3fv//+/ftardZCWSVJUqlUhw8fvn//PraAocUAAABAdIHPAU/lXrp06fLlyxqNRhRFm3awJEl79ux58+YNtomh3QAAAEB0gU9WXIIgoqOjjx07RtN0ZlYsDqpKSUnZs2dPeno62LsAAAAgusCnIYoiQRDx8fG7du3iOC7rdUE4qOrZs2f79+/H7mhoQAAAABBd4BNs3PT09G3btiUlJSmDp7IQaZ1OFxkZefz4cTB2AQAAQHSBT+PAgQMvX77MbCrXpu6q1eqzZ89GRETA5C4AAACILpBdM/fs2bO3b9/WarUIITIDm9sTBCFvQFEURVGHDx+OiYkBexcAAODbB5Z7/u8V9/r161u2bCFJEme9kFGr1RafEATB8zzHccpPWJbNlStX165d3dzc8AGhYQEAAEB0Adu8f//eZDJZRCxLkrRmzRqckeqDU4IkDQZD0aJFq1atKggCRVEoY5URx3Gurq46nQ4aEwAA4FsGqgz973Fzc7P5ubWHWRRFvV7v6ekJjQYAAACiC3wONp0NmXkg8Boh2dKVAa8yAAAAiC7wcT5VL4kMoOkAAAC+LyB6GQAAAABAdAEAAAAARBcAAAAAABBdAAAAAADRBQAAAAAQXWgCAAAAAADRBQAAAAAQXQAAAAAAQHQBAAAAAEQXAAAAAEB0AQAAAAAA0QUAAAAAEF0AAAAAAEB0AQAAAABEFwAAAABAdAEAAAAA+C/47ovYS5KUIx9MFvclZZDDbpkgCHghAQAA0YWe+n9zX2QG+BOSJAmCoGka/4TvLgAAAIjuf4coiiRJ3rt37+nTp7Iy5STS09M5jpNHFQRBSJL05MmTY8eOKT/PGSMMs9lcsWJFV1dXSZLA5AUAAET3G8VgMOzdu1ev1/M8j2Up5zwbW+bss2fPnj59mpNuU5IkjUYTGxubN29eEF0AAEB0v2lIktRqtU2aNMmTJ08Os/8yU9Ycdo/Ykb5u3Tqe5+GFBAAARPdbh+M4lUrl5+dnNptzpJ85ByNJEkVRRqPRbDaDgQsAAIjudwBBEKIochzHsix03N+j6OKpAWgNAABAdL8b3cXBvWDpfneiix8cNAUAAD8CIFEAAAAAAKILAAAAACC6AAAAAACA6AIAAAAAiC4AAAAAgOhCEwAAAAAAiC4AAAAAgOgCAAAAAACi+3lkXT8gRxavBQAAAEB0/zfgIrWZ/VWlUul0OsiaBAAAAIDo/lsIgkhLS7OZt1mSJJqmHz9+fPbsWVEUQXcBAAAAEN3Ph6KopKSkLl26nD59WqvViqL4j9YhSY7jBg0aVKVKlRs3blhv8CMDLncAAIBPhf6Rbx5n209OTj569Gjjxo2thQTXwGndunVQUJCvry/LsgghQRAoihJFEdeCxbtQFGVxcFEUsULLxRgsjoyPgKVdWacBf25xCovjy3UC8Cnky/7PbHF8U4IggPUPAAAAovtpxq6dnR1N05kJc+fOnTt37oxLB6rVaoZh0tLSNBqNcpfU1FSlLgqCoNVq5Q2MRiPP8/IGgiAwDGNnZyf/02AwYBGVJEmr1VIUlZqaamdnJ4txenq6Ut5omhYEwWQyaTQanudJksTyjOvAZ3YvXxCO40RR1Gg0oLsAAAAgup9m78pGp/WfKIqKiop69+5dmTJl1Gr1y5cv7969W7du3ZcvX+7YsSMmJsbNza1atWqhoaGyLhIEYW9v//jx4+vXr8fHxxcsWLBUqVIODg5paWlYRO3t7RMTE69fvx4VFaVWq8uVK1ewYEGTycTzPMMwDx8+fPToUcOGDaOiorZv356enl65cuVatWrJs84Mw7x792727Nk9e/bMly8f1lpsdzIMgxCST/SVmothmNevXy9evHjChAnYIodvEQAAAIjuFxAYtVq9ffv2lStXXr582d7e/ty5c0OGDFm4cOHYsWPd3NycnZ03btw4efLkadOm9ezZMz09naIoQRCmTZu2cOFCk8nk6OiYnp7u6+s7ffr0ChUqGAwGhNDSpUuXLVv2+PFjR0dHo9FIUVTTpk0nTJig1WrVavXBgwdXrVplb2//xx9/6HS65ORkQRDq1atnNpuxKcwwzJo1a+Lj4/Ply/fkyZPBgwcnJSVhY9fOzq5NmzZt27bFnnCMLIqyEouiSJIkdoBbeL+V66Pk7aUM8JY8z/v6+qalpU2ZMmXixIkpKSlfxLYmFJcKAAAAovujthFNS5KEPbc6nc5gMMydO3fKlCn16tUTRZHjuIEDB44YMSIsLCx//vwqlWrKlCljxoyZNWtWq1at1Gp1fHz8kCFDGjRocPny5fz5879+/XrmzJnlypVbtmyZj4+PJEkHDhzo3r177ty5R48eLUmSvb09z/NLly6dNGlSWFiYwWAgCMJoNGIJJEkyPj5+8+bNa9euJQgiKioqMjJyw4YNWK5iY2PnzJlz6tSp5cuXY4GXJEmn0+GIMJPJhF3cGo3GbDbb2dlhrTUajVh9RVGkKEqr1SKEOI4zm81Yy7GcEwTBsizWfpVK1aFDhz/++CMuLs7BwYHn+X/vZBYRIkmSZVmGYcBlDQBAjgSWDGXL3iUIAsuAKIqCIPTq1atJkyY8zwuCoNfrx44dm5KSsmPHDrVa/fTp03nz5o0ZM6Z///4uLi4ajSZfvnzr16/38vJatmwZSZIuLi579uxZvXp18eLF9Xq9Xq/v1KlT06ZN165di2VSp9Pdv3+/SZMmVatWNRqNDMPIdqQoimq1+tq1a05OToUKFUIIEQTh5+dXqVKlypUrV65cuUWLFn///ffNmze3bdum0+kQQnq9/u7du6dOnXr16pW9vT2+lydPnjAMc+vWrcWLF2/dutVsNqtUKlEU7ezsWJY9d+7c6dOn37x5o9fr8aIpnU53+/btEydOxMXF2dvbI4RMJlOxYsUcHR1Pnz6tVqv/pYUqiqJOp927/2B0dLRKpZLD0wAAAMDS/UF1V5YHjUZTokQJHElEkqTJZPLw8JAkKSYmBiF07dq1xMTEVq1aYUVUq9Umk8ne3j4sLGz79u3Tp08XRRFPxBIEodFo8GGDg4Pv3LnDsqydnZ3JZLKzsytRooQgCJIkCYKAMsKSBUEgSXLnzp2VK1fG9jdCiGVZg8GAN0MIeXh4VK9efceOHa1atTIajaNGjXr//r2vr++NGzdq1ao1YMAAlmVHjBhRokSJ5ORko9H45MmT/fv3T5o0KXfu3OfPn586daqfn5+dnd2TJ0/CwsL69OkTHx8/dOhQlUrl5OQ0e/bsFi1adOzYMTU11cHBQafT3bx5s0WLFv++eRlGdfPq1TlvYsqGhtarV8/d1RVluMHh6wcAAIjuDw12xsphU8qYYaPRqFKprl69GhcXZzKZcHyTvb09RVFxcXE4VCo1NfX48eOnTp3CTmOVSnX48GGNRoMPiB3C8sGVjlassq9evcqTJw92/H7wV2T8jiPCgoODb926JUnSokWLXr16NX36dJ1O9+rVq65du+bPn79+/fpPnz51dnaePn26s7Oz2WyuX7/++vXrhw8fvmDBgooVK/bt29dgMLx48cJoNNI0PXz4cIIgxo0bhyV2/PjxAQEB5cqVQwj5+/s/fvzYekXTp0IgxIuSi3suk8l48MCBqNu3W//8c/HChSmKEgWB/HcHBwAAANHNUchiiRDCC4pGjx5N07ScxAr/rFy5MkEQBoOhQ4cO586dK1KkCLZWGYZRq9UWS3VtmoP4mAaDITAwMIuL0ev1ycnJsbGxp0+f3rBhg4eHB0IoV65cY8eO3bNnT4MGDVQqVfPmzZ2dnRMTE52dncuVK/fy5Uue5+Pj4x0dHe3t7e3t7XPnzo0Qun//flpa2urVq/ECp2rVqkVERCxbtiwsLAzfLMdx/74BSYoypKX+2qP7rTt3Tpw4ERcbO2/27BIlStSuUze4QJByiAMAAACiC/w/HMfp9foVK1bkz59fjn4iCEIQBFdXV5qmFyxYsH///qNHj/7000/yXjt27Bg3btxHJzLxZKcoillEC0uSxHGcTqejKOrWrVv9+/fX6/WCIKhUqidPnmCTVBRFnuflzBsuLi5xcXE0Tfft23fGjBn79+8PCgpq2LBh1apVeZ5/+fJlt27d7OzseJ7XaDQRERF58+aVz/WltFCSJIJAHdu3zxcUtHf3rmdPn92KjLx2/UbzZk2bNmnyxU8HAAAAovu/RFKg/PBTj6PVajmO8/T09PX1NRgMWB3xXCxexnPx4sUyZcr89NNPKSkpWPwcHR2fP3/+0dzOBEFwHEdRlF6vf/z4cRZbxsTEuLq62tnZURQVEhLi4uKC3c6FCxcODQ3lOE4eCsgDAvxJzZo1ixYtev78+efPn48ZM6ZcuXJdu3bV6/UhISGurq7YqC1atGiFChWMRqNWq/2yKiiKkigIFcqWDSlQ4PGjR+HLlglG44F9+65fv9GkSeMSJUpQJMnz/H+Q+gMAAABE9+uCV6BaZGT8DNEtXbq0SqXaunXruHHjEEIsy5IkqdPpWJbFoqXX658+fYoQUqvVPM/j6d5du3bZrLhgE1dXV4PBgK8Nm6o4jhofkyCIEydOlC9fXq1Wu7u7d+rUyd/fXxmRZDQareUc/6LT6fz9/f39/RFCnTp1qlevXtWqVdVqdffu3b28vJQHSU1NRQg9e/Ysb968eK3RF4l4IimK4zgnR8dSpUr95uK6d8+e25ERD+7fC1/61tPXr88vPXLlyiXfOHxpAQD4/rQGmgA7bM1mM17JKmM0GrGSZdP8xTKQJ0+eESNGjB8/fu7cuQkJCTzPp6amHjhwoFWrVnv37kUI1atX7/79+zNmzEhNTTWbzY8ePfrll19u3bql1+vlqdzMTkFRlCRJjRs3vnLlCraMcSJovV7v6Ojo6OjI8/zvv/8uCELPnj1JkmzSpEn//v3T09NJkkxPT1+1atXFixfx6iCLO8Jh2NOnT7927Rr+8P79+6IolitXztXV9c8//8RBYe/fv1+zZs21a9c0Gk16enpKSkrhwoXRFy1+gO9RkqT8/nkHD+jfqXOXKlWqpKWlPX34YM7s2dt37sRrgqHIMQAAYOl+Z2DRcnBwYBhmwoQJixYt4jhOdrqKohgYGLhp0yaGYZRmnHX1AiwVeBuz2dyvXz+KokaOHLlw4UJszr5//z44OLhw4cJms7lt27aPHz8eOXLkypUraZpOTU2tXLnyqFGjNmzYoIxGtmnJkSRpNpvLly8/YsSIR48eBQUFeXp6PnjwICwsDF+wJEn58+dfuHChs7OzyWTq1avX2LFjq1WrptPpjEajt7d3aGgoDt1SxhtTFEVRFE3T6enp/fv3x/dCEMSECRPc3d0nTJgwceLESpUq2dvbJycnlypVKjQ0FC/zTUtLq1q1Krbmv+xzwUIuCELVKpXDKlVU6XTXr1579erV4ydP7ty+U6VGjaoVK6AMvz1YvQAAfDe68/2aC9ilGRERsWrVqvbt25cqVUoOXPo0Y58ko6Ki7t69q2wKrMcuLi41atSIiYmJjY0tUaIEwzCvXr2Kjo6uWLEiNsjkja9du+bq6po/f36TyUTTtEajefr0aUREREpKikqlKl26dL58+XD6KoIgaJp+9OjRzZs3TSZTSEhI2bJlnz179vDhw0qVKtE0/eLFi6dPn5YvX155CqVVamdn99tvvxEEMX369JSUFHx5JEnyPJ87d+6goCBJknDeKJqmaZq+e/duXFycm5tbUFAQzv744sULd3d3rVYrCAJN04mJiaIourm50TT97t07PGGcL18+d3d3fDuiKD58+DA+Pt7T0zNv3rxYpIcPH56WlrZ48eJ/kwYSLzcym83Tp09v3rx5iRIlLDzV2JRHCCUkJCxdtvzli+eGtDRRQg0a1C8XWt7P1wdBgBUAACC635HoIoQYhsGlAqwlAedGpigKh0Fhi9BsNltsiX22eMEublKVSiUfk+M4juOUpQDlvwqCgLMtMgyDD5vZKZTnevTo0V9//TVhwoTcuXNjy1VuE5ZlZRHCv6hUKryQl2VZ7JTGRYosDGvsS8c6jRDieR4PEbDzGSeKwuMGiqJevXo1efLkyZMnY5/2Z2veR0VXbk98iitXr61cvTo9JZmiKJKm27ZtV6VKFRVNwUQvAADfBRBIhRBCOKWwjSEJQeDcF7KuKH9XgndXrsplWRbrn3wci7/Ku2DBk2vkZXYK5dUGBARMnz4dCyfe3uKa5d/la1P+Sfaiy1It/461Vrkx1l2TyaS8BkdHx7Fjxzo7O2c//uvzB4YZxxcEoWyZ0t7e3pERN7Zu20ZI0ob1606fPt3r11+8vb2VZjEAAACI7jds72eZe0H5p8w2s/5cKbEfPWN2TqGE4zicAzk7VmZm15b97S0+xC5uBwcHbKP/Z48JV3Dy9vL09qqfPzhk144dtyIjnj1+NHHipICg/N06d3FxdsJjly97VRCxBQA5uPMH0QWy9UXBcvu/cqjiwg//fWJkeZ47KMB/2G9Ddu7efetm5P1796MiI6fPmF69WvWaP9VA//RIf1mVBQEGgJwktBZv9H/Qo4LowgDtO7sAebpaFMWmjRtXrVJl/abNtyMiXr14sWb16oibkdWqVy9TogT69NhmmwvDLN5J2RWvzP0JAMC331taVwq36MqU9c2+Xv8Gogt8r28RRVE8zzs7OfXr1fPe/fvrNmxIjIu7FRFx/+7d1PY/FytazNXV9fOsW6XiyguC5Z8WQgu6CwDfkX0iK6tyBlAZeSq/119Jd0F0ge8YXDGCIIjgggUn//nniRMnN23dyhoNq1etdnNza9SkaYUKFVQ09UklE5Tiiu1pa/VVyjAAAN+L9FpUb8MmL/aHYf6D9YcgukAOGcaKoli9ejW/AP8Tx46dPn06JTk5PDz88uVLA/v3V6vVKMvqvNa2rKy4Fj/lPyCE8NbwCADge+kmiAyVxT8xeFWkco2JbBB/DQEG0QVyCLh0cWDevAHdujdv1mze/PmPHj26F3Xnt6FDy4WGNmjQwMnBged5iqIsXiRrxzK2bsUMUEahYiRJeDJZNnXB3gWA70BwZf3EdWUkScoYXssBobL6KofyX0N3QXSBnANFUdicdXFxGTZs2Padu69fufT6zZsTR49evXGjXevW5cqU+eiLJNu1Mg4ODpB2AwByJLjaG14WgRP2fe21/jlHdK0L8wE/4FPDA1VJknRabYd2bSqWL3fhwsVjR48kxcWtWLbs6tWr9evX9/fzQ1aZNGQbV3Ysi6Io8LwycwgAADkMURCUo3B54I6+WgBzThBd3F3SNG1RmQD4Lp4dDkL+sqMlObdXgL9/gL+/j6/vnj17kuLfnz19+uH9BxWrVG1Uv65Wo7GoYayUW7wQGQO5nQEgp/IhnR9B0DQtVyn9qq98ThBdhmEkSYqNjf0PUhL+D0cVOfXWcPCCRqP54l4KXKqBJIgqYZWqhFXatHnL5SuXE97H7du988nD+9V/qlmuTGmkWHqrDKHieV4SBDkpJgAAOVV0cS/EK4bsX9Vj+t2LLq5JsHv3brnMas77WtA0jasC5Lxbw0NLrVb7+vXrrzGVInubEUJt27QODQ1dv3H9g3v3o6Ojb966Xb1G9abNmru7OCOEcEELbOnyPI8tXY7j5ATaAADkPPCLT5IkTRDy2kLZ5P0aMczffZWh27dv379/PwcbggzDREVFPXz4sEWLFp9dRunbl16z2fzTTz/lypXr6zl2eJ6nadpoMr94/mzRkiWpyclIFHUODs2bNi1brpydTmcwGAiC4AWB5ziB41iOw1UrAvPlgzoKAJAjefL4MUJIrVarVCqapmmGoWmaJEm5rPgXFxcCRvHfPg0bNoyMjLxw4YKPjw+0xr8fqCGEEpKT9+zZe/b0KUNamp1er3Nw7N+7V758+YxGo8lkEkWR5ziz2Ww2m1mWLRgcDKILADmShw8eSJKk0WjUajXDMDTD4NggLL1fQ3SpcePG5QBzMEcaf3gB2YkTJ8aPH5+UlOTu7h4WFpaDg2n/A1+FnOxNp9EUL1Y0j4+PXq9/8OABbzZHRka+jY319fVzcnQ0Go0cx2H3Msdx7rlyQYAeAORI3r17J4oinsLDuTII/JMgwNL9scDhPARB1KtX7+jRoyRJurq6RkVFOTs7I6jW/u+bFyFBEGiKQgjt3Lv/1Inj79+9M5lNfnnzFi1eolmjBizHJ8THY0u3WPHiNA0r2gEgB3Lr5k1cqxR7mFUqFfYwUxSFZRgs3R8FvIp0z549EydOxNE9aWlpLi4ulSpVghUsX2CwmZHBiiCI4AJBYWGV4uLfS6L4Jibm4YMH7+PjtVqtm4sLy7Imo9HL2xssXQDIkbx980aUJIZhqAxI2eYFS/eHMnMRQizL1qtXj2XZcuXK3b59283Nbe/evbdv3/b19QVj98uObxBCFEU9efx41tz572PfigLP82LlKlWKFCvq6uhYqEgRhmGgoQAg53H92jVJkvR6vVqtxsYuo1IxGcYudjJ/2TOCpftN2mEZlClTplevXhqNRhTFefPmlSlTJjAwUKPRgOh+cUwmk5u7e+kypV1dXB88eEgRRHT0wzu3b+dycy9UpDC0NgDkSF6/eiWKIqNSYZVVOpblKghf9ozgNPt2oSiqUKFCDg4O79+/NxqNBEHUrFnT0dERFPdrQNN0usGg1+mqVA77888/S5YuJQhSUkLilq1bDQYDtA8A5EiUxcPQf5JOGMJDvmnkChhqtVqSJJZlcZU64KuMckiSNZs5jlOrmFYtW3p4eV++cP7evfswxAGAnCu6Is79KhfPxsihrCC6PxbYvyEIAs4LCuE8X48P71hGg5tMpkrlQ/19fM5duAiNAwA5+8X/f+tWYeN+pdE2dOLfx1gMkjP8ly8hHt8kJiap1KqK5cupVCpoFgDIqW98pv/4SqYUNPm3D7Z0EUzl/ieSi/6/bhWF82NAqwDAD/Lu/weA6H5Pogv8x3yN2EUAAH5kQHS/A8C9DAAAkDMA+wksXeBHJDuRmVlv85ViO7+dhGvZvJIslpf8D2/k857dR285s5v9eneandU735c7Crrybxr8ZQLR/a61zaLXsHZZy4sTMusHJUmSCwNnvaVFByQIAl4FQRCExVcoO/1U1ttk3afj0qTWn8up9b54BypJEs/zckNl55WR66f+myv5vAvOYjFoNic1shb7z2vkj57338ubJEmCIMhfaVz4K4tvRTab4jvSXejKvw9LF5bnfr/DJuvugOd5nGEuO12k8q8f3dLia4Nz68gCIy85MxgMFy5cCA4O9vb2Pn369NGjR8eMGaNSqSw6L2sVRxlliZctW3br1q358+dndiVZTIjgsyQmJo4ePbpx48Y1a9bE14Z/XrhwYf78+Xq9niRJa10hCMJkMuXPn3/UqFHKO8LHVGbrtP7r6dOn9+3b9/vvv7u5uckx6pldZFxc3K1btypUqKDVam/durV+/frhw4e7uLhY9++pqanp6ekWH5Ik6ezsrBT+OXPmaDSanj17fpKydujQoW7duu3atcPNjn/u37+/a9euNE3brDlGEISjo2PPnj0HDBigbASLIZHNB4RHIVgRIyMjx48fv3jxYg8PD+Vdp6WlWe+o0WjwzUqSNHv2bJVK1bdvX5tdGc76JH8iXwb+0+epKVi6wJcXXZjT/U4xm81JSUly1yAIgl6vt7e3V3YoKSkpKSkpuXPnxquxLY6QkpLCcZyrqytCKCkpKTU1NVeuXHgVk8XGycnJgiA4OzvjfpOiqFu3bh06dEgUxdDQ0KpVq8rfpcePH7ds2XLVqlXe3t7Pnj37+++/x4wZY93ZjR07NiAgoHPnzsq+D3f0x48f37JlS2aiGxsbu2jRIlw0Tdm9urm59erVy9PTE7fMunXrihQpIqs7lodVq1adOHHir7/+YhjG2lwmCILjuFy5cilvH19eenr61q1bb9y4odVqq1WrVrduXflP+OeLFy/WrVvXu3dvLLqiKC5atKh8+fKlS5e2uEGSJO/cudO+ffvr169rtdrXr19v3br1t99+sykDW7du3b59u06nwzeLjew3b97kzp177dq1Op0Ob3bixAmKorDoSpKEpdpCEfE3xN3dXZal9evXOzg4tGvXDh8cb1+kSJHp06fjhDnWKqVSqfbu3bt8+fJ+/frhgYv1l2rSpEmlSpWqX7++sn2io6MXLVo0atQoFxcXhNCzZ8927do1ZcoUDw8P7GxLSUn566+/tm3bZjKZlKa2JEmLFi1q1KgRPs7x48e1Wq216OLvpNFovHjx4qVLl96+fSuKYlBQUJkyZcqUKUPTtPVTuHfv3ogRI/CYxqZlT5Kkvb199+7d69ata3OEAaILfA643COCJUPf4VDp8uXLgwYNko0DXC67QoUKo0aNypMnD95mzZo1CxYsaNu27bhx45QdB8dxDMPMmjVr586dN2/eRAht3Lhxzpw5rVq1wrWn5E4K/7Ju3brTp0+vXbtWq9USBDF//vxx48YVKVLE1dV13LhxXbt2XbBgAd4ed1XYLqRpGmfztvZbbtu2LTQ01EJ0Mbjit83vKrZWx48f/+uvv3p6enIch23QuLi4P//809PTs1evXvjLrNVqrZ3AkiRVqFChc+fO2bRv8LU9evSoXbt2Dx8+rFevXnx8/OLFi5s3bx4eHo7Nd1n1ccvIJ5o1a9bIkSMtRPdDz0jT9vb2cnNpNJrM3r66deuWLFmSoih8ImxEzpgxY/PmzXZ2dvJmdnZ2WDhxE61Zs2b+/PlKa16+HW9v70OHDuFxFUmSymXi+Lvh6+vbsWPHLFqG47jIyMjMfAwEQeChmIXovn79euPGjb/99hu+EuyMUd51cnLyvHnz+vbtW7RoUTlZHj5ssWLF5DbElQNsPq+lS5cuXrw4ISHBw8MjMDCQJMlFixbFx8f7+fkNHTq0devWFg83d+7cbdu2NZlMWYju7Nmz58+fX6dOHflGQHS/siDhridHd9/YGymKos15spyBhBCZs9bn4D4iKSnp1q1bS5cuDQwMxPLz6NGjSZMmHTt27Pz589hii4mJefjw4YwZM2rWrFmxYkVZd/ERnj9/fuvWLXzMt2/fRkdH//XXXw0aNAgNDbX4PsTGxkZFRXEcp9VqT506NXjw4BUrVuDe+dKlSxUrVvT29v7jjz9kB6My2azNW3BycsIWts27s+nblO37kiVLLlmyxOLzw4cPJycnKw9i04FsMBjw8ujM+lDlFDVBEDzPt2zZkmGYp0+f4oLTN27cqFy5skajWbx4sbKVLE7n5uam1Wqzc4NZTKB6eXl5eXlZfKjX6zmOa9myJb5HiqJOnDjRqFEjrBOSJHXo0KF+/frWfvsTJ0788ssvT548KViwIPqQpFCyGNM8efKkf//+9+7dw84Ai1NTFJWWlhYcHJzFl9Pe3t76xhmGcXJysp5fUG6g1WpbtmxZsmTJzL7wKGPWlmVZfLOyCdurV6/Vq1cPHz78119/9fDwkO/6+fPny5Yt69Kly61bt/BoUp7idXV1bdOmTdYv2vXr1+/duycPWcDS/eqQBIFyuv1HkZSdzg6HG4AF+Z09O4pycHCoUaOGn58f/qRGjRotWrTw8fGZM2fOlClTsE1cpkwZV1fXgQMHXrhwwcIlqNFo5MkFk8lUsmRJf3//fv36Xbx40WLSgWEYnU6HP5wzZ85PP/2EFRe7l0eOHDlv3rxffvnF3d39o30TQRCpqalpaWn58+e37lKz07VxHGcymWRrGB8QDx8temoZfMvYUvxoLUW8PXYVrFy58t69e1FRUc7OzlhiS5YsuXLlyk6dOv36668lSpTgOM7mu8PzfBZDh+yPrmRdx/bfy5cvt27dWqdOHYZh8CckSep0OmW7OTk5OTk5WR/t2bNnTk5OPM9n5j4hSfLYsWP79+/fsWNHnjx58EjO4tlhczkz3zLKiLCT/okoirjMZdZ3iodNSpdMWlqaVqtVGr52dnaygY6f0bp165YsWbJnz56GDRtaeBQCAwOnTp0aGBj4yy+/NGzYEI8m5XFndmK7/v1DBNHN7nedIIhbj++/ef+OoZj/JIHX/wCCJKMeP0iTWNdb3iaTicqJuksQhJljy4YUc3Fw/r4CEbPzLRUEwWAwKHXF1dW1Tp06Fy9exA5k3NOFh4eHhoZu2LChc+fOSuNM2RVi0Zo5c2aRIkU2btzYsWNH5Xw/PpdarU5JSTl+/Pjs2bPxJ7gXbtWq1ezZs69fv167du2PeI9EkaKo2NjYpKSkPHnyoH9G/WDPITZfPvpYZaerHLVksRf298oxOARBuLi4bN68uVq1ahZGnuxOFEXR29t7xYoVWq0Wb/D333+XLl06MDAQd9a4qRs3buzu7r5z585ixYrhNvwMMwhfWNaB0HLUmCiKeKzQvXv3PHnyHDx4ULlZp06dlCFIyovBUornTU0mkyiKWWcexS1Zu3ZtecI4aw+8za8lDiDAV45/2vQJy3qMr9PBwWHgwIEeHh54WlceTh0/flweQ9jZ2R05cqR169YcxxUrVmzo0KE6nW7jxo2BgYENGzaUv9uybYo/+fnnnydMmHD48OHQ0FClo/j06dN3797NLKqOIIjdu3eXLVv2ezFzc4LoxsS9HbNsBkERoiDkSJOXIIh3d55qXt459Owyz/I5z70sSZKKUcUlxa8ZOati0TKiJFIElfMeotzRYC3x9/d/+fIly7K4mzYYDD4+Pr169RoyZEjjxo0dHR1t9iDYc+jn5/f7778PHz68Zs2auXPntnCf4iietLS0kJAQQkFAQEC+fPkiIyOxBfZRx/iTJ0/i4uJ8fX1la+bdu3fYhKVpOikp6V8uY8NNMWvWrOPHjxsMhlatWjVt2lQUxd9//7127do2Q2SVhhRWfYqiOI5LSEho0KCBbO7IM4thYWG3b98mSRLLiXKGNbMj42EKdhvEx8eHhYVptdrExER7e/ss+nS8Wgk7e4cPH37jxo3du3c/fvwYT0bi63n37h12fVvLIW5J/BxxwLnsfZVHXbKTAH95nJ2dixcvbnPogxXLzs5u4cKFZcuWtQ5UxjXbN27cGBcXJ0+X0jT95MkTo9GIx0ny5WFtlgP3TCZT165dy5UrJwdsS5Kk0+ns7OyUe3Ecp9FoJEVSVZVKhVVZXiykfDVEUeR53s7Ozmg0Kkd+T58+7datW0hISP78+a1tekytWrU6dOhgfWQQ3a+FmqIJCpWpXcTRyV4QxJwnuxJCZJuKkiRJopQj745AiGGYw3vPsOYcm+VYnkOVDb79+/eXLl0aywDud3ieHzBgwJYtW8aOHTtv3rzMuniKogRBGDJkSHh4+LRp02bPno1tWQsXpYODA45BVZpTGo1m9erVUVFRb968+ahqXrhwwWw2R0dHFylShCCInTt39urVCy9TUalUSUlJbm5uH7WYZWvVpg8QX3ZaWpogCHIor5ub208//ZT9tk1MTExNTc2dO7fSGMK/+Pj4bNmyZcSIETzPq1SqmzdvWnti8YXJC3blB8RxnIODw+TJk728vM6cObNq1aqsR/8Mwzx79qxHjx7Xr18/ceLEixcvateurVarcQvQNJ2YmNijRw+bLu7o6GhfX18czpacnIwjkJXOAIqisFGL5bNGjRoXL1589+6d7EiwSVBQUGZrtwRB8PT0LFiwoNlslkUXIXTjxg2LAyYnJ6enpxsMBjc3N4qizGZzjRo1ypcvn8UTSU9Pr1Wr1po1a+QbRAjVqVOnd+/eUVFRhQoVsvgmYPf7+fPnHzx4UK1aNaXNmpCQ8Pbt27Vr11aoUOGj34TvZfaNzgG9tiCIjs4OxcoEm41mgsyBxq70oYPIgR50SUIUTbImTtwl5eDYbHt7e7lHMBqN3bp1e/r06f79++VoUuxdtLe3/+OPP3r27NmrV6/g4ODMZqpEUdRoNAsXLmzdunXXrl2LFCmCY3DkDfR6vc0+SJIkZ2dnf39/kiQz669l8/Hy5cs4EKlhw4Y0TdepU+fMmTP4TzqdbujQocePH89Ch3DQjfJDR0dH5dJSfO8jRoxo2bIlQmj9+vU1atRgGIbjuKz9hHJEsSiK7du3b968ubUjGh9co9GIomg2m3melyTJunYFy7JGo1GOloiPj4+Li4uIiAgICMCR1dWqVXN2djabzStWrMgihVNSUtK8efOWLFkSHBx85syZwoULe3t7nz17Vo4hIgiib9++KSkp1vs+ePCgadOm69atK1euHELozp07vr6+2DTHz+L69esbN25MSEgoUKBAmTJlsMHn6enp4+OTdUNxHBcXF6dSqbDjRLna22g0NmzYsGvXrsrtb968uXfvXtlxgp9Uhw4dNBqNwWBYu3ZtUFAQviTrcyUnJ6ekpHh6emLLGDe4PEyUJKlTp07nz5+vW7fu5MmT27dvr9zXaDSuWrVq3Lhx/fv3r169urxWGGVEzOWwniGHLBkSBdFsNJvNLCyq+f5ElyI5js+pN0iSJM/z/fr1c3FxIUkyKSkJB0CdPn06MDBQOSOLO+hWrVotX768T58+WUga7pLq1q1btWrVwYMHHz16VKmvkiT5+vqmpaXdvXs3f/78cm/L83xycvKQIUN69Ojx9OnTEydO2Iyawdtfvnz5xIkTGzZsGDBgwPr167t06eLu7u7u7i5vljt37izqL2m12sjIyBYtWjg5OeGzYCPp0aNHShcrNmVYlhVF0cXFpXLlyvIMd9YGNJZJQRD8/f21Wq1OpzMajUoFwg3y5MmTEiVKzJo1C3+4a9eugQMHygehadrT03P06NEzZ87EpirHcaIomkymadOmhYSE4Ml4R0dH2edpkylTpixatIim6REjRnTr1k2n05lMJldXV2VzIYS8vLxsylVqaurLly/NZjP+540bNwIDA5Wrod69e3f9+nWO4w4fPvzgwQPZNP/o0IRhGJ7nCxUqtH37dgtHNF7WjMOp5LQk2Mi2GNz07ds3b968LMsGBwebTCadTtevX7/ixYvj4GQXF5c7d+68fPlSkqQiRYqEh4fj+GfrDFM6nW7lypUjRoz47bffJkyYEBISgj0lr169evToUWJi4m+//fb7779bB38ZjcZXr169evVKXsyNH71yqZUkSblz5/5eSnDmlHW6BCLwihMSRPc7s+Lxg8vBjmVJkrC04K4nPj5+yZIloaGhPM/b9HbOnz+/WLFie/fuxStMbPaneMZr5syZJUqU2LJli7zAkSAIlmVz5crl4+Nz586dJk2a4I0Jgrh///6DBw8KFSokCEJKSkrWSQTHjx9fv3795s2bx8fHjxw5slatWl5eXjjJIsuyKpUqswk2/GG5cuW6desWExMjyxXuGXv06NG4cWMLb7lKpRIEoV69evXq1fu8Rs6dO/fx48eHDBmiNJLMZvOZM2c6dOiAJ0RpmlbOE+PrXLdu3alTp16/fm1nZ+fn52dnZ+fl5RUQEEAQxJkzZ2iaJjPIYgTw7NmzPn36/P7778qAc+st582bp2wNZQuo1Wp8Cp7nS5YsGRISohyx1apVa+bMmQih9+/f37hxA7s0bAYWWVwYtjjlxFgWS12xNCp9LdaZOhBCDRs29PHxkR02kydP3rp1a0xMDP5iBwYG1qlTx93d3cfHJ1++fHhml2VZm7mlVCrVzJkzBw0adPTo0ePHj7958wYh5OTkNGnSpJ9++gkvTpMVF19M3rx569ev36NHDxypTtO0wWAwm804YZncSqIonj17tmjRot9FfgxIjgEAX1d0VSrVjh075AWvw4YNGzduXIsWLeQcRkoEQQgODv7ll18GDBhQtWpVnLvKGjyzW7BgwW7duo0dO7ZWrVpOTk64w2JZ1t7evlGjRsuWLRs5cqTc/c2dO7dw4cKlS5emKCqzjglHA61YseLYsWN4eq9r164bNmxo1arV+fPnGYbB3kVlDkubouvh4REeHp5FmyjTL8gf4tsfP3781atXMxMVURRdXV2HDBlSsmRJHPTEMEzdunVHjx4dHx/v6uoqZ246efLkq1ev6tevj9e4W9y1fJ3Wy0BthiZl1mIURS1duhQhFBsbiyePrVsGq52Li0ufPn2QYs2VvOoJW66CIAiCMGHCBPTPBTnY9DebzW5ubrVq1ZLtvyx0lyCIrBPH4swkctw4PpednZ21WKanpyvTRnbs2DHrvBwIoYCAAOvvrSz5efLk6dKlS5cuXWw2u9IHLkmSq6vrmjVr7t27hzKCEnbt2hUeHr5161atViuPsQiCCAoKQt/JtC6ILgB8dd19/fq1g4MDtrd69uy5fPnylStX9uvXL7NZ1XHjxu3Zs2fmzJnjx4/PbGYX97lTp04tWLDgggULRo8eLachRAgNGDBgx44d7dq1mzlzJk3Ty5cv37Nnz969e+U8Rzb1jGGYiIiIQYMGTZkypUSJEtgHu2XLlkqVKvXo0WPp0qXZ9EngaF5sUtvb2ysz/Mlzz5IkJScnYweA3NtSFBUcHMyyrM24XLxkZfLkyYmJiQcPHpSX6OBra9my5cGDB7HYREdHd+zYsUOHDmXKlMkiiyqWk/T09EePHgUHB6vVarkTVybHEAQhCw8zFkVRFHPnzs2yrE3RJUkyPDwc5yW2aH+NRoNX8SoTZVs/IHxJeHHR4sWLFy5ciFMx2+jTadpkMhUpUmTr1q2ZjRhEUTx06JC7uzuOX8NRApcuXYqLi7OIXpbjy+SblUcw0dHRN27cePTo0bNnz+zs7AoUKODr6xsWFjZr1iz5sSrTsCh9P8pJBOtRoDLThV6vxyuCMHfv3tVqtRUrVrTYBcc/ZzEcBNEFgB8IhmEYhsFhRAEBAe3atZsyZUqPHj2sl+7g+So3N7ehQ4f2799/8ODBmaVMQhlrP8aOHTtgwICuXbviRIO44w4MDNyzZ0+fPn1KlSolCELu3LnXr1//008/4ZXBNg9FkuT169ebNWvWuHHjYcOGYTNCEAQPD4/NmzfXqlXL3d198uTJOBL4o6LLMExMTEyNGjU2b95cpkwZZT8uryGpUqWKRS4ngiDatWvXrl27LA5++vRpZY5D3AgrV65s165doUKFqlevnpqaeujQoerVqy9evBhLSGYWIW6uW7du1alT58SJE2XLlpWvM3/+/BMmTMCrXPR6PY4EzszYxUbz5MmTs7js2NjYly9f4nt8+/atwWDAIUJ4Qvfu3buSJD1+/FgUxdevXycmJkZHR0+ZMkXpE8ahyLiJatWqhUOjLa4Ky+f69evnz58fGxvr6empHLTJQ4rmzZuvW7du4cKFsmzjP7Vv397FxSWLAt54ZBAfHz9+/Pjt27f7+fnhpB8EQdy8eTM+Pj4lJWXEiBHdu3eXA8K/bN54PFtsPYz4jnIHgegCwNdF2S3ifuGPP/5Yu3bt7NmzR4wYYb0Ndof27Nlz/fr1f/75J8MwmVUZwvO1Xbp0Wbx48R9//FGsWDFlTaGSJUtevHjx5s2bZrM5JCREr9dnFnoqX8C2bduKFy++cuVK+VxYtEqXLn3o0CE8CfdJXZtNtcPncnZ23rdvH95AXoFKEMSrV6+uXLliM0oL9+O3b99W5jjEalGhQoVz584tW7bs1atXTk5OCxYsaNeundJs/WhXbnF5Xl5ecpBtqVKl1qxZ4+jomPXt37t3786dOxY2urxO7PLly/JKm99++23Xrl3YQWo0GrVa7bZt21JTU1NSUvR6vaenp4uLS0hIiDJTtEXTCYIQFxdn7Q/AZmUWNh/+sHfv3r1797bQbHmda2b5sOTbadOmzcOHDzdv3hwWFqb8a2pq6tatW3/99VdRFHv16oW9CGfOnJGX/2bnZeF53snJCa+TtqhTqdVqz58/n5CQsHnzZnkdsPLey5UrlydPnm98ZhdEFwC+rm9Z6UnDAuDp6dm9e/dp06b9/PPPvr6+HMdZbION46lTp7Zt21bpnrVI1Ic/oWl6wYIFDRs2vHHjhpxVH/+JJMlixYrJXdJHo29GjBiBKxlYOBhFUZRdfJ/UnWFbGfskbWYrVOYewj/nz5+/ffv26tWr4yWk1kerU6fOgAEDlFeCrzBPnjzjx4/PYsSTNdbXKffdarXa09Mzs6bD1//8+fO6desmJSXh1rMW9bx58+IqDpIkjR07Fhfhwfu6u7vjFduurq4WfgiLdsOu8mPHjnXr1g3HeVmfi6Ko1NTUBg0a4HyfmU0lWNuLWPCyWL0t15Y4ffr0zp07w8LCTCaT8inY2dl169bt7t27S5cu7datm0qliomJGThwYGJiYnaGPvKjzJUrlyRJ79+/t9gLr1gTBKFfv34Wf8LB57hhlcUYQHQB4McCF6uxNv4GDx68efPm9evXjxw50s7OziJZEu5QqlWr1qFDh3nz5hUsWBD3d2q1Wi59I3dDgiBUqFChefPmq1evrl27tnJeUJ6YtHC+yY5Ki6vFxpx1Jk7s9M66AG1mFqSzs7NytvKjxMTE1KxZc/HixZ/qQsDhSHIayE+a3sM1aLO+zqyPhusqnj9/Hi/Tsm4oZRrq/Pnzy0mtbWobvhdr/cOO37t377Ise//+fSzwFufKzr3LrWT9df1oW2m1WrVa/fbtW5RJnPa7d+8cHBzwSDF//vxRUVHoU3I04i8/vq/MUj9aX7xy3PbRxN0gugCQA8Hdd5kyZTZt2uTt7Y0UWR0QQnny5Dly5IjBYEAIde/evUmTJvhzi75y7NixNWvW9PX1xX/t0qWL9ZbYcTdnzpyWLVt6enrKc2wo82LyPM8nJCTIlXzkaT95Hi6z27EQhqxbQBTF1NTU9evXly1bNrOwXp7nK1SogKce8X1RFPX+/fvnz5+bzWabGo+Xjvj4+FhMLX90Vi+zayYIwmw248SNmV2n2WwuVKhQoUKFMssNjucazWazSqWSF90qMZvNcv32zJJzKVtbmVLb5uN49eoVjhKweT0cx3l6ejo4OGRRqemjThqbcujt7T1kyJBhw4YlJSU1aNDAx8cHt3xqamp0dPT8+fOPHj26detWefkvlGkB0QWA/wLcqbm5uVWuXNnmBoULF8a/BAQEBAQE2Nxdr9fLq0QQQvny5cvsXDqdrmbNmh/tT3EP6O/vv27duhIlSqCMlbJKMyKbFnwWi1LwWby8vHr06BEVFRUTE2Mz5QVOjujp6Ymdt1geQkJCpk6dWrt2bTkC1uJORVF0c3PbtGlTvnz5Pmn2DtemtZ5iL1KkSO/evSMiIqKjo21eJ0VRycnJrVq1KlSoUGYHd3FxSU1NbdWqlV6vt3kQrMoHDx709PTMfjvj+DuLCy5UqJDBYKhdu3ZmPluGYViWHTlyZI8ePfAysM/4AuOqfDYnBcaMGVOgQIEFCxYsWrTI3t4eO72xc75kyZKHDh3CC7pAbm2/rd9LZQab42iSJI9fPTdsyeSabSsVKp7fbGIhOcb3xYeMVCwfPmvTjPajqpYuL4gCRVL/8RcJx57wPM9zHMuyZrPZZDIZjUaDwWA0GCqGhX22wwpbV9YJelDGUhMcNpVZiJO8SgT3X9nfMvskJiYmJibmzZs3mzvKBc9NJpP1WCGzFs5srCAnZ5APLklSTExMbGyszclRlLH0OV++fJ+agSghISEpKcnPzy+zBvxojqeslfLhw4e3b9/OLG0IjuiuV69eFuHo1ty9e9fV1TV37twWBmtiYiLOA5XFvj4+Pi4uLp9RtgvvkpaW9vTp0wIFCmTRzs+fP3/27NmbN2/UanVgYKC3tzdej/5dJKnAXDx/XpIkvb29VqPRaLVqtVqlVuOxDh5zfPEbAUsXAL6uvZvF6gul+ZLZ7taGTna2zOaYFSHk7OxskZoxOxa8ddn2rG2mrI9mIWw+Pj5yFqQviIuLi0URiE/S1I8SFBSEUzR8QeTsVBbXlv2n9hk3JXtZihQpkpkqY0PWz89PLhRt/dUCQHQBALAhhJ9nDH1eh579g39xLfm8O/2kg3/S2qR/085fr4my01zyAEVZvE/+EBQXRBcAgK9iDH071/ONXPYXP37W6Tb/518MZcwwkN3xLjQBAAAAAIDoAgAAAACILgAAAAAAILoAAAAAAKILAAAAAD86EL0MAMCXQbm+JYtczVms27G5l3WCJ+XSZ5wV5JPWKNu8pMxymHwU62uWJMlmlSQZvP2/r3n32ZedRZYVAEQXAIBvVGJtFp6z1kVrycnsTzb3ylobspMVJItVrVknqbbe1/rirXckCOJTs2V9xjXbvOzs7IVgKS2ILgAA3x0WpVgJgkhISKBp2sHBASG0a9euPHnylC5dGifmVe74/v17nU6nLMyAfzGZTHv27JHrCmD9SE5O3rJli5zWXxRFOzu7du3a4Vz/NE0/fPjwyJEj3bt3xwVWPzW5P94lOTl57969ZcuWDQoKUh7EOrmS9Se7du3KlStXhQoVZEP/9evXgwYNwvkgrTVbkiS9Xt+oUaMWLVpks3kzu+z379/v37+/du3aHh4eFgk1s97xwoUL8fHxDRo0gCW2ILoAAHzTYBHdu3fvn3/+eeTIEScnJ+zkpCiqRYsWderUGTZsGEJoxowZoaGhStHF3f3bt2+rVas2duzYNm3aWLiFTSbTb7/9NnDgwEKFCuEDIoQSExNnzZolZ2/GGYxbtWolm5InT57s169fmzZtbJaZw4e9fv16cnKy8kNcrLBIkSK+vr4IoYSEhP79+y9evDgoKEi+KpzpkOO4+/fvv3jxIjAwsGDBgrjenFKrZs2a5e/vrxRdlFHyyGZBApqmnz171r9//4oVK+JKD9bDl/j4+Llz5+JBjHwEXE25Y8eOZcqU4TiOYZiYmJh+/fpt3bq1Tp06eMdr164dO3ZMpVJZtFj58uVxRWTcsBs3brx06VLDhg3RV87SBYDoAgDwr8C9dlRUVEREBC4VLHfZ7969S01NlVXNpquTZdl3794pqxMqsycqdzEYDBzHubu7375928JWY1k2JSWFZVk3N7ePWnWHDh1q1qxZgQIFLJTPbDZPmzYNi651ZiW87507d7p16xYdHe3p6fn27duKFSvOnTvX399fKVS4hp3SPPXy8tq0aVMWFxYbG1upUiWbFQAxDMPkz58/NTUV123E86+pqanjx493dnYODQ3FIxJnZ2f57LjpYmJi9u/fzzAMngiXJEmtVt+5c4cgiOfPn3/jhWZBdAEAAGxz9erVoKAgC7MPF87jeR7ZmlzEW757987R0TE4OFgpdfgXrVYre27T0tKqVq3KsqwcK4StT0EQcDElXOPv3r17WEiwFYgyKugpzxgXF1e8ePEjR47IRY1QRilfZ2dnm3Yevvhnz57Vrl27fPnyK1eu9PDwePLkyYgRIxo2bHjgwAEfHx+ln9niCIIgbN26dd++fdYhYLJbODY21uYsMj6Ug4NDhw4dLP6Unp4eHh5+//799evX48K9z58/NxgMuGXwxTRu3Lhx48YWO5YtW7ZkyZJy1abvt7IciC4AAD8WkiTRNG00Gt+8eVOpUiUL9ymercQaoFKpLDp3PC974sSJhISEtLQ0/Ne0tLTk5GRsq6Wmpso15LVa7cqVK7EIOTg4sCybmJgoSZKzs7Narca+YixpWOMdHR2ziLeiaTozm1h5kVjR8TVQFDV06FBnZ+ctW7bgI7u6uu7bt8/X13fmzJlz5861KV3YDRAdHd2xY8datWqVLVvWZDJZh5vly5evXbt2uXPnRpnP3SoFG9fE3bFjx+PHjw0Gw7Vr13DINM/zHMdZBE5b7DV37tyrV6/KjYnvBRvQ8H0G0QUA4JsGm3dXr169ePHis2fPZs+erZxJJQji6tWrGzdupCjq7du3pUqVshAbgiCOHTuWkpKyfv368uXLI4RWrFgxYsQIrVbL87woiunp6Wq1GstkiRIl8I779u3bsWMHjksiSbJp06ZKYw6Lx4QJE+zs7DiO69atW548eayVFauUhV1rIXj29vYURWFZevPmzdGjR6dMmUJRFMuyNE0LgqDRaIYPHz59+vSxY8diK9lmK3Ecx/P8tGnTsih6/1HkMYQoiiqVymQyTZs2rXv37kuWLJEfxN27d8uXL69cniQPg0RRZBgmKipq5MiRU6dOLVy48LRp0yIiIkiSZBjm3LlzPj4+1jFuAIguAADfkJmLhXPixIm1a9c2GAwDBw4MDw8XBAFbeCRJ7t27NyIiQpKkJ0+eNGnSRKlDDMPs3bv38uXL48ePnzJlSuPGjWvVqtWoUaNSpUphoU1NTW3bti3Lsiij7j1BED169Dh8+HDnzp3xROaFCxcGDhy4a9eupUuXYnsaH//q1asMw7As26xZszx58lg7jeWwJovPsf2NndWHDh0ym81JSUkVKlRITk7W6/UVK1bExj12pEuSVLNmzREjRty6datq1aoW6ii3kkajoSiqT58+fn5+cty1NV26dKlatSoO18qsweWAsnbt2iUmJs6ePVu+HYSQnZ2dzYPjve7evVujRg13d/fff/8dW+pOTk4URanVaq1WK89DAyC6AAB8i+Cw3pUrV54/f/7WrVs0TRctWrRYsWJ9+vTBwiAIwoABA8aOHStJUrVq1eRAIUEQGIZJSkrq3bt38+bNx4wZExcX17hx46tXrxYuXNjf318WZo1Gg8UALwc6c+bMxo0br127Jtdyr1OnTrt27YKDg2vWrNmuXTv52jZv3qwsUG8hRVi9ZNGVbUGkCPgSBGHdunW7d+82mUzjxo3LkyeP2WzOnTu3clEsQRBOTk7u7u5Hjx5Vq9Umk4mm6djYWByNJWXg6+u7adOmGzduZFFhF5uq8oVZXzB2DlMU9ebNm6ZNm967d+/atWuDBw8+deoUwzDYB44DypQR4DzP0zRNUdSZM2c6dOhQoUKFu3fvNmzYcM2aNd26devWrRvebPDgwadPnwYzF0QXAIBv18ylafrAgQPdunWbM2dOYGAgQmjv3r3NmzePi4vr06ePu7s7Qkiv1+t0OoQQXoaLd6QoymQytW3b1sPDY/bs2YIgzJ8/PyUlpXLlysuXL69Xrx5N0wRBpKamKpfHIIQiIyMJgggJCeE4TrZ9CxYsqNVqIyIilKKb9Qwl1iGLD5WfYGfskiVLWrZsybKsWq1etGiR7GpWCrler/f29t66devZs2dxNNOzZ8+wq1zeWK1Wt2zZsmXLltlpWJtmLkEQDMMYDIa1a9eOGTMmMDDw0qVL+fPnr1Spkqenp0ajweOYmJiYRYsWWdyp0Wj866+/pk2b1rNnz1mzZj179qxbt2758uX766+/mjRpgie/zWYzLBMC0QUA4NtVXIIgtmzZ0qZNm4kTJw4YMACbaJUrV965c2fr1q01Gs3vv//OsizHcbL+YTmhaToqKqpnz55xcXEHDhxwcnISBEGSpNWrV0+dOrV58+azZs0aNGgQFi059hgLWNOmTSdMmDB69Og///xTvpiJEycyDPPLL78o44dxXkObrlpJkuLi4iIiItRqNZ7FfPv2bXp6+v379x8+fPj27dvu3buHhYVh21FO6Ijnd3GUlrIR0tPTnz59OmvWrPbt2+MLCAsLMxqNCKGHDx8OHz5cvpjsyK0kSVqtdsGCBa6urrIVThCE0WhctWrVihUroqOjR44cOXjwYJVKxXHczz//rDzC48eP582bZzKZ8D9Zlt21a9f06dMTEhLWrl3bokULSZLy5s177Nix6dOn9+vX7/Lly0uXLsXtDEmpQHQBAPimRVcQhJkzZw4ePBhLF0VRHMdVqlTp5s2b6enpBEHIQkXTdHp6Opai5OTknj17Ojo67tq1C0sLSZI8z5MkOWLEiCpVqjAMgxf8iKKYmpqKndJYkHx8fFavXj1s2LDdu3e7ubnh9T9mszk8PDwgIMBgMOAII6RYd2RhLyKEQkNDJUlq0qQJdsMyDJOWlubg4FCkSBGVSlW+fPmQkBCz2WyxsLhAgQIkSb569SpXrlwoI0BJFMVHjx4lJSWFhITIGikbuFqtNn/+/CjDm/3RJsUhxBqNBq96UibnunTp0pAhQ4YNGzZkyBCc4QtfucVBvL29582bV6xYMbw73qtHjx79+vVzdnbGgxucHGPYsGGtW7fGEeCiKJpMprS0NPhig+gCAPAtgq0i7M7FQTpyb44QcnNzc3Nz4zhu69atXl5e+MNixYphF7S9vf3GjRs9PDxwxgZsSuJtWJatUKGCfAqVSlW2bFk5WwUObmrQoEGDBg3u379//fp1SZJKliwpz+/q9XqEUNu2bWmaxmk6rEVXkqSiRYveunXr2bNneEVT7ty5cbEBpYY9ffrUYtFt4cKFTSbTgQMHSpcuzbIs3pgkyS1btgQHB1uEJeNdfHx8/vrrry/S1GXLln39+rWzs/Pz58+PHTtmndxK9gf89NNPuMUQQuXKlbtx4wb28/M8T1GUPBAxGo1+fn5+fn74n/7+/rJ9DIDoAgDw7Zq8ckIMgiAOHjy4a9eux48fY7MJz3eGhoZ27Nhx+fLleKUpwzA+Pj7yvthaXbt27aVLl2JiYnieV6lUXl5eZcqU6dGjx8GDB5Xag9MtrV279sGDBzi3Q1RUlNlsll3BBEFotdrGjRvj+OfMjF29Xl+4cGGbtyPfi8WCY51O9+uvv86ZM6dNmzZBQUFY4a5fv7569eqZM2eq1WqbaZnxPV66dGnatGmZ5eTCh/L19Z00aVJml21nZ2dnZydJ0tGjR8PDw3GiaYsrV6lUCQkJL168uHnzZkBAgCiKarXa3d0d27LYrN+8efORI0eePXuWlpaGo8BKly7dpk2bkSNHWjQRAKILAMA3hzzpGBMT06ZNm8ePH1erVq1x48Y4FQZeKTR//vw5c+b8+eefrVq1Us5TYkE6dOhQr169XF1da9euXaNGDaxAT58+XbZs2bJly2bNmtWgQQPlwh5cjeDt27dKsZeFx87Obs+ePXPmzHn16pWLi4vN9FJYHR88eLBv375u3bo5OTlZ6I3800Ij//jjj7Nnz1apUmXo0KH58uW7du3awoULu3btiqeTbWoVHlV4eXlVqVIFTyFbr1BSq9X3799fsGBB+/btS5QokcWaIoIgOnfu3L1798wex8OHD8uUKfPgwYOAgABlTk2Kop48edK1a9fo6Oi6deu2bNkSp8VITEw8fvz4qlWrWrRoMWfOHOs80gCILgAA35alSxCE2Wz++eefExMTL1y4kDdvXottJk+ePHbs2A4dOnh5eVWqVAlPAOOf9+/f79y5c/PmzRcuXGi91+DBg1u0aHH+/PlSpUop8zUOGDAgi0vavXt3kyZNlBFPNkX37t27Y8aMadSoEa7QoBR1hJCbm9v69eux41r25Wq12gMHDowePXrVqlXYoz5q1Cgc85U1fn5+AwcOzGKDBw8e/P3330lJSR/voGk6KSlJTtQlg5dvxcbGGgwGixBrfPG9evVKTU29fv26h4eHcsdhw4bt27evZcuWefLkGTZsGIguiC4AAN8ueEL36dOnkZGRW7ZsyZs3r7UxxzDM5MmT//777/Dw8EqVKmHbC+946tSpd+/eTZkyBWXUfpe1nCTJmTNn7tmz5/Dhw6VKlZJnjgmCiIyM3Llzp8lksrBEsfBcuHDB3t7+oyV18ZyxvJTW4q96vb5evXrylrLha2dnh2scGY1GOzs75cgji3FJYmLiiBEjIiIiKIqydgszDBMXFydJEo66yiIzBkEQhw8fHjp06Js3b6wNcex7Dw4Oxp5zpVPhwYMHR44cOXTokIeHB8dxsirjvzZo0KBLly47d+4cNmwYGLsgugAAfLvg3hkXNoiPj0cIYV2Rq9phCRFFMT4+Xg67lft0vIQXBw/LO+K9sBs5PT3d1dXV4nTjxo07c+ZMy5Ytba4uLVq06NChQx0dHdHHpidJktRqtdkpOqs8O7bR8QyrPC2d9aDkyZMn4eHh8+fPt6iLoLRf/f39rdNVWnP48GGGYdasWYPHKBZ1kNRqdaFChTw9PS3EGy/Gff/+PT6XPHUtX3x8fDwOQ0MwpwuiCwDAtyy6oij6+/s3b968f//+er2+WrVqyshhQRBu3LgxatQoV1fX/v37ywtnsdlar169cuXKtWzZctmyZSEhIUqdiI6O7tOnj0ajwXmVlX+Kj49v167dggUL/uXFp6enR0dHY7HPTGnc3NxwcJOMsjaATavUIocGbgRXV9eOHTvKw47PhmGYkJAQ2QrPzgOSJMnT03PQoEH9+/d3d3evVq2aMk779evX06dP37dv34EDB+QhBXyxQXQBAPh2LV2CIBYuXOjr6/vLL784ODiULFlSr9fjlA5Pnjx5+fJlqVKlDh48GBgYKIsu9oW6ublt2rRp2LBh1apVwwXkcV3bV69e3bt3LzQ09Pjx4x4eHhYOTxcXlx07diCEjEajTbGUJKlHjx6hoaGZGbgIocKFC5ctW3bMmDEeHh7WU6R4s9TU1ClTpmDntlJfs7YFk5KSsJ0t4+DgEB8fX6NGDQcHB1ynwVqnOY6rVavW6NGj8bLmzA6u0+l27dr1yy+/KKsaWFzYTz/91K5dO2WjSZI0duxYgiC6d++eK1eu/Pnz29vbi6IYFxcXFRXl5ua2efPmKlWqIKvE0QCILgAA36LuqtXqMWPGdO7c+eLFi48fP37x4oXBYPD3969cuXJYWBgul2uhnXj60N/ff9u2bREREWfPnn3+/HlsbKyXl1fZsmXLlStXunRpi73w71OmTFm7du2bN2+sp0jlzeQivjbVFCEUGBj4999/JyQkyEmYrTdjWRbHhX2Sx/WPP/7ALnHZu54vX76TJ09GRESwLGvzUNhhIMdtZdHOXbt2RQg9efIks2J8uBah8prx3en1+mnTpv36669nzpx58uRJTEyMSqWqVKlSv379wsLC1Go1TOWC6AIA8N2AY6N8fX3lzAxK5FoCNsUGIVSiRAm5cp/ymBZ5HLEqhISETJ06NfsDgszIlSsXTi/1L49jQbNmzSz2YhimatWqchmirMk6HaOPj8/YsWM/Y2CEH1BgYCBOUWJB1uY1AKILAMA3Z+8qI6HkBFLKf2amMbi6LVIszpFF2qYC2azD8xlkp5jdZ5zIZs5n66Duz1BclFHI4TPu3eIByaUJ8aWC4oLoAgDw/WGhGdnMoY/1ILN/foYyfd7VfsHxh81Z2y918C91y19k4AJ8ge8hNAEAAAAAgOgCAAAAAIgu8KlIn7KtJNncPjsVOj96kOzsKEmSJEqffQQAAAAgM2BO9+OIgphZCMaHiBEy08kSLGAEQUiiRFIfH+JIkkTRlCiINg5CEqIgkNmYK7J5kI/vJYqiKFE0RVIkQgSSJJ7nJUEiKRKmggAAAEB0/yPsHO1UWjWypTsCL3Amlmd5nuURYSPqgaIpRqMSOJ5iKHO6+aPnYlRMyvtknaOdvJQQK6hKo2KNrNrBzphq+MghCETTdGp8itZBR5KkJEooG4opiZJKq1Hr1GmJqWmJqZIoUSrawcVBpVUbUtIFXgDdBQAAANH9yhBI5IWTG449vHAfSQgRlo5iZ2/nvMUCPfN7e+XzEgWRN/OywklIIknSkJK+dUh4yvuUknVLV25XnWO5TG1iUdLYaY6vPXJ69bEyjUPr92vCGllEIIqizAbz5vHr3jx8Xbh6sZrd6mQhgZIkMSrmxsGre2fvKFa7VMP+TT+quJIkkRSp0qqirz44t+V03NPY1IQUSRAZjcopt3PekgEVmoe5++QyG8wECboLAAAAovt1wGWirxy+vqLfYknIanrTwd3Rr4R/g76NC4SGyLIqCaLWwe7YysNnNpxECN06FuHs7VqsRklzusmmeomiyGhVF7aceRr5xN0v9wexlBClou8cunpk8QGE0O3jkQ5uDpXbVktPSrfprCYQIUnSw0v3n0Y80bs5SpJkPVD4p9KLFE3zLL9xzOpL286nJ6VbbHB9/5WTa441Hty8WoefzEYWzF0AAAAQ3a+kuoggicc3HkmCZO/qkK9MEKNmRFEkFMajKd2U8Do+5v7L20ciH16413R4q1rd6wsCTyBCEiVGzURfvE9SJEESAidsGb8+f5kCtIpGIsrMAKVpmqRItZ1GKf6xT98QJIk1cve0v4PKFXT1cmPNrO11hxKiVVYHyQSKoc0G89Ke8yKP3EAIFagUUqJeab8QP5KijKmGu+ejbuy78v553KqBS3kz/1PX2qyJBXsXAAAARPfrQCCRFxCB3Pzc+64e4pzLieP+kSrdbDAlvk64eyFq+8RNcc9it47b4FMob+GwIqyRzVA1ShREtzzuoiC9uvPi6IpDTX9rYUg2ZBZUJUmSKIjSP+O2KJqSRNEryDs1Ke3t4zfHVx1pPaY9gYgPHu/sHcSWOktIksL7LMCK23Rkqwb9mugc7FijGSFEkGRok4o1u9ZZ0nP+46sPd/y1JaRyYc98XqyJ/UpJBgAAAHI80Htmy+TlOT7pbWLC6/jEf/5nTDHqne2rtqvxy+K+bn7uIi9un7RJ+rATQhkJZfKXKRhcqRBBEGc3nIy5/1KlVWUnI90/xB+hXAEeldpWQQgdW3boaeRjlVb1b9b0iIKo0+vObjsdcfAaQqj56LbNhrWWRCnlfTJrZFkja0o3Jr5JzFPAt9mIVnoXvSnFeGnHObWdJmtPOwAAAACi+68tXoKgGIpiaIv/SIoUeCEpNrFQWJHSDcohgkh6nRj77B2topFiWS1rNNXt00DnbBf75O3++bsJkiA/fXaUNbIVW4S5+rmxBvOemdulT5Nt23cl8oKbr3v1rrUaDmhiSjOKokjRFEESBEmQJEmr6dSElIKhwa7e7gIvJL1J5IxsdhY+AQAAACC6X0ePSYJAiFYxTrmckSSJgpiemEqQpDKVBWtk/YsHVmxdGSF0eeeFqNO3GY3qk5JdIIR4jvPM51371/oIocjD1y/tvqjVaz91Me7/P3iKNKYaKreuNmjT8DbjOwjchwT0FkMNJEp2zg4qrQrvAo8bAAAARPebABdOQQgRFGEtzJyZq9+nsWeQlzndvH3qFs7MffLKV4LgTGxYu+r+pfJJonRo0d6kdwm0ipbEz/f3Sgh5B/mQJCkJtoprSoigSUNyGsdyiCD+zYkAAAAAEN0vavJi0SIQsmF8EgIruHi71u5Zn2KoZxGPz246pdFrPslOJQiC5wQHV4cGA5pIkvQs4snpjScZNfMvL5szmTMNyEISxdAJbxPSk9KQJNm52DMaRvz3bu1v+ymif13aBQCA7/TdB9H9DpAkCSGCN3PpSekEQdA05ZDLSeQFCx0jCMKcbi7fIqxg5cICJ+ybuyvuRRyjVn2S+UhSpCnVWLJ26VINyyKEDi/Z//LeC0bDfKqn+p9WOJnZ+iVREDV2msvbz71/EafRa0OqFBbYHJuaSi58hnOBKW6TJBBoMADkcMuTsBpw/5t+FUT3CyirwAk8xwscz2f8J3C8JEoEQTq4OTyOjD67+ZQkSd6Ffd193Hmet1xWQyBBELR6bYN+jbUO2sTX8YcW7yWoDxblJ8ok0fT3Vmp7Tcq75J3TtxEk8TUqE4iCqLXXPrrx8OjyQ5Io5a9YsFClwsZ0Yw6f2ZUklDG3TX4ANBcAcq7kkgR+zy0U9+uVHwbRzRY0Qzt5Ort6uzl7ubpm/Ofs5arWqQWev3bg8uoh4Snvkhitqn7fxpmlaSQp0pRqKlK1eNlmFUVBPLPx5NPIJ5+88ocgOCPrG+xXr08jgiQiD16LPHpD8y8iqjIbZNAqJjkuedOotUlvEu1d7VuN+hn9COKT8eAIBfD9B4AcK7oE8R+/7JAcI1umT+KbhJ1Ttmrs1KIgyv2yJEpJ7xLjY+JuHY1ECKm0qk6zehQIDWaNmaZtIiiCM7P1+za6eeha0tuk7ZM3D944/JMeNIGQRCBBEKp2rHFx+7m30a/3zdsVXKEQRVMW2bL+jeKSJElQxJqhy+6duUMyZLspnfMWzmtKM+X4dFT/fAHxEJjA1Q7hVQCAHPjKkwQhkcrZpa+tviC6H1cghFDSm8R9c3Zm2ogq2r9UYJPfWhauWpQzfSQsmWM5r/zedfs02jR67Z0TNy9sP1e1fQ1DcvqnDM1I1si6erk1HNR09ZDwJ1eij6041HBQM2OK4d97LvD9EiS5YeSqa3su0yq62ajWFVtUNqWbcrzN90+tJSmKwj9pmgZ7FwByJBRFIUnCLztJkv+BvQuimy3UdhrPfF4UQ0mSJFuTWmfd04gnpmRDxTZVOkztyqhUrNFMEB+xNnFEVZUONW4cuvrwwv2D83cXr1XSzt7ObDR9wheFpoxpxgotK1/cce7OsZtnNpwIbVbR2cOFZ/kvcLM6zYZRq48tO4QQajSsRcN+TT8UJcyhumMROYXfOfz6YdFNTEwkSVIQBEmScNVhSZIkJCFRkj6MUsAOBoBv9wWXp2jlUTVBkiRB0DSNEKIp6sOHio1sdg4guv+N84FECHkGeY3YM97J3Yn//9zLEknRa4aGH1ywN/LI9caDmzvmdsrmN4DneL2zffVutR9fexRz/9XR8AMt/2hnNpg+9dpIgmg8qPmD83ffPnqze/b2rjN+/XdGLpIkSaPXHli0+8iyAwihyh2r1+vV0Gwwox9jFc0/7NwMG5ejqNs3bxmNRqPRaDabWbOZ4ziWZQWe5wUBK3EOX0YFAN/zSy2/zgxNM4yKUTGMSqXRaDQajU6r0dvba1Qq2dIlv35PB6KbLUReTE9MoylKFl1JkFR2qkqtq1zcfj7pTcKRFQc7TuqSlpRunRnDtp2aYijfuOLtYxHnNp4+uuJQyfplfQr4ftLyIYIgOBNXsEJItc41jyw+cGHzmQotKhcMDca5pT7nHkVRa687uHjPlnEbJE4M61Ct87RfJEkUBfHHcSx/uNN/+pZ1Oi1JkjRNq9Vqs9nM8zzP8wLPC4Igih8sX3hHAOCbfbXx+0tSFE3TNE2rVCr1B1S0SkXTtDydhBRO5q/U74HoZvPRIZIiSYokxYyREIV4M+9bOG/ZRqFHww9e2XGhWoefcuf15MzZK35HIFEQ6/VtfH3vVUNC+uEl+7vO/BWR6JN6b0mSeFao/Wv9Oydvvb7/asekzb/vHPN507qSKNo52l3ed2nntG0iJ4RUKdJufCeEJIEXfqiaQh/GxRmOZfyKCoLAMIIkifgNZlmWoiiBogRRlLDowgsCAN9oz40IksQZFEiSomiKoVUqFaNSMQxD0wxDUx/APmdlRBVYut8cEpJEQazSocalHecTYuLPbDrZbnwns9FEkVR2OnfWzOYJ9m00tNmWMesvbD5Tsm7pnzrW+aQyBgRJcCY2t79nzV/qrv991aNrD89tOV2rR12R/zRvpySIajvN5f2XVg5YbEwyhFQu3Ct8gMZOw7Pcj6O4ypBl7JCiaVoURZXqQ5bsD1O8JIllmOd5MUNxwdIFgG9XdAmCIIgMbaUYhqZphmFoRvUBhmFomv7PYqlAdD8fkiTNBrNfYf9yzSocXXrw/ObTYW2qegZ6mw2m7GSQIAhCYPkKLcMubDn76u6LfbN3lalfnqKpT7sGmjSlGSu2rHxpx/kH5+7uX7inaM3itPoTHqsoijp73eOI6DVDwtPep3qH+PRY2MfBxcFsMv9odXM/aC5BUBQliSJN01IGHxSXpmmGF3meFwRRwDFVIgLRBYBv+73OEFOSxoYtTWPhxYqLRZckSdKWb/mLCzCI7r97nCTBmdnqnWud33wm6U3iuU2nWoxql83FrARBsCbWzdu94ZCmi3vMfRb55PTm4xp77Scb3JKk1mka/9Zi5uVJ7x6+PrnmWPYTMouCqNKqntx+vLT3guQ3SXkK+fZc0t/Zw8VsNP9QNYVkhxJJklhBcWzUPxSXovBcriiIovDBtSwhSYIoKgD4xofSeD1CRkSVPHMkKy5FUaTsZFZGMoOl+w0+UJ7lvfJ7V25f7dDCfYfD95drWsEn2C+bS3dImjSkGErXL1eidqkbB65d230p8W0SQp82s0sQBGs0h1QqXKldtdNrjp1edzy4UmGUjaNIoqTWqRPeJCzpMff1gxiH3E49FvT2K5TXkGogKTIz6y0HB1XhW8O6S1GUcrG8PMWrDJ4SRAHHvoGdCwDfKBmDZoTQ/4coZ7zOFEUxDEN9sH8pWKf7/TxWhMLaVL20/VzS26RDS/f3XNSfNbMfOuKs1+wiQpIkkqSaDmsVdS7q7pkoeT3Spxq7BEJ1eta/c+JmYkz8jQNX0Md8npIkUQyVHJu8pOe81w9iXHzcus/vlb9sQXO6SaPXZHZ+SZR4js+pz1G2dD+koMJh6gipCEIQBIokRUlSiq6cqQrcywDw7Q+mZRMWR2zg9QmkIpBK6WEG0f1fQlJkFrObBElwRrNPIb+yTcofW3b4zombDy/fy1cqyJBiQAgh8UPYc1a7m1ifQn41Otc8MG+PWqehaErgBetryMJrTZKkKd3kWzhv5Q7Vdk7eKnIiRVOS8BHRpWl6x7QtD87fpdWMvav+9onI63uvoMwSWBKIZ/mCFULKNCiXIyVGXgWPf1IURYgibgtRFPHQWMxAUgAvCAB8R7qrWIr//+5mpdZ+7UyQILofNyNFQTSmG7MUMCSJUpX2P53bdCb5bVLksRuFqxRLS0xDCBEMKQqiMcVIkqSAhMwMXkmSav/aIOLojTf3XiGEXLzcaIY2S2YstBJCoiCyRjbrkYExxVi7R/27p28/OH8PIeTi40bSpM1I5owsSmLc83cIId7MPY989jzy2Ufb4k10TKn65UiCyMFigwdYWHoxWGgJUaQkSZIkUfowjwtmLgB8L4r74SdJ4vldpJBeWYb/m5oHILooCxtU4MRyTSoYktIDSuW3c7DLonwQazTnKejT4o82MQ9fVWgeZkhJZ1RMeoqhRtfaFEnmK1uAoAgkSYQti5kgCM7MOeVy6r10wPX9VzQ6TWjziqyJI0iCIAhREItWLx5z70VgmSCVRiWKok2XNUEQkiRq9Jpuc3td3HaW1jBlG1fIzEv8Ib+HiFqNbh9R5pooCNnJXikKon/JfDlPcYmMO5IfruxkljfAZq6lgQt6CwDfxTuOPhQQI2xhHTz19UKXEULfcQeKnX7Hr54btmRyzbaVChXPbzaxX7wMDsXQAs/TDC3wwkczRlEMjSSJIAnOzOGunFEzPMeTFCUKQtYTtZIoMRoVxVAEQXBmlmflfJOIYiicpEISpY/O1DIqhlbRBElwJo5n+SykVJIktU5NkCSeEv64yS9JkoQ4E/sl3QgSoiiSY/nwWZtmtB9VtXR5QRSys9D5yzs0MhpWab/KKR7Ff5q2ktwcAAB8L/ZuRpcqi6tcRldZT/erKi5Yuh+HZzlsiWbnAfAsh2OjsPbjTI0ESYgcjz62O57cZU0SkhC2cRWH5QmCEHnxoyUH8KWyZhZJCK85zXpjU7oJIUQgIhuhW4R8nTn+5VSmOJcL2iukVrKp1gAAfKNy+89/Wovr1xZaEN1PfGBSdp+Edf4wgiSQhFA2dydtO3nxNWSzyE9mB7GJIkCMgActK6hFjRFrCxgAgO/9Zc9CaCF6+X/+iP6nu4Mm/o+k1+L1U76HIL0AkAOs3s/YAEQXAL76m2ktsVDTHgB+EBkG0QWAnP9aAgCQUyGhCQAAAAAARBcAAAAAQHSBz0CxCuW/g4Bk/AAAAN8QMKf73wiuRDM0z/EEQUiihAjb04Q44xXOO0gQxIdSP1ImaoqQJEoWK3oxeHeEEIEIiqHweeEpAAAAgOjmfERR1Oq1N49FxL14V7V9DZIiRVESuH/mYZYQQpJjLidJFAVeUGlUnIkzpBoYjYpmKLzMV+RFkiIJAkkSEjhe4AW1Tm02mK2TU2r1WoEXkITObzuj0WtCm1ZMT0r/oerjAgAAgOj+mEYuoijKmGY8sHhPzW51dQ52e+fszFs8MH+ZApyZle1giqYkSTq0eN+D81GcmbPP5Viidumi1Yuf3XAi8sgNkqaQJOkcdcYUoyiKSJLKNavo7pf7wpYz9Qc0dnBz5HkhQ3UJiia3TtyYO69Hze51HNwc9i3YHVQuWO9iz5u5HJ9MCgAA4BsHrJ+vbubqHO1Orz2u0WmK1yxpNrEXtp19GfWMVtH/n0+fJDkzt3Jo+JW9F0OqFi1Vv6yHv+f+hbvvnYsKKJmvdINyZRuFBlcqdGHb2YCS+co3r1Sqfjmfwn53Tt48En7g8p4LJEkSGcmSKIZ6/Shm//xdN49FmA3mknXLOrg5nt18Uq1VwbMAAAAASzenD2oo0mw0P7h0L3/pAlp7nSE5Xedkp9KqlMkF1VrVteMRTy5Hjz8+xd7NESEkiVLldtUkCdm7OQSUzE+r6MQ38cdXHinfIsw3xNeYbmLUzJl1J0rUK31t35Uy9UIdcznhGjgkQRwOP1ChWRjKqGxfpFqx26duGlONH2aIAQAAALB0cyaSRDNMQsx7g8FQsGKI2WAmKVIUxH9UK5IQQZIpcUn2LvZuPrlT4pJT41PSElJVOrXaTm1KNabEJafEJae8T+FZLjU+Jfl9ckpcMms0C5zgGehVtEbx89vPaOy1PMdrdJrHEdHmVGNQaEGzkaVoymQw5y9dIOb+y8S3CRRDwQMBAAAA0c25mosQxZDpiWmJr+KdPV14lrfehiAIgeMDS+VPSkjav3CXyAsUTensdTRDi7xIkARJkfg/bDfj/3D5W57lK7WqcvfsnfhXcTRNUyr6aPih0GYVHXM5izyPCCTwgoO7A4XIxNfxBAmWLgAAAIhuTictIVXiM1c7AnFmLk9B326ze13ecWHmz1M2jl2zf+GeN4/eqLSqrFWSN3PeQXlc87idXHfU1dvtzqmbZqOx+E+lOCP7oa6RJNEqhmJokRfgQQAAAIDo5nwMqcasawQRBCHwQsFywUO3jPxlft+CFQu9uv9yfrcZEUeuqbQqURIz20sURZKkKrSoHHXm9vuYuHvno7yCfHLl9jCbzPIJP9R/hXW6AAAAILo/As65nT/q15UkyWQwmY2sm497aOOKA9cOrdGl9u4Z20VeIBCR2c4ESRrT0otULurum2vXjG1PIx5X71zLwKaTJKlUWQKv7QUAAABAdHM8Kp2a0aj+P3iKQKIg8hwvKP5TaVQObo60imaNbMr75OTYpMJVihpTjMZUA0FmKZkEwfN8tY61zmw4GVS2oLtvLp77//W4BEGaDSZTmlGt14LuAgAA/M+BJUNfF87MueZxc/ZyeRLxqHzzMFOaURIkvYu9m6u7wTEd26AkRV34++yrey8qt6vm7pubIAljqmHP7B15CuZxyu2cmpBKMzSyWWCOIAiSZA1m/2IBXef0DCpb0JRmtHdzwH+RJESr6biXcVonnZtPLlEQIRkkAAAAiG6OhSAInuMdczk553J+cPF++eZhKq1K56DdNe3vyzsusGaWJElREL0KeAeVD35w8d71g1f0jvYkSbJms97F4edJXUzpJpIkEUJIQpyZ/eCmliSCJBEiBI4jECJIQuSF0vXKsiZW4AREIFEUeZaTRFGj10TsvxpQMr+Du6PZaCIQiC4AAACIbg5GQiIvhP1cfee0rXHP37l4ubad0OlF1DPOxGJZlkRJ76wPqVK0SNViMQ9evnv6jjdzLnncAkvmI0lS4ASCJAResHPW9101xMXLlTNzBEWa003VO/8kCKLZaEYEgQjCmGokSZKkSGOyISSsSN6i/pIoJccmPbn1+KdudSiawtURvummkiRBEGBgAAAAiC7wmZAkYUg1BFcIOePlem7r6Yb9m7p4u+YO8FB6ekVRYg0mgiT9igT4FwvE8sMaWZ7lZZmkGMq/eD6B4yVRIgiCZ3k3v9wEQgL3odqBXM9A4AQHVwdHd0eSIs9tPeXum6t0vbKGlPRv27csEQTBMCqKojiBJ/8nZRABAABAdL97CIJAiDOxLcf8/O7pG9bMIVEy8SbrrSRRMhtMyk/+YZhKiDOz/y9FBBI5ASFba4EIJIoiEpDAC3mLBhSvWQqJ8oV8owii6KDTz9m64k3y+5ZV6iCERFFEBEGC9AIAAKILfKrs8rygd9I7hxYyG0yIQLbnVjP7/B/y/Y/tURbbEwghFFS2IM/yrIn9xh3LoiiqVerTFy/cfnrv+NXzg1p3K+CTFyEkCAJFQfZKAAByDrBk6D/SXYEXjGmG//i8pjQTz/HffkU/kiA4QahXsaZWo9175mDrMb3XH9kdn5JMURQvCBKCxU4AAIDoAp+oux/ikP/Lk5LEdzE5SlFMfNL7/s07LRg8qVKJ8glJCcMW/NltyrCDl8/QFEUg4kNeLQAAgO8ccC8D3wISSVKJqck/latULLDA6kM7tx7bden21eiXj49crjKu60BHvT0CbzMAAGDpAsAXGwBSlCAK9jpdv2btd01d3qJ6Q0EU/z6xt+ag9iv2bUs3GSmKEkSo3AAAAIguAHwJKJLiBUGSJFcHpwWDx88dOL5w/kLv4t+NWzGj+1/Dz0RepUgKISRKInibAQD4Lq0LaALgm4IgCIIgJIREUahdNqxUgcIHLp6cuTn81LVz958+rFG28m9teni4uCGEBFHAGgwAAACWLgD8C+nNsHrdHJ071mm2ecKiZtUaJKalbD68o+WoXltPHmR5Hm8AbQUAAIguAHwBaIqSJEmUpGDfgIWDx8/sN6ZUSPEnMc8Gzx3XZ+aoM7eu0RT2NkNsMwAA30m3Bk0AfNMmL0EQCEmSJEpi8yq1Kxcvu3T3xp0n9+85e/hyVETL6g2HtO2uU2sQQoIoUiQMIgEAAEsXAP619FIkxQu8u6PzqI591o2bX69CTYPJsGLv+tqDOx64dMrMcRRJgrcZAACwdAHgC31ZKRq7kUP8AleNnLb15P6FO9Y9fvG474xRlUtWGNK6W5HAAgghSZK+bKZp8F0DQA4e0IPoAsBH3hA80duqWv3QQiXXHtyx6diugxeORT+Prl2+xvCff1UxjCRJgiR9hrfZWl9tKi7IMADkDImVbNU0+6pKDKILfJdvDkUQvMD75vIc1alP/QrVp21Ycv7WlWW71126c613804NylejCIIXBPpTMlgppVT+3eIXnJBSfidBfQHgO9Ja/PLif2ahtdLXrC4Kogt8r9AULUoigYgS+YPXj5m99tCO1Qe23noU1Wf6yMv1WjStWq9kvmCEkIhfs89VXFEUZa1V/gKKCwDfo+4qRVf+BSfGtxhPfyXdBdEFvmNI4sOrQhJEl3otqpYIXbFv6/aT+5buXH/w0qkOdZr/2ridhlEhhERRzKLghE1zFu+FRRf/rhTeD/9HCEr+AsC3DH5JldYtoQAhRJKk0gJGimmsr6G7ILpADhnD8gLv75lnYo/BNUpXXLp7/cVbV+duXnbo0qkpvw4rlj+EJEle4GmK/qixKykQBEH++UF08W8Z5i80PgB8R70ESZIow64lSZIkSYqiJEnCv8tbgnsZALLxVaZoURJJgqxWoly1EuUW79qw7tD2W9F3Wo7uVb9izf7NOwV4+WCZtHidLBzLWGVl01YQBJqmP9i+kiQhJImi9E/rGBofAL5lvUXYI0UQhOxVJgjsVeZ5XtkhYPX9qk5mEF0g54C9zaIkIUnq1eTn6qUqzN++5vjlM5uP7LgZfadl9Ya9m/wsK6uFt9nCsSzbuKIo2tvbQ9sCQI4kJSVFkiQ8sMaVQ+XhNMzpAkA2pZdABMELfAEf/7n9x9x4eGfUspl3n9yfsX7hiWvnB7TqFla0FJFJbLPCfyyKkiTwPLZ3s3r9wNIFgG/e0s0MgefxCy6PwpWWLoguAGT7m03RoihSBFmmYNHtExev2L919f6tF29fuf3obsf6rdrVbOzv4S2KovLtkhUX/xQy+IjoEhBKBQDfKzzPfzBqaRrP5losC/zyVgE0OpBjTV6SRASSJEmv1Q1o0XnlyJntajVjeW7+1hXdJg9deWA7QZL4NRNEEWVM4mIrlxcEURB4nmdZFgKmACCnwnEcx3GCIPCCIIqyk0uSvloZFbB0gRwOQRASknheKJE/uFi+gqGFS6/ctyniwe1Jq2Yfv3Z2bJcBQT7+JEIms4kkSCy6PM9LgoDfRpZloQ0BIAeLLh6gMwQhZKwjUhq7X9zqBUsX+AF0FxEMTQuiSBJE8yq1dk4J79Oii7OD86nr55v83n3yukWv3r/TqDU4bEqe1BUEged57H0CACBHwmcgZFi66CuvBgTRBX4UcCpmURJVNPNHxz7hv0+tVjqM5dkFf6/sPHHw3ycParVaiqRkR5OQYexC0wFADhZd7F4WFUhfs0Q3iC7wY4GXFXECXzKo0LLfp8wbPDEwT8D9pw//WPJXxz+HRD19qNNoaYoymc04iorneZjTBYCcbel+CJkURfQ15RZEF/hxYShaEAWtSl0vtMruqcu7N/oZEcTRSye6TBw8bcPS5LRUN0cnluPAvQwAORvhn75l6Z98jTNCIBXwg0KRFM4y5WLvMK7bwKqlKqzZt/Xo5VML/l555fb1ZlXqViseKnCcAKILADkXrLSZ+Zats+iA6ALA54PTwQmCwAt81eJly+QvvO7wzjX7tl6KunEz+u6xouXaVW/o4egCDQUAORU+I7P6114pBKILAP8vvTRFG4xGiiR6NGwdVqTM0p3rj148eezy6au3b7Sr3rBoqRJQTQgAciSSKEnSfyS3GJjTBQCEEKIpShDFlLRULxfX6b1+H9ttcJF8ISmpyeG7N6alp4PiAkCOROlYRooiY2DpAsB/YfKSJMny/Jv42MrFygT7BGw+smfv2aMUCWNTAMihlq5CZeXi2fLnUE8XAL7uu4cQIhCiKTrVkKai6VbV65UPLs7QDLQPAORs0f1g3Sps3K+UfhmG8ABg+QoSBEGRFMfzZpZ10ttTVsWIAADIMe+8/O4r/vEVAdEFABvKizKKXSs9TgAAACC6AAAAAPB9AHO6AAB8vjMgs79ax39iz8Fnn+7fT7Blfc1Zg0svE99V7eR/c7/f/ulAdAEA+BbBlQrlImUWKojFjKZpZV+ZmUddqTpZ9K08z1MUZTOPjyAIJEl+Rr+cnV2sld5CJm0eJLObtbj+7KQlyo7qZHM5SnZOJwgCzpeEW9U68iCbjfallBLkFkQXAABEkqRKpfrUXT5qdKampppMJnd3d2sNo2kaIRQbG/v8+XOj0YgQomna29vb29sb/+lTzVZJkgRBoCgq670+aokaDAaDweDk5IQvI+ubVV6kKIqxsbEuLi42W1Je4knTtCRJHMeRJJnZ2OKLmMtYuWWVxbcgiqLyXkRRTEpKUqvVdnZ2No+ALxuPt7K+Zpyqyeb3RNlE8fHx9vb2Go0GXjoQXQD4EcGycffu3b179xoMBmzXWvebefLkadasmbOzM95eFMW4uDiz2azswbFF5eHhQVEUz/MMw0ydOvXgwYM3btywOB1Jkn///feWLVuuXbtmNpsdHR01Gs2bN2/0en2uXLmaN2/et29ftVqdTd3FTt3IyMhFixbNnDnT3t7eZi5cfDSDwfDu3TuVSiXfprOzM5YcLEhHjx5duHDh8uXLfX19ZYl6/fo1PovSgrSzs3N1dZWPnJSUVK1atalTpzZu3JjneVmz5VvGh8L/ZBgmCyPSaDS+f//+o6MHb2/vrB8rQRBnzpw5ePDg27dvfXx8GjZsWKZMGeVJWZbt27dvaGho//79la0tb0BRFJZtURTla7Y5JMrOICw9Pb1t27YdO3bs2LGjhfwDILoA8KMoLsuy/fv3v3LlSpMmTawdmzRNx8bGjhs3ztvbu06dOqIoUhQlSVLv3r1v3bpF07QgCFiqGYYRBKF169bjx49nWZZhmCdPnkRERFhIBUJo+vTpo0aN6tq1a3h4eFBQkIuLC03TiYmJL168OHny5IwZM3bv3r13714HB4fs6C42xQ4ePLh8+fIRI0Y4ODjY9AZj/+rBgwd/++03rVaLSyBLkvTnn3+2bdsW3wVCKDU19c6dO8ojCIJQr169tLQ05ZXQNE1R1NixY1u2bCkIAk3Toijev3//1atXSOGil6//4sWLu3btunbtWkpKCk3TWq22Tp06rVq1yps3r/UTuXXrVvv27UmSzMzJjI85atSoDh06WKsX/iQlJeXXX3/du3dvhQoVAgMDDxw4MH/+/B49ekybNk2pyg8fPvTy8rJpvt+/f3/Hjh0nT55MSUkRRdHJySk0NLRJkyalSpWSJx3kXfbu3Xv//n1sx8sXyXFcrVq1SpQoIW9879493EQAiC4A/LjS+/Lly0GDBo0fPz4zVStevHhqaqrc3VMUtXjxYlm3MM+ePatRowY2/vBmarXa2jx69erViBEjZsyYMXDgQOVZtFqtl5dXaGhotWrVKleufOTIkZYtW350ahPblA8fPly2bJmHh8fo0aPXrFmDhwIW85fY9GzYsGFYWJjysI6OjngkgYWWoigL5ydFUStWrMBuAHwXDMM8ffq0Xbt2ZrMZ+2BxC5AkaX2/z58/79u3b0RERMGCBUuXLp0vXz6z2RwZGbly5crp06d37dp1/PjxGo1GVkGEUIkSJU6dOpXZvWONr1ChwvTp022KLmbEiBE7d+48c+ZM2bJl8SdHjx5t3bq1KIozZsyQD27zGSUnJ48ZM2bDhg1BQUGlSpUKDg7WaDTXr18/dOjQihUrqlSpMnv2bA8PD9kgfvDgQcuWLStUqFChQgVc5pKiKKPRuHr16nPnzm3fvl3WYIvTASC6APDDgYOkeJ7H+mHhMUYImUwma4szV65cFsdZsGBBnjx5unTpIk8lyhOZSuLi4hBC2M9pMpmUXbAgCAzDFC1a1N/f/82bN1kPFGQpffz4caNGjUqXLj1hwoQGDRo0b95806ZNOp1OdgjLV45PrVarlWfkeV6psrgRLE5XqlQpi0+WL19eqFCh5s2bEwSBJ3EZhlHOa+KWjIuLq169ul6v3717t/VBtm3b1q1bt2fPnm3cuFHZ7CqVKgvXMcbFxcVmFWes/U+ePFm0aNH27dvLli2L20GSpJo1a/7111+9e/ceMGCAj4+PfJ0W6m42mzt16nThwoWVK1c2atRI/rxr164IoXPnznXp0qVevXrHjh1zdnbG45WkpCSVSjVz5sySJUsqD2UwGB4+fChPcru4uJAkCYvaQXQBAHSXwAEvFtYhliuGYaxDe+SemuM4lUp15syZefPmLV68GE+pZhYfhBAqUKBAcHDwH3/8sXHjRgvHJkVRHMeNGTPm2bNnFSpUyPqC8S9r164dMWJEaGjo4sWL3dzcDh8+3L59+/Lly//111916tRRWm/x8fENGjRISEhQum0JgtDr9X379sVjhY9qPL7ZQ4cOrVmzZv369Wq1+tmzZ3iOFiu6xRUuXrzYZDKdP3/ew8ND9mDLl9SyZUuVStW2bdtLly5VrFjxk6Y5eZ7PTHQJgrh3756jo2PRokVlExz/qU6dOv7+/nfv3pVFVwnHcQzDbNq0affu3RcvXgwNDcXXLJv4kiRVqlTp8OHD+fPn37RpU58+fXDL4C9PWlqaKIrYx4DvBbvKGzVqJAgCPsLr16+Vgx4ARBcAfjgkSWJZluM4s9mMJz4tzKbU1FSz2WzRxeOOGIvQ06dPmzRp0qZNmy5duvA8Lx8Bz/IGBASwLGtvb3/mzBl3d3edTrdt27auXbuWK1cuNDS0SJEiuI9mGObBgwdHjhxRq9WbNm0qXbp0ZiIkSdKLFy8uX768fPnyW7dude/efeLEidhszZcv38mTJ4cOHfrLL78EBQW1adOmWrVqAQEBkiQ5OjrOmDGDZVn5IDRNp6WlNWzY8NGjR9jmk8ccckkZIgP5ZiMjIzt27Dh48ODWrVtfu3atS5cu6enpyrlMZfscOXKkWrVqWHEt4n4lSeJ5vnr16qIo7t+/v2LFinLjGwyGmTNnvnjxQq1WW9uFBEEIgvDy5cuePXuiTBbh0DTNcZzJZMJqhxsH+41TU1OVgdlK8NnPnz/v4+ODFVc5CMPmMn6gYWFhly5d6tOnj3IDHCwmazz+aTKZPDw88II0nuexQx5eOhBdAPhxFZcgiKJFi86cOXP79u3WxhNFUSkpKWaz2cI2woLEMMyFCxfat2/v5+d3+vTpDRs2/Pzzz7JpiLf5888/WZZVqVRykHDBggUvXLhw8ODBffv2XblyxWQyYZ1wdHScNGlSw4YNXV1ds4hANpvNrVu3fvnyZePGjRctWpQvXz5ZMgVB0Gq1CxYs6N+//9y5c2fMmHHz5s25c+eSJEnTdFhYmMUB169f7+Tk1KVLF6V6EQSh0+nkeGP5dhiGuXz5crt27QRBePbsWVxcXKlSpZYvX45neRMSEmrVqmVxfE9Pz4SEBFmxLBqQoqjU1FSCIJycnJBiSfStW7fGjBkzatSo/Pnzsyxrc+QRFhZWs2ZNlEnYcMWKFdVq9c6dO0ePHi2PMBBC27dvJwiiSJEiNr0R+Ard3d1TU1NxKJxFzLa85Pf169dBQUHoYyu7WJYtW7ZseHi4/Mm5c+dwKADwo4iuctwKfF8PDlnlbQC+SKuqVKr58+e3aNEiPT3dOmIWvy/58+cvV66csovHv8yZM2fYsGEDBgwYMWLEli1b2rdvv2fPnmnTpvn5+aGMgGEswxbmFEKobt26devWzfrabH6oVquXL19ub2+Pz4INYnxYeS45KCho4cKF8fHxDMNYaKc8Gnj79m3//v27dOmSL18+2aomSdJoNJ49e9bLy0uSpJCQEBcXF3ze8PDwoUOHduvWrVOnToMGDQoLC5s2bZo865mWlmahqSRJtm7dulWrVkeOHLHWY3yp06ZNU6lUbdq0UbZMenq6k5NT+/btCxQokPWAyebSHVEU9Xr9tGnTfvvtN1dX13bt2jk5Ob169Wr16tXjx49fuXJlrly5ZCvWOplJixYtZs+ePXfu3KFDh1ocHP9z8+bN0dHR8+bNQ1YLf23qruxdSE1NlS1vIOeLLkVRNE2LgiiJObPjVk7e5LhbQyIhEgShUqvgbfwaeHp64n4/+1+2iIiI4cOH37p1a/ny5R07dkQI9erVq0SJEsOGDStZsuRff/3VvXt3LHI4KVJKSkrVqlXlGuC4v8aqLM84yv/En2DLb/Xq1aVLl1aqC0EQhQsXtlZx609wKLWFZmDFJUmyV69e/v7+f/75J1YOfG0Mw8THxw8dOpRhGL1ev2zZMhcXl6ioqIEDB16/fn327Nk4nujw4cOjR4/u1q1b0aJF58+fX7BgwbS0NKUDGR+wadOmw4cPb926dadOnbp27RoYGIhnNJOTk2/dujV16tTLly+vXbvW19cXv7zysCA76UoyMx7wQuru3bur1epRo0bNmjULe6Q1Gs3GjRvbtGmjVEqe52UhxH7+kiVLLl++vFevXpcuXRo2bFjBggV1Oh2Wz3v37i1YsGDnzp2zZs2qXbu20iGf2fdErVbLN+Lq6mrthwdyqOgSyMSarpyJuHwqAuVEKxfHi1I0xZpYgiRy5A1qNZq42PeiBKGPXwaDwfDnn38+ePAAe2WVUawMw9jb2yclJcmBr0pf65gxY44cOfLHH380a9bs2rVrefLkkcNkQkNDz5w5s3DhwuLFi8t74X7Z0dFx6dKl2Oix6KktzDU8+SfbiwEBAcrNZs6ceebMGTxbLB8Hf/+dnJzw9LN8qXgJL8dxjRo1wvPNOGUVQRC9evXas2dPz5497ezslPfOsqyHh8e2bduwEHp4eIwYMWLRokV16tQ5f/58cHAwDm/GqT9atmw5Y8YMrLVY6pS+UyztkydPLl68+Ny5czds2KBWqx0cHBBCSUlJNE0XL178yJEjZcuWtWgBjUaTkJCwevVqPz8/2Y1PUZTZbJaPLEmSnZ1dvXr1rCPXZOO1Q4cOzZo1O3/+/Lt373x8fCpWrIg9xvLIQxAER0dHe3t75XhFkqSff/7Z09NzxowZzZo1IwgCb5CYmChJUsGCBdeuXdu4cWNky2duAcMwL1++DA8Pxy3McVxycnJmM8pAjhJdThDKFSyJBISoHDnKkiiaTn6f+P5dbIFihU1GY470n1MSpffVe7i7I8jg+oV8P97e3lii5CBVSZJUKlV0dPS6deu6du3q5OQk52SWsbe3L168+N69e2vXro0yQl6VG/Tp00d2k8oiRFFU+fLlZb3PIu2DIAhKGVBabwRBuLu7BwQE4DVO8jXTNJ2cnBweHt64cePChQtjP7nS4sSLW+T0k126dNm+ffvOnTt79erFsuyKFStQhjMcH83DwyN37tz4CH5+ftu2bZP9w8oY71KlSm3atAn/rtVqS5QogZNdKJcqSZLUqlWrVq1a3b9//+LFiwaDASHk7e1dsmRJX19fCw8t3qVo0aK9e/f++++/8eJgiqJiYmKMRmPevHnlI/M8nydPntDQ0CzCxRFCdnZ2Fp5tpWNAp9OtWLECG99KR4IoitWrV69evfrTp0+vXr2KA7O1Wm2lSpXwVG4WMW4W53r79u2+fftwCklBEBITE6HydLbsxO/dIWAwGfFixBzp2ZAkScUwv/7669XLV/YfOujm6irmRD8zQSBRlBiK/p/cGh6q43UaPMexLGs2m00mk9FoNBgMRoOhYlhYjln1f+PGjfbt21+5ckWv12exGZY93Ifeu3fv+vXrSUlJgiA4OTkVLVq0ePHir1+/fvz4ceXKlfH2WNofPXrUoEGDzOb2cNfs5OS0bds2f39/bC5nZ4xlNBoDAgJ27NghS7tNXrx40bp163v37p04caJkyZKPHj1q3Lhx/vz5N2zYgOO8Nm7cOHLkyJMnT+bNm1fpPsUXbBERgoUcG/SiKKanp+v1euvvp3WmDnl3lHkCRRxfhq9h1apVq1evPnnypBxshVtGpVJllgmZJMlDhw6NGDFCHjbxPD916lRseuIbEQQhb968S5cu9fT0tFDuzK4NG/pKHwNBEJcuXapbt+6RI0fw8muZX3/9NSoq6ty5c/IdFSxYsHfv3sOGDfu+0kBePH9ekiS9vb1Wo9FotWq1WqVWMwxD0zROTP3F7+W7t3R1Gm3OHhY9io7evGlzamrqiaPH23do/0VqnH2T1hmMgL/wSAK7DTdv3tyqVStXV1ds7aWkpHAcl5SUpNVqrQMFcI8vB8SeOHFi3LhxDx48CAwMlMX4zZs3AQEBI0aMqFOnjvxtxD21j4/P8uXLTSaTzehZiqLi4+N79ep17ty5wMBA628yvmaWZbds2RIaGpo/f358zUlJSTzPp6SkYFe5UuTwUPvt27erV6+ePXt2WFjYrl27cufOzbJsvnz5Dh061L59++Dg4MWLF9evXx8fXxlxiQ/IMEyHDh0uX76s0WiUy3jkTFIEQTRv3nzgwIE4xZW1+a5MFSIvjMZmpU17UZmyA+fY0mq1NseC1sGh+J8FCxacMmUKfl5qtXrmzJnLly+fOnVqvnz58AUYjcbevXuvXbv2999/t84AikeZSt+7XPBAvmb8yOzs7JKSkoYOHZo3b16z2YzPqNFo9uzZg+PvPngcOQ7yLf8oootybuAr7l8mTZ6cnp5OUdRf0/5q0bIFThafM70u4Fj+oo1JEERcXFzfvn3Lly/v7u6Ov05YJLAVa9MiwRsghA4ePFivXr1ffvllyZIlwcHB8nrWp0+frlq1qnHjxnPnzu3Zs6dSO7VarWz7ZmZAjxkzxiIY2OKaRVEcP378iBEjChQogO1IkiSVlrfymnGqyHnz5m3dunXBggU4ZEwURZVKJYqij4/PiRMnxo4dm5iYaLOjkOez69evX7x4ceuJTHk187hx44KDg1u1amVzicS/catqtVqbcVWZaRg+e968eZW5nSMjIw8fPhwSEhISEiJ/uHnz5tevX6PsFQrMjAIFCoSHh9+6dUuSJNk7IklSz549mzZtKmc6y2bJQiCHiG6O7Kxxb3Lt2rW///4bjz3v3Lmzd+9enLQW9AnI1utN087OzkrfOE3TDg4OWYgElhnsrmzVqtXSpUuRogoswzBBQUFTpkwRBGHMmDEdO3bE4a/yMHHFihX37t3DmmdxWIZhYmJiXrx4kfVqGYIg3Nzc8GHlaU4nJyebHn58I4MGDRo1apS9vb0cvYwy4oYoisLpNWxKo/wefTTAe8KECbGxsQihhw8fzp8/XxmqnR2rwM3NTaPRvHjxQjkRhtvk6tWrkZGRvXr1srlvv379QkJCrF95lmX37Nnz9u1bnKty69at3t7ekgKSJE0mE77llJSUmTNnvnnzRg62yhr8BXBycurXr1+ePHl69OiR9cawVvOHE90cCf7e//nnn3Z2dlWqVHny5AlJkv37969WrRpOLwDfciA73T1eN4Idibi8wf79+7HhixQl3JXGEE5SERMT07x5c9y/K4vZmc1mrVZbpkyZ+fPnp6Sk6HQ6OTl+ampqnz592rdvX7RoUYvigHgDBweHdevWVa9ePeuxMp5el6/Q0dHx7Nmz+JqV/k+5r/fw8MB7WdTcxZarXO0g6zGuTQXFL9r79+/lQK20tLT79+9/qo/txYsXer0+Pj7ewpjGbVKtWrWHDx/a3BHn37BwgJEkeeTIkY4dO5YpUwa7xH19fX/77Te5TeT5cnwulmWfPHny+vXrbKZHxps5ODhgnwT+Alj0OfjIEDkFoptz+kosui1atJgwYcL79+/Pnj3bu3fvJUuWyNMq0EpAdr5ICCF7e3vZj2pnZ2ezqrlSBkRRtLOza9So0Zw5c5o3b26RoF+r1SYkJMydO7dq1aru7u5y7A8+nYODw8CBA4sWLfovL9vOzk6+ZrVanSdPno/eps31KrIjHWXMtmbmEsjsyHhVj3wxpUqVOnbs2P/QmYdv9vnz566urqdPn86sNZT36+bmtm7dus8++0dXFStNXnjpQHS/S+R0Qh06dEAIbd68OT09PVeuXGPGjLF+CQEgMzQajdFoHDlyZOHChU0mk7LWuvxF4nne0dGxc+fOuXPnVs7y/vbbb1euXKlYsWLnzp1DQ0NxGZmEhITTp09v2bIlV65cy5cvx/V3ld/bpKSklStXlilTRj6dxRdbEAQvL6+6detm5q2RJEmr1c6ePfvu3bvyqiSLjXECy19//bVAgQLZj5XlOC4tLe0zBqzYXMYXw7Lsf/n24Slt688dHR0TExMvXLiQN2/ehISE+Pj4mJiY0NBQeekzvlR8zTjO6zNuHIfvZnPjtLQ0ebUxAKL7vSLHBOL06GazWaPRgOIC2Ry3eXt7b968+e7du1nUOhUEAacjVposCCEvL6+TJ0+uXLly27Zt+/btS05OJgjCzs5Or9f//vvvHTt2xDF9ynWrer2+X79+586dO3v2rE03JvZbBgYG2hRdbDHrdLpJkyadP3+eYZjMbCy8+ij7vk18Ijc3tzJlyuBjftJLRNN0YGAgzoGFUz3/z59s+fLlS5Qo0aFDB+xRd3BwoGk6ICAAiy7exsvLC69Ixosqv+pVkSRZunRpnLwT+MgTBEfltwzumDZs2BAdHT1u3DjrZAXAv+eHWqf7qd89WZhjYmJw/gp5uUsWgQUcx2Whav8r0cJJK5UZuLL/DYmJiXF1dcUT2N/IqJfjuJcvXyKEGIbJnTu39QDl3bt3KpXK2dn5v/m24EpN3933HNbpArY7CwhYAP7NkOKjm2UW2Yt3pygKp1hCGXkwMpvAwytrsx6jfFS3snnNnzqJ+NkvEUmSciGmb0RxceSz0pksFyuUP5ETb/039rdKpYIATxDdnNNvYuMAvtDAZwjGv99dXjKkTJSYmbD9+yWbXy/NwmergrWk/W+R05jI/7S+PPmR/feuEQBE97u3dCGTOPC/7eKz359+yz3vZ1/bN5hu6aMP5T9+EKC42f0uQRN8F6IL7mUAAAAQXeC/QHYvAwAAACC6wFe3dEF0AQAAQHSBr4tctwtEFwAAAEQX+C+wKGcGAAAAgOgCXwtwLwP/GZ+92uffp9n57LVG2d8x6y0/++xf8HRymaBsfv55N5L1Blmsk4ZkSv+e774rFyUxx68P4wWeoihREiUkiZKYI+/xQ10UBKsOvtqbknl5GYsSQzafDs6JgTJqm1tvlsU7mIVaKNe9ZHYEnDpYPrt1SqnsvP5yTg+kyPiR9S1kVnoI/TMpcRZn/9QlPVl0ZfLn2ck1/dEGyXqDLI4P64LA0kUkQVIkRRJkDv6PQqROoyMJkqGZHHuPJAWK+3XflMyRt9myZcvEiRNx2npl2VecvJeiKIqisN7If8VaHhUV1bFjx7dv39o0hrDa2UR5qLlz586dO9dacXG6Y/nsOPGyLKUIoYULF44aNSoLOwxP0Mh3SpIkRVHyQfBeV69eHTRoEC6aK5ctYjJBrjC4adOmsWPH4roC1md/8eLF+fPn5bINytMdO3Zs9OjRKSkp6J91gQRB2LdvX58+fcqWLRsQEFC4cOGAgIDy5cu3b99+z549cjL2LMzQx48fr1ixApd2sACPNqKiorZt28bzvM2DpKWlRUZGpqenWx85Pj6+f//+V65cAZP3B7V0cV/wLP6ZgTWqaTVCOfNLQBDEm6R3uhS7Z4nPWDObMyd3CWTm2bwuvjqVnYQkUN8v/qYghI4ePXr8+HGLrlaSJJVKNWnSJPy9unr16okTJ4YOHWrxlnEct2fPnhs3bhAEUbly5Vq1amGxxNpDkuSrV6/WrVs3ePBgDw8Pi6TNFEWdPn16+/btSp1DGRmDe/To4eTkhDfbu3evVqsdMGCAfARs1yYkJGzfvv3hw4eSJAUFBTVv3lwuKY133L1797lz5yZOnGjTUsQHuXbt2qpVq168eCGKYkBAAC5Gi1sG38LTp0+XLl3ap0+fXLlyYZFevnw5LiirTO0kSZKTk1Pjxo2dnJwQQjdu3Ni5c+fo0aNt9k6rVq3asGHDtWvXcPV4pV4+fPhwzZo1ffr0cXBwkAUsPj6+a9euZ8+erV+/fseOHX19fXPlyvXu3buXL1+eO3euS5cu5cqVW7FihaenZ2bWPE3TN27c6NOnT/Xq1fV6vU079fr161OnTm3QoIFFlVzcmC9evChbtuyWLVuaNm0qXzPezGw2r169umjRomXLloX8Uz+i6IqSSBHUxSeXR+wcJQq8IEkI5cDRF0ESiafiVVGqv57O4o18DpuFJxCSEGIoRkg3b+i7oUpQZVEUKRKixr7w2JTn+eHDh6emplasWDElJUXu/SVJcnR0VAqhXM8AZeQ+jIuL69Kly4kTJ3766SeTybRw4cLatWuHh4fb29vLaoFt1iyq1arVall0JUnSaDR37tyZNWtWUFBQkyZNsMip1Wq1Wm1x5efPn+/RowfHccWKFSMIYu/evbNmzZo9ezauU4S3VKvVWq02i2HrypUr+/fvX7ly5VKlSpEkeePGjcqVK0+aNGnw4MEoIyezVqvVarWysiKELl269O7dO2X5QvzXvXv3pqam9u/f37rFrMc6uXPn1mq1+HfZX42d6hYVwwiCmDp1akRExNmzZwsXLmxxtL59+967d69KlSoDBgzYunVrFk5mmqa1Wu2bN2+0Wi3P88pTiKKo1WoTExOzqKlM07Rer5e/FaIo4kIReIij1WohvuTHFV2MltG8T49tWam+ltGIkpTzxl4SQnRpSiIkgRJyngkoISSJkr3WbvPZXe9T4xFCEgK31ZeHJEmWZQcOHNinT58stFk5+SqbMn369Ll3715UVJS/vz9C6M6dOw0aNOjVq9f69euti6tbgPWsYsWKFStWtPjTjRs3rl27husoyFKn9FoTBHHnzp3mzZs3a9ZsxowZOp0OIWQ0GmfNmtWpU6d9+/aVLVtWVvHMgpLwQXr37j1u3Ljhw4fLf9q4cWPfvn3v3Lnj5OTEcZxarb59+7ZKpcJOY6xny5cvt9lWTZs2jYmJkU+RxXT11atX3d3dGYbBRqRSJh0dHZWz7LgFzp8/37hx48KFC6enp2NHOn4ouKxncHBwpUqV9u/f/1HfmMlk6tKli1arlWfi5atVq9Xv3r3Lmzev9Rw/vpe7d+8mJyfLRfqUExCenp6yXx34cUVXkiQCkVULVWgZ0iAZpVE5MR5bQhKBEIEIKSfeGoPoNJS+8+pBkoBY+q/pGRJFjuNwEcOsqwDhwCVBEBiGOXXq1Pbt248ePerv749nBAsXLrxs2bLatWv36tWrUqVK2Znbs9ByQRBUKtX69es1Gk2RIkWUjkp59hGffebMmQ4ODosWLfr/QbZW+8cff5w4cWLcuHF79+7N2sOJjzxhwoSAgIDhw4dj9cJC0q5du7179+7bt2/ixImiKDIMk5SUFBkZ+dFwMDyjbF1aAKOMrjIYDAcOHChbtqzJZFKr1RzHHT58OC4uDm9w6tQp5VQR3jc4OPjo0aNxcXHu7u4WZ1er1bGxsdevXy9evPhHH7RarV65cmVAQIBNS3fDhg3r1q2zNpSxxj948ECSJDwljMcN169fx48vLS3NYDCApfujiy5CSJREE2tKlwwG0UCR0HF/Z2MmmqANnFE52wd8PT6qUhRFYVct7pR3795drly5KlWqYLnChk61atUqVKiwefPm8uXLY3nO2vpRhihjNY2Li1u/fv3QoUPxZKf8VxyjhD3VHMc9efKkSZMmstqhjNKBP//887x588xmc2auXaXxfenSpWbNmiGE5NEGy7IMwwQFBR07duyXX37BG3t5eW3fvt1m+6SnpwuCoNfr8fR2YmKi0icvlzK0mBw9fPiwSqW6ffv27t27W7dunZiYuGTJklu3bqlUKoqi3r175+3tbeFXGDNmTMuWLcPCwlq2bFmtWjUHBwee5ymKSklJOX/+/MaNG93c3LZs2fLR50jTdFBQkLVyY3x9fW3OfGNZXb9+vSRJy5YtW7BggSiKkZGRO3fuxLFsRqMxLS2NhD4WRBcpKlvB3P53+uygHf63Qx/c6Wu12tu3b3fp0kWSJHd39zFjxty8edPb25uiKDktGsuyKpXK29t79erVCxYswOaavb19Nk+En/iIESMcHBx69uypNJRpmr558+aiRYsMBoOHh0fLli2xOio1Bqs+QRBYnrNjZ+v1ejz9rFQLHEH2/v17bIYihAwGQ2ZreDZt2rR///6dO3cihJKTk58/fy57X3F4UXR0NA6uxm2Fzdw//vijd+/ejo6OXbp0qVy5sqen56ZNm3AbkiQZHh4+b948fEY8aYoQ8vPzO3LkyIYNGzZu3LhmzRqUERxOkqSfn1+XLl06derk4eFhNptxjUWbYZUEQSQkJGzdurVAgQIcx1m4l7Va7e7du00mk7V9TFHUypUrU1NTw8PDR4wYUbVq1RYtWnTu3LlHjx54m/fv3wcHB1sEYwM/qOgCAJBNccXeY+XncjV4bGLGxcXhyT9BEM6ePdu+fXukWOaLt8yXL196evqECRPMZrNOp7t//z7KWMCTteJSFDVx4sQVK1acPXvW3t4eKyj+E0mSycnJR44c4Xne29u7ffv2QUFBR48enTRpkjJdA0VRBw4c0Gg0KpUqOwW48ubNe+jQoT///FM2qfE85d27d6tUqYLllqZpax2SSUlJkSdxX716ZTQaZR+vRqN5/vx5o0aNRFH09PTcsGGDl5cXSZJDhw5NSEgYMWKEi4vLhQsX6tSpc/To0Vy5csnHVEZ+Kb39zs7Offv27du3L8pYW8zzvEqlUl6PMtzM4jlKklS6dOkmTZps2LDB5qCEoihRFJs3b65Wq+W/4ma8efPmgAEDZs6c2aNHj/j4+Pbt29vZ2dWtWxdlBHhbSDgAogsAQFbodDqCIKy7bJ7nk5OTXV1dDQZDkSJF9u3bp/yTRT+L/+nh4aFSqd6+fcvzvFarTU5OzuK8yuikIUOGzJo1a926dZUqVcJdudz1m83m6tWrb9iwQd6xb9++5cqVmzdvHg4VxmzevHnHjh3r1q2jKIpl2SzOi884evToKlWqLFmypGfPnvLnGzZs2Lx5s6OjY/ny5fEcc2xsrE6nsxlehCOr8XV6eXnt27evYMGC+K8mk8nPz+/YsWM4TgrL6sSJE9esWXP48GF3d3dRFDdu3NihQ4cKFSpMnDixRYsWeGSD127hY27atOnw4cMkScrjIbyNPJ7ADnxsdmMkSapZs+bPP/+snEjG9+vj47Njx45PGopRFBUZGVm9evXu3bsPGjQIx7qzLNuiRYvJkyf36NFDo9Eo467hVQLRBQAAZS17DMPs2LFDr9fjJUMcx927d0+lUl2+fDklJaVgwYLr169nGMZkMqWlpWGNUalUISEh2J2ozIiEELpy5QpBEHKI04ULF/bu3ZuZ0YnF4Pbt24MGDbp8+fLGjRvbtm2rnMqV5dxgMOBoLyw5ZcqU2bVrV6dOnXbu3FmnTh2CIPbt2xcVFTV37tx27dp9NCc59kWXL19+3rx5w4YNO3bsGF5odObMmV27dvXv379Dhw4mkwkLyalTp2bOnClb/MoRhlqtxt5shFCuXLnwQt6UlBSVSoVbydvbG28fFxfXs2fP48ePb968uWLFingG2tXVdefOncOHDx8yZAhOeYEtTjmtlYODgxzkbOEYsBjr4EbD1qrFfLbJZIqPj8d7WcSmYUOZZVnlQ8RNp1KpnJyctm7d2qdPn1atWoWHh8vBYmPGjPH29h40aBDLsvLSbUEQIPwCRBcAgKyER5IkmqaHDh26ZMmSefPmSZJkZ2fHMIwkSaVKlWrZsmVQUFBQUJBGo8FhOzjpEhbXqlWrPnz4EPfRcp4mnudfvnzZvn17QRDwXG9qamoW1xAZGRkeHo5jnm/evImjam0GweKgJFkzRFFs1KhRRETEsmXLTp48KQhCUFDQ0qVLg4ODLeZoszB2JUnq2bNn4cKFJ02atHTpUlEUfXx8tm3bVrt2beWWiYmJ8jra6OjoOXPmGI1GPHl88eLFBw8edOvWzWw2kyQZGxuLl2Bh16skSfhziqJOnTqVmJh48eLF4OBg2Y7H4cSzZ88eM2aMg4MDbliDwRAXF4d/r1+/fv369T/7+eLGPHbs2G+//YZVWTaX8aN/9eoVSZKenp74c9y8eJ6+VKlS06ZNW7BgQf/+/SdMmIBNbdywPM9369atdu3aOFYOr9PV6XRZLIkGQHQBAPhgJLVv3759+/ZZZ+5VJrjA8vPTTz+tWvV/7Z11eBVHF4dnVq7FhSghBIITghUL7lCkQEtLgUKBj0KFFgqFGjWsBrRFixctbsXdrbhbCBDinqu7O/P9MbBdboQgoSE979OHJjd7V2Z35zfnzJlz5l2/fr18+fLMxGGTfwcOHBgxYgQzuZxWoGptNSaNU6ZMOXv27IYNG9q2bcukNC/FdVrfwrr+0qVLjx071slwZ0csyPIVpj0NGzbcvHmz9rvqQib2CVsaq5q2RqORmYaSJDVs2LB58+ZZWVmhoaGCIJQtWzYsLKxEiRJlypSZO3euarZSSl977bXXXntNFTbVGXvnzp2MjAxRFM1mc8mSJRFCderUGTZsmLu7u2q/Ukq///77w4cPa13uTu3p7e39wQcf1KxZU90/erAYunHjxtu3b1c/VE1eURQHDRrk4eExYcIEJyOV/dXPz2/79u0sfVXOvNbsbNWf161bx5ZWQwwziC4AAPmhzfjvlBpJDS+SJEmNJ2IftmvXrlatWj179ty1axcLUWapCtu0adOyZUv0qHT/7K8//vij0Wg0GAzac8iJzWbT/on9nOvGat2C1NRUDw+PguT3J4RYrVaEkIuLiyzLauZndYeKorBMyAih0NDQn3/+uSCtyrwCTgMC1UedkZExbdq0NWvWZGRkMC+9TqfT6/Vt2rT5/PPP69evr70cdtyEhASm3zlvn4eHx+TJk2NiYnbv3u20Jhgh5O7uziQ8JyzDVF7JI9kGLJZq5syZt27dYs4G7diL3TWHw1G5cmWWLQvSQILoAgCQH6xnf++994KDgz/77DOnuF/Wt/r6+jI7RhUqg8EwZcqUHj16REREMDt11apVVapUmTdvnjb8NX+8vLwQQpIkff3111WrVu3Ro0euXXZoaKgapksIuXHjBs/zMTExbNpVkiRZlhMSErKyshISEm7fvi1J0t27dxcsWMDyHeZzAsyW/eqrr44dO7Z3714n1zQ7Ex8fn6ioKOY7VaOWbDbbX3/9VatWrdKlS6u5NdRZT5ZSIy4uzqmd2XdjYmJef/11q9U6cODAunXrssyLsizv2bNn0aJFixYtWr9+fe3atdWmwBi/+eabb775Zj4XcuHChW3btuX6J0qpJEmCIEyfPj0mJmbChAnqhWurHeRsdrYBaxCDweDi4pLTf0AI0el0d+/efeuttwIDA1u2bAlFvkF0AQBA+QsPz/OLFi2qWrXqZ5995tRpsr54wIABvXv3Zn2uGiUbGRm5f//+iRMn3r59GyH01Vdf9e3b19XVtSA15rTGnyiKhw4dYjt3MtTYzxMmTFDtKqvV+sknn/A8f+rUqezsbEVRAgICPDw8eJ738/Pz8PAoU6ZMlSpVwsLCKlSoYLPZCiIALAgor6KEzZo1a968uWpesxgou90+dOjQSZMmlSlThgWjqd9i63G7desWERHBvqX6dVnbjhgxIjEx8eTJk6w0gkpERMT777/fvHnzQYMG7dmzx8XFRb3qhISEEydOsGW4OU+etUa5cuXysubZmZ84ceLWrVuqlHIcZ7FYjEajOhrI67sIoT59+uTTgGazedmyZdHR0Qhq/IHoAgBQENzc3FhKXiYqTn/19fVFD1feZbrr4+PjNKtawDgmJ1k1GAys7EGuZdJZBiWm5QaDYfLkyYQQk8nEZo7ZmecqGzkDofORpbyuHT28tEm1Pn18fFhcca5plps1a9asWbOc654RQpcvX+7UqZOnp6fNZtMutGX26Lfffvv2229nZmay4Qs73MyZM+fNm9esWTNtpLG2zevUqfPBBx/kr3l6vZ6tYFaTU/bq1YutunYq35SzEfIqX89uSlpamtPIAwDRBQAgP1iOp7ySGWk1Q6tV2qBWZsY9maFDKXV1dS3I0VkOplyFkwkDE05JkgoeTMvWKOd/9FztYxcXl/y/4tRiTNv8/PyOHz/OhhpOoogQWrx4sV6v19b1QwjduXOnYcOGLDirIAOIvDAajdoT7tatWwEvNq+BlHbdMFTSBdEFAKCg+Pn5XblyZdOmTXnlclIUJTAwsFatWtpuXWsVPXHYKqu1sHPnzsqVK+fl5pUkqXTp0tWqVcuZpELrjlYFQJ1kLYgSKIpy/fr1jRs3snQQuR49NDQ0MjJSe+GyLK9atYqVi8h57exbQUFBNWvWVE1kdjLff/99p06dOnfuPGTIkJo1a7IwtKysrKtXr86fP3/hwoVz585VI5jUdF2ZmZn37t2z2+05z5A5rtniH6ccVU7jquPHj2/dulVNbKKtB+zUzvBGgOgCAFAoMEkYN27crFmzlixZkpdB43A4qlWrVr169cctJpN/GDMz/vr06bN06dIlS5bkWiCB47js7OwmTZpUq1YtV13M59LyHwqwc+vatWt0dPTSpUtzPVW2aqh169ZMdNk5u7q6Dhw4cMeOHUuWLMk1KQSbMa1Zs2ZERASLLGNjArYGeteuXRMmTHj77bc9PDyYV1aSpOzs7MjIyD179rz00kvqZbIvVqhQYcmSJS1atMh1WpdZ+Z6enosWLapcuXLOOXW2q169eiUnJy9cuDCv3NTsStu1a/cEopuX/xl4jDflxW1BhSg8x685tbbXvD6T+o/uGtk+k2RDlaEXC1ZlyCxZ2ozpManzr11qdpaJLHDPdSzI+hGZIUkOh8Nut9tsNqvVarFYrBZLVKNGxWkei+U6yF+iCq64TC2ysrKio6MrVqyYjwX2yKOr2vy4R79165YkSXlFGDkdPS/ZYEfXJl/UmsjaHNG5nnNOl7sqivHx8Tdv3rx16xZCKCwsLDQ0NCgoSLuB1pC9c+dOXFxcXi3AVtZWqlQp//JKTN3zEt18rjT/drbZbDt27KhevXrJkiWLzZKhwwcPUkpd3dyMBoPBaNTr9Tq9XhRFQRDYuu1nviIZLF0A+G+Nch5pFz6Bgevm5lZAs6kwjl66dOlCvfbHnQZWr5TJakBAQEBAQIMGDXKVZO218DxfunTpAl5O/gL5bIeJahxchw4dHunYAEB0AQBAhd1X/oumj9Oc5fO/9nx0F2mSQyFNUHRe2l8Q12P+F1Kol8ksflBcEF0AAIqtnBflQxf89Ap4kkX8WiD74zNoQ2gCAAAAAADRBQAAAAAQXQAAAAAAQHQBAAAAAEQXAF48KKWEEmgHAABAdAGgcJEVWeB5N4MbNAUAACC6AFBoBi6iMlFKuPtmWM2Ljyy3SXZoEwAAQHQB4BlDKCGU6Hidq9513anNQ5cM/eWviZLiYEoM7QMAwFMCyTEA4D4ykUVeFPXi3aTYT5eP3nhynZzu8CvhL3BQQBQAABBdAHiGiqsoHiaPpPTU2XvmjN0wwZyeihBqWL3pew0HuRpdKKIYQeo7AABAdAHgKaCUsnJVLibTjnN7vln+9YHLexFBwSXChjYb0qp8syxzpixLOp0e2goAABBdAHgK65YoPOZEQYxLS/x4+Wd/nVyVmZzu5ur+TtPBb9Xt5cIZE9ISHLIDYwh9AAAARBcAnkpxZYETKEJz9iz4fMPohHu3kYKa1W77eeuRNUOqZWZnpGamcZiDgioAAIDoAsATwvJd8BwvcMLWC7t/3z1t9aGVCKPw0Iqj2n3avXpXHqHkjBSHLAmc4EAOhBCC2VwAKPawYlAgugDwDGHTtzzms6zmL9Z9M2/P71mpGSYf1z71Bnz28oiSvkGpaSlWSeYwx3Ecvg8HkgsAxVdqOYQ0RYI1nq1CKhENogv8V5AVWeAFh6JsPrd54ML3E5NjEEVN67T5tuNXjSrUJwrJyMzgMU8wYUVDH4guhC0DQDEWXczedfRwMeN/ZBhEFwAeC4oopZTDnMALZ+5c+HLl6A2nVyMZ+fuHfNZ+1JCW7zI9VmRFFERJltmbxnH3jV2o2g0AxRiO4yih6vv+z1C70ADRBYozClEwxhzm7LJjxPIvVv299N7duwZPU8+6b43q8Em4X5hCFEopRg+9aurrx/M8x2FKKaUUIcT+BQDghTdw0X0PFuYwwvxz0FoQXaD4w+KTEULLj635bP3oGzHnEUHVq9Sd8sbkqPL1EEKSIom8SAhR1VQ71GXSy/O8KIrqX6FVAaA4IfC8QshzM3NBdIFiCPMnY4wFTjgefWbegd+nb5+GCPLy8fvs5c/eazrYqNOxgn0iLzIp1ZqwHMfhB+5lnuc5nr958yYlVJIcsqIQWVEURSEKIYQSSghhh4NmB4CiadGqY2iO4zie4zmeF3ieFwSB1+l0CiGCIGjdy0iju6xzeLYyDKILFCsIIff9yZJj3KafZu6alhAXy7kJb0X1G95maJXgigghNsX70JupHeRizPH3EQSB5/k7MbetFovVarPbbXa7XZIkySHJiqzIsqwolFJCoOYuABRJ0cWY4zie49jLLOp0oijq9HqDXm8wGo1Gg7u7uyiKD9543mlqFyxdAMgPSZFFXkAI/R1zuvfcAZdi/kYOVKt6g5EtP3mtTmeEkKRIAifk+i499Jo9GBcz3XV1NQmCoNPrJclkt9tlWZZlWZFlhRCiKOqMLwAARRCO4zDHCTzP8bwgCIIg6HQ6nU6n1+v1ep2g03EPcDJzCwkQXaA4wFxAIi9cib8xfsOEBQdnIwm5+fi+3/T9cV2/um8EU8L8yXmNiO+Pi3meI4R/oLiiKBJCRJFQSrSBzQrPExBdACjypi5bhMCsWPZG63Q6URREkRdEURQE1dJV1RcVZgAHiC7wYsNmZ5m7+Ictk2fsnBp9+zrnzrep1nHsq9/WKBWhbsDlm0KZyTbHcRwhHMdRjhMEgRCihlnd91PxvCiKzLHM/oogqhkAirTsYlVNmaUrioIgCKJOp9PpRPaLIKiiywbWYOkCQC6wfBcIod2XD3y8YuSpm4eQA4WHlZ/+1vQmFRqLvMDikwv4ZqqGLM/zhBABIdWKva+4giDLMlEUWVYoJSyWioLmAkCRVVz2anOYOZmZQcvczKIGQRDYmFrtB7SxVCC6AIAIJZRSgReik+/8tu3XSbsnIgvhXQ0jOo0Y0Xq4t4s7QkghSsEVV1VWSinTXfzAhFXnd2VZVhTl/lTuAyMYJBcAirilqwlf/sfPrOouM3NVD7O6XBACqQDgvtwi5k/GaOLWab/vmXrl5kWkR10avDas9bCG5eqhB75inuMfa8+q4iKEeJ5HGAsP3lg1qEphcsvs3AeeZ9BdACjqoqtxMquv8/1/H4iuug1kpAKA+6j+5Auxl99b+uHe89uQFZUpW2FEy5H9m/QWecGhSGIe8ckFfD+Z6N73KgsCRUh88CoSDfQBILoAUMRFF2nSzKmie38SV2PjqpZuoZ4PiC7wYkAppYgKvBCTcu/3PdPHbZqA7LLo5jKg1cDxXb7xMLkhhBSi6ArmT871zdSuguc1szuEEPZCqjYu1QC3BgBeON1lHmRVdNUQKuS0ehBEF/jPyi2HOYzwH4eXTlg3/lLMOWRADSo1G/fad03KRyGECCUc5h7Xn6yVW6eXU7sBczv/o7Ua0XXKZgUAQBFUXHXa6H72mwchyuoMrjZu2anWEIgu8N+C+ZMxwpfjrg5a/NH+q9tIthIcGPL1K9++Ube7q97E8l3kvxzocY1ddXKXDXiZrOZq4ILiAsCLYumih3PPOWVZ1xq4MKcL/EcNXIUoAi9k260/bPzx+10/OdKzkB73aT1wwitjAjxLoMeJTy6gsat1Mqs/M5VlSqwKLfiWAeDF0l0n6XXSYKRZxVB4Zi6ILlAUYcuBeI4XeGHegaULDs7ae2o3ElHDiKaj2o96uVobts0TxCcXUHedPnTSWqeRAdwvAHhRLF3tr1rdzbkZzOm+0CYbougx6lSwlP05t3+sYhd57eRxbc3nX8xOJrJBMCCMrsXf/GT1Z+tOrKTZim+w36jWX/yv2dvuBtdn6E/OS3fzef1AZQGgWGpw/p+A6D5fw4uQvHraByOlPG/T/TlCxJEHmXsfiYEzyEgmiDys2ojHvEwUjnvCnTyu3CKEOPwYp/2sbFyDYEjKSlt9ctX7y4bKmdnIiHq2efvL9p9XCCzLJPmZ+JPzfxu1yprr+wnSCwDFQG6fYAMQ3cK/SQi7cC48yl3rCKIEEYKIjBSZyKx4o3YDEQsSla0Wm4eLuwM5CiLw5y5eLFkq0N3dXaYys71ELBKspKWn+3uWsCMHQRTnLZY85mUin7t4MSgkwMPDnVCCHucpYiayAesJIhnmLHcXVxkpz8UdQHiO5zC37vSmcWvHHLt6GPEostxLozt92bVmx/s6hxErSv9feDMBACiWgOjmpwMcxllZ5h+/n7p780FEkRpKoxJSNrh2VGSliHKRdap4u3o6kKSahpRSEQuxsfHvdBuRmpTWtlvzz3/4iFCSV4+tKIoH7zF2zMQFvy3v1qfDdz+NlKhEKdVxYlJyyoe9Pr9xOaZJu3rf/jpSEIQHVnaud1RYNn/NhJG/vfx6yzFTPsUYFdwoU2RFL+gxwmfPXfx59IxLZ6+93L3FmPGfZihZPM8VZktTAYsZ1sz+899bcni+LcPi6+83uMn7Q1q/7+vqlU89PgAAABDdYqO5VET6TavXTxk7N69tzp+8vHnFToRQWPmQwaPefrVXB17kCSIYYUVWvETPJbNWnz56HiH0+48Ly1cp07fP65k0GyMuVyNVRMKBHcdTk9NTk9K0Irpny8F9W48ghJbMWBNWLnTosHcylEyezzWGCBNEoq/fSU1OT4pPoXnbxDmPTil1F9zikhJm/vLHginLszPMCKG9mw9njc3mea7w5ncxwpIsBbiX7Du3H7HbEYfa1u80+60ZwV6BCCFZKVx/MgAAAIhu0RBdijiMb1y+hTEOKhXQY2AXF6OJIEVrY2ZlZN+6fmfPlgPRV+980u/b86cufTt5JMYcwpRSqkPi1fM3MIc5zCmKMnH0jKato/wDSjC/ca4H1elEjLGoU2UGU0RTElMxxggjSuj08fObtq0fUbmKmZjzit0VReHhnTxSbpGOE3nMr17z19Txc88ev8T+xHFYr9dRRDEqRCuTRZnJ1Eoy7eFlK3/daXTPeq8jFp+MMEv6CAAAAKL7H5FeSin1C/L98LP/+SFfB3JoFciBpEyadfPqrS/em3Bo54k/fltRq0Hk62+8YiVWJid6g54SWqlmuMMhXz1/Y/pP88f//IVDceRhp6JckwsKokAprRUVmZ6ScePSrd9/Wjxx7rc85ilFeUVvFXwVKY95A9bfuB392/g5q+b/Zbc5DCbDR1/97++DZ7av34cLs67kP+fAcVlW84gun3/U9oMgT3+FKI8sfwsAAPAiAv1agZAcUnxC0j1HfJwjUftfmpyOKIqoUPmXRWMjalfEGP/27WxJkZy+XjGiXIuXG3I8t2HptsMnTrjwLgp57Ogkb1+P3u++hhBaMW/9vt2HjdiA0NPG0GKKbFb7/HnLujTst2TGGrvN0bxDwz93zxz5yQce3u4IIcw9j5lUDvNmR3bTKg2DPP2tko3neJjBBQAARPe/C8ZYFAVRJ4qiIOr++Y8XeIppuiOzXECZ1p2bUUotZtvNmBgdJxLyjyJmpGcNHtE3KMQ/MS75t29nOWS7gPjHVUy71fHyqy2q16uKEPr58+nZNjOHnnYZrg7r/pj+5yf9vou/kxgcGvDlxKFz102uXae6hVokSX7OLWxz2AglIviTAQAA0QXyUQuEkEB5k6sRIaQoijXb6hQqJctysE/gwBG9EEJ7Nh9at3qrntPTx1xE63BIAQH+g0f14QXu5OGzC+esMGGTojzleh5cMixYb9C37drsz72/Dxk6AGFklW0c5p6/rYkxBpcyAAAgukBBFAMR5b6I5nTJYoyt1PZmv671mtaSZWXy1zPTrBn8Y06ocxzOtpo7dG7dsmNjjPH8X/68djvayBsU8oROZoyxAznad2m+78ba35aODw8Ny1TMhBKOA9cuAAAAiG7RhWqz5OeSVAxhGctuBrfBo/q4uJmir9yZPn6+CRsfy07FGFNCdUj4YPQAQRRuXbsz99clCD2VbUgRJYgGBwXodKKFWHmeg8lUAAAAEN2iK7aKomCMrdh++2Ysx3EGgy64VKCEJCf14hGfrVhatmrS4Y1WhJBFM1aeuXzBxD+ef5jnOTOy1q4e2e+jHgihxdNXHTl6wsgZKHmqiCqJyhRRjoOHAQAAAES3aIirLMmSJLN/pQc/I4R0vM5fLLF9157l89YRQhq0eMnPzVchSi4WI6WIQ4OH9/UvWSI9JfO3MbMlxcFz/GPl8cUIS1Qe+HHvkqUDrRbbD6OmOhQHerqIKrBuAQAAQHSLEKIo+PmXCBT9/HV+AeL9//zFEgjRe7HxEyb+9km/b20We3DpwHc/7WdH9lwDgjiesyq2iPIV+77/OiFk86pd+/cdNWA9ehzVxQg7iKOUX9DQb9/hBf74gdPLF69359xkWYHbBAAAUMSB5RmPsnEJRQjdvBLzVvv3dDodpQSxdMYYEYWkp2akJqdHX72NEAotW/K3P8eXDS1tpTYuD9uR5zgztb71bvcNy7ZdPH31mw9+qn080qDXP56xi7GV2F95rd2fs9ce23d69s+Lmrdq5Ofv4yAShuhfAAAAEN0XWHQpRQhlpGXt2Xwor22CSgW07Njo3U/fDg0uaSW2/KN/JSL7ufl+MHrARz2/vHrh5vypf44Y/l6qkv5YoisT2dXg8snY9/t1HHrl3M0Zk/8Y8/1IhyIhDCXnAAAAQHRfWNh8p6+/d+vOTQ0GA6EKS72IEXLzcl23eMud6HvNXm4wecoYM7LaqP2R6204Dmcp5s6d22zstO2vP3fMm7y04xuty5QMzbBnFfxucDxnJpbGDRu0795i2e9r1y7c9FrfjlUqVbARG4L5WQAAABDdF1V0OYwQCikT/MPM0X7IV0ISy71MERGR6OXt+c2HP63+Y1Pvd7tHVKlYQBVntWMHftz74PZj8bFJU8bO/XHaaIy5x0rriDF2UMcHn/ffsX5fYlzy+BG/LNj4KwguAABAUQamAAuE5JDi4hNjHXGx9rhYR1ysI+6uLf6eI7Fj99blqpSxmm1zf1miwzpSsLlZjueyibnBS3Xe/rAHQmjV/I0HDx836Qz08UW3fKmy733ej+O5fduObFyz3ZVzVRBEVAEAAIDovtD2LsaiThB1ovqf3qBTeDksIOTVPi9zPLdtzZ7jp0+6cialYFHEHOZs1Nbnve6ly4XYbY5fvppltlm4x7wdGGMrsfV4q0vdJjVkSZ745cyUjDQdFQkhcMsAAABAdIubEluR7fX+r5QKC05PyVw8YzVFFHO4IDX1MMYSlYJ9Aj8Z/x5C6OCOYysXrHdFLo+bo0qiko+71+CRfV1cTTevxMydscSIDZRCOBUAAACIbjFrO46zE0dJ76Ceg7sihNYv23b6wnkXzlTA/FAYYwuxtu7QtFn7KMzhmT8uvJp102A0PNY58DyfRcwtWjdu06WpIivzfll29uYlvUEPdwcAAABEt7jBY85Cra/17RQSFpSVkT37p8UO4ihgPkWMsURld73bh1//T2/Q3b4Ru3T+aoPxsfWSLQkeMnqAh7d7UlzKrIkLRRHi4wAAAEB0ix8Yy0gJ9PZnyZBXLdh45PBJPdYV0NgVeD6bmOu/VLvXoG4IoY1/7rh28SZC6LEmZTHGdmKvHF5h4IjeCKENS7f9ffgMerDCGAAAAADRfYFU9VEbICRTuePrbcpVKUMpmvnDAqxZKvvItMYYYweV3hnxVnCpgFOHz929de9JThJhB5V6D3y1aq1KGelZe7ccQQiB5gIAAIDovmAQQjkuv4J3GGMbsYf6l+zWp4Mg8sf2n96yZZcL56IoBCEkywr7Os376xKVQgKC3/38bUIIx3GYw5JD0io3pY8oAYQ5bFPswd6BA4b1oIRihDmOe8r69hhjduYEQSw0AAAAiG5h27gIIYSMRgMhRJblfFJNYYztyPF6/84Bwf6ZaVlXzl83IB2llCDi6+dJCLHb7ALiKaW5lgPCGDuI9EbvV1p2amSz2imhkXWqCIinhLLkV3qDnhCiluzNdScCz2eQrNd6dHp9QGfJIRFCImtXFpFAHtPgxRhTinjEsZ0oiuKKXYhCoBIRAADA0wMRN/mZjw4k9fhfF08fj8rVy3u4u8tUzlV7OI5zUEeAd4mf5391O/pe+24t0lGm3qDLQJmDR/UtVbZkpcgKCFGch7MZY6wgRWfUTV405u+DZ4wmQ816kWZq5XkeISQjuV235na7vWJEOYPOQCjJXf4wwggpmHz728j23VrojfoadSJkpDyBWHIcdiD5w9H/qxUVWf2lKhRTSC0JAADwbJTlxQ23UYjCc/yaU2t7zeszqf/orpHtM0k2/6wrsfOIFxBPEZWQnH/GKEqpDus4xMlIlpGCEaIICYgXEE8QlZCU/4EopQLmRaRDiNqRgyCKHz4HgoiE5EfsBFEe8TqkQwg5kONpPMMiEjmEKaJ25MCFprqUUgELZsnSZkyPSZ1/7VKzs0xkgYOxIAAAYOn+J5GpLCMZFTQkyqH+jB7EWBX86zJVZGq9/wt+onNAWKGKlVopQhg/VXV6p2sBAAAAQHQL3xXwOJKTc+PH/jp+FufwLCxT0FoAAIBnDgRSAQAAAACILgAAAACA6AIAAAAAAKILAAAAACC6wL+RDBnSLwMAAIDo/kcRsfhIIaSUPrQBvf+JE/lrKqX3VxQLGKLTAQAAQHT/c0YuwginpKWiB3kWc0WWFUQRxlhRlPuZkzHCuYEQoghRmreEY0QRzczOwggjMHcBAABAdP8jKApxxS6rFm5cu3izHukQQjzmcogy5RD2E3wETlAUxZ138+I9McIs+7HWxmWfIIR4hA2cTsA8yiGqzMA1IeP6JVvmT1nmgd0VosCNAAAA+NcB92Mhm7iE6jndnYR7K//Y8OmED12Qy+jh3zduXb9162YWarlvs1IqYiE1Pf2r0T+eO3VZkRU3D5dm7Rr0ef+NRdNXrl60SRQFWVYwRpQijBEl9K0PugcG+/305YxfFn0XFhpqp/YHObAwRnhA16HVXqryxacf1axf7ashPzRrHVW+XFkrsWEO8l0AAACA6BZfCCGugsuPM6YGBvvXq1XLjMynj14oXzVcQDx6UHNIwEJqevp73UeWqVT6h9mjBYFLSkxdMnPViUOnX+vZqWn7Bjpen5CU1L/DR78uHVcurIxFsZT0DZw+Zf6JA6eXzVn7yTfvawX+yNETxw+cMroYLchaL6J2WIXQNcs2fTF6mIXaQHIBAABAdIt1+wpCJsm6duFm07ZRIhLtyG5yNel0olo7gVBqwrr9246kpWZN/uU7C7JhhMqXDW9Uv64N2TmE3b3cdEjn4mX08vUMKxdSrmRYNjK7IVdztrV7v06njpy7GR1TtkxpiUoIUUmW5kxa0q1Px7TkdIw4B3W06tRk+Zy1aVKGThShMi4AAMC/C8zpFiKUUh3S3YuLy0jPrNO4uhmZOcSxyrjqNqy6vSzLPM8JSOAQJohaiCVDylKoIiPFpths1Gaz2hVZsVntVmqzyTYFKYqs+Pp7v/Z2xyUzV5mQ0SFJrpzr7p0Hff19q9WqYrPaecRZsa1yZPkbl2PiYhMEJMAKIgAAABDd4gyPuIy07Pi7SZ4+nkquhiZGDiTVb/qSXi+MGPXNyZNnk1KSTZzJW/RgxrA2Yvnhn5Hd5mjfpeXVCzcu3LzsKrhIRF46a23nnm08vd0UWcEIy0T28vXUG/RJ8SkcFMUFAAAA0S32pCSkorzX1GKMJSoFBQVMW/6D3eb44fOp40f9MvSdLzds3q7jdPntF2OH3VHKULJCRLmFM1b4c75btuwSdUKzOo2ysyxqjSCO4zCHEdi4AAAARQCY0y10JEnCGOfj2mW66x/gN2nyd2kk/cbl6GMHTv/w+ZQ7MbHvDHori2TnNTSiFClIfr1f588GjT0Xf/HU4XO1G0R6UE/JIT0UqAyCCwAAAKL7H8EvsASbss1/M7tkt1GbqBOrVq7UsHK9kDLB40f80ut/r2IO0zxkk+O5bGSJLFelZr2Ir4b/aM60zlj+QxZO53le3YYQCpVxAQAAigjgXi5cKKImN6OXj6fVbGOl5THGOZM7ilj0Fr1cdS6U0CwpO51mBJX0s1nssl1RC9I7aydGCCMecWZi7jno1fN/X+nau72bwU1BBGPEDsJzvDnLnJGe5entTsHgBQAAANEtxmCE7cgeWqqkr7/3kd0n3KmrgojkkDie02O9ntfpsU7Eojt2Xbti8//6Djt77hLP8SbRGJeY+M1HP7fo1NDH5KWQ+7orOSStj1qRiSITjDgHlUqFBM/765e2XVuYiZlHPCFUlhSKqIHqr5y/FhoeXDIsSEIKmLwAAAD/LuBeLlzVlRTFR/AsWyH05JFzPXu9akLGcpXDfh0ze+GUFZIsYZ4jCqlYtVy/oW9cOXf98/fGyXYZIaQ36Zq2afC/j9/KQtkcxyGEOA77+HnxAs9CsjBCXt4ePM9RRDHGEpXLlyljRw5FUSgieoPOw8udIGLEhs2rdlWrWclb55VFs0F0AQAAQHSLt+wiK7X3eue14f2/vnjzasUy4V9O+jgxLkmWZIQwwogSajDqgoODalSNyFbMcbGJkt3hG+Dj5+ZjRTaKKMdxMpK9fDz/2DrFxcVkRw6e57KR+e0PeyBKLMjKFhFZiY3DHM/z6SizSbsGUS1fQghfT75182rMJ+PeI4hQQjEPogsAAACiW3zheM5CLJXCwqOa19n457byn5YRRSG0VIhW/SiiMlLM1MLzfGipkhghBREztWKkzucijLGHuztBhJm2CiIuLkaEkPLAacwMYrY3vU6n04kIofVLt9RpWCOqVt10JUMbXQUAAACA6BZPeI7Pppb3P++XnJBqRw6EkEQlZ4MYY4wxRZT9Sc2AoUWhBD+0DijPwCj2Jyuydeze2t3TzUItqiQDAAAAILrFHIopRjg4IMCB7mtqXlvm+6fHOyhGKNA/QEGyjP4JgQYAAABAdP8LwovsyPGcQ5kc1JG/kAMAAAAgusUR7QztczsmyC0AAEBRAqb6AAAAAABEFwAAAABAdAEAAAAAANEFAAAAABBdAAAAAPjPA9HLAPAI8qmFDADAC83zX+IBogsAj6eyoMEAUGxU1ul1fg4aDKILAPkJqvoJ+wEUFwCKh+6q+qoVWvaCF6r0gugCgLPcavVV/ddJfcHqBYAX1LpVRVervtp/C1V6QXQBIBf1Vf8lhCCE2L9OAgyKCwAvlvQ6yS2rBIMx5jiOUooxZv8W6mmA6AJALj5kBiGEEMI+ZD9QSgmliBCE8T+iC+oLAEVYbBF6kIOX4zDG3APFJYSoiqsKsKq7hSTAILoAKO4/iuusrw+jfviPLIPcAsALYeMihDmOGblMXzmO43neSXGdfM6FobsgugDwEKq+qlrr4uKSM9RC+zOUlQCAojuqfnh2FqOH6qSazeaHtBljnucL9XxAdAHgH/lU/1UUhRBCFEUhpLBfQgAA/i0URVHfep7n8YNpI9X8BdEFgELUXScbV5FlhRBCSCG9fgAA/MuiK8sIIeXhRUQcxxXeKw+iCwAPGbtMdxVFIYoiK4osy9AyAFBckWVZnbhl7uXCDtQA0QUA53BlpriKosiy7HA4IFoKAIorkiQx01ZASHkQSMWimlHhLNUF0QWAh6SXUEoUhRAiPQBaBgCKveiysGY2l8S6gkIKYAbRBYCHjF11RldRFBBdAPgviC7P8zzPa1cGFt4RQXQB4CHpZa8dE11ZlmFOFwCKMSx6ma1WoBrFLTzdhZhMANDmuqBMeNlLyHQX5nQBoLjCBtYPlgcSqjF2C+nFB0sXAHJI7wP3MgumgpYBgOIKURSirstnclvIRwTRBUBrH/ImsbeOaGZ2oYkAoLiiKArR5KG77+vS9AbPfMEuiC4AOFu62nzLILoAUJwt3QcxHM8nigpEFwBy112N+sKELgAUY9Fl6wSpU4UxEF0AeE6qm0N9CcRRAUCxFV36vIuGQfQyAPyjsqz8yMMZmBFGoLoAUExffOI8oftQhwCiCwDPQX0fTkAD/mUAKM627kOvv+bnwsgBCaILAM6SiwpzXTwAAEX53X8OgOgCAAAAwHMCRBcAAAAAQHQBAAAAAEQXAAAAAIAnANbpAkDRhdU/EQThCb7IKoNqIzALkmCL5/kC5r1jh8j59YJ8Mde4ULa3J8i6x9Z7FOTQRerO5rxBKMdKFVZT/SmvNK9joUIoFlvwG5Tz+cEYa+/+Ez8PILoAAOTZG+b6udoPYozzUVz29Vw7TYxxzq6Z47hn2IXleoinIee55bVW0kmKCnJR6n7y15iCrM50OnoBFc5JQvJqvfx3nteV5hz9aPeT17GeoeKq7Zbr+ed62o98foqf3ILoAsC/TP59N8Y4PT391KlT9evXNxgM+cittvdkP2dmZl6+fLly5cqurq7qh9HR0evXr8+rQjCl1MXFpUOHDiEhIfl3x9pzU3tGSqkgCFFRUY9UNYxxrvu/fPkyIaRy5coFVCB1b3fv3k1KSoqMjMxVtnPuJ//BylPqUF5a4nRuGRkZ169fr1Chgqurq9omCCFJklJSUtjGhBAXFxc3Nzd1z3fv3k1MTIyIiBBFsSD6xPZsNpuvXLkSHBzs7++f8/F7SullX9e2W87mvXv3bkpKStWqVXmeZ/KMMU5ISLhx4wa7EIyx3W4PDg4uXbq0em4XL17kOK5ixYogugAAPAMIIUlJSTabzanLwxj7+vrq9XqM8ZEjR7p27Xr27Nnw8HBmP7Evsh9SUlIcDkdgYKBWxgghPM/fvHmzW7duS5cubdiwIbO9eJ6/cePG7Nmz7XZ7rp2sTqe7devWnj17Fi5cqNPp8umLFUXhOO7OnTu//vqrKjBMIerWrYvy8FGrXe3QoUNHjx5dqVIlrdhgjEePHi2K4uLFi9VP4uLiLly44KSXGOOwsLAyZcqo17Vx48Zff/310KFDnp6e6mmzzl09jYyMjJSUFB8fHw8PD7WhnKQCY3z69Ol79+45SZrTVZQsWbJSpUp5uWpv3Lhx4MCBdu3a+fn5adtw48aNPj4+9erVY7fvwoULPXr0WL16da1atdgn7GwnTJjA2p8QIstyjRo1li9fziYFeJ5fv379lClTDh486OXlpe5cluVjx45lZWVp2zwiIiIgIIC1T0JCQp8+fb766qtXX31VPRbGeMmSJTt27JgyZYrJZHoy6VW/dfr06cTERIRQmTJlwsPD2UOiPqtLly5dtmzZ/v37TSYT+5MoirNnzx4/frzRaJQkSRRFi8Xy9ttvT506ld0XhNDYsWMlSVq+fHk+gyQQXQAAHo2iKDzPT5w48ccff/T29nY4HE7m5h9//FGjRg2EkMPhsFqtWtuU9WL79u378MMPMzMzFUXx8/P78ssvO3bsyHarbpmammq329nP7PMWLVqcO3cunxNbsWLFhAkTHt1rCALr1tesWfO4HfTVq1c3bdr00Ucfabts1To3Go1qEwmCcOXKlY8++kgdJbB5QYvFYjAYduzYUapUKSYqsiynpKQ4WfBMUM+ePbt48eJdu3YlJycLgqAoislkevnll996660qVao43RRBEBYsWLBz5062Za5XIUlSbGzsnj17atSooY5+tBd46dKlTz/9tFatWkx0VbWYOXNm5cqV69Spw0RFUZSkpCT1nFX579WrV+PGjQVBYIMGd3d3pJkplyQpLS3N6YiKosydO/f48eMcxzE/M8/zU6dODQgIUF3laWlpOT0cly9f3r9/P/vKE4guu/xz584NHjw4NjbWxcWFUpqVlRUZGTljxozg4GD1zDHGycnJamuwMc3QoUMHDhyoPTSTZLVJLRaL1WpFz2viGUT3sQdczzNjNfAsbxz6z9011oNcu3atSpUqP/30k7Y3ZLpSvnx51qOxqUG1x2Efbtu2rW3btq+//vq7776rKMr69et79uw5adKk/v37a1tSEAQnc5NSevDgwTNnzuRUFGZm7d27936+6bzJyMgYO3asoig5/aiyLLu4uJQuXbp+/fqVKlXK9evZ2dm+vr7Mz+nUk/I8r7of2Z4bNmy4b98+dix2+Z6env379z927Ji3t7eiKKqvUhAEp4AjQsiYMWMmTpxYu3bt1157rVq1ar6+vpmZmTt37jx06NCvv/46evToYcOGiaLIWpiNJCZNmpT/vYuJialYseLVq1fZqChXNzJrdqfuiH3OrhEhJIqiTqdj58zz/NGjR8eOHetwOPR6vSpUzJR3OByKooSGhv7+++/Mh699kCiler1+9uzZ+Zih7GHIqVtGo5GJ+pP5aTiOu3XrVuvWrWvWrDl16tSqVavKsnz06NGRI0c2b9587ty5bDwkiuK1a9dMJhN7zg8dOjRhwgRm3bKGUkdULN7KZrM1a9bss88+Y3FV2tliEN2iAoc5g87ggk0yT/hitwgKI8SScHMIFz9popiKSKC6Fyz09FkRFhZWs2bNXP8ky7La47CoY1mWdTpdampqv3793nrrrfnz57MtmzZt6ufn9/777zdv3jwsLMxpJKq1rXfv3t2tW7cKFSr4+/vntHuYT3jgwIFM+fLxLcfExDDZ1u4fY+zp6XngwIFjx46NHz9e9R47OaX37duXkZHh5ubGpD2n61g7yBAEwdvbW/vXy5cvL1++fNKkSWyumj02zBnupAc//vjjN99888cff/Tu3Vt7/s2bN0cILViwoG/fviaT6cMPP8z53XxuGc/zqoM6n0GVq6ur06DE19d30aJFp06dslgsOp0uOTmZ3V920ICAgA4dOiiKYjQamVYRQphFaLfbZVn29PRUVTbnAC6v01BPINdxLXuu1FKy+ewn51HYJ5MnT/b19f3rr7/YIXQ6XePGjXfv3l25cuVevXo1aNDAbrcbDIZjx44xOxghFBgYyK6U4zjm2JBlmT17drtdkiSMcdmyZdUB6DOP1wPRfQZGA0Vkz4VDR6+eJJQWIyfEPz0RwgjzHJEIxxW3y6MIUULdjC52m51Q8l8TXUmScu3snPp9k8mkWkibN2+Oj4//9ttvmZ3HNnj//fdnzJgxbdq0H3/8kXVnTp0s+zU2Nlan0x08ePAJ1iCpeHt7//nnn7n+6cKFC2+//Xbr1q0HDBiQ8zHmeV6SpN27d6ekpOzevfvVV19lAwvtu2yz2TIzM5nTmAUQqbKEMSaEDBkypEGDBgMHDrx48WJ0dDRrnJMnT2oNJo7j0tLSfv755+HDh/fu3VuWZfYh24CND/r06XPy5Mkvvvhi8ODBOp1O2/IWi8XhcOSUGXZWSUlJGRkZ+Ugdz/Pp6emDBw/29fWVZZltKQjCzp07IyIi2rdvb7PZdDrd1atXb926pZ5zaGgo87XGxcVt2LAhISGB3aPGjRtHRUU5SZ06nPr666/nzZsniiIbQuVqES5cuLBs2bK5PmZMJpmx+7ihwuwo06dPf++999jIQK/Xsx8MBkPjxo3Xr18/depUWZYFQfj555+XLl3KxhBhYWHsShFCp06d2rNnT3Z2Ns/z1apV69Chg/YQer3+zp07O3bssFqtvr6+derUKR7q+8KLrlWy+br47TxxWKH0+aWsfo6ixPEckpAj22EsYZLsDowxLUaV5jBCFCGRF5GZ83XzQQhhVOzGTfn2XPl3dqwbvXjxos1ms1qtFSpUOHnyZKNGjYKDg1XXnCRJrq6uDRs2XLx48ffff8/8pbnKqtFoTElJ+f777318fHK1Zdmk4Msvv5xPADPV1D5TT/78+fOLFi2aMWNGmzZtpk+f7u3t7WQyMsXasGFDdHT0K6+8MnLkyJYtW3p6erIhAttGp9Nt37793Xffzc7ODgkJ+e2339gFsu9SSt96660dO3bcvHlTEIQNGzbMnj3bYDBgjOPj49XQJ3Z6N27c4DiuSZMmzCLXBkYxiwpjXKNGjezs7Fu3bpUvX16Nutq5c+f48ePZ+edc86PX6+/duxcYGFitWrX8zABKZVk2m81aVz8hpEmTJkOGDGGfnDhxYtGiRVo3ACHkyy+/nD59elRUVKNGjXx9fQ8dOjR37tygoKDly5d7enoyVdP6ips3b+7t7W0wGNhIgk0oyLKsdciHhIQw7acPgzH29/c/c+bMiBEj9Hp9XpauKIoDBw4MDg7O9XlgoxPtd9mvgYGBgiAw6xwh5OnpqW7DjPjMzMwBAwacPn26fv36jRo1unnz5rhx4z788MOlS5fWrl2bRVoZjcZLly4NHz7carVWq1Ztzpw57u7uj3RFgOgWrlcZIVS/TN1NH6zXC3pUHIueEkp1OvGXH385eebklC+n6nV6hBBX/Mx5jOyyo7R3KVR8F+flpalaDdN+qNb0RQi9+eabLIBo48aNt27dCgoK4nle7X3Yvy+99NK+ffuio6Pd3NxEUUxMTFRlg3WXhJCoqKhBgwbt27cvp5dStdJsNlvt2rWDg4MJIbkqt3b1pyzLu3btWrBgwfr167Ozs6dNmzZ48OCcxjpzbmdlZb377rvdunX7+eefGzdu/Oabb27atIldiGr3R0ZGfvDBB5Ikubi4IM3aVqvV2qtXr+3bt1etWvWbb76ZMWPGyJEj2Ry2Xq+fNm3ar7/+qrXzSpcuLUnS5cuXO3ToIMuyalKzbZjbgBnKfn5+6rVwHDdlypQDBw7s27dPkqS8ArD9/PzKlCmT17MqSZK3t/fixYvZnlW6d++elZWllXDtbgVBuHbt2m+//bZo0aIuXbqwz//3v/+lpqa2atXq119/HTt2rNqYCQkJLESucePGjRs3Vvdjt9uzsrJ8fX2dTunGjRsYYzZA0RqLnTp1unDhwuXLl/My3CmloigmJyfnJbr16tWLjY3lOE4URXV8gzHev3+/m5vb33//bbVajUbjlStXRFFUb5BOp5s3b97ly5cPHToUFBSk7u2DDz7o1q3bhQsXmPGdlZVVr169VatWsalu5vkoBv3DCyy6998un9LFu182Z5pXzF9xL+5e0uXEZi2bFX/j7z9j6TqF/+Ta8bEuZvHixWz9YqlSpb788kunlYuqzKSkpHTu3Jnt1mw2W61W1sOq/VRQUNDUqVMLOqjNu3fLyMg4derU6tWrN27cKMtyVFTUl19+uXbt2lmzZs2bN+/VV1+tW7dulSpVvL29menMTuP1118vUaLEmDFjTCbTkiVL2rRp07Zt24ULF5YoUUJdXhISEsIWHWkt6ePHjw8cONBut//9998IoZdffrlChQpz585t1qwZu3zVolItLV9f3549e/74448tW7asXr16zks4evTo1KlThw4dql1lhBCyWCyenp516tTJv3GY1zSvdlMUJTY2lpll6oSowWCYPXv2tm3bJEnieT4zM5OFKKtftFgsHh4eTjHV3t7eISEh9+7dU50BKSkpXbp04TjOxcVl1qxZFStWFARhz549o0aNSk9PZ0dv27btF198UaJECYfDwVSQXbKHh4fNZitXrhx7nPz9/SdPnvzooT8hqp9c+yHHcSNGjOjRo8eff/75+uuvq3/67bffTpw4ERoa2rdvX9ZQCQkJISEh6sInhNCOHTvatWsXFBSUlZUlCALz1gwYMGDKlCnR0dGRkZHsATAYDNqbWzx44d3LhJJiFlCutQ9EQRz3w7jY+FhK6fgfxzdq1ohdafG73vuzbv8l37IkSRkZGVarVTV60tLSMjMzY2Jibt++ffXq1c8//5xNN0ZERISEhLBt9Hq9U+wx67iTkpJ8fX2XLl3q6uoqiuKZM2e6d+8uSRLz/a5Zs0Z1Kj5yKMDMvrJly77xxhuqY5ZZqxs2bJg5c+alS5c4jgsNDR0+fHiXLl0CAwMRQh9//PGlS5c2bNiwbdu2uXPnOhyOn376qWvXrhzH3bt3r3///jdu3Ni8ebOPj48kSeXLl9+zZ0+3bt3CwsI2btzYtGlTdmgWqcseBo7jbt++PXHixJkzZ7755pu//PILC546d+7cqFGjOnTo0L59+0WLFul0OidJYHb8zz//bLVa69Sp079/f6bTTI8vXbq0ZcuWefPm9erVa8KECU4WPwvkeXS/mfekOFt65O7u7pTPxGKxNGnS5IMPPrBYLHq9/tSpU9988432WDVr1oyKiurQocPQoUNr1Kjh6el5/vz51atXnz9/fuXKlUzkVDOaBXMxL+7GjRu7du06fPjwPn36sHnQ4cOHN2/e/MCBA25ubmps2qpVq44cOWK329977z22lLbgw6+cIzDWyF27dh0/fvzAgQPXrFlTrVo1h8Oxe/fuc+fOTZ48edCgQepC6vHjx8+ZM4c1GnuQmjZtOnv27OHDh7OVRSyiat68eSVLllTPTfWQq5H8ILpFxslcHDtqpri3b9/+Y8EflFCM8fZt248dPdagQYPiOcj4D6ntfZmsWbPmRx99FBUVxTzJCKHExMTAwEDmiAsPD1cDjM1mM+t6BEEoX758bGysNq8T69f279/vcDiqVq3Kno309HTVc5uQkHDo0CHVa/3I0xNFUZIks9n86quvspNhvTal1Nvbu3r16gMGDKhbty7TWtUfzvN81apVq1at+umnnyYkJJw7d455DhMSEurWrRscHLx9+/bQ0FB1ZW1oaOiRI0d+/PFHJrRM6XU6Hc/zbKI3Ojq6ffv2Pj4+K1asYCE2rEF0Ot2kSZO6dOly9+5d1e60WCzaRI/MLzpr1qwWLVqsWLGiX79+drudHdfNza1OnTqLFi169dVXUY41oBUqVNi9e3f//v1V5zwb5WgX1FJKGzRokDNYjG3v4+Nz9+7d3r17e3t7s28x38PWrVu/+eYb1Rvs5uamPWG25YIFC+bNm7dixYrffvuNEGI0GmvWrLlp06by5cur0eyiKJYtW5aNPxBCVqt1+PDhAwcOHDduHPukdOnSu3btql279i+//DJ69Gj1Bo0ZM6Z79+5s1DJ//nzV31uQtJeKooSEhLDAb+3FUkqHDRtWv379+fPn79q1C2McGRk5adKkmjVrqst/KaV2u91isWif/0GDBv39999NmjSpX79+YGCgxWI5e/ZsXFzckiVLWLoMjLHFYrHZbNplRSC6QOH6Hgkh33//fWxsbPny5Vnqoo8++mj//v2qvwh4UUeKHEcp/d///hcZGRkTE0MIKVGihJeXlyAIHh4efn5+rq6urK9heTNYvBXrxerUqTNs2LC0tDQPDw9VMOx2+8GDB7t168bS6el0OmbjqjkxWrRo8TSPouptjoqK0gbTao1j7Sf+/v5qxkGTyfTbb781a9bMw8NDTXzP9iYIwqeffqp+y2g0atMjeHp6zp49u27duqpZqbUvtXOZVatW7dOnD5sG1rqCKKVvvPHGG2+8kZCQwDy0GOOgoCDtbKt2eRJC6PPPPw8ICDhy5AgL3eI4btOmTYGBgbVq1WL2NItcS09Pz6uhateuvXXr1oSEBIfDoS77wRgPGDCgdu3aqt2mFSF1nlUQhPfee++99977/fffZ82adfz4ca1trcZDORwOtRLGxYsXMzIyunfvzv7KnhMXF5c2bdrs2bPns88+U53YbMiFMb5z587u3bsNBgN7SB4Zys48EDVq1NCKrrabql+/fv369XOdnmD/srVD7EAsjNzLy2vlypUnT57ctm3b3bt3fXx8Pv74486dO2u/261bN5YcA0QXeE6+VpvNZjAYFi5c6O7ufuDAgc6dO48ZM+bOnTvh4eHF1aP+3xlRMYutYcOGDRs2zMv5zIJRtcmNEUJt2rQhhPz8889qZA3P87NmzYqNjWUrMdjSRqf1r6p+nDhxQhTFXO1dFmVTr169Jk2aOD2NLKPQqFGjWGQsejgFhJubG8/zaWlp6qkycWUa8O23377yyiuqXxEhdPPmzV27dp0+fTorK0uW5ZIlS9asWbN9+/ZLly5lYsZO3svLiwm8xWJJSkpyeuDVCUJKaURERMuWLXNtRjanqB0EqJ+zhnK6KSVLlvzqq6+0W7Zr165169ZDhw4t4M0VRTGvk9GOUdQ1YAihzMzMffv2ZWdns/uu0+mOHj0aGxvLPORZWVlJSUlxcXH9+vXz9PRUtZ+dMIs5YqFY2rXXGRkZavIN7X0khLRv3759+/bPcASZmZl5584ddvfVx0O7TdmyZZs2bcrmStQgPrPZnJaWFhERwXJq8jy/evVqZtqybUJCQho0aICK3WwaiG7R7ZQNBsPPP/+MEFq5ciXzaG3atKn4jfuK/ACoEIdWlNLr16/fu3cvKipKTUmhDa1iC3nV3H6EkODg4MmTJ/fv318Uxa5du+p0unXr1o0ZM2bChAnVqlXLazTG/LepqanXr1/PNcchpdRkMp04cWLevHlHjx51d3fXrghSjS2nxUiUUqPRuHHjxrS0tL59+2ZmZrKvqHLC4lqZBnMcl52d/c0338yZM6dChQqVKlUSRVGv19+6dWvNmjVjxowZNmzY22+/rQ1CZiOPa9euNW3aVDVend4USqmXl1e7du1Y2l6nhb/q2TpVGSrISmXWmA6Hw2azPdadZa29b9++AwcOjBw5Um0N7c2VZTk9PZ3ZmmlpafPnz09MTGRDGUVRDAbDSy+9tG3bNubD9/f3Dw0NrVGjxs6dO9ULZP6SsmXLli9ffsKECQ0aNGBWNc/zt27dWrdu3YQJE9TkVurRtY/Hn3/+mZWVNWDAgCcexLMvxsTEfPPNN+p0eM5EY+fOnevZs+fo0aNVm5vjuOTk5MmTJ7P0nOoMi7oHQRD27t370UcfTZo0Ka+6hCC6wLOHrVtgqdQIIWwUDIr73PwNlCKdWIjhGxzHrV69evXq1bt27XJ1ddVqBusuIyIivvzyS23SRELI22+/rdPpRo0aNX/+fJaKYerUqW+99ZZ2zWtO8wsh1KtXr169euVzPn/99Ve/fv0yMzOZ71qrUr6+vjNmzMhr55cvX84nDlbtT7/77rspU6YsW7asY8eO2lPNysqaPXv2+++/jzHu27evemgm8+Hh4Zs3b84rpxLP80uXLp03b964ceM8PDzyH8g+wdhXFMV86h/kc2cPHDgwbty4IUOGsBGMU5h6pUqV1q9fz2KVQ0JCVq5cyf7Kwqy0Ud9aNmzY4NQOHMfNmTOnU6dODRo0GDx4cHh4+K5du/7444833nijb9++Tum4ncRy7ty5qug+TROVL1/+l19+yXUDdhWsisOIESOMRqM6mCtVqtSGDRvy2Xn37t0vXLiAit0yQhDdon17BIF5hFRPIyju84FQKgq8KOAbdzJrKuTxe92CIstyroYU62jCw8O//fZbbQenpsV/9dVXWQqIsLAwg8GQf21z1skmJSXNmzfvwoULzKp22kCv1x89ejQwMDCvRRpqygVtl8rSSLFUhSyngdNu1bm9uLi433777ZdffuncubMa0sVOzM3NbejQoYcOHfr666/79u3rpE8uLi716tXLpw0vXbrk4eHBrMYZM2bMnj07Lxd6ru0sSVLVqlWjo6OtVqvTBXIcd+TIkaNHj65Zs0brvOV53m63V61a9ddff9VOrmtxdXUNDAzMK0zJz8+vY8eOWpsVY5ySklK7du2xY8e++eabqreWxTGx6eEmTZq4uLiwKCrV9A8PDz948OD48eNnzJhBCHFzcxs7dmyPHj1QbnV2tXh4eKgJN54GvV7PgpDzggXQOflXOI67ePHirVu32I3LeV/OnDkTGhqKCpCbE0QXeMawiAloh+dl4CKEkFHH30217zgWc/LS3U7tWxWqsatmfi94z8KWMKprOh/pHmSP0M6dO0eOHDl06NC8HqeXX365VatWeWUhyKtMrFowIKdHWqvNrM9lqRvYlCrSuJFFUXRzc0tJScnLYMrrunieN5vN6oCgTJkybdu2RQUIynXSdVazKOe32rVrx5xMOb/l5+eX/0BHTcrxyLEy0xWW3YINwtg9dVppXbNmTadk3aqD/YcfflBbsoCXz7T8mZiSeR2OXRerX+lUtyMpKalDhw6SJIWGhubMu8lxXHh4eN++fZ/YUQGiCzyV6Gp7KKDQ5JYSinQCJ8v4wJn4HUdv3olP9XEVBZ4r1Jtrs9lYfuC8/MM5w4O1E5x55aPPWVhGluUyZcpMnDjx2V4Cz/P5DwqZs7RkyZI9evQYOHBg1apVy5cv77TB+vXrly9f/tNPP+U6hsinSLu2dA9CqHXr1q1bt37OT06uL6b8ADWsLK/GQQ9PuLKAo4ILoVqPSM0MpaYXVZ+QnCWnEEIGgyErK8tpPrUgj18BWwBposZyHp0lTZszZ84j7xcUPACeN3kl5AOeaSNTgec4jr98I2XDgWtnr8aJHKlXJaB2eS+dUIjvfNWqVWNjY/v27asGpua8+yaTiSUELmBPx3r8tLQ0tZ4uQ6fT3bx58913383LNGE1Cfr371+nTp2CB9ew+vAF2XLcuHF37txp2LBhq1atIiMjmR87Li5u48aNiYmJQ4YMGTRo0BO0oc1my8jIYFfERO4JVPMJ6kvmOrJRKVu2rCzLgwcPZs7/vBR3woQJ/v7+bANXV9eqVauOGDFi3rx5uRZdYNlAmzdvPn78eKfII6eqiE4Du+Tk5JyzGE2bNv3888979+7NvPG5Dt0kSerevXvnzp2fxsdrtVrVG6RiMpnS0tJWrFgRFxfHTGGnQ7Mnv1OnTnk58EF0gUK3dIHCMXBZFK4uKTVry+Gbe0/GpGZklyvp2aCyb6ifITMzm1BaeK3fvn37tWvX5rruUzXmBEFQfYYFtDl8fX0HDx7MSqSptkLDhg2/+OKLK1eu5LUTJrpsCWnBj9WuXbtatWrlb5yxaUt/f/9t27Zt3bp19erVhw4dSkhI0Ol0JUqUaNq06TvvvMNSET1W98q2DA8P79ixI8sA9Uiz+znAWrtjx44eHh6ZmZn5V99jy4tZ+7i5uU2dOnXJkiVWqzVnqSjVZ8BqFedsqLwK8Lm5uQ0cOJB5F7Tb9OjRIzQ0VLtiONcRf4UKFZ7SzValSpX27dur94VdWnBw8LBhw7Zv337u3Llcr1RRlICAgMaNGxcz0cVQ9b1o6wHFGM+YMcNut3/44Yf5ZHwFnlBuEeUwJoQcPHt308Ebt+6lebkKTSIDqpXx4Kiclp5ps1qjGjUSCy+S6j/2PGu7b6fn+YltKRbD9UxigoDCcSMRSZJyvUG5GvSq74FZ8IUqt4cPHqSUurq5GQ0Gg9Go1+t1er0oioIgMDfGM4/hgh78xXhkQWuffatSymGMEb6TkLXh4I2jF+IwVRpGBresGejlKmSbLVlZtucwuFYLCuVvzz1B4Lo22756LDWCKf/DPdaxCh6Mo1a0ZY80e6pZXGuu034F7cUe7KoI+qge986y6gL575bjuMe93pwPQwGfPZRH7uXHguO4XBVXURRtMeP/CNCVF21HBMZsIA+j+Gdr4CKEOIyzLdKeU3e3HY9JzbBWKOXRslZwtTLedrvNbLYpCuU4/HxucSHNHeQafqVm3H3kU/dYXepjbc/intSyhuysnqEBXXR4gjvLcVxh6FBe0XbPZ94qrxuUc+na0z+NILrAsxkvg6X7rOSW+ZMRQievJv11KPrK7VQfd8MbLcs3qhbo4SKkZZhlhWKMisGbnk9AaVE+vX93V8V7+F4Ej/4fvHfQlb8A5JqbBnjsZnzgT05Ms6w/cPPIhXiMcVREUOdGYUG+bpLDkWl2QPIRAABAdB9lvhT3unCqpVuMFaFQbyJL+Mph7JCVPSfvbjkSk5huLRfi0b5e2EuV/BFCsqwohPIclhXoEwAAANHNl2JvmmgLhBXXayykC2PLgTgOI4TPXE/afCTm0q1UN5PYvXm5xtWDPV31hFJKiok/GQAAEN1Cx+5QMId5rjh3mbJCMMcTimSF8MV0jEEp5Tn8bEcV9/3JGKdk2DYcvHn4fLxDVmpX9OvSOLyknytCiFm3BNbNAQAAolvALvXirdSD5+4RSjFCxbLn5Hl+97Er15O4DJfrluwMzBW3yV2MEMbIZpe7t6xQys+N0mdgdLL6YRzGDpkcPndv05GY2MSssiU9W9QKaVw9GD1wOBfvsRoAACC6zx6Ow9fupgf7eZJiaq1gROo066IzuKZlWonCFUNDl1K9TriVmJmWaSvl5/aUqWf+iU/G+HJM6qbDMaeuJbqZdK80Kdu8Zoi3u4E9Jix3Hrz/AACA6D52N6sX+FqVgsuU9HFIcrGc9RTESEIQUWRU7Mx5ihCPsULI0i2nn/7OqfHJmWbH5iO39py+a7MrkeG+XRqHlw32QA/8yfDaAwAAovvkKITKCuE4zD3rScEiYusqkowwS0FAi5l5RhHiMCcrxCGRp90VRRzGhNDD5+M2HIyOTc4uWcK1dbPQZjVLPtgAFBcAABDdZ9V9U1RMHcz3JzmLZbQPRYgilq3mKfZwP2AK3byX8dehWyevJvIcblsntOVLpfy9TfRBE8ISXAAAQHQB4MkhlGKMOYyzrdLmI7f2nY7Nsjgqlfbu2ji8XIgnUv3JoLYAAIDoAsBTKi5L6Hj8UsJfh25du5sW5OvaoUFYy5dK8RxmEVXgTwYAAEQXAJ4c1Z/MYRwTl7n5aMyxi/E8j1u/VKpF7VJsAS5bdwQWLgAAILoA8LTWLcbYLinbjt3eeeJ2aqatXIhX50ZlqpX1RQ/8yTB7CwAAiC4APAPFRQiduZa07uDNa3fSfT2NrzUv17ZuaVHgwJ/8/JwND2L6nIr15j/YybW+m1N44Is1XGKFhB+3/DCcOYguALwAvTwLmIpLMW86dOvwhThFoY0ig9vUDQ31d0PgT36+5NpT59V9q2LstAEhxKl++7MVFa2iqL+yIr5PWZJdRbsf9RDsuvI5pbw2yOf8ndqTXUI+2zzWmQMgugCQi3kkKWTHsdvbT9xJTreGBbl3blg2spwvz2HwJz9nZFm+d+8e+9nLy8vV1RVjnJiYePLkyaZNmxoMBkKI1hTmOI7p7tmzZ2/cuNGlSxdFUTiO4zguMzPz4sWLycnJDodDFMWIiIjSpUs/kwfGSVTYr6rMF0T2HjkEtNlsy5Ytu3379iuvvFK1alV1h3kprnaDfE4g/2EBOzR73J/gEtjXLRbLypUrr1+/3rlz51q1aj1lDjgARBcoPhDCCgShi9Gp6w/evBCd4uWm79qkbNt6oQadgBAikO/iufsbMjIy3nnnHSZdQ4YMadeuHULo+vXrmzdvbt68OULoxIkTx44dM5lMGOPMzEyj0Thw4ECE0MmTJ69evcpEl+f5LVu2zJkzx9vbu1WrVi4uLhcvXpw5c2ajRo2GDx/+NBYw++KmTZv8/f2ZolBKDx8+fPXqVUVRMjMzmzZtWrNmzadvjeTk5JiYmLZt24aFhXEcFx0dvXfv3sTExPDw8FdeeUVrgzIRPXXq1IkTJ1JSUurWrdusWbN8zh9jvGbNGj8/v6ioKCd5Zu2/du3atLQ0o9HYt29fvV5fcNVUXQ5t2rSZOnVq06ZN4akG0QWAf/p3jsMJqZbtx2/vP3vP7lDqVQloXSe0XElPxCoWYMTBCP05gjFmJunmzZu1hq8gCCdOnLBarTqdTlGU4ODghg0b8jzPcdz58+dnzJgxcOBASmlSUlKTJk0opYIgxMfH//77719//XW1atXYftq1a/fxxx+XLl26e/fuYWFhBRESp22YjRsfH7958+ZJkya99957tWrVYoOD6OhonU5XuXLlPXv29O/ff/78+ZGRkY9l72qPRQjhef7SpUvJycl169ZFCJ05c2bSpEn16tULDQ2dO3cuIeTVV19l+2df3LVr15w5c1q1auXn5/f111+bTKa6deuywYfT+aempi5YsGDRokU9evSIiopiXgF1g7S0tI8//jgwMLBx48azZs26ePHiL7/88rimqsFgMBqNfn5+oaGh8FSD6BZzIaGUcM+0TBCllHUBBdng2U5oFWYrsakvuufk3W3Hb99JzC4d6NaxQVjtSgECD/7kfwemEHv27Nm7dy8T1Li4uPT09EWLFiGE7HZ7jRo12MMWHBwcHBzMvnXu3Ln+/fszoYqNje3WrRuz5O7evevt7V2iRAmm2Yqi2Gy2Q4cONW7c2N/fHxUsoorN0apbsh+OHTtWqVKlqlWrli1bVhXIXr16sW1q1Khx9uzZvXv3RkZGPoEBrYWZzpTSrKyshQsX9u/fv1GjRgihypUrf/jhh6+++ip98CgnJiZOmTLl999/9/X1RQiZzeYFCxYwtc55lGPHjpUqVapPnz61atVCGh8ya/9x48ZFRUUNGDAAIdSgQYPBgwcnJib6+fkVfADBtoyPjw8LC/Py8oIHG0S3yHT9hChEcXojEKIYY55/kkajCAmCIOqQzao8y/snCDodstpIrjkwKX2wgVVhr7QoClIRLgtBKeV5DiF0427GugM3zlxPdjWJ7RuU7hQV5mbSIYQIVCz4l2DjtqZNmzKfp8lkGj58eIUKFURRlCTJZrPVqVMHY8zzPKVUURSMsdlsXrt27Y8//ogQys7OPnDgwCeffJKZmanX6yMjI8uVKzds2LAGDRpkZ2f7+vomJCTExcWNGzfOaDSqUsp0K69BQGZmpo+Pj9Pz8/LLLwuCMG3atICAgJzfunHjhiiKLVu2dNptPgdCCGVmZrq7uztNpiqK8tJLL2GMt27dmpyc3KhRI5vNJggCG4KoJykIwpIlS9q0aePr62u1WkVRZHO6OYWc/dqqVStBEAYNGtSpUyf1QzZ0uHXrVlZWVs+ePWVZxhhbrdbAwED1WAV/xRBCt2/fDg0NdXd3RwjSo4LoFomuHxmMoourSDXl31h8rCyjrEzyBGmQBR6nJCfF3o2pWq3ms8qizHE4PS01+sbVKtVq8LzoVIGIUioIXEpyUkz09cgadTCPZUlOSU4KCAxwOJQi+KJRhDDGqZm27cdv7/r7js2h1Chfom290hVLeSHVnwyK+6+i0+l0Oh1CaN26dSkpKT/88ANCyGaznT9/3uFwXL16tV+/fix4iuO4KVOmdOnSJSQkhPXyFovlp59+ioqK6tatG0Jo5MiRzF6Mi4sLDg4OCQnR6/U5Lb+8JIHjuH379lWsWLFSpUpakRYEITo6OiQkhFnb7PMLFy5cuXIlISGBEPLWW29VrlzZyeWTfxhwZmbm+vXr33rrLTWOSZbl7OzsevXqIYROnz4dERHBdigIAvurepIIoSVLlkyePJlSyvM8U+V8egBBEO7evXvs2LHQ0FD1JJmT+a+//vL29lYHJRzHMVP7CUT3zJkzDodDEASIogLRLRLGlk7H796xffrkcYjeT8fP3h+iKOEVqoz4cry7u7ssKwV/WCmlOj2/c+uGxXOnzV+x1cvbW5Lkp3TzsvO8fu3ih//rMWvRhsia1c1mh9bPTAgxGIQrF8+N+KDvnKV/RUVF9O/9zsE9O6bMXVGnQV2LWS5SfmamuCcuJ6zacz02yezvY+zZoEzdKgF6kWfhVNAz/Ouoc5CrVq16++23N27cKIoipTQjI+P27dsjR47keZ7ZZBjjOXPmJCYmfvzxx8yBnJSU1LFjx549e547d65Vq1ZMLXQ6ncFgEATB4XBIkiRJEkIoODj4hx9+CAgIoJReuHAhNjaWHcXp4TcYDKdOnZo0adKmTZtcXV2ZeLDN7ty5o9frPT09VdG9e/fu1atXz5w5k5GRMXjwYO3e2BcTEhIuXLiQq4CxQOXvvvvOz8+vbdu2rBEsFktKSkp4eLiiKLIst2zZUrXyMzMzq1ev/sBtwyckJFStWrVcuXJMJhFCycnJzEDPeTh2Mvfu3atevTrTVNbg7IunT59mU+CyLIuimJGRER8fz1zWj/t6nD17tly5cqotDs82iO6/jKjDa1csjI+9O2L0mNSUNOZPxhgriuLjW0IUBErvvzIYY0oIebBKQesTU0ej6m7N5uyMjDSHw4ExppQQgvJeikfYzvNZqMfsWiLLaSnJFotZK6DqCSCECJHT05KtlmyEkaubh6jXGQxGQjDSxIawNR74AfmfTGEMjRVCXY3i4q2XM8wOSmmrOqU6Nyrj/sCfDNZtEYHn+WvXrq1cudJsNu/Zs+fLL7/EGDdq1OjSpUslS5ZUQ4JtNtv06dOvXbs2adIkvV7PzL7jx4/XqVOnWrVqAQEBoaGhOp3OYrGYTKa9e/cePnz4o48+YgY0IcTV1ZVpEsa4XLlyYWFhOfNpUEodDsfBgwdHjRplMpm0li5C6O+//05OTtaKVps2bdq0aYMQGj169Pjx4z///HNJkkRRVOXKx8eHma053zWO4/bv39+7d+9GjRqppmdiYuKxY8e8vb3T09PPnDnTr18/dVBy7NixqKgodQ+xsbEcxzEjnskbxrhx48Z5jaQxxjExMUxc1YtSD8ocwuzDa9euSZJkMpnUaylQjy8IlNISJUqwOWMYzILoFgkwRoosV65W4523X7+bhrTPMyHIbiOKQkRRpAgpsmI0iYKIEEJ2O3LYZYSQKAp6PeI4pBBktVKiKGqfxd46jkNGo54XkCIjh0PRyhgbHet0POaQoiDJQdgSeG0XoNfzHI+IgjBGFCFBFNXgLO0GkoQwZtO6ok6nT8tA3/4wefS4yRyH7DaFFwRBwA67LAiCyYXneXZpSDvje39vBpHjEFGQw0EIISzs5ZkbujyH7yVnVwsv0aZOaLVw3/v+ZAT+5CLh+0EI2e32VatWnThxomnTpp07d0YIDRs2bM6cOVWrVjWbza1bt2ZDtwMHDqxYsaJSpUrTpk3TGnNHjx5t1KgRIcTPz08QhA0bNvTp0wchdOLEiZo1a7Zo0SLXQ+v1+pw+Z0Z8fHzfvn1Z1JXW54wQSktLq1SpEnowFao6fjiOCw0NPX/+fE4rUxCEvAw+SZJCQkJat26tbY1bt25VqFCB/TU1NZWNGJihv3///q+//lrdv91uZ45c9mt0dPSFCxfef//9fEKf7ty5U7lyZSfhZ6MZdjlsBHzs2LEePXrkGhrpNApRfQDs5/T0dEJIYGAggiwZILpFCslhzyLUnG0RBR1CLI4KIYwppXqDEH39BsdxpcLCdm/ffvH8aY7jGjZtXalKBC+gmOjbB/fuSE1JCgwKadm2k6ubq8MhofuBxNRocrFa7ccP78/MzAwJLR1ZoyYhSJLuT7IajEJ6WuaRA39nZKQHBAVXiaiu1+scDpmtfNAbRMmunDhyND4u1t3Tq2GTZgajSbV6KaU6nSBJyomjR+Pu3fX09G7UvJnRaGK2OM+juNjEhLjYchWr6HRidlZWTPT1iOo1ExMS9+3aEh93t0SJgAaNW4SGhdps9w9nMIoOu3Jw797U5OQS/v7Va9XT6YS4uDg/vwAWKfOsmprD2GKXX2lctn39MKNeAH9yERuD3l/cGRwc3KFDBw8PDzbF2KJFixo1aoiiePPmzbJly3Icd+PGjV27dvXq1atevXpqL8+crvHx8X5+fqyL37Fjx6JFi3r37s3CmEuWLEkp1ZprBVks5O/v7xS9zCREURS9Xl+lShX2q7oBx3FXr15dt27dV199hR7EhRVwzKGdNmZYLBa2yNXDwyMyMvLy5cthYWE8z0+cOLFy5coRERGqXRsWFpaSknLv3r3w8HBZlqdNm9aoUSNvb+9cj8WUeOfOnU2aNFHbQb2KUqVK3bhxg+15586d169fHzVqFHNr53rLcv7ARvDx8fHp6elsrh0A0S2Kvc0/BdbxfeUVBDxl4nfx92IrVom8culs9Zp1L188P23S2K8nTPULCPxi+OBader5+gau+XPh/Fm/TJm7MigoGFFEFSKK4r7dW1YsnpuWkoQQzs7KCCpZ+odfZ5csFWq3SXqDuG7F8l9+/EYURZ1OZ7VYXdxcf5qyILx8eZtNMhjEyxcvjhzydmZmppubm8Ph8AsIatysDZvxIgQZDPqL5899MqSf1WJ2cXGRJCl4Vlj1WnUFUVRk2WRCmzesXPD7r6u2HnZ399q5de8XH78zeOjnm9YtDytbzs8/aPb0iVN+/m7qvFWRtWpazJLJRTxx5Oioj/ojhIxGk6LIwSVDa9dvvH7lopkL1wUGlZRlCWPuWTW0JJEqYT5GvSDLRBBg9F3k0Ov1TGZUny0hhInHgQMHOnTogBAqWbLk6NGjeZ7XbsNx3O3bt6OiolSrNDs7u3fv3kyAv/vuO7YlMxYf683MuU6X5Y4wm81svZAsy7Nnz3Y4HOHh4ampqYsXLx4yZEitWrXyX2XnhE6nc/JFYYxPnz7doEEDNi3dtWvX6dOnJyYmxsTEZGZmjhkzBiG0f/9+m83WqlWrgICAtm3bfvnll926dTt69GhoaOj777+v3UA1eVkUmNVqdTgcYWFh7DJTU1O3bdvWunVrb2/vYcOGjRo1avLkyQaD4dy5c2PHjtXr9VevXj19+nT37t3VczObzatWrerYsaOXl9e2bdvc3d3r1at3/vz5K1eudO3aVVGUGzdu3L17VxRFNt0OzzaIbtGRXE6HsSjqRJ2AEEKUuZ0JURRKEUb40L4d9Rs2X7Z+GyHIZEJfffLF6E8GlwwtO37SzMbNGysy+vCTkW0b1vpp7OfT5/0hSchgMiUlxk2fOG7E6PEt2rQTRXT9ys3eXVt/PeqDmYtWunvqVi1b+fG7vb/+fmr3nv1cXLnU5MxvP//4nd6d/9y439fPJyE+6YMBrwcGhcz9c31AoH92lrx146pxX41QiEIR0unRndux/+vZMbx8pckrNwcF+2ZkyOtWLP7+25F2m00QBIxRZka61WpGFFGKOJ5LTIjbsHrphMm/V42srCjo409HD+jVbeignmu2H/Pydr15Lfrdt7vVbdBk3OSZ3t6uFjNdt3LJZx//z2Q0mbOz+Qfu62fo0rc7ZErBn1x0YXaSKlfM0DSbzTExMUFBQUyYnZy6zN69dOmSh4eHi4uLao8eP35cURSr1cqmGJkbtly5cq1bt2aWcQHX6eb81dXV9Z133mHrhfR6fdu2bS9fvpycnFyqVKn169cbDIYnWKqe82T27t373nvvsRZo165dZGTkxYsXa9asyWxchBBzYrdq1YpS+sEHH7Rs2TIuLu7dd99leT+sVuuYMWPGjh2b0xgVRXHOnDmenp6sEdLS0o4ePcompCtVqjRv3rxz586ZTKb+/fszx8D3339fv359rcM8IyPj8OHD7CtHjx5l08NXrly5du0au30pKSnly5dHD8oeACC6/z6UIo7jzeas69FJCfHJgnA/4EJWFG9vHzd3L4SQosihYeEffvKpzapIDolS3Wu9+i1ZMCOqUfOWbRsnxtspJf6BHl3f6PPHnKnpaWZ3dxeO4zPS08ZPnvPKa+0S4uwI0QqVy3z/69zer7a8dP5SrTqR82ZM6tjtzX6DBqSl2JISJReT8cuxv7RrVHXdysXDP/1w7vRlCXGxf27Y7+vnmZFu53m+V7/X09PTxn/1MUZUr0d/rVsuy9Ivs5b5+nqkptgwx73zQZ/s7KxvP/uA4znW2d3vbjDiMIcQGjJ8dPValZMSbRhRT2/je0M/79qm7uULZ19+OeqLmZM4jvtl1mJEUWaGHWPc/92eN69dXLrw92dl4Obs2tgkNFA0cdIq1e08duxYk8mU62ZsmzJlyqi+ZYTQyy+/XKlSJbbYVJ10lGVZ3eZpphZ0Op020VLZsmWZ1au1U5+iZ6AYY7vdXrp06YULF3bp0iU0NFRRlKCgIDbsUC9n8ODB2qFJpUqV2DQz86KvWrWqZs2atWvXznk+giCUKlVKe/6TJk1Sj+7t7c08z2wG/eTJk4SQnj17als7KCho+vTp7JMvv/yS/cCWaaWlpa1fv/7y5ctsVh7MXBDdojOiR65ubju2rHvzlZcdDgt7lAVBkByOrm/0GfzhJ5QiWZaDSpaSZUoR5nieKBwviB6eXuUrVTWbFV7gCMEOO/X1C+A4nJGe6eXtYrVklypdtuZL9dNT7qd2M5tJeIVKPj5+169eCClV5vq1S59/N7GEEYkBBl4wOOyorJ9YsXLE5vWrvvzsw327NleJqBEQ5JmRdn+BXUa6UrFK9/s7ygAAHRBJREFUBMYcxpwkofNn/q5Tv5GXl4c5W+JFQZGVzCylXIVKJhdXSZK0BXgwRg6Hw8XVzT+opNVCWD4KyUFdXN3d3D2SE+MtDnTz6uWW7TqLAjKbJZ4XCCEZaXJkrXqrly8kRIGHBGC4uLi0bds2f51mq1NUSpQoUaJEicIcND/kDVaD85++qJFqjE6dOjUtLY1515lpztwA2pSNqknNIiTUhbwIoU6dOr3xxht5jQCcYqzYDLq2StKDESquWLHi1KlTjUaj00hF/QqzZdmsMKXUzc2tbdu2HTp0YOupIIoKRLfojOhRdlZmzZcazF22Kj4uWRB06MGSITc3d4dDMRp59kBjzCZ5EcaIEsIW7XEcjxBBCGEOS5JEKVVfB57nmUojRDDGlGCTybWEfyBGOCHubmZ62vqVi86fOWS1KiwkxNNTPHvqOCEkS0HpaWnlKlQmhHI8VvcmSxK6PyeKbkffqFS1mqijNhvCCGOMOcznE/GEMUaEqGar+krzgpCeRlNTkyM96mv7BZ4XHA47BVMUyFckclVBrSqoEpVTKZ+JDGj3nGuc0dNb/AaDgUX/5nUUp9V3Ttfl4eFRcI+Cds9Ou2Ue+5zirX5F3RX7IsdxTvHeAIhukQBjllnCGODnoiiiKP4T4kEURSEEYT6vVz3XeSZt95RTtAhROJ632SwIoUsXzsXFxUkOO3tJFIIaNG7ZuEWb7Kz7E6h5lTKlFDkcNvZbPieQy6Xmt7FTRgL0bBNHA8VlkMoVXAULSQifM07DiH/3TB7rNIrOmYPoArk8nTKlsixrpzCf8lHleJ4JpNr9SLIkSQ5JcviUCEAIDf30uzYvN0pLQzx3/3gOO8EYiTqk0+vtdptWCCml+EHcI88j3xIBiuyUFo4tJXq8cAlZlry8sI9viczMdMxhNdcPxxGrxUwpgfcV+M+Py/ELeiYgt//+IBWa4AlGuE/8etitVqZehBBFUXQ6kpQQF33jqq+vv08J36CSpa5fuWC3I4fdYbfLdrtst0qijpNlyWBAJfwCz5w8jhBWyH0HnSDi2NsxzCcsiii4ZKk7t2/ZbZjDHCGEECLqcEz0dYvZLAoiogU9SUqIUYdCw8rt371VlpBOJ7JccQYjt3bFIqvFwglg7wIAAIDoPtPxoyjqXDA2uZhMLoLmP5HjOEo1kcA5DFmn/TxYsIhMLq4J8bEbVi1xceNcXfWubnpXV+7PhbMDAktWiazl46Nv3qbTgtlT01ItHp46o0kwmQRXd/HyxYuZGelWC+rW4+3EhNj9uw8GBIh6veDhoUtNyZz56/ccxxFKOA41adn+2KE9Z04d9ynBG4yij6/h7u2UpX/8znE8xhx92K2Xl4uP53mO58021HvAe/H37nz5yZDs7EwXV53ZnPXx4I9ibl1z9/AkCgRSAQAAPAngXs7VnEWEkOgbVzZuO5yUmMiWDN2XVY6LrFnXzc3LbM42m7OdjODszAxJcvyTSwMjyeHIzEhHCHEYZWVmmFzc/lq3/OKFM63bv6LT6XZsXr9t05oxP8/wLeGdmaEMGjLyyIHdPbu07tVvkK+vX2Zm5v49244c2P3t99P8A1o1ad6qZdvO7/XrNmjIiPIVq929c2vVsj/KhFeIib5OCbVYULNWL7dq/0qfV1t9/Nl34RWqXL10fvf2LaFlyl27fN5ms3IYybKUmZHOArtkWcrISHfyPFNKMzPSCVHsDlShYqXJvy8bN/rjw/t26PR6RZHrNWz27kefT/npW6LA8j4AAAAQ3WeEJNE2L3eNj7s75ovhSLNwlMMcwmjMjzNLhXrVqFXfajEzpcIYKwp1d/ds0qJtmfAKiswsSSQ5aHiFyi3bvmJycVUUVLpMuY5dewwd+c2CWb/9Mes3u93q7uE1a8mG2nXr2W0yQiioZMk/N+5bNGfq8kVzZMnBcXx4xSrT568qV6GK3S5zHPfj1AULZv6ybdOGzetXubh6fDD8i9Jh5QRRDA4Jddgpxnjy70tnT/lp0/pVkmOJweTy7kefBYeUpoQEBAXbrKhajTrNW3cURVGRaVBwaLuOr3p6+SgKZZPWskI9vLzadnw1qGRpSpHNJrV5uVNU4xYXzp7KyswIKlmqdt2I1X+u4wXB3cMTZBd4ouGscw6pnB6mF+ty1EohL9yNeEHPvBiAX9wVIIRSDuMz15P+2Hy5dYMKFUr7OZ5deXa9gXfYc1nVwPMcIZQQKooc5pDDTtS8xyzrE8JIltQPkajjOQ5JDkIpEkSOEMRzyGhCkgNZrbKXt2C1IKtVVtPa8Tzv5o4dDmQxy3q94OaOMjOQJP3jzvX04u02ZLEqrq48pchmoYIOyxJVk8u4e/CyhMwWxd2dlyVkt1NRxJKDEkJ5keN5JEtUUYgg8IKIJAdVFMKuklLE85yow7KEFIVQSg1GHj8oZOuwE08v7ofvvl+xaPb2o5fpMxJdihCPsSQrC/86+XqzMtXCSzz/skIspFxmSJLD4bDb7TabzWq1WiwWq8US1ahRwau4/NeE82mavfDWibIlSdpFSs9B3bVrc/M5pfwvXN1JXntTP3e6RuDJOHzwIKXU1c3NaDAYjEa9Xq/T60VRZDUwntUyNrB0H43VIuW1bp2tDHI4ZO0roa1crcnrhiTNZpJDRggpCNlsCqvznZRo184Ns6XAqSkKxpjjeJtNslgUnhe0Z5KSZGclwjMzHPfraVsph/9JEJ2WamdfT0+zY8xhjGWZchyHMJIlWXJQjuMwRrIsS9JDQ12MESGK1XK/S9XrhbXL/yxdtlytl2pShFxduZvX4xbNndqmQzeTic/KdMDyof/oOB1ju93ORiosEZXFYmHx7QaDgYmBtg6VOl6RJGnDhg21a9cuVaoUS86cmpp64cKF1NRUh8PB83xERIRTGo0nUz6UR/KsZzvssFqtixcvvnPnTteuXSMjI9kV5XUgrdCyJsq1K9dan2o2jJz5pdVCCE925haLZfny5ZcvX+7WrdtLL70EdeyfMyC6ucNGmnl1OwjlUuw25xvyYDPnDXheYOPVnGnY7v8V3Xf+aKeTGbxw/7uakCikXcqkfp2VAUaatbhOJ+P0RfYxS6FDiCLq0O4dG/d9urVpy/aly4Sbs7P/WreiTHilD4aPtlpoIWWCBIq+jbtixQqLxeLq6urq6url5XXq1Ck/Pz+EkN1uZ3n5b9y4sXv3bvaCSJJktVp79+5dokSJe/fuHT58mGUx5Hl+/fr1f/zxh7+/f6tWrTw9PS9evDh//vw6dep8+umnT5M6in1x7dq1QUFBderUQQglJSXt2LFDfa8dDoevr2+7du2esjWSk5NjY2M7d+4cHh7O3sfY2Ni9e/e2a9fOy8vLKSsWx3HHjh07ceJESkpKnTp1WGLkXJtXkqS1a9feu3fPbDb37t3bqRYQK4GwcuXKrKwsURQHDBigLSdcwMbhOK5jx47Tp0/P9TQAEN1/c0T/jL6Cc9ngkUkrcMH/iB+1BS7Azw99yHF8dpby6+yFB3bv2fbX2ps3rhoMxqGjvu7Y9U2e51nWXHhC/oOKazabJ0yYsGbNGjc3NxcXl0mTJkVHR0+cONFqtfI87+rqihDy8/Nr2LAhe0IcDsegQYPatWvn6+t7796927dvswL19+7dW7BgwZgxY1hGYoRQq1atPvzww9KlS7/55ptlypQpiJDkOkMcGxu7efPmX3/99f3332eiy/M8y9wky7KLi8vs2bNDQkLatWv3WBaedmNW0eHixYtJSUk1a9Zkf9q/f/8ff/wRFxfXuHFjreiyH7Zu3bpo0aK2bdu6u7uPHz/e1dU1KipKrcWEHjiN7Xb7Dz/8kJGR0aJFi3379g0fPnzOnDns5NmQPSUlZdiwYWXKlGnUqNGsWbOuXLkyderUxzVV9Xq9wWDw9/fXJnkGQHSBf33MgSxZjqYtm7Zq19RuR6KIOA6lpsiguP9l4uPja9WqVapUKaZwoig2adLEZDLpdDrVbePh4aGmObx+/XrZsmWZst68eVN1NcfFxXl6erq4uDgcDlZjzmq17t+/v3nz5iy9YgEVV6s37IeTJ0/WqFEjIiKC1Tlg9Qc7derEtsnOzt6+ffuQIUOefjx9/fp1VSxTUlLi4+M7dux48OBBVuBIq7jx8fEzZ86cM2eOl5cXQig9PX3RokVRUVFOl8Nx3OrVq9PT0ydOnIgQat++fdOmTc+fP8+KEzOFHjduXPPmzfv27YsQqlOnzrvvvpuYmOjn51fwCXK2ZVxcXFhYWF5lfQEQXeDfgeP5jHQ7ogjfD+sgThPMwH/N0r1161b16tVVUZEkqXLlyujhejUsc4uiKDqdbtasWR07dkxOTiaEJCUldejQgdlzkZGRVatW/fTTT+vUqZOVlVWiRImkpKSkpKRx48ax6nuqaOV1MoqipKenOxVOoJR26NCB1RVg4qduzHb1008/hYeHlypVKmcp2XxCStPT093d3VWnN5M3RVHq1q3L4jA8PDxee+219evXX79+XRAEdecsq8zixYuZz9lqtYqiqK2t9M+7xnEWi2X37t2jRo1CCFksFr1eLwiCw+FQbeubN29aLJbXX3+dDXwtFoufn5/dbn/c+4gQun37dqlSpdzc3BDkqALRBYoU6sQw+w0a5L8susy8S0lJOXv2LBPRu3fvJiYmnj171mazlS5d2s/PTzVAdTrd0qVLrVZrqVKlli1bxnHckSNH3n//fYyxwWBACA0dOhQhdO3atYSEhMDAwJCQkJx17POp1cFx3P79+8uVKxcREaEVaY7jbt68GRISwmrtsallFuJ06tSphISE0aNH51rEPh/tyczMXL16df/+/dU4JlmWs7KyGjRowL7IJDYmJoaNSFT9ZvK8bNmy3377jc37si2dCtmy3V64cOHkyZNly5ZVFEUURVa8iO2KmbkbN2708vIyGo3MWmUBWY+7/IRtf+rUKbvdzoqVgeiC6AIAUPTcHhyHEKpbt+7hw4f//vtvURRLlSrVoEGDmJiYuLi4rKwso9Ho5+fHqloJgvDXX39t2LBh2rRpJpMpPDxckqRNmzZFRETs3Lnz22+/ZXKi0+n0ej0rqCVJksPhwBgHBwf//PPPgYGBlNLz58/HxsaKougkLSxS+uTJkxMnTtyyZYurq6sq9gihO3fuiKLIqtcxRWEqO3r06G+++UZdbKMVvISEhPPnz+cqYBhjm802fvz4oKCgdu3aMf0zm83JycmlS5dGmihiSmndunXVT5g0xsfHV6tWLTw8XF18kpSUxELPnHzCMTEx7du3Rw+WDlJKHQ4HKwrENjt79iwTdVa5Lz09/d69e8zWf1zhvHDhQoUKFVRbHB5vEF0AAIochJDq1atHRkZqa8eqq4OY5rEefNWqVatXr540aRJTPuY9zszM9PDwqFy58k8//SSKotVqNZlMu3fvPnTo0JAhQ5iZSwhxcXFRhaRixYpMrnKaa3a7/ciRI19//bWLi4uTO5oFCTMt53me/Ttjxox69eqxuCet1LEv+vr6Ok2yqgfieX7Pnj0DBgxo1qyZ+t3ExMTjx4/7+voy/UMIORyO69evt27d2kkCY2NjEULs6ljjcBzXuHFj9HCtQ4zx7du33d3dtb9GRkayWCdmlyclJTGHMNvm2rVrlFKj0ShJUsHXkTPr1s/Pr2bNmgh8yyC6AAAUTbTrR7W+WSc/bXR09OLFixMTEydOnOjv78/8qBjjGzduVK1aFSEUGBgoCMLatWv/97//IYT27dsXERHRsGHDXA8qimJecpKRkfH222/7+vrmNMczMzOrVKmCHuSj4Hn+xo0bW7dunTJlipqJyWlvPM/nVW3Q4XCUKlWKqamq6zExMewQ6t6ys7PPnTsXHh6ONEXj2de1onj9+vVz58598MEHOUOfLBYLK0fP9rl8+fLQ0FCTyaQGOdtsNlW2McZHjhzp2bNnXgk0tKMQ1QfAfk5LS5NlmQWsQR17EF0AAIoi169fv3LlCnN75roBz/MvvfTS1q1by5cv/8UXX6AHM6zMFrx69WqNGjXYlrt27Vq5cmX//v0xxomJiSVLlmQZwVQ/Z0FCl/39/XOujGeHE0WRhXcxcSKEzJo1q3v37sHBwdpVOgUfbVSsWNFJI81mM7NWmb5ijGNjY93c3ARBULNksAOVKVMmJSXl9u3bFSpUsNls06ZNa9GiBQtjdrK2y5cvv2HDBkKITqc7c+bM8ePHx44dyxqWHT0sLOzKlSvsoFu2bImJifniiy9yrVziFNGNNG52Fk2dnp5esmRJeKpBdJ8KdWgJvEh3jf0HN67IoyiKGnqT69tnMBh0Ol2/fv1URzH3oNgzQujq1av16tVTFatnz57sr2ySFWkSVxVQCFFu63QxxhkZGVarla0XYlvu3bv37t27EyZMyBmxXBDYjLJ24pbFZDVq1IhdGvvk7t27LVq0UK939+7dVqu1ffv2/v7+HTt2/Oqrr7p06XLixIny5csPGjSIbeBwONq0aaM2VLt27bZu3frFF19UqlRp3759o0aNKleuXGJi4pYtW15++WUfH59hw4aNGjXq559/NhqNly5dGjdunE6nu3Tp0unTp3v06KGeSXZ29rJly7p27ert7f3XX395enpGRUWdPn368uXLr7/+uqIoN27cYDPlT9YgAIguG+FivQ4jJHDFb4oC3y+5gDFCxU6bCEICBxNLLwAVKlRgoTePvqeaGV9VFzdu3KguluV5/tixY3a73Wq1qgG0NputQoUKbdu2ZcZ0QR6JnNnfEEJubm6DBw9m8UfMBCxXrty0adPQw+uaHtfYdfpk3759LBJb/VO9evVYLg72CVvFy1pg0KBBLVu2vHfv3pAhQ0JCQiilZrN53LhxP/zwg3YA4ebm9vvvv//999+EkG7durFUU9nZ2efPn2dNV758+Xnz5p0/f95kMg0aNIi18Pfff8+SfKmDoaysrLNnz7KvnD17NiIiAiEUHR199+5dZhanpqZWrFgRwWD33+rRi0HBg0Vbr9SuEuJi1BFCUXHsve/PyyCCiqU4USQK/IEzMd2bhkVCwYMi7El6AnFSW3jTpk0tWrRgc5bM3SpJknbFqqIoPj4+uYZNFbVGcDgcQ4YMqVChQrdu3UJDQx85RNBuwOZ3//jjj2vXrn333Xf5fDfnn7SfMKf933//PWPGjClTpmgXN+dDWlra2rVrr1279sorr9SpU6dQa068KDz/ggcvvOj+fSVx2Y4rGHNOS9+KkSQhUeAQURTEU0JQcbR3BZ7LNNs/eK1GpVAvEF3g6aUxZ3rIZ6jl7GlJT0/38PBQ1xY7HcWpRhB7xtT0GtnZ2UajMWeKaXWOTGtDM31VDWLtBlarleM4vV7vdIbqV1ivyCae2c/p6ek8z7NcH/CoIKgy9HjjBYQQQv5epr4vVxG4Yuuf1On0p/4+Enf3VpNWHUWep8Uyyh8jRSal/F0RrGEopmiNqnzCL55JB5er2/lZPq0Yi6LolAwrt0onOK/rYkmqc91zrpHVeW2gjXbO9SvaCmbsQ5b7Gvg3bYwXuKPGGCFU0s+1eAfhxd+7e+PCsfT0jKTo081atCr2TyRobrHEaWksDK2eeU8IgOg+JyhFFBXDcABKKYe5zMzM5SvXZGRm642mnXv2uXv61KpVU1EILo6WPQd9BwAAILpF3zDCxS56ivmLFEVet25tfHyc0WiklAo8v2nTXz4+3qVLl4YICAAAgBfSuoAmKKqDCbxly5bLly+z/OYsHZ3D4Vi1alVycjLLHwutBAAAAKILPBVsmePhw4ePHj1qMBhUcWWpatLS0tatW2e328HSBQAAANEFngq2ruD69es7duzImd2NEKLX62/evLllyxYEa9sBAABAdIGnUVyMcXJy8po1axwOB1tdl6vuHj169MCBA+o6PAAAAABEF3g8WDK8VatWpaen56whqkWv12/fvv3ixYswuQsAAACiCzw2hBBZljds2HD79m2W1C1/gxghtGHDhvj4+FwNYgAAAABEF8hTRzmOO3To0OnTp/V6/SONVxbMnJWVtXbtWrPZrK2XCQAAAIDoAvnZuBjjixcv7ty5s+A5fimler3+9u3bGzduhDYEAAAA0QUKdg84Lj4+fsOGDRzHqSm2cyZD127PQAi5uLicPXt2586dYOwCAAAUfaCC8b8Jk8mkpKSFCxcmJyc7BU+xMhc5v2K1Wp30dcuWLSaTqX79+gUsRAoAAACA6P4XwRi7urq++eabOZNdsCleVYkxxrIse3l5tW/f3t3dXauvLG8GgtTnAAAAILpAPoqLEDKZTCaTKedfmbI6mbmiKAYHB+dVGgwAAAAA0QUeQa7TsbIs57qlw+FgFUkLu27of3McBC0JAP/Zdx9E979l8hbkQ6QpRwraUEj34uExEDQyABTnNx5pisM+h7cdopcB4KGhjPbX+4DuAkCxfvH/ef01nUAhrQcBSxcANFCKEGJBbeqrCCuxAKA4iy66r7jaaFanUTiILgAUzhv4YHk0pwG8+ABQXOF5jhCkZj54yOotHEB0AcAZlpnkQZYSzMLWEEKIIorA7gWA4mDg/vPTg/f9+UTJgOgCAEJOk7gPkoKxHGH/5ObECOZ3AaA4IQgCIURNAshefhBdAChcuVWXYN2XW4w5juN5nud5juPOnTkry7LdbpdkWZIkRZYURVEUQohCCCGEIkjACQBFeDTNNJW90SzTnyiKOp1Or9fJsqzT6dibfl96NXYw6xyerQUMogsAzMP0oDKxxs5l72hGerrVarParA6Hw2azSZIkS5Isy7IsE6a6ILoAUHQ1F993WQmiIAqCKOr1er1ebzAYjEaDq5ubIAiaAA7sHM8Mli4AFOr7ydAOio0mI8dzgig4HA69Xi/LsiwxY1dhiguiCwBFFial/7zPgiDqdHqdTq/X6fR6QRD4B2COQ4U/swuiCwAPjYi1MDeUas5q9ZgpLoguALwoosveaEEQdDqd+DBOL36hBlWB6AIAQg8WwmvDqARBoJSq3mOt3MqyrCgKIZRSQijM6QJAER5PcxyHMZu05XlBEHhBEAWBF3U6pr5MidVpXVTIyf5AdAHgH0tXnf6hlIoPizHP87IsC4JEKJFlhd43cxFYugBQxC1dhBDPYY7jOEE7cfSQycs9CJx0mtB95gIMogsASE2IQSm9/4ryPKJUEASMEIuokiRJEARFFFnUMiXaCV1YRwQARfbtRhhz7EVWlZXneWbjsn/Vz53CqcDSBYBCV99/pFcQ0IN0rGp4M4ufYloLE7oA8EK81KoTS53cVYOn7juWH7ZxC2OlEIguAOT+cqKHcy//o8QPluWq8VNsiRGILgAU8fdafYudgiWZ3PI5zFxUmNO6ILoAcP/NVMe27M1UXzzCcUxoeUq1Ectg5gLAi2Xs/mPycrmgvv4QvQwAhS632kEx8zBjjBVFYUNgrTOZEMLClf+RXJBeACjipi77/wPRRQ+KmmjXCuaU28KQXhBdAMjF2FUHvKrWMunVGrhg5gLAi6W8OA9yzigV3pmA6BZdtGE77DlgCRmgZQrP2M0r56pWaDX2LYguALyQuss+yVnOr7DNXBDdIo1er3dzcxNFUdUDWZZNJhOG+q6FqbtOiqvWtc7VugXdBYAXRW5zqq/TX5+D4iKEMPQaAJCPiBbkEwAAXlABLuAnILoA8G8qMQAAxVWDC/2I0KEAAAAAwPOBgyYAAAAAABBdAAAAAADRBQAAAAAARBcAAAAAQHQBAAAAAEQXAAAAAAAQXQAAAAAA0QUAAAAAAEQXAAAAAEB0AQAAAABEFwAAAAAAEF0AAAAAANEFAAAAAABEFwAAAABAdAEAAAAARBcAAAAAABBdAAAAAADRBQAAAAAARBcAAAAAQHQBAAAAAEQXAAAAAAAQXQAAAAAA0QUAAAAAAEQXAAAAAEB0AQAAAABEFwAAAAAAEF0AAAAAANEFAAAAAOCx+D8rD+x63FevXgAAAABJRU5ErkJggg==)\n",
    "\n",
    "모델은 tf.keras.Model을 Subclassing하는 방식으로 만들 것이다. 위 그림에서 설명한 것처럼 모델에는 1개의 Embedding 레이어, 2개의 LSTM 레이어, 1개의 Dense 레이어로 구성된다."
   ]
  },
  {
   "cell_type": "code",
   "execution_count": 11,
   "id": "abandoned-craft",
   "metadata": {},
   "outputs": [],
   "source": [
    "class TextGenerator(tf.keras.Model):\n",
    "    def __init__(self, vocab_size, embedding_size, hidden_size):\n",
    "        super(TextGenerator, self).__init__()\n",
    "        \n",
    "        self.embedding = tf.keras.layers.Embedding(vocab_size, embedding_size)\n",
    "        self.rnn_1 = tf.keras.layers.LSTM(hidden_size, return_sequences=True)\n",
    "        self.rnn_2 = tf.keras.layers.LSTM(hidden_size, return_sequences=True)\n",
    "        self.linear = tf.keras.layers.Dense(vocab_size)\n",
    "        \n",
    "    def call(self, x):\n",
    "        out = self.embedding(x)\n",
    "        out = self.rnn_1(out)\n",
    "        out = self.rnn_2(out)\n",
    "        out = self.linear(out)\n",
    "        \n",
    "        return out\n",
    "    \n",
    "embedding_size = 256\n",
    "hidden_size = 1024\n",
    "model = TextGenerator(tokenizer.num_words + 1, embedding_size , hidden_size)"
   ]
  },
  {
   "cell_type": "markdown",
   "id": "another-stuart",
   "metadata": {},
   "source": [
    "위 코드에서 `embedding_size` 는 워드 벡터의 차원수, 즉 단어가 추상적으로 표현되는 크기이다. 만약 그 크기가 2라면 예를 들어\n",
    "* 차갑다: [0.0, 1.0]\n",
    "* 뜨겁다: [1.0, 0.0]\n",
    "* 미지근하다: [0.5, 0.5]\n",
    "\n",
    "요런식으로 구분할 수 있다.\n",
    "\n",
    "값이 커질수록 단어의 추상적인 특징들을 더 잡아낼 수 있지만, 그만큼 충분한 데이터가 주어지지 않으면 __오히려 혼란만을 야기__할 수 있다.<br>\n",
    "LSTM 레이어의 hidden state 의 차원수인 `hidden_size` 도 같은 개념이다."
   ]
  },
  {
   "cell_type": "code",
   "execution_count": 12,
   "id": "legendary-significance",
   "metadata": {},
   "outputs": [
    {
     "data": {
      "text/plain": [
       "<tf.Tensor: shape=(256, 20, 7001), dtype=float32, numpy=\n",
       "array([[[-1.86524630e-04, -9.23087573e-05, -4.21900550e-05, ...,\n",
       "          2.66193703e-04, -2.14425425e-04,  2.81080633e-04],\n",
       "        [-2.88872223e-04, -3.09472933e-04, -1.79014587e-05, ...,\n",
       "          3.52602015e-04, -4.72354732e-04,  4.43382654e-04],\n",
       "        [-6.83938270e-04, -3.76970042e-04,  8.66845294e-05, ...,\n",
       "          8.19710898e-04, -6.22885767e-04,  7.66251818e-04],\n",
       "        ...,\n",
       "        [-1.74506230e-03, -4.47066443e-04, -1.35725946e-03, ...,\n",
       "          2.07451731e-03, -2.67890352e-03,  1.89307588e-03],\n",
       "        [-2.11501704e-03, -7.07514235e-04, -1.71606313e-03, ...,\n",
       "          2.19977484e-03, -3.07550118e-03,  2.72542797e-03],\n",
       "        [-2.45350902e-03, -9.77066113e-04, -2.01623607e-03, ...,\n",
       "          2.29292526e-03, -3.44800157e-03,  3.49156791e-03]],\n",
       "\n",
       "       [[-1.86524630e-04, -9.23087573e-05, -4.21900550e-05, ...,\n",
       "          2.66193703e-04, -2.14425425e-04,  2.81080633e-04],\n",
       "        [-2.07824734e-04, -4.98488953e-04, -1.26760584e-04, ...,\n",
       "          1.41564495e-04, -4.24255768e-06,  5.58265543e-04],\n",
       "        [ 3.05756203e-06, -6.73075265e-04,  1.66950573e-04, ...,\n",
       "          3.92056332e-04,  4.01360856e-04,  1.09491101e-03],\n",
       "        ...,\n",
       "        [-1.98780699e-03, -1.03093346e-03, -2.63464544e-03, ...,\n",
       "          2.29657977e-03, -3.44177126e-03,  4.93217027e-03],\n",
       "        [-2.35033967e-03, -1.31956965e-03, -2.82166153e-03, ...,\n",
       "          2.32612295e-03, -3.79141490e-03,  5.47434716e-03],\n",
       "        [-2.66613532e-03, -1.57917757e-03, -2.96930037e-03, ...,\n",
       "          2.33603059e-03, -4.11127508e-03,  5.93560701e-03]],\n",
       "\n",
       "       [[-1.86524630e-04, -9.23087573e-05, -4.21900550e-05, ...,\n",
       "          2.66193703e-04, -2.14425425e-04,  2.81080633e-04],\n",
       "        [-3.92292888e-04, -4.63302393e-04, -3.41832987e-04, ...,\n",
       "          5.92035125e-04, -6.92265632e-04,  7.67693855e-04],\n",
       "        [-4.41192358e-04, -6.19898085e-04, -4.61286021e-04, ...,\n",
       "          7.69695209e-04, -1.13201758e-03,  8.11478822e-04],\n",
       "        ...,\n",
       "        [-1.12784351e-03, -9.23821121e-04, -2.19980557e-03, ...,\n",
       "          2.11966573e-03, -2.56797089e-03,  3.33075575e-03],\n",
       "        [-1.55296584e-03, -1.23904226e-03, -2.48832651e-03, ...,\n",
       "          2.18281639e-03, -2.99945311e-03,  4.08030907e-03],\n",
       "        [-1.93940708e-03, -1.52710325e-03, -2.71458086e-03, ...,\n",
       "          2.22108699e-03, -3.40509508e-03,  4.73815110e-03]],\n",
       "\n",
       "       ...,\n",
       "\n",
       "       [[-1.86524630e-04, -9.23087573e-05, -4.21900550e-05, ...,\n",
       "          2.66193703e-04, -2.14425425e-04,  2.81080633e-04],\n",
       "        [ 5.63722415e-06, -9.29697781e-05,  7.26605504e-05, ...,\n",
       "          5.40129957e-04, -3.92677786e-04,  4.85772529e-04],\n",
       "        [ 1.64487585e-06, -2.37033411e-04,  5.17321052e-04, ...,\n",
       "          6.42466242e-04,  2.57186857e-05,  3.83284787e-04],\n",
       "        ...,\n",
       "        [-2.17122678e-03, -1.42237288e-03, -2.01113382e-03, ...,\n",
       "          3.28500988e-03, -3.34407296e-03,  5.01029799e-03],\n",
       "        [-2.46763020e-03, -1.63469184e-03, -2.25681416e-03, ...,\n",
       "          3.20111820e-03, -3.74285597e-03,  5.54406736e-03],\n",
       "        [-2.72568851e-03, -1.83225737e-03, -2.45429110e-03, ...,\n",
       "          3.10471421e-03, -4.10678191e-03,  5.99745102e-03]],\n",
       "\n",
       "       [[-1.86524630e-04, -9.23087573e-05, -4.21900550e-05, ...,\n",
       "          2.66193703e-04, -2.14425425e-04,  2.81080633e-04],\n",
       "        [-2.29339385e-05, -3.62397521e-04,  6.73163304e-05, ...,\n",
       "          1.39803553e-04, -2.39379733e-04,  1.27163250e-04],\n",
       "        [ 1.98006455e-04, -4.44672653e-04,  6.76999116e-05, ...,\n",
       "         -4.49965992e-05, -9.71464324e-05,  1.91223051e-04],\n",
       "        ...,\n",
       "        [-3.10872402e-03, -1.49959873e-03, -3.36027145e-03, ...,\n",
       "          2.34995899e-03, -4.52460721e-03,  6.67743804e-03],\n",
       "        [-3.28207761e-03, -1.73369842e-03, -3.39066004e-03, ...,\n",
       "          2.35997583e-03, -4.79390146e-03,  6.94363797e-03],\n",
       "        [-3.42223025e-03, -1.94027426e-03, -3.40177864e-03, ...,\n",
       "          2.36127712e-03, -5.03868051e-03,  7.16527319e-03]],\n",
       "\n",
       "       [[-1.86524630e-04, -9.23087573e-05, -4.21900550e-05, ...,\n",
       "          2.66193703e-04, -2.14425425e-04,  2.81080633e-04],\n",
       "        [ 6.91438690e-05,  1.61438977e-04, -1.08311426e-04, ...,\n",
       "          4.98746114e-04, -5.58598986e-05,  2.72372708e-04],\n",
       "        [ 2.07224090e-04,  4.80623712e-04, -4.47347527e-04, ...,\n",
       "          4.16729075e-04,  2.92018758e-05,  1.57218910e-05],\n",
       "        ...,\n",
       "        [-2.37348140e-03,  1.83047217e-04, -1.97451981e-03, ...,\n",
       "          1.96211855e-03, -3.42252618e-03,  4.42002993e-03],\n",
       "        [-2.65177176e-03, -1.49611631e-04, -2.26074597e-03, ...,\n",
       "          2.09775101e-03, -3.74613306e-03,  5.00887446e-03],\n",
       "        [-2.89556547e-03, -4.81919822e-04, -2.49600224e-03, ...,\n",
       "          2.19000783e-03, -4.04196326e-03,  5.52371098e-03]]],\n",
       "      dtype=float32)>"
      ]
     },
     "execution_count": 12,
     "metadata": {},
     "output_type": "execute_result"
    }
   ],
   "source": [
    "for src_sample, tgt_sample in dataset.take(1): break\n",
    "model(src_sample)"
   ]
  },
  {
   "cell_type": "markdown",
   "id": "japanese-platform",
   "metadata": {},
   "source": [
    "모델의 최종 출력 텐서 shape이 `shape=(256, 20, 7001)`이다. 7001은 Dense 레이어의 출력 차원수이다. 7001개의 단어 중 어느 단어의 확률이 가장 높을지를 모델링하기 때문이다.<br>\n",
    "256은 배치 사이즈이다. `dataset.take(1)`를 통해서 1개의 배치, 즉 256개의 문장 데이터를 가져온 것이다.<br>\n",
    "20은 데이터셋의 max_len을 나타낸다."
   ]
  },
  {
   "cell_type": "code",
   "execution_count": 13,
   "id": "rolled-marsh",
   "metadata": {},
   "outputs": [
    {
     "name": "stdout",
     "output_type": "stream",
     "text": [
      "Model: \"text_generator\"\n",
      "_________________________________________________________________\n",
      "Layer (type)                 Output Shape              Param #   \n",
      "=================================================================\n",
      "embedding (Embedding)        multiple                  1792256   \n",
      "_________________________________________________________________\n",
      "lstm (LSTM)                  multiple                  5246976   \n",
      "_________________________________________________________________\n",
      "lstm_1 (LSTM)                multiple                  8392704   \n",
      "_________________________________________________________________\n",
      "dense (Dense)                multiple                  7176025   \n",
      "=================================================================\n",
      "Total params: 22,607,961\n",
      "Trainable params: 22,607,961\n",
      "Non-trainable params: 0\n",
      "_________________________________________________________________\n"
     ]
    }
   ],
   "source": [
    "model.summary()"
   ]
  },
  {
   "cell_type": "markdown",
   "id": "square-firewall",
   "metadata": {},
   "source": [
    "모델을 학습해보자."
   ]
  },
  {
   "cell_type": "code",
   "execution_count": 14,
   "id": "gross-geography",
   "metadata": {},
   "outputs": [
    {
     "name": "stdout",
     "output_type": "stream",
     "text": [
      "Epoch 1/30\n",
      "93/93 [==============================] - 26s 277ms/step - loss: 3.4911\n",
      "Epoch 2/30\n",
      "93/93 [==============================] - 25s 269ms/step - loss: 2.8075\n",
      "Epoch 3/30\n",
      "93/93 [==============================] - 25s 270ms/step - loss: 2.7143\n",
      "Epoch 4/30\n",
      "93/93 [==============================] - 25s 271ms/step - loss: 2.6158\n",
      "Epoch 5/30\n",
      "93/93 [==============================] - 25s 270ms/step - loss: 2.5482\n",
      "Epoch 6/30\n",
      "93/93 [==============================] - 25s 271ms/step - loss: 2.4963\n",
      "Epoch 7/30\n",
      "93/93 [==============================] - 25s 273ms/step - loss: 2.4408\n",
      "Epoch 8/30\n",
      "93/93 [==============================] - 26s 278ms/step - loss: 2.3915\n",
      "Epoch 9/30\n",
      "93/93 [==============================] - 25s 274ms/step - loss: 2.3446\n",
      "Epoch 10/30\n",
      "93/93 [==============================] - 25s 274ms/step - loss: 2.3021\n",
      "Epoch 11/30\n",
      "93/93 [==============================] - 26s 274ms/step - loss: 2.2609\n",
      "Epoch 12/30\n",
      "93/93 [==============================] - 26s 275ms/step - loss: 2.2178\n",
      "Epoch 13/30\n",
      "93/93 [==============================] - 26s 275ms/step - loss: 2.1760\n",
      "Epoch 14/30\n",
      "93/93 [==============================] - 26s 274ms/step - loss: 2.1349\n",
      "Epoch 15/30\n",
      "93/93 [==============================] - 26s 276ms/step - loss: 2.0956\n",
      "Epoch 16/30\n",
      "93/93 [==============================] - 26s 276ms/step - loss: 2.0544\n",
      "Epoch 17/30\n",
      "93/93 [==============================] - 26s 276ms/step - loss: 2.0155\n",
      "Epoch 18/30\n",
      "93/93 [==============================] - 26s 280ms/step - loss: 1.9752\n",
      "Epoch 19/30\n",
      "93/93 [==============================] - 27s 286ms/step - loss: 1.9354\n",
      "Epoch 20/30\n",
      "93/93 [==============================] - 27s 295ms/step - loss: 1.8958\n",
      "Epoch 21/30\n",
      "93/93 [==============================] - 26s 277ms/step - loss: 1.8581\n",
      "Epoch 22/30\n",
      "93/93 [==============================] - 26s 275ms/step - loss: 1.8169\n",
      "Epoch 23/30\n",
      "93/93 [==============================] - 26s 275ms/step - loss: 1.7761\n",
      "Epoch 24/30\n",
      "93/93 [==============================] - 26s 275ms/step - loss: 1.7389\n",
      "Epoch 25/30\n",
      "93/93 [==============================] - 26s 275ms/step - loss: 1.7015\n",
      "Epoch 26/30\n",
      "93/93 [==============================] - 26s 275ms/step - loss: 1.6596\n",
      "Epoch 27/30\n",
      "93/93 [==============================] - 25s 266ms/step - loss: 1.6195\n",
      "Epoch 28/30\n",
      "93/93 [==============================] - 13s 142ms/step - loss: 1.5806\n",
      "Epoch 29/30\n",
      "93/93 [==============================] - 13s 139ms/step - loss: 1.5416\n",
      "Epoch 30/30\n",
      "93/93 [==============================] - 13s 139ms/step - loss: 1.5025\n"
     ]
    },
    {
     "data": {
      "text/plain": [
       "<tensorflow.python.keras.callbacks.History at 0x7f4013c48090>"
      ]
     },
     "execution_count": 14,
     "metadata": {},
     "output_type": "execute_result"
    }
   ],
   "source": [
    "optimizer = tf.keras.optimizers.Adam()\n",
    "loss = tf.keras.losses.SparseCategoricalCrossentropy(\n",
    "    from_logits=True,\n",
    "    reduction='none'\n",
    ")\n",
    "\n",
    "model.compile(loss=loss, optimizer=optimizer)\n",
    "model.fit(dataset, epochs=30)"
   ]
  },
  {
   "cell_type": "markdown",
   "id": "ready-sarah",
   "metadata": {},
   "source": [
    "# (3) 잘 만들어졌는지 평가하기\n",
    "작문 모델을 평가하는 가장 확실한 방법은 작문을 시켜보고 직접 평가하는 것이다. `generate_text` 함수는 모델에게 시작 문장을 전달하면 모델이 시작 문장을 바탕으로 작문을 진행하게 한다."
   ]
  },
  {
   "cell_type": "code",
   "execution_count": 16,
   "id": "secure-poland",
   "metadata": {},
   "outputs": [],
   "source": [
    "def generate_text(model, tokenizer, init_sentence=\"<start>\", max_len=20):\n",
    "    # 테스트를 위해서 입력받은 init_sentence도 일단 텐서로 변환합니다.\n",
    "    test_input = tokenizer.texts_to_sequences([init_sentence])\n",
    "    test_tensor = tf.convert_to_tensor(test_input, dtype=tf.int64)\n",
    "    end_token = tokenizer.word_index[\"<end>\"]\n",
    "\n",
    "    # 텍스트를 실제로 생성할때는 루프를 돌면서 단어 하나씩 생성해야 합니다. \n",
    "    while True:\n",
    "        predict = model(test_tensor)  # 입력받은 문장의 텐서를 입력합니다. \n",
    "        predict_word = tf.argmax(tf.nn.softmax(predict, axis=-1), axis=-1)[:, -1]   # 우리 모델이 예측한 마지막 단어가 바로 새롭게 생성한 단어가 됩니다. \n",
    "\n",
    "        # 우리 모델이 새롭게 예측한 단어를 입력 문장의 뒤에 붙여 줍니다. \n",
    "        test_tensor = tf.concat([test_tensor, \n",
    "                                 tf.expand_dims(predict_word, axis=0)], axis=-1)\n",
    "\n",
    "        # 우리 모델이 <end>를 예측했거나, max_len에 도달하지 않았다면  while 루프를 또 돌면서 다음 단어를 예측해야 합니다.\n",
    "        if predict_word.numpy()[0] == end_token: break\n",
    "        if test_tensor.shape[1] >= max_len: break\n",
    "\n",
    "    generated = \"\"\n",
    "    # 생성된 tensor 안에 있는 word index를 tokenizer.index_word 사전을 통해 실제 단어로 하나씩 변환합니다. \n",
    "    for word_index in test_tensor[0].numpy():\n",
    "        generated += tokenizer.index_word[word_index] + \" \"\n",
    "\n",
    "    return generated   # 이것이 최종적으로 모델이 생성한 자연어 문장입니다."
   ]
  },
  {
   "cell_type": "markdown",
   "id": "pregnant-charm",
   "metadata": {},
   "source": [
    "문장 생성 함수 실행하기"
   ]
  },
  {
   "cell_type": "code",
   "execution_count": 18,
   "id": "passing-turner",
   "metadata": {},
   "outputs": [
    {
     "data": {
      "text/plain": [
       "'<start> she is not lolling on a lewd day bed , <end> '"
      ]
     },
     "execution_count": 18,
     "metadata": {},
     "output_type": "execute_result"
    }
   ],
   "source": [
    "generate_text(model, tokenizer, init_sentence=\"<start> she\")"
   ]
  },
  {
   "cell_type": "code",
   "execution_count": null,
   "id": "supported-productivity",
   "metadata": {},
   "outputs": [],
   "source": []
  }
 ],
 "metadata": {
  "kernelspec": {
   "display_name": "aiffel",
   "language": "python",
   "name": "aiffel"
  },
  "language_info": {
   "codemirror_mode": {
    "name": "ipython",
    "version": 3
   },
   "file_extension": ".py",
   "mimetype": "text/x-python",
   "name": "python",
   "nbconvert_exporter": "python",
   "pygments_lexer": "ipython3",
   "version": "3.7.9"
  }
 },
 "nbformat": 4,
 "nbformat_minor": 5
}
