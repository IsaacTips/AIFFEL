{
 "cells": [
  {
   "cell_type": "markdown",
   "id": "isolated-belize",
   "metadata": {},
   "source": [
    "# 13. 프로젝트 : This is your playground! Leaderboard를 정복해 주세요!\n",
    "자, 이제 여러분이 직접 다양한 하이퍼 파라미터를 튜닝하며 최적의 조합을 찾아볼 차례이다.\n",
    "\n",
    "여기서 잠깐, 물론 캐글에서의 성적 또는 모델의 성능을 최대화 하기 위한 방법에는 하이퍼 파라미터 튜닝만 있는 것은 절대 아니다.<br>\n",
    "앞선 과정에서 배웠거나 앞으로 배울 내용에서도 다루듯 모델의 성능을 최적화하는 방법은 매우 많고 지금도 끊임없이 연구되고 있다.\n",
    "\n",
    "예를 들면 가장 기본적으로는 데이터를 깊게 탐색하는 __EDA__ 과정을 통해 불필요한 피처를 골라내거나 적절하게 피처를 수정하는 등의 피처 엔지니어링을 진행함으로써 데이터를 정제하는 것이 매우 중요하다. 데이터가 무엇이냐에 따라, 그리고 그 데이터를 어떻게 정제하느냐에 따라 모델의 파라미터를 튜닝하는 것만으로는 절대 얻을 수 없는 성능 향상이 이루어질 수 있다.\n",
    "\n",
    "이렇게 다양한 방법론 중 하이퍼 파라미터 튜닝에 집중해서 모델의 성능을 최대한 끌어올려보지만, 튜닝은 최적화 방법 중 하나일 뿐이라는 것을 잊지 말아야 한다."
   ]
  },
  {
   "cell_type": "markdown",
   "id": "twelve-longitude",
   "metadata": {},
   "source": [
    "### 여기서 사용한 코드들의 해설은 github에 따로 올렸다.\n",
    "\n",
    "[링크는 요기!!](https://github.com/IsaacTips/AIFFEL/blob/master/Exploration/P9_kaggle/P9_kaggle.ipynb)"
   ]
  },
  {
   "cell_type": "markdown",
   "id": "negative-rover",
   "metadata": {},
   "source": [
    "### ✓ 튜닝해볼 수 있는 모델 클래스 인자\n",
    "---\n",
    "대표적으로 자주 튜닝하는 lightgbm 라이브러리의 인자는 다음과 같다.\n",
    "\n",
    "* `max_depth` : 의사 결정 나무의 깊이, 정수 사용\n",
    "* `learning_rate` : 한 스텝에 이동하는 양을 결정하는 파라미터, 보통 0.0001~0.1 사이의 실수 사용\n",
    "* `n_estimators` : 사용하는 개별 모델의 개수, 보통 50~100 이상의 정수 사용\n",
    "* `num_leaves` : 하나의 LightGBM 트리가 가질 수 있는 최대 잎의 수\n",
    "* `boosting_type` : 부스팅 방식, gbdt, rf 등의 문자열 입력\n",
    "\n",
    "위에서 `n_estimators`와 `max_depth` 에 대해서만 아주 간단하게 실험했지만, 훨씬 더 다양하게 실험을 하며 최적의 조합을 찾아볼 수 있다.\n",
    "실제로 lightgbm에 넣을 수 있는 인자는 아래 자료들에서 설명하는 것처럼 매우 다양하다.\n",
    "\n",
    "* [lightGBM / XGBoost 파라미터 설명](http://machinelearningkorea.com/2019/09/29/lightgbm-%ED%8C%8C%EB%9D%BC%EB%AF%B8%ED%84%B0/)\n",
    "* [Chapter 4. 분류 - LightGBM](https://injo.tistory.com/48)\n",
    "\n",
    "위의 자료 외에도 `lightgbm`, `xgboost` 하이퍼 파라미터 튜닝 키워드로 검색해보면 다양한 하이퍼 파라미터의 종류를 확인할 수 있다.\n",
    "\n",
    "실험 과정에서는 물론 위에서 만들었던 `my_GridSearch()`, `save_submission()` 등의 함수를 사용해도 되고, 새로운 함수를 사용해도 된다."
   ]
  },
  {
   "cell_type": "markdown",
   "id": "sound-screw",
   "metadata": {},
   "source": [
    "### ✓ 시도해볼 수 있는 방법\n",
    "---\n",
    "시도해볼 수 있는 방법은 다음과 같은 것들이 있다.\n",
    "\n",
    "* 기존에 있는 데이터의 피처를 모델을 보다 잘 표현할 수 있는 형태로 처리하기 (피처 엔지니어링)\n",
    "* LGBMRegressor, XGBRegressor, RandomForestRegressor 세 가지 이상의 다양한 모델에 대해 하이퍼 파라미터 튜닝하기\n",
    "* 다양한 하이퍼 파라미터에 대해 그리드 탐색을 시도해서 최적의 조합을 찾아보기\n",
    "* Baseline 커널에서 활용했던 블렌딩 방법 활용하기\n",
    "\n",
    "물론 이 외에도 좋은 아이디어가 있다면 당연히 시도해보는 것도 좋다. 자유롭게 여러 가지 방법을 활용해서 점수를 끌어올려 보자.<br>\n",
    "참고로, 진행하면서 도움이 될 수 있는 가장 좋은 자료는 이미 대회를 진행한 사람들이 올려둔 커널이다.\n",
    "\n",
    "* [https://www.kaggle.com/c/2019-2nd-ml-month-with-kakr/notebooks](https://www.kaggle.com/c/2019-2nd-ml-month-with-kakr/notebooks)\n",
    "\n",
    "아주 다양하게 데이터를 탐색해 본 커널도 있고, 상위권을 달성한 커널은 오늘 다루지 않은 스태킹 앙상블(stacking ensemble) 등의 기법을 활용한 커널을 활용하기도 한다. 한 번씩 구경해보고 다른 사람들은 어떤 전략으로 성능을 끌어올렸는지 공부해보는 것도 매우 좋다.\n"
   ]
  },
  {
   "cell_type": "markdown",
   "id": "acute-fetish",
   "metadata": {},
   "source": [
    "## 필요한 라이브러리 import 하기"
   ]
  },
  {
   "cell_type": "code",
   "execution_count": 1,
   "id": "anticipated-sessions",
   "metadata": {
    "ExecuteTime": {
     "end_time": "2021-02-18T10:15:31.440804Z",
     "start_time": "2021-02-18T10:15:30.683164Z"
    }
   },
   "outputs": [],
   "source": [
    "import warnings\n",
    "warnings.filterwarnings(\"ignore\")\n",
    "\n",
    "import os\n",
    "from os.path import join\n",
    "\n",
    "import pandas as pd\n",
    "import numpy as np\n",
    "\n",
    "import missingno as msno\n",
    "\n",
    "from sklearn.ensemble import GradientBoostingRegressor\n",
    "from sklearn.model_selection import KFold, cross_val_score\n",
    "import xgboost as xgb\n",
    "import lightgbm as lgb\n",
    "\n",
    "import matplotlib.pyplot as plt\n",
    "%matplotlib inline\n",
    "%config InlineBackend.figure_format = 'retina'\n",
    "\n",
    "import seaborn as sns"
   ]
  },
  {
   "cell_type": "markdown",
   "id": "equivalent-mathematics",
   "metadata": {},
   "source": [
    "## 데이터 경로 지정하기"
   ]
  },
  {
   "cell_type": "code",
   "execution_count": 2,
   "id": "processed-playing",
   "metadata": {
    "ExecuteTime": {
     "end_time": "2021-02-18T10:15:31.480373Z",
     "start_time": "2021-02-18T10:15:31.442172Z"
    }
   },
   "outputs": [],
   "source": [
    "data_dir = os.getenv('HOME')+'/AIFFEL/Exploration/E9_kaggle/kaggle-kakr-housing-data/data'\n",
    "\n",
    "train_data_path = join(data_dir, 'train.csv')\n",
    "test_data_path = join(data_dir, 'test.csv') \n",
    "\n",
    "train = pd.read_csv(train_data_path)\n",
    "test = pd.read_csv(test_data_path)"
   ]
  },
  {
   "cell_type": "markdown",
   "id": "distributed-savage",
   "metadata": {},
   "source": [
    "## 데이터 불러오기"
   ]
  },
  {
   "cell_type": "code",
   "execution_count": 3,
   "id": "legal-iraqi",
   "metadata": {
    "ExecuteTime": {
     "end_time": "2021-02-18T10:15:31.510567Z",
     "start_time": "2021-02-18T10:15:31.481627Z"
    }
   },
   "outputs": [
    {
     "data": {
      "text/html": [
       "<div>\n",
       "<style scoped>\n",
       "    .dataframe tbody tr th:only-of-type {\n",
       "        vertical-align: middle;\n",
       "    }\n",
       "\n",
       "    .dataframe tbody tr th {\n",
       "        vertical-align: top;\n",
       "    }\n",
       "\n",
       "    .dataframe thead th {\n",
       "        text-align: right;\n",
       "    }\n",
       "</style>\n",
       "<table border=\"1\" class=\"dataframe\">\n",
       "  <thead>\n",
       "    <tr style=\"text-align: right;\">\n",
       "      <th></th>\n",
       "      <th>id</th>\n",
       "      <th>date</th>\n",
       "      <th>price</th>\n",
       "      <th>bedrooms</th>\n",
       "      <th>bathrooms</th>\n",
       "      <th>sqft_living</th>\n",
       "      <th>sqft_lot</th>\n",
       "      <th>floors</th>\n",
       "      <th>waterfront</th>\n",
       "      <th>view</th>\n",
       "      <th>...</th>\n",
       "      <th>grade</th>\n",
       "      <th>sqft_above</th>\n",
       "      <th>sqft_basement</th>\n",
       "      <th>yr_built</th>\n",
       "      <th>yr_renovated</th>\n",
       "      <th>zipcode</th>\n",
       "      <th>lat</th>\n",
       "      <th>long</th>\n",
       "      <th>sqft_living15</th>\n",
       "      <th>sqft_lot15</th>\n",
       "    </tr>\n",
       "  </thead>\n",
       "  <tbody>\n",
       "    <tr>\n",
       "      <th>0</th>\n",
       "      <td>0</td>\n",
       "      <td>20141013T000000</td>\n",
       "      <td>221900.0</td>\n",
       "      <td>3</td>\n",
       "      <td>1.00</td>\n",
       "      <td>1180</td>\n",
       "      <td>5650</td>\n",
       "      <td>1.0</td>\n",
       "      <td>0</td>\n",
       "      <td>0</td>\n",
       "      <td>...</td>\n",
       "      <td>7</td>\n",
       "      <td>1180</td>\n",
       "      <td>0</td>\n",
       "      <td>1955</td>\n",
       "      <td>0</td>\n",
       "      <td>98178</td>\n",
       "      <td>47.5112</td>\n",
       "      <td>-122.257</td>\n",
       "      <td>1340</td>\n",
       "      <td>5650</td>\n",
       "    </tr>\n",
       "    <tr>\n",
       "      <th>1</th>\n",
       "      <td>1</td>\n",
       "      <td>20150225T000000</td>\n",
       "      <td>180000.0</td>\n",
       "      <td>2</td>\n",
       "      <td>1.00</td>\n",
       "      <td>770</td>\n",
       "      <td>10000</td>\n",
       "      <td>1.0</td>\n",
       "      <td>0</td>\n",
       "      <td>0</td>\n",
       "      <td>...</td>\n",
       "      <td>6</td>\n",
       "      <td>770</td>\n",
       "      <td>0</td>\n",
       "      <td>1933</td>\n",
       "      <td>0</td>\n",
       "      <td>98028</td>\n",
       "      <td>47.7379</td>\n",
       "      <td>-122.233</td>\n",
       "      <td>2720</td>\n",
       "      <td>8062</td>\n",
       "    </tr>\n",
       "    <tr>\n",
       "      <th>2</th>\n",
       "      <td>2</td>\n",
       "      <td>20150218T000000</td>\n",
       "      <td>510000.0</td>\n",
       "      <td>3</td>\n",
       "      <td>2.00</td>\n",
       "      <td>1680</td>\n",
       "      <td>8080</td>\n",
       "      <td>1.0</td>\n",
       "      <td>0</td>\n",
       "      <td>0</td>\n",
       "      <td>...</td>\n",
       "      <td>8</td>\n",
       "      <td>1680</td>\n",
       "      <td>0</td>\n",
       "      <td>1987</td>\n",
       "      <td>0</td>\n",
       "      <td>98074</td>\n",
       "      <td>47.6168</td>\n",
       "      <td>-122.045</td>\n",
       "      <td>1800</td>\n",
       "      <td>7503</td>\n",
       "    </tr>\n",
       "    <tr>\n",
       "      <th>3</th>\n",
       "      <td>3</td>\n",
       "      <td>20140627T000000</td>\n",
       "      <td>257500.0</td>\n",
       "      <td>3</td>\n",
       "      <td>2.25</td>\n",
       "      <td>1715</td>\n",
       "      <td>6819</td>\n",
       "      <td>2.0</td>\n",
       "      <td>0</td>\n",
       "      <td>0</td>\n",
       "      <td>...</td>\n",
       "      <td>7</td>\n",
       "      <td>1715</td>\n",
       "      <td>0</td>\n",
       "      <td>1995</td>\n",
       "      <td>0</td>\n",
       "      <td>98003</td>\n",
       "      <td>47.3097</td>\n",
       "      <td>-122.327</td>\n",
       "      <td>2238</td>\n",
       "      <td>6819</td>\n",
       "    </tr>\n",
       "    <tr>\n",
       "      <th>4</th>\n",
       "      <td>4</td>\n",
       "      <td>20150115T000000</td>\n",
       "      <td>291850.0</td>\n",
       "      <td>3</td>\n",
       "      <td>1.50</td>\n",
       "      <td>1060</td>\n",
       "      <td>9711</td>\n",
       "      <td>1.0</td>\n",
       "      <td>0</td>\n",
       "      <td>0</td>\n",
       "      <td>...</td>\n",
       "      <td>7</td>\n",
       "      <td>1060</td>\n",
       "      <td>0</td>\n",
       "      <td>1963</td>\n",
       "      <td>0</td>\n",
       "      <td>98198</td>\n",
       "      <td>47.4095</td>\n",
       "      <td>-122.315</td>\n",
       "      <td>1650</td>\n",
       "      <td>9711</td>\n",
       "    </tr>\n",
       "  </tbody>\n",
       "</table>\n",
       "<p>5 rows × 21 columns</p>\n",
       "</div>"
      ],
      "text/plain": [
       "   id             date     price  bedrooms  bathrooms  sqft_living  sqft_lot  \\\n",
       "0   0  20141013T000000  221900.0         3       1.00         1180      5650   \n",
       "1   1  20150225T000000  180000.0         2       1.00          770     10000   \n",
       "2   2  20150218T000000  510000.0         3       2.00         1680      8080   \n",
       "3   3  20140627T000000  257500.0         3       2.25         1715      6819   \n",
       "4   4  20150115T000000  291850.0         3       1.50         1060      9711   \n",
       "\n",
       "   floors  waterfront  view  ...  grade  sqft_above  sqft_basement  yr_built  \\\n",
       "0     1.0           0     0  ...      7        1180              0      1955   \n",
       "1     1.0           0     0  ...      6         770              0      1933   \n",
       "2     1.0           0     0  ...      8        1680              0      1987   \n",
       "3     2.0           0     0  ...      7        1715              0      1995   \n",
       "4     1.0           0     0  ...      7        1060              0      1963   \n",
       "\n",
       "   yr_renovated  zipcode      lat     long  sqft_living15  sqft_lot15  \n",
       "0             0    98178  47.5112 -122.257           1340        5650  \n",
       "1             0    98028  47.7379 -122.233           2720        8062  \n",
       "2             0    98074  47.6168 -122.045           1800        7503  \n",
       "3             0    98003  47.3097 -122.327           2238        6819  \n",
       "4             0    98198  47.4095 -122.315           1650        9711  \n",
       "\n",
       "[5 rows x 21 columns]"
      ]
     },
     "execution_count": 3,
     "metadata": {},
     "output_type": "execute_result"
    }
   ],
   "source": [
    "train.head()"
   ]
  },
  {
   "cell_type": "markdown",
   "id": "exposed-dublin",
   "metadata": {},
   "source": [
    "## 정수형 데이터로 처리하기"
   ]
  },
  {
   "cell_type": "code",
   "execution_count": 4,
   "id": "returning-riverside",
   "metadata": {
    "ExecuteTime": {
     "end_time": "2021-02-18T10:15:31.535321Z",
     "start_time": "2021-02-18T10:15:31.512154Z"
    }
   },
   "outputs": [
    {
     "data": {
      "text/html": [
       "<div>\n",
       "<style scoped>\n",
       "    .dataframe tbody tr th:only-of-type {\n",
       "        vertical-align: middle;\n",
       "    }\n",
       "\n",
       "    .dataframe tbody tr th {\n",
       "        vertical-align: top;\n",
       "    }\n",
       "\n",
       "    .dataframe thead th {\n",
       "        text-align: right;\n",
       "    }\n",
       "</style>\n",
       "<table border=\"1\" class=\"dataframe\">\n",
       "  <thead>\n",
       "    <tr style=\"text-align: right;\">\n",
       "      <th></th>\n",
       "      <th>id</th>\n",
       "      <th>date</th>\n",
       "      <th>price</th>\n",
       "      <th>bedrooms</th>\n",
       "      <th>bathrooms</th>\n",
       "      <th>sqft_living</th>\n",
       "      <th>sqft_lot</th>\n",
       "      <th>floors</th>\n",
       "      <th>waterfront</th>\n",
       "      <th>view</th>\n",
       "      <th>...</th>\n",
       "      <th>grade</th>\n",
       "      <th>sqft_above</th>\n",
       "      <th>sqft_basement</th>\n",
       "      <th>yr_built</th>\n",
       "      <th>yr_renovated</th>\n",
       "      <th>zipcode</th>\n",
       "      <th>lat</th>\n",
       "      <th>long</th>\n",
       "      <th>sqft_living15</th>\n",
       "      <th>sqft_lot15</th>\n",
       "    </tr>\n",
       "  </thead>\n",
       "  <tbody>\n",
       "    <tr>\n",
       "      <th>0</th>\n",
       "      <td>0</td>\n",
       "      <td>201410</td>\n",
       "      <td>221900.0</td>\n",
       "      <td>3</td>\n",
       "      <td>1.00</td>\n",
       "      <td>1180</td>\n",
       "      <td>5650</td>\n",
       "      <td>1.0</td>\n",
       "      <td>0</td>\n",
       "      <td>0</td>\n",
       "      <td>...</td>\n",
       "      <td>7</td>\n",
       "      <td>1180</td>\n",
       "      <td>0</td>\n",
       "      <td>1955</td>\n",
       "      <td>0</td>\n",
       "      <td>98178</td>\n",
       "      <td>47.5112</td>\n",
       "      <td>-122.257</td>\n",
       "      <td>1340</td>\n",
       "      <td>5650</td>\n",
       "    </tr>\n",
       "    <tr>\n",
       "      <th>1</th>\n",
       "      <td>1</td>\n",
       "      <td>201502</td>\n",
       "      <td>180000.0</td>\n",
       "      <td>2</td>\n",
       "      <td>1.00</td>\n",
       "      <td>770</td>\n",
       "      <td>10000</td>\n",
       "      <td>1.0</td>\n",
       "      <td>0</td>\n",
       "      <td>0</td>\n",
       "      <td>...</td>\n",
       "      <td>6</td>\n",
       "      <td>770</td>\n",
       "      <td>0</td>\n",
       "      <td>1933</td>\n",
       "      <td>0</td>\n",
       "      <td>98028</td>\n",
       "      <td>47.7379</td>\n",
       "      <td>-122.233</td>\n",
       "      <td>2720</td>\n",
       "      <td>8062</td>\n",
       "    </tr>\n",
       "    <tr>\n",
       "      <th>2</th>\n",
       "      <td>2</td>\n",
       "      <td>201502</td>\n",
       "      <td>510000.0</td>\n",
       "      <td>3</td>\n",
       "      <td>2.00</td>\n",
       "      <td>1680</td>\n",
       "      <td>8080</td>\n",
       "      <td>1.0</td>\n",
       "      <td>0</td>\n",
       "      <td>0</td>\n",
       "      <td>...</td>\n",
       "      <td>8</td>\n",
       "      <td>1680</td>\n",
       "      <td>0</td>\n",
       "      <td>1987</td>\n",
       "      <td>0</td>\n",
       "      <td>98074</td>\n",
       "      <td>47.6168</td>\n",
       "      <td>-122.045</td>\n",
       "      <td>1800</td>\n",
       "      <td>7503</td>\n",
       "    </tr>\n",
       "    <tr>\n",
       "      <th>3</th>\n",
       "      <td>3</td>\n",
       "      <td>201406</td>\n",
       "      <td>257500.0</td>\n",
       "      <td>3</td>\n",
       "      <td>2.25</td>\n",
       "      <td>1715</td>\n",
       "      <td>6819</td>\n",
       "      <td>2.0</td>\n",
       "      <td>0</td>\n",
       "      <td>0</td>\n",
       "      <td>...</td>\n",
       "      <td>7</td>\n",
       "      <td>1715</td>\n",
       "      <td>0</td>\n",
       "      <td>1995</td>\n",
       "      <td>0</td>\n",
       "      <td>98003</td>\n",
       "      <td>47.3097</td>\n",
       "      <td>-122.327</td>\n",
       "      <td>2238</td>\n",
       "      <td>6819</td>\n",
       "    </tr>\n",
       "    <tr>\n",
       "      <th>4</th>\n",
       "      <td>4</td>\n",
       "      <td>201501</td>\n",
       "      <td>291850.0</td>\n",
       "      <td>3</td>\n",
       "      <td>1.50</td>\n",
       "      <td>1060</td>\n",
       "      <td>9711</td>\n",
       "      <td>1.0</td>\n",
       "      <td>0</td>\n",
       "      <td>0</td>\n",
       "      <td>...</td>\n",
       "      <td>7</td>\n",
       "      <td>1060</td>\n",
       "      <td>0</td>\n",
       "      <td>1963</td>\n",
       "      <td>0</td>\n",
       "      <td>98198</td>\n",
       "      <td>47.4095</td>\n",
       "      <td>-122.315</td>\n",
       "      <td>1650</td>\n",
       "      <td>9711</td>\n",
       "    </tr>\n",
       "  </tbody>\n",
       "</table>\n",
       "<p>5 rows × 21 columns</p>\n",
       "</div>"
      ],
      "text/plain": [
       "   id    date     price  bedrooms  bathrooms  sqft_living  sqft_lot  floors  \\\n",
       "0   0  201410  221900.0         3       1.00         1180      5650     1.0   \n",
       "1   1  201502  180000.0         2       1.00          770     10000     1.0   \n",
       "2   2  201502  510000.0         3       2.00         1680      8080     1.0   \n",
       "3   3  201406  257500.0         3       2.25         1715      6819     2.0   \n",
       "4   4  201501  291850.0         3       1.50         1060      9711     1.0   \n",
       "\n",
       "   waterfront  view  ...  grade  sqft_above  sqft_basement  yr_built  \\\n",
       "0           0     0  ...      7        1180              0      1955   \n",
       "1           0     0  ...      6         770              0      1933   \n",
       "2           0     0  ...      8        1680              0      1987   \n",
       "3           0     0  ...      7        1715              0      1995   \n",
       "4           0     0  ...      7        1060              0      1963   \n",
       "\n",
       "   yr_renovated  zipcode      lat     long  sqft_living15  sqft_lot15  \n",
       "0             0    98178  47.5112 -122.257           1340        5650  \n",
       "1             0    98028  47.7379 -122.233           2720        8062  \n",
       "2             0    98074  47.6168 -122.045           1800        7503  \n",
       "3             0    98003  47.3097 -122.327           2238        6819  \n",
       "4             0    98198  47.4095 -122.315           1650        9711  \n",
       "\n",
       "[5 rows x 21 columns]"
      ]
     },
     "execution_count": 4,
     "metadata": {},
     "output_type": "execute_result"
    }
   ],
   "source": [
    "train['date'] = train['date'].apply(lambda i: i[:6]).astype(int)\n",
    "train.head()"
   ]
  },
  {
   "cell_type": "markdown",
   "id": "accurate-thinking",
   "metadata": {},
   "source": [
    "## `price` 컬럼 삭제하기"
   ]
  },
  {
   "cell_type": "code",
   "execution_count": 5,
   "id": "mental-brazil",
   "metadata": {
    "ExecuteTime": {
     "end_time": "2021-02-18T10:15:31.539903Z",
     "start_time": "2021-02-18T10:15:31.536533Z"
    }
   },
   "outputs": [
    {
     "name": "stdout",
     "output_type": "stream",
     "text": [
      "Index(['id', 'date', 'bedrooms', 'bathrooms', 'sqft_living', 'sqft_lot',\n",
      "       'floors', 'waterfront', 'view', 'condition', 'grade', 'sqft_above',\n",
      "       'sqft_basement', 'yr_built', 'yr_renovated', 'zipcode', 'lat', 'long',\n",
      "       'sqft_living15', 'sqft_lot15'],\n",
      "      dtype='object')\n"
     ]
    }
   ],
   "source": [
    "y = train['price']\n",
    "del train['price']\n",
    "\n",
    "print(train.columns)"
   ]
  },
  {
   "cell_type": "markdown",
   "id": "better-legislation",
   "metadata": {},
   "source": [
    "## `id` 컬럼 삭제하기"
   ]
  },
  {
   "cell_type": "code",
   "execution_count": 6,
   "id": "designed-springfield",
   "metadata": {
    "ExecuteTime": {
     "end_time": "2021-02-18T10:15:31.545772Z",
     "start_time": "2021-02-18T10:15:31.542382Z"
    }
   },
   "outputs": [
    {
     "name": "stdout",
     "output_type": "stream",
     "text": [
      "Index(['date', 'bedrooms', 'bathrooms', 'sqft_living', 'sqft_lot', 'floors',\n",
      "       'waterfront', 'view', 'condition', 'grade', 'sqft_above',\n",
      "       'sqft_basement', 'yr_built', 'yr_renovated', 'zipcode', 'lat', 'long',\n",
      "       'sqft_living15', 'sqft_lot15'],\n",
      "      dtype='object')\n"
     ]
    }
   ],
   "source": [
    "del train['id']\n",
    "\n",
    "print(train.columns)"
   ]
  },
  {
   "cell_type": "markdown",
   "id": "challenging-halifax",
   "metadata": {},
   "source": [
    "## `test` 데이터에 대해서도 같은 작업하기\n",
    "\n",
    "단, test맞추어야 할 타겟 데이터인 price는 없으니 훈련 데이터셋과는 다르게 price에 대한 처리는 해주지 않아도 된다."
   ]
  },
  {
   "cell_type": "code",
   "execution_count": 7,
   "id": "proved-poland",
   "metadata": {
    "ExecuteTime": {
     "end_time": "2021-02-18T10:15:31.555980Z",
     "start_time": "2021-02-18T10:15:31.547453Z"
    }
   },
   "outputs": [
    {
     "name": "stdout",
     "output_type": "stream",
     "text": [
      "Index(['date', 'bedrooms', 'bathrooms', 'sqft_living', 'sqft_lot', 'floors',\n",
      "       'waterfront', 'view', 'condition', 'grade', 'sqft_above',\n",
      "       'sqft_basement', 'yr_built', 'yr_renovated', 'zipcode', 'lat', 'long',\n",
      "       'sqft_living15', 'sqft_lot15'],\n",
      "      dtype='object')\n"
     ]
    }
   ],
   "source": [
    "test['date'] = test['date'].apply(lambda i: i[:6]).astype(int)\n",
    "\n",
    "del test['id']\n",
    "\n",
    "print(test.columns)"
   ]
  },
  {
   "cell_type": "markdown",
   "id": "whole-lightweight",
   "metadata": {},
   "source": [
    "## 타겟 데이터인 `y` 확인하기."
   ]
  },
  {
   "cell_type": "code",
   "execution_count": 8,
   "id": "medical-approval",
   "metadata": {
    "ExecuteTime": {
     "end_time": "2021-02-18T10:15:31.562790Z",
     "start_time": "2021-02-18T10:15:31.557641Z"
    }
   },
   "outputs": [
    {
     "data": {
      "text/plain": [
       "0         221900.0\n",
       "1         180000.0\n",
       "2         510000.0\n",
       "3         257500.0\n",
       "4         291850.0\n",
       "           ...    \n",
       "15030     610685.0\n",
       "15031    1007500.0\n",
       "15032     360000.0\n",
       "15033     400000.0\n",
       "15034     325000.0\n",
       "Name: price, Length: 15035, dtype: float64"
      ]
     },
     "execution_count": 8,
     "metadata": {},
     "output_type": "execute_result"
    }
   ],
   "source": [
    "y"
   ]
  },
  {
   "cell_type": "markdown",
   "id": "straight-project",
   "metadata": {},
   "source": [
    "## 데이터의 분포 확인"
   ]
  },
  {
   "cell_type": "code",
   "execution_count": 9,
   "id": "configured-subdivision",
   "metadata": {
    "ExecuteTime": {
     "end_time": "2021-02-18T10:15:31.830326Z",
     "start_time": "2021-02-18T10:15:31.563894Z"
    }
   },
   "outputs": [
    {
     "data": {
      "image/png": "[encoded data removed]",
      "text/plain": [
       "<Figure size 432x288 with 1 Axes>"
      ]
     },
     "metadata": {
      "image/png": {
       "height": 272,
       "width": 391
      },
      "needs_background": "light"
     },
     "output_type": "display_data"
    }
   ],
   "source": [
    "sns.kdeplot(y)\n",
    "plt.show()"
   ]
  },
  {
   "cell_type": "markdown",
   "id": "molecular-consequence",
   "metadata": {},
   "source": [
    "## `np.log1p()` 함수를 통해 로그 변환을 해주기"
   ]
  },
  {
   "cell_type": "code",
   "execution_count": 10,
   "id": "apart-location",
   "metadata": {
    "ExecuteTime": {
     "end_time": "2021-02-18T10:15:31.836149Z",
     "start_time": "2021-02-18T10:15:31.831536Z"
    }
   },
   "outputs": [
    {
     "data": {
      "text/plain": [
       "0        12.309987\n",
       "1        12.100718\n",
       "2        13.142168\n",
       "3        12.458779\n",
       "4        12.583999\n",
       "           ...    \n",
       "15030    13.322338\n",
       "15031    13.822984\n",
       "15032    12.793862\n",
       "15033    12.899222\n",
       "15034    12.691584\n",
       "Name: price, Length: 15035, dtype: float64"
      ]
     },
     "execution_count": 10,
     "metadata": {},
     "output_type": "execute_result"
    }
   ],
   "source": [
    "y = np.log1p(y)\n",
    "y"
   ]
  },
  {
   "cell_type": "code",
   "execution_count": 11,
   "id": "informative-warrior",
   "metadata": {
    "ExecuteTime": {
     "end_time": "2021-02-18T10:15:32.126253Z",
     "start_time": "2021-02-18T10:15:31.837431Z"
    }
   },
   "outputs": [
    {
     "data": {
      "image/png": "[encoded data removed]",
      "text/plain": [
       "<Figure size 432x288 with 1 Axes>"
      ]
     },
     "metadata": {
      "image/png": {
       "height": 262,
       "width": 385
      },
      "needs_background": "light"
     },
     "output_type": "display_data"
    }
   ],
   "source": [
    "sns.kdeplot(y)\n",
    "plt.show()"
   ]
  },
  {
   "cell_type": "markdown",
   "id": "spectacular-sauce",
   "metadata": {},
   "source": [
    "## `info()` 함수로 전체 데이터의 자료형 확인하기"
   ]
  },
  {
   "cell_type": "code",
   "execution_count": 12,
   "id": "excellent-wright",
   "metadata": {
    "ExecuteTime": {
     "end_time": "2021-02-18T10:15:32.137193Z",
     "start_time": "2021-02-18T10:15:32.127536Z"
    }
   },
   "outputs": [
    {
     "name": "stdout",
     "output_type": "stream",
     "text": [
      "<class 'pandas.core.frame.DataFrame'>\n",
      "RangeIndex: 15035 entries, 0 to 15034\n",
      "Data columns (total 19 columns):\n",
      " #   Column         Non-Null Count  Dtype  \n",
      "---  ------         --------------  -----  \n",
      " 0   date           15035 non-null  int64  \n",
      " 1   bedrooms       15035 non-null  int64  \n",
      " 2   bathrooms      15035 non-null  float64\n",
      " 3   sqft_living    15035 non-null  int64  \n",
      " 4   sqft_lot       15035 non-null  int64  \n",
      " 5   floors         15035 non-null  float64\n",
      " 6   waterfront     15035 non-null  int64  \n",
      " 7   view           15035 non-null  int64  \n",
      " 8   condition      15035 non-null  int64  \n",
      " 9   grade          15035 non-null  int64  \n",
      " 10  sqft_above     15035 non-null  int64  \n",
      " 11  sqft_basement  15035 non-null  int64  \n",
      " 12  yr_built       15035 non-null  int64  \n",
      " 13  yr_renovated   15035 non-null  int64  \n",
      " 14  zipcode        15035 non-null  int64  \n",
      " 15  lat            15035 non-null  float64\n",
      " 16  long           15035 non-null  float64\n",
      " 17  sqft_living15  15035 non-null  int64  \n",
      " 18  sqft_lot15     15035 non-null  int64  \n",
      "dtypes: float64(4), int64(15)\n",
      "memory usage: 2.2 MB\n"
     ]
    }
   ],
   "source": [
    "train.info()"
   ]
  },
  {
   "cell_type": "markdown",
   "id": "proud-timeline",
   "metadata": {},
   "source": [
    "## RMSE 계산을 위해 필요한 라이브러리 불러오기"
   ]
  },
  {
   "cell_type": "code",
   "execution_count": 13,
   "id": "western-recorder",
   "metadata": {
    "ExecuteTime": {
     "end_time": "2021-02-18T10:15:32.140519Z",
     "start_time": "2021-02-18T10:15:32.138563Z"
    }
   },
   "outputs": [],
   "source": [
    "from sklearn.model_selection import train_test_split\n",
    "from sklearn.metrics import mean_squared_error"
   ]
  },
  {
   "cell_type": "markdown",
   "id": "subjective-shepherd",
   "metadata": {},
   "source": [
    "## RMSE를 계산하기 위해 함수 만들기"
   ]
  },
  {
   "cell_type": "code",
   "execution_count": 14,
   "id": "sexual-renewal",
   "metadata": {
    "ExecuteTime": {
     "end_time": "2021-02-18T10:15:32.144750Z",
     "start_time": "2021-02-18T10:15:32.141578Z"
    }
   },
   "outputs": [],
   "source": [
    "def rmse(y_test, y_pred):\n",
    "    return np.sqrt(mean_squared_error(np.expm1(y_test), np.expm1(y_pred)))"
   ]
  },
  {
   "cell_type": "markdown",
   "id": "reduced-rates",
   "metadata": {},
   "source": [
    "## `XGBRegressor`, `LGBMRegressor`, `GradientBoostingRegressor`, `RandomForestRegressor` 네 가지 모델 가져오기"
   ]
  },
  {
   "cell_type": "code",
   "execution_count": 15,
   "id": "moderate-valentine",
   "metadata": {
    "ExecuteTime": {
     "end_time": "2021-02-18T10:15:32.149869Z",
     "start_time": "2021-02-18T10:15:32.146013Z"
    }
   },
   "outputs": [],
   "source": [
    "from xgboost import XGBRegressor\n",
    "from lightgbm import LGBMRegressor\n",
    "from sklearn.ensemble import GradientBoostingRegressor, RandomForestRegressor\n",
    "\n",
    "# random_state는 모델초기화나 데이터셋 구성에 사용되는 랜덤 시드값입니다. \n",
    "#random_state=None    # 이게 초기값입니다. 아무것도 지정하지 않고 None을 넘겨주면 모델 내부에서 임의로 선택합니다.  \n",
    "random_state=2020        # 하지만 우리는 이렇게 고정값을 세팅해 두겠습니다. \n",
    "\n",
    "gboost = GradientBoostingRegressor(random_state=random_state)\n",
    "xgboost = XGBRegressor(random_state=random_state)\n",
    "lightgbm = LGBMRegressor(random_state=random_state)\n",
    "rdforest = RandomForestRegressor(random_state=random_state)\n",
    "\n",
    "models = [gboost, xgboost, lightgbm, rdforest]"
   ]
  },
  {
   "cell_type": "markdown",
   "id": "electoral-straight",
   "metadata": {},
   "source": [
    "## `for`문 안에서 각 모델 별로 학습 및 예측해보기"
   ]
  },
  {
   "cell_type": "code",
   "execution_count": 16,
   "id": "romantic-baseball",
   "metadata": {
    "ExecuteTime": {
     "end_time": "2021-02-18T10:15:44.259876Z",
     "start_time": "2021-02-18T10:15:32.151333Z"
    }
   },
   "outputs": [
    {
     "data": {
      "text/plain": [
       "{'GradientBoostingRegressor': 128360.19649691365,\n",
       " 'XGBRegressor': 110318.66956616656,\n",
       " 'LGBMRegressor': 111920.36735892233,\n",
       " 'RandomForestRegressor': 125487.07102453562}"
      ]
     },
     "execution_count": 16,
     "metadata": {},
     "output_type": "execute_result"
    }
   ],
   "source": [
    "df = {}\n",
    "\n",
    "for model in models:\n",
    "    # 모델 이름 획득\n",
    "    model_name = model.__class__.__name__\n",
    "\n",
    "    # train, test 데이터셋 분리 - 여기에도 random_state를 고정합니다. \n",
    "    X_train, X_test, y_train, y_test = train_test_split(train, y, random_state=random_state, test_size=0.2)\n",
    "\n",
    "    # 모델 학습\n",
    "    model.fit(X_train, y_train)\n",
    "    \n",
    "    # 예측\n",
    "    y_pred = model.predict(X_test)\n",
    "\n",
    "    # 예측 결과의 rmse값 저장\n",
    "    df[model_name] = rmse(y_test, y_pred)\n",
    "    \n",
    "    # data frame에 저장\n",
    "    score_df = pd.DataFrame(df, index=['RMSE']).T.sort_values('RMSE', ascending=False)\n",
    "    \n",
    "df"
   ]
  },
  {
   "cell_type": "markdown",
   "id": "opponent-contractor",
   "metadata": {},
   "source": [
    "## 위의 과정을 `get_scores(models, train, y)` 함수로 만들기"
   ]
  },
  {
   "cell_type": "code",
   "execution_count": 17,
   "id": "hungarian-tennessee",
   "metadata": {
    "ExecuteTime": {
     "end_time": "2021-02-18T10:15:44.264419Z",
     "start_time": "2021-02-18T10:15:44.261085Z"
    }
   },
   "outputs": [],
   "source": [
    "def get_scores(models, train, y):\n",
    "    df = {}\n",
    "\n",
    "    for model in models:\n",
    "        model_name = model.__class__.__name__\n",
    "\n",
    "        X_train, X_test, y_train, y_test = train_test_split(train, y, random_state=random_state, test_size=0.2)\n",
    "        model.fit(X_train, y_train)\n",
    "        y_pred = model.predict(X_test)\n",
    "\n",
    "        df[model_name] = rmse(y_test, y_pred)\n",
    "        score_df = pd.DataFrame(df, index=['RMSE']).T.sort_values('RMSE', ascending=False)\n",
    "\n",
    "    return score_df"
   ]
  },
  {
   "cell_type": "markdown",
   "id": "designed-synthetic",
   "metadata": {},
   "source": [
    "## 그리드 탐색을 위해 필요한 라이브러리 불러오기"
   ]
  },
  {
   "cell_type": "code",
   "execution_count": 18,
   "id": "economic-punishment",
   "metadata": {
    "ExecuteTime": {
     "end_time": "2021-02-18T10:15:44.276342Z",
     "start_time": "2021-02-18T10:15:44.267198Z"
    }
   },
   "outputs": [],
   "source": [
    "from sklearn.model_selection import GridSearchCV"
   ]
  },
  {
   "cell_type": "markdown",
   "id": "latter-setting",
   "metadata": {},
   "source": [
    "## `LightGBM(lgbm)` 모델 `GridSearchCV` 수행"
   ]
  },
  {
   "cell_type": "code",
   "execution_count": 19,
   "id": "rubber-carrier",
   "metadata": {
    "ExecuteTime": {
     "end_time": "2021-02-18T10:15:46.057059Z",
     "start_time": "2021-02-18T10:15:44.278297Z"
    }
   },
   "outputs": [
    {
     "name": "stdout",
     "output_type": "stream",
     "text": [
      "Fitting 5 folds for each of 4 candidates, totalling 20 fits\n"
     ]
    },
    {
     "name": "stderr",
     "output_type": "stream",
     "text": [
      "[Parallel(n_jobs=5)]: Using backend LokyBackend with 5 concurrent workers.\n",
      "[Parallel(n_jobs=5)]: Done  20 out of  20 | elapsed:    1.3s finished\n"
     ]
    },
    {
     "name": "stdout",
     "output_type": "stream",
     "text": [
      "[LightGBM] [Warning] Accuracy may be bad since you didn't explicitly set num_leaves OR 2^max_depth > num_leaves. (num_leaves=31).\n"
     ]
    },
    {
     "data": {
      "text/plain": [
       "GridSearchCV(cv=5, estimator=LGBMRegressor(random_state=2020), n_jobs=5,\n",
       "             param_grid={'max_depth': [1, 10], 'n_estimators': [50, 100]},\n",
       "             scoring='neg_mean_squared_error', verbose=1)"
      ]
     },
     "execution_count": 19,
     "metadata": {},
     "output_type": "execute_result"
    }
   ],
   "source": [
    "param_grid = {\n",
    "    'n_estimators': [50, 100],\n",
    "    'max_depth': [1, 10],\n",
    "}\n",
    "\n",
    "model = LGBMRegressor(random_state=random_state)\n",
    "\n",
    "grid_model = GridSearchCV(model, param_grid=param_grid, \\\n",
    "                        scoring='neg_mean_squared_error', \\\n",
    "                        cv=5, verbose=1, n_jobs=5)\n",
    "\n",
    "grid_model.fit(train, y)"
   ]
  },
  {
   "cell_type": "code",
   "execution_count": 20,
   "id": "relevant-valve",
   "metadata": {
    "ExecuteTime": {
     "end_time": "2021-02-18T10:15:46.075571Z",
     "start_time": "2021-02-18T10:15:46.063689Z"
    }
   },
   "outputs": [
    {
     "data": {
      "text/plain": [
       "{'mean_fit_time': array([0.07321639, 0.06985197, 0.14121747, 0.19806404]),\n",
       " 'std_fit_time': array([0.00656098, 0.00319719, 0.01515156, 0.00678542]),\n",
       " 'mean_score_time': array([0.0049283 , 0.00609822, 0.00869622, 0.01437693]),\n",
       " 'std_score_time': array([0.00048823, 0.00036022, 0.00034558, 0.00121671]),\n",
       " 'param_max_depth': masked_array(data=[1, 1, 10, 10],\n",
       "              mask=[False, False, False, False],\n",
       "        fill_value='?',\n",
       "             dtype=object),\n",
       " 'param_n_estimators': masked_array(data=[50, 100, 50, 100],\n",
       "              mask=[False, False, False, False],\n",
       "        fill_value='?',\n",
       "             dtype=object),\n",
       " 'params': [{'max_depth': 1, 'n_estimators': 50},\n",
       "  {'max_depth': 1, 'n_estimators': 100},\n",
       "  {'max_depth': 10, 'n_estimators': 50},\n",
       "  {'max_depth': 10, 'n_estimators': 100}],\n",
       " 'split0_test_score': array([-0.0756974 , -0.05555652, -0.02885847, -0.02665428]),\n",
       " 'split1_test_score': array([-0.07666447, -0.057876  , -0.03041465, -0.02795896]),\n",
       " 'split2_test_score': array([-0.07354904, -0.05546079, -0.03068533, -0.02834112]),\n",
       " 'split3_test_score': array([-0.07510863, -0.05582109, -0.02987609, -0.02774809]),\n",
       " 'split4_test_score': array([-0.06595281, -0.05038773, -0.02605217, -0.02443328]),\n",
       " 'mean_test_score': array([-0.07339447, -0.05502043, -0.02917734, -0.02702714]),\n",
       " 'std_test_score': array([0.00385583, 0.00247946, 0.00168295, 0.00141292]),\n",
       " 'rank_test_score': array([4, 3, 2, 1], dtype=int32)}"
      ]
     },
     "execution_count": 20,
     "metadata": {},
     "output_type": "execute_result"
    }
   ],
   "source": [
    "grid_model.cv_results_"
   ]
  },
  {
   "cell_type": "code",
   "execution_count": 21,
   "id": "particular-ceremony",
   "metadata": {
    "ExecuteTime": {
     "end_time": "2021-02-18T10:15:46.092095Z",
     "start_time": "2021-02-18T10:15:46.084668Z"
    }
   },
   "outputs": [
    {
     "data": {
      "text/plain": [
       "[{'max_depth': 1, 'n_estimators': 50},\n",
       " {'max_depth': 1, 'n_estimators': 100},\n",
       " {'max_depth': 10, 'n_estimators': 50},\n",
       " {'max_depth': 10, 'n_estimators': 100}]"
      ]
     },
     "execution_count": 21,
     "metadata": {},
     "output_type": "execute_result"
    }
   ],
   "source": [
    "params = grid_model.cv_results_['params']\n",
    "params"
   ]
  },
  {
   "cell_type": "code",
   "execution_count": 22,
   "id": "artistic-rwanda",
   "metadata": {
    "ExecuteTime": {
     "end_time": "2021-02-18T10:15:46.105905Z",
     "start_time": "2021-02-18T10:15:46.099349Z"
    }
   },
   "outputs": [
    {
     "data": {
      "text/plain": [
       "array([-0.07339447, -0.05502043, -0.02917734, -0.02702714])"
      ]
     },
     "execution_count": 22,
     "metadata": {},
     "output_type": "execute_result"
    }
   ],
   "source": [
    "score = grid_model.cv_results_['mean_test_score']\n",
    "score"
   ]
  },
  {
   "cell_type": "code",
   "execution_count": 23,
   "id": "exact-scholarship",
   "metadata": {
    "ExecuteTime": {
     "end_time": "2021-02-18T10:15:46.124628Z",
     "start_time": "2021-02-18T10:15:46.110601Z"
    }
   },
   "outputs": [
    {
     "data": {
      "text/html": [
       "<div>\n",
       "<style scoped>\n",
       "    .dataframe tbody tr th:only-of-type {\n",
       "        vertical-align: middle;\n",
       "    }\n",
       "\n",
       "    .dataframe tbody tr th {\n",
       "        vertical-align: top;\n",
       "    }\n",
       "\n",
       "    .dataframe thead th {\n",
       "        text-align: right;\n",
       "    }\n",
       "</style>\n",
       "<table border=\"1\" class=\"dataframe\">\n",
       "  <thead>\n",
       "    <tr style=\"text-align: right;\">\n",
       "      <th></th>\n",
       "      <th>max_depth</th>\n",
       "      <th>n_estimators</th>\n",
       "      <th>score</th>\n",
       "    </tr>\n",
       "  </thead>\n",
       "  <tbody>\n",
       "    <tr>\n",
       "      <th>0</th>\n",
       "      <td>1</td>\n",
       "      <td>50</td>\n",
       "      <td>-0.073394</td>\n",
       "    </tr>\n",
       "    <tr>\n",
       "      <th>1</th>\n",
       "      <td>1</td>\n",
       "      <td>100</td>\n",
       "      <td>-0.055020</td>\n",
       "    </tr>\n",
       "    <tr>\n",
       "      <th>2</th>\n",
       "      <td>10</td>\n",
       "      <td>50</td>\n",
       "      <td>-0.029177</td>\n",
       "    </tr>\n",
       "    <tr>\n",
       "      <th>3</th>\n",
       "      <td>10</td>\n",
       "      <td>100</td>\n",
       "      <td>-0.027027</td>\n",
       "    </tr>\n",
       "  </tbody>\n",
       "</table>\n",
       "</div>"
      ],
      "text/plain": [
       "   max_depth  n_estimators     score\n",
       "0          1            50 -0.073394\n",
       "1          1           100 -0.055020\n",
       "2         10            50 -0.029177\n",
       "3         10           100 -0.027027"
      ]
     },
     "execution_count": 23,
     "metadata": {},
     "output_type": "execute_result"
    }
   ],
   "source": [
    "results = pd.DataFrame(params)\n",
    "results['score'] = score\n",
    "\n",
    "results"
   ]
  },
  {
   "cell_type": "code",
   "execution_count": 24,
   "id": "specialized-ghost",
   "metadata": {
    "ExecuteTime": {
     "end_time": "2021-02-18T10:15:46.144504Z",
     "start_time": "2021-02-18T10:15:46.131930Z"
    }
   },
   "outputs": [
    {
     "data": {
      "text/html": [
       "<div>\n",
       "<style scoped>\n",
       "    .dataframe tbody tr th:only-of-type {\n",
       "        vertical-align: middle;\n",
       "    }\n",
       "\n",
       "    .dataframe tbody tr th {\n",
       "        vertical-align: top;\n",
       "    }\n",
       "\n",
       "    .dataframe thead th {\n",
       "        text-align: right;\n",
       "    }\n",
       "</style>\n",
       "<table border=\"1\" class=\"dataframe\">\n",
       "  <thead>\n",
       "    <tr style=\"text-align: right;\">\n",
       "      <th></th>\n",
       "      <th>max_depth</th>\n",
       "      <th>n_estimators</th>\n",
       "      <th>score</th>\n",
       "      <th>RMSE</th>\n",
       "    </tr>\n",
       "  </thead>\n",
       "  <tbody>\n",
       "    <tr>\n",
       "      <th>0</th>\n",
       "      <td>1</td>\n",
       "      <td>50</td>\n",
       "      <td>-0.073394</td>\n",
       "      <td>0.270914</td>\n",
       "    </tr>\n",
       "    <tr>\n",
       "      <th>1</th>\n",
       "      <td>1</td>\n",
       "      <td>100</td>\n",
       "      <td>-0.055020</td>\n",
       "      <td>0.234564</td>\n",
       "    </tr>\n",
       "    <tr>\n",
       "      <th>2</th>\n",
       "      <td>10</td>\n",
       "      <td>50</td>\n",
       "      <td>-0.029177</td>\n",
       "      <td>0.170814</td>\n",
       "    </tr>\n",
       "    <tr>\n",
       "      <th>3</th>\n",
       "      <td>10</td>\n",
       "      <td>100</td>\n",
       "      <td>-0.027027</td>\n",
       "      <td>0.164399</td>\n",
       "    </tr>\n",
       "  </tbody>\n",
       "</table>\n",
       "</div>"
      ],
      "text/plain": [
       "   max_depth  n_estimators     score      RMSE\n",
       "0          1            50 -0.073394  0.270914\n",
       "1          1           100 -0.055020  0.234564\n",
       "2         10            50 -0.029177  0.170814\n",
       "3         10           100 -0.027027  0.164399"
      ]
     },
     "execution_count": 24,
     "metadata": {},
     "output_type": "execute_result"
    }
   ],
   "source": [
    "results['RMSE'] = np.sqrt(-1 * results['score'])\n",
    "results"
   ]
  },
  {
   "cell_type": "code",
   "execution_count": 25,
   "id": "reserved-wrestling",
   "metadata": {
    "ExecuteTime": {
     "end_time": "2021-02-18T10:15:46.164331Z",
     "start_time": "2021-02-18T10:15:46.151385Z"
    }
   },
   "outputs": [
    {
     "data": {
      "text/html": [
       "<div>\n",
       "<style scoped>\n",
       "    .dataframe tbody tr th:only-of-type {\n",
       "        vertical-align: middle;\n",
       "    }\n",
       "\n",
       "    .dataframe tbody tr th {\n",
       "        vertical-align: top;\n",
       "    }\n",
       "\n",
       "    .dataframe thead th {\n",
       "        text-align: right;\n",
       "    }\n",
       "</style>\n",
       "<table border=\"1\" class=\"dataframe\">\n",
       "  <thead>\n",
       "    <tr style=\"text-align: right;\">\n",
       "      <th></th>\n",
       "      <th>max_depth</th>\n",
       "      <th>n_estimators</th>\n",
       "      <th>score</th>\n",
       "      <th>RMSLE</th>\n",
       "    </tr>\n",
       "  </thead>\n",
       "  <tbody>\n",
       "    <tr>\n",
       "      <th>0</th>\n",
       "      <td>1</td>\n",
       "      <td>50</td>\n",
       "      <td>-0.073394</td>\n",
       "      <td>0.270914</td>\n",
       "    </tr>\n",
       "    <tr>\n",
       "      <th>1</th>\n",
       "      <td>1</td>\n",
       "      <td>100</td>\n",
       "      <td>-0.055020</td>\n",
       "      <td>0.234564</td>\n",
       "    </tr>\n",
       "    <tr>\n",
       "      <th>2</th>\n",
       "      <td>10</td>\n",
       "      <td>50</td>\n",
       "      <td>-0.029177</td>\n",
       "      <td>0.170814</td>\n",
       "    </tr>\n",
       "    <tr>\n",
       "      <th>3</th>\n",
       "      <td>10</td>\n",
       "      <td>100</td>\n",
       "      <td>-0.027027</td>\n",
       "      <td>0.164399</td>\n",
       "    </tr>\n",
       "  </tbody>\n",
       "</table>\n",
       "</div>"
      ],
      "text/plain": [
       "   max_depth  n_estimators     score     RMSLE\n",
       "0          1            50 -0.073394  0.270914\n",
       "1          1           100 -0.055020  0.234564\n",
       "2         10            50 -0.029177  0.170814\n",
       "3         10           100 -0.027027  0.164399"
      ]
     },
     "execution_count": 25,
     "metadata": {},
     "output_type": "execute_result"
    }
   ],
   "source": [
    "results = results.rename(columns={'RMSE': 'RMSLE'})\n",
    "results"
   ]
  },
  {
   "cell_type": "code",
   "execution_count": 26,
   "id": "eligible-netherlands",
   "metadata": {
    "ExecuteTime": {
     "end_time": "2021-02-18T10:15:46.179504Z",
     "start_time": "2021-02-18T10:15:46.168226Z"
    }
   },
   "outputs": [
    {
     "data": {
      "text/html": [
       "<div>\n",
       "<style scoped>\n",
       "    .dataframe tbody tr th:only-of-type {\n",
       "        vertical-align: middle;\n",
       "    }\n",
       "\n",
       "    .dataframe tbody tr th {\n",
       "        vertical-align: top;\n",
       "    }\n",
       "\n",
       "    .dataframe thead th {\n",
       "        text-align: right;\n",
       "    }\n",
       "</style>\n",
       "<table border=\"1\" class=\"dataframe\">\n",
       "  <thead>\n",
       "    <tr style=\"text-align: right;\">\n",
       "      <th></th>\n",
       "      <th>max_depth</th>\n",
       "      <th>n_estimators</th>\n",
       "      <th>score</th>\n",
       "      <th>RMSLE</th>\n",
       "    </tr>\n",
       "  </thead>\n",
       "  <tbody>\n",
       "    <tr>\n",
       "      <th>3</th>\n",
       "      <td>10</td>\n",
       "      <td>100</td>\n",
       "      <td>-0.027027</td>\n",
       "      <td>0.164399</td>\n",
       "    </tr>\n",
       "    <tr>\n",
       "      <th>2</th>\n",
       "      <td>10</td>\n",
       "      <td>50</td>\n",
       "      <td>-0.029177</td>\n",
       "      <td>0.170814</td>\n",
       "    </tr>\n",
       "    <tr>\n",
       "      <th>1</th>\n",
       "      <td>1</td>\n",
       "      <td>100</td>\n",
       "      <td>-0.055020</td>\n",
       "      <td>0.234564</td>\n",
       "    </tr>\n",
       "    <tr>\n",
       "      <th>0</th>\n",
       "      <td>1</td>\n",
       "      <td>50</td>\n",
       "      <td>-0.073394</td>\n",
       "      <td>0.270914</td>\n",
       "    </tr>\n",
       "  </tbody>\n",
       "</table>\n",
       "</div>"
      ],
      "text/plain": [
       "   max_depth  n_estimators     score     RMSLE\n",
       "3         10           100 -0.027027  0.164399\n",
       "2         10            50 -0.029177  0.170814\n",
       "1          1           100 -0.055020  0.234564\n",
       "0          1            50 -0.073394  0.270914"
      ]
     },
     "execution_count": 26,
     "metadata": {},
     "output_type": "execute_result"
    }
   ],
   "source": [
    "results = results.sort_values('RMSLE')\n",
    "results"
   ]
  },
  {
   "cell_type": "markdown",
   "id": "comparable-budget",
   "metadata": {},
   "source": [
    "`max_depth` = 10, `n_setimators` = 100 으로 설정할 때, RMSLE값이 가장 낮다는 것을 알 수 있다.\n"
   ]
  },
  {
   "cell_type": "markdown",
   "id": "organic-reynolds",
   "metadata": {},
   "source": [
    "## 위 과정을 하나의 함수로 만들자"
   ]
  },
  {
   "cell_type": "code",
   "execution_count": 27,
   "id": "powerful-electric",
   "metadata": {
    "ExecuteTime": {
     "end_time": "2021-02-18T10:15:46.190213Z",
     "start_time": "2021-02-18T10:15:46.184014Z"
    }
   },
   "outputs": [],
   "source": [
    "# 다음과 같은 과정을 진행할 수 있는 `my_GridSearch(model, train, y, param_grid, verbose=2, n_jobs=5)` 함수를 구현해 보세요.\n",
    "\n",
    "# 1. GridSearchCV 모델로 `model`을 초기화합니다.\n",
    "# 2. 모델을 fitting 합니다.\n",
    "# 3. params, score에 각 조합에 대한 결과를 저장합니다. \n",
    "# 4. 데이터 프레임을 생성하고, RMSLE 값을 추가한 후 점수가 높은 순서로 정렬한 `results`를 반환합니다.\n",
    "\n",
    "\n",
    "def my_GridSearch(model, train, y, param_grid, verbose=2, n_jobs=5):\n",
    "    # GridSearchCV 모델로 초기화\n",
    "    grid_model = GridSearchCV(model, param_grid=param_grid, scoring='neg_mean_squared_error', \\\n",
    "                              cv=5, verbose=verbose, n_jobs=n_jobs)\n",
    "\n",
    "    # 모델 fitting\n",
    "    grid_model.fit(train, y)\n",
    "\n",
    "    # 결과값 저장\n",
    "    params = grid_model.cv_results_['params']\n",
    "    score = grid_model.cv_results_['mean_test_score']\n",
    "\n",
    "    # 데이터 프레임 생성\n",
    "    results = pd.DataFrame(params)\n",
    "    results['score'] = score\n",
    "\n",
    "    # RMSLE 값 계산 후 정렬\n",
    "    results['RMSLE'] = np.sqrt(-1 * results['score'])\n",
    "    results = results.sort_values('RMSLE')\n",
    "\n",
    "    return results"
   ]
  },
  {
   "cell_type": "markdown",
   "id": "recreational-situation",
   "metadata": {},
   "source": [
    "## `LGBMRegressor` 모델 `GridSearchCV` 수행\n",
    "\n",
    "하이퍼파라미터 튜닝은 [LIGHTGBM 이란? 그리고 PARAMETER 튜닝하기](https://nurilee.com/2020/04/03/lightgbm-definition-parameter-tuning/)를 참조했다."
   ]
  },
  {
   "cell_type": "code",
   "execution_count": 28,
   "id": "experienced-vaccine",
   "metadata": {
    "ExecuteTime": {
     "end_time": "2021-02-18T11:04:48.904397Z",
     "start_time": "2021-02-18T10:15:46.196016Z"
    }
   },
   "outputs": [
    {
     "name": "stdout",
     "output_type": "stream",
     "text": [
      "Fitting 5 folds for each of 324 candidates, totalling 1620 fits\n"
     ]
    },
    {
     "name": "stderr",
     "output_type": "stream",
     "text": [
      "[Parallel(n_jobs=5)]: Using backend LokyBackend with 5 concurrent workers.\n",
      "[Parallel(n_jobs=5)]: Done  78 tasks      | elapsed:    0.8s\n",
      "[Parallel(n_jobs=5)]: Done 577 tasks      | elapsed:  1.5min\n",
      "[Parallel(n_jobs=5)]: Done 780 tasks      | elapsed:  3.4min\n",
      "[Parallel(n_jobs=5)]: Done 1063 tasks      | elapsed: 28.6min\n",
      "[Parallel(n_jobs=5)]: Done 1428 tasks      | elapsed: 46.6min\n",
      "[Parallel(n_jobs=5)]: Done 1620 out of 1620 | elapsed: 49.0min finished\n"
     ]
    },
    {
     "data": {
      "text/html": [
       "<div>\n",
       "<style scoped>\n",
       "    .dataframe tbody tr th:only-of-type {\n",
       "        vertical-align: middle;\n",
       "    }\n",
       "\n",
       "    .dataframe tbody tr th {\n",
       "        vertical-align: top;\n",
       "    }\n",
       "\n",
       "    .dataframe thead th {\n",
       "        text-align: right;\n",
       "    }\n",
       "</style>\n",
       "<table border=\"1\" class=\"dataframe\">\n",
       "  <thead>\n",
       "    <tr style=\"text-align: right;\">\n",
       "      <th></th>\n",
       "      <th>boosting</th>\n",
       "      <th>feature_fraction</th>\n",
       "      <th>learning_rate</th>\n",
       "      <th>max_depth</th>\n",
       "      <th>num_iterations</th>\n",
       "      <th>score</th>\n",
       "      <th>RMSLE</th>\n",
       "    </tr>\n",
       "  </thead>\n",
       "  <tbody>\n",
       "    <tr>\n",
       "      <th>296</th>\n",
       "      <td>goss</td>\n",
       "      <td>0.8</td>\n",
       "      <td>0.003</td>\n",
       "      <td>20</td>\n",
       "      <td>3000</td>\n",
       "      <td>-0.026160</td>\n",
       "      <td>0.161740</td>\n",
       "    </tr>\n",
       "    <tr>\n",
       "      <th>293</th>\n",
       "      <td>goss</td>\n",
       "      <td>0.8</td>\n",
       "      <td>0.003</td>\n",
       "      <td>10</td>\n",
       "      <td>3000</td>\n",
       "      <td>-0.026189</td>\n",
       "      <td>0.161831</td>\n",
       "    </tr>\n",
       "    <tr>\n",
       "      <th>323</th>\n",
       "      <td>goss</td>\n",
       "      <td>0.9</td>\n",
       "      <td>0.003</td>\n",
       "      <td>20</td>\n",
       "      <td>3000</td>\n",
       "      <td>-0.026221</td>\n",
       "      <td>0.161930</td>\n",
       "    </tr>\n",
       "    <tr>\n",
       "      <th>269</th>\n",
       "      <td>goss</td>\n",
       "      <td>0.7</td>\n",
       "      <td>0.003</td>\n",
       "      <td>20</td>\n",
       "      <td>3000</td>\n",
       "      <td>-0.026230</td>\n",
       "      <td>0.161956</td>\n",
       "    </tr>\n",
       "    <tr>\n",
       "      <th>320</th>\n",
       "      <td>goss</td>\n",
       "      <td>0.9</td>\n",
       "      <td>0.003</td>\n",
       "      <td>10</td>\n",
       "      <td>3000</td>\n",
       "      <td>-0.026235</td>\n",
       "      <td>0.161974</td>\n",
       "    </tr>\n",
       "    <tr>\n",
       "      <th>...</th>\n",
       "      <td>...</td>\n",
       "      <td>...</td>\n",
       "      <td>...</td>\n",
       "      <td>...</td>\n",
       "      <td>...</td>\n",
       "      <td>...</td>\n",
       "      <td>...</td>\n",
       "    </tr>\n",
       "    <tr>\n",
       "      <th>76</th>\n",
       "      <td>rf</td>\n",
       "      <td>0.9</td>\n",
       "      <td>0.003</td>\n",
       "      <td>10</td>\n",
       "      <td>2000</td>\n",
       "      <td>NaN</td>\n",
       "      <td>NaN</td>\n",
       "    </tr>\n",
       "    <tr>\n",
       "      <th>77</th>\n",
       "      <td>rf</td>\n",
       "      <td>0.9</td>\n",
       "      <td>0.003</td>\n",
       "      <td>10</td>\n",
       "      <td>3000</td>\n",
       "      <td>NaN</td>\n",
       "      <td>NaN</td>\n",
       "    </tr>\n",
       "    <tr>\n",
       "      <th>78</th>\n",
       "      <td>rf</td>\n",
       "      <td>0.9</td>\n",
       "      <td>0.003</td>\n",
       "      <td>20</td>\n",
       "      <td>1000</td>\n",
       "      <td>NaN</td>\n",
       "      <td>NaN</td>\n",
       "    </tr>\n",
       "    <tr>\n",
       "      <th>79</th>\n",
       "      <td>rf</td>\n",
       "      <td>0.9</td>\n",
       "      <td>0.003</td>\n",
       "      <td>20</td>\n",
       "      <td>2000</td>\n",
       "      <td>NaN</td>\n",
       "      <td>NaN</td>\n",
       "    </tr>\n",
       "    <tr>\n",
       "      <th>80</th>\n",
       "      <td>rf</td>\n",
       "      <td>0.9</td>\n",
       "      <td>0.003</td>\n",
       "      <td>20</td>\n",
       "      <td>3000</td>\n",
       "      <td>NaN</td>\n",
       "      <td>NaN</td>\n",
       "    </tr>\n",
       "  </tbody>\n",
       "</table>\n",
       "<p>324 rows × 7 columns</p>\n",
       "</div>"
      ],
      "text/plain": [
       "    boosting  feature_fraction  learning_rate  max_depth  num_iterations  \\\n",
       "296     goss               0.8          0.003         20            3000   \n",
       "293     goss               0.8          0.003         10            3000   \n",
       "323     goss               0.9          0.003         20            3000   \n",
       "269     goss               0.7          0.003         20            3000   \n",
       "320     goss               0.9          0.003         10            3000   \n",
       "..       ...               ...            ...        ...             ...   \n",
       "76        rf               0.9          0.003         10            2000   \n",
       "77        rf               0.9          0.003         10            3000   \n",
       "78        rf               0.9          0.003         20            1000   \n",
       "79        rf               0.9          0.003         20            2000   \n",
       "80        rf               0.9          0.003         20            3000   \n",
       "\n",
       "        score     RMSLE  \n",
       "296 -0.026160  0.161740  \n",
       "293 -0.026189  0.161831  \n",
       "323 -0.026221  0.161930  \n",
       "269 -0.026230  0.161956  \n",
       "320 -0.026235  0.161974  \n",
       "..        ...       ...  \n",
       "76        NaN       NaN  \n",
       "77        NaN       NaN  \n",
       "78        NaN       NaN  \n",
       "79        NaN       NaN  \n",
       "80        NaN       NaN  \n",
       "\n",
       "[324 rows x 7 columns]"
      ]
     },
     "execution_count": 28,
     "metadata": {},
     "output_type": "execute_result"
    }
   ],
   "source": [
    "param_grid = {\n",
    "    'max_depth': [1, 10, 20], # 블로그에서 찾은 파라미터\n",
    "    'learning_rate' : [0.1, 0.001, 0.003], # 블로그에서 찾은 파라미터\n",
    "    'num_iterations' : [1000, 2000, 3000], # 해커톤때 사용한 파라미터\n",
    "    'feature_fraction': [0.7, 0.8, 0.9], # 해커톤때 사용한 파라미터\n",
    "    'boosting' : ['rf', 'gbdt', 'dart', 'goss'] # 블로그에서 찾은 파라미터\n",
    "}\n",
    "\n",
    "lightgbm = LGBMRegressor(random_state=random_state)\n",
    "my_GridSearch(lightgbm, train, y, param_grid, verbose=2, n_jobs=5)"
   ]
  },
  {
   "cell_type": "markdown",
   "id": "intelligent-voice",
   "metadata": {},
   "source": [
    "`LGBMRegressor` 모델의 최적 파라미터\n",
    "* boosting = \"goss\"\n",
    "* feature_fraction = 0.8\n",
    "* learning_rate = 0.003\n",
    "* max_depth = 20\n",
    "* num_iterations = 3000"
   ]
  },
  {
   "cell_type": "markdown",
   "id": "powered-omega",
   "metadata": {},
   "source": [
    "## `XGBRegressor` 모델 `GridSearchCV` 수행\n",
    "\n",
    "하이퍼파라미터 튜닝은 [Complete Guide to Parameter Tuning in XGBoost with codes in Python](https://www.analyticsvidhya.com/blog/2016/03/complete-guide-parameter-tuning-xgboost-with-codes-python/)을 참조했다."
   ]
  },
  {
   "cell_type": "code",
   "execution_count": 29,
   "id": "difficult-baghdad",
   "metadata": {
    "ExecuteTime": {
     "end_time": "2021-02-18T11:10:05.371537Z",
     "start_time": "2021-02-18T11:04:48.905776Z"
    }
   },
   "outputs": [
    {
     "name": "stdout",
     "output_type": "stream",
     "text": [
      "Fitting 5 folds for each of 108 candidates, totalling 540 fits\n"
     ]
    },
    {
     "name": "stderr",
     "output_type": "stream",
     "text": [
      "[Parallel(n_jobs=5)]: Using backend LokyBackend with 5 concurrent workers.\n",
      "[Parallel(n_jobs=5)]: Done  31 tasks      | elapsed:   26.9s\n",
      "[Parallel(n_jobs=5)]: Done 152 tasks      | elapsed:  1.3min\n",
      "[Parallel(n_jobs=5)]: Done 355 tasks      | elapsed:  3.2min\n",
      "[Parallel(n_jobs=5)]: Done 540 out of 540 | elapsed:  5.3min finished\n"
     ]
    },
    {
     "data": {
      "text/html": [
       "<div>\n",
       "<style scoped>\n",
       "    .dataframe tbody tr th:only-of-type {\n",
       "        vertical-align: middle;\n",
       "    }\n",
       "\n",
       "    .dataframe tbody tr th {\n",
       "        vertical-align: top;\n",
       "    }\n",
       "\n",
       "    .dataframe thead th {\n",
       "        text-align: right;\n",
       "    }\n",
       "</style>\n",
       "<table border=\"1\" class=\"dataframe\">\n",
       "  <thead>\n",
       "    <tr style=\"text-align: right;\">\n",
       "      <th></th>\n",
       "      <th>colsample_bytree</th>\n",
       "      <th>gamma</th>\n",
       "      <th>learning_rate</th>\n",
       "      <th>max_depth</th>\n",
       "      <th>min_child_weight</th>\n",
       "      <th>score</th>\n",
       "      <th>RMSLE</th>\n",
       "    </tr>\n",
       "  </thead>\n",
       "  <tbody>\n",
       "    <tr>\n",
       "      <th>23</th>\n",
       "      <td>0.5</td>\n",
       "      <td>0.05</td>\n",
       "      <td>0.100</td>\n",
       "      <td>10</td>\n",
       "      <td>5</td>\n",
       "      <td>-0.025968</td>\n",
       "      <td>0.161145</td>\n",
       "    </tr>\n",
       "    <tr>\n",
       "      <th>21</th>\n",
       "      <td>0.5</td>\n",
       "      <td>0.05</td>\n",
       "      <td>0.100</td>\n",
       "      <td>10</td>\n",
       "      <td>1</td>\n",
       "      <td>-0.026181</td>\n",
       "      <td>0.161806</td>\n",
       "    </tr>\n",
       "    <tr>\n",
       "      <th>22</th>\n",
       "      <td>0.5</td>\n",
       "      <td>0.05</td>\n",
       "      <td>0.100</td>\n",
       "      <td>10</td>\n",
       "      <td>3</td>\n",
       "      <td>-0.026184</td>\n",
       "      <td>0.161816</td>\n",
       "    </tr>\n",
       "    <tr>\n",
       "      <th>4</th>\n",
       "      <td>0.5</td>\n",
       "      <td>0.00</td>\n",
       "      <td>0.100</td>\n",
       "      <td>10</td>\n",
       "      <td>3</td>\n",
       "      <td>-0.026209</td>\n",
       "      <td>0.161891</td>\n",
       "    </tr>\n",
       "    <tr>\n",
       "      <th>5</th>\n",
       "      <td>0.5</td>\n",
       "      <td>0.00</td>\n",
       "      <td>0.100</td>\n",
       "      <td>10</td>\n",
       "      <td>5</td>\n",
       "      <td>-0.026255</td>\n",
       "      <td>0.162034</td>\n",
       "    </tr>\n",
       "    <tr>\n",
       "      <th>...</th>\n",
       "      <td>...</td>\n",
       "      <td>...</td>\n",
       "      <td>...</td>\n",
       "      <td>...</td>\n",
       "      <td>...</td>\n",
       "      <td>...</td>\n",
       "      <td>...</td>\n",
       "    </tr>\n",
       "    <tr>\n",
       "      <th>8</th>\n",
       "      <td>0.5</td>\n",
       "      <td>0.00</td>\n",
       "      <td>0.001</td>\n",
       "      <td>5</td>\n",
       "      <td>5</td>\n",
       "      <td>-129.162226</td>\n",
       "      <td>11.364956</td>\n",
       "    </tr>\n",
       "    <tr>\n",
       "      <th>7</th>\n",
       "      <td>0.5</td>\n",
       "      <td>0.00</td>\n",
       "      <td>0.001</td>\n",
       "      <td>5</td>\n",
       "      <td>3</td>\n",
       "      <td>-129.162226</td>\n",
       "      <td>11.364956</td>\n",
       "    </tr>\n",
       "    <tr>\n",
       "      <th>6</th>\n",
       "      <td>0.5</td>\n",
       "      <td>0.00</td>\n",
       "      <td>0.001</td>\n",
       "      <td>5</td>\n",
       "      <td>1</td>\n",
       "      <td>-129.162226</td>\n",
       "      <td>11.364956</td>\n",
       "    </tr>\n",
       "    <tr>\n",
       "      <th>24</th>\n",
       "      <td>0.5</td>\n",
       "      <td>0.05</td>\n",
       "      <td>0.001</td>\n",
       "      <td>5</td>\n",
       "      <td>1</td>\n",
       "      <td>-129.162226</td>\n",
       "      <td>11.364956</td>\n",
       "    </tr>\n",
       "    <tr>\n",
       "      <th>29</th>\n",
       "      <td>0.5</td>\n",
       "      <td>0.05</td>\n",
       "      <td>0.001</td>\n",
       "      <td>10</td>\n",
       "      <td>5</td>\n",
       "      <td>-129.162226</td>\n",
       "      <td>11.364956</td>\n",
       "    </tr>\n",
       "  </tbody>\n",
       "</table>\n",
       "<p>108 rows × 7 columns</p>\n",
       "</div>"
      ],
      "text/plain": [
       "    colsample_bytree  gamma  learning_rate  max_depth  min_child_weight  \\\n",
       "23               0.5   0.05          0.100         10                 5   \n",
       "21               0.5   0.05          0.100         10                 1   \n",
       "22               0.5   0.05          0.100         10                 3   \n",
       "4                0.5   0.00          0.100         10                 3   \n",
       "5                0.5   0.00          0.100         10                 5   \n",
       "..               ...    ...            ...        ...               ...   \n",
       "8                0.5   0.00          0.001          5                 5   \n",
       "7                0.5   0.00          0.001          5                 3   \n",
       "6                0.5   0.00          0.001          5                 1   \n",
       "24               0.5   0.05          0.001          5                 1   \n",
       "29               0.5   0.05          0.001         10                 5   \n",
       "\n",
       "         score      RMSLE  \n",
       "23   -0.025968   0.161145  \n",
       "21   -0.026181   0.161806  \n",
       "22   -0.026184   0.161816  \n",
       "4    -0.026209   0.161891  \n",
       "5    -0.026255   0.162034  \n",
       "..         ...        ...  \n",
       "8  -129.162226  11.364956  \n",
       "7  -129.162226  11.364956  \n",
       "6  -129.162226  11.364956  \n",
       "24 -129.162226  11.364956  \n",
       "29 -129.162226  11.364956  \n",
       "\n",
       "[108 rows x 7 columns]"
      ]
     },
     "execution_count": 29,
     "metadata": {},
     "output_type": "execute_result"
    }
   ],
   "source": [
    "param_grid = {\n",
    "    'learning_rate': [0.1, 0.001, 0.003], # 블로그에서 찾은 파라미터\n",
    "    'max_depth': [5, 10], # 블로그에서 찾은 파라미터\n",
    "    'gamma': [0, 0.05, 0.5], # 블로그에서 찾은 파라미터\n",
    "    'min_child_weight' : [1, 3, 5], # 블로그에서 찾은 파라미터\n",
    "    'colsample_bytree' : [0.5, 1.0], # 블로그에서 찾은 파라미터\n",
    "}\n",
    "\n",
    "xgboost = XGBRegressor(random_state=random_state)\n",
    "my_GridSearch(xgboost, train, y, param_grid, verbose=2, n_jobs=5)\n"
   ]
  },
  {
   "cell_type": "markdown",
   "id": "positive-beatles",
   "metadata": {},
   "source": [
    "`XGBRegressor` 모델의 최적 파라미터\n",
    "\n",
    "* colsample_bytree = 0.5\n",
    "* gamma = 0.05\n",
    "* learning_rate = 0.100\n",
    "* max_depth = 10\n",
    "* min_child_weight = 5"
   ]
  },
  {
   "cell_type": "markdown",
   "id": "disturbed-float",
   "metadata": {},
   "source": [
    "## `GradientBoostingRegressor` 모델 `GridSearchCV` 수행\n",
    "\n",
    "하이퍼파라미터 튜닝은 [sklearn.ensemble.GradientBoostingRegressor](https://scikit-learn.org/stable/modules/generated/sklearn.ensemble.GradientBoostingRegressor.html)을 참조했다."
   ]
  },
  {
   "cell_type": "code",
   "execution_count": 30,
   "id": "joint-edwards",
   "metadata": {
    "ExecuteTime": {
     "end_time": "2021-02-18T11:51:23.197805Z",
     "start_time": "2021-02-18T11:10:05.373214Z"
    }
   },
   "outputs": [
    {
     "name": "stdout",
     "output_type": "stream",
     "text": [
      "Fitting 5 folds for each of 54 candidates, totalling 270 fits\n"
     ]
    },
    {
     "name": "stderr",
     "output_type": "stream",
     "text": [
      "[Parallel(n_jobs=5)]: Using backend LokyBackend with 5 concurrent workers.\n",
      "[Parallel(n_jobs=5)]: Done  65 tasks      | elapsed:  5.8min\n",
      "[Parallel(n_jobs=5)]: Done 192 tasks      | elapsed: 27.3min\n",
      "[Parallel(n_jobs=5)]: Done 270 out of 270 | elapsed: 41.1min finished\n"
     ]
    },
    {
     "data": {
      "text/html": [
       "<div>\n",
       "<style scoped>\n",
       "    .dataframe tbody tr th:only-of-type {\n",
       "        vertical-align: middle;\n",
       "    }\n",
       "\n",
       "    .dataframe tbody tr th {\n",
       "        vertical-align: top;\n",
       "    }\n",
       "\n",
       "    .dataframe thead th {\n",
       "        text-align: right;\n",
       "    }\n",
       "</style>\n",
       "<table border=\"1\" class=\"dataframe\">\n",
       "  <thead>\n",
       "    <tr style=\"text-align: right;\">\n",
       "      <th></th>\n",
       "      <th>learning_rate</th>\n",
       "      <th>max_depth</th>\n",
       "      <th>max_features</th>\n",
       "      <th>n_estimators</th>\n",
       "      <th>score</th>\n",
       "      <th>RMSLE</th>\n",
       "    </tr>\n",
       "  </thead>\n",
       "  <tbody>\n",
       "    <tr>\n",
       "      <th>3</th>\n",
       "      <td>0.100</td>\n",
       "      <td>5</td>\n",
       "      <td>sqrt</td>\n",
       "      <td>1000</td>\n",
       "      <td>-0.026979</td>\n",
       "      <td>0.164254</td>\n",
       "    </tr>\n",
       "    <tr>\n",
       "      <th>6</th>\n",
       "      <td>0.100</td>\n",
       "      <td>5</td>\n",
       "      <td>None</td>\n",
       "      <td>1000</td>\n",
       "      <td>-0.027061</td>\n",
       "      <td>0.164503</td>\n",
       "    </tr>\n",
       "    <tr>\n",
       "      <th>50</th>\n",
       "      <td>0.003</td>\n",
       "      <td>10</td>\n",
       "      <td>sqrt</td>\n",
       "      <td>3000</td>\n",
       "      <td>-0.027223</td>\n",
       "      <td>0.164992</td>\n",
       "    </tr>\n",
       "    <tr>\n",
       "      <th>4</th>\n",
       "      <td>0.100</td>\n",
       "      <td>5</td>\n",
       "      <td>sqrt</td>\n",
       "      <td>2000</td>\n",
       "      <td>-0.027419</td>\n",
       "      <td>0.165587</td>\n",
       "    </tr>\n",
       "    <tr>\n",
       "      <th>7</th>\n",
       "      <td>0.100</td>\n",
       "      <td>5</td>\n",
       "      <td>None</td>\n",
       "      <td>2000</td>\n",
       "      <td>-0.027586</td>\n",
       "      <td>0.166092</td>\n",
       "    </tr>\n",
       "    <tr>\n",
       "      <th>5</th>\n",
       "      <td>0.100</td>\n",
       "      <td>5</td>\n",
       "      <td>sqrt</td>\n",
       "      <td>3000</td>\n",
       "      <td>-0.027659</td>\n",
       "      <td>0.166310</td>\n",
       "    </tr>\n",
       "    <tr>\n",
       "      <th>49</th>\n",
       "      <td>0.003</td>\n",
       "      <td>10</td>\n",
       "      <td>sqrt</td>\n",
       "      <td>2000</td>\n",
       "      <td>-0.027823</td>\n",
       "      <td>0.166804</td>\n",
       "    </tr>\n",
       "    <tr>\n",
       "      <th>8</th>\n",
       "      <td>0.100</td>\n",
       "      <td>5</td>\n",
       "      <td>None</td>\n",
       "      <td>3000</td>\n",
       "      <td>-0.027855</td>\n",
       "      <td>0.166897</td>\n",
       "    </tr>\n",
       "    <tr>\n",
       "      <th>44</th>\n",
       "      <td>0.003</td>\n",
       "      <td>5</td>\n",
       "      <td>None</td>\n",
       "      <td>3000</td>\n",
       "      <td>-0.028886</td>\n",
       "      <td>0.169960</td>\n",
       "    </tr>\n",
       "    <tr>\n",
       "      <th>12</th>\n",
       "      <td>0.100</td>\n",
       "      <td>10</td>\n",
       "      <td>sqrt</td>\n",
       "      <td>1000</td>\n",
       "      <td>-0.029036</td>\n",
       "      <td>0.170399</td>\n",
       "    </tr>\n",
       "    <tr>\n",
       "      <th>13</th>\n",
       "      <td>0.100</td>\n",
       "      <td>10</td>\n",
       "      <td>sqrt</td>\n",
       "      <td>2000</td>\n",
       "      <td>-0.029036</td>\n",
       "      <td>0.170400</td>\n",
       "    </tr>\n",
       "    <tr>\n",
       "      <th>14</th>\n",
       "      <td>0.100</td>\n",
       "      <td>10</td>\n",
       "      <td>sqrt</td>\n",
       "      <td>3000</td>\n",
       "      <td>-0.029036</td>\n",
       "      <td>0.170400</td>\n",
       "    </tr>\n",
       "    <tr>\n",
       "      <th>53</th>\n",
       "      <td>0.003</td>\n",
       "      <td>10</td>\n",
       "      <td>None</td>\n",
       "      <td>3000</td>\n",
       "      <td>-0.029190</td>\n",
       "      <td>0.170851</td>\n",
       "    </tr>\n",
       "    <tr>\n",
       "      <th>41</th>\n",
       "      <td>0.003</td>\n",
       "      <td>5</td>\n",
       "      <td>sqrt</td>\n",
       "      <td>3000</td>\n",
       "      <td>-0.029249</td>\n",
       "      <td>0.171023</td>\n",
       "    </tr>\n",
       "    <tr>\n",
       "      <th>52</th>\n",
       "      <td>0.003</td>\n",
       "      <td>10</td>\n",
       "      <td>None</td>\n",
       "      <td>2000</td>\n",
       "      <td>-0.029404</td>\n",
       "      <td>0.171476</td>\n",
       "    </tr>\n",
       "    <tr>\n",
       "      <th>15</th>\n",
       "      <td>0.100</td>\n",
       "      <td>10</td>\n",
       "      <td>None</td>\n",
       "      <td>1000</td>\n",
       "      <td>-0.029502</td>\n",
       "      <td>0.171760</td>\n",
       "    </tr>\n",
       "    <tr>\n",
       "      <th>16</th>\n",
       "      <td>0.100</td>\n",
       "      <td>10</td>\n",
       "      <td>None</td>\n",
       "      <td>2000</td>\n",
       "      <td>-0.029502</td>\n",
       "      <td>0.171761</td>\n",
       "    </tr>\n",
       "    <tr>\n",
       "      <th>17</th>\n",
       "      <td>0.100</td>\n",
       "      <td>10</td>\n",
       "      <td>None</td>\n",
       "      <td>3000</td>\n",
       "      <td>-0.029502</td>\n",
       "      <td>0.171761</td>\n",
       "    </tr>\n",
       "    <tr>\n",
       "      <th>43</th>\n",
       "      <td>0.003</td>\n",
       "      <td>5</td>\n",
       "      <td>None</td>\n",
       "      <td>2000</td>\n",
       "      <td>-0.030438</td>\n",
       "      <td>0.174465</td>\n",
       "    </tr>\n",
       "    <tr>\n",
       "      <th>32</th>\n",
       "      <td>0.001</td>\n",
       "      <td>10</td>\n",
       "      <td>sqrt</td>\n",
       "      <td>3000</td>\n",
       "      <td>-0.031370</td>\n",
       "      <td>0.177115</td>\n",
       "    </tr>\n",
       "    <tr>\n",
       "      <th>48</th>\n",
       "      <td>0.003</td>\n",
       "      <td>10</td>\n",
       "      <td>sqrt</td>\n",
       "      <td>1000</td>\n",
       "      <td>-0.031459</td>\n",
       "      <td>0.177367</td>\n",
       "    </tr>\n",
       "    <tr>\n",
       "      <th>35</th>\n",
       "      <td>0.001</td>\n",
       "      <td>10</td>\n",
       "      <td>None</td>\n",
       "      <td>3000</td>\n",
       "      <td>-0.031555</td>\n",
       "      <td>0.177637</td>\n",
       "    </tr>\n",
       "    <tr>\n",
       "      <th>51</th>\n",
       "      <td>0.003</td>\n",
       "      <td>10</td>\n",
       "      <td>None</td>\n",
       "      <td>1000</td>\n",
       "      <td>-0.031558</td>\n",
       "      <td>0.177646</td>\n",
       "    </tr>\n",
       "    <tr>\n",
       "      <th>40</th>\n",
       "      <td>0.003</td>\n",
       "      <td>5</td>\n",
       "      <td>sqrt</td>\n",
       "      <td>2000</td>\n",
       "      <td>-0.031690</td>\n",
       "      <td>0.178018</td>\n",
       "    </tr>\n",
       "    <tr>\n",
       "      <th>26</th>\n",
       "      <td>0.001</td>\n",
       "      <td>5</td>\n",
       "      <td>None</td>\n",
       "      <td>3000</td>\n",
       "      <td>-0.036377</td>\n",
       "      <td>0.190727</td>\n",
       "    </tr>\n",
       "    <tr>\n",
       "      <th>42</th>\n",
       "      <td>0.003</td>\n",
       "      <td>5</td>\n",
       "      <td>None</td>\n",
       "      <td>1000</td>\n",
       "      <td>-0.036381</td>\n",
       "      <td>0.190737</td>\n",
       "    </tr>\n",
       "    <tr>\n",
       "      <th>34</th>\n",
       "      <td>0.001</td>\n",
       "      <td>10</td>\n",
       "      <td>None</td>\n",
       "      <td>2000</td>\n",
       "      <td>-0.037256</td>\n",
       "      <td>0.193019</td>\n",
       "    </tr>\n",
       "    <tr>\n",
       "      <th>31</th>\n",
       "      <td>0.001</td>\n",
       "      <td>10</td>\n",
       "      <td>sqrt</td>\n",
       "      <td>2000</td>\n",
       "      <td>-0.038713</td>\n",
       "      <td>0.196756</td>\n",
       "    </tr>\n",
       "    <tr>\n",
       "      <th>23</th>\n",
       "      <td>0.001</td>\n",
       "      <td>5</td>\n",
       "      <td>sqrt</td>\n",
       "      <td>3000</td>\n",
       "      <td>-0.040352</td>\n",
       "      <td>0.200879</td>\n",
       "    </tr>\n",
       "    <tr>\n",
       "      <th>39</th>\n",
       "      <td>0.003</td>\n",
       "      <td>5</td>\n",
       "      <td>sqrt</td>\n",
       "      <td>1000</td>\n",
       "      <td>-0.040390</td>\n",
       "      <td>0.200972</td>\n",
       "    </tr>\n",
       "    <tr>\n",
       "      <th>25</th>\n",
       "      <td>0.001</td>\n",
       "      <td>5</td>\n",
       "      <td>None</td>\n",
       "      <td>2000</td>\n",
       "      <td>-0.046533</td>\n",
       "      <td>0.215715</td>\n",
       "    </tr>\n",
       "    <tr>\n",
       "      <th>22</th>\n",
       "      <td>0.001</td>\n",
       "      <td>5</td>\n",
       "      <td>sqrt</td>\n",
       "      <td>2000</td>\n",
       "      <td>-0.053044</td>\n",
       "      <td>0.230312</td>\n",
       "    </tr>\n",
       "    <tr>\n",
       "      <th>33</th>\n",
       "      <td>0.001</td>\n",
       "      <td>10</td>\n",
       "      <td>None</td>\n",
       "      <td>1000</td>\n",
       "      <td>-0.069135</td>\n",
       "      <td>0.262935</td>\n",
       "    </tr>\n",
       "    <tr>\n",
       "      <th>30</th>\n",
       "      <td>0.001</td>\n",
       "      <td>10</td>\n",
       "      <td>sqrt</td>\n",
       "      <td>1000</td>\n",
       "      <td>-0.073842</td>\n",
       "      <td>0.271739</td>\n",
       "    </tr>\n",
       "    <tr>\n",
       "      <th>24</th>\n",
       "      <td>0.001</td>\n",
       "      <td>5</td>\n",
       "      <td>None</td>\n",
       "      <td>1000</td>\n",
       "      <td>-0.083838</td>\n",
       "      <td>0.289548</td>\n",
       "    </tr>\n",
       "    <tr>\n",
       "      <th>21</th>\n",
       "      <td>0.001</td>\n",
       "      <td>5</td>\n",
       "      <td>sqrt</td>\n",
       "      <td>1000</td>\n",
       "      <td>-0.095522</td>\n",
       "      <td>0.309066</td>\n",
       "    </tr>\n",
       "    <tr>\n",
       "      <th>0</th>\n",
       "      <td>0.100</td>\n",
       "      <td>5</td>\n",
       "      <td>Log2</td>\n",
       "      <td>1000</td>\n",
       "      <td>NaN</td>\n",
       "      <td>NaN</td>\n",
       "    </tr>\n",
       "    <tr>\n",
       "      <th>1</th>\n",
       "      <td>0.100</td>\n",
       "      <td>5</td>\n",
       "      <td>Log2</td>\n",
       "      <td>2000</td>\n",
       "      <td>NaN</td>\n",
       "      <td>NaN</td>\n",
       "    </tr>\n",
       "    <tr>\n",
       "      <th>2</th>\n",
       "      <td>0.100</td>\n",
       "      <td>5</td>\n",
       "      <td>Log2</td>\n",
       "      <td>3000</td>\n",
       "      <td>NaN</td>\n",
       "      <td>NaN</td>\n",
       "    </tr>\n",
       "    <tr>\n",
       "      <th>9</th>\n",
       "      <td>0.100</td>\n",
       "      <td>10</td>\n",
       "      <td>Log2</td>\n",
       "      <td>1000</td>\n",
       "      <td>NaN</td>\n",
       "      <td>NaN</td>\n",
       "    </tr>\n",
       "    <tr>\n",
       "      <th>10</th>\n",
       "      <td>0.100</td>\n",
       "      <td>10</td>\n",
       "      <td>Log2</td>\n",
       "      <td>2000</td>\n",
       "      <td>NaN</td>\n",
       "      <td>NaN</td>\n",
       "    </tr>\n",
       "    <tr>\n",
       "      <th>11</th>\n",
       "      <td>0.100</td>\n",
       "      <td>10</td>\n",
       "      <td>Log2</td>\n",
       "      <td>3000</td>\n",
       "      <td>NaN</td>\n",
       "      <td>NaN</td>\n",
       "    </tr>\n",
       "    <tr>\n",
       "      <th>18</th>\n",
       "      <td>0.001</td>\n",
       "      <td>5</td>\n",
       "      <td>Log2</td>\n",
       "      <td>1000</td>\n",
       "      <td>NaN</td>\n",
       "      <td>NaN</td>\n",
       "    </tr>\n",
       "    <tr>\n",
       "      <th>19</th>\n",
       "      <td>0.001</td>\n",
       "      <td>5</td>\n",
       "      <td>Log2</td>\n",
       "      <td>2000</td>\n",
       "      <td>NaN</td>\n",
       "      <td>NaN</td>\n",
       "    </tr>\n",
       "    <tr>\n",
       "      <th>20</th>\n",
       "      <td>0.001</td>\n",
       "      <td>5</td>\n",
       "      <td>Log2</td>\n",
       "      <td>3000</td>\n",
       "      <td>NaN</td>\n",
       "      <td>NaN</td>\n",
       "    </tr>\n",
       "    <tr>\n",
       "      <th>27</th>\n",
       "      <td>0.001</td>\n",
       "      <td>10</td>\n",
       "      <td>Log2</td>\n",
       "      <td>1000</td>\n",
       "      <td>NaN</td>\n",
       "      <td>NaN</td>\n",
       "    </tr>\n",
       "    <tr>\n",
       "      <th>28</th>\n",
       "      <td>0.001</td>\n",
       "      <td>10</td>\n",
       "      <td>Log2</td>\n",
       "      <td>2000</td>\n",
       "      <td>NaN</td>\n",
       "      <td>NaN</td>\n",
       "    </tr>\n",
       "    <tr>\n",
       "      <th>29</th>\n",
       "      <td>0.001</td>\n",
       "      <td>10</td>\n",
       "      <td>Log2</td>\n",
       "      <td>3000</td>\n",
       "      <td>NaN</td>\n",
       "      <td>NaN</td>\n",
       "    </tr>\n",
       "    <tr>\n",
       "      <th>36</th>\n",
       "      <td>0.003</td>\n",
       "      <td>5</td>\n",
       "      <td>Log2</td>\n",
       "      <td>1000</td>\n",
       "      <td>NaN</td>\n",
       "      <td>NaN</td>\n",
       "    </tr>\n",
       "    <tr>\n",
       "      <th>37</th>\n",
       "      <td>0.003</td>\n",
       "      <td>5</td>\n",
       "      <td>Log2</td>\n",
       "      <td>2000</td>\n",
       "      <td>NaN</td>\n",
       "      <td>NaN</td>\n",
       "    </tr>\n",
       "    <tr>\n",
       "      <th>38</th>\n",
       "      <td>0.003</td>\n",
       "      <td>5</td>\n",
       "      <td>Log2</td>\n",
       "      <td>3000</td>\n",
       "      <td>NaN</td>\n",
       "      <td>NaN</td>\n",
       "    </tr>\n",
       "    <tr>\n",
       "      <th>45</th>\n",
       "      <td>0.003</td>\n",
       "      <td>10</td>\n",
       "      <td>Log2</td>\n",
       "      <td>1000</td>\n",
       "      <td>NaN</td>\n",
       "      <td>NaN</td>\n",
       "    </tr>\n",
       "    <tr>\n",
       "      <th>46</th>\n",
       "      <td>0.003</td>\n",
       "      <td>10</td>\n",
       "      <td>Log2</td>\n",
       "      <td>2000</td>\n",
       "      <td>NaN</td>\n",
       "      <td>NaN</td>\n",
       "    </tr>\n",
       "    <tr>\n",
       "      <th>47</th>\n",
       "      <td>0.003</td>\n",
       "      <td>10</td>\n",
       "      <td>Log2</td>\n",
       "      <td>3000</td>\n",
       "      <td>NaN</td>\n",
       "      <td>NaN</td>\n",
       "    </tr>\n",
       "  </tbody>\n",
       "</table>\n",
       "</div>"
      ],
      "text/plain": [
       "    learning_rate  max_depth max_features  n_estimators     score     RMSLE\n",
       "3           0.100          5         sqrt          1000 -0.026979  0.164254\n",
       "6           0.100          5         None          1000 -0.027061  0.164503\n",
       "50          0.003         10         sqrt          3000 -0.027223  0.164992\n",
       "4           0.100          5         sqrt          2000 -0.027419  0.165587\n",
       "7           0.100          5         None          2000 -0.027586  0.166092\n",
       "5           0.100          5         sqrt          3000 -0.027659  0.166310\n",
       "49          0.003         10         sqrt          2000 -0.027823  0.166804\n",
       "8           0.100          5         None          3000 -0.027855  0.166897\n",
       "44          0.003          5         None          3000 -0.028886  0.169960\n",
       "12          0.100         10         sqrt          1000 -0.029036  0.170399\n",
       "13          0.100         10         sqrt          2000 -0.029036  0.170400\n",
       "14          0.100         10         sqrt          3000 -0.029036  0.170400\n",
       "53          0.003         10         None          3000 -0.029190  0.170851\n",
       "41          0.003          5         sqrt          3000 -0.029249  0.171023\n",
       "52          0.003         10         None          2000 -0.029404  0.171476\n",
       "15          0.100         10         None          1000 -0.029502  0.171760\n",
       "16          0.100         10         None          2000 -0.029502  0.171761\n",
       "17          0.100         10         None          3000 -0.029502  0.171761\n",
       "43          0.003          5         None          2000 -0.030438  0.174465\n",
       "32          0.001         10         sqrt          3000 -0.031370  0.177115\n",
       "48          0.003         10         sqrt          1000 -0.031459  0.177367\n",
       "35          0.001         10         None          3000 -0.031555  0.177637\n",
       "51          0.003         10         None          1000 -0.031558  0.177646\n",
       "40          0.003          5         sqrt          2000 -0.031690  0.178018\n",
       "26          0.001          5         None          3000 -0.036377  0.190727\n",
       "42          0.003          5         None          1000 -0.036381  0.190737\n",
       "34          0.001         10         None          2000 -0.037256  0.193019\n",
       "31          0.001         10         sqrt          2000 -0.038713  0.196756\n",
       "23          0.001          5         sqrt          3000 -0.040352  0.200879\n",
       "39          0.003          5         sqrt          1000 -0.040390  0.200972\n",
       "25          0.001          5         None          2000 -0.046533  0.215715\n",
       "22          0.001          5         sqrt          2000 -0.053044  0.230312\n",
       "33          0.001         10         None          1000 -0.069135  0.262935\n",
       "30          0.001         10         sqrt          1000 -0.073842  0.271739\n",
       "24          0.001          5         None          1000 -0.083838  0.289548\n",
       "21          0.001          5         sqrt          1000 -0.095522  0.309066\n",
       "0           0.100          5         Log2          1000       NaN       NaN\n",
       "1           0.100          5         Log2          2000       NaN       NaN\n",
       "2           0.100          5         Log2          3000       NaN       NaN\n",
       "9           0.100         10         Log2          1000       NaN       NaN\n",
       "10          0.100         10         Log2          2000       NaN       NaN\n",
       "11          0.100         10         Log2          3000       NaN       NaN\n",
       "18          0.001          5         Log2          1000       NaN       NaN\n",
       "19          0.001          5         Log2          2000       NaN       NaN\n",
       "20          0.001          5         Log2          3000       NaN       NaN\n",
       "27          0.001         10         Log2          1000       NaN       NaN\n",
       "28          0.001         10         Log2          2000       NaN       NaN\n",
       "29          0.001         10         Log2          3000       NaN       NaN\n",
       "36          0.003          5         Log2          1000       NaN       NaN\n",
       "37          0.003          5         Log2          2000       NaN       NaN\n",
       "38          0.003          5         Log2          3000       NaN       NaN\n",
       "45          0.003         10         Log2          1000       NaN       NaN\n",
       "46          0.003         10         Log2          2000       NaN       NaN\n",
       "47          0.003         10         Log2          3000       NaN       NaN"
      ]
     },
     "execution_count": 30,
     "metadata": {},
     "output_type": "execute_result"
    }
   ],
   "source": [
    "param_grid = {\n",
    "    'n_estimators': [1000, 2000, 3000],\n",
    "    'max_depth': [5, 10],\n",
    "    'learning_rate' : [0.1, 0.001, 0.003],\n",
    "    'max_features': [\"Log2\", \"sqrt\", None] # 홈페이지서 찾은 파라미터\n",
    "}\n",
    "model = GradientBoostingRegressor(random_state=random_state)\n",
    "my_GridSearch(model, train, y, param_grid, verbose=2, n_jobs=5)"
   ]
  },
  {
   "cell_type": "markdown",
   "id": "ambient-center",
   "metadata": {},
   "source": [
    "`GradientBoostingRegressor` 모델의 최적 파라미터\n",
    "\n",
    "* learning_rate = 0.1\n",
    "* max_depth = 5\n",
    "* max_features = \"sqrt\"\n",
    "* n_estimators = 1000"
   ]
  },
  {
   "cell_type": "markdown",
   "id": "ranking-fairy",
   "metadata": {},
   "source": [
    "## `RandomForestRegressor` 모델은 스킵\n",
    "3개 모델 했는데, 시간이 너무 오래걸려서 `RandomForestRegressor` 는 스킵했다."
   ]
  },
  {
   "cell_type": "markdown",
   "id": "approximate-begin",
   "metadata": {},
   "source": [
    "## 모델 전부 학습시키기\n",
    "\n",
    "lightgbm의 RMSE값이 다른 것들 보다 높아서 제외시켰다.<br>\n",
    "(3개로 ensemble을 적용했더니, Public score는 낮게 나오는데 Private score가 110000아래로 안내려갔다. 그래서 높은 갚을 가진 모델을 제외시켜서 emsemble을 적용시켰다.)"
   ]
  },
  {
   "cell_type": "code",
   "execution_count": 55,
   "id": "spoken-romantic",
   "metadata": {
    "ExecuteTime": {
     "end_time": "2021-02-18T12:23:23.933269Z",
     "start_time": "2021-02-18T12:23:13.752448Z"
    }
   },
   "outputs": [
    {
     "data": {
      "text/html": [
       "<div>\n",
       "<style scoped>\n",
       "    .dataframe tbody tr th:only-of-type {\n",
       "        vertical-align: middle;\n",
       "    }\n",
       "\n",
       "    .dataframe tbody tr th {\n",
       "        vertical-align: top;\n",
       "    }\n",
       "\n",
       "    .dataframe thead th {\n",
       "        text-align: right;\n",
       "    }\n",
       "</style>\n",
       "<table border=\"1\" class=\"dataframe\">\n",
       "  <thead>\n",
       "    <tr style=\"text-align: right;\">\n",
       "      <th></th>\n",
       "      <th>RMSE</th>\n",
       "    </tr>\n",
       "  </thead>\n",
       "  <tbody>\n",
       "    <tr>\n",
       "      <th>GradientBoostingRegressor</th>\n",
       "      <td>109243.309108</td>\n",
       "    </tr>\n",
       "    <tr>\n",
       "      <th>XGBRegressor</th>\n",
       "      <td>105917.918628</td>\n",
       "    </tr>\n",
       "  </tbody>\n",
       "</table>\n",
       "</div>"
      ],
      "text/plain": [
       "                                    RMSE\n",
       "GradientBoostingRegressor  109243.309108\n",
       "XGBRegressor               105917.918628"
      ]
     },
     "execution_count": 55,
     "metadata": {},
     "output_type": "execute_result"
    }
   ],
   "source": [
    "# lightgbm = LGBMRegressor(boosting = \"goss\", feature_fraction=0.8, learning_rate = 0.003, max_depth = 20, num_iterations = 3000, random_state=random_state)\n",
    "xgboost = XGBRegressor(colsample_bytree = 0.5, gamma = 0.05, learning_rate = 0.1, max_depth = 10, min_child_weight = 5, random_state=random_state)\n",
    "gboost = GradientBoostingRegressor(learning_rate = 0.1, max_depth = 5, max_features = \"sqrt\", n_estimators = 1000, random_state=random_state)\n",
    "\n",
    "models = [xgboost, gboost]\n",
    "\n",
    "get_scores(models, train, y)"
   ]
  },
  {
   "cell_type": "markdown",
   "id": "quick-zealand",
   "metadata": {},
   "source": [
    "## 앙상블 적용"
   ]
  },
  {
   "cell_type": "code",
   "execution_count": 57,
   "id": "electoral-serum",
   "metadata": {
    "ExecuteTime": {
     "end_time": "2021-02-18T12:23:59.881835Z",
     "start_time": "2021-02-18T12:23:47.261686Z"
    }
   },
   "outputs": [
    {
     "name": "stdout",
     "output_type": "stream",
     "text": [
      "6468\n"
     ]
    },
    {
     "data": {
      "text/plain": [
       "array([13.18081259, 13.03536257, 14.16897058, ..., 13.10439888,\n",
       "       12.69287968, 12.99511166])"
      ]
     },
     "execution_count": 57,
     "metadata": {},
     "output_type": "execute_result"
    }
   ],
   "source": [
    "models = [{'model':xgboost, 'name':'XGBoost'},\n",
    "          {'model':gboost, 'name':'GradientBoosting'}]\n",
    "\n",
    "def AveragingBlending(models, train, y, sub_x):\n",
    "    for m in models : \n",
    "        m['model'].fit(train, y)\n",
    "    \n",
    "    predictions = np.column_stack([\n",
    "        m['model'].predict(test) for m in models\n",
    "    ])\n",
    "    return np.mean(predictions, axis=1)\n",
    "\n",
    "prediction = AveragingBlending(models, train, y, test)\n",
    "print(len(prediction))\n",
    "prediction"
   ]
  },
  {
   "cell_type": "markdown",
   "id": "incorporate-groove",
   "metadata": {},
   "source": [
    "## `np.expm1` 적용"
   ]
  },
  {
   "cell_type": "code",
   "execution_count": 58,
   "id": "sound-stock",
   "metadata": {
    "ExecuteTime": {
     "end_time": "2021-02-18T12:24:04.158690Z",
     "start_time": "2021-02-18T12:24:04.155000Z"
    }
   },
   "outputs": [
    {
     "data": {
      "text/plain": [
       "array([ 530094.57149502,  458337.17849903, 1423985.06170522, ...,\n",
       "        491096.95330108,  325421.52117203,  440255.00244986])"
      ]
     },
     "execution_count": 58,
     "metadata": {},
     "output_type": "execute_result"
    }
   ],
   "source": [
    "prediction = np.expm1(prediction)\n",
    "prediction"
   ]
  },
  {
   "cell_type": "markdown",
   "id": "bronze-turtle",
   "metadata": {},
   "source": [
    "## `save_submission`함수로 예측 결과 저장하기"
   ]
  },
  {
   "cell_type": "code",
   "execution_count": 59,
   "id": "oriented-inspector",
   "metadata": {
    "ExecuteTime": {
     "end_time": "2021-02-18T12:24:05.827839Z",
     "start_time": "2021-02-18T12:24:05.824751Z"
    }
   },
   "outputs": [],
   "source": [
    "def save_submission(prediction, model_name, rmsle=None):\n",
    "    data_dir = os.getenv('HOME')+'/AIFFEL/Exploration/E9_kaggle/kaggle-kakr-housing-data/data'\n",
    "    submission_path = join(data_dir, 'sample_submission.csv')\n",
    "    submission = pd.read_csv(submission_path)\n",
    "    submission['price'] = prediction\n",
    "    submission_csv_path = '{}/submission_{}_RMSLE_{}.csv'.format(data_dir, model_name, rmsle)\n",
    "    submission.to_csv(submission_csv_path, index=False)\n",
    "    print('{} saved!'.format(submission_csv_path))"
   ]
  },
  {
   "cell_type": "code",
   "execution_count": 60,
   "id": "congressional-dayton",
   "metadata": {
    "ExecuteTime": {
     "end_time": "2021-02-18T12:24:09.157626Z",
     "start_time": "2021-02-18T12:24:09.135237Z"
    }
   },
   "outputs": [
    {
     "name": "stdout",
     "output_type": "stream",
     "text": [
      "/home/aiffel-dj10/AIFFEL/Exploration/E9_kaggle/kaggle-kakr-housing-data/data/submission_ensemble6_RMSLE_None.csv saved!\n"
     ]
    }
   ],
   "source": [
    "save_submission(prediction, 'ensemble6', rmsle=None)"
   ]
  },
  {
   "cell_type": "markdown",
   "id": "considerable-bathroom",
   "metadata": {},
   "source": [
    "## 캐글에 결과 제출\n",
    "저장된 csv파일을 캐글에 제출한다.\n",
    "\n",
    "<img src=\"./real_final.jpg\" alt=\"Final\" />\n",
    "\n",
    "<img src=\"./real_history.jpg\" alt=\"History\" />"
   ]
  },
  {
   "cell_type": "markdown",
   "id": "closing-thomas",
   "metadata": {},
   "source": [
    "## 루브릭\n",
    "---\n",
    "* 캐글 데이터분석 전과정이 성공적으로 진행되었는가?<br>\n",
    "(데이터 전처리, 모델학습, 예측의 전체 과정을 거쳐 캐글 submission까지 진행되었다.)\n",
    "\n",
    "    * __데이터 전처리, 모델학습, 예측의 전체 과정을 거쳐 캐글 submission까지 정확하게 진행되었다. 좀 더 자세한 코드 설명은 Practice 파일에 넣어놓았다. 위에 링크 있음.__\n",
    "\n",
    "* 전처리, 학습과정 및 결과에 대한 설명이 시각화를 포함하여 체계적으로 진행되었는가?<br>\n",
    "(_제출된 노트북이 캐글 커널로 사용될 수 있을 만큼 전처리, 학습, 최적화 진행 과정이 체계적으로 기술되었다._)\n",
    "    \n",
    "    * __캐글 커널로 사용될만 하다.__\n",
    "\n",
    "* 회귀모델 예측정확도가 기준 이상 높게 나왔는가?<br>\n",
    "(_다양한 피처 엔지니어링과 하이퍼 파라미터 튜닝 등의 최적화 기법을 통해 캐글 리더보드의 Private score 기준 110000 이하의 점수를 얻었다._)\n",
    "    \n",
    "    * __후... 110000점 이하의 점수를 만들기가 너무 힘들었다. Public score는 110000 이하의 점수가 나왔는데, Private score가 자꾸 110000 이상이 나와서 곤혹을 겪었다. 겨우겨우 LGBMRegressor 모델을 앙상블 기법에서 뺐더니 Private score가 110000 이하의 점수로 나왔다.__"
   ]
  },
  {
   "cell_type": "markdown",
   "id": "verified-dollar",
   "metadata": {},
   "source": [
    "## 회고\n",
    "---\n",
    "1. 일단 하이퍼파라미터 변경, 데이터 전처리의 중요성을 느꼈다. 아무래도 해커톤에서 해봤던 제출 방식이라, 제출까지는 쉬웠다.\n",
    "2. 학습 모델에 대한 블로그나 홈페이지에 하이퍼파라미터의 설명과 추천 방식들을 찾아서 적용시켰다.\n",
    "3. Public score가 110000 이하의 점수가 나오고, 마무리로 루브릭 쓰는데, 스코어 기준이 Private score 인것을 깨닫고 그리드 서치부터 다시 진행했다. 앙상블에서 LGBMRegressor 모델(RMSE값이 다른 모델들보다 높았음)을 제외하고 모델을 돌려보니, Private score 기준으로 109477점이 나왔다."
   ]
  },
  {
   "cell_type": "markdown",
   "id": "amazing-fluid",
   "metadata": {},
   "source": [
    "## 질문\n",
    "---\n",
    "1. 왜 기준이 Private score일까?"
   ]
  }
 ],
 "metadata": {
  "kernelspec": {
   "display_name": "aiffel",
   "language": "python",
   "name": "aiffel"
  },
  "language_info": {
   "codemirror_mode": {
    "name": "ipython",
    "version": 3
   },
   "file_extension": ".py",
   "mimetype": "text/x-python",
   "name": "python",
   "nbconvert_exporter": "python",
   "pygments_lexer": "ipython3",
   "version": "3.7.9"
  },
  "toc": {
   "base_numbering": 1,
   "nav_menu": {},
   "number_sections": true,
   "sideBar": true,
   "skip_h1_title": false,
   "title_cell": "Table of Contents",
   "title_sidebar": "Contents",
   "toc_cell": false,
   "toc_position": {},
   "toc_section_display": true,
   "toc_window_display": false
  },
  "varInspector": {
   "cols": {
    "lenName": 16,
    "lenType": 16,
    "lenVar": 40
   },
   "kernels_config": {
    "python": {
     "delete_cmd_postfix": "",
     "delete_cmd_prefix": "del ",
     "library": "var_list.py",
     "varRefreshCmd": "print(var_dic_list())"
    },
    "r": {
     "delete_cmd_postfix": ") ",
     "delete_cmd_prefix": "rm(",
     "library": "var_list.r",
     "varRefreshCmd": "cat(var_dic_list()) "
    }
   },
   "types_to_exclude": [
    "module",
    "function",
    "builtin_function_or_method",
    "instance",
    "_Feature"
   ],
   "window_display": false
  }
 },
 "nbformat": 4,
 "nbformat_minor": 5
}
