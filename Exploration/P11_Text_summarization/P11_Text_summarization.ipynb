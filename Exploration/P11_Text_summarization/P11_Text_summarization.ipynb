{
 "cells": [
  {
   "cell_type": "markdown",
   "id": "conceptual-animal",
   "metadata": {},
   "source": [
    "# 11.뉴스 요약봇 만들기"
   ]
  },
  {
   "cell_type": "markdown",
   "id": "composed-cornwall",
   "metadata": {},
   "source": [
    "## 1. 들어가며\n",
    "긴 문장을 짧게 요약해주는 텍스트 요약기를 만들어보자\n",
    "\n",
    "텍스트 요약은 끊임 없이 늘어나는 정보를 쉽고 빠르게 소화하기 위해서 굉장히 중요한 기술이다. 구글에서 검색되는 페이지들로만 해도 600억개의 페이지정도가 있다. 아마 숨겨지거나, 검색되지 않은 페이지들을 합치면 그 수는 훨씬 클것이다. 게다가 인터넷은 계속해서 커지고 있으니, 이 모든 페이지를 다 소화하기는 무리일 것이다.\n",
    "\n",
    "여기에서 텍스트 요약(Text Summarization)기술이 나타나 이 큰 정보들을 소화할 수 있도록 도와주는 것이다."
   ]
  },
  {
   "cell_type": "markdown",
   "id": "sensitive-offense",
   "metadata": {},
   "source": [
    "### 학습 목표\n",
    "---\n",
    "* Extractive/Abstractive summarization 이해하기\n",
    "* 단어장 크기를 줄이는 다양한 text normalization 적용해보기\n",
    "* seq2seq의 성능을 Up시키는 Attention Mechanism 적용하기"
   ]
  },
  {
   "cell_type": "markdown",
   "id": "charitable-parcel",
   "metadata": {},
   "source": [
    "## 2. 텍스트 요약(Text Summarization)이란?\n",
    "\n",
    "<img src=\"./image/textsum.png\" alt=\"Text Summarization\" />\n",
    "\n",
    "텍스트 요약(Text Summarization)이란 위 그림과 같이 긴 길이의 문서(Document) 원문을 핵심 주제만으로 구성된 짧은 요약(Summary) 문장들로 변환하는 것을 말한다. 예를 들어 상대적으로 큰 텍스트인 뉴스 기사로 작은 텍스트인 뉴스 제목을 만들어내는 것이 텍스트 요약의 대표적인 예라고 할 수 있다.\n",
    "\n",
    "이때 중요한 것은 요약 전후에 정보 손실 발생이 최소화되어야 한다는 점이다. 이것은 정보를 압축하는 과정과 같다. 비록 텍스트의 길이가 크게 줄어들었지만, 요약문은 문서 원문이 담고 있는 정보를 최대한 보존하고 있어야 한다. 이것은 원문의 길이가 길수록 만만치 않은 어려운 작업이 된다. 사람이 이 작업을 수행한다 하더라도 긴 문장을 정확하게 읽고 이해한 후, 그 의미를 손상하지 않는 짧은 다른 표현으로 원문을 번역해 내야 하는 것이다.\n",
    "\n",
    "그렇게 요약 문장을 만들어 내려면 어떤 방법을 사용하면 좋을까? 여기서 텍스트 요약은 크게 추출적 요약(Extractive Summarization)과 추상적 요약(Abstractive Summarization)의 두가지 접근으로 나누어볼 수 있다."
   ]
  },
  {
   "cell_type": "markdown",
   "id": "accepted-fraction",
   "metadata": {},
   "source": [
    "### 추출적 요약(Extractive Summarization)\n",
    "---\n",
    "첫번째 방식인 추출적 요약은 단어 그대로 원문에서 문장들을 추출해서 요약하는 방식이다. 가령, 10개의 문장으로 구성된 텍스트가 있다면, 그 중 핵심적인 문장 3개를 꺼내와서 3개의 문장으로 구성된 요약문을 만드는 식이다. 그런데 꺼내온 3개의 문장이 원문에서 중요한 문장일 수는 있어도, 3개의 문장의 연결이 자연스럽지 않을 수는 있다. 결과로 나온 문장들 간의 호응이 자연스럽지 않을 수 있다는 것이다. 딥 러닝보다는 주로 전통적인 머신 러닝 방식에 속하는 텍스트랭크([TextRank](https://www.aclweb.org/anthology/W04-3252.pdf))와 같은 알고리즘을 사용해서 이 방법을 사용한다고 한다.\n",
    "\n",
    "이런 방식을 이미 서비스에 도입해서 활용하고 있는 사례가 있다. 가장 대표적인 것이 네이버 뉴스 서비스에 있는 `요약봇` 기능이다.\n",
    "\n",
    "[네이버 뉴스](https://news.naver.com/)에 접속해서 아무 뉴스 기사나 클릭해 보자. 제목 우하단의 `요약봇` 버튼을 다시 클릭해 보면, 기사 원문을 단 3줄로 요약한 글을 볼 수 있다. 가끔은 세 문장간 연결이 조금 매끄럽지 않게 느껴질 때도 있지만 꽤 그럴듯한 요약문으로 보인다. 위에서 소개한 TextRank 알고리즘을 통해 해당 기사를 가장 잘 대표하는 단어들로 이루어진 핵심문장을 아주 효과적으로 찾아내기 때문이다. 잘 찾아보면 요약문에 사용된 문장 3개가 원문에 그대로 있다는 것을 알 수 있다."
   ]
  },
  {
   "cell_type": "markdown",
   "id": "pressing-tension",
   "metadata": {},
   "source": [
    "### 추상적 요약(Abstractive Summarization)\n",
    "---\n",
    "두번째 방식인 추상적 요약은 추출적 요약보다 좀 더 흥미로운 접근을 사용한다. 원문으로부터 내용이 요약된 새로운 문장을 생성해내는 것이다. 여기서 __새로운 문장__이라는 것은 결과로 나온 문장이 원문에 원래 없던 문장일 수도 있다는 것을 의미한다. 자연어 처리 분야 중 자연어 생성(Natural Language Generation, NLG)의 영역인 셈이다. 반면, 추출적 요약은 원문을 구성하는 문장 중 어느 것이 요약문에 들어갈 핵심문장인지를 판별한다는 점에서 문장 분류(Text Classification) 문제로 볼 수 있을 것이다.\n",
    "\n",
    "자연어 생성하면 혹시 떠오르는 신경망이 있을 것이다. 가장 기본적인 신경망 중 하나인 RNN으로 이 문제를 풀 수 있다 그렇다면, RNN으로 추상적 요약 방식을 구현한다고 하면 문제가 전혀 없을까?\n",
    "\n",
    "RNN은 학습 데이터의 길이가 길어질수록 먼 과거의 정보를 현재에 전달하기 어렵다는 문제가 있다. 이 문제를 해결하기 위해 LSTM과 GRU가 등장했고, 이 둘도 부족해서 어텐션(Attention) 메커니즘이 등장했다.\n",
    "\n",
    "이 문제를 장기 의존성(long term dependencies) 문제라고 한다.\n",
    "\n",
    "그저 RNN을 이용해 Language Generation을 한다고 해서 긴 문장을 읽고 나서 요약문을 뚝딱 만들어내긴 어렵다. 어떤 방법을 사용할 지 고민을 할 때, 잘 하는 사람들의 것들을 보는 것도 도움이 된다. ML 분야의 선구자라고 할 수 있는 기업 '구글(Google)'은 자신들의 서비스에 어떤 방식으로 텍스트 요약을 시도했었을까? 2016년의 아래 기사에 따르면, 구글은 뉴스 기사 내용으로부터 자동으로 뉴스 제목을 뽑아내는 텍스트 요약 모델을 구현했었다고 한다. 어떻게 구현했는지, 읽어보자.\n",
    "\n",
    "* [구글 인공지능 \"뉴스 제목도 잘 뽑네\"](https://zdnet.co.kr/view/?no=20160905114833&from=Mobile)\n",
    "\n",
    "구글이 메일서비스에 적용한 자동 회신(Smart Reply) 기능을 만든 것과 비슷한 딥러닝 기법이기도 한 인코더와 디코더의 구조로 구성된 이 딥 러닝 아키텍처를 __seq2seq(sequence-to-sequence)__라고 한다."
   ]
  },
  {
   "cell_type": "markdown",
   "id": "ordered-analysis",
   "metadata": {},
   "source": [
    "## 3. 인공 신경망으로 텍스트 요약 훈련시키기\n",
    "\n",
    "seq2seq 모델을 통해서 Abstractive summarization 방식의 텍스트 요약기를 만들어볼것이다. seq2seq은 두 개의 RNN 아키텍처를 사용하여 입력 시퀀스로부터 출력 시퀀스를 생성해내는 자연어 생성 모델이다. 주로 뉴럴 기계번역에 사용되는 이 모델이 텍스트 요약에도 사용될 수 있을지 갸우뚱하실 수도 있겠지만, 원문을 요약문으로 번역한다고 생각한다면 전혀 무리가 없다."
   ]
  },
  {
   "cell_type": "markdown",
   "id": "administrative-accountability",
   "metadata": {},
   "source": [
    "### seq2seq 개요\n",
    "---\n",
    "\n",
    "<img src=\"./image/s2s.png\" alt=\"seq2seq\" />\n",
    "\n",
    "원문을 첫번째 RNN인 인코더로 입력하면, 인코더는 이를 하나의 고정된 벡터로 변환한다. 이 벡터를 문맥 정보를 가지고 있는 벡터라고 하여 컨텍스트 벡터(context vector)라고 한다. 두번째 RNN인 디코더는 이 컨텍스트 벡터를 전달받아 한 단어씩 생성해내서 요약 문장을 완성한다.\n",
    "\n",
    "seq2seq를 쉽게 풀어준 영상이 있다. \n",
    "[![노마드 코더](https://img.youtube.com/vi/WsQLdu2JMgI/0.jpg)](https://youtu.be/WsQLdu2JMgI)"
   ]
  },
  {
   "cell_type": "markdown",
   "id": "comfortable-novelty",
   "metadata": {},
   "source": [
    "### LSTM과 컨텍스트 벡터\n",
    "---\n",
    "seq2seq를 구현할 때, 인코더/디코더로 바닐라 RNN이 아니라 LSTM을 사용할 것이다.\n",
    "\n",
    "<img src=\"./image/lstm.png\" alt=\"LSTM\" />"
   ]
  },
  {
   "cell_type": "markdown",
   "id": "allied-perfume",
   "metadata": {},
   "source": [
    "LSTM이 바닐라 RNN과 다른 점은 다음 time step의 셀에 hidden state뿐만 아니라, cell state도 함께 전달한다는 점이다. 다시 말해, 인코더가 디코더에 전달하는 컨텍스트 벡터 또한 hidden state h와 cell state c 두 개의 값 모두 존재해야 한다는 뜻이다."
   ]
  },
  {
   "cell_type": "markdown",
   "id": "parliamentary-bicycle",
   "metadata": {},
   "source": [
    "### 시작 토큰과 종료 토큰\n",
    "---\n",
    "<img src=\"./image/encoder_decoder.png\" alt=\"시작 토큰과 종료 토큰\" />\n",
    "\n",
    "seq2seq 구조에서 디코더는 시작 토큰 SOS가 입력되면, 각 시점마다 단어를 생성하고 이 과정을 종료 토큰 EOS를 예측하는 순간까지 멈추지않는다. 다시 말해 훈련 데이터의 예측 대상 시퀀스의 앞, 뒤에는 시작 토큰과 종료 토큰을 넣어주는 전처리를 통해 어디서 멈춰야하는지 알려줄 필요가 있다."
   ]
  },
  {
   "cell_type": "markdown",
   "id": "following-poison",
   "metadata": {},
   "source": [
    "### 어텐션 메커니즘을 통한 새로운 컨텍스트 벡터 사용하기\n",
    "---\n",
    "<img src=\"./image/Attention_Mechanism.png\" alt=\"Attention Mechanism\" />\n",
    "\n",
    "기존에 배운 seq2seq를 수정하고, 새로운 모듈을 붙여 모델의 성능을 높여볼것이다. 기존의 seq2seq는 __인코더의 마지막 time step의 hidden state__를 컨텍스트 벡터로 사용했다. 하지만 RNN 계열의 인공 신경망(바닐라 RNN, LSTM, GRU)의 한계로 인해 이 컨텍스트 정보에는 이미 입력 시퀀스의 많은 정보가 손실이 된 상태가 된다.\n",
    "\n",
    "__어텐션 메커니즘(Attention Mechanism)__은 이와 달리, __인코더의 모든 step의 hidden state의 정보__가 컨텍스트 벡터에 전부 반영되도록 하는 것이다. 하지만 인코더의 모든 hidden state가 동일한 비중으로 반영되는 것이 아니라, 디코더의 <span style=\"color:red\">현재 time step</span>의 예측에 인코더의 각 step이 얼마나 영향을 미치는지에 따른 가중합으로 계산되는 방식이다.\n",
    "\n",
    "위 그림의 예로 들자면, seq2seq 모델이라면 디코더로 전달되는 인코더의 컨텍스트 벡터는 인코더의 마지막 스텝의 hidden state인 $h_{5}$가 되겠지만, 어텐션 메커니즘이 적용된 seq2seq인 Attentional seq2seq이라면 인코더의 컨텍스트 벡터는 예를 들어 __0.2__$h_{1}$+__0.3__$h_{2}$+__0.1__$h_{3}$+__0.15__$h_{4}$+__0.25__$h_{5}$가 될수도 있다는 말이다.\n",
    "\n",
    "여기서 주의해야 할 것은, 컨텍스트 벡터를 구성하기 위한 인코더 hidden state의 가중치 값은 __디코더의 현재 스텝이 어디냐에 따라 계속 달라진다__는 점이다. 즉, 디코더의 현재 문장 생성 부위가 주어부인지 술어부인지 목적어인지 등에 따라 인코더가 입력 데이터를 해석한 컨텍스트 벡터가 다른 값이 된다는 것이다. 이와 달리, 기본적인 seq2seq 모델에서 컨텍스트 벡터는 디코더의 현재 스텝 위치에 무관하게 한번 계산되면 고정값을 가진다.\n",
    "\n",
    "이렇게 디코더의 현재 스텝에 따라 동적으로 달라지는 인코더의 컨텍스트 벡터를 사용해서 현재의 예측에 활용하면, 디코더가 좀 더 정확한 예측을 할 수 있게 된다. 이러한 Attention 기법은 seq2seq을 비롯하여 향후 다양한 딥러닝 분야를 획기적으로 발전시킨 핵심 개념이 된다. 특히 자연어처리 분야에서는 두말할 것도 없다.\n",
    "\n",
    "지금까지 내용 정리.\n",
    "\n",
    "1. seq2seq를 사용한다.\n",
    "2. RNN 계열 중 LSTM을 사용하므로 hidden state뿐만 아니라 cell state도 사용해야 한다.\n",
    "3. 디코더의 예측 시퀀스에는 시작 토큰 SOS와 예측 토큰 EOS를 시퀀스의 앞, 뒤로 붙인다.\n",
    "4. seq2seq를 구동시키면 디코더는 시작 토큰을 입력받아 예측을 시작한다.\n",
    "5. seq2seq 기본 모델과 달리, 어텐션 메커니즘을 이용해 인코더의 hidden state의 중요도를 취합한 컨텍스트 벡터를 디코더 스텝별로 계산한다.\n",
    "6. 계산된 컨텍스트 벡터를 이용해서 디코더는 다음 등장할 단어를 예측한다."
   ]
  },
  {
   "cell_type": "markdown",
   "id": "closed-importance",
   "metadata": {},
   "source": [
    "## 4. 데이터 준비하기\n",
    "아래와 같이 작업환경을 구성한다.\n",
    "\n",
    "```bash\n",
    "$ mkdir -p ~/aiffel/news_summarization/data\n",
    "```\n",
    "\n",
    "텍스트 요약 모델 학습에 사용할 데이터셋은 Kaggle에서 제공된 `아마존 리뷰 데이터셋`이다.\n",
    "\n",
    "링크 : [https://www.kaggle.com/snap/amazon-fine-food-reviews](https://www.kaggle.com/snap/amazon-fine-food-reviews)\n",
    "\n",
    "위 링크에서 Reviews.csv 파일(286.97 MB)을 다운로드 받아 위에 생성한 디렉토리에 넣자. 혹은 아래와 같이 진행해도 된다.\n",
    "\n",
    "```bash\n",
    "$ wget https://aiffelstaticprd.blob.core.windows.net/media/documents/Reviews.csv.zip\n",
    "$ mv Reviews.csv.zip ~/aiffel/news_summarization/data\n",
    "$ cd ~/aiffel/news_summarization/data && unzip Reviews.csv.zip\n",
    "```\n",
    "\n",
    "이번에는 NLTK의 불용어(stopwords)를 사용할 것이다. NTLK와 NLTK 데이터셋이 설치되어있지 않은 환경이라면 우선 NLTK를 설치하고 NTLK의 데이터셋을 다운로드해야한다.\n",
    "\n",
    "NLTK는 Natural Language Toolkit의 축약어로 영어 기호, 통계, 자연어 처리를 위한 라이브러리이다. 이 NLTK에는 I, my, me, over, 조사, 접미사와 같이 문장에는 자주 등장하지만, 의미를 분석하고 요약하는데는 거의 의미가 없는 100여개의 불용어가 미리 정리되어있다. 이를 이용해 다운로드받은 리뷰 파일에서 불용어를 제거하는 작업을 진행할 예정이다.\n",
    "\n",
    "터미널을 열어 아래 명령어를 실행해 NLTK 데이터셋을 다운로드한다.\n",
    "\n",
    "```bash\n",
    "$ pip install nltk\n",
    "```\n",
    "\n",
    "BeautifulSoup 라이브러리도 설치하지 않았다면 설치해야한다. BeautifulSoup는 문서를 파싱하는데 사용하는 패키지이다.\n",
    "\n",
    "```bash\n",
    "$ pip install beautifulsoup4\n",
    "```\n",
    "\n",
    "nltk 패키지에서 불용어 사전을 다운로드 받고, 데이터 전처리를 위한 나머지 패키지도 함께 불러와보자."
   ]
  },
  {
   "cell_type": "code",
   "execution_count": 1,
   "id": "appointed-premises",
   "metadata": {
    "ExecuteTime": {
     "end_time": "2021-02-18T07:46:19.205372Z",
     "start_time": "2021-02-18T07:46:17.188213Z"
    }
   },
   "outputs": [
    {
     "name": "stderr",
     "output_type": "stream",
     "text": [
      "[nltk_data] Downloading package stopwords to /home/aiffel-\n",
      "[nltk_data]     dj10/nltk_data...\n",
      "[nltk_data]   Package stopwords is already up-to-date!\n"
     ]
    }
   ],
   "source": [
    "import nltk\n",
    "nltk.download('stopwords')\n",
    "\n",
    "import numpy as np\n",
    "import pandas as pd\n",
    "import os\n",
    "import re\n",
    "import matplotlib.pyplot as plt\n",
    "from nltk.corpus import stopwords\n",
    "from bs4 import BeautifulSoup \n",
    "from tensorflow.keras.preprocessing.text import Tokenizer \n",
    "from tensorflow.keras.preprocessing.sequence import pad_sequences\n",
    "import urllib.request"
   ]
  },
  {
   "cell_type": "markdown",
   "id": "enclosed-bidder",
   "metadata": {},
   "source": [
    "링크에서 다운로드 받은 데이터(Reviews.csv)는 총 568,454개의 샘플을 갖고있다. 시간상 여기서는 모든 샘플을 사용하지는 않고, 간단히 10만개의 샘플만 사용해보자. 데이터 파일의 경로를 수정하는 것을 잊지말아야 한다."
   ]
  },
  {
   "cell_type": "code",
   "execution_count": 2,
   "id": "rolled-meditation",
   "metadata": {
    "ExecuteTime": {
     "end_time": "2021-02-18T07:46:19.703467Z",
     "start_time": "2021-02-18T07:46:19.206514Z"
    }
   },
   "outputs": [
    {
     "name": "stdout",
     "output_type": "stream",
     "text": [
      "전체 샘플수 : 100000\n"
     ]
    }
   ],
   "source": [
    "data = pd.read_csv(os.getenv(\"HOME\")+\"/aiffel/news_summarization/data/Reviews.csv\", nrows = 100000)\n",
    "print('전체 샘플수 :',(len(data)))"
   ]
  },
  {
   "cell_type": "markdown",
   "id": "developed-robinson",
   "metadata": {
    "ExecuteTime": {
     "end_time": "2021-02-18T05:22:38.168391Z",
     "start_time": "2021-02-18T05:22:38.164851Z"
    }
   },
   "source": [
    "출력된 샘플수를 보면 총 10만개의 샘플이 잘 불러와진 것을 확인할 수 있다. 이 중에 5개만 출력해보자"
   ]
  },
  {
   "cell_type": "code",
   "execution_count": 3,
   "id": "sealed-binding",
   "metadata": {
    "ExecuteTime": {
     "end_time": "2021-02-18T07:46:19.718510Z",
     "start_time": "2021-02-18T07:46:19.704904Z"
    }
   },
   "outputs": [
    {
     "data": {
      "text/html": [
       "<div>\n",
       "<style scoped>\n",
       "    .dataframe tbody tr th:only-of-type {\n",
       "        vertical-align: middle;\n",
       "    }\n",
       "\n",
       "    .dataframe tbody tr th {\n",
       "        vertical-align: top;\n",
       "    }\n",
       "\n",
       "    .dataframe thead th {\n",
       "        text-align: right;\n",
       "    }\n",
       "</style>\n",
       "<table border=\"1\" class=\"dataframe\">\n",
       "  <thead>\n",
       "    <tr style=\"text-align: right;\">\n",
       "      <th></th>\n",
       "      <th>Id</th>\n",
       "      <th>ProductId</th>\n",
       "      <th>UserId</th>\n",
       "      <th>ProfileName</th>\n",
       "      <th>HelpfulnessNumerator</th>\n",
       "      <th>HelpfulnessDenominator</th>\n",
       "      <th>Score</th>\n",
       "      <th>Time</th>\n",
       "      <th>Summary</th>\n",
       "      <th>Text</th>\n",
       "    </tr>\n",
       "  </thead>\n",
       "  <tbody>\n",
       "    <tr>\n",
       "      <th>0</th>\n",
       "      <td>1</td>\n",
       "      <td>B001E4KFG0</td>\n",
       "      <td>A3SGXH7AUHU8GW</td>\n",
       "      <td>delmartian</td>\n",
       "      <td>1</td>\n",
       "      <td>1</td>\n",
       "      <td>5</td>\n",
       "      <td>1303862400</td>\n",
       "      <td>Good Quality Dog Food</td>\n",
       "      <td>I have bought several of the Vitality canned d...</td>\n",
       "    </tr>\n",
       "    <tr>\n",
       "      <th>1</th>\n",
       "      <td>2</td>\n",
       "      <td>B00813GRG4</td>\n",
       "      <td>A1D87F6ZCVE5NK</td>\n",
       "      <td>dll pa</td>\n",
       "      <td>0</td>\n",
       "      <td>0</td>\n",
       "      <td>1</td>\n",
       "      <td>1346976000</td>\n",
       "      <td>Not as Advertised</td>\n",
       "      <td>Product arrived labeled as Jumbo Salted Peanut...</td>\n",
       "    </tr>\n",
       "    <tr>\n",
       "      <th>2</th>\n",
       "      <td>3</td>\n",
       "      <td>B000LQOCH0</td>\n",
       "      <td>ABXLMWJIXXAIN</td>\n",
       "      <td>Natalia Corres \"Natalia Corres\"</td>\n",
       "      <td>1</td>\n",
       "      <td>1</td>\n",
       "      <td>4</td>\n",
       "      <td>1219017600</td>\n",
       "      <td>\"Delight\" says it all</td>\n",
       "      <td>This is a confection that has been around a fe...</td>\n",
       "    </tr>\n",
       "    <tr>\n",
       "      <th>3</th>\n",
       "      <td>4</td>\n",
       "      <td>B000UA0QIQ</td>\n",
       "      <td>A395BORC6FGVXV</td>\n",
       "      <td>Karl</td>\n",
       "      <td>3</td>\n",
       "      <td>3</td>\n",
       "      <td>2</td>\n",
       "      <td>1307923200</td>\n",
       "      <td>Cough Medicine</td>\n",
       "      <td>If you are looking for the secret ingredient i...</td>\n",
       "    </tr>\n",
       "    <tr>\n",
       "      <th>4</th>\n",
       "      <td>5</td>\n",
       "      <td>B006K2ZZ7K</td>\n",
       "      <td>A1UQRSCLF8GW1T</td>\n",
       "      <td>Michael D. Bigham \"M. Wassir\"</td>\n",
       "      <td>0</td>\n",
       "      <td>0</td>\n",
       "      <td>5</td>\n",
       "      <td>1350777600</td>\n",
       "      <td>Great taffy</td>\n",
       "      <td>Great taffy at a great price.  There was a wid...</td>\n",
       "    </tr>\n",
       "  </tbody>\n",
       "</table>\n",
       "</div>"
      ],
      "text/plain": [
       "   Id   ProductId          UserId                      ProfileName  \\\n",
       "0   1  B001E4KFG0  A3SGXH7AUHU8GW                       delmartian   \n",
       "1   2  B00813GRG4  A1D87F6ZCVE5NK                           dll pa   \n",
       "2   3  B000LQOCH0   ABXLMWJIXXAIN  Natalia Corres \"Natalia Corres\"   \n",
       "3   4  B000UA0QIQ  A395BORC6FGVXV                             Karl   \n",
       "4   5  B006K2ZZ7K  A1UQRSCLF8GW1T    Michael D. Bigham \"M. Wassir\"   \n",
       "\n",
       "   HelpfulnessNumerator  HelpfulnessDenominator  Score        Time  \\\n",
       "0                     1                       1      5  1303862400   \n",
       "1                     0                       0      1  1346976000   \n",
       "2                     1                       1      4  1219017600   \n",
       "3                     3                       3      2  1307923200   \n",
       "4                     0                       0      5  1350777600   \n",
       "\n",
       "                 Summary                                               Text  \n",
       "0  Good Quality Dog Food  I have bought several of the Vitality canned d...  \n",
       "1      Not as Advertised  Product arrived labeled as Jumbo Salted Peanut...  \n",
       "2  \"Delight\" says it all  This is a confection that has been around a fe...  \n",
       "3         Cough Medicine  If you are looking for the secret ingredient i...  \n",
       "4            Great taffy  Great taffy at a great price.  There was a wid...  "
      ]
     },
     "execution_count": 3,
     "metadata": {},
     "output_type": "execute_result"
    }
   ],
   "source": [
    "data.head()"
   ]
  },
  {
   "cell_type": "markdown",
   "id": "instructional-balance",
   "metadata": {},
   "source": [
    "열이 너무 많아서 보기에 조금 까다롭다. 사실 전체 데이터 중 Summary 열과 Text 열 만 훈련에 사용할 거라, 이 두 개의 열만 별도로 저장하고, 다시 출력해보자."
   ]
  },
  {
   "cell_type": "code",
   "execution_count": 4,
   "id": "suspended-rabbit",
   "metadata": {
    "ExecuteTime": {
     "end_time": "2021-02-18T07:46:19.733853Z",
     "start_time": "2021-02-18T07:46:19.719892Z"
    }
   },
   "outputs": [
    {
     "data": {
      "text/html": [
       "<div>\n",
       "<style scoped>\n",
       "    .dataframe tbody tr th:only-of-type {\n",
       "        vertical-align: middle;\n",
       "    }\n",
       "\n",
       "    .dataframe tbody tr th {\n",
       "        vertical-align: top;\n",
       "    }\n",
       "\n",
       "    .dataframe thead th {\n",
       "        text-align: right;\n",
       "    }\n",
       "</style>\n",
       "<table border=\"1\" class=\"dataframe\">\n",
       "  <thead>\n",
       "    <tr style=\"text-align: right;\">\n",
       "      <th></th>\n",
       "      <th>Text</th>\n",
       "      <th>Summary</th>\n",
       "    </tr>\n",
       "  </thead>\n",
       "  <tbody>\n",
       "    <tr>\n",
       "      <th>74006</th>\n",
       "      <td>I added the Taco Bell Chipotle Sauce to BBQ ch...</td>\n",
       "      <td>Smoke and Spice How Nice</td>\n",
       "    </tr>\n",
       "    <tr>\n",
       "      <th>99146</th>\n",
       "      <td>I got the sampler pack first and tried to find...</td>\n",
       "      <td>Best of the Vegan Dream Jerky</td>\n",
       "    </tr>\n",
       "    <tr>\n",
       "      <th>20604</th>\n",
       "      <td>This is probably the best flavored coffee I an...</td>\n",
       "      <td>Awesome</td>\n",
       "    </tr>\n",
       "    <tr>\n",
       "      <th>18394</th>\n",
       "      <td>I was SO excited to have found tea that tastes...</td>\n",
       "      <td>NOTHING like Aveda Tea</td>\n",
       "    </tr>\n",
       "    <tr>\n",
       "      <th>50194</th>\n",
       "      <td>I ordered one package and wished I had ordered...</td>\n",
       "      <td>I like these sausages.</td>\n",
       "    </tr>\n",
       "    <tr>\n",
       "      <th>34468</th>\n",
       "      <td>This cofee is perfect for me.  Not really dark...</td>\n",
       "      <td>good coffee</td>\n",
       "    </tr>\n",
       "    <tr>\n",
       "      <th>24674</th>\n",
       "      <td>i first started looking into gluten free foods...</td>\n",
       "      <td>yummy!</td>\n",
       "    </tr>\n",
       "    <tr>\n",
       "      <th>62624</th>\n",
       "      <td>I dithered about purchasing this product. I am...</td>\n",
       "      <td>Smooth</td>\n",
       "    </tr>\n",
       "    <tr>\n",
       "      <th>41894</th>\n",
       "      <td>These are dry but not hard, slightly crumbly, ...</td>\n",
       "      <td>My dog loves them</td>\n",
       "    </tr>\n",
       "    <tr>\n",
       "      <th>63538</th>\n",
       "      <td>I've tried both the illy issimo Caffe and the ...</td>\n",
       "      <td>Good, but not as good as the Cappuccino</td>\n",
       "    </tr>\n",
       "    <tr>\n",
       "      <th>11233</th>\n",
       "      <td>I need to watch my sodium - but I'm not really...</td>\n",
       "      <td>Delicious Blue-Diamond quality, half the sodium</td>\n",
       "    </tr>\n",
       "    <tr>\n",
       "      <th>63397</th>\n",
       "      <td>I really wanted to like this product but the c...</td>\n",
       "      <td>Funny aftertaste</td>\n",
       "    </tr>\n",
       "    <tr>\n",
       "      <th>90660</th>\n",
       "      <td>I just love this coffee.  I drink this coffee ...</td>\n",
       "      <td>Mmmm!</td>\n",
       "    </tr>\n",
       "    <tr>\n",
       "      <th>90065</th>\n",
       "      <td>We were glad to finally find some Gluten Free ...</td>\n",
       "      <td>Gluten Free Soup</td>\n",
       "    </tr>\n",
       "    <tr>\n",
       "      <th>63500</th>\n",
       "      <td>I tried this two ways, iced and hot.  This was...</td>\n",
       "      <td>Yummy</td>\n",
       "    </tr>\n",
       "  </tbody>\n",
       "</table>\n",
       "</div>"
      ],
      "text/plain": [
       "                                                    Text  \\\n",
       "74006  I added the Taco Bell Chipotle Sauce to BBQ ch...   \n",
       "99146  I got the sampler pack first and tried to find...   \n",
       "20604  This is probably the best flavored coffee I an...   \n",
       "18394  I was SO excited to have found tea that tastes...   \n",
       "50194  I ordered one package and wished I had ordered...   \n",
       "34468  This cofee is perfect for me.  Not really dark...   \n",
       "24674  i first started looking into gluten free foods...   \n",
       "62624  I dithered about purchasing this product. I am...   \n",
       "41894  These are dry but not hard, slightly crumbly, ...   \n",
       "63538  I've tried both the illy issimo Caffe and the ...   \n",
       "11233  I need to watch my sodium - but I'm not really...   \n",
       "63397  I really wanted to like this product but the c...   \n",
       "90660  I just love this coffee.  I drink this coffee ...   \n",
       "90065  We were glad to finally find some Gluten Free ...   \n",
       "63500  I tried this two ways, iced and hot.  This was...   \n",
       "\n",
       "                                               Summary  \n",
       "74006                         Smoke and Spice How Nice  \n",
       "99146                    Best of the Vegan Dream Jerky  \n",
       "20604                                          Awesome  \n",
       "18394                           NOTHING like Aveda Tea  \n",
       "50194                           I like these sausages.  \n",
       "34468                                      good coffee  \n",
       "24674                                           yummy!  \n",
       "62624                                           Smooth  \n",
       "41894                                My dog loves them  \n",
       "63538          Good, but not as good as the Cappuccino  \n",
       "11233  Delicious Blue-Diamond quality, half the sodium  \n",
       "63397                                 Funny aftertaste  \n",
       "90660                                            Mmmm!  \n",
       "90065                                 Gluten Free Soup  \n",
       "63500                                            Yummy  "
      ]
     },
     "execution_count": 4,
     "metadata": {},
     "output_type": "execute_result"
    }
   ],
   "source": [
    "data = data[['Text','Summary']]\n",
    "data.head()\n",
    "\n",
    "#랜덤한 15개 샘플 출력\n",
    "data.sample(15)"
   ]
  },
  {
   "cell_type": "markdown",
   "id": "immediate-horizontal",
   "metadata": {},
   "source": [
    "2개의 열이 남았다. Text 열의 내용을 요약한 것이 Summary 열이다. 여기서는 인공 신경망을 통해 Text 시퀀스를 입력받으면, Summary 시퀀스를 예측하도록 인공 신경망을 훈련시킬 것이다."
   ]
  },
  {
   "cell_type": "markdown",
   "id": "persistent-worker",
   "metadata": {},
   "source": [
    "## 5. 데이터 전처리하기 (1) 데이터 정리하기\n",
    "이제 데이터를 불러왔으니 전처리를 진행해보자. 빈칸으로 존재하는 null 데이터, 의미는 같지만 다른 식으로 작성된 글 같은 중복 항목과 같은 학습할 때 방해가 되는 데이터를 먼저 솎아낼것이다."
   ]
  },
  {
   "cell_type": "markdown",
   "id": "organized-eligibility",
   "metadata": {},
   "source": [
    "### 중복 샘플과 NULL 값이 존재하는 샘플 제거\n",
    "---\n",
    "우선 데이터의 중복 샘플 유무를 확인해보자."
   ]
  },
  {
   "cell_type": "code",
   "execution_count": 5,
   "id": "increasing-haiti",
   "metadata": {
    "ExecuteTime": {
     "end_time": "2021-02-18T07:46:19.873764Z",
     "start_time": "2021-02-18T07:46:19.735148Z"
    }
   },
   "outputs": [
    {
     "name": "stdout",
     "output_type": "stream",
     "text": [
      "Text 열에서 중복을 배제한 유일한 샘플의 수 : 88426\n",
      "Summary 열에서 중복을 배제한 유일한 샘플의 수 : 72348\n"
     ]
    }
   ],
   "source": [
    "print('Text 열에서 중복을 배제한 유일한 샘플의 수 :', data['Text'].nunique())\n",
    "print('Summary 열에서 중복을 배제한 유일한 샘플의 수 :', data['Summary'].nunique())"
   ]
  },
  {
   "cell_type": "markdown",
   "id": "saving-think",
   "metadata": {},
   "source": [
    "중복을 제외한다면 Text에는 88,426개, Summary에는 72,348개의 의 유니크한 데이터가 존재한다. 사실 이 데이터의 Summary는 'Smelly'나 'Good Product'와 같이 아주 간단한 요약들도 많아서 Text가 달라도 Summary는 동일할 수 있다. 하지만 Text 자체가 중복이 된 경우는 중복 샘플이므로 제거해야한다.\n",
    "\n",
    "데이터프레임의 `drop_duplicates()`를 사용하면, 손쉽게 중복 샘플을 제거할 수 있다."
   ]
  },
  {
   "cell_type": "code",
   "execution_count": 6,
   "id": "false-collector",
   "metadata": {
    "ExecuteTime": {
     "end_time": "2021-02-18T07:46:19.989565Z",
     "start_time": "2021-02-18T07:46:19.875027Z"
    }
   },
   "outputs": [
    {
     "name": "stdout",
     "output_type": "stream",
     "text": [
      "전체 샘플수 : 88426\n"
     ]
    }
   ],
   "source": [
    "data.drop_duplicates(subset = ['Text'], inplace = True)\n",
    "print('전체 샘플수 :',(len(data)))"
   ]
  },
  {
   "cell_type": "markdown",
   "id": "fixed-doctrine",
   "metadata": {},
   "source": [
    "중복이 제거되면서 샘플수가 88,426개로 줄어들었다. 그런데 만약 데이터 Null값을 가지는 샘플이 있었다면, `drop_duplicates()`가 중복된 Null들을 지워주기는 하겠지만, 여전히 Null값 한개가 어딘가 남아있을 수 있다. 데이터에 Null 값이 남아있는지 봐야한다.\n",
    "\n",
    "데이터프레임에 Null 값이 있는지 확인하는 방법은 `.isnull().sum()`을 사용하면 알아볼 수 있다."
   ]
  },
  {
   "cell_type": "code",
   "execution_count": 7,
   "id": "stone-words",
   "metadata": {
    "ExecuteTime": {
     "end_time": "2021-02-18T07:46:20.004118Z",
     "start_time": "2021-02-18T07:46:19.990744Z"
    }
   },
   "outputs": [
    {
     "name": "stdout",
     "output_type": "stream",
     "text": [
      "Text       0\n",
      "Summary    1\n",
      "dtype: int64\n"
     ]
    }
   ],
   "source": [
    "print(data.isnull().sum())"
   ]
  },
  {
   "cell_type": "markdown",
   "id": "corresponding-nerve",
   "metadata": {},
   "source": [
    "Summary에 1개의 Null 값이 있다. 데이터프레임에서 Null을 제거할 때는 `dropna()` 함수를 사용하면 된다."
   ]
  },
  {
   "cell_type": "code",
   "execution_count": 8,
   "id": "dying-granny",
   "metadata": {
    "ExecuteTime": {
     "end_time": "2021-02-18T07:46:20.028045Z",
     "start_time": "2021-02-18T07:46:20.006031Z"
    }
   },
   "outputs": [
    {
     "name": "stdout",
     "output_type": "stream",
     "text": [
      "전체 샘플수 : 88425\n"
     ]
    }
   ],
   "source": [
    "data.dropna(axis = 0, inplace = True)\n",
    "print('전체 샘플수 :',(len(data)))"
   ]
  },
  {
   "cell_type": "markdown",
   "id": "european-remove",
   "metadata": {},
   "source": [
    "전체 샘플수가 1개 줄어들어 88,425개의 샘플이 남았다. 지금까지 중복 샘플과 Null 값이 있는 샘플들을 제거해보았는데 10만개의 샘플 중 1만개 이상의 샘플이 제거되었다."
   ]
  },
  {
   "cell_type": "markdown",
   "id": "southwest-monroe",
   "metadata": {},
   "source": [
    "### 텍스트 정규화와 불용어 제거\n",
    "---\n",
    "살아남은 88,425개의 샘플에는 수많은 단어들이 있다. 그런데 사실 그 단어들 중에서는 같은 의미인데도 다른 표현으로 쓰여 마치 다른 단어들처럼 간주되는 경우가 있다.\n",
    "\n",
    "예를 들어서 'it'll'은 'it will'과 같고, 'mustn't과 'must not'은 사실 같은 표현이다. 이런 경우 기계가 굳이 이들을 마치 다른 단어로 간주하게 해서 연산량을 늘리는 것보다는 기계 학습 전에 미리 같은 표현으로 통일시켜주는 것이 기계의 연산량을 줄일 수 있는 방법이다.\n",
    "\n",
    "이러한 방법론을 텍스트 처리에서는 텍스트 정규화(text normalization)라고 한다.\n",
    "\n",
    "여기서는 텍스트 정규화를 위한 사전(dictionary)을 아래와 같이 구성할것이다.\n",
    "\n",
    "이 사전은 아래의 링크에서 참고하여 만들었다. 정규화 사전 출처 : [ https://stackoverflow.com/questions/19790188/expanding-english-language-contractions-in-python](https://stackoverflow.com/questions/19790188/expanding-english-language-contractions-in-python)"
   ]
  },
  {
   "cell_type": "code",
   "execution_count": 9,
   "id": "loose-representation",
   "metadata": {
    "ExecuteTime": {
     "end_time": "2021-02-18T07:46:20.039984Z",
     "start_time": "2021-02-18T07:46:20.030230Z"
    }
   },
   "outputs": [
    {
     "name": "stdout",
     "output_type": "stream",
     "text": [
      "정규화 사전의 수:  120\n"
     ]
    }
   ],
   "source": [
    "contractions = {\"ain't\": \"is not\", \"aren't\": \"are not\",\"can't\": \"cannot\", \"'cause\": \"because\", \"could've\": \"could have\", \"couldn't\": \"could not\",\n",
    "                           \"didn't\": \"did not\",  \"doesn't\": \"does not\", \"don't\": \"do not\", \"hadn't\": \"had not\", \"hasn't\": \"has not\", \"haven't\": \"have not\",\n",
    "                           \"he'd\": \"he would\",\"he'll\": \"he will\", \"he's\": \"he is\", \"how'd\": \"how did\", \"how'd'y\": \"how do you\", \"how'll\": \"how will\", \"how's\": \"how is\",\n",
    "                           \"I'd\": \"I would\", \"I'd've\": \"I would have\", \"I'll\": \"I will\", \"I'll've\": \"I will have\",\"I'm\": \"I am\", \"I've\": \"I have\", \"i'd\": \"i would\",\n",
    "                           \"i'd've\": \"i would have\", \"i'll\": \"i will\",  \"i'll've\": \"i will have\",\"i'm\": \"i am\", \"i've\": \"i have\", \"isn't\": \"is not\", \"it'd\": \"it would\",\n",
    "                           \"it'd've\": \"it would have\", \"it'll\": \"it will\", \"it'll've\": \"it will have\",\"it's\": \"it is\", \"let's\": \"let us\", \"ma'am\": \"madam\",\n",
    "                           \"mayn't\": \"may not\", \"might've\": \"might have\",\"mightn't\": \"might not\",\"mightn't've\": \"might not have\", \"must've\": \"must have\",\n",
    "                           \"mustn't\": \"must not\", \"mustn't've\": \"must not have\", \"needn't\": \"need not\", \"needn't've\": \"need not have\",\"o'clock\": \"of the clock\",\n",
    "                           \"oughtn't\": \"ought not\", \"oughtn't've\": \"ought not have\", \"shan't\": \"shall not\", \"sha'n't\": \"shall not\", \"shan't've\": \"shall not have\",\n",
    "                           \"she'd\": \"she would\", \"she'd've\": \"she would have\", \"she'll\": \"she will\", \"she'll've\": \"she will have\", \"she's\": \"she is\",\n",
    "                           \"should've\": \"should have\", \"shouldn't\": \"should not\", \"shouldn't've\": \"should not have\", \"so've\": \"so have\",\"so's\": \"so as\",\n",
    "                           \"this's\": \"this is\",\"that'd\": \"that would\", \"that'd've\": \"that would have\", \"that's\": \"that is\", \"there'd\": \"there would\",\n",
    "                           \"there'd've\": \"there would have\", \"there's\": \"there is\", \"here's\": \"here is\",\"they'd\": \"they would\", \"they'd've\": \"they would have\",\n",
    "                           \"they'll\": \"they will\", \"they'll've\": \"they will have\", \"they're\": \"they are\", \"they've\": \"they have\", \"to've\": \"to have\",\n",
    "                           \"wasn't\": \"was not\", \"we'd\": \"we would\", \"we'd've\": \"we would have\", \"we'll\": \"we will\", \"we'll've\": \"we will have\", \"we're\": \"we are\",\n",
    "                           \"we've\": \"we have\", \"weren't\": \"were not\", \"what'll\": \"what will\", \"what'll've\": \"what will have\", \"what're\": \"what are\",\n",
    "                           \"what's\": \"what is\", \"what've\": \"what have\", \"when's\": \"when is\", \"when've\": \"when have\", \"where'd\": \"where did\", \"where's\": \"where is\",\n",
    "                           \"where've\": \"where have\", \"who'll\": \"who will\", \"who'll've\": \"who will have\", \"who's\": \"who is\", \"who've\": \"who have\",\n",
    "                           \"why's\": \"why is\", \"why've\": \"why have\", \"will've\": \"will have\", \"won't\": \"will not\", \"won't've\": \"will not have\",\n",
    "                           \"would've\": \"would have\", \"wouldn't\": \"would not\", \"wouldn't've\": \"would not have\", \"y'all\": \"you all\",\n",
    "                           \"y'all'd\": \"you all would\",\"y'all'd've\": \"you all would have\",\"y'all're\": \"you all are\",\"y'all've\": \"you all have\",\n",
    "                           \"you'd\": \"you would\", \"you'd've\": \"you would have\", \"you'll\": \"you will\", \"you'll've\": \"you will have\",\n",
    "                           \"you're\": \"you are\", \"you've\": \"you have\"}\n",
    "\n",
    "print(\"정규화 사전의 수: \",len(contractions))"
   ]
  },
  {
   "cell_type": "markdown",
   "id": "suited-floor",
   "metadata": {},
   "source": [
    "이제 정규화 준비까지 마쳤다.\n",
    "\n",
    "하지만 아직 끝난게 아니다. 일반적으로 텍스트에는 자주 등장하지만 자연어 처리를 할 때 실질적으로 별 도움이 되지 않는 단어들이 존재한다. 이를 불용어(stopwords)라고 부른다. 때로는 불용어를 제거하는 것이 자연어 처리의 성능을 높이는 방법일 수 있다. 여기서는 NLTK에서 제공하는 불용어 리스트를 참조해, 샘플에서 불용어를 제거할 것이다."
   ]
  },
  {
   "cell_type": "code",
   "execution_count": 10,
   "id": "pleased-sperm",
   "metadata": {
    "ExecuteTime": {
     "end_time": "2021-02-18T07:46:20.045277Z",
     "start_time": "2021-02-18T07:46:20.041287Z"
    }
   },
   "outputs": [
    {
     "name": "stdout",
     "output_type": "stream",
     "text": [
      "불용어 개수 : 179\n",
      "['i', 'me', 'my', 'myself', 'we', 'our', 'ours', 'ourselves', 'you', \"you're\", \"you've\", \"you'll\", \"you'd\", 'your', 'yours', 'yourself', 'yourselves', 'he', 'him', 'his', 'himself', 'she', \"she's\", 'her', 'hers', 'herself', 'it', \"it's\", 'its', 'itself', 'they', 'them', 'their', 'theirs', 'themselves', 'what', 'which', 'who', 'whom', 'this', 'that', \"that'll\", 'these', 'those', 'am', 'is', 'are', 'was', 'were', 'be', 'been', 'being', 'have', 'has', 'had', 'having', 'do', 'does', 'did', 'doing', 'a', 'an', 'the', 'and', 'but', 'if', 'or', 'because', 'as', 'until', 'while', 'of', 'at', 'by', 'for', 'with', 'about', 'against', 'between', 'into', 'through', 'during', 'before', 'after', 'above', 'below', 'to', 'from', 'up', 'down', 'in', 'out', 'on', 'off', 'over', 'under', 'again', 'further', 'then', 'once', 'here', 'there', 'when', 'where', 'why', 'how', 'all', 'any', 'both', 'each', 'few', 'more', 'most', 'other', 'some', 'such', 'no', 'nor', 'not', 'only', 'own', 'same', 'so', 'than', 'too', 'very', 's', 't', 'can', 'will', 'just', 'don', \"don't\", 'should', \"should've\", 'now', 'd', 'll', 'm', 'o', 're', 've', 'y', 'ain', 'aren', \"aren't\", 'couldn', \"couldn't\", 'didn', \"didn't\", 'doesn', \"doesn't\", 'hadn', \"hadn't\", 'hasn', \"hasn't\", 'haven', \"haven't\", 'isn', \"isn't\", 'ma', 'mightn', \"mightn't\", 'mustn', \"mustn't\", 'needn', \"needn't\", 'shan', \"shan't\", 'shouldn', \"shouldn't\", 'wasn', \"wasn't\", 'weren', \"weren't\", 'won', \"won't\", 'wouldn', \"wouldn't\"]\n"
     ]
    }
   ],
   "source": [
    "print('불용어 개수 :', len(stopwords.words('english') ))\n",
    "print(stopwords.words('english'))"
   ]
  },
  {
   "cell_type": "markdown",
   "id": "narrow-switzerland",
   "metadata": {},
   "source": [
    "NLTK에서 미리 정의하여 제공하고 있는 불용어는 총 179를 볼 수 있다. 이를 사용하여 불용어를 제거할것이다. 이 작업 외에도 모든 영어문자는 소문자로 만들고, 섞여있는 html 태그를 제거하고, 정규 표현식을 통해 각종 특수문자를 제거해서 정말 필요한 내용만 잘 학습할 수 있도록 처리할것이다.\n",
    "\n",
    "함수의 하단을 보면, NLTK를 이용해 불용어를 제거하는 파트가 있는데, 이는 Text 전처리 시에서만 호출하고 이미 상대적으로 문장 길이가 짧은 Summary 전처리할 때는 호출하지 않을 예정이다. Abstractive한 문장 요약 결과문이 자연스러운 문장이 되려면 이 불용어들이 Summary에는 남아 있는게 더 좋을 것 같다. 이 처리를 위해서 함수의 인자로 remove_stopwords를 추가하고, if문을 추가했다."
   ]
  },
  {
   "cell_type": "code",
   "execution_count": 11,
   "id": "remarkable-deployment",
   "metadata": {
    "ExecuteTime": {
     "end_time": "2021-02-18T07:46:20.051524Z",
     "start_time": "2021-02-18T07:46:20.046341Z"
    }
   },
   "outputs": [],
   "source": [
    "#데이터 전처리 함수\n",
    "def preprocess_sentence(sentence, remove_stopwords=True):\n",
    "    sentence = sentence.lower() # 텍스트 소문자화\n",
    "    sentence = BeautifulSoup(sentence, \"lxml\").text # <br />, <a href = ...> 등의 html 태그 제거\n",
    "    sentence = re.sub(r'\\([^)]*\\)', '', sentence) # 괄호로 닫힌 문자열 (...) 제거 Ex) my husband (and myself!) for => my husband for\n",
    "    sentence = re.sub('\"','', sentence) # 쌍따옴표 \" 제거\n",
    "    sentence = ' '.join([contractions[t] if t in contractions else t for t in sentence.split(\" \")]) # 약어 정규화\n",
    "    sentence = re.sub(r\"'s\\b\",\"\",sentence) # 소유격 제거. Ex) roland's -> roland\n",
    "    sentence = re.sub(\"[^a-zA-Z]\", \" \", sentence) # 영어 외 문자(숫자, 특수문자 등) 공백으로 변환\n",
    "    sentence = re.sub('[m]{2,}', 'mm', sentence) # m이 3개 이상이면 2개로 변경. Ex) ummmmmmm yeah -> umm yeah\n",
    "    \n",
    "    # 불용어 제거 (Text)\n",
    "    if remove_stopwords:\n",
    "        tokens = ' '.join(word for word in sentence.split() if not word in stopwords.words('english') if len(word) > 1)\n",
    "    # 불용어 미제거 (Summary)\n",
    "    else:\n",
    "        tokens = ' '.join(word for word in sentence.split() if len(word) > 1)\n",
    "    return tokens"
   ]
  },
  {
   "cell_type": "markdown",
   "id": "polished-barbados",
   "metadata": {
    "ExecuteTime": {
     "end_time": "2021-02-18T05:37:08.830761Z",
     "start_time": "2021-02-18T05:37:08.826825Z"
    }
   },
   "source": [
    "전처리 전, 후의 결과를 확인하기 위해서 임의의 text와 summary를 만들어 함수를 호출해보자.\n",
    "\n",
    "혹시 아래 코드가 오류가 난다면 parser가 설치되어있지 않은 것이니, lxml을 설치해야한다.\n",
    "\n",
    "```bash\n",
    "$ pip install lxml\n",
    "```"
   ]
  },
  {
   "cell_type": "code",
   "execution_count": 12,
   "id": "smoking-excitement",
   "metadata": {
    "ExecuteTime": {
     "end_time": "2021-02-18T07:46:20.058628Z",
     "start_time": "2021-02-18T07:46:20.052803Z"
    }
   },
   "outputs": [
    {
     "name": "stdout",
     "output_type": "stream",
     "text": [
      "everything bought great infact ordered twice third ordered wasfor mother father\n",
      "great way to start the day\n"
     ]
    }
   ],
   "source": [
    "temp_text = 'Everything I bought was great, infact I ordered twice and the third ordered was<br />for my mother and father.'\n",
    "temp_summary = 'Great way to start (or finish) the day!!!'\n",
    "\n",
    "print(preprocess_sentence(temp_text))\n",
    "print(preprocess_sentence(temp_summary, False))  # 불용어를 제거하지 않습니다."
   ]
  },
  {
   "cell_type": "markdown",
   "id": "contrary-explorer",
   "metadata": {},
   "source": [
    "결과를 보면 기본적으로 모든 알파벳이 소문자로 변환되고, __<br />__과 같은 html 태그가 제거되었다. 또한 (or finish)와 같은 괄호로 묶였던 단어 시퀀스가 제거된 것도 확인할 수 있다. 그리고 특수문자가 제거되면서 영어만 남았다.\n",
    "\n",
    "이제 함수가 잘 작동하는 것을 확인했으니, 훈련 데이터 전체에 대해서 전처리를 수행해보자. 이때, Text의 경우에는 불용어를 제거하고, Summary의 경우에는 불용어를 제거하지 않을 것이므로 따로 호출해서 진행해야한다. 먼저 Text를 전처리하고, 결과를 확인하기 위해서 상위 5개의 줄을 출력해보자."
   ]
  },
  {
   "cell_type": "code",
   "execution_count": 13,
   "id": "rocky-murray",
   "metadata": {
    "ExecuteTime": {
     "end_time": "2021-02-18T07:56:05.607095Z",
     "start_time": "2021-02-18T07:46:20.059838Z"
    }
   },
   "outputs": [
    {
     "data": {
      "text/plain": [
       "['bought several vitality canned dog food products found good quality product looks like stew processed meat smells better labrador finicky appreciates product better',\n",
       " 'product arrived labeled jumbo salted peanuts peanuts actually small sized unsalted sure error vendor intended represent product jumbo',\n",
       " 'confection around centuries light pillowy citrus gelatin nuts case filberts cut tiny squares liberally coated powdered sugar tiny mouthful heaven chewy flavorful highly recommend yummy treat familiar story lewis lion witch wardrobe treat seduces edmund selling brother sisters witch',\n",
       " 'looking secret ingredient robitussin believe found got addition root beer extract ordered made cherry soda flavor medicinal',\n",
       " 'great taffy great price wide assortment yummy taffy delivery quick taffy lover deal']"
      ]
     },
     "execution_count": 13,
     "metadata": {},
     "output_type": "execute_result"
    }
   ],
   "source": [
    "clean_text = []\n",
    "\n",
    "# 전체 Text 데이터에 대한 전처리 : 10분 이상 시간이 걸릴 수 있습니다. \n",
    "for s in data['Text']:\n",
    "    clean_text.append(preprocess_sentence(s))\n",
    "\n",
    "# 전처리 후 출력\n",
    "clean_text[:5]"
   ]
  },
  {
   "cell_type": "markdown",
   "id": "federal-richardson",
   "metadata": {},
   "source": [
    "이제 Summary에 대해서 전처리 함수를 호출해줄 때는, 불용어 제거를 수행하지 않는다는 의미에서 두번째 인자로 False를 넣어준다."
   ]
  },
  {
   "cell_type": "code",
   "execution_count": 14,
   "id": "nutritional-tattoo",
   "metadata": {
    "ExecuteTime": {
     "end_time": "2021-02-18T07:56:19.771032Z",
     "start_time": "2021-02-18T07:56:05.608100Z"
    }
   },
   "outputs": [
    {
     "name": "stderr",
     "output_type": "stream",
     "text": [
      "/home/aiffel-dj10/anaconda3/envs/aiffel/lib/python3.7/site-packages/bs4/__init__.py:282: UserWarning: \"http://www.amazon.com/gp/product/b007i7yygy/ref=cm_cr_rev_prod_title\" looks like a URL. Beautiful Soup is not an HTTP client. You should probably use an HTTP client like requests to get the document behind the URL, and feed that document to Beautiful Soup.\n",
      "  ' that document to Beautiful Soup.' % decoded_markup\n"
     ]
    },
    {
     "data": {
      "text/plain": [
       "['good quality dog food',\n",
       " 'not as advertised',\n",
       " 'delight says it all',\n",
       " 'cough medicine',\n",
       " 'great taffy']"
      ]
     },
     "execution_count": 14,
     "metadata": {},
     "output_type": "execute_result"
    }
   ],
   "source": [
    "clean_summary = []\n",
    "\n",
    "# 전체 Summary 데이터에 대한 전처리 : 5분 이상 시간이 걸릴 수 있습니다. \n",
    "for s in data['Summary']:\n",
    "    clean_summary.append(preprocess_sentence(s, False))\n",
    "\n",
    "clean_summary[:5]"
   ]
  },
  {
   "cell_type": "markdown",
   "id": "weekly-history",
   "metadata": {},
   "source": [
    "이렇게 텍스트 정제의 과정을 거친 후에는 다시 한번 빈(empty) 샘플이 생겼는지 확인해보는 것이 좋다. 정제 전에는 데이터가 존재했지만, 정제 과정에서 문장의 모든 단어가 사라지는 경우가 있을 수 있다. 이렇게 되면 샘플 자체가 빈 값을 가지게 된다.\n",
    "\n",
    "보다 쉽게 확인하기 위해 데이터들을 데이터프레임에 재저장한다. 그리고 빈(empty) 값을 가진 샘플들이 있다면, 모두 Null 값을 가진 샘플로 대체한다."
   ]
  },
  {
   "cell_type": "code",
   "execution_count": 15,
   "id": "standing-running",
   "metadata": {
    "ExecuteTime": {
     "end_time": "2021-02-18T07:56:19.797900Z",
     "start_time": "2021-02-18T07:56:19.772176Z"
    }
   },
   "outputs": [],
   "source": [
    "data['Text'] = clean_text\n",
    "data['Summary'] = clean_summary\n",
    "\n",
    "# 빈 값을 Null 값으로 변환\n",
    "data.replace('', np.nan, inplace=True)"
   ]
  },
  {
   "cell_type": "markdown",
   "id": "signed-response",
   "metadata": {},
   "source": [
    "이전과 같이 `.isnull().sum()`을 사용해서 Null 값이 생겼는지 확인하자."
   ]
  },
  {
   "cell_type": "code",
   "execution_count": 16,
   "id": "adult-commonwealth",
   "metadata": {
    "ExecuteTime": {
     "end_time": "2021-02-18T07:56:19.826900Z",
     "start_time": "2021-02-18T07:56:19.799393Z"
    }
   },
   "outputs": [
    {
     "data": {
      "text/plain": [
       "Text        0\n",
       "Summary    70\n",
       "dtype: int64"
      ]
     },
     "execution_count": 16,
     "metadata": {},
     "output_type": "execute_result"
    }
   ],
   "source": [
    "data.isnull().sum()"
   ]
  },
  {
   "cell_type": "markdown",
   "id": "primary-camping",
   "metadata": {},
   "source": [
    "Summary 열에서 70개의 Null 값이 생겼다. 원래는 단어가 있었는데, 정제 과정에서 모든 단어가 제거되어 빈 샘플이 70개나 생겼다는 의미이다. 이 샘플들은 모두 제거해준다."
   ]
  },
  {
   "cell_type": "code",
   "execution_count": 17,
   "id": "fiscal-attitude",
   "metadata": {
    "ExecuteTime": {
     "end_time": "2021-02-18T07:56:19.859646Z",
     "start_time": "2021-02-18T07:56:19.827996Z"
    }
   },
   "outputs": [
    {
     "name": "stdout",
     "output_type": "stream",
     "text": [
      "전체 샘플수 : 88355\n"
     ]
    }
   ],
   "source": [
    "data.dropna(axis=0, inplace=True)\n",
    "print('전체 샘플수 :',(len(data)))#데이터 전처리 함수"
   ]
  },
  {
   "cell_type": "markdown",
   "id": "apart-proxy",
   "metadata": {},
   "source": [
    "## 6. 데이터 전처리하기 (2) 훈련데이터와 테스트데이터 나누기\n",
    "학습을 진행하기 위해서는 학습에 사용할 데이터의 크기를 결정하고, 문장의 시작과 끝을 표시 해줘야한다."
   ]
  },
  {
   "cell_type": "markdown",
   "id": "forty-decline",
   "metadata": {},
   "source": [
    "### 샘플의 최대 길이 정하기\n",
    "---\n",
    "필요없는 단어를 모두 솎아낸 데이터를 가지게 되었으니, 이제 훈련에 사용할 샘플의 최대 길이를 정해줄 차례이다.\n",
    "\n",
    "Text와 Summary의 최소, 최대, 평균 길이를 구하고 또한 길이 분포를 시각화해서 보자.\n",
    "\n"
   ]
  },
  {
   "cell_type": "code",
   "execution_count": 18,
   "id": "armed-calibration",
   "metadata": {
    "ExecuteTime": {
     "end_time": "2021-02-18T07:56:21.780187Z",
     "start_time": "2021-02-18T07:56:19.861289Z"
    }
   },
   "outputs": [
    {
     "name": "stdout",
     "output_type": "stream",
     "text": [
      "텍스트의 최소 길이 : 2\n",
      "텍스트의 최대 길이 : 1235\n",
      "텍스트의 평균 길이 : 38.792428272310566\n",
      "요약의 최소 길이 : 1\n",
      "요약의 최대 길이 : 28\n",
      "요약의 평균 길이 : 4.010729443721352\n"
     ]
    },
    {
     "data": {
      "image/png": "[encoded data removed]",
      "text/plain": [
       "<Figure size 432x288 with 2 Axes>"
      ]
     },
     "metadata": {
      "needs_background": "light"
     },
     "output_type": "display_data"
    },
    {
     "data": {
      "image/png": "[encoded data removed]",
      "text/plain": [
       "<Figure size 432x288 with 1 Axes>"
      ]
     },
     "metadata": {
      "needs_background": "light"
     },
     "output_type": "display_data"
    },
    {
     "data": {
      "image/png": "[encoded data removed]",
      "text/plain": [
       "<Figure size 432x288 with 1 Axes>"
      ]
     },
     "metadata": {
      "needs_background": "light"
     },
     "output_type": "display_data"
    }
   ],
   "source": [
    "# 길이 분포 출력\n",
    "import matplotlib.pyplot as plt\n",
    "\n",
    "text_len = [len(s.split()) for s in data['Text']]\n",
    "summary_len = [len(s.split()) for s in data['Summary']]\n",
    "\n",
    "print('텍스트의 최소 길이 : {}'.format(np.min(text_len)))\n",
    "print('텍스트의 최대 길이 : {}'.format(np.max(text_len)))\n",
    "print('텍스트의 평균 길이 : {}'.format(np.mean(text_len)))\n",
    "print('요약의 최소 길이 : {}'.format(np.min(summary_len)))\n",
    "print('요약의 최대 길이 : {}'.format(np.max(summary_len)))\n",
    "print('요약의 평균 길이 : {}'.format(np.mean(summary_len)))\n",
    "\n",
    "plt.subplot(1,2,1)\n",
    "plt.boxplot(summary_len)\n",
    "plt.title('Summary')\n",
    "plt.subplot(1,2,2)\n",
    "plt.boxplot(text_len)\n",
    "plt.title('Text')\n",
    "plt.tight_layout()\n",
    "plt.show()\n",
    "\n",
    "plt.title('Summary')\n",
    "plt.hist(summary_len, bins = 40)\n",
    "plt.xlabel('length of samples')\n",
    "plt.ylabel('number of samples')\n",
    "plt.show()\n",
    "\n",
    "plt.title('Text')\n",
    "plt.hist(text_len, bins = 40)\n",
    "plt.xlabel('length of samples')\n",
    "plt.ylabel('number of samples')\n",
    "plt.show()"
   ]
  },
  {
   "cell_type": "markdown",
   "id": "included-medication",
   "metadata": {},
   "source": [
    "위의 그래프처럼, 많은 양의 데이터를 다룰때는 데이터를 시각화하여 보는 것이 도움이 된다. 위에서 부터 차례대로 그래프는 각각 요약과 실제 텍스트의 길이 분포, 요약본 샘플 길이별 갯수, 실제 텍스트 샘플 길이별 갯수를 나타내고 있다.\n",
    "\n",
    "Text의 경우 최소 길이가 2, 최대 길이가 1,235으로 그 차이가 굉장히 크다. 하지만 평균 길이는 38로 시각화 된 그래프로 봤을 때는 대체적으로는 100 내외의 길이를 가진다는 것을 확인할 수 있다.\n",
    "\n",
    "Summary의 경우 최소 길이가 1, 최대 길이가 28, 그리고 평균 길이가 4로 Text에 비해 상대적으로 길이가 매우 짧다. 그래프로 봤을 때에도 대체적으로 10이하의 길이를 가지고 있는 모습이다.\n",
    "\n",
    "이로부터 Text의 최대 길이와 Summary의 적절한 최대 길이를 임의로 정해보자."
   ]
  },
  {
   "cell_type": "code",
   "execution_count": 19,
   "id": "editorial-broad",
   "metadata": {
    "ExecuteTime": {
     "end_time": "2021-02-18T07:56:21.783241Z",
     "start_time": "2021-02-18T07:56:21.781304Z"
    }
   },
   "outputs": [],
   "source": [
    "text_max_len = 50\n",
    "summary_max_len = 8"
   ]
  },
  {
   "cell_type": "markdown",
   "id": "voluntary-funds",
   "metadata": {},
   "source": [
    "각각 50과 8로 정했는데 이 길이를 선택했을 때, 얼마나 많은 샘플들을 자르지 않고 포함할 수 있는지 통계로 확인하는 편이 객관적으로 길이를 결정하는데 도움이 될것이다. 훈련 데이터와 샘플의 길이를 입력하면, 데이터의 몇 %가 해당하는지 계산하는 함수를 만들어서 좀 더 정확하게 판단해보자."
   ]
  },
  {
   "cell_type": "code",
   "execution_count": 20,
   "id": "nuclear-reminder",
   "metadata": {
    "ExecuteTime": {
     "end_time": "2021-02-18T07:56:21.795263Z",
     "start_time": "2021-02-18T07:56:21.784618Z"
    }
   },
   "outputs": [],
   "source": [
    "def below_threshold_len(max_len, nested_list):\n",
    "    cnt = 0\n",
    "    for s in nested_list:\n",
    "        if(len(s.split()) <= max_len):\n",
    "            cnt = cnt + 1\n",
    "    print('전체 샘플 중 길이가 %s 이하인 샘플의 비율: %s'%(max_len, (cnt / len(nested_list))))"
   ]
  },
  {
   "cell_type": "markdown",
   "id": "pretty-vatican",
   "metadata": {},
   "source": [
    "이렇게 만든 함수를 Text와 Summary에 적용해 결정한 임의의 길이가 몇%의 샘플까지 포함하는지 볼 수 있다."
   ]
  },
  {
   "cell_type": "code",
   "execution_count": 21,
   "id": "effective-macro",
   "metadata": {
    "ExecuteTime": {
     "end_time": "2021-02-18T07:56:22.025671Z",
     "start_time": "2021-02-18T07:56:21.796489Z"
    }
   },
   "outputs": [
    {
     "name": "stdout",
     "output_type": "stream",
     "text": [
      "전체 샘플 중 길이가 50 이하인 샘플의 비율: 0.7745119121724859\n",
      "전체 샘플 중 길이가 8 이하인 샘플의 비율: 0.9424593967517402\n"
     ]
    }
   ],
   "source": [
    "below_threshold_len(text_max_len, data['Text'])\n",
    "below_threshold_len(summary_max_len,  data['Summary'])"
   ]
  },
  {
   "cell_type": "markdown",
   "id": "growing-honor",
   "metadata": {},
   "source": [
    "각각 50과 8로 패딩을 하게되면 해당 길이보다 긴 샘플들은 내용이 잘리게 되는데, Text 열의 경우에는 약 23%의 샘플들이 내용이 망가지게 된다고 한다.\n",
    "\n",
    "정해진 길이에 맞춰 자르는 것이 아니라, 정해진 길이보다 길면 제외하는 방법으로 데이터를 정제해보자."
   ]
  },
  {
   "cell_type": "code",
   "execution_count": 22,
   "id": "caring-sending",
   "metadata": {
    "ExecuteTime": {
     "end_time": "2021-02-18T07:56:22.262716Z",
     "start_time": "2021-02-18T07:56:22.027061Z"
    }
   },
   "outputs": [
    {
     "name": "stdout",
     "output_type": "stream",
     "text": [
      "전체 샘플수 : 65818\n"
     ]
    }
   ],
   "source": [
    "data = data[data['Text'].apply(lambda x: len(x.split()) <= text_max_len)]\n",
    "data = data[data['Summary'].apply(lambda x: len(x.split()) <= summary_max_len)]\n",
    "print('전체 샘플수 :',(len(data)))"
   ]
  },
  {
   "cell_type": "markdown",
   "id": "returning-wales",
   "metadata": {},
   "source": [
    "### 시작 토큰과 종료 토큰 추가하기\n",
    "---\n",
    "디코더는 시작 토큰을 입력받아 문장을 생성하기 시작하고, 종료 토큰을 예측한 순간에 문장 생성을 멈추는 것이다.\n",
    "\n",
    "<img src=\"./image/encoder_decoder.png\" alt=\"시작 토큰과 종료 토큰\" />\n",
    "\n",
    "seq2seq 훈련을 위해서는 디코더의 입력과 레이블에 시작 토큰과 종료 토큰을 추가할 필요가 있다. 이번 실습에서는 시작 토큰은 'sostoken', 종료 토큰은 'eostoken'이라 임의로 명명하고 앞, 뒤로 추가할 것이다. 디코더의 입력에 해당하면서 시작 토큰이 맨 앞에 있는 문장의 이름을 decoder_input, 디코더의 출력 또는 레이블에 해당되면서 종료 토큰이 맨 뒤에 붙는 문장의 이름을 decoder_target이라고 이름을 정했다. 두 개의 문장 모두 Summary 열로부터 만들것이다."
   ]
  },
  {
   "cell_type": "code",
   "execution_count": 23,
   "id": "impaired-divorce",
   "metadata": {
    "ExecuteTime": {
     "end_time": "2021-02-18T07:56:22.312503Z",
     "start_time": "2021-02-18T07:56:22.266232Z"
    }
   },
   "outputs": [
    {
     "data": {
      "text/html": [
       "<div>\n",
       "<style scoped>\n",
       "    .dataframe tbody tr th:only-of-type {\n",
       "        vertical-align: middle;\n",
       "    }\n",
       "\n",
       "    .dataframe tbody tr th {\n",
       "        vertical-align: top;\n",
       "    }\n",
       "\n",
       "    .dataframe thead th {\n",
       "        text-align: right;\n",
       "    }\n",
       "</style>\n",
       "<table border=\"1\" class=\"dataframe\">\n",
       "  <thead>\n",
       "    <tr style=\"text-align: right;\">\n",
       "      <th></th>\n",
       "      <th>Text</th>\n",
       "      <th>Summary</th>\n",
       "      <th>decoder_input</th>\n",
       "      <th>decoder_target</th>\n",
       "    </tr>\n",
       "  </thead>\n",
       "  <tbody>\n",
       "    <tr>\n",
       "      <th>0</th>\n",
       "      <td>bought several vitality canned dog food produc...</td>\n",
       "      <td>good quality dog food</td>\n",
       "      <td>sostoken good quality dog food</td>\n",
       "      <td>good quality dog food eostoken</td>\n",
       "    </tr>\n",
       "    <tr>\n",
       "      <th>1</th>\n",
       "      <td>product arrived labeled jumbo salted peanuts p...</td>\n",
       "      <td>not as advertised</td>\n",
       "      <td>sostoken not as advertised</td>\n",
       "      <td>not as advertised eostoken</td>\n",
       "    </tr>\n",
       "    <tr>\n",
       "      <th>2</th>\n",
       "      <td>confection around centuries light pillowy citr...</td>\n",
       "      <td>delight says it all</td>\n",
       "      <td>sostoken delight says it all</td>\n",
       "      <td>delight says it all eostoken</td>\n",
       "    </tr>\n",
       "    <tr>\n",
       "      <th>3</th>\n",
       "      <td>looking secret ingredient robitussin believe f...</td>\n",
       "      <td>cough medicine</td>\n",
       "      <td>sostoken cough medicine</td>\n",
       "      <td>cough medicine eostoken</td>\n",
       "    </tr>\n",
       "    <tr>\n",
       "      <th>4</th>\n",
       "      <td>great taffy great price wide assortment yummy ...</td>\n",
       "      <td>great taffy</td>\n",
       "      <td>sostoken great taffy</td>\n",
       "      <td>great taffy eostoken</td>\n",
       "    </tr>\n",
       "  </tbody>\n",
       "</table>\n",
       "</div>"
      ],
      "text/plain": [
       "                                                Text                Summary  \\\n",
       "0  bought several vitality canned dog food produc...  good quality dog food   \n",
       "1  product arrived labeled jumbo salted peanuts p...      not as advertised   \n",
       "2  confection around centuries light pillowy citr...    delight says it all   \n",
       "3  looking secret ingredient robitussin believe f...         cough medicine   \n",
       "4  great taffy great price wide assortment yummy ...            great taffy   \n",
       "\n",
       "                    decoder_input                  decoder_target  \n",
       "0  sostoken good quality dog food  good quality dog food eostoken  \n",
       "1      sostoken not as advertised      not as advertised eostoken  \n",
       "2    sostoken delight says it all    delight says it all eostoken  \n",
       "3         sostoken cough medicine         cough medicine eostoken  \n",
       "4            sostoken great taffy            great taffy eostoken  "
      ]
     },
     "execution_count": 23,
     "metadata": {},
     "output_type": "execute_result"
    }
   ],
   "source": [
    "#요약 데이터에는 시작 토큰과 종료 토큰을 추가한다.\n",
    "data['decoder_input'] = data['Summary'].apply(lambda x : 'sostoken '+ x)\n",
    "data['decoder_target'] = data['Summary'].apply(lambda x : x + ' eostoken')\n",
    "data.head()"
   ]
  },
  {
   "cell_type": "markdown",
   "id": "healthy-poison",
   "metadata": {},
   "source": [
    "앞뒤로 토큰이 잘 붙은 모습이다. 인코더의 입력, 디코더의 입력과 레이블을 각각 다시 Numpy 타입으로 저장해주자."
   ]
  },
  {
   "cell_type": "code",
   "execution_count": 24,
   "id": "adjacent-agreement",
   "metadata": {
    "ExecuteTime": {
     "end_time": "2021-02-18T07:56:22.320755Z",
     "start_time": "2021-02-18T07:56:22.315158Z"
    }
   },
   "outputs": [],
   "source": [
    "encoder_input = np.array(data['Text']) # 인코더의 입력\n",
    "decoder_input = np.array(data['decoder_input']) # 디코더의 입력\n",
    "decoder_target = np.array(data['decoder_target']) # 디코더의 레이블"
   ]
  },
  {
   "cell_type": "markdown",
   "id": "comprehensive-conflict",
   "metadata": {},
   "source": [
    "이제 훈련 데이터와 테스트 데이터를 분리할 것이다.\n",
    "\n",
    "훈련 데이터와 테스트 데이터를 분리하는 방법은 분리 패키지를 사용하는 방법, 또는 직접 코딩을 통해서 분리하는 방법 등 여러가지 방법이 있을텐데 직접 해보도록 하자. 우선, encoder_input과 크기와 형태가 같은 순서가 섞인 정수 시퀀스를 만들어주자."
   ]
  },
  {
   "cell_type": "code",
   "execution_count": 25,
   "id": "taken-corporation",
   "metadata": {
    "ExecuteTime": {
     "end_time": "2021-02-18T07:56:22.326524Z",
     "start_time": "2021-02-18T07:56:22.322279Z"
    }
   },
   "outputs": [
    {
     "name": "stdout",
     "output_type": "stream",
     "text": [
      "[ 2971 59998 39955 ... 25868 30105  6259]\n"
     ]
    }
   ],
   "source": [
    "indices = np.arange(encoder_input.shape[0])\n",
    "np.random.shuffle(indices)\n",
    "print(indices)"
   ]
  },
  {
   "cell_type": "markdown",
   "id": "smooth-howard",
   "metadata": {},
   "source": [
    "이 정수 시퀀스를 이용해 다시 데이터의 샘플 순서를 정의해주면 잘 섞인 샘플이 되겠다."
   ]
  },
  {
   "cell_type": "code",
   "execution_count": 26,
   "id": "incorporated-monitor",
   "metadata": {
    "ExecuteTime": {
     "end_time": "2021-02-18T07:56:22.337693Z",
     "start_time": "2021-02-18T07:56:22.328022Z"
    }
   },
   "outputs": [],
   "source": [
    "encoder_input = encoder_input[indices]\n",
    "decoder_input = decoder_input[indices]\n",
    "decoder_target = decoder_target[indices]"
   ]
  },
  {
   "cell_type": "markdown",
   "id": "presidential-variable",
   "metadata": {},
   "source": [
    "이제 섞인 데이터를 8:2의 비율로 훈련 데이터와 테스트 데이터로 분리해주자. 전체 데이터의 크기에서 0.2를 곱해서 테스트 데이터의 크기를 정의해주면 된다."
   ]
  },
  {
   "cell_type": "code",
   "execution_count": 27,
   "id": "operating-marshall",
   "metadata": {
    "ExecuteTime": {
     "end_time": "2021-02-18T07:56:22.341979Z",
     "start_time": "2021-02-18T07:56:22.339032Z"
    }
   },
   "outputs": [
    {
     "name": "stdout",
     "output_type": "stream",
     "text": [
      "테스트 데이터의 수 : 13163\n"
     ]
    }
   ],
   "source": [
    "n_of_val = int(len(encoder_input)*0.2)\n",
    "print('테스트 데이터의 수 :',n_of_val)"
   ]
  },
  {
   "cell_type": "markdown",
   "id": "banned-mauritius",
   "metadata": {},
   "source": [
    "이렇게 정의한 테스트 데이터의 갯수를 이용해 전체 데이터를 양분하자. :표시의 위치에 주의해야한다."
   ]
  },
  {
   "cell_type": "code",
   "execution_count": 28,
   "id": "colonial-worship",
   "metadata": {
    "ExecuteTime": {
     "end_time": "2021-02-18T07:56:22.348406Z",
     "start_time": "2021-02-18T07:56:22.343390Z"
    }
   },
   "outputs": [
    {
     "name": "stdout",
     "output_type": "stream",
     "text": [
      "훈련 데이터의 개수 : 52655\n",
      "훈련 레이블의 개수 : 52655\n",
      "테스트 데이터의 개수 : 13163\n",
      "테스트 레이블의 개수 : 13163\n"
     ]
    }
   ],
   "source": [
    "encoder_input_train = encoder_input[:-n_of_val]\n",
    "decoder_input_train = decoder_input[:-n_of_val]\n",
    "decoder_target_train = decoder_target[:-n_of_val]\n",
    "\n",
    "encoder_input_test = encoder_input[-n_of_val:]\n",
    "decoder_input_test = decoder_input[-n_of_val:]\n",
    "decoder_target_test = decoder_target[-n_of_val:]\n",
    "\n",
    "print('훈련 데이터의 개수 :', len(encoder_input_train))\n",
    "print('훈련 레이블의 개수 :',len(decoder_input_train))\n",
    "print('테스트 데이터의 개수 :',len(encoder_input_test))\n",
    "print('테스트 레이블의 개수 :',len(decoder_input_test))"
   ]
  },
  {
   "cell_type": "markdown",
   "id": "raised-thailand",
   "metadata": {},
   "source": [
    "훈련 데이터와 테스트 데이터가 각각 52,655개와 13,163개로 잘 분리된 것을 볼 수 있다."
   ]
  },
  {
   "cell_type": "markdown",
   "id": "chubby-fancy",
   "metadata": {},
   "source": [
    "## 7. 데이터 전처리하기 (3) 정수 인코딩"
   ]
  },
  {
   "cell_type": "markdown",
   "id": "respiratory-prison",
   "metadata": {},
   "source": [
    "### 단어 집합(vocaburary) 만들기 및 정수 인코딩\n",
    "---\n",
    "이제 기계가 텍스트를 숫자로 처리할 수 있도록 훈련 데이터와 테스트 데이터의 단어들을 모두 정수로 바꾸어 주어야한다. 이를 위해서는 각 단어에 고유한 정수를 맵핑하는 작업이 필요하다. 이 과정을 __단어 집합(vocaburary)__을 만든다고 표현한다. 훈련 데이터에 대해서 단어 집합을 만들어보자. 우선, 원문에 해당되는 `encoder_input_train`에 대해서 단어 집합을 만들자.\n",
    "\n",
    "Keras의 토크나이저를 사용하면, 입력된 훈련 데이터로부터 단어 집합을 만들 수 있다."
   ]
  },
  {
   "cell_type": "code",
   "execution_count": 29,
   "id": "least-vector",
   "metadata": {
    "ExecuteTime": {
     "end_time": "2021-02-18T07:56:23.467215Z",
     "start_time": "2021-02-18T07:56:22.349874Z"
    }
   },
   "outputs": [],
   "source": [
    "src_tokenizer = Tokenizer() # 토크나이저 정의\n",
    "src_tokenizer.fit_on_texts(encoder_input_train) # 입력된 데이터로부터 단어 집합 생성"
   ]
  },
  {
   "cell_type": "markdown",
   "id": "corrected-discount",
   "metadata": {},
   "source": [
    "이제 단어 집합이 생성되는 동시에 각 단어에 고유한 정수가 부여되었다. 현재 생성된 단어 집합은 `src_tokenizer.word_index`에 저장되어있다. 그런데 이렇게 만든 단어 집합에 있는 모든 단어를 사용하는 것이 아니라, 빈도수가 낮은 단어들은 훈련 데이터에서 제외하고 진행하려고 한다.\n",
    "\n",
    "등장 빈도수가 7회 미만인 단어들이 이 데이터에서 얼만큼의 비중을 차지하는지 확인해보자.\n",
    "\n",
    "`src_tokenizer.word_counts.items()`에는 단어와 각 단어의 등장 빈도수가 저장되어져 있는데, 이를 통해서 통계적인 정보를 얻을 수 있다."
   ]
  },
  {
   "cell_type": "code",
   "execution_count": 30,
   "id": "selected-cleaner",
   "metadata": {
    "ExecuteTime": {
     "end_time": "2021-02-18T07:56:23.487561Z",
     "start_time": "2021-02-18T07:56:23.468356Z"
    }
   },
   "outputs": [
    {
     "name": "stdout",
     "output_type": "stream",
     "text": [
      "단어 집합(vocabulary)의 크기 : 31991\n",
      "등장 빈도가 6번 이하인 희귀 단어의 수: 23717\n",
      "단어 집합에서 희귀 단어를 제외시킬 경우의 단어 집합의 크기 8274\n",
      "단어 집합에서 희귀 단어의 비율: 74.13647588384234\n",
      "전체 등장 빈도에서 희귀 단어 등장 빈도 비율: 3.379323316850813\n"
     ]
    }
   ],
   "source": [
    "threshold = 7\n",
    "total_cnt = len(src_tokenizer.word_index) # 단어의 수\n",
    "rare_cnt = 0 # 등장 빈도수가 threshold보다 작은 단어의 개수를 카운트\n",
    "total_freq = 0 # 훈련 데이터의 전체 단어 빈도수 총 합\n",
    "rare_freq = 0 # 등장 빈도수가 threshold보다 작은 단어의 등장 빈도수의 총 합\n",
    "\n",
    "# 단어와 빈도수의 쌍(pair)을 key와 value로 받는다.\n",
    "for key, value in src_tokenizer.word_counts.items():\n",
    "    total_freq = total_freq + value\n",
    "\n",
    "    # 단어의 등장 빈도수가 threshold보다 작으면\n",
    "    if(value < threshold):\n",
    "        rare_cnt = rare_cnt + 1\n",
    "        rare_freq = rare_freq + value\n",
    "\n",
    "print('단어 집합(vocabulary)의 크기 :',total_cnt)\n",
    "print('등장 빈도가 %s번 이하인 희귀 단어의 수: %s'%(threshold - 1, rare_cnt))\n",
    "print('단어 집합에서 희귀 단어를 제외시킬 경우의 단어 집합의 크기 %s'%(total_cnt - rare_cnt))\n",
    "print(\"단어 집합에서 희귀 단어의 비율:\", (rare_cnt / total_cnt)*100)\n",
    "print(\"전체 등장 빈도에서 희귀 단어 등장 빈도 비율:\", (rare_freq / total_freq)*100)"
   ]
  },
  {
   "cell_type": "markdown",
   "id": "incident-outline",
   "metadata": {},
   "source": [
    "`encoder_input_train`에 총 32,021개의 단어가 있음을 확인할 수 있다. 그 아래의 통계 정보들을 해석해보자.\n",
    "\n",
    "등장 빈도가 threshold 값인 7회 미만, 즉, 6회 이하인 단어들은 단어 집합에서 무려 70% 이상을 차지한다. 하지만, 실제로 훈련 데이터에서 등장 빈도로 차지하는 비중은 상대적으로 적은 수치인 3.38%밖에 되지 않는다.\n",
    "\n",
    "그래서 등장 빈도가 6회 이하인 단어들은 정수 인코딩 과정에서 빼고, 훈련 데이터에서 제거하고자 한다. 위에서 이를 제외한 단어 집합의 크기를 8,262로 계산했는데, 이와 비슷한 값으로 어림잡아 단어 집합의 크기를 8000으로 제한해보자. 토크나이저를 정의할 때 num_words의 값을 정해주면, 단어 집합의 크기를 제한할 수 있다."
   ]
  },
  {
   "cell_type": "code",
   "execution_count": 31,
   "id": "embedded-sugar",
   "metadata": {
    "ExecuteTime": {
     "end_time": "2021-02-18T07:56:24.600279Z",
     "start_time": "2021-02-18T07:56:23.489109Z"
    }
   },
   "outputs": [],
   "source": [
    "src_vocab = 8000\n",
    "src_tokenizer = Tokenizer(num_words = src_vocab) # 단어 집합의 크기를 8,000으로 제한\n",
    "src_tokenizer.fit_on_texts(encoder_input_train) # 단어 집합 재생성."
   ]
  },
  {
   "cell_type": "markdown",
   "id": "floating-ethernet",
   "metadata": {},
   "source": [
    "`texts_to_sequences()`는 생성된 단어 집합에 기반하여 입력으로 주어진 텍스트 데이터의 단어들을 모두 정수로 변환하는 정수 인코딩을 수행한다. 현재 단어 집합의 크기를 8,000으로 제한했으니 이제 8,000이 넘는 숫자들은 정수 인코딩 후에는 데이터에 존재하지 않는다."
   ]
  },
  {
   "cell_type": "code",
   "execution_count": 32,
   "id": "exterior-administration",
   "metadata": {
    "ExecuteTime": {
     "end_time": "2021-02-18T07:56:25.677382Z",
     "start_time": "2021-02-18T07:56:24.601431Z"
    }
   },
   "outputs": [
    {
     "name": "stdout",
     "output_type": "stream",
     "text": [
      "[[4093, 979, 475, 89, 123, 43, 548, 2791, 1520, 22, 231, 404, 43, 235, 431, 25, 953, 443, 2170, 7194], [13, 144, 108, 51, 67, 57, 439, 14, 36, 164, 74, 869, 642, 688, 6133, 3907, 29, 727, 300, 144, 651, 1357, 5080, 363, 90, 689, 586, 5, 10, 41, 745, 832, 1698, 5250], [140, 2, 915, 756, 2, 3828, 1, 251, 4177, 915, 84, 53, 97, 454, 53, 470, 75, 119, 128, 630, 307, 1261, 3193, 2338, 756, 74, 707, 1505, 141, 1302, 915, 756, 38, 15, 645, 63, 1620, 1773, 563, 3345, 1262, 112, 360, 1358]]\n"
     ]
    }
   ],
   "source": [
    "# 텍스트 시퀀스를 정수 시퀀스로 변환\n",
    "encoder_input_train = src_tokenizer.texts_to_sequences(encoder_input_train) \n",
    "encoder_input_test = src_tokenizer.texts_to_sequences(encoder_input_test)\n",
    "\n",
    "#잘 진행되었는지 샘플 출력\n",
    "print(encoder_input_train[:3])"
   ]
  },
  {
   "cell_type": "markdown",
   "id": "developing-treasurer",
   "metadata": {},
   "source": [
    "이제 더 이상 텍스트 데이터가 아니라 정수가 나오고 있다.\n",
    "\n",
    "Summary 데이터에 대해서도 동일한 작업을 수행해보자. 케라스의 토크나이저를 사용하여 decoder_input_train을 입력으로 전체 단어 집합과 각 단어에 대한 빈도수를 계산한다."
   ]
  },
  {
   "cell_type": "code",
   "execution_count": 33,
   "id": "sunrise-cassette",
   "metadata": {
    "ExecuteTime": {
     "end_time": "2021-02-18T07:56:26.122450Z",
     "start_time": "2021-02-18T07:56:25.678403Z"
    }
   },
   "outputs": [],
   "source": [
    "tar_tokenizer = Tokenizer()\n",
    "tar_tokenizer.fit_on_texts(decoder_input_train)"
   ]
  },
  {
   "cell_type": "markdown",
   "id": "noticed-filling",
   "metadata": {},
   "source": [
    "이제 단어 집합이 생성되는 동시에 각 단어에 고유한 정수가 부여되었다. 이는 `tar_tokenizer.word_index`에 저장되어있다. `tar_tokenizer.word_counts.items()`에는 단어와 각 단어의 등장 빈도수가 저장되어져 있는데, 이를 통해서 통계적인 정보를 얻어서, 등장 빈도수가 6회 미만인 단어들이 이 데이터에서 얼만큼의 비중을 차지하는지 확인해보자."
   ]
  },
  {
   "cell_type": "code",
   "execution_count": 34,
   "id": "beginning-bunny",
   "metadata": {
    "ExecuteTime": {
     "end_time": "2021-02-18T07:56:26.131976Z",
     "start_time": "2021-02-18T07:56:26.123738Z"
    }
   },
   "outputs": [
    {
     "name": "stdout",
     "output_type": "stream",
     "text": [
      "단어 집합(vocabulary)의 크기 : 10493\n",
      "등장 빈도가 5번 이하인 희귀 단어의 수: 8111\n",
      "단어 집합에서 희귀 단어를 제외시킬 경우의 단어 집합의 크기 2382\n",
      "단어 집합에서 희귀 단어의 비율: 77.29915181549605\n",
      "전체 등장 빈도에서 희귀 단어 등장 빈도 비율: 5.913788800633375\n"
     ]
    }
   ],
   "source": [
    "threshold = 6\n",
    "total_cnt = len(tar_tokenizer.word_index) # 단어의 수\n",
    "rare_cnt = 0 # 등장 빈도수가 threshold보다 작은 단어의 개수를 카운트\n",
    "total_freq = 0 # 훈련 데이터의 전체 단어 빈도수 총 합\n",
    "rare_freq = 0 # 등장 빈도수가 threshold보다 작은 단어의 등장 빈도수의 총 합\n",
    "\n",
    "# 단어와 빈도수의 쌍(pair)을 key와 value로 받는다.\n",
    "for key, value in tar_tokenizer.word_counts.items():\n",
    "    total_freq = total_freq + value\n",
    "\n",
    "    # 단어의 등장 빈도수가 threshold보다 작으면\n",
    "    if(value < threshold):\n",
    "        rare_cnt = rare_cnt + 1\n",
    "        rare_freq = rare_freq + value\n",
    "\n",
    "print('단어 집합(vocabulary)의 크기 :',total_cnt)\n",
    "print('등장 빈도가 %s번 이하인 희귀 단어의 수: %s'%(threshold - 1, rare_cnt))\n",
    "print('단어 집합에서 희귀 단어를 제외시킬 경우의 단어 집합의 크기 %s'%(total_cnt - rare_cnt))\n",
    "print(\"단어 집합에서 희귀 단어의 비율:\", (rare_cnt / total_cnt)*100)\n",
    "print(\"전체 등장 빈도에서 희귀 단어 등장 빈도 비율:\", (rare_freq / total_freq)*100)"
   ]
  },
  {
   "cell_type": "markdown",
   "id": "piano-wilderness",
   "metadata": {},
   "source": [
    "등장 빈도가 5회 이하인 단어들은 단어 집합에서 약 77%를 차지하고있다. 하지만, 실제로 훈련 데이터에서 등장 빈도로 차지하는 비중은 상대적으로 매우 적은 수치인 5.87%밖에 되지 않는다. 아까 했던것과 동일하게 이 단어들은 모두 제거하자. 2,391에서 어림잡아 2,000을 단어 집합의 크기로 제한해보자."
   ]
  },
  {
   "cell_type": "code",
   "execution_count": 35,
   "id": "suspected-tamil",
   "metadata": {
    "ExecuteTime": {
     "end_time": "2021-02-18T07:56:27.917018Z",
     "start_time": "2021-02-18T07:56:26.133539Z"
    }
   },
   "outputs": [
    {
     "name": "stdout",
     "output_type": "stream",
     "text": [
      "input\n",
      "input  [[1, 205, 8, 87], [1, 3, 116, 18, 6, 92, 101], [1, 93, 4, 393, 319], [1], [1, 175, 10, 29]]\n",
      "target\n",
      "decoder  [[205, 8, 87, 2], [3, 116, 18, 6, 92, 101, 2], [93, 4, 393, 319, 2], [2], [175, 10, 29, 2]]\n"
     ]
    }
   ],
   "source": [
    "tar_vocab = 2000\n",
    "tar_tokenizer = Tokenizer(num_words = tar_vocab) \n",
    "tar_tokenizer.fit_on_texts(decoder_input_train)\n",
    "tar_tokenizer.fit_on_texts(decoder_target_train)\n",
    "\n",
    "# 텍스트 시퀀스를 정수 시퀀스로 변환\n",
    "decoder_input_train = tar_tokenizer.texts_to_sequences(decoder_input_train) \n",
    "decoder_target_train = tar_tokenizer.texts_to_sequences(decoder_target_train)\n",
    "decoder_input_test = tar_tokenizer.texts_to_sequences(decoder_input_test)\n",
    "decoder_target_test = tar_tokenizer.texts_to_sequences(decoder_target_test)\n",
    "\n",
    "#잘 변환되었는지 확인\n",
    "print('input')\n",
    "print('input ',decoder_input_train[:5])\n",
    "print('target')\n",
    "print('decoder ',decoder_target_train[:5])"
   ]
  },
  {
   "cell_type": "markdown",
   "id": "minor-heather",
   "metadata": {},
   "source": [
    "정상적으로 정수 인코딩 작업이 끝났다. 현재 `decoder_input_train`과 `decoder_target_train`에는 더 이상 숫자 2,000이 넘는 숫자들은 존재하지 않는다. 그런데 다음 작업인 패딩하기로 넘어가기 전에 한 가지 점검해야할 것이 있다.\n",
    "\n",
    "전체 데이터에서 빈도수가 낮은 단어가 삭제되었다는 것은 빈도수가 낮은 단어만으로 구성되었던 샘플들은 이제 빈(empty) 샘플이 되었을 가능성이 있다. 이 현상은 길이가 상대적으로 길었던 원문(Text)의 경우에는 문제가 별로 없겠지만, 애초에 평균 길이가 4밖에 되지 않았던 요약문(Summary)의 경우에는 이 현상이 굉장히 두드러졌을 가능성이 높을 것이다.\n",
    "\n",
    "요약문에서 길이가 0이 된 샘플들의 인덱스를 받아와보자. 여기서 주의할 점은 요약문인 `decoder_input`에는 `sostoken` 또는 `decoder_target`에는 `eostoken`이 추가된 상태이고, 이 두 토큰은 모든 샘플에서 등장하므로 빈도수가 샘플수와 동일하게 매우 높으므로 단어 집합 제한에도 삭제 되지 않는다. 그래서 이제 길이가 0이 된 요약문의 실제길이는 1로 나올것이다. 길이 0이 된 `decoder_input`에는 `sostoken`, `decoder_target`에는 `eostoken`만 남아 있을 것이기 때문이다.\n",
    "\n",
    "훈련 데이터와 테스트 데이터에 대해서 요약문의 길이가 1인 경우의 인덱스를 각각 `drop_train`과 `drop_test`에 라는 변수에 저장해보자. 이 샘플들은 모두 삭제할 것이다."
   ]
  },
  {
   "cell_type": "code",
   "execution_count": 36,
   "id": "horizontal-french",
   "metadata": {
    "ExecuteTime": {
     "end_time": "2021-02-18T07:56:28.088948Z",
     "start_time": "2021-02-18T07:56:27.918138Z"
    }
   },
   "outputs": [
    {
     "name": "stdout",
     "output_type": "stream",
     "text": [
      "삭제할 훈련 데이터의 개수 : 1292\n",
      "삭제할 테스트 데이터의 개수 : 317\n",
      "훈련 데이터의 개수 : 51363\n",
      "훈련 레이블의 개수 : 51363\n",
      "테스트 데이터의 개수 : 12846\n",
      "테스트 레이블의 개수 : 12846\n"
     ]
    },
    {
     "name": "stderr",
     "output_type": "stream",
     "text": [
      "/home/aiffel-dj10/anaconda3/envs/aiffel/lib/python3.7/site-packages/numpy/core/_asarray.py:83: VisibleDeprecationWarning: Creating an ndarray from ragged nested sequences (which is a list-or-tuple of lists-or-tuples-or ndarrays with different lengths or shapes) is deprecated. If you meant to do this, you must specify 'dtype=object' when creating the ndarray\n",
      "  return array(a, dtype, copy=False, order=order)\n"
     ]
    }
   ],
   "source": [
    "drop_train = [index for index, sentence in enumerate(decoder_input_train) if len(sentence) == 1]\n",
    "drop_test = [index for index, sentence in enumerate(decoder_input_test) if len(sentence) == 1]\n",
    "\n",
    "print('삭제할 훈련 데이터의 개수 :',len(drop_train))\n",
    "print('삭제할 테스트 데이터의 개수 :',len(drop_test))\n",
    "\n",
    "encoder_input_train = np.delete(encoder_input_train, drop_train, axis=0)\n",
    "decoder_input_train = np.delete(decoder_input_train, drop_train, axis=0)\n",
    "decoder_target_train = np.delete(decoder_target_train, drop_train, axis=0)\n",
    "\n",
    "encoder_input_test = np.delete(encoder_input_test, drop_test, axis=0)\n",
    "decoder_input_test = np.delete(decoder_input_test, drop_test, axis=0)\n",
    "decoder_target_test = np.delete(decoder_target_test, drop_test, axis=0)\n",
    "\n",
    "print('훈련 데이터의 개수 :', len(encoder_input_train))\n",
    "print('훈련 레이블의 개수 :',len(decoder_input_train))\n",
    "print('테스트 데이터의 개수 :',len(encoder_input_test))\n",
    "print('테스트 레이블의 개수 :',len(decoder_input_test))"
   ]
  },
  {
   "cell_type": "markdown",
   "id": "mysterious-jurisdiction",
   "metadata": {},
   "source": [
    "훈련 데이터와 테스트 데이터 모두 일정량의 샘플들이 제거된 것을 확인할 수 있다."
   ]
  },
  {
   "cell_type": "markdown",
   "id": "documentary-wheel",
   "metadata": {},
   "source": [
    "### 패딩하기\n",
    "---\n",
    "텍스트 시퀀스를 정수 시퀀스로 변환했다면, 이제 서로 다른 길이의 샘플들을 병렬 처리하기 위해 같은 길이로 맞춰주는 패딩 작업을 해주어야한다. 아까 정해두었던 최대 길이로 패딩해 줄 것이다. 최대 길이보다 짧은 데이터들은 뒤의 공간에 숫자 0을 넣어 최대 길이로 길이를 맞춰주자."
   ]
  },
  {
   "cell_type": "code",
   "execution_count": 37,
   "id": "organizational-hearing",
   "metadata": {
    "ExecuteTime": {
     "end_time": "2021-02-18T07:56:28.804484Z",
     "start_time": "2021-02-18T07:56:28.090181Z"
    }
   },
   "outputs": [],
   "source": [
    "encoder_input_train = pad_sequences(encoder_input_train, maxlen = text_max_len, padding='post')\n",
    "encoder_input_test = pad_sequences(encoder_input_test, maxlen = text_max_len, padding='post')\n",
    "decoder_input_train = pad_sequences(decoder_input_train, maxlen = summary_max_len, padding='post')\n",
    "decoder_target_train = pad_sequences(decoder_target_train, maxlen = summary_max_len, padding='post')\n",
    "decoder_input_test = pad_sequences(decoder_input_test, maxlen = summary_max_len, padding='post')\n",
    "decoder_target_test = pad_sequences(decoder_target_test, maxlen = summary_max_len, padding='post')"
   ]
  },
  {
   "cell_type": "markdown",
   "id": "proprietary-cargo",
   "metadata": {},
   "source": [
    "이제 학습에 필요한 데이터 전처리가 모두 끝났다."
   ]
  },
  {
   "cell_type": "markdown",
   "id": "falling-certificate",
   "metadata": {},
   "source": [
    "## 8. 모델 설계하기\n",
    "이제 모델을 설계할 시간이다. 우선 함수형 API를 이용해서 인코더를 설계해보자."
   ]
  },
  {
   "cell_type": "code",
   "execution_count": 38,
   "id": "hazardous-minutes",
   "metadata": {
    "ExecuteTime": {
     "end_time": "2021-02-18T07:56:30.101856Z",
     "start_time": "2021-02-18T07:56:28.805822Z"
    }
   },
   "outputs": [
    {
     "name": "stdout",
     "output_type": "stream",
     "text": [
      "WARNING:tensorflow:Layer lstm will not use cuDNN kernel since it doesn't meet the cuDNN kernel criteria. It will use generic GPU kernel as fallback when running on GPU\n",
      "WARNING:tensorflow:Layer lstm_1 will not use cuDNN kernel since it doesn't meet the cuDNN kernel criteria. It will use generic GPU kernel as fallback when running on GPU\n",
      "WARNING:tensorflow:Layer lstm_2 will not use cuDNN kernel since it doesn't meet the cuDNN kernel criteria. It will use generic GPU kernel as fallback when running on GPU\n"
     ]
    }
   ],
   "source": [
    "from tensorflow.keras.layers import Input, LSTM, Embedding, Dense, Concatenate\n",
    "from tensorflow.keras.models import Model\n",
    "from tensorflow.keras.callbacks import EarlyStopping, ModelCheckpoint\n",
    "\n",
    "\n",
    "# 인코더 설계 시작\n",
    "embedding_dim = 128\n",
    "hidden_size = 256\n",
    "\n",
    "# 인코더\n",
    "encoder_inputs = Input(shape=(text_max_len,))\n",
    "\n",
    "# 인코더의 임베딩 층\n",
    "enc_emb = Embedding(src_vocab, embedding_dim)(encoder_inputs)\n",
    "\n",
    "# 인코더의 LSTM 1\n",
    "encoder_lstm1 = LSTM(hidden_size, return_sequences=True, return_state=True ,dropout = 0.4, recurrent_dropout = 0.4)\n",
    "encoder_output1, state_h1, state_c1 = encoder_lstm1(enc_emb)\n",
    "\n",
    "# 인코더의 LSTM 2\n",
    "encoder_lstm2 = LSTM(hidden_size, return_sequences=True, return_state=True, dropout=0.4, recurrent_dropout=0.4)\n",
    "encoder_output2, state_h2, state_c2 = encoder_lstm2(encoder_output1)\n",
    "\n",
    "# 인코더의 LSTM 3\n",
    "encoder_lstm3 = LSTM(hidden_size, return_state=True, return_sequences=True, dropout=0.4, recurrent_dropout=0.4)\n",
    "encoder_outputs, state_h, state_c= encoder_lstm3(encoder_output2)"
   ]
  },
  {
   "cell_type": "markdown",
   "id": "joined-richardson",
   "metadata": {},
   "source": [
    "임베딩 벡터의 차원은 128로 정의하고, hidden state의 크기를 256으로 정의했다. hidden state는 LSTM에서 얼만큼의 수용력(capacity)를 가질지를 정하는 파라미터이다. 이 파라미터는 LSTM의 용량의 크기나, LSTM에서의 뉴론의 갯수라고 이해하면 된다. 다른 신경망과 마찬가지로, 무조건 용량을 많이 준다고 해서 성능이 반드시 올라가는 것은 아니다.\n",
    "\n",
    "인코더의 LSTM은 총 3개의 층으로 구성해서 모델의 복잡도를 높였다. hidden state의 크기를 늘리는 것이 LSTM 층 1개의 용량을 늘린다면, 3개의 층을 사용하는 것은 모델의 용량을 늘린다고 볼 수 있다. 3개의 층을 지나서 인코더로부터 나온 출력 벡터는 디코더로 보내줘야 할 것이다.\n",
    "\n",
    "디코더를 설계해보자."
   ]
  },
  {
   "cell_type": "code",
   "execution_count": 39,
   "id": "strategic-headset",
   "metadata": {
    "ExecuteTime": {
     "end_time": "2021-02-18T07:56:30.378624Z",
     "start_time": "2021-02-18T07:56:30.103172Z"
    }
   },
   "outputs": [
    {
     "name": "stdout",
     "output_type": "stream",
     "text": [
      "WARNING:tensorflow:Layer lstm_3 will not use cuDNN kernel since it doesn't meet the cuDNN kernel criteria. It will use generic GPU kernel as fallback when running on GPU\n"
     ]
    }
   ],
   "source": [
    "# 디코더 설계\n",
    "\n",
    "decoder_inputs = Input(shape=(None,))\n",
    "\n",
    "# 디코더의 임베딩 층\n",
    "dec_emb_layer = Embedding(tar_vocab, embedding_dim)\n",
    "dec_emb = dec_emb_layer(decoder_inputs)\n",
    "\n",
    "# 디코더의 LSTM\n",
    "decoder_lstm = LSTM(hidden_size, return_sequences = True, return_state = True, dropout = 0.4, recurrent_dropout=0.2)\n",
    "decoder_outputs, _, _ = decoder_lstm(dec_emb, initial_state = [state_h, state_c])"
   ]
  },
  {
   "cell_type": "markdown",
   "id": "entitled-competition",
   "metadata": {},
   "source": [
    "디코더의 임베딩 층과 LSTM을 설계하는 것은 인코더와 거의 동일하다. 하지만 LSTM의 입력을 정의할 때, initial_state의 인자값으로 인코더의 hidden state와 cell state의 값을 넣어줘야 한다.\n",
    "\n",
    "디코더의 출력층을 설계해보자."
   ]
  },
  {
   "cell_type": "code",
   "execution_count": 40,
   "id": "complex-separate",
   "metadata": {
    "ExecuteTime": {
     "end_time": "2021-02-18T07:56:30.410231Z",
     "start_time": "2021-02-18T07:56:30.380036Z"
    }
   },
   "outputs": [
    {
     "name": "stdout",
     "output_type": "stream",
     "text": [
      "Model: \"model\"\n",
      "__________________________________________________________________________________________________\n",
      "Layer (type)                    Output Shape         Param #     Connected to                     \n",
      "==================================================================================================\n",
      "input_1 (InputLayer)            [(None, 50)]         0                                            \n",
      "__________________________________________________________________________________________________\n",
      "embedding (Embedding)           (None, 50, 128)      1024000     input_1[0][0]                    \n",
      "__________________________________________________________________________________________________\n",
      "lstm (LSTM)                     [(None, 50, 256), (N 394240      embedding[0][0]                  \n",
      "__________________________________________________________________________________________________\n",
      "input_2 (InputLayer)            [(None, None)]       0                                            \n",
      "__________________________________________________________________________________________________\n",
      "lstm_1 (LSTM)                   [(None, 50, 256), (N 525312      lstm[0][0]                       \n",
      "__________________________________________________________________________________________________\n",
      "embedding_1 (Embedding)         (None, None, 128)    256000      input_2[0][0]                    \n",
      "__________________________________________________________________________________________________\n",
      "lstm_2 (LSTM)                   [(None, 50, 256), (N 525312      lstm_1[0][0]                     \n",
      "__________________________________________________________________________________________________\n",
      "lstm_3 (LSTM)                   [(None, None, 256),  394240      embedding_1[0][0]                \n",
      "                                                                 lstm_2[0][1]                     \n",
      "                                                                 lstm_2[0][2]                     \n",
      "__________________________________________________________________________________________________\n",
      "dense (Dense)                   (None, None, 2000)   514000      lstm_3[0][0]                     \n",
      "==================================================================================================\n",
      "Total params: 3,633,104\n",
      "Trainable params: 3,633,104\n",
      "Non-trainable params: 0\n",
      "__________________________________________________________________________________________________\n"
     ]
    }
   ],
   "source": [
    "# 디코더의 출력층\n",
    "decoder_softmax_layer = Dense(tar_vocab, activation = 'softmax')\n",
    "decoder_softmax_outputs = decoder_softmax_layer(decoder_outputs) \n",
    "\n",
    "# 모델 정의\n",
    "model = Model([encoder_inputs, decoder_inputs], decoder_softmax_outputs)\n",
    "model.summary()"
   ]
  },
  {
   "cell_type": "markdown",
   "id": "changing-safety",
   "metadata": {},
   "source": [
    "디코더의 출력층에서는 Summary의 단어장인 `tar_vocab`의 수많은 선택지 중 하나의 단어를 선택하는 다중 클래스 분류 문제를 풀어야한다. 그렇기 때문에 Dense의 인자로 `tar_vocab`을 주고, 활성화 함수로 소프트맥스 함수를 사용하고 있다.\n",
    "\n",
    "지금까지 설계한 것은 인코더의 hidden state와 cell state를 디코더의 초기 state로 사용하는 가장 기본적인 seq2seq이다. 그런데 디코더의 출력층을 설계를 살짝 바꿔서 성능을 높일 수 있는 방법이 있다. 바로 어텐션 메커니즘이다."
   ]
  },
  {
   "cell_type": "markdown",
   "id": "correct-light",
   "metadata": {},
   "source": [
    "### 어텐션 매커니즘\n",
    "---\n",
    "어텐션 메커니즘을 수행하는 어텐션 함수를 설계하는 것은 또 다른 새로운 신경망을 설계해야한다는 뜻이다. 이미 구현된 어텐션 함수를 가져와서 디코더의 출력층에 어떤 방식으로 결합하는지 보자.\n",
    "\n",
    "아래의 코드를 수행하여 깃허브에 공개되어져 있는 어텐션 함수를 다운로드 하자.\n",
    "\n"
   ]
  },
  {
   "cell_type": "code",
   "execution_count": 41,
   "id": "catholic-tribute",
   "metadata": {
    "ExecuteTime": {
     "end_time": "2021-02-18T07:56:30.832340Z",
     "start_time": "2021-02-18T07:56:30.411633Z"
    }
   },
   "outputs": [],
   "source": [
    "urllib.request.urlretrieve(\"https://raw.githubusercontent.com/thushv89/attention_keras/master/src/layers/attention.py\", filename=\"attention.py\")\n",
    "from attention import AttentionLayer"
   ]
  },
  {
   "cell_type": "markdown",
   "id": "excessive-sierra",
   "metadata": {},
   "source": [
    "이제 경로에 attention.py 파일이 생겼으니, 어텐션 메커니즘을 사용할 준비가 되었다. 설계한 디코더의 출력층을 다음과 같이 수정하자."
   ]
  },
  {
   "cell_type": "code",
   "execution_count": 42,
   "id": "neutral-paragraph",
   "metadata": {
    "ExecuteTime": {
     "end_time": "2021-02-18T07:56:31.520295Z",
     "start_time": "2021-02-18T07:56:30.833865Z"
    }
   },
   "outputs": [
    {
     "name": "stdout",
     "output_type": "stream",
     "text": [
      "Model: \"model_1\"\n",
      "__________________________________________________________________________________________________\n",
      "Layer (type)                    Output Shape         Param #     Connected to                     \n",
      "==================================================================================================\n",
      "input_1 (InputLayer)            [(None, 50)]         0                                            \n",
      "__________________________________________________________________________________________________\n",
      "embedding (Embedding)           (None, 50, 128)      1024000     input_1[0][0]                    \n",
      "__________________________________________________________________________________________________\n",
      "lstm (LSTM)                     [(None, 50, 256), (N 394240      embedding[0][0]                  \n",
      "__________________________________________________________________________________________________\n",
      "input_2 (InputLayer)            [(None, None)]       0                                            \n",
      "__________________________________________________________________________________________________\n",
      "lstm_1 (LSTM)                   [(None, 50, 256), (N 525312      lstm[0][0]                       \n",
      "__________________________________________________________________________________________________\n",
      "embedding_1 (Embedding)         (None, None, 128)    256000      input_2[0][0]                    \n",
      "__________________________________________________________________________________________________\n",
      "lstm_2 (LSTM)                   [(None, 50, 256), (N 525312      lstm_1[0][0]                     \n",
      "__________________________________________________________________________________________________\n",
      "lstm_3 (LSTM)                   [(None, None, 256),  394240      embedding_1[0][0]                \n",
      "                                                                 lstm_2[0][1]                     \n",
      "                                                                 lstm_2[0][2]                     \n",
      "__________________________________________________________________________________________________\n",
      "attention_layer (AttentionLayer ((None, None, 256),  131328      lstm_2[0][0]                     \n",
      "                                                                 lstm_3[0][0]                     \n",
      "__________________________________________________________________________________________________\n",
      "concat_layer (Concatenate)      (None, None, 512)    0           lstm_3[0][0]                     \n",
      "                                                                 attention_layer[0][0]            \n",
      "__________________________________________________________________________________________________\n",
      "dense_1 (Dense)                 (None, None, 2000)   1026000     concat_layer[0][0]               \n",
      "==================================================================================================\n",
      "Total params: 4,276,432\n",
      "Trainable params: 4,276,432\n",
      "Non-trainable params: 0\n",
      "__________________________________________________________________________________________________\n"
     ]
    }
   ],
   "source": [
    "# 어텐션 층(어텐션 함수)\n",
    "attn_layer = AttentionLayer(name='attention_layer')\n",
    "# 인코더와 디코더의 모든 time step의 hidden state를 어텐션 층에 전달하고 결과를 리턴\n",
    "attn_out, attn_states = attn_layer([encoder_outputs, decoder_outputs])\n",
    "\n",
    "# 어텐션의 결과와 디코더의 hidden state들을 연결\n",
    "decoder_concat_input = Concatenate(axis = -1, name='concat_layer')([decoder_outputs, attn_out])\n",
    "\n",
    "# 디코더의 출력층\n",
    "decoder_softmax_layer = Dense(tar_vocab, activation='softmax')\n",
    "decoder_softmax_outputs = decoder_softmax_layer(decoder_concat_input)\n",
    "\n",
    "# 모델 정의\n",
    "model = Model([encoder_inputs, decoder_inputs], decoder_softmax_outputs)\n",
    "model.summary()"
   ]
  },
  {
   "cell_type": "markdown",
   "id": "terminal-documentation",
   "metadata": {},
   "source": [
    "위의 코드는 인코더의 hidden state들과 디코더의 hidden state들을 어텐션 함수의 입력으로 사용하고, 어텐션 함수가 리턴한 값을 예측 시에 디코더의 hidden state와 함께 활용하는 형태로 작동하고 있다."
   ]
  },
  {
   "cell_type": "markdown",
   "id": "spare-frederick",
   "metadata": {},
   "source": [
    "## 9. 모델 훈련하기\n",
    "설계한 모델을 가지고 훈련을 진행해보자."
   ]
  },
  {
   "cell_type": "code",
   "execution_count": 43,
   "id": "geological-reality",
   "metadata": {
    "ExecuteTime": {
     "end_time": "2021-02-18T08:20:50.421981Z",
     "start_time": "2021-02-18T07:56:31.521401Z"
    }
   },
   "outputs": [
    {
     "name": "stdout",
     "output_type": "stream",
     "text": [
      "Epoch 1/50\n",
      "201/201 [==============================] - 71s 352ms/step - loss: 2.7018 - val_loss: 2.4091\n",
      "Epoch 2/50\n",
      "201/201 [==============================] - 70s 350ms/step - loss: 2.3896 - val_loss: 2.2891\n",
      "Epoch 3/50\n",
      "201/201 [==============================] - 71s 352ms/step - loss: 2.2557 - val_loss: 2.1583\n",
      "Epoch 4/50\n",
      "201/201 [==============================] - 71s 352ms/step - loss: 2.1311 - val_loss: 2.0761\n",
      "Epoch 5/50\n",
      "201/201 [==============================] - 72s 358ms/step - loss: 2.0453 - val_loss: 2.0166\n",
      "Epoch 6/50\n",
      "201/201 [==============================] - 72s 359ms/step - loss: 1.9822 - val_loss: 1.9780\n",
      "Epoch 7/50\n",
      "201/201 [==============================] - 73s 361ms/step - loss: 1.9308 - val_loss: 1.9486\n",
      "Epoch 8/50\n",
      "201/201 [==============================] - 73s 361ms/step - loss: 1.8847 - val_loss: 1.9227\n",
      "Epoch 9/50\n",
      "201/201 [==============================] - 72s 360ms/step - loss: 1.8443 - val_loss: 1.8973\n",
      "Epoch 10/50\n",
      "201/201 [==============================] - 72s 360ms/step - loss: 1.8072 - val_loss: 1.8848\n",
      "Epoch 11/50\n",
      "201/201 [==============================] - 72s 360ms/step - loss: 1.7738 - val_loss: 1.8740\n",
      "Epoch 12/50\n",
      "201/201 [==============================] - 73s 361ms/step - loss: 1.7424 - val_loss: 1.8687\n",
      "Epoch 13/50\n",
      "201/201 [==============================] - 70s 350ms/step - loss: 1.7131 - val_loss: 1.8588\n",
      "Epoch 14/50\n",
      "201/201 [==============================] - 73s 365ms/step - loss: 1.6859 - val_loss: 1.8631\n",
      "Epoch 15/50\n",
      "201/201 [==============================] - 73s 362ms/step - loss: 1.6602 - val_loss: 1.8548\n",
      "Epoch 16/50\n",
      "201/201 [==============================] - 73s 362ms/step - loss: 1.6358 - val_loss: 1.8509\n",
      "Epoch 17/50\n",
      "201/201 [==============================] - 73s 361ms/step - loss: 1.6110 - val_loss: 1.8502\n",
      "Epoch 18/50\n",
      "201/201 [==============================] - 75s 374ms/step - loss: 1.5892 - val_loss: 1.8479\n",
      "Epoch 19/50\n",
      "201/201 [==============================] - 72s 359ms/step - loss: 1.5673 - val_loss: 1.8494\n",
      "Epoch 20/50\n",
      "201/201 [==============================] - 72s 357ms/step - loss: 1.5464 - val_loss: 1.8540\n",
      "Epoch 00020: early stopping\n"
     ]
    }
   ],
   "source": [
    "model.compile(optimizer='rmsprop', loss='sparse_categorical_crossentropy')\n",
    "es = EarlyStopping(monitor='val_loss', mode='min', verbose=1, patience = 2)\n",
    "history = model.fit(x = [encoder_input_train, decoder_input_train], y = decoder_target_train, \\\n",
    "          validation_data = ([encoder_input_test, decoder_input_test], decoder_target_test),\n",
    "          batch_size = 256, callbacks=[es], epochs = 50)"
   ]
  },
  {
   "cell_type": "markdown",
   "id": "responsible-murray",
   "metadata": {},
   "source": [
    "EarlyStopping은 한국어로 해석 하면 '조기 종료'의 뜻을 가지고 있는데, 특정 조건이 충족되면 모델의 훈련을 멈추는 역할을 한다. 여기서는 `val_loss(검증 데이터의 손실)`을 모니터링 하면서, 검증 데이터의 손실이 줄어들지 않고 증가하는 현상이`patiensce =2` 2회 관측되면 학습을 멈추도록 설정되어져 있다. 20번째 epoch쯤에서 조기종료되는 것을 확인했다.\n",
    "\n",
    "훈련 데이터의 손실과 검증 데이터의 손실이 줄어드는 과정을 시각화 해보자."
   ]
  },
  {
   "cell_type": "code",
   "execution_count": 44,
   "id": "confused-large",
   "metadata": {
    "ExecuteTime": {
     "end_time": "2021-02-18T08:59:27.382175Z",
     "start_time": "2021-02-18T08:59:27.238672Z"
    }
   },
   "outputs": [
    {
     "data": {
      "image/png": "[encoded data removed]",
      "text/plain": [
       "<Figure size 432x288 with 1 Axes>"
      ]
     },
     "metadata": {
      "needs_background": "light"
     },
     "output_type": "display_data"
    }
   ],
   "source": [
    "plt.plot(history.history['loss'], label='train')\n",
    "plt.plot(history.history['val_loss'], label='test')\n",
    "plt.legend()\n",
    "plt.show()"
   ]
  },
  {
   "cell_type": "markdown",
   "id": "distinct-psychology",
   "metadata": {},
   "source": [
    "## 10. 인퍼런스 모델 구현하기\n",
    "테스트 단계에서는 정수 인덱스 행렬로 존재하던 텍스트 데이터를 실제 데이터로 복원해야 하므로, 필요한 3개의 사전을 아래와 같이 미리 준비해두자."
   ]
  },
  {
   "cell_type": "code",
   "execution_count": 45,
   "id": "comparable-classic",
   "metadata": {
    "ExecuteTime": {
     "end_time": "2021-02-18T09:00:10.143841Z",
     "start_time": "2021-02-18T09:00:10.141568Z"
    }
   },
   "outputs": [],
   "source": [
    "src_index_to_word = src_tokenizer.index_word # 원문 단어 집합에서 정수 -> 단어를 얻음\n",
    "tar_word_to_index = tar_tokenizer.word_index # 요약 단어 집합에서 단어 -> 정수를 얻음\n",
    "tar_index_to_word = tar_tokenizer.index_word # 요약 단어 집합에서 정수 -> 단어를 얻음"
   ]
  },
  {
   "cell_type": "markdown",
   "id": "established-bachelor",
   "metadata": {},
   "source": [
    "seq2seq는 훈련할 때와 실제 동작할 때(인퍼런스 단계)의 방식이 다르므로 그에 맞게 모델 설계를 별개로 진행해야 한다.\n",
    "\n",
    "훈련 단계에서는 디코더의 입력부에 정답이 되는 문장 전체를 한꺼번에 넣고 디코더의 출력과 한번에 비교할 수 있으므로, 인코더와 디코더를 엮은 통짜 모델 하나만 준비했다.\n",
    "\n",
    "그러나 정답 문장이 없는 인퍼런스 단계에서는 만들어야 할 문장의 길이만큼 디코더가 반복 구조로 동작해야 하기 때문에 부득이하게 인퍼런스를 위한 모델 설계를 별도로 해주어야 한다. 이때는 인코더 모델과 디코더 모델을 분리해서 설계한다."
   ]
  },
  {
   "cell_type": "code",
   "execution_count": 46,
   "id": "meaning-stuart",
   "metadata": {
    "ExecuteTime": {
     "end_time": "2021-02-18T09:47:56.007991Z",
     "start_time": "2021-02-18T09:47:55.767070Z"
    }
   },
   "outputs": [],
   "source": [
    "# 인코더 설계\n",
    "encoder_model = Model(inputs=encoder_inputs, outputs=[encoder_outputs, state_h, state_c])\n",
    "\n",
    "# 이전 시점의 상태들을 저장하는 텐서\n",
    "decoder_state_input_h = Input(shape=(hidden_size,))\n",
    "decoder_state_input_c = Input(shape=(hidden_size,))\n",
    "\n",
    "dec_emb2 = dec_emb_layer(decoder_inputs)\n",
    "# 문장의 다음 단어를 예측하기 위해서 초기 상태(initial_state)를 이전 시점의 상태로 사용. 이는 뒤의 함수 decode_sequence()에 구현\n",
    "# 훈련 과정에서와 달리 LSTM의 리턴하는 은닉 상태와 셀 상태인 state_h와 state_c를 버리지 않음.\n",
    "decoder_outputs2, state_h2, state_c2 = decoder_lstm(dec_emb2, initial_state=[decoder_state_input_h, decoder_state_input_c])"
   ]
  },
  {
   "cell_type": "markdown",
   "id": "religious-aviation",
   "metadata": {
    "ExecuteTime": {
     "end_time": "2021-02-18T09:48:04.483153Z",
     "start_time": "2021-02-18T09:48:04.479980Z"
    }
   },
   "source": [
    "어텐션 메커니즘을 사용하는 출력층을 설계하자."
   ]
  },
  {
   "cell_type": "code",
   "execution_count": 48,
   "id": "southwest-settlement",
   "metadata": {
    "ExecuteTime": {
     "end_time": "2021-02-18T09:48:14.789713Z",
     "start_time": "2021-02-18T09:48:14.643105Z"
    }
   },
   "outputs": [],
   "source": [
    "# 어텐션 함수\n",
    "decoder_hidden_state_input = Input(shape=(text_max_len, hidden_size))\n",
    "attn_out_inf, attn_states_inf = attn_layer([decoder_hidden_state_input, decoder_outputs2])\n",
    "decoder_inf_concat = Concatenate(axis=-1, name='concat')([decoder_outputs2, attn_out_inf])\n",
    "\n",
    "# 디코더의 출력층\n",
    "decoder_outputs2 = decoder_softmax_layer(decoder_inf_concat) \n",
    "\n",
    "# 최종 디코더 모델\n",
    "decoder_model = Model(\n",
    "    [decoder_inputs] + [decoder_hidden_state_input,decoder_state_input_h, decoder_state_input_c],\n",
    "    [decoder_outputs2] + [state_h2, state_c2])"
   ]
  },
  {
   "cell_type": "markdown",
   "id": "adjustable-amber",
   "metadata": {},
   "source": [
    "인퍼런스 단계에서 단어 시퀀스를 완성하는 함수를 만들자."
   ]
  },
  {
   "cell_type": "code",
   "execution_count": 49,
   "id": "opening-amber",
   "metadata": {
    "ExecuteTime": {
     "end_time": "2021-02-18T09:48:29.773989Z",
     "start_time": "2021-02-18T09:48:29.769036Z"
    }
   },
   "outputs": [],
   "source": [
    "def decode_sequence(input_seq):\n",
    "    # 입력으로부터 인코더의 상태를 얻음\n",
    "    e_out, e_h, e_c = encoder_model.predict(input_seq)\n",
    "\n",
    "     # <SOS>에 해당하는 토큰 생성\n",
    "    target_seq = np.zeros((1,1))\n",
    "    target_seq[0, 0] = tar_word_to_index['sostoken']\n",
    "\n",
    "    stop_condition = False\n",
    "    decoded_sentence = ''\n",
    "    while not stop_condition: # stop_condition이 True가 될 때까지 루프 반복\n",
    "\n",
    "        output_tokens, h, c = decoder_model.predict([target_seq] + [e_out, e_h, e_c])\n",
    "        sampled_token_index = np.argmax(output_tokens[0, -1, :])\n",
    "        sampled_token = tar_index_to_word[sampled_token_index]\n",
    "\n",
    "        if(sampled_token!='eostoken'):\n",
    "            decoded_sentence += ' '+sampled_token\n",
    "\n",
    "        #  <eos>에 도달하거나 최대 길이를 넘으면 중단.\n",
    "        if (sampled_token == 'eostoken'  or len(decoded_sentence.split()) >= (summary_max_len-1)):\n",
    "            stop_condition = True\n",
    "\n",
    "        # 길이가 1인 타겟 시퀀스를 업데이트\n",
    "        target_seq = np.zeros((1,1))\n",
    "        target_seq[0, 0] = sampled_token_index\n",
    "\n",
    "        # 상태를 업데이트 합니다.\n",
    "        e_h, e_c = h, c\n",
    "\n",
    "    return decoded_sentence"
   ]
  },
  {
   "cell_type": "markdown",
   "id": "agricultural-dodge",
   "metadata": {},
   "source": [
    "## 11. 모델 테스트하기\n",
    "테스트 단계에서는 정수 시퀀스를 텍스트 시퀀스로 변환하여 결과를 확인하는 것이 편할 것이다. 주어진 정수 시퀀스를 텍스트 시퀀스로 변환하는 함수를 만들어보자. 함수를 만들 때, Text의 정수 시퀀스에서는 패딩을 위해 사용되는 숫자 0을 제외시키고 Summary의 정수 시퀀스에서는 숫자 0, 시작 토큰의 인덱스, 종료 토큰의 인덱스를 출력에서 제외시키도록 만들것이다."
   ]
  },
  {
   "cell_type": "code",
   "execution_count": 50,
   "id": "latest-functionality",
   "metadata": {
    "ExecuteTime": {
     "end_time": "2021-02-18T09:49:08.493598Z",
     "start_time": "2021-02-18T09:49:08.490293Z"
    }
   },
   "outputs": [],
   "source": [
    "# 원문의 정수 시퀀스를 텍스트 시퀀스로 변환\n",
    "def seq2text(input_seq):\n",
    "    temp=''\n",
    "    for i in input_seq:\n",
    "        if(i!=0):\n",
    "            temp = temp + src_index_to_word[i]+' '\n",
    "    return temp\n",
    "\n",
    "# 요약문의 정수 시퀀스를 텍스트 시퀀스로 변환\n",
    "def seq2summary(input_seq):\n",
    "    temp=''\n",
    "    for i in input_seq:\n",
    "        if((i!=0 and i!=tar_word_to_index['sostoken']) and i!=tar_word_to_index['eostoken']):\n",
    "            temp = temp + tar_index_to_word[i] + ' '\n",
    "    return temp"
   ]
  },
  {
   "cell_type": "markdown",
   "id": "coral-announcement",
   "metadata": {
    "ExecuteTime": {
     "end_time": "2021-02-18T09:49:17.181215Z",
     "start_time": "2021-02-18T09:49:17.178372Z"
    }
   },
   "source": [
    "테스트 데이터 약 50개의 샘플에 대해서 실제 요약과 예측된 요약을 비교해보자."
   ]
  },
  {
   "cell_type": "code",
   "execution_count": 52,
   "id": "existing-eagle",
   "metadata": {
    "ExecuteTime": {
     "end_time": "2021-02-18T09:49:37.663363Z",
     "start_time": "2021-02-18T09:49:28.528343Z"
    }
   },
   "outputs": [
    {
     "name": "stdout",
     "output_type": "stream",
     "text": [
      "원문 : ordered product always satisfied welch fruit snacks always arrive exactly date indicated perfect quality \n",
      "실제 요약 : quality product always shipped on time \n",
      "예측 요약 :  great product\n",
      "\n",
      "\n",
      "원문 : added sun blend raw plant based complete protein powder vanilla lbs bag protein shake amazing almost reeses peanut butter cup taste highly recommended \n",
      "실제 요약 : great in protein \n",
      "예측 요약 :  best tasting\n",
      "\n",
      "\n",
      "원문 : unknown reasons item disappeared every local store shelf couple years ago found another brand amazon liked nothing tastes good kraft version thrilled see finally amazon less per nearly last time saw grocery store wow thank amazon \n",
      "실제 요약 : my favorite \n",
      "예측 요약 :  this is the best\n",
      "\n",
      "\n",
      "원문 : food product best get school turn popcorn machine wait get hot cut whole bag popcorn start popping like minute popcorn taste good ingredients put bag right amount done might see pieces burnt popcorn hey least taste great \n",
      "실제 요약 : best popcorn no mess \n",
      "예측 요약 :  great northern popcorn\n",
      "\n",
      "\n",
      "원문 : open bag prepare finish whole thing product made great family company believes awesome family business values carmel corn die sweet crunchy heavy cheese corn melts mouth great savory compliment sweet caramel corn taste new combination classic flavors \n",
      "실제 요약 : love it love it love it \n",
      "예측 요약 :  good for gluten free baking\n",
      "\n",
      "\n",
      "원문 : pumps color matches perfectly work great problem go lock pump pump one shot syrup need plan ahead know much trouble used business party would great going go back regular cap spoon \n",
      "실제 요약 : and pump works perfectly but \n",
      "예측 요약 :  great product\n",
      "\n",
      "\n",
      "원문 : dogs rough one years old still toys puppy within one week broke cap pieces got kibble back together lasted another week would purchase went hard plastic kong dispense hard kibble barely although get food quickly throw larger treats slow dispensing action \n",
      "실제 요약 : break easily \n",
      "예측 요약 :  not for chewers\n",
      "\n",
      "\n",
      "원문 : really great cup coffee rich mellow perfect drink coffee black green mountain flavors terrific \n",
      "실제 요약 : great coffee \n",
      "예측 요약 :  great coffee\n",
      "\n",
      "\n",
      "원문 : daughter eats like food friends spit lol healthy well packaged tasted well plain full kale broccoli chemicals \n",
      "실제 요약 : very healthy if your kids will eat them \n",
      "예측 요약 :  good but not great\n",
      "\n",
      "\n",
      "원문 : made milk production go way taste strong honey great make smell like maple syrup freak husband actually kind liked \n",
      "실제 요약 : wonderful \n",
      "예측 요약 :  good stuff\n",
      "\n",
      "\n",
      "원문 : tried item liked item cheaper get buying local store easier get longer shelf life getting around driving miles one way local make great mini pizzas \n",
      "실제 요약 : gluten free english muffins \n",
      "예측 요약 :  great for\n",
      "\n",
      "\n",
      "원문 : update year olds love product thyroid eat food product allowed gain needed weight energy thyroid deal function fine cats eat premium organic foods makes compliments easy find average case want give kitty chance happy years supplement need \n",
      "실제 요약 : good product life saver \n",
      "예측 요약 :  my cats love it\n",
      "\n",
      "\n",
      "원문 : far best gluten free brownies previous reviewer stated gf free food good \n",
      "실제 요약 : best gf brownies \n",
      "예측 요약 :  best gluten free bread mix\n",
      "\n",
      "\n",
      "원문 : organic pure non gmo eat rice every day almost years years favorite food always looking high quality rice excellent add water olive oil himalayan salt place one hour oven delicious second ordering order nutty tasty smells soooo nice best highly recommended thank \n",
      "실제 요약 : love it \n",
      "예측 요약 :  excellent rice\n",
      "\n",
      "\n",
      "원문 : expecting yummy rice upon opening rice full bugs yuck expecting \n",
      "실제 요약 : rice was full of bugs \n",
      "예측 요약 :  not bad\n",
      "\n",
      "\n",
      "원문 : two aunt cookies contain daily fat cookies full grease fall apart may sugar free gluten free make mostly fat cannot even give grandchildren \n",
      "실제 요약 : cookies \n",
      "예측 요약 :  great cookies\n",
      "\n",
      "\n",
      "원문 : enjoyed coffee wonderful taste strong enough morning coffee better suited afternoon evening coffee good like strong coffee think stick jet fuel \n",
      "실제 요약 : not quite strong enough \n",
      "예측 요약 :  great coffee\n",
      "\n",
      "\n",
      "원문 : nice variety flavors two meat based two vegetable based month old daughter eats flavors particularly likes meat flavors difficulty getting eat meat foods happy found two meat meals loves earth best varieties varieties include organic ingredients without funky preservatives \n",
      "실제 요약 : good variety good flavors \n",
      "예측 요약 :  good but not my favorite\n",
      "\n",
      "\n",
      "원문 : love coffee drink disappoint pour ice nice refreshing americano style coffee drink unsweetened drink one contains equivalent tsp sugar excessive day age sugar addiction recommended quick refreshing coffee pick would stars would used splenda stevia instead sugar \n",
      "실제 요약 : very nice coffee drink \n",
      "예측 요약 :  great taste\n",
      "\n",
      "\n",
      "원문 : gotten biscuit dispensing kong far activity yellow lab puppy got biscuits within minutes working tug jug last hours amazing plan give least one three daily meals keep occupied months teething stage toy real life saver get another one chews way rope one money well spent \n",
      "실제 요약 : this toy is the greatest \n",
      "예측 요약 :  great for chewers\n",
      "\n",
      "\n",
      "원문 : price cannot beat yakisoba noodles cook fast taste great filling easily buy bulk \n",
      "실제 요약 : delicious noodles \n",
      "예측 요약 :  great noodles\n",
      "\n",
      "\n",
      "원문 : name company oskri organics everything sell organic however example look usda label make sure think taste fantastic filling hard finish package wife care taste may vary well like oskri products chances like read ingredients like like \n",
      "실제 요약 : not organic but delicious \n",
      "예측 요약 :  warning better than expected\n",
      "\n",
      "\n",
      "원문 : purchased first box spiced cider variety sam went back buy another box searched net found amazon com pleasant drink cold winter day tea taste exactly like indicate amazon service excellant \n",
      "실제 요약 : spiced variety \n",
      "예측 요약 :  tea\n",
      "\n",
      "\n",
      "원문 : dog always finicky eater always hard find things likes one favorites also healthy also always itchy skin late summer fall found treats last fall past summer skin much better hardly itching would recommend sure read directions though amount give dog recommended weight also good dogs tend eat grass \n",
      "실제 요약 : my dog loves them \n",
      "예측 요약 :  my dog loves these\n",
      "\n",
      "\n",
      "원문 : seriously could go wrong starbucks pick place roast great prefer breakfast blend think pike place roast best travel mug \n",
      "실제 요약 : how could you go wrong with starbucks \n",
      "예측 요약 :  great coffee\n",
      "\n",
      "\n",
      "원문 : sweet grainy soft like another reviewer said taste like caramel squares licorice instead definitely callard bowser quality although licorice flavor bad \n",
      "실제 요약 : not \n",
      "예측 요약 :  good but not great\n",
      "\n",
      "\n",
      "원문 : want something sweet want big bag cookies open next solution cookies taste great manufacturer cares world live win win buy \n",
      "실제 요약 : great little snack \n",
      "예측 요약 :  cookie\n",
      "\n",
      "\n",
      "원문 : heavily touted reviews decided try mix good great probably would buy \n",
      "실제 요약 : good but not great \n",
      "예측 요약 :  good\n",
      "\n",
      "\n",
      "원문 : want truth noodles smell like fish taste like raw wicked gross save money truth \n",
      "실제 요약 : terrible \n",
      "예측 요약 :  not as advertised\n",
      "\n",
      "\n",
      "원문 : find amazon making product available consider best sugar substitutes cannot find stores anymore \n",
      "실제 요약 : sugar \n",
      "예측 요약 :  love this\n",
      "\n",
      "\n",
      "원문 : really enjoyed need basmati rice good go usually get concerned products containing prepackaged form packs turned rubbery texture concerned along special discount price packs great well unfortunately prepackaged indian foods sodium contact high pretty oily \n",
      "실제 요약 : tasty \n",
      "예측 요약 :  good rice\n",
      "\n",
      "\n",
      "원문 : syrup hardly natural claimed tastes terrible check ingredients decide natural sticking pure maple \n",
      "실제 요약 : not the real deal \n",
      "예측 요약 :  not the same\n",
      "\n",
      "\n",
      "원문 : ordered item sale health benefits green tea certain good going pleasantly surprised tastes refreshing fruity flavor overpowering fake mix powder sports bottle along cold water splenda powder dissolves easily drink nice green tea blueberry taste impressed signed automatic delivery great product \n",
      "실제 요약 : flavorful and refreshing \n",
      "예측 요약 :  good stuff\n",
      "\n",
      "\n",
      "원문 : got pack brown rice smell strange almost like rancid nuts tons research find normal cereal really rancid opened several cans smell people experience apparently smell normal month old daughter seems like gotten softer constipation issue three stars smells tastes strong \n",
      "실제 요약 : smells weird \n",
      "예측 요약 :  warning\n",
      "\n",
      "\n",
      "원문 : best breakfast crackers ever light spread crunchy peanut butter good go tasty good love \n",
      "실제 요약 : yummy yummy yummy \n",
      "예측 요약 :  great snack\n",
      "\n",
      "\n",
      "원문 : looking something easy prepare meatless healthy madras entree suggested heat eat never got far love cold madras entrees one wonderful must try amazon shipping great \n",
      "실제 요약 : healthy very tasty \n"
     ]
    },
    {
     "name": "stdout",
     "output_type": "stream",
     "text": [
      "예측 요약 :  great taste\n",
      "\n",
      "\n",
      "원문 : good columbian average product average bean quality taste like pods use cheaper lower quality beans \n",
      "실제 요약 : good flavor and above average coffee bean quality \n",
      "예측 요약 :  good coffee\n",
      "\n",
      "\n",
      "원문 : balsamic vinaigrette salad dressing good use steak sauce salad dressing though like use steaks balsamic vinaigrette tastes good \n",
      "실제 요약 : really good \n",
      "예측 요약 :  great seasoning\n",
      "\n",
      "\n",
      "원문 : good service wish ordered sent quicker days ordered \n",
      "실제 요약 : it was good \n",
      "예측 요약 :  great gift\n",
      "\n",
      "\n",
      "원문 : aussie loves nylabones anything else usually gets bigger bones gave one go carries around everywhere goes quite funny cute highly recommend item \n",
      "실제 요약 : dog loves this \n",
      "예측 요약 :  my dog loves these\n",
      "\n",
      "\n",
      "원문 : large bars box huge big family size cereal times thick wish still offered original price expensive \n",
      "실제 요약 : big box big bars \n",
      "예측 요약 :  great product\n",
      "\n",
      "\n",
      "원문 : appear first glance similar butters taste however lighter delicate infused hazelnut air cookie dip coffee becomes saturated rather quickly cookie mouth sweet center taking center stage nuff said \n",
      "실제 요약 : good with coffee \n",
      "예측 요약 :  not my favorite\n",
      "\n",
      "\n",
      "원문 : supposedly helps control weight know fine cooking oil smoky olive oil taste well would expect fine oil bought bottle set twice highly recommend cooking \n",
      "실제 요약 : oil \n",
      "예측 요약 :  good product\n",
      "\n",
      "\n",
      "원문 : three sisters blend kick ass blend tried met expectations great coffee price awesome name awesome taste amazing great product \n",
      "실제 요약 : kick coffee \n",
      "예측 요약 :  best coffee\n",
      "\n",
      "\n",
      "원문 : wanted try product looks good ordered pk could wait open satisfied taste buds would like ok personally would item \n",
      "실제 요약 : brown sugar beef jerky \n",
      "예측 요약 :  not good\n",
      "\n",
      "\n",
      "원문 : calories protein sweet cure craving throw lunch pale meals little difficult kids open may need start little tear believer making another order today \n",
      "실제 요약 : smooth chocolatey snack \n",
      "예측 요약 :  good but not great\n",
      "\n",
      "\n",
      "원문 : learning favorite candy knew would make perfect anniversary gift absolutely stunned love mom tries steal buying \n",
      "실제 요약 : loved it \n",
      "예측 요약 :  great product\n",
      "\n",
      "\n",
      "원문 : great coffee love bold coffees central america great one grind beans burr grinder brew french press allow steep minutes aroma taste satisfaction great \n",
      "실제 요약 : great coffee great price \n",
      "예측 요약 :  great coffee\n",
      "\n",
      "\n",
      "원문 : gave oil son birthday gift said fantastic rich flavorful could drink uses salads tomatoes fresh also uses dipping oil fresh italian bread heaven \n",
      "실제 요약 : olive oil \n",
      "예측 요약 :  great product\n",
      "\n",
      "\n",
      "원문 : well made bags thought would thinner thicker material usual use use bouquet kids like put small stones shame shipping bags though otherwise would bought much much \n",
      "실제 요약 : pretty well made and \n",
      "예측 요약 :  not as good as the price\n",
      "\n",
      "\n"
     ]
    }
   ],
   "source": [
    "for i in range(50, 100):\n",
    "    print(\"원문 :\", seq2text(encoder_input_test[i]))\n",
    "    print(\"실제 요약 :\", seq2summary(decoder_input_test[i]))\n",
    "    print(\"예측 요약 :\", decode_sequence(encoder_input_test[i].reshape(1, text_max_len)))\n",
    "    print(\"\\n\")"
   ]
  },
  {
   "cell_type": "markdown",
   "id": "covered-surveillance",
   "metadata": {},
   "source": [
    "많은 결과가 출력이 되는데, 기존의 요약과는 다른 요약을 출력하면서도 원문의 내용을 담고 있는 의미있는 요약들이 보인다. 심지어 일부 요약의 경우에는 원문에 없던 단어를 사용해서 요약을 하기도 하고 있다. 워드 임베딩과 RNN의 콜라보로 이뤄낸 신기한 성과인 것이다.\n",
    "\n",
    "물론 슬프게도 그다지 좋지 않은 요약의 예도 꽤나 보인다 . 성능을 개선하기 위해서는 seq2seq와 어텐션의 자체의 조합을 좀 더 좋게 수정하는 방법도 있고, 빔 서치(beam search), 사전 훈련된 워드 임베딩(pre-trained word embedding), 또는 인코더 - 디코더 자체의 구조를 새로이 변경한 하는 트랜스포머(Transformer)와 같은 여러 개선 방안들이 존재한다."
   ]
  },
  {
   "cell_type": "markdown",
   "id": "distinguished-appliance",
   "metadata": {},
   "source": [
    "## 12. 추출적 요약 해보기\n",
    "앞서 seq2seq를 통해서 추상적 요약을 진행해보았다. 그런데 텍스트 요약에는 추상적 요약 외에도 이미 본문에 존재하는 단어구, 문장을 뽑아서 요약으로 삼는 추출적 요약 방법도 있었다.\n",
    "\n",
    "패키지 Summa에서는 추출적 요약을 위한 모듈인 summarize를 제공하고 있어 아주 간단하게 실습을 해볼 수 있다. 영화 매트릭스 시놉시스를 요약해보면서 summarize 사용법을 익혀보자. "
   ]
  },
  {
   "cell_type": "markdown",
   "id": "subsequent-rocket",
   "metadata": {},
   "source": [
    "### 패키지 설치\n",
    "---\n",
    "먼저 필요한 패키지를 아래와 같이 설치하자.\n",
    "\n",
    "```bash\n",
    "$ pip install summa\n",
    "```"
   ]
  },
  {
   "cell_type": "markdown",
   "id": "familiar-representation",
   "metadata": {},
   "source": [
    "### 데이터 다운로드하기\n",
    "---"
   ]
  },
  {
   "cell_type": "code",
   "execution_count": 53,
   "id": "magnetic-gallery",
   "metadata": {
    "ExecuteTime": {
     "end_time": "2021-02-18T09:52:07.396391Z",
     "start_time": "2021-02-18T09:52:07.388709Z"
    }
   },
   "outputs": [],
   "source": [
    "import requests\n",
    "from summa.summarizer import summarize"
   ]
  },
  {
   "cell_type": "markdown",
   "id": "periodic-inclusion",
   "metadata": {},
   "source": [
    "매트릭스 시놉시스를 다운로드한다."
   ]
  },
  {
   "cell_type": "code",
   "execution_count": 54,
   "id": "lonely-perry",
   "metadata": {
    "ExecuteTime": {
     "end_time": "2021-02-18T09:52:29.460995Z",
     "start_time": "2021-02-18T09:52:28.650448Z"
    }
   },
   "outputs": [],
   "source": [
    "text = requests.get('http://rare-technologies.com/the_matrix_synopsis.txt').text"
   ]
  },
  {
   "cell_type": "markdown",
   "id": "saved-logic",
   "metadata": {},
   "source": [
    "text에는 매트릭스 시놉시스가 문자열로 저장되어져 있다. 출력 결과가 아주 길기 때문에 일부만 출력해보고, 잘 저장이 되었는지 확인해보자."
   ]
  },
  {
   "cell_type": "code",
   "execution_count": 55,
   "id": "strange-reference",
   "metadata": {
    "ExecuteTime": {
     "end_time": "2021-02-18T09:53:00.429910Z",
     "start_time": "2021-02-18T09:53:00.426826Z"
    }
   },
   "outputs": [
    {
     "name": "stdout",
     "output_type": "stream",
     "text": [
      "The screen is filled with green, cascading code which gives way to the title, The Matrix.\r\n",
      "\r\n",
      "A phone rings and text appears on the screen: \"Call trans opt: received. 2-19-98 13:24:18 REC: Log>\" As a conversation takes place between Trinity (Carrie-Anne Moss) and Cypher (Joe Pantoliano), two free humans, a table of random green numbers are being scanned and individual numbers selected, creating a series of digits not unlike an ordinary phone number, as if a code is being deciphered or a call is being traced.\r\n",
      "\r\n",
      "Trinity discusses some unknown person. Cypher taunts Trinity, suggesting she enjoys watching him. Trinity counters that \"Morpheus (Laurence Fishburne) says he may be 'the One',\" just as the sound of a number being selected alerts Trinity that someone may be tracing their call. She ends the call.\r\n",
      "\r\n",
      "Armed policemen move down a darkened, decrepit hallway in the Heart O' the City Hotel, their flashlight beam bouncing just ahead of them. They come to room 303, kick down the door and find a woman dressed in black, facing away from them. It's Trinity. She brings her hands up from the laptop she's working on at their command.\r\n",
      "\r\n",
      "Outside the hotel a car drives up and three agents appear in neatly pressed black suits. They are Agent Smith (Hugo Weaving), Agent Brown (Paul Goddard), and Agent Jones (Robert Taylor). Agent Smith and the presiding police lieutenant argue. Agent Smith admonishes the policeman that they were given specific orders to contact the agents first, for their\n"
     ]
    }
   ],
   "source": [
    "print(text[:1500])"
   ]
  },
  {
   "cell_type": "markdown",
   "id": "advisory-blues",
   "metadata": {},
   "source": [
    "### summarize 사용하기\n",
    "---\n",
    "Summa의 `summarize()`의 인자로 사용되는 값들에 대해서 알아보자.\n",
    "\n",
    "* __text (str)__ : 요약할 테스트.\n",
    "* __ratio (float, optional)__ – 요약문에서 원본에서 선택되는 문장 비율. 0~1 사이값\n",
    "* __words (int or None, optional)__ – 출력에 포함할 단어 수.\n",
    "* 만약, ratio와 함께 두 파라미터가 모두 제공되는 경우 ratio는 무시한다.\n",
    "* __split (bool, optional)__ – True면 문장 list / False는 조인(join)된 문자열을 반환\n",
    "\n",
    "Summa의 summarize는 문장 토큰화를 별도로 하지 않더라도 내부적으로 문장 토큰화를 수행한다. 그렇기 때문에 문장 구분이 되어있지 않은 원문을 바로 입력으로 넣을 수 있다. 비율을 적게 주어서 요약문으로 선택되는 문장의 개수를 줄여보자. 원문의 0.005%만을 출력해도록 설정했다."
   ]
  },
  {
   "cell_type": "code",
   "execution_count": 56,
   "id": "educated-stage",
   "metadata": {
    "ExecuteTime": {
     "end_time": "2021-02-18T09:54:36.912473Z",
     "start_time": "2021-02-18T09:54:35.935271Z"
    }
   },
   "outputs": [
    {
     "name": "stdout",
     "output_type": "stream",
     "text": [
      "Summary:\n",
      "Morpheus, Trinity, Neo, Apoc, Switch, Mouse and Cypher are jacked into the Matrix.\n",
      "Trinity brings the helicopter down to the floor that Morpheus is on and Neo opens fire on the three Agents.\n"
     ]
    }
   ],
   "source": [
    "print('Summary:')\n",
    "print(summarize(text, ratio=0.005))"
   ]
  },
  {
   "cell_type": "markdown",
   "id": "diverse-routine",
   "metadata": {},
   "source": [
    "만약 리스트로 출력 결과를 받고 싶다면 split 인자의 값을 True로 하면 된다."
   ]
  },
  {
   "cell_type": "code",
   "execution_count": 57,
   "id": "powered-prison",
   "metadata": {
    "ExecuteTime": {
     "end_time": "2021-02-18T09:54:56.867382Z",
     "start_time": "2021-02-18T09:54:55.852139Z"
    }
   },
   "outputs": [
    {
     "name": "stdout",
     "output_type": "stream",
     "text": [
      "Summary:\n",
      "['Morpheus, Trinity, Neo, Apoc, Switch, Mouse and Cypher are jacked into the Matrix.', 'Trinity brings the helicopter down to the floor that Morpheus is on and Neo opens fire on the three Agents.']\n"
     ]
    }
   ],
   "source": [
    "print('Summary:')\n",
    "print(summarize(text, ratio=0.005, split=True))"
   ]
  },
  {
   "cell_type": "markdown",
   "id": "soviet-stable",
   "metadata": {},
   "source": [
    "단어의 수로 요약문의 크기를 조절할 수도 있다. 단어를 50개만 선택하도록 하자."
   ]
  },
  {
   "cell_type": "code",
   "execution_count": 58,
   "id": "ancient-meeting",
   "metadata": {
    "ExecuteTime": {
     "end_time": "2021-02-18T09:55:13.566456Z",
     "start_time": "2021-02-18T09:55:12.570530Z"
    }
   },
   "outputs": [
    {
     "name": "stdout",
     "output_type": "stream",
     "text": [
      "Summary:\n",
      "Trinity takes Neo to Morpheus.\n",
      "Morpheus, Trinity, Neo, Apoc, Switch, Mouse and Cypher are jacked into the Matrix.\n",
      "Trinity brings the helicopter down to the floor that Morpheus is on and Neo opens fire on the three Agents.\n"
     ]
    }
   ],
   "source": [
    "print('Summary:')\n",
    "print(summarize(text, words=50))"
   ]
  }
 ],
 "metadata": {
  "kernelspec": {
   "display_name": "aiffel",
   "language": "python",
   "name": "aiffel"
  },
  "language_info": {
   "codemirror_mode": {
    "name": "ipython",
    "version": 3
   },
   "file_extension": ".py",
   "mimetype": "text/x-python",
   "name": "python",
   "nbconvert_exporter": "python",
   "pygments_lexer": "ipython3",
   "version": "3.7.9"
  },
  "toc": {
   "base_numbering": 1,
   "nav_menu": {},
   "number_sections": true,
   "sideBar": true,
   "skip_h1_title": false,
   "title_cell": "Table of Contents",
   "title_sidebar": "Contents",
   "toc_cell": false,
   "toc_position": {},
   "toc_section_display": true,
   "toc_window_display": false
  },
  "varInspector": {
   "cols": {
    "lenName": 16,
    "lenType": 16,
    "lenVar": 40
   },
   "kernels_config": {
    "python": {
     "delete_cmd_postfix": "",
     "delete_cmd_prefix": "del ",
     "library": "var_list.py",
     "varRefreshCmd": "print(var_dic_list())"
    },
    "r": {
     "delete_cmd_postfix": ") ",
     "delete_cmd_prefix": "rm(",
     "library": "var_list.r",
     "varRefreshCmd": "cat(var_dic_list()) "
    }
   },
   "types_to_exclude": [
    "module",
    "function",
    "builtin_function_or_method",
    "instance",
    "_Feature"
   ],
   "window_display": false
  }
 },
 "nbformat": 4,
 "nbformat_minor": 5
}
