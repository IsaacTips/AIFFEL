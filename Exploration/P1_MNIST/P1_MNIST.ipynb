{
 "cells": [
  {
   "cell_type": "markdown",
   "id": "supreme-blair",
   "metadata": {},
   "source": [
    "# 1. 인공지능과 가위바위보 하기"
   ]
  },
  {
   "cell_type": "markdown",
   "id": "apparent-arrangement",
   "metadata": {},
   "source": [
    "## 1. 인공지능과 가위바위보 하기"
   ]
  },
  {
   "cell_type": "markdown",
   "id": "exact-hybrid",
   "metadata": {},
   "source": [
    "### 간단한 이미지 분류기\n",
    "---\n",
    "이번 시간에는 이미지를 분류하는 간단한 인공지능을 만들어 볼 것이다. 숫자 손글씨를 인식하는 인공지능을 만들 것인데, 숫자는 0~9까지 총 10개의 클래스(class)만 인식을 하면 된다. 이렇게 클래스가 몇 개 안되는 경우, 인공지능은 간단하게 이미지를 분류해 낼 수 있다.\n",
    "\n",
    "<img src=\"./images/MNIST.png\" alt=\"MNIST\" width=\"50%\"/>"
   ]
  },
  {
   "cell_type": "markdown",
   "id": "unlike-canal",
   "metadata": {},
   "source": [
    "### 숫자 손글씨 인식기 만들기 (Sequential Model을 이용하는 방법)\n",
    "---\n",
    "<img src=\"Exploration/P1_MNIST/image/Sequential_Model.jpg\" alt=\"Sequential Model\" width=\"50%\">\n",
    "\n",
    "숫자 손글씨 분류기는 손으로 쓴 숫자 이미지를 입력으로 받으면, 그 이미지가 어떤 숫자를 나타내는지 출력해 낼 수 있다. 위 그림에서 보면, 숫자 0에 해당하는 이미지가 입력으로 들어오면 숫자 0을 출력으로, 숫자 5에 해당하는 이미지가 입력으로 들어오면 숫자 5를 출력으로 내보내고 있다. 딥러닝 기술을 이용해서 이런 숫자 손글씨 분류기를 만드려고 한다."
   ]
  },
  {
   "cell_type": "markdown",
   "id": "uniform-apache",
   "metadata": {},
   "source": [
    "### 어떻게 만들지?\n",
    "---\n",
    "일반적으로 딥러닝 기술은 __\"데이터 준비 → 딥러닝 네트워크 설계 → 학습 → 테스트(평가)\"__의 순서대로 만든다. 지금도 이 과정을 따를 것이다."
   ]
  },
  {
   "cell_type": "markdown",
   "id": "atlantic-aquarium",
   "metadata": {},
   "source": [
    "## 2. 데이터를 준비하자!"
   ]
  },
  {
   "cell_type": "markdown",
   "id": "religious-academy",
   "metadata": {},
   "source": [
    "### MNIST 숫자 손글씨 Dataset 불러들이기\n",
    "---\n",
    "오늘은 텐서플로우(TensorFlow)의 표준 API인 tf.keras의 Sequential API를 이용하여 숫자 손글씨 인식기를 만들 것이다. 구글(Google)에서 오픈소스로 제공하는 텐서플로우는 가장 널리 사용되고 있는 머신러닝 라이브러리 중 하나이다.<br>\n",
    "자, 그럼 TF 2.0이 설치된 환경에서 먼저 다음의 코드를 실행해보자.\n",
    "\n"
   ]
  },
  {
   "cell_type": "code",
   "execution_count": 1,
   "id": "least-parcel",
   "metadata": {},
   "outputs": [
    {
     "name": "stdout",
     "output_type": "stream",
     "text": [
      "2.2.0\n",
      "60000\n"
     ]
    }
   ],
   "source": [
    "import tensorflow as tf\n",
    "from tensorflow import keras\n",
    "\n",
    "import numpy as np\n",
    "import matplotlib.pyplot as plt\n",
    "\n",
    "print(tf.__version__)   # Tensorflow의 버전을 출력\n",
    "\n",
    "mnist = keras.datasets.mnist\n",
    "\n",
    "# MNIST 데이터를 로드. 다운로드하지 않았다면 다운로드까지 자동으로 진행됩니다. \n",
    "(x_train, y_train), (x_test, y_test) = mnist.load_data()   \n",
    "\n",
    "print(len(x_train))  # x_train 배열의 크기를 출력"
   ]
  },
  {
   "cell_type": "markdown",
   "id": "exempt-family",
   "metadata": {},
   "source": [
    "위 코드를 실행하면 숫자 손글씨 데이터베이스인 MNIST 데이터셋을 읽을 수 있습니다. MNIST 데이터셋은 Yann Lecun 교수님이 공개한 데이터로써, 아래 페이지에 방문하면 자세한 내용을 확인할 수 있습니다.\n",
    "\n",
    "__참고문헌 : MNIST Dataset__ [http://yann.lecun.com/exdb/mnist/](http://yann.lecun.com/exdb/mnist/)"
   ]
  },
  {
   "cell_type": "markdown",
   "id": "juvenile-hudson",
   "metadata": {},
   "source": [
    "불러들인 숫자 손글씨 이미지 하나를 출력해보자.<br>\n",
    "MNIST 데이터셋의 X항목(위 코드에서는 x_train, x_test)은 이미지 데이터를 담은 행렬(matrix)이다."
   ]
  },
  {
   "cell_type": "code",
   "execution_count": 2,
   "id": "played-government",
   "metadata": {},
   "outputs": [
    {
     "data": {
      "image/png": "[encoded data removed]",
      "text/plain": [
       "<Figure size 432x288 with 1 Axes>"
      ]
     },
     "metadata": {
      "needs_background": "light"
     },
     "output_type": "display_data"
    }
   ],
   "source": [
    "plt.imshow(x_train[1],cmap=plt.cm.binary)\n",
    "plt.show()"
   ]
  },
  {
   "cell_type": "markdown",
   "id": "analyzed-briefing",
   "metadata": {},
   "source": [
    "숫자 0 이미지가 나왔을 것이다. 주의할 것은, x_train[1]에 담긴 이미지는 x_train 행렬의 1번째가 아니라 2번째 이미지라는 점이다.\n",
    "1번째 이미지는 x_train[0]에 담겨 있다.\n",
    "\n",
    "그렇다면 Y항목에는 어떤 값이 들어 있을까? y_train 행렬의 2번째 값을 확인해보자."
   ]
  },
  {
   "cell_type": "code",
   "execution_count": 3,
   "id": "blank-silver",
   "metadata": {},
   "outputs": [
    {
     "name": "stdout",
     "output_type": "stream",
     "text": [
      "0\n"
     ]
    }
   ],
   "source": [
    "print(y_train[1])"
   ]
  },
  {
   "cell_type": "markdown",
   "id": "robust-artist",
   "metadata": {},
   "source": [
    "그렇다, Y항목(위 코드의 y_train, y_test)에는 X항목에 들어있는 이미지에 대응하는 실제 숫자 값이 담겨 있는 것을 확인할 수 있다.\n",
    "\n",
    "이번에는 또 다른 이미지를 출력해보도록 하자."
   ]
  },
  {
   "cell_type": "code",
   "execution_count": 4,
   "id": "professional-blogger",
   "metadata": {},
   "outputs": [
    {
     "data": {
      "image/png": "[encoded data removed]",
      "text/plain": [
       "<Figure size 432x288 with 1 Axes>"
      ]
     },
     "metadata": {
      "needs_background": "light"
     },
     "output_type": "display_data"
    },
    {
     "name": "stdout",
     "output_type": "stream",
     "text": [
      "10001 번째 이미지의 숫자는 바로  3 입니다.\n"
     ]
    }
   ],
   "source": [
    "# index에 0에서 59999 사이 숫자를 지정해 보세요.\n",
    "index=10000     \n",
    "plt.imshow(x_train[index],cmap=plt.cm.binary)\n",
    "plt.show()\n",
    "print( (index+1), '번째 이미지의 숫자는 바로 ',  y_train[index], '입니다.')"
   ]
  },
  {
   "cell_type": "markdown",
   "id": "absent-flavor",
   "metadata": {},
   "source": [
    "__참고: Matplotlib 이란?__\n",
    "\n",
    "파이썬에서 제공하는 시각화(Visualization) 패키지인 Matplotlib은 차트(chart), 플롯(plot) 등 다양한 형태로 데이터를 시각화할 수 있는 강력한 기능을 제공한다.<br>\n",
    "어떤 유용한 기능이 제공되는지 Matplotlib 공식홈페이지에서 제공하는 다양한 활용 예제들을 통해 확인해보자.\n",
    "\n",
    "[Matplotlib활용사례 보기](https://matplotlib.org/gallery.html)"
   ]
  },
  {
   "cell_type": "markdown",
   "id": "serial-thing",
   "metadata": {},
   "source": [
    "### 학습용 데이터와 시험용 데이터\n",
    "---\n",
    "위 코드를 다시 살펴보자.\n",
    "\n",
    "```\n",
    "(x_train, y_train), (x_test, y_test) = mnist.load_data()\n",
    "```\n",
    "\n",
    "`mnist.load( )` 함수를 통해 학습용 데이터 `(x_train, y_train)`와 시험용 데이터 `(x_test, y_test)`를 나누어서 받아들이는 것을 볼 수 있다.\n",
    "\n",
    "만든 숫자 손글씨 분류기는 학습용 데이터 `(x_train, y_train)`만을 가지고 학습시킨다. 학습이 끝난 후에는 이 손글씨 분류기가 얼마나 좋은 성능을 보이는지 확인해보고 싶을 것이다. 이 때, 시험용 데이터`(x_test,y_test)`로 테스트를 할 수 있다.\n",
    "\n",
    "MNIST 데이터셋은 약 500명 사용자가 작성한 숫자 이미지를 가지고 있다. 그 중 250여명의 데이터가 학습용 데이터로, 다른 250여명의 데이터가 시험용 데이터로 이용된다.\n",
    "\n",
    "<img src=\"./images/train_test_data.jpg\" alt=\"학습용 데이터, 시험용 데이터\" width=\"50%\">\n",
    "\n",
    "자 그러면 불러들인 학습용 데이터는 과연 몇 장일까? 확인해보자."
   ]
  },
  {
   "cell_type": "code",
   "execution_count": 5,
   "id": "educational-duration",
   "metadata": {},
   "outputs": [
    {
     "name": "stdout",
     "output_type": "stream",
     "text": [
      "(60000, 28, 28)\n"
     ]
    }
   ],
   "source": [
    "print(x_train.shape)"
   ]
  },
  {
   "cell_type": "markdown",
   "id": "interpreted-helping",
   "metadata": {},
   "source": [
    "(60000,28,28) 이라는 값을 볼 수 있다. 이것은 28x28 크기의 숫자 이미지가 60,000장이 있다는 뜻이다. 마찬가지로 시험용 데이터의 개수를 확인하고 싶다면 아래 코드를 실행하면 된다."
   ]
  },
  {
   "cell_type": "code",
   "execution_count": 6,
   "id": "least-chest",
   "metadata": {},
   "outputs": [
    {
     "name": "stdout",
     "output_type": "stream",
     "text": [
      "(10000, 28, 28)\n"
     ]
    }
   ],
   "source": [
    "print(x_test.shape)"
   ]
  },
  {
   "cell_type": "markdown",
   "id": "whole-capability",
   "metadata": {},
   "source": [
    "10,000장의 시험용 데이터가 저장되어 있음을 알 수 있다. 아래 참고문헌을 읽어보시면 학습용 데이터, 검증용 데이터, 그리고 시험용 데이터의 의미와 그 차이점을 보다 자세히 파악할 수 있다.\n",
    "\n",
    "참고문헌 : 데이터셋 이야기 [https://tykimos.github.io/2017/03/25/Dataset_and_Fit_Talk/](https://tykimos.github.io/2017/03/25/Dataset_and_Fit_Talk/)"
   ]
  },
  {
   "cell_type": "markdown",
   "id": "emerging-carpet",
   "metadata": {},
   "source": [
    "### 데이터 전처리 하기\n",
    "---\n",
    "숫자 손글씨 이미지의 실제 픽셀 값은 0~255 사이의 값을 가진다. 한번 확인해 보자."
   ]
  },
  {
   "cell_type": "code",
   "execution_count": 7,
   "id": "boxed-support",
   "metadata": {},
   "outputs": [
    {
     "name": "stdout",
     "output_type": "stream",
     "text": [
      "최소값: 0  최대값: 255\n"
     ]
    }
   ],
   "source": [
    "print('최소값:',np.min(x_train), ' 최대값:',np.max(x_train))"
   ]
  },
  {
   "cell_type": "markdown",
   "id": "tender-digest",
   "metadata": {},
   "source": [
    "인공지능 모델을 훈련시키고 사용할 때, 일반적으로 입력은 0~1 사이의 값으로 정규화 시켜주는 것이 좋다. MNIST 데이터는 각 픽셀의 값이 0~255 사이 범위에 있으므로 데이터들을 255.0 으로 나누어주면 된다.<br>\n",
    "최소값이 0, 최대값이 1에 근접하도록 나오는지 확인해보자."
   ]
  },
  {
   "cell_type": "code",
   "execution_count": 8,
   "id": "worthy-following",
   "metadata": {},
   "outputs": [
    {
     "name": "stdout",
     "output_type": "stream",
     "text": [
      "최소값: 0.0  최대값: 1.0\n"
     ]
    }
   ],
   "source": [
    "x_train_norm, x_test_norm = x_train / 255.0, x_test / 255.0\n",
    "print('최소값:',np.min(x_train_norm), ' 최대값:',np.max(x_train_norm))"
   ]
  },
  {
   "cell_type": "markdown",
   "id": "aging-doctor",
   "metadata": {},
   "source": [
    "## 3. 딥러닝 네트워크 설계하기"
   ]
  },
  {
   "cell_type": "markdown",
   "id": "completed-federation",
   "metadata": {},
   "source": [
    "### Sequenential Model을 사용해 보자\n",
    "---\n",
    "데이터가 모두 준비가 되었다면 이제는 딥러닝 네트워크를 만들어야 한다. 이번에는 텐서플로우 케라스(tf.keras)에서 Sequential API라는 방법을 사용할 것이다. Sequential API는 개발의 자유도는 많이 떨어지지만, 매우 간단하게 딥러닝 모델을 만들어낼 수 있는 방법이다. 이 방법을 통해 미리 정의된 딥러닝 레이어(layer)를 손쉽게 추가할 수 있다.<br>\n",
    "케라스에서 모델을 만드는 방법은 Sequential API 외에도 Functional API를 이용하는 방법, 밑바닥부터 직접 코딩하는 방법 등 여러 방법이 있다.\n",
    "\n",
    "다음의 코드는 tf.keras의 Sequential API를 이용하여 LeNet이라는 딥러닝 네트워크를 설계한 예이다. 8줄밖에 안되는 간단한 코드이지만, 손글씨 숫자 분류기를 구현하는 데는 충분하다."
   ]
  },
  {
   "cell_type": "code",
   "execution_count": 9,
   "id": "boolean-cycle",
   "metadata": {},
   "outputs": [
    {
     "name": "stdout",
     "output_type": "stream",
     "text": [
      "Model에 추가된 Layer 개수:  7\n"
     ]
    }
   ],
   "source": [
    "model=keras.models.Sequential()\n",
    "model.add(keras.layers.Conv2D(16, (3,3), activation='relu', input_shape=(28,28,1)))\n",
    "model.add(keras.layers.MaxPool2D(2,2))\n",
    "model.add(keras.layers.Conv2D(32, (3,3), activation='relu'))\n",
    "model.add(keras.layers.MaxPooling2D((2,2)))\n",
    "model.add(keras.layers.Flatten())\n",
    "model.add(keras.layers.Dense(32, activation='relu'))\n",
    "model.add(keras.layers.Dense(10, activation='softmax'))\n",
    "\n",
    "print('Model에 추가된 Layer 개수: ', len(model.layers))"
   ]
  },
  {
   "cell_type": "markdown",
   "id": "blessed-cooling",
   "metadata": {},
   "source": [
    "이런 간단한 코드만으로도 숫자 손글씨를 인식해 낼 수 있다면, IoT 농장에서 귤이 잘 익었는지 아닌지 판단한다거나, 사진 속 인물이 웃고 있는지 무표정인지 파악을 하는 것도 어렵지 않다. 코드의 간단한 의미는 다음과 같다.\n",
    "\n",
    "<img src=\"./images/model.png\" alt=\"Sequential Model 설명\" width=\"50%\">\n",
    "\n",
    "* Conv2D 레이어의 첫 번째 인자는 사용하는 이미지 특징의 수이다. 여기서는 16과 32를 사용했다. 가장 먼저 16개의 이미지 특징을, 그 뒤에 32개의 이미지 특징씩을 고려하겠다는 뜻이다. 숫자 이미지는 사실 매우 단순한 형태의 이미지이다. 만약 강아지 얼굴 사진이 입력 이미지라면 훨씬 디테일하고 복잡한 영상일 것이다. 그럴 경우에는 이 특징 숫자를 늘려주는 것을 고려해 볼 수 있다.\n",
    "* Dense 레이어의 첫 번째 인자는 분류기에 사용되는 뉴런의 숫자이다. 이 값이 클수록 보다 복잡한 분류기를 만들 수 있다. 10개의 숫자가 아닌 알파벳을 구분하고 싶다면, 대문자 26개, 소문자 26개로 총 52개의 클래스를 분류해 내야 한다. 그래서 32보다 큰 64, 128 등을 고려해 볼 수 있을 것이다.\n",
    "* 마지막 Dense 레이어의 뉴런 숫자는 결과적으로 분류해 내야 하는 클래스 수로 지정하면 된다. 숫자 인식기에서는 10, 알파벳 인식기에서는 52가 될 것이다.\n",
    "\n",
    "만든 딥러닝 네트워크 모델을 확인해 보려면, `model.summary()` 메소드를 이용하면 된다."
   ]
  },
  {
   "cell_type": "code",
   "execution_count": 10,
   "id": "tribal-stadium",
   "metadata": {},
   "outputs": [
    {
     "name": "stdout",
     "output_type": "stream",
     "text": [
      "Model: \"sequential\"\n",
      "_________________________________________________________________\n",
      "Layer (type)                 Output Shape              Param #   \n",
      "=================================================================\n",
      "conv2d (Conv2D)              (None, 26, 26, 16)        160       \n",
      "_________________________________________________________________\n",
      "max_pooling2d (MaxPooling2D) (None, 13, 13, 16)        0         \n",
      "_________________________________________________________________\n",
      "conv2d_1 (Conv2D)            (None, 11, 11, 32)        4640      \n",
      "_________________________________________________________________\n",
      "max_pooling2d_1 (MaxPooling2 (None, 5, 5, 32)          0         \n",
      "_________________________________________________________________\n",
      "flatten (Flatten)            (None, 800)               0         \n",
      "_________________________________________________________________\n",
      "dense (Dense)                (None, 32)                25632     \n",
      "_________________________________________________________________\n",
      "dense_1 (Dense)              (None, 10)                330       \n",
      "=================================================================\n",
      "Total params: 30,762\n",
      "Trainable params: 30,762\n",
      "Non-trainable params: 0\n",
      "_________________________________________________________________\n"
     ]
    }
   ],
   "source": [
    "model.summary()"
   ]
  },
  {
   "cell_type": "markdown",
   "id": "residential-rugby",
   "metadata": {},
   "source": [
    "## 딥러닝 네트워크 학습시키기\n",
    "방금 만든 네트워크의 입력은 `(데이터갯수, 이미지 크기 x, 이미지 크기 y, 채널수)` 와 같은 형태를 가진다. 이전 스텝에서 첫번째 레이어에 `input_shape=(28,28,1)`로 지정했던 것을 기억할 것이다.<br>\n",
    "그런데 `print(x_train.shape)` 을 해보면, `(60000, 28, 28)` 로 채널수에 대한 정보가 없다. 따라서 `(60000, 28, 28, 1)` 로 만들어 주어야 한다 (여기서 채널수 1은 흑백 이미지를 의미한다. 컬러 이미지라면 R, G, B 세 가지 값이 있기 때문에 3일 것이다.)."
   ]
  },
  {
   "cell_type": "code",
   "execution_count": 11,
   "id": "recent-antigua",
   "metadata": {},
   "outputs": [
    {
     "name": "stdout",
     "output_type": "stream",
     "text": [
      "Before Reshape - x_train_norm shape: (60000, 28, 28)\n",
      "Before Reshape - x_test_norm shape: (10000, 28, 28)\n",
      "After Reshape - x_train_reshaped shape: (60000, 28, 28, 1)\n",
      "After Reshape - x_test_reshaped shape: (10000, 28, 28, 1)\n"
     ]
    }
   ],
   "source": [
    "print(\"Before Reshape - x_train_norm shape: {}\".format(x_train_norm.shape))\n",
    "print(\"Before Reshape - x_test_norm shape: {}\".format(x_test_norm.shape))\n",
    "\n",
    "x_train_reshaped=x_train_norm.reshape( -1, 28, 28, 1)  # 데이터갯수에 -1을 쓰면 reshape시 자동계산됩니다.\n",
    "x_test_reshaped=x_test_norm.reshape( -1, 28, 28, 1)\n",
    "\n",
    "print(\"After Reshape - x_train_reshaped shape: {}\".format(x_train_reshaped.shape))\n",
    "print(\"After Reshape - x_test_reshaped shape: {}\".format(x_test_reshaped.shape))"
   ]
  },
  {
   "cell_type": "markdown",
   "id": "opening-politics",
   "metadata": {},
   "source": [
    "그러면 이제 `x_train` 학습 데이터로 딥러닝 네트워크를 학습시켜보자. 여기서 epochs=10 은 전체 60,000개의 데이터를 10번 반복 사용해서 학습을 시키라는 뜻이다. 물론 model의 입력 정의에 형태를 맞춘 `x_train_reshaped`가 사용되어야 한다. 자 그러면 코드를 실행해보자."
   ]
  },
  {
   "cell_type": "code",
   "execution_count": 12,
   "id": "bridal-japanese",
   "metadata": {},
   "outputs": [
    {
     "name": "stdout",
     "output_type": "stream",
     "text": [
      "Epoch 1/10\n",
      "1875/1875 [==============================] - 7s 4ms/step - loss: 0.1955 - accuracy: 0.9407\n",
      "Epoch 2/10\n",
      "1875/1875 [==============================] - 7s 4ms/step - loss: 0.0698 - accuracy: 0.9790\n",
      "Epoch 3/10\n",
      "1875/1875 [==============================] - 7s 4ms/step - loss: 0.0505 - accuracy: 0.9836\n",
      "Epoch 4/10\n",
      "1875/1875 [==============================] - 7s 4ms/step - loss: 0.0392 - accuracy: 0.9876\n",
      "Epoch 5/10\n",
      "1875/1875 [==============================] - 7s 4ms/step - loss: 0.0313 - accuracy: 0.9900\n",
      "Epoch 6/10\n",
      "1875/1875 [==============================] - 7s 4ms/step - loss: 0.0273 - accuracy: 0.9913\n",
      "Epoch 7/10\n",
      "1875/1875 [==============================] - 7s 4ms/step - loss: 0.0215 - accuracy: 0.9926\n",
      "Epoch 8/10\n",
      "1875/1875 [==============================] - 7s 4ms/step - loss: 0.0181 - accuracy: 0.9940\n",
      "Epoch 9/10\n",
      "1875/1875 [==============================] - 7s 4ms/step - loss: 0.0149 - accuracy: 0.9950\n",
      "Epoch 10/10\n",
      "1875/1875 [==============================] - 7s 4ms/step - loss: 0.0131 - accuracy: 0.9956\n"
     ]
    },
    {
     "data": {
      "text/plain": [
       "<tensorflow.python.keras.callbacks.History at 0x7f9b58319b50>"
      ]
     },
     "execution_count": 12,
     "metadata": {},
     "output_type": "execute_result"
    }
   ],
   "source": [
    "model.compile(optimizer='adam',\n",
    "             loss='sparse_categorical_crossentropy',\n",
    "             metrics=['accuracy'])\n",
    "\n",
    "model.fit(x_train_reshaped, y_train, epochs=10)"
   ]
  },
  {
   "cell_type": "markdown",
   "id": "relevant-patrick",
   "metadata": {},
   "source": [
    "각 학습이 진행됨에 따라 epoch 별로 어느 정도 인식 정확도(`accuracy`)가 올라가는지 확인할 수 있다. 인식 정확도가 0.9407에서 0.9956까지 매우 높게 올라가는 모습이다. 9 epoch정도부터는 인식률의 상승이 미미하다. 10 epoch정도 학습을 시키면 충분할 것 같다."
   ]
  },
  {
   "cell_type": "markdown",
   "id": "dependent-presence",
   "metadata": {},
   "source": [
    "## 5. 얼마나 잘 만들었는지 확인하기"
   ]
  },
  {
   "cell_type": "markdown",
   "id": "meaningful-backing",
   "metadata": {},
   "source": [
    "### 테스트 데이터로 성능을 확인해 보자\n",
    "---\n",
    "사실 위의 인식 정확도는 학습용 데이터(x_train)을 가지고 구한 것이다. 즉, 연습문제를 잘푸는 인공지능을 만든 샘이다. 만든 딥러닝 네트워크는 실제 시험도 잘 볼 수 있을까?<br>\n",
    "자 그러면 시험용 데이터(x_test)를 가지고 확인해보자."
   ]
  },
  {
   "cell_type": "code",
   "execution_count": 13,
   "id": "bacterial-reserve",
   "metadata": {},
   "outputs": [
    {
     "name": "stdout",
     "output_type": "stream",
     "text": [
      "313/313 - 0s - loss: 0.0386 - accuracy: 0.9895\n",
      "test_loss: 0.038598500192165375 \n",
      "test_accuracy: 0.9894999861717224\n"
     ]
    }
   ],
   "source": [
    "test_loss, test_accuracy = model.evaluate(x_test_reshaped,y_test, verbose=2)\n",
    "print(\"test_loss: {} \".format(test_loss))\n",
    "print(\"test_accuracy: {}\".format(test_accuracy))"
   ]
  },
  {
   "cell_type": "markdown",
   "id": "structural-victim",
   "metadata": {},
   "source": [
    "결과가 어떻게 나오는가? 99.56점을 받을 줄 알았는데, 98.94로 시험점수가 소폭 하락한 모습이다. 역시 연습문제보다 실제 시험문제가 더 어려운가 보다. 위 MNIST 데이터셋 참고문헌을 보시면 학습용 데이터와 시험용 데이터의 손글씨 주인이 다른 것을 알 수 있다. 즉, 한 번도 본적이 없는 필체의 손글씨가 섞여 있을 가능성이 높다. 어찌보면 인식률이 떨어지는 것은 어느 정도 예상 가능한 일이었다."
   ]
  },
  {
   "cell_type": "markdown",
   "id": "sticky-austria",
   "metadata": {},
   "source": [
    "### 어떤 데이터를 잘못 추론했을까? 눈으로 확인해 보자\n",
    "---\n",
    "`model.evaluate()` 대신 `model.predict()`를 사용하면 model이 입력값을 보고 실제로 추론한 확률분포를 출력할 수 있다. 만든 model이란 사실 10개의 숫자 중 어느 것일지에 대한 확률값을 출력하는 함수이다.<br>\n",
    "이 함수의 출력값 즉 확률값이 가장 높은 숫자가 바로 model이 추론한 숫자가 되는 것이다."
   ]
  },
  {
   "cell_type": "code",
   "execution_count": 15,
   "id": "corrected-newfoundland",
   "metadata": {},
   "outputs": [
    {
     "name": "stdout",
     "output_type": "stream",
     "text": [
      "model.predict() 결과 :  [1.02912836e-13 9.32095859e-11 1.07083023e-10 2.58290598e-08\n",
      " 4.64959671e-09 7.35231374e-13 8.20007147e-19 9.99999881e-01\n",
      " 8.44606340e-09 8.96119090e-08]\n",
      "model이 추론한 가장 가능성이 높은 결과 :  7\n",
      "실제 데이터의 라벨 :  7\n"
     ]
    }
   ],
   "source": [
    "predicted_result = model.predict(x_test_reshaped)  # model이 추론한 확률값. \n",
    "predicted_labels = np.argmax(predicted_result, axis=1)\n",
    "\n",
    "idx=0  #1번째 x_test를 살펴보자. \n",
    "print('model.predict() 결과 : ', predicted_result[idx])\n",
    "print('model이 추론한 가장 가능성이 높은 결과 : ', predicted_labels[idx])\n",
    "print('실제 데이터의 라벨 : ', y_test[idx])"
   ]
  },
  {
   "cell_type": "markdown",
   "id": "upset-forth",
   "metadata": {},
   "source": [
    "`model.predict()` 결과가 `[1.02912836e-13 9.32095859e-11 1.07083023e-10 2.58290598e-08\n",
    " 4.64959671e-09 7.35231374e-13 8.20007147e-19 9.99999881e-01\n",
    " 8.44606340e-09 8.96119090e-08]` 의 벡터 형태로 나온다.<br>\n",
    "이 벡터는 model이 추론한 결과가 각각 0, 1, 2, …, 7, 8, 9일 확률을 의미한다.<br>\n",
    "이 경우라면 model이 추론한 결과가 7일 확률이 1.00에 근접하고 있다, 즉 이 model은 입력한 이미지가 숫자 7이라는 걸 아주 확신하고 있다는 뜻이 된다.\n",
    "\n",
    "정말 숫자 7인지 확인해보자."
   ]
  },
  {
   "cell_type": "code",
   "execution_count": 16,
   "id": "breeding-router",
   "metadata": {},
   "outputs": [
    {
     "data": {
      "image/png": "[encoded data removed]",
      "text/plain": [
       "<Figure size 432x288 with 1 Axes>"
      ]
     },
     "metadata": {
      "needs_background": "light"
     },
     "output_type": "display_data"
    }
   ],
   "source": [
    "plt.imshow(x_test[idx],cmap=plt.cm.binary)\n",
    "plt.show()"
   ]
  },
  {
   "cell_type": "markdown",
   "id": "agreed-laugh",
   "metadata": {},
   "source": [
    "그렇다면 model이 추론해 낸 숫자와 실제 라벨의 값이 다른 경우는 어떤 경우인지 직접 확인해 볼 수도 있다."
   ]
  },
  {
   "cell_type": "code",
   "execution_count": 17,
   "id": "spoken-restaurant",
   "metadata": {},
   "outputs": [
    {
     "name": "stdout",
     "output_type": "stream",
     "text": [
      "예측확률분포: [2.3294069e-07 4.0890902e-07 6.4931013e-02 3.4522936e-01 7.9029041e-09\n",
      " 5.8543850e-09 1.2329973e-09 2.9435897e-01 2.9435420e-01 1.1257833e-03]\n",
      "라벨: 2, 예측결과: 3\n"
     ]
    },
    {
     "data": {
      "image/png": "[encoded data removed]",
      "text/plain": [
       "<Figure size 432x288 with 1 Axes>"
      ]
     },
     "metadata": {
      "needs_background": "light"
     },
     "output_type": "display_data"
    },
    {
     "name": "stdout",
     "output_type": "stream",
     "text": [
      "예측확률분포: [7.1106669e-11 1.2651397e-07 9.7049269e-10 9.9759054e-01 3.0584174e-11\n",
      " 2.4089990e-03 2.8606678e-10 3.1300746e-07 7.3333239e-10 4.3539720e-12]\n",
      "라벨: 5, 예측결과: 3\n"
     ]
    },
    {
     "data": {
      "image/png": "[encoded data removed]",
      "text/plain": [
       "<Figure size 432x288 with 1 Axes>"
      ]
     },
     "metadata": {
      "needs_background": "light"
     },
     "output_type": "display_data"
    },
    {
     "name": "stdout",
     "output_type": "stream",
     "text": [
      "예측확률분포: [9.7552955e-10 6.1731913e-07 4.7875086e-11 7.9896631e-07 4.2483041e-01\n",
      " 2.4131110e-08 2.3007474e-10 5.7514971e-01 2.4069138e-07 1.8207156e-05]\n",
      "라벨: 4, 예측결과: 7\n"
     ]
    },
    {
     "data": {
      "image/png": "[encoded data removed]",
      "text/plain": [
       "<Figure size 432x288 with 1 Axes>"
      ]
     },
     "metadata": {
      "needs_background": "light"
     },
     "output_type": "display_data"
    },
    {
     "name": "stdout",
     "output_type": "stream",
     "text": [
      "예측확률분포: [1.4832185e-08 1.4464146e-14 2.0644666e-09 2.2302363e-10 9.9633324e-01\n",
      " 6.1016945e-05 2.7983984e-07 8.2565123e-07 3.8318066e-07 3.6042561e-03]\n",
      "라벨: 6, 예측결과: 4\n"
     ]
    },
    {
     "data": {
      "image/png": "[encoded data removed]",
      "text/plain": [
       "<Figure size 432x288 with 1 Axes>"
      ]
     },
     "metadata": {
      "needs_background": "light"
     },
     "output_type": "display_data"
    },
    {
     "name": "stdout",
     "output_type": "stream",
     "text": [
      "예측확률분포: [4.7163756e-04 9.6297598e-01 5.3504371e-04 8.8240633e-09 9.9171648e-06\n",
      " 2.1492399e-04 3.4779370e-02 1.6003951e-06 1.0113217e-03 2.4955821e-07]\n",
      "라벨: 6, 예측결과: 1\n"
     ]
    },
    {
     "data": {
      "image/png": "[encoded data removed]",
      "text/plain": [
       "<Figure size 432x288 with 1 Axes>"
      ]
     },
     "metadata": {
      "needs_background": "light"
     },
     "output_type": "display_data"
    }
   ],
   "source": [
    "import random\n",
    "wrong_predict_list=[]\n",
    "for i, _ in enumerate(predicted_labels):\n",
    "    # i번째 test_labels과 y_test이 다른 경우만 모아 봅시다. \n",
    "    if predicted_labels[i] != y_test[i]:\n",
    "        wrong_predict_list.append(i)\n",
    "\n",
    "# wrong_predict_list 에서 랜덤하게 5개만 뽑아봅시다.\n",
    "samples = random.choices(population=wrong_predict_list, k=5)\n",
    "\n",
    "for n in samples:\n",
    "    print(\"예측확률분포: \" + str(predicted_result[n]))\n",
    "    print(\"라벨: \" + str(y_test[n]) + \", 예측결과: \" + str(predicted_labels[n]))\n",
    "    plt.imshow(x_test[n], cmap=plt.cm.binary)\n",
    "    plt.show()"
   ]
  },
  {
   "cell_type": "markdown",
   "id": "preliminary-house",
   "metadata": {},
   "source": [
    "틀린 경우를 살펴보면 model도 추론 결과에 대한 확신도가 낮고 매우 혼란스러워 한다는 것을 알 수 있다. model의 추론 결과를 시각화하여 살펴보는 것은 향후 model성능 개선에 도움이 되는 아이디어를 얻을 수 있는 좋은 방법 중 하나이다."
   ]
  },
  {
   "cell_type": "markdown",
   "id": "proof-complex",
   "metadata": {},
   "source": [
    "## 6. 더 좋은 네트워크 만들어 보기\n",
    "그러면 인식률을 다시 99점대로 만들수 없을까? 딥러닝 네트워크의 구조 자체는 바꾸지 않으면서도 해볼 수 있는 것들이 있다. Step 3에서 살펴본 하이퍼파라미터들을 바꾸어 보는 것이다. `Conv2D` 레이어에서 입력 이미지의 특징 수를 늘리거나 줄여 보거나, `Dense` 레이어에서 뉴런수를 바꾸어 보거나, 학습 반복 횟수인 `epoch` 값을 변경해 볼 수 있다."
   ]
  },
  {
   "cell_type": "code",
   "execution_count": 18,
   "id": "dynamic-independence",
   "metadata": {},
   "outputs": [
    {
     "name": "stdout",
     "output_type": "stream",
     "text": [
      "Model: \"sequential_1\"\n",
      "_________________________________________________________________\n",
      "Layer (type)                 Output Shape              Param #   \n",
      "=================================================================\n",
      "conv2d_2 (Conv2D)            (None, 26, 26, 16)        160       \n",
      "_________________________________________________________________\n",
      "max_pooling2d_2 (MaxPooling2 (None, 13, 13, 16)        0         \n",
      "_________________________________________________________________\n",
      "conv2d_3 (Conv2D)            (None, 11, 11, 32)        4640      \n",
      "_________________________________________________________________\n",
      "max_pooling2d_3 (MaxPooling2 (None, 5, 5, 32)          0         \n",
      "_________________________________________________________________\n",
      "flatten_1 (Flatten)          (None, 800)               0         \n",
      "_________________________________________________________________\n",
      "dense_2 (Dense)              (None, 32)                25632     \n",
      "_________________________________________________________________\n",
      "dense_3 (Dense)              (None, 10)                330       \n",
      "=================================================================\n",
      "Total params: 30,762\n",
      "Trainable params: 30,762\n",
      "Non-trainable params: 0\n",
      "_________________________________________________________________\n",
      "Epoch 1/10\n",
      "1875/1875 [==============================] - 7s 4ms/step - loss: 0.2012 - accuracy: 0.9386\n",
      "Epoch 2/10\n",
      "1875/1875 [==============================] - 7s 4ms/step - loss: 0.0682 - accuracy: 0.9793\n",
      "Epoch 3/10\n",
      "1875/1875 [==============================] - 7s 4ms/step - loss: 0.0508 - accuracy: 0.9847\n",
      "Epoch 4/10\n",
      "1875/1875 [==============================] - 7s 4ms/step - loss: 0.0402 - accuracy: 0.9876\n",
      "Epoch 5/10\n",
      "1875/1875 [==============================] - 7s 4ms/step - loss: 0.0332 - accuracy: 0.9896\n",
      "Epoch 6/10\n",
      "1875/1875 [==============================] - 7s 4ms/step - loss: 0.0279 - accuracy: 0.9909\n",
      "Epoch 7/10\n",
      "1875/1875 [==============================] - 8s 4ms/step - loss: 0.0230 - accuracy: 0.9927\n",
      "Epoch 8/10\n",
      "1875/1875 [==============================] - 8s 4ms/step - loss: 0.0192 - accuracy: 0.9936\n",
      "Epoch 9/10\n",
      "1875/1875 [==============================] - 8s 5ms/step - loss: 0.0160 - accuracy: 0.9948\n",
      "Epoch 10/10\n",
      "1875/1875 [==============================] - 8s 4ms/step - loss: 0.0142 - accuracy: 0.9957\n",
      "313/313 - 0s - loss: 0.0396 - accuracy: 0.9876\n",
      "test_loss: 0.039576251059770584 \n",
      "test_accuracy: 0.9876000285148621\n"
     ]
    }
   ],
   "source": [
    "#바꿔 볼 수 있는 하이퍼파라미터들\n",
    "n_channel_1=16\n",
    "n_channel_2=32\n",
    "n_dense=32\n",
    "n_train_epoch=10\n",
    "\n",
    "model=keras.models.Sequential()\n",
    "model.add(keras.layers.Conv2D(n_channel_1, (3,3), activation='relu', input_shape=(28,28,1)))\n",
    "model.add(keras.layers.MaxPool2D(2,2))\n",
    "model.add(keras.layers.Conv2D(n_channel_2, (3,3), activation='relu'))\n",
    "model.add(keras.layers.MaxPooling2D((2,2)))\n",
    "model.add(keras.layers.Flatten())\n",
    "model.add(keras.layers.Dense(n_dense, activation='relu'))\n",
    "model.add(keras.layers.Dense(10, activation='softmax'))\n",
    "\n",
    "model.summary()\n",
    "model.compile(optimizer='adam',\n",
    "             loss='sparse_categorical_crossentropy',\n",
    "             metrics=['accuracy'])\n",
    "\n",
    "# 모델 훈련\n",
    "model.fit(x_train_reshaped, y_train, epochs=n_train_epoch)\n",
    "\n",
    "# 모델 시험\n",
    "test_loss, test_accuracy = model.evaluate(x_test_reshaped, y_test, verbose=2)\n",
    "print(\"test_loss: {} \".format(test_loss))\n",
    "print(\"test_accuracy: {}\".format(test_accuracy))"
   ]
  }
 ],
 "metadata": {
  "kernelspec": {
   "display_name": "aiffel",
   "language": "python",
   "name": "aiffel"
  },
  "language_info": {
   "codemirror_mode": {
    "name": "ipython",
    "version": 3
   },
   "file_extension": ".py",
   "mimetype": "text/x-python",
   "name": "python",
   "nbconvert_exporter": "python",
   "pygments_lexer": "ipython3",
   "version": "3.7.9"
  }
 },
 "nbformat": 4,
 "nbformat_minor": 5
}
