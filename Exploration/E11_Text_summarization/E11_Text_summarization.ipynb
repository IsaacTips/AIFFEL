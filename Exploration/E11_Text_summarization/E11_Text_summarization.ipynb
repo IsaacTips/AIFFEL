{
 "cells": [
  {
   "cell_type": "markdown",
   "id": "detailed-healing",
   "metadata": {},
   "source": [
    "# 11.뉴스 요약봇 만들기"
   ]
  },
  {
   "cell_type": "markdown",
   "id": "portable-minister",
   "metadata": {},
   "source": [
    "## 13. 프로젝트: 뉴스기사 요약해보기\n",
    "새로운 데이터셋에 대해서 추상적 요약과 추출적 요약을 모두 해보자."
   ]
  },
  {
   "cell_type": "markdown",
   "id": "fossil-concord",
   "metadata": {},
   "source": [
    "### Step 1. 데이터 수집하기\n",
    "---\n",
    "데이터는 아래 링크에 있는 뉴스 기사 데이터(newssummarymore.csv)를 사용한다.<br>\n",
    "[sunnysai12345/News_Summary](https://github.com/sunnysai12345/News_Summary)\n",
    "\n",
    "아래의 코드로 데이터를 다운로드 할 수 있다.\n"
   ]
  },
  {
   "cell_type": "code",
   "execution_count": 1,
   "id": "dynamic-programming",
   "metadata": {
    "ExecuteTime": {
     "end_time": "2021-02-24T18:39:06.633841Z",
     "start_time": "2021-02-24T18:39:04.269737Z"
    }
   },
   "outputs": [
    {
     "name": "stderr",
     "output_type": "stream",
     "text": [
      "[nltk_data] Downloading package stopwords to /home/aiffel-\n",
      "[nltk_data]     dj10/nltk_data...\n",
      "[nltk_data]   Package stopwords is already up-to-date!\n"
     ]
    }
   ],
   "source": [
    "import nltk\n",
    "nltk.download('stopwords')\n",
    "\n",
    "import numpy as np\n",
    "import pandas as pd\n",
    "import os\n",
    "import re\n",
    "import matplotlib.pyplot as plt\n",
    "from nltk.corpus import stopwords\n",
    "from bs4 import BeautifulSoup \n",
    "from tensorflow.keras.preprocessing.text import Tokenizer \n",
    "from tensorflow.keras.preprocessing.sequence import pad_sequences\n",
    "import urllib.request"
   ]
  },
  {
   "cell_type": "code",
   "execution_count": 2,
   "id": "above-psychology",
   "metadata": {
    "ExecuteTime": {
     "end_time": "2021-02-24T18:39:11.298650Z",
     "start_time": "2021-02-24T18:39:06.635289Z"
    }
   },
   "outputs": [],
   "source": [
    "import urllib.request\n",
    "urllib.request.urlretrieve(\"https://raw.githubusercontent.com/sunnysai12345/News_Summary/master/news_summary_more.csv\", filename=\"news_summary_more.csv\")\n",
    "data = pd.read_csv('news_summary_more.csv', encoding='iso-8859-1')"
   ]
  },
  {
   "cell_type": "code",
   "execution_count": 3,
   "id": "catholic-victorian",
   "metadata": {
    "ExecuteTime": {
     "end_time": "2021-02-24T18:39:11.316666Z",
     "start_time": "2021-02-24T18:39:11.300149Z"
    }
   },
   "outputs": [
    {
     "data": {
      "text/html": [
       "<div>\n",
       "<style scoped>\n",
       "    .dataframe tbody tr th:only-of-type {\n",
       "        vertical-align: middle;\n",
       "    }\n",
       "\n",
       "    .dataframe tbody tr th {\n",
       "        vertical-align: top;\n",
       "    }\n",
       "\n",
       "    .dataframe thead th {\n",
       "        text-align: right;\n",
       "    }\n",
       "</style>\n",
       "<table border=\"1\" class=\"dataframe\">\n",
       "  <thead>\n",
       "    <tr style=\"text-align: right;\">\n",
       "      <th></th>\n",
       "      <th>headlines</th>\n",
       "      <th>text</th>\n",
       "    </tr>\n",
       "  </thead>\n",
       "  <tbody>\n",
       "    <tr>\n",
       "      <th>67023</th>\n",
       "      <td>BHU tried suppressing incident of male student...</td>\n",
       "      <td>Police records have revealed that a male stude...</td>\n",
       "    </tr>\n",
       "    <tr>\n",
       "      <th>59786</th>\n",
       "      <td>Commercial cinema actresses taken for granted:...</td>\n",
       "      <td>Actress Jacqueline Fernandez has said that she...</td>\n",
       "    </tr>\n",
       "    <tr>\n",
       "      <th>14027</th>\n",
       "      <td>WhatsApp bug allowed account hacking with vide...</td>\n",
       "      <td>A bug in WhatsApp messaging service reportedly...</td>\n",
       "    </tr>\n",
       "    <tr>\n",
       "      <th>46811</th>\n",
       "      <td>'Housefull 4' is going to be like a 3-month va...</td>\n",
       "      <td>Akshay Kumar has said shooting for his film 'H...</td>\n",
       "    </tr>\n",
       "    <tr>\n",
       "      <th>72744</th>\n",
       "      <td>IIM-A develops matrimonial website for people ...</td>\n",
       "      <td>A team of researchers at the Indian Institute ...</td>\n",
       "    </tr>\n",
       "    <tr>\n",
       "      <th>87706</th>\n",
       "      <td>Samsung Galaxy S8 'airtight' iris scanner fool...</td>\n",
       "      <td>A hacking group has demonstrated how Samsung G...</td>\n",
       "    </tr>\n",
       "    <tr>\n",
       "      <th>44650</th>\n",
       "      <td>Karnataka government unveils official state flag</td>\n",
       "      <td>Karnataka CM Siddaramaiah on Thursday accepted...</td>\n",
       "    </tr>\n",
       "    <tr>\n",
       "      <th>25960</th>\n",
       "      <td>US cops use coin flip to decide woman's arrest</td>\n",
       "      <td>Two US police officers have been suspended aft...</td>\n",
       "    </tr>\n",
       "    <tr>\n",
       "      <th>22949</th>\n",
       "      <td>ICC trolls Kohli with a mic drop tweet after I...</td>\n",
       "      <td>The ICC trolled Indian captain Virat Kohli ove...</td>\n",
       "    </tr>\n",
       "    <tr>\n",
       "      <th>5833</th>\n",
       "      <td>Tej Pratap announces 'return' to politics, ref...</td>\n",
       "      <td>RJD Chief Lalu Prasad Yadav's son Tej Pratap Y...</td>\n",
       "    </tr>\n",
       "  </tbody>\n",
       "</table>\n",
       "</div>"
      ],
      "text/plain": [
       "                                               headlines  \\\n",
       "67023  BHU tried suppressing incident of male student...   \n",
       "59786  Commercial cinema actresses taken for granted:...   \n",
       "14027  WhatsApp bug allowed account hacking with vide...   \n",
       "46811  'Housefull 4' is going to be like a 3-month va...   \n",
       "72744  IIM-A develops matrimonial website for people ...   \n",
       "87706  Samsung Galaxy S8 'airtight' iris scanner fool...   \n",
       "44650   Karnataka government unveils official state flag   \n",
       "25960     US cops use coin flip to decide woman's arrest   \n",
       "22949  ICC trolls Kohli with a mic drop tweet after I...   \n",
       "5833   Tej Pratap announces 'return' to politics, ref...   \n",
       "\n",
       "                                                    text  \n",
       "67023  Police records have revealed that a male stude...  \n",
       "59786  Actress Jacqueline Fernandez has said that she...  \n",
       "14027  A bug in WhatsApp messaging service reportedly...  \n",
       "46811  Akshay Kumar has said shooting for his film 'H...  \n",
       "72744  A team of researchers at the Indian Institute ...  \n",
       "87706  A hacking group has demonstrated how Samsung G...  \n",
       "44650  Karnataka CM Siddaramaiah on Thursday accepted...  \n",
       "25960  Two US police officers have been suspended aft...  \n",
       "22949  The ICC trolled Indian captain Virat Kohli ove...  \n",
       "5833   RJD Chief Lalu Prasad Yadav's son Tej Pratap Y...  "
      ]
     },
     "execution_count": 3,
     "metadata": {},
     "output_type": "execute_result"
    }
   ],
   "source": [
    "data.sample(10)"
   ]
  },
  {
   "cell_type": "markdown",
   "id": "reasonable-peninsula",
   "metadata": {},
   "source": [
    "이 데이터는 기사의 본문에 해당되는 text와 headlines 두 가지 열로 구성되어져 있다.Text 열의 내용을 요약한 것이 Summary 열이다. 여기서는 인공 신경망을 통해 Text 시퀀스를 입력받으면, Summary 시퀀스를 예측하도록 인공 신경망을 훈련시킬 것이다.\n",
    "\n",
    "추상적 요약을 하는 경우에는 text를 본문, headlines를 이미 요약된 데이터로 삼아서 모델을 학습할 수 있다. 추출적 요약을 하는 경우에는 오직 text열만을 사용하자."
   ]
  },
  {
   "cell_type": "markdown",
   "id": "colored-canberra",
   "metadata": {},
   "source": [
    "### Step 2. 데이터 전처리하기 (추상적 요약)\n",
    "---\n",
    "실습에서 사용된 전처리를 참고하여 각자 필요하다고 생각하는 전처리를 추가 사용하여 텍스트를 정규화 또는 정제해보자. 만약, 불용어 제거를 선택한다면 상대적으로 길이가 짧은 요약 데이터에 대해서도 불용어를 제거하는 것이 좋을지 고민해보자."
   ]
  },
  {
   "cell_type": "markdown",
   "id": "entitled-parliament",
   "metadata": {},
   "source": [
    "#### 칼럼명 변경\n",
    "---\n",
    "참조: [rename()](https://pandas.pydata.org/pandas-docs/stable/reference/api/pandas.DataFrame.rename.html)"
   ]
  },
  {
   "cell_type": "code",
   "execution_count": 4,
   "id": "handmade-drinking",
   "metadata": {
    "ExecuteTime": {
     "end_time": "2021-02-24T18:39:11.333396Z",
     "start_time": "2021-02-24T18:39:11.318126Z"
    }
   },
   "outputs": [
    {
     "data": {
      "text/html": [
       "<div>\n",
       "<style scoped>\n",
       "    .dataframe tbody tr th:only-of-type {\n",
       "        vertical-align: middle;\n",
       "    }\n",
       "\n",
       "    .dataframe tbody tr th {\n",
       "        vertical-align: top;\n",
       "    }\n",
       "\n",
       "    .dataframe thead th {\n",
       "        text-align: right;\n",
       "    }\n",
       "</style>\n",
       "<table border=\"1\" class=\"dataframe\">\n",
       "  <thead>\n",
       "    <tr style=\"text-align: right;\">\n",
       "      <th></th>\n",
       "      <th>Summary</th>\n",
       "      <th>Text</th>\n",
       "    </tr>\n",
       "  </thead>\n",
       "  <tbody>\n",
       "    <tr>\n",
       "      <th>0</th>\n",
       "      <td>upGrad learner switches to career in ML &amp; Al w...</td>\n",
       "      <td>Saurav Kant, an alumnus of upGrad and IIIT-B's...</td>\n",
       "    </tr>\n",
       "    <tr>\n",
       "      <th>1</th>\n",
       "      <td>Delhi techie wins free food from Swiggy for on...</td>\n",
       "      <td>Kunal Shah's credit card bill payment platform...</td>\n",
       "    </tr>\n",
       "    <tr>\n",
       "      <th>2</th>\n",
       "      <td>New Zealand end Rohit Sharma-led India's 12-ma...</td>\n",
       "      <td>New Zealand defeated India by 8 wickets in the...</td>\n",
       "    </tr>\n",
       "    <tr>\n",
       "      <th>3</th>\n",
       "      <td>Aegon life iTerm insurance plan helps customer...</td>\n",
       "      <td>With Aegon Life iTerm Insurance plan, customer...</td>\n",
       "    </tr>\n",
       "    <tr>\n",
       "      <th>4</th>\n",
       "      <td>Have known Hirani for yrs, what if MeToo claim...</td>\n",
       "      <td>Speaking about the sexual harassment allegatio...</td>\n",
       "    </tr>\n",
       "  </tbody>\n",
       "</table>\n",
       "</div>"
      ],
      "text/plain": [
       "                                             Summary  \\\n",
       "0  upGrad learner switches to career in ML & Al w...   \n",
       "1  Delhi techie wins free food from Swiggy for on...   \n",
       "2  New Zealand end Rohit Sharma-led India's 12-ma...   \n",
       "3  Aegon life iTerm insurance plan helps customer...   \n",
       "4  Have known Hirani for yrs, what if MeToo claim...   \n",
       "\n",
       "                                                Text  \n",
       "0  Saurav Kant, an alumnus of upGrad and IIIT-B's...  \n",
       "1  Kunal Shah's credit card bill payment platform...  \n",
       "2  New Zealand defeated India by 8 wickets in the...  \n",
       "3  With Aegon Life iTerm Insurance plan, customer...  \n",
       "4  Speaking about the sexual harassment allegatio...  "
      ]
     },
     "execution_count": 4,
     "metadata": {},
     "output_type": "execute_result"
    }
   ],
   "source": [
    "#pandas DataFrame의 칼럼 이름 바꾸기\n",
    "\n",
    "data=data.rename(columns={'headlines':'Summary','text':'Text'})\n",
    "data2 = data['Text']\n",
    "data.head()"
   ]
  },
  {
   "cell_type": "markdown",
   "id": "junior-advantage",
   "metadata": {},
   "source": [
    "#### 중복 샘플과 NULL 값이 존재하는 샘플 제거\n",
    "---\n",
    "우선 데이터의 중복 샘플 유무를 확인해보자."
   ]
  },
  {
   "cell_type": "code",
   "execution_count": 5,
   "id": "compressed-meditation",
   "metadata": {
    "ExecuteTime": {
     "end_time": "2021-02-24T18:39:11.484580Z",
     "start_time": "2021-02-24T18:39:11.334814Z"
    }
   },
   "outputs": [
    {
     "name": "stdout",
     "output_type": "stream",
     "text": [
      "유니크한 Summary 수 : 98280\n",
      "유니크한 Text 수 : 98360\n"
     ]
    }
   ],
   "source": [
    "print('유니크한 Summary 수 :', data.Summary.nunique())\n",
    "print('유니크한 Text 수 :', data.Text.nunique())"
   ]
  },
  {
   "cell_type": "markdown",
   "id": "artistic-group",
   "metadata": {},
   "source": [
    "중복을 제외한다면 headlines에는 98280개, text에는 98360개의 의 유니크한 데이터가 존재한다.\n",
    "\n",
    "데이터프레임의 `drop_duplicates()`를 사용하면, 손쉽게 중복 샘플을 제거할 수 있다."
   ]
  },
  {
   "cell_type": "code",
   "execution_count": 6,
   "id": "about-catholic",
   "metadata": {
    "ExecuteTime": {
     "end_time": "2021-02-24T18:39:11.585905Z",
     "start_time": "2021-02-24T18:39:11.485783Z"
    }
   },
   "outputs": [
    {
     "name": "stdout",
     "output_type": "stream",
     "text": [
      "Text전체 샘플수 : 98360\n"
     ]
    }
   ],
   "source": [
    "data.drop_duplicates(subset = ['Text'], inplace = True)\n",
    "print('Text전체 샘플수 :',(len(data)))"
   ]
  },
  {
   "cell_type": "code",
   "execution_count": 7,
   "id": "final-contemporary",
   "metadata": {
    "ExecuteTime": {
     "end_time": "2021-02-24T18:39:11.590624Z",
     "start_time": "2021-02-24T18:39:11.588589Z"
    }
   },
   "outputs": [],
   "source": [
    "# data.drop_duplicates(subset = ['Summary'], inplace = True)\n",
    "# print('headlines(Summary)전체 샘플수 :',(len(data)))"
   ]
  },
  {
   "cell_type": "markdown",
   "id": "oriental-mills",
   "metadata": {},
   "source": [
    "데이터프레임에 Null 값이 있는지 확인하는 방법은 `.isnull().sum()`을 사용하면 알아볼 수 있다."
   ]
  },
  {
   "cell_type": "code",
   "execution_count": 8,
   "id": "received-installation",
   "metadata": {
    "ExecuteTime": {
     "end_time": "2021-02-24T18:39:11.608231Z",
     "start_time": "2021-02-24T18:39:11.592415Z"
    }
   },
   "outputs": [
    {
     "name": "stdout",
     "output_type": "stream",
     "text": [
      "Summary    0\n",
      "Text       0\n",
      "dtype: int64\n"
     ]
    }
   ],
   "source": [
    "print(data.isnull().sum())"
   ]
  },
  {
   "cell_type": "markdown",
   "id": "common-coffee",
   "metadata": {},
   "source": [
    "#### 텍스트 정규화와 불용어 제거\n",
    "---\n",
    "이 사전은 아래의 링크에서 참고하여 만들었다. 정규화 사전 출처 : [ https://stackoverflow.com/questions/19790188/expanding-english-language-contractions-in-python](https://stackoverflow.com/questions/19790188/expanding-english-language-contractions-in-python)"
   ]
  },
  {
   "cell_type": "code",
   "execution_count": 9,
   "id": "periodic-colombia",
   "metadata": {
    "ExecuteTime": {
     "end_time": "2021-02-24T18:39:11.618025Z",
     "start_time": "2021-02-24T18:39:11.609624Z"
    }
   },
   "outputs": [
    {
     "name": "stdout",
     "output_type": "stream",
     "text": [
      "정규화 사전의 수:  120\n"
     ]
    }
   ],
   "source": [
    "contractions = {\"ain't\": \"is not\", \"aren't\": \"are not\",\"can't\": \"cannot\", \"'cause\": \"because\", \"could've\": \"could have\", \"couldn't\": \"could not\",\n",
    "                           \"didn't\": \"did not\",  \"doesn't\": \"does not\", \"don't\": \"do not\", \"hadn't\": \"had not\", \"hasn't\": \"has not\", \"haven't\": \"have not\",\n",
    "                           \"he'd\": \"he would\",\"he'll\": \"he will\", \"he's\": \"he is\", \"how'd\": \"how did\", \"how'd'y\": \"how do you\", \"how'll\": \"how will\", \"how's\": \"how is\",\n",
    "                           \"I'd\": \"I would\", \"I'd've\": \"I would have\", \"I'll\": \"I will\", \"I'll've\": \"I will have\",\"I'm\": \"I am\", \"I've\": \"I have\", \"i'd\": \"i would\",\n",
    "                           \"i'd've\": \"i would have\", \"i'll\": \"i will\",  \"i'll've\": \"i will have\",\"i'm\": \"i am\", \"i've\": \"i have\", \"isn't\": \"is not\", \"it'd\": \"it would\",\n",
    "                           \"it'd've\": \"it would have\", \"it'll\": \"it will\", \"it'll've\": \"it will have\",\"it's\": \"it is\", \"let's\": \"let us\", \"ma'am\": \"madam\",\n",
    "                           \"mayn't\": \"may not\", \"might've\": \"might have\",\"mightn't\": \"might not\",\"mightn't've\": \"might not have\", \"must've\": \"must have\",\n",
    "                           \"mustn't\": \"must not\", \"mustn't've\": \"must not have\", \"needn't\": \"need not\", \"needn't've\": \"need not have\",\"o'clock\": \"of the clock\",\n",
    "                           \"oughtn't\": \"ought not\", \"oughtn't've\": \"ought not have\", \"shan't\": \"shall not\", \"sha'n't\": \"shall not\", \"shan't've\": \"shall not have\",\n",
    "                           \"she'd\": \"she would\", \"she'd've\": \"she would have\", \"she'll\": \"she will\", \"she'll've\": \"she will have\", \"she's\": \"she is\",\n",
    "                           \"should've\": \"should have\", \"shouldn't\": \"should not\", \"shouldn't've\": \"should not have\", \"so've\": \"so have\",\"so's\": \"so as\",\n",
    "                           \"this's\": \"this is\",\"that'd\": \"that would\", \"that'd've\": \"that would have\", \"that's\": \"that is\", \"there'd\": \"there would\",\n",
    "                           \"there'd've\": \"there would have\", \"there's\": \"there is\", \"here's\": \"here is\",\"they'd\": \"they would\", \"they'd've\": \"they would have\",\n",
    "                           \"they'll\": \"they will\", \"they'll've\": \"they will have\", \"they're\": \"they are\", \"they've\": \"they have\", \"to've\": \"to have\",\n",
    "                           \"wasn't\": \"was not\", \"we'd\": \"we would\", \"we'd've\": \"we would have\", \"we'll\": \"we will\", \"we'll've\": \"we will have\", \"we're\": \"we are\",\n",
    "                           \"we've\": \"we have\", \"weren't\": \"were not\", \"what'll\": \"what will\", \"what'll've\": \"what will have\", \"what're\": \"what are\",\n",
    "                           \"what's\": \"what is\", \"what've\": \"what have\", \"when's\": \"when is\", \"when've\": \"when have\", \"where'd\": \"where did\", \"where's\": \"where is\",\n",
    "                           \"where've\": \"where have\", \"who'll\": \"who will\", \"who'll've\": \"who will have\", \"who's\": \"who is\", \"who've\": \"who have\",\n",
    "                           \"why's\": \"why is\", \"why've\": \"why have\", \"will've\": \"will have\", \"won't\": \"will not\", \"won't've\": \"will not have\",\n",
    "                           \"would've\": \"would have\", \"wouldn't\": \"would not\", \"wouldn't've\": \"would not have\", \"y'all\": \"you all\",\n",
    "                           \"y'all'd\": \"you all would\",\"y'all'd've\": \"you all would have\",\"y'all're\": \"you all are\",\"y'all've\": \"you all have\",\n",
    "                           \"you'd\": \"you would\", \"you'd've\": \"you would have\", \"you'll\": \"you will\", \"you'll've\": \"you will have\",\n",
    "                           \"you're\": \"you are\", \"you've\": \"you have\"}\n",
    "\n",
    "print(\"정규화 사전의 수: \",len(contractions))"
   ]
  },
  {
   "cell_type": "markdown",
   "id": "velvet-attendance",
   "metadata": {},
   "source": [
    "이제 정규화 준비까지 마쳤다.\n",
    "\n",
    "하지만 아직 끝난게 아니다. 일반적으로 텍스트에는 자주 등장하지만 자연어 처리를 할 때 실질적으로 별 도움이 되지 않는 단어들이 존재한다. 이를 불용어(stopwords)라고 부른다. 때로는 불용어를 제거하는 것이 자연어 처리의 성능을 높이는 방법일 수 있다. 여기서는 NLTK에서 제공하는 불용어 리스트를 참조해, 샘플에서 불용어를 제거할 것이다."
   ]
  },
  {
   "cell_type": "code",
   "execution_count": 10,
   "id": "enhanced-enlargement",
   "metadata": {
    "ExecuteTime": {
     "end_time": "2021-02-24T18:39:11.623079Z",
     "start_time": "2021-02-24T18:39:11.619317Z"
    }
   },
   "outputs": [
    {
     "name": "stdout",
     "output_type": "stream",
     "text": [
      "불용어 개수 : 179\n",
      "['i', 'me', 'my', 'myself', 'we', 'our', 'ours', 'ourselves', 'you', \"you're\", \"you've\", \"you'll\", \"you'd\", 'your', 'yours', 'yourself', 'yourselves', 'he', 'him', 'his', 'himself', 'she', \"she's\", 'her', 'hers', 'herself', 'it', \"it's\", 'its', 'itself', 'they', 'them', 'their', 'theirs', 'themselves', 'what', 'which', 'who', 'whom', 'this', 'that', \"that'll\", 'these', 'those', 'am', 'is', 'are', 'was', 'were', 'be', 'been', 'being', 'have', 'has', 'had', 'having', 'do', 'does', 'did', 'doing', 'a', 'an', 'the', 'and', 'but', 'if', 'or', 'because', 'as', 'until', 'while', 'of', 'at', 'by', 'for', 'with', 'about', 'against', 'between', 'into', 'through', 'during', 'before', 'after', 'above', 'below', 'to', 'from', 'up', 'down', 'in', 'out', 'on', 'off', 'over', 'under', 'again', 'further', 'then', 'once', 'here', 'there', 'when', 'where', 'why', 'how', 'all', 'any', 'both', 'each', 'few', 'more', 'most', 'other', 'some', 'such', 'no', 'nor', 'not', 'only', 'own', 'same', 'so', 'than', 'too', 'very', 's', 't', 'can', 'will', 'just', 'don', \"don't\", 'should', \"should've\", 'now', 'd', 'll', 'm', 'o', 're', 've', 'y', 'ain', 'aren', \"aren't\", 'couldn', \"couldn't\", 'didn', \"didn't\", 'doesn', \"doesn't\", 'hadn', \"hadn't\", 'hasn', \"hasn't\", 'haven', \"haven't\", 'isn', \"isn't\", 'ma', 'mightn', \"mightn't\", 'mustn', \"mustn't\", 'needn', \"needn't\", 'shan', \"shan't\", 'shouldn', \"shouldn't\", 'wasn', \"wasn't\", 'weren', \"weren't\", 'won', \"won't\", 'wouldn', \"wouldn't\"]\n"
     ]
    }
   ],
   "source": [
    "print('불용어 개수 :', len(stopwords.words('english') ))\n",
    "print(stopwords.words('english'))"
   ]
  },
  {
   "cell_type": "markdown",
   "id": "representative-sector",
   "metadata": {},
   "source": [
    "불용어를 제거할것이다. 이 작업 외에도 모든 영어문자는 소문자로 만들고, 섞여있는 html 태그를 제거하고, 정규 표현식을 통해 각종 특수문자를 제거해서 정말 필요한 내용만 잘 학습할 수 있도록 처리할것이다.\n",
    "\n",
    "함수의 하단을 보면, NLTK를 이용해 불용어를 제거하는 파트가 있는데, 이는 Text 전처리 시에서만 호출하고 이미 상대적으로 문장 길이가 짧은 Summary 전처리할 때는 호출하지 않을 예정이다. Abstractive한 문장 요약 결과문이 자연스러운 문장이 되려면 이 불용어들이 Summary에는 남아 있는게 더 좋을 것 같다. 이 처리를 위해서 함수의 인자로 remove_stopwords를 추가하고, if문을 추가했다."
   ]
  },
  {
   "cell_type": "code",
   "execution_count": 11,
   "id": "external-charles",
   "metadata": {
    "ExecuteTime": {
     "end_time": "2021-02-24T18:39:11.630066Z",
     "start_time": "2021-02-24T18:39:11.624321Z"
    }
   },
   "outputs": [],
   "source": [
    "#데이터 전처리 함수\n",
    "def preprocess_sentence(sentence, remove_stopwords=True):\n",
    "    sentence = sentence.lower() # 텍스트 소문자화\n",
    "    sentence = BeautifulSoup(sentence, \"lxml\").text # <br />, <a href = ...> 등의 html 태그 제거\n",
    "    sentence = re.sub(r'\\([^)]*\\)', '', sentence) # 괄호로 닫힌 문자열 (...) 제거 Ex) my husband (and myself!) for => my husband for\n",
    "    sentence = re.sub('\"','', sentence) # 쌍따옴표 \" 제거\n",
    "    sentence = ' '.join([contractions[t] if t in contractions else t for t in sentence.split(\" \")]) # 약어 정규화\n",
    "    sentence = re.sub(r\"'s\\b\",\"\",sentence) # 소유격 제거. Ex) roland's -> roland\n",
    "    sentence = re.sub(\"[^a-zA-Z]\", \" \", sentence) # 영어 외 문자(숫자, 특수문자 등) 공백으로 변환\n",
    "    sentence = re.sub('[m]{2,}', 'mm', sentence) # m이 3개 이상이면 2개로 변경. Ex) ummmmmmm yeah -> umm yeah\n",
    "    \n",
    "    # 불용어 제거 (Text)\n",
    "    if remove_stopwords:\n",
    "        tokens = ' '.join(word for word in sentence.split() if not word in stopwords.words('english') if len(word) > 1)\n",
    "    # 불용어 미제거 (Summary)\n",
    "    else:\n",
    "        tokens = ' '.join(word for word in sentence.split() if len(word) > 1)\n",
    "    return tokens"
   ]
  },
  {
   "cell_type": "markdown",
   "id": "subtle-workstation",
   "metadata": {},
   "source": [
    "전처리 전, 후의 결과를 확인하기 위해서 임의의 text와 summary를 만들어 함수를 호출해보자.\n",
    "\n",
    "혹시 아래 코드가 오류가 난다면 parser가 설치되어있지 않은 것이니, lxml을 설치해야한다.\n",
    "\n",
    "```bash\n",
    "$ pip install lxml\n",
    "```"
   ]
  },
  {
   "cell_type": "code",
   "execution_count": 12,
   "id": "thousand-stability",
   "metadata": {
    "ExecuteTime": {
     "end_time": "2021-02-24T18:39:11.638536Z",
     "start_time": "2021-02-24T18:39:11.631907Z"
    }
   },
   "outputs": [
    {
     "name": "stdout",
     "output_type": "stream",
     "text": [
      "everything bought great infact ordered twice third ordered wasfor mother father\n",
      "great way to start the day\n"
     ]
    }
   ],
   "source": [
    "temp_text = 'Everything I bought was great, infact I ordered twice and the third ordered was<br />for my mother and father.'\n",
    "temp_summary = 'Great way to start (or finish) the day!!!'\n",
    "\n",
    "print(preprocess_sentence(temp_text))\n",
    "print(preprocess_sentence(temp_summary, False))  # 불용어를 제거하지 않습니다."
   ]
  },
  {
   "cell_type": "markdown",
   "id": "armed-gender",
   "metadata": {},
   "source": [
    "결과를 보면 기본적으로 모든 알파벳이 소문자로 변환되고, __`<br/>`__과 같은 html 태그가 제거되었다. 또한 (or finish)와 같은 괄호로 묶였던 단어 시퀀스가 제거된 것도 확인할 수 있다. 그리고 특수문자가 제거되면서 영어만 남았다."
   ]
  },
  {
   "cell_type": "markdown",
   "id": "fallen-kansas",
   "metadata": {},
   "source": [
    "#### 훈련 데이터 전체 전처리\n",
    "---\n",
    "Text의 경우에는 불용어를 제거하고, Summary의 경우에는 불용어를 제거하지 않을 것이므로 따로 호출해서 진행해야한다. 먼저 Text를 전처리하고, 결과를 확인하기 위해서 상위 5개의 줄을 출력해보자."
   ]
  },
  {
   "cell_type": "code",
   "execution_count": 13,
   "id": "occupied-volume",
   "metadata": {
    "ExecuteTime": {
     "end_time": "2021-02-24T18:46:55.377284Z",
     "start_time": "2021-02-24T18:39:11.639740Z"
    }
   },
   "outputs": [
    {
     "data": {
      "text/plain": [
       "['saurav kant alumnus upgrad iiit pg program machine learning artificial intelligence sr systems engineer infosys almost years work experience program upgrad degree career support helped transition data scientist tech mahindra salary hike upgrad online power learning powered lakh careers',\n",
       " 'kunal shah credit card bill payment platform cred gave users chance win free food swiggy one year pranav kaushik delhi techie bagged reward spending cred coins users get one cred coin per rupee bill paid used avail rewards brands like ixigo bookmyshow ubereats cult fit',\n",
       " 'new zealand defeated india wickets fourth odi hamilton thursday win first match five match odi series india lost international match rohit sharma captaincy consecutive victories dating back march match witnessed india getting seventh lowest total odi cricket history',\n",
       " 'aegon life iterm insurance plan customers enjoy tax benefits premiums paid save taxes plan provides life cover age years also customers options insure critical illnesses disability accidental death benefit rider life cover age years',\n",
       " 'speaking sexual harassment allegations rajkumar hirani sonam kapoor said known hirani many years true metoo movement get derailed metoo movement always believe woman case need reserve judgment added hirani accused assistant worked sanju']"
      ]
     },
     "execution_count": 13,
     "metadata": {},
     "output_type": "execute_result"
    }
   ],
   "source": [
    "clean_text = []\n",
    "\n",
    "# 전체 Text 데이터에 대한 전처리 : 10분 이상 시간이 걸릴 수 있습니다. \n",
    "for s in data['Text']:\n",
    "    clean_text.append(preprocess_sentence(s))\n",
    "\n",
    "# 전처리 후 출력\n",
    "clean_text[:5]"
   ]
  },
  {
   "cell_type": "markdown",
   "id": "modified-receptor",
   "metadata": {},
   "source": [
    "이제 Summary에 대해서 전처리 함수를 호출해줄 때는, 불용어 제거를 수행하지 않는다는 의미에서 두번째 인자로 False를 넣어준다."
   ]
  },
  {
   "cell_type": "code",
   "execution_count": 14,
   "id": "accompanied-festival",
   "metadata": {
    "ExecuteTime": {
     "end_time": "2021-02-24T18:47:11.397349Z",
     "start_time": "2021-02-24T18:46:55.378350Z"
    }
   },
   "outputs": [
    {
     "data": {
      "text/plain": [
       "['upgrad learner switches to career in ml al with salary hike',\n",
       " 'delhi techie wins free food from swiggy for one year on cred',\n",
       " 'new zealand end rohit sharma led india match winning streak',\n",
       " 'aegon life iterm insurance plan helps customers save tax',\n",
       " 'have known hirani for yrs what if metoo claims are not true sonam']"
      ]
     },
     "execution_count": 14,
     "metadata": {},
     "output_type": "execute_result"
    }
   ],
   "source": [
    "clean_summary = []\n",
    "\n",
    "# 전체 Summary 데이터에 대한 전처리 : 5분 이상 시간이 걸릴 수 있습니다. \n",
    "for s in data['Summary']:\n",
    "    clean_summary.append(preprocess_sentence(s, False))\n",
    "\n",
    "clean_summary[:5]"
   ]
  },
  {
   "cell_type": "markdown",
   "id": "surprising-writing",
   "metadata": {},
   "source": [
    "정제 전에는 데이터가 존재했지만, 정제 과정에서 문장의 모든 단어가 사라지는 경우가 있을 수 있다. 이렇게 되면 샘플 자체가 빈 값을 가지게 된다.\n",
    "\n",
    "보다 쉽게 확인하기 위해 데이터들을 데이터프레임에 재저장한다. 그리고 빈(empty) 값을 가진 샘플들이 있다면, 모두 Null 값을 가진 샘플로 대체한다."
   ]
  },
  {
   "cell_type": "code",
   "execution_count": 15,
   "id": "defensive-scheme",
   "metadata": {
    "ExecuteTime": {
     "end_time": "2021-02-24T18:47:11.422137Z",
     "start_time": "2021-02-24T18:47:11.398402Z"
    }
   },
   "outputs": [],
   "source": [
    "data['Text'] = clean_text\n",
    "data['Summary'] = clean_summary\n",
    "\n",
    "# 빈 값을 Null 값으로 변환\n",
    "data.replace('', np.nan, inplace=True)"
   ]
  },
  {
   "cell_type": "markdown",
   "id": "verified-luxury",
   "metadata": {},
   "source": [
    "이전과 같이 `.isnull().sum()`을 사용해서 Null 값이 생겼는지 확인하자."
   ]
  },
  {
   "cell_type": "code",
   "execution_count": 16,
   "id": "absolute-stomach",
   "metadata": {
    "ExecuteTime": {
     "end_time": "2021-02-24T18:47:11.439199Z",
     "start_time": "2021-02-24T18:47:11.423447Z"
    }
   },
   "outputs": [
    {
     "data": {
      "text/plain": [
       "Summary    0\n",
       "Text       0\n",
       "dtype: int64"
      ]
     },
     "execution_count": 16,
     "metadata": {},
     "output_type": "execute_result"
    }
   ],
   "source": [
    "data.isnull().sum()"
   ]
  },
  {
   "cell_type": "markdown",
   "id": "answering-training",
   "metadata": {},
   "source": [
    "###  데이터 전처리하기 (2) 훈련데이터와 테스트데이터 나누기\n",
    "---\n",
    "학습을 진행하기 위해서는 학습에 사용할 데이터의 크기를 결정하고, 문장의 시작과 끝을 표시 해줘야한다."
   ]
  },
  {
   "cell_type": "markdown",
   "id": "developed-syntax",
   "metadata": {},
   "source": [
    "#### 샘플의 최대 길이 정하기\n",
    "---\n",
    "필요없는 단어를 모두 솎아낸 데이터를 가지게 되었으니, 이제 훈련에 사용할 샘플의 최대 길이를 정해줄 차례이다.\n",
    "\n",
    "Text와 Summary의 최소, 최대, 평균 길이를 구하고 또한 길이 분포를 시각화해서 보자.\n"
   ]
  },
  {
   "cell_type": "code",
   "execution_count": 17,
   "id": "chubby-fraud",
   "metadata": {
    "ExecuteTime": {
     "end_time": "2021-02-24T18:47:13.275540Z",
     "start_time": "2021-02-24T18:47:11.441011Z"
    }
   },
   "outputs": [
    {
     "name": "stdout",
     "output_type": "stream",
     "text": [
      "텍스트의 최소 길이 : 1\n",
      "텍스트의 최대 길이 : 60\n",
      "텍스트의 평균 길이 : 35.09968483123221\n",
      "요약의 최소 길이 : 1\n",
      "요약의 최대 길이 : 16\n",
      "요약의 평균 길이 : 9.299532330215534\n"
     ]
    },
    {
     "data": {
      "image/png": "[encoded data removed]",
      "text/plain": [
       "<Figure size 432x288 with 2 Axes>"
      ]
     },
     "metadata": {
      "needs_background": "light"
     },
     "output_type": "display_data"
    },
    {
     "data": {
      "image/png": "[encoded data removed]",
      "text/plain": [
       "<Figure size 432x288 with 1 Axes>"
      ]
     },
     "metadata": {
      "needs_background": "light"
     },
     "output_type": "display_data"
    },
    {
     "data": {
      "image/png": "[encoded data removed]",
      "text/plain": [
       "<Figure size 432x288 with 1 Axes>"
      ]
     },
     "metadata": {
      "needs_background": "light"
     },
     "output_type": "display_data"
    }
   ],
   "source": [
    "# 길이 분포 출력\n",
    "import matplotlib.pyplot as plt\n",
    "\n",
    "text_len = [len(s.split()) for s in data['Text']]\n",
    "summary_len = [len(s.split()) for s in data['Summary']]\n",
    "\n",
    "print('텍스트의 최소 길이 : {}'.format(np.min(text_len)))\n",
    "print('텍스트의 최대 길이 : {}'.format(np.max(text_len)))\n",
    "print('텍스트의 평균 길이 : {}'.format(np.mean(text_len)))\n",
    "print('요약의 최소 길이 : {}'.format(np.min(summary_len)))\n",
    "print('요약의 최대 길이 : {}'.format(np.max(summary_len)))\n",
    "print('요약의 평균 길이 : {}'.format(np.mean(summary_len)))\n",
    "\n",
    "plt.subplot(1,2,1)\n",
    "plt.boxplot(summary_len)\n",
    "plt.title('Summary')\n",
    "plt.subplot(1,2,2)\n",
    "plt.boxplot(text_len)\n",
    "plt.title('Text')\n",
    "plt.tight_layout()\n",
    "plt.show()\n",
    "\n",
    "plt.title('Summary')\n",
    "plt.hist(summary_len, bins = 40)\n",
    "plt.xlabel('length of samples')\n",
    "plt.ylabel('number of samples')\n",
    "plt.show()\n",
    "\n",
    "plt.title('Text')\n",
    "plt.hist(text_len, bins = 40)\n",
    "plt.xlabel('length of samples')\n",
    "plt.ylabel('number of samples')\n",
    "plt.show()"
   ]
  },
  {
   "cell_type": "markdown",
   "id": "convertible-aspect",
   "metadata": {},
   "source": [
    "#### Text의 최대 길이와 Summary의 적절한 최대 길이 정하기\n",
    "---"
   ]
  },
  {
   "cell_type": "code",
   "execution_count": 18,
   "id": "sharing-drive",
   "metadata": {
    "ExecuteTime": {
     "end_time": "2021-02-24T18:47:13.278565Z",
     "start_time": "2021-02-24T18:47:13.276708Z"
    }
   },
   "outputs": [],
   "source": [
    "text_max_len = 43\n",
    "summary_max_len = 12"
   ]
  },
  {
   "cell_type": "markdown",
   "id": "wicked-bowling",
   "metadata": {},
   "source": [
    "훈련 데이터와 샘플의 길이를 입력하면, 데이터의 몇 %가 해당하는지 계산하는 함수를 만들어서 좀 더 정확하게 판단해보자."
   ]
  },
  {
   "cell_type": "code",
   "execution_count": 19,
   "id": "primary-cleveland",
   "metadata": {
    "ExecuteTime": {
     "end_time": "2021-02-24T18:47:13.290231Z",
     "start_time": "2021-02-24T18:47:13.279581Z"
    }
   },
   "outputs": [],
   "source": [
    "def below_threshold_len(max_len, nested_list):\n",
    "    cnt = 0\n",
    "    for s in nested_list:\n",
    "        if(len(s.split()) <= max_len):\n",
    "            cnt = cnt + 1\n",
    "    print('전체 샘플 중 길이가 %s 이하인 샘플의 비율: %s'%(max_len, (cnt / len(nested_list))))"
   ]
  },
  {
   "cell_type": "code",
   "execution_count": 20,
   "id": "joint-waters",
   "metadata": {
    "ExecuteTime": {
     "end_time": "2021-02-24T18:47:13.498208Z",
     "start_time": "2021-02-24T18:47:13.291281Z"
    }
   },
   "outputs": [
    {
     "name": "stdout",
     "output_type": "stream",
     "text": [
      "전체 샘플 중 길이가 43 이하인 샘플의 비율: 0.9871797478649857\n",
      "전체 샘플 중 길이가 12 이하인 샘플의 비율: 0.9880337535583571\n"
     ]
    }
   ],
   "source": [
    "below_threshold_len(text_max_len, data['Text'])\n",
    "below_threshold_len(summary_max_len,  data['Summary'])"
   ]
  },
  {
   "cell_type": "markdown",
   "id": "referenced-poker",
   "metadata": {},
   "source": [
    "#### 정해진 길이보다 길면 제외하는 방법으로 데이터를 정제해보자.\n",
    "---"
   ]
  },
  {
   "cell_type": "code",
   "execution_count": 21,
   "id": "attached-visiting",
   "metadata": {
    "ExecuteTime": {
     "end_time": "2021-02-24T18:47:13.742359Z",
     "start_time": "2021-02-24T18:47:13.499475Z"
    }
   },
   "outputs": [
    {
     "name": "stdout",
     "output_type": "stream",
     "text": [
      "전체 샘플수 : 95935\n"
     ]
    }
   ],
   "source": [
    "data = data[data['Text'].apply(lambda x: len(x.split()) <= text_max_len)]\n",
    "data = data[data['Summary'].apply(lambda x: len(x.split()) <= summary_max_len)]\n",
    "print('전체 샘플수 :',(len(data)))"
   ]
  },
  {
   "cell_type": "markdown",
   "id": "reported-provincial",
   "metadata": {},
   "source": [
    "#### 시작 토큰과 종료 토큰 추가하기\n",
    "---\n",
    "디코더는 시작 토큰을 입력받아 문장을 생성하기 시작하고, 종료 토큰을 예측한 순간에 문장 생성을 멈추는 것이다.\n",
    "\n",
    "<img src=\"./image/encoder_decoder.png\" alt=\"시작 토큰과 종료 토큰\" />\n",
    "\n",
    "seq2seq 훈련을 위해서는 디코더의 입력과 레이블에 시작 토큰과 종료 토큰을 추가할 필요가 있다. 이번 실습에서는 시작 토큰은 'sostoken', 종료 토큰은 'eostoken'이라 임의로 명명하고 앞, 뒤로 추가할 것이다. 디코더의 입력에 해당하면서 시작 토큰이 맨 앞에 있는 문장의 이름을 decoder_input, 디코더의 출력 또는 레이블에 해당되면서 종료 토큰이 맨 뒤에 붙는 문장의 이름을 decoder_target이라고 이름을 정했다. 두 개의 문장 모두 Summary 열로부터 만들것이다."
   ]
  },
  {
   "cell_type": "code",
   "execution_count": 22,
   "id": "every-colombia",
   "metadata": {
    "ExecuteTime": {
     "end_time": "2021-02-24T18:47:13.800730Z",
     "start_time": "2021-02-24T18:47:13.746874Z"
    }
   },
   "outputs": [
    {
     "data": {
      "text/html": [
       "<div>\n",
       "<style scoped>\n",
       "    .dataframe tbody tr th:only-of-type {\n",
       "        vertical-align: middle;\n",
       "    }\n",
       "\n",
       "    .dataframe tbody tr th {\n",
       "        vertical-align: top;\n",
       "    }\n",
       "\n",
       "    .dataframe thead th {\n",
       "        text-align: right;\n",
       "    }\n",
       "</style>\n",
       "<table border=\"1\" class=\"dataframe\">\n",
       "  <thead>\n",
       "    <tr style=\"text-align: right;\">\n",
       "      <th></th>\n",
       "      <th>Summary</th>\n",
       "      <th>Text</th>\n",
       "      <th>decoder_input</th>\n",
       "      <th>decoder_target</th>\n",
       "    </tr>\n",
       "  </thead>\n",
       "  <tbody>\n",
       "    <tr>\n",
       "      <th>0</th>\n",
       "      <td>upgrad learner switches to career in ml al wit...</td>\n",
       "      <td>saurav kant alumnus upgrad iiit pg program mac...</td>\n",
       "      <td>sostoken upgrad learner switches to career in ...</td>\n",
       "      <td>upgrad learner switches to career in ml al wit...</td>\n",
       "    </tr>\n",
       "    <tr>\n",
       "      <th>2</th>\n",
       "      <td>new zealand end rohit sharma led india match w...</td>\n",
       "      <td>new zealand defeated india wickets fourth odi ...</td>\n",
       "      <td>sostoken new zealand end rohit sharma led indi...</td>\n",
       "      <td>new zealand end rohit sharma led india match w...</td>\n",
       "    </tr>\n",
       "    <tr>\n",
       "      <th>3</th>\n",
       "      <td>aegon life iterm insurance plan helps customer...</td>\n",
       "      <td>aegon life iterm insurance plan customers enjo...</td>\n",
       "      <td>sostoken aegon life iterm insurance plan helps...</td>\n",
       "      <td>aegon life iterm insurance plan helps customer...</td>\n",
       "    </tr>\n",
       "    <tr>\n",
       "      <th>5</th>\n",
       "      <td>rahat fateh ali khan denies getting notice for...</td>\n",
       "      <td>pakistani singer rahat fateh ali khan denied r...</td>\n",
       "      <td>sostoken rahat fateh ali khan denies getting n...</td>\n",
       "      <td>rahat fateh ali khan denies getting notice for...</td>\n",
       "    </tr>\n",
       "    <tr>\n",
       "      <th>6</th>\n",
       "      <td>india get all out for their lowest odi total i...</td>\n",
       "      <td>india recorded lowest odi total new zealand ge...</td>\n",
       "      <td>sostoken india get all out for their lowest od...</td>\n",
       "      <td>india get all out for their lowest odi total i...</td>\n",
       "    </tr>\n",
       "  </tbody>\n",
       "</table>\n",
       "</div>"
      ],
      "text/plain": [
       "                                             Summary  \\\n",
       "0  upgrad learner switches to career in ml al wit...   \n",
       "2  new zealand end rohit sharma led india match w...   \n",
       "3  aegon life iterm insurance plan helps customer...   \n",
       "5  rahat fateh ali khan denies getting notice for...   \n",
       "6  india get all out for their lowest odi total i...   \n",
       "\n",
       "                                                Text  \\\n",
       "0  saurav kant alumnus upgrad iiit pg program mac...   \n",
       "2  new zealand defeated india wickets fourth odi ...   \n",
       "3  aegon life iterm insurance plan customers enjo...   \n",
       "5  pakistani singer rahat fateh ali khan denied r...   \n",
       "6  india recorded lowest odi total new zealand ge...   \n",
       "\n",
       "                                       decoder_input  \\\n",
       "0  sostoken upgrad learner switches to career in ...   \n",
       "2  sostoken new zealand end rohit sharma led indi...   \n",
       "3  sostoken aegon life iterm insurance plan helps...   \n",
       "5  sostoken rahat fateh ali khan denies getting n...   \n",
       "6  sostoken india get all out for their lowest od...   \n",
       "\n",
       "                                      decoder_target  \n",
       "0  upgrad learner switches to career in ml al wit...  \n",
       "2  new zealand end rohit sharma led india match w...  \n",
       "3  aegon life iterm insurance plan helps customer...  \n",
       "5  rahat fateh ali khan denies getting notice for...  \n",
       "6  india get all out for their lowest odi total i...  "
      ]
     },
     "execution_count": 22,
     "metadata": {},
     "output_type": "execute_result"
    }
   ],
   "source": [
    "#요약 데이터에는 시작 토큰과 종료 토큰을 추가한다.\n",
    "data['decoder_input'] = data['Summary'].apply(lambda x : 'sostoken '+ x)\n",
    "data['decoder_target'] = data['Summary'].apply(lambda x : x + ' eostoken')\n",
    "data.head()"
   ]
  },
  {
   "cell_type": "markdown",
   "id": "statistical-explorer",
   "metadata": {},
   "source": [
    "앞뒤로 토큰이 잘 붙은 모습이다. 인코더의 입력, 디코더의 입력과 레이블을 각각 다시 Numpy 타입으로 저장해주자."
   ]
  },
  {
   "cell_type": "code",
   "execution_count": 23,
   "id": "scenic-career",
   "metadata": {
    "ExecuteTime": {
     "end_time": "2021-02-24T18:47:13.810051Z",
     "start_time": "2021-02-24T18:47:13.803784Z"
    }
   },
   "outputs": [],
   "source": [
    "encoder_input = np.array(data['Text']) # 인코더의 입력\n",
    "decoder_input = np.array(data['decoder_input']) # 디코더의 입력\n",
    "decoder_target = np.array(data['decoder_target']) # 디코더의 레이블"
   ]
  },
  {
   "cell_type": "markdown",
   "id": "undefined-stanford",
   "metadata": {},
   "source": [
    "#### 훈련 데이터와 테스트 데이터를 분리\n",
    "---\n",
    "우선, encoder_input과 크기와 형태가 같은 순서가 섞인 정수 시퀀스를 만들어주자."
   ]
  },
  {
   "cell_type": "code",
   "execution_count": 24,
   "id": "desirable-terror",
   "metadata": {
    "ExecuteTime": {
     "end_time": "2021-02-24T18:47:13.816866Z",
     "start_time": "2021-02-24T18:47:13.811500Z"
    }
   },
   "outputs": [
    {
     "name": "stdout",
     "output_type": "stream",
     "text": [
      "[ 4348 45900 27118 ... 86635 66215 52402]\n"
     ]
    }
   ],
   "source": [
    "indices = np.arange(encoder_input.shape[0])\n",
    "np.random.shuffle(indices)\n",
    "print(indices)"
   ]
  },
  {
   "cell_type": "markdown",
   "id": "laden-broad",
   "metadata": {},
   "source": [
    "이 정수 시퀀스를 이용해 다시 데이터의 샘플 순서를 정의해주면 잘 섞인 샘플이 된다."
   ]
  },
  {
   "cell_type": "code",
   "execution_count": 25,
   "id": "separate-viking",
   "metadata": {
    "ExecuteTime": {
     "end_time": "2021-02-24T18:47:13.832038Z",
     "start_time": "2021-02-24T18:47:13.818142Z"
    }
   },
   "outputs": [],
   "source": [
    "encoder_input = encoder_input[indices]\n",
    "decoder_input = decoder_input[indices]\n",
    "decoder_target = decoder_target[indices]"
   ]
  },
  {
   "cell_type": "markdown",
   "id": "cubic-validity",
   "metadata": {},
   "source": [
    "섞인 데이터를 8:2의 비율로 훈련 데이터와 테스트 데이터로 분리해주자. 전체 데이터의 크기에서 0.2를 곱해서 테스트 데이터의 크기를 정의해주면 된다"
   ]
  },
  {
   "cell_type": "code",
   "execution_count": 26,
   "id": "advised-render",
   "metadata": {
    "ExecuteTime": {
     "end_time": "2021-02-24T18:47:13.836214Z",
     "start_time": "2021-02-24T18:47:13.833396Z"
    }
   },
   "outputs": [
    {
     "name": "stdout",
     "output_type": "stream",
     "text": [
      "테스트 데이터의 수 : 19187\n"
     ]
    }
   ],
   "source": [
    "n_of_val = int(len(encoder_input)*0.2)\n",
    "print('테스트 데이터의 수 :',n_of_val)"
   ]
  },
  {
   "cell_type": "markdown",
   "id": "following-publicity",
   "metadata": {},
   "source": [
    "이렇게 정의한 테스트 데이터의 갯수를 이용해 전체 데이터를 양분하자. :표시의 위치에 주의해야한다."
   ]
  },
  {
   "cell_type": "code",
   "execution_count": 27,
   "id": "wanted-gasoline",
   "metadata": {
    "ExecuteTime": {
     "end_time": "2021-02-24T18:47:13.842158Z",
     "start_time": "2021-02-24T18:47:13.837379Z"
    }
   },
   "outputs": [
    {
     "name": "stdout",
     "output_type": "stream",
     "text": [
      "훈련 데이터의 개수 : 76748\n",
      "훈련 레이블의 개수 : 76748\n",
      "테스트 데이터의 개수 : 19187\n",
      "테스트 레이블의 개수 : 19187\n"
     ]
    }
   ],
   "source": [
    "encoder_input_train = encoder_input[:-n_of_val]\n",
    "decoder_input_train = decoder_input[:-n_of_val]\n",
    "decoder_target_train = decoder_target[:-n_of_val]\n",
    "\n",
    "encoder_input_test = encoder_input[-n_of_val:]\n",
    "decoder_input_test = decoder_input[-n_of_val:]\n",
    "decoder_target_test = decoder_target[-n_of_val:]\n",
    "\n",
    "print('훈련 데이터의 개수 :', len(encoder_input_train))\n",
    "print('훈련 레이블의 개수 :',len(decoder_input_train))\n",
    "print('테스트 데이터의 개수 :',len(encoder_input_test))\n",
    "print('테스트 레이블의 개수 :',len(decoder_input_test))"
   ]
  },
  {
   "cell_type": "markdown",
   "id": "beautiful-beverage",
   "metadata": {},
   "source": [
    "### 7. 데이터 전처리하기 (3) 정수 인코딩\n",
    "---"
   ]
  },
  {
   "cell_type": "markdown",
   "id": "continental-bracket",
   "metadata": {},
   "source": [
    "#### 단어 집합(vocaburary) 만들기 및 정수 인코딩\n",
    "---\n",
    "이제 기계가 텍스트를 숫자로 처리할 수 있도록 훈련 데이터와 테스트 데이터의 단어들을 모두 정수로 바꾸어 주어야한다. 이를 위해서는 각 단어에 고유한 정수를 맵핑하는 작업이 필요하다. 이 과정을 __단어 집합(vocaburary)__을 만든다고 표현한다. 훈련 데이터에 대해서 단어 집합을 만들어보자. 우선, 원문에 해당되는 `encoder_input_train`에 대해서 단어 집합을 만들자.\n",
    "\n",
    "Keras의 토크나이저를 사용하면, 입력된 훈련 데이터로부터 단어 집합을 만들 수 있다."
   ]
  },
  {
   "cell_type": "code",
   "execution_count": 28,
   "id": "marine-animal",
   "metadata": {
    "ExecuteTime": {
     "end_time": "2021-02-24T18:47:15.718849Z",
     "start_time": "2021-02-24T18:47:13.843422Z"
    }
   },
   "outputs": [],
   "source": [
    "src_tokenizer = Tokenizer() # 토크나이저 정의\n",
    "src_tokenizer.fit_on_texts(encoder_input_train) # 입력된 데이터로부터 단어 집합 생성"
   ]
  },
  {
   "cell_type": "markdown",
   "id": "legendary-mitchell",
   "metadata": {},
   "source": [
    "이제 단어 집합이 생성되는 동시에 각 단어에 고유한 정수가 부여되었다. 현재 생성된 단어 집합은 `src_tokenizer.word_index`에 저장되어있다. 그런데 이렇게 만든 단어 집합에 있는 모든 단어를 사용하는 것이 아니라, 빈도수가 낮은 단어들은 훈련 데이터에서 제외하고 진행하려고 한다.\n",
    "\n",
    "등장 빈도수가 7회 미만인 단어들이 이 데이터에서 얼만큼의 비중을 차지하는지 확인해보자.\n",
    "\n",
    "`src_tokenizer.word_counts.items()`에는 단어와 각 단어의 등장 빈도수가 저장되어져 있는데, 이를 통해서 통계적인 정보를 얻을 수 있다."
   ]
  },
  {
   "cell_type": "code",
   "execution_count": 29,
   "id": "pleased-niger",
   "metadata": {
    "ExecuteTime": {
     "end_time": "2021-02-24T18:47:15.748206Z",
     "start_time": "2021-02-24T18:47:15.720103Z"
    }
   },
   "outputs": [
    {
     "name": "stdout",
     "output_type": "stream",
     "text": [
      "단어 집합(vocabulary)의 크기 : 68559\n",
      "등장 빈도가 6번 이하인 희귀 단어의 수: 46705\n",
      "단어 집합에서 희귀 단어를 제외시킬 경우의 단어 집합의 크기 21854\n",
      "단어 집합에서 희귀 단어의 비율: 68.1238057731297\n",
      "전체 등장 빈도에서 희귀 단어 등장 빈도 비율: 3.5355781306565004\n"
     ]
    }
   ],
   "source": [
    "threshold = 7\n",
    "total_cnt = len(src_tokenizer.word_index) # 단어의 수\n",
    "rare_cnt = 0 # 등장 빈도수가 threshold보다 작은 단어의 개수를 카운트\n",
    "total_freq = 0 # 훈련 데이터의 전체 단어 빈도수 총 합\n",
    "rare_freq = 0 # 등장 빈도수가 threshold보다 작은 단어의 등장 빈도수의 총 합\n",
    "\n",
    "# 단어와 빈도수의 쌍(pair)을 key와 value로 받는다.\n",
    "for key, value in src_tokenizer.word_counts.items():\n",
    "    total_freq = total_freq + value\n",
    "\n",
    "    # 단어의 등장 빈도수가 threshold보다 작으면\n",
    "    if(value < threshold):\n",
    "        rare_cnt = rare_cnt + 1\n",
    "        rare_freq = rare_freq + value\n",
    "\n",
    "print('단어 집합(vocabulary)의 크기 :',total_cnt)\n",
    "print('등장 빈도가 %s번 이하인 희귀 단어의 수: %s'%(threshold - 1, rare_cnt))\n",
    "print('단어 집합에서 희귀 단어를 제외시킬 경우의 단어 집합의 크기 %s'%(total_cnt - rare_cnt))\n",
    "print(\"단어 집합에서 희귀 단어의 비율:\", (rare_cnt / total_cnt)*100)\n",
    "print(\"전체 등장 빈도에서 희귀 단어 등장 빈도 비율:\", (rare_freq / total_freq)*100)"
   ]
  },
  {
   "cell_type": "markdown",
   "id": "simple-girlfriend",
   "metadata": {},
   "source": [
    "등장 빈도가 threshold 값인 7회 미만, 즉, 6회 이하인 단어들은 단어 집합에서 무려 65% 이상을 차지한다. 하지만, 실제로 훈련 데이터에서 등장 빈도로 차지하는 비중은 상대적으로 적은 수치인 3.5%밖에 되지 않는다.\n",
    "\n",
    "그래서 등장 빈도가 6회 이하인 단어들은 정수 인코딩 과정에서 빼고, 훈련 데이터에서 제거하고자 한다. 이를 제외한 단어 집합의 크기를 21796로 제한해보자. 토크나이저를 정의할 때 num_words의 값을 정해주면, 단어 집합의 크기를 제한할 수 있다."
   ]
  },
  {
   "cell_type": "code",
   "execution_count": 30,
   "id": "southwest-equity",
   "metadata": {
    "ExecuteTime": {
     "end_time": "2021-02-24T18:47:17.616035Z",
     "start_time": "2021-02-24T18:47:15.749393Z"
    }
   },
   "outputs": [],
   "source": [
    "src_vocab = 21796\n",
    "src_tokenizer = Tokenizer(num_words = src_vocab) # 단어 집합의 크기를 21796으로 제한\n",
    "src_tokenizer.fit_on_texts(encoder_input_train) # 단어 집합 재생성."
   ]
  },
  {
   "cell_type": "markdown",
   "id": "psychological-wages",
   "metadata": {},
   "source": [
    "`texts_to_sequences()`는 생성된 단어 집합에 기반하여 입력으로 주어진 텍스트 데이터의 단어들을 모두 정수로 변환하는 정수 인코딩을 수행한다. 현재 단어 집합의 크기를 8,000으로 제한했으니 이제 8,000이 넘는 숫자들은 정수 인코딩 후에는 데이터에 존재하지 않는다."
   ]
  },
  {
   "cell_type": "code",
   "execution_count": 31,
   "id": "touched-council",
   "metadata": {
    "ExecuteTime": {
     "end_time": "2021-02-24T18:47:19.343960Z",
     "start_time": "2021-02-24T18:47:17.617251Z"
    }
   },
   "outputs": [
    {
     "name": "stdout",
     "output_type": "stream",
     "text": [
      "[[447, 81, 2720, 250, 7346, 2, 55, 193, 1, 82, 16473, 2671, 2393, 360, 250, 712, 74, 237, 110, 35, 706, 3605, 498, 265, 154, 4862, 4, 2720, 1979, 2617, 2, 29, 3, 390, 479, 733, 250, 712], [4344, 1255, 315, 7, 64, 320, 1452, 84, 1740, 7987, 112, 2, 776, 136, 586, 584, 699, 91, 61, 4344, 6, 2057, 199, 1361, 7987, 51, 1687, 1740, 7987, 184, 88, 90, 148, 106, 232, 87], [274, 16, 1150, 3628, 55, 248, 5, 449, 430, 1524, 5213, 39, 350, 207, 17, 3062, 2253, 283, 575, 9894, 1150, 1547, 224, 365, 5, 6222, 105, 496, 136, 105, 1066, 1765, 4443, 105, 5373, 107, 2253]]\n"
     ]
    }
   ],
   "source": [
    "# 텍스트 시퀀스를 정수 시퀀스로 변환\n",
    "encoder_input_train = src_tokenizer.texts_to_sequences(encoder_input_train) \n",
    "encoder_input_test = src_tokenizer.texts_to_sequences(encoder_input_test)\n",
    "\n",
    "#잘 진행되었는지 샘플 출력\n",
    "print(encoder_input_train[:3])"
   ]
  },
  {
   "cell_type": "markdown",
   "id": "raising-tract",
   "metadata": {},
   "source": [
    "Summary 데이터에 대해서도 동일한 작업을 수행해보자. 케라스의 토크나이저를 사용하여 `decoder_input_train`을 입력으로 전체 단어 집합과 각 단어에 대한 빈도수를 계산한다."
   ]
  },
  {
   "cell_type": "code",
   "execution_count": 32,
   "id": "appointed-kitchen",
   "metadata": {
    "ExecuteTime": {
     "end_time": "2021-02-24T18:47:20.194003Z",
     "start_time": "2021-02-24T18:47:19.345049Z"
    }
   },
   "outputs": [],
   "source": [
    "tar_tokenizer = Tokenizer()\n",
    "tar_tokenizer.fit_on_texts(decoder_input_train)"
   ]
  },
  {
   "cell_type": "markdown",
   "id": "coordinate-director",
   "metadata": {},
   "source": [
    "이제 단어 집합이 생성되는 동시에 각 단어에 고유한 정수가 부여되었다. 이는 `tar_tokenizer.word_index`에 저장되어있다. `tar_tokenizer.word_counts.items()`에는 단어와 각 단어의 등장 빈도수가 저장되어져 있는데, 이를 통해서 통계적인 정보를 얻어서, 등장 빈도수가 6회 미만인 단어들이 이 데이터에서 얼만큼의 비중을 차지하는지 확인해보자."
   ]
  },
  {
   "cell_type": "code",
   "execution_count": 33,
   "id": "inner-lebanon",
   "metadata": {
    "ExecuteTime": {
     "end_time": "2021-02-24T18:47:20.208090Z",
     "start_time": "2021-02-24T18:47:20.195159Z"
    }
   },
   "outputs": [
    {
     "name": "stdout",
     "output_type": "stream",
     "text": [
      "단어 집합(vocabulary)의 크기 : 29752\n",
      "등장 빈도가 5번 이하인 희귀 단어의 수: 19468\n",
      "단어 집합에서 희귀 단어를 제외시킬 경우의 단어 집합의 크기 10284\n",
      "단어 집합에서 희귀 단어의 비율: 65.43425652057005\n",
      "전체 등장 빈도에서 희귀 단어 등장 빈도 비율: 4.753240383674641\n"
     ]
    }
   ],
   "source": [
    "threshold = 6\n",
    "total_cnt = len(tar_tokenizer.word_index) # 단어의 수\n",
    "rare_cnt = 0 # 등장 빈도수가 threshold보다 작은 단어의 개수를 카운트\n",
    "total_freq = 0 # 훈련 데이터의 전체 단어 빈도수 총 합\n",
    "rare_freq = 0 # 등장 빈도수가 threshold보다 작은 단어의 등장 빈도수의 총 합\n",
    "\n",
    "# 단어와 빈도수의 쌍(pair)을 key와 value로 받는다.\n",
    "for key, value in tar_tokenizer.word_counts.items():\n",
    "    total_freq = total_freq + value\n",
    "\n",
    "    # 단어의 등장 빈도수가 threshold보다 작으면\n",
    "    if(value < threshold):\n",
    "        rare_cnt = rare_cnt + 1\n",
    "        rare_freq = rare_freq + value\n",
    "\n",
    "print('단어 집합(vocabulary)의 크기 :',total_cnt)\n",
    "print('등장 빈도가 %s번 이하인 희귀 단어의 수: %s'%(threshold - 1, rare_cnt))\n",
    "print('단어 집합에서 희귀 단어를 제외시킬 경우의 단어 집합의 크기 %s'%(total_cnt - rare_cnt))\n",
    "print(\"단어 집합에서 희귀 단어의 비율:\", (rare_cnt / total_cnt)*100)\n",
    "print(\"전체 등장 빈도에서 희귀 단어 등장 빈도 비율:\", (rare_freq / total_freq)*100)"
   ]
  },
  {
   "cell_type": "markdown",
   "id": "grand-opera",
   "metadata": {},
   "source": [
    "등장 빈도가 5회 이하인 단어들은 단어 집합에서 약 65%를 차지하고있다. 하지만, 실제로 훈련 데이터에서 등장 빈도로 차지하는 비중은 상대적으로 매우 적은 수치인 4.71%밖에 되지 않는다. 아까 했던것과 동일하게 이 단어들은 모두 제거하자."
   ]
  },
  {
   "cell_type": "code",
   "execution_count": 34,
   "id": "downtown-percentage",
   "metadata": {
    "ExecuteTime": {
     "end_time": "2021-02-24T18:47:23.643378Z",
     "start_time": "2021-02-24T18:47:20.209191Z"
    }
   },
   "outputs": [
    {
     "name": "stdout",
     "output_type": "stream",
     "text": [
      "input\n",
      "input  [[1, 290, 11, 543, 336, 24, 757, 239, 55, 20, 2849, 10, 235], [1, 2306, 216, 104, 88, 901, 16, 8, 491, 927], [1, 24, 11, 275, 25, 659, 131, 5126, 6, 4318, 59, 645, 14], [1, 995, 1524, 136, 223, 1875, 3, 2307, 3, 56, 3723], [1, 443, 180, 2973, 537, 673, 5, 37, 54]]\n",
      "target\n",
      "decoder  [[290, 11, 543, 336, 24, 757, 239, 55, 20, 2849, 10, 235, 2], [2306, 216, 104, 88, 901, 16, 8, 491, 927, 2], [24, 11, 275, 25, 659, 131, 5126, 6, 4318, 59, 645, 14, 2], [995, 1524, 136, 223, 1875, 3, 2307, 3, 56, 3723, 2], [443, 180, 2973, 537, 673, 5, 37, 54, 2]]\n"
     ]
    }
   ],
   "source": [
    "tar_vocab = 10000\n",
    "tar_tokenizer = Tokenizer(num_words = tar_vocab) \n",
    "tar_tokenizer.fit_on_texts(decoder_input_train)\n",
    "tar_tokenizer.fit_on_texts(decoder_target_train)\n",
    "\n",
    "# 텍스트 시퀀스를 정수 시퀀스로 변환\n",
    "decoder_input_train = tar_tokenizer.texts_to_sequences(decoder_input_train) \n",
    "decoder_target_train = tar_tokenizer.texts_to_sequences(decoder_target_train)\n",
    "decoder_input_test = tar_tokenizer.texts_to_sequences(decoder_input_test)\n",
    "decoder_target_test = tar_tokenizer.texts_to_sequences(decoder_target_test)\n",
    "\n",
    "#잘 변환되었는지 확인\n",
    "print('input')\n",
    "print('input ',decoder_input_train[:5])\n",
    "print('target')\n",
    "print('decoder ',decoder_target_train[:5])"
   ]
  },
  {
   "cell_type": "markdown",
   "id": "reported-crystal",
   "metadata": {},
   "source": [
    "정상적으로 정수 인코딩 작업이 끝났다. 현재 `decoder_input_train`과 `decoder_target_train`에는 더 이상 숫자 2,000이 넘는 숫자들은 존재하지 않는다. 그런데 다음 작업인 패딩하기로 넘어가기 전에 한 가지 점검해야할 것이 있다.\n",
    "\n",
    "전체 데이터에서 빈도수가 낮은 단어가 삭제되었다는 것은 빈도수가 낮은 단어만으로 구성되었던 샘플들은 이제 빈(empty) 샘플이 되었을 가능성이 있다. 이 현상은 길이가 상대적으로 길었던 원문(Text)의 경우에는 문제가 별로 없겠지만, 애초에 평균 길이가 4밖에 되지 않았던 요약문(Summary)의 경우에는 이 현상이 굉장히 두드러졌을 가능성이 높을 것이다.\n",
    "\n",
    "요약문에서 길이가 0이 된 샘플들의 인덱스를 받아와보자. 여기서 주의할 점은 요약문인 `decoder_input`에는 `sostoken` 또는 `decoder_target`에는 `eostoken`이 추가된 상태이고, 이 두 토큰은 모든 샘플에서 등장하므로 빈도수가 샘플수와 동일하게 매우 높으므로 단어 집합 제한에도 삭제 되지 않는다. 그래서 이제 길이가 0이 된 요약문의 실제길이는 1로 나올것이다. 길이 0이 된 `decoder_input`에는 `sostoken`, `decoder_target`에는 `eostoken`만 남아 있을 것이기 때문이다.\n",
    "\n",
    "훈련 데이터와 테스트 데이터에 대해서 요약문의 길이가 1인 경우의 인덱스를 각각 `drop_train`과 `drop_test`에 라는 변수에 저장해보자. 이 샘플들은 모두 삭제할 것이다."
   ]
  },
  {
   "cell_type": "code",
   "execution_count": 35,
   "id": "proud-bargain",
   "metadata": {
    "ExecuteTime": {
     "end_time": "2021-02-24T18:47:23.942896Z",
     "start_time": "2021-02-24T18:47:23.644468Z"
    }
   },
   "outputs": [
    {
     "name": "stdout",
     "output_type": "stream",
     "text": [
      "삭제할 훈련 데이터의 개수 : 0\n",
      "삭제할 테스트 데이터의 개수 : 1\n",
      "훈련 데이터의 개수 : 76748\n",
      "훈련 레이블의 개수 : 76748\n",
      "테스트 데이터의 개수 : 19186\n",
      "테스트 레이블의 개수 : 19186\n"
     ]
    },
    {
     "name": "stderr",
     "output_type": "stream",
     "text": [
      "/home/aiffel-dj10/anaconda3/envs/aiffel/lib/python3.7/site-packages/numpy/core/_asarray.py:83: VisibleDeprecationWarning: Creating an ndarray from ragged nested sequences (which is a list-or-tuple of lists-or-tuples-or ndarrays with different lengths or shapes) is deprecated. If you meant to do this, you must specify 'dtype=object' when creating the ndarray\n",
      "  return array(a, dtype, copy=False, order=order)\n"
     ]
    }
   ],
   "source": [
    "drop_train = [index for index, sentence in enumerate(decoder_input_train) if len(sentence) == 1]\n",
    "drop_test = [index for index, sentence in enumerate(decoder_input_test) if len(sentence) == 1]\n",
    "\n",
    "print('삭제할 훈련 데이터의 개수 :',len(drop_train))\n",
    "print('삭제할 테스트 데이터의 개수 :',len(drop_test))\n",
    "\n",
    "encoder_input_train = np.delete(encoder_input_train, drop_train, axis=0)\n",
    "decoder_input_train = np.delete(decoder_input_train, drop_train, axis=0)\n",
    "decoder_target_train = np.delete(decoder_target_train, drop_train, axis=0)\n",
    "\n",
    "encoder_input_test = np.delete(encoder_input_test, drop_test, axis=0)\n",
    "decoder_input_test = np.delete(decoder_input_test, drop_test, axis=0)\n",
    "decoder_target_test = np.delete(decoder_target_test, drop_test, axis=0)\n",
    "\n",
    "print('훈련 데이터의 개수 :', len(encoder_input_train))\n",
    "print('훈련 레이블의 개수 :',len(decoder_input_train))\n",
    "print('테스트 데이터의 개수 :',len(encoder_input_test))\n",
    "print('테스트 레이블의 개수 :',len(decoder_input_test))"
   ]
  },
  {
   "cell_type": "markdown",
   "id": "deluxe-oxygen",
   "metadata": {},
   "source": [
    "#### 패딩하기\n",
    "---\n",
    "텍스트 시퀀스를 정수 시퀀스로 변환했다면, 이제 서로 다른 길이의 샘플들을 병렬 처리하기 위해 같은 길이로 맞춰주는 패딩 작업을 해주어야한다. 아까 정해두었던 최대 길이로 패딩해 줄 것이다. 최대 길이보다 짧은 데이터들은 뒤의 공간에 숫자 0을 넣어 최대 길이로 길이를 맞춰주자."
   ]
  },
  {
   "cell_type": "code",
   "execution_count": 36,
   "id": "streaming-botswana",
   "metadata": {
    "ExecuteTime": {
     "end_time": "2021-02-24T18:47:25.071856Z",
     "start_time": "2021-02-24T18:47:23.944017Z"
    }
   },
   "outputs": [],
   "source": [
    "encoder_input_train = pad_sequences(encoder_input_train, maxlen = text_max_len, padding='post')\n",
    "encoder_input_test = pad_sequences(encoder_input_test, maxlen = text_max_len, padding='post')\n",
    "decoder_input_train = pad_sequences(decoder_input_train, maxlen = summary_max_len, padding='post')\n",
    "decoder_target_train = pad_sequences(decoder_target_train, maxlen = summary_max_len, padding='post')\n",
    "decoder_input_test = pad_sequences(decoder_input_test, maxlen = summary_max_len, padding='post')\n",
    "decoder_target_test = pad_sequences(decoder_target_test, maxlen = summary_max_len, padding='post')"
   ]
  },
  {
   "cell_type": "markdown",
   "id": "descending-prophet",
   "metadata": {},
   "source": [
    "### Step 3. 어텐션 메커니즘 사용하기 (추상적 요약)\n",
    "---\n",
    "일반적인 seq2seq보다는 어텐션 메커니즘을 사용한 seq2seq를 사용하는 것이 더 나은 성능을 얻을 수 있다. 어텐션 메커니즘을 사용한 seq2seq를 설계해보자."
   ]
  },
  {
   "cell_type": "markdown",
   "id": "brilliant-denmark",
   "metadata": {},
   "source": [
    "#### 8. 모델 설계하기\n",
    "---\n",
    "이제 모델을 설계할 시간이다. 우선 함수형 API를 이용해서 인코더를 설계해보자."
   ]
  },
  {
   "cell_type": "code",
   "execution_count": 37,
   "id": "distinguished-pittsburgh",
   "metadata": {
    "ExecuteTime": {
     "end_time": "2021-02-24T18:47:26.285345Z",
     "start_time": "2021-02-24T18:47:25.072889Z"
    }
   },
   "outputs": [
    {
     "name": "stdout",
     "output_type": "stream",
     "text": [
      "WARNING:tensorflow:Layer lstm will not use cuDNN kernel since it doesn't meet the cuDNN kernel criteria. It will use generic GPU kernel as fallback when running on GPU\n",
      "WARNING:tensorflow:Layer lstm_1 will not use cuDNN kernel since it doesn't meet the cuDNN kernel criteria. It will use generic GPU kernel as fallback when running on GPU\n",
      "WARNING:tensorflow:Layer lstm_2 will not use cuDNN kernel since it doesn't meet the cuDNN kernel criteria. It will use generic GPU kernel as fallback when running on GPU\n"
     ]
    }
   ],
   "source": [
    "from tensorflow.keras.layers import Input, LSTM, Embedding, Dense, Concatenate\n",
    "from tensorflow.keras.models import Model\n",
    "from tensorflow.keras.callbacks import EarlyStopping, ModelCheckpoint\n",
    "\n",
    "\n",
    "# 인코더 설계 시작\n",
    "embedding_dim = 128\n",
    "hidden_size = 256\n",
    "\n",
    "# 인코더\n",
    "encoder_inputs = Input(shape=(text_max_len,))\n",
    "\n",
    "# 인코더의 임베딩 층\n",
    "enc_emb = Embedding(src_vocab, embedding_dim)(encoder_inputs)\n",
    "\n",
    "# 인코더의 LSTM 1\n",
    "encoder_lstm1 = LSTM(hidden_size, return_sequences=True, return_state=True ,dropout = 0.4, recurrent_dropout = 0.4)\n",
    "encoder_output1, state_h1, state_c1 = encoder_lstm1(enc_emb)\n",
    "\n",
    "# 인코더의 LSTM 2\n",
    "encoder_lstm2 = LSTM(hidden_size, return_sequences=True, return_state=True, dropout=0.4, recurrent_dropout=0.4)\n",
    "encoder_output2, state_h2, state_c2 = encoder_lstm2(encoder_output1)\n",
    "\n",
    "# 인코더의 LSTM 3\n",
    "encoder_lstm3 = LSTM(hidden_size, return_state=True, return_sequences=True, dropout=0.4, recurrent_dropout=0.4)\n",
    "encoder_outputs, state_h, state_c= encoder_lstm3(encoder_output2)"
   ]
  },
  {
   "cell_type": "markdown",
   "id": "analyzed-adventure",
   "metadata": {},
   "source": [
    "임베딩 벡터의 차원은 128로 정의하고, hidden state의 크기를 256으로 정의했다. hidden state는 LSTM에서 얼만큼의 수용력(capacity)를 가질지를 정하는 파라미터이다. 이 파라미터는 LSTM의 용량의 크기나, LSTM에서의 뉴론의 갯수라고 이해하면 된다. 다른 신경망과 마찬가지로, 무조건 용량을 많이 준다고 해서 성능이 반드시 올라가는 것은 아니다.\n",
    "\n",
    "인코더의 LSTM은 총 3개의 층으로 구성해서 모델의 복잡도를 높였다. hidden state의 크기를 늘리는 것이 LSTM 층 1개의 용량을 늘린다면, 3개의 층을 사용하는 것은 모델의 용량을 늘린다고 볼 수 있다. 3개의 층을 지나서 인코더로부터 나온 출력 벡터는 디코더로 보내줘야 할 것이다.\n",
    "\n",
    "디코더를 설계해보자."
   ]
  },
  {
   "cell_type": "code",
   "execution_count": 38,
   "id": "measured-denver",
   "metadata": {
    "ExecuteTime": {
     "end_time": "2021-02-24T18:47:26.520817Z",
     "start_time": "2021-02-24T18:47:26.286428Z"
    }
   },
   "outputs": [
    {
     "name": "stdout",
     "output_type": "stream",
     "text": [
      "WARNING:tensorflow:Layer lstm_3 will not use cuDNN kernel since it doesn't meet the cuDNN kernel criteria. It will use generic GPU kernel as fallback when running on GPU\n"
     ]
    }
   ],
   "source": [
    "# 디코더 설계\n",
    "\n",
    "decoder_inputs = Input(shape=(None,))\n",
    "\n",
    "# 디코더의 임베딩 층\n",
    "dec_emb_layer = Embedding(tar_vocab, embedding_dim)\n",
    "dec_emb = dec_emb_layer(decoder_inputs)\n",
    "\n",
    "# 디코더의 LSTM\n",
    "decoder_lstm = LSTM(hidden_size, return_sequences = True, return_state = True, dropout = 0.4, recurrent_dropout=0.2)\n",
    "decoder_outputs, _, _ = decoder_lstm(dec_emb, initial_state = [state_h, state_c])"
   ]
  },
  {
   "cell_type": "markdown",
   "id": "authentic-closing",
   "metadata": {},
   "source": [
    "디코더의 임베딩 층과 LSTM을 설계하는 것은 인코더와 거의 동일하다. 하지만 LSTM의 입력을 정의할 때, initial_state의 인자값으로 인코더의 hidden state와 cell state의 값을 넣어줘야 한다.\n",
    "\n",
    "디코더의 출력층을 설계해보자."
   ]
  },
  {
   "cell_type": "code",
   "execution_count": 39,
   "id": "satellite-receiver",
   "metadata": {
    "ExecuteTime": {
     "end_time": "2021-02-24T18:47:26.549038Z",
     "start_time": "2021-02-24T18:47:26.522033Z"
    }
   },
   "outputs": [
    {
     "name": "stdout",
     "output_type": "stream",
     "text": [
      "Model: \"model\"\n",
      "__________________________________________________________________________________________________\n",
      "Layer (type)                    Output Shape         Param #     Connected to                     \n",
      "==================================================================================================\n",
      "input_1 (InputLayer)            [(None, 43)]         0                                            \n",
      "__________________________________________________________________________________________________\n",
      "embedding (Embedding)           (None, 43, 128)      2789888     input_1[0][0]                    \n",
      "__________________________________________________________________________________________________\n",
      "lstm (LSTM)                     [(None, 43, 256), (N 394240      embedding[0][0]                  \n",
      "__________________________________________________________________________________________________\n",
      "input_2 (InputLayer)            [(None, None)]       0                                            \n",
      "__________________________________________________________________________________________________\n",
      "lstm_1 (LSTM)                   [(None, 43, 256), (N 525312      lstm[0][0]                       \n",
      "__________________________________________________________________________________________________\n",
      "embedding_1 (Embedding)         (None, None, 128)    1280000     input_2[0][0]                    \n",
      "__________________________________________________________________________________________________\n",
      "lstm_2 (LSTM)                   [(None, 43, 256), (N 525312      lstm_1[0][0]                     \n",
      "__________________________________________________________________________________________________\n",
      "lstm_3 (LSTM)                   [(None, None, 256),  394240      embedding_1[0][0]                \n",
      "                                                                 lstm_2[0][1]                     \n",
      "                                                                 lstm_2[0][2]                     \n",
      "__________________________________________________________________________________________________\n",
      "dense (Dense)                   (None, None, 10000)  2570000     lstm_3[0][0]                     \n",
      "==================================================================================================\n",
      "Total params: 8,478,992\n",
      "Trainable params: 8,478,992\n",
      "Non-trainable params: 0\n",
      "__________________________________________________________________________________________________\n"
     ]
    }
   ],
   "source": [
    "# 디코더의 출력층\n",
    "decoder_softmax_layer = Dense(tar_vocab, activation = 'softmax')\n",
    "decoder_softmax_outputs = decoder_softmax_layer(decoder_outputs) \n",
    "\n",
    "# 모델 정의\n",
    "model = Model([encoder_inputs, decoder_inputs], decoder_softmax_outputs)\n",
    "model.summary()"
   ]
  },
  {
   "cell_type": "markdown",
   "id": "funky-strike",
   "metadata": {
    "ExecuteTime": {
     "end_time": "2021-02-24T16:10:42.640428Z",
     "start_time": "2021-02-24T16:10:42.629321Z"
    }
   },
   "source": [
    "디코더의 출력층에서는 Summary의 단어장인 `tar_vocab`의 수많은 선택지 중 하나의 단어를 선택하는 다중 클래스 분류 문제를 풀어야한다. 그렇기 때문에 Dense의 인자로 `tar_vocab`을 주고, 활성화 함수로 소프트맥스 함수를 사용하고 있다.\n",
    "\n",
    "지금까지 설계한 것은 인코더의 hidden state와 cell state를 디코더의 초기 state로 사용하는 가장 기본적인 seq2seq이다. 그런데 디코더의 출력층을 설계를 살짝 바꿔서 성능을 높일 수 있는 방법이 있다. 바로 어텐션 메커니즘이다."
   ]
  },
  {
   "cell_type": "markdown",
   "id": "impossible-detector",
   "metadata": {},
   "source": [
    "#### 어텐션 매커니즘\n",
    "---\n",
    "어텐션 메커니즘을 수행하는 어텐션 함수를 설계하는 것은 또 다른 새로운 신경망을 설계해야한다는 뜻이다. 이미 구현된 어텐션 함수를 가져와서 디코더의 출력층에 어떤 방식으로 결합하는지 보자.\n",
    "\n",
    "아래의 코드를 수행하여 깃허브에 공개되어져 있는 어텐션 함수를 다운로드 하자."
   ]
  },
  {
   "cell_type": "code",
   "execution_count": 40,
   "id": "tested-relative",
   "metadata": {
    "ExecuteTime": {
     "end_time": "2021-02-24T18:47:27.733513Z",
     "start_time": "2021-02-24T18:47:26.550483Z"
    }
   },
   "outputs": [],
   "source": [
    "urllib.request.urlretrieve(\"https://raw.githubusercontent.com/thushv89/attention_keras/master/src/layers/attention.py\", filename=\"attention.py\")\n",
    "from attention import AttentionLayer"
   ]
  },
  {
   "cell_type": "markdown",
   "id": "center-making",
   "metadata": {},
   "source": [
    "이제 경로에 attention.py 파일이 생겼으니, 어텐션 메커니즘을 사용할 준비가 되었다. 설계한 디코더의 출력층을 다음과 같이 수정하자."
   ]
  },
  {
   "cell_type": "code",
   "execution_count": 41,
   "id": "silent-personality",
   "metadata": {
    "ExecuteTime": {
     "end_time": "2021-02-24T18:47:28.357401Z",
     "start_time": "2021-02-24T18:47:27.734989Z"
    }
   },
   "outputs": [
    {
     "name": "stdout",
     "output_type": "stream",
     "text": [
      "Model: \"model_1\"\n",
      "__________________________________________________________________________________________________\n",
      "Layer (type)                    Output Shape         Param #     Connected to                     \n",
      "==================================================================================================\n",
      "input_1 (InputLayer)            [(None, 43)]         0                                            \n",
      "__________________________________________________________________________________________________\n",
      "embedding (Embedding)           (None, 43, 128)      2789888     input_1[0][0]                    \n",
      "__________________________________________________________________________________________________\n",
      "lstm (LSTM)                     [(None, 43, 256), (N 394240      embedding[0][0]                  \n",
      "__________________________________________________________________________________________________\n",
      "input_2 (InputLayer)            [(None, None)]       0                                            \n",
      "__________________________________________________________________________________________________\n",
      "lstm_1 (LSTM)                   [(None, 43, 256), (N 525312      lstm[0][0]                       \n",
      "__________________________________________________________________________________________________\n",
      "embedding_1 (Embedding)         (None, None, 128)    1280000     input_2[0][0]                    \n",
      "__________________________________________________________________________________________________\n",
      "lstm_2 (LSTM)                   [(None, 43, 256), (N 525312      lstm_1[0][0]                     \n",
      "__________________________________________________________________________________________________\n",
      "lstm_3 (LSTM)                   [(None, None, 256),  394240      embedding_1[0][0]                \n",
      "                                                                 lstm_2[0][1]                     \n",
      "                                                                 lstm_2[0][2]                     \n",
      "__________________________________________________________________________________________________\n",
      "attention_layer (AttentionLayer ((None, None, 256),  131328      lstm_2[0][0]                     \n",
      "                                                                 lstm_3[0][0]                     \n",
      "__________________________________________________________________________________________________\n",
      "concat_layer (Concatenate)      (None, None, 512)    0           lstm_3[0][0]                     \n",
      "                                                                 attention_layer[0][0]            \n",
      "__________________________________________________________________________________________________\n",
      "dense_1 (Dense)                 (None, None, 10000)  5130000     concat_layer[0][0]               \n",
      "==================================================================================================\n",
      "Total params: 11,170,320\n",
      "Trainable params: 11,170,320\n",
      "Non-trainable params: 0\n",
      "__________________________________________________________________________________________________\n"
     ]
    }
   ],
   "source": [
    "# 어텐션 층(어텐션 함수)\n",
    "attn_layer = AttentionLayer(name='attention_layer')\n",
    "# 인코더와 디코더의 모든 time step의 hidden state를 어텐션 층에 전달하고 결과를 리턴\n",
    "attn_out, attn_states = attn_layer([encoder_outputs, decoder_outputs])\n",
    "\n",
    "# 어텐션의 결과와 디코더의 hidden state들을 연결\n",
    "decoder_concat_input = Concatenate(axis = -1, name='concat_layer')([decoder_outputs, attn_out])\n",
    "\n",
    "# 디코더의 출력층\n",
    "decoder_softmax_layer = Dense(tar_vocab, activation='softmax')\n",
    "decoder_softmax_outputs = decoder_softmax_layer(decoder_concat_input)\n",
    "\n",
    "# 모델 정의\n",
    "model = Model([encoder_inputs, decoder_inputs], decoder_softmax_outputs)\n",
    "model.summary()"
   ]
  },
  {
   "cell_type": "markdown",
   "id": "affected-shopping",
   "metadata": {},
   "source": [
    "위의 코드는 인코더의 hidden state들과 디코더의 hidden state들을 어텐션 함수의 입력으로 사용하고, 어텐션 함수가 리턴한 값을 예측 시에 디코더의 hidden state와 함께 활용하는 형태로 작동하고 있다."
   ]
  },
  {
   "cell_type": "markdown",
   "id": "streaming-california",
   "metadata": {},
   "source": [
    "#### 모델 훈련하기\n",
    "---\n",
    "설계한 모델을 가지고 훈련을 진행해보자."
   ]
  },
  {
   "cell_type": "code",
   "execution_count": 42,
   "id": "pleased-parade",
   "metadata": {
    "ExecuteTime": {
     "end_time": "2021-02-24T19:49:33.341765Z",
     "start_time": "2021-02-24T18:47:28.358651Z"
    }
   },
   "outputs": [
    {
     "name": "stdout",
     "output_type": "stream",
     "text": [
      "Epoch 1/50\n",
      "300/300 [==============================] - 103s 345ms/step - loss: 5.6392 - val_loss: 5.2179\n",
      "Epoch 2/50\n",
      "300/300 [==============================] - 103s 343ms/step - loss: 5.0633 - val_loss: 4.8185\n",
      "Epoch 3/50\n",
      "300/300 [==============================] - 103s 343ms/step - loss: 4.7057 - val_loss: 4.5398\n",
      "Epoch 4/50\n",
      "300/300 [==============================] - 103s 343ms/step - loss: 4.4329 - val_loss: 4.3420\n",
      "Epoch 5/50\n",
      "300/300 [==============================] - 102s 342ms/step - loss: 4.2237 - val_loss: 4.2023\n",
      "Epoch 6/50\n",
      "300/300 [==============================] - 103s 342ms/step - loss: 4.0548 - val_loss: 4.0790\n",
      "Epoch 7/50\n",
      "300/300 [==============================] - 103s 343ms/step - loss: 3.9070 - val_loss: 3.9885\n",
      "Epoch 8/50\n",
      "300/300 [==============================] - 103s 342ms/step - loss: 3.7791 - val_loss: 3.9154\n",
      "Epoch 9/50\n",
      "300/300 [==============================] - 103s 342ms/step - loss: 3.6663 - val_loss: 3.8631\n",
      "Epoch 10/50\n",
      "300/300 [==============================] - 103s 343ms/step - loss: 3.5664 - val_loss: 3.8071\n",
      "Epoch 11/50\n",
      "300/300 [==============================] - 103s 342ms/step - loss: 3.4738 - val_loss: 3.7630\n",
      "Epoch 12/50\n",
      "300/300 [==============================] - 103s 343ms/step - loss: 3.3954 - val_loss: 3.7240\n",
      "Epoch 13/50\n",
      "300/300 [==============================] - 103s 343ms/step - loss: 3.3222 - val_loss: 3.6884\n",
      "Epoch 14/50\n",
      "300/300 [==============================] - 103s 342ms/step - loss: 3.2541 - val_loss: 3.6690\n",
      "Epoch 15/50\n",
      "300/300 [==============================] - 103s 343ms/step - loss: 3.1900 - val_loss: 3.6448\n",
      "Epoch 16/50\n",
      "300/300 [==============================] - 103s 344ms/step - loss: 3.1324 - val_loss: 3.6341\n",
      "Epoch 17/50\n",
      "300/300 [==============================] - 103s 344ms/step - loss: 3.0799 - val_loss: 3.6078\n",
      "Epoch 18/50\n",
      "300/300 [==============================] - 103s 343ms/step - loss: 3.0332 - val_loss: 3.5986\n",
      "Epoch 19/50\n",
      "300/300 [==============================] - 103s 343ms/step - loss: 2.9900 - val_loss: 3.5873\n",
      "Epoch 20/50\n",
      "300/300 [==============================] - 103s 343ms/step - loss: 2.9453 - val_loss: 3.5740\n",
      "Epoch 21/50\n",
      "300/300 [==============================] - 103s 343ms/step - loss: 2.9015 - val_loss: 3.5671\n",
      "Epoch 22/50\n",
      "300/300 [==============================] - 103s 343ms/step - loss: 2.8645 - val_loss: 3.5580\n",
      "Epoch 23/50\n",
      "300/300 [==============================] - 103s 343ms/step - loss: 2.8276 - val_loss: 3.5529\n",
      "Epoch 24/50\n",
      "300/300 [==============================] - 103s 343ms/step - loss: 2.7925 - val_loss: 3.5478\n",
      "Epoch 25/50\n",
      "300/300 [==============================] - 103s 343ms/step - loss: 2.7542 - val_loss: 3.5408\n",
      "Epoch 26/50\n",
      "300/300 [==============================] - 103s 344ms/step - loss: 2.7225 - val_loss: 3.5397\n",
      "Epoch 27/50\n",
      "300/300 [==============================] - 103s 342ms/step - loss: 2.6947 - val_loss: 3.5353\n",
      "Epoch 28/50\n",
      "300/300 [==============================] - 103s 344ms/step - loss: 2.6659 - val_loss: 3.5342\n",
      "Epoch 29/50\n",
      "300/300 [==============================] - 103s 343ms/step - loss: 2.6405 - val_loss: 3.5342\n",
      "Epoch 30/50\n",
      "300/300 [==============================] - 103s 344ms/step - loss: 2.6155 - val_loss: 3.5302\n",
      "Epoch 31/50\n",
      "300/300 [==============================] - 103s 344ms/step - loss: 2.5905 - val_loss: 3.5277\n",
      "Epoch 32/50\n",
      "300/300 [==============================] - 103s 344ms/step - loss: 2.5668 - val_loss: 3.5241\n",
      "Epoch 33/50\n",
      "300/300 [==============================] - 103s 343ms/step - loss: 2.5449 - val_loss: 3.5242\n",
      "Epoch 34/50\n",
      "300/300 [==============================] - 103s 343ms/step - loss: 2.5247 - val_loss: 3.5185\n",
      "Epoch 35/50\n",
      "300/300 [==============================] - 103s 343ms/step - loss: 2.5051 - val_loss: 3.5230\n",
      "Epoch 36/50\n",
      "300/300 [==============================] - 103s 342ms/step - loss: 2.4814 - val_loss: 3.5219\n",
      "Epoch 00036: early stopping\n"
     ]
    }
   ],
   "source": [
    "model.compile(optimizer='rmsprop', loss='sparse_categorical_crossentropy')\n",
    "es = EarlyStopping(monitor='val_loss', mode='min', verbose=1, patience = 2)\n",
    "history = model.fit(x = [encoder_input_train, decoder_input_train], y = decoder_target_train, \\\n",
    "          validation_data = ([encoder_input_test, decoder_input_test], decoder_target_test),\n",
    "          batch_size = 256, callbacks=[es], epochs = 50)"
   ]
  },
  {
   "cell_type": "markdown",
   "id": "brazilian-aberdeen",
   "metadata": {},
   "source": [
    "EarlyStopping은 한국어로 해석 하면 '조기 종료'의 뜻을 가지고 있는데, 특정 조건이 충족되면 모델의 훈련을 멈추는 역할을 한다. 여기서는 `val_loss(검증 데이터의 손실)`을 모니터링 하면서, 검증 데이터의 손실이 줄어들지 않고 증가하는 현상이`patiensce =2` 2회 관측되면 학습을 멈추도록 설정되어져 있다. 20번째 epoch쯤에서 조기종료되는 것을 확인했다.\n",
    "\n",
    "훈련 데이터의 손실과 검증 데이터의 손실이 줄어드는 과정을 시각화 해보자."
   ]
  },
  {
   "cell_type": "code",
   "execution_count": 43,
   "id": "continuing-destruction",
   "metadata": {
    "ExecuteTime": {
     "end_time": "2021-02-24T19:49:33.481920Z",
     "start_time": "2021-02-24T19:49:33.342989Z"
    }
   },
   "outputs": [
    {
     "data": {
      "image/png": "[encoded data removed]",
      "text/plain": [
       "<Figure size 432x288 with 1 Axes>"
      ]
     },
     "metadata": {
      "needs_background": "light"
     },
     "output_type": "display_data"
    }
   ],
   "source": [
    "plt.plot(history.history['loss'], label='train')\n",
    "plt.plot(history.history['val_loss'], label='test')\n",
    "plt.legend()\n",
    "plt.show()"
   ]
  },
  {
   "cell_type": "markdown",
   "id": "contrary-jewel",
   "metadata": {},
   "source": [
    "#### 인퍼런스 모델 구현하기\n",
    "테스트 단계에서는 정수 인덱스 행렬로 존재하던 텍스트 데이터를 실제 데이터로 복원해야 하므로, 필요한 3개의 사전을 아래와 같이 미리 준비해두자."
   ]
  },
  {
   "cell_type": "code",
   "execution_count": 44,
   "id": "binary-specific",
   "metadata": {
    "ExecuteTime": {
     "end_time": "2021-02-24T19:49:33.485440Z",
     "start_time": "2021-02-24T19:49:33.483271Z"
    }
   },
   "outputs": [],
   "source": [
    "src_index_to_word = src_tokenizer.index_word # 원문 단어 집합에서 정수 -> 단어를 얻음\n",
    "tar_word_to_index = tar_tokenizer.word_index # 요약 단어 집합에서 단어 -> 정수를 얻음\n",
    "tar_index_to_word = tar_tokenizer.index_word # 요약 단어 집합에서 정수 -> 단어를 얻음"
   ]
  },
  {
   "cell_type": "markdown",
   "id": "infectious-decrease",
   "metadata": {},
   "source": [
    "seq2seq는 훈련할 때와 실제 동작할 때(인퍼런스 단계)의 방식이 다르므로 그에 맞게 모델 설계를 별개로 진행해야 한다.\n",
    "\n",
    "훈련 단계에서는 디코더의 입력부에 정답이 되는 문장 전체를 한꺼번에 넣고 디코더의 출력과 한번에 비교할 수 있으므로, 인코더와 디코더를 엮은 통짜 모델 하나만 준비했다.\n",
    "\n",
    "그러나 정답 문장이 없는 인퍼런스 단계에서는 만들어야 할 문장의 길이만큼 디코더가 반복 구조로 동작해야 하기 때문에 부득이하게 인퍼런스를 위한 모델 설계를 별도로 해주어야 한다. 이때는 인코더 모델과 디코더 모델을 분리해서 설계한다."
   ]
  },
  {
   "cell_type": "code",
   "execution_count": 45,
   "id": "chubby-cylinder",
   "metadata": {
    "ExecuteTime": {
     "end_time": "2021-02-24T19:49:33.708927Z",
     "start_time": "2021-02-24T19:49:33.486572Z"
    }
   },
   "outputs": [],
   "source": [
    "# 인코더 설계\n",
    "encoder_model = Model(inputs=encoder_inputs, outputs=[encoder_outputs, state_h, state_c])\n",
    "\n",
    "# 이전 시점의 상태들을 저장하는 텐서\n",
    "decoder_state_input_h = Input(shape=(hidden_size,))\n",
    "decoder_state_input_c = Input(shape=(hidden_size,))\n",
    "\n",
    "dec_emb2 = dec_emb_layer(decoder_inputs)\n",
    "# 문장의 다음 단어를 예측하기 위해서 초기 상태(initial_state)를 이전 시점의 상태로 사용. 이는 뒤의 함수 decode_sequence()에 구현\n",
    "# 훈련 과정에서와 달리 LSTM의 리턴하는 은닉 상태와 셀 상태인 state_h와 state_c를 버리지 않음.\n",
    "decoder_outputs2, state_h2, state_c2 = decoder_lstm(dec_emb2, initial_state=[decoder_state_input_h, decoder_state_input_c])"
   ]
  },
  {
   "cell_type": "markdown",
   "id": "returning-token",
   "metadata": {
    "ExecuteTime": {
     "end_time": "2021-02-24T17:27:26.569093Z",
     "start_time": "2021-02-24T17:27:26.559107Z"
    }
   },
   "source": [
    "어텐션 메커니즘을 사용하는 출력층을 설계하자."
   ]
  },
  {
   "cell_type": "code",
   "execution_count": 46,
   "id": "plain-march",
   "metadata": {
    "ExecuteTime": {
     "end_time": "2021-02-24T19:49:33.832946Z",
     "start_time": "2021-02-24T19:49:33.710324Z"
    }
   },
   "outputs": [],
   "source": [
    "# 어텐션 함수\n",
    "decoder_hidden_state_input = Input(shape=(text_max_len, hidden_size))\n",
    "attn_out_inf, attn_states_inf = attn_layer([decoder_hidden_state_input, decoder_outputs2])\n",
    "decoder_inf_concat = Concatenate(axis=-1, name='concat')([decoder_outputs2, attn_out_inf])\n",
    "\n",
    "# 디코더의 출력층\n",
    "decoder_outputs2 = decoder_softmax_layer(decoder_inf_concat) \n",
    "\n",
    "# 최종 디코더 모델\n",
    "decoder_model = Model(\n",
    "    [decoder_inputs] + [decoder_hidden_state_input,decoder_state_input_h, decoder_state_input_c],\n",
    "    [decoder_outputs2] + [state_h2, state_c2])"
   ]
  },
  {
   "cell_type": "markdown",
   "id": "continuous-cocktail",
   "metadata": {},
   "source": [
    "인퍼런스 단계에서 단어 시퀀스를 완성하는 함수를 만들자."
   ]
  },
  {
   "cell_type": "code",
   "execution_count": 47,
   "id": "assured-february",
   "metadata": {
    "ExecuteTime": {
     "end_time": "2021-02-24T19:49:33.838814Z",
     "start_time": "2021-02-24T19:49:33.834233Z"
    }
   },
   "outputs": [],
   "source": [
    "def decode_sequence(input_seq):\n",
    "    # 입력으로부터 인코더의 상태를 얻음\n",
    "    e_out, e_h, e_c = encoder_model.predict(input_seq)\n",
    "\n",
    "     # <SOS>에 해당하는 토큰 생성\n",
    "    target_seq = np.zeros((1,1))\n",
    "    target_seq[0, 0] = tar_word_to_index['sostoken']\n",
    "\n",
    "    stop_condition = False\n",
    "    decoded_sentence = ''\n",
    "    while not stop_condition: # stop_condition이 True가 될 때까지 루프 반복\n",
    "\n",
    "        output_tokens, h, c = decoder_model.predict([target_seq] + [e_out, e_h, e_c])\n",
    "        sampled_token_index = np.argmax(output_tokens[0, -1, :])\n",
    "        sampled_token = tar_index_to_word[sampled_token_index]\n",
    "\n",
    "        if(sampled_token!='eostoken'):\n",
    "            decoded_sentence += ' '+sampled_token\n",
    "\n",
    "        #  <eos>에 도달하거나 최대 길이를 넘으면 중단.\n",
    "        if (sampled_token == 'eostoken'  or len(decoded_sentence.split()) >= (summary_max_len-1)):\n",
    "            stop_condition = True\n",
    "\n",
    "        # 길이가 1인 타겟 시퀀스를 업데이트\n",
    "        target_seq = np.zeros((1,1))\n",
    "        target_seq[0, 0] = sampled_token_index\n",
    "\n",
    "        # 상태를 업데이트 합니다.\n",
    "        e_h, e_c = h, c\n",
    "\n",
    "    return decoded_sentence"
   ]
  },
  {
   "cell_type": "markdown",
   "id": "several-potential",
   "metadata": {},
   "source": [
    "#### 모델 테스트하기\n",
    "---\n",
    "테스트 단계에서는 정수 시퀀스를 텍스트 시퀀스로 변환하여 결과를 확인하는 것이 편할 것이다. 주어진 정수 시퀀스를 텍스트 시퀀스로 변환하는 함수를 만들어보자. 함수를 만들 때, Text의 정수 시퀀스에서는 패딩을 위해 사용되는 숫자 0을 제외시키고 Summary의 정수 시퀀스에서는 숫자 0, 시작 토큰의 인덱스, 종료 토큰의 인덱스를 출력에서 제외시키도록 만들것이다."
   ]
  },
  {
   "cell_type": "code",
   "execution_count": 48,
   "id": "front-cookie",
   "metadata": {
    "ExecuteTime": {
     "end_time": "2021-02-24T19:49:33.843113Z",
     "start_time": "2021-02-24T19:49:33.839919Z"
    }
   },
   "outputs": [],
   "source": [
    "# 원문의 정수 시퀀스를 텍스트 시퀀스로 변환\n",
    "def seq2text(input_seq):\n",
    "    temp=''\n",
    "    for i in input_seq:\n",
    "        if(i!=0):\n",
    "            temp = temp + src_index_to_word[i]+' '\n",
    "    return temp\n",
    "\n",
    "# 요약문의 정수 시퀀스를 텍스트 시퀀스로 변환\n",
    "def seq2summary(input_seq):\n",
    "    temp=''\n",
    "    for i in input_seq:\n",
    "        if((i!=0 and i!=tar_word_to_index['sostoken']) and i!=tar_word_to_index['eostoken']):\n",
    "            temp = temp + tar_index_to_word[i] + ' '\n",
    "    return temp"
   ]
  },
  {
   "cell_type": "markdown",
   "id": "functional-world",
   "metadata": {},
   "source": [
    "### Step 4. 실제 결과와 요약문 비교하기 (추상적 요약)\n",
    "---\n",
    "원래의 요약문(headlines 열)과 학습을 통해 얻은 추상적 요약의 결과를 비교해보자."
   ]
  },
  {
   "cell_type": "code",
   "execution_count": 49,
   "id": "irish-roman",
   "metadata": {
    "ExecuteTime": {
     "end_time": "2021-02-24T19:49:47.118320Z",
     "start_time": "2021-02-24T19:49:33.844242Z"
    }
   },
   "outputs": [
    {
     "name": "stdout",
     "output_type": "stream",
     "text": [
      "원문 : government thursday said proposal reconsider decision air india privatisation also said ban direct recruitment air india non operational categories employees total number regular employees air india november approximately august \n",
      "실제 요약 : no proposal to air india privatisation govt \n",
      "예측 요약 :  air india privatisation privatisation of privatisation govt\n",
      "\n",
      "\n",
      "원문 : bengaluru based biotech startup technologies raised million series funding flipkart co founder binny bansal indian angel network individual investors according filings startup already received million remaining amount come tranches founded startup focusses tissue engineering medicine \n",
      "실제 요약 : flipkart co founder backs startup \n",
      "예측 요약 :  bengaluru based startup raises mn from softbank\n",
      "\n",
      "\n",
      "원문 : bangladesh captain shakib al hasan surpassed legendary english cricketer ian become fastest cricketer history test cricket complete double wickets runs shakib achieved feat th test one less long standing record shakib picked combined total five wickets bangladesh windies test \n",
      "실제 요약 : desh captain fastest to wickets runs test double \n",
      "예측 요약 :  shakib fastest to test runs in test cricket fastest test\n",
      "\n",
      "\n",
      "원문 : nine year old girl allegedly gangraped killed along minor brother sunday bihar bodies found bank river search launched return home evening police said parents identified three persons village culprits \n",
      "실제 요약 : yr old girl gangraped killed with minor brother in bihar \n",
      "예측 요약 :  year old girl raped by bihar teacher in bihar\n",
      "\n",
      "\n",
      "원문 : public hospital france drives children mini cars ease fears surgery instead using anti anxiety medication medical staff use remote control steer mini cars carry children operation theatre scheme children aged years based similar programmes us australia \n",
      "실제 요약 : hospital drives kids in mini cars to ease surgery fears \n",
      "예측 요약 :  kids may face testing for safety safety at risk\n",
      "\n",
      "\n",
      "원문 : jack led alibaba affiliate ant financial valuation billion double valuation uber according reports comes ant financial raised around billion investors including us based private equity firm warburg pincus funding made ant financial world largest fintech company according bloomberg \n",
      "실제 요약 : jack ma ant financial valuation now twice more than uber \n",
      "예측 요약 :  jack ma becomes largest startup to raise mn\n",
      "\n",
      "\n",
      "원문 : many nine goals scored fifa world cup far matches remaining number goals scored single edition quadrennial tournament previous record six goals set edition overall goals scored wc history \n",
      "실제 요약 : no fifa wc has witnessed more own goals than edition \n",
      "예측 요약 :  wc win fifa wc final for st time since fifa wc\n",
      "\n",
      "\n",
      "원문 : founders github coding platform acquired microsoft billion times shares microsoft ceo satya nadella according bloomberg stock deal equivalent million shares half would pass github three founders among microsoft co founder bill gates holding would exceed github founders \n",
      "실제 요약 : github founders to own more microsoft stock than ceo nadella \n",
      "예측 요약 :  paytm founder buys amazon as microsoft for microsoft\n",
      "\n",
      "\n",
      "원문 : video surfaced online wherein suspended congress leader mani shankar aiyar seen snatching mike news channel republic tv reporter video starts aiyar apologising using word neech could misinterpreted describe pm narendra modi reporter heard asking aiyar repeatedly would apologise \n",
      "실제 요약 : video mani shankar aiyar tv reporter mike \n",
      "예측 요약 :  cong leader posts video of using anti national tv show\n",
      "\n",
      "\n",
      "원문 : china blacklisted men refusing take part one month long compulsory training country military service reports said authorities banned men allegedly unable adapt army training lifestyle taking government jobs universities men also banned leaving country using high speed trains \n",
      "실제 요약 : china blacklists men for refusing mandatory army training \n",
      "예측 요약 :  china suspends service for men who suspends service\n",
      "\n",
      "\n",
      "원문 : speaking ongoing controversy surrounding kapil sharma comedian chandan prabhakar said kapil emotional person negative articles affect referring spotboye editor vickey lalwani chandan added journalist keeps poking kapil negative articles chandan said kapil someone manipulate things takes things heart \n",
      "실제 요약 : kapil is emotional negative affect him \n",
      "예측 요약 :  kapil sharma is the of the kapil sharma\n",
      "\n",
      "\n",
      "원문 : haryana police wednesday arrested self styled godman krishna nand allegedly sexually assaulting students boarding school run hisar received call student told us krishna nand molesting girls police went school campus nearly dozen victims came forward police said \n",
      "실제 요약 : self styled godman molests students at self run school \n",
      "예측 요약 :  arrested for sexually abusing minor students in haryana\n",
      "\n",
      "\n",
      "원문 : qatar approved new employment law limits foreign domestic staff maximum hours work day first protection foreigners working country law ensures monthly payment wages workers least one day week expected benefit hundreds indians working qatar \n",
      "실제 요약 : new qatar labour law to benefit indian domestic staff \n",
      "예측 요약 :  qatar to allow public to public sector workers\n",
      "\n",
      "\n",
      "원문 : cricket australia ceo james sutherland said banned australian cricketer david warner still make comeback team sutherland comments come david warner claimed resigned fact may never play australia sutherland said banned cricketers would prove australian selectors want back \n",
      "실제 요약 : warner can play for australia again cricket australia ceo \n",
      "예측 요약 :  warner bans david warner in the law\n",
      "\n",
      "\n",
      "원문 : singh bhatia become first sikh inducted us president donald trump security detail bhatia family moved us born punjab ludhiana moved court told change looks job \n",
      "실제 요약 : ludhiana born st sikh in us prez trump security \n",
      "예측 요약 :  becomes st indian to have us white house\n",
      "\n",
      "\n",
      "원문 : nasa revealed planetary system located light years away southern hemisphere constellation similar solar system nasa flying observatory observatory infrared sofia made discovery researchers claim planetary system help study evolution solar system \n",
      "실제 요약 : nearby planetary system similar to ours nasa \n",
      "예측 요약 :  nasa finds water on earth in years\n",
      "\n",
      "\n",
      "원문 : us based startup booster delivers fuel customers parking lots via trucks raised million led conversion capital startup aims eliminate task going fuel stations lets customers schedule fill via app startup reportedly partnered tech giants like facebook trucks refill employees tanks regularly \n",
      "실제 요약 : startup that delivers fuel to parking lots raises mn \n",
      "예측 요약 :  us startup making fuel startup raises million\n",
      "\n",
      "\n",
      "원문 : facebook post sexual harassment faced women facebook coo sheryl sandberg revealed also experienced sexual harassment course job adding lucky harassed anyone worked said old married men offered career advice suggested could share alone late night \n",
      "실제 요약 : fb coo sandberg reveals she was sexually harassed \n",
      "예측 요약 :  sexual harassment is not my job sexual harassment fb\n",
      "\n",
      "\n",
      "원문 : million years ago ancestors world largest mammals walked banks lakes rivers pakistan india according uk natural history museum called four legged goat sized creature evolved tiny hind legs living entirely water developed present day blue whales \n",
      "실제 요약 : of whales walked on four legs on indian \n",
      "예측 요약 :  world largest dinosaur museum was found in india\n",
      "\n",
      "\n",
      "원문 : puerto rican professional baseball catcher benjamin underwent emergency groin surgery hit mph jordan hicks major league baseball match catcher struggled breathe several minutes attended support staff leave mid match ruled least month \n",
      "실제 요약 : player has surgery after being hit in by ball \n",
      "예측 요약 :  baseball player umpire gets stuck in match during match\n",
      "\n",
      "\n",
      "원문 : actress raveena tandon shared picture asha devi mother victim nirbhaya gangrape case supreme court friday upheld delhi high court decision award death penalty four convicts case reacting raveena tweeted support nirbhaya mother \n",
      "실제 요약 : raveena shares pic with nirbhaya mother after sc decision \n",
      "예측 요약 :  nirbhaya mother of rape case against muslim kids raveena\n",
      "\n",
      "\n",
      "원문 : haryana police thursday contributed one day salary towards relief rehabilitation kerala flood victims cheque crore handed chief minister manohar lal khattar director general police bs sandhu officers ranks haryana police contributed towards cause official statement said \n",
      "실제 요약 : haryana police personnel donate day salary for kerala \n"
     ]
    },
    {
     "name": "stdout",
     "output_type": "stream",
     "text": [
      "예측 요약 :  haryana police to give funds for kerala flood victims\n",
      "\n",
      "\n",
      "원문 : turkish president recep tayyip erdo monday said us embarked false path solving political problems negotiations language blackmail threats slamming us sanctioning turkey erdo added us lost credibility engaging trade war world \n",
      "실제 요약 : us on false path of problems through threats turkey \n",
      "예측 요약 :  turkish prez calls for political eu\n",
      "\n",
      "\n",
      "원문 : talking sexually harassed pitch perfect actress rebel wilson revealed male star asked repeatedly stick finger male friends tried film incident added whole thing disgusting told people industry story graphic detail warn individual \n",
      "실제 요약 : male star friends tried to film him harassing me rebel \n",
      "예측 요약 :  was told to do not wear sex abuse accused prof\n",
      "\n",
      "\n",
      "원문 : rti query revealed unknown ordered four month internet shutdown kashmir last year hizbul mujahideen commander burhan wani death rti query sought order state home department forwarded divisional commissioner saying subject matter information sought pertains department also denied ordering shutdown \n",
      "실제 요약 : no one knows who ordered internet shutdown in kashmir rti \n",
      "예측 요약 :  ias officers to get security home for kashmir\n",
      "\n",
      "\n",
      "원문 : justice gita mittal sworn first woman chief justice jammu kashmir high court saturday justice mittal earlier served delhi high court judge years months acting chief justice known child abuse disability gender rights environment cleanliness \n",
      "실제 요약 : jammu kashmir gets its first woman chief justice \n",
      "예측 요약 :  st woman judge karnan gets life term after years\n",
      "\n",
      "\n",
      "원문 : cbi invoked sections unlawful activities act pertaining terror charges accused arrested rationalist narendra dabholkar murder case cbi moved application court obtain day extension file chargesheet according reports far six people arrested connection murder \n",
      "실제 요약 : cbi terror charges in narendra murder case \n",
      "예측 요약 :  cbi to probe into probe in terror probe against probe\n",
      "\n",
      "\n",
      "원문 : according reports television actress mouni roy star ranbir kapoor alia bhatt amitabh bachchan starrer upcoming film brahm stra details character revealed yet film first part fantasy adventure trilogy directed ayan mukerji scheduled release august \n",
      "실제 요약 : mouni roy to star in ranbir alia brahm stra reports \n",
      "예측 요약 :  mouni roy to star in brahm stra report\n",
      "\n",
      "\n",
      "원문 : andhra pradesh chief minister chandrababu naidu thursday conducted house warming ceremony three lakh two bedroom houses built poor government planned build lakh houses village housing development corporation ntr housing scheme houses built underprivileged across gram panchayats \n",
      "실제 요약 : andhra cm conducts house warming ceremony for lakh houses \n",
      "예측 요약 :  andhra cm announces lakh for houses for land\n",
      "\n",
      "\n",
      "원문 : three cisf personnel saved man life giving suffered cardiac arrest collapsed floor mumbai airport friday man collapsed near security clearance area airport man later shifted mumbai hospital \n",
      "실제 요약 : cisf personnel gives man at mumbai airport saves his life \n",
      "예측 요약 :  man who saved man from falling from falling off bridge in\n",
      "\n",
      "\n",
      "원문 : actor salman khan took twitter share video captioned reminds michael jackson concert carried arpita shoulders entire show video child seen sitting shoulders parent older sibling watch salman performance concert london \n",
      "실제 요약 : remember carrying at mj concert in salman \n",
      "예측 요약 :  salman shares video of his twins\n",
      "\n",
      "\n",
      "원문 : least two people died partial collapse amazon warehouse caused severe weather us officials said foot wall warehouse collapsed storm moved area safety employees contractors top priority time building remains closed amazon official said \n",
      "실제 요약 : two dead in collapse of amazon warehouse in us \n",
      "예측 요약 :  dead as heavy rains cause workers in delhi\n",
      "\n",
      "\n",
      "원문 : giant mushroom weighing eight kg metres found china southwestern province officials said half covered leaves half air officials added mushroom biggest ever discovered region however deemed edible \n",
      "실제 요약 : giant weighing kg discovered in china \n",
      "예측 요약 :  kg of diamond found in india\n",
      "\n",
      "\n",
      "원문 : singer diljit dosanjh responding questions fans regarding reaction reality tv star entrepreneur kylie jenner rumoured pregnancy tweeted lyrics song diljit earlier said loves kylie much replying another fan question wrote main mai \n",
      "실제 요약 : diljit reacts to kylie rumoured pregnancy with his song \n",
      "예측 요약 :  diljit dosanjh slams diljit dosanjh for diljit dosanjh\n",
      "\n",
      "\n",
      "원문 : un survey revealed singapore country world followed us malaysia oman estonia india ranked rd survey one place ahead germany rankings based countries legal technical organisational institutions educational research capabilities cooperation information sharing networks \n",
      "실제 요약 : singapore world most country india ranked \n",
      "예측 요약 :  un tops world most powerful nations\n",
      "\n",
      "\n",
      "원문 : supreme court wednesday ruled aadhaar needed mobile connections bank accounts existing new aadhaar also compulsory school admissions ugc neet cbse examinations apex court said adding private institutions cannot demand aadhaar customers however aadhaar pan linkage mandatory needed filing income tax returns ruled \n",
      "실제 요약 : which services do not require aadhaar after supreme court verdict \n",
      "예측 요약 :  aadhaar linking aadhaar linking to mobile phones sc\n",
      "\n",
      "\n",
      "원문 : indian captain virat kohli dismissed nervous second time test career falling short rd ton three runs third test england saturday kohli last registered score december scoring nd innings south africa wanderers \n",
      "실제 요약 : kohli out in nervous for only nd time in test career \n",
      "예측 요약 :  kohli breaks out of his th century in test innings\n",
      "\n",
      "\n",
      "원문 : renowned indian author bond said india become much cleaner following swachh bharat mission problem however people return old habits would take time change bond added addressing audience jharkhand ranchi bond said amazed see cleanliness city \n",
      "실제 요약 : india much cleaner after swachh bharat mission bond \n",
      "예측 요약 :  india has become human rights but not mission\n",
      "\n",
      "\n",
      "원문 : france based tuesday successfully launched gsat heaviest satellite built isro port french weighing kg gsat boost broadband speeds provide capacity meet growing demands internet connectivity said isro satellite mission life years placed geostationary orbit \n",
      "실제 요약 : isro heaviest satellite launched will increase internet speed \n",
      "예측 요약 :  france launches satellite to satellite in space\n",
      "\n",
      "\n",
      "원문 : chief britain military research centre gary said experts unable prove novichok type nerve agent used poison former spy sergei skripal came russia however added establishing origin required inputs russia repeatedly denied involvement nerve agent attack \n",
      "실제 요약 : unable to prove russia made nerve agent used on spy uk \n",
      "예측 요약 :  russia led to poison in russia\n",
      "\n",
      "\n",
      "원문 : european space agency shared view pyramids captured satellite earlier year launched isro pslv rocket october belgian satellite recently became agency longest serving earth observing mission followed sun monitoring vegetation tracking \n",
      "실제 요약 : isro launched european satellite spots from space \n",
      "예측 요약 :  astronaut to launch satellite in space\n",
      "\n",
      "\n",
      "원문 : hotel united states miami house grocery guru guests avoid making unhealthy choices prepare well balanced meals minute grocery guru experience costs conducted registered hotel also conducts fitness classes per week features several swimming pools rock climbing wall \n",
      "실제 요약 : hotel has grocery guru to help guests eat \n",
      "예측 요약 :  hotel free service to offer free meals to customers\n",
      "\n",
      "\n",
      "원문 : indian batsman rohit sharma took instagram troll teammate shardul thakur jersey number rohit posted picture thakur busy talking someone dining table wrote hey bro jersey number thakur made debut fourth odi sri lanka slammed choosing sachin tendulkar jersey number \n",
      "실제 요약 : rohit sharma trolls thakur over his jersey number \n",
      "예측 요약 :  rohit sharma posts photo of malinga on instagram account\n",
      "\n",
      "\n",
      "원문 : china based messaging app wechat tuesday denied storing users chat accused monitoring user accounts message history stored users mobiles computers terminals wechat wrote post came automobile holdings chairman li fu said tencent chairman huateng must watching every day \n",
      "실제 요약 : china denies users chat history \n",
      "예측 요약 :  china denies sharing app that lets users beat user\n",
      "\n",
      "\n",
      "원문 : icj delivering sentence kulbhushan jadhav case rejected pakistan argument asserted jurisdiction case pakistan argued consular access india pakistan solely decided basis bilateral agreement court ruled nations vienna convention rights provide consular assistance nationals \n",
      "실제 요약 : icj rejects pak argument says it has \n",
      "예측 요약 :  pakistan rejects pakistan claim of jadhav\n",
      "\n",
      "\n",
      "원문 : class student bihar got maths got paper updated results announced another student sanskrit marks increased another one got marks upgraded state board got papers failed year \n",
      "실제 요약 : bihar class student marks up from to after \n"
     ]
    },
    {
     "name": "stdout",
     "output_type": "stream",
     "text": [
      "예측 요약 :  bihar girl gets record for paper paper in days\n",
      "\n",
      "\n",
      "원문 : ajit jogi first cm chhattisgarh said team bjp would contest assembly elections incumbent cm raman singh rajnandgaon constituency jogi earlier member congress broke away form party chhattisgarh janata congress called congress irrelevant saying closed chapter \n",
      "실제 요약 : am not team of bjp in chhattisgarh elections ajit \n",
      "예측 요약 :  chhattisgarh cm vajpayee will contest polls in assembly polls\n",
      "\n",
      "\n",
      "원문 : us national security advisor john bolton said north korea send dismantled nuclear weapons us lab sanctions eased regime sanctions imposed response north korea nuclear ballistic missiles programme north korea said dismantle nuclear test site ceremony may \n",
      "실제 요약 : send nukes to us for sanctions us to korea \n",
      "예측 요약 :  korea will korean nuke program us\n",
      "\n",
      "\n",
      "원문 : television actress saumya tandon reportedly planning quit television serial bhabi ji ghar par hai focus projects shilpa shinde earlier played bhabhi show claimed saumya taken sexual harassment allegations producer kohli husband sanjay seriously shilpa added saumya said one rapes industry \n",
      "실제 요약 : tandon to quit bhabi ji ghar par hai serial report \n",
      "예측 요약 :  tv actress sues brad over harassment claims\n",
      "\n",
      "\n",
      "원문 : russian model jumped th floor dubai hotel escape rape refused sex us businessman model survived fall broke spine businessman threatened knife forced detained airport trying flee country \n",
      "실제 요약 : russian model jumps off th floor to escape rape survives \n",
      "예측 요약 :  russian actor weighing kg of sexual assault\n",
      "\n",
      "\n"
     ]
    }
   ],
   "source": [
    "for i in range(50, 100):\n",
    "    print(\"원문 :\", seq2text(encoder_input_test[i]))\n",
    "    print(\"실제 요약 :\", seq2summary(decoder_input_test[i]))\n",
    "    print(\"예측 요약 :\", decode_sequence(encoder_input_test[i].reshape(1, text_max_len)))\n",
    "    print(\"\\n\")"
   ]
  },
  {
   "cell_type": "markdown",
   "id": "suitable-newman",
   "metadata": {},
   "source": [
    "많은 결과가 출력이 되는데, 기존의 요약과는 다른 요약을 출력하면서도 원문의 내용을 담고 있는 의미있는 요약들이 보인다. 심지어 일부 요약의 경우에는 원문에 없던 단어를 사용해서 요약을 하기도 하고 있다. 워드 임베딩과 RNN의 콜라보로 이뤄낸 신기한 성과인 것이다.\n",
    "\n",
    "물론 슬프게도 그다지 좋지 않은 요약의 예도 꽤나 보인다 . 성능을 개선하기 위해서는 seq2seq와 어텐션의 자체의 조합을 좀 더 좋게 수정하는 방법도 있고, 빔 서치(beam search), 사전 훈련된 워드 임베딩(pre-trained word embedding), 또는 인코더 - 디코더 자체의 구조를 새로이 변경한 하는 트랜스포머(Transformer)와 같은 여러 개선 방안들이 존재한다."
   ]
  },
  {
   "cell_type": "markdown",
   "id": "lesbian-crisis",
   "metadata": {},
   "source": [
    "### Step 5. Summa을 이용해서 추출적 요약해보기\n",
    "---\n",
    "추상적 요약은 추출적 요약과는 달리 문장의 표현력을 다양하게 가져갈 수 있지만, 추출적 요약에 비해서 난이도가 높다. 반대로 말하면 추출적 요약은 추상적 요약에 비해 난이도가 낮고 기존 문장에서 문장을 꺼내오는 것이므로 잘못된 요약이 나올 가능성이 낮다.\n",
    "\n",
    "Summa의 summarize를 사용하여 추출적 요약을 해보자."
   ]
  },
  {
   "cell_type": "markdown",
   "id": "hungry-british",
   "metadata": {},
   "source": [
    "#### 패키지 설치\n",
    "---\n",
    "먼저 필요한 패키지를 아래와 같이 설치하자.\n",
    "\n",
    "```bash\n",
    "$ pip install summa\n",
    "```"
   ]
  },
  {
   "cell_type": "markdown",
   "id": "blond-respect",
   "metadata": {},
   "source": [
    "#### 데이터 다운로드하기\n",
    "---"
   ]
  },
  {
   "cell_type": "code",
   "execution_count": 50,
   "id": "great-culture",
   "metadata": {
    "ExecuteTime": {
     "end_time": "2021-02-24T19:49:47.125458Z",
     "start_time": "2021-02-24T19:49:47.119377Z"
    }
   },
   "outputs": [],
   "source": [
    "import requests\n",
    "from summa.summarizer import summarize"
   ]
  },
  {
   "cell_type": "markdown",
   "id": "acceptable-export",
   "metadata": {},
   "source": [
    "전처리 하지 않은 `data2`를 준비한다. `data2`는 `Text` 칼럼만 사용한다."
   ]
  },
  {
   "cell_type": "code",
   "execution_count": 51,
   "id": "proud-aerospace",
   "metadata": {
    "ExecuteTime": {
     "end_time": "2021-02-24T19:49:47.134194Z",
     "start_time": "2021-02-24T19:49:47.126444Z"
    }
   },
   "outputs": [
    {
     "data": {
      "text/plain": [
       "0    Saurav Kant, an alumnus of upGrad and IIIT-B's...\n",
       "1    Kunal Shah's credit card bill payment platform...\n",
       "2    New Zealand defeated India by 8 wickets in the...\n",
       "3    With Aegon Life iTerm Insurance plan, customer...\n",
       "4    Speaking about the sexual harassment allegatio...\n",
       "Name: Text, dtype: object"
      ]
     },
     "execution_count": 51,
     "metadata": {},
     "output_type": "execute_result"
    }
   ],
   "source": [
    "data2.head()"
   ]
  },
  {
   "cell_type": "markdown",
   "id": "domestic-metro",
   "metadata": {},
   "source": [
    "`data2`에는 매트릭스 시놉시스가 문자열로 저장되어져 있다. 출력 결과가 아주 길기 때문에 일부만 출력해보고, 잘 저장이 되었는지 확인해보자."
   ]
  },
  {
   "cell_type": "code",
   "execution_count": 52,
   "id": "industrial-shower",
   "metadata": {
    "ExecuteTime": {
     "end_time": "2021-02-24T19:49:47.137323Z",
     "start_time": "2021-02-24T19:49:47.135253Z"
    }
   },
   "outputs": [
    {
     "name": "stdout",
     "output_type": "stream",
     "text": [
      "New Zealand defeated India by 8 wickets in the fourth ODI at Hamilton on Thursday to win their first match of the five-match ODI series. India lost an international match under Rohit Sharma's captaincy after 12 consecutive victories dating back to March 2018. The match witnessed India getting all out for 92, their seventh lowest total in ODI cricket history.\n"
     ]
    }
   ],
   "source": [
    "print(data2[2])"
   ]
  },
  {
   "cell_type": "markdown",
   "id": "proud-catalog",
   "metadata": {},
   "source": [
    "#### summarize 사용하기\n",
    "---\n",
    "Summa의 `summarize()`의 인자로 사용되는 값들에 대해서 알아보자.\n",
    "\n",
    "* __text (str)__ : 요약할 테스트.\n",
    "* __ratio (float, optional)__ – 요약문에서 원본에서 선택되는 문장 비율. 0~1 사이값\n",
    "* __words (int or None, optional)__ – 출력에 포함할 단어 수.\n",
    "* 만약, ratio와 함께 두 파라미터가 모두 제공되는 경우 ratio는 무시한다.\n",
    "* __split (bool, optional)__ – True면 문장 list / False는 조인(join)된 문자열을 반환\n",
    "\n",
    "Summa의 summarize는 문장 토큰화를 별도로 하지 않더라도 내부적으로 문장 토큰화를 수행한다. 그렇기 때문에 문장 구분이 되어있지 않은 원문을 바로 입력으로 넣을 수 있다. 10, 20, 30, 40, 50 개의 단어수 순으로 출력해보자."
   ]
  },
  {
   "cell_type": "code",
   "execution_count": 53,
   "id": "danish-thread",
   "metadata": {
    "ExecuteTime": {
     "end_time": "2021-02-24T19:49:47.143263Z",
     "start_time": "2021-02-24T19:49:47.138597Z"
    }
   },
   "outputs": [
    {
     "name": "stdout",
     "output_type": "stream",
     "text": [
      "Summary:\n",
      "\n"
     ]
    }
   ],
   "source": [
    "print('Summary:')\n",
    "print(summarize(data2[1], words=10))"
   ]
  },
  {
   "cell_type": "code",
   "execution_count": 54,
   "id": "developing-estate",
   "metadata": {
    "ExecuteTime": {
     "end_time": "2021-02-24T19:49:47.148982Z",
     "start_time": "2021-02-24T19:49:47.144465Z"
    }
   },
   "outputs": [
    {
     "name": "stdout",
     "output_type": "stream",
     "text": [
      "Summary:\n",
      "Users get one CRED coin per rupee of bill paid, which can be used to avail rewards from brands like Ixigo, BookMyShow, UberEats, Cult.Fit and more.\n"
     ]
    }
   ],
   "source": [
    "print('Summary:')\n",
    "print(summarize(data2[1], words=20))"
   ]
  },
  {
   "cell_type": "code",
   "execution_count": 55,
   "id": "primary-demand",
   "metadata": {
    "ExecuteTime": {
     "end_time": "2021-02-24T19:49:47.154473Z",
     "start_time": "2021-02-24T19:49:47.150346Z"
    }
   },
   "outputs": [
    {
     "name": "stdout",
     "output_type": "stream",
     "text": [
      "Summary:\n",
      "Users get one CRED coin per rupee of bill paid, which can be used to avail rewards from brands like Ixigo, BookMyShow, UberEats, Cult.Fit and more.\n"
     ]
    }
   ],
   "source": [
    "print('Summary:')\n",
    "print(summarize(data2[1], words=30))"
   ]
  },
  {
   "cell_type": "code",
   "execution_count": 56,
   "id": "individual-major",
   "metadata": {
    "ExecuteTime": {
     "end_time": "2021-02-24T19:49:47.159815Z",
     "start_time": "2021-02-24T19:49:47.155846Z"
    }
   },
   "outputs": [
    {
     "name": "stdout",
     "output_type": "stream",
     "text": [
      "Summary:\n",
      "Pranav Kaushik, a Delhi techie, bagged this reward after spending 2000 CRED coins.\n",
      "Users get one CRED coin per rupee of bill paid, which can be used to avail rewards from brands like Ixigo, BookMyShow, UberEats, Cult.Fit and more.\n"
     ]
    }
   ],
   "source": [
    "print('Summary:')\n",
    "print(summarize(data2[1], words=40))"
   ]
  },
  {
   "cell_type": "code",
   "execution_count": 57,
   "id": "traditional-flour",
   "metadata": {
    "ExecuteTime": {
     "end_time": "2021-02-24T19:49:47.164846Z",
     "start_time": "2021-02-24T19:49:47.160926Z"
    }
   },
   "outputs": [
    {
     "name": "stdout",
     "output_type": "stream",
     "text": [
      "Summary:\n",
      "Kunal Shah's credit card bill payment platform, CRED, gave users a chance to win free food from Swiggy for one year.\n",
      "Pranav Kaushik, a Delhi techie, bagged this reward after spending 2000 CRED coins.\n",
      "Users get one CRED coin per rupee of bill paid, which can be used to avail rewards from brands like Ixigo, BookMyShow, UberEats, Cult.Fit and more.\n"
     ]
    }
   ],
   "source": [
    "print('Summary:')\n",
    "print(summarize(data2[1], words=50))"
   ]
  },
  {
   "cell_type": "markdown",
   "id": "occasional-artist",
   "metadata": {},
   "source": [
    "* 10개는 출력되지 않았고,\n",
    "* 20, 30개가 요약문으로는 적당해보인다.\n",
    "* 40, 50개는 요약으로는 좀 길다.\n",
    "\n",
    "따라서 출력 단어수를 25개로 정했다."
   ]
  },
  {
   "cell_type": "markdown",
   "id": "sporting-algorithm",
   "metadata": {},
   "source": [
    "#### words=25개로 추출적 요약하기.\n",
    "---"
   ]
  },
  {
   "cell_type": "code",
   "execution_count": 58,
   "id": "dominican-pearl",
   "metadata": {
    "ExecuteTime": {
     "end_time": "2021-02-25T09:09:26.188778Z",
     "start_time": "2021-02-25T09:09:26.055276Z"
    }
   },
   "outputs": [
    {
     "name": "stdout",
     "output_type": "stream",
     "text": [
      "Summary:\n",
      "Prime Minister Narendra Modi said during his radio programme 'Mann ki Baat' that GST has transformed the economy, adding that it ushers in a new culture.\n",
      "Summary:\n",
      "The picture was originally shared on CRPF's official Twitter account, with the caption 'Brothers-in-arms for peace'.\n",
      "Summary:\n",
      "She said that in \"some of the developed countries like the US, marijuana has been legalised, which ultimately results in less drug abuse\".\n",
      "Summary:\n",
      "Inspection of the iPhone showed remnants of internal shorting, states the lawsuit.\n",
      "Summary:\n",
      "A newly-launched journal named 'The California Review of Images and Mark Zuckerberg' has offered about Ã¢ÂÂ¹20,000 to authors to analyse and write essays on specific photos of Facebook CEO Mark Zuckerberg.\n",
      "Summary:\n",
      "Chinese bike-sharing startup Ofo has been sued for Ã¢ÂÂ¹8.3 crore after an 11-year-old boy died in an accident while riding its bike.\n",
      "Summary:\n",
      "Designer Anita Dongre paid a tribute to Rajasthan's Bishnoi community through her collection 'Tree of Love' at India Couture Week.\n",
      "Summary:\n",
      "Zuckerberg was the biggest gainer in the group, with a $23.4 billion boost to his net worth.\n",
      "Summary:\n",
      "\"If Martin Shkreli wanted to defraud these people, why didn't he defraud them?\" Shkreli's lawyer argued.\n",
      "Summary:\n",
      "The telecom operator further said that it will also launch a slightly expensive handset as a counter to the JioPhone.\n",
      "Summary:\n",
      "Notably, the April-March financial year was adopted in 1867 to align with British government.\n",
      "Summary:\n",
      "According to a study by the Centre for Advanced Facial Cosmetic and Plastic Surgery, One Direction singer Harry Styles has the world's most handsome eyes and chin.\n",
      "Summary:\n",
      "Music composer-singer Pritam has said 'Jagga Jasoos' took time as it was a complicated project.\n",
      "Summary:\n",
      "Actor Anil Kapoor has said that Amitabh Bachchan, who took a five-year-long break after his 1992 film 'Khuda Gawah', had advised him never to commit the mistake of taking a break from films.\n",
      "Summary:\n",
      "As per reports, the male lead in the film will be a newcomer.\n",
      "Summary:\n",
      "Amy's collection included ethnic Indian saris, fusion lehengas and drape gowns featuring floral embroidery and sequins.\n",
      "Summary:\n",
      "Actor Emraan Hashmi, whose film 'Once Upon a Time in Mumbaai' completed seven years on Sunday, said that people had never imagined him in this kind of cinema, considering the serial-kisser tag he had.\n",
      "Summary:\n",
      "Two people lost their lives in a stampede at South Africa's FNB Stadium during a football match on Saturday.\n",
      "Summary:\n",
      "The Oval, which is hosting its 100th Test match, once had an elephant brought onto the grounds on the day Ganesh Chaturthi was being celebrated during India's 1971 tour of England.\n",
      "Summary:\n",
      "Swiss tennis star Roger Federer has named his eighth Wimbledon trophy as 'Arthur', revealing it through a Twitter post.\n",
      "Summary:\n",
      "US-based company eXclaim has developed thermal sleeves called 'Phoozy' priced at about Ã¢ÂÂ¹2,000 to protect phones from heating up in the sun.\n",
      "Summary:\n",
      "South Korean technology giant Samsung has recently been awarded a patent for a banana-shaped device described as \"an ornamental design for a display device.\" Reports suggest that the device could be used as a phone.\n",
      "Summary:\n",
      "A new study claims that the practice of blowing out candles on a birthday cake increases bacteria on the cake's icing by 14 times.\n",
      "Summary:\n",
      "Ã¢ÂÂWe had probably the most unique statistical anomaly in my 50 years of doing this,Ã¢ÂÂ Wynn stated.\n",
      "Summary:\n",
      "More than 22,000 people were evacuated on Saturday after a fire broke out on one of the stages at Tomorrowland Unite music festival in Barcelona, Spain.\n",
      "Summary:\n",
      "USA's Caeleb Dressel won three gold medals within 90 minutes at the World Aquatics Championships on Saturday, to become the world's first swimmer to ace three events on a single night at a world meet.\n",
      "Summary:\n",
      "A Panamanian ship carrying 1,500 kg of heroin valued at Ã¢ÂÂ¹3,500 crore was seized off Gujarat coast today, in a joint operation by the coast guard and the Intelligence Bureau (IB).\n",
      "Summary:\n",
      "The US flew two B-1B bombers over the Korean peninsula in a show of force as a response to North Korea's recent and second intercontinental ballistic missile (ICBM) test.\n",
      "Summary:\n",
      "A gynaecologist in US was preparing to give birth to her own baby in the hospital when she heard that another expectant mother was also close to giving birth.\n",
      "Summary:\n",
      "State-owned telecom operator BSNL was hit by a malware attack earlier this week that affected nearly 2,000 BSNL broadband modems and changed the default system password.\n",
      "Summary:\n",
      "India exported 1.56 million tonnes of beef in 2016, and is expected to export 1.93 tonnes in 2026, accounting for 16% of total exports.\n",
      "Summary:\n",
      "England's Geoff Hurst, who is the only player in football history to score a hat-trick in the FIFA World Cup final, also played first-class cricket.\n",
      "Summary:\n",
      "Earlier, CAG highlighted the unhygienic condition of blankets, which weren't washed for even six months.\n",
      "Summary:\n",
      "India tripled its milk production in the first quarter of the 21st century and is expected to become the world's biggest milk-producing nation, according to an OECD-FAO report.\n",
      "Summary:\n",
      "\"Carry home-cooked food as quality-wise there is no alternative of such food,\" he said.\n",
      "Summary:\n",
      "According to reports, Snapdeal's largest investor SoftBank has threatened to walk out on the Snapdeal-Flipkart merger if all the minority shareholders do not vote in favour of the deal.\n",
      "Summary:\n",
      "The single e-Pedal will let drivers come to a complete stop even on hills, stay in position, and resume driving instantly.\n",
      "Summary:\n",
      "A picture of a man carrying a stuffed peacock on a train in New York has gone viral.\n",
      "Summary:\n",
      "The website checks if the visitor headbangs continuously and gives headbang count and artwork at the end.\n",
      "Summary:\n",
      "Capita has said participants were made fully aware that free training is provided to only those who successfully complete the course.\n",
      "Summary:\n",
      "Nearly 18 lakh people invested Ã¢ÂÂ¹3,273 crore in these firms.\n",
      "Summary:\n",
      "Actor Rana Daggubati has confirmed that he has signed his first international project with The London Digital Movie & TV Studios.\n",
      "Summary:\n",
      "Kajol, while speaking about Shah Rukh Khan being paired with younger actresses, said it takes someone as special as him to be able to sell as king of romance.\n",
      "Summary:\n",
      "Actress Anushka Sharma has said the film industry breathes on insecurities and everyone tries to benefit from the insecurities of an actor.\n",
      "Summary:\n",
      "The Pakistan Cricket Board has demanded an apology from Afghanistan for the latter's response post the Kabul bomb blast in May, which killed 80 and injured over 500 people.\n",
      "Summary:\n",
      "Following all-rounder Hardik Pandya's Test debut against Sri Lanka, captain Virat Kohli said, \"If he grows in confidence, you see someone like Ben Stokes, what he does for England.\n",
      "Summary:\n",
      "Indian women's cricket team pacer Jhulan Goswami has said she has no time for a romantic relationship.\n",
      "Summary:\n",
      "In response to calls for ending Facebook-owned WhatsApp's end-to-end encryption, Facebook COO Sheryl Sandberg has said that it would be difficult to track terrorists if governments get access to the messages.\n",
      "Summary:\n",
      "Gurugram-based hotel booking marketplace OYO Rooms reduced its losses for the financial year ended March 2017 to Ã¢ÂÂ¹325 crore from Ã¢ÂÂ¹496 crore in the previous year, as per its earnings report.\n",
      "Summary:\n",
      "A new study has found the rule that patients must complete the course of their prescribed antibiotics is false instead they should stop taking the drugs when they feel better.\n",
      "Summary:\n",
      "Tata Motors Chairman N Chandrasekaran has said turning around the company's domestic business is \"the need of the hour\".\n",
      "Summary:\n",
      "Named Sprites, the 3.5cmx3.5cm space probes weigh 4 grams each and run on sunlight.\n",
      "Summary:\n",
      "Madhya Pradesh Agriculture Minister Gauri Shankar Bisen said on Saturday that water shortage is not a matter of concern, referring to the droughts in the state.\n",
      "Summary:\n",
      "Bihar CM Nitish Kumar reportedly called Lalu and asked for his forgiveness before breaking the Grand Alliance few days back.\n",
      "Summary:\n",
      "More than 120 people have been killed due to heavy flooding triggered by continuous monsoon rains in recent weeks in Gujarat, according to reports.\n",
      "Summary:\n",
      "The Railways has decided to stop providing blankets in the AC compartments in trains, after the Comptroller and Auditor General (CAG) pointed out the bad condition of the bedding.\n",
      "Summary:\n",
      "The new Bihar Cabinet, with 14 JD(U), 11 BJP ministers, and 1 LJP minister, took oath on Saturday, with CM Nitish Kumar keeping the Home and Personnel, and Department of Monitoring portfolios.\n",
      "Summary:\n",
      "Union Minister Jitendra Singh on Saturday said the tricolour flag is sacrosanct and will fly as high in J&K as any other state in the country.\n",
      "Summary:\n",
      "Actor Tiger Shroff has said he's an overprotective brother and is the kind of person who wants to wrap his sister in a blanket.\n",
      "Summary:\n",
      "Actor Rana Daggubati, while speaking about Hyderabad drug racket case, has said he isn't bothered about actors taking drugs as they're adults, but he's worried about school children taking drugs.\n",
      "Summary:\n",
      "A man was allegedly shot dead by four persons in an apparent case of road rage on Gurugram's Jharsa Road, police said.\n",
      "Summary:\n",
      "The picture, captioned, \"Victory tastes as good when we play FIFA #PostMatchFifaSessions #Mates,\" includes Shikhar Dhawan, Cheteshwar Pujara, KL Rahul and Wriddhiman Saha.\n",
      "Summary:\n",
      "Indian Air Force officers violated regulations by claiming allowances after visiting foreign countries, causing a loss of more than Ã¢ÂÂ¹82 lakh,  the Comptroller and Auditor General reported.\n",
      "Summary:\n",
      "BJP MLA Ashish Shelar has sought a probe into the purchase of eight Penguins by the Brihanmumbai Municipal Corporation (BMC) for Mumbai's Byculla Zoo. Shelar sought to know if the Penguins, brought from abroad, were bacteria infected.\n",
      "Summary:\n",
      "The accused, identified as Ashwini Naath alias Aashu, told the police that he and the other accused had a heated argument with Sharma after which they attacked him.\n",
      "Summary:\n",
      "The husband of former Doordarshan anchor Kanchan met CM Devendra Fadnavis, alleging that inaction by the BMC led to his wife's death after a tree fell on her.\n",
      "Summary:\n",
      "\n",
      "Summary:\n",
      "Pakistan Cricket Board has reserved over Ã¢ÂÂ¹60 crore to bear the legal costs of filing compensation claim against the BCCI in the ICC disputes resolution committee.\n",
      "Summary:\n",
      "She said that the students volunteered to wash it as it was 'guru seva' (service of the teachers).\n",
      "Summary:\n",
      "Barcelona beat La Liga champions Real Madrid 3-2 in the El ClÃÂ¡sico Miami on Saturday, with Lionel Messi being among the scorers while Cristiano Ronaldo missed the match.\n",
      "Summary:\n",
      "Between 2012 and 2017, 523 cases of wetland destruction were reported in Maharashtra, according to a report by Mumbai-based NGO Vanashakti.\n",
      "Summary:\n",
      "The Khap Panchayat in Uttar Pradesh's Shamli has banned boys of the Jat community from wearing shorts, to \"rejuvenate their culture\".\n",
      "Summary:\n",
      "The Delhi Metro has secured platinum rating from the Indian Green Building Council for adherence to green building norms in its 10 residential colonies, making it the only completely 'green' Metro system in the world.\n",
      "Summary:\n",
      "Brazilian footballer Alan Ruschel, who survived a plane crash that killed 71 people last November, will return to the game for Brazilian club Chapecoense against Barcelona in a friendly in August.\n",
      "Summary:\n",
      "Italian club Inter Milan's French midfielder Geoffrey Kondogbia scored an own goal from near the halfway line in a pre-season friendly against Chelsea in the International Champions Cup on Saturday.\n",
      "Summary:\n",
      "Over 12 lakh businesses have applied for fresh registration under the Goods and Services Tax (GST) regime, Revenue Secretary Hasmukh Adhia said.\n",
      "Summary:\n",
      "Over 45,000 tent vendors from the Rajasthan Tent Dealers Kiraya Vyavsai Samiti have reportedly refused to supply to weddings without verifying the birth certificates of the bride and groom, to protest the custom of child marriage.\n",
      "Summary:\n",
      "Other factors like participating in bottle opening, smelling the wine or hearing the cork pop will also be analysed.\n",
      "Summary:\n",
      "Ex-Indian External Affairs Minister Shashi Tharoor participated in a television debate on Al Jazeera with ex-Pakistani Foreign Minister Hina Khar over India-Pakistan relations.\n",
      "Summary:\n",
      "Volkswagen, which was the worldÃ¢ÂÂs biggest carmaker in 2016 despite its diesel scandal, sold 5,155,600 during the period.\n",
      "Summary:\n",
      "Over 20 people have been arrested by Turkish security forces for wearing a white T-shirt with the word 'HERO' written on it in block letters.\n",
      "Summary:\n",
      "State workers in Venezuela are receiving frequent phone calls, pressure from bosses and threats of dismissal to ensure that they vote in favour of President Nicolas Maduro's new Congress on Sunday.\n",
      "Summary:\n",
      "The makeup artist has accused Kim of copying her brand and the KW logo and has demanded the profits from the beauty collection.\n",
      "Summary:\n",
      "Of these, one incident led to a construction worker's death after a tonne of wet concrete was poured onto him.\n",
      "Summary:\n",
      "The insurer had booked profits of Ã¢ÂÂ¹2,489 crore in the same quarter of the previous fiscal.\n",
      "Summary:\n",
      "Television actress Divyanka Tripathi has said if people think TV actors cannot endorse a popular brand, she would consider it backward thinking.\n",
      "Summary:\n",
      "Television actress Narayani Shastri has said that if audiences saw Sridevi's 'Nagina' several times when it released, then what is the problem with such shows on television.\n",
      "Summary:\n",
      "Aamir added that he will also donate funds for the flood victims.\n",
      "Summary:\n",
      "Actress Shamita Shetty has said that she doesn't mind getting married even at the age of 40 or 50.\n",
      "Summary:\n",
      "Congress Vice-President Rahul Gandhi on Saturday said that Chhattisgarh CM Raman Singh and his family's name is involved in Panama Papers, but no action has been taken against them.\n",
      "Summary:\n",
      "The driver and a passenger survived the crash and fled from the scene.\n",
      "Summary:\n",
      "Notably, Delhi government had promised promotion of languages in its budget.\n",
      "Summary:\n",
      "A 42-year-old auto rickshaw driver in Delhi was arrested by the police on Friday for allegedly possessing counterfeit notes in the denomination of Ã¢ÂÂ¹2,000.\n",
      "Summary:\n",
      "The student also mentioned the personnel made remarks like he would be \"sent to Pakistan\".\n",
      "Summary:\n",
      "A 57-year-old man who retired from the Indian Navy as a storekeeper around nine years ago allegedly committed suicide on Friday by jumping into the Yamuna river from the Delhi Noida Direct (DND) Flyway.\n",
      "Summary:\n",
      "By doing this (challenging Article 35-A), you are not targeting the separatists,\" Mufti said.\n",
      "Summary:\n",
      "A 19-year-old Mumbai girl was assaulted on Wednesday by her employer after she demanded her salary.\n",
      "Summary:\n",
      "\"People gave their verdict...for good governance.\n",
      "Summary:\n",
      "A 36-year-old woman and her teenage daughter fell ill after they accidentally cooked and ate a baby snake along with cabbage in Indore, Madhya Pradesh.\n",
      "Summary:\n",
      "India captain Virat Kohli has said he is not affected by people's opinions on his lack of form.\n"
     ]
    }
   ],
   "source": [
    "for i in range(78000, 78100):\n",
    "    print('Summary:')\n",
    "    print(summarize(data2[i], words=20))"
   ]
  },
  {
   "cell_type": "markdown",
   "id": "congressional-barrier",
   "metadata": {},
   "source": [
    "### Step 6. 추상적 요약과 추출적 요약 비교\n",
    "---\n",
    "추상적 요약은 전저치 과정을 거쳤기 때문에 추출적 요약 인덱스와 다르다. 그래서 핵심단어로 같은 인덱스를 찾아야 한다."
   ]
  },
  {
   "cell_type": "code",
   "execution_count": 105,
   "id": "wicked-membrane",
   "metadata": {
    "ExecuteTime": {
     "end_time": "2021-02-25T09:44:15.731054Z",
     "start_time": "2021-02-25T09:44:15.465284Z"
    }
   },
   "outputs": [
    {
     "data": {
      "text/plain": [
       "' twinkle khanna was still my career twinkle'"
      ]
     },
     "execution_count": 105,
     "metadata": {},
     "output_type": "execute_result"
    }
   ],
   "source": [
    "decode_sequence(encoder_input_test[1].reshape(1, text_max_len))"
   ]
  },
  {
   "cell_type": "code",
   "execution_count": 106,
   "id": "beautiful-reason",
   "metadata": {
    "ExecuteTime": {
     "end_time": "2021-02-25T09:44:18.877429Z",
     "start_time": "2021-02-25T09:44:18.874239Z"
    }
   },
   "outputs": [
    {
     "data": {
      "text/plain": [
       "'actress turned author twinkle khanna said husband actor akshay kumar lets win battle words back home think lets win probably diplomatic answer added couple got married completed years marriage january year '"
      ]
     },
     "execution_count": 106,
     "metadata": {},
     "output_type": "execute_result"
    }
   ],
   "source": [
    "seq2text(encoder_input_test[1])"
   ]
  },
  {
   "cell_type": "markdown",
   "id": "french-calibration",
   "metadata": {},
   "source": [
    "#### 핵심 단어로 동일한 인덱스 찾기\n",
    "---\n",
    "`khanna`를 핵심단어로 정했다. data2에서 검색하여 확인하자."
   ]
  },
  {
   "cell_type": "code",
   "execution_count": 109,
   "id": "floppy-meaning",
   "metadata": {
    "ExecuteTime": {
     "end_time": "2021-02-25T09:44:40.088792Z",
     "start_time": "2021-02-25T09:44:40.046664Z"
    }
   },
   "outputs": [],
   "source": [
    "khanna=[]\n",
    "\n",
    "for i in range(77000, 90000):\n",
    "    if 'khanna' in data2[i]:\n",
    "        print(i)\n",
    "        khanna.append(i)\n",
    "        \n",
    "for j in khanna:\n",
    "    print(data2[int(j)])\n",
    "    print(\"\\n\")"
   ]
  },
  {
   "cell_type": "markdown",
   "id": "static-performer",
   "metadata": {},
   "source": [
    "아무것도 나오지 않았다. 코드상의 문제는 없다. 왜 안나오나 고민하고 구글링 하던중...\n",
    "\n",
    "<img src=\"./image/khanna.jpg\" alt=\"khanna\" />\n",
    "\n",
    "`khanna`는 지역이름이었다ㅋㅋㅋ\n",
    "\n",
    "그러니까 첫 글자를 대문자로 검색했어야 했던 것이다. 다시 첫글자를 대문자로 바꾸어서 동일한 문장을 찾아보자."
   ]
  },
  {
   "cell_type": "code",
   "execution_count": 112,
   "id": "brutal-thanksgiving",
   "metadata": {
    "ExecuteTime": {
     "end_time": "2021-02-25T10:06:05.186470Z",
     "start_time": "2021-02-25T10:06:05.093027Z"
    }
   },
   "outputs": [
    {
     "name": "stdout",
     "output_type": "stream",
     "text": [
      "77226\n",
      "77263\n",
      "77275\n",
      "79027\n",
      "79506\n",
      "79664\n",
      "79831\n",
      "79951\n",
      "81485\n",
      "81768\n",
      "81906\n",
      "82311\n",
      "82470\n",
      "82571\n",
      "82801\n",
      "83557\n",
      "83632\n",
      "83698\n",
      "83821\n",
      "85427\n",
      "85910\n",
      "85982\n",
      "86319\n",
      "86375\n",
      "86497\n",
      "86746\n",
      "87151\n",
      "87364\n",
      "87380\n",
      "87509\n",
      "88169\n",
      "88183\n",
      "88326\n",
      "88865\n",
      "88867\n",
      "88948\n",
      "89022\n",
      "89134\n",
      "89344\n",
      "89443\n",
      "89483\n",
      "89869\n",
      "90057\n",
      "90234\n",
      "90246\n",
      "90488\n",
      "90518\n",
      "90595\n",
      "90905\n",
      "90906\n",
      "90947\n",
      "90991\n",
      "91187\n",
      "91215\n",
      "91320\n",
      "91332\n",
      "91359\n",
      "91361\n",
      "91362\n",
      "91375\n",
      "91388\n",
      "91409\n",
      "91435\n",
      "91441\n",
      "91442\n",
      "91469\n",
      "91471\n",
      "91491\n",
      "91493\n",
      "91494\n",
      "91531\n",
      "91541\n",
      "92361\n",
      "92894\n",
      "93057\n",
      "93351\n",
      "94277\n",
      "94299\n",
      "94334\n",
      "94387\n",
      "94707\n",
      "94814\n",
      "94957\n",
      "95118\n",
      "95475\n",
      "95886\n",
      "96107\n",
      "96501\n",
      "96798\n",
      "96946\n",
      "97292\n",
      "97380\n",
      "97558\n",
      "97587\n",
      "97588\n",
      "Akshay Kumar, while accepting the 'Most Beautiful Man of the Decade' award at Vogue Beauty Awards, revealed his speech was written by his wife Twinkle Khanna. Akshay thanked his \"overpaid trainer\" and \"underpaid cook\" for helping him maintain his body. He added credit should go to the fact that he didn't have to carry his two children for nine months.\n",
      "\n",
      "\n",
      "BCCI's acting president CK Khanna on Thursday said that the board is working on a plan to ensure that domestic cricketers of all age-groups get a minimum 50% pay hike. This comes after former cricketers, including Anil Kumble and Sourav Ganguly, had proposed an increment for domestic players. The percentage pay for domestic players was last revised in 2007.\n",
      "\n",
      "\n",
      "Actor Akshay Kumar's look from the upcoming film 'Padman' has been unveiled by his wife Twinkle Khanna, who has produced the film. 'Padman' is based on the life of Tamil Nadu-based social activist Arunachalam Muruganantham, the inventor of a low-cost sanitary pad-making machine. Directed by R Balki, the film is scheduled to release on April 13, 2018.\n",
      "\n",
      "\n",
      "Actress Twinkle Khanna has tweeted about getting choked inside a flight due to a co-passenger's smelly socks. She added that she complained to the air hostess. Tweeting about it, Twinkle wrote, \"She (the air hostess) sniffed around, sympathetically nodded and when he fell asleep she surreptitiously sprayed his smelly feet with perfume!\" \n",
      "\n",
      "\n",
      "Akshay Kumar, who is currently babysitting his daughter Nitara while shooting 'Gold', has said his respect for wife Twinkle Khanna has increased. \"I have to confess that minding a little girl is a tough job,\" he added. Akshay further said, \"I don't know how she writes, designs, looks after our children and still manages to stay calm on most days\".\n",
      "\n",
      "\n",
      "Actor Akshaye Khanna has said that it would have been nice to work with his father, late actor Vinod Khanna, after he himself became a little mature and experienced as an actor. He added, \"I worked with my dad in my first film (Himalay Putra).\" Vinod passed away at the age of 70 in April this year.\n",
      "\n",
      "\n",
      "Amitabh Bachchan has revealed that he wrestled a real tiger in the 1977 film 'Khoon Pasina'. \"Fighting a real tiger for 'Khoon Pasina'... a real task... shared it with stunt directors of today... they thought I was mad,\" he wrote on Twitter while sharing a photo from the film's set. The film also starred Rekha and late actor Vinod Khanna.\n",
      "\n",
      "\n",
      "Actress-author Twinkle Khanna on Tuesday shared a picture on Twitter of her father Rajesh Khanna to mark his fifth death anniversary. Rajesh Khanna was often referred to as the \"first superstar\" and the \"original superstar\" of Indian cinema. Known for films like Anand, Aradhana and Kati Patang, he was awarded the Padma Bhushan posthumously in 2013.\n",
      "\n",
      "\n",
      "Actress Sumita Sanyal, who worked in the 1971 Amitabh Bachchan-Rajesh Khanna starrer 'Anand', passed away aged 71 on Sunday in Kolkata. Born as Manjula Sanyal, Sumita acted in over 50 Bengali movies and Hindi films like Guddi (1971), Aashirwad (1968), among others. Sumita was married to editor Subodh Roy and is survived by a son.\n",
      "\n",
      "\n",
      "Actor Akshaye Khanna has said that he will never get married as he wants to live his life alone. He said, \"I can be in a relationship for sometime but I know I can't see it lasting for a lifetime.\" Akshaye added that he feels he should be allowed to move from one relationship to another whenever he wants to.\n",
      "\n",
      "\n",
      "Akshaye Khanna, while discussing the censoring of the word 'intercourse' in television promo of Jab Harry Met Sejal, said censorship is an outdated concept and is unacceptable to a majority of the society. Akshaye added, \"You can't necessarily say that certain content can't be part of...a film or TV...if everyone else in the world can watch it, so can we.\"\n",
      "\n",
      "\n",
      "Actress Sridevi has said that she feels happy when fans go crazy about her even today. She added, \"We really worked hard for it, we literally slogged... It is very overwhelming.\" Notably, Sridevi's 300th film 'Mom', which also stars actor Akshaye Khanna, is scheduled to release this week. \n",
      "\n",
      "\n",
      "Akshaye Khanna has said that it's a terrible feeling for an artiste when appreciation, work, love and attention start slipping away. He added, \"As much as I say I am uncomfortable with too much attention...in essence that's what I, every artiste works for.\" Akshaye also said the feeling of insecurity is prevalent in acting because actors are dependent on others.\n",
      "\n",
      "\n",
      "Actor Akshaye Khanna, while speaking about his late father Vinod Khanna said, \"He was always my dad... It's only now that I will start looking at him as a yesteryear star who was admired by so many people.\" Vinod passed away at the age of 70 in April. He appeared in films including 'Amar Akbar Anthony' and 'The Burning Train'. \n",
      "\n",
      "\n",
      "The first look posters of 'Ittefaq: It Happened One Night' starring Sonakshi Sinha and Sidharth Malhotra have been released. The film is a remake of the 1969 thriller 'Ittefaq' which starred late actor Rajesh Khanna. Also starring actor Akshaye Khanna, the film is scheduled to release on November 3.\n",
      "\n",
      "\n",
      "Akshaye Khanna, while speaking about his break from films, said it was torturous as he has been working since the age of 19. He added that after he joined films post the sabbatical, he wanted to start with slightly smaller, but quality roles. Akshaye, who's known for films like 'Taal', 'Dil Chahta Hai', will be next seen in Sridevi's 'Mom'.nn\n",
      "\n",
      "\n",
      "Sukhwinder Singh has sung the song Kooke Kawn for the upcoming Sridevi starrer film 'Mom'. It has been composed by AR Rahman, with lyrics by Irshad Kamil. Mom, which is Sridevi's 300th film, also stars actors Akshaye Khanna with Nawazuddin Siddiqui in a special appearance. It is scheduled to release on July 7.\n",
      "\n",
      "\n",
      "Leading milk supplier Mother Dairy's Managing Director (MD) S Nagarajan has resigned from his position due to personal reasons. Nagarajan, who has been leading the company since 2010, said, \"I want to spend time with my parents who live in Bengaluru.\" Former MD of Mother Dairy Sanjiv Khanna will succeed Nagarajan, who will continue in the role till June 30.\n",
      "\n",
      "\n",
      "A new trailer of Sridevi's 300th film 'Mom' has been released. The revenge thriller also stars Akshaye Khanna, Pakistani actors Sajal Ali and Adnan Siddiqui with Nawazuddin Siddiqui in a special appearance. Directed by Ravi Udyawar with AR Rahman as the music director, the film is scheduled to release on July 7.\n",
      "\n",
      "\n",
      "Jackie Shroff, Suniel Shetty, Pooja Bhatt along with director JP Dutta and music composer Anu Malik were part of the celebration to mark 20 years of the film Border. The 1997 film was based on the Battle of Longewala during the Indo-Pakistan War of 1971. Sunny Deol and Akshaye Khanna could not attend the event. \n",
      "\n",
      "\n",
      "Dimple Kapadia, who turned 60 on Thursday, made her acting debut at the age of 16 opposite Rishi Kapoor in the 1973 film Bobby. For portraying the female lead Bobby Braganza, Dimple was named one of the winners of Best Actress Filmfare Award. Notably, Dimple stopped acting in films on marrying Rajesh Khanna in the same year of her debut. \n",
      "\n",
      "\n",
      "Novelist Twinkle Khanna took to Instagram to share a picture of herself with mother Dimple Kapadia on the occasion of her 60th birthday on Thursday. \"Happy birthday to the most beautiful woman in the world inside out! #birthdaygirl,\" read the caption alongside the picture. Dimple is known for her role in films like 'Bobby' (1973), 'Rudaali' (1993), among others.\n",
      "\n",
      "\n",
      "Author Twinkle Khanna on Instagram shared a joke on Rajasthan HC judge's statement that peacocks don't have sex to reproduce, but drink tears. \"The last one in the chronicles of the celibate peacock #AGoodCry,\" read the caption alongside the post. Earlier, Twinkle had reacted to the remark by tweeting, \"Peacocks don't have sex because jungle mein mor nacha, kisne dekha?\" \n",
      "\n",
      "\n",
      "Actor Salman Khan has said that his and the current generation of actors haven't even achieved 10% of the stardom which actors like Rajesh Khanna and Kumar Gaurav enjoyed. He added, \"I have seen the stardom of both and it was unbelievable.\" Salman further said that he doesn't take the tag of a 'superstar' seriously. \n",
      "\n",
      "\n",
      "The trailer of Sridevi's 300th film 'Mom' was released on Saturday. The film also stars Akshaye Khanna, Pakistani actors Sajal Ali and Adnan Siddiqui while Nawazuddin Siddiqui features in a special appearance. Directed by Ravi Udyawar with AR Rahman as the music director, the film is scheduled to release on July 7. \n",
      "\n",
      "\n",
      "Novelist Twinkle Khanna, responding to Rajasthan HC judge's statement that peacocks don't have sex to reproduce, tweeted, \"Now this makes me homesick, missing all the fun.\" Twinkle is currently on a vacation in France. Reacting to the statement, Sonakshi Sinha tweeted, \"Somebody actually said peacocks don't have sex, they reproduce by drinking tears!!! W O W. mind. Is. Blown. *slowclap*.\" nnnnn\n",
      "\n",
      "\n",
      "Actor Irrfan Khan recently made his Instagram debut and shared his childhood pictures with a \"filmy influence\". Among the pictures, Irrfan shared a recreated version of a Jai-Veeru (Amitabh Bachchan and Dharmendra from Sholay) pose, with the caption, \"This is our poster inspired by the #Sholay poster\". He also shared a picture on a horse, inspired by Rajesh Khanna.\n",
      "\n",
      "\n",
      "Akshay Kumar has revealed that regardless of whether it's bullying, he follows wife Twinkle Khanna's instructions on what to wear. He added, \"My mother-in-law [Dimple Kapadia] is a style icon and wouldn't have me any other way. I have no option but match up to the ladies in the family.\" Akshay and Twinkle married in 2001 and have two children.\n",
      "\n",
      "\n",
      "Actor Amitabh Bachchan shared a picture from the sets of 'Amar Akbar Anthony', to mark the film completing 40 years of its release today. The picture shows Bachchan with a young Abhishek and Shweta, while he was shooting for the song 'My Name Is Anthony Gonsalves'. The film starred Bachchan, Rishi Kapoor and late actor Vinod Khanna in lead roles.\n",
      "\n",
      "\n",
      "Uttar Pradesh Minister Suresh Khanna said, \"Ours is a huge state, we never claimed that we will ensure zero crime. But I assure you criminals won't go unpunished.\" This comes after recent murder and gangrape incidents and Opposition Congress' comment, \"Uttam Pradesh is turning into Crime Pradesh. Such incidents never happened before. This all happened at the behest of government.\" \n",
      "\n",
      "\n",
      "Novelist Twinkle Khanna, while speaking about her writing style in blogs, said that humour is like a deodorant. She added, \"You can live without it, but if you use it you help not just yourself but others around you!\" Twinkle further said that she wraps her message with entertainment as she wants people to laugh and notice ridiculousness around themselves. \n",
      "\n",
      "\n",
      "Novelist Twinkle Khanna, while speaking about accusations of using a ghost writer for her novels, said that just because she's from Bollywood and her name is Twinkle doesn't mean she can't spell. \"There's a perception that if you are in Hindi films you have no brains,\" added Twinkle. She further said that being well-read isn't a skill required in Bollywood.\n",
      "\n",
      "\n",
      "Uttar Pradesh Parliamentary Affairs Minister Suresh Kumar Khanna has alleged that Anurag Tewari, the IAS officer who was found lying dead on a road in Lucknow, was about to expose a scam worth thousands of crores in Karnataka. Earlier, the officer's brother had claimed that Tewari was facing a threat to his life from certain influential people in Karnataka.\n",
      "\n",
      "\n",
      "Novelist Twinkle Khanna took to social media to share a picture of an 'All About My Mom' activity sheet, in which her daughter Nitara asked her teacher to write that her mother is 60. Reacting to this, Twinkle wrote, \"God help me,\" in a part of the caption with the picture. Four-year-old Nitara is Akshay and Twinkle's second child. \n",
      "\n",
      "\n",
      "Sibi, the son of actor Sathyaraj who portrays the character Kattappa in Baahubali films, while responding to Twinkle Khanna, tweeted, \"Mam I'm Kattappa's son! Dad is really happy to see your tweet!\" Sibi further wrote how Sathyaraj is a big fan of Twinkle's father late actor Rajesh Khanna. Earlier, Twinkle tweeted that she was obsessed with the character.\n",
      "\n",
      "\n",
      "Twinkle Khanna has tweeted that she saw Baahubali 2 and has been calling her four-year-old daughter Kattappa since then. In her tweet, she also referred to husband Akshay Kumar's film Rowdy Rathore (2012). Twinkle also tweeted, \"All right perhaps I am a bit obsessed, but...say Kattappa 3 times and you won't be able to stop, it's like eating wafers, addictive!\"\n",
      "\n",
      "\n",
      "A picture of actors Sonam Kapoor and Akshay Kumar from the sets of their upcoming film 'Padman' was shared on Twitter by the film's cinematographer PC Sreeram. The film is based on the life of Arunachalam Muruganantham, the inventor of a low-cost sanitary pad-making machine. Produced by Akshay's wife Twinkle Khanna, it will also feature Radhika Apte. \n",
      "\n",
      "\n",
      "Actress Twinkle Khanna took to Twitter to share a picture of herself with actor Akshay Kumar from the sets of the upcoming film 'Padman'. Arunachalam Muruganantham, the inventor of a low-cost sanitary pad-making machine on whom the film is based, can also be seen in the picture. The film will also star actresses Sonam Kapoor and Radhika Apte.\n",
      "\n",
      "\n",
      "Fashion designer Varun Bahl gifted singer Justin Bieber musical instruments including tabla and sitar on his maiden visit to India. Bahl took to Instagram to share a picture of the instruments, which are decorated with fine silk printed with floral artwork and highlighted with metallic gold. Other designers including Rohit Bal and Anamika Khanna also presented customised outfits to Bieber.\n",
      "\n",
      "\n",
      "Actress Kriti Sanon has said that actors from the younger generation skipping veteran actor Vinod Khanna's funeral was situational. She added, \"I don't think the present generation is less attached.\" Actor Rishi Kapoor had slammed the younger generation of actors as they skipped the funeral but many attended Priyanka Chopra's party a night before.\n",
      "\n",
      "\n",
      "Twinkle Khanna slammed a Twitter user who mocked her and husband Akshay Kumar, after Akshay's meeting with Prime Minister Narendra Modi. Akshay had shared a picture with Modi, and tweeted that he discussed his upcoming film with him. The user slammed Twinkle for her \"progressive\" pieces, described Akshay as \"dancing\" around Modi, and called them \"Indian elites in nutshell\".\n",
      "\n",
      "\n",
      "Singer Justin Bieber is set to receive gifts from many designers when he comes for his maiden concert in India as part of the Purpose Tour. Fashion designers Rohit Bal and Anamika Khanna will present customised outfits to Bieber while Manav Gangwani plans on gifting a set of customised sneakers. Ustad Amjad Ali Khan will gift Bieber an autographed sarod.\n",
      "\n",
      "\n",
      "Actress Sonam Kapoor took to Instagram to share pictures from the photoshoot for wedding magazine 'Khush'. She can be seen wearing a lehenga by Sabyasachi Mukherjee on the cover of the magazine. For the cover story, she wore a white lehenga by Sabyasachi, a blue lehenga by Payal Singhal and a red dress with a heavy jacket by Anamika Khanna. \n",
      "\n",
      "\n",
      "A new poster of the upcoming thriller 'Mom' reveals actor Akshaye Khanna's look from the film. 'Mom', which will be actress Sridevi's 300th film, will also star actors Nawazuddin Siddiqui, Sajal Ali, Abhimanyu Singh and Pitobash Tripathi. Directed by Ravi Udyawar, the film is scheduled to release on July 14. \n",
      "\n",
      "\n",
      "Uttar Pradesh CM Yogi Adityanath on Saturday took up a broom to launch a cleanliness drive at a Lucknow slum to encourage people to keep cities clean. Adityanath's entourage cleaned a 300-metre stretch of road. UP Minister Suresh Khanna said such drives would be conducted on first Saturdays of each month in various parts of the state.\n",
      "\n",
      "\n",
      "The poster of Sridevi and Nawazuddin Siddiqui's upcoming film MOM has been unveiled. The poster features semi-bald Nawazuddin with glasses and rabbit teeth, wearing a kurta and Nehru jacket. The movie, which also stars Akshaye Khanna, Abhimanyu Singh and Pitobash Tripathy, is directed by Ravi Udyawar and is scheduled to release on July 7.\n",
      "\n",
      "\n",
      "In reference to Akshay Kumar's National Award, his wife Twinkle Khanna tweeted that she can now officially refer to him as her trophy husband. On receiving the award, Akshay tweeted, \"No words can do justice to the joy I feel at this moment.\" The actor on Wednesday received his first National Award for Best Actor for 'Rustom'.\n",
      "\n",
      "\n",
      "Late actor Vinod Khanna's son Rahul Khanna shared a picture of himself with his father on Instagram. In the black and white photo, Vinod Khanna can be seen kissing Rahul as a baby. The picture's caption reads, \"You showed me how to be a gentleman and yet fight to the finish like a warrior. Bye Dad. 1946-2017.\"\n",
      "\n",
      "\n",
      "Late actor Vinod Khanna's son Rahul Khanna shared a picture of himself with his father on Twitter. In the black and white photo, Vinod is seen swinging Rahul and his brother Akshaye at a beach. \"Feels like yesterday,\" read the caption alongside the picture. This is Rahul's first Twitter post after his father's death last week. \n",
      "\n",
      "\n",
      "Twinkle Khanna has taken a dig at Arnab Goswami after Republic's promos showed him penning letters to politicians Arvind Kejriwal and Rahul Gandhi. In an Instagram post, Khanna's daughter is seen wearing a mask and waving a plastic knife. The post says, \"Instead of writing letters perhaps Arnab should try incorporating these less ambiguous moves in his next video #CutCutCut.\"\n",
      "\n",
      "\n",
      "Actress Madhuri Dixit, while remembering late actor Vinod Khanna, said, \"he was one of the best actors we had\". She further added, \"Our generation could learn a lot from him...it (his demise) is very sad.\" Madhuri had worked with Vinod Khanna in movies including Maha-Sangram (1990), Zameen (1987) and Dayavan (1988).\n",
      "\n",
      "\n",
      "Veteran actress Asha Parekh has said that Rishi Kapoor is right in getting upset with younger generation of actors for skipping late actor Vinod Khanna's funeral. She added, \"Youngsters need to respect veterans. It's very sad to know they didn't turn up.\" Rishi had slammed actors as they skipped the funeral but many attended Priyanka Chopra's party a night before.\n",
      "\n",
      "\n",
      "Actor Rishi Kapoor on Twitter shared a picture with late actor Vinod Khanna and actress Juhi Chawla from 1994 film 'Eena Meena Deeka'. They can be seen dressed similar to characters from 1977 film 'Amar Akbar Anthony'. \"In fun times. When VK [Vinod Khanna] played AB [Amitabh Bachchan], I played VK and Juhi played RK [Rishi Kapoor],\" read the caption. \n",
      "\n",
      "\n",
      "Late actor Vinod Khanna wanted to visit his ancestral home in Peshawar, Pakistan, according to Shakeel Waheedullah, a Pakistani cultural official. Waheedullah revealed that Khanna expressed this desire in 2014 while signing an autograph. He added, \"Khanna wanted to...see where his parents and forefathers lived. He had sent a request for his visit to Pakistan, but could not succeed.\" \n",
      "\n",
      "\n",
      "Actor Rishi Kapoor has said that celebrities attend prayer meetings because they want to be in air conditioned premises and it's more like a fashion parade. Rishi added that for this reason, more actors could attend late Vinod Khanna's prayer meeting. \"I can't say I shared great chemistry with him. It was pure respect,\" said Rishi on attending Khanna's funeral.n\n",
      "\n",
      "\n",
      "Cricketer Vinod Kambli slammed a Twitter user for wrongly tagging him in a condolence post on veteran actor Vinod Khanna's demise. While the user apologised for his mistake and claimed it wasn't done intentionally, Kambli blocked him on Twitter. Vinod Khanna, who was reportedly suffering from cancer, passed away at the age of 70 on Thursday.\n",
      "\n",
      "\n",
      "Actor Amitabh Bachchan, while mourning the demise of his friend Vinod Khanna, tweeted, \"Today is the day when I saw a 48-year-long relationship going up in flames\". He also penned a blog post, describing Khanna as a 'big star but with selfless concern for others'. \"[N]o one had the presence he had in a crowded room,\" he further wrote.\n",
      "\n",
      "\n",
      "Actor Rishi Kapoor on Twitter slammed the current generation of actors for missing actor Vinod Khanna's funeral. He added, \"Angry. Met so many chamcha people last night at Priyanka Chopra's do last night. Few at Vinod's. So f*ckn transparent.\" Rishi added that his wife Neetu Kapoor and son Ranbir Kapoor didn't attend the funeral as they weren't in India.\n",
      "\n",
      "\n",
      "Actor Salman Khan took to social media to share a picture with veteran actor Vinod Khanna after his demise on Thursday. \"R.I.P Vinod Khanna Sir. You will really be missed,\" read the caption alongside the picture.\" Salman and Vinod worked together in the film series 'Dabangg', wherein Vinod played the role of Salman's step-father.\n",
      "\n",
      "\n",
      "Actor Sanjay Dutt, while speaking on veteran actor Vinod Khanna's demise, said that Khanna was and will always be like family to the Dutts. He added, \"I've watched him as a child and...was always fascinated by his style and charisma. A big loss to the fraternity.\" Sanjay worked with Khanna in films including Khoon Ka Karz (1991) and Kshatriya (1993). \n",
      "\n",
      "\n",
      "Condoling the death of veteran actor Vinod Khanna, a press release from the Punjab Vidhan Sabha Speaker named actor Rajesh Khanna in its opening line. Though the headline did mention Vinod Khanna, the error was made in the introduction. While Vinod Khanna passed away on Thursday, Rajesh Khanna had died in 2012.\n",
      "\n",
      "\n",
      "Filmmaker Subhash Ghai has shared a 2016 video of late actor Vinod Khanna. He can be seen giving a speech at an acting school's convocation ceremony. \"There's no business like showbiz. The satisfaction...joy, this is the only kind of profession that gives the opportunity to find peace and love in work,\" Khanna can be seen saying in the video.nn\n",
      "\n",
      "\n",
      "Late actor Vinod Khanna was born in Peshawar, modern-day Pakistan in 1946. His family moved to India after the partition and he made his Bollywood debut with Man Ka Meet (1968). Khanna, who appeared in over 140 films, later joined BJP in 1997. The actor, who was reportedly suffering from cancer, passed away on Thursday at the age of 70.\n",
      "\n",
      "\n",
      "Veteran actress Shabana Azmi has said that she regrets not meeting late actor Vinod Khanna after learning about his illness. She added, \"Perhaps because I want to remember him as he was - handsome, warm and considerate.\" Shabana and Vinod had worked together in films like Parvarish (1977), Shaque (1976) and Khoon Ki Pukaar (1978), among others.\n",
      "\n",
      "\n",
      "A photo gallery shows rare and unseen pictures of veteran actor Vinod Khanna, who passed away at the age of 70 on Thursday. In one of the pictures, Khanna can be seen with actor Rajinikanth while another photograph shows him with his kids. Khanna can be seen with Amitabh Bachchan and Shatrughan Sinha in one of the photographs.\n",
      "\n",
      "\n",
      "Actress Hema Malini has revealed that she entered politics on the insistence of late actor Vinod Khanna. She said, \"One day Vinod called to say, 'I am fighting elections from Gurdaspur. I want you to campaign for me. I refused outright...but he insisted.\" Khanna, who passed away on Thursday, was the sitting Member of Parliament from Gurdaspur for BJP.\n",
      "\n",
      "\n",
      "Following the demise of veteran actor Vinod Khanna, Mahindra Group's Anand Mahindra in a post on twitter said that he was \"heroic\" in all roles. Actors Rishi Kapoor, Finance Minister Arun Jaitley and singer Asha Bhosle have also tweeted about his death. Khanna, who was reportedly suffering from cancer, passed away on Thursday in Mumbai at the age of 70.\n",
      "\n",
      "\n",
      "Late actor Vinod Khanna featured in a 2007 TV show titled Mere Apne, which also starred Smriti Irani. He made his Bollywood debut with Man Ka Meet (1968), and is best known for movies like Hera Pheri (1976) and Amar Akbar Anthony (1977). The actor, who was reportedly suffering from cancer, passed away on Thursday at the age of 70.  \n",
      "\n",
      "\n",
      "The premiere of 'Baahubali 2', scheduled to be held on Thursday, was cancelled after actor Vinod Khanna's demise earlier in the day. Karan Johar, who is the distributor of the Hindi version of the film, announced it on Twitter. \"His screen presence is unparalleled even today...his superstar swag is what we grew up on,\" tweeted Karan about the late actor.\n",
      "\n",
      "\n",
      "According to reports, actor Amitabh Bachchan walked out of an interview to join Vinod Khanna's family after hearing the news of the latter's demise. He was reportedly giving an interview for his upcoming film 'Sarkar 3'. Bachchan had worked with Khanna in several films including 'Amar Akbar Anthony', 'Parvarish' and 'Khoon Pasina'.\n",
      "\n",
      "\n",
      "Following the demise of veteran actor Vinod Khanna, Rishi Kapoor tweeted, \"Remembering the good times with you, Vinod. Thank you for being my friend\". \"Vinod Khanna ji had a magnetic charm and persona,\" wrote Anupam Kher. Singer Asha Bhosle tweeted, \"A decent man and a star till the very end\". \"We have lost a legend today,\" read Shraddha Kapoor's tweet.\n",
      "\n",
      "\n",
      "Veteran actor Vinod Khanna, who was reportedly suffering from cancer, passed away today in Mumbai at the age of 70. Khanna was also the sitting Member of Parliament from Gurdaspur for the Bharatiya Janata Party. The actor, who appeared in films including 'Amar Akbar Anthony' and 'The Burning Train', is also a recipient of the Filmfare Lifetime Achievement Award.\n",
      "\n",
      "\n",
      "Twinkle Khanna on Twitter denied reports of her being upset with the team of the Akshay Kumar starrer film 'Padman'. Reports suggested that Twinkle, who's also the film's producer, was upset as the production team couldn't keep the budget in check, due to which she owes money to creditors. The film also stars Radhika Apte and Sonam Kapoor. \n",
      "\n",
      "\n",
      "Actor Tom Alter has said he came to Mumbai to become an actor like Rajesh Khanna. He added, \"I didn't come to act on stage. Theatre isn't secondary, but my passion lies in films.\" Alter, who also performs in plays and has appeared on television, is known for his films like 'Shatranj Ke Khiladi', 'Ram Teri Ganga Maili', among others.\n",
      "\n",
      "\n",
      "Twinkle Khanna has said that her father, late actor Rajesh Khanna, had said she should be a writer. She added, \"[He] was proud of my maggot filled poetry...would've been beaming I got that paper in my hand eventually.\" Twinkle, who has been writing columns for media houses, turned an author with her book 'Mrs Funnybones', which was published in 2015.\n",
      "\n",
      "\n",
      "Actor Amitabh Bachchan has revealed that he will play a cameo role in Akshay Kumar's upcoming film 'Padman'. The film is based on Arunachalam Muruganantham, a man who made sanitary pads accessible to the women of his village. Directed by R Balki and produced by Akshay's wife Twinkle Khanna, the film will also star Sonam Kapoor and Radhika Apte. \n",
      "\n",
      "\n",
      "Actress Twinkle Khanna has said that footwear is apparently yet another trendy weapon these days, while referring to comedian Kapil Sharma's fight onboard a flight where he allegedly threw a slipper at Sunil Grover. She added that airlines confiscate knives, scissors and cricket bats, but some innocuous weapons like free inflight booze and footwear can lead to disastrous results.\n",
      "\n",
      "\n",
      "Actor Akshaye Khanna, while talking about his father veteran actor Vinod Khanna's health, said, \"Dad is doing better.\" Earlier, a picture of the 70-year-old actor emerged online showing him looking frail dressed in a hospital gown, which led to rumours that he was suffering from cancer. However, Khanna's eldest son Rahul said his father was hospitalised due to severe dehydration.\n",
      "\n",
      "\n",
      "Actor Salman Khan visited veteran actor Vinod Khanna at a Mumbai hospital. Khanna's son Rahul had earlier said that he was hospitalised due to severe dehydration. A picture of the veteran actor also emerged online and it was rumoured that he was suffering from cancer. The hospital has stated that the actor's health is better now. \n",
      "\n",
      "\n",
      "Meghalaya BJP on Saturday observed a two-minute silence to pay tribute to veteran actor Vinod Khanna, who is still alive. The party later issued a clarification that a few of its members had seen media reports regarding his death and believed them without verification. The rumours reportedly sparked off after pictures showing him in a bad shape went viral.\n",
      "\n",
      "\n",
      "Irrfan Khan has said that if needed, he will donate one of his organs to veteran actor Vinod Khanna. \"I saw his photo today and I was shocked. I pray to God for his good health,\" said Irrfan while talking about a photo showing Vinod in a hospital gown which emerged online. The veteran actor is reportedly suffering from cancer.\n",
      "\n",
      "\n",
      "Raveena Tandon, while talking about Twinkle Khanna, said, \"We are friends and we all know each other in the industry, we all meet each other regularly.\" Earlier, Twinkle joked how she almost dropped social entrepreneur Arunachalam Muruganantham's biopic as her first production venture because he thought she looked like Raveena. Twinkle's husband Akshay Kumar and Raveena dated in the 90s. \n",
      "\n",
      "\n",
      "Actress-author Twinkle Khanna suggested her friend filmmaker Karan Johar to cast her in a sequel to his 2010 film My Name is Khan and add two alphabets to name the new film 'My Name is Khanna'. Her response was prompted by Johar's tweet showing appreciation for Twinkle's acting skills in a recent smartphone advertisement.\n",
      "\n",
      "\n",
      "Yesteryear actor Vinod Khanna was hospitalised in Mumbai on Friday owing to severe dehydration. His son Rahul Khanna said that his father is doing better and will be discharged soon. \"Our family is most grateful for the extraordinary care he's been receiving at the hospital... we are touched by all the good wishes pouring in,\" added Rahul.\n",
      "\n",
      "\n",
      "The teaser of the Sridevi and Nawazuddin Siddiqui starrer film 'Mom' has been released. \"In MOM, is the wrath of God,\" tweeted Sridevi while sharing Mom's teaser, which will be her 300th film. Also starring actor Akshaye Khanna, the film has been directed by Ravi Udyawar. It is scheduled to release on July 14.\n",
      "\n",
      "\n",
      "Filmmaker Karan Johar has said that Alia Bhatt is his second daughter and third child. Responding to this, Alia joked that she would play Johar's mother Hiroo if a biopic was being made on the filmmaker. Johar said that she should play his childhood bestie Twinkle Khanna and not his mother in the biopic as Alia wasn't \"Sindhi enough\". \n",
      "\n",
      "\n",
      "Actress-turned-author Twinkle Khanna, while speaking about her writing career receiving more praise than her acting career, said that she consoles herself with the fact that she has a career that would last her a lifetime. \"Maybe I am better at writing,\" she added. Twinkle made her acting debut with the 1995 Bollywood film 'Barsaat'.\n",
      "\n",
      "\n",
      "Twinkle Khanna has revealed that her son Aarav's friends call her 'savage', and she believes that it's a compliment in today's times. She added, \"It sounds awful, but I believe it's a good thing. My son says so, at least.\" Twinkle further said that she tries to be a friendly mother to her kids.\n",
      "\n",
      "\n",
      "Twinkle Khanna has said that Uttar Pradesh Chief Minister Yogi Adityanath needs to do an asana which helps in releasing gas. Twinkle said this when asked to give her views on Adityanath and his comments on women. Recently, an FIR was filed against filmmaker Shirish Kunder after he said that Adityanath's appointment was like Dawood being made the CBI director.\n",
      "\n",
      "\n",
      "Actress-turned-author Twinkle Khanna, while speaking at an event, said that sex is important at every stage of life. \"The things I found extremely attractive in Akshay have changed over time,\" she added. Twinkle and Akshay, who got married in 2001, completed 16 years of marriage in January this year. They have a 14-year-old son Aarav and a 4-year-old daughter Nitara.\n",
      "\n",
      "\n",
      "Actress-turned-author Twinkle Khanna has said that her husband, actor Akshay Kumar lets her win the battle of words back at home. \"I think he lets me win and that's probably the most diplomatic answer,\" she added. The couple, who got married in 2001, completed 16 years of marriage in January this year. \n",
      "\n",
      "\n",
      "Actress Twinkle Khanna has said that the upcoming film 'Pad Man', which is her first production venture, will bring awareness about menstruation, which has so far been a \"cloaked and shamed\" topic. \"It's a wonderful project. I am very happy to be a part of the film,\" added Twinkle. The film stars her husband Akshay Kumar and actress Radhika Apte.\n",
      "\n",
      "\n",
      "International Cricket Council has appointed Air Asia's former Chief Financial Officer Ankur Khanna as its new CFO. Khanna will join the ICC in Dubai at the end of March leaving Air Asia India where he has held the post for the last one year. Prior to Air Asia India, Khanna worked in senior roles at Air France-KLM and ITC.\n",
      "\n",
      "\n",
      "Twinkle Khanna said that 'sexy' is an acceptable compliment within a work environment only if a stripper is being complimented by her pimp trying to boost her confidence before she takes the stage. Commenting on TVF CEO Arunabh Kumar's remarks, Twinkle added that calling a woman sexy in bedroom is fine but telling her that in the boardroom is deplorable.\n",
      "\n",
      "\n",
      "Twinkle Khanna revealed that she has faced sexual harassment at work. In an article, she wrote that she reached breaking point after receiving suggestive messages from a wealthy, powerful client for months. She added, \"I'm a fairly assertive woman, and married to a man who onscreen punches holes in walls with his bare fists and yet I haven't been spared.\"\n",
      "\n",
      "\n"
     ]
    }
   ],
   "source": [
    "khanna=[]\n",
    "\n",
    "for i in range(77000, 98000):\n",
    "    if 'Khanna' in data2[i]:\n",
    "        print(i)\n",
    "        khanna.append(i)\n",
    "        \n",
    "for j in khanna:\n",
    "    print(data2[int(j)])\n",
    "    print(\"\\n\")"
   ]
  },
  {
   "cell_type": "markdown",
   "id": "future-asthma",
   "metadata": {},
   "source": [
    "근데 `Twinkle`이라는 단어랑 계속 같이 나오는 게 이상했다. 그래서 `Twinkle Khanna`를 검색해보니ㅋㅋㅋㅋ \n",
    "\n",
    "<img src=\"./image/twinkle.jpg\" alt=\"Twinkle Khanna\" />\n",
    "\n",
    "사람이었다. 그래서 첫글자가 대문자였던 것이다.\n",
    "\n",
    "무튼, 같은 text를 찾았다. 97292번에 있었다.\n",
    "\n",
    "* 추상적 요약 원문(전처리 후)\n",
    "```\n",
    "'actress turned author twinkle khanna said husband actor akshay kumar lets win battle words back home think lets win probably diplomatic answer added couple got married completed years marriage january year '\n",
    "```\n",
    "* 추출적 요약 원문(전처리 전)\n",
    "```\n",
    "Actress-turned-author Twinkle Khanna has said that her husband, actor Akshay Kumar lets her win the battle of words back at home. \"I think he lets me win and that's probably the most diplomatic answer,\" she added. The couple, who got married in 2001, completed 16 years of marriage in January this year.\n",
    "```"
   ]
  },
  {
   "cell_type": "code",
   "execution_count": 123,
   "id": "naughty-continuity",
   "metadata": {
    "ExecuteTime": {
     "end_time": "2021-02-25T10:46:00.552421Z",
     "start_time": "2021-02-25T10:46:00.257460Z"
    }
   },
   "outputs": [
    {
     "name": "stdout",
     "output_type": "stream",
     "text": [
      "실제 요약 : akshay lets me win the battle of words at home twinkle \n",
      "예측 요약 :  twinkle khanna was still my career twinkle\n",
      "추출적 요약 : Actress-turned-author Twinkle Khanna has said that her husband, actor Akshay Kumar lets her win the battle of words back at home.\n"
     ]
    }
   ],
   "source": [
    "print(\"실제 요약 :\", seq2summary(decoder_input_test[1]))\n",
    "print(\"예측 요약 :\", decode_sequence(encoder_input_test[1].reshape(1, text_max_len)))\n",
    "print(\"추출적 요약 :\", summarize(data2[97292], words=25))"
   ]
  },
  {
   "cell_type": "markdown",
   "id": "musical-pledge",
   "metadata": {},
   "source": [
    "번역해보자.\n",
    "\n",
    "* 전처리 전 원문 : 여배우 출신의 작가인 트윙클 칸나는 그녀의 남편인 배우인 아크세이 쿠마르가 그녀가 고향에서 말싸움에서 이기도록 허락했다고 말했다. \"저는 그가 제가 이기도록 허락하고 그것이 아마도 가장 외교적 해답이라고 생각합니다,\"라고 그녀는 덧붙였다. 2001년 결혼한 이 커플은 올해 1월 결혼 16년을 마쳤다.\n",
    "* 전처리 된 원문 : 작가로 변신한 배우인 트윙클 칸나는 남편 배우인 아크샤이 쿠마르가 고향에서 전투어를 얻어내 아마도 외교적 해답을 얻도록 생각한다고 말했다.\n",
    "* 실제 요약 : Akshay는 집에서 하는 말싸움에서 나를 이기게 한다.\n",
    "* 추상적 요약 : 트윙클 칸나는 여전히 내 직업의 트윙클 칸나는\n",
    "* 추출적 요약 : 여배우 출신의 작가인 트윙클 칸나는 그녀의 남편인 배우인 아크세이 쿠마르가 그녀가 고향에서 말싸움에서 이기도록 허락했다고 말했다."
   ]
  },
  {
   "cell_type": "markdown",
   "id": "protecting-soviet",
   "metadata": {},
   "source": [
    "### 회고\n",
    "---\n",
    "* 추상적요약을 많은 시간과 노력을 들여 힘들게 했지만, 결과가 처첨한 것을 보니 회의김이 들었다.\n",
    "* 오히려 빠르게 끝난 추출적요약이 성능이 좋았다.\n",
    "* 추상적요약의 인덱스 순서가 전처리 과정중에 달라져서, 추출적 요약과 함께 출력 비교가 어려웠다. (random 함수 쓰지 않을 걸 그랬다...)"
   ]
  },
  {
   "cell_type": "markdown",
   "id": "stock-production",
   "metadata": {},
   "source": [
    "### 루브릭\n",
    "---\n",
    "* Abstractive 모델 구성을 위한 텍스트 전처리 단계가 체계적으로 진행되었다.<br>\n",
    "(_분석단계, 정제단계, 정규화와 불용어 제거, 데이터셋 분리, 인코딩 과정이 빠짐없이 체계적으로 진행되었다._)\n",
    "\n",
    "    * __분석단계, 정제단계, 정규화, 불용어 제거, 데이터셋 분리, 인코딩 과정을 빠짐없고 정확하게 진행했다.__\n",
    "\n",
    "* 텍스트 요약모델이 성공적으로 학습되었음을 확인하였다.<br>\n",
    "( _모델학습이 안정적으로 수렴되었음을 그래프를 통해 확인하였으며, 실제 요약문과 유사한 요약문장을 얻을 수 있었다._)\n",
    "    \n",
    "    * __모델학습을 진행하였고, loss값과 val_loss값을 그래프에 그렸으며, 요약문과 유사하게 문장을 얻었다.__\n",
    "\n",
    "* Extractive 요약을 시도해 보고 Abstractive 요약 결과과 함께 비교해 보았다.<br>\n",
    "(_두 요약 결과를 문법완성도 측면과 핵심단어 포함 측면으로 나누어 비교분석 결과를 제시하였다._)\n",
    "    \n",
    "    * __두 요약 결과를 출력하여 번역을 통해 비교분석 결과를 제시하였다.__"
   ]
  }
 ],
 "metadata": {
  "kernelspec": {
   "display_name": "aiffel",
   "language": "python",
   "name": "aiffel"
  },
  "language_info": {
   "codemirror_mode": {
    "name": "ipython",
    "version": 3
   },
   "file_extension": ".py",
   "mimetype": "text/x-python",
   "name": "python",
   "nbconvert_exporter": "python",
   "pygments_lexer": "ipython3",
   "version": "3.7.9"
  },
  "toc": {
   "base_numbering": 1,
   "nav_menu": {},
   "number_sections": true,
   "sideBar": true,
   "skip_h1_title": false,
   "title_cell": "Table of Contents",
   "title_sidebar": "Contents",
   "toc_cell": false,
   "toc_position": {
    "height": "calc(100% - 180px)",
    "left": "10px",
    "top": "150px",
    "width": "360.594px"
   },
   "toc_section_display": true,
   "toc_window_display": true
  },
  "varInspector": {
   "cols": {
    "lenName": 16,
    "lenType": 16,
    "lenVar": 40
   },
   "kernels_config": {
    "python": {
     "delete_cmd_postfix": "",
     "delete_cmd_prefix": "del ",
     "library": "var_list.py",
     "varRefreshCmd": "print(var_dic_list())"
    },
    "r": {
     "delete_cmd_postfix": ") ",
     "delete_cmd_prefix": "rm(",
     "library": "var_list.r",
     "varRefreshCmd": "cat(var_dic_list()) "
    }
   },
   "types_to_exclude": [
    "module",
    "function",
    "builtin_function_or_method",
    "instance",
    "_Feature"
   ],
   "window_display": false
  }
 },
 "nbformat": 4,
 "nbformat_minor": 5
}
