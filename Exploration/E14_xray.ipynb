{
 "cells": [
  {
   "cell_type": "markdown",
   "id": "lesser-corps",
   "metadata": {},
   "source": [
    "# 14. 폐렴아 기다려라!"
   ]
  },
  {
   "cell_type": "markdown",
   "id": "liable-asset",
   "metadata": {},
   "source": [
    "## 6. 프로젝트 : 폐렴 진단기 성능개선\n",
    "대략 80% 정도의 정확도를 가진 X-RAY 사진 판독 폐렴 진단기를 만들어 보았다.\n",
    "\n",
    "하지만 숙련된 의사분들은 90% 이상에 도달한다고 하니, 좀더 분발해야할 것이다.\n",
    "\n",
    "그렇다면 좀전까지의 과정을 되짚어보면서, 어떤 점을 좀 더 개선해볼 수 있을지 따져 보고 스스로 개선해 가면서 좀더 성능을 향상시켜 보려고 한다."
   ]
  },
  {
   "cell_type": "markdown",
   "id": "incorporated-straight",
   "metadata": {},
   "source": [
    "__바꿀 수 있는 것들__\n",
    "\n",
    "* 이미지 크기\n",
    "* BATCH_SIZE\n",
    "* EPOCH\n",
    "* 채널 개수\n",
    "* 모델 구조\n",
    "* BatchNorm 유무\n",
    "* Dropout 유무 or 비율 변경"
   ]
  },
  {
   "cell_type": "markdown",
   "id": "interim-steal",
   "metadata": {},
   "source": [
    "### Step 1. 실험환경 Set-up\n",
    "---\n",
    "거의 바꿔볼 수 있을게 없을 것 같지만, Batch size, Epoch 등을 변경해볼 수 있을 것이다."
   ]
  },
  {
   "cell_type": "code",
   "execution_count": 1,
   "id": "accredited-operations",
   "metadata": {
    "ExecuteTime": {
     "end_time": "2021-03-05T10:03:33.492428Z",
     "start_time": "2021-03-05T10:03:31.845350Z"
    }
   },
   "outputs": [],
   "source": [
    "import re    # 정규표현식 관련된 작업에 필요한 패키지\n",
    "import os    # I/O 관련된 작업에 필요한 패키지 \n",
    "import pandas as pd     # 데이터 전처리 관련된 작업에 필요한 패키지\n",
    "import numpy as np      # 데이터 array 작업에 필요한 패키지\n",
    "import tensorflow as tf  # 딥러닝 관련된 작업에 필요한 패키지\n",
    "import matplotlib.pyplot as plt    # 데이터 시각화에 관련된 작업에 필요한 패키지\n",
    "from sklearn.model_selection import train_test_split  # 데이터 전처리에 필요한 패키지"
   ]
  },
  {
   "cell_type": "code",
   "execution_count": 2,
   "id": "dangerous-pittsburgh",
   "metadata": {
    "ExecuteTime": {
     "end_time": "2021-03-05T10:03:33.650972Z",
     "start_time": "2021-03-05T10:03:33.493794Z"
    }
   },
   "outputs": [
    {
     "name": "stdout",
     "output_type": "stream",
     "text": [
      "1 Physical GPUs, 1 Logical GPUs\n"
     ]
    }
   ],
   "source": [
    "gpus = tf.config.experimental.list_physical_devices('GPU')\n",
    "if gpus:\n",
    "    try:\n",
    "        # Currently, memory growth needs to be the same across GPUs\n",
    "        for gpu in gpus:\n",
    "            tf.config.experimental.set_memory_growth(gpu, True)\n",
    "        logical_gpus = tf.config.experimental.list_logical_devices('GPU')\n",
    "        print(len(gpus), \"Physical GPUs,\", len(logical_gpus), \"Logical GPUs\")\n",
    "    except RuntimeError as e:\n",
    "        # Memory growth must be set before GPUs have been initialized\n",
    "        print(e)"
   ]
  },
  {
   "cell_type": "markdown",
   "id": "fundamental-estonia",
   "metadata": {},
   "source": [
    "앞으로 필요한 변수들을 생성한다."
   ]
  },
  {
   "cell_type": "code",
   "execution_count": 3,
   "id": "infrared-leonard",
   "metadata": {
    "ExecuteTime": {
     "end_time": "2021-03-05T10:03:33.663192Z",
     "start_time": "2021-03-05T10:03:33.652693Z"
    }
   },
   "outputs": [
    {
     "name": "stdout",
     "output_type": "stream",
     "text": [
      "/home/aiffel-dj10/AIFFEL/Exploration/E14_xray/chest_xray/chest_xray\n"
     ]
    }
   ],
   "source": [
    "# 데이터 로드할 때 빠르게 로드할 수 있도록하는 설정 변수\n",
    "AUTOTUNE = tf.data.experimental.AUTOTUNE\n",
    "\n",
    "# 데이터 ROOT 경로 변수\n",
    "ROOT_PATH = os.path.join(os.getenv('HOME'), 'AIFFEL/Exploration/E14_xray/chest_xray/chest_xray')\n",
    "\n",
    "# BATCH_SIZE 변수\n",
    "BATCH_SIZE = 16\n",
    "\n",
    "# X-RAY 이미지 사이즈 변수\n",
    "IMAGE_SIZE = [180, 180]\n",
    "\n",
    "# EPOCH 크기 변수\n",
    "EPOCHS = 20\n",
    "\n",
    "print(ROOT_PATH)"
   ]
  },
  {
   "cell_type": "markdown",
   "id": "large-japanese",
   "metadata": {},
   "source": [
    "### Step 2. 데이터 준비하기\n",
    "---\n",
    "원본 데이터를 가져와서 전처리 및 배치 구성을 진행한다.<br>\n",
    "의료영상 이미지의 특성상 데이터는 언제나 충분하지 않다. 이를 극복할 수 있는 방법을 고민해보자.\n",
    "\n",
    "augmentation 기법을 고려해 볼 수 있을 것이다. 그러나 의료영상인 경우, 일반적인 이미지처리에서 사용하는 augmentation들이 항상 도움이 된다고 말할 수는 없다. 특히 X-RAY 같은 의료영상의 특성상, 육안으로도 구분하기 어려운 미묘한 차이에 더해진 노이즈 등 부수효과가 오히려 방해를 줄 수도 있기 때문이다.<br>\n",
    "그래서 augmentation 도입은 신중해야 한다.\n",
    "\n",
    "만약 예를 들어 좌우반전 정도의 augmentation만 도입한다고 한다면 다음과 같이 진행될 것이다.\n",
    "\n",
    "```bash\n",
    "def augment(image,label):\n",
    "    image = tf.image.random_flip_left_right(image)  # 랜덤하게 좌우를 반전합니다.\n",
    "    return image,label\n",
    "\n",
    "def prepare_for_training(ds, shuffle_buffer_size=1000):\n",
    "    # augment 적용 부분이 배치처리 함수에 추가되었습니다.\n",
    "    ds = ds.map(\n",
    "            augment,       # augment 함수 적용\n",
    "            num_parallel_calls=2\n",
    "        )\n",
    "\n",
    "    ds = ds.shuffle(buffer_size=shuffle_buffer_size)\n",
    "\n",
    "    ds = ds.repeat()\n",
    "\n",
    "    ds = ds.batch(BATCH_SIZE)\n",
    "\n",
    "    ds = ds.prefetch(buffer_size=AUTOTUNE)\n",
    "\n",
    "    return ds\n",
    "\n",
    "train_ds = prepare_for_training(train_ds)\n",
    "val_ds = prepare_for_training(val_ds)\n",
    "```"
   ]
  },
  {
   "cell_type": "code",
   "execution_count": 4,
   "id": "further-harvey",
   "metadata": {
    "ExecuteTime": {
     "end_time": "2021-03-05T10:03:33.695491Z",
     "start_time": "2021-03-05T10:03:33.664305Z"
    }
   },
   "outputs": [
    {
     "name": "stdout",
     "output_type": "stream",
     "text": [
      "5216\n",
      "624\n",
      "16\n"
     ]
    }
   ],
   "source": [
    "train_filenames = tf.io.gfile.glob(str(ROOT_PATH + '/train/*/*'))\n",
    "test_filenames = tf.io.gfile.glob(str(ROOT_PATH + '/test/*/*'))\n",
    "val_filenames = tf.io.gfile.glob(str(ROOT_PATH + '/val/*/*'))\n",
    "\n",
    "print(len(train_filenames))\n",
    "print(len(test_filenames))\n",
    "print(len(val_filenames))"
   ]
  },
  {
   "cell_type": "markdown",
   "id": "legislative-happening",
   "metadata": {},
   "source": [
    "train 안에는 5216개, test 안에는 624개, val 안에는 16개가 있다.\n",
    "\n",
    "갯수 비는 89%, 10.7%, 0.3% 이다. val 갯수가 너무 없기 때문에 train에서 val에 쓰일 데이터를 더 가져와보겠다.\n",
    "\n",
    "train과 val에 있는 데이터를 모은 다음에 train : val를 80:20으로 분할하자."
   ]
  },
  {
   "cell_type": "code",
   "execution_count": 5,
   "id": "loaded-grounds",
   "metadata": {
    "ExecuteTime": {
     "end_time": "2021-03-05T10:03:33.717737Z",
     "start_time": "2021-03-05T10:03:33.696657Z"
    }
   },
   "outputs": [
    {
     "name": "stdout",
     "output_type": "stream",
     "text": [
      "4185\n",
      "1047\n"
     ]
    }
   ],
   "source": [
    "filenames = tf.io.gfile.glob(str(ROOT_PATH + '/train/*/*'))\n",
    "filenames.extend(tf.io.gfile.glob(str(ROOT_PATH + '/val/*/*')))\n",
    "\n",
    "# train, test(val) dataset으로 분할. test_size에 0.2는 20%롤 의미함.\n",
    "train_filenames, val_filenames = train_test_split(filenames, test_size=0.2)\n",
    "\n",
    "print(len(train_filenames))\n",
    "print(len(val_filenames))"
   ]
  },
  {
   "cell_type": "markdown",
   "id": "turned-proposition",
   "metadata": {},
   "source": [
    "이제 train은 4185개, test는 624개, val은 1047개가 되었다. test_size를 수정하면 갯수는 달라질 수 있다.\n",
    "\n",
    "train 데이터 안에 정상 이미지 수와 폐렴 이미지 수를 한번 보자."
   ]
  },
  {
   "cell_type": "code",
   "execution_count": 6,
   "id": "constitutional-requirement",
   "metadata": {
    "ExecuteTime": {
     "end_time": "2021-03-05T10:03:33.723848Z",
     "start_time": "2021-03-05T10:03:33.719414Z"
    }
   },
   "outputs": [
    {
     "name": "stdout",
     "output_type": "stream",
     "text": [
      "Normal images count in training set: 1084\n",
      "Pneumonia images count in training set: 3101\n"
     ]
    }
   ],
   "source": [
    "COUNT_NORMAL = len([filename for filename in train_filenames if \"NORMAL\" in filename])\n",
    "print(\"Normal images count in training set: \" + str(COUNT_NORMAL))\n",
    "\n",
    "COUNT_PNEUMONIA = len([filename for filename in train_filenames if \"PNEUMONIA\" in filename])\n",
    "print(\"Pneumonia images count in training set: \" + str(COUNT_PNEUMONIA))"
   ]
  },
  {
   "cell_type": "markdown",
   "id": "instrumental-rental",
   "metadata": {},
   "source": [
    "결과를 보면 정상보다 폐렴 이미지 수가 3배 더 많이 있다. 오늘 사용할 CNN 모델의 경우 데이터가 클래스별 balance가 좋을 수록 training을 잘 한다. 데이터가 클래스 불균형(imbalance)한 것은 차후에 조정할 예정이다. test와 val 데이터셋은 평가하기 위해서 사용되기 때문에 학습과 관련이 없으므로 imbalance한 데이터 셋이어도 문제 없다.\n",
    "\n",
    "tf.data 인스턴스를 만들어보자. tf.data는 tensorflow에서 학습시킬 때, 배치처리 작업을 보다 효율적으로 할 수 있도록 해준다."
   ]
  },
  {
   "cell_type": "code",
   "execution_count": 7,
   "id": "accepting-xerox",
   "metadata": {
    "ExecuteTime": {
     "end_time": "2021-03-05T10:03:33.744721Z",
     "start_time": "2021-03-05T10:03:33.726732Z"
    }
   },
   "outputs": [],
   "source": [
    "train_list_ds = tf.data.Dataset.from_tensor_slices(train_filenames)\n",
    "val_list_ds = tf.data.Dataset.from_tensor_slices(val_filenames)"
   ]
  },
  {
   "cell_type": "markdown",
   "id": "dense-subject",
   "metadata": {},
   "source": [
    "Train 데이터 셋, validation 데이터 셋 갯수 확인을 해보자."
   ]
  },
  {
   "cell_type": "code",
   "execution_count": 8,
   "id": "promising-southeast",
   "metadata": {
    "ExecuteTime": {
     "end_time": "2021-03-05T10:03:33.749240Z",
     "start_time": "2021-03-05T10:03:33.746221Z"
    }
   },
   "outputs": [
    {
     "name": "stdout",
     "output_type": "stream",
     "text": [
      "Training images count: 4185\n",
      "Validating images count: 1047\n"
     ]
    }
   ],
   "source": [
    "TRAIN_IMG_COUNT = tf.data.experimental.cardinality(train_list_ds).numpy()\n",
    "print(\"Training images count: \" + str(TRAIN_IMG_COUNT))\n",
    "\n",
    "VAL_IMG_COUNT = tf.data.experimental.cardinality(val_list_ds).numpy()\n",
    "print(\"Validating images count: \" + str(VAL_IMG_COUNT))"
   ]
  },
  {
   "cell_type": "markdown",
   "id": "reported-surge",
   "metadata": {},
   "source": [
    "라벨 이름들을 한번 확인해보자."
   ]
  },
  {
   "cell_type": "code",
   "execution_count": 9,
   "id": "forbidden-belarus",
   "metadata": {
    "ExecuteTime": {
     "end_time": "2021-03-05T10:03:34.124075Z",
     "start_time": "2021-03-05T10:03:33.750404Z"
    }
   },
   "outputs": [
    {
     "name": "stdout",
     "output_type": "stream",
     "text": [
      "['NORMAL' 'PNEUMONIA']\n"
     ]
    }
   ],
   "source": [
    "CLASS_NAMES = np.array([str(tf.strings.split(item, os.path.sep)[-1].numpy())[2:-1]\n",
    "                        for item in tf.io.gfile.glob(str(ROOT_PATH + \"/train/*\"))])\n",
    "print(CLASS_NAMES)"
   ]
  },
  {
   "cell_type": "markdown",
   "id": "integral-monitor",
   "metadata": {},
   "source": [
    "두 개의 라벨이 있다. 정상을 의미하는 'NORMAL', 폐렴을 의미하는 'PNEUMONIA' 가 있다.\n",
    "\n",
    "현재 이미지에는 라벨 데이터가 따로 없다. 제목에 'NORMAL', 'PNEUMONIA'라고 되어 있기 때문에 이를 이용해서 라벨 데이터를 만들어 주는 함수를 만들어야한다."
   ]
  },
  {
   "cell_type": "code",
   "execution_count": 10,
   "id": "alpine-transaction",
   "metadata": {
    "ExecuteTime": {
     "end_time": "2021-03-05T10:03:34.128172Z",
     "start_time": "2021-03-05T10:03:34.125423Z"
    }
   },
   "outputs": [],
   "source": [
    "def get_label(file_path):\n",
    "    parts = tf.strings.split(file_path, os.path.sep)\n",
    "    return parts[-2] == \"PNEUMONIA\"   # 폐렴이면 양성(True), 노말이면 음성(False)를 리턴하게 합니다."
   ]
  },
  {
   "cell_type": "markdown",
   "id": "stunning-walker",
   "metadata": {},
   "source": [
    "이미지 데이터는 현실적으로 사이즈가 제각각일 가능성이 높다.<br>\n",
    "이미지의 사이즈를 통일 시키고 GPU 메모리를 더욱 효율적으로 사용하기 위해 이미지 사이즈를 줄여보자.<br>\n",
    "decode_img 함수와 process_path 함수를 만들겠다.\n",
    "\n",
    "process_path 함수에서 decode_img 함수를 이용해서 이미지의 데이터 타입을 float으로 바꾸고 사이즈를 변경한다. get_label을 이용해서 라벨 값을 가져온다."
   ]
  },
  {
   "cell_type": "code",
   "execution_count": 11,
   "id": "thousand-advertising",
   "metadata": {
    "ExecuteTime": {
     "end_time": "2021-03-05T10:03:34.132398Z",
     "start_time": "2021-03-05T10:03:34.129464Z"
    }
   },
   "outputs": [],
   "source": [
    "def decode_img(img):\n",
    "  # 이미지를 uint8 tensor로 바꾼다.\n",
    "  img = tf.image.decode_jpeg(img, channels=3)\n",
    "  # img를 범위 [0,1]의 float32 데이터 타입으로 바꾼다.\n",
    "  img = tf.image.convert_image_dtype(img, tf.float32)\n",
    "  # img의 이미지 사이즈를 IMAGE_SIZE에서 지정한 사이즈로 수정한다.\n",
    "  return tf.image.resize(img, IMAGE_SIZE)\n",
    "\n",
    "def process_path(file_path):\n",
    "    label = get_label(file_path)\n",
    "    img = tf.io.read_file(file_path)\n",
    "    img = decode_img(img)\n",
    "    return img, label"
   ]
  },
  {
   "cell_type": "markdown",
   "id": "affiliated-salon",
   "metadata": {},
   "source": [
    "train 데이터 셋과 validation 데이터 셋을 만든다. num_parallel_calls 파라미터에서 set-up에서 초기화 한 AUTOTUNE을 이용하면 더욱 빠르게 데이터를 처리해준다."
   ]
  },
  {
   "cell_type": "code",
   "execution_count": 12,
   "id": "defined-expression",
   "metadata": {
    "ExecuteTime": {
     "end_time": "2021-03-05T10:03:34.353517Z",
     "start_time": "2021-03-05T10:03:34.133425Z"
    }
   },
   "outputs": [],
   "source": [
    "train_ds = train_list_ds.map(process_path, num_parallel_calls=AUTOTUNE)\n",
    "val_ds = val_list_ds.map(process_path, num_parallel_calls=AUTOTUNE)"
   ]
  },
  {
   "cell_type": "markdown",
   "id": "ignored-finance",
   "metadata": {},
   "source": [
    "이미지가 잘 리사이즈 되었는지, 그리고 라벨이 잘 들어가 있는지 확인해보자."
   ]
  },
  {
   "cell_type": "code",
   "execution_count": 13,
   "id": "further-celebration",
   "metadata": {
    "ExecuteTime": {
     "end_time": "2021-03-05T10:03:34.436826Z",
     "start_time": "2021-03-05T10:03:34.354687Z"
    }
   },
   "outputs": [
    {
     "name": "stdout",
     "output_type": "stream",
     "text": [
      "Image shape:  (180, 180, 3)\n",
      "Label:  False\n"
     ]
    }
   ],
   "source": [
    "for image, label in train_ds.take(1):\n",
    "    print(\"Image shape: \", image.numpy().shape)\n",
    "    print(\"Label: \", label.numpy())"
   ]
  },
  {
   "cell_type": "markdown",
   "id": "floating-identifier",
   "metadata": {},
   "source": [
    "사이즈가 잘 변환되어 있고 라벨도 잘 들어가있는 모습이다. 참고로, 코드에서 `train_ds.take(1)`은 하나의 데이터만 가져온다 라는 의미이다.\n",
    "\n",
    "위에서 train과 validation 데이터 셋을 만든 것 처럼 test 데이터 셋도 만들어 보겠다. 그리고 데이터 갯수도 확인해보자."
   ]
  },
  {
   "cell_type": "code",
   "execution_count": 14,
   "id": "convinced-prime",
   "metadata": {
    "ExecuteTime": {
     "end_time": "2021-03-05T10:03:34.482849Z",
     "start_time": "2021-03-05T10:03:34.438153Z"
    }
   },
   "outputs": [
    {
     "name": "stdout",
     "output_type": "stream",
     "text": [
      "624\n"
     ]
    }
   ],
   "source": [
    "test_list_ds = tf.data.Dataset.list_files(str(ROOT_PATH + '/test/*/*'))\n",
    "TEST_IMAGE_COUNT = tf.data.experimental.cardinality(test_list_ds).numpy()\n",
    "test_ds = test_list_ds.map(process_path, num_parallel_calls=AUTOTUNE)\n",
    "test_ds = test_ds.batch(BATCH_SIZE)\n",
    "\n",
    "print(TEST_IMAGE_COUNT)"
   ]
  },
  {
   "cell_type": "markdown",
   "id": "eastern-automation",
   "metadata": {},
   "source": [
    "Tensorflow에서는 tf.data 파이프라인을 사용해서 학습 데이터를 효율적으로 사용할 수 있도록 해준다.<br>\n",
    "밑에 있는 prepare_for_training() 함수는 학습 데이터를 효율적으로 할 수 있도록 데이터를 변환 시켜준다.\n",
    "\n",
    "shuffle()을 사용하며 고정 크기 버퍼를 유지하고 해당 버퍼에서 무작위로 균일하게 다음 요소를 선택한다.\n",
    "\n",
    "repeat()를 사용하면 epoch를 진행하면서 여러번 데이터셋을 불러오게 되는데, 이때 repeat()를 사용한 데이터셋의 경우 여러번 데이터셋을 사용할 수 있게 해준다.<br>\n",
    "예를 들어, 100개의 데이터를 10번 반복하면 1000개의 데이터가 필요하게 된다. repeat()를 사용하면 자동으로 데이터를 맞춰준다.\n",
    "\n",
    "batch()를 사용하면 BATCH_SIZE에서 정한 만큼의 배치로 주어진다.<br>\n",
    "예를 들어, 100개의 데이터를 10개의 배치로 나누게 되면 각 배치에는 10개의 데이터로 나뉘게 된다.\n",
    "\n",
    "prefetch()를 사용하면 학습데이터를 나눠서 읽어오기 때문에, 첫 번째 데이터를 GPU에서 학습하는 동안 두 번째 데이터를 CPU에서 준비할 수 있어 리소스의 유휴 상태를 줄일 수 있다."
   ]
  },
  {
   "cell_type": "code",
   "execution_count": 15,
   "id": "accomplished-buffer",
   "metadata": {
    "ExecuteTime": {
     "end_time": "2021-03-05T10:03:34.547537Z",
     "start_time": "2021-03-05T10:03:34.483963Z"
    }
   },
   "outputs": [],
   "source": [
    "def augment(image,label):\n",
    "    image = tf.image.random_flip_left_right(image)  # 랜덤하게 좌우를 반전합니다.\n",
    "    return image,label\n",
    "\n",
    "def prepare_for_training(ds, shuffle_buffer_size=1000):\n",
    "    # augment 적용 부분이 배치처리 함수에 추가되었습니다.\n",
    "    ds = ds.map(\n",
    "            augment,       # augment 함수 적용\n",
    "            num_parallel_calls=2\n",
    "        )\n",
    "\n",
    "    ds = ds.shuffle(buffer_size=shuffle_buffer_size)\n",
    "\n",
    "    ds = ds.repeat()\n",
    "\n",
    "    ds = ds.batch(BATCH_SIZE)\n",
    "\n",
    "    ds = ds.prefetch(buffer_size=AUTOTUNE)\n",
    "\n",
    "    return ds\n",
    "\n",
    "train_ds = prepare_for_training(train_ds)\n",
    "val_ds = prepare_for_training(val_ds)"
   ]
  },
  {
   "cell_type": "markdown",
   "id": "innocent-class",
   "metadata": {
    "ExecuteTime": {
     "end_time": "2021-03-04T13:43:43.573937Z",
     "start_time": "2021-03-04T13:43:43.570783Z"
    }
   },
   "source": [
    "### Step 3. 데이터 시각화\n",
    "---\n",
    "학습용 데이터를 시각화해서 확인해본다.<br>\n",
    "만약 augmentation을 시도했다면 `show_batch()` 함수를 통해 실제로 좌우반전 등이 제대로 처리되었는지 확인해보자."
   ]
  },
  {
   "cell_type": "markdown",
   "id": "respiratory-corpus",
   "metadata": {},
   "source": [
    "데이터를 보기 위해 먼저, train에 있는 batch 중 첫 번째 배치를 추출한다. 추출된 배치를 image와 label 데이터 셋으로 나눈다. 이제 show_batch()함수를 이용해서 결과 사진을 보겠다."
   ]
  },
  {
   "cell_type": "code",
   "execution_count": 16,
   "id": "attractive-colon",
   "metadata": {
    "ExecuteTime": {
     "end_time": "2021-03-05T10:03:38.832668Z",
     "start_time": "2021-03-05T10:03:34.548778Z"
    }
   },
   "outputs": [
    {
     "data": {
      "image/png": "[encoded data removed]",
      "text/plain": [
       "<Figure size 720x720 with 8 Axes>"
      ]
     },
     "metadata": {
      "needs_background": "light"
     },
     "output_type": "display_data"
    }
   ],
   "source": [
    "image_batch, label_batch = next(iter(train_ds))\n",
    "\n",
    "def show_batch(image_batch, label_batch):\n",
    "    plt.figure(figsize=(10,10))\n",
    "    for n in range(8):\n",
    "        ax = plt.subplot(5,5,n+1)\n",
    "        plt.imshow(image_batch[n])\n",
    "        if label_batch[n]:\n",
    "            plt.title(\"PNEUMONIA\")\n",
    "        else:\n",
    "            plt.title(\"NORMAL\")\n",
    "        plt.axis(\"off\")\n",
    "\n",
    "show_batch(image_batch.numpy(), label_batch.numpy())"
   ]
  },
  {
   "cell_type": "markdown",
   "id": "arctic-albuquerque",
   "metadata": {},
   "source": [
    "### Step 4. CNN 모델링\n",
    "---\n",
    "의료영상 판독을 위해 실습에서 구현했던 model에서 다양한 것들을 바꾸어 가며 실험해볼 수 있다. Convolution filter, 채널 개수, activation, 모델구조 등을 다양하게 바꾸어볼 수 있다.\n",
    "\n",
    "그리고, BatchNormalization과 Dropout을 한 모델 안에서 동시에 사용하는 특이한 구성을 사용했다.<br>\n",
    "이것은 일반적으로 잘 사용되는 형태는 아니다. 하지만 이미지 사이즈가 크고 데이터가 부족한 의료영상에서는 실용적으로 간혹 좋은 성능을 보이기도 한다. 만약 이 구성을 변경해 보면 어떤 효과가 발생하는지도 실험해보자. BatchNormalization을 쓰거나 혹은 쓰지 않거나, Dropout을 쓰거나 혹은 쓰지 않거나 할 수 있다. 또, Dropout 비율을 변경해볼 수도 있다."
   ]
  },
  {
   "cell_type": "markdown",
   "id": "theoretical-frank",
   "metadata": {},
   "source": [
    "가장 대표적인 딥러닝 모델인 CNN을 모델링하고 결과를 만들어 보겠다.\n",
    "\n",
    "[CNN, Convolutional Neural Network 요약](http://taewan.kim/post/cnn/)\n",
    "\n",
    "먼저, Convolution block을 만든다. conv_block()의 구성은 Convolution을 두번 진행하고 Batch Normalization을 통해서 Gradient vanishing, Gradient Exploding을 해결한다. 그리고 Max Pooling을 한다."
   ]
  },
  {
   "cell_type": "code",
   "execution_count": 17,
   "id": "inside-phrase",
   "metadata": {
    "ExecuteTime": {
     "end_time": "2021-03-05T10:03:38.836408Z",
     "start_time": "2021-03-05T10:03:38.833804Z"
    }
   },
   "outputs": [],
   "source": [
    "def conv_block(filters):\n",
    "    block = tf.keras.Sequential([\n",
    "        tf.keras.layers.SeparableConv2D(filters, 3, activation='relu', padding='same'),\n",
    "        tf.keras.layers.SeparableConv2D(filters, 3, activation='relu', padding='same'),\n",
    "        tf.keras.layers.BatchNormalization(),\n",
    "        tf.keras.layers.MaxPool2D()\n",
    "    ]\n",
    "    )\n",
    "    \n",
    "    return block"
   ]
  },
  {
   "cell_type": "markdown",
   "id": "regular-northeast",
   "metadata": {},
   "source": [
    "Dense Block은 아래와 같이 만든다."
   ]
  },
  {
   "cell_type": "code",
   "execution_count": 18,
   "id": "described-diagram",
   "metadata": {
    "ExecuteTime": {
     "end_time": "2021-03-05T10:03:38.848082Z",
     "start_time": "2021-03-05T10:03:38.837330Z"
    }
   },
   "outputs": [],
   "source": [
    "def dense_block(units, dropout_rate):\n",
    "    block = tf.keras.Sequential([\n",
    "        tf.keras.layers.Dense(units, activation='relu'),\n",
    "        tf.keras.layers.BatchNormalization(),\n",
    "        tf.keras.layers.Dropout(dropout_rate)\n",
    "    ])\n",
    "    \n",
    "    return block"
   ]
  },
  {
   "cell_type": "markdown",
   "id": "twenty-chain",
   "metadata": {},
   "source": [
    "만들 CNN 모델은 약간의 수정을 거쳐 만들어진 모델이다. 전형적인 CNN 모델과는 약간 다른 모델이다.\n",
    "\n",
    "어떤 부분이 가장 특이한가? 눈에 띄었을지 모르겠지만, 방금 만들어진 모델에는 Batch Normalization과 Dropout이라는 두가지 regularization 기법이 동시에 사용되고 있다.<br>\n",
    "일반적으로 이런 방법은 잘 사용되지 않거나, 금기시되기도 한다. 대표적으로 아래와 같은 논문의 사례를 들 수 있다.\n",
    "\n",
    "* [Understanding the Disharmony between Dropout and Batch Normalization by Variance Shift](https://openaccess.thecvf.com/content_CVPR_2019/papers/Li_Understanding_the_Disharmony_Between_Dropout_and_Batch_Normalization_by_Variance_CVPR_2019_paper.pdf)\n",
    "\n",
    "위 논문에서는 variance shift를 억제하는 Batch Normalization과 이를 유발시키는 Dropout을 동시에 사용하는 것이 어울리지 않는다고 밝히고 있다.\n",
    "\n",
    "그러나, 실용적으로는 두 방법을 같이 쓰는 것이 낫다고 보는 견해도 없는 것은 아니다. 예외적으로 동시에 사용하는 것이 성능향상에 도움을 주는 경우가 실제로 있다. 아래 논문과 같이 두 방법을 같이 쓰는 것을 옹호하는 경우도 있다.\n",
    "\n",
    "* [Rethinking the Usage of Batch Normalization and Dropout in the Training of Deep Neural Networks](https://arxiv.org/pdf/1905.05928.pdf)\n",
    "\n",
    "두가지를 함께 사용하는 이 모델이 성능향상에 도움이 될지 여부도 흥미롭게 살펴볼만 한 부분이다."
   ]
  },
  {
   "cell_type": "code",
   "execution_count": 19,
   "id": "signed-delivery",
   "metadata": {
    "ExecuteTime": {
     "end_time": "2021-03-05T10:03:38.924325Z",
     "start_time": "2021-03-05T10:03:38.849238Z"
    }
   },
   "outputs": [],
   "source": [
    "def build_model():\n",
    "    model = tf.keras.Sequential([\n",
    "        tf.keras.Input(shape=(IMAGE_SIZE[0], IMAGE_SIZE[1], 3)),\n",
    "        \n",
    "        tf.keras.layers.Conv2D(16, 3, activation='relu', padding='same'),\n",
    "        tf.keras.layers.Conv2D(16, 3, activation='relu', padding='same'),\n",
    "        tf.keras.layers.MaxPool2D(),\n",
    "        \n",
    "        conv_block(32),\n",
    "        conv_block(64),\n",
    "        \n",
    "        conv_block(128),\n",
    "#         tf.keras.layers.Dropout(0.2),\n",
    "        tf.keras.layers.BatchNormalization(),\n",
    "        \n",
    "        conv_block(256),\n",
    "#         tf.keras.layers.Dropout(0.2),\n",
    "        tf.keras.layers.BatchNormalization(),\n",
    "        \n",
    "        tf.keras.layers.Flatten(),\n",
    "        dense_block(512, 0.7),\n",
    "        dense_block(128, 0.5),\n",
    "        dense_block(64, 0.3),\n",
    "        \n",
    "        tf.keras.layers.Dense(1, activation='sigmoid')\n",
    "    ])\n",
    "    \n",
    "    return model"
   ]
  },
  {
   "cell_type": "markdown",
   "id": "ongoing-conflict",
   "metadata": {},
   "source": [
    "### Step 5. 데이터 imbalance 처리\n",
    "---\n",
    "데이터의 imbalance 문제에 대처하기 위해 데이터 비율로 나누어진 `class_weight`를 설정해 주었다. 만약 이러한 처리를 생략한다면 어떻게 될까? 또 recall을 강조하기 위해 폐렴데이터를 잘 맞추는 것을 더 강화하는 효과를 만들어낼 수는 없을까?"
   ]
  },
  {
   "cell_type": "markdown",
   "id": "formal-award",
   "metadata": {},
   "source": [
    "위에서 얘기 했던 데이터 imbalance 문제이다.<br>\n",
    "'Normal'과 폐렴에서 'Pneumonia' 중에 'Pneumonia' 데이터가 많이 있었다. 한 라벨이 너무 많은 경우를 imbalance 하다고 하는데, 데이터를 학습 할 때 imbalance한 데이터의 경우 학습 효과가 좋지 않을 수 있다.\n",
    "\n",
    "이런 문제들을 해결하는 방법으로 `Weight balancing`이라는 테크닉이 사용된다. Weight balancing 은 training set 의 각 데이터에서 loss 를 계산할 때 특정 클래스의 데이터에 더 큰 loss 값을 갖도록 가중치를 부여하는 방법이다. Keras는 model.fit()을 호출할 때 파라미터로 넘기는 class_weight 에 이러한 클래스별 가중치를 세팅할 수 있도록 지원하고 있다. 상세한 내용은 아래 링크 참고.\n",
    "\n",
    "* [딥러닝에서 클래스 불균형을 다루는 방법](https://3months.tistory.com/414)\n",
    "\n",
    "아래 코드에서 `weight_for_0`은 'Normal' 이미지에 사용할 weight를, `weight_for_1`은 'Pneumonia' 이미지에 사용할 weight를 세팅한다. 이 weight들은 'Normal'과 'Pneumonia' 전체 데이터 건수에 반비례하도록 설정된다."
   ]
  },
  {
   "cell_type": "code",
   "execution_count": 20,
   "id": "czech-tanzania",
   "metadata": {
    "ExecuteTime": {
     "end_time": "2021-03-05T10:03:38.930414Z",
     "start_time": "2021-03-05T10:03:38.926200Z"
    }
   },
   "outputs": [
    {
     "name": "stdout",
     "output_type": "stream",
     "text": [
      "Weight for class 0: 1.93\n",
      "Weight for class 1: 0.67\n"
     ]
    }
   ],
   "source": [
    "weight_for_0 = (1 / COUNT_NORMAL)*(TRAIN_IMG_COUNT)/2.0 \n",
    "weight_for_1 = (1 / COUNT_PNEUMONIA)*(TRAIN_IMG_COUNT)/2.0\n",
    "\n",
    "class_weight = {0: weight_for_0, 1: weight_for_1}\n",
    "\n",
    "print('Weight for class 0: {:.2f}'.format(weight_for_0))\n",
    "print('Weight for class 1: {:.2f}'.format(weight_for_1))"
   ]
  },
  {
   "cell_type": "markdown",
   "id": "inclusive-broadway",
   "metadata": {},
   "source": [
    "### Step 6. 모델 훈련\n",
    "---\n",
    "loss 함수를 변경하기는 어렵겠지만, optimizer나 learning rate 등의 변화를 고려해볼 수 있을 것이다."
   ]
  },
  {
   "cell_type": "markdown",
   "id": "rural-translator",
   "metadata": {},
   "source": [
    "이미지 훈련은 GPU를 사용할 것이기 때문에 먼저 GPU를 선택한다. 모델은 위에서 만들었던 모델 함수인 build_model()을 model에 선언한다.\n",
    "\n",
    "이미지의 라벨이 두 개밖에 없기 때문에 \"binary_cross entropy\" loss를 사용한다. optimizer로 'adam'을 사용한다.\n",
    "성과에 대해서 측정하기 위한 metrics으로 'accuracy', 'precision', 'recall'을 사용한다.\n"
   ]
  },
  {
   "cell_type": "code",
   "execution_count": 21,
   "id": "cooperative-airline",
   "metadata": {
    "ExecuteTime": {
     "end_time": "2021-03-05T10:03:39.367691Z",
     "start_time": "2021-03-05T10:03:38.932070Z"
    }
   },
   "outputs": [],
   "source": [
    "with tf.device('/GPU:0'):\n",
    "    model = build_model()\n",
    "\n",
    "    METRICS = [\n",
    "        'accuracy',\n",
    "        tf.keras.metrics.Precision(name='precision'),\n",
    "        tf.keras.metrics.Recall(name='recall')\n",
    "    ]\n",
    "    \n",
    "    model.compile(\n",
    "        optimizer='adam',\n",
    "        loss='binary_crossentropy',\n",
    "        metrics=METRICS\n",
    "    )"
   ]
  },
  {
   "cell_type": "markdown",
   "id": "ranking-bosnia",
   "metadata": {},
   "source": [
    "모델을 fit 해보자. 각 파라미터에 위에서 선언했었던 변수, 데이터 셋을 가져와서 각각에 맞게 넣어준다."
   ]
  },
  {
   "cell_type": "code",
   "execution_count": 22,
   "id": "speaking-postage",
   "metadata": {
    "ExecuteTime": {
     "end_time": "2021-03-05T10:11:51.577549Z",
     "start_time": "2021-03-05T10:03:39.370783Z"
    }
   },
   "outputs": [
    {
     "name": "stdout",
     "output_type": "stream",
     "text": [
      "Epoch 1/20\n",
      "261/261 [==============================] - 27s 105ms/step - loss: 0.4544 - accuracy: 0.7617 - precision: 0.9339 - recall: 0.7302 - val_loss: 0.8128 - val_accuracy: 0.7481 - val_precision: 0.7481 - val_recall: 1.0000\n",
      "Epoch 2/20\n",
      "261/261 [==============================] - 23s 87ms/step - loss: 0.2392 - accuracy: 0.9037 - precision: 0.9716 - recall: 0.8962 - val_loss: 1.7173 - val_accuracy: 0.7471 - val_precision: 0.7471 - val_recall: 1.0000\n",
      "Epoch 3/20\n",
      "261/261 [==============================] - 23s 87ms/step - loss: 0.2022 - accuracy: 0.9236 - precision: 0.9740 - recall: 0.9215 - val_loss: 0.5373 - val_accuracy: 0.7798 - val_precision: 0.7724 - val_recall: 1.0000\n",
      "Epoch 4/20\n",
      "261/261 [==============================] - 23s 87ms/step - loss: 0.2008 - accuracy: 0.9219 - precision: 0.9770 - recall: 0.9166 - val_loss: 0.2027 - val_accuracy: 0.9125 - val_precision: 0.8971 - val_recall: 0.9974\n",
      "Epoch 5/20\n",
      "261/261 [==============================] - 23s 86ms/step - loss: 0.1743 - accuracy: 0.9346 - precision: 0.9770 - recall: 0.9336 - val_loss: 0.4422 - val_accuracy: 0.8279 - val_precision: 0.9983 - val_recall: 0.7706\n",
      "Epoch 6/20\n",
      "261/261 [==============================] - 22s 85ms/step - loss: 0.1707 - accuracy: 0.9373 - precision: 0.9797 - recall: 0.9347 - val_loss: 0.0949 - val_accuracy: 0.9673 - val_precision: 0.9696 - val_recall: 0.9871\n",
      "Epoch 7/20\n",
      "261/261 [==============================] - 22s 85ms/step - loss: 0.1554 - accuracy: 0.9420 - precision: 0.9818 - recall: 0.9393 - val_loss: 0.1243 - val_accuracy: 0.9529 - val_precision: 0.9893 - val_recall: 0.9473\n",
      "Epoch 8/20\n",
      "261/261 [==============================] - 22s 84ms/step - loss: 0.1389 - accuracy: 0.9471 - precision: 0.9838 - recall: 0.9441 - val_loss: 0.1232 - val_accuracy: 0.9615 - val_precision: 0.9543 - val_recall: 0.9961\n",
      "Epoch 9/20\n",
      "261/261 [==============================] - 22s 86ms/step - loss: 0.1346 - accuracy: 0.9504 - precision: 0.9839 - recall: 0.9485 - val_loss: 0.2396 - val_accuracy: 0.9154 - val_precision: 0.9914 - val_recall: 0.8943\n",
      "Epoch 10/20\n",
      "261/261 [==============================] - 22s 85ms/step - loss: 0.1302 - accuracy: 0.9516 - precision: 0.9866 - recall: 0.9478 - val_loss: 0.1397 - val_accuracy: 0.9481 - val_precision: 0.9918 - val_recall: 0.9383\n",
      "Epoch 11/20\n",
      "261/261 [==============================] - 22s 84ms/step - loss: 0.1126 - accuracy: 0.9564 - precision: 0.9899 - recall: 0.9507 - val_loss: 0.0780 - val_accuracy: 0.9750 - val_precision: 0.9883 - val_recall: 0.9781\n",
      "Epoch 12/20\n",
      "261/261 [==============================] - 22s 86ms/step - loss: 0.1229 - accuracy: 0.9540 - precision: 0.9870 - recall: 0.9507 - val_loss: 0.3830 - val_accuracy: 0.9029 - val_precision: 0.8931 - val_recall: 0.9884\n",
      "Epoch 13/20\n",
      "261/261 [==============================] - 22s 85ms/step - loss: 0.1107 - accuracy: 0.9571 - precision: 0.9909 - recall: 0.9509 - val_loss: 0.1088 - val_accuracy: 0.9673 - val_precision: 0.9757 - val_recall: 0.9807\n",
      "Epoch 14/20\n",
      "261/261 [==============================] - 22s 85ms/step - loss: 0.1137 - accuracy: 0.9579 - precision: 0.9889 - recall: 0.9538 - val_loss: 0.2107 - val_accuracy: 0.9202 - val_precision: 0.9957 - val_recall: 0.8973\n",
      "Epoch 15/20\n",
      "261/261 [==============================] - 22s 85ms/step - loss: 0.0998 - accuracy: 0.9641 - precision: 0.9917 - recall: 0.9596 - val_loss: 0.0949 - val_accuracy: 0.9625 - val_precision: 0.9779 - val_recall: 0.9716\n",
      "Epoch 16/20\n",
      "261/261 [==============================] - 22s 84ms/step - loss: 0.1265 - accuracy: 0.9509 - precision: 0.9875 - recall: 0.9456 - val_loss: 0.1535 - val_accuracy: 0.9308 - val_precision: 0.9958 - val_recall: 0.9113\n",
      "Epoch 17/20\n",
      "261/261 [==============================] - 22s 85ms/step - loss: 0.1149 - accuracy: 0.9595 - precision: 0.9877 - recall: 0.9574 - val_loss: 0.1114 - val_accuracy: 0.9587 - val_precision: 0.9599 - val_recall: 0.9858\n",
      "Epoch 18/20\n",
      "261/261 [==============================] - 22s 86ms/step - loss: 0.1009 - accuracy: 0.9591 - precision: 0.9880 - recall: 0.9565 - val_loss: 0.2135 - val_accuracy: 0.9115 - val_precision: 0.9985 - val_recall: 0.8826\n",
      "Epoch 19/20\n",
      "261/261 [==============================] - 22s 84ms/step - loss: 0.1192 - accuracy: 0.9526 - precision: 0.9875 - recall: 0.9477 - val_loss: 0.0802 - val_accuracy: 0.9721 - val_precision: 0.9870 - val_recall: 0.9755\n",
      "Epoch 20/20\n",
      "261/261 [==============================] - 22s 85ms/step - loss: 0.0856 - accuracy: 0.9674 - precision: 0.9914 - recall: 0.9644 - val_loss: 0.1393 - val_accuracy: 0.9442 - val_precision: 0.9959 - val_recall: 0.9291\n"
     ]
    }
   ],
   "source": [
    "with tf.device('/GPU:0'):\n",
    "    history = model.fit(\n",
    "        train_ds,\n",
    "        steps_per_epoch=TRAIN_IMG_COUNT // BATCH_SIZE,\n",
    "        epochs=EPOCHS,\n",
    "        validation_data=val_ds,\n",
    "        validation_steps=VAL_IMG_COUNT // BATCH_SIZE,\n",
    "        class_weight=class_weight,\n",
    "    )"
   ]
  },
  {
   "cell_type": "markdown",
   "id": "speaking-yacht",
   "metadata": {},
   "source": [
    "### Step 7. 결과 확인과 시각화\n",
    "---\n",
    "테스트데이터로 훈련된 모델을 평가해보자. 우선은 accuracy를 고려해야겠지만 의료영상 모델의 특성상 recall도 중요하다. 훈련과정의 history 그래프를 시각화해 보고, 학습 진행양상을 면밀히 분석해 보는 것도 잊지 않도록 하자.\n",
    "\n",
    "이제 결과를 확인해보자. 그래프로 Epochs 마다 모델의 precision, recall, accuracy, loss가 어떻게 변하는지 보여준다."
   ]
  },
  {
   "cell_type": "code",
   "execution_count": 23,
   "id": "automotive-positive",
   "metadata": {
    "ExecuteTime": {
     "end_time": "2021-03-05T10:11:51.979211Z",
     "start_time": "2021-03-05T10:11:51.580151Z"
    }
   },
   "outputs": [
    {
     "data": {
      "image/png": "[encoded data removed]",
      "text/plain": [
       "<Figure size 1440x216 with 4 Axes>"
      ]
     },
     "metadata": {
      "needs_background": "light"
     },
     "output_type": "display_data"
    }
   ],
   "source": [
    "fig, ax = plt.subplots(1, 4, figsize=(20, 3))\n",
    "ax = ax.ravel()\n",
    "\n",
    "for i, met in enumerate(['precision', 'recall', 'accuracy', 'loss']):\n",
    "    ax[i].plot(history.history[met])\n",
    "    ax[i].plot(history.history['val_' + met])\n",
    "    ax[i].set_title('Model {}'.format(met))\n",
    "    ax[i].set_xlabel('epochs')\n",
    "    ax[i].set_ylabel(met)\n",
    "    ax[i].legend(['train', 'val'])"
   ]
  },
  {
   "cell_type": "markdown",
   "id": "final-cooper",
   "metadata": {},
   "source": [
    "테스트 데이터로 모델 평가를 해보겠다.\n",
    "\n",
    "모델 평가를 위해 loss, accuracy, precision, recall 값을 출력 해보겠다."
   ]
  },
  {
   "cell_type": "code",
   "execution_count": 24,
   "id": "severe-people",
   "metadata": {
    "ExecuteTime": {
     "end_time": "2021-03-05T10:11:54.517721Z",
     "start_time": "2021-03-05T10:11:51.980290Z"
    }
   },
   "outputs": [
    {
     "name": "stdout",
     "output_type": "stream",
     "text": [
      "39/39 [==============================] - 2s 59ms/step - loss: 0.4965 - accuracy: 0.8686 - precision: 0.8468 - recall: 0.9641\n"
     ]
    }
   ],
   "source": [
    "loss, acc, prec, rec = model.evaluate(test_ds)"
   ]
  },
  {
   "cell_type": "markdown",
   "id": "dutch-bowling",
   "metadata": {},
   "source": [
    "### 회고\n",
    "---\n",
    "* 처음에 아무것도 바꾸지 않고 모델을 학습시켜보았다. 정확도가 0.7420 나왔다.\n",
    "* 영석님이 이미지 크기를 늘려보라고 해서 (500, 500)으로 시도해보았지만 역시나 정확도가 좋게 나오지 않았다.\n",
    "* 모델을 좀 변경해야 할 것 같아서, BatchNormalization을 추가하고 정확도가 0.8이 나왔다. 정확도가 큰폭으로 상승한 걸 보고BatchNormalization은 필요하다고 판단했다.\n",
    "* 그래서 이번에는 dropout을 제거해보았다. 그랬더니 정확도가 0.8325 정도 나오는 것을 확인했다.  \n",
    "* 조금 더 정확도를 올려야 하기에 데이터의 부족함을 매울수 있는 좌우반전 augmentation을 시도해서 부족한 데이터를 만들었다.\n",
    "* 그렇게 정확도를 0.8686에 맞출 수 있었다.\n",
    "<br><br>\n",
    "* __성능 향상을 위해 변경한 것들__\n",
    "    - 이미지 크기는 (180, 180), BATCH_SIZE = 16, EPOCHS = 20으로 큰 변경없이 진행했다.\n",
    "    - imbalance를 극복하기 위해 train 데이터와 validation 데이터에 좌우반전 augmentation을 진행하였다. \n",
    "    - 학습 모델에서는 dropout을 없애고 BatchNormalization을 추가했다.\n",
    "    - 그래서 기존 모델 conv_block(32), conv_block(64), conv_block(128), dropout(0.2), conv_block(256), dropout(0.2) 에서\n",
    "        - conv_block(32), conv_block(64), conv_block(128), __BatchNorm()__, conv_block(256), __BatchNorm()__ 구조로 설계했다.\n",
    "     "
   ]
  },
  {
   "cell_type": "markdown",
   "id": "innocent-congo",
   "metadata": {},
   "source": [
    "### 루브릭\n",
    "---\n",
    "* 의료영상을 처리하는 CNN 기반 딥러닝 모델이 잘 구현되었다.<br>\n",
    "(_모델 학습이 안정적으로 수렴하는 것을 시각화를 통해 확인하였다._)\n",
    "\n",
    "    * __모델 loss가 초반에는 튀었지만 뒤로 갈수록 점점 0에 수렴하였다.__\n",
    "\n",
    "* 데이터 준비, 모델구성 등의 과정의 다양한 실험이 체계적으로 수행되었다.<br>\n",
    "( _regularization, augmentation 등의 기법의 사용 여부에 따른 모델 성능 측정이 ablation study 형태로 체계적으로 수행되었다._)\n",
    "    \n",
    "    * __데이터 준비, 모델구성 변경 한것들을 회고 아래에 상세하게 적었다.__\n",
    "\n",
    "* 실습코드를 잘 개선하여 폐렴 검출 정확도가 추가로 향상되었다.<br>\n",
    "(_Accuracy 기준 85%에 도달하였다._)\n",
    "    \n",
    "    * __Accuracy 기준 0.8686에 도달하였다.__"
   ]
  }
 ],
 "metadata": {
  "kernelspec": {
   "display_name": "aiffel",
   "language": "python",
   "name": "aiffel"
  },
  "language_info": {
   "codemirror_mode": {
    "name": "ipython",
    "version": 3
   },
   "file_extension": ".py",
   "mimetype": "text/x-python",
   "name": "python",
   "nbconvert_exporter": "python",
   "pygments_lexer": "ipython3",
   "version": "3.7.9"
  },
  "toc": {
   "base_numbering": 1,
   "nav_menu": {},
   "number_sections": true,
   "sideBar": true,
   "skip_h1_title": false,
   "title_cell": "Table of Contents",
   "title_sidebar": "Contents",
   "toc_cell": false,
   "toc_position": {},
   "toc_section_display": true,
   "toc_window_display": false
  },
  "varInspector": {
   "cols": {
    "lenName": 16,
    "lenType": 16,
    "lenVar": 40
   },
   "kernels_config": {
    "python": {
     "delete_cmd_postfix": "",
     "delete_cmd_prefix": "del ",
     "library": "var_list.py",
     "varRefreshCmd": "print(var_dic_list())"
    },
    "r": {
     "delete_cmd_postfix": ") ",
     "delete_cmd_prefix": "rm(",
     "library": "var_list.r",
     "varRefreshCmd": "cat(var_dic_list()) "
    }
   },
   "types_to_exclude": [
    "module",
    "function",
    "builtin_function_or_method",
    "instance",
    "_Feature"
   ],
   "window_display": false
  }
 },
 "nbformat": 4,
 "nbformat_minor": 5
}
