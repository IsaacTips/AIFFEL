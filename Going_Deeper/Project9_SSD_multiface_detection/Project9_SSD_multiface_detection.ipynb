{
 "cells": [
  {
   "cell_type": "markdown",
   "id": "09c2ad65",
   "metadata": {},
   "source": [
    "# !공지사항!\n",
    "\n",
    "*아래와 같이 노드 진행 시 참고할 사항있음*\n",
    "\n",
    "저희가 학습이 되는 환경을 테스트해본 결과, 2.3.0버전에서 학습이 되는 것으로 확인이 되었습니다.  \n",
    "따라서, **2.3.0버전에서 학습한 weight로 2.4.1버전에서 동작시키는 방식으로 진행**하시면 되겠습니다.  \n",
    "정리하자면 다음과 같습니다.  \n",
    "1. 텐서플로 2.3.0 버전의 환경에서 학습  \n",
    "    a. 현재 aiffel 가상환경의 2.4.1 텐서플로를 삭제 후 2.3.0으로 재설치 이후 모델 학습까지 진행  \n",
    "    b.새로운 가상환경을 만든 후, 2.3.0 텐서플로를 설치한 후 모델 학습까지 진행  \n",
    "    \n",
    "    \n",
    "2. 학습한 pretrained weight 파일(`weights_epoch_100.h5`)을 `~/aiffel/face_detector/checkpoints`에 옮기기  \n",
    "\n",
    "\n",
    "3. 학습 이후부터 이어서 진행  \n",
    "    a. 1-a를 따라서 2.3.0으로 낮추신 분들은 일단 계속해서 진행하는데 문제가 없으시면 계속 진행하셔도 될 것 같습니다. (문제가 있다면, 2.3.0 버전을 다시 지우고 2.4.1로 재설치해서 진행)  \n",
    "    b. 1-b를 따라서 새로운 가상환경에서 학습하신 분은 2.4.1버전의 aiffel 가상 환경에서 이어서 진행하시면 됩니다."
   ]
  },
  {
   "cell_type": "code",
   "execution_count": 1,
   "id": "f180b05c",
   "metadata": {
    "ExecuteTime": {
     "end_time": "2021-05-19T17:53:55.663997Z",
     "start_time": "2021-05-19T17:53:53.651250Z"
    }
   },
   "outputs": [
    {
     "name": "stdout",
     "output_type": "stream",
     "text": [
      "1 Physical GPUs, 1 Logical GPUs\n"
     ]
    }
   ],
   "source": [
    "import tensorflow as tf\n",
    "\n",
    "gpus = tf.config.experimental.list_physical_devices('GPU')\n",
    "if gpus:\n",
    "    try:\n",
    "        # Currently, memory growth needs to be the same across GPUs\n",
    "        for gpu in gpus:\n",
    "            tf.config.experimental.set_memory_growth(gpu, True)\n",
    "        logical_gpus = tf.config.experimental.list_logical_devices('GPU')\n",
    "        print(len(gpus), \"Physical GPUs,\", len(logical_gpus), \"Logical GPUs\")\n",
    "    except RuntimeError as e:\n",
    "        # Memory growth must be set before GPUs have been initialized\n",
    "        print(e)"
   ]
  },
  {
   "cell_type": "code",
   "execution_count": 2,
   "id": "11a59598",
   "metadata": {
    "ExecuteTime": {
     "end_time": "2021-05-19T17:53:55.674230Z",
     "start_time": "2021-05-19T17:53:55.665603Z"
    }
   },
   "outputs": [
    {
     "data": {
      "text/plain": [
       "[PhysicalDevice(name='/physical_device:GPU:0', device_type='GPU')]"
      ]
     },
     "execution_count": 2,
     "metadata": {},
     "output_type": "execute_result"
    }
   ],
   "source": [
    "tf.config.list_physical_devices('GPU')"
   ]
  },
  {
   "cell_type": "markdown",
   "id": "46b1ef2d",
   "metadata": {},
   "source": [
    "# 18. 멀리 있는 사람도 스티커를 붙여주자"
   ]
  },
  {
   "cell_type": "markdown",
   "id": "fd3135db",
   "metadata": {},
   "source": [
    "## 1. WIDER FACE 데이터셋"
   ]
  },
  {
   "cell_type": "markdown",
   "id": "7475a38f",
   "metadata": {},
   "source": [
    "### WIDER FACE 데이터셋\n",
    "---\n",
    "오늘 우리가 Face Detection 모델의 학습을 위해 다루게 될 데이터셋은 바로 [WIDER FACE 데이터셋](http://shuoyang1213.me/WIDERFACE/index.html)이다. 빠른 인퍼런스 타임을 위해 사용할 YOLO, SSD 같은 single stage model을 학습시키는 것은 흔히 COCO 데이터셋 같은 것이 사용되겠지만, 오늘 우리가 추구하는 [먼 거리에 흩어져 있는 다수의 사람 얼굴을 빠르게 detect하는 모델]을 만들기 위해서는 그에 적합하게 '보다 넓은 공간에 있는 다수의 사람이 등장하는 이미지 데이터셋'이 필요하다. 아래 그림에서 확인할 수 있듯, WIDER FACE 데이터셋은 그런 용도로 활용하기에 적절해 보인다.  \n",
    "\n",
    "<img src=\"./image/wider_face.png\" />\n",
    "<center><b>[출처 : http://shuoyang1213.me/WIDERFACE/]</b></center>\n",
    "\n",
    "아래와 같이 작업환경을 준비하자.\n",
    "\n",
    "```bash\n",
    "$ mkdir -p ~/aiffel/face_detector/assets\n",
    "$ mkdir -p ~/aiffel/face_detector/dataset\n",
    "$ mkdir -p ~/aiffel/face_detector/widerface\n",
    "```\n",
    "\n",
    "[WIDER FACE 데이터셋 홈페이지](http://shuoyang1213.me/WIDERFACE/index.html)에 접속하여 아래 4개의 zip파일을 다운받아 **`~/aiffel/face_detector/widerface`**에 저장한다. 다운받아야 할 WIDER_xxx.zip 파일들은 아래와 같이 구글드라이브에 올라가 있다."
   ]
  },
  {
   "cell_type": "markdown",
   "id": "1fdb4b36",
   "metadata": {},
   "source": [
    "### Download\n",
    "---\n",
    "\n",
    "- WIDER Face Training Images [Google Drive](https://drive.google.com/file/d/0B6eKvaijfFUDQUUwd21EckhUbWs/view?usp=sharing)  \n",
    "- WIDER Face Validation Images [Google Drive](https://drive.google.com/file/d/0B6eKvaijfFUDd3dIRmpvSk8tLUk/view?usp=sharing)  \n",
    "- WIDER Face Testing Images [Google Drive](https://drive.google.com/file/d/0B6eKvaijfFUDbW4tdGpaYjgzZkU/view?usp=sharing)  \n",
    "- Face annotations [[WIDER FACE 데이터셋 홈페이지](http://shuoyang1213.me/WIDERFACE/index.html)에서 다운로드해주세요.]  \n",
    "\n",
    "다운로드가 끝나면 아래와 같이 압축을 풀어주자.\n",
    "\n",
    "```bash\n",
    "$ cd ~/aiffel/face_detector/widerface\n",
    "$ unzip WIDER_train.zip\n",
    "$ unzip WIDER_val.zip\n",
    "$ unzip WIDER_test.zip\n",
    "$ unzip wider_face_split.zip\n",
    "```"
   ]
  },
  {
   "cell_type": "markdown",
   "id": "63e5ba96",
   "metadata": {},
   "source": [
    "**WIDER Face Dataset의 전체 이미지 개수와 얼굴 개수는 각각 얼마일까?**  \n",
    "\n",
    "* 32,203개의 이미지, 393,703개의 얼굴 데이터가 존재함\n",
    "\n",
    "**WIDER Face Dataset에서 train/validataion/test 의 구성비율은 각각 몇%씩일까?**\n",
    "\n",
    "* train/validataion/test 의 구성비율이 각각 40%/10%/50%로 구성되어 있다.\n",
    "\n",
    "[face_detector.zip](https://aiffelstaticprd.blob.core.windows.net/media/documents/face_detector.zip)  \n",
    "\n",
    "마지막으로, 오늘의 실습코드를 프로젝트로 구성한 파일을 첨부한다. 위의 **`face_detector.zip`**을 다운로드하여 **`~/aiffel/face_detector`** 디렉토리에 압축이 풀리도록 하자.\n",
    "\n",
    "```bash\n",
    "$ cd ~/aiffel/face_detector\n",
    "$ wget https://aiffelstaticprd.blob.core.windows.net/media/documents/face_detector.zip -P ~/aiffel/face_detector\n",
    "$ unzip face_detector.zip\n",
    "```\n",
    "\n",
    "압축을 풀고 나면 9개의 python 모듈 파일이 생성된 것을 확인할 수 있다. 이후 스텝의 실습 내역이 포함되어 있으니 참고하자."
   ]
  },
  {
   "cell_type": "markdown",
   "id": "3cfddea4",
   "metadata": {},
   "source": [
    "## 2. 데이터셋 전처리(1) 분석"
   ]
  },
  {
   "cell_type": "markdown",
   "id": "3330e9c5",
   "metadata": {},
   "source": [
    "### WIDER FACE Bounding Box\n",
    "---\n",
    "\n",
    "오늘 다루게 될 WIDER FACE 데이터셋은 Face detection을 위한 데이터셋이므로 입력데이터는 이미지 파일, Ground Truth는 Bounding box 정보로 되어 있다. 이전 스텝에서 다운로드받아 압축을 풀면 아래와 같이 4개의 디렉토리를 확인할 수 있다. \n",
    "\n",
    "```bash\n",
    "$ cd ~/aiffel/face_detector/widerface && ls\n",
    "wider_face_split  WIDER_test  WIDER_train  WIDER_val\n",
    "```\n",
    "\n",
    "여기서 **`WIDER_xxxx`** 로 되어 있는 3개의 디렉토리에는 입력용 이미지 파일만 들어 있다. 좀더 구체적으로 분석해 보아야 할 것은 **`wider_face_split`** 디렉토리 내에 있는 **`wider_face_train_bbx_gt.txt`**, **`wider_face_val_bbx_gt.txt`** 2개 파일 안에 포함되어 있는 Bounding box 정보이다.\n",
    "\n",
    "실제 이 파일들이 어떻게 생겼는지 열어보자.\n",
    "\n",
    "```\n",
    "$ more wider_face_train_bbx_gt.txt\n",
    "0--Parade/0_Parade_marchingband_1_849.jpg\n",
    "1\n",
    "449 330 122 149 0 0 0 0 0 0 \n",
    "0--Parade/0_Parade_Parade_0_904.jpg\n",
    "1\n",
    "361 98 263 339 0 0 0 0 0 0 \n",
    "0--Parade/0_Parade_marchingband_1_799.jpg\n",
    "21\n",
    "78 221 7 8 2 0 0 0 0 0 \n",
    "78 238 14 17 2 0 0 0 0 0 \n",
    "113 212 11 15 2 0 0 0 0 0 \n",
    "134 260 15 15 2 0 0 0 0 0 \n",
    "163 250 14 17 2 0 0 0 0 0 \n",
    "201 218 10 12 2 0 0 0 0 0 \n",
    "182 266 15 17 2 0 0 0 0 0 \n",
    "245 279 18 15 2 0 0 0 0 0 \n",
    "304 265 16 17 2 0 0 0 2 1 \n",
    "328 295 16 20 2 0 0 0 0 0 \n",
    "(이하생략)\n",
    "```"
   ]
  },
  {
   "cell_type": "markdown",
   "id": "1574f09e",
   "metadata": {},
   "source": [
    "텍스트로 이루어진 이 파일 포맷은 다음과 같은 반복구조로 이루어져 있음을 쉽게 파악할 수 있다.  \n",
    "\n",
    "```\n",
    "[이미지 파일 경로]\n",
    "0--Parade/0_Parade_marchingband_1_849.jpg\n",
    "[face bounding box 갯수]\n",
    "1\n",
    "[face bounding box 좌표 등 상세정보]\n",
    "449 330 122 149 0 0 0 0 0 0 \n",
    "```\n",
    "\n",
    "10개의 숫자로 이루어진 [face bounding box 좌표 등 상세정보]는 다음과 같은 의미를 가진다. \n",
    "\n",
    "```\n",
    "x0, y0, w, h, blur, expression, illumination, invalid, occlusion, pose\n",
    "```\n",
    "\n",
    "bounding box가 관련해서 가장 중요한 4개의 숫자는 왼쪽의 4개(좌상 꼭지점 X좌표, Y좌표, 너비, 높이)이다.\n",
    "\n",
    "이 파일을 분석하는 코드는 아래와 같다."
   ]
  },
  {
   "cell_type": "code",
   "execution_count": 3,
   "id": "c266be07",
   "metadata": {
    "ExecuteTime": {
     "end_time": "2021-05-19T17:53:55.685053Z",
     "start_time": "2021-05-19T17:53:55.676399Z"
    }
   },
   "outputs": [],
   "source": [
    "def get_box(data):\n",
    "    x0 = int(data[0])\n",
    "    y0 = int(data[1])\n",
    "    w = int(data[2])\n",
    "    h = int(data[3])\n",
    "    return x0, y0, w, h"
   ]
  },
  {
   "cell_type": "code",
   "execution_count": 4,
   "id": "f3e38047",
   "metadata": {
    "ExecuteTime": {
     "end_time": "2021-05-19T17:53:55.691948Z",
     "start_time": "2021-05-19T17:53:55.686588Z"
    }
   },
   "outputs": [],
   "source": [
    "def parse_widerface(config_path):\n",
    "    boxes_per_img = []\n",
    "    with open(config_path) as fp:\n",
    "        line = fp.readline()\n",
    "        cnt = 1\n",
    "        while line:\n",
    "            num_of_obj = int(fp.readline())\n",
    "            boxes = []\n",
    "            for i in range(num_of_obj):\n",
    "                obj_box = fp.readline().split(' ')\n",
    "                x0, y0, w, h = get_box(obj_box)\n",
    "                if w == 0:\n",
    "                    # remove boxes with no width\n",
    "                    continue\n",
    "                if h == 0:\n",
    "                    # remove boxes with no height\n",
    "                    continue\n",
    "                # Because our network is outputting 7x7 grid then it's not worth processing images with more than\n",
    "                # 5 faces because it's highly probable they are close to each other.\n",
    "                # You could remove this filter if you decide to switch to larger grid (like 14x14)\n",
    "                # Don't worry about number of train data because even with this filter we have around 16k samples\n",
    "                boxes.append([x0, y0, w, h])\n",
    "            if num_of_obj == 0:\n",
    "                obj_box = fp.readline().split(' ')\n",
    "                x0, y0, w, h = get_box(obj_box)\n",
    "                boxes.append([x0, y0, w, h])\n",
    "            boxes_per_img.append((line.strip(), boxes))\n",
    "            line = fp.readline()\n",
    "            cnt += 1\n",
    "\n",
    "    return boxes_per_img"
   ]
  },
  {
   "cell_type": "markdown",
   "id": "a3e76dee",
   "metadata": {},
   "source": [
    "위 메소드는 이미지별 bounding box 정보를 **`wider_face_train_bbx_gt.txt`**에서 파싱해서 리스트로 추출하는 것이다. boudbing box 정보는 [x, y, w, h] 형태로 저장되어 있는데, 아래 코드를 통해 **`x_min`**, **`y_min`**, **`x_max`**, **`y_max`** 형태의 꼭지점 좌표 정보로 변환하여 출력해 보겠다."
   ]
  },
  {
   "cell_type": "code",
   "execution_count": 5,
   "id": "84bc17df",
   "metadata": {
    "ExecuteTime": {
     "end_time": "2021-05-19T17:53:55.695900Z",
     "start_time": "2021-05-19T17:53:55.693088Z"
    }
   },
   "outputs": [],
   "source": [
    "def process_image(image_file):\n",
    "    image_string = tf.io.read_file(image_file)\n",
    "    try:\n",
    "        image_data = tf.image.decode_jpeg(image_string, channels=3)\n",
    "        return 0, image_string, image_data\n",
    "    except tf.errors.InvalidArgumentError:\n",
    "        logging.info('{}: Invalid JPEG data or crop window'.format(image_file))\n",
    "        return 1, image_string, None"
   ]
  },
  {
   "cell_type": "code",
   "execution_count": 6,
   "id": "e1a75ceb",
   "metadata": {
    "ExecuteTime": {
     "end_time": "2021-05-19T17:53:55.701547Z",
     "start_time": "2021-05-19T17:53:55.696992Z"
    }
   },
   "outputs": [],
   "source": [
    "def xywh_to_voc(file_name, boxes, image_data):\n",
    "    shape = image_data.shape\n",
    "    image_info = {}\n",
    "    image_info['filename'] = file_name\n",
    "    image_info['width'] = shape[1]\n",
    "    image_info['height'] = shape[0]\n",
    "    image_info['depth'] = 3\n",
    "\n",
    "    difficult = []\n",
    "    classes = []\n",
    "    xmin, ymin, xmax, ymax = [], [], [], []\n",
    "\n",
    "    for box in boxes:\n",
    "        classes.append(1)\n",
    "        difficult.append(0)\n",
    "        xmin.append(box[0])\n",
    "        ymin.append(box[1])\n",
    "        xmax.append(box[0] + box[2])\n",
    "        ymax.append(box[1] + box[3])\n",
    "    image_info['class'] = classes\n",
    "    image_info['xmin'] = xmin\n",
    "    image_info['ymin'] = ymin\n",
    "    image_info['xmax'] = xmax\n",
    "    image_info['ymax'] = ymax\n",
    "    image_info['difficult'] = difficult\n",
    "\n",
    "    return image_info"
   ]
  },
  {
   "cell_type": "code",
   "execution_count": 7,
   "id": "f93ee99b",
   "metadata": {
    "ExecuteTime": {
     "end_time": "2021-05-19T17:53:56.103886Z",
     "start_time": "2021-05-19T17:53:55.702768Z"
    },
    "scrolled": true
   },
   "outputs": [
    {
     "name": "stdout",
     "output_type": "stream",
     "text": [
      "--------------------\n",
      "{'filename': '/home/aiffel-dj10/aiffel/face_detector/widerface/WIDER_train/images/0--Parade/0_Parade_marchingband_1_849.jpg', 'width': 1024, 'height': 1385, 'depth': 3, 'class': [1], 'xmin': [449], 'ymin': [330], 'xmax': [571], 'ymax': [479], 'difficult': [0]}\n",
      "--------------------\n",
      "{'filename': '/home/aiffel-dj10/aiffel/face_detector/widerface/WIDER_train/images/0--Parade/0_Parade_Parade_0_904.jpg', 'width': 1024, 'height': 1432, 'depth': 3, 'class': [1], 'xmin': [361], 'ymin': [98], 'xmax': [624], 'ymax': [437], 'difficult': [0]}\n",
      "--------------------\n",
      "{'filename': '/home/aiffel-dj10/aiffel/face_detector/widerface/WIDER_train/images/0--Parade/0_Parade_marchingband_1_799.jpg', 'width': 1024, 'height': 768, 'depth': 3, 'class': [1, 1, 1, 1, 1, 1, 1, 1, 1, 1, 1, 1, 1, 1, 1, 1, 1, 1, 1, 1, 1], 'xmin': [78, 78, 113, 134, 163, 201, 182, 245, 304, 328, 389, 406, 436, 522, 643, 653, 793, 535, 29, 3, 20], 'ymin': [221, 238, 212, 260, 250, 218, 266, 279, 265, 295, 281, 293, 290, 328, 320, 224, 337, 311, 220, 232, 215], 'xmax': [85, 92, 124, 149, 177, 211, 197, 263, 320, 344, 406, 427, 458, 543, 666, 670, 816, 551, 40, 14, 32], 'ymax': [229, 255, 227, 275, 267, 230, 283, 294, 282, 315, 300, 314, 307, 346, 342, 249, 367, 328, 235, 247, 231], 'difficult': [0, 0, 0, 0, 0, 0, 0, 0, 0, 0, 0, 0, 0, 0, 0, 0, 0, 0, 0, 0, 0]}\n",
      "--------------------\n",
      "{'filename': '/home/aiffel-dj10/aiffel/face_detector/widerface/WIDER_train/images/0--Parade/0_Parade_marchingband_1_117.jpg', 'width': 1024, 'height': 682, 'depth': 3, 'class': [1, 1, 1, 1, 1, 1, 1, 1, 1], 'xmin': [69, 227, 296, 353, 885, 819, 727, 598, 740], 'ymin': [359, 382, 305, 280, 377, 391, 342, 246, 308], 'xmax': [119, 283, 340, 393, 948, 853, 764, 631, 785], 'ymax': [395, 425, 331, 316, 418, 434, 373, 275, 341], 'difficult': [0, 0, 0, 0, 0, 0, 0, 0, 0]}\n",
      "--------------------\n",
      "{'filename': '/home/aiffel-dj10/aiffel/face_detector/widerface/WIDER_train/images/0--Parade/0_Parade_marchingband_1_778.jpg', 'width': 1024, 'height': 852, 'depth': 3, 'class': [1, 1, 1, 1, 1, 1, 1, 1, 1, 1, 1, 1, 1, 1, 1, 1, 1, 1, 1, 1, 1, 1, 1, 1, 1, 1, 1, 1, 1, 1, 1, 1, 1, 1, 1], 'xmin': [27, 63, 64, 88, 231, 263, 367, 198, 293, 412, 441, 475, 510, 576, 577, 595, 570, 645, 719, 791, 884, 898, 945, 922, 743, 841, 980, 1001, 488, 586, 669, 744, 803, 294, 203], 'ymin': [226, 95, 63, 13, 1, 122, 68, 98, 161, 36, 23, 40, 23, 30, 71, 94, 126, 171, 98, 154, 97, 48, 89, 38, 71, 18, 56, 107, 2, 1, 1, 2, 3, 2, 0], 'xmax': [60, 79, 81, 104, 244, 277, 382, 213, 345, 426, 458, 489, 524, 592, 593, 611, 583, 697, 730, 845, 900, 913, 960, 937, 754, 857, 993, 1015, 500, 601, 681, 762, 821, 305, 216], 'ymax': [262, 114, 81, 28, 14, 142, 91, 116, 220, 56, 36, 61, 40, 45, 92, 114, 142, 229, 113, 203, 118, 69, 109, 54, 89, 34, 76, 120, 20, 18, 16, 17, 20, 12, 14], 'difficult': [0, 0, 0, 0, 0, 0, 0, 0, 0, 0, 0, 0, 0, 0, 0, 0, 0, 0, 0, 0, 0, 0, 0, 0, 0, 0, 0, 0, 0, 0, 0, 0, 0, 0, 0]}\n"
     ]
    }
   ],
   "source": [
    "import os\n",
    "import tensorflow as tf\n",
    "dataset_path = os.getenv('HOME')+'/aiffel/face_detector/widerface'\n",
    "anno_txt = 'wider_face_train_bbx_gt.txt'\n",
    "file_path = 'WIDER_train'\n",
    "for i, info in enumerate(parse_widerface(os.path.join(dataset_path, 'wider_face_split', anno_txt))):\n",
    "    print('--------------------')\n",
    "    image_file = os.path.join(dataset_path, file_path, 'images', info[0])\n",
    "    error, image_string, image_data = process_image(image_file)\n",
    "    boxes = xywh_to_voc(image_file, info[1], image_data)\n",
    "    print(boxes)\n",
    "    if i > 3:\n",
    "        break"
   ]
  },
  {
   "cell_type": "markdown",
   "id": "748c4eac",
   "metadata": {},
   "source": [
    "어떤가? 이미지별로 **`boxes`** 리스트에 담긴 bounding box 정보가 확인된다.<br>\n",
    "이제 이 정보를 활용하여 텐서플로우 데이터셋을 생성해보자."
   ]
  },
  {
   "cell_type": "markdown",
   "id": "7ecd5e8c",
   "metadata": {},
   "source": [
    "## 3. 데이터셋 전처리(2) tf_example 생성"
   ]
  },
  {
   "cell_type": "markdown",
   "id": "8b4004ba",
   "metadata": {},
   "source": [
    "### tfrecord 만들기\n",
    "---\n",
    "오늘 우리가 다루게 될 대용량 데이터셋의 처리속도 향상을 위해서 전처리 작업을 통해 tfrecord 데이터셋으로 변환할 필요가 있다. 1개 데이터의 단위를 이루는 **`tf.train.Example`** 인스턴스를 생성하는 메소드는 아래와 같다."
   ]
  },
  {
   "cell_type": "code",
   "execution_count": 8,
   "id": "99fed89d",
   "metadata": {
    "ExecuteTime": {
     "end_time": "2021-05-19T17:53:56.111825Z",
     "start_time": "2021-05-19T17:53:56.105733Z"
    }
   },
   "outputs": [],
   "source": [
    "def make_example(image_string, image_info_list):\n",
    "\n",
    "    for info in image_info_list:\n",
    "        filename = info['filename']\n",
    "        width = info['width']\n",
    "        height = info['height']\n",
    "        depth = info['depth']\n",
    "        classes = info['class']\n",
    "        xmin = info['xmin']\n",
    "        ymin = info['ymin']\n",
    "        xmax = info['xmax']\n",
    "        ymax = info['ymax']\n",
    "\n",
    "    if isinstance(image_string, type(tf.constant(0))):\n",
    "        encoded_image = [image_string.numpy()]\n",
    "    else:\n",
    "        encoded_image = [image_string]\n",
    "\n",
    "    base_name = [tf.compat.as_bytes(os.path.basename(filename))]\n",
    "\n",
    "    example = tf.train.Example(features=tf.train.Features(feature={\n",
    "        'filename':tf.train.Feature(bytes_list=tf.train.BytesList(value=base_name)),\n",
    "        'height':tf.train.Feature(int64_list=tf.train.Int64List(value=[height])),\n",
    "        'width':tf.train.Feature(int64_list=tf.train.Int64List(value=[width])),\n",
    "        'classes':tf.train.Feature(int64_list=tf.train.Int64List(value=classes)),\n",
    "        'x_mins':tf.train.Feature(float_list=tf.train.FloatList(value=xmin)),\n",
    "        'y_mins':tf.train.Feature(float_list=tf.train.FloatList(value=ymin)),\n",
    "        'x_maxes':tf.train.Feature(float_list=tf.train.FloatList(value=xmax)),\n",
    "        'y_maxes':tf.train.Feature(float_list=tf.train.FloatList(value=ymax)),\n",
    "        'image_raw':tf.train.Feature(bytes_list=tf.train.BytesList(value=encoded_image))\n",
    "    }))\n",
    "    return example"
   ]
  },
  {
   "cell_type": "markdown",
   "id": "63f1ba91",
   "metadata": {},
   "source": [
    "이제 전처리를 위해 필요한 메소드들이 어느정도 갖추어졌다. 데이터셋의 이미지파일, 그리고 bounding box를 파싱한 정보를 모아 위의 **`make_example`** 메소드를 통해 만든 example을 serialize하여 바이너리 파일로 생성하게 된다."
   ]
  },
  {
   "cell_type": "code",
   "execution_count": 9,
   "id": "4ceb265a",
   "metadata": {
    "ExecuteTime": {
     "end_time": "2021-05-19T17:54:46.298406Z",
     "start_time": "2021-05-19T17:53:56.113268Z"
    },
    "scrolled": true
   },
   "outputs": [
    {
     "name": "stderr",
     "output_type": "stream",
     "text": [
      "100%|██████████| 12880/12880 [00:39<00:00, 328.13it/s]\n",
      "100%|██████████| 3226/3226 [00:09<00:00, 328.82it/s]\n"
     ]
    }
   ],
   "source": [
    "import logging\n",
    "import tqdm\n",
    "\n",
    "os.environ['TF_CPP_MIN_LOG_LEVEL'] = '2'\n",
    "rootPath = os.getenv('HOME')+'/aiffel/face_detector'\n",
    "dataset_path = 'widerface'\n",
    "\n",
    "if not os.path.isdir(dataset_path):\n",
    "    logging.info('Please define valid dataset path.')\n",
    "else:\n",
    "    logging.info('Loading {}'.format(dataset_path))\n",
    "\n",
    "logging.info('Reading configuration...')\n",
    "\n",
    "for split in ['train', 'val']:\n",
    "    output_file = rootPath + '/dataset/train_mask.tfrecord' if split == 'train' else rootPath + '/dataset/val_mask.tfrecord'\n",
    "\n",
    "    with tf.io.TFRecordWriter(output_file) as writer:\n",
    "\n",
    "        counter = 0\n",
    "        skipped = 0\n",
    "        anno_txt = 'wider_face_train_bbx_gt.txt' if split == 'train' else 'wider_face_val_bbx_gt.txt'\n",
    "        file_path = 'WIDER_train' if split == 'train' else 'WIDER_val'\n",
    "        for info in tqdm.tqdm(parse_widerface(os.path.join(rootPath, dataset_path, 'wider_face_split', anno_txt))):\n",
    "            image_file = os.path.join(rootPath, dataset_path, file_path, 'images', info[0])\n",
    "\n",
    "            error, image_string, image_data = process_image(image_file)\n",
    "            boxes = xywh_to_voc(image_file, info[1], image_data)\n",
    "\n",
    "            if not error:\n",
    "                tf_example = make_example(image_string, [boxes])\n",
    "\n",
    "                writer.write(tf_example.SerializeToString())\n",
    "                counter += 1\n",
    "\n",
    "            else:\n",
    "                skipped += 1\n",
    "                logging.info('Skipped {:d} of {:d} images.'.format(skipped, counter))\n",
    "\n",
    "    logging.info('Wrote {} images to {}'.format(counter, output_file))"
   ]
  },
  {
   "cell_type": "markdown",
   "id": "0d1db063",
   "metadata": {},
   "source": [
    "이전 스텝에서 여기까지의 전처리 과정을 **`tf_dataset_preprocess.py`** 에 정리해 두었다. 아래와 같이 위의 과정을 실행할 수 있다. \n",
    "\n",
    "```bash\n",
    "$ cd ~/aiffel/face_detector && python tf_dataset_preprocess.py\n",
    "```"
   ]
  },
  {
   "cell_type": "markdown",
   "id": "e27904ce",
   "metadata": {},
   "source": [
    "## 4. 모델 구현(1) priors box"
   ]
  },
  {
   "cell_type": "markdown",
   "id": "b93e199c",
   "metadata": {},
   "source": [
    "### SSD의 prior box\n",
    "---\n",
    "(참고)\n",
    "\n",
    "- [Understand Single Shot MultiBox Detector (SSD) and Implement It in Pytorch](https://medium.com/@smallfishbigsea/understand-ssd-and-implement-your-own-caa3232cd6ad)  \n",
    "- [Understanding SSD MultiBox — Real-Time Object Detection In Deep Learning](https://towardsdatascience.com/understanding-ssd-multibox-real-time-object-detection-in-deep-learning-495ef744fab)\n",
    "\n",
    "SSD 모델의 가장 중요한 특징 중 하나는 **prior box(또는 anchor box)**를 필요로 한다는 점이다. prior box란, object가 존재할 만한 다양한 크기의 box의 좌표 및 클래스 정보를 일정 개수만큼 미리 고정해 둔 것이다. ground truth에 해당하는 bounding box와의 IoU를 계산하여 일정 이상(0.5) 겹치는 prior box를 선택하는 방식이 RCNN 계열의 sliding window 방식보다 훨씬 속도가 빠르면서도 그와 유사한 정도의 정확도를 얻을 수 있다는 장점이 있다.\n",
    "\n",
    "<img src=\"./image/anchor_box.png\" />\n",
    "<center><b>[[출처: http://datahacker.rs/deep-learning-anchor-boxes/]]</b></center>\n",
    "\n",
    "이번 프로젝트에서 활용할 config 정보를 모아 아래와 같은 dict 구조로 정리하였다."
   ]
  },
  {
   "cell_type": "code",
   "execution_count": 10,
   "id": "4d0ebe81",
   "metadata": {
    "ExecuteTime": {
     "end_time": "2021-05-19T17:54:46.309430Z",
     "start_time": "2021-05-19T17:54:46.299520Z"
    }
   },
   "outputs": [
    {
     "data": {
      "text/plain": [
       "{'batch_size': 32,\n",
       " 'input_size': (240, 320),\n",
       " 'dataset_path': 'dataset/train_mask.tfrecord',\n",
       " 'val_path': 'dataset/val_mask.tfrecord',\n",
       " 'dataset_len': 12880,\n",
       " 'val_len': 3226,\n",
       " 'using_crop': True,\n",
       " 'using_bin': True,\n",
       " 'using_flip': True,\n",
       " 'using_distort': True,\n",
       " 'using_normalizing': True,\n",
       " 'labels_list': ['background', 'face'],\n",
       " 'min_sizes': [[10, 16, 24], [32, 48], [64, 96], [128, 192, 256]],\n",
       " 'steps': [8, 16, 32, 64],\n",
       " 'match_thresh': 0.45,\n",
       " 'variances': [0.1, 0.2],\n",
       " 'clip': False,\n",
       " 'base_channel': 16,\n",
       " 'resume': False,\n",
       " 'epoch': 100,\n",
       " 'init_lr': 0.01,\n",
       " 'lr_decay_epoch': [50, 70],\n",
       " 'lr_rate': 0.1,\n",
       " 'warmup_epoch': 5,\n",
       " 'min_lr': 0.0001,\n",
       " 'weights_decay': 0.0005,\n",
       " 'momentum': 0.9,\n",
       " 'save_freq': 10,\n",
       " 'score_threshold': 0.5,\n",
       " 'nms_threshold': 0.4,\n",
       " 'max_number_keep': 200}"
      ]
     },
     "execution_count": 10,
     "metadata": {},
     "output_type": "execute_result"
    }
   ],
   "source": [
    "cfg = {\n",
    "    # general setting\n",
    "    \"batch_size\": 32,\n",
    "    \"input_size\": (240, 320),  # (h,w)\n",
    "\n",
    "    # training dataset\n",
    "    \"dataset_path\": 'dataset/train_mask.tfrecord',  # 'dataset/trainval_mask.tfrecord'\n",
    "    \"val_path\": 'dataset/val_mask.tfrecord',  #\n",
    "    \"dataset_len\": 12880,  # train 6115 , trainval 7954, number of training samples\n",
    "    \"val_len\": 3226,\n",
    "    \"using_crop\": True,\n",
    "    \"using_bin\": True,\n",
    "    \"using_flip\": True,\n",
    "    \"using_distort\": True,\n",
    "    \"using_normalizing\": True,\n",
    "    \"labels_list\": ['background', 'face'],  # xml annotation\n",
    "\n",
    "    # anchor setting\n",
    "    \"min_sizes\":[[10, 16, 24], [32, 48], [64, 96], [128, 192, 256]],\n",
    "    \"steps\": [8, 16, 32, 64],\n",
    "    \"match_thresh\": 0.45,\n",
    "    \"variances\": [0.1, 0.2],\n",
    "    \"clip\": False,\n",
    "\n",
    "    # network\n",
    "    \"base_channel\": 16,\n",
    "\n",
    "    # training setting\n",
    "    \"resume\": False,  # if False,training from scratch\n",
    "    \"epoch\": 100,\n",
    "    \"init_lr\": 1e-2,\n",
    "    \"lr_decay_epoch\": [50, 70],\n",
    "    \"lr_rate\": 0.1,\n",
    "    \"warmup_epoch\": 5,\n",
    "    \"min_lr\": 1e-4,\n",
    "\n",
    "    \"weights_decay\": 5e-4,\n",
    "    \"momentum\": 0.9,\n",
    "    \"save_freq\": 10, #frequency of save model weights\n",
    "\n",
    "    # inference\n",
    "    \"score_threshold\": 0.5,\n",
    "    \"nms_threshold\": 0.4,\n",
    "    \"max_number_keep\": 200\n",
    "}\n",
    "\n",
    "cfg"
   ]
  },
  {
   "cell_type": "markdown",
   "id": "512d2e1f",
   "metadata": {},
   "source": [
    "config 중 prior(anchor) box 생성과 관련된 것들은 다음과 같다."
   ]
  },
  {
   "cell_type": "code",
   "execution_count": 11,
   "id": "42760b4e",
   "metadata": {
    "ExecuteTime": {
     "end_time": "2021-05-19T17:54:46.313509Z",
     "start_time": "2021-05-19T17:54:46.310451Z"
    }
   },
   "outputs": [
    {
     "name": "stdout",
     "output_type": "stream",
     "text": [
      "(240, 320)\n"
     ]
    }
   ],
   "source": [
    "image_sizes = cfg['input_size']\n",
    "min_sizes = cfg[\"min_sizes\"]\n",
    "steps = cfg[\"steps\"]\n",
    "clip = cfg[\"clip\"]\n",
    "\n",
    "if isinstance(image_sizes, int):\n",
    "    image_sizes = (image_sizes, image_sizes)\n",
    "elif isinstance(image_sizes, tuple):\n",
    "    image_sizes = image_sizes\n",
    "else:\n",
    "    raise Exception('Type error of input image size format,tuple or int. ')\n",
    "\n",
    "print(image_sizes)"
   ]
  },
  {
   "cell_type": "markdown",
   "id": "279a3a01",
   "metadata": {},
   "source": [
    "<img src=\"./image/feature_map.png\" />\n",
    "<center><b>[출처 : https://towardsdatascience.com/understanding-ssd-multibox-real-time-object-detection-in-deep-learning-495ef744fab]</b></center>\n",
    "\n",
    "위 그림에서 보는 것처럼, prior box를 생성하기 위해서는 먼저 기준이 되는 feature map을 먼저 생성한다. 그림에서는 8X8, 4X4의 예가 나오지만, 우리의 프로젝트에서는 아래와 같이 4가지 유형의 feature map을 생성하게 된다."
   ]
  },
  {
   "cell_type": "code",
   "execution_count": 12,
   "id": "7d4cda61",
   "metadata": {
    "ExecuteTime": {
     "end_time": "2021-05-19T17:54:46.318589Z",
     "start_time": "2021-05-19T17:54:46.314449Z"
    }
   },
   "outputs": [
    {
     "data": {
      "text/plain": [
       "[[30, 40], [15, 20], [8, 10], [4, 5]]"
      ]
     },
     "execution_count": 12,
     "metadata": {},
     "output_type": "execute_result"
    }
   ],
   "source": [
    "import math\n",
    "import numpy as np\n",
    "from itertools import product\n",
    "\n",
    "for m in range(4):\n",
    "    if (steps[m] != pow(2, (m + 3))):\n",
    "        print(\"steps must be [8,16,32,64]\")\n",
    "        sys.exit()\n",
    "\n",
    "assert len(min_sizes) == len(steps), \"anchors number didn't match the feature map layer.\"\n",
    "\n",
    "feature_maps = [\n",
    "    [math.ceil(image_sizes[0] / step), math.ceil(image_sizes[1] / step)]\n",
    "    for step in steps]\n",
    "\n",
    "feature_maps"
   ]
  },
  {
   "cell_type": "markdown",
   "id": "37ef299c",
   "metadata": {},
   "source": [
    "이제 feature map별로 순회를 하면서 prior box 를 생성해 보겠다."
   ]
  },
  {
   "cell_type": "code",
   "execution_count": 13,
   "id": "e244fc50",
   "metadata": {
    "ExecuteTime": {
     "end_time": "2021-05-19T17:54:46.328290Z",
     "start_time": "2021-05-19T17:54:46.319499Z"
    }
   },
   "outputs": [
    {
     "data": {
      "text/plain": [
       "17680"
      ]
     },
     "execution_count": 13,
     "metadata": {},
     "output_type": "execute_result"
    }
   ],
   "source": [
    "anchors = []\n",
    "num_box_fm_cell=[]\n",
    "for k, f in enumerate(feature_maps):\n",
    "    num_box_fm_cell.append(len(min_sizes[k]))\n",
    "    for i, j in product(range(f[0]), range(f[1])):\n",
    "        for min_size in min_sizes[k]:\n",
    "            if isinstance(min_size, int):\n",
    "                min_size = (min_size, min_size)\n",
    "            elif isinstance(min_size, tuple):\n",
    "                min_size=min_size\n",
    "            else:\n",
    "                raise Exception('Type error of min_sizes elements format,tuple or int. ')\n",
    "            s_kx = min_size[1] / image_sizes[1]\n",
    "            s_ky = min_size[0] / image_sizes[0]\n",
    "            cx = (j + 0.5) * steps[k] / image_sizes[1]\n",
    "            cy = (i + 0.5) * steps[k] / image_sizes[0]\n",
    "            anchors += [cx, cy, s_kx, s_ky]\n",
    "\n",
    "len(anchors)"
   ]
  },
  {
   "cell_type": "code",
   "execution_count": 14,
   "id": "2cbdaae6",
   "metadata": {
    "ExecuteTime": {
     "end_time": "2021-05-19T17:54:46.332275Z",
     "start_time": "2021-05-19T17:54:46.329172Z"
    }
   },
   "outputs": [
    {
     "data": {
      "text/plain": [
       "(4420, 4)"
      ]
     },
     "execution_count": 14,
     "metadata": {},
     "output_type": "execute_result"
    }
   ],
   "source": [
    "import numpy as np\n",
    "priors = np.asarray(anchors).reshape([-1, 4])\n",
    "priors.shape"
   ]
  },
  {
   "cell_type": "code",
   "execution_count": 15,
   "id": "fb93e93d",
   "metadata": {
    "ExecuteTime": {
     "end_time": "2021-05-19T17:54:46.335777Z",
     "start_time": "2021-05-19T17:54:46.333159Z"
    }
   },
   "outputs": [
    {
     "data": {
      "text/plain": [
       "array([[0.0125    , 0.01666667, 0.03125   , 0.04166667],\n",
       "       [0.0125    , 0.01666667, 0.05      , 0.06666667],\n",
       "       [0.0125    , 0.01666667, 0.075     , 0.1       ],\n",
       "       ...,\n",
       "       [0.9       , 0.93333333, 0.4       , 0.53333333],\n",
       "       [0.9       , 0.93333333, 0.6       , 0.8       ],\n",
       "       [0.9       , 0.93333333, 0.8       , 1.06666667]])"
      ]
     },
     "execution_count": 15,
     "metadata": {},
     "output_type": "execute_result"
    }
   ],
   "source": [
    "priors"
   ]
  },
  {
   "cell_type": "markdown",
   "id": "18762605",
   "metadata": {},
   "source": [
    "이번 스텝에 소개한 prior_box 생성 과정을 **`make_prior_box.py`**에 정리해두었다. 아래와 같이 위의 과정을 실행할 수 있다.\n",
    "\n",
    "```bash\n",
    "$ cd ~/aiffel/face_detector && python make_prior_box.py\n",
    "```\n",
    "\n",
    "아래는 이번 스텝에서 prior box를 생성하는 최종 메소드인 **`prior_box()`** 이다."
   ]
  },
  {
   "cell_type": "code",
   "execution_count": 16,
   "id": "310d0830",
   "metadata": {
    "ExecuteTime": {
     "end_time": "2021-05-19T17:54:46.344077Z",
     "start_time": "2021-05-19T17:54:46.336679Z"
    }
   },
   "outputs": [],
   "source": [
    "def prior_box(cfg,image_sizes=None):\n",
    "    \"\"\"prior box\"\"\"\n",
    "    if image_sizes is None:\n",
    "        image_sizes = cfg['input_size']\n",
    "    min_sizes=cfg[\"min_sizes\"]\n",
    "    steps=cfg[\"steps\"]\n",
    "    clip=cfg[\"clip\"]\n",
    "\n",
    "    if isinstance(image_sizes, int):\n",
    "        image_sizes = (image_sizes, image_sizes)\n",
    "    elif isinstance(image_sizes, tuple):\n",
    "        image_sizes = image_sizes\n",
    "    else:\n",
    "        raise Exception('Type error of input image size format,tuple or int. ')\n",
    "\n",
    "    for m in range(4):\n",
    "        if (steps[m] != pow(2, (m + 3))):\n",
    "            print(\"steps must be [8,16,32,64]\")\n",
    "            sys.exit()\n",
    "\n",
    "    assert len(min_sizes) == len(steps), \"anchors number didn't match the feature map layer.\"\n",
    "\n",
    "    feature_maps = [\n",
    "        [math.ceil(image_sizes[0] / step), math.ceil(image_sizes[1] / step)]\n",
    "        for step in steps]\n",
    "\n",
    "    anchors = []\n",
    "    num_box_fm_cell=[]\n",
    "    for k, f in enumerate(feature_maps):\n",
    "        num_box_fm_cell.append(len(min_sizes[k]))\n",
    "        for i, j in product(range(f[0]), range(f[1])):\n",
    "            for min_size in min_sizes[k]:\n",
    "                if isinstance(min_size, int):\n",
    "                    min_size = (min_size, min_size)\n",
    "                elif isinstance(min_size, tuple):\n",
    "                    min_size=min_size\n",
    "                else:\n",
    "                    raise Exception('Type error of min_sizes elements format,tuple or int. ')\n",
    "                s_kx = min_size[1] / image_sizes[1]\n",
    "                s_ky = min_size[0] / image_sizes[0]\n",
    "                cx = (j + 0.5) * steps[k] / image_sizes[1]\n",
    "                cy = (i + 0.5) * steps[k] / image_sizes[0]\n",
    "                anchors += [cx, cy, s_kx, s_ky]\n",
    "\n",
    "    output = np.asarray(anchors).reshape([-1, 4])\n",
    "\n",
    "    if clip:\n",
    "        output = np.clip(output, 0, 1)\n",
    "    return output,num_box_fm_cell"
   ]
  },
  {
   "cell_type": "markdown",
   "id": "1cc2cea3",
   "metadata": {},
   "source": [
    "## 5. 모델 구현(2) SSD"
   ]
  },
  {
   "cell_type": "markdown",
   "id": "e3ec672a",
   "metadata": {},
   "source": [
    "### SSD model 빌드하기\n",
    "---\n",
    "그럼 본격적으로 SSD 모델을 생성해 보겠다.<br>\n",
    "우선은 SSD 모델 내부에서 사용하는 레이어들을 아래와 같이 생성한다."
   ]
  },
  {
   "cell_type": "code",
   "execution_count": 17,
   "id": "859bf158",
   "metadata": {
    "ExecuteTime": {
     "end_time": "2021-05-19T17:54:46.350630Z",
     "start_time": "2021-05-19T17:54:46.345655Z"
    }
   },
   "outputs": [],
   "source": [
    "import tensorflow as tf\n",
    "\n",
    "def _conv_block(inputs, filters, kernel=(3, 3), strides=(1, 1), use_bn=True, padding=None, block_id=None):\n",
    "    \"\"\"Adds an initial convolution layer (with batch normalization and relu).\n",
    "    # Returns\n",
    "        Output tensor of block.\n",
    "    \"\"\"\n",
    "    if block_id is None:\n",
    "        block_id = (tf.keras.backend.get_uid())\n",
    "\n",
    "    if strides == (2, 2):\n",
    "        x = tf.keras.layers.ZeroPadding2D(padding=((1, 1), (1, 1)), name='conv_pad_%d' % block_id)(inputs)\n",
    "        x = tf.keras.layers.Conv2D(filters, kernel,\n",
    "                                   padding='valid',\n",
    "                                   use_bias=False if use_bn else True,\n",
    "                                   strides=strides,\n",
    "                                   name='conv_%d' % block_id)(x)\n",
    "    else:\n",
    "        x = tf.keras.layers.Conv2D(filters, kernel,\n",
    "                                   padding='same',\n",
    "                                   use_bias=False if use_bn else True,\n",
    "                                   strides=strides,\n",
    "                                   name='conv_%d' % block_id)(inputs)\n",
    "    if use_bn:\n",
    "        x = tf.keras.layers.BatchNormalization(name='conv_bn_%d' % block_id)(x)\n",
    "    return tf.keras.layers.ReLU(name='conv_relu_%d' % block_id)(x)"
   ]
  },
  {
   "cell_type": "code",
   "execution_count": 18,
   "id": "6d85535c",
   "metadata": {
    "ExecuteTime": {
     "end_time": "2021-05-19T17:54:46.358586Z",
     "start_time": "2021-05-19T17:54:46.352264Z"
    }
   },
   "outputs": [],
   "source": [
    "def _depthwise_conv_block(inputs, pointwise_conv_filters,\n",
    "                          depth_multiplier=1, strides=(1, 1), use_bn=True, block_id=None):\n",
    "    \"\"\"Adds a depthwise convolution block.\n",
    "        # Returns\n",
    "        Output tensor of block.\n",
    "    \"\"\"\n",
    "    if block_id is None:\n",
    "        block_id = (tf.keras.backend.get_uid())\n",
    "\n",
    "    if strides == (1, 1):\n",
    "        x = inputs\n",
    "    else:\n",
    "        x = tf.keras.layers.ZeroPadding2D(((1, 1), (1, 1)), name='conv_pad_%d' % block_id)(inputs)\n",
    "\n",
    "    x = tf.keras.layers.DepthwiseConv2D((3, 3),\n",
    "                                        padding='same' if strides == (1, 1) else 'valid',\n",
    "                                        depth_multiplier=depth_multiplier,\n",
    "                                        strides=strides,\n",
    "                                        use_bias=False if use_bn else True,\n",
    "                                        name='conv_dw_%d' % block_id)(x)\n",
    "    if use_bn:\n",
    "        x = tf.keras.layers.BatchNormalization(name='conv_dw_%d_bn' % block_id)(x)\n",
    "    x = tf.keras.layers.ReLU(name='conv_dw_%d_relu' % block_id)(x)\n",
    "\n",
    "    x = tf.keras.layers.Conv2D(pointwise_conv_filters, (1, 1),\n",
    "                               padding='same',\n",
    "                               use_bias=False if use_bn else True,\n",
    "                               strides=(1, 1),\n",
    "                               name='conv_pw_%d' % block_id)(x)\n",
    "    if use_bn:\n",
    "        x = tf.keras.layers.BatchNormalization(name='conv_pw_%d_bn' % block_id)(x)\n",
    "    return tf.keras.layers.ReLU(name='conv_pw_%d_relu' % block_id)(x)"
   ]
  },
  {
   "cell_type": "code",
   "execution_count": 19,
   "id": "a9c3bc71",
   "metadata": {
    "ExecuteTime": {
     "end_time": "2021-05-19T17:54:46.364113Z",
     "start_time": "2021-05-19T17:54:46.360054Z"
    }
   },
   "outputs": [],
   "source": [
    "def _branch_block(input, filters):\n",
    "\n",
    "    x = tf.keras.layers.Conv2D(filters, kernel_size=(3, 3), padding='same')(input)\n",
    "    x = tf.keras.layers.LeakyReLU()(x)\n",
    "    x = tf.keras.layers.Conv2D(filters, kernel_size=(3, 3), padding='same')(x)\n",
    "\n",
    "    x1 = tf.keras.layers.Conv2D(filters * 2, kernel_size=(3, 3), padding='same')(input)\n",
    "\n",
    "    x = tf.keras.layers.Concatenate(axis=-1)([x, x1])\n",
    "\n",
    "    return tf.keras.layers.ReLU()(x)"
   ]
  },
  {
   "cell_type": "code",
   "execution_count": 20,
   "id": "8ec5e615",
   "metadata": {
    "ExecuteTime": {
     "end_time": "2021-05-19T17:54:46.368372Z",
     "start_time": "2021-05-19T17:54:46.365572Z"
    }
   },
   "outputs": [],
   "source": [
    "def _create_head_block(inputs, filters, strides=(1, 1), block_id=None):\n",
    "    x = tf.keras.layers.Conv2D(filters, kernel_size=(3, 3), strides=strides, padding='same')(inputs)\n",
    "    return x"
   ]
  },
  {
   "cell_type": "code",
   "execution_count": 21,
   "id": "a98a4777",
   "metadata": {
    "ExecuteTime": {
     "end_time": "2021-05-19T17:54:46.372252Z",
     "start_time": "2021-05-19T17:54:46.369362Z"
    }
   },
   "outputs": [],
   "source": [
    "def _compute_heads(x, idx, num_class, num_cell):\n",
    "    \"\"\" Compute outputs of classification and regression heads\n",
    "    Args:\n",
    "        x: the input feature map\n",
    "        idx: index of the head layer\n",
    "    Returns:\n",
    "        conf: output of the idx-th classification head\n",
    "        loc: output of the idx-th regression head\n",
    "    \"\"\"\n",
    "    conf = _create_head_block(inputs=x, filters=num_cell[idx] * num_class)\n",
    "    conf = tf.keras.layers.Reshape((-1, num_class))(conf)\n",
    "    loc = _create_head_block(inputs=x, filters=num_cell[idx] * 4)\n",
    "    loc = tf.keras.layers.Reshape((-1, 4))(loc)\n",
    "\n",
    "    return conf, loc"
   ]
  },
  {
   "cell_type": "markdown",
   "id": "49072873",
   "metadata": {},
   "source": [
    "레이어들이 준비되었다. 이제 본격적으로 SSD model을 생성해 보겠다."
   ]
  },
  {
   "cell_type": "code",
   "execution_count": 22,
   "id": "298eb0fc",
   "metadata": {
    "ExecuteTime": {
     "end_time": "2021-05-19T17:54:46.382160Z",
     "start_time": "2021-05-19T17:54:46.373271Z"
    }
   },
   "outputs": [],
   "source": [
    "def SsdModel(cfg, num_cell, training=False, name='ssd_model'):\n",
    "    image_sizes = cfg['input_size']   if training else None\n",
    "    if isinstance(image_sizes, int):\n",
    "        image_sizes = (image_sizes, image_sizes)\n",
    "    elif isinstance(image_sizes, tuple):\n",
    "        image_sizes = image_sizes\n",
    "    elif image_sizes == None:\n",
    "        image_sizes = (None, None)\n",
    "    else:\n",
    "        raise Exception('Type error of input image size format,tuple or int. ')\n",
    "\n",
    "    base_channel = cfg[\"base_channel\"]\n",
    "    num_class = len(cfg['labels_list'])\n",
    "\n",
    "    x = inputs = tf.keras.layers.Input(shape=[image_sizes[0], image_sizes[1], 3], name='input_image')\n",
    "\n",
    "    x = _conv_block(x, base_channel, strides=(2, 2))  # 120*160*16\n",
    "    x = _conv_block(x, base_channel * 2, strides=(1, 1))\n",
    "    x = _conv_block(x, base_channel * 2, strides=(2, 2))  # 60*80\n",
    "    x = _conv_block(x, base_channel * 2, strides=(1, 1))\n",
    "    x = _conv_block(x, base_channel * 4, strides=(2, 2))  # 30*40\n",
    "    x = _conv_block(x, base_channel * 4, strides=(1, 1))\n",
    "    x = _conv_block(x, base_channel * 4, strides=(1, 1))\n",
    "    x = _conv_block(x, base_channel * 4, strides=(1, 1))\n",
    "    x1 = _branch_block(x, base_channel)\n",
    "\n",
    "    x = _conv_block(x, base_channel * 8, strides=(2, 2))  # 15*20\n",
    "    x = _conv_block(x, base_channel * 8, strides=(1, 1))\n",
    "    x = _conv_block(x, base_channel * 8, strides=(1, 1))\n",
    "    x2 = _branch_block(x, base_channel)\n",
    "\n",
    "    x = _depthwise_conv_block(x, base_channel * 16, strides=(2, 2))  # 8*10\n",
    "    x = _depthwise_conv_block(x, base_channel * 16, strides=(1, 1))\n",
    "    x3 = _branch_block(x, base_channel)\n",
    "\n",
    "    x = _depthwise_conv_block(x, base_channel * 16, strides=(2, 2))  # 4*5\n",
    "    x4 = _branch_block(x, base_channel)\n",
    "\n",
    "    extra_layers = [x1, x2, x3, x4]\n",
    "\n",
    "    confs = []\n",
    "    locs = []\n",
    "\n",
    "    head_idx = 0\n",
    "    assert len(extra_layers) == len(num_cell)\n",
    "    for layer in extra_layers:\n",
    "        conf, loc = _compute_heads(layer, head_idx, num_class, num_cell)\n",
    "        confs.append(conf)\n",
    "        locs.append(loc)\n",
    "\n",
    "        head_idx += 1\n",
    "\n",
    "    confs = tf.keras.layers.Concatenate(axis=1, name=\"face_classes\")(confs)\n",
    "    locs = tf.keras.layers.Concatenate(axis=1, name=\"face_boxes\")(locs)\n",
    "\n",
    "    predictions = tf.keras.layers.Concatenate(axis=2, name='predictions')([locs, confs])\n",
    "\n",
    "\n",
    "    model = tf.keras.Model(inputs=inputs, outputs=predictions, name=name)\n",
    "    return model"
   ]
  },
  {
   "cell_type": "code",
   "execution_count": 23,
   "id": "e31f84bd",
   "metadata": {
    "ExecuteTime": {
     "end_time": "2021-05-19T17:54:46.966049Z",
     "start_time": "2021-05-19T17:54:46.385938Z"
    }
   },
   "outputs": [
    {
     "name": "stdout",
     "output_type": "stream",
     "text": [
      "101\n",
      "Model: \"ssd_model\"\n",
      "__________________________________________________________________________________________________\n",
      "Layer (type)                    Output Shape         Param #     Connected to                     \n",
      "==================================================================================================\n",
      "input_image (InputLayer)        [(None, None, None,  0                                            \n",
      "__________________________________________________________________________________________________\n",
      "conv_pad_1 (ZeroPadding2D)      (None, None, None, 3 0           input_image[0][0]                \n",
      "__________________________________________________________________________________________________\n",
      "conv_1 (Conv2D)                 (None, None, None, 1 432         conv_pad_1[0][0]                 \n",
      "__________________________________________________________________________________________________\n",
      "conv_bn_1 (BatchNormalization)  (None, None, None, 1 64          conv_1[0][0]                     \n",
      "__________________________________________________________________________________________________\n",
      "conv_relu_1 (ReLU)              (None, None, None, 1 0           conv_bn_1[0][0]                  \n",
      "__________________________________________________________________________________________________\n",
      "conv_2 (Conv2D)                 (None, None, None, 3 4608        conv_relu_1[0][0]                \n",
      "__________________________________________________________________________________________________\n",
      "conv_bn_2 (BatchNormalization)  (None, None, None, 3 128         conv_2[0][0]                     \n",
      "__________________________________________________________________________________________________\n",
      "conv_relu_2 (ReLU)              (None, None, None, 3 0           conv_bn_2[0][0]                  \n",
      "__________________________________________________________________________________________________\n",
      "conv_pad_3 (ZeroPadding2D)      (None, None, None, 3 0           conv_relu_2[0][0]                \n",
      "__________________________________________________________________________________________________\n",
      "conv_3 (Conv2D)                 (None, None, None, 3 9216        conv_pad_3[0][0]                 \n",
      "__________________________________________________________________________________________________\n",
      "conv_bn_3 (BatchNormalization)  (None, None, None, 3 128         conv_3[0][0]                     \n",
      "__________________________________________________________________________________________________\n",
      "conv_relu_3 (ReLU)              (None, None, None, 3 0           conv_bn_3[0][0]                  \n",
      "__________________________________________________________________________________________________\n",
      "conv_4 (Conv2D)                 (None, None, None, 3 9216        conv_relu_3[0][0]                \n",
      "__________________________________________________________________________________________________\n",
      "conv_bn_4 (BatchNormalization)  (None, None, None, 3 128         conv_4[0][0]                     \n",
      "__________________________________________________________________________________________________\n",
      "conv_relu_4 (ReLU)              (None, None, None, 3 0           conv_bn_4[0][0]                  \n",
      "__________________________________________________________________________________________________\n",
      "conv_pad_5 (ZeroPadding2D)      (None, None, None, 3 0           conv_relu_4[0][0]                \n",
      "__________________________________________________________________________________________________\n",
      "conv_5 (Conv2D)                 (None, None, None, 6 18432       conv_pad_5[0][0]                 \n",
      "__________________________________________________________________________________________________\n",
      "conv_bn_5 (BatchNormalization)  (None, None, None, 6 256         conv_5[0][0]                     \n",
      "__________________________________________________________________________________________________\n",
      "conv_relu_5 (ReLU)              (None, None, None, 6 0           conv_bn_5[0][0]                  \n",
      "__________________________________________________________________________________________________\n",
      "conv_6 (Conv2D)                 (None, None, None, 6 36864       conv_relu_5[0][0]                \n",
      "__________________________________________________________________________________________________\n",
      "conv_bn_6 (BatchNormalization)  (None, None, None, 6 256         conv_6[0][0]                     \n",
      "__________________________________________________________________________________________________\n",
      "conv_relu_6 (ReLU)              (None, None, None, 6 0           conv_bn_6[0][0]                  \n",
      "__________________________________________________________________________________________________\n",
      "conv_7 (Conv2D)                 (None, None, None, 6 36864       conv_relu_6[0][0]                \n",
      "__________________________________________________________________________________________________\n",
      "conv_bn_7 (BatchNormalization)  (None, None, None, 6 256         conv_7[0][0]                     \n",
      "__________________________________________________________________________________________________\n",
      "conv_relu_7 (ReLU)              (None, None, None, 6 0           conv_bn_7[0][0]                  \n",
      "__________________________________________________________________________________________________\n",
      "conv_8 (Conv2D)                 (None, None, None, 6 36864       conv_relu_7[0][0]                \n",
      "__________________________________________________________________________________________________\n",
      "conv_bn_8 (BatchNormalization)  (None, None, None, 6 256         conv_8[0][0]                     \n",
      "__________________________________________________________________________________________________\n",
      "conv_relu_8 (ReLU)              (None, None, None, 6 0           conv_bn_8[0][0]                  \n",
      "__________________________________________________________________________________________________\n",
      "conv_pad_9 (ZeroPadding2D)      (None, None, None, 6 0           conv_relu_8[0][0]                \n",
      "__________________________________________________________________________________________________\n",
      "conv_9 (Conv2D)                 (None, None, None, 1 73728       conv_pad_9[0][0]                 \n",
      "__________________________________________________________________________________________________\n",
      "conv_bn_9 (BatchNormalization)  (None, None, None, 1 512         conv_9[0][0]                     \n",
      "__________________________________________________________________________________________________\n",
      "conv_relu_9 (ReLU)              (None, None, None, 1 0           conv_bn_9[0][0]                  \n",
      "__________________________________________________________________________________________________\n",
      "conv_10 (Conv2D)                (None, None, None, 1 147456      conv_relu_9[0][0]                \n",
      "__________________________________________________________________________________________________\n",
      "conv_bn_10 (BatchNormalization) (None, None, None, 1 512         conv_10[0][0]                    \n",
      "__________________________________________________________________________________________________\n",
      "conv_relu_10 (ReLU)             (None, None, None, 1 0           conv_bn_10[0][0]                 \n",
      "__________________________________________________________________________________________________\n",
      "conv_11 (Conv2D)                (None, None, None, 1 147456      conv_relu_10[0][0]               \n",
      "__________________________________________________________________________________________________\n",
      "conv_bn_11 (BatchNormalization) (None, None, None, 1 512         conv_11[0][0]                    \n",
      "__________________________________________________________________________________________________\n",
      "conv_relu_11 (ReLU)             (None, None, None, 1 0           conv_bn_11[0][0]                 \n",
      "__________________________________________________________________________________________________\n",
      "conv_pad_12 (ZeroPadding2D)     (None, None, None, 1 0           conv_relu_11[0][0]               \n",
      "__________________________________________________________________________________________________\n",
      "conv_dw_12 (DepthwiseConv2D)    (None, None, None, 1 1152        conv_pad_12[0][0]                \n",
      "__________________________________________________________________________________________________\n",
      "conv_dw_12_bn (BatchNormalizati (None, None, None, 1 512         conv_dw_12[0][0]                 \n",
      "__________________________________________________________________________________________________\n",
      "conv_dw_12_relu (ReLU)          (None, None, None, 1 0           conv_dw_12_bn[0][0]              \n",
      "__________________________________________________________________________________________________\n",
      "conv_pw_12 (Conv2D)             (None, None, None, 2 32768       conv_dw_12_relu[0][0]            \n",
      "__________________________________________________________________________________________________\n",
      "conv_pw_12_bn (BatchNormalizati (None, None, None, 2 1024        conv_pw_12[0][0]                 \n",
      "__________________________________________________________________________________________________\n",
      "conv_pw_12_relu (ReLU)          (None, None, None, 2 0           conv_pw_12_bn[0][0]              \n",
      "__________________________________________________________________________________________________\n",
      "conv_dw_13 (DepthwiseConv2D)    (None, None, None, 2 2304        conv_pw_12_relu[0][0]            \n",
      "__________________________________________________________________________________________________\n",
      "conv_dw_13_bn (BatchNormalizati (None, None, None, 2 1024        conv_dw_13[0][0]                 \n",
      "__________________________________________________________________________________________________\n",
      "conv_dw_13_relu (ReLU)          (None, None, None, 2 0           conv_dw_13_bn[0][0]              \n",
      "__________________________________________________________________________________________________\n",
      "conv_pw_13 (Conv2D)             (None, None, None, 2 65536       conv_dw_13_relu[0][0]            \n",
      "__________________________________________________________________________________________________\n",
      "conv_pw_13_bn (BatchNormalizati (None, None, None, 2 1024        conv_pw_13[0][0]                 \n",
      "__________________________________________________________________________________________________\n",
      "conv_pw_13_relu (ReLU)          (None, None, None, 2 0           conv_pw_13_bn[0][0]              \n",
      "__________________________________________________________________________________________________\n",
      "conv_pad_14 (ZeroPadding2D)     (None, None, None, 2 0           conv_pw_13_relu[0][0]            \n",
      "__________________________________________________________________________________________________\n",
      "conv_dw_14 (DepthwiseConv2D)    (None, None, None, 2 2304        conv_pad_14[0][0]                \n",
      "__________________________________________________________________________________________________\n",
      "conv_dw_14_bn (BatchNormalizati (None, None, None, 2 1024        conv_dw_14[0][0]                 \n",
      "__________________________________________________________________________________________________\n",
      "conv_dw_14_relu (ReLU)          (None, None, None, 2 0           conv_dw_14_bn[0][0]              \n",
      "__________________________________________________________________________________________________\n",
      "conv_pw_14 (Conv2D)             (None, None, None, 2 65536       conv_dw_14_relu[0][0]            \n",
      "__________________________________________________________________________________________________\n",
      "conv_pw_14_bn (BatchNormalizati (None, None, None, 2 1024        conv_pw_14[0][0]                 \n",
      "__________________________________________________________________________________________________\n",
      "conv_pw_14_relu (ReLU)          (None, None, None, 2 0           conv_pw_14_bn[0][0]              \n",
      "__________________________________________________________________________________________________\n",
      "conv2d (Conv2D)                 (None, None, None, 1 9232        conv_relu_8[0][0]                \n",
      "__________________________________________________________________________________________________\n",
      "conv2d_3 (Conv2D)               (None, None, None, 1 18448       conv_relu_11[0][0]               \n",
      "__________________________________________________________________________________________________\n",
      "conv2d_6 (Conv2D)               (None, None, None, 1 36880       conv_pw_13_relu[0][0]            \n",
      "__________________________________________________________________________________________________\n",
      "conv2d_9 (Conv2D)               (None, None, None, 1 36880       conv_pw_14_relu[0][0]            \n",
      "__________________________________________________________________________________________________\n",
      "leaky_re_lu (LeakyReLU)         (None, None, None, 1 0           conv2d[0][0]                     \n",
      "__________________________________________________________________________________________________\n",
      "leaky_re_lu_1 (LeakyReLU)       (None, None, None, 1 0           conv2d_3[0][0]                   \n",
      "__________________________________________________________________________________________________\n",
      "leaky_re_lu_2 (LeakyReLU)       (None, None, None, 1 0           conv2d_6[0][0]                   \n",
      "__________________________________________________________________________________________________\n",
      "leaky_re_lu_3 (LeakyReLU)       (None, None, None, 1 0           conv2d_9[0][0]                   \n",
      "__________________________________________________________________________________________________\n",
      "conv2d_1 (Conv2D)               (None, None, None, 1 2320        leaky_re_lu[0][0]                \n",
      "__________________________________________________________________________________________________\n",
      "conv2d_2 (Conv2D)               (None, None, None, 3 18464       conv_relu_8[0][0]                \n",
      "__________________________________________________________________________________________________\n",
      "conv2d_4 (Conv2D)               (None, None, None, 1 2320        leaky_re_lu_1[0][0]              \n",
      "__________________________________________________________________________________________________\n",
      "conv2d_5 (Conv2D)               (None, None, None, 3 36896       conv_relu_11[0][0]               \n",
      "__________________________________________________________________________________________________\n",
      "conv2d_7 (Conv2D)               (None, None, None, 1 2320        leaky_re_lu_2[0][0]              \n",
      "__________________________________________________________________________________________________\n",
      "conv2d_8 (Conv2D)               (None, None, None, 3 73760       conv_pw_13_relu[0][0]            \n",
      "__________________________________________________________________________________________________\n",
      "conv2d_10 (Conv2D)              (None, None, None, 1 2320        leaky_re_lu_3[0][0]              \n",
      "__________________________________________________________________________________________________\n",
      "conv2d_11 (Conv2D)              (None, None, None, 3 73760       conv_pw_14_relu[0][0]            \n",
      "__________________________________________________________________________________________________\n",
      "concatenate (Concatenate)       (None, None, None, 4 0           conv2d_1[0][0]                   \n",
      "                                                                 conv2d_2[0][0]                   \n",
      "__________________________________________________________________________________________________\n",
      "concatenate_1 (Concatenate)     (None, None, None, 4 0           conv2d_4[0][0]                   \n",
      "                                                                 conv2d_5[0][0]                   \n",
      "__________________________________________________________________________________________________\n",
      "concatenate_2 (Concatenate)     (None, None, None, 4 0           conv2d_7[0][0]                   \n",
      "                                                                 conv2d_8[0][0]                   \n",
      "__________________________________________________________________________________________________\n",
      "concatenate_3 (Concatenate)     (None, None, None, 4 0           conv2d_10[0][0]                  \n",
      "                                                                 conv2d_11[0][0]                  \n",
      "__________________________________________________________________________________________________\n",
      "re_lu (ReLU)                    (None, None, None, 4 0           concatenate[0][0]                \n",
      "__________________________________________________________________________________________________\n",
      "re_lu_1 (ReLU)                  (None, None, None, 4 0           concatenate_1[0][0]              \n",
      "__________________________________________________________________________________________________\n",
      "re_lu_2 (ReLU)                  (None, None, None, 4 0           concatenate_2[0][0]              \n",
      "__________________________________________________________________________________________________\n",
      "re_lu_3 (ReLU)                  (None, None, None, 4 0           concatenate_3[0][0]              \n",
      "__________________________________________________________________________________________________\n",
      "conv2d_13 (Conv2D)              (None, None, None, 1 5196        re_lu[0][0]                      \n",
      "__________________________________________________________________________________________________\n",
      "conv2d_15 (Conv2D)              (None, None, None, 8 3464        re_lu_1[0][0]                    \n",
      "__________________________________________________________________________________________________\n",
      "conv2d_17 (Conv2D)              (None, None, None, 8 3464        re_lu_2[0][0]                    \n",
      "__________________________________________________________________________________________________\n",
      "conv2d_19 (Conv2D)              (None, None, None, 1 5196        re_lu_3[0][0]                    \n",
      "__________________________________________________________________________________________________\n",
      "conv2d_12 (Conv2D)              (None, None, None, 6 2598        re_lu[0][0]                      \n",
      "__________________________________________________________________________________________________\n",
      "conv2d_14 (Conv2D)              (None, None, None, 4 1732        re_lu_1[0][0]                    \n",
      "__________________________________________________________________________________________________\n",
      "conv2d_16 (Conv2D)              (None, None, None, 4 1732        re_lu_2[0][0]                    \n",
      "__________________________________________________________________________________________________\n",
      "conv2d_18 (Conv2D)              (None, None, None, 6 2598        re_lu_3[0][0]                    \n",
      "__________________________________________________________________________________________________\n",
      "reshape_1 (Reshape)             (None, None, 4)      0           conv2d_13[0][0]                  \n",
      "__________________________________________________________________________________________________\n",
      "reshape_3 (Reshape)             (None, None, 4)      0           conv2d_15[0][0]                  \n",
      "__________________________________________________________________________________________________\n",
      "reshape_5 (Reshape)             (None, None, 4)      0           conv2d_17[0][0]                  \n",
      "__________________________________________________________________________________________________\n",
      "reshape_7 (Reshape)             (None, None, 4)      0           conv2d_19[0][0]                  \n",
      "__________________________________________________________________________________________________\n",
      "reshape (Reshape)               (None, None, 2)      0           conv2d_12[0][0]                  \n",
      "__________________________________________________________________________________________________\n",
      "reshape_2 (Reshape)             (None, None, 2)      0           conv2d_14[0][0]                  \n",
      "__________________________________________________________________________________________________\n",
      "reshape_4 (Reshape)             (None, None, 2)      0           conv2d_16[0][0]                  \n",
      "__________________________________________________________________________________________________\n",
      "reshape_6 (Reshape)             (None, None, 2)      0           conv2d_18[0][0]                  \n",
      "__________________________________________________________________________________________________\n",
      "face_boxes (Concatenate)        (None, None, 4)      0           reshape_1[0][0]                  \n",
      "                                                                 reshape_3[0][0]                  \n",
      "                                                                 reshape_5[0][0]                  \n",
      "                                                                 reshape_7[0][0]                  \n",
      "__________________________________________________________________________________________________\n",
      "face_classes (Concatenate)      (None, None, 2)      0           reshape[0][0]                    \n",
      "                                                                 reshape_2[0][0]                  \n",
      "                                                                 reshape_4[0][0]                  \n",
      "                                                                 reshape_6[0][0]                  \n",
      "__________________________________________________________________________________________________\n",
      "predictions (Concatenate)       (None, None, 6)      0           face_boxes[0][0]                 \n",
      "                                                                 face_classes[0][0]               \n",
      "==================================================================================================\n",
      "Total params: 1,038,956\n",
      "Trainable params: 1,034,636\n",
      "Non-trainable params: 4,320\n",
      "__________________________________________________________________________________________________\n"
     ]
    }
   ],
   "source": [
    "import os\n",
    "\n",
    "model = SsdModel(cfg, num_cell=[3, 2, 2, 3], training=False)\n",
    "print(len(model.layers))\n",
    "model.summary()"
   ]
  },
  {
   "cell_type": "markdown",
   "id": "39f3876a",
   "metadata": {},
   "source": [
    "이번 스텝에 소개한 SSD model 생성 과정을 **`tf_build_ssd_model.py`**에 정리해 두었다. 아래와 같이 위의 과정을 실행할 수 있다.\n",
    "\n",
    "```bash\n",
    "$ cd ~/aiffel/face_detector && python tf_build_ssd_model.py\n",
    "```"
   ]
  },
  {
   "cell_type": "markdown",
   "id": "265b7a86",
   "metadata": {},
   "source": [
    "## 6. 모델 학습(1) Augmentation, Prior 적용"
   ]
  },
  {
   "cell_type": "markdown",
   "id": "b8ef8b46",
   "metadata": {},
   "source": [
    "### augmentation\n",
    "---\n",
    "모델까지 구성완료하였다. 그러나 본격적으로 train을 진행하기 전에 아직 몇가지가 더 남아있다.\n",
    "\n",
    "이전 스텝에서 구성한 tfrecordset 형태의 데이터셋은 아직 Data augmentation이 적용되지 않았다. Object detection에서 사용하는 다양한 augmentation 기법을 적용해 주면 좀더 성능향상을 기대할 수도 있을 것이다.\n",
    "\n",
    "아래는 augmentation을 위해 **`tf.data.TFRecordDataset.map()`** 내에서 호출할 메소드들이다.\n",
    "\n",
    "- _crop  \n",
    "- _pad_to_square  \n",
    "- _resize  \n",
    "- _flip  \n",
    "- _distort"
   ]
  },
  {
   "cell_type": "code",
   "execution_count": 24,
   "id": "de4a710b",
   "metadata": {
    "ExecuteTime": {
     "end_time": "2021-05-19T17:54:46.978520Z",
     "start_time": "2021-05-19T17:54:46.967750Z"
    }
   },
   "outputs": [],
   "source": [
    "def _crop(img, labels, max_loop=250):\n",
    "    shape = tf.shape(img)\n",
    "\n",
    "    def matrix_iof(a, b):\n",
    "        \"\"\"\n",
    "        return iof of a and b, numpy version for data augenmentation\n",
    "        \"\"\"\n",
    "        lt = tf.math.maximum(a[:, tf.newaxis, :2], b[:, :2])\n",
    "        rb = tf.math.minimum(a[:, tf.newaxis, 2:], b[:, 2:])\n",
    "\n",
    "        area_i = tf.math.reduce_prod(rb - lt, axis=2) * \\\n",
    "            tf.cast(tf.reduce_all(lt < rb, axis=2), tf.float32)\n",
    "        area_a = tf.math.reduce_prod(a[:, 2:] - a[:, :2], axis=1)\n",
    "        return area_i / tf.math.maximum(area_a[:, tf.newaxis], 1)\n",
    "\n",
    "    def crop_loop_body(i, img, labels):\n",
    "        valid_crop = tf.constant(1, tf.int32)\n",
    "\n",
    "        pre_scale = tf.constant([0.3, 0.45, 0.6, 0.8, 1.0], dtype=tf.float32)\n",
    "        scale = pre_scale[tf.random.uniform([], 0, 5, dtype=tf.int32)]\n",
    "        short_side = tf.cast(tf.minimum(shape[0], shape[1]), tf.float32)\n",
    "        h = w = tf.cast(scale * short_side, tf.int32)\n",
    "        h_offset = tf.random.uniform([], 0, shape[0] - h + 1, dtype=tf.int32)\n",
    "        w_offset = tf.random.uniform([], 0, shape[1] - w + 1, dtype=tf.int32)\n",
    "        roi = tf.stack([w_offset, h_offset, w_offset + w, h_offset + h])\n",
    "        roi = tf.cast(roi, tf.float32)\n",
    "\n",
    "\n",
    "        value = matrix_iof(labels[:, :4], roi[tf.newaxis])\n",
    "        valid_crop = tf.cond(tf.math.reduce_any(value >= 1),\n",
    "                             lambda: valid_crop, lambda: 0)\n",
    "\n",
    "        centers = (labels[:, :2] + labels[:, 2:4]) / 2\n",
    "        mask_a = tf.reduce_all(\n",
    "            tf.math.logical_and(roi[:2] < centers, centers < roi[2:]),\n",
    "            axis=1)\n",
    "        labels_t = tf.boolean_mask(labels, mask_a)\n",
    "        valid_crop = tf.cond(tf.reduce_any(mask_a),\n",
    "                             lambda: valid_crop, lambda: 0)\n",
    "\n",
    "        img_t = img[h_offset:h_offset + h, w_offset:w_offset + w, :]\n",
    "        h_offset = tf.cast(h_offset, tf.float32)\n",
    "        w_offset = tf.cast(w_offset, tf.float32)\n",
    "        labels_t = tf.stack(\n",
    "            [labels_t[:, 0] - w_offset,  labels_t[:, 1] - h_offset,\n",
    "             labels_t[:, 2] - w_offset,  labels_t[:, 3] - h_offset,\n",
    "             labels_t[:, 4]], axis=1)\n",
    "\n",
    "        return tf.cond(valid_crop == 1,\n",
    "                       lambda: (max_loop, img_t, labels_t),\n",
    "                       lambda: (i + 1, img, labels))\n",
    "\n",
    "    _, img, labels = tf.while_loop(\n",
    "        lambda i, img, labels: tf.less(i, max_loop),\n",
    "        crop_loop_body,\n",
    "        [tf.constant(-1), img, labels],\n",
    "        shape_invariants=[tf.TensorShape([]),\n",
    "                          tf.TensorShape([None, None, 3]),\n",
    "                          tf.TensorShape([None, 5])])\n",
    "\n",
    "    return img, labels"
   ]
  },
  {
   "cell_type": "code",
   "execution_count": 25,
   "id": "d6309115",
   "metadata": {
    "ExecuteTime": {
     "end_time": "2021-05-19T17:54:46.990978Z",
     "start_time": "2021-05-19T17:54:46.979551Z"
    }
   },
   "outputs": [],
   "source": [
    "def _pad_to_square(img):\n",
    "    height = tf.shape(img)[0]\n",
    "    width = tf.shape(img)[1]\n",
    "\n",
    "    def pad_h():\n",
    "        img_pad_h = tf.ones([width - height, width, 3]) * tf.reduce_mean(img, axis=[0, 1], keepdims=True)\n",
    "        return tf.concat([img, img_pad_h], axis=0)\n",
    "\n",
    "    def pad_w():\n",
    "        img_pad_w = tf.ones([height, height - width, 3]) * tf.reduce_mean(img, axis=[0, 1], keepdims=True)\n",
    "        return tf.concat([img, img_pad_w], axis=1)\n",
    "\n",
    "    img = tf.case([(tf.greater(height, width), pad_w),\n",
    "                   (tf.less(height, width), pad_h)], default=lambda: img)\n",
    "\n",
    "    return img"
   ]
  },
  {
   "cell_type": "code",
   "execution_count": 26,
   "id": "6e280e2a",
   "metadata": {
    "ExecuteTime": {
     "end_time": "2021-05-19T17:54:46.998350Z",
     "start_time": "2021-05-19T17:54:46.992176Z"
    }
   },
   "outputs": [],
   "source": [
    "def _resize(img, labels, img_dim):\n",
    "    ''' # resize and boxes coordinate to percent'''\n",
    "    w_f = tf.cast(tf.shape(img)[1], tf.float32)\n",
    "    h_f = tf.cast(tf.shape(img)[0], tf.float32)\n",
    "    locs = tf.stack([labels[:, 0] / w_f,  labels[:, 1] / h_f,\n",
    "                     labels[:, 2] / w_f,  labels[:, 3] / h_f] ,axis=1)\n",
    "    locs = tf.clip_by_value(locs, 0, 1.0)\n",
    "    labels = tf.concat([locs, labels[:, 4][:, tf.newaxis]], axis=1)\n",
    "\n",
    "    resize_case = tf.random.uniform([], 0, 5, dtype=tf.int32)\n",
    "    if isinstance(img_dim, int):\n",
    "        img_dim = (img_dim, img_dim)\n",
    "    elif isinstance(img_dim,tuple):\n",
    "        img_dim = img_dim\n",
    "    else:\n",
    "        raise Exception('Type error of input image size format,tuple or int. ')\n",
    "\n",
    "    def resize(method):\n",
    "        def _resize():\n",
    "            #　size h,w\n",
    "            return tf.image.resize(img, [img_dim[0], img_dim[1]], method=method, antialias=True)\n",
    "        return _resize\n",
    "\n",
    "    img = tf.case([(tf.equal(resize_case, 0), resize('bicubic')),\n",
    "                   (tf.equal(resize_case, 1), resize('area')),\n",
    "                   (tf.equal(resize_case, 2), resize('nearest')),\n",
    "                   (tf.equal(resize_case, 3), resize('lanczos3'))],\n",
    "                  default=resize('bilinear'))\n",
    "\n",
    "    return img, labels"
   ]
  },
  {
   "cell_type": "code",
   "execution_count": 27,
   "id": "60327e97",
   "metadata": {
    "ExecuteTime": {
     "end_time": "2021-05-19T17:54:47.003096Z",
     "start_time": "2021-05-19T17:54:46.999628Z"
    }
   },
   "outputs": [],
   "source": [
    "def _flip(img, labels):\n",
    "    flip_case = tf.random.uniform([], 0, 2, dtype=tf.int32)\n",
    "\n",
    "    def flip_func():\n",
    "        flip_img = tf.image.flip_left_right(img)\n",
    "        flip_labels = tf.stack([1 - labels[:, 2],  labels[:, 1],\n",
    "                                1 - labels[:, 0],  labels[:, 3],\n",
    "                                labels[:, 4]], axis=1)\n",
    "\n",
    "        return flip_img, flip_labels\n",
    "\n",
    "    img, labels = tf.case([(tf.equal(flip_case, 0), flip_func)],default=lambda: (img, labels))\n",
    "\n",
    "    return img, labels"
   ]
  },
  {
   "cell_type": "code",
   "execution_count": 28,
   "id": "81b7ec01",
   "metadata": {
    "ExecuteTime": {
     "end_time": "2021-05-19T17:54:47.007091Z",
     "start_time": "2021-05-19T17:54:47.004417Z"
    }
   },
   "outputs": [],
   "source": [
    "def _distort(img):\n",
    "    img = tf.image.random_brightness(img, 0.4)\n",
    "    img = tf.image.random_contrast(img, 0.5, 1.5)\n",
    "    img = tf.image.random_saturation(img, 0.5, 1.5)\n",
    "    img = tf.image.random_hue(img, 0.1)\n",
    "\n",
    "    return img"
   ]
  },
  {
   "cell_type": "markdown",
   "id": "c175ecdb",
   "metadata": {},
   "source": [
    "### Prior box 적용\n",
    "---\n",
    "SSD 모델의 특이점 중 하나가 prior box를 사용한다는 점을 이미 앞에서 설명하였다. prior box 정보는 데이터셋에 반영되어야 한다. 아래 메소드들은 prior box와 bounding box 사이의 IoU, 다른 말로 jaccard index를 측정하기 위한 것이다. 이후 이 메소드를 활용해 어떻게 데이터셋을 추가로 가공하는지 살펴보자.\n",
    "\n",
    "(참고) [자카드 거리, 자카드 지수](https://rfriend.tistory.com/318)"
   ]
  },
  {
   "cell_type": "code",
   "execution_count": 29,
   "id": "5dba39f5",
   "metadata": {
    "ExecuteTime": {
     "end_time": "2021-05-19T17:54:47.012340Z",
     "start_time": "2021-05-19T17:54:47.008235Z"
    }
   },
   "outputs": [],
   "source": [
    "def _intersect(box_a, box_b):\n",
    "    \"\"\" We resize both tensors to [A,B,2]:\n",
    "    [A,2] -> [A,1,2] -> [A,B,2]\n",
    "    [B,2] -> [1,B,2] -> [A,B,2]\n",
    "    Then we compute the area of intersect between box_a and box_b.\n",
    "    Args:\n",
    "      box_a: (tensor) bounding boxes, Shape: [A,4].\n",
    "      box_b: (tensor) bounding boxes, Shape: [B,4].\n",
    "    Return:\n",
    "      (tensor) intersection area, Shape: [A,B].\n",
    "    \"\"\"\n",
    "    A = tf.shape(box_a)[0]\n",
    "    B = tf.shape(box_b)[0]\n",
    "    max_xy = tf.minimum(\n",
    "        tf.broadcast_to(tf.expand_dims(box_a[:, 2:], 1), [A, B, 2]),\n",
    "        tf.broadcast_to(tf.expand_dims(box_b[:, 2:], 0), [A, B, 2]))\n",
    "    min_xy = tf.maximum(\n",
    "        tf.broadcast_to(tf.expand_dims(box_a[:, :2], 1), [A, B, 2]),\n",
    "        tf.broadcast_to(tf.expand_dims(box_b[:, :2], 0), [A, B, 2]))\n",
    "    inter = tf.clip_by_value(max_xy - min_xy, 0.0, 512.0)\n",
    "    return inter[:, :, 0] * inter[:, :, 1]"
   ]
  },
  {
   "cell_type": "code",
   "execution_count": 30,
   "id": "9f4ea2f0",
   "metadata": {
    "ExecuteTime": {
     "end_time": "2021-05-19T17:54:47.016848Z",
     "start_time": "2021-05-19T17:54:47.013390Z"
    }
   },
   "outputs": [],
   "source": [
    "def _jaccard(box_a, box_b):\n",
    "    \"\"\"Compute the jaccard overlap of two sets of boxes.  The jaccard overlap\n",
    "    is simply the intersection over union of two boxes.  Here we operate on\n",
    "    ground truth boxes and default boxes.\n",
    "    E.g.:\n",
    "        A ∩ B / A ∪ B = A ∩ B / (area(A) + area(B) - A ∩ B)\n",
    "    Args:\n",
    "        box_a: (tensor) Ground truth bounding boxes, Shape: [num_objects,4]\n",
    "        box_b: (tensor) Prior boxes from priorbox layers, Shape: [num_priors,4]\n",
    "    Return:\n",
    "        jaccard overlap: (tensor) Shape: [box_a.size(0), box_b.size(0)]\n",
    "    \"\"\"\n",
    "    inter = _intersect(box_a, box_b)\n",
    "    area_a = tf.broadcast_to(\n",
    "        tf.expand_dims(\n",
    "            (box_a[:, 2] - box_a[:, 0]) * (box_a[:, 3] - box_a[:, 1]), 1),\n",
    "        tf.shape(inter))  # [A,B]\n",
    "    area_b = tf.broadcast_to(\n",
    "        tf.expand_dims(\n",
    "            (box_b[:, 2] - box_b[:, 0]) * (box_b[:, 3] - box_b[:, 1]), 0),\n",
    "        tf.shape(inter))  # [A,B]\n",
    "    union = area_a + area_b - inter\n",
    "    return inter / union  # [A,B]"
   ]
  },
  {
   "cell_type": "markdown",
   "id": "f217c159",
   "metadata": {},
   "source": [
    "jaccard index를 계산하는 메소드가 준비되었다. 아래 **`encode_tf`**는 이를 이용해서 tfrecord 데이터셋의 라벨을 가공하는 메소드이다. 내용을 정리하면 다음과 같다.\n",
    "\n",
    "- jaccard 메소드를 이용해 label의 ground truth bbox와 가장 overlap 비율이 높은 matched prior를 구한다.  \n",
    "- **`_encode_bbox`** 메소드를 통해 bbox의 scale을 동일하게 보정한다.  \n",
    "- 전체 prior box에 대해 일정 threshold 이상 overlap되는 ground truth bounding box 존재 여부(positive/negative)를 concat하여 새로운 label로 업데이트한다.\n"
   ]
  },
  {
   "cell_type": "code",
   "execution_count": 31,
   "id": "1bf44553",
   "metadata": {
    "ExecuteTime": {
     "end_time": "2021-05-19T17:54:47.021081Z",
     "start_time": "2021-05-19T17:54:47.017866Z"
    }
   },
   "outputs": [],
   "source": [
    "def _encode_bbox(matched, priors, variances):\n",
    "    \"\"\"Encode the variances from the priorbox layers into the ground truth\n",
    "    boxes we have matched (based on jaccard overlap) with the prior boxes.\n",
    "    Args:\n",
    "        matched: (tensor) Coords of ground truth for each prior in point-form\n",
    "            Shape: [num_priors, 4].\n",
    "        priors: (tensor) Prior boxes in center-offset form\n",
    "            Shape: [num_priors,4].\n",
    "        variances: (list[float]) Variances of prior boxes\n",
    "    Return:\n",
    "        encoded boxes (tensor), Shape: [num_priors, 4]\n",
    "    \"\"\"\n",
    "    # dist b/t match center and prior's center\n",
    "    g_cxcy = (matched[:, :2] + matched[:, 2:]) / 2 - priors[:, :2]\n",
    "\n",
    "    # encode variance\n",
    "    g_cxcy /= (variances[0] * priors[:, 2:])\n",
    "\n",
    "    # match wh / prior wh\n",
    "    g_wh = (matched[:, 2:] - matched[:, :2]) / priors[:, 2:]\n",
    "    g_wh = tf.math.log(g_wh) / variances[1]\n",
    "\n",
    "    # return target for smooth_l1_loss\n",
    "    return tf.concat([g_cxcy, g_wh], 1)  # [num_priors,4]"
   ]
  },
  {
   "cell_type": "code",
   "execution_count": 32,
   "id": "e99fed36",
   "metadata": {
    "ExecuteTime": {
     "end_time": "2021-05-19T17:54:47.028347Z",
     "start_time": "2021-05-19T17:54:47.022236Z"
    }
   },
   "outputs": [],
   "source": [
    "def encode_tf(labels, priors, match_thresh, variances=None):\n",
    "    \"\"\"tensorflow encoding\"\"\"\n",
    "    if variances is None:\n",
    "        variances = [0.1, 0.2]\n",
    "\n",
    "    priors = tf.cast(priors, tf.float32)\n",
    "    bbox = labels[:, :4]\n",
    "    conf = labels[:, -1]\n",
    "\n",
    "    # jaccard index\n",
    "    overlaps = _jaccard(bbox, priors)\n",
    "    best_prior_overlap = tf.reduce_max(overlaps, 1)\n",
    "    best_prior_idx = tf.argmax(overlaps, 1, tf.int32)\n",
    "\n",
    "    best_truth_overlap = tf.reduce_max(overlaps, 0)\n",
    "    best_truth_idx = tf.argmax(overlaps, 0, tf.int32)\n",
    "\n",
    "    best_truth_overlap = tf.tensor_scatter_nd_update(\n",
    "        best_truth_overlap, tf.expand_dims(best_prior_idx, 1),\n",
    "        tf.ones_like(best_prior_idx, tf.float32) * 2.)\n",
    "    best_truth_idx = tf.tensor_scatter_nd_update(\n",
    "        best_truth_idx, tf.expand_dims(best_prior_idx, 1),\n",
    "        tf.range(tf.size(best_prior_idx), dtype=tf.int32))\n",
    "\n",
    "    # Scale Ground-Truth Boxes\n",
    "    matches_bbox = tf.gather(bbox, best_truth_idx)  # [num_priors, 4]\n",
    "    loc_t = _encode_bbox(matches_bbox, priors, variances)\n",
    "    conf_t = tf.gather(conf, best_truth_idx)  # [num_priors]\n",
    "    conf_t = tf.where(tf.less(best_truth_overlap, match_thresh), tf.zeros_like(conf_t), conf_t)\n",
    "\n",
    "    return tf.concat([loc_t, conf_t[..., tf.newaxis]], axis=1)"
   ]
  },
  {
   "cell_type": "markdown",
   "id": "9cfc27fe",
   "metadata": {},
   "source": [
    "### load_dataset\n",
    "---\n",
    "위에서 구현한 두가지 메소드를 이전 스텝에서 생성한 tfrecord 데이터셋에 적용하여 SSD 학습을 위한 데이터셋을 생성하는 최종 메소드인 **`load_dataset`** 을 구현한다.\n",
    "\n",
    "- **`_transform_data`** : aumemtation과 prior box label을 적용하여 기존의 dataset을 변환하는 메소드  \n",
    "- **`_parse_tfrecord`** : tfrecord 에 _transform_data를 적용하는 함수 클로저 생성  \n",
    "- **`load_tfrecord_dataset`** : **`tf.data.TFRecordDataset.map()`**에 **`_parse_tfrecord`**을 적용하는 실제 데이터셋 변환 메인 메소드  \n",
    "- **`load_dataset`** : **`load_tfrecord_dataset`**을 통해 train, validation 데이터셋을 생성하는 최종 메소드"
   ]
  },
  {
   "cell_type": "code",
   "execution_count": 33,
   "id": "b36857d6",
   "metadata": {
    "ExecuteTime": {
     "end_time": "2021-05-19T17:54:47.035341Z",
     "start_time": "2021-05-19T17:54:47.029981Z"
    }
   },
   "outputs": [],
   "source": [
    "def _transform_data(img_dim, using_crop,using_flip, using_distort, using_encoding,using_normalizing, priors,\n",
    "                    match_thresh,  variances):\n",
    "    def transform_data(img, labels):\n",
    "        img = tf.cast(img, tf.float32)\n",
    "        if using_crop:\n",
    "        # randomly crop\n",
    "            img, labels = _crop(img, labels)\n",
    "\n",
    "            # padding to square\n",
    "            img = _pad_to_square(img)\n",
    "\n",
    "        # resize and boxes coordinate to percent\n",
    "        img, labels = _resize(img, labels, img_dim)\n",
    "\n",
    "        # randomly left-right flip\n",
    "        if using_flip:\n",
    "            img, labels = _flip(img, labels)\n",
    "\n",
    "        # distort\n",
    "        if using_distort:\n",
    "            img = _distort(img)\n",
    "\n",
    "        # encode labels to feature targets\n",
    "        if using_encoding:\n",
    "            labels = encode_tf(labels=labels, priors=priors, match_thresh=match_thresh, variances=variances)\n",
    "        if using_normalizing:\n",
    "            img=(img/255.0-0.5)/1.0\n",
    "\n",
    "        return img, labels\n",
    "    return transform_data"
   ]
  },
  {
   "cell_type": "code",
   "execution_count": 34,
   "id": "5cd061ae",
   "metadata": {
    "ExecuteTime": {
     "end_time": "2021-05-19T17:54:47.044098Z",
     "start_time": "2021-05-19T17:54:47.036880Z"
    }
   },
   "outputs": [],
   "source": [
    "def _parse_tfrecord(img_dim,using_crop, using_flip, using_distort,\n",
    "                    using_encoding, using_normalizing,priors, match_thresh,  variances):\n",
    "    def parse_tfrecord(tfrecord):\n",
    "        features = {\n",
    "            'filename': tf.io.FixedLenFeature([], tf.string),\n",
    "            'height': tf.io.FixedLenFeature([], tf.int64),\n",
    "            'width': tf.io.FixedLenFeature([], tf.int64),\n",
    "            'classes': tf.io.VarLenFeature(tf.int64),\n",
    "            'x_mins': tf.io.VarLenFeature(tf.float32),\n",
    "            'y_mins': tf.io.VarLenFeature(tf.float32),\n",
    "            'x_maxes': tf.io.VarLenFeature(tf.float32),\n",
    "            'y_maxes': tf.io.VarLenFeature(tf.float32),\n",
    "            'difficult':tf.io.VarLenFeature(tf.int64),\n",
    "            'image_raw': tf.io.FixedLenFeature([], tf.string),\n",
    "           }\n",
    "\n",
    "        parsed_example = tf.io.parse_single_example(tfrecord, features)\n",
    "        img = tf.image.decode_jpeg(parsed_example['image_raw'], channels=3)\n",
    "\n",
    "        width = tf.cast(parsed_example['width'], tf.float32)\n",
    "        height = tf.cast(parsed_example['height'], tf.float32)\n",
    "\n",
    "        labels = tf.sparse.to_dense(parsed_example['classes'])\n",
    "        labels = tf.cast(labels, tf.float32)\n",
    "\n",
    "        labels = tf.stack(\n",
    "            [tf.sparse.to_dense(parsed_example['x_mins']),\n",
    "             tf.sparse.to_dense(parsed_example['y_mins']),\n",
    "             tf.sparse.to_dense(parsed_example['x_maxes']),\n",
    "             tf.sparse.to_dense(parsed_example['y_maxes']),labels], axis=1)\n",
    "\n",
    "        img, labels = _transform_data(\n",
    "            img_dim, using_crop,using_flip, using_distort, using_encoding, using_normalizing,priors,\n",
    "            match_thresh,  variances)(img, labels)\n",
    "\n",
    "        return img, labels\n",
    "    return parse_tfrecord"
   ]
  },
  {
   "cell_type": "code",
   "execution_count": 35,
   "id": "63575f22",
   "metadata": {
    "ExecuteTime": {
     "end_time": "2021-05-19T17:54:47.051209Z",
     "start_time": "2021-05-19T17:54:47.045800Z"
    }
   },
   "outputs": [],
   "source": [
    "def load_tfrecord_dataset(tfrecord_name, batch_size, img_dim,\n",
    "                          using_crop=True,using_flip=True, using_distort=True,\n",
    "                          using_encoding=True, using_normalizing=True,\n",
    "                          priors=None, match_thresh=0.45,variances=None,\n",
    "                          shuffle=True, repeat=True,buffer_size=10240):\n",
    "\n",
    "    if variances is None:\n",
    "        variances = [0.1, 0.2]\n",
    "\n",
    "    \"\"\"load dataset from tfrecord\"\"\"\n",
    "    if not using_encoding:\n",
    "        assert batch_size == 1\n",
    "    else:\n",
    "        assert priors is not None\n",
    "\n",
    "    raw_dataset = tf.data.TFRecordDataset(tfrecord_name)\n",
    "    raw_dataset = raw_dataset.cache()\n",
    "    if repeat:\n",
    "        raw_dataset = raw_dataset.repeat()\n",
    "    if shuffle:\n",
    "        raw_dataset = raw_dataset.shuffle(buffer_size=buffer_size)\n",
    "\n",
    "\n",
    "    dataset = raw_dataset.map(\n",
    "        _parse_tfrecord(img_dim, using_crop, using_flip, using_distort,\n",
    "                        using_encoding, using_normalizing,priors, match_thresh,  variances),\n",
    "        num_parallel_calls=tf.data.experimental.AUTOTUNE)\n",
    "    dataset = dataset.batch(batch_size, drop_remainder=True)\n",
    "    dataset = dataset.prefetch(\n",
    "        buffer_size=tf.data.experimental.AUTOTUNE)\n",
    "\n",
    "    return dataset"
   ]
  },
  {
   "cell_type": "code",
   "execution_count": 36,
   "id": "5b839a18",
   "metadata": {
    "ExecuteTime": {
     "end_time": "2021-05-19T17:54:47.058899Z",
     "start_time": "2021-05-19T17:54:47.052922Z"
    }
   },
   "outputs": [],
   "source": [
    "def load_dataset(cfg, priors, shuffle=True, buffer_size=10240,train=True):\n",
    "    \"\"\"load dataset\"\"\"\n",
    "    global dataset\n",
    "    if train:\n",
    "        logging.info(\"load train dataset from {}\".format(cfg['dataset_path']))\n",
    "        dataset = load_tfrecord_dataset(\n",
    "            tfrecord_name=os.path.join(rootPath, cfg['dataset_path']),\n",
    "            batch_size=cfg['batch_size'],\n",
    "            img_dim=cfg['input_size'],\n",
    "            using_crop=cfg['using_crop'],\n",
    "            using_flip=cfg['using_flip'],\n",
    "            using_distort=cfg['using_distort'],\n",
    "            using_encoding=True,\n",
    "            using_normalizing=cfg['using_normalizing'],\n",
    "            priors=priors,\n",
    "            match_thresh=cfg['match_thresh'],\n",
    "            variances=cfg['variances'],\n",
    "            shuffle=shuffle,\n",
    "            repeat=True,\n",
    "            buffer_size=buffer_size)\n",
    "    else:\n",
    "        dataset = load_tfrecord_dataset(\n",
    "            tfrecord_name=os.path.join(rootPath, cfg['val_path']),\n",
    "            batch_size=cfg['batch_size'],\n",
    "            img_dim=cfg['input_size'],\n",
    "            using_crop=False,\n",
    "            using_flip=False,\n",
    "            using_distort=False,\n",
    "            using_encoding=True,\n",
    "            using_normalizing=True,\n",
    "            priors=priors,\n",
    "            match_thresh=cfg['match_thresh'],\n",
    "            variances=cfg['variances'],\n",
    "            shuffle=shuffle,\n",
    "            repeat=False,\n",
    "            buffer_size=buffer_size)\n",
    "        logging.info(\"load validation dataset from {}\".format(cfg['val_path']))\n",
    "\n",
    "    return dataset"
   ]
  },
  {
   "cell_type": "markdown",
   "id": "5e15c87c",
   "metadata": {},
   "source": [
    "이번 스텝에 소개한 load_dataset 메소드 구현체를 **`tf_dataloader.py`**에 정리해 두었다.\n",
    "\n",
    "```bash\n",
    "$ cd ~/aiffel/face_detector && python tf_dataloader.py\n",
    "```"
   ]
  },
  {
   "cell_type": "markdown",
   "id": "6c1f5765",
   "metadata": {},
   "source": [
    "## 7. 모델 학습(2) Train"
   ]
  },
  {
   "cell_type": "markdown",
   "id": "bdb60eab",
   "metadata": {},
   "source": [
    "### Learning rate scheduler\n",
    "---\n",
    "본격적으로 train에 들어가기 전에 2가지 더 준비해야 할 게 있다. 그중 하나는 Learning rate scheduler 이다. 이번에는 구간별로 learning rate가 일정하게 유지하면서 감소하는 PiecewiseConstantDecay를 상속받아, 초기시점에 WarmUp부분을 추가한 **`PiecewiseConstantWarmUpDecay`**를 활용하겠다."
   ]
  },
  {
   "cell_type": "code",
   "execution_count": 37,
   "id": "eb3eee03",
   "metadata": {
    "ExecuteTime": {
     "end_time": "2021-05-19T17:54:47.068826Z",
     "start_time": "2021-05-19T17:54:47.060540Z"
    }
   },
   "outputs": [],
   "source": [
    "class PiecewiseConstantWarmUpDecay(\n",
    "        tf.keras.optimizers.schedules.LearningRateSchedule):\n",
    "    \"\"\"A LearningRateSchedule wiht warm up schedule.\n",
    "    Modified from tf.keras.optimizers.schedules.PiecewiseConstantDecay\"\"\"\n",
    "\n",
    "    def __init__(self, boundaries, values, warmup_steps, min_lr,\n",
    "                 name=None):\n",
    "        super(PiecewiseConstantWarmUpDecay, self).__init__()\n",
    "\n",
    "        if len(boundaries) != len(values) - 1:\n",
    "            raise ValueError(\n",
    "                    \"The length of boundaries should be 1 less than the\"\n",
    "                    \"length of values\")\n",
    "\n",
    "        self.boundaries = boundaries\n",
    "        self.values = values\n",
    "        self.name = name\n",
    "        self.warmup_steps = warmup_steps\n",
    "        self.min_lr = min_lr\n",
    "\n",
    "    def __call__(self, step):\n",
    "        with tf.name_scope(self.name or \"PiecewiseConstantWarmUp\"):\n",
    "            step = tf.cast(tf.convert_to_tensor(step), tf.float32)\n",
    "            pred_fn_pairs = []\n",
    "            warmup_steps = self.warmup_steps\n",
    "            boundaries = self.boundaries\n",
    "            values = self.values\n",
    "            min_lr = self.min_lr\n",
    "\n",
    "            pred_fn_pairs.append(\n",
    "                (step <= warmup_steps,\n",
    "                 lambda: min_lr + step * (values[0] - min_lr) / warmup_steps))\n",
    "            pred_fn_pairs.append(\n",
    "                (tf.logical_and(step <= boundaries[0],\n",
    "                                step > warmup_steps),\n",
    "                 lambda: tf.constant(values[0])))\n",
    "            pred_fn_pairs.append(\n",
    "                (step > boundaries[-1], lambda: tf.constant(values[-1])))\n",
    "\n",
    "            for low, high, v in zip(boundaries[:-1], boundaries[1:],\n",
    "                                    values[1:-1]):\n",
    "                # Need to bind v here; can do this with lambda v=v: ...\n",
    "                pred = (step > low) & (step <= high)\n",
    "                pred_fn_pairs.append((pred, lambda: tf.constant(v)))\n",
    "\n",
    "            # The default isn't needed here because our conditions are mutually\n",
    "            # exclusive and exhaustive, but tf.case requires it.\n",
    "            return tf.case(pred_fn_pairs, lambda: tf.constant(values[0]),\n",
    "                           exclusive=True)\n",
    "\n",
    "    def get_config(self):\n",
    "        return {\n",
    "                \"boundaries\": self.boundaries,\n",
    "                \"values\": self.values,\n",
    "                \"warmup_steps\": self.warmup_steps,\n",
    "                \"min_lr\": self.min_lr,\n",
    "                \"name\": self.name\n",
    "        }"
   ]
  },
  {
   "cell_type": "code",
   "execution_count": 38,
   "id": "79c481bb",
   "metadata": {
    "ExecuteTime": {
     "end_time": "2021-05-19T17:54:47.074018Z",
     "start_time": "2021-05-19T17:54:47.070444Z"
    }
   },
   "outputs": [],
   "source": [
    "def MultiStepWarmUpLR(initial_learning_rate, lr_steps, lr_rate,\n",
    "                      warmup_steps=0., min_lr=0.,\n",
    "                      name='MultiStepWarmUpLR'):\n",
    "    \"\"\"Multi-steps warm up learning rate scheduler.\"\"\"\n",
    "    assert warmup_steps <= lr_steps[0]\n",
    "    assert min_lr <= initial_learning_rate\n",
    "    lr_steps_value = [initial_learning_rate]\n",
    "    for _ in range(len(lr_steps)):\n",
    "        lr_steps_value.append(lr_steps_value[-1] * lr_rate)\n",
    "    return PiecewiseConstantWarmUpDecay(\n",
    "        boundaries=lr_steps, values=lr_steps_value, warmup_steps=warmup_steps,\n",
    "        min_lr=min_lr)"
   ]
  },
  {
   "cell_type": "markdown",
   "id": "1483b084",
   "metadata": {},
   "source": [
    "### Hard negative mining\n",
    "---\n",
    "Object Detection 모델 학습시 자주 사용되는 Hard negative mining이라는 기법이 있다. 학습과정에서 label은 negative인데 confidence가 높게 나오는 샘플을 재학습하면 positive와 negative의 모호한 경계선상에 분포한 false negative 오류에 강해진다는 장점이 있다.\n",
    "\n",
    "실제로 confidence가 높은 샘플을 모아 training을 다시 수행하기보다는, 그런 샘플들에 대한 loss만 따로 모아 계산해주는 방식으로 반영할 수 있다.\n",
    "\n",
    "아래 구현된 **`hard_negative_mining`** 메소드와, 이 메소드를 통해 얻은 샘플을 통해 얻은 localization loss를 기존의 classification loss에 추가로 반영하는 **`MultiBoxLoss`** 계산 메소드를 확인하자."
   ]
  },
  {
   "cell_type": "code",
   "execution_count": 39,
   "id": "08633539",
   "metadata": {
    "ExecuteTime": {
     "end_time": "2021-05-19T17:54:47.079504Z",
     "start_time": "2021-05-19T17:54:47.075627Z"
    }
   },
   "outputs": [],
   "source": [
    "def hard_negative_mining(loss, class_truth, neg_ratio):\n",
    "    \"\"\" Hard negative mining algorithm\n",
    "        to pick up negative examples for back-propagation\n",
    "        base on classification loss values\n",
    "    Args:\n",
    "        loss: list of classification losses of all default boxes (B, num_default)\n",
    "        class_truth: classification targets (B, num_default)\n",
    "        neg_ratio: negative / positive ratio\n",
    "    Returns:\n",
    "        class_loss: classification loss\n",
    "        loc_loss: regression loss\n",
    "    \"\"\"\n",
    "    # loss: B x N\n",
    "    # class_truth: B x N\n",
    "    pos_idx = class_truth > 0\n",
    "    num_pos = tf.reduce_sum(tf.dtypes.cast(pos_idx, tf.int32), axis=1)\n",
    "    num_neg = num_pos * neg_ratio\n",
    "\n",
    "    rank = tf.argsort(loss, axis=1, direction='DESCENDING')\n",
    "    rank = tf.argsort(rank, axis=1)\n",
    "    neg_idx = rank < tf.expand_dims(num_neg, 1)\n",
    "\n",
    "    return pos_idx, neg_idx"
   ]
  },
  {
   "cell_type": "code",
   "execution_count": 40,
   "id": "0f8924c9",
   "metadata": {
    "ExecuteTime": {
     "end_time": "2021-05-19T17:54:47.087344Z",
     "start_time": "2021-05-19T17:54:47.080999Z"
    }
   },
   "outputs": [],
   "source": [
    "def MultiBoxLoss(num_class=3, neg_pos_ratio=3.0):\n",
    "    def multi_loss(y_true, y_pred):\n",
    "        \"\"\" Compute losses for SSD\n",
    "               regression loss: smooth L1\n",
    "               classification loss: cross entropy\n",
    "           Args:\n",
    "               y_true: [B,N,5]\n",
    "               y_pred: [B,N,num_class]\n",
    "               class_pred: outputs of classification heads (B,N, num_classes)\n",
    "               loc_pred: outputs of regression heads (B,N, 4)\n",
    "               class_truth: classification targets (B,N)\n",
    "               loc_truth: regression targets (B,N, 4)\n",
    "           Returns:\n",
    "               class_loss: classification loss\n",
    "               loc_loss: regression loss\n",
    "       \"\"\"\n",
    "        num_batch = tf.shape(y_true)[0]\n",
    "        num_prior = tf.shape(y_true)[1]\n",
    "        loc_pred, class_pred = y_pred[..., :4], y_pred[..., 4:]\n",
    "        loc_truth, class_truth = y_true[..., :4], tf.squeeze(y_true[..., 4:])\n",
    "\n",
    "        cross_entropy = tf.keras.losses.SparseCategoricalCrossentropy(from_logits=True, reduction='none')\n",
    "\n",
    "        # compute classification losses without reduction\n",
    "        temp_loss = cross_entropy(class_truth, class_pred)\n",
    "        # 2. hard negative mining\n",
    "        pos_idx, neg_idx = hard_negative_mining(temp_loss, class_truth, neg_pos_ratio)\n",
    "\n",
    "        # classification loss will consist of positive and negative examples\n",
    "        cross_entropy = tf.keras.losses.SparseCategoricalCrossentropy(from_logits=True, reduction='sum')\n",
    "\n",
    "        smooth_l1_loss = tf.keras.losses.Huber(reduction='sum')\n",
    "\n",
    "        loss_class = cross_entropy(\n",
    "            class_truth[tf.math.logical_or(pos_idx, neg_idx)],\n",
    "            class_pred[tf.math.logical_or(pos_idx, neg_idx)])\n",
    "\n",
    "        # localization loss only consist of positive examples (smooth L1)\n",
    "        loss_loc = smooth_l1_loss(loc_truth[pos_idx],loc_pred[pos_idx])\n",
    "\n",
    "        num_pos = tf.reduce_sum(tf.dtypes.cast(pos_idx, tf.float32))\n",
    "\n",
    "        loss_class = loss_class / num_pos\n",
    "        loss_loc = loss_loc / num_pos\n",
    "        return loss_loc, loss_class\n",
    "\n",
    "    return multi_loss"
   ]
  },
  {
   "cell_type": "markdown",
   "id": "961d356c",
   "metadata": {},
   "source": [
    "### Training\n",
    "---\n",
    "이제 본격적으로 모델 학습을 진행하겠다. 배치사이즈, epoch 수 등 학습에 대한 기본설정은 **`cfg`** dict 내용을 확인하자."
   ]
  },
  {
   "cell_type": "code",
   "execution_count": 41,
   "id": "50db3d7b",
   "metadata": {
    "ExecuteTime": {
     "end_time": "2021-05-19T17:54:48.702035Z",
     "start_time": "2021-05-19T17:54:47.088823Z"
    }
   },
   "outputs": [],
   "source": [
    "global load_t1\n",
    "os.environ['TF_CPP_MIN_LOG_LEVEL'] = '2'\n",
    "logger = tf.get_logger()\n",
    "logger.disabled = True\n",
    "logger.setLevel(logging.FATAL)\n",
    "\n",
    "weights_dir = os.getenv('HOME')+'/aiffel/face_detector/checkpoints'\n",
    "if not os.path.exists(weights_dir):\n",
    "    os.mkdir(weights_dir)\n",
    "\n",
    "logging.info(\"Load configuration...\")\n",
    "label_classes = cfg['labels_list']\n",
    "logging.info(f\"Total image sample:{cfg['dataset_len']},Total classes number:\"\n",
    "             f\"{len(label_classes)},classes list:{label_classes}\")\n",
    "\n",
    "logging.info(\"Compute prior boxes...\")\n",
    "priors, num_cell = prior_box(cfg)\n",
    "logging.info(f\"Prior boxes number:{len(priors)},default anchor box number per feature map cell:{num_cell}\") # 4420, [3, 2, 2, 3]\n",
    "\n",
    "logging.info(\"Loading dataset...\")\n",
    "train_dataset = load_dataset(cfg, priors, shuffle=True, train=True)"
   ]
  },
  {
   "cell_type": "code",
   "execution_count": 42,
   "id": "ec26ce2c",
   "metadata": {
    "ExecuteTime": {
     "end_time": "2021-05-19T17:54:50.184436Z",
     "start_time": "2021-05-19T17:54:48.703491Z"
    }
   },
   "outputs": [
    {
     "name": "stdout",
     "output_type": "stream",
     "text": [
      "Model: \"ssd_model\"\n",
      "__________________________________________________________________________________________________\n",
      "Layer (type)                    Output Shape         Param #     Connected to                     \n",
      "==================================================================================================\n",
      "input_image (InputLayer)        [(None, 240, 320, 3) 0                                            \n",
      "__________________________________________________________________________________________________\n",
      "conv_pad_15 (ZeroPadding2D)     (None, 242, 322, 3)  0           input_image[0][0]                \n",
      "__________________________________________________________________________________________________\n",
      "conv_15 (Conv2D)                (None, 120, 160, 16) 432         conv_pad_15[0][0]                \n",
      "__________________________________________________________________________________________________\n",
      "conv_bn_15 (BatchNormalization) (None, 120, 160, 16) 64          conv_15[0][0]                    \n",
      "__________________________________________________________________________________________________\n",
      "conv_relu_15 (ReLU)             (None, 120, 160, 16) 0           conv_bn_15[0][0]                 \n",
      "__________________________________________________________________________________________________\n",
      "conv_16 (Conv2D)                (None, 120, 160, 32) 4608        conv_relu_15[0][0]               \n",
      "__________________________________________________________________________________________________\n",
      "conv_bn_16 (BatchNormalization) (None, 120, 160, 32) 128         conv_16[0][0]                    \n",
      "__________________________________________________________________________________________________\n",
      "conv_relu_16 (ReLU)             (None, 120, 160, 32) 0           conv_bn_16[0][0]                 \n",
      "__________________________________________________________________________________________________\n",
      "conv_pad_17 (ZeroPadding2D)     (None, 122, 162, 32) 0           conv_relu_16[0][0]               \n",
      "__________________________________________________________________________________________________\n",
      "conv_17 (Conv2D)                (None, 60, 80, 32)   9216        conv_pad_17[0][0]                \n",
      "__________________________________________________________________________________________________\n",
      "conv_bn_17 (BatchNormalization) (None, 60, 80, 32)   128         conv_17[0][0]                    \n",
      "__________________________________________________________________________________________________\n",
      "conv_relu_17 (ReLU)             (None, 60, 80, 32)   0           conv_bn_17[0][0]                 \n",
      "__________________________________________________________________________________________________\n",
      "conv_18 (Conv2D)                (None, 60, 80, 32)   9216        conv_relu_17[0][0]               \n",
      "__________________________________________________________________________________________________\n",
      "conv_bn_18 (BatchNormalization) (None, 60, 80, 32)   128         conv_18[0][0]                    \n",
      "__________________________________________________________________________________________________\n",
      "conv_relu_18 (ReLU)             (None, 60, 80, 32)   0           conv_bn_18[0][0]                 \n",
      "__________________________________________________________________________________________________\n",
      "conv_pad_19 (ZeroPadding2D)     (None, 62, 82, 32)   0           conv_relu_18[0][0]               \n",
      "__________________________________________________________________________________________________\n",
      "conv_19 (Conv2D)                (None, 30, 40, 64)   18432       conv_pad_19[0][0]                \n",
      "__________________________________________________________________________________________________\n",
      "conv_bn_19 (BatchNormalization) (None, 30, 40, 64)   256         conv_19[0][0]                    \n",
      "__________________________________________________________________________________________________\n",
      "conv_relu_19 (ReLU)             (None, 30, 40, 64)   0           conv_bn_19[0][0]                 \n",
      "__________________________________________________________________________________________________\n",
      "conv_20 (Conv2D)                (None, 30, 40, 64)   36864       conv_relu_19[0][0]               \n",
      "__________________________________________________________________________________________________\n",
      "conv_bn_20 (BatchNormalization) (None, 30, 40, 64)   256         conv_20[0][0]                    \n",
      "__________________________________________________________________________________________________\n",
      "conv_relu_20 (ReLU)             (None, 30, 40, 64)   0           conv_bn_20[0][0]                 \n",
      "__________________________________________________________________________________________________\n",
      "conv_21 (Conv2D)                (None, 30, 40, 64)   36864       conv_relu_20[0][0]               \n",
      "__________________________________________________________________________________________________\n",
      "conv_bn_21 (BatchNormalization) (None, 30, 40, 64)   256         conv_21[0][0]                    \n",
      "__________________________________________________________________________________________________\n",
      "conv_relu_21 (ReLU)             (None, 30, 40, 64)   0           conv_bn_21[0][0]                 \n",
      "__________________________________________________________________________________________________\n",
      "conv_22 (Conv2D)                (None, 30, 40, 64)   36864       conv_relu_21[0][0]               \n",
      "__________________________________________________________________________________________________\n",
      "conv_bn_22 (BatchNormalization) (None, 30, 40, 64)   256         conv_22[0][0]                    \n",
      "__________________________________________________________________________________________________\n",
      "conv_relu_22 (ReLU)             (None, 30, 40, 64)   0           conv_bn_22[0][0]                 \n",
      "__________________________________________________________________________________________________\n",
      "conv_pad_23 (ZeroPadding2D)     (None, 32, 42, 64)   0           conv_relu_22[0][0]               \n",
      "__________________________________________________________________________________________________\n",
      "conv_23 (Conv2D)                (None, 15, 20, 128)  73728       conv_pad_23[0][0]                \n",
      "__________________________________________________________________________________________________\n",
      "conv_bn_23 (BatchNormalization) (None, 15, 20, 128)  512         conv_23[0][0]                    \n",
      "__________________________________________________________________________________________________\n",
      "conv_relu_23 (ReLU)             (None, 15, 20, 128)  0           conv_bn_23[0][0]                 \n",
      "__________________________________________________________________________________________________\n",
      "conv_24 (Conv2D)                (None, 15, 20, 128)  147456      conv_relu_23[0][0]               \n",
      "__________________________________________________________________________________________________\n",
      "conv_bn_24 (BatchNormalization) (None, 15, 20, 128)  512         conv_24[0][0]                    \n",
      "__________________________________________________________________________________________________\n",
      "conv_relu_24 (ReLU)             (None, 15, 20, 128)  0           conv_bn_24[0][0]                 \n",
      "__________________________________________________________________________________________________\n",
      "conv_25 (Conv2D)                (None, 15, 20, 128)  147456      conv_relu_24[0][0]               \n",
      "__________________________________________________________________________________________________\n",
      "conv_bn_25 (BatchNormalization) (None, 15, 20, 128)  512         conv_25[0][0]                    \n",
      "__________________________________________________________________________________________________\n",
      "conv_relu_25 (ReLU)             (None, 15, 20, 128)  0           conv_bn_25[0][0]                 \n",
      "__________________________________________________________________________________________________\n",
      "conv_pad_26 (ZeroPadding2D)     (None, 17, 22, 128)  0           conv_relu_25[0][0]               \n",
      "__________________________________________________________________________________________________\n",
      "conv_dw_26 (DepthwiseConv2D)    (None, 8, 10, 128)   1152        conv_pad_26[0][0]                \n",
      "__________________________________________________________________________________________________\n",
      "conv_dw_26_bn (BatchNormalizati (None, 8, 10, 128)   512         conv_dw_26[0][0]                 \n",
      "__________________________________________________________________________________________________\n",
      "conv_dw_26_relu (ReLU)          (None, 8, 10, 128)   0           conv_dw_26_bn[0][0]              \n",
      "__________________________________________________________________________________________________\n",
      "conv_pw_26 (Conv2D)             (None, 8, 10, 256)   32768       conv_dw_26_relu[0][0]            \n",
      "__________________________________________________________________________________________________\n",
      "conv_pw_26_bn (BatchNormalizati (None, 8, 10, 256)   1024        conv_pw_26[0][0]                 \n",
      "__________________________________________________________________________________________________\n",
      "conv_pw_26_relu (ReLU)          (None, 8, 10, 256)   0           conv_pw_26_bn[0][0]              \n",
      "__________________________________________________________________________________________________\n",
      "conv_dw_27 (DepthwiseConv2D)    (None, 8, 10, 256)   2304        conv_pw_26_relu[0][0]            \n",
      "__________________________________________________________________________________________________\n",
      "conv_dw_27_bn (BatchNormalizati (None, 8, 10, 256)   1024        conv_dw_27[0][0]                 \n",
      "__________________________________________________________________________________________________\n",
      "conv_dw_27_relu (ReLU)          (None, 8, 10, 256)   0           conv_dw_27_bn[0][0]              \n",
      "__________________________________________________________________________________________________\n",
      "conv_pw_27 (Conv2D)             (None, 8, 10, 256)   65536       conv_dw_27_relu[0][0]            \n",
      "__________________________________________________________________________________________________\n",
      "conv_pw_27_bn (BatchNormalizati (None, 8, 10, 256)   1024        conv_pw_27[0][0]                 \n",
      "__________________________________________________________________________________________________\n",
      "conv_pw_27_relu (ReLU)          (None, 8, 10, 256)   0           conv_pw_27_bn[0][0]              \n",
      "__________________________________________________________________________________________________\n",
      "conv_pad_28 (ZeroPadding2D)     (None, 10, 12, 256)  0           conv_pw_27_relu[0][0]            \n",
      "__________________________________________________________________________________________________\n",
      "conv_dw_28 (DepthwiseConv2D)    (None, 4, 5, 256)    2304        conv_pad_28[0][0]                \n",
      "__________________________________________________________________________________________________\n",
      "conv_dw_28_bn (BatchNormalizati (None, 4, 5, 256)    1024        conv_dw_28[0][0]                 \n",
      "__________________________________________________________________________________________________\n",
      "conv_dw_28_relu (ReLU)          (None, 4, 5, 256)    0           conv_dw_28_bn[0][0]              \n",
      "__________________________________________________________________________________________________\n",
      "conv_pw_28 (Conv2D)             (None, 4, 5, 256)    65536       conv_dw_28_relu[0][0]            \n",
      "__________________________________________________________________________________________________\n",
      "conv_pw_28_bn (BatchNormalizati (None, 4, 5, 256)    1024        conv_pw_28[0][0]                 \n",
      "__________________________________________________________________________________________________\n",
      "conv_pw_28_relu (ReLU)          (None, 4, 5, 256)    0           conv_pw_28_bn[0][0]              \n",
      "__________________________________________________________________________________________________\n",
      "conv2d_20 (Conv2D)              (None, 30, 40, 16)   9232        conv_relu_22[0][0]               \n",
      "__________________________________________________________________________________________________\n",
      "conv2d_23 (Conv2D)              (None, 15, 20, 16)   18448       conv_relu_25[0][0]               \n",
      "__________________________________________________________________________________________________\n",
      "conv2d_26 (Conv2D)              (None, 8, 10, 16)    36880       conv_pw_27_relu[0][0]            \n",
      "__________________________________________________________________________________________________\n",
      "conv2d_29 (Conv2D)              (None, 4, 5, 16)     36880       conv_pw_28_relu[0][0]            \n",
      "__________________________________________________________________________________________________\n",
      "leaky_re_lu_4 (LeakyReLU)       (None, 30, 40, 16)   0           conv2d_20[0][0]                  \n",
      "__________________________________________________________________________________________________\n",
      "leaky_re_lu_5 (LeakyReLU)       (None, 15, 20, 16)   0           conv2d_23[0][0]                  \n",
      "__________________________________________________________________________________________________\n",
      "leaky_re_lu_6 (LeakyReLU)       (None, 8, 10, 16)    0           conv2d_26[0][0]                  \n",
      "__________________________________________________________________________________________________\n",
      "leaky_re_lu_7 (LeakyReLU)       (None, 4, 5, 16)     0           conv2d_29[0][0]                  \n",
      "__________________________________________________________________________________________________\n",
      "conv2d_21 (Conv2D)              (None, 30, 40, 16)   2320        leaky_re_lu_4[0][0]              \n",
      "__________________________________________________________________________________________________\n",
      "conv2d_22 (Conv2D)              (None, 30, 40, 32)   18464       conv_relu_22[0][0]               \n",
      "__________________________________________________________________________________________________\n",
      "conv2d_24 (Conv2D)              (None, 15, 20, 16)   2320        leaky_re_lu_5[0][0]              \n",
      "__________________________________________________________________________________________________\n",
      "conv2d_25 (Conv2D)              (None, 15, 20, 32)   36896       conv_relu_25[0][0]               \n",
      "__________________________________________________________________________________________________\n",
      "conv2d_27 (Conv2D)              (None, 8, 10, 16)    2320        leaky_re_lu_6[0][0]              \n",
      "__________________________________________________________________________________________________\n",
      "conv2d_28 (Conv2D)              (None, 8, 10, 32)    73760       conv_pw_27_relu[0][0]            \n",
      "__________________________________________________________________________________________________\n",
      "conv2d_30 (Conv2D)              (None, 4, 5, 16)     2320        leaky_re_lu_7[0][0]              \n",
      "__________________________________________________________________________________________________\n",
      "conv2d_31 (Conv2D)              (None, 4, 5, 32)     73760       conv_pw_28_relu[0][0]            \n",
      "__________________________________________________________________________________________________\n",
      "concatenate_4 (Concatenate)     (None, 30, 40, 48)   0           conv2d_21[0][0]                  \n",
      "                                                                 conv2d_22[0][0]                  \n",
      "__________________________________________________________________________________________________\n",
      "concatenate_5 (Concatenate)     (None, 15, 20, 48)   0           conv2d_24[0][0]                  \n",
      "                                                                 conv2d_25[0][0]                  \n",
      "__________________________________________________________________________________________________\n",
      "concatenate_6 (Concatenate)     (None, 8, 10, 48)    0           conv2d_27[0][0]                  \n",
      "                                                                 conv2d_28[0][0]                  \n",
      "__________________________________________________________________________________________________\n",
      "concatenate_7 (Concatenate)     (None, 4, 5, 48)     0           conv2d_30[0][0]                  \n",
      "                                                                 conv2d_31[0][0]                  \n",
      "__________________________________________________________________________________________________\n",
      "re_lu_4 (ReLU)                  (None, 30, 40, 48)   0           concatenate_4[0][0]              \n",
      "__________________________________________________________________________________________________\n",
      "re_lu_5 (ReLU)                  (None, 15, 20, 48)   0           concatenate_5[0][0]              \n",
      "__________________________________________________________________________________________________\n",
      "re_lu_6 (ReLU)                  (None, 8, 10, 48)    0           concatenate_6[0][0]              \n",
      "__________________________________________________________________________________________________\n",
      "re_lu_7 (ReLU)                  (None, 4, 5, 48)     0           concatenate_7[0][0]              \n",
      "__________________________________________________________________________________________________\n",
      "conv2d_33 (Conv2D)              (None, 30, 40, 12)   5196        re_lu_4[0][0]                    \n",
      "__________________________________________________________________________________________________\n",
      "conv2d_35 (Conv2D)              (None, 15, 20, 8)    3464        re_lu_5[0][0]                    \n",
      "__________________________________________________________________________________________________\n",
      "conv2d_37 (Conv2D)              (None, 8, 10, 8)     3464        re_lu_6[0][0]                    \n",
      "__________________________________________________________________________________________________\n",
      "conv2d_39 (Conv2D)              (None, 4, 5, 12)     5196        re_lu_7[0][0]                    \n",
      "__________________________________________________________________________________________________\n",
      "conv2d_32 (Conv2D)              (None, 30, 40, 6)    2598        re_lu_4[0][0]                    \n",
      "__________________________________________________________________________________________________\n",
      "conv2d_34 (Conv2D)              (None, 15, 20, 4)    1732        re_lu_5[0][0]                    \n",
      "__________________________________________________________________________________________________\n",
      "conv2d_36 (Conv2D)              (None, 8, 10, 4)     1732        re_lu_6[0][0]                    \n",
      "__________________________________________________________________________________________________\n",
      "conv2d_38 (Conv2D)              (None, 4, 5, 6)      2598        re_lu_7[0][0]                    \n",
      "__________________________________________________________________________________________________\n",
      "reshape_9 (Reshape)             (None, 3600, 4)      0           conv2d_33[0][0]                  \n",
      "__________________________________________________________________________________________________\n",
      "reshape_11 (Reshape)            (None, 600, 4)       0           conv2d_35[0][0]                  \n",
      "__________________________________________________________________________________________________\n",
      "reshape_13 (Reshape)            (None, 160, 4)       0           conv2d_37[0][0]                  \n",
      "__________________________________________________________________________________________________\n",
      "reshape_15 (Reshape)            (None, 60, 4)        0           conv2d_39[0][0]                  \n",
      "__________________________________________________________________________________________________\n",
      "reshape_8 (Reshape)             (None, 3600, 2)      0           conv2d_32[0][0]                  \n",
      "__________________________________________________________________________________________________\n",
      "reshape_10 (Reshape)            (None, 600, 2)       0           conv2d_34[0][0]                  \n",
      "__________________________________________________________________________________________________\n",
      "reshape_12 (Reshape)            (None, 160, 2)       0           conv2d_36[0][0]                  \n",
      "__________________________________________________________________________________________________\n",
      "reshape_14 (Reshape)            (None, 60, 2)        0           conv2d_38[0][0]                  \n",
      "__________________________________________________________________________________________________\n",
      "face_boxes (Concatenate)        (None, 4420, 4)      0           reshape_9[0][0]                  \n",
      "                                                                 reshape_11[0][0]                 \n",
      "                                                                 reshape_13[0][0]                 \n",
      "                                                                 reshape_15[0][0]                 \n",
      "__________________________________________________________________________________________________\n",
      "face_classes (Concatenate)      (None, 4420, 2)      0           reshape_8[0][0]                  \n",
      "                                                                 reshape_10[0][0]                 \n",
      "                                                                 reshape_12[0][0]                 \n",
      "                                                                 reshape_14[0][0]                 \n",
      "__________________________________________________________________________________________________\n",
      "predictions (Concatenate)       (None, 4420, 6)      0           face_boxes[0][0]                 \n",
      "                                                                 face_classes[0][0]               \n",
      "==================================================================================================\n",
      "Total params: 1,038,956\n",
      "Trainable params: 1,034,636\n",
      "Non-trainable params: 4,320\n",
      "__________________________________________________________________________________________________\n"
     ]
    }
   ],
   "source": [
    "logging.info(\"Create Model...\")\n",
    "try:\n",
    "    model = SsdModel(cfg=cfg, num_cell=num_cell, training=True)\n",
    "    model.summary()\n",
    "    tf.keras.utils.plot_model(model, to_file=os.path.join(os.getcwd(), 'model.png'),\n",
    "                              show_shapes=True, show_layer_names=True)\n",
    "except Exception as e:\n",
    "    logging.error(e)\n",
    "    logging.info(\"Create network failed.\")"
   ]
  },
  {
   "cell_type": "code",
   "execution_count": 43,
   "id": "969027a5",
   "metadata": {
    "ExecuteTime": {
     "end_time": "2021-05-19T17:54:50.191781Z",
     "start_time": "2021-05-19T17:54:50.185647Z"
    }
   },
   "outputs": [],
   "source": [
    "if cfg['resume']:\n",
    "    # Training from latest weights\n",
    "    paths = [os.path.join(weights_dir, path)\n",
    "             for path in os.listdir(weights_dir)]\n",
    "    latest = sorted(paths, key=os.path.getmtime)[-1]\n",
    "    model.load_weights(latest)\n",
    "    init_epoch = int(os.path.splitext(latest)[0][-3:])\n",
    "\n",
    "else:\n",
    "    init_epoch = -1\n",
    "\n",
    "steps_per_epoch = cfg['dataset_len'] // cfg['batch_size']\n",
    "logging.info(f\"steps_per_epoch:{steps_per_epoch}\")\n",
    "\n",
    "learning_rate = MultiStepWarmUpLR(\n",
    "    initial_learning_rate=cfg['init_lr'],\n",
    "    lr_steps=[e * steps_per_epoch for e in cfg['lr_decay_epoch']],\n",
    "    lr_rate=cfg['lr_rate'],\n",
    "    warmup_steps=cfg['warmup_epoch'] * steps_per_epoch,\n",
    "    min_lr=cfg['min_lr'])\n",
    "\n",
    "optimizer = tf.keras.optimizers.SGD(learning_rate=learning_rate, momentum=cfg['momentum'], nesterov=True)\n",
    "multi_loss = MultiBoxLoss(num_class=len(label_classes), neg_pos_ratio=3)\n",
    "train_log_dir = 'logs/train'\n",
    "train_summary_writer = tf.summary.create_file_writer(train_log_dir)"
   ]
  },
  {
   "cell_type": "code",
   "execution_count": 44,
   "id": "e9e5ebbe",
   "metadata": {
    "ExecuteTime": {
     "end_time": "2021-05-19T17:54:50.197049Z",
     "start_time": "2021-05-19T17:54:50.192969Z"
    }
   },
   "outputs": [],
   "source": [
    "@tf.function\n",
    "def train_step(inputs, labels):\n",
    "    with tf.GradientTape() as tape:\n",
    "        predictions = model(inputs, training=True)\n",
    "        losses = {}\n",
    "        losses['reg'] = tf.reduce_sum(model.losses)  #unused. Init for redefine network\n",
    "        losses['loc'], losses['class'] = multi_loss(labels, predictions)\n",
    "        total_loss = tf.add_n([l for l in losses.values()])\n",
    "\n",
    "    grads = tape.gradient(total_loss, model.trainable_variables)\n",
    "    optimizer.apply_gradients(zip(grads, model.trainable_variables))\n",
    "\n",
    "    return total_loss, losses"
   ]
  },
  {
   "cell_type": "markdown",
   "id": "d7f98668",
   "metadata": {},
   "source": [
    "아래에서 본격적으로 train을 시작한다. 1Epoch당 1분 가량 소요되며, 총 100Epoch 학습이 진행된다. 소요시간에 유의하자."
   ]
  },
  {
   "cell_type": "code",
   "execution_count": 45,
   "id": "db105dd7",
   "metadata": {
    "ExecuteTime": {
     "end_time": "2021-05-14T06:53:41.209089Z",
     "start_time": "2021-05-14T05:16:31.550614Z"
    },
    "scrolled": false
   },
   "outputs": [
    {
     "name": "stdout",
     "output_type": "stream",
     "text": [
      "Epoch: 1/100 | Batch 402/402 | Batch time 0.113 || Loss: 7.380692 | loc loss:3.749839 | class loss:3.630854   \n",
      "Epoch: 1/100  | Epoch time 125.393 || Average Loss: inf\n",
      "Epoch: 2/100 | Batch 402/402 | Batch time 0.122 || Loss: 5.874078 | loc loss:3.632013 | class loss:2.242065  \n",
      "Epoch: 2/100  | Epoch time 58.540 || Average Loss: inf\n",
      "Epoch: 3/100 | Batch 402/402 | Batch time 0.125 || Loss: 5.823763 | loc loss:3.632384 | class loss:2.191379  \n",
      "Epoch: 3/100  | Epoch time 60.382 || Average Loss: inf\n",
      "Epoch: 4/100 | Batch 402/402 | Batch time 0.198 || Loss: 6.102377 | loc loss:3.895716 | class loss:2.206661  \n",
      "Epoch: 4/100  | Epoch time 59.455 || Average Loss: inf\n",
      "Epoch: 5/100 | Batch 402/402 | Batch time 0.095 || Loss: 6.634397 | loc loss:4.710099 | class loss:1.924298 \n",
      "Epoch: 5/100  | Epoch time 57.695 || Average Loss: inf\n",
      "Epoch: 6/100 | Batch 402/402 | Batch time 0.109 || Loss: 4.751764 | loc loss:2.944102 | class loss:1.807662 \n",
      "Epoch: 6/100  | Epoch time 61.084 || Average Loss: inf\n",
      "Epoch: 7/100 | Batch 402/402 | Batch time 0.110 || Loss: 5.312298 | loc loss:3.386119 | class loss:1.926179  \n",
      "Epoch: 7/100  | Epoch time 57.659 || Average Loss: inf\n",
      "Epoch: 8/100 | Batch 402/402 | Batch time 0.111 || Loss: 6.847429 | loc loss:5.130213 | class loss:1.717216 \n",
      "Epoch: 8/100  | Epoch time 59.006 || Average Loss: inf\n",
      "Epoch: 9/100 | Batch 402/402 | Batch time 0.160 || Loss: 3.954364 | loc loss:2.291198 | class loss:1.663165 \n",
      "Epoch: 9/100  | Epoch time 60.049 || Average Loss: inf\n",
      "Epoch: 10/100 | Batch 402/402 | Batch time 0.151 || Loss: 5.454286 | loc loss:3.280383 | class loss:2.173903 \n",
      "Epoch: 10/100  | Epoch time 57.784 || Average Loss: inf\n",
      ">>>>>>>>>>Save weights file at /home/aiffel-dj10/aiffel/face_detector/checkpoints/weights_epoch_010.h5<<<<<<<<<<\n",
      "Epoch: 11/100 | Batch 402/402 | Batch time 0.143 || Loss: 5.876383 | loc loss:4.534706 | class loss:1.341677 \n",
      "Epoch: 11/100  | Epoch time 56.948 || Average Loss: inf\n",
      "Epoch: 12/100 | Batch 402/402 | Batch time 0.097 || Loss: 5.056616 | loc loss:3.485533 | class loss:1.571084 \n",
      "Epoch: 12/100  | Epoch time 57.319 || Average Loss: inf\n",
      "Epoch: 13/100 | Batch 402/402 | Batch time 0.153 || Loss: 4.707881 | loc loss:3.262511 | class loss:1.445370 \n",
      "Epoch: 13/100  | Epoch time 58.656 || Average Loss: inf\n",
      "Epoch: 14/100 | Batch 402/402 | Batch time 0.120 || Loss: 6.639196 | loc loss:4.878274 | class loss:1.760923 \n",
      "Epoch: 14/100  | Epoch time 58.949 || Average Loss: inf\n",
      "Epoch: 15/100 | Batch 402/402 | Batch time 0.117 || Loss: 6.574498 | loc loss:5.273530 | class loss:1.300968 \n",
      "Epoch: 15/100  | Epoch time 58.315 || Average Loss: inf\n",
      "Epoch: 16/100 | Batch 402/402 | Batch time 0.116 || Loss: 3.312115 | loc loss:2.132671 | class loss:1.179444 \n",
      "Epoch: 16/100  | Epoch time 59.864 || Average Loss: inf\n",
      "Epoch: 17/100 | Batch 402/402 | Batch time 0.101 || Loss: 6.014536 | loc loss:4.685258 | class loss:1.329278  \n",
      "Epoch: 17/100  | Epoch time 57.910 || Average Loss: inf\n",
      "Epoch: 18/100 | Batch 402/402 | Batch time 0.145 || Loss: 5.760444 | loc loss:4.414700 | class loss:1.345745 \n",
      "Epoch: 18/100  | Epoch time 56.695 || Average Loss: inf\n",
      "Epoch: 19/100 | Batch 402/402 | Batch time 0.181 || Loss: 8.114519 | loc loss:6.816221 | class loss:1.298298 \n",
      "Epoch: 19/100  | Epoch time 57.359 || Average Loss: inf\n",
      "Epoch: 20/100 | Batch 402/402 | Batch time 0.090 || Loss: 3.629126 | loc loss:2.422663 | class loss:1.206463 \n",
      "Epoch: 20/100  | Epoch time 56.610 || Average Loss: inf\n",
      ">>>>>>>>>>Save weights file at /home/aiffel-dj10/aiffel/face_detector/checkpoints/weights_epoch_020.h5<<<<<<<<<<\n",
      "Epoch: 21/100 | Batch 402/402 | Batch time 0.119 || Loss: 4.078000 | loc loss:2.892349 | class loss:1.185651 \n",
      "Epoch: 21/100  | Epoch time 57.332 || Average Loss: inf\n",
      "Epoch: 22/100 | Batch 402/402 | Batch time 0.145 || Loss: 5.409695 | loc loss:3.804709 | class loss:1.604986 \n",
      "Epoch: 22/100  | Epoch time 56.594 || Average Loss: inf\n",
      "Epoch: 23/100 | Batch 402/402 | Batch time 0.133 || Loss: 3.967743 | loc loss:2.680454 | class loss:1.287289 \n",
      "Epoch: 23/100  | Epoch time 57.196 || Average Loss: inf\n",
      "Epoch: 24/100 | Batch 402/402 | Batch time 0.153 || Loss: 5.178306 | loc loss:3.931712 | class loss:1.246593 \n",
      "Epoch: 24/100  | Epoch time 58.690 || Average Loss: inf\n",
      "Epoch: 25/100 | Batch 402/402 | Batch time 0.152 || Loss: 4.190533 | loc loss:2.759846 | class loss:1.430687 \n",
      "Epoch: 25/100  | Epoch time 58.965 || Average Loss: inf\n",
      "Epoch: 26/100 | Batch 402/402 | Batch time 0.111 || Loss: 4.336119 | loc loss:2.884382 | class loss:1.451737  \n",
      "Epoch: 26/100  | Epoch time 56.723 || Average Loss: inf\n",
      "Epoch: 27/100 | Batch 402/402 | Batch time 0.150 || Loss: 5.320317 | loc loss:4.209945 | class loss:1.110371 \n",
      "Epoch: 27/100  | Epoch time 58.869 || Average Loss: inf\n",
      "Epoch: 28/100 | Batch 402/402 | Batch time 0.188 || Loss: 7.076603 | loc loss:5.623441 | class loss:1.453162 \n",
      "Epoch: 28/100  | Epoch time 59.037 || Average Loss: inf\n",
      "Epoch: 29/100 | Batch 402/402 | Batch time 0.130 || Loss: 4.100438 | loc loss:2.895355 | class loss:1.205082 \n",
      "Epoch: 29/100  | Epoch time 57.432 || Average Loss: inf\n",
      "Epoch: 30/100 | Batch 402/402 | Batch time 0.116 || Loss: 4.774205 | loc loss:3.440685 | class loss:1.333521 \n",
      "Epoch: 30/100  | Epoch time 58.776 || Average Loss: inf\n",
      ">>>>>>>>>>Save weights file at /home/aiffel-dj10/aiffel/face_detector/checkpoints/weights_epoch_030.h5<<<<<<<<<<\n",
      "Epoch: 31/100 | Batch 402/402 | Batch time 0.142 || Loss: 5.033602 | loc loss:3.462929 | class loss:1.570674 \n",
      "Epoch: 31/100  | Epoch time 56.721 || Average Loss: inf\n",
      "Epoch: 32/100 | Batch 402/402 | Batch time 0.127 || Loss: 5.400929 | loc loss:4.129903 | class loss:1.271026 \n",
      "Epoch: 32/100  | Epoch time 56.376 || Average Loss: inf\n",
      "Epoch: 33/100 | Batch 402/402 | Batch time 0.101 || Loss: 4.772274 | loc loss:3.458094 | class loss:1.314180 \n",
      "Epoch: 33/100  | Epoch time 58.220 || Average Loss: inf\n",
      "Epoch: 34/100 | Batch 402/402 | Batch time 0.091 || Loss: 3.832317 | loc loss:2.587248 | class loss:1.245069 \n",
      "Epoch: 34/100  | Epoch time 54.842 || Average Loss: inf\n",
      "Epoch: 35/100 | Batch 402/402 | Batch time 0.143 || Loss: 6.774339 | loc loss:5.288789 | class loss:1.485550 \n",
      "Epoch: 35/100  | Epoch time 55.037 || Average Loss: inf\n",
      "Epoch: 36/100 | Batch 402/402 | Batch time 0.112 || Loss: 3.668661 | loc loss:2.591883 | class loss:1.076777 \n",
      "Epoch: 36/100  | Epoch time 56.689 || Average Loss: inf\n",
      "Epoch: 37/100 | Batch 402/402 | Batch time 0.098 || Loss: 3.503445 | loc loss:2.213352 | class loss:1.290093 \n",
      "Epoch: 37/100  | Epoch time 55.046 || Average Loss: inf\n",
      "Epoch: 38/100 | Batch 402/402 | Batch time 0.147 || Loss: 7.070518 | loc loss:5.886197 | class loss:1.184321 \n",
      "Epoch: 38/100  | Epoch time 54.919 || Average Loss: inf\n",
      "Epoch: 39/100 | Batch 402/402 | Batch time 0.116 || Loss: 5.418047 | loc loss:4.100099 | class loss:1.317949 \n",
      "Epoch: 39/100  | Epoch time 52.569 || Average Loss: inf\n",
      "Epoch: 40/100 | Batch 402/402 | Batch time 0.137 || Loss: 5.625366 | loc loss:4.393076 | class loss:1.232289 \n",
      "Epoch: 40/100  | Epoch time 53.614 || Average Loss: inf\n",
      ">>>>>>>>>>Save weights file at /home/aiffel-dj10/aiffel/face_detector/checkpoints/weights_epoch_040.h5<<<<<<<<<<\n",
      "Epoch: 41/100 | Batch 402/402 | Batch time 0.074 || Loss: 3.830642 | loc loss:2.754544 | class loss:1.076098 \n",
      "Epoch: 41/100  | Epoch time 54.635 || Average Loss: inf\n",
      "Epoch: 42/100 | Batch 402/402 | Batch time 0.093 || Loss: 5.032493 | loc loss:3.820385 | class loss:1.212108 \n",
      "Epoch: 42/100  | Epoch time 53.229 || Average Loss: inf\n",
      "Epoch: 43/100 | Batch 402/402 | Batch time 0.105 || Loss: 5.237741 | loc loss:3.934049 | class loss:1.303692 \n",
      "Epoch: 43/100  | Epoch time 53.048 || Average Loss: inf\n",
      "Epoch: 44/100 | Batch 402/402 | Batch time 0.112 || Loss: 3.856381 | loc loss:2.840038 | class loss:1.016343 \n",
      "Epoch: 44/100  | Epoch time 52.375 || Average Loss: inf\n",
      "Epoch: 45/100 | Batch 402/402 | Batch time 0.109 || Loss: 5.664889 | loc loss:4.593164 | class loss:1.071725 \n",
      "Epoch: 45/100  | Epoch time 52.938 || Average Loss: inf\n",
      "Epoch: 46/100 | Batch 402/402 | Batch time 0.112 || Loss: 3.931708 | loc loss:2.585565 | class loss:1.346143 \n",
      "Epoch: 46/100  | Epoch time 53.464 || Average Loss: inf\n",
      "Epoch: 47/100 | Batch 402/402 | Batch time 0.106 || Loss: 7.269507 | loc loss:6.020734 | class loss:1.248773 \n",
      "Epoch: 47/100  | Epoch time 53.256 || Average Loss: inf\n"
     ]
    },
    {
     "name": "stdout",
     "output_type": "stream",
     "text": [
      "Epoch: 48/100 | Batch 402/402 | Batch time 0.117 || Loss: 4.009524 | loc loss:3.028693 | class loss:0.980831 \n",
      "Epoch: 48/100  | Epoch time 52.712 || Average Loss: inf\n",
      "Epoch: 49/100 | Batch 402/402 | Batch time 0.103 || Loss: 4.291224 | loc loss:3.237526 | class loss:1.053698 \n",
      "Epoch: 49/100  | Epoch time 53.622 || Average Loss: inf\n",
      "Epoch: 50/100 | Batch 402/402 | Batch time 0.120 || Loss: 5.774972 | loc loss:4.630123 | class loss:1.144849  \n",
      "Epoch: 50/100  | Epoch time 54.117 || Average Loss: inf\n",
      ">>>>>>>>>>Save weights file at /home/aiffel-dj10/aiffel/face_detector/checkpoints/weights_epoch_050.h5<<<<<<<<<<\n",
      "Epoch: 51/100 | Batch 402/402 | Batch time 0.091 || Loss: 5.699882 | loc loss:4.528870 | class loss:1.171012 \n",
      "Epoch: 51/100  | Epoch time 53.179 || Average Loss: inf\n",
      "Epoch: 52/100 | Batch 402/402 | Batch time 0.108 || Loss: 5.311517 | loc loss:4.441273 | class loss:0.870244 \n",
      "Epoch: 52/100  | Epoch time 53.703 || Average Loss: inf\n",
      "Epoch: 53/100 | Batch 402/402 | Batch time 0.098 || Loss: 4.995343 | loc loss:3.745168 | class loss:1.250176 \n",
      "Epoch: 53/100  | Epoch time 56.159 || Average Loss: inf\n",
      "Epoch: 54/100 | Batch 402/402 | Batch time 0.082 || Loss: 5.192616 | loc loss:4.096431 | class loss:1.096185 \n",
      "Epoch: 54/100  | Epoch time 54.759 || Average Loss: inf\n",
      "Epoch: 55/100 | Batch 402/402 | Batch time 0.123 || Loss: 4.792135 | loc loss:3.848859 | class loss:0.943276 \n",
      "Epoch: 55/100  | Epoch time 55.370 || Average Loss: inf\n",
      "Epoch: 56/100 | Batch 402/402 | Batch time 0.129 || Loss: 4.858572 | loc loss:3.872996 | class loss:0.985576 \n",
      "Epoch: 56/100  | Epoch time 53.688 || Average Loss: inf\n",
      "Epoch: 57/100 | Batch 402/402 | Batch time 0.170 || Loss: 4.221965 | loc loss:3.186543 | class loss:1.035422 \n",
      "Epoch: 57/100  | Epoch time 55.989 || Average Loss: inf\n",
      "Epoch: 58/100 | Batch 402/402 | Batch time 0.159 || Loss: 4.298594 | loc loss:3.279822 | class loss:1.018773 \n",
      "Epoch: 58/100  | Epoch time 56.838 || Average Loss: inf\n",
      "Epoch: 59/100 | Batch 402/402 | Batch time 0.089 || Loss: 5.116319 | loc loss:4.079449 | class loss:1.036870 \n",
      "Epoch: 59/100  | Epoch time 58.579 || Average Loss: inf\n",
      "Epoch: 60/100 | Batch 402/402 | Batch time 0.123 || Loss: 3.877595 | loc loss:2.771244 | class loss:1.106352 \n",
      "Epoch: 60/100  | Epoch time 58.256 || Average Loss: inf\n",
      ">>>>>>>>>>Save weights file at /home/aiffel-dj10/aiffel/face_detector/checkpoints/weights_epoch_060.h5<<<<<<<<<<\n",
      "Epoch: 61/100 | Batch 402/402 | Batch time 0.199 || Loss: 3.870143 | loc loss:2.980800 | class loss:0.889343 \n",
      "Epoch: 61/100  | Epoch time 59.195 || Average Loss: inf\n",
      "Epoch: 62/100 | Batch 402/402 | Batch time 0.099 || Loss: 4.131668 | loc loss:3.271640 | class loss:0.860028 \n",
      "Epoch: 62/100  | Epoch time 59.350 || Average Loss: inf\n",
      "Epoch: 63/100 | Batch 402/402 | Batch time 0.096 || Loss: 7.604607 | loc loss:6.331401 | class loss:1.273206 \n",
      "Epoch: 63/100  | Epoch time 58.809 || Average Loss: inf\n",
      "Epoch: 64/100 | Batch 402/402 | Batch time 0.105 || Loss: 4.447677 | loc loss:3.153453 | class loss:1.294224 \n",
      "Epoch: 64/100  | Epoch time 56.836 || Average Loss: inf\n",
      "Epoch: 65/100 | Batch 402/402 | Batch time 0.090 || Loss: 2.125446 | loc loss:1.334491 | class loss:0.790955 \n",
      "Epoch: 65/100  | Epoch time 54.254 || Average Loss: inf\n",
      "Epoch: 66/100 | Batch 402/402 | Batch time 0.113 || Loss: 4.815938 | loc loss:3.961843 | class loss:0.854095 \n",
      "Epoch: 66/100  | Epoch time 55.325 || Average Loss: inf\n",
      "Epoch: 67/100 | Batch 402/402 | Batch time 0.088 || Loss: 4.937316 | loc loss:3.784847 | class loss:1.152470 \n",
      "Epoch: 67/100  | Epoch time 54.324 || Average Loss: inf\n",
      "Epoch: 68/100 | Batch 402/402 | Batch time 0.085 || Loss: 4.513237 | loc loss:3.410668 | class loss:1.102569 \n",
      "Epoch: 68/100  | Epoch time 58.294 || Average Loss: inf\n",
      "Epoch: 69/100 | Batch 402/402 | Batch time 0.153 || Loss: 6.378370 | loc loss:5.352288 | class loss:1.026082 \n",
      "Epoch: 69/100  | Epoch time 55.361 || Average Loss: inf\n",
      "Epoch: 70/100 | Batch 402/402 | Batch time 0.116 || Loss: 4.866082 | loc loss:3.852971 | class loss:1.013112 \n",
      "Epoch: 70/100  | Epoch time 57.471 || Average Loss: inf\n",
      ">>>>>>>>>>Save weights file at /home/aiffel-dj10/aiffel/face_detector/checkpoints/weights_epoch_070.h5<<<<<<<<<<\n",
      "Epoch: 71/100 | Batch 402/402 | Batch time 0.203 || Loss: 6.137723 | loc loss:4.887641 | class loss:1.250082 \n",
      "Epoch: 71/100  | Epoch time 57.577 || Average Loss: inf\n",
      "Epoch: 72/100 | Batch 402/402 | Batch time 0.115 || Loss: 4.527785 | loc loss:3.372495 | class loss:1.155290 \n",
      "Epoch: 72/100  | Epoch time 61.015 || Average Loss: inf\n",
      "Epoch: 73/100 | Batch 402/402 | Batch time 0.109 || Loss: 4.210709 | loc loss:3.076836 | class loss:1.133873 \n",
      "Epoch: 73/100  | Epoch time 58.992 || Average Loss: inf\n",
      "Epoch: 74/100 | Batch 402/402 | Batch time 0.131 || Loss: 3.201133 | loc loss:2.411551 | class loss:0.789581 \n",
      "Epoch: 74/100  | Epoch time 59.330 || Average Loss: inf\n",
      "Epoch: 75/100 | Batch 402/402 | Batch time 0.113 || Loss: 6.259979 | loc loss:4.767817 | class loss:1.492162 \n",
      "Epoch: 75/100  | Epoch time 59.230 || Average Loss: inf\n",
      "Epoch: 76/100 | Batch 402/402 | Batch time 0.167 || Loss: 4.363434 | loc loss:3.149640 | class loss:1.213794 \n",
      "Epoch: 76/100  | Epoch time 62.566 || Average Loss: inf\n",
      "Epoch: 77/100 | Batch 402/402 | Batch time 0.108 || Loss: 4.681297 | loc loss:3.320416 | class loss:1.360881 \n",
      "Epoch: 77/100  | Epoch time 55.784 || Average Loss: inf\n",
      "Epoch: 78/100 | Batch 402/402 | Batch time 0.116 || Loss: 4.029083 | loc loss:2.862441 | class loss:1.166642 \n",
      "Epoch: 78/100  | Epoch time 65.302 || Average Loss: inf\n",
      "Epoch: 79/100 | Batch 402/402 | Batch time 0.110 || Loss: 5.813384 | loc loss:4.523545 | class loss:1.289839 \n",
      "Epoch: 79/100  | Epoch time 60.349 || Average Loss: inf\n",
      "Epoch: 80/100 | Batch 402/402 | Batch time 0.140 || Loss: 2.768744 | loc loss:1.700554 | class loss:1.068189 \n",
      "Epoch: 80/100  | Epoch time 57.927 || Average Loss: inf\n",
      ">>>>>>>>>>Save weights file at /home/aiffel-dj10/aiffel/face_detector/checkpoints/weights_epoch_080.h5<<<<<<<<<<\n",
      "Epoch: 81/100 | Batch 402/402 | Batch time 0.132 || Loss: 4.610200 | loc loss:3.462934 | class loss:1.147266 \n",
      "Epoch: 81/100  | Epoch time 57.635 || Average Loss: inf\n",
      "Epoch: 82/100 | Batch 402/402 | Batch time 0.125 || Loss: 2.775603 | loc loss:1.602268 | class loss:1.173334 \n",
      "Epoch: 82/100  | Epoch time 60.250 || Average Loss: inf\n",
      "Epoch: 83/100 | Batch 402/402 | Batch time 0.138 || Loss: 3.659126 | loc loss:2.630538 | class loss:1.028588 \n",
      "Epoch: 83/100  | Epoch time 58.644 || Average Loss: inf\n",
      "Epoch: 84/100 | Batch 402/402 | Batch time 0.109 || Loss: 5.427397 | loc loss:4.343128 | class loss:1.084269 \n",
      "Epoch: 84/100  | Epoch time 60.682 || Average Loss: inf\n",
      "Epoch: 85/100 | Batch 402/402 | Batch time 0.133 || Loss: 5.501628 | loc loss:4.383748 | class loss:1.117880 \n",
      "Epoch: 85/100  | Epoch time 58.158 || Average Loss: inf\n",
      "Epoch: 86/100 | Batch 402/402 | Batch time 0.116 || Loss: 5.839629 | loc loss:4.814413 | class loss:1.025216 \n",
      "Epoch: 86/100  | Epoch time 59.565 || Average Loss: inf\n",
      "Epoch: 87/100 | Batch 402/402 | Batch time 0.133 || Loss: 5.306841 | loc loss:3.947785 | class loss:1.359056 \n",
      "Epoch: 87/100  | Epoch time 58.531 || Average Loss: inf\n",
      "Epoch: 88/100 | Batch 402/402 | Batch time 0.093 || Loss: 3.773055 | loc loss:2.728236 | class loss:1.044819 \n",
      "Epoch: 88/100  | Epoch time 58.846 || Average Loss: inf\n",
      "Epoch: 89/100 | Batch 402/402 | Batch time 0.084 || Loss: 2.903696 | loc loss:2.038669 | class loss:0.865027 \n",
      "Epoch: 89/100  | Epoch time 57.251 || Average Loss: inf\n",
      "Epoch: 90/100 | Batch 402/402 | Batch time 0.135 || Loss: 4.766674 | loc loss:3.709128 | class loss:1.057546 \n",
      "Epoch: 90/100  | Epoch time 59.998 || Average Loss: inf\n",
      ">>>>>>>>>>Save weights file at /home/aiffel-dj10/aiffel/face_detector/checkpoints/weights_epoch_090.h5<<<<<<<<<<\n",
      "Epoch: 91/100 | Batch 402/402 | Batch time 0.193 || Loss: 5.140590 | loc loss:3.965297 | class loss:1.175293 \n",
      "Epoch: 91/100  | Epoch time 58.734 || Average Loss: inf\n",
      "Epoch: 92/100 | Batch 402/402 | Batch time 0.154 || Loss: 4.633065 | loc loss:3.674467 | class loss:0.958598 \n",
      "Epoch: 92/100  | Epoch time 63.356 || Average Loss: inf\n",
      "Epoch: 93/100 | Batch 402/402 | Batch time 0.138 || Loss: 4.347318 | loc loss:3.346046 | class loss:1.001272 \n",
      "Epoch: 93/100  | Epoch time 60.886 || Average Loss: inf\n"
     ]
    },
    {
     "name": "stdout",
     "output_type": "stream",
     "text": [
      "Epoch: 94/100 | Batch 402/402 | Batch time 0.128 || Loss: 4.117128 | loc loss:2.987413 | class loss:1.129715 \n",
      "Epoch: 94/100  | Epoch time 59.694 || Average Loss: inf\n",
      "Epoch: 95/100 | Batch 402/402 | Batch time 0.125 || Loss: 4.930751 | loc loss:3.760262 | class loss:1.170490 \n",
      "Epoch: 95/100  | Epoch time 60.084 || Average Loss: inf\n",
      "Epoch: 96/100 | Batch 402/402 | Batch time 0.121 || Loss: 3.994995 | loc loss:2.905851 | class loss:1.089144 \n",
      "Epoch: 96/100  | Epoch time 62.998 || Average Loss: inf\n",
      "Epoch: 97/100 | Batch 402/402 | Batch time 0.131 || Loss: 5.114344 | loc loss:4.158119 | class loss:0.956225 \n",
      "Epoch: 97/100  | Epoch time 60.398 || Average Loss: inf\n",
      "Epoch: 98/100 | Batch 402/402 | Batch time 0.180 || Loss: 7.325883 | loc loss:6.146059 | class loss:1.179824 \n",
      "Epoch: 98/100  | Epoch time 61.492 || Average Loss: inf\n",
      "Epoch: 99/100 | Batch 402/402 | Batch time 0.142 || Loss: 3.934671 | loc loss:2.594112 | class loss:1.340559 \n",
      "Epoch: 99/100  | Epoch time 57.558 || Average Loss: inf\n",
      "Epoch: 100/100 | Batch 402/402 | Batch time 0.089 || Loss: 5.164519 | loc loss:4.056574 | class loss:1.107946 \n",
      "Epoch: 100/100  | Epoch time 59.740 || Average Loss: inf\n",
      ">>>>>>>>>>Save weights file at /home/aiffel-dj10/aiffel/face_detector/checkpoints/weights_epoch_100.h5<<<<<<<<<<\n"
     ]
    }
   ],
   "source": [
    "import time\n",
    "\n",
    "for epoch in range(init_epoch+1,cfg['epoch']):\n",
    "    try:\n",
    "        start = time.time()\n",
    "        avg_loss = 0.0\n",
    "        for step, (inputs, labels) in enumerate(train_dataset.take(steps_per_epoch)):\n",
    "\n",
    "            load_t0 = time.time()\n",
    "            total_loss, losses = train_step(inputs, labels)\n",
    "            avg_loss = (avg_loss * step + total_loss.numpy()) / (step + 1)\n",
    "            load_t1 = time.time()\n",
    "            batch_time = load_t1 - load_t0\n",
    "\n",
    "            steps =steps_per_epoch*epoch+step\n",
    "            with train_summary_writer.as_default():\n",
    "                tf.summary.scalar('loss/total_loss', total_loss, step=steps)\n",
    "                for k, l in losses.items():\n",
    "                    tf.summary.scalar('loss/{}'.format(k), l, step=steps)\n",
    "                tf.summary.scalar('learning_rate', optimizer.lr(steps), step=steps)\n",
    "\n",
    "            print(f\"\\rEpoch: {epoch + 1}/{cfg['epoch']} | Batch {step + 1}/{steps_per_epoch} | Batch time {batch_time:.3f} || Loss: {total_loss:.6f} | loc loss:{losses['loc']:.6f} | class loss:{losses['class']:.6f} \",end = '',flush=True)\n",
    "\n",
    "        print(f\"\\nEpoch: {epoch + 1}/{cfg['epoch']}  | Epoch time {(load_t1 - start):.3f} || Average Loss: {avg_loss:.6f}\")\n",
    "\n",
    "        with train_summary_writer.as_default():\n",
    "            tf.summary.scalar('loss/avg_loss',avg_loss,step=epoch)\n",
    "\n",
    "        if (epoch + 1) % cfg['save_freq'] == 0:\n",
    "            filepath = os.path.join(weights_dir, f'weights_epoch_{(epoch + 1):03d}.h5')\n",
    "            model.save_weights(filepath)\n",
    "            if os.path.exists(filepath):\n",
    "                print(f\">>>>>>>>>>Save weights file at {filepath}<<<<<<<<<<\")\n",
    "\n",
    "    except KeyboardInterrupt:\n",
    "        print('interrupted')\n",
    "        exit(0)"
   ]
  },
  {
   "cell_type": "markdown",
   "id": "801982ec",
   "metadata": {},
   "source": [
    "이번 스텝에 소개한 모델 학습 과정을 **`train.py`**에 정리해 두었다. 아래와 같이 위의 과정을 실행할 수 있다.\n",
    "\n",
    "```bash\n",
    "$ cd ~/aiffel/face_detector && python train.py\n",
    "```"
   ]
  },
  {
   "cell_type": "markdown",
   "id": "41a9fc67",
   "metadata": {},
   "source": [
    "## 8. Inference(1) NMS"
   ]
  },
  {
   "cell_type": "markdown",
   "id": "8a2d26cf",
   "metadata": {},
   "source": [
    "### NMS 구현하기\n",
    "---\n",
    "Grid cell을 사용하는 Object detection의 inference 단계에서 하나의 object가 여러 개의 prior box에 걸쳐져 있을 때 가장 확률이 높은 1개의 prior box를 하나로 줄여주는 NMS(non-max suppression)이 필요하다. 아래 코드를 확인하자."
   ]
  },
  {
   "cell_type": "code",
   "execution_count": 45,
   "id": "6c8a1a68",
   "metadata": {
    "ExecuteTime": {
     "end_time": "2021-05-19T17:55:27.273574Z",
     "start_time": "2021-05-19T17:55:27.266954Z"
    }
   },
   "outputs": [],
   "source": [
    "def decode_bbox_tf(pre, priors, variances=None):\n",
    "    \"\"\"Decode locations from predictions using prior to undo\n",
    "    the encoding we did for offset regression at train time.\n",
    "    Args:\n",
    "        pre (tensor): location predictions for loc layers,\n",
    "            Shape: [num_prior,4]\n",
    "        prior (tensor): Prior boxes in center-offset form.\n",
    "            Shape: [num_prior,4].\n",
    "        variances: (list[float]) Variances of prior boxes\n",
    "    Return:\n",
    "        decoded bounding box predictions xmin, ymin, xmax, ymax\n",
    "    \"\"\"\n",
    "    if variances is None:\n",
    "        variances = [0.1, 0.2]\n",
    "    centers = priors[:, :2] + pre[:, :2] * variances[0] * priors[:, 2:]\n",
    "    sides = priors[:, 2:] * tf.math.exp(pre[:, 2:] * variances[1])\n",
    "\n",
    "    return tf.concat([centers - sides / 2, centers + sides / 2], axis=1)"
   ]
  },
  {
   "cell_type": "code",
   "execution_count": 46,
   "id": "889e8e6c",
   "metadata": {
    "ExecuteTime": {
     "end_time": "2021-05-19T17:55:27.280352Z",
     "start_time": "2021-05-19T17:55:27.275147Z"
    }
   },
   "outputs": [],
   "source": [
    "def compute_nms(boxes, scores, nms_threshold=0.5, limit=200):\n",
    "    \"\"\" Perform Non Maximum Suppression algorithm\n",
    "        to eliminate boxes with high overlap\n",
    "    Args:\n",
    "        boxes: tensor (num_boxes, 4)\n",
    "               of format (xmin, ymin, xmax, ymax)\n",
    "        scores: tensor (num_boxes,)\n",
    "        nms_threshold: NMS threshold\n",
    "        limit: maximum number of boxes to keep\n",
    "    Returns:\n",
    "        idx: indices of kept boxes\n",
    "    \"\"\"\n",
    "    if boxes.shape[0] == 0:\n",
    "        return tf.constant([], dtype=tf.int32)\n",
    "    selected = [0]\n",
    "    idx = tf.argsort(scores, direction='DESCENDING')\n",
    "    idx = idx[:limit]\n",
    "    boxes = tf.gather(boxes, idx)\n",
    "\n",
    "    iou = _jaccard(boxes, boxes)\n",
    "\n",
    "    while True:\n",
    "        row = iou[selected[-1]]\n",
    "        next_indices = row <= nms_threshold\n",
    "\n",
    "        iou = tf.where(\n",
    "            tf.expand_dims(tf.math.logical_not(next_indices), 0),\n",
    "            tf.ones_like(iou, dtype=tf.float32),\n",
    "            iou)\n",
    "\n",
    "        if not tf.math.reduce_any(next_indices):\n",
    "            break\n",
    "\n",
    "        selected.append(tf.argsort(\n",
    "            tf.dtypes.cast(next_indices, tf.int32), direction='DESCENDING')[0].numpy())\n",
    "\n",
    "    return tf.gather(idx, selected)"
   ]
  },
  {
   "cell_type": "code",
   "execution_count": 47,
   "id": "3be14a46",
   "metadata": {
    "ExecuteTime": {
     "end_time": "2021-05-19T17:55:27.287887Z",
     "start_time": "2021-05-19T17:55:27.282044Z"
    }
   },
   "outputs": [],
   "source": [
    "def parse_predict(predictions, priors, cfg):\n",
    "    label_classes = cfg['labels_list']\n",
    "\n",
    "    bbox_regressions, confs = tf.split(predictions[0], [4, -1], axis=-1)\n",
    "    boxes = decode_bbox_tf(bbox_regressions, priors, cfg['variances'])\n",
    "\n",
    "\n",
    "    confs = tf.math.softmax(confs, axis=-1)\n",
    "\n",
    "    out_boxes = []\n",
    "    out_labels = []\n",
    "    out_scores = []\n",
    "\n",
    "    for c in range(1, len(label_classes)):\n",
    "        cls_scores = confs[:, c]\n",
    "\n",
    "        score_idx = cls_scores > cfg['score_threshold']\n",
    "\n",
    "        cls_boxes = boxes[score_idx]\n",
    "        cls_scores = cls_scores[score_idx]\n",
    "\n",
    "        nms_idx = compute_nms(cls_boxes, cls_scores, cfg['nms_threshold'], cfg['max_number_keep'])\n",
    "\n",
    "        cls_boxes = tf.gather(cls_boxes, nms_idx)\n",
    "        cls_scores = tf.gather(cls_scores, nms_idx)\n",
    "\n",
    "        cls_labels = [c] * cls_boxes.shape[0]\n",
    "\n",
    "        out_boxes.append(cls_boxes)\n",
    "        out_labels.extend(cls_labels)\n",
    "        out_scores.append(cls_scores)\n",
    "\n",
    "    out_boxes = tf.concat(out_boxes, axis=0)\n",
    "    out_scores = tf.concat(out_scores, axis=0)\n",
    "\n",
    "    boxes = tf.clip_by_value(out_boxes, 0.0, 1.0).numpy()\n",
    "    classes = np.array(out_labels)\n",
    "    scores = out_scores.numpy()\n",
    "\n",
    "    return boxes, classes, scores"
   ]
  },
  {
   "cell_type": "markdown",
   "id": "04cadf98",
   "metadata": {},
   "source": [
    "## 9. Inference(2) 사진에서 얼굴 찾기"
   ]
  },
  {
   "cell_type": "markdown",
   "id": "d59de6e1",
   "metadata": {},
   "source": [
    "### 사진에서 여러개의 얼굴을 찾아보자.\n",
    "---\n",
    "이제 다 왔다. SSD 모델을 통해 우리는 Multi-face detection 기능을 확보했다.<br>\n",
    "얼마나 잘 해내는지 확인해 보도록 하자."
   ]
  },
  {
   "cell_type": "code",
   "execution_count": 48,
   "id": "4609b61e",
   "metadata": {
    "ExecuteTime": {
     "end_time": "2021-05-19T17:55:27.292922Z",
     "start_time": "2021-05-19T17:55:27.289262Z"
    }
   },
   "outputs": [],
   "source": [
    "def pad_input_image(img, max_steps):\n",
    "    \"\"\"pad image to suitable shape\"\"\"\n",
    "    img_h, img_w, _ = img.shape\n",
    "\n",
    "    img_pad_h = 0\n",
    "    if img_h % max_steps > 0:\n",
    "        img_pad_h = max_steps - img_h % max_steps\n",
    "\n",
    "    img_pad_w = 0\n",
    "    if img_w % max_steps > 0:\n",
    "        img_pad_w = max_steps - img_w % max_steps\n",
    "\n",
    "    padd_val = np.mean(img, axis=(0, 1)).astype(np.uint8)\n",
    "    img = cv2.copyMakeBorder(img, 0, img_pad_h, 0, img_pad_w,\n",
    "                             cv2.BORDER_CONSTANT, value=padd_val.tolist())\n",
    "    pad_params = (img_h, img_w, img_pad_h, img_pad_w)\n",
    "\n",
    "    return img, pad_params"
   ]
  },
  {
   "cell_type": "code",
   "execution_count": 49,
   "id": "be56dd5f",
   "metadata": {
    "ExecuteTime": {
     "end_time": "2021-05-19T17:55:27.296878Z",
     "start_time": "2021-05-19T17:55:27.294073Z"
    }
   },
   "outputs": [],
   "source": [
    "def recover_pad_output(outputs, pad_params):\n",
    "    \"\"\"\n",
    "        recover the padded output effect\n",
    "\n",
    "    \"\"\"\n",
    "    img_h, img_w, img_pad_h, img_pad_w = pad_params\n",
    "\n",
    "    recover_xy = np.reshape(outputs[0], [-1, 2, 2]) * \\\n",
    "                 [(img_pad_w + img_w) / img_w, (img_pad_h + img_h) / img_h]\n",
    "    outputs[0] = np.reshape(recover_xy, [-1, 4])\n",
    "\n",
    "    return outputs"
   ]
  },
  {
   "cell_type": "code",
   "execution_count": 50,
   "id": "7ec07396",
   "metadata": {
    "ExecuteTime": {
     "end_time": "2021-05-19T17:55:27.302621Z",
     "start_time": "2021-05-19T17:55:27.297972Z"
    }
   },
   "outputs": [],
   "source": [
    "def show_image(img, boxes, classes, scores, img_height, img_width, prior_index, class_list):\n",
    "    \"\"\"\n",
    "    draw bboxes and labels\n",
    "    out:boxes,classes,scores\n",
    "    \"\"\"\n",
    "    # bbox\n",
    "\n",
    "    x1, y1, x2, y2 = int(boxes[prior_index][0] * img_width), int(boxes[prior_index][1] * img_height), \\\n",
    "                     int(boxes[prior_index][2] * img_width), int(boxes[prior_index][3] * img_height)\n",
    "    if classes[prior_index] == 1:\n",
    "        color = (0, 255, 0)\n",
    "    else:\n",
    "        color = (0, 0, 255)\n",
    "    cv2.rectangle(img, (x1, y1), (x2, y2), color, 2)\n",
    "    # confidence\n",
    "\n",
    "    # if scores:\n",
    "    score = \"{:.4f}\".format(scores[prior_index])\n",
    "    class_name = class_list[classes[prior_index]]\n",
    "\n",
    "    cv2.putText(img, '{} {}'.format(class_name, score),\n",
    "                (int(boxes[prior_index][0] * img_width), int(boxes[prior_index][1] * img_height) - 4),\n",
    "                cv2.FONT_HERSHEY_SIMPLEX, 0.5, (255, 255, 255))"
   ]
  },
  {
   "cell_type": "markdown",
   "id": "11db3529",
   "metadata": {},
   "source": [
    "inference와 화면출력을 위한 몇가지 기능을 추가하였다.\n",
    "\n",
    "여러 사람의 얼굴이 포함된 테스트용 이미지를 고르자. **`~/aiffel/face_detector/image.png`**라는 경로로 저장 후 아래 코드를 실행해보자."
   ]
  },
  {
   "cell_type": "code",
   "execution_count": 51,
   "id": "0038fbef",
   "metadata": {
    "ExecuteTime": {
     "end_time": "2021-05-19T17:55:55.830422Z",
     "start_time": "2021-05-19T17:55:27.304112Z"
    }
   },
   "outputs": [
    {
     "name": "stdout",
     "output_type": "stream",
     "text": [
      "model path : /home/aiffel-dj10/aiffel/face_detector/checkpoints/weights_epoch_100.h5\n",
      "[*] Predict /home/aiffel-dj10/aiffel/face_detector/image.png image.. \n",
      "(256, 320, 3)\n",
      "scores:[0.9732484 0.9061642 0.8498045 0.5314896]\n"
     ]
    }
   ],
   "source": [
    "import cv2\n",
    "\n",
    "global model\n",
    "min_sizes = cfg['min_sizes']\n",
    "num_cell = [len(min_sizes[k]) for k in range(len(cfg['steps']))]\n",
    "model_path = os.getenv('HOME')+'/aiffel/face_detector/checkpoints'\n",
    "img_path = os.getenv('HOME')+'/aiffel/face_detector/image.png'\n",
    "\n",
    "try:\n",
    "    model = SsdModel(cfg=cfg, num_cell=num_cell, training=False)\n",
    "\n",
    "    paths = [os.path.join(model_path, path)\n",
    "             for path in os.listdir(model_path)]\n",
    "    latest = sorted(paths, key=os.path.getmtime)[-1]\n",
    "    model.load_weights(latest)\n",
    "    print(f\"model path : {latest}\")\n",
    "\n",
    "except AttributeError as e:\n",
    "    print('Please make sure there is at least one weights at {}'.format(model_path))\n",
    "\n",
    "if not os.path.exists(img_path):\n",
    "    print(f\"Cannot find image path from {img_path}\")\n",
    "    exit()\n",
    "print(\"[*] Predict {} image.. \".format(img_path))\n",
    "img_raw = cv2.imread(img_path)\n",
    "img_raw = cv2.resize(img_raw, (320, 240))\n",
    "img_height_raw, img_width_raw, _ = img_raw.shape\n",
    "img = np.float32(img_raw.copy())\n",
    "\n",
    "img = cv2.cvtColor(img, cv2.COLOR_BGR2RGB)\n",
    "# pad input image to avoid unmatched shape problem\n",
    "img, pad_params = pad_input_image(img, max_steps=max(cfg['steps']))\n",
    "img = img / 255.0 - 0.5\n",
    "print(img.shape)\n",
    "priors, _ = prior_box(cfg, image_sizes=(img.shape[0], img.shape[1]))\n",
    "priors = tf.cast(priors, tf.float32)\n",
    "\n",
    "predictions = model.predict(img[np.newaxis, ...])\n",
    "\n",
    "boxes, classes, scores = parse_predict(predictions, priors, cfg)\n",
    "\n",
    "print(f\"scores:{scores}\")\n",
    "# recover padding effect\n",
    "boxes = recover_pad_output(boxes, pad_params)\n",
    "\n",
    "# draw and save results\n",
    "save_img_path = os.path.join('assets/out_' + os.path.basename(img_path))\n",
    "\n",
    "for prior_index in range(len(boxes)):\n",
    "    show_image(img_raw, boxes, classes, scores, img_height_raw, img_width_raw, prior_index, cfg['labels_list'])\n",
    "\n",
    "cv2.imwrite(save_img_path, img_raw)\n",
    "cv2.imshow('results', img_raw)\n",
    "if cv2.waitKey(0) == ord('q'):\n",
    "    exit(0)"
   ]
  },
  {
   "cell_type": "code",
   "execution_count": 52,
   "id": "ec67c642",
   "metadata": {
    "ExecuteTime": {
     "end_time": "2021-05-19T17:55:56.805821Z",
     "start_time": "2021-05-19T17:55:55.835961Z"
    }
   },
   "outputs": [
    {
     "data": {
      "image/png": "[encoded data removed]",
      "text/plain": [
       "<Figure size 432x288 with 1 Axes>"
      ]
     },
     "metadata": {
      "needs_background": "light"
     },
     "output_type": "display_data"
    }
   ],
   "source": [
    "import matplotlib.pyplot as plt\n",
    "\n",
    "for prior_index in range(len(boxes)):\n",
    "    show_image(img_raw, boxes, classes, scores, img_height_raw, img_width_raw, prior_index, cfg['labels_list'])\n",
    "\n",
    "cv2.imwrite(save_img_path, img_raw)\n",
    "detect_img=cv2.cvtColor(img_raw, cv2.COLOR_BGR2RGB)\n",
    "plt.imshow(detect_img)\n",
    "plt.show()\n",
    "cv2.imshow('results', img_raw)\n",
    "if cv2.waitKey(0) == ord('q'):\n",
    "    exit(0)"
   ]
  },
  {
   "cell_type": "markdown",
   "id": "cd46c4b3",
   "metadata": {},
   "source": [
    "이번 스텝에 소개한 모델 학습 과정을 inference.py에 정리해 두었다. 아래와 같이 위의 과정을 실행할 수 있다.<br>\n",
    "(단, 이미지 파일명은 임의로 변경할 수 있다. )\n",
    "\n",
    "```bash\n",
    "$ cd ~/aiffel/face_detector && python inference.py  checkpoints/  image.png \n",
    "```\n",
    "\n",
    "어떤가? 이렇게 결과가 나왔다.  \n",
    "\n",
    "<img src=\"./image/result2.png\" />"
   ]
  },
  {
   "cell_type": "markdown",
   "id": "11b28070",
   "metadata": {},
   "source": [
    "# 18. 멀리 있는 사람도 스티커를 붙여주자"
   ]
  },
  {
   "cell_type": "markdown",
   "id": "6c5c46d9",
   "metadata": {},
   "source": [
    "## 10. 프로젝트 : 스티커를 붙여주자\n",
    "\n",
    "<img src=\"./image/example.png\" />\n",
    "\n",
    "드디어 딥러닝 모델을 이용해 우리의 스티커앱을 개선해서, 이미지 속 다수의 사람에게 스티커를 붙여줄 수 있게 되었다. 위 그림의 예시처럼 말이다.\n",
    "\n",
    "첫번째 스텝에서 제공한 프로젝트 코드를 적극 활용하자."
   ]
  },
  {
   "cell_type": "markdown",
   "id": "ab96b860",
   "metadata": {},
   "source": [
    "### Step 1. 스티커 구하기 혹은 만들기\n",
    "---\n",
    "이미 [카메라 스티커앱 만들기 첫걸음] 노드를 수행해 보았을 것이다. 왕관 또는 고양이 수염, 혹은 다양한 아이디어의 스티커를 만들어 볼 수 있을 것이다. 당시의 스티커 이미지를 그대로 활용해도 되고, 다른 이미지를 사용해도 무방하다."
   ]
  },
  {
   "cell_type": "code",
   "execution_count": 53,
   "id": "ea17ae05",
   "metadata": {
    "ExecuteTime": {
     "end_time": "2021-05-19T17:55:56.835073Z",
     "start_time": "2021-05-19T17:55:56.810720Z"
    }
   },
   "outputs": [],
   "source": [
    "def show_king(img, boxes, classes, scores, img_height, img_width, prior_index, class_list):\n",
    "    \"\"\"\n",
    "    draw king and labels\n",
    "    out:boxes,classes,scores\n",
    "    \"\"\"\n",
    "    # bbox\n",
    "\n",
    "    x1, y1, x2, y2 = int(boxes[prior_index][0] * img_width), int(boxes[prior_index][1] * img_height), \\\n",
    "                     int(boxes[prior_index][2] * img_width), int(boxes[prior_index][3] * img_height)\n",
    "    if classes[prior_index] == 1:\n",
    "        color = (0, 255, 0)\n",
    "    else:\n",
    "        color = (0, 0, 255)\n",
    "        \n",
    "    box_wid = abs(x2-x1)\n",
    "    box_hei = abs(y2-y1)\n",
    "    print('box_wid : ',box_wid)\n",
    "    print('box_hei :', box_hei)\n",
    "    king_img_path = os.getenv('HOME')+'/aiffel/face_detector/king.png'\n",
    "    king_img = cv2.imread(king_img_path,cv2.COLOR_BGR2RGB) \n",
    "    king_img = cv2.resize(king_img, (box_wid, box_hei))\n",
    "    refined_x = x1 #- box_wid // 2  # left\n",
    "    refined_y = y1 - box_hei     # top\n",
    "    \n",
    "    sticker_area = img[refined_y:refined_y+king_img.shape[0], refined_x:refined_x+king_img.shape[1]]\n",
    "    print('sticker_area.shape :',sticker_area.shape)\n",
    "    print('img.shape :',img.shape)\n",
    "    print('king_img.shape :',king_img.shape)\n",
    "    img[refined_y:refined_y+king_img.shape[0], refined_x:refined_x+king_img.shape[1]] = \\\n",
    "    np.where(king_img==0,sticker_area,king_img).astype(np.uint8)\n",
    "    #cv2.rectangle(img, (x1, y1), (x2, y2), color, 2)\n",
    "    # confidence\n",
    "\n",
    "    #if scores:\n",
    "    score = \"{:.4f}\".format(scores[prior_index])\n",
    "    class_name = class_list[classes[prior_index]]\n",
    "\n",
    "        #cv2.putText(img, '{} {}'.format(class_name, score),\n",
    "                    #(int(boxes[prior_index][0] * img_width), int(boxes[prior_index][1] * img_height) - 4),\n",
    "                    #cv2.FONT_HERSHEY_SIMPLEX, 0.5, (255, 255, 255))"
   ]
  },
  {
   "cell_type": "markdown",
   "id": "b750e0c3",
   "metadata": {},
   "source": [
    "### Step 2. SSD 모델을 통해 얼굴 bounding box 찾기\n",
    "---\n",
    "실습코드를 진행하며 필요한 모델을 이미 생성해 왔을 것이다. 잘 훈련된 해당 모델을 통해 적절한 얼굴 bounding box를 찾아내보자. **`inference.py`** 코드를 적극 참고하자."
   ]
  },
  {
   "cell_type": "markdown",
   "id": "40cd387b",
   "metadata": {},
   "source": [
    "### Step 3. dlib 을 이용한 landmark 찾기\n",
    "---\n",
    "검출된 bounding box별로 dlib을 이용해 face landmark를 찾을 수 있을 것이다. **`inference.py`** 에서 **`show_image`** 메소드를 사용한 부분을 잘 수정하면 가능할 것이다."
   ]
  },
  {
   "cell_type": "markdown",
   "id": "a13d6ccb",
   "metadata": {},
   "source": [
    "### Step 4. 스티커 합성 사진 생성하기\n",
    "---\n",
    "선택한 인물사진에 스티커를 합성해보자. 이미지에 너무 많은 사람 얼굴이 포함되어 있거나, 검출된 얼굴이 너무 작아서 스티커 합성이 어울리지 않으면 적당하지 않을 것이다. 3~5명 정도의 얼굴이 포함된 적당한 사진을 선택하자.\n",
    "\n",
    "1명의 얼굴에 스티커를 붙여주는 방법은 이미 알고 있을 것이다. 생성된 이미지를 프로젝트 코드와 함께 제출하자~"
   ]
  },
  {
   "cell_type": "code",
   "execution_count": null,
   "id": "6c88ab39",
   "metadata": {
    "ExecuteTime": {
     "start_time": "2021-05-19T17:55:27.290Z"
    }
   },
   "outputs": [
    {
     "name": "stdout",
     "output_type": "stream",
     "text": [
      "box_wid :  42\n",
      "box_hei : 40\n",
      "sticker_area.shape : (40, 42, 3)\n",
      "img.shape : (240, 320, 3)\n",
      "king_img.shape : (40, 42, 3)\n",
      "box_wid :  22\n",
      "box_hei : 20\n",
      "sticker_area.shape : (20, 22, 3)\n",
      "img.shape : (240, 320, 3)\n",
      "king_img.shape : (20, 22, 3)\n",
      "box_wid :  18\n",
      "box_hei : 17\n",
      "sticker_area.shape : (17, 18, 3)\n",
      "img.shape : (240, 320, 3)\n",
      "king_img.shape : (17, 18, 3)\n",
      "box_wid :  33\n",
      "box_hei : 30\n",
      "sticker_area.shape : (30, 33, 3)\n",
      "img.shape : (240, 320, 3)\n",
      "king_img.shape : (30, 33, 3)\n"
     ]
    },
    {
     "data": {
      "image/png": "[encoded data removed]",
      "text/plain": [
       "<Figure size 432x288 with 1 Axes>"
      ]
     },
     "metadata": {
      "needs_background": "light"
     },
     "output_type": "display_data"
    }
   ],
   "source": [
    "import matplotlib.pyplot as plt\n",
    "\n",
    "img_raw = cv2.imread(img_path)\n",
    "img_raw = cv2.resize(img_raw, (320, 240))\n",
    "for prior_index in range(len(boxes)):\n",
    "    show_king(img_raw, boxes, classes, scores, img_height_raw, img_width_raw, prior_index, cfg['labels_list'])\n",
    "\n",
    "\n",
    "\n",
    "\n",
    "\n",
    "cv2.imwrite(save_img_path, img_raw)\n",
    "king=cv2.cvtColor(img_raw, cv2.COLOR_BGR2RGB)\n",
    "plt.imshow(king)\n",
    "plt.show()\n",
    "cv2.imshow('results', img_raw)\n",
    "\n",
    "\n",
    "if cv2.waitKey(0) == ord('q'):\n",
    "    exit(0)"
   ]
  },
  {
   "cell_type": "markdown",
   "id": "850b474e",
   "metadata": {},
   "source": [
    "### 회고\n",
    "---\n",
    "* 수민님 쪽 아이콘이 조금 빗나갔다."
   ]
  },
  {
   "cell_type": "markdown",
   "id": "0ac4b5d8",
   "metadata": {},
   "source": [
    "### 루브릭\n",
    "---\n",
    "* multiface detection을 위한 widerface 데이터셋의 전처리가 적절히 진행되었다.<br>\n",
    "(_tfrecord 생성, augmentation, prior box 생성 등의 과정이 정상적으로 진행되었다._)\n",
    "\n",
    "    * __노드대로 잘 진행되었다.__\n",
    "\n",
    "* SSD 모델이 안정적으로 학습되어 multiface detection이 가능해졌다.<br>\n",
    "( _inference를 통해 정확한 위치의 face bounding box를 detect한 결과이미지가 제출되었다._)\n",
    "    \n",
    "    * __100에폭의 학습으로 만들어진 face bounding box를 detect한 결과이미지를 제출했다__\n",
    "\n",
    "* 이미지 속 다수의 얼굴에 스티커가 적용되었다.<br>\n",
    "(_이미지 속 다수의 얼굴의 적절한 위치에 스티커가 적용된 결과이미지가 제출되었다._)\n",
    "    \n",
    "    * __왕관 스티커가 잘 붙었다.__"
   ]
  }
 ],
 "metadata": {
  "kernelspec": {
   "display_name": "aiffel",
   "language": "python",
   "name": "aiffel"
  },
  "language_info": {
   "codemirror_mode": {
    "name": "ipython",
    "version": 3
   },
   "file_extension": ".py",
   "mimetype": "text/x-python",
   "name": "python",
   "nbconvert_exporter": "python",
   "pygments_lexer": "ipython3",
   "version": "3.7.9"
  },
  "toc": {
   "base_numbering": 1,
   "nav_menu": {},
   "number_sections": true,
   "sideBar": true,
   "skip_h1_title": false,
   "title_cell": "Table of Contents",
   "title_sidebar": "Contents",
   "toc_cell": false,
   "toc_position": {},
   "toc_section_display": true,
   "toc_window_display": false
  },
  "varInspector": {
   "cols": {
    "lenName": 16,
    "lenType": 16,
    "lenVar": 40
   },
   "kernels_config": {
    "python": {
     "delete_cmd_postfix": "",
     "delete_cmd_prefix": "del ",
     "library": "var_list.py",
     "varRefreshCmd": "print(var_dic_list())"
    },
    "r": {
     "delete_cmd_postfix": ") ",
     "delete_cmd_prefix": "rm(",
     "library": "var_list.r",
     "varRefreshCmd": "cat(var_dic_list()) "
    }
   },
   "types_to_exclude": [
    "module",
    "function",
    "builtin_function_or_method",
    "instance",
    "_Feature"
   ],
   "window_display": false
  }
 },
 "nbformat": 4,
 "nbformat_minor": 5
}
