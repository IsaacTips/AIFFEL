{
 "cells": [
  {
   "cell_type": "markdown",
   "id": "chicken-denial",
   "metadata": {},
   "source": [
    "# 12. 직접 만들어보는 OCR"
   ]
  },
  {
   "cell_type": "markdown",
   "id": "sweet-milwaukee",
   "metadata": {},
   "source": [
    "## 1. 들어가며\n",
    "이번 시간에는 OCR을 직접 만들어보는 시간을 갖도록 하겠다. OCR을 처음부터 끝까지 만들기에는 시간이 많이 소요되므로 Detection은 keras-ocr을 활용하고 Recognition을 직접 만들고 학습해보도록 하겠다."
   ]
  },
  {
   "cell_type": "markdown",
   "id": "careful-bench",
   "metadata": {},
   "source": [
    "### 실습목표\n",
    "---\n",
    "1. Text Recognition 모델을 직접 구현해본다.\n",
    "2. Text Recognition 모델 학습을 진행해본다.\n",
    "3. Text Detection 모델과 연결하여 전체 OCR 시스템을 구현한다."
   ]
  },
  {
   "cell_type": "markdown",
   "id": "recovered-garlic",
   "metadata": {},
   "source": [
    "### 목차\n",
    "---\n",
    "1. Overall sturcture of OCR\n",
    "2. Dataset for OCR\n",
    "3. Recognition model\n",
    "    - Input Image\n",
    "    - Encode\n",
    "    - Build CRNN model\n",
    "    - Train & Inference\n",
    "4. 프로젝트 : End-to-End OCR"
   ]
  },
  {
   "cell_type": "markdown",
   "id": "standard-crawford",
   "metadata": {},
   "source": [
    "## 2. Overall structure of OCR\n",
    "\n",
    "<img src=\"./image/ocr.png\" />\n",
    "\n",
    "<center><b>[https://brunch.co.kr/@kakao-it/318]</b></center>\n",
    "\n",
    "우리가 만들고자 하는 OCR은 이미지 속에서 영문을 Bounding box로 찾아내고 그 Bounding box 내에 어떤 Text가 포함되는지 알 수 있는 시스템이다. 이미지 속에서 문자 영역을 찾아내는 것인 **Text Detection**은 강의노드에서 봤던 방법 중 Segmentation 기반의 **CRAFT**를 활용한 **keras-ocr**을 활용할 예정이다. **Recognition** 모델은 keras-ocr을 사용하지 않고 직접 만들어보도록 하겠다.\n",
    "\n",
    "(참고자료)\n",
    "\n",
    "- [keras-ocr 공식 github](https://github.com/faustomorales/keras-ocr)\n",
    "- [CRAFT: Character-Region Awareness For Text detection](https://arxiv.org/pdf/1904.01941.pdf)\n",
    "    - [CRAFT Pytorch 공식 implementation](https://github.com/clovaai/CRAFT-pytorch)\n",
    "    - [CRAFT Keras 버전 github](https://github.com/notAI-tech/keras-craft)\n",
    "\n",
    "\n",
    "__Q1. keras-ocr에서도 recognition을 지원하는데, 이 모델은 어떤 구조를 썼을까?__\n",
    "\n",
    "* Convolution layer와 RNN을 결합하고 CTC로 학습된 CRNN이 사용되었다.\n",
    "\n",
    "하지만 CNN과 RNN의 아이디어를 결합하여 Text Recognition의 초기 모델의 뼈대를 완성했던 CRNN 모델도 2015년에 나온 것이다. 그 이후로도 다양한 모델들이 새로운 기법을 제시하며 조금씩 성능향상을 이루어 왔다. 2019년에 발표된 Naver Clova의 아래 논문에서 당시까지의 모델의 발전사를 잘 살펴볼 수 있다.\n",
    "\n",
    "- [What Is Wrong With Scene Text Recognition Model Comparisons? Dataset and Model Analysis](https://arxiv.org/pdf/1904.01906.pdf)\n",
    "\n",
    "__Q2. keras-ocr의 CRNN 기반 Recognition 모델과 위 논문에 소개된 Recognition에서 가장 높은 성능을 얻은 (저자들의) 모델은 어떤 점이 다를까?__\n",
    "\n",
    "* 첫번째로 입력이미지 변환 단계에서는 모델의 앞에서 글자를 Thin plate spline Transformation을 해주는 TPS 모듈이 붙고, 마지막 Text 출력 단계에서는 Bidirectional LSTM 뒤로 Attention decoder가 붙는다."
   ]
  },
  {
   "cell_type": "markdown",
   "id": "immune-shell",
   "metadata": {},
   "source": [
    "## 3. Dataset for OCR\n",
    "\n",
    "OCR은 데이터셋에 필요한 텍스트 정보는 사람이 직접 입력을 해야하는 수고로움이 있다. OCR 데이터는 대량으로 만들어내려면 큰 비용이 든다. 이러한 데이터 문제를 해결하기 위한 방법 중 하나로는 컴퓨터로 대량이 문자 이미지 데이터를 만들어내는 방법이 있다. 직접 문자 데이터를 생성하게 되면 원하는 언어를 원하는 폰트 그리고 원하는 배치, 크기로 문자 이미지를 대량으로 만들어낼 수 있는 장점이 있다. 이전 스텝에서 소개했던 [What Is Wrong With Scene Text Recognition Model Comparisons? Dataset and Model Analysis](https://github.com/clovaai/deep-text-recognition-benchmark)과 같은 논문들에서는 Recognition model의 정량적인 평가를 위해서 **`MJ Synth`**와 **`SynthText`**라는 데이터셋을 활용한다. Recognition model을 제안하는 다양한 논문들에서도 성능 비교를 위해 두 데이터를 활용함을 기억해두면 좋을 것 같다.\n",
    "\n",
    "1) [MJ Synth](http://www.robots.ox.ac.uk/~vgg/data/text/)\n",
    "\n",
    "2) [SynthText](http://www.robots.ox.ac.uk/~vgg/data/scenetext/)\n",
    "\n",
    "앞으로 만들어볼 Recognition model을 학습하기 위해 MJ Synth를 사용해보도록 하겠다. 아래의 링크는 Naver Clova의 논문 저자들이 Dropbox를 통해 제공하는 데이터셋이다. path 설정 후 아래 링크의 training 폴더에서 **`data_lmdb_release.zip`** 파일을 다운로드 받자! 오늘 우리는 이 20GB가 넘는 압축파일에 포함된 데이터 중에서 **`MJ`** 데이터만 활용할 예정이다.\n",
    "\n",
    "[Dropbox-data_lmdb_release](https://www.dropbox.com/sh/i39abvnefllx2si/AAAbAYRvxzRp3cIE5HzqUw3ra?dl=0)\n",
    "\n",
    "아래와 같이 진행하면 좀더 수월하다.\n",
    "\n",
    "```bash\n",
    "$ mkdir -p ~/aiffel/ocr\n",
    "$ cd ~/aiffel/ocr\n",
    "$ wget https://www.dropbox.com/sh/i39abvnefllx2si/AABX4yjNn2iLeKZh1OAwJUffa/data_lmdb_release.zip\n",
    "$ unzip data_lmdb_release.zip\n",
    "$ mv data_lmdb_release/training/MJ .# data_lmdb_release/training/MJ 아래의 데이터만 ~/aiffel/ocr 아래로 가져옵니다.\n",
    "# 이후 불필요한 data_lmdb_release.zip 및 data_lmdb_release 하위의 남은 데이터는 삭제하셔도 무방합니다.\n",
    "```"
   ]
  },
  {
   "cell_type": "code",
   "execution_count": 1,
   "id": "existing-fireplace",
   "metadata": {
    "ExecuteTime": {
     "end_time": "2021-05-05T08:39:37.011108Z",
     "start_time": "2021-05-05T08:39:37.002530Z"
    }
   },
   "outputs": [
    {
     "name": "stdout",
     "output_type": "stream",
     "text": [
      "/home/aiffel-dj10/aiffel/ocr\n"
     ]
    }
   ],
   "source": [
    "import os\n",
    "\n",
    "path = os.path.join(os.getenv('HOME'),'aiffel/ocr')\n",
    "os.chdir(path)\n",
    "\n",
    "print(path)"
   ]
  },
  {
   "cell_type": "markdown",
   "id": "accepting-scott",
   "metadata": {},
   "source": [
    "## 4. Recognition model (1)\n",
    "\n",
    "Text recognition 모델을 직접 만들어보도록 하겠다. Recognition 모델은 2015년에 발표된 아래 논문에서 처음 소개된 CRNN 구조를 활용해서 만들어보도록 하자.\n",
    "\n",
    "- [An End-to-End Trainable Neural Network for Image-based SequenceRecognition and Its Application to Scene Text Recognition](https://arxiv.org/pdf/1507.05717.pdf)\n",
    "\n",
    "<img src=\"./image/crnn.png\" />\n",
    "\n",
    "<center><b>[https://arxiv.org/pdf/1507.05717.pdf]</b></center>\n",
    "\n",
    "CRNN의 구조는 위 그림에서 아래부터 올라가는 순서로 보면 된다. 입력이미지를 Convolution Layer를 통해 Feature를 추출하고 추출된 Feature를 얻어낸다. Recurrent Layer는 추출된 Feature의 전체적인 Context를 파악하고 다양한 output의 크기에 대응이 가능하다. 끝으로 Transcription layer(Fully connected layer)는 step마다 어떤 character의 확률이 높은지 예측한다. 아래의 표를 통해 정확한 구조를 확인하자.\n",
    "\n",
    "<img src=\"./image/crnn_structure.png\" />\n",
    "\n",
    "<center><b>[https://arxiv.org/pdf/1507.05717.pdf]</b></center>\n",
    "\n",
    "몇 개의 Class가 필요한지 확인하기 위해 아래 코드를 실행하자."
   ]
  },
  {
   "cell_type": "code",
   "execution_count": 2,
   "id": "virtual-winter",
   "metadata": {
    "ExecuteTime": {
     "end_time": "2021-05-05T08:39:37.017690Z",
     "start_time": "2021-05-05T08:39:37.014760Z"
    }
   },
   "outputs": [
    {
     "name": "stdout",
     "output_type": "stream",
     "text": [
      "The total number of characters is 36\n"
     ]
    }
   ],
   "source": [
    "NUMBERS = \"0123456789\"\n",
    "ENG_CHAR_UPPER = \"ABCDEFGHIJKLMNOPQRSTUVWXYZ\"\n",
    "TARGET_CHARACTERS = ENG_CHAR_UPPER + NUMBERS\n",
    "print(f\"The total number of characters is {len(TARGET_CHARACTERS)}\")"
   ]
  },
  {
   "cell_type": "markdown",
   "id": "aboriginal-watts",
   "metadata": {},
   "source": [
    "__Q3. 영문 대문자와 숫자를 인식하기 위해서는 몇가지의 Class가 필요할까?__\n",
    "\n",
    "* 총 36가지가 필요하다.\n",
    "* 문자가 없는 경우를 위해서 공백을 추가할 경우 class의 수는 37개가 된다.\n",
    "\n",
    "먼저 lmdb를 설치한다. LMDB는 Symas에서 만든 Lightning Memory-Mapped Database의 약자이다. 오늘 다루게 될 데이터셋이 lmdb 포맷(mdb)의 파일로 이루어져 있다.\n",
    "\n",
    "```bash\n",
    "$ pip install lmdb\n",
    "\n",
    "```\n",
    "\n",
    "아래에 필요한 라이브러리들을 import하도록 하자. 다운로드한 MJ 데이터셋의 위치도 확인해서 옮기자."
   ]
  },
  {
   "cell_type": "code",
   "execution_count": 3,
   "id": "empirical-commerce",
   "metadata": {
    "ExecuteTime": {
     "end_time": "2021-05-05T08:39:39.514297Z",
     "start_time": "2021-05-05T08:39:37.021646Z"
    }
   },
   "outputs": [
    {
     "name": "stdout",
     "output_type": "stream",
     "text": [
      "/home/aiffel-dj10/aiffel/ocr/MJ/MJ_train\n"
     ]
    }
   ],
   "source": [
    "import re\n",
    "import six\n",
    "import math\n",
    "import lmdb\n",
    "import os\n",
    "import numpy as np\n",
    "import tensorflow as tf\n",
    "\n",
    "from PIL import Image\n",
    "\n",
    "from tensorflow.keras import layers\n",
    "from tensorflow.keras.models import Model\n",
    "from tensorflow.keras.utils import Sequence\n",
    "from tensorflow.keras import backend as K\n",
    "from tensorflow.keras.models import load_model\n",
    "\n",
    "BATCH_SIZE = 128\n",
    "HOME_DIR = os.getenv('HOME')+'/aiffel/ocr'\n",
    "\n",
    "# 로컬 사용자\n",
    "TRAIN_DATA_PATH = HOME_DIR+'/MJ/MJ_train'\n",
    "VALID_DATA_PATH = HOME_DIR+'/MJ/MJ_valid'\n",
    "TEST_DATA_PATH = HOME_DIR+'/MJ/MJ_test'\n",
    "\n",
    "# 클라우드 사용자는 아래 주석을 사용해 주세요.\n",
    "# TRAIN_DATA_PATH = HOME_DIR+'/data/MJ/MJ_train'\n",
    "# VALID_DATA_PATH = HOME_DIR+'/data/MJ/MJ_valid'\n",
    "# TEST_DATA_PATH = HOME_DIR+'/data/MJ/MJ_test'\n",
    "print(TRAIN_DATA_PATH)"
   ]
  },
  {
   "cell_type": "code",
   "execution_count": 4,
   "id": "reverse-perfume",
   "metadata": {
    "ExecuteTime": {
     "end_time": "2021-05-05T08:39:40.479905Z",
     "start_time": "2021-05-05T08:39:39.515491Z"
    }
   },
   "outputs": [
    {
     "name": "stdout",
     "output_type": "stream",
     "text": [
      "1 Physical GPUs, 1 Logical GPUs\n"
     ]
    }
   ],
   "source": [
    "gpus = tf.config.experimental.list_physical_devices('GPU')\n",
    "if gpus:\n",
    "    try:\n",
    "        # Currently, memory growth needs to be the same across GPUs\n",
    "        for gpu in gpus:\n",
    "            tf.config.experimental.set_memory_growth(gpu, True)\n",
    "        logical_gpus = tf.config.experimental.list_logical_devices('GPU')\n",
    "        print(len(gpus), \"Physical GPUs,\", len(logical_gpus), \"Logical GPUs\")\n",
    "    except RuntimeError as e:\n",
    "        # Memory growth must be set before GPUs have been initialized\n",
    "        print(e)"
   ]
  },
  {
   "cell_type": "markdown",
   "id": "proprietary-contact",
   "metadata": {},
   "source": [
    "## 5. Recognition model (2) Input Image\n",
    "그럼 데이터셋 안에 들어있는 이미지가 실제로 어떻게 생겼는지 확인해보자. 아래는 lmdb를 통해 훈련데이터셋의 이미지를 4개만 열어서 실제 shape가 어떻게 생겼는지, 이미지나 라벨은 어떻게 달려 있는지를 확인해보자."
   ]
  },
  {
   "cell_type": "code",
   "execution_count": 5,
   "id": "intense-partition",
   "metadata": {
    "ExecuteTime": {
     "end_time": "2021-05-05T08:39:40.512059Z",
     "start_time": "2021-05-05T08:39:40.481667Z"
    }
   },
   "outputs": [
    {
     "name": "stdout",
     "output_type": "stream",
     "text": [
      "original image width:72, height:31\n",
      "target_img_size:(74, 32)\n",
      "display img shape:(74, 32, 3)\n",
      "label:Lube\n"
     ]
    },
    {
     "data": {
      "image/png": "[encoded data removed]",
      "text/plain": [
       "<PIL.Image.Image image mode=RGB size=74x32 at 0x7FB510040790>"
      ]
     },
     "metadata": {},
     "output_type": "display_data"
    },
    {
     "name": "stdout",
     "output_type": "stream",
     "text": [
      "original image width:82, height:31\n",
      "target_img_size:(84, 32)\n",
      "display img shape:(84, 32, 3)\n",
      "label:Spencerian\n"
     ]
    },
    {
     "data": {
      "image/png": "[encoded data removed]",
      "text/plain": [
       "<PIL.Image.Image image mode=RGB size=84x32 at 0x7FB510040790>"
      ]
     },
     "metadata": {},
     "output_type": "display_data"
    },
    {
     "name": "stdout",
     "output_type": "stream",
     "text": [
      "original image width:115, height:31\n",
      "target_img_size:(100, 32)\n",
      "display img shape:(100, 32, 3)\n",
      "label:accommodatingly\n"
     ]
    },
    {
     "data": {
      "image/png": "[encoded data removed]",
      "text/plain": [
       "<PIL.Image.Image image mode=RGB size=100x32 at 0x7FB510040590>"
      ]
     },
     "metadata": {},
     "output_type": "display_data"
    },
    {
     "name": "stdout",
     "output_type": "stream",
     "text": [
      "original image width:140, height:31\n",
      "target_img_size:(100, 32)\n",
      "display img shape:(100, 32, 3)\n",
      "label:CARPENTER\n"
     ]
    },
    {
     "data": {
      "image/png": "[encoded data removed]",
      "text/plain": [
       "<PIL.Image.Image image mode=RGB size=100x32 at 0x7FB5100407D0>"
      ]
     },
     "metadata": {},
     "output_type": "display_data"
    }
   ],
   "source": [
    "from IPython.display import display\n",
    "\n",
    "env = lmdb.open(TRAIN_DATA_PATH, max_readers=32, readonly=True, lock=False, readahead=False, meminit=False)\n",
    "with env.begin(write=False) as txn:\n",
    "    for index in range(1, 5):\n",
    "        label_key = 'label-%09d'.encode() % index\n",
    "        label = txn.get(label_key).decode('utf-8')\n",
    "        img_key = 'image-%09d'.encode() % index\n",
    "        imgbuf = txn.get(img_key)\n",
    "        buf = six.BytesIO()\n",
    "        buf.write(imgbuf)\n",
    "        buf.seek(0)\n",
    "        try:\n",
    "            img = Image.open(buf).convert('RGB')\n",
    "\n",
    "        except IOError:\n",
    "            img = Image.new('RGB', (100, 32))\n",
    "            label = '-'\n",
    "        width, height = img.size\n",
    "        print('original image width:{}, height:{}'.format(width, height))\n",
    "        \n",
    "        target_width = min(int(width*32/height), 100)\n",
    "        target_img_size = (target_width,32 )\n",
    "        \n",
    "        print('target_img_size:{}'.format(target_img_size))\n",
    "        \n",
    "        img = np.array(img.resize(target_img_size)).transpose(1,0,2)\n",
    "       \n",
    "        print('display img shape:{}'.format(img.shape))\n",
    "        print('label:{}'.format(label))\n",
    "        display(Image.fromarray(img.transpose(1,0,2).astype(np.uint8)))"
   ]
  },
  {
   "cell_type": "markdown",
   "id": "democratic-patrick",
   "metadata": {},
   "source": [
    "어떤가? 대부분의 이미지의 height는 31, 최대 32까지로 되어 있고, width는 문자열 길이에 따라 다양한 것으로 보인다.\n",
    "\n",
    "우리는 lmdb를 활용하여 케라스 모델 학습용 MJ Synth 데이터셋 클래스를 구현하려고 한다. dataset_path는 읽어들일 데이터셋의 경로이다. label_converter는 아래에서 여러분이 문자를 미리정의된 index로 변환해주는 converter로 직접 구현하도록 한다. 이외에도 batch_size와 입력이미지 크기 그리고 필터링을 위한 최대 글자 수, 학습대상으로 한정하기 위한 character등을 입력으로 받도록 구현되어 있다."
   ]
  },
  {
   "cell_type": "code",
   "execution_count": 6,
   "id": "romantic-scottish",
   "metadata": {
    "ExecuteTime": {
     "end_time": "2021-05-05T08:39:40.592299Z",
     "start_time": "2021-05-05T08:39:40.513408Z"
    }
   },
   "outputs": [],
   "source": [
    "class MJDatasetSequence(Sequence):\n",
    "    def __init__(self, \n",
    "                      dataset_path,\n",
    "                      label_converter,\n",
    "                      batch_size=1,\n",
    "                      img_size=(100,32),\n",
    "                      max_text_len=22,\n",
    "                      is_train=False,\n",
    "                      character=''\n",
    "                ):\n",
    "        \n",
    "        self.label_converter = label_converter\n",
    "        self.batch_size = batch_size\n",
    "        self.img_size = img_size\n",
    "        self.max_text_len = max_text_len\n",
    "        self.character = character\n",
    "        self.is_train = is_train\n",
    "        self.divide_length = 100\n",
    "\n",
    "        self.env = lmdb.open(dataset_path, max_readers=32, readonly=True, lock=False, readahead=False, meminit=False)\n",
    "        with self.env.begin(write=False) as txn:\n",
    "            num_samples = int(txn.get('num-samples'.encode()))\n",
    "            self.num_samples = int(num_samples)\n",
    "            self.index_list = [index + 1 for index in range(self.num_samples)]\n",
    "        \n",
    "    def __len__(self):\n",
    "        if self.is_train:\n",
    "            return math.ceil(self.num_samples/self.batch_size/self.divide_length)\n",
    "        return math.ceil(self.num_samples/self.batch_size/self.divide_length)\n",
    "    \n",
    "    # index에 해당하는 image와 label을 가져오는 메소드\n",
    "    def _get_img_label(self, index):\n",
    "        with self.env.begin(write=False) as txn:\n",
    "            label_key = 'label-%09d'.encode() % index\n",
    "            label = txn.get(label_key).decode('utf-8')\n",
    "            img_key = 'image-%09d'.encode() % index\n",
    "            imgbuf = txn.get(img_key)\n",
    "\n",
    "            buf = six.BytesIO()\n",
    "            buf.write(imgbuf)\n",
    "            buf.seek(0)\n",
    "            try:\n",
    "                img = Image.open(buf).convert('RGB')\n",
    "\n",
    "            except IOError:\n",
    "                img = Image.new('RGB', self.img_size)\n",
    "                label = '-'\n",
    "            width, height = img.size\n",
    "            \n",
    "            target_width = min(int(width*self.img_size[1]/height), self.img_size[0])\n",
    "            target_img_size = (target_width,self.img_size[1] )\n",
    "            img = np.array(img.resize(target_img_size)).transpose(1,0,2)\n",
    "            label = label.upper()[:self.max_text_len]\n",
    "            out_of_char = f'[^{self.character}]'\n",
    "            label = re.sub(out_of_char, '', label)\n",
    "\n",
    "        return (img, label)\n",
    "    \n",
    "    # idx번째 배치를 가져오는 메소드\n",
    "    def __getitem__(self, idx):\n",
    "        batch_indicies = self.index_list[\n",
    "            idx*self.batch_size:\n",
    "            (idx+1)*self.batch_size\n",
    "        ]\n",
    "        input_images = np.zeros([self.batch_size, *self.img_size, 3])\n",
    "        labels = np.zeros([self.batch_size, self.max_text_len], dtype='int64')\n",
    "\n",
    "        input_length = np.ones([self.batch_size], dtype='int64')*self.max_text_len\n",
    "        label_length = np.ones([self.batch_size], dtype='int64')\n",
    "\n",
    "        for i, index in enumerate(batch_indicies):\n",
    "            img, label = self._get_img_label(index)\n",
    "            encoded_label = self.label_converter.encode(label)\n",
    "            width = img.shape[0]\n",
    "            input_images[i,:width,:,:] = img\n",
    "            if len(encoded_label) > self.max_text_len:\n",
    "                continue\n",
    "            labels[i,0:len(encoded_label)] = encoded_label\n",
    "            label_length[i] = len(encoded_label)\n",
    "\n",
    "        inputs = {\n",
    "            'input_image': input_images,\n",
    "            'label': labels,\n",
    "            'input_length': input_length,\n",
    "            'label_length': label_length,\n",
    "        }\n",
    "        outputs = {'ctc': np.zeros([self.batch_size, 1])}\n",
    "        return inputs, outputs\n",
    "        \n",
    "    def on_epoch_end(self):\n",
    "        self.index_list =  [index + 1 for index in range(self.num_samples)]\n",
    "        if self.is_train :\n",
    "            np.random.shuffle(self.index_list)\n",
    "            return self.index_list"
   ]
  },
  {
   "cell_type": "markdown",
   "id": "detailed-reaction",
   "metadata": {},
   "source": [
    "위의 분석코드처럼 이미지 데이터를 img, label의 쌍으로 가져오는 부분은 `_get_img_label()` 메소드에 반영되었다. 그리고 `model.fit()`에서 호출되는 `__getitem__()` 메소드에서 배치 단위만큼 `_get_img_label()` 를 통해 가져온 데이터셋을 리턴하게 될 것이다. `_get_img_label()` 를 보면 다양한 사이즈의 이미지를 모두 height는 32로 맞추고, width는 최대 100까지로 맞추게끔 가공하고 있다."
   ]
  },
  {
   "cell_type": "markdown",
   "id": "international-disease",
   "metadata": {},
   "source": [
    "## 6. Recognition model (3) Encode\n",
    "\n",
    "이전 스텝에서 살펴본 바에 의하면, Label이 우리가 읽을 수 있는 평문 Text로 이루어져 있다. 이것은 모델을 학습하기 위해서 적절한 형태가 아니다. 따라서 각 Character를 class로 생각하고 이를 step에 따른 class index로 변환해서 encode를 해주어야 한다. 이를 해줄 수 있는 **`LabelConverter`** 클래스를 작성해보자.\n",
    "\n",
    "- **`__init__()`** 에서는 입력으로 받은 text를 **`self.dict`**에 각 character들이 어떤 index에 매핑되는지 저장한다. 이 character와 index 정보를 통해 모델이 학습할 수 있는 output이 만들어진다. 만약 **`character='ABCD'`**라면 **`'A'`**의 label은 1, **`'B'`**의 label은 2가 된다.\n",
    "- 공백(blank) 문자를 지정한다. 여기서는 공백 문자를 뜻하기 위해 **`'-'`**를 활용하며, label은 0으로 지정한다.\n",
    "- **`decode()`**는 각 index를 다시 character로 변환한 후 이어주어 읽을 수 있는 text로 바꾸어준다.\n",
    "\n",
    "> __*입력받은 text를 모델이 학습할 수 있는 label로 만드는 encode() 메소드를 구현하자. 단, 같은 글자가 연속으로 이어지는 경우에는 이어지는 그 사이에 공백 문자의 label을 포함해야 한다!*__\n",
    "\n",
    "OCR 모델 학습데이터에 왜 공백 문자가 포함되어야 하는지는 다음 스텝에서 설명할 예정이다."
   ]
  },
  {
   "cell_type": "code",
   "execution_count": 15,
   "id": "asian-polish",
   "metadata": {
    "ExecuteTime": {
     "end_time": "2021-05-05T08:42:33.642324Z",
     "start_time": "2021-05-05T08:42:33.634557Z"
    }
   },
   "outputs": [],
   "source": [
    "class LabelConverter(object):\n",
    "     \"\"\" Convert between text-label and text-index \"\"\"\n",
    "\n",
    "     def __init__(self, character):\n",
    "         self.character = \"-\" + character\n",
    "         self.label_map = dict()\n",
    "         for i, char in enumerate(self.character):\n",
    "             self.label_map[char] = i\n",
    "\n",
    "     def encode(self, text):\n",
    "         encoded_label = []\n",
    "         for i, char in enumerate(text):\n",
    "             if i > 0 and char == text[i - 1]:\n",
    "                 encoded_label.append(0)    # 같은 문자 사이에 공백 문자 label을 삽입\n",
    "             encoded_label.append(self.label_map[char])\n",
    "         return np.array(encoded_label)\n",
    "\n",
    "     def decode(self, encoded_label):\n",
    "         target_characters = list(self.character)\n",
    "         decoded_label = \"\"\n",
    "         for encode in encoded_label:\n",
    "             decoded_label += self.character[encode]\n",
    "         return decoded_label"
   ]
  },
  {
   "cell_type": "markdown",
   "id": "convinced-tooth",
   "metadata": {},
   "source": [
    "아래에서 'HELLO'를 Encode한 후 Decode가 정상적으로 되는지 확인해보도록 하자."
   ]
  },
  {
   "cell_type": "code",
   "execution_count": 16,
   "id": "figured-cartridge",
   "metadata": {
    "ExecuteTime": {
     "end_time": "2021-05-05T08:42:41.567046Z",
     "start_time": "2021-05-05T08:42:41.544501Z"
    }
   },
   "outputs": [
    {
     "name": "stdout",
     "output_type": "stream",
     "text": [
      "Encdoded_text:  [ 8  5 12  0 12 15]\n",
      "Decoded_text:  HEL-LO\n"
     ]
    }
   ],
   "source": [
    "label_converter = LabelConverter(TARGET_CHARACTERS)\n",
    "\n",
    "encdoded_text = label_converter.encode('HELLO')\n",
    "print(\"Encdoded_text: \", encdoded_text)\n",
    "decoded_text = label_converter.decode(encdoded_text)\n",
    "print(\"Decoded_text: \", decoded_text)"
   ]
  },
  {
   "cell_type": "markdown",
   "id": "driven-concord",
   "metadata": {},
   "source": [
    "동일한 글자 __`'L'`__이 연속될 때, 그 사이에 공백 문자가 포함된 것을 확인할 수 있다."
   ]
  },
  {
   "cell_type": "markdown",
   "id": "subject-folks",
   "metadata": {},
   "source": [
    "## 7. Recognition model (4) Build CRNN model\n",
    "\n",
    "이제 입력과 출력을 준비했으니 모델을 만들어볼 차례이다. Keras에서 제공하는 **`K.ctc_batch_cost()`**를 활용해서 loss를 계산하도록 **`ctc_lambda_func`**를 아래와 같이 만들어두었다."
   ]
  },
  {
   "cell_type": "code",
   "execution_count": 17,
   "id": "accessory-starter",
   "metadata": {
    "ExecuteTime": {
     "end_time": "2021-05-05T08:42:43.881220Z",
     "start_time": "2021-05-05T08:42:43.872691Z"
    }
   },
   "outputs": [],
   "source": [
    "def ctc_lambda_func(args): # CTC loss를 계산하기 위한 Lambda 함수\n",
    "    labels, y_pred, label_length, input_length = args\n",
    "    y_pred = y_pred[:, 2:, :]\n",
    "    return K.ctc_batch_cost(labels, y_pred, input_length, label_length)"
   ]
  },
  {
   "cell_type": "markdown",
   "id": "simple-genre",
   "metadata": {},
   "source": [
    "여기서 잠시 Keras의 **`K.ctc_batch_cost()`** 함수에 대해 짚고 넘어가자. 비록 우리가 이 함수 내부를 직접 구현하진 않겠지만 CTC Loss 함수를 구현하기 위해 우리가 이 함수에 인자로 어떤 값을 넘겨야 하는지는 명확하게 파악해야 한다.\n",
    "\n",
    "- 참고 : [Tensorflow Tutorial - ctc_batch_cost](https://www.tensorflow.org/versions/r2.2/api_docs/python/tf/keras/backend/ctc_batch_cost)\n",
    "\n",
    "<img src=\"./image/ctc.png\" />\n",
    "\n",
    "우리는 CTC Loss를 활용해야 하는 모델이 위 그림과 같은 상황을 다루기 위한 것임을 알고 있다. 입력의 길이 T와 라벨의 길이 U의 단위가 일치하지 않을 때, 그래서 라벨은 **`APPLE`**이지만 모델이 출력한 결과는 **`AAAPPPPLLLLEE`** 처럼 나올 수 있다. 이런 상황이 이미지에서 텍스트 라벨을 추론해야 하는 Text recognition 태스크에 동일하게 적용된다.\n",
    "\n",
    "> _만약 모델이 **`AAAPPPPLLLLEE`**을 출력했다고 하자. 이때 추론 결과는 **`APLE`** 일지 **`APPLE`**일지 구분이 가능할까? 이 경우에는 **`APLE`**로 결론을 내리게 될 것이다. 그러므로 추론 결과가 **`APPLE`**이 되게 하려면 이미지의 라벨은 **`AP-PLE`**로 보정해 주어야 한다. 그래서 모델이 **`AAAPP-PPLLLEE`**로 출력을 한다면 추론 결과는 **`APPLE`**이 되는 것이다. 이런 이유로 이전 스텝에서 **`LabelConverter.encode()`** 메소드에 공백문자 처리로직을 포함했던 것이다._\n",
    "\n",
    "위 텐서플로우 튜토리얼에 따르면, **`K.ctc_batch_cost(y_true, y_pred, input_length, label_length)`**에는 4가지 인자가 존재한다. 각각의 인자의 의미는 다음과 같다.\n",
    "\n",
    "- **`y_true`**: tensor (samples, max_string_length) containing the truth labels.\n",
    "- **`y_pred`**: tensor (samples, time_steps, num_categories) containing the prediction, or output of the softmax.\n",
    "- **`input_length tensor`**: (samples, 1) containing the sequence length for each batch item in y_pred.\n",
    "- **`label_length tensor`**: (samples, 1) containing the sequence length for each batch item in y_true.\n",
    "\n",
    "(여기서 samples는 배치사이즈를 의미한다.)\n",
    "\n",
    "<img src=\"./image/example.png\" />\n",
    "\n",
    "위 그림은 이전 스텝에서 살펴본 실제 데이터셋 예시이다. 이 케이스를 예로 들었을 때 위 인자들은 다음과 같이 될 것이다.\n",
    "\n",
    "- **`y_true`**: 실제 라벨 **`LUBE`**. 그러나 텍스트 라벨 그대로가 아니라, 각 글자를 One-hot 인코딩한 형태로서, max_string_length 값은 모델에서 22로 지정할 예정\n",
    "- **`y_pred`**: 우리가 만들 RCNN **`모델의 출력 결과`**. 그러나 길이는 4가 아니라 우리가 만들 RNN의 최종 출력 길이로서 24가 될 예정\n",
    "- **`input_length tensor`**: 모델 입력 길이 T로서, 이 경우에는 텍스트의 width인 **`74`**\n",
    "- **`label_length tensor`**: 라벨의 실제 정답 길이 U로서, 이 경우에는 **`4`**\n",
    "\n",
    "---\n",
    "\n",
    "이제, **`K.ctc_batch_cost()`**를 활용하여, **`image_input`**을 입력으로 그리고 마지막 Label을 'output'이라는 이름으로 출력하는 레이어를 갖도록 모델을 만드는 함수 **`build_crnn_model()`**을 구현해보자."
   ]
  },
  {
   "cell_type": "code",
   "execution_count": 18,
   "id": "double-agenda",
   "metadata": {
    "ExecuteTime": {
     "end_time": "2021-05-05T08:42:47.020876Z",
     "start_time": "2021-05-05T08:42:46.996235Z"
    }
   },
   "outputs": [],
   "source": [
    "def build_crnn_model(input_shape=(100,32,3), characters=TARGET_CHARACTERS):\n",
    "    num_chars = len(characters)+2\n",
    "    image_input = layers.Input(shape=input_shape, dtype='float32', name='input_image')\n",
    "\n",
    "    # Build CRNN model\n",
    "    conv = layers.Conv2D(64, (3, 3), activation='relu', padding='same', kernel_initializer='he_normal')(image_input)\n",
    "    conv = layers.MaxPooling2D(pool_size=(2, 2))(conv)\n",
    "    conv = layers.Conv2D(128, (3, 3), activation='relu', padding='same', kernel_initializer='he_normal')(conv)\n",
    "    conv = layers.MaxPooling2D(pool_size=(2, 2))(conv)\n",
    "    conv = layers.Conv2D(256, (3, 3), activation='relu', padding='same', kernel_initializer='he_normal')(conv)\n",
    "    conv = layers.Conv2D(256, (3, 3), activation='relu', padding='same', kernel_initializer='he_normal')(conv)\n",
    "    conv = layers.MaxPooling2D(pool_size=(1, 2))(conv)\n",
    "    conv = layers.Conv2D(512, (3, 3), activation='relu', padding='same', kernel_initializer='he_normal')(conv)\n",
    "    conv = layers.BatchNormalization()(conv)\n",
    "    conv = layers.Conv2D(512, (3, 3), activation='relu', padding='same', kernel_initializer='he_normal')(conv)\n",
    "    conv = layers.BatchNormalization()(conv)\n",
    "    conv = layers.MaxPooling2D(pool_size=(1, 2))(conv)     \n",
    "    feature = layers.Conv2D(512, (2, 2), activation='relu', kernel_initializer='he_normal')(conv)\n",
    "    sequnce = layers.Reshape(target_shape=(24, 512))(feature)\n",
    "    sequnce = layers.Dense(64, activation='relu')(sequnce)\n",
    "    sequnce = layers.Bidirectional(layers.LSTM(256, return_sequences=True))(sequnce)\n",
    "    sequnce = layers.Bidirectional(layers.LSTM(256, return_sequences=True))(sequnce)\n",
    "    y_pred = layers.Dense(num_chars, activation='softmax', name='output')(sequnce)\n",
    "\n",
    "    labels = layers.Input(shape=[22], dtype='int64', name='label')\n",
    "    input_length = layers.Input(shape=[1], dtype='int64', name='input_length')\n",
    "    label_length = layers.Input(shape=[1], dtype='int64', name='label_length')\n",
    "    loss_out = layers.Lambda(ctc_lambda_func, output_shape=(1,), name=\"ctc\")(\n",
    "        [labels, y_pred, label_length, input_length]\n",
    "    )\n",
    "    model_input = [image_input, labels, input_length, label_length]\n",
    "    model = Model(\n",
    "        inputs=model_input,\n",
    "        outputs=loss_out\n",
    "    )\n",
    "    y_func = tf.keras.backend.function(image_input, [y_pred])\n",
    "    return model, y_func"
   ]
  },
  {
   "cell_type": "markdown",
   "id": "specialized-county",
   "metadata": {},
   "source": [
    "## 8. Recognition model (5) Train & Inference\n",
    "\n",
    "이제 앞에서 정의한 **`MJDatasetSequence`**로 데이터를 적절히 분리하여 구성된 데이터셋을 통해 학습을 시켜보자. 우리는 시간이 많지 않으니 적절한 Epoch를 설정하여 모델을 학습시켜보자! 1Epoch에 10초 정도 소요될 것이다."
   ]
  },
  {
   "cell_type": "code",
   "execution_count": 19,
   "id": "digital-mainstream",
   "metadata": {
    "ExecuteTime": {
     "end_time": "2021-05-05T09:02:48.438928Z",
     "start_time": "2021-05-05T08:42:48.692347Z"
    }
   },
   "outputs": [
    {
     "name": "stdout",
     "output_type": "stream",
     "text": [
      "Epoch 1/100\n",
      "63/63 [==============================] - 34s 186ms/step - loss: 34.3142 - val_loss: 27.0527\n",
      "\n",
      "Epoch 00001: val_loss improved from inf to 27.05271, saving model to /home/aiffel-dj10/aiffel/ocr/model_checkpoint.hdf5\n",
      "Epoch 2/100\n",
      "63/63 [==============================] - 10s 162ms/step - loss: 26.8003 - val_loss: 26.8556\n",
      "\n",
      "Epoch 00002: val_loss improved from 27.05271 to 26.85558, saving model to /home/aiffel-dj10/aiffel/ocr/model_checkpoint.hdf5\n",
      "Epoch 3/100\n",
      "63/63 [==============================] - 10s 164ms/step - loss: 26.2296 - val_loss: 26.1449\n",
      "\n",
      "Epoch 00003: val_loss improved from 26.85558 to 26.14486, saving model to /home/aiffel-dj10/aiffel/ocr/model_checkpoint.hdf5\n",
      "Epoch 4/100\n",
      "63/63 [==============================] - 11s 166ms/step - loss: 25.8257 - val_loss: 26.5932\n",
      "\n",
      "Epoch 00004: val_loss did not improve from 26.14486\n",
      "Epoch 5/100\n",
      "63/63 [==============================] - 10s 165ms/step - loss: 25.2634 - val_loss: 25.6903\n",
      "\n",
      "Epoch 00005: val_loss improved from 26.14486 to 25.69035, saving model to /home/aiffel-dj10/aiffel/ocr/model_checkpoint.hdf5\n",
      "Epoch 6/100\n",
      "63/63 [==============================] - 10s 164ms/step - loss: 25.0330 - val_loss: 26.4674\n",
      "\n",
      "Epoch 00006: val_loss did not improve from 25.69035\n",
      "Epoch 7/100\n",
      "63/63 [==============================] - 11s 170ms/step - loss: 24.5181 - val_loss: 24.3478\n",
      "\n",
      "Epoch 00007: val_loss improved from 25.69035 to 24.34780, saving model to /home/aiffel-dj10/aiffel/ocr/model_checkpoint.hdf5\n",
      "Epoch 8/100\n",
      "63/63 [==============================] - 11s 166ms/step - loss: 23.8391 - val_loss: 26.1423\n",
      "\n",
      "Epoch 00008: val_loss did not improve from 24.34780\n",
      "Epoch 9/100\n",
      "63/63 [==============================] - 10s 165ms/step - loss: 22.9503 - val_loss: 23.0474\n",
      "\n",
      "Epoch 00009: val_loss improved from 24.34780 to 23.04742, saving model to /home/aiffel-dj10/aiffel/ocr/model_checkpoint.hdf5\n",
      "Epoch 10/100\n",
      "63/63 [==============================] - 11s 169ms/step - loss: 21.8809 - val_loss: 23.3493\n",
      "\n",
      "Epoch 00010: val_loss did not improve from 23.04742\n",
      "Epoch 11/100\n",
      "63/63 [==============================] - 10s 165ms/step - loss: 20.2573 - val_loss: 19.7223\n",
      "\n",
      "Epoch 00011: val_loss improved from 23.04742 to 19.72231, saving model to /home/aiffel-dj10/aiffel/ocr/model_checkpoint.hdf5\n",
      "Epoch 12/100\n",
      "63/63 [==============================] - 10s 166ms/step - loss: 17.8112 - val_loss: 17.7053\n",
      "\n",
      "Epoch 00012: val_loss improved from 19.72231 to 17.70530, saving model to /home/aiffel-dj10/aiffel/ocr/model_checkpoint.hdf5\n",
      "Epoch 13/100\n",
      "63/63 [==============================] - 11s 169ms/step - loss: 15.5436 - val_loss: 17.2960\n",
      "\n",
      "Epoch 00013: val_loss improved from 17.70530 to 17.29597, saving model to /home/aiffel-dj10/aiffel/ocr/model_checkpoint.hdf5\n",
      "Epoch 14/100\n",
      "63/63 [==============================] - 11s 166ms/step - loss: 13.3058 - val_loss: 12.8158\n",
      "\n",
      "Epoch 00014: val_loss improved from 17.29597 to 12.81584, saving model to /home/aiffel-dj10/aiffel/ocr/model_checkpoint.hdf5\n",
      "Epoch 15/100\n",
      "63/63 [==============================] - 11s 166ms/step - loss: 11.7484 - val_loss: 12.0169\n",
      "\n",
      "Epoch 00015: val_loss improved from 12.81584 to 12.01694, saving model to /home/aiffel-dj10/aiffel/ocr/model_checkpoint.hdf5\n",
      "Epoch 16/100\n",
      "63/63 [==============================] - 12s 197ms/step - loss: 10.5647 - val_loss: 11.0375\n",
      "\n",
      "Epoch 00016: val_loss improved from 12.01694 to 11.03747, saving model to /home/aiffel-dj10/aiffel/ocr/model_checkpoint.hdf5\n",
      "Epoch 17/100\n",
      "63/63 [==============================] - 12s 189ms/step - loss: 9.7889 - val_loss: 10.3527\n",
      "\n",
      "Epoch 00017: val_loss improved from 11.03747 to 10.35273, saving model to /home/aiffel-dj10/aiffel/ocr/model_checkpoint.hdf5\n",
      "Epoch 18/100\n",
      "63/63 [==============================] - 11s 173ms/step - loss: 8.8047 - val_loss: 10.0016\n",
      "\n",
      "Epoch 00018: val_loss improved from 10.35273 to 10.00163, saving model to /home/aiffel-dj10/aiffel/ocr/model_checkpoint.hdf5\n",
      "Epoch 19/100\n",
      "63/63 [==============================] - 11s 173ms/step - loss: 8.5051 - val_loss: 9.5144\n",
      "\n",
      "Epoch 00019: val_loss improved from 10.00163 to 9.51439, saving model to /home/aiffel-dj10/aiffel/ocr/model_checkpoint.hdf5\n",
      "Epoch 20/100\n",
      "63/63 [==============================] - 11s 168ms/step - loss: 8.0108 - val_loss: 8.6577\n",
      "\n",
      "Epoch 00020: val_loss improved from 9.51439 to 8.65765, saving model to /home/aiffel-dj10/aiffel/ocr/model_checkpoint.hdf5\n",
      "Epoch 21/100\n",
      "63/63 [==============================] - 12s 187ms/step - loss: 7.4168 - val_loss: 8.4030\n",
      "\n",
      "Epoch 00021: val_loss improved from 8.65765 to 8.40301, saving model to /home/aiffel-dj10/aiffel/ocr/model_checkpoint.hdf5\n",
      "Epoch 22/100\n",
      "63/63 [==============================] - 11s 173ms/step - loss: 7.4958 - val_loss: 7.8280\n",
      "\n",
      "Epoch 00022: val_loss improved from 8.40301 to 7.82800, saving model to /home/aiffel-dj10/aiffel/ocr/model_checkpoint.hdf5\n",
      "Epoch 23/100\n",
      "63/63 [==============================] - 11s 181ms/step - loss: 6.8012 - val_loss: 7.0859\n",
      "\n",
      "Epoch 00023: val_loss improved from 7.82800 to 7.08588, saving model to /home/aiffel-dj10/aiffel/ocr/model_checkpoint.hdf5\n",
      "Epoch 24/100\n",
      "63/63 [==============================] - 9s 145ms/step - loss: 6.5606 - val_loss: 7.3341\n",
      "\n",
      "Epoch 00024: val_loss did not improve from 7.08588\n",
      "Epoch 25/100\n",
      "63/63 [==============================] - 9s 149ms/step - loss: 6.4598 - val_loss: 6.7368\n",
      "\n",
      "Epoch 00025: val_loss improved from 7.08588 to 6.73680, saving model to /home/aiffel-dj10/aiffel/ocr/model_checkpoint.hdf5\n",
      "Epoch 26/100\n",
      "63/63 [==============================] - 9s 145ms/step - loss: 6.3022 - val_loss: 6.8219\n",
      "\n",
      "Epoch 00026: val_loss did not improve from 6.73680\n",
      "Epoch 27/100\n",
      "63/63 [==============================] - 9s 146ms/step - loss: 5.9854 - val_loss: 6.3142\n",
      "\n",
      "Epoch 00027: val_loss improved from 6.73680 to 6.31422, saving model to /home/aiffel-dj10/aiffel/ocr/model_checkpoint.hdf5\n",
      "Epoch 28/100\n",
      "63/63 [==============================] - 9s 149ms/step - loss: 5.7960 - val_loss: 5.8803\n",
      "\n",
      "Epoch 00028: val_loss improved from 6.31422 to 5.88032, saving model to /home/aiffel-dj10/aiffel/ocr/model_checkpoint.hdf5\n",
      "Epoch 29/100\n",
      "63/63 [==============================] - 9s 144ms/step - loss: 5.8338 - val_loss: 5.8777\n",
      "\n",
      "Epoch 00029: val_loss improved from 5.88032 to 5.87772, saving model to /home/aiffel-dj10/aiffel/ocr/model_checkpoint.hdf5\n",
      "Epoch 30/100\n",
      "63/63 [==============================] - 9s 144ms/step - loss: 5.7015 - val_loss: 5.6331\n",
      "\n",
      "Epoch 00030: val_loss improved from 5.87772 to 5.63308, saving model to /home/aiffel-dj10/aiffel/ocr/model_checkpoint.hdf5\n",
      "Epoch 31/100\n",
      "63/63 [==============================] - 9s 150ms/step - loss: 5.5408 - val_loss: 5.4263\n",
      "\n",
      "Epoch 00031: val_loss improved from 5.63308 to 5.42630, saving model to /home/aiffel-dj10/aiffel/ocr/model_checkpoint.hdf5\n",
      "Epoch 32/100\n",
      "63/63 [==============================] - 9s 144ms/step - loss: 5.4690 - val_loss: 5.5654\n",
      "\n",
      "Epoch 00032: val_loss did not improve from 5.42630\n",
      "Epoch 33/100\n",
      "63/63 [==============================] - 9s 144ms/step - loss: 5.1666 - val_loss: 5.3506\n",
      "\n",
      "Epoch 00033: val_loss improved from 5.42630 to 5.35065, saving model to /home/aiffel-dj10/aiffel/ocr/model_checkpoint.hdf5\n",
      "Epoch 34/100\n",
      "63/63 [==============================] - 9s 148ms/step - loss: 5.0428 - val_loss: 5.3849\n",
      "\n",
      "Epoch 00034: val_loss did not improve from 5.35065\n",
      "Epoch 35/100\n",
      "63/63 [==============================] - 9s 144ms/step - loss: 4.7776 - val_loss: 5.5253\n",
      "\n",
      "Epoch 00035: val_loss did not improve from 5.35065\n",
      "Epoch 36/100\n",
      "63/63 [==============================] - 9s 144ms/step - loss: 4.7834 - val_loss: 5.0394\n",
      "\n",
      "Epoch 00036: val_loss improved from 5.35065 to 5.03944, saving model to /home/aiffel-dj10/aiffel/ocr/model_checkpoint.hdf5\n",
      "Epoch 37/100\n",
      "63/63 [==============================] - 9s 146ms/step - loss: 4.8367 - val_loss: 5.2220\n",
      "\n",
      "Epoch 00037: val_loss did not improve from 5.03944\n",
      "Epoch 38/100\n",
      "63/63 [==============================] - 9s 148ms/step - loss: 4.8207 - val_loss: 5.0378\n",
      "\n",
      "Epoch 00038: val_loss improved from 5.03944 to 5.03781, saving model to /home/aiffel-dj10/aiffel/ocr/model_checkpoint.hdf5\n",
      "Epoch 39/100\n",
      "63/63 [==============================] - 9s 145ms/step - loss: 4.6148 - val_loss: 4.7145\n",
      "\n",
      "Epoch 00039: val_loss improved from 5.03781 to 4.71451, saving model to /home/aiffel-dj10/aiffel/ocr/model_checkpoint.hdf5\n",
      "Epoch 40/100\n",
      "63/63 [==============================] - 9s 144ms/step - loss: 4.5211 - val_loss: 4.6915\n",
      "\n",
      "Epoch 00040: val_loss improved from 4.71451 to 4.69149, saving model to /home/aiffel-dj10/aiffel/ocr/model_checkpoint.hdf5\n",
      "Epoch 41/100\n",
      "63/63 [==============================] - 9s 149ms/step - loss: 4.6125 - val_loss: 4.8089\n",
      "\n",
      "Epoch 00041: val_loss did not improve from 4.69149\n",
      "Epoch 42/100\n",
      "63/63 [==============================] - 9s 145ms/step - loss: 4.4508 - val_loss: 4.7305\n",
      "\n",
      "Epoch 00042: val_loss did not improve from 4.69149\n",
      "Epoch 43/100\n",
      "63/63 [==============================] - 9s 144ms/step - loss: 4.3779 - val_loss: 4.5189\n",
      "\n",
      "Epoch 00043: val_loss improved from 4.69149 to 4.51886, saving model to /home/aiffel-dj10/aiffel/ocr/model_checkpoint.hdf5\n",
      "Epoch 44/100\n",
      "63/63 [==============================] - 9s 144ms/step - loss: 4.4841 - val_loss: 4.3487\n",
      "\n",
      "Epoch 00044: val_loss improved from 4.51886 to 4.34870, saving model to /home/aiffel-dj10/aiffel/ocr/model_checkpoint.hdf5\n",
      "Epoch 45/100\n",
      "63/63 [==============================] - 9s 149ms/step - loss: 4.1367 - val_loss: 4.6615\n",
      "\n",
      "Epoch 00045: val_loss did not improve from 4.34870\n",
      "Epoch 46/100\n",
      "63/63 [==============================] - 9s 144ms/step - loss: 4.1829 - val_loss: 4.3802\n",
      "\n",
      "Epoch 00046: val_loss did not improve from 4.34870\n",
      "Epoch 47/100\n",
      "63/63 [==============================] - 9s 144ms/step - loss: 4.2038 - val_loss: 4.1894\n",
      "\n",
      "Epoch 00047: val_loss improved from 4.34870 to 4.18939, saving model to /home/aiffel-dj10/aiffel/ocr/model_checkpoint.hdf5\n",
      "Epoch 48/100\n",
      "63/63 [==============================] - 9s 150ms/step - loss: 4.0760 - val_loss: 4.2126\n",
      "\n",
      "Epoch 00048: val_loss did not improve from 4.18939\n",
      "Epoch 49/100\n",
      "63/63 [==============================] - 9s 145ms/step - loss: 4.1591 - val_loss: 4.3088\n",
      "\n",
      "Epoch 00049: val_loss did not improve from 4.18939\n",
      "Epoch 50/100\n",
      "63/63 [==============================] - 9s 146ms/step - loss: 4.0319 - val_loss: 4.2128\n",
      "\n",
      "Epoch 00050: val_loss did not improve from 4.18939\n",
      "Epoch 51/100\n",
      "63/63 [==============================] - 9s 144ms/step - loss: 4.0830 - val_loss: 4.1757\n",
      "\n",
      "Epoch 00051: val_loss improved from 4.18939 to 4.17569, saving model to /home/aiffel-dj10/aiffel/ocr/model_checkpoint.hdf5\n",
      "Epoch 52/100\n",
      "63/63 [==============================] - 9s 149ms/step - loss: 3.9452 - val_loss: 4.2338\n",
      "\n",
      "Epoch 00052: val_loss did not improve from 4.17569\n",
      "Epoch 53/100\n",
      "63/63 [==============================] - 9s 144ms/step - loss: 3.8305 - val_loss: 3.9303\n",
      "\n",
      "Epoch 00053: val_loss improved from 4.17569 to 3.93031, saving model to /home/aiffel-dj10/aiffel/ocr/model_checkpoint.hdf5\n",
      "Epoch 54/100\n",
      "63/63 [==============================] - 9s 144ms/step - loss: 3.7445 - val_loss: 4.0114\n",
      "\n",
      "Epoch 00054: val_loss did not improve from 3.93031\n",
      "Epoch 55/100\n",
      "63/63 [==============================] - 9s 144ms/step - loss: 3.7823 - val_loss: 3.8079\n",
      "\n",
      "Epoch 00055: val_loss improved from 3.93031 to 3.80789, saving model to /home/aiffel-dj10/aiffel/ocr/model_checkpoint.hdf5\n",
      "Epoch 56/100\n",
      "63/63 [==============================] - 9s 148ms/step - loss: 3.7655 - val_loss: 3.9472\n",
      "\n",
      "Epoch 00056: val_loss did not improve from 3.80789\n",
      "Epoch 57/100\n",
      "63/63 [==============================] - 9s 144ms/step - loss: 3.9456 - val_loss: 3.7596\n",
      "\n",
      "Epoch 00057: val_loss improved from 3.80789 to 3.75962, saving model to /home/aiffel-dj10/aiffel/ocr/model_checkpoint.hdf5\n",
      "Epoch 58/100\n",
      "63/63 [==============================] - 9s 145ms/step - loss: 3.7182 - val_loss: 3.8254\n",
      "\n",
      "Epoch 00058: val_loss did not improve from 3.75962\n",
      "Epoch 59/100\n",
      "63/63 [==============================] - 9s 149ms/step - loss: 3.4378 - val_loss: 3.7806\n",
      "\n",
      "Epoch 00059: val_loss did not improve from 3.75962\n",
      "Epoch 60/100\n",
      "63/63 [==============================] - 9s 148ms/step - loss: 3.5846 - val_loss: 3.8421\n",
      "\n",
      "Epoch 00060: val_loss did not improve from 3.75962\n",
      "Epoch 61/100\n",
      "63/63 [==============================] - 9s 144ms/step - loss: 3.3174 - val_loss: 3.7845\n",
      "\n",
      "Epoch 00061: val_loss did not improve from 3.75962\n",
      "Epoch 62/100\n",
      "63/63 [==============================] - 9s 145ms/step - loss: 3.4661 - val_loss: 4.2632\n",
      "\n",
      "Epoch 00062: val_loss did not improve from 3.75962\n",
      "Epoch 63/100\n",
      "63/63 [==============================] - 9s 149ms/step - loss: 3.5533 - val_loss: 3.6767\n",
      "\n",
      "Epoch 00063: val_loss improved from 3.75962 to 3.67674, saving model to /home/aiffel-dj10/aiffel/ocr/model_checkpoint.hdf5\n",
      "Epoch 64/100\n",
      "63/63 [==============================] - 9s 144ms/step - loss: 3.3140 - val_loss: 3.5522\n",
      "\n",
      "Epoch 00064: val_loss improved from 3.67674 to 3.55224, saving model to /home/aiffel-dj10/aiffel/ocr/model_checkpoint.hdf5\n",
      "Epoch 65/100\n",
      "63/63 [==============================] - 9s 145ms/step - loss: 3.4637 - val_loss: 3.6214\n",
      "\n",
      "Epoch 00065: val_loss did not improve from 3.55224\n",
      "Epoch 66/100\n",
      "63/63 [==============================] - 9s 149ms/step - loss: 3.4557 - val_loss: 3.6194\n",
      "\n",
      "Epoch 00066: val_loss did not improve from 3.55224\n",
      "Epoch 67/100\n",
      "63/63 [==============================] - 9s 145ms/step - loss: 3.3162 - val_loss: 3.6118\n",
      "\n",
      "Epoch 00067: val_loss did not improve from 3.55224\n",
      "Epoch 68/100\n",
      "63/63 [==============================] - 9s 144ms/step - loss: 3.3773 - val_loss: 3.5580\n",
      "\n",
      "Epoch 00068: val_loss did not improve from 3.55224\n",
      "Epoch 69/100\n",
      "63/63 [==============================] - 9s 146ms/step - loss: 3.4932 - val_loss: 3.4636\n",
      "\n",
      "Epoch 00069: val_loss improved from 3.55224 to 3.46361, saving model to /home/aiffel-dj10/aiffel/ocr/model_checkpoint.hdf5\n",
      "Epoch 70/100\n",
      "63/63 [==============================] - 9s 149ms/step - loss: 3.1384 - val_loss: 3.5171\n",
      "\n",
      "Epoch 00070: val_loss did not improve from 3.46361\n",
      "Epoch 71/100\n",
      "63/63 [==============================] - 9s 145ms/step - loss: 3.2832 - val_loss: 3.4009\n",
      "\n",
      "Epoch 00071: val_loss improved from 3.46361 to 3.40093, saving model to /home/aiffel-dj10/aiffel/ocr/model_checkpoint.hdf5\n",
      "Epoch 72/100\n",
      "63/63 [==============================] - 9s 145ms/step - loss: 3.2727 - val_loss: 3.3396\n",
      "\n",
      "Epoch 00072: val_loss improved from 3.40093 to 3.33958, saving model to /home/aiffel-dj10/aiffel/ocr/model_checkpoint.hdf5\n",
      "Epoch 73/100\n",
      "63/63 [==============================] - 9s 148ms/step - loss: 3.2073 - val_loss: 3.4310\n",
      "\n",
      "Epoch 00073: val_loss did not improve from 3.33958\n",
      "Epoch 74/100\n",
      "63/63 [==============================] - 9s 143ms/step - loss: 3.3201 - val_loss: 3.2805\n",
      "\n",
      "Epoch 00074: val_loss improved from 3.33958 to 3.28050, saving model to /home/aiffel-dj10/aiffel/ocr/model_checkpoint.hdf5\n",
      "Epoch 75/100\n",
      "63/63 [==============================] - 9s 145ms/step - loss: 3.1325 - val_loss: 3.3157\n",
      "\n",
      "Epoch 00075: val_loss did not improve from 3.28050\n",
      "Epoch 76/100\n",
      "63/63 [==============================] - 9s 145ms/step - loss: 2.9764 - val_loss: 3.3407\n",
      "\n",
      "Epoch 00076: val_loss did not improve from 3.28050\n",
      "Epoch 77/100\n",
      "63/63 [==============================] - 9s 150ms/step - loss: 3.1796 - val_loss: 3.2049\n",
      "\n",
      "Epoch 00077: val_loss improved from 3.28050 to 3.20486, saving model to /home/aiffel-dj10/aiffel/ocr/model_checkpoint.hdf5\n",
      "Epoch 78/100\n",
      "63/63 [==============================] - 9s 145ms/step - loss: 3.0686 - val_loss: 3.3732\n",
      "\n",
      "Epoch 00078: val_loss did not improve from 3.20486\n",
      "Epoch 79/100\n",
      "63/63 [==============================] - 9s 144ms/step - loss: 3.2799 - val_loss: 3.2386\n",
      "\n",
      "Epoch 00079: val_loss did not improve from 3.20486\n",
      "Epoch 80/100\n",
      "63/63 [==============================] - 9s 145ms/step - loss: 2.9909 - val_loss: 3.1682\n",
      "\n",
      "Epoch 00080: val_loss improved from 3.20486 to 3.16823, saving model to /home/aiffel-dj10/aiffel/ocr/model_checkpoint.hdf5\n",
      "Epoch 81/100\n",
      "63/63 [==============================] - 9s 148ms/step - loss: 3.2771 - val_loss: 3.1701\n",
      "\n",
      "Epoch 00081: val_loss did not improve from 3.16823\n",
      "Epoch 82/100\n",
      "63/63 [==============================] - 9s 145ms/step - loss: 3.1028 - val_loss: 3.2443\n",
      "\n",
      "Epoch 00082: val_loss did not improve from 3.16823\n",
      "Epoch 83/100\n",
      "63/63 [==============================] - 9s 145ms/step - loss: 2.9004 - val_loss: 3.1842\n",
      "\n",
      "Epoch 00083: val_loss did not improve from 3.16823\n",
      "Epoch 84/100\n",
      "63/63 [==============================] - 9s 145ms/step - loss: 3.1669 - val_loss: 3.0921\n",
      "\n",
      "Epoch 00084: val_loss improved from 3.16823 to 3.09206, saving model to /home/aiffel-dj10/aiffel/ocr/model_checkpoint.hdf5\n",
      "Epoch 85/100\n"
     ]
    },
    {
     "name": "stdout",
     "output_type": "stream",
     "text": [
      "63/63 [==============================] - 9s 149ms/step - loss: 3.1048 - val_loss: 3.1593\n",
      "\n",
      "Epoch 00085: val_loss did not improve from 3.09206\n",
      "Epoch 86/100\n",
      "63/63 [==============================] - 9s 144ms/step - loss: 3.1317 - val_loss: 3.0150\n",
      "\n",
      "Epoch 00086: val_loss improved from 3.09206 to 3.01496, saving model to /home/aiffel-dj10/aiffel/ocr/model_checkpoint.hdf5\n",
      "Epoch 87/100\n",
      "63/63 [==============================] - 9s 144ms/step - loss: 2.8504 - val_loss: 3.2349\n",
      "\n",
      "Epoch 00087: val_loss did not improve from 3.01496\n",
      "Epoch 88/100\n",
      "63/63 [==============================] - 9s 144ms/step - loss: 2.8039 - val_loss: 3.0285\n",
      "\n",
      "Epoch 00088: val_loss did not improve from 3.01496\n",
      "Epoch 89/100\n",
      "63/63 [==============================] - 9s 149ms/step - loss: 2.7474 - val_loss: 2.9979\n",
      "\n",
      "Epoch 00089: val_loss improved from 3.01496 to 2.99794, saving model to /home/aiffel-dj10/aiffel/ocr/model_checkpoint.hdf5\n",
      "Epoch 90/100\n",
      "63/63 [==============================] - 9s 144ms/step - loss: 2.7014 - val_loss: 2.9940\n",
      "\n",
      "Epoch 00090: val_loss improved from 2.99794 to 2.99396, saving model to /home/aiffel-dj10/aiffel/ocr/model_checkpoint.hdf5\n",
      "Epoch 91/100\n",
      "63/63 [==============================] - 9s 144ms/step - loss: 2.9858 - val_loss: 3.0753\n",
      "\n",
      "Epoch 00091: val_loss did not improve from 2.99396\n",
      "Epoch 92/100\n",
      "63/63 [==============================] - 9s 148ms/step - loss: 2.7049 - val_loss: 3.0105\n",
      "\n",
      "Epoch 00092: val_loss did not improve from 2.99396\n",
      "Epoch 93/100\n",
      "63/63 [==============================] - 9s 143ms/step - loss: 2.8346 - val_loss: 2.9430\n",
      "\n",
      "Epoch 00093: val_loss improved from 2.99396 to 2.94305, saving model to /home/aiffel-dj10/aiffel/ocr/model_checkpoint.hdf5\n",
      "Epoch 94/100\n",
      "63/63 [==============================] - 9s 144ms/step - loss: 2.8078 - val_loss: 2.9109\n",
      "\n",
      "Epoch 00094: val_loss improved from 2.94305 to 2.91087, saving model to /home/aiffel-dj10/aiffel/ocr/model_checkpoint.hdf5\n",
      "Epoch 95/100\n",
      "63/63 [==============================] - 9s 148ms/step - loss: 2.7515 - val_loss: 2.9020\n",
      "\n",
      "Epoch 00095: val_loss improved from 2.91087 to 2.90205, saving model to /home/aiffel-dj10/aiffel/ocr/model_checkpoint.hdf5\n",
      "Epoch 96/100\n",
      "63/63 [==============================] - 9s 144ms/step - loss: 2.8731 - val_loss: 3.0024\n",
      "\n",
      "Epoch 00096: val_loss did not improve from 2.90205\n",
      "Epoch 97/100\n",
      "63/63 [==============================] - 9s 145ms/step - loss: 2.8185 - val_loss: 2.8296\n",
      "\n",
      "Epoch 00097: val_loss improved from 2.90205 to 2.82964, saving model to /home/aiffel-dj10/aiffel/ocr/model_checkpoint.hdf5\n",
      "Epoch 98/100\n",
      "63/63 [==============================] - 9s 148ms/step - loss: 2.6839 - val_loss: 3.0049\n",
      "\n",
      "Epoch 00098: val_loss did not improve from 2.82964\n",
      "Epoch 99/100\n",
      "63/63 [==============================] - 9s 145ms/step - loss: 2.7732 - val_loss: 2.9213\n",
      "\n",
      "Epoch 00099: val_loss did not improve from 2.82964\n",
      "Epoch 100/100\n",
      "63/63 [==============================] - 9s 144ms/step - loss: 2.5590 - val_loss: 2.8121\n",
      "\n",
      "Epoch 00100: val_loss improved from 2.82964 to 2.81211, saving model to /home/aiffel-dj10/aiffel/ocr/model_checkpoint.hdf5\n"
     ]
    },
    {
     "data": {
      "text/plain": [
       "<tensorflow.python.keras.callbacks.History at 0x7fa8ebbc0e50>"
      ]
     },
     "execution_count": 19,
     "metadata": {},
     "output_type": "execute_result"
    }
   ],
   "source": [
    "train_set = MJDatasetSequence(TRAIN_DATA_PATH, label_converter, batch_size=BATCH_SIZE, character=TARGET_CHARACTERS, is_train=True)\n",
    "val_set = MJDatasetSequence(VALID_DATA_PATH, label_converter, batch_size=BATCH_SIZE, character=TARGET_CHARACTERS)\n",
    "\n",
    "checkpoint_path = HOME_DIR + '/model_checkpoint.hdf5'\n",
    "\n",
    "model, y_func = build_crnn_model()\n",
    "sgd = tf.keras.optimizers.Adadelta(lr=0.1, clipnorm=5)\n",
    "model.compile(loss={'ctc': lambda y_true, y_pred: y_pred}, optimizer=sgd)\n",
    "ckp = tf.keras.callbacks.ModelCheckpoint(\n",
    "    checkpoint_path, monitor='val_loss',\n",
    "    verbose=1, save_best_only=True, save_weights_only=True\n",
    ")\n",
    "earlystop = tf.keras.callbacks.EarlyStopping(\n",
    "    monitor='val_loss', min_delta=0, patience=10, verbose=0, mode='min'\n",
    ")\n",
    "model.fit(train_set,\n",
    "        steps_per_epoch=len(val_set),\n",
    "        epochs=100,\n",
    "        validation_data=val_set,\n",
    "        validation_steps=len(val_set),\n",
    "        callbacks=[ckp])"
   ]
  },
  {
   "cell_type": "markdown",
   "id": "swiss-feelings",
   "metadata": {},
   "source": [
    "이제 학습한 모델을 테스트셋에서 inference해보고 이를 눈으로 직접 확인해보자!"
   ]
  },
  {
   "cell_type": "code",
   "execution_count": 20,
   "id": "stuffed-characteristic",
   "metadata": {
    "ExecuteTime": {
     "end_time": "2021-05-05T09:04:06.757959Z",
     "start_time": "2021-05-05T09:03:55.401341Z"
    }
   },
   "outputs": [
    {
     "name": "stdout",
     "output_type": "stream",
     "text": [
      "Result: \t SLINKING9999999999999999\n"
     ]
    },
    {
     "data": {
      "image/png": "[encoded data removed]",
      "text/plain": [
       "<PIL.Image.Image image mode=RGB size=100x32 at 0x7FA8E88DC990>"
      ]
     },
     "metadata": {},
     "output_type": "display_data"
    },
    {
     "name": "stdout",
     "output_type": "stream",
     "text": [
      "Result: \t ALEPPO99999999999999999\n"
     ]
    },
    {
     "data": {
      "image/png": "[encoded data removed]",
      "text/plain": [
       "<PIL.Image.Image image mode=RGB size=100x32 at 0x7FB448B5EA10>"
      ]
     },
     "metadata": {},
     "output_type": "display_data"
    },
    {
     "name": "stdout",
     "output_type": "stream",
     "text": [
      "Result: \t IWENDA999999999999999999\n"
     ]
    },
    {
     "data": {
      "image/png": "[encoded data removed]",
      "text/plain": [
       "<PIL.Image.Image image mode=RGB size=100x32 at 0x7FB4480C8C90>"
      ]
     },
     "metadata": {},
     "output_type": "display_data"
    },
    {
     "name": "stdout",
     "output_type": "stream",
     "text": [
      "Result: \t NATHANS99999999999999999\n"
     ]
    },
    {
     "data": {
      "image/png": "[encoded data removed]",
      "text/plain": [
       "<PIL.Image.Image image mode=RGB size=100x32 at 0x7FB4C404B190>"
      ]
     },
     "metadata": {},
     "output_type": "display_data"
    },
    {
     "name": "stdout",
     "output_type": "stream",
     "text": [
      "Result: \t HALLO999999999999999999\n"
     ]
    },
    {
     "data": {
      "image/png": "[encoded data removed]",
      "text/plain": [
       "<PIL.Image.Image image mode=RGB size=100x32 at 0x7FB448083A90>"
      ]
     },
     "metadata": {},
     "output_type": "display_data"
    },
    {
     "name": "stdout",
     "output_type": "stream",
     "text": [
      "Result: \t HURLS9999999999999999999\n"
     ]
    },
    {
     "data": {
      "image/png": "[encoded data removed]",
      "text/plain": [
       "<PIL.Image.Image image mode=RGB size=100x32 at 0x7FB4480B8F90>"
      ]
     },
     "metadata": {},
     "output_type": "display_data"
    },
    {
     "name": "stdout",
     "output_type": "stream",
     "text": [
      "Result: \t DOWNSIZE9999999999999999\n"
     ]
    },
    {
     "data": {
      "image/png": "[encoded data removed]",
      "text/plain": [
       "<PIL.Image.Image image mode=RGB size=100x32 at 0x7FB448060DD0>"
      ]
     },
     "metadata": {},
     "output_type": "display_data"
    },
    {
     "name": "stdout",
     "output_type": "stream",
     "text": [
      "Result: \t ROBOTIC99999999999999999\n"
     ]
    },
    {
     "data": {
      "image/png": "[encoded data removed]",
      "text/plain": [
       "<PIL.Image.Image image mode=RGB size=100x32 at 0x7FB448072DD0>"
      ]
     },
     "metadata": {},
     "output_type": "display_data"
    },
    {
     "name": "stdout",
     "output_type": "stream",
     "text": [
      "Result: \t SLOPPY99999999999999999\n"
     ]
    },
    {
     "data": {
      "image/png": "[encoded data removed]",
      "text/plain": [
       "<PIL.Image.Image image mode=RGB size=100x32 at 0x7FB437E965D0>"
      ]
     },
     "metadata": {},
     "output_type": "display_data"
    },
    {
     "name": "stdout",
     "output_type": "stream",
     "text": [
      "Result: \t HERMITE99999999999999999\n"
     ]
    },
    {
     "data": {
      "image/png": "[encoded data removed]",
      "text/plain": [
       "<PIL.Image.Image image mode=RGB size=100x32 at 0x7FB4480B1810>"
      ]
     },
     "metadata": {},
     "output_type": "display_data"
    }
   ],
   "source": [
    "from IPython.display import display\n",
    "\n",
    "test_set = MJDatasetSequence(TEST_DATA_PATH, label_converter, batch_size=BATCH_SIZE, character=TARGET_CHARACTERS)\n",
    "\n",
    "model, y_func = build_crnn_model()\n",
    "\n",
    "model.load_weights(checkpoint_path)\n",
    "input_data = model.get_layer('input_image').output\n",
    "y_pred = model.get_layer('output').output\n",
    "model_pred = Model(inputs=input_data, outputs=y_pred)\n",
    "\n",
    "def decode_predict_ctc(out, chars = TARGET_CHARACTERS, top_paths = 1):\n",
    "    results = []\n",
    "    beam_width = 5\n",
    "    if beam_width < top_paths:\n",
    "        beam_width = top_paths\n",
    "    for i in range(top_paths):\n",
    "        indexes = K.get_value(\n",
    "            K.ctc_decode(\n",
    "                out, input_length = np.ones(out.shape[0]) * out.shape[1],\n",
    "                greedy =False , beam_width = beam_width, top_paths = top_paths\n",
    "            )[0][i]\n",
    "        )[0]\n",
    "        text = \"\"\n",
    "        for index in indexes:\n",
    "            text += chars[index]\n",
    "        results.append(text)\n",
    "    return results\n",
    "\n",
    "def check_inference(model, dataset, index = 5):\n",
    "    for i in range(index):\n",
    "        inputs, outputs = dataset[i]\n",
    "        img = dataset[i][0]['input_image'][0:1,:,:,:]\n",
    "        output = model_pred.predict(img)\n",
    "        result = decode_predict_ctc(output, chars=\"-\"+TARGET_CHARACTERS)[0].replace('-','')\n",
    "        print(\"Result: \\t\", result)\n",
    "        display(Image.fromarray(img[0].transpose(1,0,2).astype(np.uint8)))\n",
    "\n",
    "check_inference(model, test_set, index=10)"
   ]
  }
 ],
 "metadata": {
  "kernelspec": {
   "display_name": "aiffel",
   "language": "python",
   "name": "aiffel"
  },
  "language_info": {
   "codemirror_mode": {
    "name": "ipython",
    "version": 3
   },
   "file_extension": ".py",
   "mimetype": "text/x-python",
   "name": "python",
   "nbconvert_exporter": "python",
   "pygments_lexer": "ipython3",
   "version": "3.7.9"
  },
  "toc": {
   "base_numbering": 1,
   "nav_menu": {},
   "number_sections": true,
   "sideBar": true,
   "skip_h1_title": false,
   "title_cell": "Table of Contents",
   "title_sidebar": "Contents",
   "toc_cell": false,
   "toc_position": {},
   "toc_section_display": true,
   "toc_window_display": false
  },
  "varInspector": {
   "cols": {
    "lenName": 16,
    "lenType": 16,
    "lenVar": 40
   },
   "kernels_config": {
    "python": {
     "delete_cmd_postfix": "",
     "delete_cmd_prefix": "del ",
     "library": "var_list.py",
     "varRefreshCmd": "print(var_dic_list())"
    },
    "r": {
     "delete_cmd_postfix": ") ",
     "delete_cmd_prefix": "rm(",
     "library": "var_list.r",
     "varRefreshCmd": "cat(var_dic_list()) "
    }
   },
   "types_to_exclude": [
    "module",
    "function",
    "builtin_function_or_method",
    "instance",
    "_Feature"
   ],
   "window_display": false
  }
 },
 "nbformat": 4,
 "nbformat_minor": 5
}
