{
 "cells": [
  {
   "cell_type": "markdown",
   "id": "electrical-defense",
   "metadata": {},
   "source": [
    "# 16. 불안한 시선 이펙트 추가하기"
   ]
  },
  {
   "cell_type": "markdown",
   "id": "median-orientation",
   "metadata": {},
   "source": [
    "## 10. 프로젝트: 카메라 앱에 당황한 표정 효과를 적용해보기\n",
    "\n",
    "<img src=\"./image/emoji.jpg\" />\n",
    "\n",
    "그림처럼 놀라서 눈이 튀어나오는 듯 한 효과를 내보자. 우선 눈을 찾고, 눈에 효과를 적용해보자. 어려워 보여도 차근차근 한다면 충분히 간단한 프로토타입을 구현할 수 있다."
   ]
  },
  {
   "cell_type": "markdown",
   "id": "prospective-certificate",
   "metadata": {},
   "source": [
    "### **1. 이론 시간에 다룬 모델을 참고하여 딥러닝 모델을 설계해 봅시다.**\n",
    "\n",
    "---\n",
    "\n",
    "7~9번 스텝에서 키포인트 검출을 위한 딥러닝 모델을 만들어본 바 있다. 이를 활용해서 눈 이미지에서 적합한 키포인트를 찾는 딥러닝 모델을 구현해보자. 이 모델의 학습을 위해서는 오늘 다룬 것처럼 데이터를 모아 데이터셋을 구축하는 과정이 함께 진행되어야 할 것이다."
   ]
  },
  {
   "cell_type": "markdown",
   "id": "amino-christian",
   "metadata": {},
   "source": [
    "### **2. 눈동자 효과를 추가해 봅시다.**\n",
    "\n",
    "---\n",
    "\n",
    "추출된 눈 위치에 위의 당황한 표정의 눈 이미지를 합성해보자. 이렇게 합성된 이미지를 제출하는 것까지가 오늘 프로젝트 과제의 목표이다."
   ]
  },
  {
   "cell_type": "markdown",
   "id": "crucial-baker",
   "metadata": {},
   "source": []
  }
 ],
 "metadata": {
  "kernelspec": {
   "display_name": "aiffel",
   "language": "python",
   "name": "aiffel"
  },
  "language_info": {
   "codemirror_mode": {
    "name": "ipython",
    "version": 3
   },
   "file_extension": ".py",
   "mimetype": "text/x-python",
   "name": "python",
   "nbconvert_exporter": "python",
   "pygments_lexer": "ipython3",
   "version": "3.7.9"
  },
  "toc": {
   "base_numbering": 1,
   "nav_menu": {},
   "number_sections": true,
   "sideBar": true,
   "skip_h1_title": false,
   "title_cell": "Table of Contents",
   "title_sidebar": "Contents",
   "toc_cell": false,
   "toc_position": {},
   "toc_section_display": true,
   "toc_window_display": false
  },
  "varInspector": {
   "cols": {
    "lenName": 16,
    "lenType": 16,
    "lenVar": 40
   },
   "kernels_config": {
    "python": {
     "delete_cmd_postfix": "",
     "delete_cmd_prefix": "del ",
     "library": "var_list.py",
     "varRefreshCmd": "print(var_dic_list())"
    },
    "r": {
     "delete_cmd_postfix": ") ",
     "delete_cmd_prefix": "rm(",
     "library": "var_list.r",
     "varRefreshCmd": "cat(var_dic_list()) "
    }
   },
   "types_to_exclude": [
    "module",
    "function",
    "builtin_function_or_method",
    "instance",
    "_Feature"
   ],
   "window_display": false
  }
 },
 "nbformat": 4,
 "nbformat_minor": 5
}
