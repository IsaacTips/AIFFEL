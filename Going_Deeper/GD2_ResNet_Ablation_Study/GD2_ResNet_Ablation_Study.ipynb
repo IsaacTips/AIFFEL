{
 "cells": [
  {
   "cell_type": "markdown",
   "id": "formal-formation",
   "metadata": {},
   "source": [
    "# 2. 없다면 어떻게 될까? (ResNet Ablation Study)"
   ]
  },
  {
   "cell_type": "markdown",
   "id": "mathematical-salmon",
   "metadata": {},
   "source": [
    "## 1. 들어가며\n",
    "\n",
    "딥러닝 논문에서는 다양한 방법들을 적용하며, 그 방법 적용 전후의 차이를 실험 결과로 보여준다. 이때 논문에는 어느 정도 구현방법과 실험의 설정이 나와있으니, 하드웨어 자원을 엄청나게 필요로 하거나 특정한 데이터셋이 필요한 경우를 제외하면 어느 정도 따라해볼 수 있다. 평소 논문을 보고 이해하는 데 집중하셨다면, 이번 시간에는 모델을 구현하고, 모델에 각 기법을 적용했을 때와 아닐 때를 비교해 보면서 효과를 직접 체감해보는 시간을 갖도록 하겠다."
   ]
  },
  {
   "cell_type": "markdown",
   "id": "executive-collective",
   "metadata": {},
   "source": [
    "### 실습목표\n",
    "---\n",
    "1. 직접 ResNet 구현하기\n",
    "2. 모델을 config에 따라서 변경가능하도록 만들기\n",
    "3. 직접 실험해서 성능 비교하기"
   ]
  },
  {
   "cell_type": "markdown",
   "id": "first-england",
   "metadata": {},
   "source": [
    "### 학습내용\n",
    "---\n",
    "1. Ablation Study\n",
    "2. Back to the 2015\n",
    "3. Block\n",
    "4. Complete Model\n",
    "5. Experiment"
   ]
  },
  {
   "cell_type": "markdown",
   "id": "infinite-registration",
   "metadata": {},
   "source": [
    "## 2. Ablation Study\n",
    "* [\"In the context of deep learning, what is an ablation study?\"](https://www.quora.com/In-the-context-of-deep-learning-what-is-an-ablation-study)\n",
    "\n",
    "지금부터 해볼 프로젝트는 __애블레이션 연구(ablation study)__이다. 직역하자면 '제거 연구'정도가 되겠다.\n",
    "\n",
    "딥러닝 논문은 여러 가지 방법들을 결합해서 어떤 문제를 해결하는 방법을 제시한다. 이때 제안한 방법들의 유효함을 증명하기 위해서 보통 딥러닝 논문에서는 해당 방법을 \"제거\"한 모델로 수행한 실험과, 해당 방법을 추가한 모델로 수행한 실험의 결과를 비교한다. 애블레이션 연구란 이처럼 \"아이디어를 제거해 봄으로써\" 제안한 방법이 어떻게 성능이나 문제에 해결에 효과를 주는지 확인하는 실험이다.\n",
    "\n",
    "아래는 ResNet 논문에서 제시한 residual connection의 애블레이션 연구이다. 이미지넷(ImageNet) 검증 데이터셋(validation dataset)에 대한 Top-1 error rate을 지표로 사용해 residual connection이 없는 일반 네트워크(plain net)와 ResNet을 비교하였다. 이 비교를 통해서 ResNet이 residual connection을 활용해서 깊은 네트워크를 쌓았을 때, 이를 통한 성능 향상을 얻을 수 있음을 증명하고 있다.\n",
    "\n",
    "<img src=\"./image/resnet_ablation.png\" />\n",
    "출처: He, Kaiming, et al. \"Deep residual learning for image recognition.\" Proceedings of the IEEE conference on computer vision and pattern recognition. 2016."
   ]
  },
  {
   "cell_type": "markdown",
   "id": "ultimate-matrix",
   "metadata": {},
   "source": [
    "## 3. Ablation Study 실습 (1) CIFAR-10 데이터셋 준비하기\n",
    "\n",
    "ResNet이 막 공개된 시점으로 돌아갔다고 생각해보자. 우리는 이 방법이 논문으로는 유효하다고 들었지만 직접 실험을 해 성능을 평가하고, 다른 실험에 적용해 보기로 한다.\n",
    "\n",
    "ResNet의 성능을 평가하기 위해서 원래 논문과 동일한 이미지넷의 훈련/검증 데이터셋을 사용해 학습과 평가를 진행하면 좋겠지만, 우리는 컴퓨팅 자원이 부족하므로 이미지넷보다는 적당한 크기의 CIFAR-10 데이터셋으로 평가해보도록 하자.<br>\n",
    "지금부터 우리의 실험은 CIFAR-10에 대해 일반 네트워크와 ResNet을 구현해서 이 둘을 비교하여 ResNet 및 residual connection의 유효성을 확인하는 것이다. ResNet에 대한 설명은 ResNet 이론 자료를 다시 한 번 확인하도록 하자.\n",
    "\n",
    "* [Deep residual learning for image recognition](http://openaccess.thecvf.com/content_cvpr_2016/papers/He_Deep_Residual_Learning_CVPR_2016_paper.pdf)"
   ]
  },
  {
   "cell_type": "markdown",
   "id": "italic-advance",
   "metadata": {},
   "source": [
    "### 1) CIFAR-10\n",
    "---\n",
    "<img src=\"./image/cifar_10.png\" />\n",
    "\n",
    "* [CIFAR-10 from Tensorflow dataset](https://www.tensorflow.org/datasets/catalog/cifar10)\n",
    "\n",
    "그럼 우리가 이번에 모델을 사용해서 풀어야 할 문제가 무엇인지 확인해보도록 하자. CIFAR-10 데이터셋은 10개 카테고리에 대해 총 6만 장의 이미지가 있다. 각 이미지들의 가로, 세로는 각각 32 픽셀(pixel)이다. MNIST에서 손글씨가 나타내는 숫자를 분류해내었던 것처럼 CIFAR-10 데이터셋을 사용해 물체의 종류를 분류해보도록 하겠다.\n",
    "\n",
    "먼저 데이터셋을 준비하자. 컴퓨터에 텐서플로우에서 제공하는 `tensorflow-datasets` 패키지가 설치되어 있지 않다면 아래 명령어로 설치하면 된다.\n",
    "\n",
    "```bash\n",
    "$ pip install tensorflow-datasets\n",
    "```"
   ]
  },
  {
   "cell_type": "code",
   "execution_count": 1,
   "id": "incoming-buffalo",
   "metadata": {
    "ExecuteTime": {
     "end_time": "2021-04-06T22:09:01.866149Z",
     "start_time": "2021-04-06T22:08:59.169414Z"
    }
   },
   "outputs": [],
   "source": [
    "# TensorFlow and tf.keras\n",
    "import tensorflow as tf\n",
    "from tensorflow import keras\n",
    "\n",
    "# Helper libraries\n",
    "import numpy as np\n",
    "import matplotlib.pyplot as plt\n",
    "\n",
    "import tensorflow_datasets as tfds"
   ]
  },
  {
   "cell_type": "code",
   "execution_count": 2,
   "id": "reliable-halloween",
   "metadata": {
    "ExecuteTime": {
     "end_time": "2021-04-06T22:09:02.030260Z",
     "start_time": "2021-04-06T22:09:01.867491Z"
    }
   },
   "outputs": [
    {
     "data": {
      "text/plain": [
       "[PhysicalDevice(name='/physical_device:GPU:0', device_type='GPU')]"
      ]
     },
     "execution_count": 2,
     "metadata": {},
     "output_type": "execute_result"
    }
   ],
   "source": [
    "# Tensorflow가 활용할 GPU가 장착되어 있는지 확인해 봅니다.\n",
    "tf.config.list_physical_devices('GPU')"
   ]
  },
  {
   "cell_type": "markdown",
   "id": "mexican-palmer",
   "metadata": {},
   "source": [
    "CIFAR-10은 대용량 데이터셋은 아니지만 그래도 로드되는 데 꽤 긴 시간이 걸린다. \n",
    "\n",
    "데이터셋이 준비되면 클래스의 수와 클래스에 따른 이름을 볼 수 있다. `DatasetBuilder`의 `info`를 통해 정보를 확인해보자.\n",
    "\n",
    ">_`tfds.load()`는 기본적으로 `~/tensorflow_datasets` 경로에 데이터셋을 다운로드한다. 데이터셋 크기가 커서 하나의 폴더에 모아놓고 사용하는 것도 좋은 방법이므로, `~/aiffel` 프로젝트 폴더가 아닌 기본 경로에 다운 받아 사용하면 된다. 혹시 데이터셋 경로를 바꾸고 싶다면, `data_dir` 인자를 사용하자._"
   ]
  },
  {
   "cell_type": "code",
   "execution_count": 3,
   "id": "demonstrated-district",
   "metadata": {
    "ExecuteTime": {
     "end_time": "2021-04-06T22:13:13.733321Z",
     "start_time": "2021-04-06T22:09:02.032207Z"
    }
   },
   "outputs": [
    {
     "name": "stdout",
     "output_type": "stream",
     "text": [
      "\u001b[1mDownloading and preparing dataset Unknown size (download: Unknown size, generated: Unknown size, total: Unknown size) to /home/aiffel-dj10/tensorflow_datasets/cifar10/3.0.2...\u001b[0m\n"
     ]
    },
    {
     "data": {
      "application/vnd.jupyter.widget-view+json": {
       "model_id": "299b6ec8ef7a4c6e9505835b08a0c349",
       "version_major": 2,
       "version_minor": 0
      },
      "text/plain": [
       "Dl Completed...: 0 url [00:00, ? url/s]"
      ]
     },
     "metadata": {},
     "output_type": "display_data"
    },
    {
     "data": {
      "application/vnd.jupyter.widget-view+json": {
       "model_id": "424333a294e84634bc87ded4469e64d3",
       "version_major": 2,
       "version_minor": 0
      },
      "text/plain": [
       "Dl Size...: 0 MiB [00:00, ? MiB/s]"
      ]
     },
     "metadata": {},
     "output_type": "display_data"
    },
    {
     "data": {
      "application/vnd.jupyter.widget-view+json": {
       "model_id": "984f181dd2c24cd7bd8462fbc99e7e6c",
       "version_major": 2,
       "version_minor": 0
      },
      "text/plain": [
       "Extraction completed...: 0 file [00:00, ? file/s]"
      ]
     },
     "metadata": {},
     "output_type": "display_data"
    },
    {
     "name": "stdout",
     "output_type": "stream",
     "text": [
      "\n",
      "\n",
      "\n"
     ]
    },
    {
     "data": {
      "application/vnd.jupyter.widget-view+json": {
       "model_id": "",
       "version_major": 2,
       "version_minor": 0
      },
      "text/plain": [
       "Generating splits...:   0%|          | 0/2 [00:00<?, ? splits/s]"
      ]
     },
     "metadata": {},
     "output_type": "display_data"
    },
    {
     "data": {
      "application/vnd.jupyter.widget-view+json": {
       "model_id": "",
       "version_major": 2,
       "version_minor": 0
      },
      "text/plain": [
       "Generating train examples...: 0 examples [00:00, ? examples/s]"
      ]
     },
     "metadata": {},
     "output_type": "display_data"
    },
    {
     "data": {
      "application/vnd.jupyter.widget-view+json": {
       "model_id": "",
       "version_major": 2,
       "version_minor": 0
      },
      "text/plain": [
       "Shuffling cifar10-train.tfrecord...:   0%|          | 0/50000 [00:00<?, ? examples/s]"
      ]
     },
     "metadata": {},
     "output_type": "display_data"
    },
    {
     "data": {
      "application/vnd.jupyter.widget-view+json": {
       "model_id": "",
       "version_major": 2,
       "version_minor": 0
      },
      "text/plain": [
       "Generating test examples...: 0 examples [00:00, ? examples/s]"
      ]
     },
     "metadata": {},
     "output_type": "display_data"
    },
    {
     "data": {
      "application/vnd.jupyter.widget-view+json": {
       "model_id": "",
       "version_major": 2,
       "version_minor": 0
      },
      "text/plain": [
       "Shuffling cifar10-test.tfrecord...:   0%|          | 0/10000 [00:00<?, ? examples/s]"
      ]
     },
     "metadata": {},
     "output_type": "display_data"
    },
    {
     "name": "stdout",
     "output_type": "stream",
     "text": [
      "\u001b[1mDataset cifar10 downloaded and prepared to /home/aiffel-dj10/tensorflow_datasets/cifar10/3.0.2. Subsequent calls will reuse this data.\u001b[0m\n"
     ]
    }
   ],
   "source": [
    "import urllib3\n",
    "urllib3.disable_warnings()\n",
    "\n",
    "#tfds.disable_progress_bar()   # 이 주석을 풀면 데이터셋 다운로드과정의 프로그레스바가 나타나지 않습니다.\n",
    "\n",
    "(ds_train, ds_test), ds_info = tfds.load(\n",
    "    'cifar10',\n",
    "    split=['train', 'test'],\n",
    "    shuffle_files=True,\n",
    "    with_info=True,\n",
    ")"
   ]
  },
  {
   "cell_type": "code",
   "execution_count": 4,
   "id": "tutorial-lithuania",
   "metadata": {
    "ExecuteTime": {
     "end_time": "2021-04-06T22:13:13.736709Z",
     "start_time": "2021-04-06T22:13:13.734433Z"
    }
   },
   "outputs": [
    {
     "name": "stdout",
     "output_type": "stream",
     "text": [
      "FeaturesDict({\n",
      "    'id': Text(shape=(), dtype=tf.string),\n",
      "    'image': Image(shape=(32, 32, 3), dtype=tf.uint8),\n",
      "    'label': ClassLabel(shape=(), dtype=tf.int64, num_classes=10),\n",
      "})\n"
     ]
    }
   ],
   "source": [
    "# Tensorflow 데이터셋을 로드하면 꼭 feature 정보를 확인해 보세요. \n",
    "print(ds_info.features)"
   ]
  },
  {
   "cell_type": "code",
   "execution_count": 5,
   "id": "floating-validity",
   "metadata": {
    "ExecuteTime": {
     "end_time": "2021-04-06T22:13:13.740210Z",
     "start_time": "2021-04-06T22:13:13.737691Z"
    }
   },
   "outputs": [
    {
     "name": "stdout",
     "output_type": "stream",
     "text": [
      "tf.Tensor(50000, shape=(), dtype=int64)\n",
      "tf.Tensor(10000, shape=(), dtype=int64)\n"
     ]
    }
   ],
   "source": [
    "# 데이터의 개수도 확인해 봅시다. \n",
    "print(tf.data.experimental.cardinality(ds_train))\n",
    "print(tf.data.experimental.cardinality(ds_test))"
   ]
  },
  {
   "cell_type": "markdown",
   "id": "embedded-narrow",
   "metadata": {},
   "source": [
    "Tensorflow의 데이터셋은 Numpy가 아니므로 `ds_train.shape` 같은 게 존재하지 않는다. 위와 같은 방법으로 데이터셋의 이미지 shape와 전체 데이터의 갯수, 라벨 클래스의 갯수 등 가장 중요한 정보들이 잘 확인 된 모습이다."
   ]
  },
  {
   "cell_type": "markdown",
   "id": "suburban-declaration",
   "metadata": {},
   "source": [
    "### 2) Input Normalization\n",
    "---\n",
    "* [딥러닝 용어 정리, Normalization(정규화) 설명](https://light-tree.tistory.com/132)\n",
    "\n",
    "우리는 \"가로 1920, 세로 1080 픽셀의 이미지\"처럼 픽셀의 수를 사용해 이미지의 크기를 말할 수 있다. 이때 한 픽셀이 가진 채널(channel) 값은 픽셀의 색을 표현한다. RGB는 Red, Green, Blue로 세 가지 색을 조합해서 우리가 보는 다양한 색을 만들어내는 방법이다. 그레이 스케일(gray scale)은 단순하게 흑과 백만을 표현하는 하나의 채널을 가진 이미지이다. RGB나 그레이 스케일 외에도 HSV, CMYK 등 인쇄 또는 이미지 작업을 위해 사용되는 다양한 채널 체계가 있다.\n",
    "\n",
    "우리의 모델에 넣어주기 전에는 각 채널별 최댓값인 255로 __정규화(normalize)__를 해주어 이미지의 표현이 0과 1 사이로 들어오도록 만들어준다."
   ]
  },
  {
   "cell_type": "code",
   "execution_count": 6,
   "id": "threatened-cambridge",
   "metadata": {
    "ExecuteTime": {
     "end_time": "2021-04-06T22:13:13.743366Z",
     "start_time": "2021-04-06T22:13:13.741140Z"
    }
   },
   "outputs": [],
   "source": [
    "def normalize_and_resize_img(image, label):\n",
    "    \"\"\"Normalizes images: `uint8` -> `float32`.\"\"\"\n",
    "    # image = tf.image.resize(image, [32, 32])\n",
    "    return tf.cast(image, tf.float32) / 255., label"
   ]
  },
  {
   "cell_type": "code",
   "execution_count": 7,
   "id": "super-preservation",
   "metadata": {
    "ExecuteTime": {
     "end_time": "2021-04-06T22:13:13.747659Z",
     "start_time": "2021-04-06T22:13:13.745103Z"
    }
   },
   "outputs": [],
   "source": [
    "def apply_normalize_on_dataset(ds, is_test=False, batch_size=16):\n",
    "    ds = ds.map(\n",
    "        normalize_and_resize_img, \n",
    "        num_parallel_calls=1\n",
    "    )\n",
    "    ds = ds.batch(batch_size)\n",
    "    if not is_test:\n",
    "        ds = ds.repeat()\n",
    "        ds = ds.shuffle(200)\n",
    "    ds = ds.prefetch(tf.data.experimental.AUTOTUNE)\n",
    "    return ds"
   ]
  },
  {
   "cell_type": "markdown",
   "id": "devoted-hartford",
   "metadata": {},
   "source": [
    "MNIST 데이터셋 클래스는 0부터 9까지의 숫자, 총 10가지가 있다. CIFAR-10 데이터셋 또한 이름에서 알 수 있듯이 10개 클래스를 가진다. 아래 코드로 각 클래스가 어떻게 구성되는지, 어떤 이미지가 있는지 확인해보자"
   ]
  },
  {
   "cell_type": "code",
   "execution_count": 8,
   "id": "sapphire-taiwan",
   "metadata": {
    "ExecuteTime": {
     "end_time": "2021-04-06T22:13:13.751720Z",
     "start_time": "2021-04-06T22:13:13.749154Z"
    }
   },
   "outputs": [
    {
     "data": {
      "text/plain": [
       "10"
      ]
     },
     "execution_count": 8,
     "metadata": {},
     "output_type": "execute_result"
    }
   ],
   "source": [
    "ds_info.features[\"label\"].num_classes"
   ]
  },
  {
   "cell_type": "code",
   "execution_count": 9,
   "id": "chinese-conflict",
   "metadata": {
    "ExecuteTime": {
     "end_time": "2021-04-06T22:13:13.755466Z",
     "start_time": "2021-04-06T22:13:13.752802Z"
    }
   },
   "outputs": [
    {
     "data": {
      "text/plain": [
       "['airplane',\n",
       " 'automobile',\n",
       " 'bird',\n",
       " 'cat',\n",
       " 'deer',\n",
       " 'dog',\n",
       " 'frog',\n",
       " 'horse',\n",
       " 'ship',\n",
       " 'truck']"
      ]
     },
     "execution_count": 9,
     "metadata": {},
     "output_type": "execute_result"
    }
   ],
   "source": [
    "ds_info.features[\"label\"].names"
   ]
  },
  {
   "cell_type": "code",
   "execution_count": 10,
   "id": "incorrect-spencer",
   "metadata": {
    "ExecuteTime": {
     "end_time": "2021-04-06T22:13:14.106939Z",
     "start_time": "2021-04-06T22:13:13.756378Z"
    }
   },
   "outputs": [
    {
     "data": {
      "image/png": "[encoded data removed]",
      "text/plain": [
       "<Figure size 648x648 with 9 Axes>"
      ]
     },
     "metadata": {},
     "output_type": "display_data"
    }
   ],
   "source": [
    "fig = tfds.show_examples(ds_train, ds_info)"
   ]
  },
  {
   "cell_type": "code",
   "execution_count": 11,
   "id": "fresh-authority",
   "metadata": {
    "ExecuteTime": {
     "end_time": "2021-04-06T22:13:14.389168Z",
     "start_time": "2021-04-06T22:13:14.108013Z"
    }
   },
   "outputs": [
    {
     "data": {
      "image/png": "[encoded data removed]",
      "text/plain": [
       "<Figure size 648x648 with 9 Axes>"
      ]
     },
     "metadata": {},
     "output_type": "display_data"
    }
   ],
   "source": [
    "fig = tfds.show_examples(ds_test, ds_info)"
   ]
  },
  {
   "cell_type": "markdown",
   "id": "bearing-conditioning",
   "metadata": {},
   "source": [
    "모델의 학습을 위한 데이터셋에 대한 확인은 충분히 한 것 같다. 이제 본격적으로 코딩을 하면서 모델을 직접 빌딩하는 시간을 갖도록 하자."
   ]
  },
  {
   "cell_type": "markdown",
   "id": "plastic-terror",
   "metadata": {},
   "source": [
    "## 4. Ablation Study 실습 (2) 블록 구성하기\n",
    "\n",
    "모델을 프로그램으로 구현하는 과정에서는 논문의 모델을 그대로 구현하는 것도 중요하지만, 구현 시에 반복되는 부분을 줄여서 하이퍼파라미터 또는 변수를 변경하거나 모델 구조가 변경될 때 손쉽게 바꿀 수 있도록 만들어 놓는 것이 필요하다.\n",
    "\n",
    "최근 나오는 일반적인 딥러닝 모델에서 이렇게 주요 구조를 모듈화 시켜 조금씩 바꾸어 쓸 수 있는 단위를 __블록(block)__ 이라고 부른다. __레이어(layer)__ 는 기본적으로 텐서플로우(TensorFlow), 케라스(Keras), 파이토치(PyTorch) 등에서 기본적으로 제공하는 단위이다. 우리는 여기서 한 단계 위인 \"블록\"을 단위로 모델을 만들 수 있어야 한다.\n",
    "\n",
    "프로젝트로 구현할 [ResNet](https://pytorch.org/assets/images/resnet.png)을 보면 ResNet-18, 34, 50, 101, 152로 다섯 가지 네트워크가 있다. 각 네트워크를 하나씩 구현하는 방법도 있지만 매우 수고스럽고 변경사항이 생기면 모두 고쳐줘야 하는 불편함이 생기게 된다. 따라서 이후 실습에서 ResNet의 기본 구조인 블록을 먼저 구현하겠다.\n",
    "\n",
    ">_ResNet을 바로 구현하는 것은 어려울 수 있으므로, 조금 더 간단한 블록이 반복되는 VGG를 예시로 구현하였다._"
   ]
  },
  {
   "cell_type": "markdown",
   "id": "understanding-football",
   "metadata": {},
   "source": [
    "### VGG 기본 블록 만들기\n",
    "---\n",
    "<img src=\"./image/vgg.png\" />\n",
    "\n",
    "VGG는 여러 가지 버전이 있다. 이 중 VGG의 VGG-16과 VGG-19의 기본 구조가 되는 블록을 만든다고 가정하고 블록을 구현해보자.\n",
    "\n",
    "블록을 구현하기 위해 모델 구조의 특징을 짚어보겠다. VGG의 블록은 개략적으로 CNN 레이어 여러 개와 Max pooling 레이어 한 개로 이루어진다. CNN은 모두 커널 크기가 3x3 라는 대표적인 특징을 가지고 있다. 그리고 블록 내 CNN 레이어의 채널은 하나로 유지되지만 서로 다른 블록 간 CNN 레이어의 채널 수는 다를 수 있다. 블록에 따라서 CNN 레이어의 갯수 또한 달라진다. 블록의 마지막에는 항상 Max Pooling 레이어가 붙는다. 따라서 블록은 CNN 레이어 여러 개와 Max pooling 레이어 한 개로 이루어질 것이고, CNN의 레이어 수와 채널을 조절할 수 있어야 한다.\n",
    "\n",
    "`block_num`은 레이어의 이름을 붙여주기 위해서 추가되었고 `input_shape`는 summary를 출력하기 위해서 넣어주었다."
   ]
  },
  {
   "cell_type": "code",
   "execution_count": 12,
   "id": "prescribed-provider",
   "metadata": {
    "ExecuteTime": {
     "end_time": "2021-04-06T22:13:14.393742Z",
     "start_time": "2021-04-06T22:13:14.390320Z"
    }
   },
   "outputs": [],
   "source": [
    "# function for building VGG Block\n",
    "\n",
    "def build_vgg_block(input_layer,\n",
    "                    num_cnn=3, \n",
    "                    channel=64,\n",
    "                    block_num=1,\n",
    "                   ):\n",
    "    # 입력 레이어\n",
    "    x = input_layer\n",
    "\n",
    "    # CNN 레이어\n",
    "    for cnn_num in range(num_cnn):\n",
    "        x = keras.layers.Conv2D(\n",
    "            filters=channel,\n",
    "            kernel_size=(3,3),\n",
    "            activation='relu',\n",
    "            kernel_initializer='he_normal',\n",
    "            padding='same',\n",
    "            name=f'block{block_num}_conv{cnn_num}'\n",
    "        )(x)    \n",
    "\n",
    "    # Max Pooling 레이어\n",
    "    x = keras.layers.MaxPooling2D(\n",
    "        pool_size=(2, 2),\n",
    "        strides=2,\n",
    "        name=f'block{block_num}_pooling'\n",
    "    )(x)\n",
    "\n",
    "    return x"
   ]
  },
  {
   "cell_type": "markdown",
   "id": "dedicated-iraqi",
   "metadata": {},
   "source": [
    "이제 위에서 만든 VGG 블록을 추가하는 함수를 이용해서 `input_layer` 에 추가를 해보자. 입력 레이어는 아까 데이터셋에서 확인한 32, 32의 가로 세로 크기를 가지고 채널로 3을 가지므로 `(32,32,3)` 이 된다. 이 입력 레이어를 인자로 받아 `build_vgg_block()` 는 블록의 레이어를 build하고 출력값을 얻을 수 있다. 이제 케라스의 `Model` 클래스에서 `input`과 `output`을 정의해주면 간단히 블록의 모델을 확인해볼 수 있다.\n",
    "\n",
    "* 참고: [tf.keras.Model](https://www.tensorflow.org/api_docs/python/tf/keras/Model)"
   ]
  },
  {
   "cell_type": "code",
   "execution_count": 13,
   "id": "adopted-movie",
   "metadata": {
    "ExecuteTime": {
     "end_time": "2021-04-06T22:13:14.493285Z",
     "start_time": "2021-04-06T22:13:14.394981Z"
    }
   },
   "outputs": [],
   "source": [
    "vgg_input_layer = keras.layers.Input(shape=(32,32,3))   # 입력 레이어 생성\n",
    "vgg_block_output = build_vgg_block(vgg_input_layer)    # VGG 블록 생성"
   ]
  },
  {
   "cell_type": "code",
   "execution_count": 14,
   "id": "infectious-district",
   "metadata": {
    "ExecuteTime": {
     "end_time": "2021-04-06T22:13:14.501345Z",
     "start_time": "2021-04-06T22:13:14.494362Z"
    }
   },
   "outputs": [
    {
     "name": "stdout",
     "output_type": "stream",
     "text": [
      "Model: \"model\"\n",
      "_________________________________________________________________\n",
      "Layer (type)                 Output Shape              Param #   \n",
      "=================================================================\n",
      "input_1 (InputLayer)         [(None, 32, 32, 3)]       0         \n",
      "_________________________________________________________________\n",
      "block1_conv0 (Conv2D)        (None, 32, 32, 64)        1792      \n",
      "_________________________________________________________________\n",
      "block1_conv1 (Conv2D)        (None, 32, 32, 64)        36928     \n",
      "_________________________________________________________________\n",
      "block1_conv2 (Conv2D)        (None, 32, 32, 64)        36928     \n",
      "_________________________________________________________________\n",
      "block1_pooling (MaxPooling2D (None, 16, 16, 64)        0         \n",
      "=================================================================\n",
      "Total params: 75,648\n",
      "Trainable params: 75,648\n",
      "Non-trainable params: 0\n",
      "_________________________________________________________________\n"
     ]
    }
   ],
   "source": [
    "# 블록 1개짜리 model 생성\n",
    "model = keras.Model(inputs=vgg_input_layer, outputs=vgg_block_output)  \n",
    "\n",
    "model.summary()"
   ]
  },
  {
   "cell_type": "markdown",
   "id": "appointed-workplace",
   "metadata": {},
   "source": [
    "## 5. Ablation Study 실습 (3) VGG Complete Model\n",
    "이제 기본적인 블록을 만들 수 있는 함수를 만들었으니 이를 합쳐서 전체 모델을 만들 수 있는 함수를 만들어보겠다."
   ]
  },
  {
   "cell_type": "markdown",
   "id": "colonial-gathering",
   "metadata": {},
   "source": [
    "### 1) VGG-16\n",
    "---\n",
    "먼저 작은 네트워크인 VGG-16을 먼저 만들어 보겠다. 블록 내의 CNN 레이어 수와 채널 수는 블록마다 달라진다. 이는 VGG-16과 VGG-19에 따라서 같이 변화되므로 함수에 전달되어야 한다. 여기서는 각 블록 별 CNN의 수와 채널을 리스트로 전달했다."
   ]
  },
  {
   "cell_type": "code",
   "execution_count": 15,
   "id": "desirable-acrylic",
   "metadata": {
    "ExecuteTime": {
     "end_time": "2021-04-06T22:13:14.506833Z",
     "start_time": "2021-04-06T22:13:14.502331Z"
    }
   },
   "outputs": [],
   "source": [
    "# VGG 모델 자체를 생성하는 함수입니다.\n",
    "def build_vgg(input_shape=(32,32,3),\n",
    "              num_cnn_list=[2,2,3,3,3],\n",
    "              channel_list=[64,128,256,512,512],\n",
    "              num_classes=10):\n",
    "    \n",
    "    assert len(num_cnn_list) == len(channel_list) #모델을 만들기 전에 config list들이 같은 길이인지 확인합니다.\n",
    "    \n",
    "    input_layer = keras.layers.Input(shape=input_shape)  # input layer를 만들어둡니다.\n",
    "    output = input_layer\n",
    "    \n",
    "    # config list들의 길이만큼 반복해서 블록을 생성합니다.\n",
    "    for i, (num_cnn, channel) in enumerate(zip(num_cnn_list, channel_list)):\n",
    "        output = build_vgg_block(\n",
    "            output,\n",
    "            num_cnn=num_cnn, \n",
    "            channel=channel,\n",
    "            block_num=i\n",
    "        )\n",
    "        \n",
    "    output = keras.layers.Flatten(name='flatten')(output)\n",
    "    output = keras.layers.Dense(4096, activation='relu', name='fc1')(output)\n",
    "    output = keras.layers.Dense(4096, activation='relu', name='fc2')(output)\n",
    "    output = keras.layers.Dense(num_classes, activation='softmax', name='predictions')(output)\n",
    "    \n",
    "    model = keras.Model(\n",
    "        inputs=input_layer, \n",
    "        outputs=output\n",
    "    )\n",
    "    return model"
   ]
  },
  {
   "cell_type": "code",
   "execution_count": 16,
   "id": "defined-transport",
   "metadata": {
    "ExecuteTime": {
     "end_time": "2021-04-06T22:13:14.614522Z",
     "start_time": "2021-04-06T22:13:14.507851Z"
    }
   },
   "outputs": [
    {
     "name": "stdout",
     "output_type": "stream",
     "text": [
      "Model: \"model_1\"\n",
      "_________________________________________________________________\n",
      "Layer (type)                 Output Shape              Param #   \n",
      "=================================================================\n",
      "input_2 (InputLayer)         [(None, 32, 32, 3)]       0         \n",
      "_________________________________________________________________\n",
      "block0_conv0 (Conv2D)        (None, 32, 32, 64)        1792      \n",
      "_________________________________________________________________\n",
      "block0_conv1 (Conv2D)        (None, 32, 32, 64)        36928     \n",
      "_________________________________________________________________\n",
      "block0_pooling (MaxPooling2D (None, 16, 16, 64)        0         \n",
      "_________________________________________________________________\n",
      "block1_conv0 (Conv2D)        (None, 16, 16, 128)       73856     \n",
      "_________________________________________________________________\n",
      "block1_conv1 (Conv2D)        (None, 16, 16, 128)       147584    \n",
      "_________________________________________________________________\n",
      "block1_pooling (MaxPooling2D (None, 8, 8, 128)         0         \n",
      "_________________________________________________________________\n",
      "block2_conv0 (Conv2D)        (None, 8, 8, 256)         295168    \n",
      "_________________________________________________________________\n",
      "block2_conv1 (Conv2D)        (None, 8, 8, 256)         590080    \n",
      "_________________________________________________________________\n",
      "block2_conv2 (Conv2D)        (None, 8, 8, 256)         590080    \n",
      "_________________________________________________________________\n",
      "block2_pooling (MaxPooling2D (None, 4, 4, 256)         0         \n",
      "_________________________________________________________________\n",
      "block3_conv0 (Conv2D)        (None, 4, 4, 512)         1180160   \n",
      "_________________________________________________________________\n",
      "block3_conv1 (Conv2D)        (None, 4, 4, 512)         2359808   \n",
      "_________________________________________________________________\n",
      "block3_conv2 (Conv2D)        (None, 4, 4, 512)         2359808   \n",
      "_________________________________________________________________\n",
      "block3_pooling (MaxPooling2D (None, 2, 2, 512)         0         \n",
      "_________________________________________________________________\n",
      "block4_conv0 (Conv2D)        (None, 2, 2, 512)         2359808   \n",
      "_________________________________________________________________\n",
      "block4_conv1 (Conv2D)        (None, 2, 2, 512)         2359808   \n",
      "_________________________________________________________________\n",
      "block4_conv2 (Conv2D)        (None, 2, 2, 512)         2359808   \n",
      "_________________________________________________________________\n",
      "block4_pooling (MaxPooling2D (None, 1, 1, 512)         0         \n",
      "_________________________________________________________________\n",
      "flatten (Flatten)            (None, 512)               0         \n",
      "_________________________________________________________________\n",
      "fc1 (Dense)                  (None, 4096)              2101248   \n",
      "_________________________________________________________________\n",
      "fc2 (Dense)                  (None, 4096)              16781312  \n",
      "_________________________________________________________________\n",
      "predictions (Dense)          (None, 10)                40970     \n",
      "=================================================================\n",
      "Total params: 33,638,218\n",
      "Trainable params: 33,638,218\n",
      "Non-trainable params: 0\n",
      "_________________________________________________________________\n"
     ]
    }
   ],
   "source": [
    "# 기본값을 그대로 사용해서 VGG 모델을 만들면 VGG-16이 됩니다.\n",
    "vgg_16 = build_vgg()\n",
    "\n",
    "vgg_16.summary()"
   ]
  },
  {
   "cell_type": "markdown",
   "id": "faced-authorization",
   "metadata": {},
   "source": [
    "### 2) VGG-19\n",
    "---\n",
    "위에서 16을 만들어봤으니 쉽게 구성(configuration)을 바꿔서 VGG-19를 만들 수 있다."
   ]
  },
  {
   "cell_type": "code",
   "execution_count": 17,
   "id": "alpine-longitude",
   "metadata": {
    "ExecuteTime": {
     "end_time": "2021-04-06T22:13:14.731801Z",
     "start_time": "2021-04-06T22:13:14.615504Z"
    }
   },
   "outputs": [
    {
     "name": "stdout",
     "output_type": "stream",
     "text": [
      "Model: \"model_2\"\n",
      "_________________________________________________________________\n",
      "Layer (type)                 Output Shape              Param #   \n",
      "=================================================================\n",
      "input_3 (InputLayer)         [(None, 32, 32, 3)]       0         \n",
      "_________________________________________________________________\n",
      "block0_conv0 (Conv2D)        (None, 32, 32, 64)        1792      \n",
      "_________________________________________________________________\n",
      "block0_conv1 (Conv2D)        (None, 32, 32, 64)        36928     \n",
      "_________________________________________________________________\n",
      "block0_pooling (MaxPooling2D (None, 16, 16, 64)        0         \n",
      "_________________________________________________________________\n",
      "block1_conv0 (Conv2D)        (None, 16, 16, 128)       73856     \n",
      "_________________________________________________________________\n",
      "block1_conv1 (Conv2D)        (None, 16, 16, 128)       147584    \n",
      "_________________________________________________________________\n",
      "block1_pooling (MaxPooling2D (None, 8, 8, 128)         0         \n",
      "_________________________________________________________________\n",
      "block2_conv0 (Conv2D)        (None, 8, 8, 256)         295168    \n",
      "_________________________________________________________________\n",
      "block2_conv1 (Conv2D)        (None, 8, 8, 256)         590080    \n",
      "_________________________________________________________________\n",
      "block2_conv2 (Conv2D)        (None, 8, 8, 256)         590080    \n",
      "_________________________________________________________________\n",
      "block2_conv3 (Conv2D)        (None, 8, 8, 256)         590080    \n",
      "_________________________________________________________________\n",
      "block2_pooling (MaxPooling2D (None, 4, 4, 256)         0         \n",
      "_________________________________________________________________\n",
      "block3_conv0 (Conv2D)        (None, 4, 4, 512)         1180160   \n",
      "_________________________________________________________________\n",
      "block3_conv1 (Conv2D)        (None, 4, 4, 512)         2359808   \n",
      "_________________________________________________________________\n",
      "block3_conv2 (Conv2D)        (None, 4, 4, 512)         2359808   \n",
      "_________________________________________________________________\n",
      "block3_conv3 (Conv2D)        (None, 4, 4, 512)         2359808   \n",
      "_________________________________________________________________\n",
      "block3_pooling (MaxPooling2D (None, 2, 2, 512)         0         \n",
      "_________________________________________________________________\n",
      "block4_conv0 (Conv2D)        (None, 2, 2, 512)         2359808   \n",
      "_________________________________________________________________\n",
      "block4_conv1 (Conv2D)        (None, 2, 2, 512)         2359808   \n",
      "_________________________________________________________________\n",
      "block4_conv2 (Conv2D)        (None, 2, 2, 512)         2359808   \n",
      "_________________________________________________________________\n",
      "block4_conv3 (Conv2D)        (None, 2, 2, 512)         2359808   \n",
      "_________________________________________________________________\n",
      "block4_pooling (MaxPooling2D (None, 1, 1, 512)         0         \n",
      "_________________________________________________________________\n",
      "flatten (Flatten)            (None, 512)               0         \n",
      "_________________________________________________________________\n",
      "fc1 (Dense)                  (None, 4096)              2101248   \n",
      "_________________________________________________________________\n",
      "fc2 (Dense)                  (None, 4096)              16781312  \n",
      "_________________________________________________________________\n",
      "predictions (Dense)          (None, 10)                40970     \n",
      "=================================================================\n",
      "Total params: 38,947,914\n",
      "Trainable params: 38,947,914\n",
      "Non-trainable params: 0\n",
      "_________________________________________________________________\n"
     ]
    }
   ],
   "source": [
    "# 원하는 블록의 설계에 따라 매개변수로 리스트를 전달해 줍니다.\n",
    "vgg_19 = build_vgg(\n",
    "    num_cnn_list=[2,2,4,4,4],\n",
    "    channel_list=[64,128,256,512,512]\n",
    ")\n",
    "\n",
    "vgg_19.summary()"
   ]
  },
  {
   "cell_type": "markdown",
   "id": "turned-setting",
   "metadata": {},
   "source": [
    "## 6. Ablation Study 실습 (4) VGG-16 vs VGG-19\n",
    "이제 본격적으로 위에서 준비한 데이터셋과 모델의 성능 비교를 위해서 모델을 훈련하고 평가하자.\n",
    "\n",
    "VGG는 레이어의 차이를 위해서 __VGG-16__과 __VGG-19__를 비교해보도록 하겠다.\n",
    "\n",
    "우선 CIFAR-10 데이터셋을 불러오자."
   ]
  },
  {
   "cell_type": "code",
   "execution_count": 18,
   "id": "surrounded-render",
   "metadata": {
    "ExecuteTime": {
     "end_time": "2021-04-06T22:13:14.734566Z",
     "start_time": "2021-04-06T22:13:14.732741Z"
    }
   },
   "outputs": [],
   "source": [
    "BATCH_SIZE = 256\n",
    "EPOCH = 20"
   ]
  },
  {
   "cell_type": "code",
   "execution_count": 19,
   "id": "collected-deadline",
   "metadata": {
    "ExecuteTime": {
     "end_time": "2021-04-06T22:13:14.812197Z",
     "start_time": "2021-04-06T22:13:14.735644Z"
    }
   },
   "outputs": [],
   "source": [
    "(ds_train, ds_test), ds_info = tfds.load(\n",
    "    'cifar10',\n",
    "    split=['train', 'test'],\n",
    "    as_supervised=True,\n",
    "    shuffle_files=True,\n",
    "    with_info=True,\n",
    ")\n",
    "ds_train = apply_normalize_on_dataset(ds_train, batch_size=BATCH_SIZE)\n",
    "ds_test = apply_normalize_on_dataset(ds_test, batch_size=BATCH_SIZE)"
   ]
  },
  {
   "cell_type": "markdown",
   "id": "strong-standard",
   "metadata": {},
   "source": [
    "VGG-16 모델을 만들고 훈련시켜준다.\n",
    "\n",
    "> _이 작업은 시간이 상당히 소요된다. BATCH_SIZE가 커지면 소요시간이 좀 줄어드는 효과가 있다만, 1epoch당 1분 이상 소요될 수도 있다. 이 훈련은 40Epoch 정도 수행하는 것을 권장하지만, 20Epoch 정도로도 어느정도 근접하는 성능을 얻을 수는 있을 것이다._"
   ]
  },
  {
   "cell_type": "code",
   "execution_count": 20,
   "id": "invisible-dryer",
   "metadata": {
    "ExecuteTime": {
     "end_time": "2021-04-06T22:19:35.827138Z",
     "start_time": "2021-04-06T22:13:14.813299Z"
    }
   },
   "outputs": [
    {
     "name": "stdout",
     "output_type": "stream",
     "text": [
      "Epoch 1/20\n",
      "195/195 [==============================] - 49s 161ms/step - loss: 2.2486 - accuracy: 0.1557 - val_loss: 2.0855 - val_accuracy: 0.2531\n",
      "Epoch 2/20\n",
      "195/195 [==============================] - 23s 116ms/step - loss: 2.0472 - accuracy: 0.2580 - val_loss: 1.9168 - val_accuracy: 0.3193\n",
      "Epoch 3/20\n",
      "195/195 [==============================] - 17s 87ms/step - loss: 1.9057 - accuracy: 0.3129 - val_loss: 1.8399 - val_accuracy: 0.3435\n",
      "Epoch 4/20\n",
      "195/195 [==============================] - 17s 88ms/step - loss: 1.7885 - accuracy: 0.3633 - val_loss: 1.7109 - val_accuracy: 0.3880\n",
      "Epoch 5/20\n",
      "195/195 [==============================] - 17s 89ms/step - loss: 1.7039 - accuracy: 0.3908 - val_loss: 1.6686 - val_accuracy: 0.4027\n",
      "Epoch 6/20\n",
      "195/195 [==============================] - 17s 87ms/step - loss: 1.6203 - accuracy: 0.4169 - val_loss: 1.5466 - val_accuracy: 0.4440\n",
      "Epoch 7/20\n",
      "195/195 [==============================] - 17s 87ms/step - loss: 1.5719 - accuracy: 0.4364 - val_loss: 1.5710 - val_accuracy: 0.4256\n",
      "Epoch 8/20\n",
      "195/195 [==============================] - 17s 88ms/step - loss: 1.5219 - accuracy: 0.4490 - val_loss: 1.4569 - val_accuracy: 0.4713\n",
      "Epoch 9/20\n",
      "195/195 [==============================] - 17s 87ms/step - loss: 1.4767 - accuracy: 0.4680 - val_loss: 1.5066 - val_accuracy: 0.4565\n",
      "Epoch 10/20\n",
      "195/195 [==============================] - 18s 90ms/step - loss: 1.4437 - accuracy: 0.4813 - val_loss: 1.4429 - val_accuracy: 0.4794\n",
      "Epoch 11/20\n",
      "195/195 [==============================] - 17s 89ms/step - loss: 1.3968 - accuracy: 0.4972 - val_loss: 1.3829 - val_accuracy: 0.5044\n",
      "Epoch 12/20\n",
      "195/195 [==============================] - 17s 89ms/step - loss: 1.3579 - accuracy: 0.5129 - val_loss: 1.3553 - val_accuracy: 0.5052\n",
      "Epoch 13/20\n",
      "195/195 [==============================] - 17s 89ms/step - loss: 1.3254 - accuracy: 0.5312 - val_loss: 1.3684 - val_accuracy: 0.5130\n",
      "Epoch 14/20\n",
      "195/195 [==============================] - 17s 89ms/step - loss: 1.2988 - accuracy: 0.5339 - val_loss: 1.3271 - val_accuracy: 0.5231\n",
      "Epoch 15/20\n",
      "195/195 [==============================] - 17s 88ms/step - loss: 1.2558 - accuracy: 0.5515 - val_loss: 1.2779 - val_accuracy: 0.5498\n",
      "Epoch 16/20\n",
      "195/195 [==============================] - 17s 89ms/step - loss: 1.2312 - accuracy: 0.5613 - val_loss: 1.2582 - val_accuracy: 0.5499\n",
      "Epoch 17/20\n",
      "195/195 [==============================] - 17s 86ms/step - loss: 1.2002 - accuracy: 0.5733 - val_loss: 1.1828 - val_accuracy: 0.5802\n",
      "Epoch 18/20\n",
      "195/195 [==============================] - 17s 88ms/step - loss: 1.1707 - accuracy: 0.5806 - val_loss: 1.2693 - val_accuracy: 0.5447\n",
      "Epoch 19/20\n",
      "195/195 [==============================] - 17s 88ms/step - loss: 1.1414 - accuracy: 0.5934 - val_loss: 1.2256 - val_accuracy: 0.5662\n",
      "Epoch 20/20\n",
      "195/195 [==============================] - 17s 89ms/step - loss: 1.1116 - accuracy: 0.6056 - val_loss: 1.2101 - val_accuracy: 0.5742\n"
     ]
    }
   ],
   "source": [
    "vgg_16.compile(\n",
    "    loss='sparse_categorical_crossentropy',\n",
    "    optimizer=tf.keras.optimizers.SGD(lr=0.01, clipnorm=1.),\n",
    "    metrics=['accuracy'],\n",
    ")\n",
    "\n",
    "history_16 = vgg_16.fit(\n",
    "    ds_train,\n",
    "    steps_per_epoch=int(ds_info.splits['train'].num_examples/BATCH_SIZE),\n",
    "    validation_steps=int(ds_info.splits['test'].num_examples/BATCH_SIZE),\n",
    "    epochs=EPOCH,\n",
    "    validation_data=ds_test,\n",
    "    verbose=1,\n",
    "    use_multiprocessing=True,\n",
    ")"
   ]
  },
  {
   "cell_type": "markdown",
   "id": "still-leather",
   "metadata": {},
   "source": [
    "VGG-19 모델을 만들고 훈련시켜준다.\n",
    "\n",
    "> _파라미터가 더 많은 VGG-19는 VGG-16보다 1/4 정도 훈련 시간이 더 걸린다. Epoch 수나 BATCH_SIZE를 잘 조절하자._"
   ]
  },
  {
   "cell_type": "code",
   "execution_count": 21,
   "id": "complimentary-bachelor",
   "metadata": {
    "ExecuteTime": {
     "end_time": "2021-04-06T22:26:09.236290Z",
     "start_time": "2021-04-06T22:19:35.828550Z"
    }
   },
   "outputs": [
    {
     "name": "stdout",
     "output_type": "stream",
     "text": [
      "Epoch 1/20\n",
      "195/195 [==============================] - 22s 101ms/step - loss: 2.2806 - accuracy: 0.1329 - val_loss: 2.1433 - val_accuracy: 0.2114\n",
      "Epoch 2/20\n",
      "195/195 [==============================] - 19s 97ms/step - loss: 2.0963 - accuracy: 0.2283 - val_loss: 1.9838 - val_accuracy: 0.2964\n",
      "Epoch 3/20\n",
      "195/195 [==============================] - 19s 97ms/step - loss: 1.9524 - accuracy: 0.2890 - val_loss: 1.8528 - val_accuracy: 0.3207\n",
      "Epoch 4/20\n",
      "195/195 [==============================] - 19s 96ms/step - loss: 1.8152 - accuracy: 0.3444 - val_loss: 1.6813 - val_accuracy: 0.3864\n",
      "Epoch 5/20\n",
      "195/195 [==============================] - 19s 96ms/step - loss: 1.7167 - accuracy: 0.3801 - val_loss: 1.6365 - val_accuracy: 0.4038\n",
      "Epoch 6/20\n",
      "195/195 [==============================] - 19s 96ms/step - loss: 1.6465 - accuracy: 0.4035 - val_loss: 1.5963 - val_accuracy: 0.4280\n",
      "Epoch 7/20\n",
      "195/195 [==============================] - 19s 97ms/step - loss: 1.5897 - accuracy: 0.4200 - val_loss: 1.5859 - val_accuracy: 0.4188\n",
      "Epoch 8/20\n",
      "195/195 [==============================] - 19s 97ms/step - loss: 1.5390 - accuracy: 0.4463 - val_loss: 1.4875 - val_accuracy: 0.4563\n",
      "Epoch 9/20\n",
      "195/195 [==============================] - 19s 97ms/step - loss: 1.4874 - accuracy: 0.4613 - val_loss: 1.4257 - val_accuracy: 0.4903\n",
      "Epoch 10/20\n",
      "195/195 [==============================] - 19s 96ms/step - loss: 1.4479 - accuracy: 0.4774 - val_loss: 1.4208 - val_accuracy: 0.4856\n",
      "Epoch 11/20\n",
      "195/195 [==============================] - 19s 97ms/step - loss: 1.4038 - accuracy: 0.4917 - val_loss: 1.3960 - val_accuracy: 0.4854\n",
      "Epoch 12/20\n",
      "195/195 [==============================] - 20s 103ms/step - loss: 1.3575 - accuracy: 0.5090 - val_loss: 1.3726 - val_accuracy: 0.4990\n",
      "Epoch 13/20\n",
      "195/195 [==============================] - 20s 103ms/step - loss: 1.3180 - accuracy: 0.5229 - val_loss: 1.2733 - val_accuracy: 0.5394\n",
      "Epoch 14/20\n",
      "195/195 [==============================] - 20s 102ms/step - loss: 1.2877 - accuracy: 0.5368 - val_loss: 1.3078 - val_accuracy: 0.5267\n",
      "Epoch 15/20\n",
      "195/195 [==============================] - 21s 106ms/step - loss: 1.2342 - accuracy: 0.5597 - val_loss: 1.3324 - val_accuracy: 0.5203\n",
      "Epoch 16/20\n",
      "195/195 [==============================] - 21s 106ms/step - loss: 1.2082 - accuracy: 0.5675 - val_loss: 1.2477 - val_accuracy: 0.5576\n",
      "Epoch 17/20\n",
      "195/195 [==============================] - 21s 105ms/step - loss: 1.1729 - accuracy: 0.5798 - val_loss: 1.2143 - val_accuracy: 0.5704\n",
      "Epoch 18/20\n",
      "195/195 [==============================] - 21s 106ms/step - loss: 1.1430 - accuracy: 0.5925 - val_loss: 1.1928 - val_accuracy: 0.5671\n",
      "Epoch 19/20\n",
      "195/195 [==============================] - 20s 105ms/step - loss: 1.1077 - accuracy: 0.6058 - val_loss: 1.1865 - val_accuracy: 0.5780\n",
      "Epoch 20/20\n",
      "195/195 [==============================] - 20s 101ms/step - loss: 1.0882 - accuracy: 0.6081 - val_loss: 1.1741 - val_accuracy: 0.5743\n"
     ]
    }
   ],
   "source": [
    "vgg_19.compile(\n",
    "    loss='sparse_categorical_crossentropy',\n",
    "    optimizer=tf.keras.optimizers.SGD(lr=0.01, clipnorm=1.),\n",
    "    metrics=['accuracy'],\n",
    ")\n",
    "\n",
    "history_19 = vgg_19.fit(\n",
    "    ds_train,\n",
    "    steps_per_epoch=int(ds_info.splits['train'].num_examples/BATCH_SIZE),\n",
    "    validation_steps=int(ds_info.splits['test'].num_examples/BATCH_SIZE),\n",
    "    epochs=EPOCH,\n",
    "    validation_data=ds_test,\n",
    "    verbose=1,\n",
    "    use_multiprocessing=True,\n",
    ")"
   ]
  },
  {
   "cell_type": "markdown",
   "id": "exact-python",
   "metadata": {},
   "source": [
    "이제 VGG-16과 VGG-19를 그래프를 그리고 비교해보도록 하겠다. 먼저 훈련 손실(training loss)이 어떻게 다르게 진행되는지 비교해보자."
   ]
  },
  {
   "cell_type": "code",
   "execution_count": 22,
   "id": "chubby-clock",
   "metadata": {
    "ExecuteTime": {
     "end_time": "2021-04-06T22:26:09.364040Z",
     "start_time": "2021-04-06T22:26:09.239615Z"
    }
   },
   "outputs": [
    {
     "data": {
      "image/png": "[encoded data removed]",
      "text/plain": [
       "<Figure size 432x288 with 1 Axes>"
      ]
     },
     "metadata": {
      "needs_background": "light"
     },
     "output_type": "display_data"
    }
   ],
   "source": [
    "import matplotlib.pyplot as plt\n",
    "\n",
    "plt.plot(history_16.history['loss'], 'r')\n",
    "plt.plot(history_19.history['loss'], 'b')\n",
    "plt.title('Model training loss')\n",
    "plt.ylabel('Loss')\n",
    "plt.xlabel('Epoch')\n",
    "plt.legend(['vgg_16', 'vgg_19'], loc='upper left')\n",
    "plt.show()"
   ]
  },
  {
   "cell_type": "markdown",
   "id": "friendly-briefs",
   "metadata": {},
   "source": [
    "그리고 검증 정확도(validation accuracy)를 비교해보자."
   ]
  },
  {
   "cell_type": "code",
   "execution_count": 23,
   "id": "baking-desert",
   "metadata": {
    "ExecuteTime": {
     "end_time": "2021-04-06T22:26:09.492807Z",
     "start_time": "2021-04-06T22:26:09.365841Z"
    }
   },
   "outputs": [
    {
     "data": {
      "image/png": "[encoded data removed]",
      "text/plain": [
       "<Figure size 432x288 with 1 Axes>"
      ]
     },
     "metadata": {
      "needs_background": "light"
     },
     "output_type": "display_data"
    }
   ],
   "source": [
    "plt.plot(history_16.history['val_accuracy'], 'r')\n",
    "plt.plot(history_19.history['val_accuracy'], 'b')\n",
    "plt.title('Model validation accuracy')\n",
    "plt.ylabel('Accuracy')\n",
    "plt.xlabel('Epoch')\n",
    "plt.legend(['vgg_16', 'vgg_19'], loc='upper left')\n",
    "plt.show()"
   ]
  },
  {
   "cell_type": "markdown",
   "id": "certified-insight",
   "metadata": {},
   "source": [
    "VGG-19가 조금 더 높은 정확도를 보인다. 이후의 그래프를 더 보려면 `epochs` 를 늘려서 학습시켜보자."
   ]
  }
 ],
 "metadata": {
  "kernelspec": {
   "display_name": "aiffel",
   "language": "python",
   "name": "aiffel"
  },
  "language_info": {
   "codemirror_mode": {
    "name": "ipython",
    "version": 3
   },
   "file_extension": ".py",
   "mimetype": "text/x-python",
   "name": "python",
   "nbconvert_exporter": "python",
   "pygments_lexer": "ipython3",
   "version": "3.7.9"
  },
  "toc": {
   "base_numbering": 1,
   "nav_menu": {},
   "number_sections": true,
   "sideBar": true,
   "skip_h1_title": false,
   "title_cell": "Table of Contents",
   "title_sidebar": "Contents",
   "toc_cell": false,
   "toc_position": {},
   "toc_section_display": true,
   "toc_window_display": false
  },
  "varInspector": {
   "cols": {
    "lenName": 16,
    "lenType": 16,
    "lenVar": 40
   },
   "kernels_config": {
    "python": {
     "delete_cmd_postfix": "",
     "delete_cmd_prefix": "del ",
     "library": "var_list.py",
     "varRefreshCmd": "print(var_dic_list())"
    },
    "r": {
     "delete_cmd_postfix": ") ",
     "delete_cmd_prefix": "rm(",
     "library": "var_list.r",
     "varRefreshCmd": "cat(var_dic_list()) "
    }
   },
   "types_to_exclude": [
    "module",
    "function",
    "builtin_function_or_method",
    "instance",
    "_Feature"
   ],
   "window_display": false
  }
 },
 "nbformat": 4,
 "nbformat_minor": 5
}
