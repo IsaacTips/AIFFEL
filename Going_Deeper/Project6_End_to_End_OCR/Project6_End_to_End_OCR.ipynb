{
 "cells": [
  {
   "cell_type": "markdown",
   "id": "civilian-vermont",
   "metadata": {},
   "source": [
    "# 12. 직접 만들어보는 OCR"
   ]
  },
  {
   "cell_type": "markdown",
   "id": "sporting-grill",
   "metadata": {},
   "source": [
    "## 프로젝트: End-to-End OCR\n",
    "\n",
    "<img src=\"./image/sample.jpg\" />\n",
    "\n",
    "<center><b>[sample.jpg]</b></center>\n",
    "\n",
    "keras OCR의 Detector class를 이용해서 이미지 내의 문자 위치를 찾아내는 함수를 만들어보도록 하겠습니다. 이를 위해서 keras-ocr을 설치해주고 Detector를 만들어주세요. 위의 사진 `sample.jpg`도 `ocr`폴더에 다운받으셔야합니다."
   ]
  },
  {
   "cell_type": "markdown",
   "id": "professional-teaching",
   "metadata": {},
   "source": [
    "### 데이터 다운로드(로컬 유저용)\n",
    "\n",
    "---\n",
    "\n",
    "```bash\n",
    "#  keras-ocr을 설치\n",
    "$ pip install keras-ocr\n",
    "\n",
    "# `sample.jpg` 다운로드\n",
    "$ cd ~/aiffel/ocr\n",
    "$ wget -P ~/aiffel/ocr https://aiffelstaticprd.blob.core.windows.net/media/original_images/sample.jpg\n",
    "```"
   ]
  },
  {
   "cell_type": "markdown",
   "id": "automated-maintenance",
   "metadata": {},
   "source": [
    "### 데이터 다운로드(☁️클라우드 유저용)\n",
    "---\n",
    "step3에서 심볼릭 링크를 사용한 경우, **`sample.jpg`**는 **`~/aiffel/ocr/data`**디렉토리에 있습니다."
   ]
  },
  {
   "cell_type": "code",
   "execution_count": null,
   "id": "agricultural-niger",
   "metadata": {
    "ExecuteTime": {
     "start_time": "2021-04-25T13:33:31.954Z"
    }
   },
   "outputs": [],
   "source": [
    "from keras_ocr.detection import Detector\n",
    "SAMPLE_IMG_PATH = 'sample.jpg'\n",
    "\n",
    "detector = Detector()"
   ]
  },
  {
   "cell_type": "markdown",
   "id": "nuclear-timing",
   "metadata": {},
   "source": [
    "**이미지 경로를 받아 해당 이미지 내의 문자를 찾아내는 함수를 keras-ocr의 Detector를 이용해서 만들어보세요! inference한 후에는 이를 시각화하도록 합니다. 그리고 단어의 영역을 잘라오도록 해주세요.**\n",
    "\n",
    "```python\n",
    "def detect_text(img_path):\n",
    "# TODO\n",
    "# 배치 크기를 위해서 dimension을 확장해주고 kera-ocr의 입력 차원에 맞게 H,W,C로 변경합니다.\n",
    "# 배치의 첫 번째 결과만 가져옵니다.\n",
    "# 시각화를 위해서 x와 y좌표를 변경해줍니다. (앞선 h dimension으로 인해 y,x로 표기됨)\n",
    "\n",
    "    cropped_imgs = []\n",
    "    for text_result in ocr_result:\n",
    "        img_draw.polygon(text_result, outline='red')\n",
    "        x_min = text_result[:,0].min() - 5\n",
    "        x_max = text_result[:,0].max() + 5\n",
    "        y_min = text_result[:,1].min() - 5\n",
    "        y_max = text_result[:,1].max() + 5\n",
    "        word_box = [x_min, y_min, x_max, y_max]\n",
    "        cropped_imgs.append(img_pil.crop(word_box))\n",
    "\n",
    "    return result_img, cropped_imgs\n",
    "```"
   ]
  },
  {
   "cell_type": "code",
   "execution_count": null,
   "id": "thirty-implementation",
   "metadata": {
    "ExecuteTime": {
     "start_time": "2021-04-25T13:33:31.955Z"
    }
   },
   "outputs": [],
   "source": [
    "img_pil, cropped_img = detect_text(SAMPLE_IMG_PATH)\n",
    "display(img_pil)"
   ]
  },
  {
   "cell_type": "markdown",
   "id": "technical-movie",
   "metadata": {},
   "source": [
    "이제 위에서 이미지 내의 단어 이미지를 얻었습니다. **그럼 Recognition model로 인식하는 함수를 직접 작성하고 그 결과를 출력해보세요!**\n",
    "\n",
    "```python\n",
    "def recognize_img(pil_img, input_img_size=(100,32)):\n",
    "    # TODO: 잘려진 단어 이미지를 인식하는 코드를 작성하세요!\n",
    "```"
   ]
  },
  {
   "cell_type": "code",
   "execution_count": null,
   "id": "included-warrant",
   "metadata": {
    "ExecuteTime": {
     "start_time": "2021-04-25T13:33:31.957Z"
    }
   },
   "outputs": [],
   "source": [
    "for _img in cropped_img:\n",
    "    recognize_img(_img)"
   ]
  },
  {
   "cell_type": "code",
   "execution_count": null,
   "id": "pending-amino",
   "metadata": {},
   "outputs": [],
   "source": []
  }
 ],
 "metadata": {
  "kernelspec": {
   "display_name": "aiffel",
   "language": "python",
   "name": "aiffel"
  },
  "language_info": {
   "codemirror_mode": {
    "name": "ipython",
    "version": 3
   },
   "file_extension": ".py",
   "mimetype": "text/x-python",
   "name": "python",
   "nbconvert_exporter": "python",
   "pygments_lexer": "ipython3",
   "version": "3.7.9"
  },
  "toc": {
   "base_numbering": 1,
   "nav_menu": {},
   "number_sections": true,
   "sideBar": true,
   "skip_h1_title": false,
   "title_cell": "Table of Contents",
   "title_sidebar": "Contents",
   "toc_cell": false,
   "toc_position": {},
   "toc_section_display": true,
   "toc_window_display": false
  },
  "varInspector": {
   "cols": {
    "lenName": 16,
    "lenType": 16,
    "lenVar": 40
   },
   "kernels_config": {
    "python": {
     "delete_cmd_postfix": "",
     "delete_cmd_prefix": "del ",
     "library": "var_list.py",
     "varRefreshCmd": "print(var_dic_list())"
    },
    "r": {
     "delete_cmd_postfix": ") ",
     "delete_cmd_prefix": "rm(",
     "library": "var_list.r",
     "varRefreshCmd": "cat(var_dic_list()) "
    }
   },
   "types_to_exclude": [
    "module",
    "function",
    "builtin_function_or_method",
    "instance",
    "_Feature"
   ],
   "window_display": false
  }
 },
 "nbformat": 4,
 "nbformat_minor": 5
}
