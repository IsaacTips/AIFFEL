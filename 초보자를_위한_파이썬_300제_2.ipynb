{
  "nbformat": 4,
  "nbformat_minor": 0,
  "metadata": {
    "colab": {
      "name": "초보자를 위한 파이썬 300제_2",
      "provenance": [],
      "collapsed_sections": [],
      "authorship_tag": "ABX9TyNy7a/3vH4teSpkOpUMNeg/",
      "include_colab_link": true
    },
    "kernelspec": {
      "name": "python3",
      "display_name": "Python 3"
    }
  },
  "cells": [
    {
      "cell_type": "markdown",
      "metadata": {
        "id": "view-in-github",
        "colab_type": "text"
      },
      "source": [
        "<a href=\"https://colab.research.google.com/github/IsaacTips/AIFFEL/blob/master/%EC%B4%88%EB%B3%B4%EC%9E%90%EB%A5%BC_%EC%9C%84%ED%95%9C_%ED%8C%8C%EC%9D%B4%EC%8D%AC_300%EC%A0%9C_2.ipynb\" target=\"_parent\"><img src=\"https://colab.research.google.com/assets/colab-badge.svg\" alt=\"Open In Colab\"/></a>"
      ]
    },
    {
      "cell_type": "markdown",
      "metadata": {
        "id": "b2lv2Ik0Fepe"
      },
      "source": [
        "##07. 파이썬 분기문\n",
        "----\n",
        "파이썬은 if라는 키워드를 통해 분기문을 만들 수 있습니다."
      ]
    },
    {
      "cell_type": "markdown",
      "metadata": {
        "id": "YBio9N26Fhua"
      },
      "source": [
        "#### 101\n",
        "파이썬에서 True 혹은 False를 갖는 데이터 타입은 무엇인가?"
      ]
    },
    {
      "cell_type": "code",
      "metadata": {
        "colab": {
          "base_uri": "https://localhost:8080/"
        },
        "id": "QW-2SCNfFpRf",
        "outputId": "e56d35c1-3369-478b-e006-4da8498fc9aa"
      },
      "source": [
        "a = True\n",
        "type(a)"
      ],
      "execution_count": null,
      "outputs": [
        {
          "output_type": "execute_result",
          "data": {
            "text/plain": [
              "bool"
            ]
          },
          "metadata": {
            "tags": []
          },
          "execution_count": 1
        }
      ]
    },
    {
      "cell_type": "markdown",
      "metadata": {
        "id": "9jw1MN72Fhwc"
      },
      "source": [
        "#### 102\n",
        "아래 코드의 출력 결과를 예상하라\n",
        "\n",
        "```\n",
        "print(3 == 5)\n",
        "```\n",
        "\n"
      ]
    },
    {
      "cell_type": "code",
      "metadata": {
        "colab": {
          "base_uri": "https://localhost:8080/"
        },
        "id": "_iyDI29iGijp",
        "outputId": "5c769a46-65d0-494b-8eeb-61830d01f10c"
      },
      "source": [
        "print(3 == 5)"
      ],
      "execution_count": null,
      "outputs": [
        {
          "output_type": "stream",
          "text": [
            "False\n"
          ],
          "name": "stdout"
        }
      ]
    },
    {
      "cell_type": "markdown",
      "metadata": {
        "id": "FAzQyz8iFhyo"
      },
      "source": [
        "#### 103\n",
        "아래 코드의 출력 결과를 예상하라\n",
        "\n",
        "```\n",
        "print(3 < 5)\n",
        "```\n",
        "\n"
      ]
    },
    {
      "cell_type": "code",
      "metadata": {
        "colab": {
          "base_uri": "https://localhost:8080/"
        },
        "id": "-8tvI65cGozN",
        "outputId": "0a3363a5-b990-4bc9-d91b-12ca72599ebf"
      },
      "source": [
        "print(3 < 5)"
      ],
      "execution_count": null,
      "outputs": [
        {
          "output_type": "stream",
          "text": [
            "True\n"
          ],
          "name": "stdout"
        }
      ]
    },
    {
      "cell_type": "markdown",
      "metadata": {
        "id": "nVlLxHWzFh0y"
      },
      "source": [
        "#### 104\n",
        "아래 코드의 결과를 예상하라.\n",
        "\n",
        "```\n",
        "x = 4\n",
        "print(1 < x < 5)\n",
        "```\n",
        "\n"
      ]
    },
    {
      "cell_type": "code",
      "metadata": {
        "colab": {
          "base_uri": "https://localhost:8080/"
        },
        "id": "btjKjR7tGwEC",
        "outputId": "1a56dae6-4a13-4186-aa0f-7dfc08f42730"
      },
      "source": [
        "x = 4\n",
        "print(1 < x < 5)"
      ],
      "execution_count": null,
      "outputs": [
        {
          "output_type": "stream",
          "text": [
            "True\n"
          ],
          "name": "stdout"
        }
      ]
    },
    {
      "cell_type": "markdown",
      "metadata": {
        "id": "UyUA7zJlGpvO"
      },
      "source": [
        "#### 105\n",
        "아래 코드의 결과를 예상하라.\n",
        "\n",
        "```\n",
        "print ((3 == 3) and (4 != 3))\n",
        "```\n",
        "\n"
      ]
    },
    {
      "cell_type": "code",
      "metadata": {
        "colab": {
          "base_uri": "https://localhost:8080/"
        },
        "id": "DTbwtRsGG1u-",
        "outputId": "c6abe347-55b3-41c5-f934-dd5b1f5f0e83"
      },
      "source": [
        "print ((3 == 3) and (4 != 3)) #and는 둘 다 true여야 true를 반환"
      ],
      "execution_count": null,
      "outputs": [
        {
          "output_type": "stream",
          "text": [
            "True\n"
          ],
          "name": "stdout"
        }
      ]
    },
    {
      "cell_type": "markdown",
      "metadata": {
        "id": "cjokOjCDGpxW"
      },
      "source": [
        "#### 106\n",
        "아래 코드에서 에러가 발생하는 원인에 대해 설명하라.\n",
        "\n",
        "```\n",
        "print(3 => 4)\n",
        "```\n",
        "\n"
      ]
    },
    {
      "cell_type": "code",
      "metadata": {
        "colab": {
          "base_uri": "https://localhost:8080/",
          "height": 129
        },
        "id": "Dqri09RMHArs",
        "outputId": "307a0c22-e10f-4f1a-8627-238bd3a1a649"
      },
      "source": [
        "print(3 => 4)"
      ],
      "execution_count": null,
      "outputs": [
        {
          "output_type": "error",
          "ename": "SyntaxError",
          "evalue": "ignored",
          "traceback": [
            "\u001b[0;36m  File \u001b[0;32m\"<ipython-input-6-73d1778316a7>\"\u001b[0;36m, line \u001b[0;32m1\u001b[0m\n\u001b[0;31m    print(3 => 4)\u001b[0m\n\u001b[0m             ^\u001b[0m\n\u001b[0;31mSyntaxError\u001b[0m\u001b[0;31m:\u001b[0m invalid syntax\n"
          ]
        }
      ]
    },
    {
      "cell_type": "markdown",
      "metadata": {
        "id": "PEtilAm7HHpA"
      },
      "source": [
        "`=>`가 아니라 `>=`이다."
      ]
    },
    {
      "cell_type": "code",
      "metadata": {
        "id": "lS_udpTsHEdu"
      },
      "source": [
        "print(3 >= 4)"
      ],
      "execution_count": null,
      "outputs": []
    },
    {
      "cell_type": "markdown",
      "metadata": {
        "id": "daU02Kf7HD-O"
      },
      "source": [
        "#### 107\n",
        "아래 코드의 출력 결과를 예상하라\n",
        "\n",
        "```\n",
        "if 4 < 3:\n",
        "    print(\"Hello World\")\n",
        "```\n",
        "\n"
      ]
    },
    {
      "cell_type": "code",
      "metadata": {
        "id": "UfHDP17LHWUK"
      },
      "source": [
        "if 4 < 3:\n",
        "    print(\"Hello World\")\n",
        "#4가 3보다 작지 않기 때문에 Hello World는 출력되지 않았다."
      ],
      "execution_count": null,
      "outputs": []
    },
    {
      "cell_type": "markdown",
      "metadata": {
        "id": "X8r9cQsyGpzT"
      },
      "source": [
        "#### 108\n",
        "아래 코드의 출력 결과를 예상하라\n",
        "\n",
        "\n",
        "```\n",
        "if 4 < 3:\n",
        "    print(\"Hello World.\")\n",
        "else:\n",
        "    print(\"Hi, there.\")\n",
        "```\n",
        "\n"
      ]
    },
    {
      "cell_type": "code",
      "metadata": {
        "id": "rKQeRwdDHkV_"
      },
      "source": [
        "if 4 < 3:\n",
        "    print(\"Hello World.\")\n",
        "else:\n",
        "    print(\"Hi, there.\")\n",
        "\n",
        "#4가 3보다 작지 않기 때문에 else가 적용되어 Hi, there이 출력되었다."
      ],
      "execution_count": null,
      "outputs": []
    },
    {
      "cell_type": "markdown",
      "metadata": {
        "id": "6ccIm-pKGp1Y"
      },
      "source": [
        "#### 109\n",
        "아래 코드의 출력 결과를 예상하라\n",
        "\n",
        "```\n",
        "if True :\n",
        "    print (\"1\")\n",
        "    print (\"2\")\n",
        "else :\n",
        "    print(\"3\")\n",
        "print(\"4\")\n",
        "```\n",
        "\n"
      ]
    },
    {
      "cell_type": "code",
      "metadata": {
        "id": "jOZZAstVJCml"
      },
      "source": [
        "if True :\n",
        "    print (\"1\")\n",
        "    print (\"2\")\n",
        "else :\n",
        "    print(\"3\")\n",
        "print(\"4\")\n",
        "#if문은 true일때 실행되기 때문에 1,2가 출력되고 밖에 있는 4가 추가로 출력되었다."
      ],
      "execution_count": null,
      "outputs": []
    },
    {
      "cell_type": "markdown",
      "metadata": {
        "id": "B5_aTODTGp3e"
      },
      "source": [
        "#### 110\n",
        "아래 코드의 출력 결과를 예상하라\n",
        "\n",
        "```\n",
        "if True :\n",
        "    if False:\n",
        "        print(\"1\")\n",
        "        print(\"2\")\n",
        "    else:\n",
        "        print(\"3\")\n",
        "else :\n",
        "    print(\"4\")\n",
        "print(\"5\")\n",
        "```\n",
        "\n"
      ]
    },
    {
      "cell_type": "code",
      "metadata": {
        "id": "y7cW_zhmLrrt"
      },
      "source": [
        "if True :\n",
        "    if False:\n",
        "        print(\"1\")\n",
        "        print(\"2\")\n",
        "    else:\n",
        "        print(\"3\")\n",
        "else :\n",
        "    print(\"4\")\n",
        "print(\"5\")\n",
        "\n",
        "#상위if는 true이기 때문에 실행되고, 종속된 if는 False이기 때문에 else에 있는 코드가 실행되어 3이 출력되고, 맨 아래에 있는 5가 추가로 출력되어, 최종적으로 3과 5가 출력된다"
      ],
      "execution_count": null,
      "outputs": []
    },
    {
      "cell_type": "markdown",
      "metadata": {
        "id": "b8jRVj06Gp5w"
      },
      "source": [
        "#### 111\n",
        "사용자로부터 입력받은 문자열을 두 번 출력하라. 아래는 사용자가 \"안녕하세요\"를 입력한 경우의 출력 결과이다.\n",
        "\n",
        "```\n",
        ">> 안녕하세요\n",
        "안녕하세요안녕하세요\n",
        "```\n",
        "\n"
      ]
    },
    {
      "cell_type": "code",
      "metadata": {
        "id": "ctbcc8VFN0u7"
      },
      "source": [
        "data = input(\"입력: \")\n",
        "print(data * 2)"
      ],
      "execution_count": null,
      "outputs": []
    },
    {
      "cell_type": "markdown",
      "metadata": {
        "id": "fHG6bXwrGp74"
      },
      "source": [
        "#### 112\n",
        "사용자로부터 하나의 숫자를 입력받고, 입력 받은 숫자에 10을 더해 출력하라.\n",
        "\n",
        "```\n",
        ">> 숫자를 입력하세요: 30\n",
        "40\n",
        "```\n",
        "\n"
      ]
    },
    {
      "cell_type": "code",
      "metadata": {
        "id": "eqEsL4CKOm6s"
      },
      "source": [
        "data = input(\"숫자를 입력하세요: \")\n",
        "print(int(data) + 10)"
      ],
      "execution_count": null,
      "outputs": []
    },
    {
      "cell_type": "markdown",
      "metadata": {
        "id": "DYyKl3tYGp-Q"
      },
      "source": [
        "#### 113\n",
        "사용자로부터 하나의 숫자를 입력 받고 짝수/홀수를 판별하라.\n",
        "\n",
        "```\n",
        ">> 30\n",
        "짝수\n",
        "```\n",
        "\n"
      ]
    },
    {
      "cell_type": "code",
      "metadata": {
        "id": "GbLrsL_jPI9X"
      },
      "source": [
        "data = input(\"숫자를 입력하세요. 짝수/홀수 판별해드립니다. \")\n",
        "if int(data)%2 == 0: #%는 나눈값의 나머지를 반환함.\n",
        "    print(\"짝수\")\n",
        "else:\n",
        "    print(\"홀수\")"
      ],
      "execution_count": null,
      "outputs": []
    },
    {
      "cell_type": "markdown",
      "metadata": {
        "id": "Z6Q8NVJxGqAe"
      },
      "source": [
        "#### 114\n",
        "사용자로부터 값을 입력받은 후 해당 값에 20을 더한 값을 출력하라. 단 사용자가 입력한 값과 20을 더한 계산 값이 255를 초과하는 경우 255를 출력해야 한다.\n",
        "\n",
        "```\n",
        ">> 입력값: 200\n",
        "출력값: 220\n",
        "```\n",
        "\n",
        "```\n",
        ">> 입력값: 240\n",
        "출력값: 255\n",
        "```\n",
        "\n",
        "\n",
        "\n"
      ]
    },
    {
      "cell_type": "code",
      "metadata": {
        "id": "HSahtV2eQhwC"
      },
      "source": [
        "print(\"숫자를 입력하세요. 20을 더해줍니다.\")\n",
        "data = input(\"입력값: \")\n",
        "print(int(data) + 20)\n",
        "#일단 20 더하는 기능은 만들었고..."
      ],
      "execution_count": null,
      "outputs": []
    },
    {
      "cell_type": "code",
      "metadata": {
        "id": "QjyLPAFoQ8pr"
      },
      "source": [
        "print(\"숫자를 입력하세요. 20을 더해줍니다. 단, 더해진 값이 255를 초과할 경우 255를 출력합니다.\")\n",
        "data = input(\"입력값: \")\n",
        "if int(data) + 20 < 255:\n",
        "    print(int(data) + 20) #'int(data) + 20'을 변수로 지정하면 좀 더 깔끔할듯.\n",
        "else:\n",
        "    print(255)"
      ],
      "execution_count": null,
      "outputs": []
    },
    {
      "cell_type": "markdown",
      "metadata": {
        "id": "hnUFVidGGqCm"
      },
      "source": [
        "#### 115\n",
        "사용자로부터 하나의 값을 입력받은 후 해당 값에 20을 뺀 값을 출력하라. 단 출력 값의 범위는 0~255이다. 예를 들어 결괏값이 0보다 작은 값이되는 경우 0을 출력하고 255보다 큰 값이 되는 경우 255를 출력해야 한다. \n",
        "\n",
        "```\n",
        ">> 입력값: 200\n",
        "출력값: 180\n",
        "```\n",
        "\n",
        "```\n",
        ">> 입력값: 15\n",
        "출력값: 0\n",
        "```\n",
        "\n",
        "\n",
        "\n"
      ]
    },
    {
      "cell_type": "code",
      "metadata": {
        "id": "Yi5DuPBASOKV"
      },
      "source": [
        "print(\"숫자를 입력하세요. 20을 빼줍니다. 단, 뺀 값이 0미만일 경우 0을 출력하고, 255를 초과할 경우 255를 출력합니다.\")\n",
        "data = input(\"입력값: \")\n",
        "num = int(data) - 20\n",
        "if 0 < num < 255:\n",
        "    print(num)\n",
        "elif 0 > num:\n",
        "    print(0)\n",
        "else:\n",
        "    print(255)"
      ],
      "execution_count": null,
      "outputs": []
    },
    {
      "cell_type": "markdown",
      "metadata": {
        "id": "Hi2YY7hwGqEz"
      },
      "source": [
        "#### 116\n",
        "사용자로부터 입력 받은 시간이 정각인지 판별하라.\n",
        "\n",
        "```\n",
        ">> 현재시간:02:00\n",
        "정각 입니다.\n",
        "```\n",
        "\n",
        "```\n",
        ">> 현재시간:03:10\n",
        "정각이 아닙니다\n",
        "```\n",
        "\n",
        "\n",
        "\n"
      ]
    },
    {
      "cell_type": "code",
      "metadata": {
        "id": "YdfOp1PWXM6w"
      },
      "source": [
        "print(\"현재 시간을 입력하세요. 정각인지 아닌지 판별해줍니다.\")\n",
        "time = input(\"현재시간: \")\n",
        "if time[3] == \"0\" and time[4] == \"0\":\n",
        "    print(\"정각입니다.\")\n",
        "else:\n",
        "    print(\"정각이 아닙니다.\")"
      ],
      "execution_count": null,
      "outputs": []
    },
    {
      "cell_type": "markdown",
      "metadata": {
        "id": "dJZlqMn-GqG-"
      },
      "source": [
        "자동으로 현재 시간이 정각인지 아닌지 판단하는 코드를 만들고 싶어서 한번 만들어 보았다."
      ]
    },
    {
      "cell_type": "code",
      "metadata": {
        "id": "lpW_L6FeZlVj"
      },
      "source": [
        "import time #현재 시간을 가지고 오는 라이브러리를 import해주고\n",
        "\n",
        "time.strftime('%Y-%m-%d %H:%M:%S', time.localtime()) \n",
        "\n",
        "#켁 시간대가 다르네;;;"
      ],
      "execution_count": null,
      "outputs": []
    },
    {
      "cell_type": "code",
      "metadata": {
        "colab": {
          "base_uri": "https://localhost:8080/"
        },
        "id": "TZSfsi4obyJp",
        "outputId": "2829dd0b-9b5c-4bcb-d34f-c4d76fbc87e1"
      },
      "source": [
        "import datetime\n",
        "from pytz import timezone, utc\n",
        "\n",
        "KST = timezone('Asia/Seoul')\n",
        "now = datetime.datetime.utcnow()\n",
        "str_now = str(now)\n",
        "\n",
        "start = input('\"시간 알려줘\" 라고 적어보세요.')\n",
        "if start == \"시간 알려줘\":\n",
        "    print(str_now)\n",
        "    if str_now[-11:-13] == \"0\":\n",
        "        print(\"정각입니다.\")\n",
        "    else:\n",
        "        print(\"정각이 아닙니다.\")\n",
        "else:\n",
        "    print(\"시간 알려줘라고 다시 적어보세요\")\n"
      ],
      "execution_count": null,
      "outputs": [
        {
          "output_type": "stream",
          "text": [
            "\"시간 알려줘\" 라고 적어보세요.시간 알려줘\n",
            "2021-01-23 15:03:55.096534\n",
            "정각이 아닙니다.\n"
          ],
          "name": "stdout"
        }
      ]
    },
    {
      "cell_type": "markdown",
      "metadata": {
        "id": "HWA9RjB4dNZ-"
      },
      "source": [
        "위에 코드 역시 시간대가 안맞는다ㅋㅋㅋㅋ\n",
        "좀 더 구글링 해보자..."
      ]
    },
    {
      "cell_type": "code",
      "metadata": {
        "colab": {
          "base_uri": "https://localhost:8080/"
        },
        "id": "Wc4pbY_xdNi1",
        "outputId": "d98d44b2-757b-4d4f-dbd5-38e911d9cfe1"
      },
      "source": [
        "from pytz import timezone\n",
        "from datetime import datetime\n",
        "\n",
        "if __name__ == \"__main__\": #이거 이해 못하겠음...\n",
        "    fmt = \"%Y-%m-%d %H:%M:%S %Z%z\"\n",
        "    KST = datetime.now(timezone('Asia/Seoul'))\n",
        "    str_KST = str(KST)\n",
        "\n",
        "\n",
        "    start = input('\"시간 알려줘\" 라고 적어보세요.')\n",
        "    if start == \"시간 알려줘\":\n",
        "        print(str_KST)\n",
        "        if str_KST[14:16] == \"00\":\n",
        "           print(\"정각입니다.\")\n",
        "        else:\n",
        "           print(\"정각이 아닙니다.\")\n",
        "    else:\n",
        "        print(\"시간 알려줘라고 다시 적어보세요\")   "
      ],
      "execution_count": null,
      "outputs": [
        {
          "output_type": "stream",
          "text": [
            "\"시간 알려줘\" 라고 적어보세요.시간 알려줘\n",
            "2021-01-24 02:02:41.820382+09:00\n",
            "정각이 아닙니다.\n"
          ],
          "name": "stdout"
        }
      ]
    },
    {
      "cell_type": "markdown",
      "metadata": {
        "id": "OE8KwDf9GqJN"
      },
      "source": [
        "####117\n",
        "사용자로 입력받은 단어가 아래 fruit 리스트에 포함되어 있는지를 확인하라. 포함되었다면 \"정답입니다\"를 아닐 경우 \"오답입니다\" 출력하라.\n",
        "\n",
        "```\n",
        "fruit = [\"사과\", \"포도\", \"홍시\"]\n",
        "```\n",
        "\n",
        "\n",
        "```\n",
        ">> 좋아하는 과일은? 사과\n",
        "정답입니다.\n",
        "```\n",
        "\n",
        "\n",
        "\n"
      ]
    },
    {
      "cell_type": "code",
      "metadata": {
        "colab": {
          "base_uri": "https://localhost:8080/"
        },
        "id": "1X-xcFLmxy5x",
        "outputId": "1c5627e1-bba2-4bdd-cb60-9947a321a40d"
      },
      "source": [
        "fruit = [\"사과\", \"포도\", \"홍시\"]\n",
        "favorite = input(\"좋아하는 과일은? \")\n",
        "if favorite in fruit:\n",
        "    print(\"정답입니다.\")\n",
        "else:\n",
        "    print(\"오답입니다.\")"
      ],
      "execution_count": null,
      "outputs": [
        {
          "output_type": "stream",
          "text": [
            "좋아하는 과일은? 수박\n",
            "오답입니다.\n"
          ],
          "name": "stdout"
        }
      ]
    },
    {
      "cell_type": "markdown",
      "metadata": {
        "id": "nuHTp_oSGqLX"
      },
      "source": [
        "#### 118\n",
        "투자 경고 종목 리스트가 있을 때 사용자로부터 종목명을 입력 받은 후 해당 종목이 투자 경고 종목이라면 '투자 경고 종목입니다'를 아니면 \"투자 경고 종목이 아닙니다.\"를 출력하는 프로그램을 작성하라.\n",
        "\n",
        "```\n",
        "warn_investment_list = [\"Microsoft\", \"Google\", \"Naver\", \"Kakao\", \"SAMSUNG\", \"LG\"]\n",
        "```\n",
        "\n"
      ]
    },
    {
      "cell_type": "code",
      "metadata": {
        "colab": {
          "base_uri": "https://localhost:8080/"
        },
        "id": "MDBnZoVQy1TG",
        "outputId": "71039350-db53-4a10-d669-01ab3b90838b"
      },
      "source": [
        "warn_investment_list = [\"Microsoft\", \"Google\", \"Naver\", \"Kakao\", \"SAMSUNG\", \"LG\"]\n",
        "warning = input(\"투자 경고 알라미: \")\n",
        "if warning in warn_investment_list:\n",
        "    print(\"투자 경고 종목입니다.\")\n",
        "else:\n",
        "    print(\"투자 경고 종목이 아닙니다.\")"
      ],
      "execution_count": null,
      "outputs": [
        {
          "output_type": "stream",
          "text": [
            "투자 경고 알라미: celltrion\n",
            "투자 경고 종목이 아닙니다.\n"
          ],
          "name": "stdout"
        }
      ]
    },
    {
      "cell_type": "markdown",
      "metadata": {
        "id": "wMAPIbTgGqNo"
      },
      "source": [
        "#### 119\n",
        "아래와 같이 fruit 딕셔너리가 정의되어 있다. 사용자가 입력한 값이 딕셔너리 키 (key) 값에 포함되었다면 \"정답입니다\"를 아닐 경우 \"오답입니다\" 출력하라.\n",
        "\n",
        "```\n",
        "fruit = {\"봄\" : \"딸기\", \"여름\" : \"토마토\", \"가을\" : \"사과\"}\n",
        "```\n",
        "\n",
        "\n",
        "```\n",
        ">> 제가좋아하는계절은: 봄\n",
        "정답입니다.\n",
        "```\n",
        "\n",
        "\n"
      ]
    },
    {
      "cell_type": "code",
      "metadata": {
        "colab": {
          "base_uri": "https://localhost:8080/"
        },
        "id": "HuYQV9ir0PcX",
        "outputId": "aa67fd39-fa17-48d1-81b4-5a3c8e1ef556"
      },
      "source": [
        "fruit = {\"봄\" : \"딸기\", \"여름\" : \"토마토\", \"가을\" : \"사과\"}\n",
        "favorite = input(\"제가좋아하는계절은: \")\n",
        "if favorite in fruit:\n",
        "    print(\"정답입니다.\")\n",
        "else:\n",
        "    print(\"오답입니다.\")"
      ],
      "execution_count": null,
      "outputs": [
        {
          "output_type": "stream",
          "text": [
            "제가좋아하는계절은: 봄\n",
            "정답입니다.\n"
          ],
          "name": "stdout"
        }
      ]
    },
    {
      "cell_type": "markdown",
      "metadata": {
        "id": "FW8UUW6QGqPu"
      },
      "source": [
        "#### 120\n",
        "아래와 같이 fruit 딕셔너리가 정의되어 있다. 사용자가 입력한 값이 딕셔너리 값 (value)에 포함되었다면 \"정답입니다\"를 아닐 경우 \"오답입니다\" 출력하라.\n",
        "\n",
        "```\n",
        "fruit = {\"봄\" : \"딸기\", \"여름\" : \"토마토\", \"가을\" : \"사과\"}\n",
        "```\n",
        "\n",
        "\n",
        "```\n",
        ">> 좋아하는과일은? 한라봉\n",
        "오답입니다.\n",
        "```\n",
        "\n",
        "\n"
      ]
    },
    {
      "cell_type": "code",
      "metadata": {
        "colab": {
          "base_uri": "https://localhost:8080/"
        },
        "id": "Q9_p5PJO1ZLj",
        "outputId": "17387fea-f488-4647-a70d-c642f0fc43ce"
      },
      "source": [
        "fruit = {\"봄\" : \"딸기\", \"여름\" : \"토마토\", \"가을\" : \"사과\"}\n",
        "favorite = input(\"좋아하는과일은? \")\n",
        "if favorite in fruit.values():\n",
        "    print(\"정답입니다.\")\n",
        "else:\n",
        "    print(\"오답입니다.\")"
      ],
      "execution_count": null,
      "outputs": [
        {
          "output_type": "stream",
          "text": [
            "좋아하는과일은? 봄\n",
            "오답입니다.\n"
          ],
          "name": "stdout"
        }
      ]
    },
    {
      "cell_type": "markdown",
      "metadata": {
        "id": "yi_9Hg8wGqRx"
      },
      "source": [
        "#### 121\n",
        "사용자로부터 문자 한 개를 입력 받고, 소문자일 경우 대문자로, 대문자 일 경우, 소문자로 변경해서 출력하라.\n",
        "\n",
        "```\n",
        ">> a\n",
        "A\n",
        "```\n",
        "힌트-1 : islower() 함수는 문자의 소문자 여부를 판별합니다. 만약 소문자일 경우 True, 대문자일 경우 False를 반환합니다. 힌트-2 : upper() 함수는 대문자로, lower() 함수는 소문자로 변경합니다.\n"
      ]
    },
    {
      "cell_type": "code",
      "metadata": {
        "colab": {
          "base_uri": "https://localhost:8080/"
        },
        "id": "co35T3Wd7Gwr",
        "outputId": "5f7a328d-2f34-426d-fdc0-1b0444ebe875"
      },
      "source": [
        "exchange = input(\"대분자를 소문자로 소문자를 대문자로 바꿔줍니다. \")\n",
        "if exchange.islower():\n",
        "    print(exchange.upper())\n",
        "else:\n",
        "    print(exchange.lower())"
      ],
      "execution_count": null,
      "outputs": [
        {
          "output_type": "stream",
          "text": [
            "대분자를 소문자로 소문자를 대문자로 바꿔줍니다. A\n",
            "a\n"
          ],
          "name": "stdout"
        }
      ]
    },
    {
      "cell_type": "markdown",
      "metadata": {
        "id": "MpoyjAX0GqT-"
      },
      "source": [
        "\n",
        "#### 122\n",
        "점수 구간에 해당하는 학점이 아래와 같이 정의되어 있다. 사용자로부터 score를 입력받아 학점을 출력하라.\n",
        "\n",
        "|점수|학점|\n",
        "|---|---|\n",
        "|81~100|A|\n",
        "|61~80|B|\n",
        "|41~60|C|\n",
        "|21~40|D|\n",
        "|0~20|E|\n",
        "\n",
        "\n",
        "\n",
        "```\n",
        ">> score: 83\n",
        "grade is A\n",
        "```\n",
        "\n"
      ]
    },
    {
      "cell_type": "code",
      "metadata": {
        "colab": {
          "base_uri": "https://localhost:8080/"
        },
        "id": "RAS8uR2y8jWD",
        "outputId": "f27c521d-8528-4a4a-c249-a985f6eacb32"
      },
      "source": [
        "score = input(\"점수를 입력하세요: \")\n",
        "score_int = int(score)\n",
        "if score_int >= 81:\n",
        "    print(\"A\")\n",
        "elif 61 <= score_int <= 80:\n",
        "    print(\"B\")\n",
        "elif 41 <= score_int <= 60:\n",
        "    print(\"C\")\n",
        "elif 21 <= score_int <= 40:\n",
        "    print(\"D\")\n",
        "else:\n",
        "    print(\"E\")"
      ],
      "execution_count": null,
      "outputs": [
        {
          "output_type": "stream",
          "text": [
            "점수를 입력하세요: 0\n",
            "E\n"
          ],
          "name": "stdout"
        }
      ]
    },
    {
      "cell_type": "markdown",
      "metadata": {
        "id": "gg_S3p2NGqWY"
      },
      "source": [
        "#### 123\n",
        "사용자로부터 달러, 엔, 유로, 또는 위안 금액을 입력받은 후 이를 원으로 변환하는 프로그램을 작성하라. 각 통화별 환율은 다음과 같다. 사용자는 100 달러, 1000 엔, 13 유로, 100 위안과 같이 금액과 통화명 사이에 공백을 넣어 입력한다고 가정한다.\n",
        "\n",
        "|통화명|환율|\n",
        "|---|---|\n",
        "|달러|1167|\n",
        "|엔|1.096|\n",
        "|유로|1268|\n",
        "|위안|171|\n",
        "\n",
        "\n",
        "```\n",
        ">> 입력: 100 달러\n",
        "116700.00 원\n",
        "```\n",
        "\n",
        "\n"
      ]
    },
    {
      "cell_type": "code",
      "metadata": {
        "colab": {
          "base_uri": "https://localhost:8080/"
        },
        "id": "vGHx1eLu_oyh",
        "outputId": "be10b23d-a177-4a8d-aa63-0b49d462d056"
      },
      "source": [
        "rate = {\"달러\" : 1167, \"엔\" : 1.096, \"유로\" : 1268, \"위안\" : 171}\n",
        "print(\"원으로 바꿔드립니다.\")\n",
        "exchange = input(\"입력: \")\n",
        "num, currency = exchange.split()\n",
        "print(float(num) * rate[currency], \"원\")"
      ],
      "execution_count": null,
      "outputs": [
        {
          "output_type": "stream",
          "text": [
            "원으로 바꿔드립니다.\n",
            "입력: 1000 엔\n",
            "1096.0 원\n"
          ],
          "name": "stdout"
        }
      ]
    },
    {
      "cell_type": "markdown",
      "metadata": {
        "id": "GN4xFyMFbgQ6"
      },
      "source": [
        "#### 124\r\n",
        "사용자로부터 세 개의 숫자를 입력 받은 후 가장 큰 숫자를 출력하라.\r\n",
        "\r\n",
        "```\r\n",
        ">> input number1: 10\r\n",
        ">> input number2: 9\r\n",
        ">> input number3: 20\r\n",
        "20\r\n",
        "```\r\n",
        "\r\n"
      ]
    },
    {
      "cell_type": "code",
      "metadata": {
        "colab": {
          "base_uri": "https://localhost:8080/"
        },
        "id": "lrL1GiXjT_mO",
        "outputId": "69c0fcd9-d9cc-4d20-e594-7d31be20c18f"
      },
      "source": [
        "num1 = float(input(\"input number1: \"))\r\n",
        "num2 = float(input(\"input number2: \"))\r\n",
        "num3 = float(input(\"input number3: \"))\r\n",
        "if num1 > num2 and num1 > num3:\r\n",
        "    print(num1)\r\n",
        "if num2 > num1 and num2 > num3:\r\n",
        "    print(num2)\r\n",
        "if num3 > num2 and num3 > num1:\r\n",
        "    print(num3)"
      ],
      "execution_count": null,
      "outputs": [
        {
          "output_type": "stream",
          "text": [
            "input number1: 8\n",
            "input number2: 6\n",
            "input number3: 9\n",
            "9.0\n"
          ],
          "name": "stdout"
        }
      ]
    },
    {
      "cell_type": "markdown",
      "metadata": {
        "id": "PswNFmumdDvh"
      },
      "source": [
        "#### 125\r\n",
        "휴대폰 번호 앞자리에 따라 통신사는 아래와 같이 구분된다. 사용자로부터 휴대전화 번호를 입력 받고, 통신사를 출력하는 프로그램을 작성하라.\r\n",
        "\r\n",
        "|번호|통신사|\r\n",
        "|---|---|\r\n",
        "|011|SKT|\r\n",
        "|016|KT|\r\n",
        "|019|LGU|\r\n",
        "|010|알수없음|\r\n",
        "\r\n",
        "\r\n",
        "```\r\n",
        ">> 휴대전화 번호 입력: 011-345-1922\r\n",
        "당신은 SKT 사용자입니다.\r\n",
        "```\r\n",
        "\r\n"
      ]
    },
    {
      "cell_type": "code",
      "metadata": {
        "colab": {
          "base_uri": "https://localhost:8080/"
        },
        "id": "rbi3uelVdDWy",
        "outputId": "54138764-66f2-407e-c104-b953897a2345"
      },
      "source": [
        "num = input(\"휴대전화 번호 입력: \")\r\n",
        "number = num[:3]\r\n",
        "if number == \"011\":\r\n",
        "    mob = \"SKT\"\r\n",
        "elif number == \"016\":\r\n",
        "    mob = \"KT\"\r\n",
        "elif number == \"019\":\r\n",
        "    mob = \"LGU\"\r\n",
        "else:\r\n",
        "    print(\"알수없음\")\r\n",
        "print(f\"당신은 {mob} 사용자입니다.\")"
      ],
      "execution_count": null,
      "outputs": [
        {
          "output_type": "stream",
          "text": [
            "휴대전화 번호 입력: 011-345-1922\n",
            "당신은 SKT 사용자입니다.\n"
          ],
          "name": "stdout"
        }
      ]
    },
    {
      "cell_type": "markdown",
      "metadata": {
        "id": "7EC9FLpHivtb"
      },
      "source": [
        "#### 126\r\n",
        "우편번호는 5자리로 구성되는데, 앞의 세자리는 구를 나타낸다. 예를들어, 강북구의 경우 010, 011, 012 세 자리로 시작한다.\r\n",
        "\r\n",
        "| -|  0  |  1 |  2 | 3 | 4 | 5 | 6 | 7 | 8 | 9 |\r\n",
        "|--|------|------|------|------|------|------|------|------|------|---|\r\n",
        "|01|강북구|강북구|강북구|도봉구|도봉구|도봉구|노원구|노원구|노원구|노원구|\r\n",
        "\r\n",
        "사용자로 부터 5자리 우편번호를 입력받고 구를 판별하라\r\n",
        "\r\n",
        "```\r\n",
        ">> 우편번호: 01400\r\n",
        "도봉구\r\n",
        "```\r\n",
        "\r\n"
      ]
    },
    {
      "cell_type": "code",
      "metadata": {
        "colab": {
          "base_uri": "https://localhost:8080/"
        },
        "id": "mOii6VbycSar",
        "outputId": "a520f73c-de1b-45f7-b851-3a2fff9b4ee2"
      },
      "source": [
        "add = input(\"우편번호: \")\r\n",
        "address = add[2]\r\n",
        "if address == \"0\" or address == \"1\" or address == \"2\":\r\n",
        "    print(\"강북구\")\r\n",
        "elif address == \"3\" or address == \"4\" or address == \"5\":\r\n",
        "    print(\"도봉구\")\r\n",
        "elif address == \"6\" or address == \"7\" or address == \"8\" or address == \"9\":\r\n",
        "    print(\"노원구\")\r\n",
        "else:\r\n",
        "    print(\"올바르지 않은 우편번호입니다. 다시 입력해주세요.\")"
      ],
      "execution_count": null,
      "outputs": [
        {
          "output_type": "stream",
          "text": [
            "우편번호: 01400\n",
            "도봉구\n"
          ],
          "name": "stdout"
        }
      ]
    },
    {
      "cell_type": "markdown",
      "metadata": {
        "id": "MgHvrW_B_pNg"
      },
      "source": [
        "#### 127\r\n",
        "주민등록번호 뒷 자리 7자리 중 첫째 자리는 성별을 나타내는데, 1, 3은 남자 2, 4는 여자를 의미한다. 사용자로부터 13자리의 주민등록번호를 입력 받은 후 성별 (남자, 여자)를 출력하는 프로그램을 작성하라.\r\n",
        "\r\n",
        "```\r\n",
        ">> 주민등록번호: 821010-1635210\r\n",
        "남자\r\n",
        "```\r\n",
        "\r\n"
      ]
    },
    {
      "cell_type": "code",
      "metadata": {
        "colab": {
          "base_uri": "https://localhost:8080/"
        },
        "id": "3MyrQjdXmrfY",
        "outputId": "35e43eba-c5d7-4af3-b9aa-1dc9b734556b"
      },
      "source": [
        "id = input(\"주민등록번호: \")\r\n",
        "num = id[7]\r\n",
        "if num in [\"1\", \"3\"]:\r\n",
        "    print(\"남자\")\r\n",
        "else:\r\n",
        "    print(\"여자\")"
      ],
      "execution_count": null,
      "outputs": [
        {
          "output_type": "stream",
          "text": [
            "주민등록번호: 821010-2635210\n",
            "여자\n"
          ],
          "name": "stdout"
        }
      ]
    },
    {
      "cell_type": "markdown",
      "metadata": {
        "id": "aLbYByr__pPu"
      },
      "source": [
        "#### 128\r\n",
        "주민등록번호의 뒷 자리 7자리 중 두번째와 세번째는 지역코드를 의미한다. 주민 등록 번호를 입력 받은 후 출생지가 서울인지 아닌지 판단하는 코드를 작성하라\r\n",
        "\r\n",
        "|지역코드|출생지|\r\n",
        "|---|---|\r\n",
        "|00 ~ 08|서울|\r\n",
        "|09 ~ 12|부산|\r\n",
        "\r\n",
        "```\r\n",
        ">> 주민등록번호: 821010-1635210\r\n",
        "서울이 아닙니다.\r\n",
        "```\r\n",
        "\r\n",
        "\r\n",
        "```\r\n",
        ">> 주민등록번호: 861010-1015210\r\n",
        "서울 입니다.\r\n",
        "```\r\n",
        "\r\n",
        "\r\n"
      ]
    },
    {
      "cell_type": "code",
      "metadata": {
        "colab": {
          "base_uri": "https://localhost:8080/"
        },
        "id": "dmyW2Sm4oNvz",
        "outputId": "63292306-af5c-445b-859e-db00530c6526"
      },
      "source": [
        "id = input(\"주민등록번호: \")\r\n",
        "num = id.split(\"-\")[1]\r\n",
        "if 0 <= int(num[1:3]) <= 8:\r\n",
        "    print(\"서울 입니다.\")\r\n",
        "else:\r\n",
        "    print(\"서울이 아닙니다.\")"
      ],
      "execution_count": null,
      "outputs": [
        {
          "output_type": "stream",
          "text": [
            "주민등록번호: 861010-1015210\n",
            "서울 입니다.\n"
          ],
          "name": "stdout"
        }
      ]
    },
    {
      "cell_type": "markdown",
      "metadata": {
        "id": "9REm8XPc_pR1"
      },
      "source": [
        "#### 129\r\n",
        "주민등록번호는 13자리로 구성되는데 마지막 자리수는 주민등록번호의 유효성을 체크하는데 사용된다. 먼저 앞에서부터 12자리의 숫자에 2, 3, 4, 5, 6, 7, 8, 9, 2, 3, 4, 5를 차례로 곱한 뒤 그 값을 전부 더한다. 연산 결과 값을 11로 나누면 나머지가 나오는데 11에서 나머지를 뺀 값이 주민등록번호의 마지막 번호가 된다.\r\n",
        "\r\n",
        "```\r\n",
        "  8 2 1 0 1 0 - 1 6 3 5 2 1 0\r\n",
        "x 2 3 4 5 6 7   8 9 2 3 4 5 \r\n",
        "-----------------------------\r\n",
        "1차 계산: (8*2 + 2*3 + 1*4 + 0*5 + 1*6 + 0*7 + 1*8 + 6*9 + 3*2 + 5*3 + 2*4 + 1*5) = (128 % 11) = 7\r\n",
        "2차 계산: 11 -7 = 4\r\n",
        "```\r\n",
        "\r\n",
        "위와 같이 821010-1635210에 대해서 계산을 해보면 마지막 자리는 4가 되어야 함을 알 수 있다. 즉, 821010-1635210은 유효하지 않은 주민등록번호임을 알 수 있다.\r\n",
        "\r\n",
        "다음과 같이 사용자로부터 주민등록번호를 입력받은 후 주민등록번호가 유효한지를 출력하는 프로그램을 작성하라.\r\n",
        "\r\n",
        "\r\n",
        "```\r\n",
        ">> 주민등록번호: 821010-1635210\r\n",
        "유효하지 않은 주민등록번호입니다. \r\n",
        "```\r\n",
        "\r\n"
      ]
    },
    {
      "cell_type": "code",
      "metadata": {
        "colab": {
          "base_uri": "https://localhost:8080/"
        },
        "id": "FtsJbOEAqAMi",
        "outputId": "901c29dc-3f6a-4bbc-f647-8d9e01959ac6"
      },
      "source": [
        "id = input(\"주민등록번호: \")\r\n",
        "cal1 = int(id[0]) * 2 + int(id[1]) * 3 + int(id[2]) * 4 + int(id[3]) * 5 + int(id[4]) * 6 + int(id[5]) * 7 + int(id[7]) * 8 + int(id[8]) * 9 + int(id[9]) * 2 + int(id[10]) * 3 + int(id[11]) * 4 + int(id[12]) * 5\r\n",
        "cal2 = cal1 % 11\r\n",
        "cal3 = str(11 - cal2)\r\n",
        "\r\n",
        "if id[-1] == cal3[0]:\r\n",
        "    print(\"유효한 주민등록번호입니다.\")\r\n",
        "else:\r\n",
        "    print(\"유효하지 않은 주민등록번호입니다.\")"
      ],
      "execution_count": null,
      "outputs": [
        {
          "output_type": "stream",
          "text": [
            "주민등록번호: 821010-1635210\n",
            "유효하지 않은 주민등록번호입니다.\n"
          ],
          "name": "stdout"
        }
      ]
    },
    {
      "cell_type": "markdown",
      "metadata": {
        "id": "LQe3jYgL_pT1"
      },
      "source": [
        "#### 130\r\n",
        "아래 코드는 비트코인의 가격 정보를 딕셔너리로 가져오는 코드이다.\r\n",
        "\r\n",
        "```\r\n",
        "import requests\r\n",
        "btc = requests.get(\"https://api.bithumb.com/public/ticker/\").json()['data']\r\n",
        "```\r\n",
        "btc 딕셔너리 안에는 시가, 종가, 최고가, 최저가 등이 저장되어 있다. 최고가와 최저가의 차이를 변동폭으로 정의할 때 (시가 + 변동폭)이 최고가 보다 높을 경우 \"상승장\", 그렇지 않은 경우 \"하락장\" 문자열을 출력하라.\r\n",
        "\r\n",
        "|Key Name|Description|\r\n",
        "|---|---|\r\n",
        "|opening_price|최근 24시간 내 시작 거래금액|\r\n",
        "|closing_price|최근 24시간 내 마지막 거래금액|\r\n",
        "|min_price|최근 24시간 내 최저 거래금액|\r\n",
        "|max_price|최근 24시간 내 최고 거래금액|"
      ]
    },
    {
      "cell_type": "code",
      "metadata": {
        "colab": {
          "base_uri": "https://localhost:8080/"
        },
        "id": "HRM8xFLZuWjc",
        "outputId": "3bc99d2f-3991-4426-9efd-ae42d0cba6b6"
      },
      "source": [
        "import requests\r\n",
        "btc = requests.get(\"https://api.bithumb.com/public/ticker/\").json()['data']\r\n",
        "\r\n",
        "ran = float(btc['max_price']) - float(btc['min_price'])\r\n",
        "open = float(btc['opening_price'])\r\n",
        "close = float(btc['closing_price'])\r\n",
        "max = float(btc['max_price'])\r\n",
        "min = float(btc['min_price'])\r\n",
        "\r\n",
        "if open + ran > max:\r\n",
        "    print(\"상승장\")\r\n",
        "else:\r\n",
        "    print(\"하락장\")"
      ],
      "execution_count": null,
      "outputs": [
        {
          "output_type": "stream",
          "text": [
            "상승장\n"
          ],
          "name": "stdout"
        }
      ]
    },
    {
      "cell_type": "markdown",
      "metadata": {
        "id": "02-cMqq0xnXU"
      },
      "source": [
        "## 08. 파이썬 반복문\r\n",
        "---\r\n",
        "파이썬 for 문은 횟수가 정해져 있거나 상대적으로 횟수가 적은 경우에 대한 반복에 주로 사용됩니다. 파이썬 while문은 횟수가 상대적으로 크거나 무한 루프 형태의 반복문에 사용됩니다."
      ]
    },
    {
      "cell_type": "markdown",
      "metadata": {
        "id": "6CGmEUGax0bq"
      },
      "source": [
        "#### 131\r\n",
        "for문의 실행결과를 예측하라.\r\n",
        "\r\n",
        "\r\n",
        "```\r\n",
        "과일 = [\"사과\", \"귤\", \"수박\"]\r\n",
        "for 변수 in 과일:\r\n",
        "    print(변수)\r\n",
        "```\r\n",
        "\r\n"
      ]
    },
    {
      "cell_type": "code",
      "metadata": {
        "colab": {
          "base_uri": "https://localhost:8080/"
        },
        "id": "kq_uEGjju6OU",
        "outputId": "3bbf1618-4190-453e-83a7-5dbf91c0a6f0"
      },
      "source": [
        "과일 = [\"사과\", \"귤\", \"수박\"]\r\n",
        "for 변수 in 과일:\r\n",
        "    print(변수)"
      ],
      "execution_count": null,
      "outputs": [
        {
          "output_type": "stream",
          "text": [
            "사과\n",
            "귤\n",
            "수박\n"
          ],
          "name": "stdout"
        }
      ]
    },
    {
      "cell_type": "markdown",
      "metadata": {
        "id": "eFNxXKkmyLGX"
      },
      "source": [
        "리스트에 들어있는 문자열이 하나씩 출력된다. \r\n",
        "\r\n",
        "\r\n"
      ]
    },
    {
      "cell_type": "markdown",
      "metadata": {
        "id": "sRhoQuGN_pV-"
      },
      "source": [
        "#### 132\r\n",
        "for문의 실행결과를 예측하라.\r\n",
        "\r\n",
        "```\r\n",
        "과일 = [\"사과\", \"귤\", \"수박\"]\r\n",
        "for 변수 in 과일:\r\n",
        "  print(\"#####\")\r\n",
        "```\r\n",
        "\r\n"
      ]
    },
    {
      "cell_type": "code",
      "metadata": {
        "colab": {
          "base_uri": "https://localhost:8080/"
        },
        "id": "GXx-rQCyyDD8",
        "outputId": "a92827f9-ada0-4d55-a321-21bbc29282ba"
      },
      "source": [
        "과일 = [\"사과\", \"귤\", \"수박\"]\r\n",
        "for 변수 in 과일:\r\n",
        "  print(\"#####\")"
      ],
      "execution_count": null,
      "outputs": [
        {
          "output_type": "stream",
          "text": [
            "#####\n",
            "#####\n",
            "#####\n"
          ],
          "name": "stdout"
        }
      ]
    },
    {
      "cell_type": "markdown",
      "metadata": {
        "id": "kzyZlfRf_pYF"
      },
      "source": [
        "for문의 핵심은 들여쓰기된 코드가 자료구조에 저장된 데이터 개수만큼 반복된다는 것이다. `과일 = [\"사과\", \"귤\", \"수박\"]` 에는 세 개의 데이터가 저장돼 있으므로 들여쓰기된 `print(\"####\")`코드가 세 번 실행된다."
      ]
    },
    {
      "cell_type": "markdown",
      "metadata": {
        "id": "VDBpNOf1_paW"
      },
      "source": [
        "#### 133\r\n",
        "다음 for 문과 동일한 기능을 수행하는 코드를 작성하세요.\r\n",
        "\r\n",
        "```\r\n",
        "for 변수 in [\"A\", \"B\", \"C\"]:\r\n",
        "  print(변수)\r\n",
        "```\r\n",
        "\r\n"
      ]
    },
    {
      "cell_type": "code",
      "metadata": {
        "colab": {
          "base_uri": "https://localhost:8080/"
        },
        "id": "CFCz_uwv1DOS",
        "outputId": "459b943c-eb40-46b9-ca35-d79b2666f735"
      },
      "source": [
        "for 변수 in [\"A\", \"B\", \"C\"]:\n",
        "  print(변수)\n",
        "#위 코드\n",
        "\n",
        "print(\"A\")\n",
        "print(\"B\")\n",
        "print(\"C\")"
      ],
      "execution_count": null,
      "outputs": [
        {
          "output_type": "stream",
          "text": [
            "A\n",
            "B\n",
            "C\n",
            "A\n",
            "B\n",
            "C\n"
          ],
          "name": "stdout"
        }
      ]
    },
    {
      "cell_type": "markdown",
      "metadata": {
        "id": "OIsR7TqQ_pcm"
      },
      "source": [
        "#### 134\n",
        "for문을 풀어서 동일한 동작을하는 코드를 작성하라.\n",
        "\n",
        "```\n",
        "for 변수 in [\"A\", \"B\", \"C\"]:\n",
        "  print(\"출력:\", 변수)\n",
        "```\n",
        "\n"
      ]
    },
    {
      "cell_type": "code",
      "metadata": {
        "colab": {
          "base_uri": "https://localhost:8080/"
        },
        "id": "ITyVsVTb1VTQ",
        "outputId": "a5d88729-5d0f-4708-aae4-0268a14d9389"
      },
      "source": [
        "for 변수 in [\"A\", \"B\", \"C\"]:\n",
        "  print(\"출력:\", 변수)\n",
        "#위 코드\n",
        "\n",
        "print(\"출력: A\")\n",
        "print(\"출력: B\")\n",
        "print(\"출력: C\")"
      ],
      "execution_count": null,
      "outputs": [
        {
          "output_type": "stream",
          "text": [
            "출력: A\n",
            "출력: B\n",
            "출력: C\n",
            "출력: A\n",
            "출력: B\n",
            "출력: C\n"
          ],
          "name": "stdout"
        }
      ]
    },
    {
      "cell_type": "markdown",
      "metadata": {
        "id": "firJBc7T_pev"
      },
      "source": [
        "#### 135\n",
        "for문을 풀어서 동일한 동작을 하는 코드를 작성하라.\n",
        "\n",
        "```\n",
        "for 변수 in [\"A\", \"B\", \"C\"]:\n",
        "  b = 변수.lower()\n",
        "  print(\"변환:\", b)\n",
        "```\n",
        "\n"
      ]
    },
    {
      "cell_type": "code",
      "metadata": {
        "colab": {
          "base_uri": "https://localhost:8080/"
        },
        "id": "Pv2Tlx-811HU",
        "outputId": "d3607006-99e6-4378-ac89-bc07fcd5cfcd"
      },
      "source": [
        "for 변수 in [\"A\", \"B\", \"C\"]:\n",
        "  b = 변수.lower()\n",
        "  print(\"변환:\", b)\n",
        "#위 코드\n",
        "\n",
        "var = \"A\"\n",
        "b = var.lower()\n",
        "print(\"변환:\", b)\n",
        "var = \"B\"\n",
        "b = var.lower()\n",
        "print(\"변환:\", b)\n",
        "var = \"C\"\n",
        "b = var.lower()\n",
        "print(\"변환:\", b)"
      ],
      "execution_count": null,
      "outputs": [
        {
          "output_type": "stream",
          "text": [
            "변환: a\n",
            "변환: b\n",
            "변환: c\n",
            "변환: a\n",
            "변환: b\n",
            "변환: c\n"
          ],
          "name": "stdout"
        }
      ]
    },
    {
      "cell_type": "markdown",
      "metadata": {
        "id": "ShtWIYz1_pg0"
      },
      "source": [
        "#### 136\n",
        "다음 코드를 for문으로 작성하라.\n",
        "\n",
        "```\n",
        "변수 = 10\n",
        "print(변수)\n",
        "변수 = 20\n",
        "print(변수)\n",
        "변수 = 30\n",
        "print(변수)\n",
        "```\n",
        "\n"
      ]
    },
    {
      "cell_type": "code",
      "metadata": {
        "colab": {
          "base_uri": "https://localhost:8080/"
        },
        "id": "Jes2_wvj3LL6",
        "outputId": "c19bf9d9-773b-446a-a4ec-216c205d10df"
      },
      "source": [
        "변수 = 10\n",
        "print(변수)\n",
        "변수 = 20\n",
        "print(변수)\n",
        "변수 = 30\n",
        "print(변수)\n",
        "#위 코드\n",
        "\n",
        "for 변수 in [10, 20, 30]:\n",
        "    print(변수)"
      ],
      "execution_count": null,
      "outputs": [
        {
          "output_type": "stream",
          "text": [
            "10\n",
            "20\n",
            "30\n",
            "10\n",
            "20\n",
            "30\n"
          ],
          "name": "stdout"
        }
      ]
    },
    {
      "cell_type": "markdown",
      "metadata": {
        "id": "T7rnRfOA_pi6"
      },
      "source": [
        "#### 137\n",
        "다음 코드를 for문으로 작성하라.\n",
        "\n",
        "```\n",
        "print(10)\n",
        "print(20)\n",
        "print(30)\n",
        "```\n",
        "\n"
      ]
    },
    {
      "cell_type": "code",
      "metadata": {
        "colab": {
          "base_uri": "https://localhost:8080/"
        },
        "id": "uq14HQGB3ig0",
        "outputId": "f36228b4-88f3-48b0-b221-38828afbd119"
      },
      "source": [
        "print(10)\n",
        "print(20)\n",
        "print(30)\n",
        "#위 코드\n",
        "\n",
        "for 변수 in [10, 20, 30]:\n",
        "    print(변수)"
      ],
      "execution_count": null,
      "outputs": [
        {
          "output_type": "stream",
          "text": [
            "10\n",
            "20\n",
            "30\n",
            "10\n",
            "20\n",
            "30\n"
          ],
          "name": "stdout"
        }
      ]
    },
    {
      "cell_type": "markdown",
      "metadata": {
        "id": "NqDU71fM_plw"
      },
      "source": [
        "#### 138\n",
        "다음 코드를 for문으로 작성하라.\n",
        "\n",
        "```\n",
        "print(10)\n",
        "print(\"-------\")\n",
        "print(20)\n",
        "print(\"-------\")\n",
        "print(30)\n",
        "print(\"-------\")\n",
        "```\n",
        "\n"
      ]
    },
    {
      "cell_type": "code",
      "metadata": {
        "colab": {
          "base_uri": "https://localhost:8080/"
        },
        "id": "Vgc1j9vG315O",
        "outputId": "8c40c6bb-90ae-4120-8c87-f20a9993d350"
      },
      "source": [
        "print(10)\n",
        "print(\"-------\")\n",
        "print(20)\n",
        "print(\"-------\")\n",
        "print(30)\n",
        "print(\"-------\")\n",
        "#위 코드\n",
        "\n",
        "for 변수 in [10, 20, 30]:\n",
        "    print(변수)\n",
        "    print(\"-------\")"
      ],
      "execution_count": null,
      "outputs": [
        {
          "output_type": "stream",
          "text": [
            "10\n",
            "-------\n",
            "20\n",
            "-------\n",
            "30\n",
            "-------\n",
            "10\n",
            "-------\n",
            "20\n",
            "-------\n",
            "30\n",
            "-------\n"
          ],
          "name": "stdout"
        }
      ]
    },
    {
      "cell_type": "markdown",
      "metadata": {
        "id": "dWD6j-bu_pn0"
      },
      "source": [
        "#### 139\n",
        "다음 코드를 for문으로 작성하라.\n",
        "\n",
        "```\n",
        "print(\"++++\")\n",
        "print(10)\n",
        "print(20)\n",
        "print(30)\n",
        "```\n",
        "\n"
      ]
    },
    {
      "cell_type": "code",
      "metadata": {
        "colab": {
          "base_uri": "https://localhost:8080/"
        },
        "id": "MNSHjuVI4JtI",
        "outputId": "3934dfff-8fe8-40ae-8252-e83fd072d589"
      },
      "source": [
        "print(\"++++\")\n",
        "print(10)\n",
        "print(20)\n",
        "print(30)\n",
        "#위 코드\n",
        "\n",
        "print(\"++++\")\n",
        "for 변수 in [10, 20, 30]:\n",
        "    print(변수)"
      ],
      "execution_count": null,
      "outputs": [
        {
          "output_type": "stream",
          "text": [
            "++++\n",
            "10\n",
            "20\n",
            "30\n",
            "++++\n",
            "10\n",
            "20\n",
            "30\n"
          ],
          "name": "stdout"
        }
      ]
    },
    {
      "cell_type": "markdown",
      "metadata": {
        "id": "jGngl3VS_pp3"
      },
      "source": [
        "#### 140\n",
        "다음 코드를 for문으로 작성하라.\n",
        "\n",
        "```\n",
        "print(\"-------\")\n",
        "print(\"-------\")\n",
        "print(\"-------\")\n",
        "print(\"-------\")\n",
        "```\n",
        "\n"
      ]
    },
    {
      "cell_type": "code",
      "metadata": {
        "colab": {
          "base_uri": "https://localhost:8080/"
        },
        "id": "HRM_NGGT4amF",
        "outputId": "2a265373-a37b-42ab-a416-8c4c392b3b7f"
      },
      "source": [
        "print(\"-------\")\n",
        "print(\"-------\")\n",
        "print(\"-------\")\n",
        "print(\"-------\")\n",
        "#위 코드\n",
        "\n",
        "for i in range(1,5):\n",
        "    print(\"-------\") "
      ],
      "execution_count": null,
      "outputs": [
        {
          "output_type": "stream",
          "text": [
            "-------\n",
            "-------\n",
            "-------\n",
            "-------\n",
            "-------\n",
            "-------\n",
            "-------\n",
            "-------\n"
          ],
          "name": "stdout"
        }
      ]
    },
    {
      "cell_type": "markdown",
      "metadata": {
        "id": "pe-SzlOK4aso"
      },
      "source": [
        "#### 141\n",
        "다음과 같이 판매가가 저장된 리스트가 있을 때 부가세가 포함된 가격을 for 문을 사용해서 화면에 출력하라. 단 부가세는 10원으로 가정한다.\n",
        "\n",
        "```\n",
        "리스트 = [100, 200, 300]\n",
        "```\n",
        "\n",
        "```\n",
        "110\n",
        "210\n",
        "310\n",
        "```\n",
        "\n",
        "\n",
        "\n"
      ]
    },
    {
      "cell_type": "code",
      "metadata": {
        "colab": {
          "base_uri": "https://localhost:8080/"
        },
        "id": "pBPbJ0Bs5Cmc",
        "outputId": "4817a425-ed11-4dfc-e5ba-0b7fc7abce5a"
      },
      "source": [
        "리스트 = [100, 200, 300]\n",
        "tax = 10\n",
        "\n",
        "for i in 리스트:\n",
        "    print(i + tax)"
      ],
      "execution_count": null,
      "outputs": [
        {
          "output_type": "stream",
          "text": [
            "110\n",
            "210\n",
            "310\n"
          ],
          "name": "stdout"
        }
      ]
    },
    {
      "cell_type": "markdown",
      "metadata": {
        "id": "ro8TAF444au5"
      },
      "source": [
        "#### 142\n",
        "for 문을 사용해서 리스트에 저장된 값을 다음과 같이 출력하라.\n",
        "\n",
        "```\n",
        "리스트 = [\"김밥\", \"라면\", \"튀김\"]\n",
        "```\n",
        "\n",
        "```\n",
        "오늘의 메뉴: 김밥\n",
        "오늘의 메뉴: 라면\n",
        "오늘의 메뉴: 튀김\n",
        "```\n",
        "\n",
        "\n",
        "\n"
      ]
    },
    {
      "cell_type": "code",
      "metadata": {
        "colab": {
          "base_uri": "https://localhost:8080/"
        },
        "id": "xSc8GJYq5kCS",
        "outputId": "4b47e328-229b-436f-bf03-aba396175e60"
      },
      "source": [
        "리스트 = [\"김밥\", \"라면\", \"튀김\"]\n",
        "\n",
        "for i in 리스트:\n",
        "    print(\"오늘의 메뉴:\", i)"
      ],
      "execution_count": null,
      "outputs": [
        {
          "output_type": "stream",
          "text": [
            "오늘의 메뉴: 김밥\n",
            "오늘의 메뉴: 라면\n",
            "오늘의 메뉴: 튀김\n"
          ],
          "name": "stdout"
        }
      ]
    },
    {
      "cell_type": "markdown",
      "metadata": {
        "id": "Ww8dfGZf4axE"
      },
      "source": [
        "#### 143\n",
        "리스트에 주식 종목이름이 저장돼 있다.\n",
        "\n",
        "```\n",
        "리스트 = [\"SK하이닉스\", \"삼성전자\", \"LG전자\"]\n",
        "```\n",
        "\n",
        "저장된 문자열의 길이를 다음과 같이 출력하라.\n",
        "\n",
        "```\n",
        "6\n",
        "4\n",
        "4\n",
        "```\n",
        "\n"
      ]
    },
    {
      "cell_type": "code",
      "metadata": {
        "colab": {
          "base_uri": "https://localhost:8080/"
        },
        "id": "q7PY9VQc55Kk",
        "outputId": "6a4c5814-e4ea-4496-a38e-9eabce4a327f"
      },
      "source": [
        "리스트 = [\"SK하이닉스\", \"삼성전자\", \"LG전자\"]\n",
        "for i in 리스트:\n",
        "    print(len(i))"
      ],
      "execution_count": null,
      "outputs": [
        {
          "output_type": "stream",
          "text": [
            "6\n",
            "4\n",
            "4\n"
          ],
          "name": "stdout"
        }
      ]
    },
    {
      "cell_type": "markdown",
      "metadata": {
        "id": "egbSvL1J4azI"
      },
      "source": [
        "#### 144\n",
        "리스트에는 동물이름이 문자열로 저장돼 있다.\n",
        "\n",
        "```\n",
        "리스트 = ['dog', 'cat', 'parrot']\n",
        "```\n",
        "동물 이름과 글자수를 다음과 같이 출력하라.\n",
        "\n",
        "```\n",
        "dog 3\n",
        "cat 3\n",
        "parrot 6\n",
        "```\n",
        "\n",
        "\n",
        "\n"
      ]
    },
    {
      "cell_type": "code",
      "metadata": {
        "colab": {
          "base_uri": "https://localhost:8080/"
        },
        "id": "yh1-N54x6abb",
        "outputId": "34bd5ecb-3e20-45ec-d701-e438519a56b6"
      },
      "source": [
        "리스트 = ['dog', 'cat', 'parrot']\n",
        "\n",
        "for i in 리스트:\n",
        "    print(i, len(i))"
      ],
      "execution_count": null,
      "outputs": [
        {
          "output_type": "stream",
          "text": [
            "dog 3\n",
            "cat 3\n",
            "parrot 6\n"
          ],
          "name": "stdout"
        }
      ]
    },
    {
      "cell_type": "markdown",
      "metadata": {
        "id": "-yUP-gC54a1r"
      },
      "source": [
        "#### 145\n",
        "리스트에 동물 이름 저장돼 있다.\n",
        "\n",
        "```\n",
        "리스트 = ['dog', 'cat', 'parrot']\n",
        "```\n",
        "for문을 사용해서 동물 이름의 첫 글자만 출력하라.\n",
        "\n",
        "```\n",
        "d\n",
        "c\n",
        "p\n",
        "```\n",
        "\n",
        "\n"
      ]
    },
    {
      "cell_type": "code",
      "metadata": {
        "colab": {
          "base_uri": "https://localhost:8080/"
        },
        "id": "GXSvNmbQ6oDh",
        "outputId": "7fb863e2-54ab-46c4-a480-460d5bc3262d"
      },
      "source": [
        "리스트 = ['dog', 'cat', 'parrot']\n",
        "\n",
        "for i in 리스트:\n",
        "    print(i[0])"
      ],
      "execution_count": null,
      "outputs": [
        {
          "output_type": "stream",
          "text": [
            "d\n",
            "c\n",
            "p\n"
          ],
          "name": "stdout"
        }
      ]
    },
    {
      "cell_type": "markdown",
      "metadata": {
        "id": "ftcbiQKs4a4U"
      },
      "source": [
        "#### 146\n",
        "리스트에는 세 개의 숫자가 바인딩돼 있다.\n",
        "\n",
        "```\n",
        "리스트 = [1, 2, 3]\n",
        "```\n",
        "\n",
        "for문을 사용해서 다음과 같이 출력하라.\n",
        "\n",
        "```\n",
        "3 x 1\n",
        "3 x 2\n",
        "3 x 3\n",
        "```\n",
        "\n"
      ]
    },
    {
      "cell_type": "code",
      "metadata": {
        "colab": {
          "base_uri": "https://localhost:8080/"
        },
        "id": "whdaNpio6266",
        "outputId": "fc5a6b2b-903d-4622-cff8-60a8277b5f3f"
      },
      "source": [
        "리스트 = [1, 2, 3]\n",
        "\n",
        "for i in 리스트:\n",
        "    print(\"3 x\", i)"
      ],
      "execution_count": null,
      "outputs": [
        {
          "output_type": "stream",
          "text": [
            "3 x 1\n",
            "3 x 2\n",
            "3 x 3\n"
          ],
          "name": "stdout"
        }
      ]
    },
    {
      "cell_type": "markdown",
      "metadata": {
        "id": "r7XuKGUW4a6Q"
      },
      "source": [
        "#### 147\n",
        "리스트에는 세 개의 숫자가 바인딩돼 있다.\n",
        "\n",
        "```\n",
        "리스트 = [1, 2, 3]\n",
        "```\n",
        "for문을 사용해서 다음과 같이 출력하라.\n",
        "\n",
        "```\n",
        "3 x 1 = 3\n",
        "3 x 2 = 6\n",
        "3 x 3 = 9\n",
        "```\n",
        "\n",
        "\n"
      ]
    },
    {
      "cell_type": "code",
      "metadata": {
        "colab": {
          "base_uri": "https://localhost:8080/"
        },
        "id": "X40XkHT27Jrc",
        "outputId": "326bf0a4-38d4-4283-efc7-e8045074f320"
      },
      "source": [
        "리스트 = [1, 2, 3]\n",
        "\n",
        "for i in 리스트:\n",
        "    print(\"3 x\", i, \"=\", i * 3)\n",
        "\n",
        "#문자열 함수 format\n",
        "for i in 리스트:\n",
        "  print(\"3 x {} = {}\".format(i, 3 * i))"
      ],
      "execution_count": null,
      "outputs": [
        {
          "output_type": "stream",
          "text": [
            "3 x 1 = 3\n",
            "3 x 2 = 6\n",
            "3 x 3 = 9\n",
            "3 x 1 = 3\n",
            "3 x 2 = 6\n",
            "3 x 3 = 9\n"
          ],
          "name": "stdout"
        }
      ]
    },
    {
      "cell_type": "markdown",
      "metadata": {
        "id": "6LQmBgUr4a8C"
      },
      "source": [
        "#### 148\n",
        "리스트에는 네 개의 문자열이 바인딩돼 있다.\n",
        "\n",
        "```\n",
        "리스트 = [\"가\", \"나\", \"다\", \"라\"]\n",
        "```\n",
        "\n",
        "for문을 사용해서 다음과 같이 출력하라.\n",
        "\n",
        "```\n",
        "나\n",
        "다\n",
        "라\n",
        "```\n",
        "\n"
      ]
    },
    {
      "cell_type": "code",
      "metadata": {
        "colab": {
          "base_uri": "https://localhost:8080/"
        },
        "id": "jdPzbidT8USx",
        "outputId": "93834831-9ab5-4e68-f6aa-f079279c703a"
      },
      "source": [
        "리스트 = [\"가\", \"나\", \"다\", \"라\"]\n",
        "\n",
        "for i in 리스트[1:]:\n",
        "    print(i)"
      ],
      "execution_count": null,
      "outputs": [
        {
          "output_type": "stream",
          "text": [
            "나\n",
            "다\n",
            "라\n"
          ],
          "name": "stdout"
        }
      ]
    },
    {
      "cell_type": "markdown",
      "metadata": {
        "id": "wVVcPtwZ4a-R"
      },
      "source": [
        "#### 149\n",
        "리스트에는 네 개의 문자열이 바인딩돼 있다.\n",
        "\n",
        "```\n",
        "리스트 = [\"가\", \"나\", \"다\", \"라\"]\n",
        "```\n",
        "\n",
        "for문을 사용해서 다음과 같이 출력하라.\n",
        "\n",
        "```\n",
        "가\n",
        "다\n",
        "```\n",
        "\n"
      ]
    },
    {
      "cell_type": "code",
      "metadata": {
        "colab": {
          "base_uri": "https://localhost:8080/"
        },
        "id": "J2h73V9o9Eux",
        "outputId": "f94c488e-af02-4866-8fb3-5d4f47468b15"
      },
      "source": [
        "리스트 = [\"가\", \"나\", \"다\", \"라\"]\n",
        "\n",
        "for i in 리스트[::2]:\n",
        "    print(i)"
      ],
      "execution_count": null,
      "outputs": [
        {
          "output_type": "stream",
          "text": [
            "가\n",
            "다\n"
          ],
          "name": "stdout"
        }
      ]
    },
    {
      "cell_type": "markdown",
      "metadata": {
        "id": "teeVDoWv4bAh"
      },
      "source": [
        "#### 150\n",
        "리스트에는 네 개의 문자열이 바인딩돼 있다\n",
        "\n",
        "```\n",
        "리스트 = [\"가\", \"나\", \"다\", \"라\"]\n",
        "```\n",
        "\n",
        "for문을 사용해서 다음과 같이 출력하라.\n",
        "\n",
        "```\n",
        "라\n",
        "다\n",
        "나\n",
        "가\n",
        "```\n",
        "\n"
      ]
    },
    {
      "cell_type": "code",
      "metadata": {
        "colab": {
          "base_uri": "https://localhost:8080/"
        },
        "id": "HX8MBg5h9egL",
        "outputId": "0b4e8b02-1c8f-48dd-bc0c-8ac9d624d6f1"
      },
      "source": [
        "리스트 = [\"가\", \"나\", \"다\", \"라\"]\n",
        "\n",
        "for i in 리스트[::-1]:\n",
        "    print(i)"
      ],
      "execution_count": null,
      "outputs": [
        {
          "output_type": "stream",
          "text": [
            "라\n",
            "다\n",
            "나\n",
            "가\n"
          ],
          "name": "stdout"
        }
      ]
    },
    {
      "cell_type": "markdown",
      "metadata": {
        "id": "sPOq3PCq4bCn"
      },
      "source": [
        "#### 151\n",
        "리스트에는 네 개의 정수가 저장돼 있다.\n",
        "\n",
        "```\n",
        "리스트 = [3, -20, -3, 44]\n",
        "```\n",
        "\n",
        "for문을 사용해서 리스트의 음수를 출력하라.\n",
        "\n",
        "```\n",
        "-20\n",
        "-3\n",
        "```\n",
        "\n"
      ]
    },
    {
      "cell_type": "code",
      "metadata": {
        "colab": {
          "base_uri": "https://localhost:8080/"
        },
        "id": "WddBrPTp9rtu",
        "outputId": "01098c26-d17a-431d-d48b-1fd2d5e3d349"
      },
      "source": [
        "리스트 = [3, -20, -3, 44]\n",
        "\n",
        "for i in str(리스트[1:3]):\n",
        "    print(i)\n",
        "\n",
        "#오 []도 string으로 변환하는 구나ㅎㅎ 신기하당ㅎㅎ"
      ],
      "execution_count": null,
      "outputs": [
        {
          "output_type": "stream",
          "text": [
            "[\n",
            "-\n",
            "2\n",
            "0\n",
            ",\n",
            " \n",
            "-\n",
            "3\n",
            "]\n"
          ],
          "name": "stdout"
        }
      ]
    },
    {
      "cell_type": "code",
      "metadata": {
        "colab": {
          "base_uri": "https://localhost:8080/"
        },
        "id": "ke2jEx9K-ECw",
        "outputId": "46078d86-5e41-44cf-e057-76392bed4fb1"
      },
      "source": [
        "리스트 = [3, -20, -3, 44]\n",
        "\n",
        "for i in 리스트:\n",
        "    if i < 0:\n",
        "        print(i)\n"
      ],
      "execution_count": null,
      "outputs": [
        {
          "output_type": "stream",
          "text": [
            "-20\n",
            "-3\n"
          ],
          "name": "stdout"
        }
      ]
    },
    {
      "cell_type": "markdown",
      "metadata": {
        "id": "c4_iDysC4bE6"
      },
      "source": [
        "#### 152\n",
        "for문을 사용해서 3의 배수만을 출력하라.\n",
        "\n",
        "\n",
        "```\n",
        "리스트 = [3, 100, 23, 44]\n",
        "```\n",
        "\n",
        "```\n",
        "3\n",
        "```\n",
        "\n",
        "\n",
        "\n"
      ]
    },
    {
      "cell_type": "code",
      "metadata": {
        "colab": {
          "base_uri": "https://localhost:8080/"
        },
        "id": "miASVWpg-pOr",
        "outputId": "24c19148-f423-48fc-e19b-721c8c820c33"
      },
      "source": [
        "리스트 = [3, 100, 23, 44]\n",
        "\n",
        "for i in 리스트:\n",
        "    if i % 3 == 0:\n",
        "        print(i)"
      ],
      "execution_count": null,
      "outputs": [
        {
          "output_type": "stream",
          "text": [
            "3\n"
          ],
          "name": "stdout"
        }
      ]
    },
    {
      "cell_type": "markdown",
      "metadata": {
        "id": "SzTDlHIm4bHR"
      },
      "source": [
        "#### 153\n",
        "리스트에서 20 보다 작은 3의 배수를 출력하라\n",
        "\n",
        "```\n",
        "리스트 = [13, 21, 12, 14, 30, 18]\n",
        "```\n",
        "\n",
        "```\n",
        "12\n",
        "18\n",
        "```\n",
        "\n",
        "\n",
        "\n"
      ]
    },
    {
      "cell_type": "code",
      "metadata": {
        "colab": {
          "base_uri": "https://localhost:8080/"
        },
        "id": "b7KVDSQY-5HO",
        "outputId": "a02313ac-b2e9-476b-f7df-f4a3aad18bf1"
      },
      "source": [
        "리스트 = [13, 21, 12, 14, 30, 18]\n",
        "\n",
        "for i in 리스트:\n",
        "    if i < 20:\n",
        "        if i % 3 == 0:\n",
        "            print(i) "
      ],
      "execution_count": null,
      "outputs": [
        {
          "output_type": "stream",
          "text": [
            "12\n",
            "18\n"
          ],
          "name": "stdout"
        }
      ]
    },
    {
      "cell_type": "code",
      "metadata": {
        "colab": {
          "base_uri": "https://localhost:8080/"
        },
        "id": "0xPU2etb_PAk",
        "outputId": "6956c7fe-494c-46ad-c8e1-7bff6cb8726a"
      },
      "source": [
        "#and 사용하기.\n",
        "리스트 = [13, 21, 12, 14, 30, 18]\n",
        "\n",
        "for i in 리스트:\n",
        "    if i < 20 and i % 3 ==0:\n",
        "        print(i) "
      ],
      "execution_count": null,
      "outputs": [
        {
          "output_type": "stream",
          "text": [
            "12\n",
            "18\n"
          ],
          "name": "stdout"
        }
      ]
    },
    {
      "cell_type": "markdown",
      "metadata": {
        "id": "vQdS_hxH4bJn"
      },
      "source": [
        "#### 154\n",
        "리스트에서 세 글자 이상의 문자를 화면에 출력하라\n",
        "\n",
        "```\n",
        "리스트 = [\"I\", \"study\", \"python\", \"language\", \"!\"]\n",
        "```\n",
        "\n",
        "```\n",
        "study\n",
        "python\n",
        "language\n",
        "```\n",
        "\n",
        "\n",
        "\n"
      ]
    },
    {
      "cell_type": "code",
      "metadata": {
        "colab": {
          "base_uri": "https://localhost:8080/"
        },
        "id": "RY50c2A-_4cG",
        "outputId": "172ab516-12b8-4ccc-bcd9-f2f246639d60"
      },
      "source": [
        "리스트 = [\"I\", \"study\", \"python\", \"language\", \"!\"]\n",
        "\n",
        "for i in 리스트:\n",
        "    if len(i) > 3:\n",
        "        print(i)"
      ],
      "execution_count": null,
      "outputs": [
        {
          "output_type": "stream",
          "text": [
            "study\n",
            "python\n",
            "language\n"
          ],
          "name": "stdout"
        }
      ]
    },
    {
      "cell_type": "markdown",
      "metadata": {
        "id": "fIywMdSD4bMF"
      },
      "source": [
        "#### 155\n",
        "리스트에서 대문자만 화면에 출력하라.\n",
        "\n",
        "```\n",
        "리스트 = [\"A\", \"b\", \"c\", \"D\"]\n",
        "```\n",
        "\n",
        "\n",
        "```\n",
        "A\n",
        "D\n",
        "```\n",
        "(참고) isupper() 메서드는 대문자 여부를 판별합니다.\n",
        "\n",
        "```\n",
        ">> 변수 = \"A\"\n",
        ">> 변수.isupper()\n",
        "True\n",
        ">> 변수 = \"a\"\n",
        ">> 변수.isupper()\n",
        "False\n",
        "```\n",
        "\n",
        "\n"
      ]
    },
    {
      "cell_type": "code",
      "metadata": {
        "colab": {
          "base_uri": "https://localhost:8080/"
        },
        "id": "-T8JWEGjASP3",
        "outputId": "a86fad72-629e-495e-8dba-77893ba6ef18"
      },
      "source": [
        "리스트 = [\"A\", \"b\", \"c\", \"D\"]\n",
        "\n",
        "for i in 리스트:\n",
        "    if i.isupper():\n",
        "        print(i)"
      ],
      "execution_count": null,
      "outputs": [
        {
          "output_type": "stream",
          "text": [
            "A\n",
            "D\n"
          ],
          "name": "stdout"
        }
      ]
    },
    {
      "cell_type": "markdown",
      "metadata": {
        "id": "CBdsOYwq4bOL"
      },
      "source": [
        "#### 156\n",
        "리스트에서 소문자만 화면에 출력하라.\n",
        "\n",
        "```\n",
        "리스트 = [\"A\", \"b\", \"c\", \"D\"]\n",
        "```\n",
        "\n",
        "```\n",
        "b\n",
        "c\n",
        "```\n",
        "\n",
        "\n",
        "\n"
      ]
    },
    {
      "cell_type": "code",
      "metadata": {
        "colab": {
          "base_uri": "https://localhost:8080/"
        },
        "id": "IjKPqpBdA9mB",
        "outputId": "011bf7bb-92ab-464b-8027-254f150c19c3"
      },
      "source": [
        "리스트 = [\"A\", \"b\", \"c\", \"D\"]\n",
        "\n",
        "for i in 리스트:\n",
        "    if i.islower():\n",
        "        print(i)"
      ],
      "execution_count": null,
      "outputs": [
        {
          "output_type": "stream",
          "text": [
            "b\n",
            "c\n"
          ],
          "name": "stdout"
        }
      ]
    },
    {
      "cell_type": "markdown",
      "metadata": {
        "id": "jqMHI7GA4bQl"
      },
      "source": [
        "#### 157\n",
        "이름의 첫 글자를 대문자로 변경해서 출력하라.\n",
        "\n",
        "```\n",
        "리스트 = ['dog', 'cat', 'parrot']\n",
        "```\n",
        "\n",
        "\n",
        "```\n",
        "Dog\n",
        "Cat\n",
        "Parrot\n",
        "```\n",
        "(참고) upper() 메서드는 문자열을 대문자로 변경합니다.\n",
        "\n",
        "\n",
        "\n",
        "```\n",
        ">> 변수 = \"a\"\n",
        ">> a.upper()\n",
        "A\n",
        ">> 변수 = \"abc\"\n",
        ">> 변수.upper()\n",
        "ABC\n",
        "```\n",
        "\n"
      ]
    },
    {
      "cell_type": "code",
      "metadata": {
        "colab": {
          "base_uri": "https://localhost:8080/"
        },
        "id": "1xUb7dkfBFh7",
        "outputId": "1d84343c-3436-4827-a58c-6a76f545c5c7"
      },
      "source": [
        "리스트 = ['dog', 'cat', 'parrot']\n",
        "\n",
        "for i in 리스트:\n",
        "    print(i.capitalize())"
      ],
      "execution_count": null,
      "outputs": [
        {
          "output_type": "stream",
          "text": [
            "Dog\n",
            "Cat\n",
            "Parrot\n"
          ],
          "name": "stdout"
        }
      ]
    },
    {
      "cell_type": "code",
      "metadata": {
        "colab": {
          "base_uri": "https://localhost:8080/"
        },
        "id": "1ynCbOUVBpKY",
        "outputId": "583917b9-b45d-4812-b530-186a9bd6176d"
      },
      "source": [
        "#upper()를 사용하기\n",
        "for i in 리스트:\n",
        "  print(i[0].upper() + i[1:])"
      ],
      "execution_count": null,
      "outputs": [
        {
          "output_type": "stream",
          "text": [
            "Dog\n",
            "Cat\n",
            "Parrot\n"
          ],
          "name": "stdout"
        }
      ]
    },
    {
      "cell_type": "markdown",
      "metadata": {
        "id": "zpeO3t_Q4bSy"
      },
      "source": [
        "#### 158\n",
        "파일 이름이 저장된 리스트에서 확장자를 제거하고 파일 이름만 화면에 출력하라. (힌트: split() 메서드)\n",
        "\n",
        "```\n",
        "리스트 = ['hello.py', 'ex01.py', 'intro.hwp']\n",
        "```\n",
        "\n",
        "\n",
        "```\n",
        "hello\n",
        "ex01\n",
        "intro\n",
        "```\n",
        "\n",
        "\n"
      ]
    },
    {
      "cell_type": "code",
      "metadata": {
        "colab": {
          "base_uri": "https://localhost:8080/"
        },
        "id": "mihpXfJvB7yZ",
        "outputId": "3cf15948-dcd7-41cc-c188-82be527a7d26"
      },
      "source": [
        "리스트 = ['hello.py', 'ex01.py', 'intro.hwp']\n",
        "\n",
        "for i in 리스트:\n",
        "    t= i.split(\".\")\n",
        "    print(t[0])"
      ],
      "execution_count": null,
      "outputs": [
        {
          "output_type": "stream",
          "text": [
            "hello\n",
            "ex01\n",
            "intro\n"
          ],
          "name": "stdout"
        }
      ]
    },
    {
      "cell_type": "markdown",
      "metadata": {
        "id": "CrtOARmX4bVC"
      },
      "source": [
        "#### 159\n",
        "파일 이름이 저장된 리스트에서 확장자가 .h인 파일 이름을 출력하라.\n",
        "\n",
        "```\n",
        "리스트 = ['intra.h', 'intra.c', 'define.h', 'run.py']\n",
        "```\n",
        "\n",
        "\n",
        "```\n",
        "intra.h\n",
        "define.h\n",
        "```\n",
        "\n",
        "\n"
      ]
    },
    {
      "cell_type": "code",
      "metadata": {
        "colab": {
          "base_uri": "https://localhost:8080/"
        },
        "id": "A2BYqaTRC0_I",
        "outputId": "67e57b8a-eaef-4b5d-f105-0f84cb863597"
      },
      "source": [
        "리스트 = ['intra.h', 'intra.c', 'define.h', 'run.py']\n",
        "\n",
        "for i in 리스트:\n",
        "    if i[-1] == \"h\":\n",
        "        print(i)"
      ],
      "execution_count": null,
      "outputs": [
        {
          "output_type": "stream",
          "text": [
            "intra.h\n",
            "define.h\n"
          ],
          "name": "stdout"
        }
      ]
    },
    {
      "cell_type": "code",
      "metadata": {
        "colab": {
          "base_uri": "https://localhost:8080/"
        },
        "id": "H0VyPnZTDOko",
        "outputId": "b71c2215-e513-4256-f5ac-8e0e927e0f55"
      },
      "source": [
        "#split() 사용하기.\n",
        "for i in 리스트:\n",
        "  split = i.split(\".\")\n",
        "  if split[1] == \"h\":\n",
        "    print(i)"
      ],
      "execution_count": null,
      "outputs": [
        {
          "output_type": "stream",
          "text": [
            "intra.h\n",
            "define.h\n"
          ],
          "name": "stdout"
        }
      ]
    },
    {
      "cell_type": "markdown",
      "metadata": {
        "id": "M7-ZBG9NCsI9"
      },
      "source": [
        "#### 160\n",
        "파일 이름이 저장된 리스트에서 확장자가 .h나 .c인 파일을 화면에 출력하라.\n",
        "\n",
        "```\n",
        "리스트 = ['intra.h', 'intra.c', 'define.h', 'run.py']\n",
        "```\n",
        "\n",
        "```\n",
        "intra.h\n",
        "intra.c\n",
        "define.h\n",
        "```\n",
        "\n",
        "\n",
        "\n"
      ]
    },
    {
      "cell_type": "code",
      "metadata": {
        "colab": {
          "base_uri": "https://localhost:8080/"
        },
        "id": "In4pCzivDctL",
        "outputId": "2fe1bd1d-5c4f-4916-e263-1dd536cdac88"
      },
      "source": [
        "리스트 = ['intra.h', 'intra.c', 'define.h', 'run.py']\n",
        "\n",
        "for i in 리스트:\n",
        "    if i[-2:] != \"py\":\n",
        "        print(i)"
      ],
      "execution_count": null,
      "outputs": [
        {
          "output_type": "stream",
          "text": [
            "intra.h\n",
            "intra.c\n",
            "define.h\n"
          ],
          "name": "stdout"
        }
      ]
    },
    {
      "cell_type": "code",
      "metadata": {
        "colab": {
          "base_uri": "https://localhost:8080/"
        },
        "id": "hnrtXdWKFlCo",
        "outputId": "d9c2b068-b522-4cda-f2c2-a0ff9b623d98"
      },
      "source": [
        "#split() 사용하기.\n",
        "for i in 리스트:\n",
        "  split = i.split(\".\")\n",
        "  if (split[1] == \"h\") or (split[1] == \"c\"):\n",
        "    print(i)"
      ],
      "execution_count": null,
      "outputs": [
        {
          "output_type": "stream",
          "text": [
            "intra.h\n",
            "intra.c\n",
            "define.h\n"
          ],
          "name": "stdout"
        }
      ]
    },
    {
      "cell_type": "markdown",
      "metadata": {
        "id": "Mg8crvBBCsK8"
      },
      "source": [
        "#### 161\n",
        "for문과 range 구문을 사용해서 0~99까지 한 라인에 하나씩 순차적으로 출력하는 프로그램을 작성하라."
      ]
    },
    {
      "cell_type": "code",
      "metadata": {
        "colab": {
          "base_uri": "https://localhost:8080/"
        },
        "id": "xs3b-Pw4F6YM",
        "outputId": "9262d62d-a720-4852-fb2a-d13b42323650"
      },
      "source": [
        "for i in range(0, 100):\n",
        "    print(i)"
      ],
      "execution_count": null,
      "outputs": [
        {
          "output_type": "stream",
          "text": [
            "0\n",
            "1\n",
            "2\n",
            "3\n",
            "4\n",
            "5\n",
            "6\n",
            "7\n",
            "8\n",
            "9\n",
            "10\n",
            "11\n",
            "12\n",
            "13\n",
            "14\n",
            "15\n",
            "16\n",
            "17\n",
            "18\n",
            "19\n",
            "20\n",
            "21\n",
            "22\n",
            "23\n",
            "24\n",
            "25\n",
            "26\n",
            "27\n",
            "28\n",
            "29\n",
            "30\n",
            "31\n",
            "32\n",
            "33\n",
            "34\n",
            "35\n",
            "36\n",
            "37\n",
            "38\n",
            "39\n",
            "40\n",
            "41\n",
            "42\n",
            "43\n",
            "44\n",
            "45\n",
            "46\n",
            "47\n",
            "48\n",
            "49\n",
            "50\n",
            "51\n",
            "52\n",
            "53\n",
            "54\n",
            "55\n",
            "56\n",
            "57\n",
            "58\n",
            "59\n",
            "60\n",
            "61\n",
            "62\n",
            "63\n",
            "64\n",
            "65\n",
            "66\n",
            "67\n",
            "68\n",
            "69\n",
            "70\n",
            "71\n",
            "72\n",
            "73\n",
            "74\n",
            "75\n",
            "76\n",
            "77\n",
            "78\n",
            "79\n",
            "80\n",
            "81\n",
            "82\n",
            "83\n",
            "84\n",
            "85\n",
            "86\n",
            "87\n",
            "88\n",
            "89\n",
            "90\n",
            "91\n",
            "92\n",
            "93\n",
            "94\n",
            "95\n",
            "96\n",
            "97\n",
            "98\n",
            "99\n"
          ],
          "name": "stdout"
        }
      ]
    },
    {
      "cell_type": "markdown",
      "metadata": {
        "id": "dJhifZkeCsNG"
      },
      "source": [
        "#### 162\n",
        "월드컵은 4년에 한 번 개최된다. range()를 사용하여 2002~2050년까지 중 월드컵이 개최되는 연도를 출력하라.\n",
        "\n",
        "\n",
        "```\n",
        "2002\n",
        "2006\n",
        "2010\n",
        "...\n",
        "2042\n",
        "2046\n",
        "2050\n",
        "```\n",
        "참고) range의 세번 째 파라미터는 증감폭을 결정합니다.\n",
        "\n",
        "```\n",
        ">> print(list(range(0, 10, 2)))\n",
        "[0, 2, 4, 6, 8]\n",
        "```\n",
        "\n",
        "\n",
        "\n"
      ]
    },
    {
      "cell_type": "code",
      "metadata": {
        "colab": {
          "base_uri": "https://localhost:8080/"
        },
        "id": "jpW_vsyzHJlV",
        "outputId": "f4017395-0ba5-4c2d-fa19-d01d7becac9f"
      },
      "source": [
        "for i in range(2002, 2051, 4):\n",
        "    print(i)"
      ],
      "execution_count": null,
      "outputs": [
        {
          "output_type": "stream",
          "text": [
            "2002\n",
            "2006\n",
            "2010\n",
            "2014\n",
            "2018\n",
            "2022\n",
            "2026\n",
            "2030\n",
            "2034\n",
            "2038\n",
            "2042\n",
            "2046\n",
            "2050\n"
          ],
          "name": "stdout"
        }
      ]
    },
    {
      "cell_type": "markdown",
      "metadata": {
        "id": "ZuSfPCQsCsPe"
      },
      "source": [
        "#### 163\n",
        "1부터 30까지의 숫자 중 3의 배수를 출력하라.\n",
        "\n",
        "```\n",
        "3 \n",
        "6 \n",
        "9 \n",
        "12 \n",
        "15 \n",
        "18 \n",
        "21 \n",
        "24 \n",
        "27 \n",
        "30\n",
        "```\n",
        "\n"
      ]
    },
    {
      "cell_type": "code",
      "metadata": {
        "colab": {
          "base_uri": "https://localhost:8080/"
        },
        "id": "--wAePT2HjVV",
        "outputId": "df017580-607a-4fc2-df6a-f62c319903d2"
      },
      "source": [
        "for i in range(3, 31, 3):\n",
        "    print(i)"
      ],
      "execution_count": null,
      "outputs": [
        {
          "output_type": "stream",
          "text": [
            "3\n",
            "6\n",
            "9\n",
            "12\n",
            "15\n",
            "18\n",
            "21\n",
            "24\n",
            "27\n",
            "30\n"
          ],
          "name": "stdout"
        }
      ]
    },
    {
      "cell_type": "markdown",
      "metadata": {
        "id": "89vdvOwGCsRn"
      },
      "source": [
        "#### 164\n",
        "99부터 0까지 1씩 감소하는 숫자들을, 한 라인에 하나씩 출력하라."
      ]
    },
    {
      "cell_type": "code",
      "metadata": {
        "colab": {
          "base_uri": "https://localhost:8080/"
        },
        "id": "84s9Pwc8Hucu",
        "outputId": "f2dc35d5-c750-4568-ac5d-bb2c986ce024"
      },
      "source": [
        "for i in range(99, -1, -1):\n",
        "    print(i)"
      ],
      "execution_count": null,
      "outputs": [
        {
          "output_type": "stream",
          "text": [
            "99\n",
            "98\n",
            "97\n",
            "96\n",
            "95\n",
            "94\n",
            "93\n",
            "92\n",
            "91\n",
            "90\n",
            "89\n",
            "88\n",
            "87\n",
            "86\n",
            "85\n",
            "84\n",
            "83\n",
            "82\n",
            "81\n",
            "80\n",
            "79\n",
            "78\n",
            "77\n",
            "76\n",
            "75\n",
            "74\n",
            "73\n",
            "72\n",
            "71\n",
            "70\n",
            "69\n",
            "68\n",
            "67\n",
            "66\n",
            "65\n",
            "64\n",
            "63\n",
            "62\n",
            "61\n",
            "60\n",
            "59\n",
            "58\n",
            "57\n",
            "56\n",
            "55\n",
            "54\n",
            "53\n",
            "52\n",
            "51\n",
            "50\n",
            "49\n",
            "48\n",
            "47\n",
            "46\n",
            "45\n",
            "44\n",
            "43\n",
            "42\n",
            "41\n",
            "40\n",
            "39\n",
            "38\n",
            "37\n",
            "36\n",
            "35\n",
            "34\n",
            "33\n",
            "32\n",
            "31\n",
            "30\n",
            "29\n",
            "28\n",
            "27\n",
            "26\n",
            "25\n",
            "24\n",
            "23\n",
            "22\n",
            "21\n",
            "20\n",
            "19\n",
            "18\n",
            "17\n",
            "16\n",
            "15\n",
            "14\n",
            "13\n",
            "12\n",
            "11\n",
            "10\n",
            "9\n",
            "8\n",
            "7\n",
            "6\n",
            "5\n",
            "4\n",
            "3\n",
            "2\n",
            "1\n",
            "0\n"
          ],
          "name": "stdout"
        }
      ]
    },
    {
      "cell_type": "code",
      "metadata": {
        "colab": {
          "base_uri": "https://localhost:8080/"
        },
        "id": "vJ3HZ8QjIDda",
        "outputId": "2b3e2fc9-342c-4d26-9e21-093fd3c3a245"
      },
      "source": [
        "#뺼셈 이용\n",
        "for i in range(100):\n",
        "    print(99 - i)"
      ],
      "execution_count": null,
      "outputs": [
        {
          "output_type": "stream",
          "text": [
            "99\n",
            "98\n",
            "97\n",
            "96\n",
            "95\n",
            "94\n",
            "93\n",
            "92\n",
            "91\n",
            "90\n",
            "89\n",
            "88\n",
            "87\n",
            "86\n",
            "85\n",
            "84\n",
            "83\n",
            "82\n",
            "81\n",
            "80\n",
            "79\n",
            "78\n",
            "77\n",
            "76\n",
            "75\n",
            "74\n",
            "73\n",
            "72\n",
            "71\n",
            "70\n",
            "69\n",
            "68\n",
            "67\n",
            "66\n",
            "65\n",
            "64\n",
            "63\n",
            "62\n",
            "61\n",
            "60\n",
            "59\n",
            "58\n",
            "57\n",
            "56\n",
            "55\n",
            "54\n",
            "53\n",
            "52\n",
            "51\n",
            "50\n",
            "49\n",
            "48\n",
            "47\n",
            "46\n",
            "45\n",
            "44\n",
            "43\n",
            "42\n",
            "41\n",
            "40\n",
            "39\n",
            "38\n",
            "37\n",
            "36\n",
            "35\n",
            "34\n",
            "33\n",
            "32\n",
            "31\n",
            "30\n",
            "29\n",
            "28\n",
            "27\n",
            "26\n",
            "25\n",
            "24\n",
            "23\n",
            "22\n",
            "21\n",
            "20\n",
            "19\n",
            "18\n",
            "17\n",
            "16\n",
            "15\n",
            "14\n",
            "13\n",
            "12\n",
            "11\n",
            "10\n",
            "9\n",
            "8\n",
            "7\n",
            "6\n",
            "5\n",
            "4\n",
            "3\n",
            "2\n",
            "1\n",
            "0\n"
          ],
          "name": "stdout"
        }
      ]
    },
    {
      "cell_type": "markdown",
      "metadata": {
        "id": "4NsCSBm4CsT1"
      },
      "source": [
        "#### 165\n",
        "for문을 사용해서 아래와 같이 출력하라.\n",
        "\n",
        "```\n",
        "0.0\n",
        "0.1\n",
        "0.2\n",
        "0.3\n",
        "0.4\n",
        "0.5\n",
        "...\n",
        "0.9\n",
        "```\n",
        "\n"
      ]
    },
    {
      "cell_type": "code",
      "metadata": {
        "colab": {
          "base_uri": "https://localhost:8080/"
        },
        "id": "tJUef5elIQpD",
        "outputId": "610813a8-46b9-4f43-be22-cb80b937d305"
      },
      "source": [
        "for i in range(0, 10):\n",
        "    print( float(i) / 10)"
      ],
      "execution_count": null,
      "outputs": [
        {
          "output_type": "stream",
          "text": [
            "0.0\n",
            "0.1\n",
            "0.2\n",
            "0.3\n",
            "0.4\n",
            "0.5\n",
            "0.6\n",
            "0.7\n",
            "0.8\n",
            "0.9\n"
          ],
          "name": "stdout"
        }
      ]
    },
    {
      "cell_type": "markdown",
      "metadata": {
        "id": "iHIcAQacIv5M"
      },
      "source": [
        "#### 166\n",
        "구구단 3단을 출력하라.\n",
        "\n",
        "```\n",
        "3x1 = 3\n",
        "3x2 = 6\n",
        "3x3 = 9\n",
        "3x4 = 12\n",
        "3x5 = 15\n",
        "3x6 = 18\n",
        "3x7 = 21\n",
        "3x8 = 24\n",
        "3x9 = 27\n",
        "```\n",
        "\n"
      ]
    },
    {
      "cell_type": "code",
      "metadata": {
        "colab": {
          "base_uri": "https://localhost:8080/"
        },
        "id": "6D2CAZkzIrlK",
        "outputId": "9d09882f-bf91-4eda-cda8-80eae0d98e6a"
      },
      "source": [
        "for i in range(1, 10):\n",
        "    print(f\"3x{i}\", \"=\", 3 * i)"
      ],
      "execution_count": null,
      "outputs": [
        {
          "output_type": "stream",
          "text": [
            "3x1 = 3\n",
            "3x2 = 6\n",
            "3x3 = 9\n",
            "3x4 = 12\n",
            "3x5 = 15\n",
            "3x6 = 18\n",
            "3x7 = 21\n",
            "3x8 = 24\n",
            "3x9 = 27\n"
          ],
          "name": "stdout"
        }
      ]
    },
    {
      "cell_type": "markdown",
      "metadata": {
        "id": "xhIrJNhxCsV9"
      },
      "source": [
        "#### 167\n",
        "구구단 3단을 출력하라. 단 홀수 번째만 출력한다.\n",
        "\n",
        "```\n",
        "3x1 = 3\n",
        "3x3 = 9\n",
        "3x5 = 15\n",
        "3x7 = 21\n",
        "3x9 = 27\n",
        "```\n",
        "\n"
      ]
    },
    {
      "cell_type": "code",
      "metadata": {
        "colab": {
          "base_uri": "https://localhost:8080/"
        },
        "id": "jgAkd1y6Ki57",
        "outputId": "500f22a8-3fcb-4c2c-bbcd-cca5589ca67f"
      },
      "source": [
        "for i in range(1, 10, 2):\n",
        "    print(f\"3x{i}\", \"=\", 3 * i)"
      ],
      "execution_count": null,
      "outputs": [
        {
          "output_type": "stream",
          "text": [
            "3x1 = 3\n",
            "3x3 = 9\n",
            "3x5 = 15\n",
            "3x7 = 21\n",
            "3x9 = 27\n"
          ],
          "name": "stdout"
        }
      ]
    },
    {
      "cell_type": "markdown",
      "metadata": {
        "id": "UlzIAXHkCsYK"
      },
      "source": [
        "#### 168\n",
        "1~10까지의 숫자에 대해 모두 더한 값을 출력하는 프로그램을 for 문을 사용하여 작성하라.\n",
        "\n",
        "```\n",
        "합 : 55\n",
        "```\n",
        "\n"
      ]
    },
    {
      "cell_type": "code",
      "metadata": {
        "colab": {
          "base_uri": "https://localhost:8080/"
        },
        "id": "gvxip9uoLDmF",
        "outputId": "8793fa32-aaf9-499e-8a51-cf54c9bc742e"
      },
      "source": [
        "num = 0\n",
        "for i in range(1, 11):\n",
        "    num = num + i\n",
        "print(\"합:\", num)"
      ],
      "execution_count": null,
      "outputs": [
        {
          "output_type": "stream",
          "text": [
            "합: 55\n"
          ],
          "name": "stdout"
        }
      ]
    },
    {
      "cell_type": "code",
      "metadata": {
        "colab": {
          "base_uri": "https://localhost:8080/"
        },
        "id": "2rHMlH2FTf7N",
        "outputId": "17ff1eb8-ef46-414d-9a83-eacf201fbe51"
      },
      "source": [
        "#hab += i 사용\n",
        "hab = 0\n",
        "for i in range(1, 11):\n",
        "    hab += i\n",
        "print (\"합 :\", hab)"
      ],
      "execution_count": null,
      "outputs": [
        {
          "output_type": "stream",
          "text": [
            "합 : 55\n"
          ],
          "name": "stdout"
        }
      ]
    },
    {
      "cell_type": "markdown",
      "metadata": {
        "id": "yWCQtTv3Csad"
      },
      "source": [
        "#### 169\n",
        "1~10까지의 숫자 중 모든 홀수의 합을 출력하는 프로그램을 for 문을 사용하여 작성하라.\n",
        "\n",
        "```\n",
        "합: 25\n",
        "```\n",
        "\n"
      ]
    },
    {
      "cell_type": "code",
      "metadata": {
        "colab": {
          "base_uri": "https://localhost:8080/"
        },
        "id": "9AbidAdHT6Yz",
        "outputId": "e5c4b418-d84c-4dfe-8d75-e769c5f71878"
      },
      "source": [
        "num = 0\n",
        "for i in range(1, 11, 2):\n",
        "    num = num + i\n",
        "print(\"합:\", num)"
      ],
      "execution_count": null,
      "outputs": [
        {
          "output_type": "stream",
          "text": [
            "합: 25\n"
          ],
          "name": "stdout"
        }
      ]
    },
    {
      "cell_type": "code",
      "metadata": {
        "colab": {
          "base_uri": "https://localhost:8080/"
        },
        "id": "Y6dhi6S3UCTZ",
        "outputId": "2cec5e9a-87e5-484a-cc33-907fad6ed51f"
      },
      "source": [
        "#hab += i 사용\n",
        "hab = 0\n",
        "for i in range(1, 11, 2):\n",
        "    hab += i\n",
        "print (\"합 :\", hab)"
      ],
      "execution_count": null,
      "outputs": [
        {
          "output_type": "stream",
          "text": [
            "합 : 25\n"
          ],
          "name": "stdout"
        }
      ]
    },
    {
      "cell_type": "markdown",
      "metadata": {
        "id": "JqO4Q-cLCsc0"
      },
      "source": [
        "#### 170\n",
        "1~10까지의 숫자를 모두 곱한 값을 출력하는 프로그램을 for 문을 사용하여 작성하라."
      ]
    },
    {
      "cell_type": "code",
      "metadata": {
        "colab": {
          "base_uri": "https://localhost:8080/"
        },
        "id": "vyM6Hv86UJfw",
        "outputId": "cfa27f09-64a9-4606-b42e-d4b778ab753e"
      },
      "source": [
        "num = 1\n",
        "for i in range(1, 11):\n",
        "    num = num * i\n",
        "print(\"곱:\", num)"
      ],
      "execution_count": null,
      "outputs": [
        {
          "output_type": "stream",
          "text": [
            "곱: 3628800\n"
          ],
          "name": "stdout"
        }
      ]
    },
    {
      "cell_type": "code",
      "metadata": {
        "colab": {
          "base_uri": "https://localhost:8080/"
        },
        "id": "MQJJ-xqcUjQ5",
        "outputId": "91f29cf6-46b1-4e3a-ebfa-800eafdebd57"
      },
      "source": [
        "#result *= i 사용\n",
        "result = 1\n",
        "for i in range(1, 11) :\n",
        "    result *= i\n",
        "print(result)"
      ],
      "execution_count": null,
      "outputs": [
        {
          "output_type": "stream",
          "text": [
            "3628800\n"
          ],
          "name": "stdout"
        }
      ]
    },
    {
      "cell_type": "markdown",
      "metadata": {
        "id": "hq1mY2FECse-"
      },
      "source": [
        "#### 171\n",
        "아래와 같이 리스트의 데이터를 출력하라. 단, for문과 range문을 사용하라.\n",
        "\n",
        "```\n",
        "price_list = [32100, 32150, 32000, 32500]\n",
        "```\n",
        "\n",
        "\n",
        "```\n",
        "32100\n",
        "32150\n",
        "32000\n",
        "32500\n",
        "```\n",
        "\n",
        "\n"
      ]
    },
    {
      "cell_type": "code",
      "metadata": {
        "colab": {
          "base_uri": "https://localhost:8080/"
        },
        "id": "tlCXr0CaUzqC",
        "outputId": "62ab74b7-2d85-4961-8724-3d4146da7767"
      },
      "source": [
        "price_list = [32100, 32150, 32000, 32500]\n",
        "\n",
        "for i in range(4):\n",
        "    print(price_list[i])"
      ],
      "execution_count": null,
      "outputs": [
        {
          "output_type": "stream",
          "text": [
            "32100\n",
            "32150\n",
            "32000\n",
            "32500\n"
          ],
          "name": "stdout"
        }
      ]
    },
    {
      "cell_type": "markdown",
      "metadata": {
        "id": "fbGhvMKQCshL"
      },
      "source": [
        "#### 172\n",
        "아래와 같이 리스트의 데이터를 출력하라. 단, for문과 range문을 사용하라.\n",
        "\n",
        "```\n",
        "price_list = [32100, 32150, 32000, 32500]\n",
        "```\n",
        "\n",
        "\n",
        "```\n",
        "0 32100\n",
        "1 32150\n",
        "2 32000\n",
        "3 32500\n",
        "```\n",
        "\n",
        "\n"
      ]
    },
    {
      "cell_type": "code",
      "metadata": {
        "colab": {
          "base_uri": "https://localhost:8080/"
        },
        "id": "GOfbWj1aVMO2",
        "outputId": "075bad37-cab8-4b3f-d1bf-ab392f12e73c"
      },
      "source": [
        "price_list = [32100, 32150, 32000, 32500]\n",
        "\n",
        "for i in range(4):\n",
        "    print(i, price_list[i])"
      ],
      "execution_count": null,
      "outputs": [
        {
          "output_type": "stream",
          "text": [
            "0 32100\n",
            "1 32150\n",
            "2 32000\n",
            "3 32500\n"
          ],
          "name": "stdout"
        }
      ]
    },
    {
      "cell_type": "code",
      "metadata": {
        "colab": {
          "base_uri": "https://localhost:8080/"
        },
        "id": "QLTWrx61VW8D",
        "outputId": "046c1781-6b1b-48bc-af0c-a150a768c38e"
      },
      "source": [
        "# enumerate() 사용\n",
        "price_list = [32100, 32150, 32000, 32500]\n",
        "\n",
        "for i, data in enumerate(price_list):\n",
        "    print(i, data)"
      ],
      "execution_count": null,
      "outputs": [
        {
          "output_type": "stream",
          "text": [
            "0 32100\n",
            "1 32150\n",
            "2 32000\n",
            "3 32500\n"
          ],
          "name": "stdout"
        }
      ]
    },
    {
      "cell_type": "markdown",
      "metadata": {
        "id": "DZQzdvWoCsjQ"
      },
      "source": [
        "#### 173\n",
        "아래와 같이 리스트의 데이터를 출력하라. 단, for문과 range문을 사용하라.\n",
        "\n",
        "```\n",
        "price_list = [32100, 32150, 32000, 32500]\n",
        "```\n",
        "\n",
        "```\n",
        "3 32100\n",
        "2 32150\n",
        "1 32000\n",
        "0 32500\n",
        "```\n",
        "\n",
        "\n",
        "\n"
      ]
    },
    {
      "cell_type": "code",
      "metadata": {
        "colab": {
          "base_uri": "https://localhost:8080/"
        },
        "id": "02PxuH9EVrWr",
        "outputId": "da624dfb-7f3b-4f15-92ff-5d9d38f5c2fd"
      },
      "source": [
        "price_list = [32100, 32150, 32000, 32500]\n",
        "\n",
        "for i in range(len(price_list)):\n",
        "    print((len(price_list) - 1) - i, price_list[i])"
      ],
      "execution_count": null,
      "outputs": [
        {
          "output_type": "stream",
          "text": [
            "3 32100\n",
            "2 32150\n",
            "1 32000\n",
            "0 32500\n"
          ],
          "name": "stdout"
        }
      ]
    },
    {
      "cell_type": "markdown",
      "metadata": {
        "id": "v77ViutuCslm"
      },
      "source": [
        "#### 174\n",
        "아래와 같이 리스트의 데이터를 출력하라. 단, for문과 range문을 사용하라.\n",
        "\n",
        "```\n",
        "price_list = [32100, 32150, 32000, 32500]\n",
        "```\n",
        "\n",
        "```\n",
        "100 32150\n",
        "110 32000\n",
        "120 32500\n",
        "```\n",
        "\n",
        "\n",
        "\n"
      ]
    },
    {
      "cell_type": "code",
      "metadata": {
        "colab": {
          "base_uri": "https://localhost:8080/"
        },
        "id": "zIQBamnOXusv",
        "outputId": "921f373e-bb7a-4928-ff14-dc0e112f69f2"
      },
      "source": [
        "price_list = [32100, 32150, 32000, 32500]\n",
        "\n",
        "for i in range(1, 4):\n",
        "    print(90 + 10 * i, price_list[i])"
      ],
      "execution_count": null,
      "outputs": [
        {
          "output_type": "stream",
          "text": [
            "100 32150\n",
            "110 32000\n",
            "120 32500\n"
          ],
          "name": "stdout"
        }
      ]
    },
    {
      "cell_type": "markdown",
      "metadata": {
        "id": "m_ZwTqTcCsn4"
      },
      "source": [
        "#### 175\n",
        "my_list를 아래와 같이 출력하라.\n",
        "\n",
        "```\n",
        "my_list = [\"가\", \"나\", \"다\", \"라\"]\n",
        "```\n",
        "\n",
        "```\n",
        "가 나\n",
        "나 다\n",
        "다 라\n",
        "```\n",
        "\n",
        "\n",
        "\n"
      ]
    },
    {
      "cell_type": "code",
      "metadata": {
        "colab": {
          "base_uri": "https://localhost:8080/"
        },
        "id": "22FavFXCYV5n",
        "outputId": "198e3910-8a67-4665-e50c-932cf887ea18"
      },
      "source": [
        "my_list = [\"가\", \"나\", \"다\", \"라\"]\n",
        "\n",
        "for i in range(1, len(my_list)):\n",
        "    print(my_list[i-1], my_list[i])"
      ],
      "execution_count": null,
      "outputs": [
        {
          "output_type": "stream",
          "text": [
            "가 나\n",
            "나 다\n",
            "다 라\n"
          ],
          "name": "stdout"
        }
      ]
    },
    {
      "cell_type": "markdown",
      "metadata": {
        "id": "cZ4iGUyTCsqJ"
      },
      "source": [
        "#### 176\n",
        "리스트를 아래와 같이 출력하라.\n",
        "\n",
        "```\n",
        "my_list = [\"가\", \"나\", \"다\", \"라\", \"마\"]\n",
        "```\n",
        "\n",
        "```\n",
        "가 나 다\n",
        "나 다 라\n",
        "다 라 마\n",
        "```\n",
        "\n",
        "\n",
        "\n"
      ]
    },
    {
      "cell_type": "code",
      "metadata": {
        "colab": {
          "base_uri": "https://localhost:8080/"
        },
        "id": "59NaqJdyZoTt",
        "outputId": "3721125b-bc31-41a8-a307-f77702039f66"
      },
      "source": [
        "my_list = [\"가\", \"나\", \"다\", \"라\", \"마\"]\n",
        "\n",
        "for i in range(1, len(my_list) - 1):\n",
        "    print(my_list[i-1], my_list[i], my_list[i+1])"
      ],
      "execution_count": null,
      "outputs": [
        {
          "output_type": "stream",
          "text": [
            "가 나 다\n",
            "나 다 라\n",
            "다 라 마\n"
          ],
          "name": "stdout"
        }
      ]
    },
    {
      "cell_type": "markdown",
      "metadata": {
        "id": "CmFz8WogCssP"
      },
      "source": [
        "#### 177\n",
        "반복문과 range 함수를 사용해서 my_list를 아래와 같이 출력하라.\n",
        "\n",
        "```\n",
        "my_list = [\"가\", \"나\", \"다\", \"라\"]\n",
        "```\n",
        "\n",
        "```\n",
        "라 다\n",
        "다 나\n",
        "나 가\n",
        "```\n",
        "\n",
        "\n"
      ]
    },
    {
      "cell_type": "code",
      "metadata": {
        "colab": {
          "base_uri": "https://localhost:8080/"
        },
        "id": "cj0dgAHiaV9C",
        "outputId": "4038dbfc-36dc-4443-8833-fc0fa5b8472b"
      },
      "source": [
        "my_list = [\"가\", \"나\", \"다\", \"라\"]\n",
        "\n",
        "for i in range(1, len(my_list)):\n",
        "    print(my_list[i-2], my_list[i-1])"
      ],
      "execution_count": null,
      "outputs": [
        {
          "output_type": "stream",
          "text": [
            "라 가\n",
            "가 나\n",
            "나 다\n"
          ],
          "name": "stdout"
        }
      ]
    },
    {
      "cell_type": "markdown",
      "metadata": {
        "id": "nGJd5D-kCsuW"
      },
      "source": [
        "#### 178\n",
        "리스트에는 네 개의 정수가 저장되어 있다. 각각의 데이터에 대해서 자신과 우측값과의 차분값을 화면에 출력하라.\n",
        "\n",
        "```\n",
        "my_list = [100, 200, 400, 800]\n",
        "```\n",
        "예를들어 100을 기준으로 우측에 위치한 200과의 차분 값를 화면에 출력하고, 200을 기준으로 우측에 위치한 400과의 차분값을 화면에 출력한다. 이어서 400을 기준으로 우측에 위치한 800과의 차분값을 화면에 출력한다.\n",
        "\n",
        "```\n",
        "100\n",
        "200\n",
        "400\n",
        "```\n",
        "\n",
        "\n",
        "\n"
      ]
    },
    {
      "cell_type": "code",
      "metadata": {
        "colab": {
          "base_uri": "https://localhost:8080/"
        },
        "id": "5t9PrVlmlEkK",
        "outputId": "534abc86-cf03-4484-b7b9-ae1b2f042590"
      },
      "source": [
        "my_list = [100, 200, 400, 800]\n",
        "\n",
        "for i in range(len(my_list) - 1):\n",
        "    print(my_list[i + 1] - my_list[i])"
      ],
      "execution_count": null,
      "outputs": [
        {
          "output_type": "stream",
          "text": [
            "100\n",
            "200\n",
            "400\n"
          ],
          "name": "stdout"
        }
      ]
    },
    {
      "cell_type": "markdown",
      "metadata": {
        "id": "xUSHlkOICswi"
      },
      "source": [
        "#### 179\n",
        "리스트에는 6일 간의 종가 데이터가 저장되어 있다. 종가 데이터의 3일 이동 평균을 계산하고 이를 화면에 출력하라.\n",
        "\n",
        "```\n",
        "my_list = [100, 200, 400, 800, 1000, 1300]\n",
        "```\n",
        "첫 번째 줄에는 100, 200, 400의 평균값이 출력된다. 두 번째 줄에는 200, 400, 800의 평균값이 출력된다. 같은 방식으로 나머지 데이터의 평균을 출력한다.\n",
        "\n",
        "\n",
        "```\n",
        "233.33333333333334\n",
        "466.6666666666667\n",
        "733.3333333333334\n",
        "1033.3333333333333\n",
        "```\n",
        "\n",
        "\n"
      ]
    },
    {
      "cell_type": "code",
      "metadata": {
        "colab": {
          "base_uri": "https://localhost:8080/"
        },
        "id": "pL16YYw9o_1e",
        "outputId": "0131d2ae-8bab-4afe-da57-b46b2ee0aa7b"
      },
      "source": [
        "my_list = [100, 200, 400, 800, 1000, 1300]\n",
        "\n",
        "for i in range(len(my_list) -2):\n",
        "    num = my_list[i + 2] + my_list[i + 1] + my_list[i]\n",
        "    print( num / 3)"
      ],
      "execution_count": null,
      "outputs": [
        {
          "output_type": "stream",
          "text": [
            "233.33333333333334\n",
            "466.6666666666667\n",
            "733.3333333333334\n",
            "1033.3333333333333\n"
          ],
          "name": "stdout"
        }
      ]
    },
    {
      "cell_type": "markdown",
      "metadata": {
        "id": "JxhvXuBlCsyv"
      },
      "source": [
        "#### 180\n",
        "리스트에 5일간의 저가, 고가 정보가 저장돼 있다. 고가와 저가의 차를 변동폭이라고 정의할 때, low, high 두 개의 리스트를 사용해서 5일간의 변동폭을 volatility 리스트에 저장하라.\n",
        "\n",
        "```\n",
        "low_prices  = [100, 200, 400, 800, 1000]\n",
        "high_prices = [150, 300, 430, 880, 1000]\n",
        "```\n",
        "\n"
      ]
    },
    {
      "cell_type": "code",
      "metadata": {
        "colab": {
          "base_uri": "https://localhost:8080/"
        },
        "id": "l65eBESMp1Vl",
        "outputId": "99ed2350-fca2-41a3-fbfe-1f53f57f2dbf"
      },
      "source": [
        "low_prices  = [100, 200, 400, 800, 1000]\n",
        "high_prices = [150, 300, 430, 880, 1000]\n",
        "\n",
        "volatility = []\n",
        "for i in range(len(low_prices)):\n",
        "    volatility.append(high_prices[i] - low_prices[i])\n",
        "\n",
        "print(volatility)"
      ],
      "execution_count": null,
      "outputs": [
        {
          "output_type": "stream",
          "text": [
            "[50, 100, 30, 80, 0]\n"
          ],
          "name": "stdout"
        }
      ]
    },
    {
      "cell_type": "markdown",
      "metadata": {
        "id": "vWTyw_4_Cs1B"
      },
      "source": [
        "#### 181\n",
        "아래 표에서 하나의 행을 하나의 리스트로, 총 3개의 리스트를 갖는 이차원 리스트 apart를 정의하라.\n",
        "\n",
        "|101호|102호|\n",
        "|---|---|\n",
        "|201호|202호|\n",
        "|301호|302호|\n"
      ]
    },
    {
      "cell_type": "code",
      "metadata": {
        "id": "QCXYAO_HCrk3",
        "colab": {
          "base_uri": "https://localhost:8080/"
        },
        "outputId": "82f1cc4a-e1c8-4e0f-c3f9-8381856d029d"
      },
      "source": [
        "apart = [[\"101호\", \"102호\"], [\"201호\", \"202호\"], [\"301호\", \"302호\"]]\n",
        "apart"
      ],
      "execution_count": null,
      "outputs": [
        {
          "output_type": "execute_result",
          "data": {
            "text/plain": [
              "[['101호', '102호'], ['201호', '202호'], ['301호', '302호']]"
            ]
          },
          "metadata": {
            "tags": []
          },
          "execution_count": 18
        }
      ]
    },
    {
      "cell_type": "markdown",
      "metadata": {
        "id": "hrvZU-5E_pry"
      },
      "source": [
        "#### 182\n",
        "아래 표에서 하나의 열을 하나의 리스트로, 총 2개의 리스트를 갖는 이차원 리스트 stock을 정의하라.\n",
        "\n",
        "|시가|종가|\n",
        "|---|---|\n",
        "|100|80|\n",
        "|200|210|\n",
        "|300|330|"
      ]
    },
    {
      "cell_type": "code",
      "metadata": {
        "colab": {
          "base_uri": "https://localhost:8080/"
        },
        "id": "bvpzdyxarknn",
        "outputId": "aed1f6b5-565a-4042-e3ed-b28b631f654c"
      },
      "source": [
        "stock = [[\"시가\", 100, 200, 300], [\"종가\", 80, 210, 330]]\n",
        "stock"
      ],
      "execution_count": null,
      "outputs": [
        {
          "output_type": "execute_result",
          "data": {
            "text/plain": [
              "[['시가', 100, 200, 300], ['종가', 80, 210, 330]]"
            ]
          },
          "metadata": {
            "tags": []
          },
          "execution_count": 20
        }
      ]
    },
    {
      "cell_type": "markdown",
      "metadata": {
        "id": "B460rDJ1rOXO"
      },
      "source": [
        "#### 183\n",
        "아래 표를 stock 이름의 딕셔너리로 표현하라.시가를 key로 저장하고, 나머지 같은 열의 데이터를 리스트로 저장해서 value로 저장한다. 종가 역시 key로 저장하고 나머지 같은 열의 데이터를 리스트로 저장해서 value로 저장한다.\n",
        "\n",
        "|시가|종가|\n",
        "|---|---|\n",
        "|100|80|\n",
        "|200|210|\n",
        "|300|330|"
      ]
    },
    {
      "cell_type": "code",
      "metadata": {
        "colab": {
          "base_uri": "https://localhost:8080/"
        },
        "id": "8vECQjjurvoF",
        "outputId": "34470dc6-b2b0-4a1d-8480-63076a8a228e"
      },
      "source": [
        "stock = {\"시가\": [100, 200, 300], \"종가\": [80, 210, 330]}\n",
        "stock"
      ],
      "execution_count": null,
      "outputs": [
        {
          "output_type": "execute_result",
          "data": {
            "text/plain": [
              "{'시가': [100, 200, 300], '종가': [80, 210, 330]}"
            ]
          },
          "metadata": {
            "tags": []
          },
          "execution_count": 22
        }
      ]
    },
    {
      "cell_type": "markdown",
      "metadata": {
        "id": "rwU2XfPjrOZ8"
      },
      "source": [
        "#### 184\n",
        "아래 표를 stock 이라는 이름의 딕셔너리로 표현하라. 날짜를 key로 저장하고, 나머지 같은 행의 데이터를 리스트로 저장해서 value로 저장한다. 첫 열이 날짜이다.\n",
        "\n",
        "|10/10|80|110|70|90|\n",
        "|---|---|---|---|---|\n",
        "|10/11|210|230|190|200|"
      ]
    },
    {
      "cell_type": "code",
      "metadata": {
        "colab": {
          "base_uri": "https://localhost:8080/"
        },
        "id": "0ku4IAReuwtC",
        "outputId": "527708d9-30e4-42fd-df48-a5e57c43f30d"
      },
      "source": [
        "stock = {\"10/10\": [80, 110, 70, 90], \"10/11\": [210, 230, 190, 200]}\n",
        "stock"
      ],
      "execution_count": null,
      "outputs": [
        {
          "output_type": "execute_result",
          "data": {
            "text/plain": [
              "{'10/10': [80, 110, 70, 90], '10/11': [210, 230, 190, 200]}"
            ]
          },
          "metadata": {
            "tags": []
          },
          "execution_count": 24
        }
      ]
    },
    {
      "cell_type": "markdown",
      "metadata": {
        "id": "8E-gtczMrOco"
      },
      "source": [
        "#### 185\n",
        "리스트에 저장된 데이터를 아래와 같이 출력하라.\n",
        "\n",
        "```\n",
        "apart = [ [101, 102], [201, 202], [301, 302] ]\n",
        "```\n",
        "\n",
        "```\n",
        "101 호\n",
        "102 호\n",
        "201 호\n",
        "202 호\n",
        "301 호\n",
        "302 호\n",
        "```\n",
        "\n",
        "\n",
        "\n"
      ]
    },
    {
      "cell_type": "code",
      "metadata": {
        "colab": {
          "base_uri": "https://localhost:8080/"
        },
        "id": "94IWVRKau6RU",
        "outputId": "be00d8d0-fe0b-4104-e654-6b042ba5ca39"
      },
      "source": [
        "apart = [ [101, 102], [201, 202], [301, 302] ]\n",
        "\n",
        "for i in apart:\n",
        "    for t in i:\n",
        "        print(t, \"호\")"
      ],
      "execution_count": null,
      "outputs": [
        {
          "output_type": "stream",
          "text": [
            "101 호\n",
            "102 호\n",
            "201 호\n",
            "202 호\n",
            "301 호\n",
            "302 호\n"
          ],
          "name": "stdout"
        }
      ]
    },
    {
      "cell_type": "markdown",
      "metadata": {
        "id": "JlQOVcQsrOfS"
      },
      "source": [
        "#### 186\n",
        "리스트에 저장된 데이터를 아래와 같이 출력하라.\n",
        "\n",
        "```\n",
        "apart = [ [101, 102], [201, 202], [301, 302] ]\n",
        "```\n",
        "\n",
        "```\n",
        "301 호\n",
        "302 호\n",
        "201 호\n",
        "202 호\n",
        "101 호\n",
        "102 호\n",
        "```\n",
        "\n",
        "\n",
        "\n"
      ]
    },
    {
      "cell_type": "code",
      "metadata": {
        "colab": {
          "base_uri": "https://localhost:8080/"
        },
        "id": "YQoVxXfnvSSj",
        "outputId": "814b00c4-7001-4f4f-c8e6-521b77b03630"
      },
      "source": [
        "apart = [ [101, 102], [201, 202], [301, 302] ]\n",
        "\n",
        "for i in apart[::-1]:\n",
        "    for t in i:\n",
        "        print(t, \"호\")"
      ],
      "execution_count": null,
      "outputs": [
        {
          "output_type": "stream",
          "text": [
            "301 호\n",
            "302 호\n",
            "201 호\n",
            "202 호\n",
            "101 호\n",
            "102 호\n"
          ],
          "name": "stdout"
        }
      ]
    },
    {
      "cell_type": "markdown",
      "metadata": {
        "id": "36qPrmFMrOhj"
      },
      "source": [
        "#### 187\n",
        "리스트에 저장된 데이터를 아래와 같이 출력하라.\n",
        "\n",
        "```\n",
        "apart = [ [101, 102], [201, 202], [301, 302] ]\n",
        "```\n",
        "\n",
        "```\n",
        "302 호\n",
        "301 호\n",
        "202 호\n",
        "201 호\n",
        "102 호\n",
        "101 호\n",
        "```\n",
        "\n",
        "\n",
        "\n"
      ]
    },
    {
      "cell_type": "code",
      "metadata": {
        "colab": {
          "base_uri": "https://localhost:8080/"
        },
        "id": "x63jBXtZxKSc",
        "outputId": "683c3d6b-9789-4699-d00b-e4e430f2b5d1"
      },
      "source": [
        "apart = [ [101, 102], [201, 202], [301, 302] ]\n",
        "\n",
        "for i in apart[::-1]:\n",
        "    for t in i[::-1]:\n",
        "        print(t, \"호\")"
      ],
      "execution_count": null,
      "outputs": [
        {
          "output_type": "stream",
          "text": [
            "302 호\n",
            "301 호\n",
            "202 호\n",
            "201 호\n",
            "102 호\n",
            "101 호\n"
          ],
          "name": "stdout"
        }
      ]
    },
    {
      "cell_type": "markdown",
      "metadata": {
        "id": "NcQcY-ZgrOju"
      },
      "source": [
        "####188\n",
        "리스트에 저장된 데이터를 아래와 같이 출력하라.\n",
        "\n",
        "```\n",
        "apart = [ [101, 102], [201, 202], [301, 302] ]\n",
        "```\n",
        "\n",
        "```\n",
        "101 호\n",
        "-----\n",
        "102 호\n",
        "-----\n",
        "201 호\n",
        "-----\n",
        "202 호\n",
        "-----\n",
        "301 호\n",
        "-----\n",
        "302 호\n",
        "-----\n",
        "```"
      ]
    },
    {
      "cell_type": "code",
      "metadata": {
        "colab": {
          "base_uri": "https://localhost:8080/"
        },
        "id": "Z4z8WObKxc50",
        "outputId": "7cf6020c-8bdc-428f-e30a-0e47df8ba202"
      },
      "source": [
        "apart = [ [101, 102], [201, 202], [301, 302] ]\n",
        "\n",
        "for i in apart:\n",
        "    for t in i:\n",
        "        print(t, \"호\")\n",
        "        print(\"-----\")"
      ],
      "execution_count": null,
      "outputs": [
        {
          "output_type": "stream",
          "text": [
            "101 호\n",
            "-----\n",
            "102 호\n",
            "-----\n",
            "201 호\n",
            "-----\n",
            "202 호\n",
            "-----\n",
            "301 호\n",
            "-----\n",
            "302 호\n",
            "-----\n"
          ],
          "name": "stdout"
        }
      ]
    },
    {
      "cell_type": "markdown",
      "metadata": {
        "id": "DExNEKbBrOl6"
      },
      "source": [
        "#### 189\n",
        "리스트에 저장된 데이터를 아래와 같이 출력하라.\n",
        "\n",
        "```\n",
        "apart = [ [101, 102], [201, 202], [301, 302] ]\n",
        "```\n",
        "\n",
        "```\n",
        "101 호\n",
        "102 호\n",
        "-----\n",
        "201 호\n",
        "202 호\n",
        "-----\n",
        "301 호\n",
        "302 호\n",
        "-----\n",
        "```\n",
        "\n",
        "\n",
        "\n"
      ]
    },
    {
      "cell_type": "code",
      "metadata": {
        "colab": {
          "base_uri": "https://localhost:8080/"
        },
        "id": "yBv6TR_exxIv",
        "outputId": "4f806523-68b8-467b-eb82-00a11beee41b"
      },
      "source": [
        "apart = [ [101, 102], [201, 202], [301, 302] ]\n",
        "\n",
        "for i in apart:\n",
        "    for t in i:\n",
        "        print(t, \"호\")\n",
        "    print(\"-----\")"
      ],
      "execution_count": null,
      "outputs": [
        {
          "output_type": "stream",
          "text": [
            "101 호\n",
            "102 호\n",
            "-----\n",
            "201 호\n",
            "202 호\n",
            "-----\n",
            "301 호\n",
            "302 호\n",
            "-----\n"
          ],
          "name": "stdout"
        }
      ]
    },
    {
      "cell_type": "markdown",
      "metadata": {
        "id": "4PoqNxCqrOoQ"
      },
      "source": [
        "#### 190\n",
        "리스트에 저장된 데이터를 아래와 같이 출력하라.\n",
        "\n",
        "```\n",
        "apart = [ [101, 102], [201, 202], [301, 302] ]\n",
        "```\n",
        "\n",
        "```\n",
        "101 호\n",
        "102 호\n",
        "201 호\n",
        "202 호\n",
        "301 호\n",
        "302 호\n",
        "-----\n",
        "```\n",
        "\n",
        "\n",
        "\n"
      ]
    },
    {
      "cell_type": "code",
      "metadata": {
        "colab": {
          "base_uri": "https://localhost:8080/"
        },
        "id": "A1Ti7SP7yAKV",
        "outputId": "a27dde5c-8e8a-4bb7-8821-2429419b0f1a"
      },
      "source": [
        "apart = [ [101, 102], [201, 202], [301, 302] ]\n",
        "\n",
        "for i in apart:\n",
        "    for t in i:\n",
        "        print(t, \"호\")\n",
        "print(\"-----\")"
      ],
      "execution_count": null,
      "outputs": [
        {
          "output_type": "stream",
          "text": [
            "101 호\n",
            "102 호\n",
            "201 호\n",
            "202 호\n",
            "301 호\n",
            "302 호\n",
            "-----\n"
          ],
          "name": "stdout"
        }
      ]
    },
    {
      "cell_type": "markdown",
      "metadata": {
        "id": "TqaidBy-GqYp"
      },
      "source": [
        "#### 191\n",
        "data에는 매수한 종목들의 OHLC (open/high/low/close) 가격 정보가 바인딩 되어있다.\n",
        "\n",
        "```\n",
        "data = [\n",
        "    [ 2000,  3050,  2050,  1980],\n",
        "    [ 7500,  2050,  2050,  1980],\n",
        "    [15450, 15050, 15550, 14900]\n",
        "]\n",
        "```\n",
        "수수료를 0.014 %로 가정할 때, 각 가격에 수수료를 포함한 가격을 한라인에 하나씩 출력하라.\n",
        "\n",
        "```\n",
        "2000.28\n",
        "3050.427\n",
        "2050.2870000000003\n",
        "...\n",
        "```\n",
        "\n",
        "\n"
      ]
    },
    {
      "cell_type": "code",
      "metadata": {
        "colab": {
          "base_uri": "https://localhost:8080/"
        },
        "id": "uPJ0z8vgAsiX",
        "outputId": "efbfa985-6393-4227-8f57-b7ad4a2d3833"
      },
      "source": [
        "data = [[ 2000,  3050,  2050,  1980], [ 7500,  2050,  2050,  1980], [15450, 15050, 15550, 14900]]\n",
        "\n",
        "for i in data:\n",
        "    for t in i:\n",
        "        print(float(t + t * 0.00014))"
      ],
      "execution_count": null,
      "outputs": [
        {
          "output_type": "stream",
          "text": [
            "2000.28\n",
            "3050.427\n",
            "2050.287\n",
            "1980.2772\n",
            "7501.05\n",
            "2050.287\n",
            "2050.287\n",
            "1980.2772\n",
            "15452.163\n",
            "15052.107\n",
            "15552.177\n",
            "14902.086\n"
          ],
          "name": "stdout"
        }
      ]
    },
    {
      "cell_type": "markdown",
      "metadata": {
        "id": "OjN1ykI-yDZs"
      },
      "source": [
        "#### 192\n",
        "191번의 출력 결과에 행단위로 \"----\" 구분자를 추가하라.\n",
        "\n",
        "```\n",
        "2000.28\n",
        "3050.427\n",
        "2050.2870000000003\n",
        "1980.2772\n",
        "----\n",
        "7501.05\n",
        "2050.2870000000003\n",
        "2050.2870000000003\n",
        "1980.2772\n",
        "----\n",
        "15452.163\n",
        "15052.107\n",
        "15552.177\n",
        "14902.086000000001\n",
        "----\n",
        "```\n",
        "\n"
      ]
    },
    {
      "cell_type": "code",
      "metadata": {
        "colab": {
          "base_uri": "https://localhost:8080/"
        },
        "id": "k0jVDkbVBS8-",
        "outputId": "14ebf5c1-55d4-4671-f548-bbda62935b16"
      },
      "source": [
        "data = [[ 2000,  3050,  2050,  1980], [ 7500,  2050,  2050,  1980], [15450, 15050, 15550, 14900]]\n",
        "\n",
        "for i in data:\n",
        "    for t in i:\n",
        "        print(float(t + t * 0.00014))\n",
        "    print(\"----\")"
      ],
      "execution_count": null,
      "outputs": [
        {
          "output_type": "stream",
          "text": [
            "2000.28\n",
            "3050.427\n",
            "2050.287\n",
            "1980.2772\n",
            "----\n",
            "7501.05\n",
            "2050.287\n",
            "2050.287\n",
            "1980.2772\n",
            "----\n",
            "15452.163\n",
            "15052.107\n",
            "15552.177\n",
            "14902.086\n",
            "----\n"
          ],
          "name": "stdout"
        }
      ]
    },
    {
      "cell_type": "markdown",
      "metadata": {
        "id": "yIHUaxYDyDce"
      },
      "source": [
        "#### 193\n",
        "192 번 문제의 결괏값을 result 이름의 리스트에 1차원 배열로 저장하라.\n",
        "\n",
        "\n",
        "```\n",
        ">> print(result)\n",
        "[2000.28, 3050.427, 2050.2870000000003, 1980.2772, 7501.05, 2050.2870000000003, 2050.2870000000003, ...]\n",
        "```\n",
        "\n"
      ]
    },
    {
      "cell_type": "code",
      "metadata": {
        "colab": {
          "base_uri": "https://localhost:8080/"
        },
        "id": "g8qO5z7rB1JM",
        "outputId": "3d87c44a-d7a5-4359-e706-b8dc82dc9c50"
      },
      "source": [
        "data = [[ 2000,  3050,  2050,  1980], [ 7500,  2050,  2050,  1980], [15450, 15050, 15550, 14900]]\n",
        "\n",
        "result = []\n",
        "for i in data:\n",
        "    for t in i:\n",
        "        result.append(float(t + t * 0.00014))\n",
        "\n",
        "print(result)"
      ],
      "execution_count": null,
      "outputs": [
        {
          "output_type": "stream",
          "text": [
            "[2000.28, 3050.427, 2050.287, 1980.2772, 7501.05, 2050.287, 2050.287, 1980.2772, 15452.163, 15052.107, 15552.177, 14902.086]\n"
          ],
          "name": "stdout"
        }
      ]
    },
    {
      "cell_type": "markdown",
      "metadata": {
        "id": "zujp6xYbyDfo"
      },
      "source": [
        "#### 194\n",
        "191번 문제의 결괏값을 result 이름의 리스트에 2차원 배열로 저장하라. 저장 포맷은 아래와 같다. 각 행에 대한 데이터끼리 리스트에 저장되어야 한다.\n",
        "\n",
        "```\n",
        ">> print(result)\n",
        "[\n",
        " [2000.28, 3050.427, 2050.2870000000003, 1980.2772],\n",
        " [7501.05, 2050.2870000000003, 2050.2870000000003, 1980.2772],\n",
        " [15452.163, 15052.107, 15552.177, 14902.086000000001]\n",
        "]\n",
        "```\n",
        "\n"
      ]
    },
    {
      "cell_type": "code",
      "metadata": {
        "colab": {
          "base_uri": "https://localhost:8080/"
        },
        "id": "QBg5wjfoCaLt",
        "outputId": "b7fb4ace-5fda-4a30-b529-c97bd6377e23"
      },
      "source": [
        "data = [[ 2000,  3050,  2050,  1980], [ 7500,  2050,  2050,  1980], [15450, 15050, 15550, 14900]]\n",
        "\n",
        "result = []\n",
        "for i in data:\n",
        "    result1 = [] \n",
        "    for t in i:\n",
        "        result1.append(float(t + t * 0.00014))\n",
        "    result.append(result1)\n",
        "\n",
        "print(result)"
      ],
      "execution_count": null,
      "outputs": [
        {
          "output_type": "stream",
          "text": [
            "[[2000.28, 3050.427, 2050.287, 1980.2772], [7501.05, 2050.287, 2050.287, 1980.2772], [15452.163, 15052.107, 15552.177, 14902.086]]\n"
          ],
          "name": "stdout"
        }
      ]
    },
    {
      "cell_type": "markdown",
      "metadata": {
        "id": "NOnbmCrayDiQ"
      },
      "source": [
        "#### 195\n",
        "ohlc 리스트에는 시가(open), 고가 (high), 저가 (low) , 종가(close)가 날짜별로 저장돼 있다. 화면에 종가데이터를 출력하라.\n",
        "\n",
        "```\n",
        "ohlc = [[\"open\", \"high\", \"low\", \"close\"],\n",
        "        [100, 110, 70, 100],\n",
        "        [200, 210, 180, 190],\n",
        "        [300, 310, 300, 310]]\n",
        "```\n",
        "\n",
        "```\n",
        "100\n",
        "190\n",
        "310\n",
        "```\n",
        "\n",
        "\n",
        "\n"
      ]
    },
    {
      "cell_type": "code",
      "metadata": {
        "colab": {
          "base_uri": "https://localhost:8080/"
        },
        "id": "X1Wz3DuTC-P5",
        "outputId": "aeffc230-86b2-478f-bd18-e25d7e35e16f"
      },
      "source": [
        "ohlc = [[\"open\", \"high\", \"low\", \"close\"],\n",
        "        [100, 110, 70, 100],\n",
        "        [200, 210, 180, 190],\n",
        "        [300, 310, 300, 310]]\n",
        "\n",
        "for i in ohlc[1:]:\n",
        "    print(i[3])"
      ],
      "execution_count": null,
      "outputs": [
        {
          "output_type": "stream",
          "text": [
            "100\n",
            "190\n",
            "310\n"
          ],
          "name": "stdout"
        }
      ]
    },
    {
      "cell_type": "markdown",
      "metadata": {
        "id": "YsieZ2AdyDlY"
      },
      "source": [
        "#### 196\n",
        "ohlc 리스트에는 시가(open), 고가 (high), 저가 (low) , 종가(close)가 날짜별로 저장돼 있다. 종가가 150원보다 큰경우에만 종가를 출력하라.\n",
        "\n",
        "```\n",
        "ohlc = [[\"open\", \"high\", \"low\", \"close\"],\n",
        "        [100, 110, 70, 100],\n",
        "        [200, 210, 180, 190],\n",
        "        [300, 310, 300, 310]]\n",
        "```\n",
        "\n",
        "```\n",
        "190\n",
        "310\n",
        "```\n",
        "\n",
        "\n",
        "\n"
      ]
    },
    {
      "cell_type": "code",
      "metadata": {
        "colab": {
          "base_uri": "https://localhost:8080/"
        },
        "id": "LTcejQt1Dam1",
        "outputId": "bb15cccd-81f5-4717-9acd-31bf75a0fd2b"
      },
      "source": [
        "for i in ohlc[1:]:\n",
        "    if i[3] > 150:\n",
        "        print(i[3])"
      ],
      "execution_count": null,
      "outputs": [
        {
          "output_type": "stream",
          "text": [
            "190\n",
            "310\n"
          ],
          "name": "stdout"
        }
      ]
    },
    {
      "cell_type": "markdown",
      "metadata": {
        "id": "dx1Bb1nzyDoC"
      },
      "source": [
        "#### 197\n",
        "ohlc 리스트에는 시가(open), 고가 (high), 저가 (low) , 종가(close)가 날짜별로 저장돼 있다. 종가가 시가 보다 크거나 같은 경우에만 종가를 출력하라.\n",
        "\n",
        "```\n",
        "ohlc = [[\"open\", \"high\", \"low\", \"close\"],\n",
        "        [100, 110, 70, 100],\n",
        "        [200, 210, 180, 190],\n",
        "        [300, 310, 300, 310]]\n",
        "```\n",
        "\n",
        "\n",
        "```\n",
        "100\n",
        "310\n",
        "```\n",
        "\n",
        "\n"
      ]
    },
    {
      "cell_type": "code",
      "metadata": {
        "colab": {
          "base_uri": "https://localhost:8080/"
        },
        "id": "uliA-7b8DxcH",
        "outputId": "0c1f1093-a1d8-419d-e9de-885c62078b37"
      },
      "source": [
        "ohlc = [[\"open\", \"high\", \"low\", \"close\"],\n",
        "        [100, 110, 70, 100],\n",
        "        [200, 210, 180, 190],\n",
        "        [300, 310, 300, 310]]\n",
        "\n",
        "for i in ohlc[1:]:\n",
        "    if i[3] >= i[0]:\n",
        "        print(i[3])"
      ],
      "execution_count": null,
      "outputs": [
        {
          "output_type": "stream",
          "text": [
            "100\n",
            "310\n"
          ],
          "name": "stdout"
        }
      ]
    },
    {
      "cell_type": "markdown",
      "metadata": {
        "id": "q61RsH8wyDrC"
      },
      "source": [
        "#### 198\n",
        "ohlc 리스트에는 시가(open), 고가 (high), 저가 (low) , 종가(close)가 날짜별로 저장돼 있다. 고가와 저가의 차이를 변동폭으로 정의할 때 변동폭을 volatility 이름의 리스트에 저장하라.\n",
        "\n",
        "```\n",
        "ohlc = [[\"open\", \"high\", \"low\", \"close\"],\n",
        "        [100, 110, 70, 100],\n",
        "        [200, 210, 180, 190],\n",
        "        [300, 310, 300, 310]]\n",
        "```\n",
        "\n",
        "```\n",
        ">> print(volatility)\n",
        "[40, 30, 10]\n",
        "```\n",
        "\n",
        "\n",
        "\n"
      ]
    },
    {
      "cell_type": "code",
      "metadata": {
        "colab": {
          "base_uri": "https://localhost:8080/"
        },
        "id": "LkFI88lREWnc",
        "outputId": "4853a6d6-8530-4f05-f660-69a44cf0a3b7"
      },
      "source": [
        "ohlc = [[\"open\", \"high\", \"low\", \"close\"],\n",
        "        [100, 110, 70, 100],\n",
        "        [200, 210, 180, 190],\n",
        "        [300, 310, 300, 310]]\n",
        "\n",
        "volatility = []\n",
        "\n",
        "for i in ohlc[1:]:\n",
        "    volatility.append(i[1] - i[2])\n",
        "\n",
        "print(volatility)\n"
      ],
      "execution_count": null,
      "outputs": [
        {
          "output_type": "stream",
          "text": [
            "[40, 30, 10]\n"
          ],
          "name": "stdout"
        }
      ]
    },
    {
      "cell_type": "markdown",
      "metadata": {
        "id": "7hQSSTQhyDtv"
      },
      "source": [
        "#### 199\n",
        "리스트에는 3일 간의 ohlc 데이터가 저장돼 있다. 종가가 시가보다 높은 날의 변동성 (고가 - 저가)을 화면에 출력하라.\n",
        "\n",
        "```\n",
        "ohlc = [[\"open\", \"high\", \"low\", \"close\"],\n",
        "        [100, 110, 70, 100],\n",
        "        [200, 210, 180, 190],\n",
        "        [300, 310, 300, 310]]\n",
        "```\n",
        "종가가 시가보다 높은 거래일의 OHLC는 [300, 310, 300, 310] 이다. 따라서 이 거래일의 변동성은 10 (310 - 300)이다.\n",
        "\n",
        "```\n",
        "10\n",
        "```\n",
        "\n",
        "\n",
        "\n"
      ]
    },
    {
      "cell_type": "code",
      "metadata": {
        "colab": {
          "base_uri": "https://localhost:8080/"
        },
        "id": "F_lWkOssFAru",
        "outputId": "d27fc687-7a9d-473c-d7ae-62ce3b330ca1"
      },
      "source": [
        "ohlc = [[\"open\", \"high\", \"low\", \"close\"],\n",
        "        [100, 110, 70, 100],\n",
        "        [200, 210, 180, 190],\n",
        "        [300, 310, 300, 310]]\n",
        "\n",
        "for i in ohlc[1:]:\n",
        "    if i[3] > i[0]:\n",
        "        print(i[1] - i[2])"
      ],
      "execution_count": null,
      "outputs": [
        {
          "output_type": "stream",
          "text": [
            "10\n"
          ],
          "name": "stdout"
        }
      ]
    },
    {
      "cell_type": "markdown",
      "metadata": {
        "id": "ZDF_dDQ_Fh20"
      },
      "source": [
        "#### 200\n",
        "리스트에는 3일 간의 ohlc 데이터가 저장돼 있다. 시가에 매수해서 종가에 매도 했을 경우 총 수익금을 계산하라.\n",
        "\n",
        "```\n",
        "ohlc = [[\"open\", \"high\", \"low\", \"close\"],\n",
        "        [100, 110, 70, 100],\n",
        "        [200, 210, 180, 190],\n",
        "        [300, 310, 300, 310]]\n",
        "```\n",
        "1일차 수익 0원 (100 - 100), 2일차 수익 -10원 (190 - 200), 3일차 수익 10원 (310 - 300) 이다.\n",
        "\n",
        "```\n",
        "0\n",
        "```\n",
        "\n",
        "\n",
        "\n"
      ]
    },
    {
      "cell_type": "code",
      "metadata": {
        "id": "pvmiEZsdFLQM",
        "colab": {
          "base_uri": "https://localhost:8080/"
        },
        "outputId": "a4b1b4e4-568b-4766-fa7e-14060a061495"
      },
      "source": [
        "ohlc = [[\"open\", \"high\", \"low\", \"close\"],\n",
        "        [100, 110, 70, 100],\n",
        "        [200, 210, 180, 190],\n",
        "        [300, 310, 300, 310]]\n",
        "\n",
        "prof = []\n",
        "for i in ohlc[1:]:\n",
        "    prof.append(i[0] - i[3])\n",
        "\n",
        "print(prof[0] + prof[1] + prof[2])"
      ],
      "execution_count": null,
      "outputs": [
        {
          "output_type": "stream",
          "text": [
            "0\n"
          ],
          "name": "stdout"
        }
      ]
    },
    {
      "cell_type": "code",
      "metadata": {
        "id": "zoyAYkLkGbb7"
      },
      "source": [
        ""
      ],
      "execution_count": null,
      "outputs": []
    }
  ]
}