{
 "cells": [
  {
   "cell_type": "markdown",
   "id": "3579aeac",
   "metadata": {},
   "source": [
    "# 23. 파이썬으로 이미지 파일 다루기"
   ]
  },
  {
   "cell_type": "markdown",
   "id": "1d2a1c7c",
   "metadata": {},
   "source": [
    "## 1. 들어가며\n",
    "[구글 이미지 검색](https://images.google.com/?gws_rd=ssl)에 이미지 파일을 업로드하여 비슷한 이미지들을 찾을 수 있다. 오늘 주로 OpenCV를 통한 이미지 다루기에 대해 알아볼 것아다. 그런 후 우리는 이와 유사한 기능을 실제로 만들어 볼 예정이다.\n",
    "\n",
    "물론 오랜 시간 데이터를 축적해 왔고, 다양한 이미지 검색 기법을 사용한 구글과 같은 검색 성능을 기대할 수는 없겠지만, 색상 히스토그램을 기반으로 주어진 이미지들 중 비슷한 색상 분포를 가지고 있는 이미지를 찾아주는 기능을 구현해 볼 것이다."
   ]
  },
  {
   "cell_type": "markdown",
   "id": "5a92e265",
   "metadata": {},
   "source": [
    "### 학습 목표\n",
    "---\n",
    "* 컴퓨터에서 이미지가 표현되는 방식을 이해한다.\n",
    "* Pillow와 OpenCV로 Python에서 이미지 파일을 열고 정보를 추출할 수 있다.\n",
    "* CIFAR-100에서 히스토그램을 기반으로 유사한 이미지를 골라낼 수 있다."
   ]
  },
  {
   "cell_type": "markdown",
   "id": "d999c021",
   "metadata": {},
   "source": [
    "우선 아래와 같이 필요한 라이브러리를 설치한다. 순서대로 Pillow, OpenCV, Matplotlib이다.\n",
    "\n",
    "```bash\n",
    "$ pip install pillow opencv-python matplotlib    \n",
    "```\n",
    "\n",
    "그리고 아래와 같이 설치디렉토리를 구성하고 실습용 파일 하나를 다운로드받는다.\n",
    "\n",
    "```bash\n",
    "$ mkdir -p ~/aiffel/python_image_proc\n",
    "$ wget https://aiffelstaticprd.blob.core.windows.net/media/documents/pillow_practice.png\n",
    "$ mv pillow_practice.png ~/aiffel/python_image_proc\n",
    "```\n",
    "\n",
    "그리고 사용될 CIFAR-100 이미지 데이터셋을 다운로드한다. Tensorflow에서 제공하는 것이 아닌, 실제 이미지 파일을 포함하는 버전이다.<br>\n",
    "(출처) https://www.cs.toronto.edu/~kriz/cifar.html\n",
    "\n",
    "```bash\n",
    "$ wget https://aiffelstaticprd.blob.core.windows.net/media/documents/cifar-100-python.tar.gz \n",
    "$ mv cifar-100-python.tar.gz ~/aiffel/python_image_proc\n",
    "$ cd ~/aiffel/python_image_proc && tar xvzf cifar-100-python.tar.gz\n",
    "```"
   ]
  },
  {
   "cell_type": "markdown",
   "id": "4d0bb52b",
   "metadata": {},
   "source": [
    "## 2. 디지털 이미지\n",
    "디지털 화면은 수많은 점들로 이루어져 있으며, 색상을 가지는 점 하나를 __화소__(pixel, picture element)라고 한다. 각 화소는 __RGB__(Red, Green, Blue) 세 개의 단일 색의 강도를 각각 조절하여 색상을 표현한다. 근데 왜 하필 세 개의 색일까?\n",
    "\n",
    "<img src=\"./image/pixel.png\" alt=\"pixel\" />\n",
    "\n",
    "이는 눈의 망막에 있는 시세포가 인간의 경우 대부분 세 가지로 이루어져 있기 때문이다. 아래 그림은 각 종류의 시세포가 반응하는 색상 영역을 나타낸다. 특이하게도 일부 인간들과 일부 새들은 시세포의 종류가 하나씩 더 있어서, 색을 조금 더 세밀하게 인식하거나 일부 자외선 영역을 감지할 수 있다.\n",
    "\n",
    "<img src=\"./image/wave.png\" alt=\"pixel\" />\n",
    "\n",
    "이렇게 빨강, 초록, 파랑 세 가지 색의 강도로 표현되는 점들로 구성된 디지털 화면에 표시될 이미지를 저장하는 방법 중 가장 단순한 방법은, __각 점 하나하나의 색상 값을 저장하는 방식__이다. 이를 __래스터__(raster) 또는 __비트맵__(bitmap) 방식의 이미지라고 하며, 보통 한 점마다 각 색상별로 8비트를 사용하여 0~255 사이의 값(2^8 = 256)으로 해당 색의 감도를 표시한다.\n",
    "\n",
    "반면에 __벡터__(vector) 방식의 이미지는 상대적인 점과 선의 위치를 방정식으로써 기록해 두었다가, 확대 및 축소에 따라 디지털 화면의 각 화소에 어떻게 표현될지를 재계산하기에 깨짐이 없다. 우리가 주로 다루는 파일들 중에는 사진 파일들이 래스터 방식이며, 확대 축소가 자유로이 가능한 글꼴들이 주로 벡터 방식이다.\n",
    "\n",
    "<img src=\"./image/vector.png\" alt=\"vector graphic\" />\n",
    "\n",
    "결국에는 디지털 화면의 화소로 표시되는 이미지를 저장하는 방법이 여러 가지인 것처럼, 결국에 RGB로 표시되는 색상값도 꼭 RGB 형식으로만 저장될 필요는 없다. 예를 들어 흑백(grayscale) TV 시절에서 컬러 TV로 넘어가던 시절에는, 인간의 눈이 색상의 차이보다는 음영에 더 민감한 것을 역이용하여, 기존 흑백 채널에다가 그보다 1/4의 해상도를 가진 두 색상 채널을 덧붙여서 송출하는 __YUV__ 방식(아래 사진)이 사용되었다.\n",
    "\n",
    "<img src=\"./image/yuv.png\" alt=\"YUV\" />\n",
    "\n",
    "또한 디지털 화면에서 색감을 수치적으로 조작할 때 조금 더 직관적으로 이해할 수 있는 __HSV__(Hue 색상, Saturation 채도, Value 명도)도 자주 사용된다. 이외에 인쇄 매체의 경우에는 색의 강도를 높일 수록 어두워진다는 특성과, 또한 자주 사용되는 검정색을 표현할 때 각 색을 조합하면 잉크의 낭비가 심하다는 현실적인 이유 때문에, RGB가 아닌 __CMYK__(Cyan, Magenta, Yellow, Black) 네 가지 색상을 사용한다.\n",
    "\n",
    "이렇게 색을 표현하는 다양한 방식을 각각 __컬러 스페이스__(color space, 색 공간)라고 하며, 각 컬러 스페이스를 구성하는 단일 축(RGB에서의 각각 R, G, B)을 __채널__(channel)이라고 한다.\n",
    "\n",
    "<img src=\"./image/hsv.png\" alt=\"HSV\" />\n",
    "\n",
    "하지만 이러한 색상 정보를 그대로 저장하기에는 생각보다 많은 용량을 차지한다. 따라서 사진 저장에 흔히 쓰이는 JPEG 이미지 형식의 경우 근처에 있는 화소들을 묶어, 비슷한 색들을 뭉뚱그리는 방식으로 이미지를 압축한다.\n",
    "\n",
    "이러한 방식에는 색상 정보의 손실이 있기에, 저장할 때 압축률을 높이거나, 여러 번 다시 저장하는 등 재압축이 일어나게 될 경우, 흔히 디지털 풍화라고 불리는 색상이 지저분해지는 현상을 볼 수 있다.\n",
    "\n",
    "이와 반대로 스크린샷 등에 많이 사용되는 PNG 이미지 형식의 경우 색상의 손실 없이 이미지를 압축하는데, 이미지에 사용된 색상을 미리 정의해두고 그를 참조하는 팔레트 방식을 사용할 수 있기에, 사용된 색상이 적은 단순한 이미지의 경우 동일한 해상도의 JPEG 파일보다도 용량이 작을 수 있지만, 사진과 같이 이미지에 사용된 색상이 많아지면 JPEG 파일보다 쉽게 더 많은 용량을 차지한다. 이외에 움짤로 익숙한 GIF 형식의 이미지는 이미지 내에 여러 프레임을 두어 이를 움직이게 만들 수 있고, 또한 색상 정보를 손실 없이 저장하나, 256개의 색상만 기억할 수 있는 팔레트 방식으로 제한된다."
   ]
  },
  {
   "cell_type": "markdown",
   "id": "26cc0b36",
   "metadata": {},
   "source": [
    "## 3. Pillow 사용법\n",
    "옛날 옛적에 파이썬에서의 이미지 처리를 위해 __PIL__(Python Image Library)이라는 라이브러리가 있었다. 하지만 이 라이브러리는 2011년 마지막 커밋을 이후로 개발이 중단되었다. 대신 이 정신을 Pillow가 이어받아 현재까지도 지속적으로 이어져 내려오고 있다. 오늘 학습의 주인공은 Pillow가 아니라 OpenCV이다. 그러나 간단한 이미지 작업에 Pillow는 Numpy와 결합하여 간편하게 사용할 수 있는 도구이다. 먼저 간단히 Pillow 사용법을 살펴보고 오늘 실습데이터인 CIFAR-100 데이터를 전처리하는 작업을 진행해 보려고 한다.\n",
    "\n",
    "---\n",
    "\n",
    "PIL을 이용해 바로 이미지 하나를 직접 생성해 보자. 명심할 점은 결국 이미지는 __배열 형태의 데이터__라는 점이다. 예를 들어 가로 세로 각 32픽셀에 RGB 세 가지 색상 채널이 있다면, Numpy로 [32, 32, 3] 차원의 배열을 생성하면 된다. 또한 데이터 타입을 uint8, 즉 각 값이 부호가 없는(unsigned) 8비트 정수(integer)가 되어 0~255(2의 8승 = 256) 사이의 값을 나타내도록 해야한다.\n",
    "\n"
   ]
  },
  {
   "cell_type": "code",
   "execution_count": 1,
   "id": "b515fe69",
   "metadata": {
    "ExecuteTime": {
     "end_time": "2021-02-24T01:07:33.309977Z",
     "start_time": "2021-02-24T01:07:33.278450Z"
    }
   },
   "outputs": [],
   "source": [
    "import numpy as np\n",
    "from PIL import Image\n",
    "\n",
    "data = np.zeros([32, 32, 3], dtype=np.uint8)\n",
    "image = Image.fromarray(data, 'RGB')\n",
    "image.show()"
   ]
  },
  {
   "cell_type": "markdown",
   "id": "4b1a216f",
   "metadata": {},
   "source": [
    "아주 작은 32X32 짜리 까만 이미지 화면이 뜬다.<br>\n",
    "만들어진 배열을 `PIL.Image.fromarray()`를 통해 바로 이미지 객체로 변환한 뒤, `.show()` 메서드를 통해서 화면에 표시했다. `np.zeros()`로 초기화된 모든 픽셀의 모든 채널의 값이 0이기 때문에 검정색 이미지가 나왔지만, 이번에는 모든 픽셀이 빨간색의 값을 가지도록 해보자."
   ]
  },
  {
   "cell_type": "code",
   "execution_count": 2,
   "id": "378b10fd",
   "metadata": {
    "ExecuteTime": {
     "end_time": "2021-02-24T01:09:04.367653Z",
     "start_time": "2021-02-24T01:09:04.360960Z"
    }
   },
   "outputs": [],
   "source": [
    "data[:, :] = [255, 0, 0]\n",
    "image = Image.fromarray(data, 'RGB')\n",
    "image.show()"
   ]
  },
  {
   "cell_type": "markdown",
   "id": "6fc77715",
   "metadata": {},
   "source": [
    "### 연습 문제\n",
    "---"
   ]
  },
  {
   "cell_type": "markdown",
   "id": "62d9626f",
   "metadata": {},
   "source": [
    "#### 1. 가로 세로 각 128 픽셀짜리 흰색 이미지를 만들어 화면에 표시해 봅시다."
   ]
  },
  {
   "cell_type": "code",
   "execution_count": 3,
   "id": "5f0e320c",
   "metadata": {
    "ExecuteTime": {
     "end_time": "2021-02-24T01:10:04.984088Z",
     "start_time": "2021-02-24T01:10:04.977166Z"
    }
   },
   "outputs": [],
   "source": [
    "data = np.zeros([128, 128, 3], dtype=np.uint8)\n",
    "data[:, :] = [255, 255, 255]\n",
    "image = Image.fromarray(data, 'RGB')\n",
    "image.show()"
   ]
  },
  {
   "cell_type": "markdown",
   "id": "6c842c71",
   "metadata": {},
   "source": [
    "연습용 이미지 파일을 열어서 다양하게 가공해보자. import시 pillow가 아닌 PIL을 사용한다는 점에 유의."
   ]
  },
  {
   "cell_type": "markdown",
   "id": "e59c2bcb",
   "metadata": {},
   "source": [
    "#### 2. 연습용 이미지를 열어 width와 height를 출력하고, .save()를 이용하여 jpg 파일 포맷으로 저장해 봅시다.\n",
    "(참고) JPG 파일로 save시 오류가 발생한다면 [여기](https://codedragon.tistory.com/6118)를 참고"
   ]
  },
  {
   "cell_type": "code",
   "execution_count": 5,
   "id": "94d1138b",
   "metadata": {
    "ExecuteTime": {
     "end_time": "2021-02-24T01:12:55.123921Z",
     "start_time": "2021-02-24T01:12:55.047823Z"
    }
   },
   "outputs": [
    {
     "name": "stdout",
     "output_type": "stream",
     "text": [
      "620\n",
      "465\n"
     ]
    }
   ],
   "source": [
    "from PIL import Image\n",
    "import os\n",
    "\n",
    "# 연습용 파일 경로\n",
    "image_path = os.getenv('HOME')+'/aiffel/python_image_proc/pillow_practice.png'\n",
    "\n",
    "# 이미지 열기\n",
    "img = Image.open(image_path)\n",
    "img.show()\n",
    "\n",
    "# width와 height 출력\n",
    "print(img.width)\n",
    "print(img.height)\n",
    "\n",
    "# JPG 파일 형식으로 저장해보기\n",
    "new_image_path = os.getenv('HOME')+'/aiffel/python_image_proc/pillow_practice.jpg'\n",
    "img = img.convert('RGB')\n",
    "img.save(new_image_path)"
   ]
  },
  {
   "cell_type": "markdown",
   "id": "047369f2",
   "metadata": {},
   "source": [
    "#### 3. .resize()를 이용하여 이미지 크기를 100X200으로 변경하여 저장해봅시다."
   ]
  },
  {
   "cell_type": "code",
   "execution_count": 6,
   "id": "3b845a0a",
   "metadata": {
    "ExecuteTime": {
     "end_time": "2021-02-24T01:16:45.129974Z",
     "start_time": "2021-02-24T01:16:45.114959Z"
    }
   },
   "outputs": [],
   "source": [
    "resized_image = img.resize((100,200))\n",
    "resized_image.show()\n",
    "\n",
    "resized_image_path = os.getenv('HOME')+'/aiffel/python_image_proc/pillow_practice_resized.png'\n",
    "resized_image.save(resized_image_path)"
   ]
  },
  {
   "cell_type": "markdown",
   "id": "0b0e1551",
   "metadata": {},
   "source": [
    "#### 4. .crop()을 이용하여 눈 부분만 잘라내어 저장해 봅시다.\n",
    "(힌트) 눈 부분의 box 좌표는 (300, 100, 600, 400)이다."
   ]
  },
  {
   "cell_type": "code",
   "execution_count": 7,
   "id": "39514191",
   "metadata": {
    "ExecuteTime": {
     "end_time": "2021-02-24T01:17:16.508886Z",
     "start_time": "2021-02-24T01:17:16.459599Z"
    }
   },
   "outputs": [],
   "source": [
    "box = (300, 100, 600, 400)\n",
    "region = img.crop(box)\n",
    "region.show()\n",
    "\n",
    "cropped_image_path = os.getenv('HOME')+'/aiffel/python_image_proc/pillow_practice_cropped.png'\n",
    "region.save(cropped_image_path)"
   ]
  },
  {
   "cell_type": "markdown",
   "id": "70473d0e",
   "metadata": {},
   "source": [
    "## 4. Pillow를 활용한 데이터 전처리"
   ]
  },
  {
   "cell_type": "markdown",
   "id": "d402459e",
   "metadata": {},
   "source": [
    "### CIFAR-100 데이터를 받아 개별 이미지 파일로 추출하기\n",
    "이미지 데이터베이스 구축을 위해 **CIFAR-100 데이터셋**을 활용해보자. 32x32 화소 해상도의 이미지들이 100개 클래스 당 600장(각 학습용 500장, 테스트용 100장)하여 총 60,000장 있다. 오늘 사용할 데이터셋은 이 [페이지](https://www.cs.toronto.edu/~kriz/cifar.html)에서 *CIFAR-100 python version* 이라고 되어있는 파일이다. 첫 스텝에서 이미 해당 파일을 다운로드받아서 압축해제까지 진행하였다.\n",
    "\n",
    "압축 해제된 결과를 보면 이미지 파일들이 아니라 meta, test, train이라는 세 뭉텅이만 나온다. 이 중 train 파일만 사용하여, 본문 중 Dataset layout 아래 Python / Matlab versions 섹션 중 python3 버전에 따라 한번 파일을 열어보자. 그렇게 해서 추출된 내용(return dict에 의해 반환된 내용)을 train이라고 하고 한번 들여다보자."
   ]
  },
  {
   "cell_type": "code",
   "execution_count": 10,
   "id": "d2804a45",
   "metadata": {
    "ExecuteTime": {
     "end_time": "2021-02-24T01:24:11.541475Z",
     "start_time": "2021-02-24T01:24:11.390313Z"
    }
   },
   "outputs": [
    {
     "name": "stdout",
     "output_type": "stream",
     "text": [
      "<class 'dict'>\n"
     ]
    }
   ],
   "source": [
    "import os\n",
    "import pickle\n",
    "\n",
    "dir_path = os.getenv('HOME')+'/aiffel/python_image_proc/cifar-100-python'\n",
    "train_file_path = os.path.join(dir_path, 'train')\n",
    "\n",
    "with open(train_file_path, 'rb') as f:\n",
    "    train = pickle.load(f, encoding='bytes')\n",
    "\n",
    "print(type(train))\n",
    "#print(train)   # 혹시 내용이 궁금하다면 주석을 풀고 실행해 보세요."
   ]
  },
  {
   "cell_type": "markdown",
   "id": "6839ef7b",
   "metadata": {},
   "source": [
    "train 내용을 그대로 화면에 출력하면 한꺼번에 너무 많은 내용이 나와 갈피를 잡기가 힘들다. 다시 본문으로 돌아가 이어지는 내용(\"Loaded in this way, each of the batch files contains a dictionary\")에 따르면 파이썬의 dictionary 객체이니, 일단 어떤 키들이 있는지 한번 살펴보자."
   ]
  },
  {
   "cell_type": "code",
   "execution_count": 11,
   "id": "326dd6cf",
   "metadata": {
    "ExecuteTime": {
     "end_time": "2021-02-24T01:24:35.208900Z",
     "start_time": "2021-02-24T01:24:35.199377Z"
    }
   },
   "outputs": [
    {
     "data": {
      "text/plain": [
       "dict_keys([b'filenames', b'batch_label', b'fine_labels', b'coarse_labels', b'data'])"
      ]
     },
     "execution_count": 11,
     "metadata": {},
     "output_type": "execute_result"
    }
   ],
   "source": [
    "train.keys()"
   ]
  },
  {
   "cell_type": "markdown",
   "id": "fb03bcdb",
   "metadata": {},
   "source": [
    "특이사항으로는 각 키들이 문자열(`str`)이 아닌 `b`로 시작하는 `bytes`로 되어있다는 점이다. 이에 유의하면서 일단 파일명(`b'filenames'`)들을 한번 살펴보자."
   ]
  },
  {
   "cell_type": "code",
   "execution_count": 12,
   "id": "a0be8abc",
   "metadata": {
    "ExecuteTime": {
     "end_time": "2021-02-24T01:25:17.042508Z",
     "start_time": "2021-02-24T01:25:17.038975Z"
    }
   },
   "outputs": [
    {
     "data": {
      "text/plain": [
       "list"
      ]
     },
     "execution_count": 12,
     "metadata": {},
     "output_type": "execute_result"
    }
   ],
   "source": [
    "type(train[b'filenames'])"
   ]
  },
  {
   "cell_type": "markdown",
   "id": "ff585d43",
   "metadata": {},
   "source": [
    "역시 기대했던 대로 list형식이다. 앞의 5개만 출력해보자."
   ]
  },
  {
   "cell_type": "code",
   "execution_count": 13,
   "id": "e9a25a4d",
   "metadata": {
    "ExecuteTime": {
     "end_time": "2021-02-24T01:25:41.829871Z",
     "start_time": "2021-02-24T01:25:41.825771Z"
    }
   },
   "outputs": [
    {
     "data": {
      "text/plain": [
       "[b'bos_taurus_s_000507.png',\n",
       " b'stegosaurus_s_000125.png',\n",
       " b'mcintosh_s_000643.png',\n",
       " b'altar_boy_s_001435.png',\n",
       " b'cichlid_s_000031.png']"
      ]
     },
     "execution_count": 13,
     "metadata": {},
     "output_type": "execute_result"
    }
   ],
   "source": [
    "train[b'filenames'][0:5]"
   ]
  },
  {
   "cell_type": "markdown",
   "id": "a1f93ab7",
   "metadata": {},
   "source": [
    "파일 이름이 깔끔하게 나왔다. 이 파일 이름에 해당하는 이미지는 어디 있을까? 다시 한번 본문을 참고해보자.\n",
    "\n",
    "> *__data__ -- a 10000x3072 numpy array of uint8s. Each row of the array stores a 32x32 colour image. The first 1024 entries contain the red channel values, the next 1024 the green, and the final 1024 the blue. The image is stored in row-major order, so that the first 32 entries of the array are the red channel values of the first row of the image.*\n",
    "\n",
    "딕셔너리에 `b'data'`를 보라는 말 같다. 한번 첫 번째를 꺼내보자."
   ]
  },
  {
   "cell_type": "code",
   "execution_count": 14,
   "id": "02ad8997",
   "metadata": {
    "ExecuteTime": {
     "end_time": "2021-02-24T01:31:07.651195Z",
     "start_time": "2021-02-24T01:31:07.647910Z"
    }
   },
   "outputs": [
    {
     "data": {
      "text/plain": [
       "array([[255, 255, 255, ...,  10,  59,  79],\n",
       "       [255, 253, 253, ..., 253, 253, 255],\n",
       "       [250, 248, 247, ..., 194, 207, 228],\n",
       "       [124, 131, 135, ..., 232, 236, 231],\n",
       "       [ 43,  32,  87, ...,  60,  29,  37]], dtype=uint8)"
      ]
     },
     "execution_count": 14,
     "metadata": {},
     "output_type": "execute_result"
    }
   ],
   "source": [
    "train[b'data'][0:5]"
   ]
  },
  {
   "cell_type": "markdown",
   "id": "1f36c694",
   "metadata": {},
   "source": [
    "`numpy` 배열이 나왔다. 한번 형태를 찍어보자."
   ]
  },
  {
   "cell_type": "code",
   "execution_count": 15,
   "id": "88a7708e",
   "metadata": {
    "ExecuteTime": {
     "end_time": "2021-02-24T01:31:33.886741Z",
     "start_time": "2021-02-24T01:31:33.882788Z"
    }
   },
   "outputs": [
    {
     "data": {
      "text/plain": [
       "(3072,)"
      ]
     },
     "execution_count": 15,
     "metadata": {},
     "output_type": "execute_result"
    }
   ],
   "source": [
    "train[b'data'][0].shape"
   ]
  },
  {
   "cell_type": "markdown",
   "id": "a3e26093",
   "metadata": {},
   "source": [
    "이 숫자와 위 본문을 보니, 3072라는 숫자는 빨강 초록 파랑 3채널 X 1024(=32 * 32)씩 각 화소에 해당하는 것 같다. 그렇다면 이 Numpy 배열을 잘 reshape하면 이미지 파일 원본이 복구된다는 뜻이다. 그럼 (32, 32, 3)으로 reshape한 후 이미지를 화면에 출력해보자.\n",
    "\n",
    "그런데 주의해야 할 게 하나 있다. 위에 언급된 바를 상기해 보면, 3072바이트의 이미지 데이터는 앞 1024바이트는 빨강(R), 그다음 1024는 녹색(G), 마지막 1024는 파랑(B)으로 되어 있다. RGB 순서가 맞는 것은 다행이지만, 그렇다고 그냥 모양만 맞추어 reshape하면 안된다. 1024를 32X32에 채우는 것을 3번 반복하는 방식의 reshape여야 한다. 이렇게 앞선 차원부터 데이터를 채우는 방식의 reshape를 위해 np.reshape에는 __order__라는 인자가 있다. 이 값을 __'F'__로 주면 원하는 형태로 진행된다."
   ]
  },
  {
   "cell_type": "code",
   "execution_count": 16,
   "id": "85a57510",
   "metadata": {
    "ExecuteTime": {
     "end_time": "2021-02-24T01:41:47.598820Z",
     "start_time": "2021-02-24T01:41:47.589170Z"
    }
   },
   "outputs": [],
   "source": [
    "image_data = train[b'data'][0].reshape([32, 32, 3], order='F')   # order를 주의하세요!!\n",
    "image = Image.fromarray(image_data)    # Pillow를 사용하여 Numpy 배열을 Image객체로 만들어서\n",
    "image.show()    # 화면에 띄워 봅시다!!"
   ]
  },
  {
   "cell_type": "markdown",
   "id": "88f26278",
   "metadata": {},
   "source": [
    "사이즈는 작지만 멋진 이미지가 나온 것 같다.\n",
    "\n",
    "그런데 이미지의 X축과 Y축이 뒤집어져 나오고 있다. 축을 바꿔주는 작업이 필요하다.<br>\n",
    "여기에는 `np.swapaxes(0, 1)`이 유용하다."
   ]
  },
  {
   "cell_type": "code",
   "execution_count": 17,
   "id": "2c24b1bc",
   "metadata": {
    "ExecuteTime": {
     "end_time": "2021-02-24T01:42:47.249126Z",
     "start_time": "2021-02-24T01:42:47.239368Z"
    }
   },
   "outputs": [],
   "source": [
    "image_data = image_data.swapaxes(0, 1)\n",
    "image = Image.fromarray(image_data)\n",
    "image.show()"
   ]
  },
  {
   "cell_type": "markdown",
   "id": "19d574a9",
   "metadata": {},
   "source": [
    "자, 이렇게 CIFAR-100의 데이터셋 원본을 분석해서 이미지 파일을 뽑아내는 것까지 진행해 보았다. 그러나 이미지 파일을 실제 파일처럼 만들어 놓고 싶다. 데이터셋에 파일명과 파일 데이터 배열이 순서를 따라 저장되어 있는 것을 확인하였으니, 차례차례 Numpy 배열로 읽어서 이를 이미지 파일로 저장해보자.\n",
    "\n",
    "(참고) tqdm을 사용하면 반복 작업의 진행 상황을 시각화해서 체크해 볼 수 있다."
   ]
  },
  {
   "cell_type": "code",
   "execution_count": 18,
   "id": "d636d494",
   "metadata": {
    "ExecuteTime": {
     "end_time": "2021-02-24T01:44:33.646494Z",
     "start_time": "2021-02-24T01:44:20.820034Z"
    }
   },
   "outputs": [
    {
     "name": "stderr",
     "output_type": "stream",
     "text": [
      "100%|██████████| 50000/50000 [00:12<00:00, 3945.77it/s]\n"
     ]
    }
   ],
   "source": [
    "import os\n",
    "import pickle\n",
    "from PIL import Image\n",
    "import numpy\n",
    "from tqdm import tqdm\n",
    "\n",
    "dir_path = os.getenv('HOME')+'/aiffel/python_image_proc/cifar-100-python'\n",
    "train_file_path = os.path.join(dir_path, 'train')\n",
    "\n",
    "# image를 저장할 cifar-100-python의 하위 디렉토리(images)를 생성합니다. \n",
    "images_dir_path = os.path.join(dir_path, 'images')\n",
    "if not os.path.exists(images_dir_path):\n",
    "    os.mkdir(images_dir_path)  # images 디렉토리 생성\n",
    "\n",
    "# 32X32의 이미지 파일 50000개를 생성합니다. \n",
    "with open(train_file_path, 'rb') as f:\n",
    "    train = pickle.load(f, encoding='bytes')\n",
    "    for i in tqdm(range(len(train[b'filenames']))):\n",
    "        filename = train[b'filenames'][i].decode()\n",
    "        data = train[b'data'][i].reshape([32, 32, 3], order='F')\n",
    "        image = Image.fromarray(data.swapaxes(0, 1))\n",
    "        image.save(os.path.join(images_dir_path, filename))"
   ]
  },
  {
   "cell_type": "markdown",
   "id": "5e056bae",
   "metadata": {},
   "source": [
    "## 5. OpenCV (1) 안녕, OpenCV\n",
    "OpenCV([튜토리얼](https://docs.opencv.org/master/d6/d00/tutorial_py_root.html))는 오픈소스로 제공되는 컴퓨터 비전용 라이브러리이다. C++, Python, Java, MATLAB 등 다양한 언어에서 호출하여 사용할 수 있으며, 영상 처리에 대한 다양한 고급 기능들이 사용하기 쉽도록 구현되어 있다.\n",
    "\n",
    "파이썬 튜토리얼 페이지에 들어가면 여러 가지 고급 예제들이 친절하게 설명되어 있는데, 이 중에 이미지에서 특정 색을 가진 영역만 추출하는 예제를 한번 살펴볼 것이다.\n",
    "\n",
    "[Changing Colorspaces](https://docs.opencv.org/master/df/d9d/tutorial_py_colorspaces.html)\n",
    "\n",
    "이미지는 결국 `[너비, 높이, 채널]` 형태를 가지는 배열이고, 컴퓨터 비전이란 결국 이러한 배열 형태의 데이터를 처리하는 것이 중요한 분야이다.\n",
    "\n",
    "이미지의 내용 중 관심 있는 부분이 특정 색을 가지고 있다면, 이 정보를 통해 원하는 부분을 배경을 구분하고, 원하는 부분만 따로 떼어낼 수 있다. 이 예제에서는 카메라를 통해서 영상을 읽어 들이고, 파란색을 찾기 쉽도록 컬러스페이스를 BGR(RGB)에서 HSV로 변환한 뒤, 해당 색상과 맞는 영역만 표시하는 작업이 진행된다.\n",
    "\n",
    "<img src=\"./image/opencv.png\" alt=\"OpenCV\" />\n",
    "\n",
    "__주의__ : OpenCV에서는 RGB가 아닌 BGR 순서를 사용한다.\n"
   ]
  },
  {
   "cell_type": "markdown",
   "id": "5476312d",
   "metadata": {},
   "source": [
    "### 연습 문제\n",
    "---"
   ]
  },
  {
   "cell_type": "code",
   "execution_count": 20,
   "id": "64cd18fc",
   "metadata": {
    "ExecuteTime": {
     "end_time": "2021-02-24T01:50:01.575762Z",
     "start_time": "2021-02-24T01:49:37.214857Z"
    }
   },
   "outputs": [],
   "source": [
    "import cv2 as cv\n",
    "import numpy as np\n",
    "\n",
    "cap = cv.VideoCapture(0)\n",
    "\n",
    "while(1):\n",
    "\n",
    "    # Take each frame\n",
    "    _, frame = cap.read()\n",
    "\n",
    "    # Convert BGR to HSV\n",
    "    hsv = cv.cvtColor(frame, cv.COLOR_BGR2HSV)\n",
    "\n",
    "    # define range of blue color in HSV\n",
    "    lower_blue = np.array([110,50,50])\n",
    "    upper_blue = np.array([130,255,255])\n",
    "\n",
    "    # Threshold the HSV image to get only blue colors\n",
    "    mask = cv.inRange(hsv, lower_blue, upper_blue)\n",
    "\n",
    "    # Bitwise-AND mask and original image\n",
    "    res = cv.bitwise_and(frame,frame, mask= mask)\n",
    "    cv.imshow('frame',frame)\n",
    "    cv.imshow('mask',mask)\n",
    "    cv.imshow('res',res)\n",
    "    k = cv.waitKey(5) & 0xFF\n",
    "    if k == 27:\n",
    "        break\n",
    "\n",
    "cv.destroyAllWindows()\n",
    "cap.release()"
   ]
  },
  {
   "cell_type": "markdown",
   "id": "a25c1328",
   "metadata": {},
   "source": [
    "__주의__: 혹시 다른 프로세스가 카메라를 점유하고 있다면 위 코드 실행 시 오류가 발생할 수 있다. 카메라 사용 프로세스를 모두 종료 후 위 코드를 실행해야한다."
   ]
  },
  {
   "cell_type": "markdown",
   "id": "d5832533",
   "metadata": {},
   "source": [
    "## 6. OpenCV (2) 톺아보기\n",
    "이제 위 코드를 한 조각씩 함께 읽어보도록 하자.\n",
    "\n",
    "```python\n",
    "import cv2 as cv\n",
    "import numpy as np\n",
    "```\n",
    "\n",
    "OpenCV는 `pip`으로 설치 시 `opencv-python`이라는 이름으로 설치해야 하는데, `import`할 때는 cv2라는 이름을 쓴다. 하지만 실제 최신 버전은 4.x대이다. 복잡하지만 여러 가지 역사적인 사정이 겹쳐서 이렇게 되었다.\n",
    "\n",
    "OpenCV와 함께, 숫자 배열을 처리하는데 궁합이 잘 맞는 Numpy도 불러온다. 생각해보면 이미지 데이터는 숫자 행렬이다. 예를 들어 가로세로 각 32 픽셀의 이미지가 있다면, 이는 32x32 행렬이고, 컬러 이미지의 경우 각 픽셀마다 RGB에 각각 해당하는 세 개의 숫자가 있기에, 32x32x3의 배열이 된다.\n",
    "\n",
    "```python\n",
    "cap = cv.VideoCapture(0)\n",
    "```\n",
    "\n",
    "VideoCapture라는 함수를 호출했다. 무엇을 하는 함수일까? 한번 [OpenCV 공식 문서화 사이트](https://docs.opencv.org/4.3.0/d8/dfe/classcv_1_1VideoCapture.html#aabce0d83aa0da9af802455e8cf5fd181)를 참조해보자.\n",
    "\n",
    "알고 보면 OpenCV는 Python 전용으로 개발된 것이 아니라 C++, Java, Matlab 등에서 함께 사용이 가능하도록 만들어졌다. 모든 언어에 대해 문서화를 하나로 통합하여 제공하기에 문서화 사이트가 약간 복잡하다.\n",
    "\n",
    "스크롤을 위아래로 올려보면 같은 VideoCapture에 대한 설명도 3개가 있다. 자세히 보면 입력 매개변수가 각각 다른데(filename, index 등), 이는 C++이나 Java에서는 동일한 이름의 함수라도 매개변수가 다르면 별개의 함수로써 정의할 수 있기 때문이다. 이를 overloading이라 하는데, Python에서는 신경 쓸 필요가 없으나 유의하여 문서를 읽어보자. 위의 예제 코드에서는 VideoCapture에 대한 입력값으로 `0`이라는 정수(int)를 입력했으니, `int index`를 입력값으로 받는, 즉 정수형의 `index`라는 매개변수를 입력으로 받는 `VideoCapture()`의 정의를 살펴보면 된다.\n",
    "\n",
    ">_Opens a camera for video capturing. This is an overloaded member function, provided for convenience. It differs from the above function only in what argument(s) it accepts._\n",
    "\n",
    "간단히 해석해보면, 영상 캡쳐를 위해 카메라를 여는 함수이며, 동일한 이름으로 매개변수만 바뀐 채 위의 함수와 동일한 기능을 제공한다고 한다.\n",
    "\n",
    "이어서 그 아래의 Parameters 중 index 값에 대한 설명을 보면 다음과 같다.\n",
    "\n",
    "> _id of the video capturing device to open. To open default camera using default backend just pass 0. <br>(..생략..)_\n",
    "\n",
    "영상을 캡쳐할 장치의 ID라고 한다. 0을 입력하면 기본 카메라가 제공된다고 한다.\n",
    "\n",
    "카메라가 열렸고, 이제 계속 진행해보자.\n",
    "\n",
    "```python\n",
    "while(1):\n",
    "\n",
    "    # Take each frame\n",
    "    _, frame = cap.read()\n",
    "```\n",
    "\n",
    "`while(1):`을 통해 이하 코드를 계속 반복하도록 설정한다. `while True:`가 사실 더 올바른 표기이긴 하다.\n",
    "\n",
    "그 아래 줄에서는 아까 `VideoCapture()`을 통해서 열었던 카메라 객체 `cap`에 `.read()` 메서드를 호출한다. 여기서 출력을 `_, frame` 두 개를 받는데, 앞의 `_`의 경우 안 쓰고 버릴 값을 받는 관습(convention)상의 변수이다. 과연 뭘 받았길래 필요가 없었던 걸까? 다시 [동일한 문서](https://docs.opencv.org/4.3.0/d8/dfe/classcv_1_1VideoCapture.html#a473055e77dd7faa4d26d686226b292c1)에서 한번 `read()` 메서드를 찾아 순서대로 읽어보자.\n",
    "\n",
    "> _virtual bool cv::VideoCapture::read(OutputArray image)_\n",
    "\n",
    "C++ 상의 API이다. 굳이 이해할 필요는 없지만 살짝 언급하자면, C++의 경우 Python과는 달리 개발자가 직접 변수에 할당할 메모리를 관리해야 하기 때문에, Python처럼 `read()` 메서드가 알아서 필요한 메모리를 잡고 이미지 데이터를 써서 반환하는 것이 아니라, 개발자가 직접 이미지를 받을 OutputArray를 메모리상에 만들어 이 함수에 전달해주면, `read()` 메서드는 해당 위치에 이미지 데이터를 써주기만 하는 형식으로 동작하게 된다.\n",
    "\n",
    "필요한 Python 용 설명으로 넘어가자.\n",
    "\n",
    "> _Python: retval, image = cv.VideoCapture.read([, image])_\n",
    "\n",
    "Python의 경우 `cv.VideoCapture.read()` 메서드도 C++과 마찬가지로 `image`라는 값을 입력값으로 받을 수 있지만, 이는 선택적(`[]`)이기에 굳이 필요하지는 않다. 그리고 함수의 반환값은 `retval`(return value의 줄임말)과 `image` 두 가지이다.\n",
    "\n",
    "설명을 계속 읽어보면,\n",
    "\n",
    "> _Grabs, decodes and returns the next video frame._\n",
    "\n",
    "다음 영상 프레임을 잡아 이미지 데이터로 디코딩하여 반환하는 함수라고 한다.\n",
    "\n",
    "> _Parameters [out] image the video frame is returned here. If no frames has been grabbed the image will be empty._\n",
    "\n",
    "입력값 또는 매개변수(parameters)로 받는 `image`는 위에서 설명한 바와 같이, 영상이 쓰여질 객체라고 한다.\n",
    "\n",
    "> _Returns false if no frames has been grabbed_\n",
    "\n",
    "`retval`의 정체가 여기 있다. 만약 카메라가 연결이 해제되는 등의 상황으로 인해 프레임이 잡히지 않는다면 `false`가 반환된다고 한다.\n",
    "\n",
    "즉, 예제 코드로 돌아가서 다시 살펴보면,\n",
    "\n",
    "```python\n",
    "while(1):\n",
    "\n",
    "    # Take each frame\n",
    "    _, frame = cap.read()\n",
    "```\n",
    "\n",
    "`retval`이 관심이 없으니 버린 카드(`_`)라는 이름으로 받고, 필요한 영상 이미지만 `frame`이라는 제대로 된 변수명으로 받아서 나중에 쓰겠다는 뜻이 된다.\n",
    "\n",
    "`cvtColor`은 컬러 스페이스 변환(convert)을 위한 함수이다.\n",
    "\n",
    "[OpenCV: Color Space Conversions](https://docs.opencv.org/master/d8/d01/group__imgproc__color__conversions.html#ga397ae87e1288a81d2363b61574eb8cab)\n",
    "\n",
    "이제 이어지는 다음 부분이 중요하다.\n",
    "\n",
    "```python\n",
    "    # define range of blue color in HSV\n",
    "    lower_blue = np.array([110,50,50])\n",
    "    upper_blue = np.array([130,255,255])\n",
    "\n",
    "    # Threshold the HSV image to get only blue colors\n",
    "    mask = cv.inRange(hsv, lower_blue, upper_blue)\n",
    "```\n",
    "\n",
    "숫자로 파란색이라는 부분을 정의하고, 이 값들을 기준으로 이미지에서 마스크를 생성하는 과정이. 여기서 마스크란 수채화를 그리거나 인테리어 공사 중 실리콘을 바를 때 사용하는 마스킹 테이프의 역할과 동일하다. 우리가 원하는 부분만을 떼어낼 수 있도록 하는 역할이다.\n",
    "\n",
    "위 코드에서는 HSV 색 공간에서 색상(Hue) 값 110~130 사이, 채도(Saturation) 및 명도(Value) 값 50~255 사이의 색들을 파란색이라고 정의하고 있다. 그리고 아까 `frame` 영상을 변환한 `hsv`에다가 이 기준들(`lower_blue`, `upper_blue`)를 적용하여, 해당하는 픽셀들에는 `1`, 그렇지 않은 픽셀들에는 `0`을 찍어놓은 배열을 반환하는 것이 `cv.inRange()`의 역할이다.\n",
    "\n",
    "즉, 우리가 가로 400, 세로 300 픽셀짜리 이미지를 받았었다면, `frame`과 `hsv`는 각각 픽셀 당 BGR, HSV 세 개의 색상 채널별 값을 가질 테기 때문에, 400 * 300 * 3의 크기를 갖는 배열이었고, `mask`는 픽셀마다 1 또는 0만을 값으로 가졌기에 400 * 300 (* 1)의 크기를 갖게 되는 것이다다.\n",
    "\n",
    "아래 이미지의 왼쪽 중 original frame으로 `mask`를 만든 뒤 1을 흰색으로, 0을 검정으로 표시한다면, 아래 이미지의 가운데에 있는 mask image와 동일하게 된다.\n",
    "\n",
    "그럼 이제 오른쪽처럼 선택한 부분만 오려내야 한다.\n",
    "\n",
    "<img src=\"./image/opencv.png\" alt=\"OpenCV\" />\n",
    "\n",
    "```python\n",
    "    # Bitwise-AND mask and original image\n",
    "    res = cv.bitwise_and(frame,frame, mask= mask)\n",
    "```\n",
    "\n",
    "`cv.bitwise_and()`에 대한 설명은 [여기](https://docs.opencv.org/3.4/d2/de8/group__core__array.html#ga60b4d04b251ba5eb1392c34425497e14)에 있다.\n",
    "\n",
    "결국 이미지 두 장을 받아서 AND 비트 연산을 한다는 건데, 이 기능이 필요한 게 아니니 두 장 다 같은 이미지(`frame, frame`)를 넣어서 결국 동일한 이미지가 나오게 한다. 대신 중요한 `mask`를 같이 넣어줘서, 해당 영역만 따오도록 한다. 따온 영역은 위 공식 문서 페이지의 함수 설명에 따라 `dst`가 주어진다면 그 위에, 아니면 새로 빈 검정색 영역 위에 이미지를 만들고 반환한다.\n",
    "\n",
    "남은 부분은 직관적이다.\n",
    "\n",
    "```python\n",
    "    cv.imshow('frame',frame)\n",
    "    cv.imshow('mask',mask)\n",
    "    cv.imshow('res',res)\n",
    "    k = cv.waitKey(5) & 0xFF\n",
    "    if k == 27:\n",
    "        break\n",
    "\n",
    "cv.destroyAllWindows()\n",
    "```\n",
    "\n",
    "`cv.imshow()`는 `PIL.Image.show()`와 마찬가지로 이미지를 화면에 표시해준다. 각각 카메라에서 받아온 이미지 `frame`, 파란색인 영역만 골라낸 마스크 `mask`, 그리고 이미지에 마스크를 적용한 결과 `res`를 표시하도록 한다. 이후에 `cv.waitKey(5)`를 통해서 5초간 키 입력을 감지하고, 키 입력이 특정 키(27번 = ESC)가 되면 처음의 무한 루프(`while 1`)에서 빠져나오되, 아니라면 다시 위로 돌아가서 카메라를 읽는 부분부터 반복하게 된다. 마지막으로 `cv.destroyAllWindows()`를 통해 열려있던 창들을 모두 닫으며 예제는 끝난다.\n",
    "\n",
    "`& 0xFF`는 Numlock을 제거한다.\n",
    "\n",
    "자세한 설명은 [링크](https://stackoverflow.com/questions/35372700/whats-0xff-for-in-cv2-waitkey1/39201163#39201163)를 참고"
   ]
  },
  {
   "cell_type": "markdown",
   "id": "37b41d3b",
   "metadata": {},
   "source": [
    "## 7. 실습 : 비슷한 이미지 찾아내기"
   ]
  },
  {
   "cell_type": "markdown",
   "id": "deb26e63",
   "metadata": {},
   "source": [
    "### CIFAR-100 이미지 중 비슷한 이미지 찾아내기\n",
    "---\n",
    "OpenCV에서 제공하는 기능 중에서 이미지에서 색상 히스토그램을 추출하고, 이를 서로 비교하는 기능들을 불러 사용할 것이다. 히스토그램이란, 이미지에서 픽셀 별 색상값의 분포라고 볼 수 있다. 즉, 이러한 히스토그램을 통해, 각 이미지의 색상 분포를 비교하여 서로 유사한 이미지를 판단하는 척도로 사용할 예정이다.\n",
    "\n",
    "<img src=\"./image/hist.png\" alt=\"histogram\" />\n",
    "\n",
    "위의 예시는 이미지를 흑백으로 변환했을 때 밝기에 따른 히스토그램이지만, 우리는 RGB 각 채널별 분포를 사용하려 한다. 또한, 0-255 사이 각 값에 해당하는 픽셀의 개수를 일일이 저장하기에는 계산량이 많아지므로, 단순화의 측면에서 이를 4개 구간(0-63, 64-127, 128-191, 192-255)로 나누어 픽셀 수를 세기로 한다.\n",
    "\n",
    "사용할 OpenCV 자체는 C++로 구현되어있고, 이를 파이썬에서 불러쓸 수 있도록 하는 패키지인 opencv-python를 설치해야 한다. 또한 히스토그램을 실제로 화면에 표시하기 위해 matplotlib도 설치되어야 한다. 첫 번째 스텝에서 아래 과정을 진행했다.\n",
    "\n",
    "```bash\n",
    "$ pip install opencv-python matplotlib\n",
    "```\n",
    "\n",
    "위에서 저장해둔 CIFAR-100 이미지 중 하나를 골라서, 아래 OpenCV 예제 페이지의 Plotting Histograms 중 Using Matplotlib 내 색상별 히스토그램을 그리는 코드를 참조하여 히스토그램을 그려보자."
   ]
  },
  {
   "cell_type": "code",
   "execution_count": 21,
   "id": "78243992",
   "metadata": {
    "ExecuteTime": {
     "end_time": "2021-02-24T02:28:29.469899Z",
     "start_time": "2021-02-24T02:28:29.266580Z"
    }
   },
   "outputs": [],
   "source": [
    "import os\n",
    "import pickle\n",
    "import cv2\n",
    "import numpy as np\n",
    "from matplotlib import pyplot as plt\n",
    "from tqdm import tqdm\n",
    "\n",
    "# 전처리 시 생성했던 디렉토리 구조\n",
    "dir_path = os.getenv('HOME')+'/aiffel/python_image_proc/cifar-100-python'\n",
    "train_file_path = os.path.join(dir_path, 'train')\n",
    "images_dir_path = os.path.join(dir_path, 'images')"
   ]
  },
  {
   "cell_type": "code",
   "execution_count": 22,
   "id": "9ec0b004",
   "metadata": {
    "ExecuteTime": {
     "end_time": "2021-02-24T02:28:36.142896Z",
     "start_time": "2021-02-24T02:28:36.138238Z"
    }
   },
   "outputs": [],
   "source": [
    "# 파일명을 인자로 받아 해당 이미지 파일과 히스토그램을 출력해 주는 함수\n",
    "def draw_color_histogram_from_image(file_name):\n",
    "    image_path = os.path.join(images_dir_path, file_name)\n",
    "    # 이미지 열기\n",
    "    img = Image.open(image_path)\n",
    "    cv_image = cv2.imread(image_path)\n",
    "\n",
    "    # Image와 Histogram 그려보기\n",
    "    f=plt.figure(figsize=(10,3))\n",
    "    im1 = f.add_subplot(1,2,1)\n",
    "    im1.imshow(img)\n",
    "    im1.set_title(\"Image\")\n",
    "\n",
    "    im2 = f.add_subplot(1,2,2)\n",
    "    color = ('b','g','r')\n",
    "    for i,col in enumerate(color):\n",
    "        # image에서 i번째 채널의 히스토그램을 뽑아서(0:blue, 1:green, 2:red)\n",
    "        histr = cv2.calcHist([cv_image],[i],None,[256],[0,256])   \n",
    "        im2.plot(histr,color = col)   # 그래프를 그릴 때 채널 색상과 맞춰서 그립니다.\n",
    "    im2.set_title(\"Histogram\")"
   ]
  },
  {
   "cell_type": "code",
   "execution_count": 23,
   "id": "222690f3",
   "metadata": {
    "ExecuteTime": {
     "end_time": "2021-02-24T02:28:46.571291Z",
     "start_time": "2021-02-24T02:28:46.344617Z"
    }
   },
   "outputs": [
    {
     "data": {
      "image/png": "[encoded data removed]",
      "text/plain": [
       "<Figure size 720x216 with 2 Axes>"
      ]
     },
     "metadata": {
      "needs_background": "light"
     },
     "output_type": "display_data"
    }
   ],
   "source": [
    "draw_color_histogram_from_image('adriatic_s_001807.png')"
   ]
  },
  {
   "cell_type": "markdown",
   "id": "433c3f7b",
   "metadata": {},
   "source": [
    "[OpenCV: Histograms - 1 : Find, Plot, Analyze !!!](https://docs.opencv.org/master/d1/db7/tutorial_py_histogram_begins.html)\n",
    "\n",
    "`adriatic_s_001807.png`를 골랐는데, 히스토그램을 그려보니 파란색이 확실히 튀는 모습이다.\n",
    "\n",
    "<img src=\"./image/adriatic_s_001807.jpg\" alt=\"adriatic_s_001807.png\" />"
   ]
  },
  {
   "cell_type": "markdown",
   "id": "82e56595",
   "metadata": {},
   "source": [
    "### STEP 1. 아이디어 개요\n",
    "---\n",
    "자, 그럼 이제 설계를 한번 해보자!\n",
    "\n",
    "만들 결과물은 `histogram_search.py`라는 Python 파일이고, 이 파일은 이미지 파일 경로 하나를 명령줄에서 입력으로 받아, 검색 대상 이미지들 중 비슷한 이미지들을 골라 화면에 표시하는 기능을 수행한다고 생각해보자. 이런 생각을 어떻게 동작하는 코드로써 구체화시킬 수 있을까?\n",
    "\n",
    "원하는 모든 부분이 명확해질 때까지 계속 스스로에게 질문하고, 직접 답을 찾는 방식으로 진행해보자. 우선 위에 정의한 기능에 있어서 가장 핵심적인 질문이라면, 아무래도 '비슷한 이미지'라는 개념을 어떻게 컴퓨터가 이해하도록 표현하느냐일 것이다.\n",
    "\n",
    "이미지의 유사성을 정의하고 측정하는 방법에는 무한한 방법이 있을 수 있겠지만, 오늘 위에서 배운 히스토그램이라는 개념을 통해 이미지를 서로 비교할 예정이다. 히스토그램을 만들어주는 함수 `cv2.calcHist()`와 마찬가지로, 히스토그램끼리의 유사성을 계산해주는 기능 역시 OpenCV에서 제공해주는 `cv2.compareHist()`라는 함수를 사용해서 해결할 것이다.\n",
    "\n",
    "그럼 나머지 작은 기술적인 질문들이 남는다. 이미지 파일 경로를 명령줄에서 입력으로 받는 것은 어떻게 할까? `sys.argv`를 사용하면 된다. 검색 대상 이미지는 어디서 가져올까? 위에서 준비했던 CIFAR-100 이미지들을 사용하면 된다.\n",
    "\n",
    "기능에 대한 질문들이 어느 정도 해소가 되었다면, 이제 코드의 구조에 대해서 생각해 볼 차례이다.\n",
    "\n",
    "위의 기능을 토대로 한번 간단한 작동 순서를 생각하면 다음과 같이 정리해 볼 수 있을 것이다.\n",
    "\n",
    "* 프로그램이 실행된다.\n",
    "* 입력된 경로의 이미지 파일을 불러온다.\n",
    "* 검색 대상 이미지들 중 불러온 이미지와 가장 비슷한 이미지 5개를 표시한다.\n",
    "* 프로그램이 종료된다."
   ]
  },
  {
   "cell_type": "markdown",
   "id": "9413f5fb",
   "metadata": {},
   "source": [
    "### **STEP 2. 아이디어 구체화**\n",
    "\n",
    "---\n",
    "\n",
    "위의 내용을 어떻게 더 구체화할 수 있을까? 일단 이미지 5개를 표시하기 위해서는 그 이미지 5개를 선택해야 한다.\n",
    "\n",
    "* 프로그램이 실행된다.\n",
    "* 입력된 경로의 이미지 파일을 불러온다.\n",
    "* **검색 대상 이미지들 중 불러온 이미지와 가장 비슷한 이미지 5개를 고른다.**\n",
    "* **고른 이미지들을 표시한다.**\n",
    "* 프로그램이 종료된다.\n",
    "\n",
    "다시 여태 나온 과정을 뚫어져라 쳐다보면, 가운데의 \"가장 비슷한 이미지 5개 고르기\"만 가장 복잡하고 구체화되지 않았다는 느낌이 강하게 온다. 이 줄을 어떻게 더 쪼갤 수 있을까?\n",
    "\n",
    "우선 입력된 경로의 이미지를 불러온 것처럼, 검색 대상 이미지들도 결국 불러와야 비교할 수 있을 것 같다. 또한 가장 비슷한 이미지 5개를 고르려면, 유사도를 어떻게든 숫자로 표현한 뒤, 순서를 매기고 위에서부터 자르면 될 것 같다.\n",
    "\n",
    "* 프로그램이 실행된다.\n",
    "* 입력된 경로의 이미지 파일을 불러온다.\n",
    "* 검색 대상 이미지들 중 불러온 이미지와 가장 비슷한 이미지 5개를 고른다.\n",
    "    - **검색 대상 이미지들을 불러온다.**\n",
    "    - **입력 이미지와 비교하여 유사도를 기준으로 순서를 매긴다.**\n",
    "    - **유사도 순서상으로 상위 5개 이미지를 고른다.**\n",
    "* 고른 이미지들을 표시한다.\n",
    "* 프로그램이 종료된다."
   ]
  },
  {
   "cell_type": "markdown",
   "id": "319c1f18",
   "metadata": {},
   "source": [
    "### **STEP 3. 핵심 알고리즘 - 유사도 계산 방법**\n",
    "\n",
    "---\n",
    "\n",
    "자, 한 걸음 더 구체적으로 만들어보자. 유사도를 기준으로 순서를 매기려면 결국 유사도를 계산해야 한다.\n",
    "\n",
    "* 프로그램이 실행된다.\n",
    "* 입력된 경로의 이미지 파일을 불러온다.\n",
    "* 검색 대상 이미지들 중 불러온 이미지와 가장 비슷한 이미지 5개를 고른다.\n",
    "    - 검색 대상 이미지들을 불러온다.\n",
    "    - 입력 이미지와 비교하여 유사도를 기준으로 순서를 매긴다.\n",
    "        - 입력 이미지와 검색 대상 이미지들 사이의 유사도를 계산한다.\n",
    "        - 계산된 유사도를 기준으로 정렬하여 순서를 매긴다.\n",
    "    - 유사도 순서상으로 상위 5개 이미지를 고른다.\n",
    "* 고른 이미지들을 표시한다.\n",
    "* 프로그램이 종료된다.\n",
    "\n",
    "그리고 우리는 유사도를 히스토그램끼리 비교할 것이고, 여기에는 OpenCV의 기능을 사용할 예정이다.\n",
    "\n",
    "* 프로그램이 실행된다.\n",
    "* 입력된 경로의 이미지 파일을 불러온다.\n",
    "* 검색 대상 이미지들 중 불러온 이미지와 가장 비슷한 이미지 5개를 고른다.\n",
    "    - 검색 대상 이미지들을 불러온다.\n",
    "    - 입력 이미지와 비교하여 유사도를 기준으로 순서를 매긴다.\n",
    "        - **입력 이미지와 검색 대상 이미지들 사이의 유사도를 계산한다.**\n",
    "            - **입력 이미지와 검색 대상 이미지들을 하나하나 히스토그램으로 만든다.**\n",
    "            - **OpenCV의 `compareHist()` 함수를 사용하여 입력 이미지와 검색 대상 이미지 하나하나의 히스토그램 간 유사도를 계산한다.**\n",
    "        - 계산된 유사도를 기준으로 정렬하여 순서를 매긴다.\n",
    "    - 유사도 순서상으로 상위 5개 이미지를 고른다.\n",
    "- 고른 이미지들을 표시한다.\n",
    "- 프로그램이 종료된다."
   ]
  },
  {
   "cell_type": "markdown",
   "id": "de02e29f",
   "metadata": {},
   "source": [
    "### **STEP 4. 기능의 모듈화**\n",
    "\n",
    "---\n",
    "\n",
    "이제 우리가 무엇을 구현할지 충분히 구체화된 것 같다. 구상이 끝났으니 한번 깔끔하게 정리해보자.\n",
    "\n",
    "* 프로그램이 실행된다.\n",
    "* 입력된 경로의 이미지 파일을 불러온다.\n",
    "* **검색 대상 이미지들을 불러온다.**\n",
    "* **입력 이미지를 히스토그램으로 만든다.**\n",
    "* **검색 대상 이미지들을 하나하나 히스토그램으로 만든다.**\n",
    "* **OpenCV의 `compareHist()` 함수를 사용하여 입력 이미지와 검색 대상 이미지 하나하나의 히스토그램 간 유사도를 계산한다.**\n",
    "* **계산된 유사도를 기준으로 정렬하여 순서를 매긴다.**\n",
    "* **유사도 순서상으로 상위 5개 이미지를 고른다.**\n",
    "* 고른 이미지들을 표시한다.\n",
    "* 프로그램이 종료된다.\n",
    "\n",
    "설계가 좀 더 코드스러워지도록, 유관한 단계들을 묶어 함수들로 만들어보자.\n",
    "\n",
    "* 프로그램이 실행된다.\n",
    "* 입력된 경로의 이미지 파일을 불러온다.\n",
    "* 입력 이미지를 히스토그램으로 만든다.\n",
    "* **`build_histogram_db()`**\n",
    "    - **검색 대상 이미지들을 불러온다.**\n",
    "    - **검색 대상 이미지들을 하나하나 히스토그램으로 만든다.**\n",
    "* **`search()`**\n",
    "    - **OpenCV의 `compareHist()` 함수를 사용하여 입력 이미지와 검색 대상 이미지 하나하나의 히스토그램 간 유사도를 계산한다.**\n",
    "    - **계산된 유사도를 기준으로 정렬하여 순서를 매긴다.**\n",
    "    - **유사도 순서상으로 상위 5개 이미지를 고른다.**\n",
    "* 고른 이미지들을 표시한다.\n",
    "* 프로그램이 종료된다.\n",
    "\n",
    "자, 여기서 조금 더 원활한 실습을 위해, 설계가 조금 더 단순해지도록 기능을 살짝 제한해 보겠다. 아무 이미지나 입력받는 게 아니라, 검색 대상이었던 CIFAR-100 이미지 중 하나의 이름을 입력받는 것으로 대체해보자.\n",
    "\n",
    "* 프로그램이 실행된다.\n",
    "* **`build_histogram_db()`**\n",
    "    - CIFAR-100 이미지들을 불러온다.\n",
    "    - CIFAR-100 이미지들을 하나하나 히스토그램으로 만든다.\n",
    "* **CIFAR-100 히스토그램 중 입력된 이미지 이름에 해당하는 히스토그램을 입력 이미지로 선택한다.**\n",
    "* **`search()`**\n",
    "    - OpenCV의 **`compareHist()`** 함수를 사용하여 입력 이미지와 검색 대상 이미지 하나하나의 히스토그램 간 유사도를 계산한다.\n",
    "    - 계산된 유사도를 기준으로 정렬하여 순서를 매긴다.\n",
    "    - 유사도 순서상으로 상위 5개 이미지를 고른다.\n",
    "* 고른 이미지들을 표시한다.\n",
    "* 프로그램이 종료된다."
   ]
  },
  {
   "cell_type": "markdown",
   "id": "56ab1f0a",
   "metadata": {},
   "source": [
    "### **STEP 5. 설계 과정 완성**\n",
    "\n",
    "---\n",
    "\n",
    "그럼 마지막 단계로, 각 함수에 입력되고 반환될 데이터의 형태와 변수명을 한번 정해보자.\n",
    "\n",
    "* 프로그램이 실행된다.\n",
    "* **`build_histogram_db()`**\n",
    "    - CIFAR-100 이미지들을 불러온다.\n",
    "    - CIFAR-100 이미지들을 하나하나 히스토그램으로 만든다.\n",
    "    - **이미지 이름을 키로 하고, 히스토그램을 값으로 하는 딕셔너리 `histogram_db`를 반환한다.**\n",
    "* **CIFAR-100 히스토그램 중 입력된 이미지 이름에 해당하는 히스토그램을 입력 이미지로 선택하여 `target_histogram`이라는 변수명으로 지정한다.**\n",
    "* **`search()`**\n",
    "    - **입력 이미지 히스토그램 `target_histogram`와 전체 검색 대상 이미지들의 히스토그램을 가진 딕셔너리 `histogram_db`를 입력으로 받는다.**\n",
    "    - **OpenCV의 `compareHist()` 함수를 사용하여 입력 이미지와 검색 대상 이미지 하나하나의 히스토그램 간 유사도를 계산한다. 결과는 `result`라는 이름의 딕셔너리로, 키는 이미지 이름, 값은 유사도로 한다.**\n",
    "    - 계산된 유사도를 기준으로 정렬하여 순서를 매긴다.\n",
    "    - **유사도 순서상으로 상위 5개 이미지만 골라서 `result`에 남긴다.**    \n",
    "* 고른 이미지들을 표시한다.\n",
    "* 프로그램이 종료된다."
   ]
  },
  {
   "cell_type": "markdown",
   "id": "fc422019",
   "metadata": {},
   "source": [
    "### **STEP 6. 코드로 구현**\n",
    "\n",
    "---\n",
    "\n",
    "그럼 위 설계된 내용을 하나씩 진행해보자. 우선 **`build_histogram_db()`** 를 구현해 볼 텐데, 지난 스텝에서 이미지를 특정 디렉토리에 모두 모아 둔 바 있다. 그 디렉토리에 있는 모든 이미지 파일을 대상으로 히스토그램을 만들어야 하는데, 우선 이미지 파일 1개에 대해 히스토그램을 만드는 함수를 만들어 보면 좋겠다. 이때, 위에서 언급한 것처럼 단순화의 측면에서 이를 4개 구간(0\\~63, 64\\~127, 128\\~191, 192\\~255)로 나누어 픽셀 수를 세기로 한 바 있다. 이를 감안하여 다음과 같이 함수를 만든다."
   ]
  },
  {
   "cell_type": "code",
   "execution_count": null,
   "id": "65fcad16",
   "metadata": {},
   "outputs": [],
   "source": [
    "def get_histogram(image):\n",
    "    histogram = []\n",
    "\n",
    "    # Create histograms per channels, in 4 bins each.\n",
    "    for i in range(3):\n",
    "        channel_histogram = cv2.calcHist(images=[image],\n",
    "                                         channels=[i],\n",
    "                                         mask=None,\n",
    "                                         histSize=[4],  # 히스토그램 구간을 4개로 한다.\n",
    "                                         ranges=[0, 256])\n",
    "        histogram.append(channel_histogram)  \n",
    "\n",
    "    histogram = np.concatenate(histogram)\n",
    "    histogram = cv2.normalize(histogram, histogram)\n",
    "\n",
    "    return histogram"
   ]
  },
  {
   "cell_type": "code",
   "execution_count": null,
   "id": "cc383657",
   "metadata": {},
   "outputs": [],
   "source": [
    "# get_histogram() 확인용 코드\n",
    "filename = train[b'filenames'][0].decode()\n",
    "file_path = os.path.join(images_dir_path, filename)\n",
    "image = cv2.imread(file_path)\n",
    "histogram = get_histogram(image)\n",
    "histogram"
   ]
  },
  {
   "cell_type": "markdown",
   "id": "cea9483d",
   "metadata": {},
   "source": [
    "**`get_histogram()`** 이 정상 동작한다면, 이제 본격적으로 **`build_histogram_db()`**를 구해 보겠다."
   ]
  },
  {
   "cell_type": "code",
   "execution_count": null,
   "id": "828a1f2a",
   "metadata": {},
   "outputs": [],
   "source": [
    "def build_histogram_db():\n",
    "    histogram_db = {}\n",
    "\n",
    "    #디렉토리에 모아 둔 이미지 파일들을 전부 리스트업합니다. \n",
    "    path = images_dir_path\n",
    "    file_list = os.listdir(images_dir_path)\n",
    "\n",
    "    for file_name in tqdm(file_list):\n",
    "        file_path = os.path.join(images_dir_path, file_name)\n",
    "        image = cv2.imread(file_path)\n",
    "\n",
    "        histogram = get_histogram(image)\n",
    "\n",
    "        histogram_db[file_name] = histogram\n",
    "\n",
    "    return histogram_db"
   ]
  },
  {
   "cell_type": "markdown",
   "id": "075ab475",
   "metadata": {},
   "source": [
    "방금 만든 **`build_histogram_db()`**을 실행, 검증해보자. 잘 만들어졌다면, 이 함수가 리턴할 객체 **`histogram_db`**는 histogram_db['adriatic_s_001807.png']을 호출했을 때 12X1의 Numpy배열을 리턴해야 한다."
   ]
  },
  {
   "cell_type": "code",
   "execution_count": null,
   "id": "01b48ddb",
   "metadata": {},
   "outputs": [],
   "source": [
    "histogram_db = build_histogram_db()\n",
    "histogram_db['adriatic_s_001807.png']"
   ]
  },
  {
   "cell_type": "markdown",
   "id": "abb67559",
   "metadata": {},
   "source": [
    "이제 **`histogram_db`**가 완성되었다. 다음으로는 **`target_histogram`**에 입력받은 이미지의 히스토그램을 저장하는 함수를 만들겠다.\n",
    "\n",
    "파이썬 모듈에서는 sys.argv[1]에 검색하고 싶은 이미지 파일명을 입력받게 되지만, 우리는 아래와 같이 **`Input`**으로 직접 입력받아보자."
   ]
  },
  {
   "cell_type": "code",
   "execution_count": null,
   "id": "2d206c70",
   "metadata": {},
   "outputs": [],
   "source": [
    "def get_target_histogram():\n",
    "    filename = input(\"이미지 파일명을 입력하세요: \")\n",
    "    if filename not in histogram_db:\n",
    "        print('유효하지 않은 이미지 파일명입니다.')\n",
    "        return None\n",
    "    return histogram_db[filename]"
   ]
  },
  {
   "cell_type": "code",
   "execution_count": null,
   "id": "2bc7f6f3",
   "metadata": {},
   "outputs": [],
   "source": [
    "target_histogram = get_target_histogram()\n",
    "target_histogram"
   ]
  },
  {
   "cell_type": "markdown",
   "id": "0d2fb654",
   "metadata": {},
   "source": [
    "이제 search 함수를 만들어보자. 설계 단계에서 우리가 만들 search 함수는 입력 이미지 히스토그램 **`target_histogram`**과 전체 검색 대상 이미지들의 히스토그램을 가진 딕셔너리 **`histogram_db`**를 입력으로 받는다고 하였다. 입력부가 다 정의되었으므로, 구현 후 출력까지 가능하다. 입력부에 유사도 순으로 몇 개까지 결과에 남길지 **`top_k=5`**라는 파라미터를 하나 추가해 주겠다."
   ]
  },
  {
   "cell_type": "code",
   "execution_count": null,
   "id": "e807bdd3",
   "metadata": {},
   "outputs": [],
   "source": [
    "def search(histogram_db, target_histogram, top_k=5):\n",
    "    results = {}\n",
    "\n",
    "    # Calculate similarity distance by comparing histograms.\n",
    "    for file_name, histogram in tqdm(histogram_db.items()):\n",
    "        distance = cv2.compareHist(H1=target_histogram,\n",
    "                                   H2=histogram,\n",
    "                                   method=cv2.HISTCMP_CHISQR)\n",
    "\n",
    "        results[file_name] = distance\n",
    "\n",
    "    results = dict(sorted(results.items(), key=lambda item: item[1])[:top_k])\n",
    "\n",
    "    return results"
   ]
  },
  {
   "cell_type": "code",
   "execution_count": null,
   "id": "c2f9f015",
   "metadata": {},
   "outputs": [],
   "source": [
    "result = search(histogram_db, target_histogram)\n",
    "result"
   ]
  },
  {
   "cell_type": "markdown",
   "id": "88cfff81",
   "metadata": {},
   "source": [
    "입력받은 이미지 파일과 가장 유사한 상위 5개의 이미지가 아주 빠르게 검색되어 나왔다. 1번째는 당연히 입력받은 이미지 그 자신일 것이다. 그럼 5개의 이미지가 얼마나 실제로 유사한지 시각화를 통해 알아보는 것만 남았다.\n",
    "\n",
    "result를 입력받아 5개의 이미지를 화면에 출력하는 함수를 제작해보자."
   ]
  },
  {
   "cell_type": "code",
   "execution_count": null,
   "id": "ef875ac9",
   "metadata": {},
   "outputs": [],
   "source": [
    "def show_result(result):\n",
    "    f=plt.figure(figsize=(10,3))\n",
    "    for idx, filename in enumerate(result.keys()):    \n",
    "        img_path = os.path.join(images_dir_path, filename)\n",
    "        im = f.add_subplot(1,len(result),idx+1)\n",
    "        img = Image.open(img_path)\n",
    "        im.imshow(img)"
   ]
  },
  {
   "cell_type": "code",
   "execution_count": null,
   "id": "423dc4d7",
   "metadata": {},
   "outputs": [],
   "source": [
    "show_result(result)"
   ]
  },
  {
   "cell_type": "markdown",
   "id": "2ca9f5f4",
   "metadata": {},
   "source": [
    "마지막으로, 지금까지의 작업을 총정리하겠다. 검색할 이미지를 Input으로 받으면 즉시 가장 유사한 이미지가 화면에 출력되는 코드이다."
   ]
  },
  {
   "cell_type": "code",
   "execution_count": null,
   "id": "26ae442e",
   "metadata": {},
   "outputs": [],
   "source": [
    "target_histogram = get_target_histogram()\n",
    "result = search(histogram_db, target_histogram)\n",
    "show_result(result)"
   ]
  },
  {
   "cell_type": "markdown",
   "id": "4d8f4e35",
   "metadata": {},
   "source": [
    "### **참고 자료**\n",
    "---\n",
    "\n",
    "* [Basic Image Manipulations in Python and OpenCV: Resizing (scaling), Rotating, and Cropping - PyImageSearch](https://www.pyimagesearch.com/2014/01/20/basic-image-manipulations-in-python-and-opencv-resizing-scaling-rotating-and-cropping/)\n",
    "* [Clever Girl: A Guide to Utilizing Color Histograms for Computer Vision and Image Search Engines - PyImageSearch](https://www.pyimagesearch.com/2014/01/22/clever-girl-a-guide-to-utilizing-color-histograms-for-computer-vision-and-image-search-engines/)\n",
    "* [Hobbits and Histograms - A How-To Guide to Building Your First Image Search Engine in Python - PyImageSearch](https://www.pyimagesearch.com/2014/01/27/hobbits-and-histograms-a-how-to-guide-to-building-your-first-image-search-engine-in-python/)"
   ]
  }
 ],
 "metadata": {
  "kernelspec": {
   "display_name": "aiffel",
   "language": "python",
   "name": "aiffel"
  },
  "language_info": {
   "codemirror_mode": {
    "name": "ipython",
    "version": 3
   },
   "file_extension": ".py",
   "mimetype": "text/x-python",
   "name": "python",
   "nbconvert_exporter": "python",
   "pygments_lexer": "ipython3",
   "version": "3.7.9"
  },
  "toc": {
   "base_numbering": 1,
   "nav_menu": {},
   "number_sections": true,
   "sideBar": true,
   "skip_h1_title": false,
   "title_cell": "Table of Contents",
   "title_sidebar": "Contents",
   "toc_cell": false,
   "toc_position": {},
   "toc_section_display": true,
   "toc_window_display": true
  },
  "varInspector": {
   "cols": {
    "lenName": 16,
    "lenType": 16,
    "lenVar": 40
   },
   "kernels_config": {
    "python": {
     "delete_cmd_postfix": "",
     "delete_cmd_prefix": "del ",
     "library": "var_list.py",
     "varRefreshCmd": "print(var_dic_list())"
    },
    "r": {
     "delete_cmd_postfix": ") ",
     "delete_cmd_prefix": "rm(",
     "library": "var_list.r",
     "varRefreshCmd": "cat(var_dic_list()) "
    }
   },
   "types_to_exclude": [
    "module",
    "function",
    "builtin_function_or_method",
    "instance",
    "_Feature"
   ],
   "window_display": false
  }
 },
 "nbformat": 4,
 "nbformat_minor": 5
}
