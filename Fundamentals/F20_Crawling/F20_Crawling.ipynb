{
 "cells": [
  {
   "cell_type": "markdown",
   "id": "accomplished-saint",
   "metadata": {},
   "source": [
    "# 20. 그나저나 데이터는 어디서 가져오지?"
   ]
  },
  {
   "cell_type": "markdown",
   "id": "married-hobby",
   "metadata": {},
   "source": [
    "## 1.들어가며"
   ]
  },
  {
   "cell_type": "markdown",
   "id": "successful-project",
   "metadata": {},
   "source": [
    "### 학습 목표\n",
    "---\n",
    "* 파이썬 프로그래밍을 이용하여 웹에서 데이터에 접근하고 그 데이터를 가져오는 방법에 대해 학습한다.\n",
    "* 웹의 구조와 통신에 대한 기초 지식을 배운다.\n",
    "* 웹 크롤링용 파이썬 라이브러리에 대해 학습하고 간단한 예제를 풀어본다."
   ]
  },
  {
   "cell_type": "markdown",
   "id": "basic-linux",
   "metadata": {},
   "source": [
    "### 목차\n",
    "---\n",
    "* __인터넷과 프로토콜__\n",
    "\n",
    "    1) 텍스트 데이터의 변환과 교환 <br>\n",
    "    2) 인터넷이란? <br>\n",
    "    3) 소켓 통신 <br>\n",
    "    4) 인터넷 프로토콜 : TCP/IP <br><br>\n",
    "\n",
    "* __API 이용하기__\n",
    "\n",
    "    1) Web과 HTTP <br>\n",
    "    2) API란? <br>\n",
    "    3) REST API <br>\n",
    "    4) 날씨 API 사용하기 <br><br>\n",
    "\n",
    "* __크롤링 이용하기__\n",
    "\n",
    "    1) 크롤러 만들기 <br>\n",
    "    2) 환율 가져오기 <br>\n",
    "    3) 로그인하기 <br>\n",
    "    4) 브라우저 제어를 통한 크롤링 <br><br>"
   ]
  },
  {
   "cell_type": "markdown",
   "id": "spatial-visibility",
   "metadata": {},
   "source": [
    "## 2.인터넷과 프로토콜 (1) 텍스트 데이터의 변환과 교환"
   ]
  },
  {
   "cell_type": "markdown",
   "id": "personal-portuguese",
   "metadata": {},
   "source": [
    "### 텍스트 데이터의 변환\n",
    "---\n",
    "컴퓨터는 우리가 사용하는 텍스트 데이터를 이해할 수 있는 형태로 변환하기 위해서, 텍스트 데이터는 문자열로 나타내고 문자열은 다시 인코딩 과정을 거쳐야 한다.\n",
    "\n",
    "<img src = \"./image/encoding.png\" alt = \"Encoding\" />\n",
    "\n",
    "0과 1로 인코딩된 문자열을 텍스트로 디코딩할 때의 코드 규약은 UTF-8이 주로 사용된다. 특히 Python3는 기본적으로 문자열을 UTF-8으로 인코딩한다."
   ]
  },
  {
   "cell_type": "markdown",
   "id": "encouraging-andrew",
   "metadata": {},
   "source": [
    "### 데이터의 교환\n",
    "---\n",
    "이러한 텍스트 데이터의 변환 과정(Encoding, Decoding)은 여러 대의 컴퓨터에서 데이터를 교환하는 작업에서도 역시 진행된다.\n",
    "\n",
    "아래 그림은 인터넷을 통해 사용자 컴퓨터와 구글의 서버 컴퓨터사이의 정보 교환 방법을 도식화한 그림이다.\n",
    "\n",
    "<img src=\"./image/decoding_encoding.png\" alt=\"Encoding Decoding\" />\n",
    "\n",
    "오늘날 우리는 많은 데이터를 웹, 인터넷을 통해서 얻는다. 그리고 인터넷을 통해 데이터를 주고받을 때는 어떤 규약에 따라 데이터를 교환하며, 특별히 이런 데이터 교환과정에서의 규약을 `프로토콜(protocol)`이라고 한다. 웹은 HTTP라는 프로토콜에 따라 데이터를 주고받고 있다. 우리가 활용해야 할 데이터는 모두 웹상 어딘가에 게시되어 있고, 우리는 HTTP 프로토콜을 통해 그 데이터를 가져올 수 있다.\n",
    "\n",
    "용어들을 한번 정리하고 넘어가자,\n",
    "\n",
    "* Communication(통신): 데이터를 보내고 싶은 곳에 원격으로 전송하고 다시 데이터를 수신받는다\n",
    "* HTTP(HyperText Transfer Protocol): 하이퍼텍스트 전송 프로토콜\n",
    "* Protocol(프로토콜): 통신 규약\n",
    "* HyperText: 독자가 즉시 액세스 할 수 있는 다른 텍스트에 대한 참조(하이퍼 링크) 가 있는 기계(컴퓨터, 등)에 표시되는 __텍스트__\n",
    "\n",
    "약간의 부연설명을 하면,\n",
    "\n",
    "* HyperText는 문자열의 일종으로 텍스트이다. 추가로, Hyper Text는 인터넷에 표시되어 있는 텍스트를 의미한다.\n",
    "* 통신은 원격으로 데이터를 주고받는 것으로서, 쉽게 생각하면 모든 통신은 원거리 대화인셈이다.\n",
    "* 프로토콜은 통신 규약이다. 옛날의 봉화 같은 것들도 나름의 프로토콜을 갖추고 있다고 볼 수 있다.\n",
    "\n",
    "우리는 웹을 통해서 데이터를 원격으로 주고받고, 이때 쓰이는 텍스트는 HyperText이다. 그리고 프로토콜은 HTTP라고 정리하면 된다.\n",
    "\n",
    "수많은 컴퓨터들 사이의 네트워크로 연결된 웹은 인터넷상에서 제공되는 서비스이고, 웹의 프로토콜인 HTTP 역시 인터넷 프로토콜인 TCP/IP을 기반으로 정의된 것이다."
   ]
  },
  {
   "cell_type": "markdown",
   "id": "successful-occasions",
   "metadata": {},
   "source": [
    "## 3.인터넷과 프로토콜 (2) 인터넷이란?"
   ]
  },
  {
   "cell_type": "markdown",
   "id": "veterinary-cookbook",
   "metadata": {},
   "source": [
    "### 인터넷이란?\n",
    "---\n",
    "인터넷(Internet)은 한마디로 표현하면, 컴퓨터들 사이의 TCP/IP(Transmission Control Protocol / Internet Protocol)이라는 통신 프로토콜을 이용해 정보를 주고받는 컴퓨터 네트워크로 정의된다."
   ]
  },
  {
   "cell_type": "markdown",
   "id": "collaborative-french",
   "metadata": {},
   "source": [
    "### 인터넷의 유래\n",
    "---\n",
    "1960~70년대 미국 국방부 산하의 고등 연구국(Advanced Research Projects Agency, APPA)의 연구용 네트워크가 시초이다. 동서냉전이 한창이던 이때, 미국 국방부 고등 연구국에서는 핵전쟁 등의 상황에서도 살아남을 수 있는 네트워크를 연구하였고 최초의 2노드 간의 상호연결은 1969년 10월 29일 UCLA와 SRI연구소간에 연결 되었다. 이 통신망을 아파넷(ARPANET)이라고 하였으며 현재의 인터넷망의 시초이다."
   ]
  },
  {
   "cell_type": "markdown",
   "id": "commercial-clothing",
   "metadata": {},
   "source": [
    "### 인터넷 구조\n",
    "---\n",
    "인터넷 네트워크는 아래와 같이 연결되어 있다.\n",
    "\n",
    "<img src=\"./image/internet.png\" alt=\"Internet\" width =\"400\" />\n",
    "\n",
    "좀 자세히 살펴보자.\n",
    "\n",
    "<img src=\"./image/internet2.png\" alt=\"Internet\" />\n",
    "\n",
    "* `3번` 부분은 한 대의 컴퓨터라고 생각하면 된다. 즉, `Application`, `Transport`, `Network`, `Datalink`는 한 대의 컴퓨터 이다.\n",
    "\n",
    "* 컴퓨터로 통신할 때 어떻게 할까? 요즘은 거의 무선으로 통신하지만 옛날에는 다 LAN선으로 연결했다. 그리고 아직까지 데스크탑은 LAN선으로 연결하고 있다. 그리고 이 연결은 저 멀리 태평양 건너 미국에 있는 친구랑 전화도 할 수 있다. 근데 미국까지 다 무선으로 연결되는 걸까? 사실 바닷속 깊숙히에는 해저 광케이블이 있어서 다 연결되어 있다. 그리고 일부만 무선으로 연결하는 것이다. (1번이 해저 케이블로 연결되어 있다.)\n",
    "\n",
    "* 신경 써서 봐야 하는 부분은 소프트웨어의 영역인 바로 `2번`이다. 아래 부분인 `1번`은 물리적 계층 구조고 SK브로드밴드니 LS산전이니 하는 대기업, 제조업 회사에서 이런 사업들을 하고 있다. 프로토콜 규약에 맞게 데이터를 요청하거나 응답을 하면 2대의 컴퓨터에서 서로 원격으로 데이터를 교환할 수 있다. 하지만 두 컴퓨터는 서로가 주고받는 데이터가 어떤 물리적 경로를 거쳐 오가고 있는지 알 필요가 없다. 실제로는 3번의 `DataLink(LAN 카드)`를 거쳐 1번의 물리적인 네트워크 영역을 통해 데이터 패킷을 주고받지만 `2번`의 영역에서는 마치 두 컴퓨터 간에 가상의 직통 파이프라인이라도 연결되어 있는 것처럼 데이터를 주고받을 수 있다. 이런 것을 가능하게 해주는 것이 바로 위 그림에서 `3번` 중간 부분인 `Netwotk`와 `Transport`를 구성하는 `TCP-IP`이다.\n",
    "\n",
    "<img src=\"./image/internet3.png\" alt=\"Internet\" />\n",
    "\n",
    "* 위 그림의 `2번` 영역에서 `TCP-IP` 를 기반으로 `Application` 영역에서 `HTTP` 프로토콜을 이용할 수 있는 대표적인 소프트웨어가 바로 웹 브라우저 (크롬, 파이어폭스, 엣지, 사파리)같은 프로그램이다. 브라우저가 깔려있고, 인터넷만 연결되어 있으면 데이터 교환을 쉽게 할 수 있다. 물론 파이썬이나 자바, Javascript같은 코딩을 통해서도, `HTTP`가 아닌 다른 어떤 프로토콜을 통해서도, 얼마든지 데이터를 교환할 수 있다."
   ]
  },
  {
   "cell_type": "markdown",
   "id": "awful-little",
   "metadata": {},
   "source": [
    "### Internet의 공식적인 정의\n",
    "---\n",
    "1960년대 네트워크, 인터넷이 발달된 이래로 공식적으로 인터넷이란 말이 사용된 것은 \"1995년 10월 24일\" 이다. 이날 미국 연방네트워킹위원회(Federal Networking Council, FNC)는 만장일치로 __인터넷(Internet)이라는 용어에 대한 정의__를 통과시켰다.\n",
    "\n",
    "다음 글은 미국 연방 네트워킹 위원회(FNC) internet 정의 영어 원문이다.\n",
    "\n",
    "*The Federal Networking Council (FNC) agrees that the following language reflects our definition of the term \"Internet. \"Internet refers to the global information system that – (i) is logically linked together by a globally unique address space based on the __Internet Protocol (IP)__ or its subsequent extensions/follow-ons; (ii) is able to support communications using the __Transmission Control Protocol/Internet Protocol (TCP/IP)__ suite or its subsequent extensions/follow-ons, and/or other IP-compatible protocols; and (iii) provides, uses or makes accessible, either publicly or privately, high level services layered on the communications and related infrastructure described herein.*\n",
    "\n",
    "번역하면 다음과 같다.\n",
    "\n",
    "* 인터넷 프로토콜(Internet Protocol, IP) 또는 IP의 확장이나 후속 프로토콜에 기반을 두어 글로벌하게 접속 가능하며, 단일 주소 공간에 의해 논리적으로 연결되어 있다.\n",
    "* TCP/IP프로토콜, 이것의 확장이나 후속 프로토콜, 그리고 다른 IP와 호환되는 프로토콜을 이용한 통신을 지원할 수 있어야 한다.\n",
    "* 위에 언급한 인프라 구조나 통신 계층 위의 공공 또는 사적으로 고수준의 서비스를 제공하거나 사용, 접근이 가능하다\n",
    "\n",
    "즉, 인터넷은 TCP/IP 프로토콜에 의해 데이터의 교환이 가능한 글로벌 정보 시스템을 일컫는다. 이 인터넷은 물리적으로는 해저 케이블을 통해 전 세계와 연결되어 있는 것이다."
   ]
  },
  {
   "cell_type": "markdown",
   "id": "local-stock",
   "metadata": {},
   "source": [
    "## 4.인터넷과 프로토콜 (3) 소켓 통신\n",
    "\n",
    "<img src=\"./image/socket.png\" alt=\"Socket\" />\n",
    "\n",
    "이 사진의 이름이 바로 __소켓__이다. 맞다. __인터넷 연결용 포트__이다. 컴퓨터 네트워킹에서 인터넷 소켓, 혹은 네트워크 소켓은 끝점(Endpoint)을 의미한다. 끝점은 한국어로도 엔드포인트라고 한다. 즉 데이터를 전달하고 전송하는 지점을 뜻하고 그냥 전체 행위를 나타내기도 한다.<br>\n",
    "이전 스텝에서 `Transport` 영역에 해당하는 것들 중 소켓과 소켓 사이의 peer-to-peer 연결을 구현하는 프로토콜이 바로 TCP이다. 그리고 소프트웨어는 바로 이 소켓을 가지고 있기 때문에 반대편으로부터 전송받은 데이터를 바로 이 소켓을 통해서 수신하게 된다.\n",
    "\n",
    "이 소켓에는 번호가 붙어 있다. 이것을 포트(port) 번호라고 부른다. 웹 브라우저가 웹서버에 접속할 때는 웹서버의 80번 포트에 접속하는 것이 관례적으로 약속되어 있다. HTTP 프로토콜의 서비스를 제공하는 포트를 80으로 삼은 것이다. 그 외에 FTP는 21번, SSH는 22번, telnet은 23번 등 관례적으로 약속된 포트번호가 존재한다.\n",
    "\n",
    "그래서 인터넷, 네트워크 관련 프로그래밍에서는 __소켓__, __소켓프로그래밍__ 이란 용어를 종종 사용한다.\n",
    "\n",
    "즉, 아래와 같이 socket을 통해서 인터넷 네트워크 접속한다. 그리고 거기서 얻은 데이터 (바이트)들을 가져온다.\n",
    "\n",
    "<img src=\"./image/decoding_encoding.png\" alt=\"Encoding Decoding\" />\n",
    "\n",
    "간단한 socket프로그래밍 예제이다."
   ]
  },
  {
   "cell_type": "code",
   "execution_count": 1,
   "id": "grave-title",
   "metadata": {
    "ExecuteTime": {
     "end_time": "2021-02-17T01:24:50.162455Z",
     "start_time": "2021-02-17T01:24:50.038908Z"
    }
   },
   "outputs": [
    {
     "name": "stdout",
     "output_type": "stream",
     "text": [
      "Received: b'HTTP/1.0 404 Not Found\\r\\nContent-Type: text/html; charset=UTF-8\\r\\nDate: Wed, 17 Feb 2021 01:24:50 GMT\\r\\nServer: gws\\r\\nContent-Length: 1561\\r\\nX-XSS-Protection: 0\\r\\nX-Frame-Options: SAMEORIGIN\\r\\n\\r\\n<!DOCTYPE html>\\n<html lang=en>\\n  <meta charset=utf-8>\\n  <meta name=viewport content=\"initial-scale=1, minimum-scale=1, width=device-width\">\\n  <title>Error 404 (Not Found)!!1</title>\\n  <style>\\n    *{margin:0;padding:0}html,code{font:15px/22px arial,sans-serif}html{background:#fff;color:#222;padding:15px}body{margin:7% auto 0;max-width:390px;min-height:180px;padding:30px 0 15px}* > body{background:url(//www.google.com/images/errors/robot.png) 100% 5px no-repeat;padding-right:205px}p{margin:11px 0 22px;overflow:hidden}ins{color:#777;text-decoration:none}a img{border:0}@media screen and (max-width:772px){body{background:none;margin-top:0;max-width:none;padding-right:0}}#logo{background:url(//www.google.com/images/branding/googlelogo/1x/googlelogo_color_150x54dp.png) no-repeat;margin-left:-5px}@media only screen and (min-resoluti'\n"
     ]
    }
   ],
   "source": [
    "import socket\n",
    "with socket.socket(socket.AF_INET, socket.SOCK_STREAM) as s:     # 소켓 s를 하나 열어서\n",
    "    s.connect(('www.google.com', 80))          # www.google.com 이라는 호스트의 80번 포트에 접속합니다. \n",
    "    cmd = 'GET http://www.google.com HTTP/1.0\\r\\n\\r\\n'.encode() \n",
    "    s.send(cmd)                 # 접속이 되면 GET xxxxx 형식의 HTTP 프로토콜로 된 명령을 전송합니다. \n",
    "    data = s.recv(1024)    # 그리고 1024바이트만큼의 HTTP 응답을 수신합니다. \n",
    "print('Received:', data)  # 어떤 응답을 수신했는지 볼까요?"
   ]
  },
  {
   "cell_type": "markdown",
   "id": "injured-vegetarian",
   "metadata": {},
   "source": [
    "socket 객체를 생성한 뒤 구글에 접속해서 데이터를 받아오는 예제이다. 데이터를 요청할 때에는 GET이란 명령어를 전송한다. 명령어를 전송할 때 Byte단위로 보내기 위해 `encode()` 메소드를 이용해 인코딩한다. 그리고 다시 socket객체에 있는 메소드 `recv()`를 이용해 데이터를 받아온다.\n",
    "\n",
    "Socket은 인터넷의 논리적 최하위 레벨 (Low-Level)인 TCP-IP 프로토콜에서 일어나는 작용이다. 이후에 하려는 크롤링은 보다 더 상위 레벨 HTTP영역에서의 데이터 교환을 다룬다. (하위 레벨로 갈수록 물리적(기계적)으로 가까워진다.)"
   ]
  },
  {
   "cell_type": "markdown",
   "id": "proper-cherry",
   "metadata": {},
   "source": [
    "## 5.인터넷과 프로토콜 (4) 인터넷 프로토콜 : TCP/IP"
   ]
  },
  {
   "cell_type": "markdown",
   "id": "pregnant-studio",
   "metadata": {},
   "source": [
    "### Internet Protocol (Suite)\n",
    "---\n",
    "인터넷상에서 데이터를 교환할 때 쓰이는 프로토콜은 TCP/IP이다.\n",
    "\n",
    "* TCP: Transmission Control Protocol -> `소켓 포트 단위`의 송수신 프로토콜\n",
    "* IP: Internet Protocol -> 컴퓨터마다 주어지는 `IP 주소 단위`의 송수신 프로토콜\n",
    "\n",
    "인터넷 프로토콜이라고 하면 흔히는 \"TCP/IP\" 2개를 의미한다. 하지만 엄밀히는 인터넷 프로토콜은 IP 하나를 의미할 수도 있으니 구분을 위해서 인터넷 프로토콜을 internet protocol suite라고 말하기도 한다.<br>\n",
    "`IP`는 IP주소 단위 통신이므로 컴퓨터 레벨, `TCP`는 포트번호 단위 통신이므로 프로그램 레벨 통신 프로토콜이라고 이해하면 된다. `IP` 덕분에 데이터가 특정 컴퓨터까지는 전달되었지만, 포트번호를 따라 정확하게 소켓까지 전달해 주는 것은 `TCP`의 역할이다.\n",
    "\n",
    "(추가)\n",
    "소켓 포트 단위 송수신 프로토콜에는 `TCP`만 있는 것은 아니다. `UDP(User Datagram Protocol)`라는 것도 있다. `TCP`는 두 소켓 간의 쌍방향 독점적 통신이므로 connection 기반의 통신 프로토콜인 반면, `UDP`는 connection 개념이 없는 비연결형이다. 데이터그램을 일방적으로 전송하기 때문에 전송속도는 `TCP` 보다 빠르다. 그래서 음성, 영상 데이터 전송에 유리하다.\n",
    "\n",
    "\n",
    "[![추가영상](http://img.youtube.com/vi/614QGgw_FA4/0.jpg)](https://youtu.be/614QGgw_FA4) \n",
    "\n",
    "또한 위키피디아에서도 인터넷 프로토콜에 관련한 내용을 확인할 수 있다.\n",
    "\n",
    "[Internet protocol suite](https://en.wikipedia.org/wiki/Internet_protocol_suite)"
   ]
  },
  {
   "cell_type": "markdown",
   "id": "virgin-tomato",
   "metadata": {},
   "source": [
    "### TCP/IP 기반의 Application 프로토콜\n",
    "---\n",
    "TCP/IP 기반으로 구동되는 많은 Application 프로토콜이 있다. 이들 대부분은 우리가 알게 모르게 이미 친숙하게 사용하고 있는 것들이다.\n",
    "\n",
    "* HTTP: HyperText Transfer Protocol\n",
    "* HTTPS: HyperText Transfer Protocol Secure\n",
    "* FTP: File Transfer Protocol\n",
    "* SSH: Secure Shell (암호화된 네트워크 프로토콜)\n",
    "* DNS: Domain Name System\n",
    "\n",
    "TCP/IP는 인터넷에서 정보를 교환할 때 어떻게 해야 되는지에 대한 모든 것의 근본이 된다. 지구상에 있는 어떤 인터넷 서비스도 IP주소와 포트번호, Application 프로토콜 규격만 알면 모두 접속해서 통신이 가능한 것이다."
   ]
  },
  {
   "cell_type": "markdown",
   "id": "educational-wheel",
   "metadata": {},
   "source": [
    "### Port Number\n",
    "---\n",
    "TCP/IP 기반으로 구동된다는 것은 IP주소와 포트번호를 가지고 통신한다는 뜻과 같은 의미입니다. 아래 표는 위에서 소개한 TCP/IP 기반 프로토콜들이 관례적으로 사용하는 포트번호입니다.\n",
    "\n",
    "<img src=\"./image/port.png\" alt=\"Port Number\" />"
   ]
  },
  {
   "cell_type": "markdown",
   "id": "global-landing",
   "metadata": {},
   "source": [
    "## 6.API 이용하기 (1) Web과 HTTP\n",
    "\n",
    "API가 무엇인지 공부하기에 앞서 Web에 대해 먼저 알아보자."
   ]
  },
  {
   "cell_type": "markdown",
   "id": "affecting-correspondence",
   "metadata": {},
   "source": [
    "### Web\n",
    "---\n",
    "웹은 1989년 스위스의 입자 물리 연구소의 소프트웨어 공학자인 팀 버너스리에 의해 처음 그 개념이 고안되었다.\n",
    "\n",
    "팀 버너스리는 이렇게 제안했다, 인터넷에서 정보를 교환할 때 정보들을 하이퍼텍스트로 연결하자! 따라서 웹의 문서와 프로토콜 그리고 식별 규칙은 다음과 같다.\n",
    "\n",
    "* 표현형식(문서): HTML(Hyper Text Markup Language)\n",
    "* 전송방법(프로토콜): HTTP (Hyper Text Transfer Protocol)\n",
    "* 식별자: URI (Uniform Resource Identifier)\n",
    "\n",
    "웹은 인터넷 서비스 중의 하나이며, Web 브라우저를 통해 인터넷상에 있는 정보들을 쉽게 얻고 보낼 수 있다. 웹이 대중화(world wide web)가 된 시기는 1993년 일리노이대학교 대학생(마크 안데르센)이 넷스케이프의 전신인 Mosaic이라는 브라우저 프로그램을 만들면서부터이다. 이때부터 인터넷상의 데이터를 웹을 통해 손쉽게 얻을 수 있게 되었다. 인터넷에 더불어 웹까지 등장하면서 네트워크를 통한 정보교환은 폭발적으로 성장하게 된다."
   ]
  },
  {
   "cell_type": "markdown",
   "id": "motivated-client",
   "metadata": {},
   "source": [
    "### 웹의 동작과 HTTP\n",
    "---\n",
    "웹은 통신 규약으로 HTTP를 사용하는데, HTTP는 __요청(Request)__하고, __응답(Response)__하는 서버/클라이언트 모델을 따른다.\n",
    "\n",
    "아래 영상에서 웹이 어떻게 동작하는지 알아보자.\n",
    "\n",
    "[![추가영상](http://img.youtube.com/vi/RsQ1tFLwldY/0.jpg)](https://youtu.be/RsQ1tFLwldY) "
   ]
  },
  {
   "cell_type": "markdown",
   "id": "elder-fitness",
   "metadata": {},
   "source": [
    "### HTTP 메시지\n",
    "---\n",
    "HTTP의 메시지는 request/status line과 header 그리고 body로 이루어져 있는데,<br>\n",
    "요청 내용을 담은 request line은 요청 메소드와 타겟주소를 포함한다."
   ]
  },
  {
   "cell_type": "markdown",
   "id": "searching-myanmar",
   "metadata": {},
   "source": [
    "#### Request Method (요청 메소드)\n",
    "\n",
    "* GET: read, 정보를 요청\n",
    "* HEAD: 헤더 정보만 요청\n",
    "* POST: create, 정보를 생성, 변형 할 때 사용\n",
    "* PUT: update, 정보를 수정\n",
    "* DELETE: delete, 정보를 삭제\n",
    "* OPTIONS : 사용 가능한 메소드 확인\n",
    "\n",
    "이 밖에도 PATCH, CONNECT, TRACE 등의 메소드가 있지만 보안 문제로 인해 보통은 GET과 POST를 주로 사용한다.\n",
    "\n",
    "<img src=\"./image/request_method.png\" alt=\"Request Method\" />\n",
    "\n",
    "응답 메시지는 status line에 상태코드(status code)를 포함한다."
   ]
  },
  {
   "cell_type": "markdown",
   "id": "pharmaceutical-currency",
   "metadata": {},
   "source": [
    "#### Response Code (응답 코드)\n",
    "\n",
    "* 1xx: 조건부 응답\n",
    "* 2xx: 성공\n",
    "* 3xx: 리다이렉션 완료\n",
    "* 4xx: 요청 오류(클라이언트에 문제가 있다는 뜻!)\n",
    "* 5xx: 서버 오류(서버에 문제가 있다는 뜻!)"
   ]
  },
  {
   "cell_type": "markdown",
   "id": "least-concert",
   "metadata": {},
   "source": [
    "#### 많이 사용하는 응답 코드\n",
    "\n",
    "* 200: 서버가 클라이언트 요청을 성공적으로 처리, 웹 페이지에서는 페이지 요청이 정상적으로 완료되면 반환\n",
    "* 404: 찾을 수 없음. 존재하지 않는 URL을 요청하여 페이지를 접속할 수 없을 때 반환하는 응답 코드.\n",
    "\n",
    "<img src=\"./image/404.png\" alt=\"404\" width=\"50%\"/>\n",
    "\n",
    "더 많은 응답 코드를 보려면 [위키백과/HTTP](https://ko.wikipedia.org/wiki/HTTP_%EC%83%81%ED%83%9C_%EC%BD%94%EB%93%9C) 상태 코드 참조."
   ]
  },
  {
   "cell_type": "markdown",
   "id": "incident-express",
   "metadata": {},
   "source": [
    "#### Header (헤더)\n",
    "\n",
    "헤더는 그 쓰임이 정말 다양하고 종류가 많기 때문에 여기서 다 살펴볼 수는 없지만, 요청과 응답 메시지 모두에서 사용되는 공통 헤더, 요청 메시지에서 사용되는 요청 헤더, 응답 메시지에 사용되는 응답 헤더가 있다."
   ]
  },
  {
   "cell_type": "markdown",
   "id": "innocent-theater",
   "metadata": {},
   "source": [
    "#### URL(Uniform Resource Locator)과 URI(Uniform Resource Identifier)\n",
    "\n",
    "[What is a URL?](https://developer.mozilla.org/en-US/docs/Learn/Common_questions/What_is_a_URL)\n",
    "\n",
    "정보의 저장소인 인터넷 역시 주소 체계를 갖는다. URI는 말 그대로 인터넷의 자원(resource)을 나타내는 식별자(identifier)이고 자원을 나타내는 주소라 할 수 있다.\n",
    "\n",
    "잠깐, URI? URL? 둘 중 뭐가 맞는지 헷갈린다.<br>\n",
    "URL은 웹의 자원을 가리키는 위치 지정자로, 사실 URL은 URI에 포함되는 하위개념이다.\n",
    "\n",
    "아래 영상을 통해 알아보자.\n",
    "\n",
    "[![추가영상](http://img.youtube.com/vi/HCEm3vft430/0.jpg)](https://youtu.be/HCEm3vft430) \n"
   ]
  },
  {
   "cell_type": "markdown",
   "id": "understood-preview",
   "metadata": {},
   "source": [
    "## 7.API 이용하기 (2) API란?"
   ]
  },
  {
   "cell_type": "markdown",
   "id": "prepared-sussex",
   "metadata": {},
   "source": [
    "### API 이용하기\n",
    "---\n",
    "웹 페이지만 보더라도 다양한 프로그래밍 언어로 구현한다는 것을 알 수 있다. 대형 프로젝트는 어떨까? 대용량 트래픽이 발생하는 검색 엔진은 어떨까? 다양한 프로그래밍언어로 개발하면 어떤 문제가 발생할까? 네임 스페이스 문제, 변수문제, 함수 반환값에 대한 오해, 메소드를 사용하는 일.. 등등 단순한 문제들이 실타래처럼 얽혀서 가위로 자르고 새로 시작하는 게 더 나은 상황이 발생할 수도 있다.\n",
    "\n",
    "이런 상황을 방지하기 위해 우리는 API (Application Programing Interface)를 이용한다.\n",
    "\n",
    "다음 동영상을 시청해보자.\n",
    "\n",
    "[![추가영상](http://img.youtube.com/vi/iyFHfzCRHA8/0.jpg)](https://youtu.be/iyFHfzCRHA8) \n",
    "\n",
    "API는 다른 여러 애플리케이션 사이에 간편한 인터페이스를 제공한다.\n",
    "\n",
    "API는 마치 플러그처럼 어떤 프로그래머가 만들었든, 어떤 구조로 만들었든, 심지어 어떤 언어로 만들었는지도 상관하지 않는다.\n",
    "\n",
    "웹에서도 대기업들은 API형태로 많은 기능을 제공한다. API가 요청을 보낼 때는 HTTP를 통해 데이터를 요청하며 API는 이 데이터를 JSON이나 XML형태로 반환한다."
   ]
  },
  {
   "cell_type": "markdown",
   "id": "variable-favorite",
   "metadata": {},
   "source": [
    "### 서비스 제공을 위한 API\n",
    "---\n",
    "API를 서비스의 형태로 제공하는 회사에 대해 들어보았을 것이다. 예를 들어 Weather Underground는 날씨 데이터API를 판매한다. 여기 몇 가지 유명한 API를 소개해보겠다.\n",
    "\n",
    "* 구글 API<br>\n",
    "[Google APIs Explorer | Google Developers](https://developers.google.com/apis-explorer)\n",
    "\n",
    "\n",
    "* 카카오 API<br>\n",
    "[Kakao Developers](https://developers.kakao.com/)\n",
    "    \n",
    "    \n",
    "* 트위터 API<br>\n",
    "[API reference index](https://developer.twitter.com/en/docs/api-reference-index)\n",
    "    \n",
    "    \n",
    "* 네이버 파파고 API<br>\n",
    "[Naver Papago API](https://developers.naver.com/docs/papago/)\n",
    "    \n",
    "날씨 정보 지도 정보뿐만 아니라 네이버 파파고 같이 AI기술도 API형태로 제공하고 있다.\n",
    "\n",
    "이런 기업들이 제공하는 API의 기본 아이디어는 주어진 세부 사항으로 이벤트를 작성하도록 요청하여 웹 사이트 서버가 구글, 카카오, 트위터 등의 서버와 직접 통신하도록하는 것이다. 그러면 서버가 구글, 카카오, 트위터 등의 응답을 받고 처리한 후 사용자에게 확인 메시지와 같은 관련 정보를 브라우저로 다시 보낸다."
   ]
  },
  {
   "cell_type": "markdown",
   "id": "changed-today",
   "metadata": {},
   "source": [
    "### API 사용 시나리오\n",
    "---\n",
    "Weather Underground는 날씨 데이터API를 제공한다고 했는데, 날씨를 예로 들어 보자. 사람이 사이트에 들어가서 날씨를 확인하려면,\n",
    "\n",
    "__<사람이 Weather Underground 사이트에 접속해서 날씨 데이터 확인하는 경우>__\n",
    "\n",
    "1. 웹 사이트에서 사이트 주소 입력\n",
    "2. 검색창에 날씨 및 날짜 입력\n",
    "3. 날씨 확인\n",
    "\n",
    "이런 작업을 거친다. 만약 내가 어떤 서비스를 만들고 있는데 이 프로그램에 날씨 정보를 가져와서 표시하고 싶다면 어떻게 해야 할까?\n",
    "\n",
    "__<프로그램에 Weather Underground에서 제공하는 날씨 정보를 표시하고 싶을 때>__\n",
    "\n",
    "1. 프로그램에서 Weather Underground에서 제공하는 API에 날짜/지역 정보를 전달\n",
    "2. 해당 API 에서 날씨 정보를 응답\n",
    "\n",
    "API는 사람이 이용하기 위한 기능이 아니라 프로그램에서 이용하기 위한 기능이라는 점을 명심해야 한다. 프로그램 간의 Interface이다. API는 해당 프로그램의 기능을 다른 프로그램이 쓸 수 있게 하는 것이 목적이다. 그냥 규칙(API 가이드에 명시되어 있음)에 맞게 전송하면 해당 기능을 제공해 주는 것이다.\n",
    "\n",
    "<img src=\"./image/api.png\" alt=\"API\" width=\"80%\"/>\n",
    "\n",
    "위 그림의 API 가이드는 어떤가? 가만 보니까 HTTP 프로토콜을 그대로 활용해 Request를 Server에 전송하고 결과를 json이나 xml 파일로 수신하게 되어 있는 것 같다. 모든 API가 다 이런 방식으로 설계된 것은 아니다. API 활용을 위해서 Client에 전용 소프트웨어를 설치해야 하는 번거로운 경우도 많이 있었다. 그러나 이렇게 HTTP만을 활용해서 API를 구성한다면 HTTP 표준만 따른다면 어떤 언어 혹은 어떤 플랫폼에서도 사용이 가능한 인터페이스 스타일이기에 API 활용이 정말 쉽고 간결해질 것 같다."
   ]
  },
  {
   "cell_type": "markdown",
   "id": "acknowledged-earthquake",
   "metadata": {},
   "source": [
    "## 8.API 이용하기 (3) REST API"
   ]
  },
  {
   "cell_type": "markdown",
   "id": "proprietary-courage",
   "metadata": {},
   "source": [
    "### REST API\n",
    "---\n",
    "이전 스텝에서 우리는 HTTP 표준에 충실하게 설계된 API의 장점을 언급한 바 있다. 최근의 트렌드가 된 REST API는 이러한 HTTP 기반 API의 장점을 극대화하고 HTTP 고유의 특성을 가장 제대로 살린 디자인 패턴으로 각광받고 있다.\n",
    "\n",
    "* REST: Representational State Transfer\n",
    "* API: Application Programming Interface\n",
    "\n",
    "REST API의 개념을 소개한 다음 글을 읽어보자.\n",
    "\n",
    "[REST API와 RESTful API](https://velog.io/@stampid/REST-API%EC%99%80-RESTful-API#2-rest%EC%9D%98-%ED%8A%B9%EC%A7%95)"
   ]
  },
  {
   "cell_type": "markdown",
   "id": "indoor-wayne",
   "metadata": {},
   "source": [
    "## 9.API 이용하기 (4) 날씨 API 사용하기"
   ]
  },
  {
   "cell_type": "markdown",
   "id": "adaptive-senator",
   "metadata": {},
   "source": [
    "### 날씨 API 사용하기\n",
    "---\n",
    "[OpenWeatherMap](https://openweathermap.org/API)에서는 다양한 날씨 API를 제공하는데, 대부분 유료이지만 이 중 무료로 제공하는 One Call API를 사용해보자.\n",
    "\n",
    "<img src=\"./image/weather_api.png\" alt=\"Weather API\" width=\"80%\"/>\n",
    "\n",
    "* 회원 가입 후 로그인\n",
    "* API Key를 획득\n",
    "\n",
    "사이트에 접속해서 One Call API 옆의 `subscribe` 버튼을 누른 후 Free 요금제 아래의 `Get API key`버튼을 클릭하면 회원가입 페이지가 나온다."
   ]
  },
  {
   "cell_type": "code",
   "execution_count": null,
   "id": "strong-layer",
   "metadata": {},
   "outputs": [],
   "source": []
  },
  {
   "cell_type": "code",
   "execution_count": null,
   "id": "greek-amsterdam",
   "metadata": {},
   "outputs": [],
   "source": []
  },
  {
   "cell_type": "code",
   "execution_count": null,
   "id": "acute-bedroom",
   "metadata": {},
   "outputs": [],
   "source": []
  },
  {
   "cell_type": "code",
   "execution_count": null,
   "id": "refined-convertible",
   "metadata": {},
   "outputs": [],
   "source": []
  },
  {
   "cell_type": "code",
   "execution_count": null,
   "id": "worthy-vault",
   "metadata": {},
   "outputs": [],
   "source": []
  },
  {
   "cell_type": "code",
   "execution_count": null,
   "id": "amber-patient",
   "metadata": {},
   "outputs": [],
   "source": []
  },
  {
   "cell_type": "code",
   "execution_count": null,
   "id": "excellent-peoples",
   "metadata": {},
   "outputs": [],
   "source": []
  }
 ],
 "metadata": {
  "kernelspec": {
   "display_name": "aiffel",
   "language": "python",
   "name": "aiffel"
  },
  "language_info": {
   "codemirror_mode": {
    "name": "ipython",
    "version": 3
   },
   "file_extension": ".py",
   "mimetype": "text/x-python",
   "name": "python",
   "nbconvert_exporter": "python",
   "pygments_lexer": "ipython3",
   "version": "3.7.9"
  },
  "toc": {
   "base_numbering": 1,
   "nav_menu": {},
   "number_sections": true,
   "sideBar": true,
   "skip_h1_title": false,
   "title_cell": "Table of Contents",
   "title_sidebar": "Contents",
   "toc_cell": false,
   "toc_position": {},
   "toc_section_display": true,
   "toc_window_display": true
  },
  "varInspector": {
   "cols": {
    "lenName": 16,
    "lenType": 16,
    "lenVar": 40
   },
   "kernels_config": {
    "python": {
     "delete_cmd_postfix": "",
     "delete_cmd_prefix": "del ",
     "library": "var_list.py",
     "varRefreshCmd": "print(var_dic_list())"
    },
    "r": {
     "delete_cmd_postfix": ") ",
     "delete_cmd_prefix": "rm(",
     "library": "var_list.r",
     "varRefreshCmd": "cat(var_dic_list()) "
    }
   },
   "types_to_exclude": [
    "module",
    "function",
    "builtin_function_or_method",
    "instance",
    "_Feature"
   ],
   "window_display": false
  }
 },
 "nbformat": 4,
 "nbformat_minor": 5
}
