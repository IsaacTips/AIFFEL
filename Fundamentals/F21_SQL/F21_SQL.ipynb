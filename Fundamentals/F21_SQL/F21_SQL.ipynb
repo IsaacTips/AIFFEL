{
 "cells": [
  {
   "cell_type": "markdown",
   "id": "egyptian-presentation",
   "metadata": {},
   "source": [
    "# 21. SQL을 이용해 DB와 대화해보자"
   ]
  },
  {
   "cell_type": "markdown",
   "id": "trying-wonder",
   "metadata": {},
   "source": [
    "## 1. 들어가며"
   ]
  },
  {
   "cell_type": "markdown",
   "id": "fleet-union",
   "metadata": {},
   "source": [
    "### 파이썬과 데이터베이스가 만난다면?\n",
    "---\n",
    "파이썬에서 DB에 접근하기 위한 방법 중 가장 많이 사용하게 되는 것은 Python Database API(DB-API) 이다.\n",
    "\n",
    "Python DB-API는 여러 DB에 접근할 수 있는 표준 API 입니다. 표준 API는 크게 3가지의 작업을 한다.\n",
    "\n",
    "1. DB를 연결한다.\n",
    "2. SQL문을 실행한다.\n",
    "3. DB 연결을 닫는다.\n",
    "\n",
    "파이썬 DB-API는 기본적으로 PEP249 인터페이스를 따르도록 권장된다. 여기서 기본적으로 선언되어 있는 함수들로는 `connect()`, `close()`, `commit()`, `rollback()` 등 여러 가지가 있다. 이 함수들을 이용하면 거의 모든 데이터베이스(DB)에 대해 동일한 함수를 사용해 조작할 수 있다.\n",
    "\n",
    "[PEP 249 -- Python Database API Specification v2.0](https://legacy.python.org/dev/peps/pep-0249/)\n",
    "\n",
    "파이썬에서 지원하는 DB는 매우 다양하기 때문에, 각 DB에 상응하는 별도의 DB 모듈을 다운받아야 한다. 수많은 DB 모듈이 존재하나, 이들 대부분이 Python DB-API 표준을 따르고 있으므로 동일한 API로 여러 DB를 사용할 수 있다.\n",
    "\n",
    "파이썬은 MySQL, PostgreSQL, MSSQL, Sqlite, Oracle, Sybase, informix, mSQL 등 대표적인 DB를 모두 Python DB-API를 통해 지원한다.\n",
    "\n",
    "<img src=\"./image/db-api.png\" alt=\"DB-API\" />"
   ]
  },
  {
   "cell_type": "markdown",
   "id": "environmental-warehouse",
   "metadata": {},
   "source": [
    "### 학습 목표\n",
    "---\n",
    "1. 기본적인 SQL문을 공부해 본다.\n",
    "2. 파이썬을 통해 DB를 연결하여 SQL 질의를 시도해 본다."
   ]
  },
  {
   "cell_type": "markdown",
   "id": "obvious-midwest",
   "metadata": {},
   "source": [
    "### 배울 내용\n",
    "---\n",
    "1. 파이썬과 데이터베이스가 만난다면?\n",
    "2. 파이썬의 DB 다루기\n",
    "    - SQLite\n",
    "    - Python & DB\n",
    "    - Python DB API\n",
    "    - DDL 문으로 테이블 생성하기\n",
    "3. SQL\n",
    "    - SQL의 기본\n",
    "    - DISTINCT와 GROUP BY\n",
    "    - 데이터 TYPE\n",
    "    - 다양한 조건으로 조회하기\n",
    "    - JOIN 수행하기"
   ]
  },
  {
   "cell_type": "markdown",
   "id": "surrounded-thirty",
   "metadata": {},
   "source": [
    "## 2. 파이썬으로 DB 다루기"
   ]
  },
  {
   "cell_type": "markdown",
   "id": "recreational-amsterdam",
   "metadata": {},
   "source": [
    "### SQLite\n",
    "---\n",
    "__SQLite__는 서버의 필요 없이 DB의 파일에 기초하여 DB 처리를 구현한 __임베디드 SQL DB 엔진__이다. SQLite는 별도의 설치없이, 쉽고 편리하게 사용할 수 있다는 점에서 많이 사용되고 있다. Mac OS X나 Linux에는 SQLite가 기본적으로 설치되어 있다. 파이썬은 버전 2.5 이상일 경우 SQLite 사용을 위한 모듈이 기본 내장되어 있다."
   ]
  },
  {
   "cell_type": "markdown",
   "id": "arbitrary-biography",
   "metadata": {},
   "source": [
    "### 파이썬과 DB\n",
    "---\n",
    "파이썬과 DB를 서로 다른 대륙에 살고 있는 사람이라고 생각해 보겠다. 파이썬 대륙과 DB 대륙에 있는 사람이 함께 이야기를 하려면 어떻게 해야 할까? 전화, 이메일과 같은 방법들을 이용해 시도해볼 수 있다. 이처럼 파이썬과 DB는 sqlite3라는 전화 중계기를 이용해 대화를 한다.\n",
    "\n",
    "<img src=\"./image/SQLite3.png\" alt=\"SQLite3\" />"
   ]
  },
  {
   "cell_type": "markdown",
   "id": "crude-eligibility",
   "metadata": {},
   "source": [
    "### Python DB API\n",
    "---\n",
    "파이썬에서 DB 연결을 위한 전화선인 __sqlite3__ 모듈을 import해보자."
   ]
  },
  {
   "cell_type": "code",
   "execution_count": 1,
   "id": "determined-yesterday",
   "metadata": {
    "ExecuteTime": {
     "end_time": "2021-02-26T14:00:17.366814Z",
     "start_time": "2021-02-26T14:00:17.364197Z"
    }
   },
   "outputs": [],
   "source": [
    "import sqlite3"
   ]
  },
  {
   "cell_type": "markdown",
   "id": "structural-decrease",
   "metadata": {},
   "source": [
    "sqlite3 모듈은 파이썬 표준 라이브러리로 SQLite에 대한 인터페이스를 기본적으로 제공한다. 표준 라이브러리란 파이썬을 처음 설치할 때 기본적으로 설치되는 모듈이다. 정리하면, 표준 라이브러리인 sqlite3로 DB를 쉽게 이용할 수 있다.\n",
    "\n",
    "작업디렉토리를 구성하자.\n",
    "\n",
    "```bash\n",
    "$ mkdir -p ~/aiffel/sql_to_db/sqlite\n",
    "```\n",
    "\n",
    "이제 파이썬과 DB를 연결해 보자. `conn`에 DB 이름을 정하여 입력한다. \n",
    "\n",
    "난 `mydb`로 지었다. `[이름].[확장자명]`의 형태로 저장하면 된다."
   ]
  },
  {
   "cell_type": "code",
   "execution_count": 2,
   "id": "passive-wings",
   "metadata": {
    "ExecuteTime": {
     "end_time": "2021-02-26T14:00:17.373172Z",
     "start_time": "2021-02-26T14:00:17.368767Z"
    }
   },
   "outputs": [
    {
     "name": "stdout",
     "output_type": "stream",
     "text": [
      "<sqlite3.Connection object at 0x7effcffd9730>\n"
     ]
    }
   ],
   "source": [
    "import os\n",
    "db_path = os.getenv('HOME')+'/aiffel/sql_to_db/sqlite/mydb.db'\n",
    "conn = sqlite3.connect(db_path)  # mydb.db에 연결합니다.\n",
    "print(conn)"
   ]
  },
  {
   "cell_type": "markdown",
   "id": "indian-simulation",
   "metadata": {},
   "source": [
    "`conn` 객체에는 SQL 연결과 관련된 셋팅이 포함되어 있다. 이번에는 `Connect()` 함수의 연결을 사용하는 새로운 Cursor 객체를 만든다."
   ]
  },
  {
   "cell_type": "code",
   "execution_count": 3,
   "id": "front-residence",
   "metadata": {
    "ExecuteTime": {
     "end_time": "2021-02-26T14:00:17.378554Z",
     "start_time": "2021-02-26T14:00:17.375118Z"
    }
   },
   "outputs": [
    {
     "name": "stdout",
     "output_type": "stream",
     "text": [
      "<sqlite3.Cursor object at 0x7effcff8dab0>\n"
     ]
    }
   ],
   "source": [
    "c = conn.cursor()\n",
    "print(c)"
   ]
  },
  {
   "cell_type": "markdown",
   "id": "eleven-universe",
   "metadata": {},
   "source": [
    "Cursor는 SQL 질의(Query)를 수행하고 결과를 얻는데 사용하는 객체이다. `INSERT`처럼 DB에만 적용되는 명령어를 사용한다면 Cursor를 안 사용할 수 있지만 `SELECT`와 같이 데이터를 불러올 때는 SQL 질의 수행 결과에 접근하기 위한 Cursor가 반드시 필요하다. 이러한 이유로 습관적으로 `conn.cursor()`를 사용하는 것을 권한다. 참고로, 파이썬 공식 개발 가이드에서도 Cursor를 사용하는 것을 표준으로 안내하고 있다.\n",
    "\n",
    ">*`SQL INSERT문` : 테이블에 데이터를 삽입(추가)하는 질의이다. <br>\n",
    ">`SQL SELECT문` : 테이블에 데이터를 조건에 따라 조회하는 질의이다.*\n",
    "\n",
    "이제 SQL문을 실행해보자. 질의의 실행은 `execute()`를 이용하게 된다."
   ]
  },
  {
   "cell_type": "code",
   "execution_count": 4,
   "id": "about-fisher",
   "metadata": {
    "ExecuteTime": {
     "end_time": "2021-02-26T14:00:17.384552Z",
     "start_time": "2021-02-26T14:00:17.380403Z"
    }
   },
   "outputs": [
    {
     "name": "stdout",
     "output_type": "stream",
     "text": [
      "('20200701', 'TEST', 'AIFFEL', 1.0, 10000.0)\n"
     ]
    }
   ],
   "source": [
    "# stocks이라는 이름의 테이블을 하나 생성합니다. 혹시 이미 생성되었다면 생략합니다. \n",
    "c.execute(\"CREATE TABLE  IF NOT EXISTS  stocks (date text, trans text, symbol text, qty real, price real)\")\n",
    "\n",
    "# stocks 테이블에 데이터를 하나 인서트합니다. \n",
    "c.execute(\"INSERT INTO stocks VALUES ('20200701', 'TEST', 'AIFFEL', 1, 10000)\")\n",
    "\n",
    "# 방금 인서트한 데이터를 조회해 봅니다.\n",
    "c.execute(\"SELECT * FROM stocks\")\n",
    "\n",
    "# 조회된 내역을 커서를 통해 가져와 출력해 봅니다.\n",
    "print(c.fetchone())"
   ]
  },
  {
   "cell_type": "markdown",
   "id": "disciplinary-spiritual",
   "metadata": {},
   "source": [
    "방금 sqlite3 모듈을 이용해 데이터베이스에 테이블을 하나 만들고 데이터를 인서트한 후, 그 데이터를 조회해 보는 아주 기본적인 DB 핸들링 시나리오를 수행해 보았다."
   ]
  },
  {
   "cell_type": "markdown",
   "id": "cathedral-population",
   "metadata": {},
   "source": [
    "### sqlite DB Browser\n",
    "---\n",
    "하지만 데이터베이스를 다루는 방법에는 sqlite3와 같은 Python DB API만 존재하는 것은 아니다. 이제 DB 브라우저 어플리케이션을 통해 데이터베이스에 직접 접근해서 질의를 수행해 볼 것이다. 우분투 환경에서 터미널을 열어 아래와 같이 설치를 진행하자.\n",
    "\n",
    "```bash\n",
    "$ sudo add-apt-repository -y ppa:linuxgndu/sqlitebrowser\n",
    "$ sudo apt-get update\n",
    "$ sudo apt-get install sqlitebrowser\n",
    "```\n",
    "\n",
    "설치가 완료되었다면 아래 그림과 같이 `sqlite`로 검색해서 나오는 DB Browser를 실행하자.\n",
    "\n",
    "<img src=\"./image/sqlite.png\" alt=\"sqlite\" />\n",
    "\n",
    "정상적으로 실행되었다면 아래와 같은 화면이 뜰 것이다. `데이터베이스 열기(O)` 버튼을 클릭 후 위에서 생성했던 `~/aiffel/sql_to_db/sqlite/mydb.db` 파일을 찾아서 열어보자. 여기까지 정상적으로 진행되었다면 아래 그림과 같이 `데이터베이스 구조` 탭에 `stocks`라는 이름의 테이블이 생성되었음을 확인할 수 있을 것이다. 이것으로 DB Browser는 Sqlite 데이터베이스를 관리할 준비를 마쳤다.\n",
    "\n",
    "<img src=\"./image/sqlite2.png\" alt=\"sqlite\" />\n",
    "\n",
    "그런데 이상한 것이 있다. 아까 우리는 `stocks` 테이블에 데이터를 하나 인서트했기 때문에 그 데이터를 확인해 보려고 데이터 보기 탭을 눌러 보았지만, 아무런 데이터도 조회되지 않는다. `SQL 실행` 탭에서 위에 수행했던 `SELECT * FROM stocks` 조회 쿼리를 수행해 봐도 결과는 동일하다. 무슨 일이 있었던 걸까?\n",
    "\n",
    "삽입, 갱신, 삭제 등의 SQL 질의가 끝났다면 `conn.commit()`를 호출해야 DB가 실제로 업데이트된다. `commit()`을 하기 전에는 DB에 데이터가 업데이트된 것 같아 보여도 임시로만 바뀐 것이니 주의해야 한다. 하지만 우리는 sqlite3를 이용해 데이터가 잘 인서트되었음을 `SELECT`문의 결과를 통해서 이미 확인했다. 이건 또 무엇일까?\n",
    "\n",
    "이것이 데이터베이스를 사용할 때의 주의사항이다. 우리는 sqlite3를 이용해 데이터베이스에 `connection`을 하나 맺었다. 이후 해당 `connection`을 통해 인서트된 데이터는 `conn.commit()`를 호출하기 전까지는 그 `connection` 안에서만 유효하다. 그래서 sqlite3에서는 `SELECT`가 되었지만, DB Browser 안에서는 조회되지 않는 것이다.\n",
    "\n",
    "그럼 원본 데이터에 실제로 적용하려면 어떻게 해야 할까? 아래와 같이 `commit()` 명령어를 이용하면 된다. 참고로 select처럼 데이터를 가져오기만 하는 질의문의 경우에는 `commit()`가 필요없다. 데이터에 아무런 변경사항이 없었기 때문이다."
   ]
  },
  {
   "cell_type": "code",
   "execution_count": 5,
   "id": "rural-australian",
   "metadata": {
    "ExecuteTime": {
     "end_time": "2021-02-26T14:00:17.391521Z",
     "start_time": "2021-02-26T14:00:17.387005Z"
    }
   },
   "outputs": [],
   "source": [
    "conn.commit()   # commit()은 cursor의 메소드가 아니라 connection의 메소드입니다. "
   ]
  },
  {
   "cell_type": "markdown",
   "id": "purple-sight",
   "metadata": {},
   "source": [
    "이제 DB Browser에서 위에 인서트한 데이터가 정상적으로 조회되는지 아래 그림처럼 다시 확인해보자.\n",
    "\n",
    "<img src=\"./image/sqlite3.png\" alt=\"sqlite\" />\n",
    "\n",
    "이렇든 `commit()`을 통해 데이터베이스에 데이터 변경이 실제적으로 반영되었다. 이런 것을 데이터베이스에서는 `트랜잭션(transaction)` 관리라고 한다.\n",
    "\n",
    "트랜잭션의 개념에 대해 아래 글을 읽자.\n",
    "\n",
    "[트랜잭션이란](https://sjh836.tistory.com/11)\n",
    "\n",
    "`commit()`을 완료했다면 DB와 대화하는 것을 마무리 지어야한다. 대화의 마무리는 DB와의 연결을 끊는 것으로 이루어진다. 바로 `close()`를 이용하면 된다."
   ]
  },
  {
   "cell_type": "code",
   "execution_count": 6,
   "id": "invisible-broadcast",
   "metadata": {
    "ExecuteTime": {
     "end_time": "2021-02-26T14:00:17.395175Z",
     "start_time": "2021-02-26T14:00:17.393066Z"
    }
   },
   "outputs": [],
   "source": [
    "c.close()      # 먼저 커서를 닫은 후\n",
    "conn.close()    # DB 연결을 닫아 줍니다."
   ]
  },
  {
   "cell_type": "markdown",
   "id": "loose-explorer",
   "metadata": {},
   "source": [
    "### DDL문으로 테이블 생성하기\n",
    "---\n",
    "다양한 테이블을 조회해 보기 앞서, 실제 예제 테이블들을 한번 생성해 보도록 하겠다. 테이블명과 컬럼명을 한글로도 지정할 수 있다."
   ]
  },
  {
   "cell_type": "code",
   "execution_count": 7,
   "id": "subsequent-authorization",
   "metadata": {
    "ExecuteTime": {
     "end_time": "2021-02-26T14:00:17.415187Z",
     "start_time": "2021-02-26T14:00:17.397368Z"
    }
   },
   "outputs": [],
   "source": [
    "import sqlite3\n",
    "import os\n",
    "db_path = os.getenv('HOME')+'/aiffel/sql_to_db/sqlite/mydb.db'\n",
    "\n",
    "conn = sqlite3.connect(db_path)\n",
    "c = conn.cursor()\n",
    "\n",
    "#- ! 재실행 시 테이블이 존재할 수 있으므로 아래처럼 해당 테이블들을 모두 지워줍니다.\n",
    "c.execute(\"DROP TABLE IF EXISTS 도서대출내역\")\n",
    "c.execute(\"DROP TABLE IF EXISTS 도서대출내역2\")\n",
    "c.execute(\"DROP TABLE IF EXISTS 대출내역\")\n",
    "c.execute(\"DROP TABLE IF EXISTS 도서명\")\n",
    "\n",
    "\n",
    "#----- 1st table : 도서대출내역 -----#\n",
    "c.execute(\"CREATE TABLE IF NOT EXISTS 도서대출내역 (ID varchar, 이름 varchar, 도서ID varchar, 대출일 varchar, 반납일 varchar)\")\n",
    "#- 생성(create)문 : 테이블명, 변수명, 변수타입을 지정\n",
    "\n",
    "data = [('101','문강태','aaa','2020-06-01','2020-06-05'),\n",
    "             ('101','문강태','ccc','2020-06-20','2020-06-25'),\n",
    "             ('102','고문영','bbb','2020-06-01',None),\n",
    "             ('102','고문영','ddd','2020-06-08',None),\n",
    "             ('103','문상태','ccc','2020-06-01','2020-06-05'),\n",
    "             ('104','강기둥',None,None,None)]\n",
    "#- 입력할 데이터를 그대로 입력 (변수명 순서 기준대로)\n",
    "\n",
    "c.executemany('INSERT INTO 도서대출내역 VALUES (?,?,?,?,?)', data)\n",
    "#- 입력할 데이터를 실제 테이블에 insert하기\n",
    "#-----------------------------------------------#\n",
    "\n",
    "\n",
    "#----- 2nd table : 도서대출내역2 -----#\n",
    "c.execute(\"CREATE TABLE IF NOT EXISTS 도서대출내역2 (ID varchar, 이름 varchar, 대출년월 varchar, 대출일수 varchar)\")\n",
    "\n",
    "data = [('101','문강태','2020-06','20일'),\n",
    "             ('102','고문영','2020-06','10일'),\n",
    "             ('103','문상태','2020-06','8일'),\n",
    "             ('104','강기둥','2020-06','3일')]\n",
    "c.executemany('INSERT INTO 도서대출내역2 VALUES (?,?,?,?)', data)\n",
    "#--------------------------------------------------#\n",
    "\n",
    "\n",
    "#----- 3rd table : 대출내역 -----#\n",
    "c.execute(\"CREATE TABLE IF NOT EXISTS 대출내역 (ID varchar, 이름 varchar, 도서ID varchar)\")\n",
    "\n",
    "data = [('101','문강태','aaa'),\n",
    "             ('102','고문영','bbb'),\n",
    "             ('102','고문영','fff'),\n",
    "             ('103','문상태','ccc'),\n",
    "             ('104','강기둥',None)]\n",
    "c.executemany('INSERT INTO 대출내역 VALUES (?,?,?)', data)\n",
    "#-----------------------------------------#\n",
    "\n",
    "\n",
    "#----- 4th table : 도서명 -----#\n",
    "c.execute(\"CREATE TABLE IF NOT EXISTS 도서명 (도서ID varchar, 도서명 varchar)\")\n",
    "\n",
    "data = [('aaa','악몽을 먹고 자란 소년'),\n",
    "             ('bbb','좀비아이'),\n",
    "             ('ccc','공룡백과사전'),\n",
    "             ('ddd','빨간구두'),\n",
    "             ('eee','잠자는 숲속의 미녀')]\n",
    "\n",
    "c.executemany('INSERT INTO 도서명 VALUES (?,?)', data)\n",
    "#--------------------------------------#\n",
    "\n",
    "conn.commit()\n",
    "conn.close()"
   ]
  },
  {
   "cell_type": "markdown",
   "id": "laughing-optimization",
   "metadata": {},
   "source": [
    "데이터의 생성/삭제/갱신 등을 처리할 때 필요한 __DML문__의 호출 방법에 대해 바로 위에서 다루었던 코드를 중심으로 가볍게 이해해 보도록 하자.\n",
    "\n",
    "```python\n",
    "#----- 4th table : 도서명 -----#\n",
    "\n",
    "# [1]\n",
    "c.execute(\"CREATE TABLE IF NOT EXISTS 도서명 (도서ID varchar, 도서명 varchar)\")\n",
    "\n",
    "# [2]\n",
    "data = [('aaa','악몽을 먹고 자란 소년'),\n",
    "             ('bbb','좀비아이'),\n",
    "             ('ccc','공룡백과사전'),\n",
    "             ('ddd','빨간구두'),\n",
    "             ('eee','잠자는 숲속의 미녀')]\n",
    "\n",
    "# [3]\n",
    "c.executemany('INSERT INTO 도서명 VALUES (?,?)', data)\n",
    "#--------------------------------------#\n",
    "```\n",
    "\n",
    "__[1]번__의 `CREATE TABLE IF NOT EXISTS 도서명 (도서ID varchar, 도서명 varchar)` 코드를 주목하자. 이 부분은 \"만약 [테이블]이 존재하지 않으면 [테이블]을 생성달라. 그리고 변수명과 각 변수의 타입은 다음과 같이 설정해줘라\"라는 의미이다. 예제에서 [테이블]은 [도서명] 테이블이다.\n",
    "\n",
    "__[2]번__의 코드는 각 변수명에 맞게 데이터를 실제로 생성하는 것이다.\n",
    "\n",
    "마지막 __[3]번__에서 `INSERT INTO 도서명 VALES (?, ?)` 부분은 각 테이블의 변수(`도서ID`, `도서명`)에 [2]번에서 입력한 데이터(`data`)를 넣겠다는 뜻이다. 이렇게 `?`를 사용해서 데이터를 쿼리에 바인딩하는 기법을 매우 흔히 사용하니 잘 알아두자.<br>\n",
    "또 하나 눈에 띄는 부분은, `c.executemany()` 메소드이다. 이것은 한꺼번에 여러 개의 데이터 처리를 가능하게 해준다. 입력해야 할 데이터를 위와 같이 `list`로 관리하고 있는 경우 매우 유용하다.\n",
    "\n",
    "제대로 만들어졌는지 조회해보자."
   ]
  },
  {
   "cell_type": "code",
   "execution_count": 8,
   "id": "physical-serve",
   "metadata": {
    "ExecuteTime": {
     "end_time": "2021-02-26T14:00:17.420710Z",
     "start_time": "2021-02-26T14:00:17.416425Z"
    }
   },
   "outputs": [
    {
     "name": "stdout",
     "output_type": "stream",
     "text": [
      "('aaa', '악몽을 먹고 자란 소년')\n",
      "('bbb', '좀비아이')\n",
      "('ccc', '공룡백과사전')\n",
      "('ddd', '빨간구두')\n",
      "('eee', '잠자는 숲속의 미녀')\n"
     ]
    }
   ],
   "source": [
    "conn = sqlite3.connect(db_path)\n",
    "c = conn.cursor()\n",
    "\n",
    "for row in c.execute('SELECT * FROM 도서명'):\n",
    "  print(row)"
   ]
  },
  {
   "cell_type": "markdown",
   "id": "molecular-attribute",
   "metadata": {},
   "source": [
    "이제 직접 SQL문을 조작해서 만든 테이블을 조회해보자."
   ]
  },
  {
   "cell_type": "markdown",
   "id": "derived-insert",
   "metadata": {},
   "source": [
    "## 3. SQL (1) SQL의 기본"
   ]
  },
  {
   "cell_type": "markdown",
   "id": "representative-economy",
   "metadata": {},
   "source": [
    "### SQL의 기본\n",
    "__SQL__이란 무엇을 의미하는 것일까?\n",
    "\n",
    "SQL의 약자는 Structured Query Language이다. 구조화된… 쿼리… 언어?\n",
    "\n",
    "조금 더 풀어서 써보자면 데이터베이스(DB)에서 데이터를 조회하고자 할 때 필요한 컴퓨터 언어라고 할 수 있다.\n",
    "\n",
    "DB라는 공간에 ‘정형화된’(일정한 형식으로 수집되는) 데이터가 차곡차곡 저장되어 있다. 이러한 DB를 특정 언어로 조회해서 가져오는데, 그때 사용하는 언어가 바로 SQL이다.\n",
    "\n",
    "테이블을 삽입하거나 삭제, 갱신, 조회하는 등 본인이 원하는 형태로 데이터를 만들어 가져올 수 있다. 이번에는 주로 데이터를 조회하고 조작하는 부분에 대해 다뤄보도록 하겠다.\n",
    "\n",
    "<img src=\"./image/sql.png\" alt=\"SQL\" />\n",
    "\n",
    "위와 같이 DB에서 특정 테이블(`도서대출내역`)을 조회하고 그것을 가지고 올 때 사용한 `SELECT * FROM 도서대출내역` 이 바로 SQL아다.\n",
    "\n",
    "자, 이제 쿼리의 기본 구조를 살펴보자."
   ]
  },
  {
   "cell_type": "markdown",
   "id": "pregnant-agent",
   "metadata": {},
   "source": [
    "#### 쿼리의 기본 구조\n",
    "* `SELECT ~` : 조회할 컬럼명을 선택\n",
    "* `FROM ~`: 조회할 테이블명을 지정 (위치와 테이블명을 입력)\n",
    "* `WHERE ~` : 질의할 때 필요한 조건을 설정\n",
    "* `GROUP BY ~` : 특정 컬럼을 기준으로 그룹을 지어 출력\n",
    "* `ORDER BY ~` : SELECT 다음에 오는 컬럼 중 정렬이 필요한 부분을 정렬 (기본 설정 : 오름차순)\n",
    "* `LIMIT 숫자` : Display하고자 하는 행의 수를 설정\n",
    "\n",
    "위의 기본 구조를 좀 더 풀어서 설명해보겠다.\n",
    "\n",
    "<img src=\"./image/sql2.png\" alt=\"SQL\" />\n",
    "\n",
    "<img src=\"./image/sql3.png\" alt=\"SQL\" />\n",
    "\n",
    "아래 테이블 예시를 가지고 직접 살펴보도록 하자."
   ]
  },
  {
   "cell_type": "markdown",
   "id": "pharmaceutical-racing",
   "metadata": {},
   "source": [
    "#### < 테이블 명 : 도서대출내역 >\n",
    "\n",
    "<img src=\"./image/table.png\" alt=\"table\" />\n",
    "\n",
    "테이블을 보시면 도서관에서 관리하고 있는 DB라는 점을 알 수 있다. 그리고 사람들이 각자 어떤 도서를 대출했는지, 언제 대출/반납했는지를 파악할 수가 있다.\n",
    "\n",
    "* `ID` : 대출을 한 사람의 ID\n",
    "* `이름` : 대출자의 이름\n",
    "* `도서ID` : 대출한 도서의 ID\n",
    "* `대출일` : 도서를 대출한 날짜\n",
    "* `반납일` : 도서를 반납한 날짜\n",
    "\n",
    "자세히 보시면, 이렇게 5개의 __열;컬럼__(column)이 있다. 반대로 가로 줄은 __행;로우__(row)라고 부르죠.\n",
    "\n",
    "<img src=\"./image/column.png\" alt=\"column\" />\n",
    "<center> [(예시) ID 컬럼(column)] </center>\n",
    "<img src=\"./image/row.png\" alt=\"row\" />\n",
    "<center> [(예시) 첫 번째 행(row)] </center>\n",
    "\n",
    "여기까지는 어렵지 않게 이해가 되었다. 다음으로 넘어가 보자.\n",
    "\n",
    "지금까지 설명한 기본 구조를 위의 테이블을 활용해 검증하자."
   ]
  },
  {
   "cell_type": "code",
   "execution_count": 10,
   "id": "essential-shape",
   "metadata": {
    "ExecuteTime": {
     "end_time": "2021-02-26T14:26:06.662272Z",
     "start_time": "2021-02-26T14:26:06.654671Z"
    }
   },
   "outputs": [
    {
     "name": "stdout",
     "output_type": "stream",
     "text": [
      "('101', '문강태', 'aaa', '2020-06-01', '2020-06-05')\n",
      "('101', '문강태', 'ccc', '2020-06-20', '2020-06-25')\n",
      "('102', '고문영', 'bbb', '2020-06-01', None)\n",
      "('102', '고문영', 'ddd', '2020-06-08', None)\n",
      "('103', '문상태', 'ccc', '2020-06-01', '2020-06-05')\n",
      "('104', '강기둥', None, None, None)\n"
     ]
    }
   ],
   "source": [
    "#- 참고 : 실제 조회를 해보시려면 아래처럼 쓰시면 됩니다.\n",
    "#- c.execute() 괄호 안에 SQL문을 넣으시면 됩니다.\n",
    "\n",
    "import os\n",
    "db_path = os.getenv('HOME')+'/aiffel/sql_to_db/sqlite/mydb.db'\n",
    "conn = sqlite3.connect(db_path)  # mydb.db에 연결합니다.\n",
    "c = conn.cursor()\n",
    "\n",
    "for row in c.execute('SELECT * FROM 도서대출내역'):\n",
    "    print(row)\n",
    "\n",
    "#- ! 출력 시 'NULL' 대신 'None'으로 출력될 수 있으나 동일하게 이해하시면 됩니다."
   ]
  },
  {
   "cell_type": "markdown",
   "id": "former-jewelry",
   "metadata": {},
   "source": [
    "그럼 이번에는 sqlite DB Browser를 이용해 쿼리를 수행해보자."
   ]
  },
  {
   "cell_type": "markdown",
   "id": "oriental-trinity",
   "metadata": {},
   "source": [
    "#### /* 전체 조회 */\n",
    "\n",
    "```sql\n",
    "SELECT * FROM 도서대출내역;\n",
    "```\n",
    "\n",
    "<img src=\"./image/table.png\" alt=\"table\" />\n",
    "\n",
    "`SELECT`와 `FROM` 사이에는 특정 컬럼을 넣어 출력하곤 하는데, 위의 쿼리처럼 별(`*`)을 입력하게 되면 '테이블 전체를 다 가져와라'라는 명령어가 된다.\n",
    "\n",
    "그럼 특정 컬럼을 지정해보자"
   ]
  },
  {
   "cell_type": "markdown",
   "id": "severe-firmware",
   "metadata": {},
   "source": [
    "#### /* 특정 컬럼을 지정 */\n",
    "\n",
    "```sql\n",
    "SELECT ID FROM 도서대출내역;\n",
    "```\n",
    "\n",
    "<img src=\"./image/column.png\" alt=\"column\" />\n",
    "\n",
    "`SELECT`와 `FROM`사이에 ‘`ID`’를 넣으면 '전체 테이블 중에 `ID` 컬럼만 가져와라'라는 명령어가 된다."
   ]
  },
  {
   "cell_type": "code",
   "execution_count": null,
   "id": "current-truth",
   "metadata": {},
   "outputs": [],
   "source": []
  }
 ],
 "metadata": {
  "kernelspec": {
   "display_name": "aiffel",
   "language": "python",
   "name": "aiffel"
  },
  "language_info": {
   "codemirror_mode": {
    "name": "ipython",
    "version": 3
   },
   "file_extension": ".py",
   "mimetype": "text/x-python",
   "name": "python",
   "nbconvert_exporter": "python",
   "pygments_lexer": "ipython3",
   "version": "3.7.9"
  },
  "toc": {
   "base_numbering": 1,
   "nav_menu": {},
   "number_sections": true,
   "sideBar": true,
   "skip_h1_title": false,
   "title_cell": "Table of Contents",
   "title_sidebar": "Contents",
   "toc_cell": false,
   "toc_position": {},
   "toc_section_display": true,
   "toc_window_display": false
  },
  "varInspector": {
   "cols": {
    "lenName": 16,
    "lenType": 16,
    "lenVar": 40
   },
   "kernels_config": {
    "python": {
     "delete_cmd_postfix": "",
     "delete_cmd_prefix": "del ",
     "library": "var_list.py",
     "varRefreshCmd": "print(var_dic_list())"
    },
    "r": {
     "delete_cmd_postfix": ") ",
     "delete_cmd_prefix": "rm(",
     "library": "var_list.r",
     "varRefreshCmd": "cat(var_dic_list()) "
    }
   },
   "types_to_exclude": [
    "module",
    "function",
    "builtin_function_or_method",
    "instance",
    "_Feature"
   ],
   "window_display": false
  }
 },
 "nbformat": 4,
 "nbformat_minor": 5
}
