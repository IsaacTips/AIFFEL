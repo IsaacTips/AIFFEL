{
 "cells": [
  {
   "cell_type": "markdown",
   "id": "approved-california",
   "metadata": {},
   "source": [
    "# 25. 더 많이! 더 깔끔하게! 데이터를 관리하는 데이터베이스"
   ]
  },
  {
   "cell_type": "markdown",
   "id": "respected-tourism",
   "metadata": {},
   "source": [
    "## 1. 들어가며\n",
    "데이터는 보통 어떻게 저장해 사용할까?\n",
    "\n",
    "기초 파이썬을 공부할 때를 기억해보자. 메모리에 올려 변수로 가리키는 데이터는 그 쓰임에 따라 number, string 형태로 저장하고, 배열이 필요할 때는 list 타입 또는 NumPy의 ndarray 타입으로 저장했다. 그리고 표와 같은 데이터는 딕셔너리나 Pandas의 Series, DataFrame의 데이터 타입을 사용했다.\n",
    "\n",
    "이렇게 메모리에 저장된 데이터는 연산이 매우 빠르게 처리된다. 하지만 아쉽게도 영구적으로 저장되진 않는다. 데이터를 영구적으로 보존하기 위해 우리는 하드디스크에 파일 형태로 저장해야 한다. 데이터를 처리하는 프로세스가 종료된 후에도 데이터는 보존되었다가 재활용될 수 있어야 한다는 것을 데이터가 가져야 할 영속성(Persistence)이라고 한다. 하지만 데이터 영속성을 위하여 파일로 저장하는 것만으로는 비효율적일 수 있다. 특히 많은 사람들이 그 데이터를 공유할 때가 그렇다. 그래서 우리는 데이터베이스를 필요로 하게 된다.\n",
    "\n",
    "<img src=\"./image/db.png\" alt=\"DB\" />"
   ]
  },
  {
   "cell_type": "markdown",
   "id": "short-convenience",
   "metadata": {},
   "source": [
    "### 학습 목표\n",
    "---\n",
    "* 데이터를 연산하는 방법에 대해 학습한다.\n",
    "* Pandas, Class를 이용한 데이터 연산법을 연습한다.\n",
    "* Database에 대해 학습하고, Python을 이용해 간단한 Database를 직접 사용해보자."
   ]
  },
  {
   "cell_type": "markdown",
   "id": "universal-pierce",
   "metadata": {},
   "source": [
    "### 학습 내용\n",
    "---\n",
    "* 데이터 관리 프로그램 만들기\n",
    "    - 파일 시스템 활용\n",
    "    - 판다스와 csv 파일\n",
    "    - 판다스의 유용한 기능들\n",
    "    - 판다스 Transform 실전연습\n",
    "* 데이터베이스\n",
    "    - 다중 사용자 환경\n",
    "    - 데이터베이스의 세계로\n",
    "    - SQL\n",
    "    - 파이썬 DB API"
   ]
  },
  {
   "cell_type": "markdown",
   "id": "stylish-young",
   "metadata": {},
   "source": [
    "### 준비물\n",
    "---\n",
    "아직 경로를 생성하지 않았다면 터미널을 열고 디렉토리를 생성하자.\n",
    "\n",
    "```bash\n",
    "$ mkdir -p ~/AIFFEL/Fundamentals/F25_db/data_handling/data\n",
    "```\n",
    "\n",
    "사용하는 데이터이다. 압축을 풀어 파일들을 data 폴더로 이동시키자.\n",
    "\n",
    "```bash\n",
    "$ wget https://aiffelstaticprd.blob.core.windows.net/media/documents/db_data.zip\n",
    "$ mv db_data.zip  ~/AIFFEL/Fundamentals/F25_db/data_handling/data\n",
    "$ cd  ~/AIFFEL/Fundamentals/F25_db/data_handling/data\n",
    "$ unzip db_data.zip\n",
    "```"
   ]
  },
  {
   "cell_type": "markdown",
   "id": "amber-bruce",
   "metadata": {},
   "source": [
    "## 2. 데이터 관리 프로그램 만들기 (1) 파일 시스템 활용\n",
    "당신은 데이터 관리 어플리케이션을 제작하는 파이썬 개발자이다. 당신의 멋진 파이썬 실력으로 텍스트 파일에 담긴 데이터를 읽어 들여 필요한 정보를 출력하는 어플리케이션을 만들어 볼 생각이다."
   ]
  },
  {
   "cell_type": "markdown",
   "id": "romantic-howard",
   "metadata": {},
   "source": [
    "### 1단계. 문제 설명\n",
    "---\n",
    "사원 정보 프로그램을 만든다고 하자. `employeefile.txt` 란 파일에는 사원들의 정보가 담긴 데이터가 있다. 당신이 할 일은 파일을 읽어 들여 월급을 계산하고, 월급이 가장 높은 사원을 찾는 프로그램이다.\n",
    "\n",
    "<img src=\"./image/employee.png\" alt=\"employee\" />"
   ]
  },
  {
   "cell_type": "markdown",
   "id": "powered-compound",
   "metadata": {},
   "source": [
    "### 2단계. summarize() 함수 그리고 의사코드\n",
    "---\n",
    "자, 코딩을 하기 전에 전체 프로그램을 어떻게 구성할지 대략적으로 생각해보자.\n",
    "\n",
    "```python\n",
    "def summarize():\n",
    "    #파일 이름을 입력받는다.\n",
    "    #파일을 읽기 모드로 열어 한 줄씩 파일을 읽는다. \n",
    "    #파일의 각 행의 데이터 속성을 갖는 인스턴스 객체(사원객체)를 만든다. \n",
    "      # 사전에 employee 클래스 설계 필요!\n",
    "      # 사전에 인스턴스 사원 객체를 만드는 함수 필요!  \n",
    "    #월급이 가장 높은 사원을 찾는 코드를 구현한다. \n",
    "    #결과를 출력한다. \n",
    "    pass  \n",
    "```"
   ]
  },
  {
   "cell_type": "markdown",
   "id": "bored-asian",
   "metadata": {},
   "source": [
    "### 3단계. Employee Class 설계\n",
    "---\n",
    "자 우선 Employee 클래스부터 설계해보자.\n",
    "\n",
    "인스턴스 변수로 `name`, `division`, `jobgrade`, `years`, `basic`을 갖는 `Employee` 클래스를 만들어보자."
   ]
  },
  {
   "cell_type": "code",
   "execution_count": 2,
   "id": "juvenile-essence",
   "metadata": {
    "ExecuteTime": {
     "end_time": "2021-03-03T01:10:52.717174Z",
     "start_time": "2021-03-03T01:10:52.714230Z"
    }
   },
   "outputs": [],
   "source": [
    "class Employee:\n",
    "    def __init__ (self, name, division, jobgrade, years, basic):\n",
    "        self.name = name\n",
    "        self.division = division\n",
    "        self.jobgrade = int(jobgrade)\n",
    "        self.years = int(years)\n",
    "        self.basic = float(basic)\n",
    "# 텍스트 파일에서 불러온 각각의 데이터는 string으로 처리됩니다. 따라서 형 변환을 해주세요."
   ]
  },
  {
   "cell_type": "markdown",
   "id": "ceramic-settlement",
   "metadata": {},
   "source": [
    "설계한 Employee 클래스를 사용해 그림을 보고 \"안태희(AhnTaeHee)\"란 사원의 정보를 인스턴스 객체로 만들어 employee 변수로 지정하자. 아직 텍스트 파일을 불러오지 말고, 각각의 매개변수에 들어갈 값을 직접 스트링(string)으로 하드코딩하자."
   ]
  },
  {
   "cell_type": "code",
   "execution_count": 3,
   "id": "collaborative-incidence",
   "metadata": {
    "ExecuteTime": {
     "end_time": "2021-03-03T01:13:45.319043Z",
     "start_time": "2021-03-03T01:13:45.316734Z"
    }
   },
   "outputs": [],
   "source": [
    "employee1 = Employee('Ahn TaeHee', 'AI Team', '3', '3', '300')"
   ]
  },
  {
   "cell_type": "markdown",
   "id": "varied-village",
   "metadata": {},
   "source": [
    "### 4단계. `make_employee()` 함수 선언\n",
    "---\n",
    "위에서 한 것처럼 텍스트 형식의 파일을 파싱해 `Employee` 클래스 인스턴스를 생성하고 싶다. 하지만 한 명이야 이렇게 직접 타이핑할 수 있지만 사원 수가 많으면 일일이 타이핑하기 힘들것이다. 그러니 함수를 만들어 보자. 파일을 한 줄 한 줄 읽은 뒤 데이터의 값을 사용하여 자동으로 인스턴스 객체를 만들어 주는 함수이다.\n",
    "\n",
    "함수 이름은 `make_employee()`라고 정한다."
   ]
  },
  {
   "cell_type": "code",
   "execution_count": 4,
   "id": "lucky-pakistan",
   "metadata": {
    "ExecuteTime": {
     "end_time": "2021-03-03T01:23:55.840977Z",
     "start_time": "2021-03-03T01:23:55.838593Z"
    }
   },
   "outputs": [],
   "source": [
    "def make_employee(inputdata):\n",
    "    name, division, jopgrade, year, basic = inputdata.split(',')\n",
    "    return Employee(name, division, jopgrade, year, basic)"
   ]
  },
  {
   "cell_type": "markdown",
   "id": "neutral-directory",
   "metadata": {},
   "source": [
    "반복문을 사용해서 이런 식으로 사용할 것이다. 파일을 열어서 모든 라인을 순회하며 `make_employee()`를 호출하자."
   ]
  },
  {
   "cell_type": "code",
   "execution_count": 5,
   "id": "broad-leisure",
   "metadata": {
    "ExecuteTime": {
     "end_time": "2021-03-03T01:24:42.460288Z",
     "start_time": "2021-03-03T01:24:42.456851Z"
    }
   },
   "outputs": [
    {
     "name": "stdout",
     "output_type": "stream",
     "text": [
      "/home/aiffel-dj10/AIFFEL/Fundamentals/F25_db/data_handling/data/employeefile.txt\n"
     ]
    }
   ],
   "source": [
    "import os\n",
    "file_path = os.getenv(\"HOME\") + '/AIFFEL/Fundamentals/F25_db/data_handling/data/employeefile.txt'\n",
    "print(file_path)\n",
    "inputfile = open(file_path, 'r')\n",
    "\n",
    "for i in inputfile:\n",
    "    e = make_employee(i)"
   ]
  },
  {
   "cell_type": "markdown",
   "id": "drawn-prison",
   "metadata": {},
   "source": [
    "### 5단계. Employee Class 이어서..\n",
    "---\n",
    "사실 `Employee` 클래스 설계는 끝난 게 아니다. `<인스턴스>.<속성값>` 과 같은 형식을 사용하여 인스턴스 변수에 접근할 수도 있지만, 보통은 메소드로 구현해 값을 반환받는 것이 일반적이다. 이는 Clean Code 운동과 관련된 내용이니 통상 이런 식으로 구현한다 정도로만 이해하면 된다."
   ]
  },
  {
   "cell_type": "markdown",
   "id": "chubby-surname",
   "metadata": {},
   "source": [
    "#### 정보 접근자 메소드"
   ]
  },
  {
   "cell_type": "code",
   "execution_count": 6,
   "id": "legendary-canadian",
   "metadata": {
    "ExecuteTime": {
     "end_time": "2021-03-03T01:25:42.416127Z",
     "start_time": "2021-03-03T01:25:42.413433Z"
    }
   },
   "outputs": [],
   "source": [
    "class Employee:\n",
    "    def get_name(self):\n",
    "        return self.name\n",
    "    def get_division(self):\n",
    "        return self.division\n",
    "    def get_jobgrade(self):\n",
    "        return self.jobgrade\n",
    "    def get_years(self):\n",
    "        return self.years\n",
    "    def get_basic(self):\n",
    "        return self.basic"
   ]
  },
  {
   "cell_type": "markdown",
   "id": "celtic-nudist",
   "metadata": {},
   "source": [
    "#### 급여 계산\n",
    "급여는 기본 급여(basic salary)에, 기본 급여의 10% * 근속연수를 더한 값이다. 즉 급여(salary)는 `basic salary + years*basic*0.1 `과 같이 계산할 수 있다.\n",
    "\n",
    "아래 코드 블록에 급여를 계산하는 `salary()` 메소드를 구현해보자."
   ]
  },
  {
   "cell_type": "code",
   "execution_count": 7,
   "id": "cooperative-explanation",
   "metadata": {
    "ExecuteTime": {
     "end_time": "2021-03-03T01:26:54.161855Z",
     "start_time": "2021-03-03T01:26:54.159327Z"
    }
   },
   "outputs": [],
   "source": [
    "def get_salary(self):\n",
    "    self.salary = self.basic + (self.basic * self.years * 0.1)\n",
    "    return self.salary"
   ]
  },
  {
   "cell_type": "markdown",
   "id": "pleasant-dispatch",
   "metadata": {},
   "source": [
    "#### 완성된 Employee 클래스\n",
    "필요한 메소드를 모두 구현한 클래스는 다음과 같다.\n",
    "\n",
    "salary에 초깃값 0을 설정해 주었다."
   ]
  },
  {
   "cell_type": "code",
   "execution_count": 8,
   "id": "traditional-australia",
   "metadata": {
    "ExecuteTime": {
     "end_time": "2021-03-03T01:27:16.002238Z",
     "start_time": "2021-03-03T01:27:15.997279Z"
    }
   },
   "outputs": [],
   "source": [
    "class Employee:\n",
    "    def __init__ (self, name, division, jobgrade, years, basic):\n",
    "        self.name = name\n",
    "        self.division = division\n",
    "        self.jobgrade = int(jobgrade)\n",
    "        self.years = int(years)\n",
    "        self.basic = float(basic)\n",
    "        self.salary = 0\n",
    "\n",
    "    def get_name(self):\n",
    "        return self.name\n",
    "\n",
    "    def get_divison(self):\n",
    "        return self.division\n",
    "    \n",
    "    def get_jobgrade(self):\n",
    "        return self.jobgrade\n",
    "    \n",
    "    def get_years(self):\n",
    "        return self.years\n",
    "    \n",
    "    def get_basic(self):\n",
    "        return self.basic\n",
    "\n",
    "    def get_salary(self):\n",
    "        self.salary = self.basic + (self.basic * self.years * 0.1)\n",
    "        return self.salary"
   ]
  },
  {
   "cell_type": "markdown",
   "id": "informal-alloy",
   "metadata": {},
   "source": [
    "### 6단계 전체 코드\n",
    "---\n",
    "파일을 열고 각 사원의 월급을 비교해서 가장 높은 월급을 가진 사원의 정보를 출력한다."
   ]
  },
  {
   "cell_type": "code",
   "execution_count": 11,
   "id": "organized-cruise",
   "metadata": {
    "ExecuteTime": {
     "end_time": "2021-03-03T01:28:15.491346Z",
     "start_time": "2021-03-03T01:28:15.484385Z"
    }
   },
   "outputs": [],
   "source": [
    "import os\n",
    "\n",
    "class Employee:\n",
    "    def __init__ (self, name, division, jobgrade, years, basic):\n",
    "        self.name = name\n",
    "        self.division = division\n",
    "        self.jobgrade = int(jobgrade)\n",
    "        self.years = int(years)\n",
    "        self.basic = float(basic)\n",
    "        self.salary = 0\n",
    "\n",
    "    def get_name(self):\n",
    "        return self.name\n",
    "\n",
    "    def get_division(self):\n",
    "        return self.division\n",
    "    \n",
    "    def get_jobgrade(self):\n",
    "        return self.jobgrade\n",
    "    \n",
    "    def get_years(self):\n",
    "        return self.years\n",
    "    \n",
    "    def get_basic(self):\n",
    "        return self.basic\n",
    "\n",
    "    def get_salary(self):\n",
    "        self.salary = self.basic + (self.basic * self.years * 0.1)\n",
    "        return self.salary\n",
    "\n",
    "def make_employee(inputdata):\n",
    "    name, division, jopgrade, year, basic = inputdata.split(',')\n",
    "    return Employee(name, division, jopgrade, year, basic)\n",
    "\n",
    "def summarize():\n",
    "    file_path = os.getenv(\"HOME\") + '/AIFFEL/Fundamentals/F25_db/data_handling/data/employeefile.txt'\n",
    "    inputfile = open(file_path, 'r')\n",
    "    highest = make_employee(inputfile.readline())\n",
    "    for l in inputfile:\n",
    "        e = make_employee(l)\n",
    "        if e.get_salary() > highest.get_salary():\n",
    "            highest = e\n",
    "    inputfile.close()\n",
    "    \n",
    "    print(\"The name of the highest salary employee is: \", highest.get_name())\n",
    "    print(\"Years of service: \", highest.get_years())\n",
    "    print(\"Division: \", highest.get_division())\n",
    "    print(\"Salay: \", highest.get_salary())"
   ]
  },
  {
   "cell_type": "markdown",
   "id": "honest-remains",
   "metadata": {},
   "source": [
    "클래스가 만들어졌다. `summarize()` 메소드를 호출하여 기획의도대로 동작하는지 살펴보자."
   ]
  },
  {
   "cell_type": "code",
   "execution_count": 12,
   "id": "innovative-found",
   "metadata": {
    "ExecuteTime": {
     "end_time": "2021-03-03T01:28:16.362858Z",
     "start_time": "2021-03-03T01:28:16.359939Z"
    }
   },
   "outputs": [
    {
     "name": "stdout",
     "output_type": "stream",
     "text": [
      "The name of the highest salary employee is:  Kim YoungJae\n",
      "Years of service:  7\n",
      "Division:   Sales\n",
      "Salay:  1020.0\n"
     ]
    }
   ],
   "source": [
    "summarize()"
   ]
  },
  {
   "cell_type": "markdown",
   "id": "animal-jason",
   "metadata": {},
   "source": [
    "코드 실행결과를 확인해보자. 잘 나온듯 하다.\n",
    "\n",
    "그런데, 새로운 사실이 있다. 관리해야 할 데이터 파일이 1개만 있는게 아니라는 사실이다. 여러 파일들에 들어 있는 데이터 항목들도 각각 다른데, 심지어 파일간 데이터들이 서로 연관성이 있어서 여러 개의 파일들을 다루기 위한 코드가 점점 복잡해질 것 같다.\n",
    "\n",
    "고민하던 차에 당신은 Pandas를 활용하는 것이 도움이 되겠다는 결론에 도달하게 된다."
   ]
  },
  {
   "cell_type": "markdown",
   "id": "romantic-invention",
   "metadata": {},
   "source": [
    "## 3. 데이터 관리 프로그램 만들기 (2) Pandas와 csv 파일\n",
    "SQL은 데이터 연산 작업이 가능한, \"쿼리(query)를 위한 언어\"이다. 파이썬 기반의 프레임 워크인 Pandas를 이용하면 SQL과 유사한 기능을 수행할 수 있다. Pandas를 이용하면 많은 파일들에 흩어져 있는 데이터들을 효과적으로 모아서 깔끔하게 처리할 수 있다."
   ]
  },
  {
   "cell_type": "markdown",
   "id": "pleased-feeling",
   "metadata": {},
   "source": [
    "### 데이터 합치기 : merge, join, concat\n",
    "---\n",
    "서로 다른 곳에 있는 데이터를 공통된 값을 사용하여 묶어줄 수 있으면 데이터를 분석하기 매우 쉽다. 그런데 서로 묶을 수 있는 데이터는 어떻게 생긴 데이터일까?\n",
    "\n",
    "다음과 같은 데이터가 있다고 하자.\n",
    "\n",
    "* 학생 A: 국어점수 - 90점, 학교 - 고등학교\n",
    "* 학생 B: 나이 - 12살, 사는 곳 - 서울\n",
    "* 사원 A: 입사 연도 - 2009년\n",
    "* 고객 A: 계좌번호 - 11111347234, 카드 소유 여부 - Yes\n",
    "\n",
    "이런 데이터는 어떻게 합칠 수 있을까? 사람마다 인덱스를 지정해 주어서 순서를 붙이는 걸로 해줄 수밖에 없을 것 같다. 이 데이터는 칼럼(column)을 지정해 줄 수도 없기 때문에 정말 뒤죽박죽 데이터가 될 것 같다.\n",
    "\n",
    "데이터를 합치는 건 좋지만 그렇다고 막 갖다 붙이면 안될 것이다. 데이터를 합칠 때는 어떤 연관이 있어야 한다. 즉 서로 관계가 있는 데이터에 대해서 합칠 수 있다.\n",
    "\n",
    "* Pandas에서는 공통으로 연관이 되는 칼럼이 있는 경우에 대해 그 칼럼을 키(key)로 지정해 주어 합치기 연산을 할 수 있다.\n",
    "* Pandas에서 제공하는 합치기 관련 메소드는 `merge()`, `join()`, `concat()`이 있다.\n",
    "\n",
    "연산을 하나씩 살펴보자."
   ]
  },
  {
   "cell_type": "markdown",
   "id": "turkish-mozambique",
   "metadata": {},
   "source": [
    "#### pd.merge()\n",
    "아래와 같은 데이터가 있으며, 이들은 서로 다른 테이블에 속해 있다고 하자. 각각을 DataFrame 형태로 표현한다."
   ]
  },
  {
   "cell_type": "code",
   "execution_count": 13,
   "id": "searching-seeker",
   "metadata": {
    "ExecuteTime": {
     "end_time": "2021-03-03T01:33:11.687118Z",
     "start_time": "2021-03-03T01:33:11.454638Z"
    }
   },
   "outputs": [
    {
     "name": "stdout",
     "output_type": "stream",
     "text": [
      "       Student  Korean  English\n",
      "0    KimTaemin      90       80\n",
      "1     HaJaehwa      85       90\n",
      "2  JungSayoung      88       40\n",
      "3     Sonjimin      35       44\n",
      "4    Leesoomin      40       55\n",
      "5      KangJun      44       90\n",
      "---\n",
      "       Student  Math\n",
      "0    KimTaemin   100\n",
      "1     HaJaehwa    55\n",
      "2  JungSayoung    38\n",
      "3     Sonjimin    43\n",
      "4    Leesoomin    68\n",
      "5      KangJun    82\n"
     ]
    }
   ],
   "source": [
    "import pandas as pd\n",
    "\n",
    "df1 = pd.DataFrame({'Student': ['KimTaemin','HaJaehwa','JungSayoung','Sonjimin','Leesoomin','KangJun'],\n",
    "                    'Korean': [90, 85, 88, 35, 40, 44],\n",
    "                    'English': [80, 90, 40, 44, 55, 90]})\n",
    "df2 = pd.DataFrame({'Student': ['KimTaemin','HaJaehwa','JungSayoung','Sonjimin','Leesoomin','KangJun'],\n",
    "                    'Math': [100, 55, 38, 43, 68, 82]})\n",
    "\n",
    "print(df1)\n",
    "print('---')\n",
    "print(df2)"
   ]
  },
  {
   "cell_type": "markdown",
   "id": "accepting-handling",
   "metadata": {},
   "source": [
    "`merge()` 메소드는 공통의 칼럼에 있는 값을 키로 사용해 데이터를 합쳐준다. 여기서는 `Student` 가 공통이었기 때문에 자동으로 `Student` 필드의 값이 키가 되어 이를 기준으로 합쳐진다. `merge()` 에는 `on` 인자에 키 값을 넣어 주어 공통 칼럼이 여러 개인 경우를 대비해 직접 값을 넣어줄 수 있으며, 키 값이 될 수 있는 필드가 1개더라도 명확한 코드를 작성하기 위해 키 값을 담은 컬럼(column)의 이름을 직접 나타내주면 좋다."
   ]
  },
  {
   "cell_type": "code",
   "execution_count": 14,
   "id": "yellow-conjunction",
   "metadata": {
    "ExecuteTime": {
     "end_time": "2021-03-03T01:38:16.318698Z",
     "start_time": "2021-03-03T01:38:16.302273Z"
    }
   },
   "outputs": [
    {
     "data": {
      "text/html": [
       "<div>\n",
       "<style scoped>\n",
       "    .dataframe tbody tr th:only-of-type {\n",
       "        vertical-align: middle;\n",
       "    }\n",
       "\n",
       "    .dataframe tbody tr th {\n",
       "        vertical-align: top;\n",
       "    }\n",
       "\n",
       "    .dataframe thead th {\n",
       "        text-align: right;\n",
       "    }\n",
       "</style>\n",
       "<table border=\"1\" class=\"dataframe\">\n",
       "  <thead>\n",
       "    <tr style=\"text-align: right;\">\n",
       "      <th></th>\n",
       "      <th>Student</th>\n",
       "      <th>Korean</th>\n",
       "      <th>English</th>\n",
       "      <th>Math</th>\n",
       "    </tr>\n",
       "  </thead>\n",
       "  <tbody>\n",
       "    <tr>\n",
       "      <th>0</th>\n",
       "      <td>KimTaemin</td>\n",
       "      <td>90</td>\n",
       "      <td>80</td>\n",
       "      <td>100</td>\n",
       "    </tr>\n",
       "    <tr>\n",
       "      <th>1</th>\n",
       "      <td>HaJaehwa</td>\n",
       "      <td>85</td>\n",
       "      <td>90</td>\n",
       "      <td>55</td>\n",
       "    </tr>\n",
       "    <tr>\n",
       "      <th>2</th>\n",
       "      <td>JungSayoung</td>\n",
       "      <td>88</td>\n",
       "      <td>40</td>\n",
       "      <td>38</td>\n",
       "    </tr>\n",
       "    <tr>\n",
       "      <th>3</th>\n",
       "      <td>Sonjimin</td>\n",
       "      <td>35</td>\n",
       "      <td>44</td>\n",
       "      <td>43</td>\n",
       "    </tr>\n",
       "    <tr>\n",
       "      <th>4</th>\n",
       "      <td>Leesoomin</td>\n",
       "      <td>40</td>\n",
       "      <td>55</td>\n",
       "      <td>68</td>\n",
       "    </tr>\n",
       "    <tr>\n",
       "      <th>5</th>\n",
       "      <td>KangJun</td>\n",
       "      <td>44</td>\n",
       "      <td>90</td>\n",
       "      <td>82</td>\n",
       "    </tr>\n",
       "  </tbody>\n",
       "</table>\n",
       "</div>"
      ],
      "text/plain": [
       "       Student  Korean  English  Math\n",
       "0    KimTaemin      90       80   100\n",
       "1     HaJaehwa      85       90    55\n",
       "2  JungSayoung      88       40    38\n",
       "3     Sonjimin      35       44    43\n",
       "4    Leesoomin      40       55    68\n",
       "5      KangJun      44       90    82"
      ]
     },
     "execution_count": 14,
     "metadata": {},
     "output_type": "execute_result"
    }
   ],
   "source": [
    "pd.merge(df1, df2)"
   ]
  },
  {
   "cell_type": "code",
   "execution_count": 15,
   "id": "violent-fundamental",
   "metadata": {
    "ExecuteTime": {
     "end_time": "2021-03-03T01:38:21.871357Z",
     "start_time": "2021-03-03T01:38:21.861871Z"
    }
   },
   "outputs": [
    {
     "data": {
      "text/html": [
       "<div>\n",
       "<style scoped>\n",
       "    .dataframe tbody tr th:only-of-type {\n",
       "        vertical-align: middle;\n",
       "    }\n",
       "\n",
       "    .dataframe tbody tr th {\n",
       "        vertical-align: top;\n",
       "    }\n",
       "\n",
       "    .dataframe thead th {\n",
       "        text-align: right;\n",
       "    }\n",
       "</style>\n",
       "<table border=\"1\" class=\"dataframe\">\n",
       "  <thead>\n",
       "    <tr style=\"text-align: right;\">\n",
       "      <th></th>\n",
       "      <th>Student</th>\n",
       "      <th>Korean</th>\n",
       "      <th>English</th>\n",
       "      <th>Math</th>\n",
       "    </tr>\n",
       "  </thead>\n",
       "  <tbody>\n",
       "    <tr>\n",
       "      <th>0</th>\n",
       "      <td>KimTaemin</td>\n",
       "      <td>90</td>\n",
       "      <td>80</td>\n",
       "      <td>100</td>\n",
       "    </tr>\n",
       "    <tr>\n",
       "      <th>1</th>\n",
       "      <td>HaJaehwa</td>\n",
       "      <td>85</td>\n",
       "      <td>90</td>\n",
       "      <td>55</td>\n",
       "    </tr>\n",
       "    <tr>\n",
       "      <th>2</th>\n",
       "      <td>JungSayoung</td>\n",
       "      <td>88</td>\n",
       "      <td>40</td>\n",
       "      <td>38</td>\n",
       "    </tr>\n",
       "    <tr>\n",
       "      <th>3</th>\n",
       "      <td>Sonjimin</td>\n",
       "      <td>35</td>\n",
       "      <td>44</td>\n",
       "      <td>43</td>\n",
       "    </tr>\n",
       "    <tr>\n",
       "      <th>4</th>\n",
       "      <td>Leesoomin</td>\n",
       "      <td>40</td>\n",
       "      <td>55</td>\n",
       "      <td>68</td>\n",
       "    </tr>\n",
       "    <tr>\n",
       "      <th>5</th>\n",
       "      <td>KangJun</td>\n",
       "      <td>44</td>\n",
       "      <td>90</td>\n",
       "      <td>82</td>\n",
       "    </tr>\n",
       "  </tbody>\n",
       "</table>\n",
       "</div>"
      ],
      "text/plain": [
       "       Student  Korean  English  Math\n",
       "0    KimTaemin      90       80   100\n",
       "1     HaJaehwa      85       90    55\n",
       "2  JungSayoung      88       40    38\n",
       "3     Sonjimin      35       44    43\n",
       "4    Leesoomin      40       55    68\n",
       "5      KangJun      44       90    82"
      ]
     },
     "execution_count": 15,
     "metadata": {},
     "output_type": "execute_result"
    }
   ],
   "source": [
    "pd.merge(df1, df2, on='Student')"
   ]
  },
  {
   "cell_type": "markdown",
   "id": "varying-failing",
   "metadata": {
    "ExecuteTime": {
     "end_time": "2021-03-03T01:38:57.286762Z",
     "start_time": "2021-03-03T01:38:57.283832Z"
    }
   },
   "source": [
    "#### pd.merge(how='inner')\n",
    "예제 데이터에 Student 항목은 다 동일한 값이었는데, 겹치는 행이 일부만 있다면 어떻게 해야할까?"
   ]
  },
  {
   "cell_type": "code",
   "execution_count": 17,
   "id": "random-registration",
   "metadata": {
    "ExecuteTime": {
     "end_time": "2021-03-03T01:39:11.810953Z",
     "start_time": "2021-03-03T01:39:11.796190Z"
    }
   },
   "outputs": [
    {
     "name": "stdout",
     "output_type": "stream",
     "text": [
      "       Student  Korean  English\n",
      "0    KimTaemin      90       80\n",
      "1     HaJaehwa      85       90\n",
      "2  JungSayoung      88       40\n",
      "3     Sonjimin      35       44\n",
      "4    Leesoomin      40       55\n",
      "5      KangJun      44       90\n",
      "---\n",
      "      Student  Math\n",
      "0  Jiyoungmin    44\n",
      "1   KimTaemin    33\n"
     ]
    }
   ],
   "source": [
    "df1 = pd.DataFrame({'Student': ['KimTaemin','HaJaehwa','JungSayoung','Sonjimin','Leesoomin','KangJun'],\n",
    "                    'Korean': [90, 85, 88, 35, 40, 44],\n",
    "                    'English': [80, 90, 40, 44, 55, 90]})\n",
    "df2 = pd.DataFrame({'Student': ['Jiyoungmin','KimTaemin'],\n",
    "                    'Math':[44,33]})\n",
    "\n",
    "print(df1)\n",
    "print('---')\n",
    "print(df2)"
   ]
  },
  {
   "cell_type": "markdown",
   "id": "after-break",
   "metadata": {},
   "source": [
    "공통의 데이터에 대해서만 데이터를 합치는 것을 __inner join__ 이라고 한다. 꼭 Pandas가 아니더라도 관계형 데이터베이스 전반에 쓰이는 용어이다. `merge()`의 `how` 매개변수 기본값은 `\"inner\"` 이다. 따라서 아무것도 지정해 주지 않으면 inner join으로 연산된다."
   ]
  },
  {
   "cell_type": "code",
   "execution_count": 18,
   "id": "governing-throat",
   "metadata": {
    "ExecuteTime": {
     "end_time": "2021-03-03T01:40:30.158998Z",
     "start_time": "2021-03-03T01:40:30.149720Z"
    }
   },
   "outputs": [
    {
     "data": {
      "text/html": [
       "<div>\n",
       "<style scoped>\n",
       "    .dataframe tbody tr th:only-of-type {\n",
       "        vertical-align: middle;\n",
       "    }\n",
       "\n",
       "    .dataframe tbody tr th {\n",
       "        vertical-align: top;\n",
       "    }\n",
       "\n",
       "    .dataframe thead th {\n",
       "        text-align: right;\n",
       "    }\n",
       "</style>\n",
       "<table border=\"1\" class=\"dataframe\">\n",
       "  <thead>\n",
       "    <tr style=\"text-align: right;\">\n",
       "      <th></th>\n",
       "      <th>Student</th>\n",
       "      <th>Korean</th>\n",
       "      <th>English</th>\n",
       "      <th>Math</th>\n",
       "    </tr>\n",
       "  </thead>\n",
       "  <tbody>\n",
       "    <tr>\n",
       "      <th>0</th>\n",
       "      <td>KimTaemin</td>\n",
       "      <td>90</td>\n",
       "      <td>80</td>\n",
       "      <td>33</td>\n",
       "    </tr>\n",
       "  </tbody>\n",
       "</table>\n",
       "</div>"
      ],
      "text/plain": [
       "     Student  Korean  English  Math\n",
       "0  KimTaemin      90       80    33"
      ]
     },
     "execution_count": 18,
     "metadata": {},
     "output_type": "execute_result"
    }
   ],
   "source": [
    "pd.merge(df1, df2, how='inner')"
   ]
  },
  {
   "cell_type": "code",
   "execution_count": 19,
   "id": "voluntary-dealer",
   "metadata": {
    "ExecuteTime": {
     "end_time": "2021-03-03T01:40:36.404878Z",
     "start_time": "2021-03-03T01:40:36.396131Z"
    }
   },
   "outputs": [
    {
     "data": {
      "text/html": [
       "<div>\n",
       "<style scoped>\n",
       "    .dataframe tbody tr th:only-of-type {\n",
       "        vertical-align: middle;\n",
       "    }\n",
       "\n",
       "    .dataframe tbody tr th {\n",
       "        vertical-align: top;\n",
       "    }\n",
       "\n",
       "    .dataframe thead th {\n",
       "        text-align: right;\n",
       "    }\n",
       "</style>\n",
       "<table border=\"1\" class=\"dataframe\">\n",
       "  <thead>\n",
       "    <tr style=\"text-align: right;\">\n",
       "      <th></th>\n",
       "      <th>Student</th>\n",
       "      <th>Korean</th>\n",
       "      <th>English</th>\n",
       "      <th>Math</th>\n",
       "    </tr>\n",
       "  </thead>\n",
       "  <tbody>\n",
       "    <tr>\n",
       "      <th>0</th>\n",
       "      <td>KimTaemin</td>\n",
       "      <td>90</td>\n",
       "      <td>80</td>\n",
       "      <td>33</td>\n",
       "    </tr>\n",
       "  </tbody>\n",
       "</table>\n",
       "</div>"
      ],
      "text/plain": [
       "     Student  Korean  English  Math\n",
       "0  KimTaemin      90       80    33"
      ]
     },
     "execution_count": 19,
     "metadata": {},
     "output_type": "execute_result"
    }
   ],
   "source": [
    "pd.merge(df1, df2)"
   ]
  },
  {
   "cell_type": "markdown",
   "id": "pending-italian",
   "metadata": {},
   "source": [
    "#### pd.merge(how='outer')\n",
    "inner join이 있으면 outer join도 있을 것이다. outer join은 전체 데이터에 합치는 연산을 한다. `how`에 `\"outer\"` 값을 넘겨주면 된다.\n",
    "\n",
    "직접 실행하고 결괏값에 어떤 차이가 있는지 살펴보자."
   ]
  },
  {
   "cell_type": "code",
   "execution_count": 20,
   "id": "clean-going",
   "metadata": {
    "ExecuteTime": {
     "end_time": "2021-03-03T01:41:51.104628Z",
     "start_time": "2021-03-03T01:41:51.092319Z"
    }
   },
   "outputs": [
    {
     "data": {
      "text/html": [
       "<div>\n",
       "<style scoped>\n",
       "    .dataframe tbody tr th:only-of-type {\n",
       "        vertical-align: middle;\n",
       "    }\n",
       "\n",
       "    .dataframe tbody tr th {\n",
       "        vertical-align: top;\n",
       "    }\n",
       "\n",
       "    .dataframe thead th {\n",
       "        text-align: right;\n",
       "    }\n",
       "</style>\n",
       "<table border=\"1\" class=\"dataframe\">\n",
       "  <thead>\n",
       "    <tr style=\"text-align: right;\">\n",
       "      <th></th>\n",
       "      <th>Student</th>\n",
       "      <th>Korean</th>\n",
       "      <th>English</th>\n",
       "      <th>Math</th>\n",
       "    </tr>\n",
       "  </thead>\n",
       "  <tbody>\n",
       "    <tr>\n",
       "      <th>0</th>\n",
       "      <td>KimTaemin</td>\n",
       "      <td>90.0</td>\n",
       "      <td>80.0</td>\n",
       "      <td>33.0</td>\n",
       "    </tr>\n",
       "    <tr>\n",
       "      <th>1</th>\n",
       "      <td>HaJaehwa</td>\n",
       "      <td>85.0</td>\n",
       "      <td>90.0</td>\n",
       "      <td>NaN</td>\n",
       "    </tr>\n",
       "    <tr>\n",
       "      <th>2</th>\n",
       "      <td>JungSayoung</td>\n",
       "      <td>88.0</td>\n",
       "      <td>40.0</td>\n",
       "      <td>NaN</td>\n",
       "    </tr>\n",
       "    <tr>\n",
       "      <th>3</th>\n",
       "      <td>Sonjimin</td>\n",
       "      <td>35.0</td>\n",
       "      <td>44.0</td>\n",
       "      <td>NaN</td>\n",
       "    </tr>\n",
       "    <tr>\n",
       "      <th>4</th>\n",
       "      <td>Leesoomin</td>\n",
       "      <td>40.0</td>\n",
       "      <td>55.0</td>\n",
       "      <td>NaN</td>\n",
       "    </tr>\n",
       "    <tr>\n",
       "      <th>5</th>\n",
       "      <td>KangJun</td>\n",
       "      <td>44.0</td>\n",
       "      <td>90.0</td>\n",
       "      <td>NaN</td>\n",
       "    </tr>\n",
       "    <tr>\n",
       "      <th>6</th>\n",
       "      <td>Jiyoungmin</td>\n",
       "      <td>NaN</td>\n",
       "      <td>NaN</td>\n",
       "      <td>44.0</td>\n",
       "    </tr>\n",
       "  </tbody>\n",
       "</table>\n",
       "</div>"
      ],
      "text/plain": [
       "       Student  Korean  English  Math\n",
       "0    KimTaemin    90.0     80.0  33.0\n",
       "1     HaJaehwa    85.0     90.0   NaN\n",
       "2  JungSayoung    88.0     40.0   NaN\n",
       "3     Sonjimin    35.0     44.0   NaN\n",
       "4    Leesoomin    40.0     55.0   NaN\n",
       "5      KangJun    44.0     90.0   NaN\n",
       "6   Jiyoungmin     NaN      NaN  44.0"
      ]
     },
     "execution_count": 20,
     "metadata": {},
     "output_type": "execute_result"
    }
   ],
   "source": [
    "pd.merge(df1, df2, how='outer')"
   ]
  },
  {
   "cell_type": "markdown",
   "id": "actual-witch",
   "metadata": {},
   "source": [
    "#### df.join()\n",
    "`merge()` 대신 `join()` 메소드를 이용할 수도 있다. `join()` 은 `DataFrame` 클래스의 메소드이다."
   ]
  },
  {
   "cell_type": "code",
   "execution_count": 21,
   "id": "latter-thong",
   "metadata": {
    "ExecuteTime": {
     "end_time": "2021-03-03T01:46:18.308781Z",
     "start_time": "2021-03-03T01:46:18.289658Z"
    }
   },
   "outputs": [
    {
     "data": {
      "text/html": [
       "<div>\n",
       "<style scoped>\n",
       "    .dataframe tbody tr th:only-of-type {\n",
       "        vertical-align: middle;\n",
       "    }\n",
       "\n",
       "    .dataframe tbody tr th {\n",
       "        vertical-align: top;\n",
       "    }\n",
       "\n",
       "    .dataframe thead th {\n",
       "        text-align: right;\n",
       "    }\n",
       "</style>\n",
       "<table border=\"1\" class=\"dataframe\">\n",
       "  <thead>\n",
       "    <tr style=\"text-align: right;\">\n",
       "      <th></th>\n",
       "      <th>Student_caller</th>\n",
       "      <th>Korean</th>\n",
       "      <th>English</th>\n",
       "      <th>Student_other</th>\n",
       "      <th>Math</th>\n",
       "    </tr>\n",
       "  </thead>\n",
       "  <tbody>\n",
       "    <tr>\n",
       "      <th>0</th>\n",
       "      <td>KimTaemin</td>\n",
       "      <td>90</td>\n",
       "      <td>80</td>\n",
       "      <td>Jiyoungmin</td>\n",
       "      <td>44.0</td>\n",
       "    </tr>\n",
       "    <tr>\n",
       "      <th>1</th>\n",
       "      <td>HaJaehwa</td>\n",
       "      <td>85</td>\n",
       "      <td>90</td>\n",
       "      <td>KimTaemin</td>\n",
       "      <td>33.0</td>\n",
       "    </tr>\n",
       "    <tr>\n",
       "      <th>2</th>\n",
       "      <td>JungSayoung</td>\n",
       "      <td>88</td>\n",
       "      <td>40</td>\n",
       "      <td>NaN</td>\n",
       "      <td>NaN</td>\n",
       "    </tr>\n",
       "    <tr>\n",
       "      <th>3</th>\n",
       "      <td>Sonjimin</td>\n",
       "      <td>35</td>\n",
       "      <td>44</td>\n",
       "      <td>NaN</td>\n",
       "      <td>NaN</td>\n",
       "    </tr>\n",
       "    <tr>\n",
       "      <th>4</th>\n",
       "      <td>Leesoomin</td>\n",
       "      <td>40</td>\n",
       "      <td>55</td>\n",
       "      <td>NaN</td>\n",
       "      <td>NaN</td>\n",
       "    </tr>\n",
       "    <tr>\n",
       "      <th>5</th>\n",
       "      <td>KangJun</td>\n",
       "      <td>44</td>\n",
       "      <td>90</td>\n",
       "      <td>NaN</td>\n",
       "      <td>NaN</td>\n",
       "    </tr>\n",
       "  </tbody>\n",
       "</table>\n",
       "</div>"
      ],
      "text/plain": [
       "  Student_caller  Korean  English Student_other  Math\n",
       "0      KimTaemin      90       80    Jiyoungmin  44.0\n",
       "1       HaJaehwa      85       90     KimTaemin  33.0\n",
       "2    JungSayoung      88       40           NaN   NaN\n",
       "3       Sonjimin      35       44           NaN   NaN\n",
       "4      Leesoomin      40       55           NaN   NaN\n",
       "5        KangJun      44       90           NaN   NaN"
      ]
     },
     "execution_count": 21,
     "metadata": {},
     "output_type": "execute_result"
    }
   ],
   "source": [
    "df1.join(df2, how='outer', lsuffix='_caller', rsuffix='_other')   # '_caller'인 df1 컬럼이 왼쪽에 가도록 배치"
   ]
  },
  {
   "cell_type": "markdown",
   "id": "governing-pressure",
   "metadata": {},
   "source": [
    "#### df.concat()\n",
    "데이터를 합치는 또 다른 방법으로 이어 붙이기가 있다. 적층 또는 연결이라고 표현하기도 한다. 데이터의 칼럼을 늘리는 것이 아니라 데이터의 행을 합치는 것이다."
   ]
  },
  {
   "cell_type": "code",
   "execution_count": 22,
   "id": "illegal-justice",
   "metadata": {
    "ExecuteTime": {
     "end_time": "2021-03-03T01:46:45.748150Z",
     "start_time": "2021-03-03T01:46:45.739962Z"
    }
   },
   "outputs": [
    {
     "name": "stdout",
     "output_type": "stream",
     "text": [
      "       Student  Korean  English\n",
      "0    KimTaemin      90       80\n",
      "1     HaJaehwa      85       90\n",
      "2  JungSayoung      88       40\n",
      "3     Sonjimin      35       44\n",
      "4    Leesoomin      40       55\n",
      "5      KangJun      44       90\n",
      "      Student  Korean\n",
      "0  Jiyoungmin      44\n",
      "1      LeeJae      73\n",
      "2   KimJaehee     100\n"
     ]
    }
   ],
   "source": [
    "df1 = pd.DataFrame({'Student': ['KimTaemin','HaJaehwa','JungSayoung','Sonjimin','Leesoomin','KangJun'],\n",
    "                    'Korean': [90, 85, 88, 35, 40, 44],\n",
    "                    'English': [80, 90, 40, 44, 55, 90]})\n",
    "df2 = pd.DataFrame({'Student': ['Jiyoungmin','LeeJae','KimJaehee'],\n",
    "                    'Korean': [44,73,100]})\n",
    "\n",
    "print(df1)\n",
    "print(df2)"
   ]
  },
  {
   "cell_type": "code",
   "execution_count": 23,
   "id": "lesser-volunteer",
   "metadata": {
    "ExecuteTime": {
     "end_time": "2021-03-03T01:46:50.761226Z",
     "start_time": "2021-03-03T01:46:50.751768Z"
    }
   },
   "outputs": [
    {
     "data": {
      "text/html": [
       "<div>\n",
       "<style scoped>\n",
       "    .dataframe tbody tr th:only-of-type {\n",
       "        vertical-align: middle;\n",
       "    }\n",
       "\n",
       "    .dataframe tbody tr th {\n",
       "        vertical-align: top;\n",
       "    }\n",
       "\n",
       "    .dataframe thead th {\n",
       "        text-align: right;\n",
       "    }\n",
       "</style>\n",
       "<table border=\"1\" class=\"dataframe\">\n",
       "  <thead>\n",
       "    <tr style=\"text-align: right;\">\n",
       "      <th></th>\n",
       "      <th>Student</th>\n",
       "      <th>Korean</th>\n",
       "      <th>English</th>\n",
       "    </tr>\n",
       "  </thead>\n",
       "  <tbody>\n",
       "    <tr>\n",
       "      <th>0</th>\n",
       "      <td>KimTaemin</td>\n",
       "      <td>90</td>\n",
       "      <td>80.0</td>\n",
       "    </tr>\n",
       "    <tr>\n",
       "      <th>1</th>\n",
       "      <td>HaJaehwa</td>\n",
       "      <td>85</td>\n",
       "      <td>90.0</td>\n",
       "    </tr>\n",
       "    <tr>\n",
       "      <th>2</th>\n",
       "      <td>JungSayoung</td>\n",
       "      <td>88</td>\n",
       "      <td>40.0</td>\n",
       "    </tr>\n",
       "    <tr>\n",
       "      <th>3</th>\n",
       "      <td>Sonjimin</td>\n",
       "      <td>35</td>\n",
       "      <td>44.0</td>\n",
       "    </tr>\n",
       "    <tr>\n",
       "      <th>4</th>\n",
       "      <td>Leesoomin</td>\n",
       "      <td>40</td>\n",
       "      <td>55.0</td>\n",
       "    </tr>\n",
       "    <tr>\n",
       "      <th>5</th>\n",
       "      <td>KangJun</td>\n",
       "      <td>44</td>\n",
       "      <td>90.0</td>\n",
       "    </tr>\n",
       "    <tr>\n",
       "      <th>0</th>\n",
       "      <td>Jiyoungmin</td>\n",
       "      <td>44</td>\n",
       "      <td>NaN</td>\n",
       "    </tr>\n",
       "    <tr>\n",
       "      <th>1</th>\n",
       "      <td>LeeJae</td>\n",
       "      <td>73</td>\n",
       "      <td>NaN</td>\n",
       "    </tr>\n",
       "    <tr>\n",
       "      <th>2</th>\n",
       "      <td>KimJaehee</td>\n",
       "      <td>100</td>\n",
       "      <td>NaN</td>\n",
       "    </tr>\n",
       "  </tbody>\n",
       "</table>\n",
       "</div>"
      ],
      "text/plain": [
       "       Student  Korean  English\n",
       "0    KimTaemin      90     80.0\n",
       "1     HaJaehwa      85     90.0\n",
       "2  JungSayoung      88     40.0\n",
       "3     Sonjimin      35     44.0\n",
       "4    Leesoomin      40     55.0\n",
       "5      KangJun      44     90.0\n",
       "0   Jiyoungmin      44      NaN\n",
       "1       LeeJae      73      NaN\n",
       "2    KimJaehee     100      NaN"
      ]
     },
     "execution_count": 23,
     "metadata": {},
     "output_type": "execute_result"
    }
   ],
   "source": [
    "pd.concat([df1,df2], sort=False)"
   ]
  },
  {
   "cell_type": "code",
   "execution_count": 24,
   "id": "secure-tumor",
   "metadata": {
    "ExecuteTime": {
     "end_time": "2021-03-03T01:46:55.977235Z",
     "start_time": "2021-03-03T01:46:55.969167Z"
    }
   },
   "outputs": [
    {
     "data": {
      "text/html": [
       "<div>\n",
       "<style scoped>\n",
       "    .dataframe tbody tr th:only-of-type {\n",
       "        vertical-align: middle;\n",
       "    }\n",
       "\n",
       "    .dataframe tbody tr th {\n",
       "        vertical-align: top;\n",
       "    }\n",
       "\n",
       "    .dataframe thead th {\n",
       "        text-align: right;\n",
       "    }\n",
       "</style>\n",
       "<table border=\"1\" class=\"dataframe\">\n",
       "  <thead>\n",
       "    <tr style=\"text-align: right;\">\n",
       "      <th></th>\n",
       "      <th>Student</th>\n",
       "      <th>Korean</th>\n",
       "      <th>English</th>\n",
       "    </tr>\n",
       "  </thead>\n",
       "  <tbody>\n",
       "    <tr>\n",
       "      <th>0</th>\n",
       "      <td>KimTaemin</td>\n",
       "      <td>90</td>\n",
       "      <td>80.0</td>\n",
       "    </tr>\n",
       "    <tr>\n",
       "      <th>1</th>\n",
       "      <td>HaJaehwa</td>\n",
       "      <td>85</td>\n",
       "      <td>90.0</td>\n",
       "    </tr>\n",
       "    <tr>\n",
       "      <th>2</th>\n",
       "      <td>JungSayoung</td>\n",
       "      <td>88</td>\n",
       "      <td>40.0</td>\n",
       "    </tr>\n",
       "    <tr>\n",
       "      <th>3</th>\n",
       "      <td>Sonjimin</td>\n",
       "      <td>35</td>\n",
       "      <td>44.0</td>\n",
       "    </tr>\n",
       "    <tr>\n",
       "      <th>4</th>\n",
       "      <td>Leesoomin</td>\n",
       "      <td>40</td>\n",
       "      <td>55.0</td>\n",
       "    </tr>\n",
       "    <tr>\n",
       "      <th>5</th>\n",
       "      <td>KangJun</td>\n",
       "      <td>44</td>\n",
       "      <td>90.0</td>\n",
       "    </tr>\n",
       "    <tr>\n",
       "      <th>6</th>\n",
       "      <td>Jiyoungmin</td>\n",
       "      <td>44</td>\n",
       "      <td>NaN</td>\n",
       "    </tr>\n",
       "    <tr>\n",
       "      <th>7</th>\n",
       "      <td>LeeJae</td>\n",
       "      <td>73</td>\n",
       "      <td>NaN</td>\n",
       "    </tr>\n",
       "    <tr>\n",
       "      <th>8</th>\n",
       "      <td>KimJaehee</td>\n",
       "      <td>100</td>\n",
       "      <td>NaN</td>\n",
       "    </tr>\n",
       "  </tbody>\n",
       "</table>\n",
       "</div>"
      ],
      "text/plain": [
       "       Student  Korean  English\n",
       "0    KimTaemin      90     80.0\n",
       "1     HaJaehwa      85     90.0\n",
       "2  JungSayoung      88     40.0\n",
       "3     Sonjimin      35     44.0\n",
       "4    Leesoomin      40     55.0\n",
       "5      KangJun      44     90.0\n",
       "6   Jiyoungmin      44      NaN\n",
       "7       LeeJae      73      NaN\n",
       "8    KimJaehee     100      NaN"
      ]
     },
     "execution_count": 24,
     "metadata": {},
     "output_type": "execute_result"
    }
   ],
   "source": [
    "pd.concat([df1, df2], sort=False, ignore_index=True)"
   ]
  },
  {
   "cell_type": "markdown",
   "id": "imported-voltage",
   "metadata": {},
   "source": [
    "인덱스가 처음부터 시작하는 경우가 있는데 그때는 `ignore_index` 인자를 `True`로 설정해준다.\n",
    "\n",
    "Pandas의 주요 메소드 `merge()`, `join()`, `concat()` 를 사용해 데이터를 합치는 방법에 대해서 살펴보았다.\n",
    "\n",
    "데이터를 합치는 __join__ 연산은 데이터 연산에 있어서 굉장히 중요한 개념이다. 위에서는 join 연산을 Pandas의 `merge()`와 `join()`으로 구현해 보았는데, 데이터 연산용 언어인 SQL에서도 비슷한 단어와 의미로 표현한다.\n",
    "\n",
    "<img src=\"./image/sqljoin.png\" alt=\"sqljoin\" />"
   ]
  },
  {
   "cell_type": "markdown",
   "id": "grand-ladder",
   "metadata": {},
   "source": [
    "## 4. 데이터 관리 프로그램 만들기 (3) Pandas의 유용한 기능들\n",
    "Pandas를 사용할 경우, 그렇지 않았다면 매번 힘들게 구현해야 했을 많은 기능을 Pandas를 통해 손쉽게 얻을 수 있다. Pandas가 내부적으로 인덱스(index)를 가지고 있어서 필터링, 탐색, 그룹 질의 등을 매우 빠르게 수행해 주기 때문이다."
   ]
  },
  {
   "cell_type": "markdown",
   "id": "unnecessary-cathedral",
   "metadata": {},
   "source": [
    "### 필터링 연산\n",
    "---\n",
    "이번에는 조건에 따라 특정 데이터를 선택하는 방법, 즉 데이터 필터링 연산에 대해 알아보자.\n",
    "\n",
    "필터링 방법에는 몇 가지 방법이 있다. 경우에 따라 몇 개의 행들을 먼저 고르고 거기서 원하는 컬럼만 선택하거나, 혹은 컬럼을 먼저 선택한 다음 특정 행만 선택하는 순서로 데이터를 필터링 할 수도 있다.\n",
    "\n",
    "아래에서 실험해 보기 위한 데이터 프레임을 먼저 만들자."
   ]
  },
  {
   "cell_type": "code",
   "execution_count": 25,
   "id": "champion-extreme",
   "metadata": {
    "ExecuteTime": {
     "end_time": "2021-03-03T01:52:25.220901Z",
     "start_time": "2021-03-03T01:52:25.213462Z"
    }
   },
   "outputs": [
    {
     "data": {
      "text/html": [
       "<div>\n",
       "<style scoped>\n",
       "    .dataframe tbody tr th:only-of-type {\n",
       "        vertical-align: middle;\n",
       "    }\n",
       "\n",
       "    .dataframe tbody tr th {\n",
       "        vertical-align: top;\n",
       "    }\n",
       "\n",
       "    .dataframe thead th {\n",
       "        text-align: right;\n",
       "    }\n",
       "</style>\n",
       "<table border=\"1\" class=\"dataframe\">\n",
       "  <thead>\n",
       "    <tr style=\"text-align: right;\">\n",
       "      <th></th>\n",
       "      <th>A</th>\n",
       "      <th>B</th>\n",
       "      <th>C</th>\n",
       "    </tr>\n",
       "  </thead>\n",
       "  <tbody>\n",
       "    <tr>\n",
       "      <th>0</th>\n",
       "      <td>1</td>\n",
       "      <td>2</td>\n",
       "      <td>3</td>\n",
       "    </tr>\n",
       "    <tr>\n",
       "      <th>1</th>\n",
       "      <td>4</td>\n",
       "      <td>5</td>\n",
       "      <td>6</td>\n",
       "    </tr>\n",
       "    <tr>\n",
       "      <th>2</th>\n",
       "      <td>7</td>\n",
       "      <td>8</td>\n",
       "      <td>9</td>\n",
       "    </tr>\n",
       "  </tbody>\n",
       "</table>\n",
       "</div>"
      ],
      "text/plain": [
       "   A  B  C\n",
       "0  1  2  3\n",
       "1  4  5  6\n",
       "2  7  8  9"
      ]
     },
     "execution_count": 25,
     "metadata": {},
     "output_type": "execute_result"
    }
   ],
   "source": [
    "df = pd.DataFrame({\"A\": [1,4,7], \"B\": [2,5,8], \"C\":[3,6,9]})\n",
    "\n",
    "df"
   ]
  },
  {
   "cell_type": "markdown",
   "id": "infrared-memorial",
   "metadata": {},
   "source": [
    "#### 1. df['컬럼 명'] 형식 사용\n",
    "데이터 프레임에 대괄호 기호를 쓰고 컬럼 명을 입력한다."
   ]
  },
  {
   "cell_type": "code",
   "execution_count": 26,
   "id": "quick-cycle",
   "metadata": {
    "ExecuteTime": {
     "end_time": "2021-03-03T01:52:48.688479Z",
     "start_time": "2021-03-03T01:52:48.685055Z"
    }
   },
   "outputs": [
    {
     "data": {
      "text/plain": [
       "0    1\n",
       "1    4\n",
       "2    7\n",
       "Name: A, dtype: int64"
      ]
     },
     "execution_count": 26,
     "metadata": {},
     "output_type": "execute_result"
    }
   ],
   "source": [
    "df['A']"
   ]
  },
  {
   "cell_type": "markdown",
   "id": "cooperative-moldova",
   "metadata": {},
   "source": [
    "#### 2. loc() 사용\n",
    "`loc()`은 라벨 을 사용하여 행 또는 열(컬럼)을 지정, 데이터를 추출한다. 사용 형식은 다음의 식으로 기억하자.\n",
    "\n",
    "```python\n",
    "df.loc[[행],[열]]\n",
    "```\n",
    "\n",
    "아래부터는 살짝 헷갈릴 수 있으니 하나씩 실행하고, 결괏값이 왜 그렇게 나왔는지 차근차근 고민하고 이해하자.\n",
    "\n"
   ]
  },
  {
   "cell_type": "code",
   "execution_count": 27,
   "id": "primary-terrain",
   "metadata": {
    "ExecuteTime": {
     "end_time": "2021-03-03T01:53:43.075585Z",
     "start_time": "2021-03-03T01:53:43.072041Z"
    }
   },
   "outputs": [
    {
     "name": "stdout",
     "output_type": "stream",
     "text": [
      "A    1\n",
      "B    2\n",
      "C    3\n",
      "Name: 0, dtype: int64\n"
     ]
    }
   ],
   "source": [
    "print(df.loc[0])"
   ]
  },
  {
   "cell_type": "code",
   "execution_count": 28,
   "id": "about-expansion",
   "metadata": {
    "ExecuteTime": {
     "end_time": "2021-03-03T01:54:17.042733Z",
     "start_time": "2021-03-03T01:54:17.040005Z"
    }
   },
   "outputs": [
    {
     "name": "stdout",
     "output_type": "stream",
     "text": [
      "2\n"
     ]
    }
   ],
   "source": [
    "print(df.loc[0, 'B'])"
   ]
  },
  {
   "cell_type": "markdown",
   "id": "elementary-finance",
   "metadata": {},
   "source": [
    "loc는 리스트의 슬라이스 연산과 비슷한 부분도 있다."
   ]
  },
  {
   "cell_type": "code",
   "execution_count": 29,
   "id": "obvious-gamma",
   "metadata": {
    "ExecuteTime": {
     "end_time": "2021-03-03T01:54:36.850427Z",
     "start_time": "2021-03-03T01:54:36.847574Z"
    }
   },
   "outputs": [
    {
     "name": "stdout",
     "output_type": "stream",
     "text": [
      "0    1\n",
      "1    4\n",
      "2    7\n",
      "Name: A, dtype: int64\n"
     ]
    }
   ],
   "source": [
    "print(df.loc[:, 'A'])"
   ]
  },
  {
   "cell_type": "markdown",
   "id": "published-handle",
   "metadata": {},
   "source": [
    "#### 3. iloc() 사용\n",
    "`iloc()`은 정수 인덱스 를 사용하여 행 또는 열(컬럼)을 지정, 데이터를 추출한다.\n",
    "\n",
    "```python\n",
    "df.iloc[[행],[열]]\n",
    "```\n",
    "\n",
    "마찬가지로 살짝 헷갈릴 수 있으니 하나씩 실행하고, 결괏값이 왜 그렇게 나왔는지 차근차근 고민하고 이해해야한다. 위에서 나온 `loc()` 과도 비교해보자."
   ]
  },
  {
   "cell_type": "code",
   "execution_count": 30,
   "id": "vertical-companion",
   "metadata": {
    "ExecuteTime": {
     "end_time": "2021-03-03T01:55:44.237393Z",
     "start_time": "2021-03-03T01:55:44.234362Z"
    }
   },
   "outputs": [
    {
     "name": "stdout",
     "output_type": "stream",
     "text": [
      "A    1\n",
      "B    2\n",
      "C    3\n",
      "Name: 0, dtype: int64\n"
     ]
    }
   ],
   "source": [
    "print(df.iloc[0])"
   ]
  },
  {
   "cell_type": "code",
   "execution_count": 31,
   "id": "headed-position",
   "metadata": {
    "ExecuteTime": {
     "end_time": "2021-03-03T01:55:50.229245Z",
     "start_time": "2021-03-03T01:55:50.226412Z"
    }
   },
   "outputs": [
    {
     "name": "stdout",
     "output_type": "stream",
     "text": [
      "0    1\n",
      "1    4\n",
      "2    7\n",
      "Name: A, dtype: int64\n"
     ]
    }
   ],
   "source": [
    "print(df.iloc[:, 0])"
   ]
  },
  {
   "cell_type": "markdown",
   "id": "employed-grave",
   "metadata": {},
   "source": [
    "`iloc()`에 컬럼 이름을 주면 어떻게 될까?"
   ]
  },
  {
   "cell_type": "code",
   "execution_count": 32,
   "id": "perceived-destination",
   "metadata": {
    "ExecuteTime": {
     "end_time": "2021-03-03T01:56:13.965671Z",
     "start_time": "2021-03-03T01:56:13.941214Z"
    }
   },
   "outputs": [
    {
     "ename": "ValueError",
     "evalue": "Location based indexing can only have [integer, integer slice (START point is INCLUDED, END point is EXCLUDED), listlike of integers, boolean array] types",
     "output_type": "error",
     "traceback": [
      "\u001b[0;31m---------------------------------------------------------------------------\u001b[0m",
      "\u001b[0;31mValueError\u001b[0m                                Traceback (most recent call last)",
      "\u001b[0;32m~/anaconda3/envs/aiffel/lib/python3.7/site-packages/pandas/core/indexing.py\u001b[0m in \u001b[0;36m_has_valid_tuple\u001b[0;34m(self, key)\u001b[0m\n\u001b[1;32m    701\u001b[0m             \u001b[0;32mtry\u001b[0m\u001b[0;34m:\u001b[0m\u001b[0;34m\u001b[0m\u001b[0;34m\u001b[0m\u001b[0m\n\u001b[0;32m--> 702\u001b[0;31m                 \u001b[0mself\u001b[0m\u001b[0;34m.\u001b[0m\u001b[0m_validate_key\u001b[0m\u001b[0;34m(\u001b[0m\u001b[0mk\u001b[0m\u001b[0;34m,\u001b[0m \u001b[0mi\u001b[0m\u001b[0;34m)\u001b[0m\u001b[0;34m\u001b[0m\u001b[0;34m\u001b[0m\u001b[0m\n\u001b[0m\u001b[1;32m    703\u001b[0m             \u001b[0;32mexcept\u001b[0m \u001b[0mValueError\u001b[0m \u001b[0;32mas\u001b[0m \u001b[0merr\u001b[0m\u001b[0;34m:\u001b[0m\u001b[0;34m\u001b[0m\u001b[0;34m\u001b[0m\u001b[0m\n",
      "\u001b[0;32m~/anaconda3/envs/aiffel/lib/python3.7/site-packages/pandas/core/indexing.py\u001b[0m in \u001b[0;36m_validate_key\u001b[0;34m(self, key, axis)\u001b[0m\n\u001b[1;32m   1368\u001b[0m         \u001b[0;32melse\u001b[0m\u001b[0;34m:\u001b[0m\u001b[0;34m\u001b[0m\u001b[0;34m\u001b[0m\u001b[0m\n\u001b[0;32m-> 1369\u001b[0;31m             \u001b[0;32mraise\u001b[0m \u001b[0mValueError\u001b[0m\u001b[0;34m(\u001b[0m\u001b[0;34mf\"Can only index by location with a [{self._valid_types}]\"\u001b[0m\u001b[0;34m)\u001b[0m\u001b[0;34m\u001b[0m\u001b[0;34m\u001b[0m\u001b[0m\n\u001b[0m\u001b[1;32m   1370\u001b[0m \u001b[0;34m\u001b[0m\u001b[0m\n",
      "\u001b[0;31mValueError\u001b[0m: Can only index by location with a [integer, integer slice (START point is INCLUDED, END point is EXCLUDED), listlike of integers, boolean array]",
      "\nThe above exception was the direct cause of the following exception:\n",
      "\u001b[0;31mValueError\u001b[0m                                Traceback (most recent call last)",
      "\u001b[0;32m<ipython-input-32-61e373a56f08>\u001b[0m in \u001b[0;36m<module>\u001b[0;34m\u001b[0m\n\u001b[0;32m----> 1\u001b[0;31m \u001b[0mprint\u001b[0m\u001b[0;34m(\u001b[0m\u001b[0mdf\u001b[0m\u001b[0;34m.\u001b[0m\u001b[0miloc\u001b[0m\u001b[0;34m[\u001b[0m\u001b[0;36m0\u001b[0m\u001b[0;34m,\u001b[0m \u001b[0;34m'B'\u001b[0m\u001b[0;34m]\u001b[0m\u001b[0;34m)\u001b[0m\u001b[0;34m\u001b[0m\u001b[0;34m\u001b[0m\u001b[0m\n\u001b[0m",
      "\u001b[0;32m~/anaconda3/envs/aiffel/lib/python3.7/site-packages/pandas/core/indexing.py\u001b[0m in \u001b[0;36m__getitem__\u001b[0;34m(self, key)\u001b[0m\n\u001b[1;32m    871\u001b[0m                     \u001b[0;31m# AttributeError for IntervalTree get_value\u001b[0m\u001b[0;34m\u001b[0m\u001b[0;34m\u001b[0m\u001b[0;34m\u001b[0m\u001b[0m\n\u001b[1;32m    872\u001b[0m                     \u001b[0;32mpass\u001b[0m\u001b[0;34m\u001b[0m\u001b[0;34m\u001b[0m\u001b[0m\n\u001b[0;32m--> 873\u001b[0;31m             \u001b[0;32mreturn\u001b[0m \u001b[0mself\u001b[0m\u001b[0;34m.\u001b[0m\u001b[0m_getitem_tuple\u001b[0m\u001b[0;34m(\u001b[0m\u001b[0mkey\u001b[0m\u001b[0;34m)\u001b[0m\u001b[0;34m\u001b[0m\u001b[0;34m\u001b[0m\u001b[0m\n\u001b[0m\u001b[1;32m    874\u001b[0m         \u001b[0;32melse\u001b[0m\u001b[0;34m:\u001b[0m\u001b[0;34m\u001b[0m\u001b[0;34m\u001b[0m\u001b[0m\n\u001b[1;32m    875\u001b[0m             \u001b[0;31m# we by definition only have the 0th axis\u001b[0m\u001b[0;34m\u001b[0m\u001b[0;34m\u001b[0m\u001b[0;34m\u001b[0m\u001b[0m\n",
      "\u001b[0;32m~/anaconda3/envs/aiffel/lib/python3.7/site-packages/pandas/core/indexing.py\u001b[0m in \u001b[0;36m_getitem_tuple\u001b[0;34m(self, tup)\u001b[0m\n\u001b[1;32m   1441\u001b[0m     \u001b[0;32mdef\u001b[0m \u001b[0m_getitem_tuple\u001b[0m\u001b[0;34m(\u001b[0m\u001b[0mself\u001b[0m\u001b[0;34m,\u001b[0m \u001b[0mtup\u001b[0m\u001b[0;34m:\u001b[0m \u001b[0mTuple\u001b[0m\u001b[0;34m)\u001b[0m\u001b[0;34m:\u001b[0m\u001b[0;34m\u001b[0m\u001b[0;34m\u001b[0m\u001b[0m\n\u001b[1;32m   1442\u001b[0m \u001b[0;34m\u001b[0m\u001b[0m\n\u001b[0;32m-> 1443\u001b[0;31m         \u001b[0mself\u001b[0m\u001b[0;34m.\u001b[0m\u001b[0m_has_valid_tuple\u001b[0m\u001b[0;34m(\u001b[0m\u001b[0mtup\u001b[0m\u001b[0;34m)\u001b[0m\u001b[0;34m\u001b[0m\u001b[0;34m\u001b[0m\u001b[0m\n\u001b[0m\u001b[1;32m   1444\u001b[0m         \u001b[0;32mtry\u001b[0m\u001b[0;34m:\u001b[0m\u001b[0;34m\u001b[0m\u001b[0;34m\u001b[0m\u001b[0m\n\u001b[1;32m   1445\u001b[0m             \u001b[0;32mreturn\u001b[0m \u001b[0mself\u001b[0m\u001b[0;34m.\u001b[0m\u001b[0m_getitem_lowerdim\u001b[0m\u001b[0;34m(\u001b[0m\u001b[0mtup\u001b[0m\u001b[0;34m)\u001b[0m\u001b[0;34m\u001b[0m\u001b[0;34m\u001b[0m\u001b[0m\n",
      "\u001b[0;32m~/anaconda3/envs/aiffel/lib/python3.7/site-packages/pandas/core/indexing.py\u001b[0m in \u001b[0;36m_has_valid_tuple\u001b[0;34m(self, key)\u001b[0m\n\u001b[1;32m    705\u001b[0m                     \u001b[0;34m\"Location based indexing can only have \"\u001b[0m\u001b[0;34m\u001b[0m\u001b[0;34m\u001b[0m\u001b[0m\n\u001b[1;32m    706\u001b[0m                     \u001b[0;34mf\"[{self._valid_types}] types\"\u001b[0m\u001b[0;34m\u001b[0m\u001b[0;34m\u001b[0m\u001b[0m\n\u001b[0;32m--> 707\u001b[0;31m                 ) from err\n\u001b[0m\u001b[1;32m    708\u001b[0m \u001b[0;34m\u001b[0m\u001b[0m\n\u001b[1;32m    709\u001b[0m     \u001b[0;32mdef\u001b[0m \u001b[0m_is_nested_tuple_indexer\u001b[0m\u001b[0;34m(\u001b[0m\u001b[0mself\u001b[0m\u001b[0;34m,\u001b[0m \u001b[0mtup\u001b[0m\u001b[0;34m:\u001b[0m \u001b[0mTuple\u001b[0m\u001b[0;34m)\u001b[0m \u001b[0;34m->\u001b[0m \u001b[0mbool\u001b[0m\u001b[0;34m:\u001b[0m\u001b[0;34m\u001b[0m\u001b[0;34m\u001b[0m\u001b[0m\n",
      "\u001b[0;31mValueError\u001b[0m: Location based indexing can only have [integer, integer slice (START point is INCLUDED, END point is EXCLUDED), listlike of integers, boolean array] types"
     ]
    }
   ],
   "source": [
    "print(df.iloc[0, 'B'])"
   ]
  },
  {
   "cell_type": "markdown",
   "id": "caroline-garage",
   "metadata": {},
   "source": [
    "에러가 난다. 의도를 추측해 고쳐보건대, 다음처럼 사용해야 한다."
   ]
  },
  {
   "cell_type": "code",
   "execution_count": 33,
   "id": "postal-sunglasses",
   "metadata": {
    "ExecuteTime": {
     "end_time": "2021-03-03T01:56:39.547045Z",
     "start_time": "2021-03-03T01:56:39.544400Z"
    }
   },
   "outputs": [
    {
     "name": "stdout",
     "output_type": "stream",
     "text": [
      "2\n"
     ]
    }
   ],
   "source": [
    "print(df.iloc[0, 1])"
   ]
  },
  {
   "cell_type": "markdown",
   "id": "duplicate-jones",
   "metadata": {},
   "source": [
    "### 그룹연산: `groupby()`, `apply()`\n",
    "---\n",
    "값을 선택하거나 데이터를 정렬할 때 기준이 되는 값을 키(key)라고 부른다. 일반적인 데이터베이스에서는 이 키 값에 따라 그룹을 묶은(grouping) 뒤 원하는 연산을 수행할 수 있다. Pandas에서는 `groupby()` 연산이라고 한다."
   ]
  },
  {
   "cell_type": "markdown",
   "id": "colonial-cowboy",
   "metadata": {},
   "source": [
    "#### groupby() 연산 메커니즘"
   ]
  },
  {
   "cell_type": "code",
   "execution_count": 34,
   "id": "strong-divorce",
   "metadata": {
    "ExecuteTime": {
     "end_time": "2021-03-03T01:57:44.128749Z",
     "start_time": "2021-03-03T01:57:44.120290Z"
    }
   },
   "outputs": [
    {
     "data": {
      "text/html": [
       "<div>\n",
       "<style scoped>\n",
       "    .dataframe tbody tr th:only-of-type {\n",
       "        vertical-align: middle;\n",
       "    }\n",
       "\n",
       "    .dataframe tbody tr th {\n",
       "        vertical-align: top;\n",
       "    }\n",
       "\n",
       "    .dataframe thead th {\n",
       "        text-align: right;\n",
       "    }\n",
       "</style>\n",
       "<table border=\"1\" class=\"dataframe\">\n",
       "  <thead>\n",
       "    <tr style=\"text-align: right;\">\n",
       "      <th></th>\n",
       "      <th>Columns1</th>\n",
       "      <th>Columns2</th>\n",
       "    </tr>\n",
       "  </thead>\n",
       "  <tbody>\n",
       "    <tr>\n",
       "      <th>0</th>\n",
       "      <td>A</td>\n",
       "      <td>10</td>\n",
       "    </tr>\n",
       "    <tr>\n",
       "      <th>1</th>\n",
       "      <td>A</td>\n",
       "      <td>2</td>\n",
       "    </tr>\n",
       "    <tr>\n",
       "      <th>2</th>\n",
       "      <td>B</td>\n",
       "      <td>30</td>\n",
       "    </tr>\n",
       "    <tr>\n",
       "      <th>3</th>\n",
       "      <td>B</td>\n",
       "      <td>-6</td>\n",
       "    </tr>\n",
       "    <tr>\n",
       "      <th>4</th>\n",
       "      <td>C</td>\n",
       "      <td>8</td>\n",
       "    </tr>\n",
       "    <tr>\n",
       "      <th>5</th>\n",
       "      <td>C</td>\n",
       "      <td>9</td>\n",
       "    </tr>\n",
       "    <tr>\n",
       "      <th>6</th>\n",
       "      <td>A</td>\n",
       "      <td>5</td>\n",
       "    </tr>\n",
       "    <tr>\n",
       "      <th>7</th>\n",
       "      <td>B</td>\n",
       "      <td>2</td>\n",
       "    </tr>\n",
       "  </tbody>\n",
       "</table>\n",
       "</div>"
      ],
      "text/plain": [
       "  Columns1  Columns2\n",
       "0        A        10\n",
       "1        A         2\n",
       "2        B        30\n",
       "3        B        -6\n",
       "4        C         8\n",
       "5        C         9\n",
       "6        A         5\n",
       "7        B         2"
      ]
     },
     "execution_count": 34,
     "metadata": {},
     "output_type": "execute_result"
    }
   ],
   "source": [
    "df = pd.DataFrame({'Columns1':['A','A','B','B','C','C','A','B'],\n",
    "                   'Columns2':[10, 2, 30, -6, 8, 9, 5, 2]})\n",
    "\n",
    "df"
   ]
  },
  {
   "cell_type": "markdown",
   "id": "novel-syntax",
   "metadata": {},
   "source": [
    "* groupby()객체를 생성\n",
    "* groupby()객체의 연산을 수행\n",
    "    - max(), min(), sum(), mean()\n",
    "    - +apply() 메소드를 통해 특수 수식에 대한 연산을 수행할 수 있다."
   ]
  },
  {
   "cell_type": "markdown",
   "id": "divine-diploma",
   "metadata": {},
   "source": [
    "#### apply()"
   ]
  },
  {
   "cell_type": "code",
   "execution_count": 36,
   "id": "cultural-authentication",
   "metadata": {
    "ExecuteTime": {
     "end_time": "2021-03-03T01:58:39.223301Z",
     "start_time": "2021-03-03T01:58:39.216361Z"
    }
   },
   "outputs": [
    {
     "data": {
      "text/html": [
       "<div>\n",
       "<style scoped>\n",
       "    .dataframe tbody tr th:only-of-type {\n",
       "        vertical-align: middle;\n",
       "    }\n",
       "\n",
       "    .dataframe tbody tr th {\n",
       "        vertical-align: top;\n",
       "    }\n",
       "\n",
       "    .dataframe thead th {\n",
       "        text-align: right;\n",
       "    }\n",
       "</style>\n",
       "<table border=\"1\" class=\"dataframe\">\n",
       "  <thead>\n",
       "    <tr style=\"text-align: right;\">\n",
       "      <th></th>\n",
       "      <th>Columns2</th>\n",
       "    </tr>\n",
       "    <tr>\n",
       "      <th>Columns1</th>\n",
       "      <th></th>\n",
       "    </tr>\n",
       "  </thead>\n",
       "  <tbody>\n",
       "    <tr>\n",
       "      <th>A</th>\n",
       "      <td>3.162278</td>\n",
       "    </tr>\n",
       "    <tr>\n",
       "      <th>B</th>\n",
       "      <td>5.477226</td>\n",
       "    </tr>\n",
       "    <tr>\n",
       "      <th>C</th>\n",
       "      <td>3.000000</td>\n",
       "    </tr>\n",
       "  </tbody>\n",
       "</table>\n",
       "</div>"
      ],
      "text/plain": [
       "          Columns2\n",
       "Columns1          \n",
       "A         3.162278\n",
       "B         5.477226\n",
       "C         3.000000"
      ]
     },
     "execution_count": 36,
     "metadata": {},
     "output_type": "execute_result"
    }
   ],
   "source": [
    "import numpy as  np\n",
    "df.groupby(['Columns1']).max().apply(np.sqrt)"
   ]
  },
  {
   "cell_type": "markdown",
   "id": "smoking-melbourne",
   "metadata": {},
   "source": [
    "## 5. 데이터 관리 프로그램 만들기 (4) Pandas Transform 실전 연습\n",
    "Pandas의 강력하고 유용한 기능들을 통해 실전형 데이터 관리 프로그램 구현에 한 발 더 다가서게 되었다. 아래 문제는 [Anaconda의 SF 임금 예제](https://anaconda.org/gwinnen/sf-salaries-exercise/notebook)를 한글로 번역한 것이다. 직원 임금 관리 프로그램을 제작한다면 필요한 예제를 통해 Pandas 활용의 전문가가 되어보자."
   ]
  },
  {
   "cell_type": "markdown",
   "id": "fourth-singing",
   "metadata": {},
   "source": [
    "### 데이터\n",
    "---\n",
    "문제를 풀기 위해 데이터를 불러오자"
   ]
  },
  {
   "cell_type": "code",
   "execution_count": 37,
   "id": "legitimate-connectivity",
   "metadata": {
    "ExecuteTime": {
     "end_time": "2021-03-03T02:22:33.816270Z",
     "start_time": "2021-03-03T02:22:33.607986Z"
    }
   },
   "outputs": [
    {
     "name": "stderr",
     "output_type": "stream",
     "text": [
      "/home/aiffel-dj10/anaconda3/envs/aiffel/lib/python3.7/site-packages/IPython/core/interactiveshell.py:3156: DtypeWarning: Columns (12) have mixed types.Specify dtype option on import or set low_memory=False.\n",
      "  interactivity=interactivity, compiler=compiler, result=result)\n"
     ]
    },
    {
     "data": {
      "text/html": [
       "<div>\n",
       "<style scoped>\n",
       "    .dataframe tbody tr th:only-of-type {\n",
       "        vertical-align: middle;\n",
       "    }\n",
       "\n",
       "    .dataframe tbody tr th {\n",
       "        vertical-align: top;\n",
       "    }\n",
       "\n",
       "    .dataframe thead th {\n",
       "        text-align: right;\n",
       "    }\n",
       "</style>\n",
       "<table border=\"1\" class=\"dataframe\">\n",
       "  <thead>\n",
       "    <tr style=\"text-align: right;\">\n",
       "      <th></th>\n",
       "      <th>Id</th>\n",
       "      <th>EmployeeName</th>\n",
       "      <th>JobTitle</th>\n",
       "      <th>BasePay</th>\n",
       "      <th>OvertimePay</th>\n",
       "      <th>OtherPay</th>\n",
       "      <th>Benefits</th>\n",
       "      <th>TotalPay</th>\n",
       "      <th>TotalPayBenefits</th>\n",
       "      <th>Year</th>\n",
       "      <th>Notes</th>\n",
       "      <th>Agency</th>\n",
       "      <th>Status</th>\n",
       "    </tr>\n",
       "  </thead>\n",
       "  <tbody>\n",
       "    <tr>\n",
       "      <th>0</th>\n",
       "      <td>1</td>\n",
       "      <td>NATHANIEL FORD</td>\n",
       "      <td>GENERAL MANAGER-METROPOLITAN TRANSIT AUTHORITY</td>\n",
       "      <td>167411.18</td>\n",
       "      <td>0.00</td>\n",
       "      <td>400184.25</td>\n",
       "      <td>NaN</td>\n",
       "      <td>567595.43</td>\n",
       "      <td>567595.43</td>\n",
       "      <td>2011</td>\n",
       "      <td>NaN</td>\n",
       "      <td>San Francisco</td>\n",
       "      <td>NaN</td>\n",
       "    </tr>\n",
       "    <tr>\n",
       "      <th>1</th>\n",
       "      <td>2</td>\n",
       "      <td>GARY JIMENEZ</td>\n",
       "      <td>CAPTAIN III (POLICE DEPARTMENT)</td>\n",
       "      <td>155966.02</td>\n",
       "      <td>245131.88</td>\n",
       "      <td>137811.38</td>\n",
       "      <td>NaN</td>\n",
       "      <td>538909.28</td>\n",
       "      <td>538909.28</td>\n",
       "      <td>2011</td>\n",
       "      <td>NaN</td>\n",
       "      <td>San Francisco</td>\n",
       "      <td>NaN</td>\n",
       "    </tr>\n",
       "    <tr>\n",
       "      <th>2</th>\n",
       "      <td>3</td>\n",
       "      <td>ALBERT PARDINI</td>\n",
       "      <td>CAPTAIN III (POLICE DEPARTMENT)</td>\n",
       "      <td>212739.13</td>\n",
       "      <td>106088.18</td>\n",
       "      <td>16452.60</td>\n",
       "      <td>NaN</td>\n",
       "      <td>335279.91</td>\n",
       "      <td>335279.91</td>\n",
       "      <td>2011</td>\n",
       "      <td>NaN</td>\n",
       "      <td>San Francisco</td>\n",
       "      <td>NaN</td>\n",
       "    </tr>\n",
       "    <tr>\n",
       "      <th>3</th>\n",
       "      <td>4</td>\n",
       "      <td>CHRISTOPHER CHONG</td>\n",
       "      <td>WIRE ROPE CABLE MAINTENANCE MECHANIC</td>\n",
       "      <td>77916.00</td>\n",
       "      <td>56120.71</td>\n",
       "      <td>198306.90</td>\n",
       "      <td>NaN</td>\n",
       "      <td>332343.61</td>\n",
       "      <td>332343.61</td>\n",
       "      <td>2011</td>\n",
       "      <td>NaN</td>\n",
       "      <td>San Francisco</td>\n",
       "      <td>NaN</td>\n",
       "    </tr>\n",
       "    <tr>\n",
       "      <th>4</th>\n",
       "      <td>5</td>\n",
       "      <td>PATRICK GARDNER</td>\n",
       "      <td>DEPUTY CHIEF OF DEPARTMENT,(FIRE DEPARTMENT)</td>\n",
       "      <td>134401.60</td>\n",
       "      <td>9737.00</td>\n",
       "      <td>182234.59</td>\n",
       "      <td>NaN</td>\n",
       "      <td>326373.19</td>\n",
       "      <td>326373.19</td>\n",
       "      <td>2011</td>\n",
       "      <td>NaN</td>\n",
       "      <td>San Francisco</td>\n",
       "      <td>NaN</td>\n",
       "    </tr>\n",
       "  </tbody>\n",
       "</table>\n",
       "</div>"
      ],
      "text/plain": [
       "   Id       EmployeeName                                        JobTitle  \\\n",
       "0   1     NATHANIEL FORD  GENERAL MANAGER-METROPOLITAN TRANSIT AUTHORITY   \n",
       "1   2       GARY JIMENEZ                 CAPTAIN III (POLICE DEPARTMENT)   \n",
       "2   3     ALBERT PARDINI                 CAPTAIN III (POLICE DEPARTMENT)   \n",
       "3   4  CHRISTOPHER CHONG            WIRE ROPE CABLE MAINTENANCE MECHANIC   \n",
       "4   5    PATRICK GARDNER    DEPUTY CHIEF OF DEPARTMENT,(FIRE DEPARTMENT)   \n",
       "\n",
       "     BasePay  OvertimePay   OtherPay  Benefits   TotalPay  TotalPayBenefits  \\\n",
       "0  167411.18         0.00  400184.25       NaN  567595.43         567595.43   \n",
       "1  155966.02    245131.88  137811.38       NaN  538909.28         538909.28   \n",
       "2  212739.13    106088.18   16452.60       NaN  335279.91         335279.91   \n",
       "3   77916.00     56120.71  198306.90       NaN  332343.61         332343.61   \n",
       "4  134401.60      9737.00  182234.59       NaN  326373.19         326373.19   \n",
       "\n",
       "   Year  Notes         Agency Status  \n",
       "0  2011    NaN  San Francisco    NaN  \n",
       "1  2011    NaN  San Francisco    NaN  \n",
       "2  2011    NaN  San Francisco    NaN  \n",
       "3  2011    NaN  San Francisco    NaN  \n",
       "4  2011    NaN  San Francisco    NaN  "
      ]
     },
     "execution_count": 37,
     "metadata": {},
     "output_type": "execute_result"
    }
   ],
   "source": [
    "import pandas as pd\n",
    "import numpy as np\n",
    "\n",
    "file_path = os.getenv(\"HOME\") + '/AIFFEL/Fundamentals/F25_db/data_handling/data/Salaries.csv'\n",
    "sal = pd.read_csv(file_path)\n",
    "\n",
    "sal.head(5)"
   ]
  },
  {
   "cell_type": "markdown",
   "id": "intensive-sauce",
   "metadata": {},
   "source": [
    "### 문제\n",
    "---"
   ]
  },
  {
   "cell_type": "code",
   "execution_count": 38,
   "id": "norman-julian",
   "metadata": {
    "ExecuteTime": {
     "end_time": "2021-03-03T02:30:33.291847Z",
     "start_time": "2021-03-03T02:30:33.287534Z"
    }
   },
   "outputs": [
    {
     "data": {
      "text/plain": [
       "66327.68895967308"
      ]
     },
     "execution_count": 38,
     "metadata": {},
     "output_type": "execute_result"
    }
   ],
   "source": [
    "sal['BasePay'].mean()"
   ]
  },
  {
   "cell_type": "markdown",
   "id": "compact-wonder",
   "metadata": {},
   "source": [
    "* 평균 basepay는 66327.68895967308이다"
   ]
  },
  {
   "cell_type": "code",
   "execution_count": 39,
   "id": "functioning-ranking",
   "metadata": {
    "ExecuteTime": {
     "end_time": "2021-03-03T02:31:35.769459Z",
     "start_time": "2021-03-03T02:31:35.766099Z"
    }
   },
   "outputs": [
    {
     "data": {
      "text/plain": [
       "245131.88"
      ]
     },
     "execution_count": 39,
     "metadata": {},
     "output_type": "execute_result"
    }
   ],
   "source": [
    "sal['OvertimePay'].max()"
   ]
  },
  {
   "cell_type": "markdown",
   "id": "utility-phrase",
   "metadata": {},
   "source": [
    "* 최대 OvertimePay는 245131.88이다."
   ]
  },
  {
   "cell_type": "code",
   "execution_count": 40,
   "id": "religious-presentation",
   "metadata": {
    "ExecuteTime": {
     "end_time": "2021-03-03T02:42:39.536069Z",
     "start_time": "2021-03-03T02:42:39.523631Z"
    }
   },
   "outputs": [
    {
     "data": {
      "text/plain": [
       "24    CAPTAIN, FIRE SUPPRESSION\n",
       "Name: JobTitle, dtype: object"
      ]
     },
     "execution_count": 40,
     "metadata": {},
     "output_type": "execute_result"
    }
   ],
   "source": [
    "sal[sal['EmployeeName'] == 'JOSEPH DRISCOLL']['JobTitle']"
   ]
  },
  {
   "cell_type": "markdown",
   "id": "imposed-chaos",
   "metadata": {},
   "source": [
    "* JOSEPH DRISCOLL의 job title은 CAPTAIN, FIRE SUPPRESSION이다"
   ]
  },
  {
   "cell_type": "code",
   "execution_count": 41,
   "id": "chronic-luxury",
   "metadata": {
    "ExecuteTime": {
     "end_time": "2021-03-03T02:44:26.413732Z",
     "start_time": "2021-03-03T02:44:26.401140Z"
    }
   },
   "outputs": [
    {
     "data": {
      "text/plain": [
       "24    270324.91\n",
       "Name: TotalPayBenefits, dtype: float64"
      ]
     },
     "execution_count": 41,
     "metadata": {},
     "output_type": "execute_result"
    }
   ],
   "source": [
    "sal[sal['EmployeeName'] == 'JOSEPH DRISCOLL']['TotalPayBenefits']"
   ]
  },
  {
   "cell_type": "markdown",
   "id": "hawaiian-cologne",
   "metadata": {},
   "source": [
    "* JOSEPH DRISCOLL의 급여는 270324.91이다"
   ]
  },
  {
   "cell_type": "code",
   "execution_count": 42,
   "id": "endangered-session",
   "metadata": {
    "ExecuteTime": {
     "end_time": "2021-03-03T02:45:08.999618Z",
     "start_time": "2021-03-03T02:45:08.981381Z"
    }
   },
   "outputs": [
    {
     "data": {
      "text/plain": [
       "0    NATHANIEL FORD\n",
       "Name: EmployeeName, dtype: object"
      ]
     },
     "execution_count": 42,
     "metadata": {},
     "output_type": "execute_result"
    }
   ],
   "source": [
    "sal[sal['TotalPayBenefits']==sal['TotalPayBenefits'].max()]['EmployeeName']"
   ]
  },
  {
   "cell_type": "markdown",
   "id": "aboriginal-palestinian",
   "metadata": {},
   "source": [
    "* 월급(Benefit포함) 이 가장 높은 사람은 NATHANIEL FORD이다."
   ]
  },
  {
   "cell_type": "code",
   "execution_count": 43,
   "id": "numeric-bermuda",
   "metadata": {
    "ExecuteTime": {
     "end_time": "2021-03-03T02:46:03.640798Z",
     "start_time": "2021-03-03T02:46:03.626858Z"
    }
   },
   "outputs": [
    {
     "data": {
      "text/html": [
       "<div>\n",
       "<style scoped>\n",
       "    .dataframe tbody tr th:only-of-type {\n",
       "        vertical-align: middle;\n",
       "    }\n",
       "\n",
       "    .dataframe tbody tr th {\n",
       "        vertical-align: top;\n",
       "    }\n",
       "\n",
       "    .dataframe thead th {\n",
       "        text-align: right;\n",
       "    }\n",
       "</style>\n",
       "<table border=\"1\" class=\"dataframe\">\n",
       "  <thead>\n",
       "    <tr style=\"text-align: right;\">\n",
       "      <th></th>\n",
       "      <th>Id</th>\n",
       "      <th>EmployeeName</th>\n",
       "      <th>JobTitle</th>\n",
       "      <th>BasePay</th>\n",
       "      <th>OvertimePay</th>\n",
       "      <th>OtherPay</th>\n",
       "      <th>Benefits</th>\n",
       "      <th>TotalPay</th>\n",
       "      <th>TotalPayBenefits</th>\n",
       "      <th>Year</th>\n",
       "      <th>Notes</th>\n",
       "      <th>Agency</th>\n",
       "      <th>Status</th>\n",
       "    </tr>\n",
       "  </thead>\n",
       "  <tbody>\n",
       "    <tr>\n",
       "      <th>110530</th>\n",
       "      <td>110531</td>\n",
       "      <td>David P Kucia</td>\n",
       "      <td>Police Officer 3</td>\n",
       "      <td>NaN</td>\n",
       "      <td>0.0</td>\n",
       "      <td>0.0</td>\n",
       "      <td>-33.89</td>\n",
       "      <td>0.0</td>\n",
       "      <td>-33.89</td>\n",
       "      <td>2013</td>\n",
       "      <td>NaN</td>\n",
       "      <td>San Francisco</td>\n",
       "      <td>NaN</td>\n",
       "    </tr>\n",
       "  </tbody>\n",
       "</table>\n",
       "</div>"
      ],
      "text/plain": [
       "            Id   EmployeeName          JobTitle  BasePay  OvertimePay  \\\n",
       "110530  110531  David P Kucia  Police Officer 3      NaN          0.0   \n",
       "\n",
       "        OtherPay  Benefits  TotalPay  TotalPayBenefits  Year  Notes  \\\n",
       "110530       0.0    -33.89       0.0            -33.89  2013    NaN   \n",
       "\n",
       "               Agency Status  \n",
       "110530  San Francisco    NaN  "
      ]
     },
     "execution_count": 43,
     "metadata": {},
     "output_type": "execute_result"
    }
   ],
   "source": [
    "sal[sal['TotalPayBenefits']==sal['TotalPayBenefits'].min()]"
   ]
  },
  {
   "cell_type": "markdown",
   "id": "medieval-entrepreneur",
   "metadata": {},
   "source": [
    "* 월급(Benefit포함) 이 가장 낮은 사람은 David P Kucia이다."
   ]
  },
  {
   "cell_type": "code",
   "execution_count": 44,
   "id": "dried-processing",
   "metadata": {
    "ExecuteTime": {
     "end_time": "2021-03-03T02:46:56.336343Z",
     "start_time": "2021-03-03T02:46:56.318142Z"
    }
   },
   "outputs": [
    {
     "data": {
      "text/plain": [
       "Year\n",
       "2011    63595.956517\n",
       "2012    65436.406857\n",
       "2013    69630.030216\n",
       "2014    66573.154204\n",
       "Name: BasePay, dtype: float64"
      ]
     },
     "execution_count": 44,
     "metadata": {},
     "output_type": "execute_result"
    }
   ],
   "source": [
    "sal.groupby('Year').mean()['BasePay']"
   ]
  },
  {
   "cell_type": "markdown",
   "id": "instrumental-savannah",
   "metadata": {},
   "source": [
    "2011~2014년 동안의 연도별 BasePay의 평균은 각각 \n",
    "* 2011    63595.956517\n",
    "* 2012    65436.406857\n",
    "* 2013    69630.030216\n",
    "* 2014    66573.154204\n",
    "\n",
    "이다."
   ]
  },
  {
   "cell_type": "code",
   "execution_count": 45,
   "id": "present-original",
   "metadata": {
    "ExecuteTime": {
     "end_time": "2021-03-03T02:47:55.062983Z",
     "start_time": "2021-03-03T02:47:55.044671Z"
    }
   },
   "outputs": [
    {
     "data": {
      "text/plain": [
       "2158"
      ]
     },
     "execution_count": 45,
     "metadata": {},
     "output_type": "execute_result"
    }
   ],
   "source": [
    "sal['JobTitle'].nunique()"
   ]
  },
  {
   "cell_type": "markdown",
   "id": "satisfactory-glass",
   "metadata": {},
   "source": [
    "* Job Title의 종류는 2158개이다."
   ]
  },
  {
   "cell_type": "code",
   "execution_count": 46,
   "id": "handed-owner",
   "metadata": {
    "ExecuteTime": {
     "end_time": "2021-03-03T02:48:30.174850Z",
     "start_time": "2021-03-03T02:48:30.156371Z"
    }
   },
   "outputs": [
    {
     "data": {
      "text/plain": [
       "Transit Operator                7036\n",
       "Special Nurse                   4389\n",
       "Registered Nurse                3736\n",
       "Public Svc Aide-Public Works    2518\n",
       "Police Officer 3                2421\n",
       "Name: JobTitle, dtype: int64"
      ]
     },
     "execution_count": 46,
     "metadata": {},
     "output_type": "execute_result"
    }
   ],
   "source": [
    "sal['JobTitle'].value_counts().head(5)"
   ]
  },
  {
   "cell_type": "markdown",
   "id": "spiritual-algebra",
   "metadata": {
    "ExecuteTime": {
     "end_time": "2021-03-03T02:49:21.822546Z",
     "start_time": "2021-03-03T02:49:21.819834Z"
    }
   },
   "source": [
    "* Job Title중 가장 많은 상위 5개의 Job Title은 Transit Operator, Special Nurse, Registered Nurse, Public Svc Aide-Public Works, Police Officer 3 이다."
   ]
  },
  {
   "cell_type": "code",
   "execution_count": 48,
   "id": "activated-coupon",
   "metadata": {
    "ExecuteTime": {
     "end_time": "2021-03-03T02:49:52.387141Z",
     "start_time": "2021-03-03T02:49:52.293353Z"
    }
   },
   "outputs": [
    {
     "data": {
      "text/plain": [
       "477"
      ]
     },
     "execution_count": 48,
     "metadata": {},
     "output_type": "execute_result"
    }
   ],
   "source": [
    "def chief_string(title):\n",
    "    if 'chief' in title.lower().split(): \n",
    "        return True\n",
    "    else:\n",
    "        return False\n",
    "sum(sal['JobTitle'].apply(lambda x : chief_string(x)))"
   ]
  },
  {
   "cell_type": "markdown",
   "id": "irish-karma",
   "metadata": {},
   "source": [
    "* Chief 란 단어를 갖는 Job Title은 477개이다."
   ]
  },
  {
   "cell_type": "markdown",
   "id": "educational-welcome",
   "metadata": {},
   "source": [
    "## 6. 데이터베이스 (1) 다중 사용자 환경\n",
    "현실 세계에서는 데이터를 어떻게 관리할까? 은행을 예로 들어보자. 대형 은행은 약 1,000만 명 인원의 계좌 정보를 가지고 있다. 그리고 인원당 하나의 계좌를 가지란 보장이 없기 때문에 계좌번호만 생각해도 이 데이터 수는 2,000만..3,000만… 그리고 각 계좌당 거래 정보들까지 하면… 엄청 많아질 것이다. 게다가 엄청나게 많은 사용자가 동시 접속해서 계좌입출금 등 다양한 업무를 수행할 것이다.\n",
    "\n",
    "이런 데이터의 영속성을 어떻게 관리하면 좋을까? 이전 스텝까지 다루었던 csv 파일 시스템과 Pandas만으로 우리는 이런 데이터를 잘 다루어 낼 수 있을까?\n",
    "\n",
    "A 고객과 B 고객이 거의 동시에 C 고객에게 입금을 했을 때의 아래와 같은 시나리오를 생각해보자."
   ]
  },
  {
   "cell_type": "code",
   "execution_count": 49,
   "id": "welsh-seeker",
   "metadata": {
    "ExecuteTime": {
     "end_time": "2021-03-03T02:52:24.224247Z",
     "start_time": "2021-03-03T02:52:24.219058Z"
    }
   },
   "outputs": [
    {
     "name": "stdout",
     "output_type": "stream",
     "text": [
      "130\n"
     ]
    }
   ],
   "source": [
    "C_account = 100      # 현재 C 고객 계좌 잔고는 100\n",
    "\n",
    "C_account_by_A_process = 100    # A 고객 응대 프로그램이 C 고객 계좌 잔고를 조회했습니다 \n",
    "C_account_by_B_process = 100    # B 고객 응대 프로그램이 C 고객 계좌 잔고를 조회했습니다 \n",
    "\n",
    "C_account_by_A_process = C_account_by_A_process + 50   # A 고객이 50을 입금했습니다. \n",
    "C_account_by_B_process = C_account_by_B_process + 30   # A 고객이 30을 입금했습니다. \n",
    "\n",
    "C_account = C_account_by_A_process     # A 고객의 입금이 C 고객 계좌 잔고에 반영되었습니다. \n",
    "C_account = C_account_by_B_process     # B 고객의 입금이 C 고객 계좌 잔고에 반영되었습니다. \n",
    "\n",
    "print(C_account)     # C 고객 계좌 잔고는 얼마일까요?"
   ]
  },
  {
   "cell_type": "markdown",
   "id": "serious-repository",
   "metadata": {},
   "source": [
    "지금까지 잘 사용해 온 Pandas 기반 프로그램은 C 고객의 잔고를 130이라고 기억하고 있을 가능성이 높다. 왜 그럴까? 이것은 파일시스템만으로 데이터의 영속성이 잘 관리되기 어렵기 때문이다. 위 시나리오의 가장 큰 문제점은 트랜잭션(Transaction)의 개념이 없다는 점이다. 동일한 데이터를 여러 프로세스가 동시에 접근해서 변경하려고 들 때, 한 프로세스의 변경이 다른 프로세스의 변경을 무효화해서는 안 된다.\n",
    "\n",
    "트랜잭션의 개념에 대해서 다음 문서 참고.<br>\n",
    "(참고) [트랜잭션이란 무엇인가?](https://coding-factory.tistory.com/226)\n",
    "\n",
    "이제 다수 사용자에 대응할 수 있는 실시간 트랜잭션 처리 기능을 갖춘, 데이터의 정합성을 보장하는 훌륭한 데이터 관리 프로세스를 필요로 하게 되었다. 그래서 필요한 것이 바로 __데이터베이스 관리 시스템(DBMS)__이다.\n",
    "\n",
    "데이터 사용량은 2007년 스마트폰의 도입과 함께 SNS 서비스가 인기를 얻으며 폭발적으로 늘어났다. 이런 시대를 빅데이터(big data) 시대라고 한다. 데이터를 저장하고 관리하는 기법 또한 매우 빠른 속도로 발전하고 있다. 그런데 빅데이터 이전에는 데이터가 없었던 걸까? 빅데이터 이전에도 우리는 일반 회사의 실험 자료들, 금융, 회계, 거래 내역, 사진 등 많은 데이터를 컴퓨터에 보관해왔다. 데이터를 어떻게 저장하고 관리할지는 빅데이터 시대 이전부터 우리 생활과 아주 밀접하게 관련된 문제였던 것이다. 데이터베이스의 역사는 매우 오래되었다. 좀 더 넓고 오래된 분야에서의 데이터 관리에 대해 다루어 보겠다."
   ]
  },
  {
   "cell_type": "markdown",
   "id": "light-decision",
   "metadata": {},
   "source": [
    "## 7. 데이터베이스 (2) 데이터베이스의 세계로\n",
    "정보를 저장하고 기록하는 데이터 관리를 거슬러 올라가 보면 태초의 상형문자가 그 기원이 아닐까 생각된다.\n",
    "\n",
    "현재 우리가 데이터베이스라고 말하는 시스템은 컴퓨터가 개발된 1960년대부터 시작된 개념이다. (처음에는 \"파일 시스템\"으로 불렸다) 현재 많이 사용되고 있는 관계형 데이터베이스(RDB: relational database)는 1970년대 Ted Codd에 의해 최초로 고안되었다. (아래 유튜브 영상에서 썸네일에 나온 사람이다)\n",
    "\n",
    "아래 동영상을 시청해보자.\n",
    "\n",
    "[![데이터베이스](http://img.youtube.com/vi/KG-mqHoXOXY/0.jpg)](https://youtu.be/KG-mqHoXOXY) "
   ]
  },
  {
   "cell_type": "markdown",
   "id": "adult-reader",
   "metadata": {},
   "source": [
    "### 데이터베이스, 서버, 데이터만 관리하는 컴퓨터\n",
    "---\n",
    "앞의 예제에서는 각 직원에 대한 데이터를 파일로부터 한 줄씩 후 클래스로 만든 뒤, 코딩으로 가장 높은 월급을 계산하는 프로그램을 만들었다.\n",
    "\n",
    "\n",
    "<img src=\"./image/db2.png\" alt=\"DB\" />\n",
    "\n",
    "처음에는 이렇게 데이터를 관리하고 연산하는 작업을 모두 하나의 컴퓨터에서 실행했다. 그런데 실무에서의 데이터는 굉장히 복잡하다. 사원의 정보가 정말 텍스트 파일 하나에 모두 담길 수 있을까? 대규모 회사라면 그 파일의 크기가 어마어마할 것이다. 한 개 회사의 직원 데이터를 넘어 국가 통계청의 데이터, 은행의 계좌 관리 데이터 등 주변을 조금만 둘러보아도 거대한 규모의 데이터베이스가 많다는 사실을 알 수 있다. 이때 데이터를 만들고, 읽고, 쓰는 작업을 여러 명이 모두 하나의 컴퓨터에 하는 건 매우 힘든 일이다.\n",
    "\n",
    "그래서 데이터만을 저장하는 공간을 하나 만든다. 흔히 물리적 컴퓨터에 방점을 두어 데이터 서버 컴퓨터, 또는 추상적인 정보의 집합에 방점을 두어 데이터베이스라고 한다.\n",
    "\n",
    "구조화해보면 아래 block diagram과 같다. 데이터만을 위한 데이터 서버 컴퓨터가 있고, 해당 서버에 접근하는 전용 프로그램을 이용해서 데이터를 읽고 수정하는 것이다. 그리고 이 접근, 수정 등의 일련의 작업은 일관된 방법과 형식을 사용하면 편리할 것이다.\n",
    "\n",
    "이렇게 데이터를 요청하는 \"쿼리(query)\"를 작성하기 위한 언어 중 하나가 SQL(Structured Query Language)이다. SQL은 영어에서 볼 수 있듯이 구조적 질의어(=데이터 서버에게 원하는 정보를 일목요연하게 말해주는 것)를 뜻하며, 일종의 프로그래밍 언어로 발전되어 왔다.\n",
    "\n",
    "<img src=\"./image/sql.png\" alt=\"SQL\" />"
   ]
  },
  {
   "cell_type": "markdown",
   "id": "former-turning",
   "metadata": {},
   "source": [
    "### 소프트웨어의 요소와 소프트웨어를 만드는 사람들\n",
    "---\n",
    "각 서버를 만드는 일이 어떻게 분업되어 있는지 은행 거래 시스템을 예로 생각해보자.\n",
    "\n",
    "이 서비스의 개발팀은 데이터 서버 컴퓨터를 따로 두어 데이터를 관리해야 하고, 사용자가 조작할 수 있는 (계좌번호 입력창 등) 화면을 만들고, 사용자가 데이터를 조회하고 거래도 할 수 있게 만들어야 한다. 그리고 이 모든 거래 정보는 데이터 서버 컴퓨터에 저장되어야 할 것이다.\n",
    "\n",
    "<img src=\"./image/db3.png\" alt=\"DB\" />\n",
    "\n",
    "사용자는 소프트웨어 어플리케이션을 설치해서 사용한다. 편의상 \"어플리케이션\"이 사용자가 직접 사용하는 프로그램(프론트엔드)과 뒤에서 이 프로그램을 지원해주기 위한 서버(백엔드)를 모두 통칭한다고 가정하자. 통상 개발자라고 하면 이 소프트웨어 어플리케이션을 개발하는 사람들을 뜻한다. 그리고 DBA(Database Architect)는 데이터를 어떻게 관리할지, 어떤 항목으로 관리할지 등을 설계하고 데이터베이스에 접근하기 위한 쿼리를 작성한다. 이때 설계하는 데이터베이스의 구조를 전문 용어로 __스키마(schema)__라고 부른다."
   ]
  },
  {
   "cell_type": "code",
   "execution_count": null,
   "id": "behavioral-millennium",
   "metadata": {},
   "outputs": [],
   "source": []
  }
 ],
 "metadata": {
  "kernelspec": {
   "display_name": "aiffel",
   "language": "python",
   "name": "aiffel"
  },
  "language_info": {
   "codemirror_mode": {
    "name": "ipython",
    "version": 3
   },
   "file_extension": ".py",
   "mimetype": "text/x-python",
   "name": "python",
   "nbconvert_exporter": "python",
   "pygments_lexer": "ipython3",
   "version": "3.7.9"
  },
  "toc": {
   "base_numbering": 1,
   "nav_menu": {},
   "number_sections": true,
   "sideBar": true,
   "skip_h1_title": false,
   "title_cell": "Table of Contents",
   "title_sidebar": "Contents",
   "toc_cell": false,
   "toc_position": {},
   "toc_section_display": true,
   "toc_window_display": false
  },
  "varInspector": {
   "cols": {
    "lenName": 16,
    "lenType": 16,
    "lenVar": 40
   },
   "kernels_config": {
    "python": {
     "delete_cmd_postfix": "",
     "delete_cmd_prefix": "del ",
     "library": "var_list.py",
     "varRefreshCmd": "print(var_dic_list())"
    },
    "r": {
     "delete_cmd_postfix": ") ",
     "delete_cmd_prefix": "rm(",
     "library": "var_list.r",
     "varRefreshCmd": "cat(var_dic_list()) "
    }
   },
   "types_to_exclude": [
    "module",
    "function",
    "builtin_function_or_method",
    "instance",
    "_Feature"
   ],
   "window_display": false
  }
 },
 "nbformat": 4,
 "nbformat_minor": 5
}
