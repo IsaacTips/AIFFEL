{
 "cells": [
  {
   "cell_type": "markdown",
   "id": "31f27cd3",
   "metadata": {},
   "source": [
    "# 8. 데이터를 한눈에! Visualization"
   ]
  },
  {
   "cell_type": "markdown",
   "id": "9505a1a0",
   "metadata": {},
   "source": [
    "## 1. 학습 목표 및 목차"
   ]
  },
  {
   "cell_type": "markdown",
   "id": "6159a623",
   "metadata": {},
   "source": [
    "### 학습 목표\n",
    "---\n",
    "* 파이썬 라이브러리(Pandas, Matplotlib, Seaborn)을 이용해서 여러 가지 그래프를 그리는 법을 학습한다.\n",
    "* 실전 데이터셋으로 직접 시각화 해보며 데이터 분석에 필요한 탐색적 데이터 분석(EDA)을 하고 인사이트를 도출해보자."
   ]
  },
  {
   "cell_type": "markdown",
   "id": "c5bf8bb4",
   "metadata": {},
   "source": [
    "### 목차\n",
    "---\n",
    "* 파이썬으로 그래프를 그린다는건?\n",
    "* 간단한 그래프 그리기\n",
    "* 그래프 4대 천왕: 막대그래프, 선그래프, 산점도, 히스토그램\n",
    "* 시계열 데이터 시각화하기\n",
    "* Heatmap"
   ]
  },
  {
   "cell_type": "markdown",
   "id": "9ddcf4d3",
   "metadata": {},
   "source": [
    "## 2. 파이썬으로 그래프를 그린다는건?"
   ]
  },
  {
   "cell_type": "markdown",
   "id": "fcdace06",
   "metadata": {},
   "source": [
    "### 준비물\n",
    "---\n",
    "시각화는 데이터를 파악하는 데 매우 중요한 도구이다. 파이썬은 Pandas, Matplotlib, Seaborn 등 여러 가지 시각화 라이브러리를 제공한다.\n",
    "\n",
    "Matplotlib와 Seaborn 역시 Pandas와 동일하게 pip을 이용해 설치하시면 된다.\n",
    "\n",
    "```\n",
    "$ pip install matplotlib \n",
    "$ pip install seaborn\n",
    "```"
   ]
  },
  {
   "cell_type": "markdown",
   "id": "bb7374e0",
   "metadata": {},
   "source": [
    "### 파이썬으로 그래프를 그린다는건?\n",
    "---\n",
    "> *도화지를 펼치고 축을 그리고 그 안에 데이터를 그리는 작업*\n",
    "\n",
    "현실 세계에서 그래프를 어떻게 그리는가? 노트를 펴서 사각형을 그리고, x, y축을 그리고, 그 안에 데이터를 입력한다. 파이썬으로 그래프를 그리는 작업도 현실 세계와 비슷하다.\n",
    "\n",
    "다음은 간단한 막대그래프를 그리는 전체 코드이다."
   ]
  },
  {
   "cell_type": "code",
   "execution_count": 1,
   "id": "fbcd0334",
   "metadata": {},
   "outputs": [
    {
     "data": {
      "image/png": "[encoded data removed]",
      "text/plain": [
       "<Figure size 432x288 with 1 Axes>"
      ]
     },
     "metadata": {
      "needs_background": "light"
     },
     "output_type": "display_data"
    }
   ],
   "source": [
    "import matplotlib.pyplot as plt\n",
    "%matplotlib inline\n",
    "\n",
    "#그래프 데이터 \n",
    "subject = ['English', 'Math', 'Korean', 'Science', 'Computer']\n",
    "points = [40, 90, 50, 60, 100]\n",
    "\n",
    "# 축 그리기\n",
    "fig = plt.figure()\n",
    "ax1 = fig.add_subplot(1,1,1)\n",
    "\n",
    "# 그래프 그리기\n",
    "ax1.bar(subject, points)\n",
    "\n",
    "# 라벨, 타이틀 달기\n",
    "plt.xlabel('Subject')\n",
    "plt.ylabel('Points')\n",
    "plt.title(\"Yuna's Test Result\")\n",
    "\n",
    "# 보여주기\n",
    "plt.savefig('./barplot.png')  # 그래프를 이미지로 출력\n",
    "plt.show()                            # 그래프를 화면으로 출력"
   ]
  },
  {
   "cell_type": "markdown",
   "id": "c5e202c6",
   "metadata": {},
   "source": [
    "## 3. 간단한 그래프 그리기 (1) 막대그래프 그려보기\n",
    "지금부터 matplotlib을 이용해 소개한 막대그래프를 차근차근 그려보자.\n",
    "부분부분 살펴볼것이다."
   ]
  },
  {
   "cell_type": "markdown",
   "id": "c3284e29",
   "metadata": {},
   "source": [
    "### 1. 데이터 정의\n",
    "---\n",
    "우선 모듈을 import하고 그래프로 그릴 데이터를 정의해준다."
   ]
  },
  {
   "cell_type": "code",
   "execution_count": 2,
   "id": "e613ea25",
   "metadata": {},
   "outputs": [],
   "source": [
    "import matplotlib.pyplot as plt\n",
    "%matplotlib inline\n",
    "\n",
    "#그래프 데이터 \n",
    "subject = ['English', 'Math', 'Korean', 'Science', 'Computer']\n",
    "points = [40, 90, 50, 60, 100]"
   ]
  },
  {
   "cell_type": "markdown",
   "id": "dc7eabee",
   "metadata": {},
   "source": [
    "%matplotlib inline은 IPython에서 사용하는 매직 메소드이다. `Rich output`에 대한 표현 방식인데, 그래프와 같은 그림, 소리, 애니메이션 과같은 결과물을 `Rich output` 이라고 한다. IPython과 비슷한 환경인 Jupyter Notebook에서 이 명령어를 입력하면 그래프가 바로 출력된다.\n",
    "\n",
    "IPython의 다른 매직 메소드들에 대해 더 알고 싶다면 다음 링크를 참고.<br>\n",
    "[IPython 매직 명령어 정리](https://studymake.tistory.com/601)"
   ]
  },
  {
   "cell_type": "markdown",
   "id": "1d3b2cbc",
   "metadata": {},
   "source": [
    "### 2. 축 그리기\n",
    "---\n",
    "그래프를 그리는 순서는 우선 하나의 그림(figure)객체를 만들고 그 안에 하위 그래프를(subplot)을 추가한다. 도화지에 축을 그리는 과정이다."
   ]
  },
  {
   "cell_type": "code",
   "execution_count": 3,
   "id": "479f9554",
   "metadata": {},
   "outputs": [
    {
     "data": {
      "image/png": "[encoded data removed]",
      "text/plain": [
       "<Figure size 432x288 with 1 Axes>"
      ]
     },
     "metadata": {
      "needs_background": "light"
     },
     "output_type": "display_data"
    }
   ],
   "source": [
    "# 축 그리기\n",
    "fig = plt.figure()\n",
    "ax1 = fig.add_subplot(1,1,1)"
   ]
  },
  {
   "cell_type": "markdown",
   "id": "8c5efecc",
   "metadata": {},
   "source": [
    "만약 fig = plt.figure()만 입력하면,"
   ]
  },
  {
   "cell_type": "code",
   "execution_count": 4,
   "id": "e72c1368",
   "metadata": {},
   "outputs": [
    {
     "data": {
      "text/plain": [
       "<Figure size 432x288 with 0 Axes>"
      ]
     },
     "metadata": {},
     "output_type": "display_data"
    }
   ],
   "source": [
    "fig = plt.figure()"
   ]
  },
  {
   "cell_type": "markdown",
   "id": "6b13f2c3",
   "metadata": {},
   "source": [
    "축이 없어 그려지는 것이 없지만 figure 객체가 생성되었다.\n",
    "\n",
    "figure()라는 객체는 도화지(그래프)이다. 이 figure()객체에 `add_subplot` 메소드를 이용해 축을 그려준다. figsize 인자값을 주어 그래프의 크기를 정할 수 있다."
   ]
  },
  {
   "cell_type": "code",
   "execution_count": 5,
   "id": "29e43455",
   "metadata": {},
   "outputs": [
    {
     "data": {
      "image/png": "[encoded data removed]",
      "text/plain": [
       "<Figure size 360x144 with 1 Axes>"
      ]
     },
     "metadata": {
      "needs_background": "light"
     },
     "output_type": "display_data"
    }
   ],
   "source": [
    "fig = plt.figure(figsize=(5,2))\n",
    "ax1 = fig.add_subplot(1,1,1)"
   ]
  },
  {
   "cell_type": "markdown",
   "id": "6b72100a",
   "metadata": {},
   "source": [
    "도화지 안에는 축을 여러 개 그릴 수 있다. 즉, 그래프를 여러 개 그릴 수 있단 뜻이다. `add_subplot`의 인자로 조정해준다.\n",
    "\n",
    "그래프 몇 개를 추가해보자."
   ]
  },
  {
   "cell_type": "code",
   "execution_count": 6,
   "id": "edc1ae82",
   "metadata": {},
   "outputs": [
    {
     "data": {
      "image/png": "[encoded data removed]",
      "text/plain": [
       "<Figure size 432x288 with 3 Axes>"
      ]
     },
     "metadata": {
      "needs_background": "light"
     },
     "output_type": "display_data"
    }
   ],
   "source": [
    "fig = plt.figure()\n",
    "ax1 = fig.add_subplot(2,2,1)\n",
    "ax2 = fig.add_subplot(2,2,2)\n",
    "ax3 = fig.add_subplot(2,2,4)"
   ]
  },
  {
   "cell_type": "markdown",
   "id": "fde461ed",
   "metadata": {},
   "source": [
    "세번째 인자는 아래 그림처럼 각각의 그래프가 그려지는 좌표를 의미한다. 2,2는 2행 2열로 총 4개의 그래프를 그릴 수 있다는 뜻이며 마지막 인자로 위치를 지정해 줄 수 있다.\n",
    "\n",
    "<img src=\"./image/plot.png\" />"
   ]
  },
  {
   "cell_type": "markdown",
   "id": "b0976db7",
   "metadata": {},
   "source": [
    "### 3. 그래프 그리기\n",
    "---\n",
    "`bar()` 메소드를 이용해 막대그래프를 그린다. 그리고 인자에 위에서 정의한 데이터들을 x, y순으로 넣어준다."
   ]
  },
  {
   "cell_type": "code",
   "execution_count": 7,
   "id": "bac7fede",
   "metadata": {},
   "outputs": [
    {
     "data": {
      "text/plain": [
       "<BarContainer object of 5 artists>"
      ]
     },
     "execution_count": 7,
     "metadata": {},
     "output_type": "execute_result"
    },
    {
     "data": {
      "image/png": "[encoded data removed]",
      "text/plain": [
       "<Figure size 432x288 with 1 Axes>"
      ]
     },
     "metadata": {
      "needs_background": "light"
     },
     "output_type": "display_data"
    }
   ],
   "source": [
    "#그래프 데이터 \n",
    "subject = ['English', 'Math', 'Korean', 'Science', 'Computer']\n",
    "points = [40, 90, 50, 60, 100]\n",
    "\n",
    "# 축 그리기\n",
    "fig = plt.figure()\n",
    "ax1 = fig.add_subplot(1,1,1)\n",
    "\n",
    "# 그래프 그리기\n",
    "ax1.bar(subject,points)"
   ]
  },
  {
   "cell_type": "markdown",
   "id": "8a81c4a9",
   "metadata": {},
   "source": [
    "처음과 얼추 비슷한 그래프가 나왔다. 이번에는 x축과 y축에 레이블을 추가하고 차트의 제목을 적어보자."
   ]
  },
  {
   "cell_type": "markdown",
   "id": "8ea1ada7",
   "metadata": {},
   "source": [
    "### 4. 그래프 요소 추가\n",
    "---\n",
    "#### label, title\n",
    "x라벨, y라벨, 제목을 추가하기 위해서는 `xlabel()` 메소드와 `ylabel()` 메소드 `title()` 메소드를 이용한다.\n",
    "\n",
    "```python\n",
    "plt.xlabel('Subject')  \n",
    "plt.ylabel('Points')  \n",
    "plt.title(\"Yuna's Test Result\")\n",
    "```\n",
    "\n",
    "이전 스텝에 보았던 전체 그래프 그리기 코드가 다시 완성되었다.\n",
    "\n"
   ]
  },
  {
   "cell_type": "code",
   "execution_count": 8,
   "id": "8ff103dc",
   "metadata": {},
   "outputs": [
    {
     "data": {
      "text/plain": [
       "Text(0.5, 1.0, \"Yuna's Test Result\")"
      ]
     },
     "execution_count": 8,
     "metadata": {},
     "output_type": "execute_result"
    },
    {
     "data": {
      "image/png": "[encoded data removed]",
      "text/plain": [
       "<Figure size 432x288 with 1 Axes>"
      ]
     },
     "metadata": {
      "needs_background": "light"
     },
     "output_type": "display_data"
    }
   ],
   "source": [
    "#그래프 데이터 \n",
    "subject = ['English', 'Math', 'Korean', 'Science', 'Computer']\n",
    "points = [40, 90, 50, 60, 100]\n",
    "\n",
    "# 축 그리기\n",
    "fig = plt.figure()\n",
    "ax1 = fig.add_subplot(1,1,1)\n",
    "\n",
    "# 그래프 그리기\n",
    "ax1.bar(subject, points)\n",
    "\n",
    "# 라벨, 타이틀 달기\n",
    "plt.xlabel('Subject')\n",
    "plt.ylabel('Points')\n",
    "plt.title(\"Yuna's Test Result\")"
   ]
  },
  {
   "cell_type": "markdown",
   "id": "083ebd3b",
   "metadata": {},
   "source": [
    "## 4. 간단한 그래프 그리기 (2) 선 그래프 그려보기\n",
    "이번에는 matplotlib을 이용해 선(line) 그래프를 그려보자."
   ]
  },
  {
   "cell_type": "markdown",
   "id": "f9c2bd67",
   "metadata": {},
   "source": [
    "### 1. 데이터 정의\n",
    "---\n",
    "우선 모듈을 import하고 그래프로 그릴 데이터를 정의해준다. 사용할 데이터는 과거 아마존 주가 데이터이다.\n",
    "\n",
    "**[AMZN.csv](https://aiffelstaticprd.blob.core.windows.net/media/documents/AMZN.csv)**<br>\n",
    "출처:[https://finance.yahoo.com/quote/AMZN/history?p=AMZN](https://finance.yahoo.com/quote/AMZN/history?p=AMZN)\n",
    "\n",
    "터미널에서 아래 명령어를 실행하여 다운로드하자.\n",
    "\n",
    "```\n",
    "$ mkdir -p ~/AIFFEL/Fundamentals/F8/data_represent/data\n",
    "$ wget https://aiffelstaticprd.blob.core.windows.net/media/documents/AMZN.csv\n",
    "$ mv AMZN.csv ~/AIFFEL/Fundamentals/F8/data_represent/data\n",
    "```\n",
    "\n",
    "이번엔 주석(annotation) 등 좀 더 고급 기법을 활용하여 그래프를 그려보자."
   ]
  },
  {
   "cell_type": "code",
   "execution_count": 18,
   "id": "59f9748a",
   "metadata": {},
   "outputs": [
    {
     "data": {
      "image/png": "[encoded data removed]",
      "text/plain": [
       "<Figure size 432x288 with 1 Axes>"
      ]
     },
     "metadata": {
      "needs_background": "light"
     },
     "output_type": "display_data"
    }
   ],
   "source": [
    "from datetime import datetime\n",
    "import pandas as pd\n",
    "import os\n",
    "\n",
    "#그래프 데이터 \n",
    "csv_path = os.getenv(\"HOME\") + \"/AIFFEL/Fundamentals/F8/data_represent/data/AMZN.csv\"\n",
    "data = pd.read_csv(csv_path ,index_col=0, parse_dates=True)\n",
    "price = data['Close']\n",
    "\n",
    "# 축 그리기 및 좌표축 설정\n",
    "fig = plt.figure()\n",
    "ax = fig.add_subplot(1,1,1)\n",
    "price.plot(ax=ax, style='black')\n",
    "plt.ylim([1600,2200])\n",
    "plt.xlim(['2019-05-01','2020-03-01'])\n",
    "\n",
    "# 주석달기\n",
    "important_data = [(datetime(2019, 6, 3), \"Low Price\"),(datetime(2020, 2, 19), \"Peak Price\")]\n",
    "for d, label in important_data:\n",
    "    ax.annotate(label, xy=(d, price.asof(d)+10), \n",
    "                xytext=(d,price.asof(d)+100),\n",
    "                arrowprops=dict(facecolor='red'))\n",
    "\n",
    "# 그리드, 타이틀 달기\n",
    "plt.grid()\n",
    "ax.set_title('StockPrice')\n",
    "\n",
    "# 보여주기\n",
    "plt.show()\n"
   ]
  },
  {
   "cell_type": "markdown",
   "id": "1ce95c61",
   "metadata": {},
   "source": [
    "#### Pandas Series 데이터 활용\n",
    "Pandas의 Series는 선 그래프를 그리기에 최적의 자료구조를 갖추고 있다.<br>\n",
    "위 예시코드에서는 `price = data['Close']`가 바로 Pandas의 Series이다.<br>\n",
    "Pandas도 자체적인 선 그래프 그리기 기능을 제공한다.<br>\n",
    "위 예시코드에서는 `price.plot(ax=ax, style='black')`에서 Pandas의 plot을 사용하면서, matplotlib에서 정의한 subplot 공간 `ax`를 사용한 것을 볼 수 있다."
   ]
  },
  {
   "cell_type": "markdown",
   "id": "144e336a",
   "metadata": {},
   "source": [
    "#### 좌표축 설정\n",
    "`plt.xlim()`, `plt.ylim()`을 통해 x, y 좌표축의 적당한 범위를 설정해 줄 수 있다."
   ]
  },
  {
   "cell_type": "markdown",
   "id": "2daed4fc",
   "metadata": {},
   "source": [
    "#### 주석\n",
    "그래프 안에 추가적으로 글자나 화살표 등 주석을 그릴 때는 `annotate()` 메소드를 이용한다."
   ]
  },
  {
   "cell_type": "markdown",
   "id": "920ed59c",
   "metadata": {},
   "source": [
    "#### 그리드\n",
    "`grid()` 메소드를 이용하면 그리드(격자눈금)를 추가할 수 있다."
   ]
  },
  {
   "cell_type": "markdown",
   "id": "0e8a757b",
   "metadata": {},
   "source": [
    "## 5. 간단한 그래프 그리기 (3) plot 사용법 상세"
   ]
  },
  {
   "cell_type": "markdown",
   "id": "0fe8a5fc",
   "metadata": {},
   "source": [
    "### plt.plot()로 그래프 그리기\n",
    "---\n",
    "위에서 `figure()`객체를 생성하고 `add_subplot()`으로 서브 플롯을 생성하며 plot을 그린다고 설명했다.<br>\n",
    "그러나, 이 2가지 과정을 생략할 수도 있다. `plt.plot()`명령으로 그래프를 그리면 matplotlib은 가장 최근의 figure객체와 그 서브플롯을 그린다.<br>\n",
    "만약 서브플롯이 없으면 서브플롯 하나를 생성한다.\n",
    "\n",
    "`plt.plot()`의 인자로 x데이터, y데이터, 마커옵션, 색상 등의 인자를 이용할 수 있고,"
   ]
  },
  {
   "cell_type": "code",
   "execution_count": 19,
   "id": "f686b15f",
   "metadata": {},
   "outputs": [
    {
     "data": {
      "image/png": "[encoded data removed]",
      "text/plain": [
       "<Figure size 432x288 with 1 Axes>"
      ]
     },
     "metadata": {
      "needs_background": "light"
     },
     "output_type": "display_data"
    }
   ],
   "source": [
    "import numpy as np\n",
    "x = np.linspace(0, 10, 100) \n",
    "plt.plot(x, np.sin(x),'o')\n",
    "plt.plot(x, np.cos(x),'--', color='black') \n",
    "plt.show()"
   ]
  },
  {
   "cell_type": "markdown",
   "id": "c0e42c05",
   "metadata": {},
   "source": [
    "서브 플롯도 `plt.subplot`을 이용해 추가할 수 있다."
   ]
  },
  {
   "cell_type": "code",
   "execution_count": 20,
   "id": "04ec374e",
   "metadata": {},
   "outputs": [
    {
     "data": {
      "image/png": "[encoded data removed]",
      "text/plain": [
       "<Figure size 432x288 with 2 Axes>"
      ]
     },
     "metadata": {
      "needs_background": "light"
     },
     "output_type": "display_data"
    }
   ],
   "source": [
    "x = np.linspace(0, 10, 100) \n",
    "\n",
    "plt.subplot(2,1,1)\n",
    "plt.plot(x, np.sin(x),'orange','o')\n",
    "\n",
    "plt.subplot(2,1,2)\n",
    "plt.plot(x, np.cos(x), 'orange') \n",
    "plt.show()"
   ]
  },
  {
   "cell_type": "markdown",
   "id": "7122c63a",
   "metadata": {},
   "source": [
    "### linestyle, marker옵션\n",
    "---\n",
    "라인 스타일은 plot()의 인자로 들어가는데, 아래와 같이 다양한 방법으로 표기할 수 있다."
   ]
  },
  {
   "cell_type": "code",
   "execution_count": 21,
   "id": "8d984b6c",
   "metadata": {},
   "outputs": [
    {
     "data": {
      "image/png": "[encoded data removed]",
      "text/plain": [
       "<Figure size 432x288 with 1 Axes>"
      ]
     },
     "metadata": {
      "needs_background": "light"
     },
     "output_type": "display_data"
    }
   ],
   "source": [
    "x = np.linspace(0, 10, 100) \n",
    "\n",
    "plt.plot(x, x + 0, linestyle='solid') \n",
    "plt.plot(x, x + 1, linestyle='dashed') \n",
    "plt.plot(x, x + 2, linestyle='dashdot') \n",
    "plt.plot(x, x + 3, linestyle='dotted')\n",
    "plt.plot(x, x + 0, '-g') # solid green \n",
    "plt.plot(x, x + 1, '--c') # dashed cyan \n",
    "plt.plot(x, x + 2, '-.k') # dashdot black \n",
    "plt.plot(x, x + 3, ':r'); # dotted red\n",
    "plt.plot(x, x + 4, linestyle='-') # solid \n",
    "plt.plot(x, x + 5, linestyle='--') # dashed \n",
    "plt.plot(x, x + 6, linestyle='-.') # dashdot \n",
    "plt.plot(x, x + 7, linestyle=':'); # dotted"
   ]
  },
  {
   "cell_type": "markdown",
   "id": "d29125f0",
   "metadata": {},
   "source": [
    "### Pandas로 그래프 그리기\n",
    "Pandas도 `plot()`메소드를 통해 여러 가지 그래프를 그릴 수 있다.\n",
    "\n",
    "matplotlib과 연계해 사용하면 좋은데, 아래 메소드는 각 메소드의 기능을 정리하였다."
   ]
  },
  {
   "cell_type": "markdown",
   "id": "914e0327",
   "metadata": {},
   "source": [
    "#### pandas.plot메서드 인자\n",
    "* label: 그래프의 범례이름.\n",
    "* ax: 그래프를 그릴 matplotlib의 서브플롯 객체.\n",
    "* style: matplotlib에 전달할 'ko--'같은 스타일의 문자열\n",
    "* alpha: 투명도 (0 ~1)\n",
    "* kind: 그래프의 종류: line, bar, barh, kde\n",
    "* logy: Y축에 대한 로그스케일\n",
    "* use_index: 객체의 색인을 눈금 이름으로 사용할지의 여부\n",
    "* rot: 눈금 이름을 로테이션(0 ~ 360)\n",
    "* xticks, yticks: x축, y축으로 사용할 값\n",
    "* xlim, ylim: x축, y축 한계\n",
    "* grid: 축의 그리드 표시할 지 여부"
   ]
  },
  {
   "cell_type": "markdown",
   "id": "c33ad77e",
   "metadata": {},
   "source": [
    "#### pandas의 data가 DataFrame일때 plot 메서드 인자\n",
    "* subplots: 각 DataFrame의 칼럼을 독립된 서브플롯에 그린다.\n",
    "* sharex: subplots=True면 같은 X축을 공유하고 눈금과 한계를 연결한다.\n",
    "* sharey: subplots=True면 같은 Y축을 공유한다.\n",
    "* figsize: 그래프의 크기, 튜플로 지정\n",
    "* title: 그래프의 제목을 문자열로 지정\n",
    "* sort_columns: 칼럼을 알파벳 순서로 그린다.\n",
    "\n",
    "예제로 막대 그래프를 그려보겠다.\n",
    "\n",
    "막대 그래프의 경우, kind에 `bar` 옵션을 주어 그릴 수 있다."
   ]
  },
  {
   "cell_type": "code",
   "execution_count": 22,
   "id": "746adb23",
   "metadata": {},
   "outputs": [
    {
     "data": {
      "text/plain": [
       "<AxesSubplot:>"
      ]
     },
     "execution_count": 22,
     "metadata": {},
     "output_type": "execute_result"
    },
    {
     "data": {
      "image/png": "[encoded data removed]",
      "text/plain": [
       "<Figure size 432x288 with 2 Axes>"
      ]
     },
     "metadata": {
      "needs_background": "light"
     },
     "output_type": "display_data"
    }
   ],
   "source": [
    "fig, axes = plt.subplots(2, 1)\n",
    "data = pd.Series(np.random.rand(5), index=list('abcde'))\n",
    "data.plot(kind='bar', ax=axes[0], color='blue', alpha=1)\n",
    "data.plot(kind='barh', ax=axes[1], color='red', alpha=0.3)"
   ]
  },
  {
   "cell_type": "markdown",
   "id": "b128c160",
   "metadata": {},
   "source": [
    "선 그래프도 그리는 방법은 비슷하다."
   ]
  },
  {
   "cell_type": "code",
   "execution_count": 23,
   "id": "579ee014",
   "metadata": {},
   "outputs": [
    {
     "data": {
      "text/plain": [
       "<AxesSubplot:>"
      ]
     },
     "execution_count": 23,
     "metadata": {},
     "output_type": "execute_result"
    },
    {
     "data": {
      "image/png": "[encoded data removed]",
      "text/plain": [
       "<Figure size 432x288 with 1 Axes>"
      ]
     },
     "metadata": {
      "needs_background": "light"
     },
     "output_type": "display_data"
    }
   ],
   "source": [
    "df = pd.DataFrame(np.random.rand(6,4), columns=pd.Index(['A','B','C','D']))\n",
    "df.plot(kind='line')"
   ]
  },
  {
   "cell_type": "markdown",
   "id": "56829d17",
   "metadata": {},
   "source": [
    "## 6. 간단한 그래프 그리기 (4) 정리해 보자"
   ]
  },
  {
   "cell_type": "markdown",
   "id": "f99bb7e9",
   "metadata": {},
   "source": [
    "### 6. 정리\n",
    "---\n",
    "그래프를 그리는 과정을 다시 정리해보자.\n",
    "\n",
    "1. `fig = plt.figure()` : figure 객체를 선언해 '도화지를 펼쳐' 준다.\n",
    "2. `ax1 = fig.add_subplot(1,1,1)` : 축을 그린다.\n",
    "3. `ax1.bar(x, y)` 축안에 어떤 그래프를 그릴지 메소드를 선택한 다음, 인자로 데이터를 넣어준다.\n",
    "4. 그래프 타이틀 축의 레이블 등을 plt의 여러 메소드 `grid`, `xlabel`, `ylabel` 을 이용해서 추가해주고\n",
    "5. `plt.savefig` 메소드를 이용해 저장해준다.\n",
    "\n",
    "어떤가? 현실세계에서 그래프를 그리는 순서와 꽤 유사하다.\n",
    "\n",
    "파이썬 기반의 시각화 라이브러리인 Pandas, Matplotlib, Seaborn 모두 이런 식으로 그래프를 그린다.\n",
    "\n",
    "아래 그림은 각 그래프 요소별 명칭이다.\n",
    "\n",
    "<img src=\"./image/graph_sum.png\" />"
   ]
  },
  {
   "cell_type": "markdown",
   "id": "666ad6b3",
   "metadata": {},
   "source": [
    "## 7. 그래프 4대 천왕 (1) 데이터 준비\n",
    "앞에서 그래프 그리는 방법에 대한 큰 틀을 배웠다. 이제 자주 사용되는 그래프를 그려보며 연습해보자."
   ]
  },
  {
   "cell_type": "markdown",
   "id": "ade9b99f",
   "metadata": {},
   "source": [
    "### 1) 데이터 불러오기\n",
    "---\n",
    "Seaborn의 `load_dataset()` 메소드를 이용하면 API를 통해 손쉽게 유명한 예제 데이터를 다운로드 받을 수 있다.\n",
    "\n",
    "참고로, 아래 repo의 데이터는 모두 csv파일로 되어있어 연습용으로 좋다.\n",
    "\n",
    "* https://github.com/mwaskom/seaborn-data\n",
    "\n",
    "메소드를 실행하면 home directory에 자동으로 seaborn-data라는 폴더가 생성되어 다운로드 받은 데이터가 내부에 저장된다.\n",
    "\n",
    "* default directory: ~/seaborn-data/"
   ]
  },
  {
   "cell_type": "code",
   "execution_count": 24,
   "id": "34cf55aa",
   "metadata": {},
   "outputs": [],
   "source": [
    "import pandas as pd\n",
    "import seaborn as sns\n",
    "\n",
    "tips = sns.load_dataset(\"tips\")"
   ]
  },
  {
   "cell_type": "markdown",
   "id": "ffa26067",
   "metadata": {},
   "source": [
    "여기서는 tips데이터를 불러왔다. 이 데이터는 종업원들이 tip을 얼마 받았는지에 대한 데이터가 있는 파일이다.\n",
    "\n",
    "**[tips.csv](https://aiffelstaticprd.blob.core.windows.net/media/documents/tips.csv)**<br>\n",
    "[https://github.com/mwaskom/seaborn-data/blob/master/tips.csv](https://github.com/mwaskom/seaborn-data/blob/master/tips.csv)"
   ]
  },
  {
   "cell_type": "markdown",
   "id": "43656226",
   "metadata": {},
   "source": [
    "### 2) 데이터 살펴보기 (EDA)\n",
    "---\n",
    "Pandas의 dataframe을 이용해서 데이터가 어떻게 구성되어 있는지 확인하겠다.\n",
    "\n",
    "실행 후 결과를 살펴보자."
   ]
  },
  {
   "cell_type": "code",
   "execution_count": 25,
   "id": "82de4c62",
   "metadata": {},
   "outputs": [
    {
     "data": {
      "text/html": [
       "<div>\n",
       "<style scoped>\n",
       "    .dataframe tbody tr th:only-of-type {\n",
       "        vertical-align: middle;\n",
       "    }\n",
       "\n",
       "    .dataframe tbody tr th {\n",
       "        vertical-align: top;\n",
       "    }\n",
       "\n",
       "    .dataframe thead th {\n",
       "        text-align: right;\n",
       "    }\n",
       "</style>\n",
       "<table border=\"1\" class=\"dataframe\">\n",
       "  <thead>\n",
       "    <tr style=\"text-align: right;\">\n",
       "      <th></th>\n",
       "      <th>total_bill</th>\n",
       "      <th>tip</th>\n",
       "      <th>sex</th>\n",
       "      <th>smoker</th>\n",
       "      <th>day</th>\n",
       "      <th>time</th>\n",
       "      <th>size</th>\n",
       "    </tr>\n",
       "  </thead>\n",
       "  <tbody>\n",
       "    <tr>\n",
       "      <th>0</th>\n",
       "      <td>16.99</td>\n",
       "      <td>1.01</td>\n",
       "      <td>Female</td>\n",
       "      <td>No</td>\n",
       "      <td>Sun</td>\n",
       "      <td>Dinner</td>\n",
       "      <td>2</td>\n",
       "    </tr>\n",
       "    <tr>\n",
       "      <th>1</th>\n",
       "      <td>10.34</td>\n",
       "      <td>1.66</td>\n",
       "      <td>Male</td>\n",
       "      <td>No</td>\n",
       "      <td>Sun</td>\n",
       "      <td>Dinner</td>\n",
       "      <td>3</td>\n",
       "    </tr>\n",
       "    <tr>\n",
       "      <th>2</th>\n",
       "      <td>21.01</td>\n",
       "      <td>3.50</td>\n",
       "      <td>Male</td>\n",
       "      <td>No</td>\n",
       "      <td>Sun</td>\n",
       "      <td>Dinner</td>\n",
       "      <td>3</td>\n",
       "    </tr>\n",
       "    <tr>\n",
       "      <th>3</th>\n",
       "      <td>23.68</td>\n",
       "      <td>3.31</td>\n",
       "      <td>Male</td>\n",
       "      <td>No</td>\n",
       "      <td>Sun</td>\n",
       "      <td>Dinner</td>\n",
       "      <td>2</td>\n",
       "    </tr>\n",
       "    <tr>\n",
       "      <th>4</th>\n",
       "      <td>24.59</td>\n",
       "      <td>3.61</td>\n",
       "      <td>Female</td>\n",
       "      <td>No</td>\n",
       "      <td>Sun</td>\n",
       "      <td>Dinner</td>\n",
       "      <td>4</td>\n",
       "    </tr>\n",
       "  </tbody>\n",
       "</table>\n",
       "</div>"
      ],
      "text/plain": [
       "   total_bill   tip     sex smoker  day    time  size\n",
       "0       16.99  1.01  Female     No  Sun  Dinner     2\n",
       "1       10.34  1.66    Male     No  Sun  Dinner     3\n",
       "2       21.01  3.50    Male     No  Sun  Dinner     3\n",
       "3       23.68  3.31    Male     No  Sun  Dinner     2\n",
       "4       24.59  3.61  Female     No  Sun  Dinner     4"
      ]
     },
     "execution_count": 25,
     "metadata": {},
     "output_type": "execute_result"
    }
   ],
   "source": [
    "df = pd.DataFrame(tips)\n",
    "df.head()"
   ]
  },
  {
   "cell_type": "code",
   "execution_count": 26,
   "id": "1a71bf1a",
   "metadata": {},
   "outputs": [
    {
     "data": {
      "text/plain": [
       "(244, 7)"
      ]
     },
     "execution_count": 26,
     "metadata": {},
     "output_type": "execute_result"
    }
   ],
   "source": [
    "df.shape"
   ]
  },
  {
   "cell_type": "code",
   "execution_count": 27,
   "id": "c9a17082",
   "metadata": {},
   "outputs": [
    {
     "data": {
      "text/html": [
       "<div>\n",
       "<style scoped>\n",
       "    .dataframe tbody tr th:only-of-type {\n",
       "        vertical-align: middle;\n",
       "    }\n",
       "\n",
       "    .dataframe tbody tr th {\n",
       "        vertical-align: top;\n",
       "    }\n",
       "\n",
       "    .dataframe thead th {\n",
       "        text-align: right;\n",
       "    }\n",
       "</style>\n",
       "<table border=\"1\" class=\"dataframe\">\n",
       "  <thead>\n",
       "    <tr style=\"text-align: right;\">\n",
       "      <th></th>\n",
       "      <th>total_bill</th>\n",
       "      <th>tip</th>\n",
       "      <th>size</th>\n",
       "    </tr>\n",
       "  </thead>\n",
       "  <tbody>\n",
       "    <tr>\n",
       "      <th>count</th>\n",
       "      <td>244.000000</td>\n",
       "      <td>244.000000</td>\n",
       "      <td>244.000000</td>\n",
       "    </tr>\n",
       "    <tr>\n",
       "      <th>mean</th>\n",
       "      <td>19.785943</td>\n",
       "      <td>2.998279</td>\n",
       "      <td>2.569672</td>\n",
       "    </tr>\n",
       "    <tr>\n",
       "      <th>std</th>\n",
       "      <td>8.902412</td>\n",
       "      <td>1.383638</td>\n",
       "      <td>0.951100</td>\n",
       "    </tr>\n",
       "    <tr>\n",
       "      <th>min</th>\n",
       "      <td>3.070000</td>\n",
       "      <td>1.000000</td>\n",
       "      <td>1.000000</td>\n",
       "    </tr>\n",
       "    <tr>\n",
       "      <th>25%</th>\n",
       "      <td>13.347500</td>\n",
       "      <td>2.000000</td>\n",
       "      <td>2.000000</td>\n",
       "    </tr>\n",
       "    <tr>\n",
       "      <th>50%</th>\n",
       "      <td>17.795000</td>\n",
       "      <td>2.900000</td>\n",
       "      <td>2.000000</td>\n",
       "    </tr>\n",
       "    <tr>\n",
       "      <th>75%</th>\n",
       "      <td>24.127500</td>\n",
       "      <td>3.562500</td>\n",
       "      <td>3.000000</td>\n",
       "    </tr>\n",
       "    <tr>\n",
       "      <th>max</th>\n",
       "      <td>50.810000</td>\n",
       "      <td>10.000000</td>\n",
       "      <td>6.000000</td>\n",
       "    </tr>\n",
       "  </tbody>\n",
       "</table>\n",
       "</div>"
      ],
      "text/plain": [
       "       total_bill         tip        size\n",
       "count  244.000000  244.000000  244.000000\n",
       "mean    19.785943    2.998279    2.569672\n",
       "std      8.902412    1.383638    0.951100\n",
       "min      3.070000    1.000000    1.000000\n",
       "25%     13.347500    2.000000    2.000000\n",
       "50%     17.795000    2.900000    2.000000\n",
       "75%     24.127500    3.562500    3.000000\n",
       "max     50.810000   10.000000    6.000000"
      ]
     },
     "execution_count": 27,
     "metadata": {},
     "output_type": "execute_result"
    }
   ],
   "source": [
    "df.describe()"
   ]
  },
  {
   "cell_type": "code",
   "execution_count": 28,
   "id": "061c0630",
   "metadata": {},
   "outputs": [
    {
     "name": "stdout",
     "output_type": "stream",
     "text": [
      "<class 'pandas.core.frame.DataFrame'>\n",
      "RangeIndex: 244 entries, 0 to 243\n",
      "Data columns (total 7 columns):\n",
      " #   Column      Non-Null Count  Dtype   \n",
      "---  ------      --------------  -----   \n",
      " 0   total_bill  244 non-null    float64 \n",
      " 1   tip         244 non-null    float64 \n",
      " 2   sex         244 non-null    category\n",
      " 3   smoker      244 non-null    category\n",
      " 4   day         244 non-null    category\n",
      " 5   time        244 non-null    category\n",
      " 6   size        244 non-null    int64   \n",
      "dtypes: category(4), float64(2), int64(1)\n",
      "memory usage: 7.3 KB\n"
     ]
    }
   ],
   "source": [
    "df.info()"
   ]
  },
  {
   "cell_type": "markdown",
   "id": "6ea732e6",
   "metadata": {},
   "source": [
    "본 데이터에는 결측 값이 없어서 결측 값 처리가 따로 필요하지 않다.\n",
    "\n",
    "데이터 변수들 중에서 `sex`, `smoker`, `day`, `time`이 범주(category)형 데이터고 `tips`, `total_bill`, `size`는 수치형 데이터이다. 그러나 `size`는 테이블 인원을 의미하니까 범주형 데이터로 봐야할 것이다.\n",
    "\n",
    "범주형 변수의 카테고리별 개수를 알아보자."
   ]
  },
  {
   "cell_type": "code",
   "execution_count": 29,
   "id": "43d20287",
   "metadata": {},
   "outputs": [
    {
     "name": "stdout",
     "output_type": "stream",
     "text": [
      "Male      157\n",
      "Female     87\n",
      "Name: sex, dtype: int64\n",
      "===========================\n",
      "Dinner    176\n",
      "Lunch      68\n",
      "Name: time, dtype: int64\n",
      "===========================\n",
      "No     151\n",
      "Yes     93\n",
      "Name: smoker, dtype: int64\n",
      "===========================\n",
      "Sat     87\n",
      "Sun     76\n",
      "Thur    62\n",
      "Fri     19\n",
      "Name: day, dtype: int64\n",
      "===========================\n",
      "2    156\n",
      "3     38\n",
      "4     37\n",
      "5      5\n",
      "6      4\n",
      "1      4\n",
      "Name: size, dtype: int64\n",
      "===========================\n"
     ]
    }
   ],
   "source": [
    "print(df['sex'].value_counts())\n",
    "print(\"===========================\")\n",
    "\n",
    "\n",
    "print(df['time'].value_counts())\n",
    "print(\"===========================\")\n",
    "\n",
    "\n",
    "print(df['smoker'].value_counts())\n",
    "print(\"===========================\")\n",
    "\n",
    "\n",
    "print(df['day'].value_counts())\n",
    "print(\"===========================\")\n",
    "\n",
    "\n",
    "print(df['size'].value_counts())\n",
    "print(\"===========================\")"
   ]
  },
  {
   "cell_type": "markdown",
   "id": "809c184f",
   "metadata": {},
   "source": [
    "## 8. 그래프 4대 천왕 (2) 범주형 데이터\n",
    "데이터가 준비 되었으니 그래프를 그려보겠다.\n",
    "\n",
    "앞서 데이터를 살펴본 결과, 범주형 변수와 수치형 변수가 있다는 것을 알 수 있었다.<br>\n",
    "변수 데이터를 시각화할 때 데이터 종류에 따라 사용하는 그래프가 다르다.<br>\n",
    "지금부터 범주형, 수치형 순으로 총 4개의 그래프를 살펴보겠다."
   ]
  },
  {
   "cell_type": "markdown",
   "id": "fc394fb0",
   "metadata": {},
   "source": [
    "### **범주형 데이터**\n",
    "\n",
    "---\n",
    "\n",
    "범주형 데이터는 주로 막대 그래프를 사용하여 수치를 요약한다. 일반적으로 가로, 세로, 누적, 그룹화된 막대 그래프를 사용한다.\n",
    "\n",
    "tips데이터에서 범주형 변수는 `sex`, `smoker`, `day`, `time`, `size`이다."
   ]
  },
  {
   "cell_type": "markdown",
   "id": "33bacd4f",
   "metadata": {},
   "source": [
    "**1) 막대 그래프(bar graph)**\n",
    "\n",
    "* **Pandas와 Matplotlib를 활용한 방법**\n",
    "\n",
    "우선 조금 복잡한 방법부터 알아보겠다.\n",
    "\n",
    "matplotlib에 데이터를 인자로 넣기 위해선 pandas 데이터를 바로 이용할 수는 없다. 데이터를 x, y에 series, list 형태로 각각 나눠주어야 한다."
   ]
  },
  {
   "cell_type": "code",
   "execution_count": null,
   "id": "1e666d10",
   "metadata": {},
   "outputs": [],
   "source": [
    "df.head()"
   ]
  },
  {
   "cell_type": "markdown",
   "id": "989f0865",
   "metadata": {},
   "source": [
    "tip컬럼을 성별에 대한 평균으로 나타내 보겠다.\n",
    "\n",
    "pandas의 groupby 메소드를 활용한다."
   ]
  },
  {
   "cell_type": "code",
   "execution_count": null,
   "id": "cec7992d",
   "metadata": {},
   "outputs": [],
   "source": [
    "grouped = df['tip'].groupby(df['sex'])"
   ]
  },
  {
   "cell_type": "markdown",
   "id": "2e332a1f",
   "metadata": {},
   "source": [
    "어떤가? 코드를 해석해 보면, `df['tip']` 컬럼을 `groupby()`한다는 뜻이다. `groupby()`의 인자는 sex를 넣어 주었다."
   ]
  },
  {
   "cell_type": "code",
   "execution_count": null,
   "id": "77f6803d",
   "metadata": {},
   "outputs": [],
   "source": [
    "grouped.mean() # 성별에 따른 팁의 평균"
   ]
  },
  {
   "cell_type": "code",
   "execution_count": null,
   "id": "2e0fe5c4",
   "metadata": {},
   "outputs": [],
   "source": [
    "grouped.size() # 성별에 따른 데이터 량(팁 횟수)"
   ]
  },
  {
   "cell_type": "code",
   "execution_count": null,
   "id": "3cd09aa8",
   "metadata": {},
   "outputs": [],
   "source": [
    "import numpy as np\n",
    "sex = dict(grouped.mean())\n",
    "x = list(sex.keys())\n",
    "y = list(sex.values())\n",
    "\n",
    "plt.bar(x, y)\n",
    "plt.ylabel('tip[$]')\n",
    "plt.title('Tip by Sex')\n",
    "plt.legend()"
   ]
  },
  {
   "cell_type": "markdown",
   "id": "f2bacb70",
   "metadata": {},
   "source": [
    "* **Seaborn과 Matplotlib을 활용한 간단한 방법**\n",
    "\n",
    "Seaborn을 이용하면 더 쉽게 나타낼 수 있다.\n",
    "\n",
    "바로 sns.barplot() 메소드를 이용하는 것이다."
   ]
  },
  {
   "cell_type": "code",
   "execution_count": null,
   "id": "bfd856ec",
   "metadata": {},
   "outputs": [],
   "source": [
    "sns.barplot(data=df, x='sex', y='tip')"
   ]
  },
  {
   "cell_type": "markdown",
   "id": "46bb86af",
   "metadata": {},
   "source": [
    "Matplot과 함께 사용하여 figsize, title을 정하는 등 그래프에 다양한 옵션을 넣을 수도 있다."
   ]
  },
  {
   "cell_type": "code",
   "execution_count": null,
   "id": "caefa84b",
   "metadata": {},
   "outputs": [],
   "source": [
    "plt.figure(figsize=(10,6))\n",
    "sns.barplot(data=df, x='sex', y='tip')\n",
    "plt.ylim(0, 4)\n",
    "plt.title('Tip by sex')"
   ]
  },
  {
   "cell_type": "markdown",
   "id": "d7d496f5",
   "metadata": {},
   "source": [
    "아래는 요일에 따른 tips의 그래프이다."
   ]
  },
  {
   "cell_type": "code",
   "execution_count": null,
   "id": "0262a2a9",
   "metadata": {},
   "outputs": [],
   "source": [
    "plt.figure(figsize=(10,6))\n",
    "sns.barplot(data=df, x='day', y='tip')\n",
    "plt.ylim(0, 4)\n",
    "plt.title('Tip by day')"
   ]
  },
  {
   "cell_type": "markdown",
   "id": "0c5183e8",
   "metadata": {},
   "source": [
    "Subplot을 활용할 수도 있고, 범주형 그래프를 나타내기에 좋은 violineplot을 사용할 수도 있다.\n",
    "\n",
    "palette 옵션을 주어 더 예쁜 색상을 사용할 수도 있다."
   ]
  },
  {
   "cell_type": "code",
   "execution_count": null,
   "id": "5b92527e",
   "metadata": {},
   "outputs": [],
   "source": [
    "fig = plt.figure(figsize=(13,10))\n",
    "ax1 = fig.add_subplot(2,2,1)\n",
    "sns.barplot(data=df, x='day', y='tip',palette=\"ch:.25\")\n",
    "ax2 = fig.add_subplot(2,2,2)\n",
    "sns.barplot(data=df, x='sex', y='tip')\n",
    "ax3 = fig.add_subplot(2,2,4)\n",
    "sns.violinplot(data=df, x='sex', y='tip')\n",
    "ax3 = fig.add_subplot(2,2,3)\n",
    "sns.violinplot(data=df, x='day', y='tip',palette=\"ch:.25\")"
   ]
  },
  {
   "cell_type": "markdown",
   "id": "9a361cd8",
   "metadata": {},
   "source": [
    "catplot을 사용하여 나타낼 수도 있다."
   ]
  },
  {
   "cell_type": "code",
   "execution_count": null,
   "id": "c023bc9b",
   "metadata": {},
   "outputs": [],
   "source": [
    "sns.catplot(x=\"day\", y=\"tip\", jitter=False, data=tips)"
   ]
  },
  {
   "cell_type": "markdown",
   "id": "364279b6",
   "metadata": {},
   "source": [
    "## 9. 그래프 4대 천왕 (3) 수치형 데이터"
   ]
  },
  {
   "cell_type": "markdown",
   "id": "6ed07e7e",
   "metadata": {},
   "source": [
    "### **수치형 데이터**\n",
    "\n",
    "---\n",
    "수치형 데이터를 나타내는 데 가장 좋은 그래프는 산점도 혹은 선 그래프이다. 전체 음식 가격(`total_bill`)에 따른 `tip`데이터를 시각화하며 산점도와 선 그래프를 배워보자."
   ]
  },
  {
   "cell_type": "markdown",
   "id": "615f33df",
   "metadata": {},
   "source": [
    "**2) 산점도(scatter plot)**\n",
    "\n",
    "hue인자에 'day'를 주어 요일(day)에 따른 tip과 total_bill의 관계를 시각화해보자."
   ]
  },
  {
   "cell_type": "code",
   "execution_count": null,
   "id": "b2ac257a",
   "metadata": {},
   "outputs": [],
   "source": [
    "sns.scatterplot(data=df , x='total_bill', y='tip', palette=\"ch:r=-.2,d=.3_r\")"
   ]
  },
  {
   "cell_type": "code",
   "execution_count": null,
   "id": "168cf160",
   "metadata": {},
   "outputs": [],
   "source": [
    "sns.scatterplot(data=df , x='total_bill', y='tip', hue='day')"
   ]
  },
  {
   "cell_type": "markdown",
   "id": "2e4d88c3",
   "metadata": {},
   "source": [
    "**3) 선 그래프(line graph)**\n",
    "\n",
    "plot의 기본은 선 그래프이다.\n",
    "\n",
    "tips예제로는 선 그래프 설명이 어려워서, 자세한 내용은 실전 예제를 풀면서 다루겠다."
   ]
  },
  {
   "cell_type": "code",
   "execution_count": null,
   "id": "06b73c53",
   "metadata": {},
   "outputs": [],
   "source": [
    "plt.plot(np.random.randn(50).cumsum())"
   ]
  },
  {
   "cell_type": "markdown",
   "id": "387a6c61",
   "metadata": {},
   "source": [
    "step-5에서 설명한 예제 그래프도 선 그래프이다."
   ]
  },
  {
   "cell_type": "code",
   "execution_count": null,
   "id": "d4be470e",
   "metadata": {},
   "outputs": [],
   "source": [
    "x = np.linspace(0, 10, 100) \n",
    "plt.plot(x, np.sin(x), 'o')\n",
    "plt.plot(x, np.cos(x)) \n",
    "plt.show()"
   ]
  },
  {
   "cell_type": "markdown",
   "id": "9e66c70f",
   "metadata": {},
   "source": [
    "Seaborn을 활용하면 다음과 같이 그릴 수 있다."
   ]
  },
  {
   "cell_type": "code",
   "execution_count": null,
   "id": "b99cab96",
   "metadata": {},
   "outputs": [],
   "source": [
    "sns.lineplot(x, np.sin(x))\n",
    "sns.lineplot(x, np.cos(x))"
   ]
  },
  {
   "cell_type": "markdown",
   "id": "7952531e",
   "metadata": {},
   "source": [
    "**4) 히스토그램**\n",
    "\n",
    "먼저 히스토그램의 개념 정리 한 번 하도록 하자.\n",
    "\n",
    "히스토그램은 도수분포표를 그래프로 나타낸 것이다. 히스토그램의 용어는 다음과 같다.\n",
    "\n",
    "* 가로축\n",
    "    - 계급: 변수의 구간, bin (or bucket)\n",
    "* 세로축\n",
    "    - 도수: 빈도수, frequency\n",
    "* 전체 총량: n\n",
    "\n",
    "다음과 같은 데이터의 히스토그램을 만들어보겠다.\n",
    "\n",
    "* x1과 x2의 평균은 100, 130이다. \n",
    "* 도수를 50개의 구간으로 표시하며, 확률 밀도가 아닌 빈도로 표기한다."
   ]
  },
  {
   "cell_type": "code",
   "execution_count": null,
   "id": "6b1e6410",
   "metadata": {},
   "outputs": [],
   "source": [
    "#그래프 데이터 \n",
    "mu1, mu2, sigma = 100, 130, 15\n",
    "x1 = mu1 + sigma*np.random.randn(10000)\n",
    "x2 = mu2 + sigma*np.random.randn(10000)\n",
    "\n",
    "# 축 그리기\n",
    "fig = plt.figure()\n",
    "ax1 = fig.add_subplot(1,1,1)\n",
    "\n",
    "# 그래프 그리기\n",
    "patches = ax1.hist(x1, bins=50, density=False)\n",
    "patches = ax1.hist(x2, bins=50, density=False, alpha=0.5)\n",
    "ax1.xaxis.set_ticks_position('bottom')\n",
    "ax1.yaxis.set_ticks_position('left')\n",
    "\n",
    "# 라벨, 타이틀 달기\n",
    "plt.xlabel('Bins')\n",
    "plt.ylabel('Number of Values in Bin')\n",
    "ax1.set_title('Two Frequency Distributions')\n",
    "\n",
    "# 보여주기\n",
    "plt.show()"
   ]
  },
  {
   "cell_type": "markdown",
   "id": "e5acad00",
   "metadata": {},
   "source": [
    "#### 예제 데이터의 히스토그램\n",
    "\n",
    "예제의 tips 데이터로 돌아가서 tips 데이터의 total_bill과 tips에 대해 히스토그램을 만들어 보겠다."
   ]
  },
  {
   "cell_type": "code",
   "execution_count": null,
   "id": "b5525c22",
   "metadata": {},
   "outputs": [],
   "source": [
    "sns.distplot(df['total_bill'])\n",
    "sns.distplot(df['tip'])"
   ]
  },
  {
   "cell_type": "markdown",
   "id": "bdd30122",
   "metadata": {},
   "source": [
    "전체 결제 금액 대비 팁의 비율을 나타내는 히스토그램을 그려보겠다."
   ]
  },
  {
   "cell_type": "code",
   "execution_count": null,
   "id": "74d79f19",
   "metadata": {},
   "outputs": [],
   "source": [
    "df['tip_pct'] = df['tip'] / df['total_bill']\n",
    "df['tip_pct'].hist(bins=50)"
   ]
  },
  {
   "cell_type": "code",
   "execution_count": null,
   "id": "f73e4521",
   "metadata": {},
   "outputs": [],
   "source": [
    "df['tip_pct'].plot(kind='kde')"
   ]
  },
  {
   "cell_type": "markdown",
   "id": "899465c4",
   "metadata": {},
   "source": [
    "`kind='kde'`로 확률 밀도 그래프로 나타내 보았다.\n",
    "\n",
    "* 밀도 그래프: 연속된 확률분포를 나타낸다.\n",
    "\n",
    "    - 일반적으로는 kernels메서드를 섞어서 이 분포를 근사하는 식으로 그린다.\n",
    "    - 이것은 우리에게 친숙한 함수로는 좀 더 단순한 정규분포(가우시안)로 나타낼 수 있다.\n",
    "    - 밀도 그래프는 KDE(Kernel Density Estimate) 커널 밀도 추정 그래프이다."
   ]
  },
  {
   "cell_type": "markdown",
   "id": "4cf0d1dc",
   "metadata": {},
   "source": [
    "### 그래프 4대 천왕...\n",
    "---\n",
    "막대 그래프(bar graph), 꺾은선 그래프(line graph), 산점도(scatter plot), 히스토그램(histogram)은 정말 많이 쓰이는 그래프기 때문에 그래프 4대천왕 이라는 이름을 붙여 봤다. 수치형 데이터인지, 범주형 데이터인지에 따라 어떤 plot을 사용하는게 좋을지 한번 고민해보자"
   ]
  },
  {
   "cell_type": "markdown",
   "id": "8445cad7",
   "metadata": {},
   "source": [
    "## 10. 시계열 데이터 시각화하기"
   ]
  },
  {
   "cell_type": "markdown",
   "id": "e7683a56",
   "metadata": {},
   "source": [
    "### 시계열 데이터 시각화 하기\n",
    "---\n",
    "우리 주위에는 시계열 데이터가 정말 많다.\n",
    "\n",
    "이번에는 1949년-1960년도별 탑승객 예제 데이터를 가지고 시계열 데이터를 다루어 보도록 하겠다."
   ]
  },
  {
   "cell_type": "markdown",
   "id": "9d3e0cfa",
   "metadata": {},
   "source": [
    "#### **1. 데이터 가져오기**\n",
    "\n",
    "**[flights.csv](https://aiffelstaticprd.blob.core.windows.net/media/documents/flights.csv)**\n",
    "\n",
    "터미널에서 아래 명령어를 실행하여 다운로드해도 좋고 step7에서처럼 Seaborn의 `load_dataset()` 메소드를 이용해도 좋다.\n",
    "\n",
    "```bash\n",
    "$ mkdir -p ~/aiffel/data_represent/data\n",
    "$ wget https://aiffelstaticprd.blob.core.windows.net/media/documents/flights.csv\n",
    "$ mv flights.csv ~/aiffel/data_represent/data\n",
    "```"
   ]
  },
  {
   "cell_type": "code",
   "execution_count": null,
   "id": "78a7abb8",
   "metadata": {},
   "outputs": [],
   "source": [
    "csv_path = os.getenv(\"HOME\") + \"/aiffel/data_represent/data/flights.csv\"\n",
    "data = pd.read_csv(csv_path)\n",
    "flights = pd.DataFrame(data)\n",
    "flights"
   ]
  },
  {
   "cell_type": "markdown",
   "id": "c004836b",
   "metadata": {},
   "source": [
    "데이터는 아주 간단하다. 연도의 각 달별로 탑승객 수를 보여주고 있다."
   ]
  },
  {
   "cell_type": "markdown",
   "id": "c5a36248",
   "metadata": {},
   "source": [
    "#### 2. 그래프 그리기"
   ]
  },
  {
   "cell_type": "code",
   "execution_count": null,
   "id": "498e6b69",
   "metadata": {},
   "outputs": [],
   "source": [
    "sns.barplot(data=flights, x='year', y='passengers')"
   ]
  },
  {
   "cell_type": "code",
   "execution_count": null,
   "id": "3c768196",
   "metadata": {},
   "outputs": [],
   "source": [
    "sns.pointplot(data=flights, x='year', y='passengers')"
   ]
  },
  {
   "cell_type": "code",
   "execution_count": null,
   "id": "c3cf0abc",
   "metadata": {},
   "outputs": [],
   "source": [
    "sns.lineplot(data=flights, x='year', y='passengers')"
   ]
  },
  {
   "cell_type": "markdown",
   "id": "7cbcd4d1",
   "metadata": {},
   "source": [
    "달별로 나누어 보기위해 `hue`인자에 'month'를 할당한다."
   ]
  },
  {
   "cell_type": "code",
   "execution_count": null,
   "id": "806704ad",
   "metadata": {},
   "outputs": [],
   "source": [
    "sns.lineplot(data=flights, x='year', y='passengers', hue='month', palette='ch:.50')\n",
    "plt.legend(bbox_to_anchor=(1.03, 1), loc=2) #legend 그래프 밖에 추가하기"
   ]
  },
  {
   "cell_type": "markdown",
   "id": "2a8b3c2f",
   "metadata": {},
   "source": [
    "* **히스토그램**"
   ]
  },
  {
   "cell_type": "code",
   "execution_count": null,
   "id": "5597c61e",
   "metadata": {},
   "outputs": [],
   "source": [
    "sns.distplot(flights['passengers'])"
   ]
  },
  {
   "cell_type": "markdown",
   "id": "8d4a18ef",
   "metadata": {},
   "source": [
    "## 11. Heatmap"
   ]
  },
  {
   "cell_type": "markdown",
   "id": "9dd452cf",
   "metadata": {},
   "source": [
    "### Heatmap\n",
    "---\n",
    "Heatmap은 방대한 량의 데이터와 현상을 수치에 따른 색상으로 나타내는 것으로, 데이터 차원에 대한 제한은 없으나 모두 2차원으로 시각화하여 표현한다.\n",
    "\n",
    "예제 데이터의 연도와 달에 대해 탑승객 수를 heatmap으로 나타내보겠다."
   ]
  },
  {
   "cell_type": "markdown",
   "id": "e2242eab",
   "metadata": {},
   "source": [
    "#### 잠깐만! pivot\n",
    "\n",
    "Heatmap을 그리기 위해 데이터를 pivot해야 하는 경우가 있다.\n",
    "\n",
    "pivot이란 어떤 축, 점을 기준으로 바꾸다란 뜻이다. 데이터 표를 재배치 할때도 pivot이라는 단어를 사용한다. (엑셀, Database에도 등장하는 용어 이다.)\n",
    "\n",
    "pandas의 dataframe의 pivot() 메소드를 사용한다.\n",
    "\n",
    "flights(DataFrame)을 탑승객 수를 year과 month로 pivot 해보겠다."
   ]
  },
  {
   "cell_type": "code",
   "execution_count": null,
   "id": "fdc77083",
   "metadata": {},
   "outputs": [],
   "source": [
    "pivot = flights.pivot(index='year', columns='month', values='passengers')\n",
    "pivot"
   ]
  },
  {
   "cell_type": "code",
   "execution_count": null,
   "id": "35cd3473",
   "metadata": {},
   "outputs": [],
   "source": [
    "sns.heatmap(pivot)"
   ]
  },
  {
   "cell_type": "markdown",
   "id": "5507f870",
   "metadata": {},
   "source": [
    "다양한 옵션을 줄 수 있다."
   ]
  },
  {
   "cell_type": "code",
   "execution_count": null,
   "id": "12c33e8e",
   "metadata": {},
   "outputs": [],
   "source": [
    "sns.heatmap(pivot, linewidths=.2, annot=True, fmt=\"d\")"
   ]
  },
  {
   "cell_type": "code",
   "execution_count": null,
   "id": "d3c0d22c",
   "metadata": {},
   "outputs": [],
   "source": [
    "sns.heatmap(pivot, cmap=\"YlGnBu\")"
   ]
  }
 ],
 "metadata": {
  "kernelspec": {
   "display_name": "aiffel",
   "language": "python",
   "name": "aiffel"
  },
  "language_info": {
   "codemirror_mode": {
    "name": "ipython",
    "version": 3
   },
   "file_extension": ".py",
   "mimetype": "text/x-python",
   "name": "python",
   "nbconvert_exporter": "python",
   "pygments_lexer": "ipython3",
   "version": "3.7.9"
  },
  "toc": {
   "base_numbering": 1,
   "nav_menu": {},
   "number_sections": true,
   "sideBar": true,
   "skip_h1_title": false,
   "title_cell": "Table of Contents",
   "title_sidebar": "Contents",
   "toc_cell": false,
   "toc_position": {},
   "toc_section_display": true,
   "toc_window_display": false
  },
  "varInspector": {
   "cols": {
    "lenName": 16,
    "lenType": 16,
    "lenVar": 40
   },
   "kernels_config": {
    "python": {
     "delete_cmd_postfix": "",
     "delete_cmd_prefix": "del ",
     "library": "var_list.py",
     "varRefreshCmd": "print(var_dic_list())"
    },
    "r": {
     "delete_cmd_postfix": ") ",
     "delete_cmd_prefix": "rm(",
     "library": "var_list.r",
     "varRefreshCmd": "cat(var_dic_list()) "
    }
   },
   "types_to_exclude": [
    "module",
    "function",
    "builtin_function_or_method",
    "instance",
    "_Feature"
   ],
   "window_display": false
  }
 },
 "nbformat": 4,
 "nbformat_minor": 5
}
