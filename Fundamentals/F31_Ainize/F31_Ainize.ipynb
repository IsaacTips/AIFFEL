{
 "cells": [
  {
   "cell_type": "markdown",
   "id": "round-supplement",
   "metadata": {},
   "source": [
    "# 31. Ainize, 나의 원클릭 포트폴리오 만들기"
   ]
  },
  {
   "cell_type": "markdown",
   "id": "effective-difference",
   "metadata": {},
   "source": [
    "## 1. 들어가며"
   ]
  },
  {
   "cell_type": "markdown",
   "id": "attempted-carol",
   "metadata": {},
   "source": [
    "### 나만의 ML프로젝트, 설명하지 않고 보여줄 수 있다면?\n",
    "---\n",
    "나만의 ML 프로젝트가 멋지게 구동되도록 웹상에 배포할 수 있다면 어떨까? 그것도 클릭 한번에 말이다. 깃허브에 간단하게 배포를 도와주는 버튼을 달아서 여러분의 포트폴리오의 매력을 사람들이 한눈에 알아볼 수 있도록 할 수 있다면 어떨까?"
   ]
  },
  {
   "cell_type": "markdown",
   "id": "martial-classic",
   "metadata": {},
   "source": [
    "### DevOps to MLOps\n",
    "---\n",
    "\n",
    "<img src=\"./image/mlops.png\">\n",
    "\n",
    "IT 회사에서 제품 개발 사이클을 단순하게 도식화하면 위의 그림처럼 표현할 수 있다. 각 과정을 짧게 살펴보면, 프로토타이핑 단계에서는 현실적으로 만들 수 있는 제품인지 POC(proof of concept)를 완성하는 일이다. 그 다음 로컬 실행 혹은 내부 테스트를 통해 문제점을 해결하고, 작은 업데이트를 진행하는 등 프로그램의 퀄리티를 개선하는 작업을 한다. 그 후, 사용자들이 용이하게 프로그램을 사용할 수 있게 만들어 주는 패키징 과정을 거치고, 그 패키징된 프로그램을 배포하여 유저들이 사용할 수 있도록 한다. 그리고 배포된 프로그램이 실행되는 동안 발생하는 문제들 혹은 다음 업데이트 사항들을 적용하는 과정을 거쳐 프로그램 버전업, 핫픽스 같은 것들을 꾸준히 적용해줌으로써 프로그램에 지속적으로 생명을 부여하게 된다.\n",
    "\n",
    "위와 같은 일련의 과정을 Development Operations, 짧게 줄여 __DevOps__ 라고 한다. 단순히 코드로 구현만하는것이 아니라, 실제 제품으로서 프로그램이 살아 숨쉴 수 있도록 모든 과정을 책임지고 수행하는 일을 말한다.<br>\n",
    "추가로, __MLOps__란 Machine Learning Operations의 약자로, AI 구현체를 단순히 코드로만 놔두는 것이 아니라 실제 작동하는 AI를 만드는 것을 목표로 한다."
   ]
  },
  {
   "cell_type": "markdown",
   "id": "infinite-engagement",
   "metadata": {},
   "source": [
    "### Ainize\n",
    "---\n",
    "오늘 소개할 Ainize 서비스는 단순히 텍스트 형식으로 잠들어 있는 오픈소스 코드에 생명을 불어넣어준다. 머신러닝 기법을 연구/개발하고 논문과 오픈소스로 결과를 도출하는 일은 정말 멋진 일이다. 하지만, 더 나아가 내가 만든 AI가 살아 숨쉬어 프로그램으로 작동한다면, 많은 사람들이 논문과 코드의 벽에서 막히지 않고, 내 프로젝트를 더 쉽게 접근할 수 있을 것이다. Ainize는 무료 배포(free deployment)와 간단한 환경 설정(simple configuration), 그리고 자동 스케일링 서비스(auto-scaling service)를 제공한다.\n",
    "\n",
    "Ainize에 대한 더 자세한 내용은 아래 링크를 참고.\n",
    "\n",
    "[Ainize Tutorials](https://app.gitbook.com/@ai-network/s/ainize-tutorials/)"
   ]
  },
  {
   "cell_type": "markdown",
   "id": "polished-stevens",
   "metadata": {},
   "source": [
    "### 선수 과정\n",
    "---\n",
    "Ainize를 통해 내 프로젝트에 생명을 불어넣기 위해서는 Docker 설치와 Ainize 서비스 가입이 미리 되어있어야 한다.\n",
    "\n",
    "* Docker 설치 (https://docs.docker.com/install/linux/docker-ce/ubuntu/)\n",
    "* Ainize 가입 (https://ainize.ai/)\n",
    "\n",
    "(참고) 우분투 18.04에서 Docker를 설치하는 좀 더 친절한 방법 안내는 [여기](https://hiseon.me/linux/ubuntu/install-docker/)를 참고."
   ]
  },
  {
   "cell_type": "code",
   "execution_count": null,
   "id": "lovely-belgium",
   "metadata": {},
   "outputs": [],
   "source": []
  }
 ],
 "metadata": {
  "kernelspec": {
   "display_name": "aiffel",
   "language": "python",
   "name": "aiffel"
  },
  "language_info": {
   "codemirror_mode": {
    "name": "ipython",
    "version": 3
   },
   "file_extension": ".py",
   "mimetype": "text/x-python",
   "name": "python",
   "nbconvert_exporter": "python",
   "pygments_lexer": "ipython3",
   "version": "3.7.9"
  },
  "toc": {
   "base_numbering": 1,
   "nav_menu": {},
   "number_sections": true,
   "sideBar": true,
   "skip_h1_title": false,
   "title_cell": "Table of Contents",
   "title_sidebar": "Contents",
   "toc_cell": false,
   "toc_position": {},
   "toc_section_display": true,
   "toc_window_display": false
  },
  "varInspector": {
   "cols": {
    "lenName": 16,
    "lenType": 16,
    "lenVar": 40
   },
   "kernels_config": {
    "python": {
     "delete_cmd_postfix": "",
     "delete_cmd_prefix": "del ",
     "library": "var_list.py",
     "varRefreshCmd": "print(var_dic_list())"
    },
    "r": {
     "delete_cmd_postfix": ") ",
     "delete_cmd_prefix": "rm(",
     "library": "var_list.r",
     "varRefreshCmd": "cat(var_dic_list()) "
    }
   },
   "types_to_exclude": [
    "module",
    "function",
    "builtin_function_or_method",
    "instance",
    "_Feature"
   ],
   "window_display": false
  }
 },
 "nbformat": 4,
 "nbformat_minor": 5
}
