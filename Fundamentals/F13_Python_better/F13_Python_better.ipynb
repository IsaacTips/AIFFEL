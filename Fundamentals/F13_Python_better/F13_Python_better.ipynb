{
 "cells": [
  {
   "cell_type": "markdown",
   "id": "e566a36f",
   "metadata": {},
   "source": [
    "# 13. 파이썬 잘 하는 척 해보자"
   ]
  },
  {
   "cell_type": "markdown",
   "id": "a5ca8b0c",
   "metadata": {},
   "source": [
    "## 1. 들어가며"
   ]
  },
  {
   "cell_type": "markdown",
   "id": "685263eb",
   "metadata": {},
   "source": [
    "### **학습 목표**\n",
    "\n",
    "---\n",
    "\n",
    "* 파이썬에 대해서 알아보자.\n",
    "* 코드 재사용에 대해서 알아보자.\n",
    "* 프로그래밍 패러다임에 대해서 알아보자.\n",
    "* 파이썬 코드를 이쁘게 해보자."
   ]
  },
  {
   "cell_type": "markdown",
   "id": "0795bdee",
   "metadata": {},
   "source": [
    "### 목차\n",
    "---\n",
    "1. 파이썬 어디까지 써 봤니?!\n",
    "\n",
    "2. 파이썬을 더 잘 사용해보자!<br>\n",
    "    2.1 For문 잘 써보기<br>\n",
    "    2.2 Try - Except<br>\n",
    "    2.3 Multiprocessing<br><br>\n",
    "\n",
    "3. 같은 코드 두 번 짜지 말자!<br>\n",
    "    3.1 함수(Function)<br>\n",
    "    3.2 람다 표현식<br>\n",
    "    3.3 클래스(Class), 모듈(Module), 패키지(Package)<br><br>\n",
    "\n",
    "4. 프로그래밍 패러다임과 함수형 프로그래밍\n",
    "\n",
    "5. 파이써닉하게 코드를 짜보자!"
   ]
  },
  {
   "cell_type": "markdown",
   "id": "ca995d1e",
   "metadata": {},
   "source": [
    "## 2. 파이썬 어디까지 써 봤니?!"
   ]
  },
  {
   "cell_type": "markdown",
   "id": "3160c941",
   "metadata": {},
   "source": [
    "### 파이썬의 성능과 한계\n",
    "---\n",
    "이 세상에 많은 언어들이 존재하는 것처럼, 컴퓨터에도 다양한 언어들이 있다.\n",
    "\n",
    "C, C++, C#, JAVA, PHP, JavaScript, Python, Ruby, Object-C, Perl 등... 이처럼 수많은 언어가 있지만 우리는 여기서 **파이썬(Python)** 을 다뤄보고자 한다.\n",
    "\n",
    "우리는 하필이면 왜 파이썬을 배우고 있을까? 파이썬에 대해 더 깊이 들어가기에 앞서 '왜 파이썬인지' 한번 알아보도록 하겠다."
   ]
  },
  {
   "cell_type": "markdown",
   "id": "6aae24a8",
   "metadata": {},
   "source": [
    "### 퍼포먼스 vs 생산성\n",
    "---\n",
    "코딩 언어에서 가장 중요하게 생각하는 것을 꼽아보라면 바로 '퍼포먼스'와 '생산성' 이다."
   ]
  },
  {
   "cell_type": "markdown",
   "id": "702a1c42",
   "metadata": {},
   "source": [
    "#### 1. 퍼포먼스\n",
    "\n",
    "먼저 **퍼포먼스(성능)** 란 어떤 언어든 코드를 짜서 실행을 시켰을 때 얼마나 빨리 처리가 되는가를 말한다.\n",
    "\n",
    "자전거와 자동차를 이용해 좀 더 자세히 설명해 보겠다. 자전거는 사람이 엔진이 되어 움직이는 이동수단이다. 그리고 자동차는 기계가 엔진으로 있는 성능이 매우 좋은 이동수단이다. 성능이 좋고 나쁘고는 이동수단이 얼마나 빨리 움직이는지에 따라 정해진다. 자전거를 타고 가는 것보다는 자동차를 타고 움직이는 것이 훨씬 빠를 것이다.\n",
    "\n",
    "언어도 똑같다. 퍼포먼스가 좋은 언어는 특정한 연산을 빠르게 수행하고 퍼포먼스가 안 좋은 언어는 연산이 느리게 수행되게 된다..\n",
    "\n",
    "아래는 언어별 특정 연산에 대한 수행 속도 결과이다.\n",
    "\n",
    "<img src=\"./image/time.png\" />\n",
    "\n",
    "위를 보면 C 언어가 퍼포먼스 상위를 차지하고 있고 파이썬은 상대적으로 하위에 위치에 있는 것을 볼 수 있다."
   ]
  },
  {
   "cell_type": "markdown",
   "id": "31fd3223",
   "metadata": {},
   "source": [
    "#### 2. 생산성\n",
    "\n",
    "그렇다면 생산성은 무엇을 의미할까?\n",
    "\n",
    "답은 시간에 있다. 시간은 항상 우리에게 충분히 주어지지 않을 때가 더 많다. 생산성이란 한 마디로 **똑같은 기능을 하는 프로그램을 얼마나 빨리 작성할 수 있는가** 이다.\n",
    "\n",
    "빠른 시간 안에 기능을 구현해야 할 때, 높은 생산성은 큰 의미가 있다.\n",
    "\n",
    "예를 들어, 사진을 분류하는 프로그램을 만든다고 해보자. 같은 기능을 가진 프로그램이라도 파이썬으로는 일주일 만에 짤 수도 있지만, C++로는 한 달이 걸릴 수도 있다. 훨씬 많은 코드를 쳐서 만들어야한다."
   ]
  },
  {
   "cell_type": "markdown",
   "id": "ff09a369",
   "metadata": {},
   "source": [
    "#### 3. 퍼포먼스 vs 생산성\n",
    "\n",
    "C와 파이썬만 보더라도 이렇게 생산성과 퍼포먼스 간의 trade-off가 상당한 걸 볼 수 있다. 그렇다면 생산성과 퍼포먼스 중에서는 어떤 것을 우선적으로 선택해야 할까?\n",
    "\n",
    "생산성과 퍼포먼스가 모두 뛰어난 언어를 선택하면 좋겠지만 사실 생산성이 좋은 언어들은 퍼포먼스가 떨어지고 퍼포먼스가 좋은 언어는 생산성이 떨어진다. 이런 상황에서 우리는 선택을 해야 한다.\n",
    "\n",
    ">그래서 어떤 언어를 써야 할까?<br>\n",
    "목적에 맞게, 상황에 맞게 언어를 선택하고 사용하는 방법을 배우면 된다.<br>\n",
    "실무에서는 먼저 회사의 각 프로그램들에서 기존에 사용하고 있는 언어를 가장 먼저 고려하고, 그다음에는 개발하고자 하는 프로젝트의 성능과 개발 기간을 고려해서 언어를 정하게 된다.\n",
    "\n",
    "결국 성능도 고려하고 시간도 고려해야 한다는 말이다... trade-off에 있는 두 가지를 잘 배합하여 상황에 따라 적절한 언어를 골라야 한다."
   ]
  },
  {
   "cell_type": "markdown",
   "id": "1b0b55c9",
   "metadata": {},
   "source": [
    "### 파이썬의 성능\n",
    "---\n",
    "일단, 우리가 배우려는 언어는 파이썬이니, 왜 우리가 파이썬을 배우면 좋은지 좀 더 알아보겠다."
   ]
  },
  {
   "cell_type": "markdown",
   "id": "17056512",
   "metadata": {},
   "source": [
    "#### 1. 높은 생산성\n",
    "\n",
    "<img src=\"./image/comic.png\" />\n",
    "<center>[출처 : xkcd.com/353/]</center>\n",
    "\n",
    "위 그림은 파이썬 터미널에서 `import antigravity`를 실행하면 나오는 이스터에그 이미지이다. 파이썬의 `Battery Included`라는 모토에 충실하게, 파이썬은 '이런 것까지 이미 다 포함해 두었나!' 하고 놀라울 만큼 다양한 모듈을 이미 라이브러리화해서 제공하고 있다. 뿐만 아니라 `pip`를 통해 얼마든지 쉽게 설치할 수 있는 써드파티 라이브러리를 통해 개발기간을 크게 단축시킬 수 있게 된다.\n",
    "\n",
    "하늘을 나는 기능조차 직접 구현하지 않고 `import`로 불러다 사용하면 된다는 건 우스개이긴 하지만, 파이썬을 사용하고 있다면 어떤 기능을 직접 구현하려 들기 전에 한번 검색해 보기를 권한다. 대부분의 기능은 이미 어떤 패키지로 만들어져 있을 가능성이 높다."
   ]
  },
  {
   "cell_type": "markdown",
   "id": "853d6dad",
   "metadata": {},
   "source": [
    "#### 2. 코드의 간결함\n",
    "\n",
    "**java**\n",
    "\n",
    "```java\n",
    "if(true) {\n",
    "    System.out.println(\"첫 번째\");\n",
    "    if(true) {\n",
    "        System.out.println(\"두 번째\");\n",
    "    }\n",
    "}\n",
    "```\n",
    "\n",
    "**python**\n",
    "\n",
    "```python\n",
    "if True :\n",
    "    print(\"첫 번쨰\");\n",
    "    if True :\n",
    "        print(\"두 번째\");\n",
    "```"
   ]
  },
  {
   "cell_type": "markdown",
   "id": "7fd3874c",
   "metadata": {},
   "source": [
    "#### 3. 빠른 개발 속도\n",
    "\n",
    "<img src=\"./image/time2.png\" />\n",
    "\n",
    "위의 표를 살펴보자. 같은 문제를 C++로 짜게 되면 평균 11시간 정도의 시간이 걸리고 파이썬으로 짜게 되면 약 3시간의 시간이 걸리는 걸 확인할 수 있다. 따라서 성능과 상관없이 개발이 빨리 돼야 하는 프로젝트를 하게 된다면 파이썬을 사용하면 좋다."
   ]
  },
  {
   "cell_type": "markdown",
   "id": "b8779615",
   "metadata": {},
   "source": [
    "#### 4. 스크립트 언어\n",
    "\n",
    "스크립트 언어로 실시간으로 코드가 실행된다.\n",
    "\n",
    "> *스크립트 언어는 프로그래밍 언어의 한 종류로, 기존에 이미 존재하는 소프트웨어(애플리케이션)를 제어하기 위한 용도로 쓰이는 언어이다. 일반적인 응용 소프트웨어는 컴파일러를 사용하는 언어에 의해 기계어로 번역된 채로 실행되기 때문에, 수정이 빈번하게 발생하면 수정 후 일일이 컴파일을 다시 해야 한다. 덩치가 큰 프로그램은 컴파일 시간도 몇 시간 단위로 잡아먹는 일이 많은 데다, 일일이 컴파일을 다시 하는 것도 상당히 귀찮은 작업이다. 이 때문에 수정이 빈번하게 발생하는 부분은 소스코드를 한줄 한줄 읽어 바로바로 실행하는 인터프리터 방식이 상당히 유리하다. 스크립트 언어는 이런 부분에 사용하기 위해 나온 것으로, 응용 소프트웨어에서 스크립트 언어에 맞는 API를 제공, 응용 소프트웨어와 상호작용하면서 돌아가게 된다.*\n",
    "\n",
    "* 출처 : [나무위키: 스크립트 언어](https://namu.wiki/w/%EC%8A%A4%ED%81%AC%EB%A6%BD%ED%8A%B8%20%EC%96%B8%EC%96%B4)\n",
    "\n",
    "파이썬의 기본적인 사용법은 배웠으니 오늘은 파이썬을 파이썬답게 더욱 잘 쓰는 방법에 대해서 알아보겠다."
   ]
  },
  {
   "cell_type": "markdown",
   "id": "12b357f3",
   "metadata": {},
   "source": [
    "## 3. 파이썬을 더 잘 사용해보자! (1) for문 잘 사용하기"
   ]
  },
  {
   "cell_type": "markdown",
   "id": "18892cb8",
   "metadata": {},
   "source": [
    "### 실행시간 측정\n",
    "---\n",
    "특정 프로그램을 짜다 보면 내가 짠 코드의 성능을 측정하고 싶을 때가 종종 있다. 내가 짠 코드를 실행시킬 때 얼마나 시간이 소요되는지 아래의 코드를 통해 확인할 수 있다."
   ]
  },
  {
   "cell_type": "code",
   "execution_count": 1,
   "id": "c4bc3dbd",
   "metadata": {},
   "outputs": [
    {
     "name": "stdout",
     "output_type": "stream",
     "text": [
      "time : 9.34600830078125e-05\n"
     ]
    }
   ],
   "source": [
    "import time\n",
    "start = time.time()  # 시작 시간 저장\n",
    "\n",
    "a = 1\n",
    "for i in range(100):\n",
    "    a += 1\n",
    " \n",
    "# 작업 코드\n",
    "print(\"time :\", time.time() - start) # 결과는 '초' 단위 입니다."
   ]
  },
  {
   "cell_type": "markdown",
   "id": "cf837947",
   "metadata": {},
   "source": [
    "### `for`문 잘 써보기 - `enumerate()`와 이중 `for`문\n",
    "---\n",
    "`for`문을 잘 쓰면 반복적으로 코드를 쓰지 않아도 간결한 코드를 만들수 있다.\n",
    "\n",
    "아래와 같이 `my_list`에 있는 값들을 하나씩 출력하는 코드를 보겠다."
   ]
  },
  {
   "cell_type": "code",
   "execution_count": 2,
   "id": "2580151f",
   "metadata": {},
   "outputs": [
    {
     "name": "stdout",
     "output_type": "stream",
     "text": [
      "값 :  a\n",
      "값 :  b\n",
      "값 :  c\n",
      "값 :  d\n"
     ]
    }
   ],
   "source": [
    "my_list = ['a','b','c','d']\n",
    "\n",
    "for i in my_list:\n",
    "    print(\"값 : \", i)"
   ]
  },
  {
   "cell_type": "markdown",
   "id": "7dddfaee",
   "metadata": {},
   "source": [
    "위의 예제는 4개의 값밖에 안 되어 바로 몇 번째인지 한눈에 확인이 가능하나, 100개 정도의 값을 출력한다고 했을 때는 '50번째에 출력된 값이 무엇인가?'라고 물으면 대답하기가 어렵다.\n",
    "\n",
    "확인하는 방법은 `enumerate()`라는 기능을 이용하면 된다. `enumerate()`는 리스트, 문자열, 튜플 등이 있는 경우 **순서와 리스트의 값을 함께 반환**해주는 기능이다."
   ]
  },
  {
   "cell_type": "code",
   "execution_count": 3,
   "id": "74ce6b48",
   "metadata": {},
   "outputs": [
    {
     "name": "stdout",
     "output_type": "stream",
     "text": [
      "순번 :  0  , 값 :  a\n",
      "순번 :  1  , 값 :  b\n",
      "순번 :  2  , 값 :  c\n",
      "순번 :  3  , 값 :  d\n"
     ]
    }
   ],
   "source": [
    "my_list = ['a','b','c','d']\n",
    "\n",
    "for i, value in enumerate(my_list):\n",
    "    print(\"순번 : \", i, \" , 값 : \", value)"
   ]
  },
  {
   "cell_type": "markdown",
   "id": "603055a2",
   "metadata": {},
   "source": [
    "`for i, value in enumerate(my_list)`를 이용하면 `i`에 순번이, `value`에 해당 순번의 데이터 값이 나오게 된다. 즉, `enumerate()`를 통해 단순 for문이 아니라 순서에 대한 결과 값도 함께 추가되었다고 생각하면 된다."
   ]
  },
  {
   "cell_type": "markdown",
   "id": "7c0928d8",
   "metadata": {},
   "source": [
    "`for` 안에 또 `for`를 쓴 것을 이중 `for`문이라고 한다."
   ]
  },
  {
   "cell_type": "code",
   "execution_count": 4,
   "id": "346d3bf4",
   "metadata": {},
   "outputs": [
    {
     "name": "stdout",
     "output_type": "stream",
     "text": [
      "[(0, 'a'), (0, 'b'), (0, 'c'), (0, 'd'), (1, 'a'), (1, 'b'), (1, 'c'), (1, 'd')]\n"
     ]
    }
   ],
   "source": [
    "my_list = ['a','b','c','d']\n",
    "result_list = []\n",
    "\n",
    "for i in range(2):\n",
    "    for j in my_list:\n",
    "        result_list.append((i, j))\n",
    "        \n",
    "print(result_list)"
   ]
  },
  {
   "cell_type": "markdown",
   "id": "a7fcc758",
   "metadata": {},
   "source": [
    "`i`에 대한 값은 `0,0,0,0,1,1,1,1` 이런 순서로 나오고 `j`에 대한 값은 `a,b,c,d,a,b,c,d` 순으로 나온다. 즉, `i`안에 `j`가 있기 때문에 `j`가 다 돌때까지 `i`는 `0`에서 고정되고 `j`가 순서대로 `a,b,c,d`로 나오게 된다. `j`가 전체 다 돌면 `i`는 다음 것을 진행한다. 이런 방식으로 `[0, 1]`과 `['a','b','c','d']` 두 리스트를 조합해서 만든 새로운 리스트를 얻게 된다.\n",
    "\n",
    "> 참고 - `range()`\n",
    ">\n",
    "> * `range([start,] stop [,step])` : range(2)와 같이 정수가 들어가야 하며 2이면 0부터 시작해서 2개인 list를 만든다. range(1, 10, 2) 이라면 1부터 10까지 2씩 증가하는 리스트를 만든다."
   ]
  },
  {
   "cell_type": "markdown",
   "id": "6737986f",
   "metadata": {},
   "source": [
    "### 리스트 컴프리헨션(list Comprehension)\n",
    "---\n",
    "파이썬이 제공하는 편리한 기능 중에 리스트 컴프리헨션이 있다. 리스트 등 순회형 컨테이너 객체로부터 이를 가공한 새로운 리스트를 생성하는 아주 간결하고 편리한 방법이다. 컴프리헨션 기능은 리스트뿐 아니라 셋(Set), 딕셔너리(Dict)에 대해서도 적용 가능하다."
   ]
  },
  {
   "cell_type": "code",
   "execution_count": 5,
   "id": "e2fd884e",
   "metadata": {},
   "outputs": [
    {
     "name": "stdout",
     "output_type": "stream",
     "text": [
      "[(0, 'a'), (0, 'b'), (0, 'c'), (0, 'd'), (1, 'a'), (1, 'b'), (1, 'c'), (1, 'd')]\n"
     ]
    }
   ],
   "source": [
    "my_list = ['a','b','c','d']\n",
    "\n",
    "result_list = [(i, j) for i in range(2) for j in my_list]\n",
    "\n",
    "print(result_list)"
   ]
  },
  {
   "cell_type": "markdown",
   "id": "dc5a8c04",
   "metadata": {},
   "source": [
    "이중 for문으로 구현했던 내용과 완전히 동일한 기능을 리스트 컴프리헨션을 이용하여 1줄로 구현했다."
   ]
  },
  {
   "cell_type": "markdown",
   "id": "330a1b29",
   "metadata": {},
   "source": [
    "### 제너레이터(Generator)\n",
    "---\n",
    "머신러닝을 하면 매우 많은 데이터를 다루게 된다. 데이터는 1건만 존재하는 법은 없기 때문에 우리는 데이터를 처리하는 반복구조를 위해 for문을 많이 사용한다."
   ]
  },
  {
   "cell_type": "code",
   "execution_count": 6,
   "id": "4a1e567b",
   "metadata": {},
   "outputs": [
    {
     "name": "stdout",
     "output_type": "stream",
     "text": [
      ">>  8 data loaded..\n",
      "0 a\n",
      "0 b\n",
      "0 c\n",
      "0 d\n",
      "1 a\n",
      "1 b\n",
      "1 c\n",
      "1 d\n"
     ]
    }
   ],
   "source": [
    "my_list = ['a','b','c','d']\n",
    "\n",
    "# 인자로 받은 리스트를 가공해서 만든 데이터셋 리스트를 리턴하는 함수\n",
    "def get_dataset_list(my_list):\n",
    "    result_list = []\n",
    "    for i in range(2):\n",
    "        for j in my_list:\n",
    "            result_list.append((i, j))\n",
    "    print('>>  {} data loaded..'.format(len(result_list)))\n",
    "    return result_list\n",
    "\n",
    "for X, y in get_dataset_list(my_list):\n",
    "    print(X, y)"
   ]
  },
  {
   "cell_type": "code",
   "execution_count": 7,
   "id": "3c184c87",
   "metadata": {},
   "outputs": [
    {
     "name": "stdout",
     "output_type": "stream",
     "text": [
      "0 a\n",
      ">>  1 data loaded..\n",
      "0 b\n",
      ">>  1 data loaded..\n",
      "0 c\n",
      ">>  1 data loaded..\n",
      "0 d\n",
      ">>  1 data loaded..\n",
      "1 a\n",
      ">>  1 data loaded..\n",
      "1 b\n",
      ">>  1 data loaded..\n",
      "1 c\n",
      ">>  1 data loaded..\n",
      "1 d\n",
      ">>  1 data loaded..\n"
     ]
    }
   ],
   "source": [
    "my_list = ['a','b','c','d']\n",
    "\n",
    "# 인자로 받은 리스트로부터 데이터를 하나씩 가져오는 제너레이터를 리턴하는 함수\n",
    "def get_dataset_generator(my_list):\n",
    "    result_list = []\n",
    "    for i in range(2):\n",
    "        for j in my_list:\n",
    "            yield (i, j)\n",
    "            print('>>  1 data loaded..')\n",
    "\n",
    "dataset_generator = get_dataset_generator(my_list)\n",
    "for X, y in dataset_generator:\n",
    "    print(X, y)"
   ]
  },
  {
   "cell_type": "markdown",
   "id": "612eb1e3",
   "metadata": {},
   "source": [
    "위 두 코드는 동일한 (X, y)를 출력하지만 데이터가 로드되는 시점에 차이가 있음을 보여준다. 위 코드만 봐서는 굳이 제너레이터가 왜 필요한지 이해하기 힘들다. 하지만 만약 우리가 처리해야 할 데이터가 길이 4짜리 my_list가 아니라 1억 개의 레코드가 담겨 있는 빅데이터 파일이라면 어떨까? 제너레이터가 없다면 우리는 길이 1억짜리 리스트를 리턴받아 메모리에 전부 올려놓고 처리를 시작해야 한다. 그러나 제너레이터를 활용할 때는 1억 개의 데이터를 전부 메모리에 올려놓을 필요 없이 현재 처리해야 할 데이터를 1개씩 로드해서 사용할 수 있게 된다. 빅데이터를 처리해야 할 머신러닝 상황에서 매우 요긴하게 사용할 수 있다."
   ]
  },
  {
   "cell_type": "markdown",
   "id": "3e801c5b",
   "metadata": {},
   "source": [
    "## 4. 파이썬을 더 잘 사용해보자! (2) Try - Except 예외 처리하기\n",
    "프로그램을 개발하다 보면 필연적으로 에러에 늪에 빠지게 된다. 에러를 잡기 위한 수많은 노력들 중 하나가 바로 `Try - Except` 이다. 이것을 __예외 처리를 위한 방법__이라고 부른다. 여기서 예외(exception)란 코드를 실행하는 중에 발생한 에러를 뜻한다. 즉, 예외 처리는 코드를 수행하다가 예외(에러)가 발생했을 때 그 예외(에러)를 무시하게 하거나 예외(에러) 대신 적절한 처리를 해주게 하는 등의 작업을 의미한다. `Try -Except`의 작동 구조는 아래와 같다.\n",
    "\n",
    "<img src=\"./image/except.png\" />\n",
    "\n",
    "그림에서 보는 것처럼 Try 이하의 코드가 먼저 실행된다. Try 안에 있는 Statements(코드)를 수행하게 되고 만약 이 코드상에서 어떠한 이유로 인해 에러가 발생하면 Except 안에 있는 코드가 바로 실행되게 된다.\n",
    "\n",
    "반대로 Try 안에 있는 Statements에서 에러가 발생하지 않았다면 해당 코드가 정상적으로 작동되었기 때문에 성공! 즉, 따로 추가적인 작업을 할 필요가 없다(에러를 파악하여 Statements를 재작업하는 등의 행위를 할 필요가 없음). 이제 실제 코드를 통해 try - except가 어떻게 작동하는지 보여드리겠다.\n",
    "\n",
    "아래 코드를 돌려보겠다."
   ]
  },
  {
   "cell_type": "code",
   "execution_count": 8,
   "id": "a87d2d57",
   "metadata": {},
   "outputs": [
    {
     "ename": "ZeroDivisionError",
     "evalue": "division by zero",
     "output_type": "error",
     "traceback": [
      "\u001b[0;31m---------------------------------------------------------------------------\u001b[0m",
      "\u001b[0;31mZeroDivisionError\u001b[0m                         Traceback (most recent call last)",
      "\u001b[0;32m<ipython-input-8-fe01563e1bc6>\u001b[0m in \u001b[0;36m<module>\u001b[0;34m\u001b[0m\n\u001b[0;32m----> 1\u001b[0;31m \u001b[0mprint\u001b[0m\u001b[0;34m(\u001b[0m\u001b[0;36m10\u001b[0m\u001b[0;34m/\u001b[0m\u001b[0;36m0\u001b[0m\u001b[0;34m)\u001b[0m\u001b[0;34m\u001b[0m\u001b[0;34m\u001b[0m\u001b[0m\n\u001b[0m",
      "\u001b[0;31mZeroDivisionError\u001b[0m: division by zero"
     ]
    }
   ],
   "source": [
    "print(10/0)"
   ]
  },
  {
   "cell_type": "markdown",
   "id": "5194abad",
   "metadata": {},
   "source": [
    "요런 에러가 나온다.\n",
    "\n",
    "```\n",
    "ZeroDivisionError: division by zero\n",
    "```\n",
    "\n",
    "0으로는 어떠한 값도 나눌 수 없다. 그래서 해당 에러문으로 출력된 것이다. \n",
    "\n",
    "그럼 이 에러를 회피하고 싶다면 어떻게 해야 할까? 물론 아예 처음부터 저렇게 0으로 나누는 경우를 만들지 않으면 된다.\n",
    "\n",
    "하지만 실제 데이터 분석이나 프로그래밍을 하다 보면 자주 저런 경우가 발생한다. 모든 데이터 목록이 어떻게 생겼는지 미처 확인을 못 했을 수도 있고, 또 데이터를 입맛에 맞게 처리를 하다 보면 예상치 못하게 0이 생성될 수도 있다. 데이터 자체를 하나하나 확인하고 코드를 실행하기 어려울 수 있으니 예외 처리 구문을 통해 이 문제를 해결해야 한다.\n",
    "\n",
    "에러가 발생했을 때 위의 에러 메시지를 출력되는 대신 에러가 발생했다는 문구가 출력되도록 해보겠다. 즉, '에러가 발생했습니다.' 라고 뜨게 해보겠다."
   ]
  },
  {
   "cell_type": "code",
   "execution_count": 9,
   "id": "38f44f7f",
   "metadata": {},
   "outputs": [
    {
     "name": "stdout",
     "output_type": "stream",
     "text": [
      "에러가 발생했습니다.\n"
     ]
    }
   ],
   "source": [
    "a = 10\n",
    "b = 0\n",
    "try:\n",
    "    #실행 코드\n",
    "    print(a/b)\n",
    "\t\t\n",
    "except:\n",
    "    #에러가 발생했을 때 처리하는 코드\n",
    "    print('에러가 발생했습니다.')"
   ]
  },
  {
   "cell_type": "markdown",
   "id": "60154b80",
   "metadata": {},
   "source": [
    "에러가 발생하지 않는 상황이면??"
   ]
  },
  {
   "cell_type": "code",
   "execution_count": 10,
   "id": "d9f929d6",
   "metadata": {},
   "outputs": [
    {
     "name": "stdout",
     "output_type": "stream",
     "text": [
      "10.0\n"
     ]
    }
   ],
   "source": [
    "a = 10\n",
    "b = 1\n",
    "\n",
    "try:\n",
    "    #실행 코드\n",
    "    print(a/b)\n",
    "\n",
    "except:\n",
    "    #에러가 발생했을 때 처리하는 코드\n",
    "    print('에러가 발생했습니다.')"
   ]
  },
  {
   "cell_type": "markdown",
   "id": "869ace18",
   "metadata": {},
   "source": [
    "`try` 내부의 코드가 정상적으로 실행이 되었으므로 `except` 내부는 실행되지 않고 `try` 내부의 결과가 출력되었다."
   ]
  },
  {
   "cell_type": "markdown",
   "id": "23962c6e",
   "metadata": {},
   "source": [
    "`except`에서 에러가 발생했다는 것만 단순히 알려주고 끝내는 것이 아니라, 에러가 발생했을 경우 알아서 '에러가 발생하지 않을 값'으로 바꿔서 결과를 출력하고 싶다면 어떻게 해야 할까??"
   ]
  },
  {
   "cell_type": "code",
   "execution_count": 12,
   "id": "a66315c4",
   "metadata": {},
   "outputs": [
    {
     "name": "stdout",
     "output_type": "stream",
     "text": [
      "에러가 발생했습니다.\n",
      "값 수정 :  10.0\n"
     ]
    }
   ],
   "source": [
    "a = 10\n",
    "b = 0 \n",
    "\n",
    "try:\n",
    "    #실행 코드\n",
    "    print(a/b)\n",
    "\n",
    "except:\n",
    "    print('에러가 발생했습니다.')\n",
    "    #에러가 발생했을 때 처리하는 코드\n",
    "    b = b+1\n",
    "    print(\"값 수정 : \", a/b)"
   ]
  },
  {
   "cell_type": "markdown",
   "id": "bd6b74bc",
   "metadata": {},
   "source": [
    "`except` 내부에서 `b`의 값을 수정하도록 하였고 수정된 값이 정상적으로 출력되도록 했다."
   ]
  },
  {
   "cell_type": "markdown",
   "id": "71efa4b8",
   "metadata": {},
   "source": [
    "## 5. 파이썬을 더 잘 사용해보자! (3) Multiprocessing\n",
    "__Multiprocessing(멀티프로세싱)__은 컴퓨터가 작업을 처리하는 속도를 높여주는 방법 중 하나이다. 그렇다고 멀티프로세싱을 이용하면 갑자기 자전거가 자동차의 속도로 빨리 가게 되지는 않는다. 자전거로 예를 들자면, 하나의 자전거를 이용해 여러 명이 한 명씩 순차적으로 목적지까지 가다가, 멀티프로세싱을 사용하면 여러 자전거를 이용해서 여러 명이 동시에 목적지까지 가게 되는 것이다.\n",
    "\n",
    "<img src=\"./image/bike.png\" />\n",
    "\n",
    "아래의 이미지를 보면 parallel processing, serial processing이 있다. parallel processing은 병렬 처리로, serial processing은 순차 처리로 번역이 가능하다. 우리가 지금까지 짠 코드는 순차 처리의 방식이었다. 즉, 4개의 자전거를 가용할 수 있으나 그중 1개의 자전거만 사용하고 있는 것과 같다. 그럼 어떻게 하면 놀고 있는 나머지 3개 자전거도 함께 사용할 수 있는지 알아보겠다.\n",
    "\n",
    "<img src=\"./image/process.png\" />\n",
    "<center>[출처 : https://sebastianraschka.com/Articles/2014_multiprocessing.html]</center>\n",
    "\n",
    "왼쪽 그림을 보면 병렬 처리는 4개의 문자열이 **동시에** 처리가 되어 저장되는 것을 볼 수 있고, 순차 처리는 문자열이 하나씩 차례대로 처리되어 저장되는 것을 볼 수 있다.\n",
    "\n",
    "먼저 순차 처리의 예제를 밑에 코드로 확인해보겠다. 변수를 1억 번 돌려보는 코드이다."
   ]
  },
  {
   "cell_type": "code",
   "execution_count": 13,
   "id": "f0ab9293",
   "metadata": {},
   "outputs": [
    {
     "name": "stdout",
     "output_type": "stream",
     "text": [
      "finish :  p1\n",
      "finish :  p2\n",
      "finish :  p3\n",
      "finish :  p4\n",
      "time : 7.2005932331085205\n"
     ]
    }
   ],
   "source": [
    "import time\n",
    "\n",
    "num_list = ['p1','p2', 'p3', 'p4']\n",
    "start = time.time()\n",
    "\n",
    "def count(name):\n",
    "    for i in range(0, 100000000):\n",
    "        a=1+2\n",
    "        \n",
    "    print(\"finish : \",name)\n",
    "\n",
    "for num in num_list:\n",
    "    count(num)\n",
    "\n",
    "print(\"time :\", time.time() - start)"
   ]
  },
  {
   "cell_type": "markdown",
   "id": "f17376dc",
   "metadata": {},
   "source": [
    "`finish`로 나오는 문자는 `p1, p2, p3, p4`의 순서로, 원래의 리스트`['p1', 'p2', 'p3', 'p4']`의 순서가 동일하다. 그리고 아래에 출력된, 총 걸린 시간을 기억하자.\n",
    "\n",
    "다음은 병렬 처리를 이용한 코드이다. 먼저 실행해보겠다."
   ]
  },
  {
   "cell_type": "code",
   "execution_count": 15,
   "id": "0744d67f",
   "metadata": {},
   "outputs": [
    {
     "name": "stdout",
     "output_type": "stream",
     "text": [
      "finish :  p3\n",
      "finish :  p1\n",
      "finish :  p4\n",
      "finish :  p2\n",
      "time : 2.1124584674835205\n"
     ]
    }
   ],
   "source": [
    "import multiprocessing\n",
    "import time\n",
    "\n",
    "num_list = ['p1','p2', 'p3', 'p4']\n",
    "start = time.time()\n",
    "\n",
    "def count(name):\n",
    "    for i in range(0, 100000000):\n",
    "            a=1+2\n",
    "    print(\"finish : \",name)\n",
    "    \n",
    "\n",
    "if __name__ == '__main__':\n",
    "    pool = multiprocessing.Pool(processes = 4)\n",
    "    pool.map(count, num_list)\n",
    "    pool.close()\n",
    "    pool.join()\n",
    "\n",
    "print(\"time :\", time.time() - start)"
   ]
  },
  {
   "cell_type": "markdown",
   "id": "2a142fc4",
   "metadata": {},
   "source": [
    "`time`이 순차 처리 보다 병렬 처리를 시행했을 때 2배 이상 빨라진 것을 볼 수 있다. 그런데 병렬 처리의 경우, `finish`의 순서가 순차 처리의 코드와 다른 것을 볼 수 있다. 그 이유는 각 프로세스에 작업 코드가 거의 동시에 들어가기 때문에 처리되어 나오는 결과는 각 코어의 점유 상황이나 여러 이유로 인해 시간차가 생길 수 있기 때문이다."
   ]
  },
  {
   "cell_type": "markdown",
   "id": "2bcbbcdd",
   "metadata": {},
   "source": [
    "그럼 병렬 처리를 사용하는 방법에 대해 좀 더 자세히 알아보겠다. 일단, `multiprocessing`모듈을 `import`한다. 그리고 병렬 처리를 하고 싶은 함수를 작성한다. 그 아래에 `count(name)` 함수를 만들어보겠다."
   ]
  },
  {
   "cell_type": "code",
   "execution_count": 16,
   "id": "4f8a1ef7",
   "metadata": {},
   "outputs": [],
   "source": [
    "import multiprocessing\n",
    "\n",
    "def count(name):\n",
    "    for i in range(0, 100000000):\n",
    "            a=1+2\n",
    "    print(\"finish : \",name)"
   ]
  },
  {
   "cell_type": "code",
   "execution_count": 17,
   "id": "a0dcd151",
   "metadata": {},
   "outputs": [
    {
     "name": "stdout",
     "output_type": "stream",
     "text": [
      "finish :  p1\n",
      "finish :  p4\n",
      "finish :  p3\n",
      "finish :  p2\n"
     ]
    }
   ],
   "source": [
    "num_list = ['p1','p2', 'p3', 'p4']\n",
    "\n",
    "if __name__ == '__main__':\n",
    "    pool = multiprocessing.Pool(processes = 4)\n",
    "    pool.map(count, num_list)\n",
    "    pool.close()\n",
    "    pool.join()"
   ]
  },
  {
   "cell_type": "markdown",
   "id": "7b6cbe8d",
   "metadata": {},
   "source": [
    "* `if __name__ == '__main__':`: 코드 시작점을 여기로 하라는 명령어이다.\n",
    "* `pool = multiprocessing.Pool(processes = 4)` : 병렬 처리 시, 4개의 프로세스를 사용하도록 한다.\n",
    "* `pool.map(count, num_list) :` 병렬화를 시키는 함수로써 count 함수에 num_list의 원소들을 하나씩 넣는다. 여기서 num_list의 원소는 4개이므로 4개의 count 함수에 각각 하나씩 원소가 들어가게 된다.<br>\n",
    "즉, count('p1'), count('p2'), count('p3'), count('p4')가 만들어진다.\n",
    "* `pool.close()` : 일반적으로 병렬화 부분이 끝나면 나온다. 더이상 pool을 통해서 새로운 작업을 추가하지 않을 때 사용한다.\n",
    "* `pool.join()` : 프로세스가 종료될 때까지 대기하도록 지시하는 구문으로써 병렬처리 작업이 끝날 때까지 기다리도록 한다."
   ]
  },
  {
   "cell_type": "markdown",
   "id": "9708e20a",
   "metadata": {},
   "source": [
    "## 같은 코드 두 번 짜지 말자! (1) 함수 사용하기\n",
    "\n",
    "$ y=f(x)$\n",
    "\n",
    "* $x$: 입력(정의역)\n",
    "* $f(x)$: 수식\n",
    "* $y$: 결과(치역)\n",
    "\n",
    "코드로 하면 아래와 같이 만들 수 있다."
   ]
  },
  {
   "cell_type": "code",
   "execution_count": 19,
   "id": "2fa9bc9e",
   "metadata": {},
   "outputs": [],
   "source": [
    "def function_f(input_x):\n",
    "    output_x = input_x*input_x\n",
    "    return output_x"
   ]
  },
  {
   "cell_type": "markdown",
   "id": "b7b2516f",
   "metadata": {},
   "source": [
    "최댓값을 구하는 코드로 2개의 list(`list_data`, `list_data2`)에 있는 최댓값이 무엇인지를 각각 구하는 코드이다."
   ]
  },
  {
   "cell_type": "code",
   "execution_count": 20,
   "id": "e5f22629",
   "metadata": {},
   "outputs": [
    {
     "name": "stdout",
     "output_type": "stream",
     "text": [
      "최댓값은  40\n",
      "최댓값은  50\n"
     ]
    }
   ],
   "source": [
    "list_data = [10, 20, 30, 40]\n",
    "list_data2 = [20, 30, 40, 50]\n",
    "\n",
    "length = len(list_data)\n",
    "max_result = list_data[0]\n",
    "for i in range(length):\n",
    "    if max_result < list_data[i]:\n",
    "        max_result = list_data[i]\n",
    "        \n",
    "print(\"최댓값은 \", max_result)\n",
    "\n",
    "length = len(list_data2)\n",
    "max_result = list_data2[0]\n",
    "for i in range(length):\n",
    "    if max_result < list_data2[i]:\n",
    "        max_result = list_data2[i]\n",
    "        \n",
    "print(\"최댓값은 \", max_result)"
   ]
  },
  {
   "cell_type": "markdown",
   "id": "8cdddaa3",
   "metadata": {},
   "source": [
    "결과로 각각의 최댓값이 나오는 것을 확인 할 수 있다. 만약 또 추가적인 최댓값을 구하는 코드를 만들려면 어떻게 해야 할까? 그럼 한 번 더 최댓값 구하는 코드 5줄이 추가될 것이다.\n",
    "\n",
    "함수를 이용해서 하면 얼마나 효율적인지 확인해보자."
   ]
  },
  {
   "cell_type": "code",
   "execution_count": 21,
   "id": "eaec06ea",
   "metadata": {},
   "outputs": [
    {
     "name": "stdout",
     "output_type": "stream",
     "text": [
      "최댓값은  40\n",
      "최댓값은  50\n"
     ]
    }
   ],
   "source": [
    "list_data = [10, 20, 30, 40]\n",
    "list_data2 = [20, 30, 40, 50]\n",
    "\n",
    "def max_function(x):\n",
    "    length = len(x)\n",
    "    max_result = x[0]\n",
    "    for i in range(length):\n",
    "        if max_result < x[i]:\n",
    "            max_result = x[i]\n",
    "    return max_result\n",
    "\n",
    "print(\"최댓값은 \", max_function(list_data))\n",
    "print(\"최댓값은 \", max_function(list_data2))"
   ]
  },
  {
   "cell_type": "markdown",
   "id": "4e6dd9d8",
   "metadata": {},
   "source": [
    "위의 코드와 다르게 같은 코드가 두 번 이상 나오는 경우 함수로 만들면 위에서 5줄이 추가되는 것과 다르게 1줄만 추가하면 된다. 이렇듯 함수를 잘 만들어 놓으면\n",
    "\n",
    "* __코드의 효율성__을 높여줄 뿐만 아니라\n",
    "* __코드의 재사용성__을 높여줘 개발하는 시간이 적게 걸리게 되고\n",
    "* 내가 뭘 하고자 하는지 모두가 알기 쉬워 __코드의 가독성__도 좋아진다."
   ]
  },
  {
   "cell_type": "markdown",
   "id": "14fa1dc5",
   "metadata": {},
   "source": [
    "## 같은 코드 두 번 짜지 말자! (2) 함수 사용 팁\n",
    "### pass\n",
    "---\n",
    "파이썬에서 함수를 만들기 전에 함수 이름과 입력 정도만 먼저 만들어 놓는 경우가 있다. 이런 상황에선 어떻게 해야 할까? 파이썬은 즉각적인 코드 실행이 가능하기 때문에 만약 함수 안을 비워 놓은 채 이름만 써 놓는다면 에러가 날 것이다. \n",
    "\n",
    "이렇게 말이다."
   ]
  },
  {
   "cell_type": "code",
   "execution_count": 23,
   "id": "4908b0d6",
   "metadata": {},
   "outputs": [
    {
     "ename": "SyntaxError",
     "evalue": "unexpected EOF while parsing (<ipython-input-23-89446e6ffbda>, line 1)",
     "output_type": "error",
     "traceback": [
      "\u001b[0;36m  File \u001b[0;32m\"<ipython-input-23-89446e6ffbda>\"\u001b[0;36m, line \u001b[0;32m1\u001b[0m\n\u001b[0;31m    def empty_function():\u001b[0m\n\u001b[0m                         ^\u001b[0m\n\u001b[0;31mSyntaxError\u001b[0m\u001b[0;31m:\u001b[0m unexpected EOF while parsing\n"
     ]
    }
   ],
   "source": [
    "def empty_function():"
   ]
  },
  {
   "cell_type": "markdown",
   "id": "78f55d68",
   "metadata": {},
   "source": [
    "에러가 나는 모습이다. pass를 사용해준다면~"
   ]
  },
  {
   "cell_type": "code",
   "execution_count": 25,
   "id": "a42e4a44",
   "metadata": {},
   "outputs": [],
   "source": [
    "def empty_function():\n",
    "    pass"
   ]
  },
  {
   "cell_type": "markdown",
   "id": "8c08630d",
   "metadata": {},
   "source": [
    "함수를 넘어갈 수 있다.<br>\n",
    "`pass` 문은 기타 제어 흐름 도구이다. `pass`가 하는 일은.. 놀랍게도 아무것도 하지 않는 일이다ㅋㅋ<br>\n",
    "즉, 문법적으로 해당 문장이 필요하지만, 프로그램이 특별히 할 일이 없을 때 사용할 수 있다. 사용 가능한 곳은 다양하며 대표적으로 위에서 사용한 함수 내부, `if` 내부, `while` 내부 등 다양한 곳에서 쓸 수 있다."
   ]
  },
  {
   "cell_type": "markdown",
   "id": "69ae5fee",
   "metadata": {},
   "source": [
    "### 함수에 함수 사용\n",
    "---\n",
    "함수에 함수 사용"
   ]
  },
  {
   "cell_type": "code",
   "execution_count": 26,
   "id": "e1f58ef1",
   "metadata": {},
   "outputs": [
    {
     "name": "stdout",
     "output_type": "stream",
     "text": [
      "안녕!\n",
      "안녕!\n"
     ]
    }
   ],
   "source": [
    "def say_something(txt):\n",
    "    return txt\n",
    "\n",
    "def send(function, count):\n",
    "    for i in range(count):  \n",
    "        print(function)\n",
    "    \n",
    "send(say_something(\"안녕!\"), 2)"
   ]
  },
  {
   "cell_type": "markdown",
   "id": "a1a3b7ba",
   "metadata": {},
   "source": [
    "먼저 `send`라는 함수가 실행된다. `send` 함수는 `function`이라는 객체와, `count`라는 객체 두 가지를 입력으로 받는다. `send` 함수의 첫 번째 입력값에는 `say_something(\"안녕!\")`이라는 __함수__가 들어가고, 두 번째 입력에는 2라는 __숫자__가 들어간다.\n",
    "\n",
    "`say_something(txt)` 함수는 입력값을 그대로 반환하는 코드가 짜여 있다. `send` 함수는 `function`을 `count`만큼 출력하는 함수이다.\n",
    "\n",
    "그럼 `function`에는 함수 `say_something()`이 들어갔으니 어떤 값을 출력할까? `say_something(\"안녕!\")`이라는 함수의 반환값인 \"안녕!\"이 `send`의 `print()` 안에 들어간다."
   ]
  },
  {
   "cell_type": "markdown",
   "id": "4caad5de",
   "metadata": {},
   "source": [
    "### 함수 안의 함수 & 2개 이상의 return\n",
    "---\n",
    "함수를 이용해서 `return`값(반환값)을 여러 개 받기"
   ]
  },
  {
   "cell_type": "code",
   "execution_count": 27,
   "id": "737263b3",
   "metadata": {},
   "outputs": [
    {
     "name": "stdout",
     "output_type": "stream",
     "text": [
      "최솟값, 최댓값은 :  [20, 40]\n",
      "최솟값은 :  20\n",
      "최댓값은 :  40\n"
     ]
    }
   ],
   "source": [
    "list_data = [30, 20, 30, 40]\n",
    "\n",
    "def minmax_function(x_list):\n",
    "        \n",
    "    def inner_min_function(x):\n",
    "        length = len(x)\n",
    "        min_result = x[0]\n",
    "        for i in range(length):\n",
    "            if min_result > x[i]:\n",
    "                min_result = x[i]\n",
    "        return min_result\n",
    "    \n",
    "    def inner_max_function(x):\n",
    "        length = len(x)\n",
    "        max_result = x[0]\n",
    "        for i in range(length):\n",
    "            if max_result < x[i]:\n",
    "                max_result = x[i]\n",
    "        return max_result\n",
    "        \n",
    "    x_min = inner_min_function(x_list)\n",
    "    x_max = inner_max_function(x_list)\n",
    "    \n",
    "    minmax_list = [x_min, x_max]\n",
    "\n",
    "    return minmax_list\n",
    "\n",
    "print(\"최솟값, 최댓값은 : \", minmax_function(list_data))\n",
    "print(\"최솟값은 : \", minmax_function(list_data)[0])\n",
    "print(\"최댓값은 : \", minmax_function(list_data)[1])"
   ]
  },
  {
   "cell_type": "markdown",
   "id": "3f8145e6",
   "metadata": {},
   "source": [
    "함수 안에 또 함수를 만들어서 쓸 수 있다. 하지만 함수 안에서 만든 함수는 해당 함수 내부에서만 사용할 수 있다. <br>위의 예시에서 `minmax_function(list_data)` 대신 `inner_max_function(list_data)`로 바꿔서 값을 출력해보자."
   ]
  },
  {
   "cell_type": "code",
   "execution_count": 28,
   "id": "1145b4af",
   "metadata": {},
   "outputs": [
    {
     "ename": "NameError",
     "evalue": "name 'inner_min_function' is not defined",
     "output_type": "error",
     "traceback": [
      "\u001b[0;31m---------------------------------------------------------------------------\u001b[0m",
      "\u001b[0;31mNameError\u001b[0m                                 Traceback (most recent call last)",
      "\u001b[0;32m<ipython-input-28-94034c993542>\u001b[0m in \u001b[0;36m<module>\u001b[0;34m\u001b[0m\n\u001b[0;32m----> 1\u001b[0;31m \u001b[0mprint\u001b[0m\u001b[0;34m(\u001b[0m\u001b[0;34m\"최솟값, 최댓값은 : \"\u001b[0m\u001b[0;34m,\u001b[0m \u001b[0minner_min_function\u001b[0m\u001b[0;34m(\u001b[0m\u001b[0mlist_data\u001b[0m\u001b[0;34m)\u001b[0m\u001b[0;34m)\u001b[0m \u001b[0;31m# 변경\u001b[0m\u001b[0;34m\u001b[0m\u001b[0;34m\u001b[0m\u001b[0m\n\u001b[0m\u001b[1;32m      2\u001b[0m \u001b[0mprint\u001b[0m\u001b[0;34m(\u001b[0m\u001b[0;34m\"최솟값은 : \"\u001b[0m\u001b[0;34m,\u001b[0m \u001b[0mminmax_function\u001b[0m\u001b[0;34m(\u001b[0m\u001b[0mlist_data\u001b[0m\u001b[0;34m)\u001b[0m\u001b[0;34m[\u001b[0m\u001b[0;36m0\u001b[0m\u001b[0;34m]\u001b[0m\u001b[0;34m)\u001b[0m\u001b[0;34m\u001b[0m\u001b[0;34m\u001b[0m\u001b[0m\n\u001b[1;32m      3\u001b[0m \u001b[0mprint\u001b[0m\u001b[0;34m(\u001b[0m\u001b[0;34m\"최댓값은 : \"\u001b[0m\u001b[0;34m,\u001b[0m \u001b[0mminmax_function\u001b[0m\u001b[0;34m(\u001b[0m\u001b[0mlist_data\u001b[0m\u001b[0;34m)\u001b[0m\u001b[0;34m[\u001b[0m\u001b[0;36m1\u001b[0m\u001b[0;34m]\u001b[0m\u001b[0;34m)\u001b[0m\u001b[0;34m\u001b[0m\u001b[0;34m\u001b[0m\u001b[0m\n",
      "\u001b[0;31mNameError\u001b[0m: name 'inner_min_function' is not defined"
     ]
    }
   ],
   "source": [
    "print(\"최솟값, 최댓값은 : \", inner_min_function(list_data)) # 변경\n",
    "print(\"최솟값은 : \", minmax_function(list_data)[0])\n",
    "print(\"최댓값은 : \", minmax_function(list_data)[1])"
   ]
  },
  {
   "cell_type": "markdown",
   "id": "c16f6216",
   "metadata": {},
   "source": [
    "함수 안에 함수를 만들 수는 있지만 안에 있는 함수는 가장 밖에 있는 `def`가 쳐놓은 울타리 안에서만 생활할 수 있는 것이다. 그렇기 때문에 그 울타리 외부에서는 사용하지 못한다.\n",
    "\n",
    "`minmax_function()`의 반환 값을 보자. 아니, 분명 위에서 return을 이용해서 두 개 이상의 값을 반환한다고 했는데 왜 `minmax_list` 하나만 반환할까?\n",
    "\n",
    "```\n",
    "...\n",
    "    x_min = inner_min_function(x_list)\n",
    "    x_max = inner_max_function(x_list)\n",
    "\n",
    "    minmax_list = [x_min, x_max]\n",
    "\n",
    "    return minmax_list\n",
    "...\n",
    "```\n",
    "\n",
    "`return` 위의 3줄을 잘보면, <br>\n",
    "최솟값과 최댓값을 각각의 함수 안에 넣어 계산을 하고 그 결과값을 `x_min`,`x_max`라는 변수에 넣는다. 그리고 그 변수들을 `minmax_list` 라는 리스트 안에 넣었다. 그리고 return에 리스트를 입력하는 것이다. 즉, `return` 되는 것은 `minmax_list` 1개이지만 그 안에 2개의 값을 넣어놨기 때문에 2개 이상을 반환하는 것과 같은 효과를 보게 되는 것이다. 최솟값 최댓값을 각각 보고 싶다면 `minmax_function(list_data)[0]`처럼 인덱싱을 활용하면 된다."
   ]
  },
  {
   "cell_type": "markdown",
   "id": "0f0ae394",
   "metadata": {},
   "source": [
    "__여러 변수로 반환하기__<br>\n",
    "여러 개의 값을 여러 변수로 반환하는 방법"
   ]
  },
  {
   "cell_type": "code",
   "execution_count": 29,
   "id": "d1c21637",
   "metadata": {},
   "outputs": [
    {
     "name": "stdout",
     "output_type": "stream",
     "text": [
      "최솟값은 :  20\n",
      "최댓값은 :  40\n"
     ]
    }
   ],
   "source": [
    "list_data = [30, 20, 30, 40]\n",
    "\n",
    "def minmax_function(x_list):\n",
    "        \n",
    "    def inner_min_function(x):\n",
    "        length = len(x)\n",
    "        min_result = x[0]\n",
    "        for i in range(length):\n",
    "            if min_result > x[i]:\n",
    "                min_result = x[i]\n",
    "        return min_result\n",
    "    \n",
    "    def inner_max_function(x):\n",
    "        length = len(x)\n",
    "        max_result = x[0]\n",
    "        for i in range(length):\n",
    "            if max_result < x[i]:\n",
    "                max_result = x[i]\n",
    "        return max_result\n",
    "        \n",
    "    x_min = inner_min_function(x_list)\n",
    "    x_max = inner_max_function(x_list)\n",
    "    \n",
    "    return x_min, x_max\n",
    "\n",
    "min_value, max_value = minmax_function(list_data)\n",
    "\n",
    "print(\"최솟값은 : \", min_value)\n",
    "print(\"최댓값은 : \", max_value)"
   ]
  },
  {
   "cell_type": "markdown",
   "id": "51c24467",
   "metadata": {},
   "source": [
    "이처럼 `,`콤마를 이용해 여러 개의 값을 반환하고, 이를 받아 각각을 활용할 수 있다."
   ]
  },
  {
   "cell_type": "markdown",
   "id": "23422e98",
   "metadata": {},
   "source": [
    "## 같은 코드 두 번 짜지 말자! (3) 람다 표현식\n",
    "람다는 런타임에 생성해서 사용할 수 있는 익명 함수이다. 쉽게 말하자면, 함수 이름이 없는 함수라고 생각하면 된다. 람다 표현식은 식 형태로 되어 있어 람다 표현식(lambda expression)이라 부른다.\n",
    "\n",
    "더하기를 하는 함수를 짜보겠다."
   ]
  },
  {
   "cell_type": "code",
   "execution_count": 30,
   "id": "8c1ec20f",
   "metadata": {},
   "outputs": [],
   "source": [
    "def add(x, y):\n",
    "    return x + y"
   ]
  },
  {
   "cell_type": "markdown",
   "id": "fc546355",
   "metadata": {},
   "source": [
    "위와 같이 `def`를 사용해 일반적으로 함수를 만들려면 최소 2줄이 필요하다. 함수 이름, 입력값들을 정의하는 첫 번째 줄, 결과를 반환하는 return 줄을 써야 하기 때문이다. 하지만 우리는 이것을 한 줄로 줄일 수 있다."
   ]
  },
  {
   "cell_type": "code",
   "execution_count": null,
   "id": "57343368",
   "metadata": {},
   "outputs": [],
   "source": [
    "def add(x, y): return x + y"
   ]
  },
  {
   "cell_type": "markdown",
   "id": "f72be533",
   "metadata": {},
   "source": [
    "사실 좋은 코드로 보이지는 않는다. 아래에서 유지보수가 쉬운 코드에 대한 이야기도 금방 나올 테니 일단은 지켜보자.\n",
    "\n",
    "일단 람다를 사용하는 법을 보여주겠다."
   ]
  },
  {
   "cell_type": "code",
   "execution_count": null,
   "id": "3d207331",
   "metadata": {},
   "outputs": [],
   "source": [
    "print( (lambda x,y: x + y)(10, 20) )"
   ]
  },
  {
   "cell_type": "markdown",
   "id": "2b7eb0f9",
   "metadata": {},
   "source": [
    "먼저 `lambda`라고 적혀져 있고 그 옆에 위의 `add` 함수와 같은 역할을 하는 코드가 적혀져 있다. 순서대로 살펴보겠다.\n",
    "\n",
    "* 먼저 `x`, `y` 는 입력값을 의미한다. 즉, `x`값과 `y`값이 입력으로 들어온다는 의미이다.\n",
    "* 두 번째, `x + y`는 `return` 부분과 같다. `add` 함수에도 `return x + y`가 있었던 것과 같이 lambda 에도 '`:`' 이후에 반환값으로 나오게 된다.\n",
    "* 마지막은 (10, 20) 이다. 각각 앞에 있던 `x`, `y` 입력값이다. 만약 입력이 `x`, `y`, `z` 이라면 (10, 20, 30) 이렇게 세 개의 값을 넣게 된다. 보통 함수 안의 함수를 간단히 만들 때, `def`를 이용해 만들지 않고 람다를 이용해서 함수를 만들게 된다.\n",
    "\n",
    "람다 표현식을 사용하는 가장 중요한 이유는 함수의 인수 부분을 간단히 하기 위함이다. 이런 방식으로 사용하는 대표적인 예가 `map()`이다.\n",
    "\n",
    "람다 표현식을 사용하기 전에 먼저 `def`로 함수를 만들어서 `map()`을 사용하는 예제를 보여주겠다.\n",
    "\n",
    "`map()` 함수는 입력받은 자료형의 각 요소가 함수에 의해 수행된 결과를 묶어서 map iterator 객체로 출력하는 역할을 한다. 아래 예시를 보면서 이해해 보도록 하겠다. 먼저 코드를 돌려보자."
   ]
  },
  {
   "cell_type": "code",
   "execution_count": 1,
   "id": "e1b345f3",
   "metadata": {
    "ExecuteTime": {
     "end_time": "2021-06-10T15:55:30.339893Z",
     "start_time": "2021-06-10T15:55:30.334105Z"
    }
   },
   "outputs": [
    {
     "name": "stdout",
     "output_type": "stream",
     "text": [
      "[2, 4, 6]\n"
     ]
    }
   ],
   "source": [
    "def list_mul(x):\n",
    "     return x * 2\n",
    "\n",
    "result = list(map(list_mul, [1, 2, 3]))\n",
    "print(result)\n",
    "\n",
    "#map_res = map(list_mul, [1, 2, 3])\n",
    "#print(map_res)\n",
    "#list_map_res = list(map_res)\n",
    "#print(list_map_res)"
   ]
  },
  {
   "cell_type": "markdown",
   "id": "61dbd59a",
   "metadata": {},
   "source": [
    "코드를 먼저 설명하면, 함수 `list_mul()`은 숫자를 받은 뒤 그 두 배 값을 반환하는 함수이다. 그리고 `map()`에 `list_mul()`함수와 리스트 `[1, 2, 3]`을 넣는다. 주의할 점이 `map()`의 결과는 그냥 map 객체이므로 결과창에서 직접 눈으로 확인할 수 있는 형태로 바꾸기 위해 `list()`를 사용해 리스트 형태로 변환해준다.\n",
    "\n",
    "`map(f, iterable)` 는 입력으로 함수(**f**)와 반복 가능한(**iterable**) 객체(리스트, 튜플 등)를 받는다. 코드에서 보면 **f**에는 `list_mul()` 함수가 들어갔고 **iterable**에는 `[1,2,3]` 리스트가 들어가 있다. 코드를 수행하면 리스트에 들어가 있는 값들에 2를 곱한 결과가 나온다. 즉, 리스트안의 원소들을 1(0번째) 부터 시작해서 2(1번째), 3(2번째) 순서로 `list_mul()` 함수에 차례로 넣고 출력을 받아서 list 형태로 바꾼 것이다.\n",
    "\n",
    "그럼 이 `map()`이 lambda와 결합을 하면 어떻게 될까? 아래의 코드와 같이 `list_mul()` 함수를 lambda로 대체하면 총 3줄이었던 코드가 1줄로 줄어드는 매직을 보게 된다."
   ]
  },
  {
   "cell_type": "code",
   "execution_count": 2,
   "id": "f3b394f6",
   "metadata": {
    "ExecuteTime": {
     "end_time": "2021-06-10T15:56:46.522381Z",
     "start_time": "2021-06-10T15:56:46.519594Z"
    }
   },
   "outputs": [
    {
     "name": "stdout",
     "output_type": "stream",
     "text": [
      "[2, 4, 6]\n"
     ]
    }
   ],
   "source": [
    "result = list(map(lambda i: i * 2 , [1, 2, 3]))\n",
    "print(result)"
   ]
  },
  {
   "cell_type": "markdown",
   "id": "accc44c6",
   "metadata": {},
   "source": [
    "`map()` 이외에도 `filter()`, `reduce()` 등 람다 표현식과 자주 쓰이는 함수가 많이 있다. 아래 사이트를 가면 해당 함수에 대한 추가적인 설명이 있다.\n",
    "\n",
    "* [위키독스: 람다](https://wikidocs.net/64)"
   ]
  },
  {
   "cell_type": "markdown",
   "id": "86788d56",
   "metadata": {},
   "source": [
    "## 9. 같은 코드 두 번 짜지 말자! (4) 클래스, 모듈, 패키지"
   ]
  },
  {
   "cell_type": "markdown",
   "id": "e6c695d8",
   "metadata": {},
   "source": [
    "### 클래스(Class)\n",
    "---\n",
    "클래스는 비슷한 역할을 하는 함수들의 집합이라고 볼 수 있다. 예를 들어, RPG 게임을 할 때 직업을 선택하게 되는데, 각 직업에 따라서 쓸 수 있는 스킬 들이 다르다. 전사이면 칼의 공격력을 높이거나 방패의 방어력을 높이는 등의 스킬이 있고, 마법사이면 파이어볼, 아이스볼 등 직업의 특성을 나타내는 스킬 들이 있다. 비슷한 특성을 가지는 스킬(함수)들을 모아 놓은 '직업'과 유사한 개념이 클래스이다."
   ]
  },
  {
   "cell_type": "markdown",
   "id": "e2121577",
   "metadata": {},
   "source": [
    "### **모듈(Module)**\n",
    "\n",
    "---\n",
    "\n",
    "모듈은 함수, 변수, 클래스를 모아 놓은 파일을 말한다. 즉, 코드의 저장소라고 볼 수 있다. 모듈은 앞으로 우리가 자주 사용하게 될 중요한 기능 중 하나이다. 이미 만들어져 있는 모듈을 가져와 쓸 수도 있고 아니면 우리가 직접 모듈을 만들어서 사용할 수도 있다.\n",
    "\n",
    "모듈을 사용하는 방법을 알아보겠다. `mycalculator.py` 모듈을 만들었다고 가정해보자. 해당 모듈은 사칙연산을 수행하는 코드로 구성되어 있다.\n",
    "\n",
    "```python\n",
    "# mycalculator.py\n",
    "\n",
    "test = \"you can use this module.\"\n",
    "\n",
    "def add(a, b):\n",
    "    return a + b\n",
    "\n",
    "def mul(a, b):\n",
    "    return a * b\n",
    "\n",
    "def sub(a, b):\n",
    "\treturn a - b\n",
    "\n",
    "def div(a, b):\n",
    "\treturn a / b\n",
    "\n",
    "class all_calc():\n",
    "\tdef __init__(self, a, b):\n",
    "\t\tself.a = a\n",
    "\t\tself.b = b\n",
    "\n",
    "\tdef add(self):\n",
    "        return self.a + self.b\n",
    "\n",
    "\tdef mul(self):\n",
    "\t    return self.a * self.b\n",
    "\n",
    "\tdef sub(self):\n",
    "\t\treturn self.a - self.b\n",
    "\n",
    "\tdef div(self):\n",
    "\t\treturn self.a / self.b\n",
    "```\n",
    "\n",
    "먼저 mycalculator를 import 한다.\n",
    "\n",
    "```python\n",
    "# import 모듈이름\n",
    "import mycalculator\n",
    "```\n",
    "\n",
    "그리고 mycalculator 안에 있는 함수들을 사용하고 싶으면 아래와 같이 사용하면 된다.\n",
    "\n",
    "```python\n",
    "# 모듈이름.함수이름()\n",
    "print(mycalculator.add(4, 2))\n",
    "```\n",
    "\n",
    "`add()` 함수의 내부를 짤 필요 없이 모듈만 import 하면 언제 어디서든 쉽게 사용할 수 있다.\n",
    "\n",
    "모듈 이름이 mycalculator로 좀 긴 것 같다. 짧게 바꾸고 싶은데 어떻게 해야 할까? `as` 구문을 사용하면 모듈의 별명을 정할 수 있다. mycalculator 모듈을 mc라고 별명을 붙여보겠다.\n",
    "\n",
    "```pyhton\n",
    "import mycalculator as mc\n",
    "\n",
    "# 모듈이름.함수이름()\n",
    "print(mc.add(4, 2))\n",
    "```\n",
    "\n",
    "mycalculator가 mc라는 별명을 얻은 이후엔 `mycalculator.add(4, 2)` 대신 `mc.add(4,2)`만 적으면 실행된다."
   ]
  },
  {
   "cell_type": "markdown",
   "id": "c2ebffbb",
   "metadata": {},
   "source": [
    "### **패키지**\n",
    "\n",
    "---\n",
    "\n",
    "파이썬 프로그래밍에 있어서 능력을 무한정으로 넓혀줄 수 있는 특급 비기를 알아보자.\n",
    "\n",
    "그것은 바로 **패키지** 이다. 패키지(라이브러리)는 전 세계의 파이썬 사용자들이 만든 유용한 프로그램을 모아 놓은 보물 주머니 같은 것이다. 패키지의 다른 말인 라이브러리는 말 그대로 도서관인데 실제 도서관과 비슷한 역할을 한다. 도서관에는 수많은 책이 있고 거기서 원하는 책을 찾아야 한다. 그러나 원하는 책을 찾기만 하면 내가 갖고 있는 문제나 궁금증을 해결 할 수 있을 것이다.\n",
    "\n",
    "파이썬에서 패키지는 여러 모듈을 하나로 모아둔 폴더라고 할 수 있다. 아래 그림을 보시면 종이처럼 보이는 부분이 함수이고, 그 함수 여러 개가 모여서 모듈을 만들고, 모듈이 여러 개 모여 패키지를 이룬다.\n",
    "\n",
    "<img src=\"./image/pakage.png\" />\n",
    "\n",
    "패키지에 대해 알아보았으니 다른 사람들이 만들어 놓은 보물 같은 패키지를 쓰기 전에 먼저 설치하는 방법을 알아보겠다.\n",
    "\n",
    "* [패키지 설치 방법](https://lms.aiffel.io/steps2/703)\n",
    "\n",
    "거의 모든 패키지는 `pip` 명령어를 통해서 설치할 수 있다. 직접 만들거나 아니면 공개되지 않은 패키지의 경우는 pip을 이용해서 설치하지 못하고 직접 설치를 해야 한다. 하지만 여러분들이 쓰시게 될 대부분의 패키지는 pip을 이용해서 설치가 가능하다.\n",
    "\n",
    "패키지를 설치 명령어는 아래와 같다.\n",
    "\n",
    "```bash\n",
    "# pip install 패키지이름\n",
    "$ pip install pandas\n",
    "```\n",
    "\n",
    "설치한 패키지는 pandas라는 패키지이다.\n",
    "\n",
    "어떤 패키지가 있는지 찾으려면 [pypi.org](http://pypi.org/) 사이트를 참고하자. 남들이 올려놓은 패키지 목록들을 보고 다운로드가 가능하다.\n",
    "\n",
    "* [PyPI · The Python Package Index](https://pypi.org/)\n",
    "\n",
    "아래는 pypi에서 pandas를 검색해 나온 결과이다. 패키지의 설치 방법은 아래 `pip install pandas`로 나와 있는 것을 볼 수 있다.\n",
    "\n",
    "<img src=\"./image/pip.jpg\" />"
   ]
  },
  {
   "cell_type": "markdown",
   "id": "3c992bce",
   "metadata": {},
   "source": [
    "## 10. 프로그래밍 패러다임과 함수형 프로그래밍\n",
    "\n",
    "**패러다임(Paradigm)** 은 어떤 한 시대의 사람들의 견해나 사고를 근본적으로 규정하고 있는 테두리를 말하며, 인식의 체계 또는 사물에 대한 이론적인 틀이나 체계를 의미하는 개념이다. 과거에 우주를 받아들이는 방법 중에 천동설과 지동설이 있었다는 것을 한 번쯤은 들어본 적이 있을 것이다.\n",
    "\n",
    "<img src=\"./image/paradigm.png\" />\n",
    "<center>[출처 : https://simple.wikipedia.org/wiki/Geocentrism]</center>\n",
    "\n",
    "[https://simple.wikipedia.org/wiki/Geocentrism](https://simple.wikipedia.org/wiki/Geocentrism)\n",
    "\n",
    "위 사진과 같이 천동설은 지구가 중심에 있고 태양을 비롯한 태양계를 이루는 천체들이 지구를 돌고 있다고 믿는 패러다임이다. 지동설은 반대로 태양이 중심에 있고 지구가 그 주위를 돌고 있다고 믿는 패러다임이다. 둘의 사고방식은 완전 다르기 때문에 각 학설마다 우주에 관해 설명하는 방법이 달라진다. 물론 지금은 우주에 사람이 갈 정도로 발전이 되어 지동설이 맞는다는 것을 알고 있지만 과거에는 서로 설명하는 관점이 달랐다.\n",
    "\n",
    "프로그래밍 패러다임은 위에서 설명한 천동설 지동설처럼 프로그래머에게 프로그래밍의 관점을 갖게 해 주고, 결정하는 역할을 합니다. 프로그래밍 언어들은 각자 언어 저마다의 프로그래밍 패러다임을 갖고 있다. 어떤 언어(Smalltalk, HASKELL)들은 하나의 패러다임만을 지원하기도 하고 또 어떤 언어(Python, Lisp, Java)들은 여러 개의 패러다임을 지원하기도 한다.\n",
    "\n",
    "데이터 사이언스를 공부하는 입장이기 때문에 여기에 적합한 패러다임을 소개하려고 한다. 바로 함수형 프로그래밍이다. 함수형 프로그래밍에 대한 소개와 특징에 관해서 이야기를 할텐데 입문 수준의 내용이기 때문에 `\"이런 패러다임이 있구나\"` 라고만 기억하면 된다."
   ]
  },
  {
   "cell_type": "markdown",
   "id": "386e1cf8",
   "metadata": {},
   "source": [
    "### **절차 지향 프로그래밍과 객체 지향 프로그래밍**\n",
    "\n",
    "---\n",
    "\n",
    "* **절차 지향 프로그래밍**<br>\n",
    "일이 진행되는 순서대로 프로그래밍하는 방법이다.\n",
    "* 장점 : 코드가 순차적으로 작성되어 있어 순서대로 읽기만 하면 이해가 가능하다.\n",
    "* 단점 : 순차적으로 작성되어 있기 때문에 위에서 하나가 잘못되면 아래도 연쇄적으로 문제가 생겨서 유지보수가 어렵다. 일반적으로 코드 길이가 길어서 코드를 분석하기 어렵다.\n",
    "\n",
    "* **객체 지향 프로그래밍** <br>\n",
    "객체지향 프로그래밍은 개발자가 프로그램을 상호작용하는 객체들의 집합으로 볼 수 있게 한다. 객체지향 프로그래밍은 객체를 먼저 작성하고 함수를 작성한다. 이렇게 작성된 객체는 객체 간의 상호작용이 있다. \n",
    "- 장점 : 코드를 재사용하기 쉽다. 코드 분석이 쉬우며 아키텍처를 바꾸기 쉽다. \n",
    "- 단점 : 객체 간의 상호작용이 있기 때문에 설계에서 많은 시간이 소요되며 설계를 잘못하면 전체적으로 바꿔야 할 수도 있다.\n",
    "\n",
    "파이썬은 객체지향 프로그래밍(OOP, Object Oriented Programming) 패러다임을 기본적으로 지원하고 있다.\n",
    "\n",
    "* 참고: [파이썬 - OOP Part 1. 객체 지향 프로그래밍(OOP)은 무엇인가? 왜 사용하는가?](http://schoolofweb.net/blog/posts/%ED%8C%8C%EC%9D%B4%EC%8D%AC-oop-part-1-%EA%B0%9D%EC%B2%B4-%EC%A7%80%ED%96%A5-%ED%94%84%EB%A1%9C%EA%B7%B8%EB%9E%98%EB%B0%8Doop%EC%9D%80-%EB%AC%B4%EC%97%87%EC%9D%B8%EA%B0%80-%EC%99%9C-%EC%82%AC%EC%9A%A9%ED%95%98%EB%8A%94%EA%B0%80/)"
   ]
  },
  {
   "cell_type": "markdown",
   "id": "47046b96",
   "metadata": {},
   "source": [
    "### **함수형 프로그래밍**\n",
    "\n",
    "---\n",
    "\n",
    "**함수형 프로그래밍**은 데이터 사이언티스트에게 적합한 프로그래밍 패러다임이다. 함수형 프로그래밍은 효율성, 버그 없는 코드, 병렬 프로그래밍과 같은 장점을 제공한다.\n",
    "\n",
    "함수형 프로그래밍은 함수로 문제를 분해한다. 이 함수들은 입력을 받아서 출력을 만들어 내기만 하며, 주어진 입력이 함수를 통과하고 값이 생성되면 이 출력값은 함수 외부의 다른 변수나 함수에 의해 변하지 않는다.\n",
    "\n",
    "함수형 프로그래밍이 데이터 사이언티스트에게 적합한 프로그래밍 패러다임이라고 말하는 이유는, 함수형 프로그래밍이 기본적으로 가지고 있는 특징 때문이다. 아래 특징들을 확인하기 전에 한 가지 예를 들어보겠다. 함수형 프로그래밍은 병렬 프로그래밍 측면에서 장점이 있다고 말한 것을 기억할 것이다.\n",
    "\n",
    "AI 연구가 갑자기 붐처럼 일어나게 된 이유가 무엇 때문이었을까? 알고리즘의 고도화, 알파고..등 많지만 **GPU를 이용한 병렬 처리**가 굉장히 큰 역할을 했다. 병렬 처리는 어려운 프로그래밍 방법의 하나로 유명하다. 기본적으로 병렬 처리를 코딩하기도 어려울 뿐더러 제약 조건 또한 많기 때문이다. 제약 조건 중에 하나만 얘기하자면 하나의 데이터에 동시에 여러 함수가 접근한다고 가정을 했을 때 이들 함수 중에 하나라도 기존 데이터를 수정하는 함수가 있으면 기존 데이터로 출력을 예상할 수가 없게 된다. 만약, 반대로 순차 처리를 한다면 여러 개의 함수가 순서대로 처리되기 때문에 기존 데이터를 바꾼 함수 이후로의 데이터 출력은 예측이 가능한 것이다."
   ]
  },
  {
   "cell_type": "markdown",
   "id": "e9aa6aca",
   "metadata": {},
   "source": [
    "### 함수형 프로그래밍의 특징\n",
    "---"
   ]
  },
  {
   "cell_type": "markdown",
   "id": "5be935d5",
   "metadata": {},
   "source": [
    "#### 1. 순수성\n",
    "\n",
    "함수형 프로그램에서, 각 함수는 입력으로부터 동작을 시작해 출력을 만들어낸다. 함수형 방식은 내부 상태를 수정하거나 함수의 반환값에서 보이지 않는 다른 변경사항들을 만드는 부작용이 있는 함수를 사용하지 않는다. 부작용이 전혀 없는 함수를 **순수 함수** 라고 한다. 부작용을 피한다는 것은 프로그램이 실행될 때 해당 프로그램이 수정될 수 있는 상황을 엄격히 제한한다는 의미이다. 그리고 모든 함수의 출력은 입력에만 의존해야 한다.\n",
    "\n",
    "어떤 언어는 순수성에 대해 매우 엄격하며, `a=3` 혹은 `c=a+b` 와 같은 대입문조차 쓸 수 없으나, 그렇다고 해서 모든 문제를 피하는 것이 어렵다.\n",
    "\n",
    "순수성에 대한 코드 예시를 보겠다. 아래는 순수성이 없는 코드이다.\n",
    "\n",
    "```python\n",
    "A = 5\n",
    "\n",
    "def impure_mul(b):\n",
    "\n",
    "    return b * A\n",
    "\n",
    "print(impure_mul(6))\n",
    "```\n",
    "\n",
    "위의 함수는 입력으로 들어오는 변수 이외에도 함수 밖에 있는 변수인 A도 함수 내에서 사용하기 때문에 순수성이 없다.\n",
    "\n",
    "이번엔 순수성이 있는 함수를 보겠다.\n",
    "\n",
    "```python\n",
    "def pure_mul(a, b):\n",
    "\n",
    "    return a * b\n",
    "\n",
    "print(pure_mul(4, 6))\n",
    "```\n",
    "\n",
    "함수 안에 함수 밖에서 바로 가져오는 함수나 아니면 밖에 있는 변수를 변경시키는 코드가 없다. 순수하게 함수 input 2개만을 이용해서 결과를 내보낸다."
   ]
  },
  {
   "cell_type": "markdown",
   "id": "48f8fc08",
   "metadata": {},
   "source": [
    "#### 2. 모듈성\n",
    "\n",
    "함수형 프로그래밍은 문제를 작은 조각으로 분해하도록 강제한다. 복잡한 변환을 한 함수 안에서 수행하는 거대한 함수보다, 한 가지 작업을 수행하는 작은 함수들로 쪼개어 만드는 것이 코딩하기에 더 쉽다. 작은 함수는 가독성도 좋고 오류를 확인하기도 더 쉽다. 결과적으로 프로그램은 더욱 모듈화가 된다."
   ]
  },
  {
   "cell_type": "markdown",
   "id": "aab3e9aa",
   "metadata": {},
   "source": [
    "#### 3. 디버깅과 테스트 용이성\n",
    "\n",
    "함수형 프로그래밍으로 개발된 프로그램은 각각의 함수가 작고 명확하게 명시되기 때문에 디버깅을 쉽게 할 수 있다. 프로그램이 동작하지 않는다면, 각 함수는 데이터가 올바른지 확인할 수 있는 포인트들이 된다. 각 함수의 입력과 출력을 확인하면서 예상되는 것과 다른 출력이 나오면 해당 부분이 문제이기 때문에 디버깅이 쉽다.\n",
    "\n",
    "각 함수는 잠재적으로 단위 테스트의 대상이기 때문에 테스트가 더 쉽다. 올바른 입력을 함수에 입력하고 결과가 예상과 일치하는지 확인만 하면 되기 때문이다.\n",
    "\n",
    "* 참고: [함수형 프로그래밍 HOWTO](https://docs.python.org/ko/3/howto/functional.html)"
   ]
  },
  {
   "cell_type": "markdown",
   "id": "00d5177a",
   "metadata": {},
   "source": [
    "## 11. 파이써닉하게 코드를 짜보자\n",
    "\n",
    "파이썬 프로그래머에게 파이썬의 어떤 점이 가장 좋느냐고 묻는다면 아마 뛰어난 가독성이 좋다고 할 것이다. 실제로 높은 수준의 가독성은 파이썬 언어 디자인의 핵심이다. 코드 작성은 한 번이지만, 그 코드를 다시 읽거나 고치는 일은 훨씬 더 많기 때문에 코드 가독성은 중요하다.\n",
    "\n",
    "파이썬 코드가 쉽게 읽히고 잘 이해되는 이유는 비교적 완벽한 코드 스타일 가이드라인과 “파이썬스러운” 이디엄(코드 작성법) 때문이다.\n",
    "\n",
    "파이썬은 **pep8**이라는 코드 스타일 가이드가 있다. 대부분의 개발자가 이 코드 스타일에 따라서 개발을 하고 있다. 개발자들이 따르고 있는 스타일이 있다는 것은 많은 도움이 된다. 유지보수 측면에서 빠른 코드 이해로 개발 기간이 줄고 가독성 측면에서도 도움이 된다.\n",
    "\n",
    "`참고자료`\n",
    "\n",
    "* [코드 스타일 - The Hitchhiker's Guide to Python](https://python-guide-kr.readthedocs.io/ko/latest/writing/style.html)\n",
    "* [[PEP8] Code lay-out](https://pep8.org/#code-lay-out)"
   ]
  },
  {
   "cell_type": "markdown",
   "id": "54e1ad82",
   "metadata": {},
   "source": [
    "### **Whitespace**\n",
    "\n",
    "---\n",
    "\n",
    "* 한 줄의 코드 길이가 79자 이하여야 한다.\n",
    "\n",
    "```python\n",
    "y = a + a + a + a # 79자 이하\n",
    "```\n",
    "\n",
    "* 함수와 클래스는 다른 코드와 `빈 줄 두 개`로 구분한다.\n",
    "\n",
    "```python\n",
    "class a():\n",
    "    pass\n",
    "# 빈 줄\n",
    "# 빈 줄\n",
    "class b():\n",
    "\t\tpass\n",
    "# 빈 줄\n",
    "# 빈 줄\n",
    "def c():\n",
    "\t\tpass\n",
    "# 빈 줄\n",
    "# 빈 줄\n",
    "```\n",
    "\n",
    "* 클래스에서 함수는 빈 줄 하나로 구분한다.\n",
    "\n",
    "```python\n",
    "class a():\n",
    "\n",
    "\tdef b():\n",
    "\t\tpass\n",
    "\n",
    "\tdef c():\n",
    "\t\tpass\n",
    "```\n",
    "\n",
    "* 변수 할당 앞뒤에 스페이스를 하나만 사용한다.\n",
    "\n",
    "```python\n",
    "y = 1\n",
    "```\n",
    "\n",
    "* 리스트 인덱스, 함수 호출에는 스페이스를 사용하지 않는다.\n",
    "\n",
    "```python\n",
    "my_list = [1, 2, 3]\n",
    "my_list[0] # 리스트 인덱스 호출\n",
    "\n",
    "my_function(0) # 함수 호출\n",
    "```\n",
    "\n",
    "* 쉼표(,), 쌍점(:), 쌍반점(;) 앞에서는 스페이스를 사용하지 않는다.\n",
    "\n",
    "```python\n",
    "my_list[1, 2, 3]; my_list[0:1]\n",
    "if len(my_list) == 3: print my_list\n",
    "```"
   ]
  },
  {
   "cell_type": "markdown",
   "id": "aa0a9e77",
   "metadata": {},
   "source": [
    "### 주석\n",
    "---\n",
    "* 코드의 내용과 일치하지 않는 주석은 피해야한다.\n",
    "* 불필요한 주석은 피해야한다."
   ]
  },
  {
   "cell_type": "markdown",
   "id": "3e81213c",
   "metadata": {},
   "source": [
    "### **이름 규칙**\n",
    "\n",
    "---\n",
    "\n",
    "* 변수명 앞에 \\_(밑줄)이 붙으면 함수 등의 내부에서만 사용되는 변수를 일컫는다.\n",
    "\n",
    "```python\n",
    "_my_list = []\n",
    "```\n",
    "\n",
    "* 변수명 뒤에 \\_(밑줄)이 붙으면 라이브러리 혹은 파이썬 기본 키워드와의 충돌을 피하고 싶을 때 사용한다.\n",
    "\n",
    "```python\n",
    "import_ = \"not_import\"\n",
    "```\n",
    "\n",
    "* 소문자 L, 대문자 O, 대문자 I를 가능하면 사용하지 말자. 특정 폰트에서는 가독성이 굉장히 안 좋다. 모듈(Module) 명은 짧은 소문자로 구성되며, 필요하다면 밑줄로 나눈다.\n",
    "\n",
    "```python\n",
    "my_module.py\n",
    "```\n",
    "\n",
    "* 클래스 명은 파스칼 케이스(PascalCase) 컨벤션으로 작성한다. 네이밍 컨벤션은 뒤에서 다시 설명하겠다.\n",
    "\n",
    "```python \n",
    "class MyClass():\n",
    "\tpass\n",
    "```\n",
    "\n",
    "* 함수명은 소문자로 구성하되 필요하면 밑줄로 나눈다.\n",
    "\n",
    "```python\n",
    "def my_function():\n",
    "\tpass\n",
    "```\n",
    "\n",
    "* 상수(Constant)는 모듈 단위에서만 정의하며 모두 대문자에 필요하다면 밑줄로 나눈다.\n",
    "\n",
    "```python\n",
    "\tMY_PI = 3.14 # 상수는 변하지 않는 변수입니다.\n",
    "```"
   ]
  },
  {
   "cell_type": "markdown",
   "id": "64ae96a6",
   "metadata": {},
   "source": [
    "### 네이밍 컨벤션(Naming convention)\n",
    "---\n",
    "실무에선 다른 사람들과 같이 코드를 짜야 하는 경우가 많다. 사람들마다 변수명을 적는 방식이 다르면 코드가 깔끔해보이지 않기 때문에 가독성이 안 좋다. 가독성이 좋은 코드를 짜는 방법은 통일성을 갖는 것이다. 통일성을 갖기 위해선 사람들이 공유하는 코딩 스타일 가이드가 필요하다. 그래서 파이썬에서는 pep8 이라는 코딩 스타일 가이드를 가지고 있다. pep8 코딩 스타일 가이드는 위에서 소개했기 때문에 이번엔 이름을 작성할 때 사용하는 네이밍 컨벤션에 대해서 알아보겠다.\n",
    "\n",
    "대표적인 네이밍 컨벤션은 snake_case, PascalCase, camelCase 이다. 각 네이밍 컨벤션의 기준에 맞춰 코드를 작성하시면 가독성이 높은 코드가 된다."
   ]
  },
  {
   "cell_type": "markdown",
   "id": "3bd9864f",
   "metadata": {},
   "source": [
    "#### snake_case\n",
    "\n",
    "* 모든 공백을 \"\\_\"로 바꾸고 모든 단어는 소문자이다.\n",
    "* 파이썬에서는 함수, 변수 등을 명명할 때 사용한다.\n",
    "* ex) this_snake_case"
   ]
  },
  {
   "cell_type": "markdown",
   "id": "259ec05c",
   "metadata": {},
   "source": [
    "#### PascalCase\n",
    "\n",
    "* 모든 단어가 대문자로 시작한다.\n",
    "* UpperCamelCase, CapWords라고 불리기도 한다.\n",
    "* 파이썬에서는 클래스를 명명할 때 사용한다.\n",
    "* ex) ThisPascalCase"
   ]
  },
  {
   "cell_type": "markdown",
   "id": "25eb05f2",
   "metadata": {},
   "source": [
    "#### camelCase\n",
    "\n",
    "* 처음은 소문자로 시작하고 이후의 모든 단어의 첫 글자는 대문자로 한다.\n",
    "* lowerCamelCase라고 불리기도 한다.\n",
    "* 파이썬에서는 거의 사용하지 않는다(java 등에서 사용)\n",
    "* ex) thisCamelCase"
   ]
  }
 ],
 "metadata": {
  "kernelspec": {
   "display_name": "aiffel",
   "language": "python",
   "name": "aiffel"
  },
  "language_info": {
   "codemirror_mode": {
    "name": "ipython",
    "version": 3
   },
   "file_extension": ".py",
   "mimetype": "text/x-python",
   "name": "python",
   "nbconvert_exporter": "python",
   "pygments_lexer": "ipython3",
   "version": "3.7.9"
  },
  "toc": {
   "base_numbering": 1,
   "nav_menu": {},
   "number_sections": true,
   "sideBar": true,
   "skip_h1_title": false,
   "title_cell": "Table of Contents",
   "title_sidebar": "Contents",
   "toc_cell": false,
   "toc_position": {
    "height": "calc(100% - 180px)",
    "left": "10px",
    "top": "150px",
    "width": "370.594px"
   },
   "toc_section_display": true,
   "toc_window_display": true
  },
  "varInspector": {
   "cols": {
    "lenName": 16,
    "lenType": 16,
    "lenVar": 40
   },
   "kernels_config": {
    "python": {
     "delete_cmd_postfix": "",
     "delete_cmd_prefix": "del ",
     "library": "var_list.py",
     "varRefreshCmd": "print(var_dic_list())"
    },
    "r": {
     "delete_cmd_postfix": ") ",
     "delete_cmd_prefix": "rm(",
     "library": "var_list.r",
     "varRefreshCmd": "cat(var_dic_list()) "
    }
   },
   "types_to_exclude": [
    "module",
    "function",
    "builtin_function_or_method",
    "instance",
    "_Feature"
   ],
   "window_display": false
  }
 },
 "nbformat": 4,
 "nbformat_minor": 5
}
