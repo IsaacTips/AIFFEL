{
 "cells": [
  {
   "cell_type": "markdown",
   "metadata": {},
   "source": [
    "\n",
    "# 10. 당신의 행운의 숫자는? 나만의 n면체 주사위 위젯 만들기\n",
    "\n",
    "\n",
    "## 1. 들어가며\n",
    "### 학습 목표\n",
    "-----------------------\n",
    "* 파이썬 클래스 문법을 익힌다.\n",
    "* 파이썬 클래스를 활용해 객체 지향 프로그래밍에 대해 학습한다.\n",
    "----------------------\n",
    "### 목차\n",
    "---\n",
    "#### 1. 객체 지향 프로그래밍\n",
    "  1. 객체란?\n",
    "  2. 객체 지향 프로그래밍이란?\n",
    "\n",
    "#### 2. 클래스 기본 문법\n",
    "  1. 클래스 선언 및 인스턴스화\n",
    "  2. 클래스 속성과 메소드\n",
    "  3. 생성자\n",
    "  4. 클래스 변수와 인스턴스 변수\n",
    "\n",
    "#### 3. 객체 지향 프로그래밍을 하는 이유\n",
    "#### 4. 클래스, 조금 더 알아보기 - 상속\n",
    "#### 5. n면체 주사위 만들기\n",
    "  1. 기획\n",
    "  2. 주 프로그램 - main 함수\n",
    "  3. FunnyDice 클래스\n",
    "  4. FunnyDice 클래스 테스트, get_input 함수\n",
    "  5. 완성 코드"
   ]
  },
  {
   "cell_type": "markdown",
   "metadata": {},
   "source": [
    "## 2. 객체 지향 프로그래밍 (1) 객체란?\n",
    "### 1) 객체\n",
    "-------------------\n",
    "> *Everything in Python is an object, and almost everything has attributes and methods.*\n",
    "\n",
    "\"파이썬(Python)에서 모든 것은 객체(object)다. 그리고 대부분의 객체는 속성(attributes)과 메소드(methods)를 갖는다.\" 라는 말 들어보았을 것이다.<br>\n",
    "\n",
    "파이썬에서는 부울(bool), 정수, 실수, 문자열, 배열, 딕셔너리, 함수, 모듈, 프로그램.. 등 모든 것이 객체이다.<br>\n",
    "\n",
    "아래 링크에 전체 내용이 나와있으니 한번 읽어 보자.\n",
    "\n",
    "* [Everything is an Object](https://linux.die.net/diveintopython/html/getting_to_know_python/everything_is_an_object.html)<br>\n",
    "\n",
    "__파이썬에서의 Everything is an object__\n",
    "\n",
    "* 파이썬에서 object라 불리우는 것들은 모두 변수에 할당될 수 있고, 함수의 인자로 넘겨질 수 있는 것들이다. 그러므로 파이썬에 나오는 모든 것들은 object이다.\n",
    "\n",
    "객체(object)란 개념은 다소 모호하긴 하다. 그러나 적어도 파이썬에서 정의된 모든 클래스는 `Object` 클래스를 상속받고 있다. 이 클래스가 책임지는 것이 변수 할당과 object id 부여이다. 그런 파이썬의 모든 것이 객체라는 말이 아주 터무니없지는 않은 것 같다."
   ]
  },
  {
   "cell_type": "markdown",
   "metadata": {},
   "source": [
    "### 2) 변수\n",
    "-------------------------------\n",
    "변수 `myvar`에 3을 할당해보자."
   ]
  },
  {
   "cell_type": "code",
   "execution_count": 1,
   "metadata": {},
   "outputs": [
    {
     "data": {
      "text/plain": [
       "3"
      ]
     },
     "execution_count": 1,
     "metadata": {},
     "output_type": "execute_result"
    }
   ],
   "source": [
    "myvar = 3\n",
    "myvar"
   ]
  },
  {
   "cell_type": "markdown",
   "metadata": {},
   "source": [
    "변수는 단지 이름일 뿐이다. `=` 연산자를 이용해 값을 할당한다는 의미는 값을 복사하는 것이 아니라 데이터가 담긴 객체에 그냥 이름을 붙이는 것이다. 진짜 객체를 변수명으로 가리켜 참조할 수 있게 하는 것이다.\n",
    "\n",
    "즉, 아래 코드는 `'cat'`이 담긴 문자열 타입의 객체를 생성하고 `myword`라는 변수(객체)에 할당, 문자열 객체를 참조하게 한다."
   ]
  },
  {
   "cell_type": "code",
   "execution_count": 3,
   "metadata": {},
   "outputs": [
    {
     "data": {
      "text/plain": [
       "'cat'"
      ]
     },
     "execution_count": 3,
     "metadata": {},
     "output_type": "execute_result"
    }
   ],
   "source": [
    "myword = 'cat'\n",
    "myword"
   ]
  },
  {
   "cell_type": "markdown",
   "metadata": {},
   "source": [
    "앞서 객체는 속성과 메소드를 포함한다고 했다. 문자열 클래스에는 `upper()`란 메소드가 있다."
   ]
  },
  {
   "cell_type": "code",
   "execution_count": 6,
   "metadata": {},
   "outputs": [
    {
     "data": {
      "text/plain": [
       "'CAT'"
      ]
     },
     "execution_count": 6,
     "metadata": {},
     "output_type": "execute_result"
    }
   ],
   "source": [
    "myword.upper()"
   ]
  },
  {
   "cell_type": "code",
   "execution_count": 7,
   "metadata": {},
   "outputs": [
    {
     "data": {
      "text/plain": [
       "'CAT'"
      ]
     },
     "execution_count": 7,
     "metadata": {},
     "output_type": "execute_result"
    }
   ],
   "source": [
    "'cat'.upper()"
   ]
  },
  {
   "cell_type": "markdown",
   "metadata": {},
   "source": [
    "위 두 코드의 출력값이 같다. `myword`가 가리키는 문자열과 `'cat'`의 값이 같기 때문이다.\n",
    "\n",
    "다른 예제를 보자."
   ]
  },
  {
   "cell_type": "code",
   "execution_count": 8,
   "metadata": {},
   "outputs": [
    {
     "data": {
      "text/plain": [
       "4"
      ]
     },
     "execution_count": 8,
     "metadata": {},
     "output_type": "execute_result"
    }
   ],
   "source": [
    "var = 4\n",
    "var"
   ]
  },
  {
   "cell_type": "markdown",
   "metadata": {},
   "source": [
    "변수 `var`에 정수 `4`를 할당한다.\n",
    "\n",
    "변수는 지금 단계에서는 쉽게 메모리 주소라고 생각하면 편하다.\n",
    "\n",
    "한번 `id()` 라는 함수를 사용해서 객체의 identity를 확인해 보겠다.\n",
    "\n",
    "`id()` 함수는 파이썬 내장함수로, 프로그램이 돌아가고 있는 동안 객체의 고유값(identity)을 반환한다. identity는 쉽게 메모리 주소 또는 그냥 객체마다 부여된 id라고 생각하면 된다.\n",
    "\n",
    "* 참고: [파이썬 공식 문서: id() 함수](https://docs.python.org/3/library/functions.html#id)\n",
    "\n",
    "변수 `var`와 정수 `4`의 id 값을 확인해 보면 동일한다."
   ]
  },
  {
   "cell_type": "code",
   "execution_count": 9,
   "metadata": {},
   "outputs": [
    {
     "name": "stdout",
     "output_type": "stream",
     "text": [
      "94918298145632 94918298145632\n"
     ]
    }
   ],
   "source": [
    "print(id(var), id(4)) #id 값은 pc마다 다릅니다."
   ]
  },
  {
   "cell_type": "markdown",
   "metadata": {},
   "source": [
    "다음 그림처럼 `4`라는 데이터를 변수 `var`에 할당시킨 것이다. 따라서 `var`, `4` 각각의 id값을 확인해 보면 같은 값이 나옴을 확인할 수 있다.\n",
    "\n",
    "<img src=\"./image/var.png\" />"
   ]
  },
  {
   "cell_type": "markdown",
   "metadata": {},
   "source": [
    "### 3) 얕은 복사, 깊은 복사\n",
    "-------------------------\n",
    "변수 `var`에 리스트 변수 `mylist`를 할당한다."
   ]
  },
  {
   "cell_type": "code",
   "execution_count": 10,
   "metadata": {},
   "outputs": [
    {
     "data": {
      "text/plain": [
       "[1, 2, 3]"
      ]
     },
     "execution_count": 10,
     "metadata": {},
     "output_type": "execute_result"
    }
   ],
   "source": [
    "mylist = [1,2,3]\n",
    "var = mylist\n",
    "var"
   ]
  },
  {
   "cell_type": "markdown",
   "metadata": {},
   "source": [
    "`mylist`에 `append()` 메소드를 이용해서 원소 `4` 를 추가해보자."
   ]
  },
  {
   "cell_type": "code",
   "execution_count": 11,
   "metadata": {},
   "outputs": [
    {
     "name": "stdout",
     "output_type": "stream",
     "text": [
      "[1, 2, 3, 4]\n"
     ]
    }
   ],
   "source": [
    "mylist.append(4)\n",
    "print(mylist)"
   ]
  },
  {
   "cell_type": "markdown",
   "metadata": {},
   "source": [
    "`var`를 출력해 보겠다."
   ]
  },
  {
   "cell_type": "code",
   "execution_count": 12,
   "metadata": {},
   "outputs": [
    {
     "name": "stdout",
     "output_type": "stream",
     "text": [
      "[1, 2, 3, 4]\n"
     ]
    }
   ],
   "source": [
    "print(var)"
   ]
  },
  {
   "cell_type": "markdown",
   "metadata": {},
   "source": [
    "`var`에도 `mylist`와 동일한 연산이 적용 되었다. 어떻게 된 걸까? `mylist`와 `var`의 id 값을 확인해 보면, 같은 값이 나오는 것을 확인할 수 있다."
   ]
  },
  {
   "cell_type": "code",
   "execution_count": 13,
   "metadata": {},
   "outputs": [
    {
     "name": "stdout",
     "output_type": "stream",
     "text": [
      "139744084969904 139744084969904\n"
     ]
    }
   ],
   "source": [
    "print(id(mylist), id(var))"
   ]
  },
  {
   "cell_type": "markdown",
   "metadata": {},
   "source": [
    "변수 `var`에 `mylist`를 할당하면 `var`와 `mylist`는 `[1,2,3,4]`라는 같은 데이터를 참조하게 된다. 따라서 `var`와 `mylist`는 id 값이 같으며, `var`도 `mylist`의 연산으로 원소가 추가된 `[1,2,3,4]` 데이터를 참조하게 된다.\n",
    "\n",
    "그리고 이렇게 원본 데이터는 그대로 두고, 참조하는 데이터의 id만을 복사하는 것을 __얕은 복사__ 라고 한다.\n",
    "\n",
    "그런데 우리가 생각하는 복사는 동일한 `[1,2,3,4]` 데이터가 생기는 것이다.\n",
    "\n",
    "이런 복사를 파이썬을 비롯한 프로그래밍에서는 __깊은 복사__ 라고 한다.\n",
    "\n",
    "아래 링크는 파이썬에서 공식적으로 지원하는 깊은 복사와 얕은 복사 관련 함수이다.\n",
    "\n",
    "* [파이썬 공식 문서: copy() 모듈](https://docs.python.org/3/library/copy.html)\n",
    "\n",
    "__얕은 복사와 깊은 복사 함수__\n",
    "\n",
    "* 얕은 복사 - copy.copy()\n",
    "* 깊은 복사 - copy.deepcopy()\n",
    "\n",
    "원칙적으로 얕은 복사는 원본 객체의 주소를 복사하고, 깊은 복사는 원본 객체의 값을 복사한다고 기억하면 된다. 다만 파이썬에서 얕은 복사, 깊은 복사의 기준은 조금 복잡하므로 우선 서로 다르다는 것만 기억하고, 좀 더 공부한 뒤 필요할 때 다시 공식 문서로 공부해보자.\n",
    "\n",
    "> 요약\n",
    "> * *파이썬에서는 모든 것(부울, 정수, 실수, 데이터구조(list,tuple,dict,set…), 함수, 프로그램, 모듈)이 객체다.*\n",
    "> * *객체는 상태(state)를 나타내는 속성(attribute)과 동작(behavior)을 나타내는 메소드(method)가 있다.*\n",
    "> * *객체의 속성은 변수로 구현된다. 객체의 메소드는 함수로 구현된다.*"
   ]
  },
  {
   "cell_type": "markdown",
   "metadata": {},
   "source": [
    "## 3. 객체 지향 프로그래밍 (2) 객체 지향 프로그래밍이란?\n",
    "\n",
    "앞에서 객체에 대한 개념과 객체를 담는(참조하는) 변수에 대해 알아보았다.<br>\n",
    "이렇게 객체를 활용한 프로그래밍을 __객체 지향 프로그래밍(OOP: Object Oriented Programming)__ 이라고 한다.\n",
    "\n",
    "객체 지향 프로그래밍(OOP)은 최초 프로그래밍 역사와 같은 역사를 가졌다고 해도 무방할 만큼 소프트웨어를 설계하고 구현하기 위한 수많은 원칙과 오랜 역사를 갖고 있는 개념으로, 현재까지도 널리 쓰이고 있다.<br>\n",
    "객체 지향 프로그래밍은 거의 모든 언어에서 사용되고 있으며 파이썬 역시 객체 지향적 프로그래밍이 가능한 언어 중 하나이다.\n",
    "\n",
    "미국의 데니스리치(Dennis Ritchie)는 1972년 C언어를 만들었다. C언어는 절차지향 프로그래밍 언어이다.<br>\n",
    "C언어를 바탕으로 새로운 개념의 프로그래밍 방법인 객체 지향 프로그래밍의 니즈가 생겨났고, 최초의 객체지향 언어인 Small Talk이 만들어진다. 요즘은 거의 쓰이지 않고 있다.<br>\n",
    "하지만 이 Small Talk을 바탕으로 만들어진 오브젝티브-C(Objective-C)와 좀 더 ios개발에 최적화한 스위프트(Swift)가 현재 iOS 개발에 널리 쓰이고 있고, 객체 지향 프로그래밍의 패러다임은 아직까지도 지배적인 패러다임으로 사용되고 있다는 점에서 그 유산이 크다고 할 수 있다.\n",
    "\n",
    "그 외에도 대표적인 객체지향적 언어는 1995년 만들어진 자바(JAVA)를 꼽을 수 있다. 자바는 웹 개발, 안드로이드 개발 외에도 소프트웨어 개발 전반에 걸쳐 사용되고있는 프로그래밍 언어이다.\n",
    "\n",
    "이렇게 객체지향 프로그래밍은 소프트웨어와 프로그래밍 전반에 오랜 기간 동안 사용된 개념으로 글 하나에 다루기에는 그 양이 매우 많다.\n",
    "\n",
    "__따라서, 이번 글에서 다루는 내용은 객체지향 프로그램의 동작 원리가 아닌 구현 방법에 대해 설명하겠다.__ 즉, 어떻게 사용하고 어디에 활용하는지를 주로 다루어볼 예정이다. 객체지향 프로그래밍이 절차지향 프로그래밍과 어떻게 다른지에 대해서는 [여기](https://pjh3749.tistory.com/244)에서 간단히 확인해보자\".\n",
    "\n",
    "\n",
    "<img src=\"./image/oop.png\" />"
   ]
  },
  {
   "cell_type": "markdown",
   "metadata": {},
   "source": [
    "## 4. 클래스 기본 문법 (1) 클래스 선언 및 인스턴스화\n",
    "\n",
    "파이썬에서 개발자가 객체를 직접 설계하기 위해서는 `class` 키워드를 이용한다. 기본 클래스 문법을 익혀보자.\n",
    "\n",
    "### 클래스 선언\n",
    "---\n",
    "\n",
    "<img src=\"./image/class.png\" />"
   ]
  },
  {
   "cell_type": "code",
   "execution_count": 16,
   "metadata": {},
   "outputs": [
    {
     "name": "stdout",
     "output_type": "stream",
     "text": [
      "94918328098288\n",
      "94918328098288\n",
      "139744076113552\n",
      "139744076113872\n",
      "<class 'type'>\n",
      "<class '__main__.Car'>\n"
     ]
    }
   ],
   "source": [
    "class Car:\n",
    "    pass\n",
    "\n",
    "class Car():\n",
    "    pass\n",
    "\n",
    "#id(Car)는 여러번 호출해도 같은 값이 얻어집니다. \n",
    "print(id(Car))\n",
    "print(id(Car))\n",
    "\n",
    "#id(Car())는 Car()가 호출될 때마다 다른 값이 얻어집니다. \n",
    "print(id(Car()))\n",
    "print(id(Car()))\n",
    "\n",
    "# 두 객체의 type을 살펴봅니다. \n",
    "print(type(Car))\n",
    "print(type(Car()))"
   ]
  },
  {
   "cell_type": "markdown",
   "metadata": {},
   "source": [
    "이처럼 클래스 선언은 `class` 키워드를 이용한다. `class` 키워드를 쓰고 클래스 이름을 쓴 다음 `:`(콜론)을 쓴다. 클래스 이름 다음에 소괄호를 적어 주어도 되지만 보통은 생략다.\n",
    "\n",
    "위 코드에서 보면, `Car`라는 클래스에도 자체도 객체이고, `Car()`를 호출할 때마다 새로운 `Car` 타입의 객체가 생성된다. 둘다 id가 존재하기 때문이다. 그러나, `id(Car)`의 값은 몇번 호출되더라도 동일하지만 `id(Car())`는 호출될 때마다 다른 id값을 가진다는 것도 알 수 있다.\n",
    "\n",
    "`Car`라는 클래스는 `type` 유형의 객체이다. `Car()`가 호출될 때 `Car` 타입의 객체가 생성된다."
   ]
  },
  {
   "cell_type": "markdown",
   "metadata": {},
   "source": [
    "### 클래스 사용 - 객체 인스턴스화\n",
    "----\n",
    "클래스를 이용하려면 클래스로 객체를 만들어 주어야 하는데, 이를 __`\"인스턴스화\"`__라고 한다.\n",
    "\n",
    "인스턴스화는 어떻게 할까? 선언한 클래스 이름에 괄호를 적어준다. 그리고 생성된 인스턴스를 적당한 변수에 할당해서 사용한다."
   ]
  },
  {
   "cell_type": "code",
   "execution_count": 17,
   "metadata": {},
   "outputs": [
    {
     "name": "stdout",
     "output_type": "stream",
     "text": [
      "139744076114576\n",
      "139744076114192\n"
     ]
    }
   ],
   "source": [
    "mycar = Car()\n",
    "mycar2 = Car()\n",
    "print(id(mycar))\n",
    "print(id(mycar2))"
   ]
  },
  {
   "cell_type": "markdown",
   "metadata": {},
   "source": [
    "클래스명에 괄호를 추가해 객체를 만든 후, `mycar`와 `mycar2`란 변수에 이 객체를 할당했다. `mycar` 변수에 `Car` 클래스의 인스턴스를 할당한 것이다. 종종 \"클래스를 호출(call)했다\"라는 표현을 쓰기도 한다. 위 코드에서는 인스턴스가 생성될 때마다 객체를 할당받은 변수들에게 다른 id가 부여되는 것을 알 수 있다.\n",
    "\n",
    "#### 표기법\n",
    "\n",
    "그런데 잠깐만!! 이 인스턴스화 하는 방법, 어디서 많이 본 것 같다. 그렇다.<br>\n",
    "함수를 호출하는 것과 클래스로 객체를 만드는 것은 문법이 너무 비슷하다. 클래스에서도 상속을 사용할 때는 클래스를 선언시 소괄호를 붙이기도 하고, 초기값을 설정할 때 인스턴스화시 인자를 전달하기도 한다. 함수와 매우 비슷하다. 어떻게 구분할까?\n",
    "\n",
    "파이썬에서는 표기법으로 구분한다.\n",
    "\n",
    "PEP는 Python Enhancement Proposals의 약자로 파이썬 개선사항을 위한 공식 문서이다. 그 중에서도 __PEP8__([https://www.python.org/dev/peps/pep-0008/](https://www.python.org/dev/peps/pep-0008/ )은 파이썬 코딩 스타일(변수명, 코드 표기법 등등)을 개정한 문서인데, 여기에서 다음과 같이 사용할 것을 권고하고 있다.\n",
    "\n",
    "__클래스명 표기법: 카멜 케이스__\n",
    "* 카멜케이스: 각 단어의 앞글자를 대문자로 쓸것.\n",
    "* 예시: mycar —> MyCar\n",
    "\n",
    "__함수명 표기법: 스네이크 케이스__\n",
    "\n",
    "* 스네이크케이스: 단어는 소문자로 쓰고 각 단어의 연결은 언더바(\\_)를 사용할 것\n",
    "* 예시: mycar —> my_car\n",
    "\n",
    "그리고 추가로 클래스명은 주로 명사로, 함수명은 주로 동사로 명명한다.<br>\n",
    "(이 부분은 파이썬 코드를 깨끗이 작성하는 \"Clean Code\" 규범과 관련된 내용이니 참고로만 알아도 된다.)"
   ]
  },
  {
   "cell_type": "markdown",
   "metadata": {},
   "source": [
    "## 5. 클래스 기본 문법 (2) 클래스 속성과 메소드"
   ]
  },
  {
   "cell_type": "markdown",
   "metadata": {},
   "source": [
    "### 클래스의 속성과 메소드\n",
    "---\n",
    "앞서 클래스는 개발자가 객체를 설계하기 위한 것이라고 했다. 그리고 맨 처음에 객체에는 속성과 메소드가 있다고 배웠다.<br>\n",
    "그럼 클래스에서 속성과 메소드를 구현할 수 있어야 할 것이다.\n",
    "\n",
    "* 클래스의 속성은 상태(state)를 표현한다. 속성은 변수로 나타낸다.\n",
    "* 클래스의 메소드는 동작(behavior)을 표현한다. 메소드는 `def` 키워드로 나타낸다.\n",
    "\n",
    "그럼 이어서 `Car` 클래스를 계속 코딩하도록 하겠다.<br>\n",
    "`색상`은 \"red\", `종류`는 \"sports car\"라는 __속성__을 갖고 `주행`과 `가속`이라는 __동작__을 갖는 클래스를 정의해 보겠다.\n",
    "\n",
    "먼저 간단하게 손코딩으로 해보겠다.\n",
    "\n",
    "__속성__ 은 변수로 선언한다고 했으니 아래와 같이 선언하겠다.\n",
    "\n",
    "* color = 'red'\n",
    "* category = 'sports car'\n",
    "\n",
    "__동작__ 은 다른 말로 메소드이고 메소드는 `def` 키워드를 사용한다고 했다. 다음과 같이 선언해보자.\n",
    "\n",
    "\n",
    "```python\n",
    "def driving():\n",
    "    pass\n",
    "\n",
    "def accel():\n",
    "    pass\n",
    "```\n",
    "\n",
    "\n",
    "`Car` 클래스에 우리가 원하는 속성과 동작을 담아보겠다."
   ]
  },
  {
   "cell_type": "code",
   "execution_count": 18,
   "metadata": {},
   "outputs": [],
   "source": [
    "class Car:\n",
    "    color = 'red'\n",
    "    category = 'sports car'\n",
    "\n",
    "    def drive(self):\n",
    "        print(\"I'm driving\")\n",
    "\n",
    "    def accel(self, speed_up, current_speed=10):\n",
    "        self.speed_up = speed_up\n",
    "        self.current_speed = current_speed + speed_up\n",
    "        print(\"speed up\", self.speed_up, \"driving at\", self.current_speed)"
   ]
  },
  {
   "cell_type": "markdown",
   "metadata": {},
   "source": [
    "#### 코드 설명\n",
    "\n",
    "코드를 다시 보면서 주석과 아래의 설명을 비교해보자.\n",
    "\n",
    "\n",
    "```python\n",
    "# Car 클래스입니다.\n",
    "class Car:\n",
    "'''\n",
    "속성은 클래스의 상태를 나타냅니다.\n",
    "색상: 빨강\n",
    "종류: 스포츠 카\n",
    "'''\n",
    "    color = 'red'\n",
    "    category = 'sports car'\n",
    "'''\n",
    "동작은 메서드로 나타냅니다.\n",
    "'''\n",
    "    def drive(self):\n",
    "        '''\n",
    "        주행 메서드\n",
    "        '''\n",
    "        print(\"I'm driving\")\n",
    "\n",
    "    def accel(self, speed_up, current_speed=10):\n",
    "        '''\n",
    "        가속 메서드\n",
    "        :param speed_up: 현재속도\n",
    "        :param current_speed: 가속\n",
    "        :type speed_up: string\n",
    "        :type current_speed: string\n",
    "        '''\n",
    "        self.speed_up = speed_up\n",
    "        self.current_speed = current_speed + speed_up\n",
    "        print(\"speed up\", self.speed_up, \"driving at\", self.current_speed)\n",
    "```"
   ]
  },
  {
   "cell_type": "markdown",
   "metadata": {},
   "source": [
    "* 속성\n",
    "    - 클래스의 상태는 속성이라고 부르며, 변수로 선언한다.\n",
    "    - `color`에는 'red'를 `category`에는 'sports car'를 할당한다.\n",
    "* 메서드\n",
    "    - 동작은 메서드로 나타내고 메서드 선언은 함수와 똑같이 `def` 키워드를 이용한다.\n",
    "    - 클래스의 메서드는 첫번째 인자는 `self` 값을 적어 주어야 한다. (`self` 에 대한 설명은 나중에 하겠다)\n",
    "    - 주행은 `drive()` 라는 메서드명으로 정의하고 self외에 인자는 없다.\n",
    "    - 가속은 `accel()` 라는 메서드명으로 정의하고 현재 속도와 가속할 값을 인자로 받는다.\n",
    "        * 현재속도 인자명 = `current_speed`, 가속 인자명 = `speed_up`\n",
    "        * `accel` 메소드에 `self.speed_up`, `self.current_speed` 를 인자로 준다.\n",
    "\n",
    "코드 설명 부분중에 익숙지 않은 내용도 있을 것이다. 일단 속성과 메소드 사용법부터 설명하고 나머지 부분을 추가로 설명하겠다."
   ]
  },
  {
   "cell_type": "markdown",
   "metadata": {},
   "source": [
    "### 클래스의 속성과 메소드 사용\n",
    "---"
   ]
  },
  {
   "cell_type": "markdown",
   "metadata": {},
   "source": [
    "#### 속성\n",
    "\n",
    "클래스의 속성과 메소드를 사용해보자. 클래스의 속성에 접근하기 위해서는 인스턴스 객체에 `.` 을 쓰고 그 뒤에 속성명을 적는다."
   ]
  },
  {
   "cell_type": "code",
   "execution_count": null,
   "metadata": {},
   "outputs": [],
   "source": [
    "mycar = Car()"
   ]
  },
  {
   "cell_type": "code",
   "execution_count": null,
   "metadata": {},
   "outputs": [],
   "source": [
    "print(mycar.color)"
   ]
  },
  {
   "cell_type": "markdown",
   "metadata": {},
   "source": [
    "아래 코드처럼 없는 속성값에 접근하면 *에러*가 발생한다."
   ]
  },
  {
   "cell_type": "markdown",
   "metadata": {},
   "source": [
    "#### 메소드\n",
    "\n",
    "메소드를 호출하는 방법은 속성 접근과 유사하다. 인스턴스 객체에 `.`을 쓰고 그 뒤에 메소드 명을 적어준다.<br>\n",
    "메소드는 `def` 키워드로 구현한다고 했다. 다시 말하면 클래스의 메소드는 클래스 내에 정의된 함수라고 말할 수 있다.<br>\n",
    "따라서, 함수를 호출하는 것과 동일하게 함수 이름을 쓰고 소괄호 \"()\"를 적어 준다."
   ]
  },
  {
   "cell_type": "markdown",
   "metadata": {},
   "source": [
    "#### 메소드 호출 (feat. 인터프리터에서 벌어지는 일)\n",
    "\n",
    "눈썰미가 좋다면 메소드를 정의할 때 `self` 라는 인자를 전달해 준 것을 발견하였을 것이다.<br>\n",
    "그런데 메소드를 호출할 때는 `self` 인자를 명시적으로 전달해주지 않아도 된다."
   ]
  },
  {
   "cell_type": "code",
   "execution_count": null,
   "metadata": {},
   "outputs": [],
   "source": [
    "mycar.drive()"
   ]
  },
  {
   "cell_type": "code",
   "execution_count": null,
   "metadata": {},
   "outputs": [],
   "source": [
    "mycar.drive()"
   ]
  },
  {
   "cell_type": "markdown",
   "metadata": {},
   "source": [
    "이건 무슨 일일까? 우리가 작성한 `mycar.dirve()` 코드는 인터프리터 내부에서는 `Car.drive(mycar)`로 동작한다.<br>\n",
    "`self`라는 단어는 클래스를 인스턴스화 한 인스턴스 객체를 가리킨다.<br>\n",
    "메소드를 호출할 때, 우리가 명시적으로 인자를 넣지는 않지만 파이썬 내부적으로는 (=파이썬 인터프리터에서는) 인자 한 개를 사용하고 있고, 그 인자는 파이썬 클래스에 의해 선언된 객체 자신(`self`)이다.\n",
    "\n",
    "즉, 아래 두 코드는 똑같이 동작한다."
   ]
  },
  {
   "cell_type": "code",
   "execution_count": null,
   "metadata": {},
   "outputs": [],
   "source": [
    "class Test:\n",
    "    def run1(self):\n",
    "        print(\"run1\")\n",
    "\n",
    "    def run2():\n",
    "        print(\"run2\")\n",
    "\n",
    "t = Test()"
   ]
  },
  {
   "cell_type": "code",
   "execution_count": null,
   "metadata": {},
   "outputs": [],
   "source": [
    "class Car:\n",
    "    color = 'red'\n",
    "    category = 'sports car'\n",
    "\n",
    "    def drive(self):\n",
    "        print(\"I'm driving\")\n",
    "\n",
    "    def accel(self, speed_up, current_speed=10):\n",
    "        self.speed_up = speed_up\n",
    "        self.current_speed = current_speed + self.speed_up\n",
    "        print(\"speed up\", self.speed_up, \"driving at\", self.current_speed)"
   ]
  },
  {
   "cell_type": "markdown",
   "metadata": {},
   "source": [
    "코드 구현을 도식적으로 표현한 그림이다.\n",
    "\n",
    "<img src=\"./image/class2.png\" />\n",
    "\n",
    "이런 구현이 가능하게 하는 것이 바로 `self` 인자이다.\n",
    "\n",
    "<img src=\"./image/self.png\" />\n",
    "\n",
    "그러나 그 누구도 `Car.drive(mycar)`라고 사용하지 않는다. 절대 이렇게 구현하지 말자. 다른 사람들이 알아보기 힘들고 코드야 어떻게든 동작하겠지만 파이썬 인터프리터가 처리해 주는 일을 너무 어렵게 구현하는 것이다.\n",
    "\n",
    "참고로, 클래스 메소드를 정의할 때 `self` 인자를 사용하지 않으면 에러가 발생합니다. 아래의 `run2()`메소드 처럼 말이다."
   ]
  },
  {
   "cell_type": "code",
   "execution_count": null,
   "metadata": {},
   "outputs": [],
   "source": [
    "class Test:\n",
    "    def run1(self):\n",
    "        print(\"run1\")\n",
    "\n",
    "    def run2():\n",
    "        print(\"run2\")\n",
    "\n",
    "t = Test()"
   ]
  },
  {
   "cell_type": "code",
   "execution_count": null,
   "metadata": {},
   "outputs": [],
   "source": [
    "t.run1()"
   ]
  },
  {
   "cell_type": "code",
   "execution_count": null,
   "metadata": {},
   "outputs": [],
   "source": [
    "t.run2()"
   ]
  },
  {
   "cell_type": "markdown",
   "metadata": {},
   "source": [
    "#### 접두사 self.\n",
    "\n",
    "같은 이유로 인스턴스의 속성으로 사용하고 싶은 변수는 `self.`을 써준다. `self` 인자를 통해 선언된 객체의 값이란 의미이다.\n",
    "\n",
    "객체 안에서 `self`를 사용하면 인스턴스 객체의 고유한 속성을 나타낼 수 있다. 클래스가 아닌 `self`, 즉 인스턴스화 된 객체 자신의 속성이라는 뜻이다.<br>\n",
    "참고로 클래스의 메소드 내부에서 `self.` 접두사가 없이 일반 변수와 같게 선언된 변수는 메소드 내부에서만 사용되므로, `self.`를 사용해 참조할 수 없다.<br>\n",
    "아래의 두 메소드를 비교해보자."
   ]
  },
  {
   "cell_type": "code",
   "execution_count": null,
   "metadata": {},
   "outputs": [],
   "source": [
    "class Test2:\n",
    "    def run1(self, a):\n",
    "        self.a = float(a) * 10\n",
    "        print(self.a)\n",
    "\n",
    "    def run2(self, b):\n",
    "        b = float(b) + 10\n",
    "        print(self.b)\n",
    "        \n",
    "t = Test2()"
   ]
  },
  {
   "cell_type": "code",
   "execution_count": null,
   "metadata": {},
   "outputs": [],
   "source": [
    "t.run1(1)"
   ]
  },
  {
   "cell_type": "code",
   "execution_count": null,
   "metadata": {},
   "outputs": [],
   "source": [
    "t.run2(1)"
   ]
  },
  {
   "cell_type": "markdown",
   "metadata": {},
   "source": [
    "#### `self` 요약\n",
    "\n",
    "`self`는 초보자에게는 조금 어려운 개념이다.\n",
    "\n",
    ">* `self`는 자기 자신이다.\n",
    ">* 클래스에 의해 생성된 객체(인스턴스)를 가리킨다.\n",
    ">* 클래스의 메서드는 인자로 해당 인스턴스(`self`)를 받아야 한다.\n",
    ">* 메소드를 호출할 때는 `self` 인자를 전달하지 않는다. `self`의 값은 인터프리터가 제공한다.\n",
    ">* 인스턴스 변수를 정의할 때에는 접두사 `self.`을 붙여준다."
   ]
  },
  {
   "cell_type": "markdown",
   "metadata": {},
   "source": [
    "## 6. 클래스 기본 문법 (3) 생성자"
   ]
  },
  {
   "cell_type": "markdown",
   "metadata": {},
   "source": [
    "### **생성자 `__init__`**\n",
    "\n",
    "---\n",
    "\n",
    "클래스에 의해 만든 인스턴스 객체의 속성값을 사용자는 어떻게 초기화할 수 있을까? Car 클래스를 만들 때부터 색깔과 카테고리를 지정해 주고 싶다면 어떻게 그 값을 전달해 줄 수 있을까? `__init__` 을 사용해서 만들 수 있다. 아래 캡쳐본은 파이썬 공식문서에서 설명하고 있는 `__init__`의 문법이다.\n",
    "\n",
    "<img src=\"./image/init.png\" />\n",
    "\n",
    "* [파이썬 문서-클래스](https://docs.python.org/3.8/tutorial/classes.html)\n",
    "\n",
    "우리가 아까 설계한 `Car` 클래스로 연습해보자."
   ]
  },
  {
   "cell_type": "code",
   "execution_count": null,
   "metadata": {},
   "outputs": [],
   "source": [
    "class Car:\n",
    "    color = 'red'\n",
    "    category = 'sports car'\n",
    "\n",
    "    def drive(self):\n",
    "        print(\"I'm driving\")\n",
    "\n",
    "    def accel(self, speed_up, current_speed=10):\n",
    "        self.speed_up = speed_up\n",
    "        self.current_speed = current_speed + self.speed_up\n",
    "        print(\"speed up\", self.speed_up, \"driving at\", self.current_speed)"
   ]
  },
  {
   "cell_type": "markdown",
   "metadata": {},
   "source": [
    "아래는 `Car` 클래스 인스턴스의 `color`와 `category`를 초기화하도록 변경한 코드이다."
   ]
  },
  {
   "cell_type": "code",
   "execution_count": null,
   "metadata": {},
   "outputs": [],
   "source": [
    "class Car2:\n",
    "    def __init__(self, color, category):\n",
    "        self.color = color\n",
    "        self.category = category\n",
    "\n",
    "    def drive(self):\n",
    "        print(\"I'm driving\")\n",
    "\n",
    "    def accel(self, speed_up, current_speed=10):\n",
    "        self.speed_up = speed_up\n",
    "        self.current_speed = current_speed + self.speed_up\n",
    "        print(\"speed up\", self.speed_up, \"driving at\", self.current_speed)"
   ]
  },
  {
   "cell_type": "markdown",
   "metadata": {},
   "source": [
    "코드설명\n",
    "\n",
    "* `__init__` 메소드안에 인자를 전달함로써 인스턴스 객체의 속성을 초기화할 수 있다.\n",
    "* 즉, `__init__` 메소드안에 정의된 속성(변수) `color`와 `category`는 클래스를 인스턴스화 할 때 값을 설정할 수 있다.\n",
    "* 이를 인스턴스 객체의 초기화(initializing instance) 라고 히고, `__init__`함수는 생성자(constructor)라고 한다.\n",
    "* `__init__` 역시 `def` 키워드로 정의한다. 즉, 클래스안의 메소드이므로 `self` 문법 잊지 말자.\n",
    "\n",
    "실제로 동작시켜 보겠다."
   ]
  },
  {
   "cell_type": "code",
   "execution_count": null,
   "metadata": {},
   "outputs": [],
   "source": [
    "#인스턴스 객체 선언\n",
    "car1 = Car()\n",
    "car2 = Car2('yellow', 'sedan')"
   ]
  },
  {
   "cell_type": "markdown",
   "metadata": {},
   "source": [
    "`Car2` 클래스를 인스턴스 객체로 만든 `car2` 와 같이 인스턴스 객체를 선언할 때 인자를 전달해 주는 형식으로 객체를 초기화 시킬 수 있다."
   ]
  },
  {
   "cell_type": "code",
   "execution_count": null,
   "metadata": {},
   "outputs": [],
   "source": [
    "car1.color"
   ]
  },
  {
   "cell_type": "code",
   "execution_count": null,
   "metadata": {},
   "outputs": [],
   "source": [
    "car2.color"
   ]
  },
  {
   "cell_type": "code",
   "execution_count": null,
   "metadata": {},
   "outputs": [],
   "source": [
    "car1.category"
   ]
  },
  {
   "cell_type": "code",
   "execution_count": null,
   "metadata": {},
   "outputs": [],
   "source": [
    "class Car2:\n",
    "    def __init__(self, color='red', category='sprots car'):\n",
    "        self.color = color\n",
    "        self.category = category"
   ]
  },
  {
   "cell_type": "markdown",
   "metadata": {},
   "source": [
    "일반 함수와 문법은 비슷하다. 아래처럼 키워드 인자를 지정할 수도 있다.\n",
    "\n",
    "* 참고: [30.2 키워드 인수 사용하기 - 파이썬 코딩 도장](https://dojang.io/mod/page/view.php?id=2346)"
   ]
  },
  {
   "cell_type": "code",
   "execution_count": null,
   "metadata": {},
   "outputs": [],
   "source": [
    "class Car2:\n",
    "    def __init__(self, color='red', category='sprots car'):\n",
    "        self.color = color\n",
    "        self.category = category"
   ]
  },
  {
   "cell_type": "markdown",
   "metadata": {},
   "source": [
    "#### 생성자 요약\n",
    "\n",
    "* `__init__`이라고 쓰고, \"던더(Double Under) 이닛\"이라고 발음한다.\n",
    "* 다른 객체 지향 언어를 알고있는 독자라면 생성자라는 말을 들으면 객체 인스턴스화와 초기화 2가지 작업을 생각할 수 있다.\n",
    "* 그러나 파이썬의 생성자는 초기화만 수행한다. 그럼 객체 인스턴스화는 누가 할까? 바로 클래스 사용시 변수 할당을 통해 이루어진다.\n",
    "* 그리고 이 `__init__`처럼 앞뒤에 언더바(\\_)가 두개씩 있는 메소드를 **매직 메소드** 라고 한다.\n",
    "* 매직 메서드에 대해 더 알아보고 싶다면 여기 링크를 참고. [https://rszalski.github.io/magicmethods/](https://rszalski.github.io/magicmethods/)"
   ]
  },
  {
   "cell_type": "markdown",
   "metadata": {},
   "source": [
    "## 7. 클래스 기본 문법 (4) 클래스 변수와 인스턴스 변수\n",
    "\n",
    "이번에는 클래스 내 변수를 선언하는 방법을 설명하도록 하겠다. 클래스에서 변수를 선언하는 방법은 2가지가 있었다. 하나는 보통 변수와 동일하게 변수명을 쓰고 값을 할당하는 방법, 두 번째는 `__init__` 메소드 안에 `self.`와 함께 설정하는 방법이다.\n",
    "\n",
    "아래 코드를 예로 들면 `Manufacture` 같은 변수가 있을 수 있고, `color` 와 같은 변수가 있을 수 있다."
   ]
  },
  {
   "cell_type": "code",
   "execution_count": null,
   "metadata": {},
   "outputs": [],
   "source": [
    "class Car:\n",
    "    Manufacture = \"India\"\n",
    "\n",
    "    def __init__(self, color, category='sedan'):\n",
    "        self.color = color\n",
    "        self.category = category"
   ]
  },
  {
   "cell_type": "markdown",
   "metadata": {},
   "source": [
    "`Manufacture` 같은 변수를 클래스 변수라고 한다. `color`와 같은 변수를 인스턴스 변수라고 한다.\n",
    "\n",
    "2개의 변수는 무엇이 다를까?"
   ]
  },
  {
   "cell_type": "code",
   "execution_count": null,
   "metadata": {},
   "outputs": [],
   "source": [
    "car1 = Car('red','sports car')\n",
    "car2 = Car('white')\n",
    "print(car1.Manufacture, car1.color, car1.category)\n",
    "print(car2.Manufacture, car2.color, car2.category)"
   ]
  },
  {
   "cell_type": "markdown",
   "metadata": {},
   "source": [
    "**클래스 변수**\n",
    "\n",
    "* 클래스에 바로 선언된 속성을 클래스 변수라고 하며 클래스에 의해 생성된 **모든 객체에서 같은 값을 조회**할 때 가능하다.\n",
    "* `Manufacture`는 클래스 변수이다.\n",
    "* `Manufacture` 속성은 `car1`과 `car2`가 공유한다."
   ]
  },
  {
   "cell_type": "markdown",
   "metadata": {},
   "source": [
    "**인스턴스 변수**\n",
    "\n",
    "* `__init__()` 안에서 `self`를 사용해 선언된 변수를 인스턴스 변수라고 한다. 객체가 인스턴스화 될 때마다 새로운 값이 할당되며 서로 다른 객체 간에는 값을 공유할 수 없다.\n",
    "* `color`와 `category`는 인스턴스 변수이다.\n",
    "* `color`와 `category` 속성은 `car1`과 `car2`가 공유하지 않는다.\n",
    "\n",
    "`Car` 클래스에 만들어진 `car` 객체의 제조사는 항상 같은 곳인데 색상과 종류가 각각 다를 수 있다면, 제조사는 클래스 변수로 선언하고 색상과 종류 속성은 인스턴스 변수로 선언하여 초기화가 가능하게 구현한다.\n",
    "\n",
    "즉! 객체 단위로 변경되는 변수는 인스턴스 변수로 선언하자."
   ]
  },
  {
   "cell_type": "markdown",
   "metadata": {},
   "source": [
    "## 8. 객체 지향 프로그래밍을 하는 이유\n",
    "\n",
    "우리는 객체 지향 프로그래밍을 하기 위해 객체와 변수의 의미를 알아보고 파이썬 클래스 문법을 통해 객체를 설계할 수 있다는 것을 학습했다.\n",
    "\n",
    "그런데, 객체와 객체지향 프로그래밍을 왜 사용할까? 그 이유를 전문 용어로 설명하면 추상화와 캡슐화를 위함이다. 위키피디아에서 위 두 단어를 검색해보자.\n",
    "\n",
    "* [위키피디아-추상화(과학)](https://ko.wikipedia.org/wiki/%EC%B6%94%EC%83%81%ED%99%94_(%EC%BB%B4%ED%93%A8%ED%84%B0_%EA%B3%BC%ED%95%99))\n",
    "* [위키피디아-캡슐화](https://ko.wikipedia.org/wiki/%EC%BA%A1%EC%8A%90%ED%99%94)\n",
    "\n",
    "__추상화의 의미__\n",
    "\n",
    "* 컴퓨터 과학에서 추상화는 복잡한 자료, 모듈, 시스템 등으로부터 핵심적인 개념 또는 기능을 간추려 내는 것을 말한다.\n",
    "\n",
    "__캡슐화의 의미__\n",
    "\n",
    "- 객체의 속성(data fields)과 행위(메서드, methods)를 하나로 묶는다. \n",
    "- 실제 구현 내용 일부를 외부에 감추어 은닉한다. (-> 모듈, 패키지, 라이브러리)\n",
    "\n",
    "__추상화와 캡술화의 영어 단어__\n",
    "\n",
    "* 추상화- abstraction\n",
    "* 캡슐화 - encapsulation\n",
    "\n",
    "추상화, 캡슐화의 예시를 들어 보겠다. 아래 그림에서 `Car` 클래스는 자동차의 여러 기능 중 운전하기(drive), 가속하기(accel) 기능을 제공한다. 각 기능은 추상화하여 함수로 제공하기 때문에 자동차 클래스를 만들어 사용하는 사람은 세부 구현에 대해서는 알지 못해도 필요한 함수를 호출하는 것만으로 손쉽게 해당 기능을 사용할 수 있다. 또한 각 기능을 `Car` 클래스로 캡슐화하여 제공하므로 자동차 클래스가 필요한 사람은 언제나 `Car` 클래스라는 캡슐을 쉽게 가져다 쓸 수 있다.\n",
    "\n",
    "<img src=\"./image/car.png\" />"
   ]
  },
  {
   "cell_type": "markdown",
   "metadata": {},
   "source": [
    "## 9. 클래스, 조금 더 알아보기 - 상속\n",
    "\n",
    "이제 조금 클래스에 대해 감이 잡혔을 것이다. 클래스가 왜 강력한지 클래스만의 독특한 기능을 하나만 더 알아보겠다."
   ]
  },
  {
   "cell_type": "markdown",
   "metadata": {},
   "source": [
    "### 상속\n",
    "---\n",
    "기존의 클래스와 거의 같은 클래스인데, 메소드 기능 몇 개만 추가하고 싶으면 어떻게 하면 될까? 예를 들어 우리는 앞서 Car 라는 클래스를 선언했다."
   ]
  },
  {
   "cell_type": "code",
   "execution_count": null,
   "metadata": {},
   "outputs": [],
   "source": [
    "class Car:\n",
    "    Manufacture = \"India\"\n",
    "\n",
    "    def __init__(self, color='red', category='sedan'):\n",
    "        self.color = color\n",
    "        self.category = category\n",
    "\n",
    "    def drive(self):\n",
    "        print(\"I'm driving\")\n",
    "\n",
    "    def accel(self, speed_up, current_speed=10):\n",
    "        self.speed_up = speed_up\n",
    "        self.current_speed = current_speed + self.speed_up\n",
    "        print(\"speed up\", self.speed_up, \"driving at\", self.current_speed)"
   ]
  },
  {
   "cell_type": "markdown",
   "metadata": {},
   "source": [
    "여기에 `Car` 클래스의 기능은 유지한 채 `maker` 속성만 추가된 새로운 클래스 `NewCar`를 선언하고 싶다면, 클래스의 상속 기능을 이용하면 된다.\n",
    "\n",
    "상속은 소괄호 안에 상속받을 클래스 이름을 적어주면 된다."
   ]
  },
  {
   "cell_type": "code",
   "execution_count": null,
   "metadata": {},
   "outputs": [],
   "source": [
    "class NewCar(Car):\n",
    "    pass\n",
    "\n",
    "car = NewCar()\n",
    "car.drive()\n",
    "car.accel(10)"
   ]
  },
  {
   "cell_type": "markdown",
   "metadata": {},
   "source": [
    "`NewCar`에는 아무런 기능도 코딩하지 않았는데 `Car`의 기능을 그대로 사용할 수 있다.\n",
    "\n",
    "<img src=\"./image/Inherit.png\" />\n",
    "\n",
    "현실세계와 동일한 개념이다. 이런 걸 상속이라고 한다.\n",
    "\n",
    "`Car` 클래스와 비슷한 기능과 속성을 유지한 채 `maker` 속성만 추가해 조금 다른 클래스를 만들고 싶다면, `Car` 클래스를 상속받은 뒤 `maker` 속성만 추가해주면 된다."
   ]
  },
  {
   "cell_type": "code",
   "execution_count": null,
   "metadata": {},
   "outputs": [],
   "source": [
    "class NewCar(Car):\n",
    "    def fly(self):\n",
    "        print(\"I'm flying!! This is the new car!!\")"
   ]
  },
  {
   "cell_type": "markdown",
   "metadata": {},
   "source": [
    ">자식 클래스, 부모 클래스\n",
    ">\n",
    ">* 상속 받은 클래스를 \"자식 클래스\", \"서브 클래스(sub class)\", \"파생된 클래스(derived class)\"라고 한다.\n",
    ">* 기존 클래스를 \"부모 클래스\", \"슈퍼 클래스(super class)\", \"베이스 클래스(base class)\" 라고 한다."
   ]
  },
  {
   "cell_type": "markdown",
   "metadata": {},
   "source": [
    "### **상속 사용하기**\n",
    "\n",
    "---\n",
    "\n",
    "클래스를 잘 상속하기 위해 필요한 3가지 사용법을 살펴 보겠다.\n",
    "\n",
    "* 메소드 추가하기(add)\n",
    "* 메소드 재정의하기(override)\n",
    "* 부모 메소드 호출하기(`super()`)"
   ]
  },
  {
   "cell_type": "markdown",
   "metadata": {},
   "source": [
    "#### 메소드 추가하기\n",
    "\n",
    "자식 클래스에 **새로운 메소드**를 추가 할 수 있다. 아래와 같이 정의하면 기존 `Car` 클래스의 메소드들과 함께 새로운 메소드 `fly()` 도 사용할 수 있다."
   ]
  },
  {
   "cell_type": "code",
   "execution_count": null,
   "metadata": {},
   "outputs": [],
   "source": [
    "class NewCar(Car):\n",
    "    def fly(self):\n",
    "        print(\"I'm flying!! This is the new car!!\")"
   ]
  },
  {
   "cell_type": "markdown",
   "metadata": {},
   "source": [
    "#### 메소드 오버라이드\n",
    "\n",
    "자식 클래스의 `drive()` 메소드에 \"I'm driving and can fly\"라는 문구가 출력되는 메소드를 정의한다고 해보자. 이렇게 기존에 있는 메소드를 변경하는 것을 **메소드 오버라이드(재정의, override)** 라고 한다."
   ]
  },
  {
   "cell_type": "code",
   "execution_count": null,
   "metadata": {},
   "outputs": [],
   "source": [
    "class NewCar(Car):\n",
    "    def fly(self):\n",
    "        print(\"I'm flying!! This is the new car!!\")\n",
    "\n",
    "    def drive(self):\n",
    "        print(\"I'm driving and can fly\")"
   ]
  },
  {
   "cell_type": "markdown",
   "metadata": {},
   "source": [
    "* `fly()` : 메소드 추가\n",
    "* `drive()` : 메소드 재정의\n",
    "\n",
    "메소드 추가와 재정의의 차이가 느껴질 것이다.\n",
    "\n",
    "__메소드 추가와 메소드 오버라이드의 차이__\n",
    "\n",
    "* 상속받은 클래스에서 없는 메소드를 정의 하는 것을 메소드 추가라고 하고 상속받은 클래스에서 있는 메소드를 다시 정의하는 것을 메소드 오버라이드라고 한다."
   ]
  },
  {
   "cell_type": "markdown",
   "metadata": {},
   "source": [
    "#### 부모 메소드 호출하기 super()\n",
    "\n",
    "부모 메소드 호출은 `super()` 라는 함수를 이용한다. `super()`는 파이썬 내장함수이다. 자식 클래스에서 부모 클래스의 메소드를 호출하고 싶을 때 사용한다.\n",
    "\n",
    "* [Built-in Functions (super()) - Python 3.8.2 documentation](https://docs.python.org/3/library/functions.html#super)"
   ]
  },
  {
   "cell_type": "markdown",
   "metadata": {},
   "source": [
    "#### `super()` 함수 문법\n",
    "\n",
    "아래 코드는 공식문서에서 발췌한 예제 코드이다. 클래스 C는 클래스 B를 상속 받았고, `method()`를 다시 재정의하고 `super()` 함수를 사용한다.\n",
    "\n",
    "<img src=\"./image/super.png\" />\n",
    "\n",
    "즉, `super()` 함수는 다음과 같이 사용한다.\n",
    "\n",
    "```python\n",
    "def (부모클래스의)메소드이름():\n",
    "\tsuper().메소드이름()\n",
    "```\n",
    "\n",
    "근데 조금 이상하다. 자식 클래스는 부모 클래스의 메소드를 그대로 이어 받을 수 있었다. 그리고 기능을 추가하고 싶다면 메소드 오버라이드라는 기능을 사용하면 되는데, 왜 굳이 또 메소드를 호출해야 할까? `super()`는 어떤 경우에 필요할까? 예제를 통해 `super()`를 어떻게 사용하면 좋을지 알아보자.\n",
    "\n",
    "위에서 말한 것처럼, `Car` 클래스를 상속받은 `NewCar` 클래스의 초기화 함수(생성자) `__init__()` 메소드에 `color`, `category` 속성은 동일하게 유지한 채 `maker` 속성을 추가한 `NewCar` 클래스를 만들어보자.\n",
    "\n",
    "그럴 때, `super()` 를 사용한다. 아래 코드를 보자."
   ]
  },
  {
   "cell_type": "code",
   "execution_count": null,
   "metadata": {},
   "outputs": [],
   "source": [
    "class NewCar(Car):\n",
    "    def __init__(self, color, category, maker):\n",
    "        super().__init__(color, category)\n",
    "        self.maker = maker\n",
    "\n",
    "    def fly(self):\n",
    "        print(\"I'm flying!! This is the new car!!\")\n",
    "\n",
    "    def accel(self, speed_up, level=1, current_speed=10):\n",
    "        self.boost[level] = {1 : 0, 2 : 30, 3 : 50}\n",
    "        self.speed_up = speed_up + self.boost[level]\n",
    "        self.current_speed = current_speed + self.speed_up\n",
    "        print(\"speed up\", self.speed_up, \"driving at\", self.current_speed)"
   ]
  },
  {
   "cell_type": "markdown",
   "metadata": {},
   "source": [
    "음.. 그런데 왜 이렇게 정의하지 않았을까?\n",
    "\n",
    "```python\n",
    "class NewCar(Car):\n",
    "    def __init__(self, color, category, maker):\n",
    "        self.color = color\n",
    "        self.category = category\n",
    "        self.maker = maker\n",
    "```\n",
    "\n",
    "지금은 부모 클래스에서 `color`를 이름으로 받지만 `color`를 RGB 값으로 받도록 바꾸고 싶다고 하자. 자동차 클래스를 상속받은 모든 클래스에서 `color`는 RGB 값으로 받게 하고 싶다. 만약 메소드를 오버라이드 했다면 상속받은 클래스 하나하나의 초기화 코드를 변경해 주어야 할 것이다. 이렇게 `super()` 를 사용해 변수를 초기화하면 부모 클래스만 변경하면 될 것이다.\n",
    "\n",
    "즉, 부모 클래스의 변경사항이 그대로 자식 클래스에 반영된다."
   ]
  },
  {
   "cell_type": "code",
   "execution_count": null,
   "metadata": {},
   "outputs": [],
   "source": [
    "def main():\n",
    "    n = get_inputs()\n",
    "    mydice = FunnyDice(n)\n",
    "    mydice.throw()\n",
    "    print(\"행운의 숫자는? {}\".format(mydice.getval()))"
   ]
  },
  {
   "cell_type": "markdown",
   "metadata": {},
   "source": [
    "현실에서 상속을 받으면 재산세도 내야하고 형제가 있으면 유산을 나눠 가지기도 하고 한다. 클래스의 세계에선 어떤가? 부모가 재산을 물려주기 보다는 자식이 부모 재산을 가져다 쓰는 느낌이다. 상속은 기존에 있는 코드를 재사용(상속)하기 위한 기능이다."
   ]
  },
  {
   "cell_type": "markdown",
   "metadata": {},
   "source": [
    "### **전체 요약**\n",
    "\n",
    "---\n",
    "\n",
    "**1. 클래스 선언**\n",
    "\n",
    "**2. 클래스 사용**\n",
    "\n",
    "* \"객체의 인스턴스\"\n",
    "\n",
    "**3. 클래스는 동작과 상태를 갖는다.**\n",
    "\n",
    "* 상태(State): 속성(Attribute)로 표현, 일명 변수\n",
    "* 동작(Behavior): Methode로 표현, 일명 함수\n",
    "* **객체는 동작은 공유하지만 상태는 공유하지 않는다.**\n",
    "\n",
    "**4. 생성자 `__init__`**\n",
    "\n",
    "**5. 클래스 변수와 인스턴스 변수**\n",
    "\n",
    "* 클래스에 선언된 속성은 클래스 변수라고 하며 이 클래스에 의해 생성된 모든 객체에 대해 같은 속성(값)을 갖는다.\n",
    "* 객체가 인스턴스화 될 때마다 새로운 값이 할당되며 서로 다른 객체 간에는 속성(값)을 공유할 수 없다.\n",
    "\n",
    "**6. 상속**\n",
    "\n",
    "* 메소드 추가, 메소드 오버라이드, 부모메소드 호출하기"
   ]
  },
  {
   "cell_type": "markdown",
   "metadata": {},
   "source": [
    "## 10. n면체 주사위 만들기 (1) 기획\n",
    "\n",
    "주사위 게임을 만들어 볼 것이다.\n",
    "\n",
    "일반적인 주사위는 1~6까지 눈이 있는 정육면체이다. 그치만 주사위가 꼭 6개면만 가질 필요는 없다. 사용자가 원하면 주사위 숫자 수는 달라질 수 있을 것이다.\n",
    "\n",
    "우리는 이런 n면체 주사위를 파이썬 클래스를 이용해 프로그래밍 해보겠다. 이하 스텝들에서 제시되는 과정을 따라 각자의 jupyter notebook을 열어서 스스로 자기만의 클래스를 구현해 보기를 권한다.\n",
    "\n",
    "<img src=\"./image/dice.png\" />"
   ]
  },
  {
   "cell_type": "markdown",
   "metadata": {},
   "source": [
    "### 기획\n",
    "---\n",
    "나만의 n면체 주사위의 기능은 다음과 같다."
   ]
  },
  {
   "cell_type": "markdown",
   "metadata": {},
   "source": [
    "#### 기능\n",
    "\n",
    "* 주사위의 면의 개수 n을 입력할 수 있다. \n",
    "* 주사위를 던지면 1~n 눈의 수 중에서 랜덤으로 값을 출력한다.\n",
    "\n",
    "__위 기능을 클래스로 어떻게 구현하면 좋을지 한번 생각해보자. 어떤 메소드와 속성이 필요할까? 어떤 메소드와 속성이 있으면 재미있을까? 클래스 이름은 `FunnyDice`로 정한다고 가정한다.__\n",
    "\n",
    "- 나만의 n면체 주사위 클래스 이름은 `FunnyDice` 라고 한다. \n",
    "- 주사위 면의 개수 n을 인스턴스 변수로 선언해 주사위 면의 개수 n을 입력할 수 있게 한다. \n",
    "- `throw`란 메소드로 던져서 1 ~ n 중 하나의 값이 나오게 한다. \n",
    "- 주사위의 값을 특정한 값으로 세팅하기 : `setval`이란 기능을 통해 특정 값을 user가 선택할 수 있는 치팅 기능을 넣어도 재밌을 것 같다. \n",
    "- 현재 주사위 값 얻기 : 주사위를 던졌든, 주사위 값을 세팅했던지 주사위의 값을 user한테 알려줘야 한다. `getval`이란 기능을 추가해서 user가 현재 주사위의 값을 읽을 수 있게 해준다."
   ]
  },
  {
   "cell_type": "markdown",
   "metadata": {},
   "source": [
    "## 11. n면체 주사위 만들기 (2) 주 프로그램 - main 함수\n",
    "\n",
    "간단한 기획이 끝났다. 우리는 프로그램을 `main()` 함수로 실행해 볼 것이다.\n",
    "\n",
    "아직 세세한 부분에 대해서는 생각하지 말고 우선 큰 동작은 무엇이 있을지 생각해보자.\n",
    "\n",
    "### `main()` 함수 손코딩\n",
    "---\n",
    "1.우선 입력이 있어야 한다. 주사위 면의 수를 입력 받아야한다.\n",
    "\n",
    "* `n`이란 변수명에 주사위 면의 수를 입력 받는다.\n",
    "* 이 변수는 `get_inputs()` 함수를 호출해서 받도록 한다.\n",
    "* 코드로 표현하면: `n = get_inputs()`\n",
    "\n",
    "2.이제 주사위 객체를 만든다.\n",
    "* 주사위 객체는 `FunnyDice`란 클래스에서 만들어진 인스턴스일 것이다. (인스턴스 객체명은 `mydice`로 하겠다.)\n",
    "* `mydice`를 `FunnyDice`의 클래스로부터 인스턴스 객체로 만든다.\n",
    "* 이 `mydice` 객체는 위의 변수 `n`를 인자로 받으며 이 값은 객체의 속성으로 초기화 시킬 수 있게 한다.\n",
    "* 코드로 표현: `mydice = FunnyDice(n)`\n",
    "\n",
    "3.아래 코드는 우리가 구동할 main()함수이다.\n",
    "\n",
    "4.아직 함수 안의 `get_inputs()` 함수와 `FunnyDice` 클래스는 설계하지 않았지만, 위 내용들이 대략적으로 들어가 있다. `mydice.throw()`나 `mydice.getval()`은 `FunnyDice`클래스의 메소드로 구현할 거란 걸 대략적으로 알 수 있다."
   ]
  },
  {
   "cell_type": "code",
   "execution_count": null,
   "metadata": {},
   "outputs": [],
   "source": [
    "def main():\n",
    "    n = get_inputs()\n",
    "    mydice = FunnyDice(n)\n",
    "    mydice.throw()\n",
    "    print(\"행운의 숫자는? {}\".format(mydice.getval()))"
   ]
  },
  {
   "cell_type": "markdown",
   "metadata": {},
   "source": [
    "## 12. n면체 주사위 만들기 (3) FunnyDice 클래스\n",
    "\n",
    "이제 `main()` 함수 안의 세부 동작 중 `FunnyDice` 클래스를 만들어 보겠다."
   ]
  },
  {
   "cell_type": "code",
   "execution_count": null,
   "metadata": {},
   "outputs": [],
   "source": [
    "class FunnyDice:\n",
    "    def __init__(self, n):\n",
    "            self.n = n\n",
    "    \n",
    "    def throw(self):\n",
    "        pass\n",
    "    \n",
    "    def getval(self):\n",
    "        pass\n",
    "\n",
    "    def setval(self, val):\n",
    "        pass"
   ]
  },
  {
   "cell_type": "markdown",
   "metadata": {},
   "source": [
    "### 생성자 `__init__` 구현\n",
    "---"
   ]
  },
  {
   "cell_type": "code",
   "execution_count": null,
   "metadata": {},
   "outputs": [],
   "source": [
    "from random import randrange\n",
    "\n",
    "class FunnyDice:\n",
    "    def throw(self):\n",
    "        self.index = randrange(0, self.n)\n",
    "        self.val = self.numbers[self.index]\n",
    "    \n",
    "    def getval(self):\n",
    "        return self.val"
   ]
  },
  {
   "cell_type": "markdown",
   "metadata": {},
   "source": [
    "1. 파라미터 `n`\n",
    "    * `n`의 디폴트 값으로 `6`을 지정했다. 이렇게 하면 인스턴스 객체를 만들 때 인자를 주지 않으면 6면체 주사위가 만들어진다.\n",
    "    * 그리고 혹시 몰라 `n`을 정수로 형변환을 하였다.\n",
    "2. 인스턴스 변수\n",
    "    * 인스턴스 변수에 `numbers`, `index`, `val`을 추가해보았다.\n",
    "    * `self.numbers`는 주사위 눈들이다. `range()` 함수를 이용해서 1부터 n+1까지의 리스트를 만들었다.\n",
    "    * `self.index` 는 number 리스트의 인덱스이다. 주사위를 던지기 전 눈의 수를 위해 인덱스변수도 추가했다. 인덱스는 파이썬 `random` 모듈의 `randrange()`함수를 이용해서 랜덤으로 나오게 했다.\n",
    "    * `self.val`은 주사위의 눈이다. \n",
    "3. `self`는 파이썬 클래스 기본 문법이다."
   ]
  },
  {
   "cell_type": "markdown",
   "metadata": {},
   "source": [
    "### `throw` 와 `getval` 메소드\n",
    "---"
   ]
  },
  {
   "cell_type": "code",
   "execution_count": null,
   "metadata": {},
   "outputs": [],
   "source": [
    "from random import randrange\n",
    "\n",
    "class FunnyDice:\n",
    "    def throw(self):\n",
    "        self.index = randrange(0, self.n)\n",
    "        self.val = self.numbers[self.index]\n",
    "    \n",
    "    def getval(self):\n",
    "        return self.val"
   ]
  },
  {
   "cell_type": "markdown",
   "metadata": {},
   "source": [
    "1. `throw`\n",
    "    * 랜덤으로 주사위 눈이 나오게 합니다.\n",
    "2. `getval`\n",
    "    * 주사위 눈 변수 `val`을 반환한다. `getval` 메소드를 호출하면 주사위 눈의 값을 얻을 수 있다.\n",
    "    * (주사위 눈 속성에 바로 접근할 수도 있지만 일반적으로 이렇게 속성에 접근하는 메소드를 구현하여 제공한다. 파이썬 클린코드, Design Pattern 관련된 내용이니 참고)"
   ]
  },
  {
   "cell_type": "markdown",
   "metadata": {},
   "source": [
    "### `setval` 메소드\n",
    "---"
   ]
  },
  {
   "cell_type": "code",
   "execution_count": null,
   "metadata": {},
   "outputs": [],
   "source": [
    "from random import randrange\n",
    "\n",
    "class FunnyDice:    \n",
    "    def setval(self, val:int):\n",
    "        if val <= self.n:\n",
    "            self.val = val\n",
    "        else:\n",
    "            print(\"주사위에 없는 숫자입니다. 주사위는 1 ~ {0}까지 있습니다. \".format(self.n))\n",
    "            raise error"
   ]
  },
  {
   "cell_type": "markdown",
   "metadata": {},
   "source": [
    "이건 치트키 같은 건데 사용자가 주사위 눈을 세팅수 있게끔 하는 메소드이다. 만약 범위 밖의 숫자를 세팅하려고 하면 에러를 발생시키는 로직을 조건문을 이용해 구현했다."
   ]
  },
  {
   "cell_type": "markdown",
   "metadata": {},
   "source": [
    "### FunnyDice 클래스 전체 코드\n",
    "\n",
    "---"
   ]
  },
  {
   "cell_type": "code",
   "execution_count": null,
   "metadata": {},
   "outputs": [],
   "source": [
    "class FunnyDice:\n",
    "    def __init__(self, n=6):\n",
    "        self.n = int(n)\n",
    "        self.numbers = list(range(1, n+1))\n",
    "        self.index = randrange(0, self.n)\n",
    "        self.val = self.numbers[self.index]\n",
    "\n",
    "    def throw(self):\n",
    "        self.index = randrange(0, self.n)\n",
    "        self.val = self.numbers[self.index]\n",
    "\n",
    "    def getval(self):\n",
    "        return self.val\n",
    "\n",
    "    def setval(self, val):\n",
    "        if val <= self.n:\n",
    "            self.val = val\n",
    "        else:\n",
    "            print(\"주사위에 없는 숫자입니다. 주사위는 1 ~ {0}까지 있습니다. \".format(self.n))\n",
    "            raise error"
   ]
  },
  {
   "cell_type": "markdown",
   "metadata": {},
   "source": [
    "## 13. n면체 주사위 만들기 (4) FunnyDice 클래스 테스트, get_input 함수\n",
    "\n",
    "잠깐 중간점검 해보겠다. 클래스가 잘 동작하는지 한번 보자."
   ]
  },
  {
   "cell_type": "code",
   "execution_count": null,
   "metadata": {},
   "outputs": [],
   "source": [
    "lucknum = FunnyDice()\n",
    "lucknum.throw()\n",
    "lucknum.getval()\n",
    "lucknum.setval(7)"
   ]
  },
  {
   "cell_type": "markdown",
   "metadata": {},
   "source": [
    "`gettingval()`값은 랜덤값이니 다른 값이 나올 수도 있다."
   ]
  },
  {
   "cell_type": "markdown",
   "metadata": {},
   "source": [
    "### **get_inputs()함수 만들어 보기**\n",
    "\n",
    "---\n",
    "\n",
    "`main()` 함수를 설계할 때, `get_inputs()`에서 사용자로부터 n면체 숫자 `n`값을 받게 한다고 했다. 파이썬 내장함수인 `input` 함수를 이용한다."
   ]
  },
  {
   "cell_type": "code",
   "execution_count": null,
   "metadata": {},
   "outputs": [],
   "source": [
    "def get_inputs():\n",
    "    n = int(input(\"주사위 면의 개수를 입력하세요: \"))\n",
    "    return n"
   ]
  },
  {
   "cell_type": "markdown",
   "metadata": {},
   "source": [
    "## 14. n면체 주사위 만들기 (5) 완성 코드\n",
    "완성 코드이다.\n",
    "\n",
    "이 코드를 funnydice.py로 저장했다."
   ]
  },
  {
   "cell_type": "code",
   "execution_count": null,
   "metadata": {},
   "outputs": [],
   "source": [
    "# funnydice.py\n",
    "\n",
    "from random import randrange\n",
    "\n",
    "class FunnyDice:\n",
    "    def __init__(self, n=6):\n",
    "        self.n = n\n",
    "        self.options = list(range(1, n+1))\n",
    "        self.index = randrange(0, self.n)\n",
    "        self.val = self.options[self.index]\n",
    "    \n",
    "    def throw(self):\n",
    "        self.index = randrange(0, self.n)\n",
    "        self.val = self.options[self.index]\n",
    "    \n",
    "    def gettingval(self):\n",
    "        return self.val\n",
    "    \n",
    "    def settingval(self, val):\n",
    "        if valnum <= self.n:\n",
    "            self.val = valnum\n",
    "        else:\n",
    "            print(\"주사위에 없는 숫자입니다. 주사위는 1 ~ {0}까지 있습니다. \".format(self.n))\n",
    "            raise error\n",
    "\n",
    "def get_inputs():\n",
    "    n = int(input(\"주사위 면의 개수를 입력하세요: \"))\n",
    "    return n\n",
    "\n",
    "def main():\n",
    "    n = get_inputs()\n",
    "    mydice = FunnyDice(n)\n",
    "    mydice.throw()\n",
    "    print(\"행운의 숫자는? {0}\".format(mydice.gettingval()))\n",
    "\n",
    "if __name__ == '__main__':\n",
    "    main()"
   ]
  },
  {
   "cell_type": "markdown",
   "metadata": {},
   "source": [
    "프로그램을 실행해 본 결과이다.\n",
    "\n",
    "<img src=\"./image/result.png\" />"
   ]
  }
 ],
 "metadata": {
  "kernelspec": {
   "display_name": "aiffel",
   "language": "python",
   "name": "aiffel"
  },
  "language_info": {
   "codemirror_mode": {
    "name": "ipython",
    "version": 3
   },
   "file_extension": ".py",
   "mimetype": "text/x-python",
   "name": "python",
   "nbconvert_exporter": "python",
   "pygments_lexer": "ipython3",
   "version": "3.7.9"
  },
  "toc": {
   "base_numbering": 1,
   "nav_menu": {},
   "number_sections": true,
   "sideBar": true,
   "skip_h1_title": false,
   "title_cell": "Table of Contents",
   "title_sidebar": "Contents",
   "toc_cell": false,
   "toc_position": {},
   "toc_section_display": true,
   "toc_window_display": false
  },
  "varInspector": {
   "cols": {
    "lenName": 16,
    "lenType": 16,
    "lenVar": 40
   },
   "kernels_config": {
    "python": {
     "delete_cmd_postfix": "",
     "delete_cmd_prefix": "del ",
     "library": "var_list.py",
     "varRefreshCmd": "print(var_dic_list())"
    },
    "r": {
     "delete_cmd_postfix": ") ",
     "delete_cmd_prefix": "rm(",
     "library": "var_list.r",
     "varRefreshCmd": "cat(var_dic_list()) "
    }
   },
   "types_to_exclude": [
    "module",
    "function",
    "builtin_function_or_method",
    "instance",
    "_Feature"
   ],
   "window_display": false
  }
 },
 "nbformat": 4,
 "nbformat_minor": 4
}
