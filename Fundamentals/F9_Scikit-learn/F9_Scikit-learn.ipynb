{
 "cells": [
  {
   "cell_type": "markdown",
   "id": "fa94859a",
   "metadata": {},
   "source": [
    "# 9. 사이킷런으로 구현해 보는 머신러닝"
   ]
  },
  {
   "cell_type": "markdown",
   "id": "416b7950",
   "metadata": {},
   "source": [
    "## 1. 들어가며"
   ]
  },
  {
   "cell_type": "markdown",
   "id": "1fffa5d7",
   "metadata": {},
   "source": [
    "### **학습목표**\n",
    "\n",
    "---\n",
    "\n",
    "* 머신러닝의 다양한 알고리즘을 소개한다.\n",
    "* 사이킷런 라이브러리의 사용법을 익힌다.\n",
    "* 사이킷런에서 데이터를 표현하는 방법에 대해 이해하고 훈련용 데이터셋과 테스트용 데이터셋으로 데이터를 나누는 방법을 이해한다."
   ]
  },
  {
   "cell_type": "markdown",
   "id": "1aeda221",
   "metadata": {},
   "source": [
    "### 목차\n",
    "---\n",
    "1. 다양한 머신러닝 알고리즘\n",
    "2. 사이킷런에서 가이드하는 머신러닝 알고리즘\n",
    "3. Hello Scikit-learn\n",
    "4. 사이킷런의 주요 모듈<br>\n",
    "    4.1. 데이터 표현법<br>\n",
    "    4.2. 회귀모델 실습<br>\n",
    "    4.3. datasets 모듈<br>\n",
    "    4.4. 사이킷런 데이터셋을 이용한 분류 문제 실습<br>\n",
    "    4.5. Estimator\n",
    "5.훈련 데이터와 테스트 데이터 분리하기"
   ]
  },
  {
   "cell_type": "markdown",
   "id": "407e8b66",
   "metadata": {},
   "source": [
    "## 2. 머신러닝 알고리즘\n",
    "\n",
    "이번 강의에서는 머신러닝의 다양한 알고리즘에 대해 소개하고 유명한 머신러닝용 라이브러리인 `사이킷런(Scikit-Learn)`을 사용해서 직접 머신러닝 알고리즘을 구현해 보도록 하겠다.\n",
    "\n",
    "머신러닝의 알고리즘 종류는 크게 3가지로 나눌 수 있다.\n",
    "\n",
    "* 지도학습 (Supervised Learning)\n",
    "* 비지도학습 (Unsupervised Learning)\n",
    "* 강화학습 (Reinforcement Learning)\n",
    "\n",
    "위 3가지 카테고리는 상황이나 구현하고자 하는 Application에 따라 합쳐서 사용될 수도 있다. 경우에 따라 지도학습으로 학습을 진행하다 차원과 특징(Feature)의 수가 너무 많아지면 비지도 학습으로 전환하기도 한다.\n",
    "\n",
    "그리고 어떤 문헌에서는 지도학습과 비지도학습의 중간 개념으로 준(반)지도학습(Semi-Supervised Learning) 또는 약지도학습(Weakly Supervised Learning)을 제시하기도 한다.\n",
    "\n",
    "알파고의 경우 지도학습을 통해 바둑 기보를 학습하고 강화학습을 거쳐 최적화 되었다."
   ]
  },
  {
   "cell_type": "markdown",
   "id": "38bb9b27",
   "metadata": {},
   "source": [
    "### **지도학습과 비지도학습**\n",
    "\n",
    "---\n",
    "\n",
    "그럼 각 카테고리 속의 머신러닝 알고리즘에는 어떤것들이 있을까?\n",
    "\n",
    "다음 링크를 보고 어떤 알고리즘이 있는지 학습해 보도록 하자.\n",
    "\n",
    "* **[최적의 ‘머신러닝 알고리즘’을 고르기 위한 치트키](https://blogs.sas.com/content/saskorea/2017/08/22/%EC%B5%9C%EC%A0%81%EC%9D%98-%EB%A8%B8%EC%8B%A0%EB%9F%AC%EB%8B%9D-%EC%95%8C%EA%B3%A0%EB%A6%AC%EC%A6%98%EC%9D%84-%EA%B3%A0%EB%A5%B4%EA%B8%B0-%EC%9C%84%ED%95%9C-%EC%B9%98%ED%8A%B8/)**\n",
    "\n",
    "__지도 학습에 속하는 대표적인 알고리즘__\n",
    "\n",
    "* 분류\n",
    "* 회귀\n",
    "* 예측\n",
    "\n",
    "__비지도 학습에 속하는 대표적인 알고리즘__\n",
    "\n",
    "* 클러스터링\n",
    "* 차원축소\n",
    "\n",
    "__특정 알고리즘__\n",
    "\n",
    "* 선형회귀, 로지스틱 회귀, 트리, 앙상블트리 (랜덤포레스트, 그래디언트 부스팅), 신경망 & 딥러닝을 사용하는 알고리즘, K평균, K모드, 가우시안혼합모델 클러스터링, DBSCAN, 계층적 군집화, PCA, SVD, LDA "
   ]
  },
  {
   "cell_type": "markdown",
   "id": "7d5bfbcb",
   "metadata": {},
   "source": [
    "보통 라벨(정답)의 존재 유무에 따라 머신러닝을 지도학습과 비지도학습으로 나눈다.\n",
    "\n",
    "그리고 데이터가 매우 복잡하다면 차원을 축소하기도 하고 만약 주요한 성분이 있다면 주성분 분석을 적용하기도 한다.\n",
    "\n",
    "또한, 데이터의 종류에 따라 같은 회귀라도 선형회귀는 수치형데이터(연속적인 데이터)를 예측하는데 사용된다면 로지스틱 회귀는 분류(엄밀히 말하면 이진분류)에 사용 된다.\n",
    "\n",
    "따라서 **정답 유무, 데이터의 종류, 특성, 문제 정의**에 따라 머신러닝 알고리즘은 굉장히 복합적으로 사용 된다."
   ]
  },
  {
   "cell_type": "markdown",
   "id": "66b0a302",
   "metadata": {},
   "source": [
    "### **강화학습**\n",
    "\n",
    "---\n",
    "\n",
    "강화학습은 앞에서 언급한 지도학습, 비지도학습과는 다른 종류의 알고리즘 이다. 학습하는 시스템을 에이전트라고 하고, 환경을 관찰해서 에이전트가 스스로 행동하게 한다. 모델은 그 결과로 특정 보상을 받아 이 보상을 최대화 하도록 학습한다. 강화학습에서 기본적으로 쓰이는 용어를 정리하면 다음과 같다.\n",
    "\n",
    "* 에이전트(Agent): 학습 주체 (혹은 actor, controller)\n",
    "* 환경(Environment): 에이전트에게 주어진 환경, 상황, 조건\n",
    "* 행동(Action): 환경으로부터 주어진 정보를 바탕으로 에이전트가 판단한 행동\n",
    "* 보상(Reward): 행동에 대한 보상을 머신러닝 엔지니어가 설계\n",
    "\n",
    "다음은 강화학습 알고리즘의 대표적인 종류 이다.\n",
    "\n",
    "* Monte Carlo methods\n",
    "* Q-Learning\n",
    "* Policy Gradient methods\n",
    "\n",
    "강화학습 역시 머신러닝에 있어 큰 분야이지만 내용이 방대하여 이번 강의에서 직접 다루지는 않을 예정이다.\n",
    "\n",
    "강화학습 내용이 궁금하다면 유용한 개발자 커뮤니티를 소개한다.\n",
    "\n",
    "* [Reinforcement Learning KR](https://github.com/reinforcement-learning-kr)\n",
    "* [aikorea/awesome-rl](https://github.com/aikorea/awesome-rl)"
   ]
  },
  {
   "cell_type": "markdown",
   "id": "7aa75e6d",
   "metadata": {},
   "source": [
    "## 3. 사이킷런에서 가이드하는 머신러닝 알고리즘\n",
    "\n",
    "앞에서 머신러닝 알고리즘을 지도학습, 비지도학습, 강화학습으로 나누어 보고 그 안에는 각각 어떤 알고리즘이 있는지 알아보았다. 그리고 이런 알고리즘은 절대적인 것은 아니며 상황에 따라 변경하거나 중복해서 사용할 수도 있다고 했다.\n",
    "\n",
    "이제부터 우리가 사용할 `Scikit-Learn`에서는 어떻게 알고리즘을 분류했을까? 다음 링크를 확인해보자.\n",
    "\n",
    "* [Scikit-learn: Choosing the right estimator](https://scikit-learn.org/stable/tutorial/machine_learning_map/index.html)\n",
    "\n",
    "__사이킷런에서 알고리즘의 Task는 몇 가지이며 각각 무엇인가?__\n",
    "\n",
    "* 4가지. Classification, Regression, Clustering, Dimensionality Reduction\n",
    "\n",
    "__사이킷런에서는 알고리즘을 크게 어떤 기준에 따라 나누었는가?__\n",
    "\n",
    "- 데이터 수량 \n",
    "- 라벨의 유무(정답의 유무) \n",
    "- 데이터의 종류 (수치형 데이터(quantity), 범주형 데이터(category) 등)\n",
    "\n",
    "사이킷런에서 알고리즘들을 분류하는 기준 그리고 종류 역시 적용하고자 하는 상황에 따라 혹은 새로운 기술이 나옴에 따라 언제든 바뀔 수 있다. 실제로 다른 라이브러리에선 다르게 알고리즘을 분류하기도 한다.\n",
    "\n",
    "지금은 배우는 단계이니 우선 사이킷런에서 소개하는 가이드대로 알고리즘을 적용해서 연습해 보는 것도 좋은 방법이다.\n",
    "\n",
    "__사이킷런에서 소개하는 Classification용 알고리즘은 몇 개이며 그 종류에는 무엇이 있는가?__\n",
    "\n",
    "* 7개, SGD Classifier, KNeighborsClassifier, LinearSVC, NaiveBayes, SVC, Kernel approximation, EnsembleClassifiers\n",
    "\n",
    "__사이킷런에서 소개하는 Regression용 알고리즘은 몇 개이며 그 종류에는 무엇이 있는가?__\n",
    "\n",
    "* 7개, SGD Regressor, Lasso, ElasticNet, RidgeRegression, SVR(kernel='linear'), SVR(kernel='rbf'), EnsembelRegressor\n",
    "\n",
    "__Ensemble 기법은 어느 Task 카테고리에 사용되었는가?__\n",
    "\n",
    "* Classification, Regression\n",
    "\n",
    "__SGD 기법은 어느 Task 카테고리에 사용되었는가?__\n",
    "\n",
    "* Classification, Regression"
   ]
  },
  {
   "cell_type": "markdown",
   "id": "502bfd41",
   "metadata": {},
   "source": [
    "## 4. Hello Scikit-learn"
   ]
  },
  {
   "cell_type": "markdown",
   "id": "50d09c66",
   "metadata": {},
   "source": [
    "### 1) 설치\n",
    "---"
   ]
  },
  {
   "cell_type": "markdown",
   "id": "7a556112",
   "metadata": {},
   "source": [
    "#### 의존성 (Dependencies)\n",
    "\n",
    "사이킷런은 파이썬 기반 머신러닝 라이브러리 이다. 따라서 사이킷런은 다음과 같은 파이썬, 파이썬 라이브러리에 의존성을 갖는다. `Scikit-Learn 0.20`까지는 `Python 2.7`과 `Python 3.4`에 동작 하였다. 현재 최신 버전인 `0.23`를 사용하기 위해선 다음과 같은 사양이 요구된다.\n",
    "\n",
    "* Python (>= 3.6)\n",
    "* NumPy (>= 1.13.3)\n",
    "* SciPy (>= 0.19.1)\n",
    "* joblib (>= 0.11)"
   ]
  },
  {
   "cell_type": "markdown",
   "id": "3e3cec42",
   "metadata": {},
   "source": [
    "#### 설치\n",
    "위 라이브러리가 설치 되었으면 다음과 같이 설치하면 된다."
   ]
  },
  {
   "cell_type": "code",
   "execution_count": null,
   "id": "c80c0aef",
   "metadata": {},
   "outputs": [],
   "source": [
    "!pip install scikit-learn\n",
    "\n",
    "#!conda install scikit-learn"
   ]
  },
  {
   "cell_type": "markdown",
   "id": "b6cd8601",
   "metadata": {},
   "source": [
    "#### 버전 확인\n",
    "\n",
    "사이킷런을 설치했으니 모듈을 import한 뒤 버전을 확인해 보겠다. 사이킷런은 설치명과 모듈을 import할 때 이름이 다르다. 이 모듈을 import 할 때는 `sklearn`이라고 써야 한다."
   ]
  },
  {
   "cell_type": "code",
   "execution_count": null,
   "id": "d7090740",
   "metadata": {},
   "outputs": [],
   "source": [
    "import sklearn\n",
    "print(sklearn.__version__)"
   ]
  },
  {
   "cell_type": "markdown",
   "id": "bdf41dfe",
   "metadata": {},
   "source": [
    "2020년 5월 기준 최신 버전인 `0.23` 이다. `0.22` 이상이면 이후 진행에 문제가 없다.\n",
    "\n",
    "설치에 대한 Guide는 사이킷런 공식 홈페이지에도 있으니 참고하자.\n",
    "\n",
    "* [Installing scikit-learn](https://scikit-learn.org/stable/install.html)"
   ]
  },
  {
   "cell_type": "markdown",
   "id": "89f652b9",
   "metadata": {},
   "source": [
    "### 2) 사이킷런 살펴보기\n",
    "\n",
    "---\n",
    "\n",
    "자 이제 사이킷런을 설치했으니 한번 사용해보자. 아래 사이킷런 공식 홈페이지를 한번 방문해보자.\n",
    "\n",
    "* [scikit-learn](https://scikit-learn.org/stable/index.html)\n",
    "\n",
    "[![scikit-learn](http://img.youtube.com/vi/rvVkVsG49uU/0.jpg)](https://youtu.be/rvVkVsG49uU?t=0s) \n",
    "\n",
    "__Scikit-Learn에서 Scikit이란 이름은 어떻게 만들어 진 걸까?__\n",
    "\n",
    "* sciPy와 Toolkit을 합쳐서 만들어졌다.\n",
    "\n",
    "__Scikit-Learn에서 훈련 데이터와 테스트 데이터를 나누는 기능을 제공하는 함수의 이름은 무엇인가?__\n",
    "\n",
    "* sklearn.model\\_selection 안의 train\\_test\\_split\n",
    "\n",
    "다음은 **사이킷런의 사용법**을 설명한 동영상이다.\n",
    "\n",
    "[![scikit-learn](http://img.youtube.com/vi/WCEXYvv-T5Q/0.jpg)](https://youtu.be/WCEXYvv-T5Q?t=0s) \n",
    "\n",
    "__Scikit-Learn에서 ETL(Extract Transform Load) 기능을 수행하는 함수가 무엇인지 찾아보자.__\n",
    "\n",
    "* transformer()\n",
    "\n",
    "__Scikit-Learn에서 모델(Model)로 표현되는 클래스가 무엇인지 찾아보자.__\n",
    "\n",
    "* Estimator\n",
    "\n",
    "__`Estimator` 클래스의 메소드에는 어떤 것이 있을까?__\n",
    "\n",
    "* fit(), predict()\n",
    "\n",
    "__`Estimator`와 `transformer()` 2가지 기능을 수행하는 scikit-learn의 API는 무엇인가?__\n",
    "\n",
    "* Pipeline 혹은 meta-estimator"
   ]
  },
  {
   "cell_type": "markdown",
   "id": "7402228b",
   "metadata": {},
   "source": [
    "* transformer()와 Estimator객체의 fit()과 predict()메소드가 중요한것 같다. 모델 셀렉션 안의 \\`train\\_test\\_split()\\` 이란 함수를 이용해 훈련데이터와 테스트데이터를 랜덤하게 섞었다. \n",
    "* 사이킷런은 파이썬 기반 머신러닝 라이브러리로 Scipy 및 NumPy 와 비슷한 데이터 표현과 수학 관련 함수를 갖고 있다. 일반적으로 머신러닝에서 데이터 가공(ETL)을 거쳐 모델을 훈련하고 예측하는 과정을 거치는데 ETL부분은 ScikitLearn의 transformer()를 제공하고, 모델의 훈련과 예측은 Estimator 객체를 통해 수행되며, Estimator에는 각각 fit()(훈련), predict()(예측)을 행하는 메소드가 있다. 모델의 훈련과 예측이 끝나면 이 2가지는 작업을 Pipeline()으로 묶어 검증을 수행한다."
   ]
  },
  {
   "cell_type": "markdown",
   "id": "f4c3487f",
   "metadata": {},
   "source": [
    "## 5. 사이킷런의 주요 모듈 (1) 데이터 표현법\n",
    "\n",
    "그럼 본격적으로 사이킷런에 대해 알아보도록 하겠다. 조금 감이 잡혔을지 모르겠지만 사이킷런의 알고리즘은 파이썬 클래스로 구현되어 있고, 데이터셋은 ***NumPy의 ndarray, Pandas의 DataFrame, SciPy의 Sparse Matrix***를 이용해 나타낼 수 있다. 그리고 훈련과 예측 등 머신러닝 모델을 다룰 때는 CoreAPI라고 불리는 `fit()`, `transfomer()`, `predict()`과 같은 함수들을 이용한다.\n",
    "\n",
    "다음은 공식 홈페이지에서 소개하는 사이킷런의 모듈들(API)이다.\n",
    "\n",
    "* [Scikit-learn: API Reference](https://scikit-learn.org/stable/modules/classes.html)\n",
    "\n",
    "그 중에서 주로 사용하는 API들만 보았다.\n",
    "\n",
    "<img src=\"./image/api.png\" />"
   ]
  },
  {
   "cell_type": "markdown",
   "id": "847a6322",
   "metadata": {},
   "source": [
    "### 데이터 표현법\n",
    "\n",
    "---\n",
    "\n",
    "우선 사이킷런에서 제공하는 데이터셋은 ***NumPy의 ndarray, Pandas의 DataFrame, SciPy의 Sparse Matrix***를 이용해 나타낼 수 있다고 했다.\n",
    "\n",
    "사이킷런에서는 데이터 표현 방식을 보통 2가지로 나타낸다. 바로 **특성행렬(Feature Matrix)** 과 **타겟벡터(Target Vector)** 이다.\n",
    "\n",
    "<img src=\"./image/matrix.png\" />\n",
    "<center>[출처: https://jakevdp.github.io/PythonDataScienceHandbook/06.00-figure-code.html#Features-and-Labels-Grid]</center>"
   ]
  },
  {
   "cell_type": "markdown",
   "id": "6b10c7dd",
   "metadata": {},
   "source": [
    "#### 특성 행렬(Feature Matrix)\n",
    "\n",
    "* 입력 데이터를 의미한다.\n",
    "* 특성(feature): 데이터에서 수치 값, 이산 값, 불리언 값으로 표현되는 개별 관측치를 의미한다. 특성 행렬에서는 열에 해당하는 값이다.\n",
    "* 표본(sample): 각 입력 데이터, 특성 행렬에서는 행에 해당하는 값이다.\n",
    "* `n_samples`: 행의 개수(표본의 개수)\n",
    "* `n_features`: 열의 개수(특성의 개수)\n",
    "* `X`: 통상 특성 행렬은 변수명 X로 표기한다.\n",
    "* `[n_samples, n_features]`은 [행, 열]형태의 2차원 배열 구조를 사용하며 이는 *NumPy의 ndarray, Pandas의 DataFrame, SciPy의 Sparse Matrix*를 사용하여 나타낼 수 있다."
   ]
  },
  {
   "cell_type": "markdown",
   "id": "f8f3cf47",
   "metadata": {},
   "source": [
    "#### 타겟 벡터 (Target Vector)\n",
    "* 입력 데이터의 라벨(정답) 을 의미한다.\n",
    "* 목표(Target): 라벨, 타겟값, 목표값이라고도 부르며 특성 행렬(Feature Matrix)로 부터 예측하고자 하는 것을 말한다.\n",
    "* `n_samples`: 벡터의 길이(라벨의 개수)\n",
    "* 타겟 벡터에서 `n_features`는 없다.\n",
    "* `y`: 통상 타겟 벡터는 변수명 y로 표기한다.\n",
    "* 타겟 벡터는 보통 1차원 벡터로 나타내며, 이는 *NumPy의 ndarray, Pandas의 Series*를 사용하여 나타낼 수 있다.\n",
    "* (단, 타겟 벡터는 경우에 따라 1차원으로 나타내지 않을 수도 있다. 이 노드에서 사용되는 예제는 모두 1차원 벡터이다.)\n",
    "\n",
    "__특성행렬 X의 n_samples와 타겟벡터 y의 n_samples는 동일해야 한다.__"
   ]
  },
  {
   "cell_type": "markdown",
   "id": "acd19b9a",
   "metadata": {},
   "source": [
    "## 6. 사이킷런의 주요 모듈 (2) 회귀 모델 실습\n",
    "\n",
    "위의 데이터와 머신러닝의 회귀 모델을 이용해 데이터를 예측하는 모델을 만들어 보겠다."
   ]
  },
  {
   "cell_type": "code",
   "execution_count": null,
   "id": "4895b0c1",
   "metadata": {},
   "outputs": [],
   "source": [
    "import numpy as np\n",
    "import matplotlib.pyplot as plt\n",
    "r = np.random.RandomState(10)\n",
    "x = 10 * r.rand(100)\n",
    "y = 2 * x - 3 * r.rand(100)\n",
    "plt.scatter(x,y)"
   ]
  },
  {
   "cell_type": "markdown",
   "id": "e405178d",
   "metadata": {},
   "source": [
    "입력 데이터 `x`와 정답 데이터 `y`의 모양을 확인해 보도록하자."
   ]
  },
  {
   "cell_type": "code",
   "execution_count": null,
   "id": "539da7d1",
   "metadata": {},
   "outputs": [],
   "source": [
    "x.shape"
   ]
  },
  {
   "cell_type": "code",
   "execution_count": null,
   "id": "1994bffa",
   "metadata": {},
   "outputs": [],
   "source": [
    "y.shape"
   ]
  },
  {
   "cell_type": "markdown",
   "id": "a1b8e41f",
   "metadata": {},
   "source": [
    "`x`와 `y`의 모양은 `(100,)`으로 1차원 벡터이다.\n",
    "\n",
    "사이킷런에서 머신러닝 모델을 사용하기 위해서 우선 모델 객체를 생성해준다. 지금 예제에서 사용할 모델의 이름은 `LinearRegression` 이며, 이것은 `sklearn.linear_model` 안에 있다."
   ]
  },
  {
   "cell_type": "code",
   "execution_count": null,
   "id": "cb0a5c4a",
   "metadata": {},
   "outputs": [],
   "source": [
    "from sklearn.linear_model import LinearRegression\n",
    "model = LinearRegression()\n",
    "model"
   ]
  },
  {
   "cell_type": "markdown",
   "id": "3a204df5",
   "metadata": {},
   "source": [
    "`LinearRegression` 모델이 잘 생성되었다.\n",
    "\n",
    "이 모델을 훈련시킨다. 훈련시키는 메소드는 `fit()`이라고 하는 메소드이다.\n",
    "\n",
    "`fit()`메소드에 인자로 특성 행렬과 타겟 벡터를 넣어 준다. 즉, 행렬 형태의 입력 데이터와 1차원 벡터 형태의 정답(라벨)을 각각 넣어 준다.|"
   ]
  },
  {
   "cell_type": "code",
   "execution_count": null,
   "id": "3d23c913",
   "metadata": {},
   "outputs": [],
   "source": [
    "# ! 에러 발생\n",
    "model.fit(x, y)"
   ]
  },
  {
   "cell_type": "markdown",
   "id": "422acbbe",
   "metadata": {},
   "source": [
    "위의 입력 데이터인 `x`를 그대로 넣으면, 에러가 발생한다. `x`를 행렬로 바꾸어 주어야 한다. 행렬로 어떻게 바꾸면 좋을까? `x`는 numpy의 ndarray타입이니 `reshape()`를 사용하면 좋을 것 같다. 통상 특성 행렬의 변수명은 `X`로 한다고 했다. 변수명 `X`에 특성 행렬을 넣어보자."
   ]
  },
  {
   "cell_type": "code",
   "execution_count": null,
   "id": "fe5eff29",
   "metadata": {},
   "outputs": [],
   "source": [
    "X = x.reshape(100,1)"
   ]
  },
  {
   "cell_type": "markdown",
   "id": "d8cc7fde",
   "metadata": {},
   "source": [
    "이제 `X`를 `fit()`의 인자로 넣어준다."
   ]
  },
  {
   "cell_type": "code",
   "execution_count": null,
   "id": "a93531ad",
   "metadata": {},
   "outputs": [],
   "source": [
    "model.fit(X,y)"
   ]
  },
  {
   "cell_type": "markdown",
   "id": "690c35c6",
   "metadata": {},
   "source": [
    "입력 데이터와 그 라벨을 이용해 훈련을 완료했다. 이제 새로운 데이터를 넣고 예측을 한번 해보자. 새로운 데이터는 `np.linspace()`를 이용해서 생성하자. 예측은 `predict()`를 사용한다. `predict()`의 인자 역시 행렬로 넣어 주어야 한다."
   ]
  },
  {
   "cell_type": "code",
   "execution_count": null,
   "id": "7ea63141",
   "metadata": {},
   "outputs": [],
   "source": [
    "x_new = np.linspace(-1, 11, 100)\n",
    "X_new = x_new.reshape(100,1)\n",
    "y_new = model.predict(X_new)"
   ]
  },
  {
   "cell_type": "markdown",
   "id": "ab7d2db4",
   "metadata": {},
   "source": [
    "`reshape()` 함수에서 나머지 숫자를 -1로 넣으면 자동으로 남은 숫자를 계산해준다. 즉, `x_new`의 인자의 개수가 100개이므로, `(100, 1)`의 형태나 `(2, 50)`의 형태 등으로 변환해 줄 수 있다. `(2, -1)`을 인자로 넣으면 `(2, 50)`의 형태로 자동으로 변환해준다. 아래 코드를 통해 확인해 보자."
   ]
  },
  {
   "cell_type": "code",
   "execution_count": null,
   "id": "89952104",
   "metadata": {},
   "outputs": [],
   "source": [
    "X_ = x_new.reshape(-1,1)\n",
    "X_.shape"
   ]
  },
  {
   "cell_type": "markdown",
   "id": "9c31323f",
   "metadata": {},
   "source": [
    "학습된 회귀 모델이 잘 예측했는지 모델의 성능을 평가해 보도록 하겠다. 앞에서 간단히 소개하였듯이 모델의 성능 평가 관련 모듈은 **`sklearn.metrics`**에 저장되어 있다. 회귀 모델의 경우 **RMSE(Root Mean Square Error)** 를 사용해 성능을 평가한다.\n",
    "\n",
    "사이킷런의 RMSE 오차 관련 함수의 스펙을 직접 확인해 보고 코드로 구현해보자. (힌트! **`mean_squared_error`** 함수의 공식을 유심히 보자. **`np.sqrt`**를 활용.)\n",
    "\n",
    "- [Scikit-learn: Mean Squared Error](https://scikit-learn.org/stable/modules/model_evaluation.html#mean-squared-error)"
   ]
  },
  {
   "cell_type": "code",
   "execution_count": null,
   "id": "44518ce2",
   "metadata": {},
   "outputs": [],
   "source": [
    "from sklearn.metrics import mean_squared_error\n",
    "\n",
    "error = np.sqrt(mean_squared_error(y,y_new))"
   ]
  },
  {
   "cell_type": "markdown",
   "id": "69af3fcb",
   "metadata": {},
   "source": [
    "좀 더 직관적으로 확인하기 위해 그래프로 한번 그려보겠다."
   ]
  },
  {
   "cell_type": "code",
   "execution_count": null,
   "id": "1e725afb",
   "metadata": {},
   "outputs": [],
   "source": [
    "plt.scatter(x, y, label='input data')\n",
    "plt.plot(X_new, y_new, color='red', label='regression line')"
   ]
  },
  {
   "cell_type": "markdown",
   "id": "56ebeb3c",
   "metadata": {},
   "source": [
    "그래프의 점들과 회귀선이 거의 일치하다."
   ]
  },
  {
   "cell_type": "markdown",
   "id": "5ddc9275",
   "metadata": {},
   "source": [
    "## 7. 사이킷런의 주요 모듈 (3) datasets 모듈\n",
    "\n",
    "사이킷런은 데이터셋을 모듈로 제공하고 있으며 데이터에 대한 내용은 아래 공식 문서를 참고.\n",
    "\n",
    "* [Scikit-learn: Dataset loading utilities](https://scikit-learn.org/stable/datasets)\n",
    "\n",
    "`sklearn.datasets` 모듈은 크게 dataset loaders와 dataset fetchers로 나뉘며, 각각 `Toy dataset`과 `Real World dataset`을 제공하고 있다. 우리는 `Toy dataset`을 다뤄볼 예정이다.\n",
    "\n",
    "`Toy dataset`의 예시이다.\n",
    "\n",
    "* `datasets.load_boston()`: 회귀 문제, 미국 보스턴 집값 예측\n",
    "* `datasets.load_breast_cancer()`: 분류 문제, 유방암 판별\n",
    "* `datasets.load_digits()`: 분류 문제, 0 ~ 9 숫자 분류\n",
    "* `datasets.load_iris()`: 분류 문제, iris 품종 분류\n",
    "* `datasets.load_wine()`: 분류 문제, 와인 분류\n",
    "\n",
    "와인 데이터셋을 이용하겠다."
   ]
  },
  {
   "cell_type": "markdown",
   "id": "43e41116",
   "metadata": {},
   "source": [
    "### **`datasets.load_wine()` 뜯어보기**\n",
    "\n",
    "---\n",
    "\n",
    "와인 분류 데이터를 다운로드한 다음 **`data`**란 변수에 할당한다. 그리고 자료형을 한번 확인해보자."
   ]
  },
  {
   "cell_type": "code",
   "execution_count": null,
   "id": "6b8bcfce",
   "metadata": {},
   "outputs": [],
   "source": [
    "from sklearn.datasets import load_wine\n",
    "data = load_wine()\n",
    "type(data)"
   ]
  },
  {
   "cell_type": "markdown",
   "id": "e7be2fe2",
   "metadata": {},
   "source": [
    "**`sklearn.utils.Bunch`**라고 하는 데이터 타입이다. 이 타입이 무엇인지 공식문서를 통해 확인해보자.\n",
    "\n",
    "- [Scikit-learn: sklearn.utils.Bunch](https://scikit-learn.org/stable/modules/generated/sklearn.utils.Bunch.html?highlight=bunch#sklearn.utils.Bunch)\n",
    "\n",
    "**`Bunch`**는 파이썬의 딕셔너리와 유사한 형태의 데이터 타입이다."
   ]
  },
  {
   "cell_type": "code",
   "execution_count": null,
   "id": "61c4f692",
   "metadata": {},
   "outputs": [],
   "source": [
    "print(data)"
   ]
  },
  {
   "cell_type": "markdown",
   "id": "1ad3bd64",
   "metadata": {},
   "source": [
    "`data`를 출력해 보면 데이터들이 중괄호에 `{}` 담겨져있고 콜론 `:` 을 이용해서 구분되어 있다. 바로 key와 value이다. 번치 데이터 타입에도 파이썬의 딕셔너리 메소드인 `keys()`를 사용할 수 있다."
   ]
  },
  {
   "cell_type": "code",
   "execution_count": null,
   "id": "f7108af4",
   "metadata": {},
   "outputs": [],
   "source": [
    "data.keys()"
   ]
  },
  {
   "cell_type": "markdown",
   "id": "d4cebf90",
   "metadata": {},
   "source": [
    "어떤 값들이 나왔을까? 이 데이터의 각 키값이 의미하는 것이 무엇인지 하나씩 알아보도록 하겠다."
   ]
  },
  {
   "cell_type": "markdown",
   "id": "351fd2f8",
   "metadata": {},
   "source": [
    "#### 1. data\n",
    "\n",
    "키값 `data`는 특성 행렬이다. 파이썬의 딕셔너리와 유사하다고 했다. 키에 접근하기 위해서 `.`을 사용할 수 있다. 한번 확인해보자."
   ]
  },
  {
   "cell_type": "code",
   "execution_count": null,
   "id": "09175d76",
   "metadata": {},
   "outputs": [],
   "source": [
    "data.data"
   ]
  },
  {
   "cell_type": "markdown",
   "id": "9874b791",
   "metadata": {},
   "source": [
    "특성 행렬은 2차원이며 행에는 데이터의 개수(`n_samples`)가 열에는 특성의 개수(`n_features`)가 들어 있다. 모양을 확인해보자."
   ]
  },
  {
   "cell_type": "code",
   "execution_count": null,
   "id": "57a04695",
   "metadata": {},
   "outputs": [],
   "source": [
    "data.data.shape"
   ]
  },
  {
   "cell_type": "markdown",
   "id": "c8ca454f",
   "metadata": {},
   "source": [
    "`(178, 13)`이 나온다. 즉, 특성이 13개, 데이터가 178개인 특성 행렬이 나왔다.\n",
    "\n",
    "`ndim`을 이용해 차원을 확인할 수 있다."
   ]
  },
  {
   "cell_type": "code",
   "execution_count": null,
   "id": "3ba3aaf7",
   "metadata": {},
   "outputs": [],
   "source": [
    "data.data.ndim"
   ]
  },
  {
   "cell_type": "markdown",
   "id": "b83a854b",
   "metadata": {},
   "source": [
    "#### 2. target\n",
    "\n",
    "키값 `target`은 뭘까? 예측했겠지만 타겟 벡터이다."
   ]
  },
  {
   "cell_type": "code",
   "execution_count": null,
   "id": "c59e4099",
   "metadata": {},
   "outputs": [],
   "source": [
    "data.target"
   ]
  },
  {
   "cell_type": "markdown",
   "id": "7d9cea7a",
   "metadata": {},
   "source": [
    "타겟 벡터는 1차원이다. 그리고 타겟 벡터의 길이는 특성 행렬의 데이터 개수와 일치해야 한다. 정말 그럴까? 모양을 확인해보자."
   ]
  },
  {
   "cell_type": "code",
   "execution_count": null,
   "id": "f584f533",
   "metadata": {},
   "outputs": [],
   "source": [
    "data.target.shape"
   ]
  },
  {
   "cell_type": "markdown",
   "id": "7aeeba63",
   "metadata": {},
   "source": [
    "`(178, )` 이 나온다. 특성 행렬의 데이터 수와 일치한다."
   ]
  },
  {
   "cell_type": "markdown",
   "id": "099f1fdf",
   "metadata": {},
   "source": [
    "#### feature_names\n",
    "`data` 키에 접근해서 `data`의 값을 확인해 본 결과 특성이 13개임을 확인했다. 그럼 이 특성들의 이름이 뭔지 알아야한다. `feature_names`란 키에 특성들의 이름이 저장되어 있다."
   ]
  },
  {
   "cell_type": "code",
   "execution_count": null,
   "id": "1527617f",
   "metadata": {},
   "outputs": [],
   "source": [
    "data.feature_names"
   ]
  },
  {
   "cell_type": "markdown",
   "id": "6127101f",
   "metadata": {},
   "source": [
    "`feature_names`들이 저장되어 있다, `feature_names`들이 무엇을 의미하는지 검색해 봐야 할 것 같다. 그렇지만 feature의 개수 정도는 간단히 확인이 가능하다. 내장함수 `len()`을 이용해서 확인해보자."
   ]
  },
  {
   "cell_type": "code",
   "execution_count": null,
   "id": "a2de4c87",
   "metadata": {},
   "outputs": [],
   "source": [
    "len(data.feature_names)"
   ]
  },
  {
   "cell_type": "markdown",
   "id": "33f636f9",
   "metadata": {},
   "source": [
    "`feature_names`의 개수와 특성 행렬의 `n_features`(열)의 숫자가 일치하다."
   ]
  },
  {
   "cell_type": "markdown",
   "id": "ecff0bf3",
   "metadata": {},
   "source": [
    "#### 3. target_names\n",
    "\n",
    "`target_names`는 분류하고자 하는 대상이다."
   ]
  },
  {
   "cell_type": "code",
   "execution_count": null,
   "id": "9442da87",
   "metadata": {},
   "outputs": [],
   "source": [
    "data.target_names"
   ]
  },
  {
   "cell_type": "markdown",
   "id": "6cd0301a",
   "metadata": {},
   "source": [
    "출력값을 확인해 보니 다음과 같이 나온다.\n",
    "\n",
    "`array(['class_0', 'class_1', 'class_2'], dtype='<U7')`\n",
    "\n",
    "데이터를 각각 `class_0`과 `class_1`, `class_2`로 분류한다는 뜻이다.\n",
    "\n",
    "와인의 종류가 상세하게 무엇을 의미하는지는 모르지만 각각 0번 와인, 1번 와인, 2번 와인으로 분류를 하는 문제이다.(와인 종류는 굳이 안 찾아봐도 된다.)"
   ]
  },
  {
   "cell_type": "markdown",
   "id": "22067873",
   "metadata": {},
   "source": [
    "#### 4. DESCR\n",
    "\n",
    "`DESCR`은 describe의 약자로 데이터에 대한 설명이다."
   ]
  },
  {
   "cell_type": "code",
   "execution_count": null,
   "id": "d448ee9b",
   "metadata": {},
   "outputs": [],
   "source": [
    "data.DESCR"
   ]
  },
  {
   "cell_type": "markdown",
   "id": "cf7eb96a",
   "metadata": {},
   "source": [
    "위 내용은 사이킷런 공식 문서에도 나와있다.\n",
    "\n",
    "* [sklearn.datasets.load_wine()](https://scikit-learn.org/stable/modules/generated/sklearn.datasets.load_wine.html?highlight=wine#sklearn.datasets.load_wine)"
   ]
  },
  {
   "cell_type": "markdown",
   "id": "f4433930",
   "metadata": {},
   "source": [
    "## 8. 사이킷런의 주요 모듈 (4) 사이킷런 데이터셋을 이용한 분류 문제 실습"
   ]
  },
  {
   "cell_type": "markdown",
   "id": "fe4cc640",
   "metadata": {},
   "source": [
    "### DataFrame으로 나타내기\n",
    "---\n",
    "특성행렬을 Pandas의 DataFrame으로 나타낼 수 있다고 했다."
   ]
  },
  {
   "cell_type": "code",
   "execution_count": null,
   "id": "73b82508",
   "metadata": {},
   "outputs": [],
   "source": [
    "#!pip install pandas\n",
    "\n",
    "import pandas as pd\n",
    "pd.DataFrame(data.data, columns=data.feature_names)"
   ]
  },
  {
   "cell_type": "markdown",
   "id": "7b49d02a",
   "metadata": {},
   "source": [
    "DataFrame으로 나타내니 한결 데이터 보기가 편해졌다. 이렇게 하면 EDA(Exploration Data Analysis)할때 굉장히 편할 것 같다."
   ]
  },
  {
   "cell_type": "markdown",
   "id": "96ec493e",
   "metadata": {},
   "source": [
    "### 머신러닝\n",
    "---\n",
    "이제 머신러닝 모델을 만들고 예측을 해보겠다.\n",
    "\n",
    "특성 행렬은 통상 변수명 `X`에 저장하고, 타겟 벡터는 `y`에 저장한다고 했다."
   ]
  },
  {
   "cell_type": "code",
   "execution_count": null,
   "id": "0d10e086",
   "metadata": {},
   "outputs": [],
   "source": [
    "X = data.data\n",
    "y = data.target"
   ]
  },
  {
   "cell_type": "markdown",
   "id": "d3a1c1d7",
   "metadata": {},
   "source": [
    "모델을 생성한다. 이번에는 분류 문제이므로 `RandomForestClassifier`를 사용해 보겠다."
   ]
  },
  {
   "cell_type": "code",
   "execution_count": null,
   "id": "8676b053",
   "metadata": {},
   "outputs": [],
   "source": [
    "from sklearn.ensemble import RandomForestClassifier\n",
    "model = RandomForestClassifier()"
   ]
  },
  {
   "cell_type": "markdown",
   "id": "3cfa1299",
   "metadata": {},
   "source": [
    "훈련을 시킨다."
   ]
  },
  {
   "cell_type": "code",
   "execution_count": null,
   "id": "eff9d15d",
   "metadata": {},
   "outputs": [],
   "source": [
    "model.fit(X, y)"
   ]
  },
  {
   "cell_type": "markdown",
   "id": "a68fb04a",
   "metadata": {},
   "source": [
    "예측을 한다."
   ]
  },
  {
   "cell_type": "code",
   "execution_count": null,
   "id": "53d5c1da",
   "metadata": {},
   "outputs": [],
   "source": [
    "y_pred = model.predict(X)"
   ]
  },
  {
   "cell_type": "markdown",
   "id": "0f64f58e",
   "metadata": {},
   "source": [
    "그리고 성능을 평가해보도록 하겠다. 성능은 `sklearn.metrics` 모듈을 사용한다고 했다. 분류 문제의 경우 `classification_report` 와 `accuracy_score`를 이용한다."
   ]
  },
  {
   "cell_type": "code",
   "execution_count": null,
   "id": "6c0d0142",
   "metadata": {},
   "outputs": [],
   "source": [
    "from sklearn.metrics import accuracy_score\n",
    "from sklearn.metrics import classification_report\n",
    "\n",
    "#타겟 벡터 즉 라벨인 변수명 y와 예측값 y_pred을 각각 인자로 넣습니다. \n",
    "print(classification_report(y, y_pred))\n",
    "#정확도를 출력합니다. \n",
    "print(\"accuracy = \", accuracy_score(y, y_pred))"
   ]
  },
  {
   "cell_type": "markdown",
   "id": "0afbf784",
   "metadata": {},
   "source": [
    "아니, 정확도가 1 즉 100%가 나왔다. 어떻게 된 걸까? 이 부분은 이후 스텝에서 설명하도록 하겠다.\n",
    "\n",
    "우선 이번 스텝에서는 scikit-learn에서 데이터를 표현하는 방법과 그 활용법에 대해서 간단히 살펴보았다."
   ]
  },
  {
   "cell_type": "markdown",
   "id": "722a5312",
   "metadata": {},
   "source": [
    "## 9. 사이킷런의 주요 모듈 (5) Estimator\n",
    "\n",
    "앞의 실습에서 머신러닝 모델의 훈련은 `fit()` 메소드를 이용하고 예측은 `predict()` 메소드를 이용했다. 사이킷런은 API가 매우 일관성 있게 설계되어 있다는 점이 장점이다. 이번에는 모델 훈련에서 핵심이 되는 API를 살펴보도록 하겠다."
   ]
  },
  {
   "cell_type": "markdown",
   "id": "9d9b0966",
   "metadata": {},
   "source": [
    "### Estimator 객체\n",
    "---\n",
    "데이터셋을 기반으로 머신러닝 모델의 파라미터를 추정하는 객체를 `Estimator`라고 한다. 사이킷런의 모든 머신러닝 모델은 `Estimator`라는 파이썬 클래스로 구현되어 있다. 추정을 하는 과정 즉, 훈련은 `Estimator`의 `fit()`메소드를 통해 이루어 지고, 예측은 `predict()`메소드를 통해 이루어진다.\n",
    "\n",
    "앞에서 실습에 사용한 `Estimator` 객체는 `LinearRegression()`과 `RandomForestClassifier()`이다.\n",
    "\n",
    "와인 분류 문제를 해결하는 과정을 그림으로 표현하면 다음과 같다.\n",
    "\n",
    "<img src=\"./image/estimator.png\" />\n",
    "\n",
    "선형 회귀 문제를 해결하는 과정을 그림으로 표현하면 다음과 같다.\n",
    "\n",
    "<img src=\"./image/estimator2.png\" />\n",
    "\n",
    "만약 타겟 벡터가 없다면 어떻게 표현할 수 있을까? 정답이 없는 데이터인 비지도학습의 경우는 `fit()` 메소드의 인자로 `Target Vector`가 들어가지 않는다.\n",
    "\n",
    "<img src=\"./image/estimator3.png\" />\n",
    "\n",
    "사이킷런의 `Estimator` 객체를 사용한다면 비지도학습, 지도학습에 관계 없이 학습과 예측을 할 수 있다.\n",
    "\n"
   ]
  },
  {
   "cell_type": "markdown",
   "id": "610fadd1",
   "metadata": {},
   "source": [
    "## 10. 훈련 데이터와 테스트 데이터 분리하기\n",
    "\n",
    "앞의 와인 분류 문제에서 정확도가 100%로 나온 것을 기억할 것이다. 위의 그림에서 `Estimator` 객체에 `fit()`과 `prediction()` 메소드에 인자로 각기 다른 데이터가 들어가야 하는 것을 눈치챘는가?\n",
    "\n",
    "처음에 우리는 왼쪽 그림과 같이 훈련에 사용되는 데이터(특성 행렬)와 예측에 사용되는 데이터(특성 행렬)에 같은 값을 넣었다. **즉, 동일한 데이터로 훈련과 예측을 하니 정확도가 100%** 로 나왔다.\n",
    "\n",
    "오른쪽 그림과 같이 훈련에 쓰이는 데이터와 예측에 쓰이는 데이터는 다른 데이터를 사용해야 한다."
   ]
  },
  {
   "cell_type": "markdown",
   "id": "18839639",
   "metadata": {},
   "source": [
    "### 훈련 데이터와 테스트 데이터 직접 분리하기\n",
    "---\n",
    "보통 훈련 데이터와 테스트 데이터의 비율은 8:2로 설정한다. 자 그럼 데이터를 나누어 보겠다."
   ]
  },
  {
   "cell_type": "code",
   "execution_count": null,
   "id": "b48093a6",
   "metadata": {},
   "outputs": [],
   "source": [
    "from sklearn.datasets import load_wine\n",
    "data = load_wine()\n",
    "print(data.data.shape)\n",
    "print(data.target.shape)"
   ]
  },
  {
   "cell_type": "markdown",
   "id": "e02a1b87",
   "metadata": {},
   "source": [
    "전체 데이터의 개수는 178개이다. 8대 2로 특성 행렬과 타겟 벡터를 나누어 보도록 하겠다. 데이터의 개수이므로 정수 개만 가능하다. 178개의 80%면 142.4이지만 정수로 표현하면 142개, 그리고 훈련 데이터는 나머지 36개로 나누어 보겠다.\n",
    "\n",
    "<img src=\"./image/matrix2.png\" />\n",
    "\n",
    "특성 행렬과 타겟 벡터는 ndarray type이니 numpy의 슬라이싱을 사용하면 될 것 같다."
   ]
  },
  {
   "cell_type": "code",
   "execution_count": null,
   "id": "42f84799",
   "metadata": {},
   "outputs": [],
   "source": [
    "X_train = data.data[:142]\n",
    "X_test = data.data[142:]\n",
    "print(X_train.shape, X_test.shape)"
   ]
  },
  {
   "cell_type": "code",
   "execution_count": null,
   "id": "012023c2",
   "metadata": {},
   "outputs": [],
   "source": [
    "y_train = data.target[:142]\n",
    "y_test = data.target[142:]\n",
    "print(y_train.shape, y_test.shape)"
   ]
  },
  {
   "cell_type": "markdown",
   "id": "e0eec555",
   "metadata": {},
   "source": [
    "훈련 데이터와 테스트 데이터의 분리가 끝났다. 그럼 다시 훈련과 예측을 해보겠다."
   ]
  },
  {
   "cell_type": "code",
   "execution_count": null,
   "id": "8be1eae7",
   "metadata": {},
   "outputs": [],
   "source": [
    "from sklearn.ensemble import RandomForestClassifier\n",
    "model = RandomForestClassifier()\n",
    "model.fit(X_train, y_train)"
   ]
  },
  {
   "cell_type": "code",
   "execution_count": null,
   "id": "298a8ec3",
   "metadata": {},
   "outputs": [],
   "source": [
    "y_pred = model.predict(X_test)"
   ]
  },
  {
   "cell_type": "markdown",
   "id": "059d20eb",
   "metadata": {},
   "source": [
    "정확도를 평가해보자"
   ]
  },
  {
   "cell_type": "code",
   "execution_count": null,
   "id": "f86d6eaa",
   "metadata": {},
   "outputs": [],
   "source": [
    "from sklearn.metrics import accuracy_score\n",
    "\n",
    "print(\"정답률=\", accuracy_score(y_test, y_pred))"
   ]
  },
  {
   "cell_type": "markdown",
   "id": "25a15bde",
   "metadata": {},
   "source": [
    "94%가 나왔다."
   ]
  },
  {
   "cell_type": "markdown",
   "id": "32a2701e",
   "metadata": {},
   "source": [
    "### `train_test_split()` 사용해서 분리하기\n",
    "---\n",
    "훈련 데이터와 테스트 데이터 분리는 필수 기능이다. 훈련에 쓴 데이터를 예측에 사용하면 항상 정확도는 100%가 나올 것이기 때문이다. 사이킷런에서는 이 필수 기능을 당연히 API로 제공하고 있다. 바로 `model_selection`의 `train_test_split()`함수 이다."
   ]
  },
  {
   "cell_type": "code",
   "execution_count": null,
   "id": "dc0fca7b",
   "metadata": {},
   "outputs": [],
   "source": [
    "from sklearn.model_selection import train_test_split\n",
    "\n",
    "result = train_test_split(X, y, test_size=0.2, random_state=42)"
   ]
  },
  {
   "cell_type": "markdown",
   "id": "2482fc79",
   "metadata": {},
   "source": [
    "인자로 특성 행렬 `X`와 타겟 벡터 `y`를 넣고 테스트 데이터의 비율을 넣어 키워드 인자로 지정해준다. 20%로 해보자. 그리고 우리는 0번부터 순차적으로 데이터를 분할했다. 사이킷런은 랜덤하게 데이터를 섞어주는 기능도 있다. `random_state` 인자에 seed 번호를 입력하면 된다.\n",
    "\n",
    "`train_test_split()`은 반환값으로 4개의 원소로 이루어진 list를 반환한다. (*리스트 원소의 데이터 타입은 array이다.`)"
   ]
  },
  {
   "cell_type": "code",
   "execution_count": null,
   "id": "7c6d4419",
   "metadata": {},
   "outputs": [],
   "source": [
    "print(type(result))\n",
    "print(len(result))"
   ]
  },
  {
   "cell_type": "markdown",
   "id": "c96e90b4",
   "metadata": {},
   "source": [
    "각각 모양을 확인해보자."
   ]
  },
  {
   "cell_type": "code",
   "execution_count": null,
   "id": "3158e9c5",
   "metadata": {},
   "outputs": [],
   "source": [
    "result[0].shape"
   ]
  },
  {
   "cell_type": "code",
   "execution_count": null,
   "id": "15b308cc",
   "metadata": {},
   "outputs": [],
   "source": [
    "result[1].shape"
   ]
  },
  {
   "cell_type": "code",
   "execution_count": null,
   "id": "e6208d46",
   "metadata": {},
   "outputs": [],
   "source": [
    "result[2].shape"
   ]
  },
  {
   "cell_type": "code",
   "execution_count": null,
   "id": "f886abae",
   "metadata": {},
   "outputs": [],
   "source": [
    "result[3].shape"
   ]
  },
  {
   "cell_type": "markdown",
   "id": "019ee025",
   "metadata": {},
   "source": [
    "모양을 보니 감이 잡혔을 것 같다. 그렇다. 0번 원소부터 순서대로 훈련 데이터용 특성 행렬, 테스트 데이터용 특성 행렬, 훈련 데이터용 타겟 벡터, 테스트 데이터용 타겟 벡터 이다.\n",
    "\n",
    "우리는 이 함수를 이런 식으로 unpacking해서 쓴다."
   ]
  },
  {
   "cell_type": "code",
   "execution_count": null,
   "id": "a807ab59",
   "metadata": {},
   "outputs": [],
   "source": [
    "X_train, X_test, y_train, y_test = train_test_split(X, y, test_size=0.2, random_state=42)"
   ]
  },
  {
   "cell_type": "markdown",
   "id": "8b0e31d9",
   "metadata": {},
   "source": [
    "### 실습\n",
    "---\n",
    "그럼 앞서 와인 분류 문제의 데이터를 훈련용 데이터셋과 테스트용 데이터셋으로 나눈 뒤 훈련하고 예측하는 전체 코드를 직접 작성해보자."
   ]
  },
  {
   "cell_type": "code",
   "execution_count": null,
   "id": "555a74be",
   "metadata": {},
   "outputs": [],
   "source": [
    "# 데이터셋 로드하기\n",
    "# 훈련용 데이터셋 나누기\n",
    "# 훈련하기\n",
    "# 예측하기\n",
    "# 정답률 출력하기\n",
    "\n",
    "from sklearn.datasets import load_wine\n",
    "from sklearn.model_selection import train_test_split\n",
    "from sklearn.ensemble import RandomForestClassifier\n",
    "from sklearn.metrics import accuracy_score\n",
    "\n",
    "data = load_wine()\n",
    "X_train, X_test, y_train, y_test = train_test_split(data.data, data.target, test_size=0.2, random_state=11)\n",
    "model = RandomForestClassifier()\n",
    "model.fit(X_train, y_train)\n",
    "y_pred = model.predict(X_test)\n",
    "print(\"정답률=\", accuracy_score(y_test, y_pred))"
   ]
  },
  {
   "cell_type": "markdown",
   "id": "6bd02b17",
   "metadata": {},
   "source": [
    "## 11. 마무리\n",
    "\n",
    "사이킷런에서 핵심이 되는 데이터의 표현법과 `Estimator`를 이용해 모델을 어떻게 훈련하고 예측하는지 알아보았다. 마지막으로 훈련 데이터와 테스트 데이터를 분리하는 방법에 대해서도 학습했다. 이 외에도 평가와 관련된 항목들은 `metrics` 모듈에 들어가 있고, 여기서 언급하진 않았지만 `sklearn.preprocessing` 모듈 역시 중요한 API 중 하나이다.\n",
    "\n",
    "이렇듯 사이킷런은 많은 기능들이 잘 정리되어 있어 사용자에게 편의성을 제공하고 있다. 아래 사이킷런 주요 모듈을 다시 한번 눈여겨보자.\n",
    "\n",
    "<img src=\"./image/scikit.png\" />"
   ]
  }
 ],
 "metadata": {
  "kernelspec": {
   "display_name": "aiffel",
   "language": "python",
   "name": "aiffel"
  },
  "language_info": {
   "codemirror_mode": {
    "name": "ipython",
    "version": 3
   },
   "file_extension": ".py",
   "mimetype": "text/x-python",
   "name": "python",
   "nbconvert_exporter": "python",
   "pygments_lexer": "ipython3",
   "version": "3.7.9"
  },
  "toc": {
   "base_numbering": 1,
   "nav_menu": {},
   "number_sections": true,
   "sideBar": true,
   "skip_h1_title": false,
   "title_cell": "Table of Contents",
   "title_sidebar": "Contents",
   "toc_cell": false,
   "toc_position": {},
   "toc_section_display": true,
   "toc_window_display": true
  },
  "varInspector": {
   "cols": {
    "lenName": 16,
    "lenType": 16,
    "lenVar": 40
   },
   "kernels_config": {
    "python": {
     "delete_cmd_postfix": "",
     "delete_cmd_prefix": "del ",
     "library": "var_list.py",
     "varRefreshCmd": "print(var_dic_list())"
    },
    "r": {
     "delete_cmd_postfix": ") ",
     "delete_cmd_prefix": "rm(",
     "library": "var_list.r",
     "varRefreshCmd": "cat(var_dic_list()) "
    }
   },
   "types_to_exclude": [
    "module",
    "function",
    "builtin_function_or_method",
    "instance",
    "_Feature"
   ],
   "window_display": false
  }
 },
 "nbformat": 4,
 "nbformat_minor": 5
}
