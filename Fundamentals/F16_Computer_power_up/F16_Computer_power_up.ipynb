{
 "cells": [
  {
   "cell_type": "markdown",
   "id": "bcc66c9d",
   "metadata": {},
   "source": [
    "# 16. 컴퓨터 파워 UP"
   ]
  },
  {
   "cell_type": "markdown",
   "id": "700d9247",
   "metadata": {},
   "source": [
    "## 1. 들어가며"
   ]
  },
  {
   "cell_type": "markdown",
   "id": "029abc9b",
   "metadata": {},
   "source": [
    "### 학습 목표\n",
    "---\n",
    "* 멀티태스킹, 병렬프로그래밍과 동시성에 대해 이해하기\n",
    "* 파이썬으로 멀티스레드와 멀티프로세스를 구현하는 법에 대해 학습하기\n",
    "* 파이썬의 `concurrent.futures`를 이용한 병렬 프로그래밍을 구현해보자"
   ]
  },
  {
   "cell_type": "markdown",
   "id": "a134dc5b",
   "metadata": {},
   "source": [
    "### 학습 내용\n",
    "---\n",
    "1. 멀티태스킹\n",
    "    - 멀티태스킹이란?\n",
    "    - 컴퓨터의 세계 - 프로그램\n",
    "    - 프로그램 실행과 프로파일링\n",
    "    - scale-up vs scale-out\n",
    "    - 멀티프로세스, 멀티스레드\n",
    "\n",
    "2. 멀티프로세스, 멀티스레드\n",
    "    - 멀티스레드\n",
    "    - 멀티프로세스\n",
    "    - 스레드/프로세스 풀\n",
    "\n",
    "3. 실전 예제\n",
    "    - concurrent.futures 모듈\n",
    "    - 소수구하기 문제"
   ]
  },
  {
   "cell_type": "markdown",
   "id": "4ff8baf4",
   "metadata": {},
   "source": [
    "### 준비물\n",
    "---\n",
    "개인 실습 환경에 따라 경로를 수정, 터미널을 열고 프로젝트를 위한 디렉토리를 생성.\n",
    "\n",
    "```bash\n",
    "$ mkdir ~/aiffel/multitasking\n",
    "```\n",
    "\n",
    "해당 디렉토리로 이동하기\n",
    "\n",
    "```bash\n",
    "$ cd ~/aiffel/multitasking\n",
    "```\n",
    "\n",
    "이번에는 주피터 커널 대신 파이썬 파일을 저장한 뒤 터미널에서 실행하는 방식으로 이루어진다."
   ]
  },
  {
   "cell_type": "markdown",
   "id": "d3ab02b0",
   "metadata": {},
   "source": [
    "### 유의사항\n",
    "---\n",
    "파이썬 3.7.9 버전을 기준으로 작성되었다. 파이썬 3.8 이후에는 멀티스레드 활용 등에 소개하는 것과 달라진 부분이 있을 수 있다."
   ]
  },
  {
   "cell_type": "markdown",
   "id": "215c9c2d",
   "metadata": {},
   "source": [
    "## 2. 멀티태스킹 (1) 멀티태스킹이란?\n",
    "빅데이터를 다루기 위해서는 몇 가지 중요한 개념들을 알아야 한다. 컴퓨팅 자원을 최적화하는 방법, 즉 병렬 컴퓨팅, 분산 컴퓨팅 등 개념이다. 어떻게 컴퓨팅 파워를 향상시킬 수 있을까? 어떻게 한정된 컴퓨팅 자원을 활용하여 여러 가지 일을 효율적으로 진행할 수 있을까?\n",
    "\n",
    "이런 고민은 비단 컴퓨터 아키텍처를 설계하는 사람들만의 전유물은 아니다. 이번에 새로 라면집을 개업한 김사장도 비슷한 고민을 하고 있다.\n",
    "\n",
    "주방장 1명이 라면 1개를 끓이는 데 시간은 아래와 같이 총 10분이 소요된다.\n",
    "\n",
    "* 물 끓이기 : 3분\n",
    "* 재료 손질 : 2분\n",
    "* 재료 넣고 끓이기 : 4분\n",
    "* 그릇에 담아 서빙 : 1분\n",
    "\n",
    "<img src=\"./image/ramen.png\" />\n",
    "\n",
    "현재는 이렇게 라면 1개를 끓이는 과정을 완료한 후, 다음 라면을 끓이기 시작한다. 그런데 주방장이 아무리 쉴새 없이 일해도 1시간에 라면을 6개밖에 끓여내지 못한다. 이래가지고는 도저히 가게 수지를 맞춰낼 수가 없겠다. 이때 김사장은 아래의 2가지 아이디어를 생각해낸다. 바로 동시성과 병렬성의 아이디어이다.\n",
    "\n",
    "* 아래에서 비유로 설명하는 동시성, 병렬성의 개념에 대해서 아래 링크의 글을 함께 참고하면 이해에 도움이 된다.<br>\n",
    "(참고) [Concurrency vs. Parallelism](http://tutorials.jenkov.com/java-concurrency/concurrency-vs-parallelism.html)\n",
    "\n",
    "TV를 보면서 밥을 먹는 일을 하기도 하고, 설거지를 하면서 라디오를 듣기도 한다. 이렇게 2가지 작업을 동시에 할 수 있다. 컴퓨터에게도 이렇게 일을 시키면 얼마나 좋을까? 사실 어느 정도 가능하다. 특히 컴퓨터에서는 이렇게 여러 가지 작업을 동시에 하는 것을 \"멀티태스킹\"이라고 한다."
   ]
  },
  {
   "cell_type": "markdown",
   "id": "39fd119a",
   "metadata": {},
   "source": [
    "### 동시성, 병렬성\n",
    "---\n",
    "멀티태스킹에는 2가지 동작 방식이 있는데, 바로 동시성과 병렬성이다."
   ]
  },
  {
   "cell_type": "markdown",
   "id": "c9df85a0",
   "metadata": {},
   "source": [
    "#### 동시성(Concurrency)\n",
    "\n",
    "\n",
    "김사장은 생각했다. 왜 주방장은 동시에 라면을 1개씩밖에 못끓이는 거지? 불판이 4개나 있는데, 동시에 라면을 3~4개씩 끓여도 되는거 아닌가?\n",
    "\n",
    "생각해 보니, 재료를 준비하거나 서빙을 하는 시간 3분은 몰라도, 물을 끓이거나 라면을 끓이는데 소요되는 7분 동안에는 얼마든지 다른 라면을 끓이기 위한 작업을 할수 있을 것 같다. 굳이 그 시간을 멍하게 서서 보낼 이유가 없다.\n",
    "\n",
    "이렇게 하나의 processor가 여러 가지 task를 동시에 수행하는 개념을 동시성이라고 한다. 실제로는 그 processor는 특정 순간에는 1가지 task만을 수행하겠지만, 물을 끓이는 것처럼 다른 task를 수행할 수 있는 시간에는 task를 전환해서 효율적으로 여러 개의 task를 동시에 수행하는 것처럼 보이는 것이다.\n",
    "\n",
    "<img src=\"./image/concurrency.png\" />\n"
   ]
  },
  {
   "cell_type": "markdown",
   "id": "12f42113",
   "metadata": {},
   "source": [
    "#### 병렬성(Parallelism)\n",
    "\n",
    "물론 주방장을 한명 더 고용할 수도 있다. 주방장을 한명 더 고용한다면 최소한 라면 나오는 속도는 지금의 2배가 될 것이다.\n",
    "\n",
    "라면을 끓이는 것처럼 유사한 task를 여러 processor가 동시에 수행하는 것을 병렬성이라고 한다. processor의 갯수만큼 퍼포먼스가 좋아질 것이다.\n",
    "\n",
    "<img src=\"./image/parallelism.png\" />\n",
    "\n",
    "그래서 김사장은 주방장 1명이 라면을 동시에 여러개 끓이도록 하는 동시성을 적용해 보았다. 그 결과 이전보다 3배 이상 주방장의 퍼포먼스가 좋아졌다. 매출이 올랐고, 가게의 인기가 더 좋아졌다. 신이 난 김사장님은 주방장을 1명 더 고용해 보았다. 그러면서 생각해 보았다.\n",
    "\n",
    "> 동시성과 병렬성을 동시에 적용하면 어떻게 될까?\n",
    "\n",
    "그랬더니 놀라운 일이 일어났다. 라면 1개를 끓이는데 실제로는 10분보다 훨씬 짧은 시간이 소요될 수도 있다는 것을 알게 되었다. 주방장 한명이 물을 끓이는 동안 다른 주방장이 그 라면의 재료를 미리 손질해 두는 식으로, 라면 1개를 끓이는데 소요되는 시간조차 더 줄어들면서 훨씬 많은 라면을 끓여낼 수 있게 된 것이다.\n",
    "\n",
    "<img src=\"./image/parallelism2.png\" />\n",
    "\n",
    "이렇듯, 병렬성의 효율을 극대화하는 것은 동시성이 요구될 때이다. 이 때, 여러개의 프로세스가 1개의 task를 여러 개의 subtask로 쪼개어 동시에 병렬적으로 수행할 수 있기 때문이다."
   ]
  },
  {
   "cell_type": "markdown",
   "id": "45a5c458",
   "metadata": {},
   "source": [
    "### 동기 vs 비동기 (Synchronous vs Asynchronous)\n",
    "---\n",
    "동시성에서 주로 다루게 될 개념이다. 이렇게 어떤 일을 바로 하지 못하고 대기해야 하는 일을 일컬을 때 컴퓨터에서는 \"바운드(bound)되었다\"라는 표현을 많이 쓴다. 이렇게 바운드되고 있으면 이걸 계속 기다려야 할지 아니면 종료되는 사이에 다른 걸 실행하는 것이 좋을지 고민이 된다.\n",
    "\n",
    "개념을 일반화시켜 이야기하면 작동하는 방식에 따라 앞 작업이 종료되기를 무조건 기다렸다가 다음 작업을 수행하는 것은 동기(synchronized) 방식이라고 이야기한다. 기다리는 동안 다른 일을 처리하는 것을 비동기(asynchronous) 방식이라고 이야기한다.\n",
    "\n",
    "<img src=\"./image/multitasking3.png\" />\n",
    "\n",
    "* 동기(Synchronous) : 어떤 일이 순차적으로 실행됨, 요청과 요청에 대한 응답이 동시에 실행됨 (따라서 요청에 지연이 발생하더라도 계속 대기한다.)\n",
    "* 비동기(Asynchronous) : 어떤 일이 비순차적으로 실행됨, 요청과 요청에 대한 응답이 동시에 실행되지 않음. 특정 코드의 연산이 끝날 때까지 코드의 실행을 멈추지 않고 다음 코드를 먼저 실행하며, 중간에 실행되는 코드는 주로 콜백함수로 연결하기도 한다.\n",
    "\n",
    "<img src=\"./image/multitasking4.png\" />\n",
    "\n",
    "위의 예에서 보자면 물을 끓이거나 조리를 하는 과정을 생각해 볼 수 있다. 주방장은 물을 끓이면서 굳이 다 끓을 때까지 기다릴 필요는 없다. 하지만 물이 끓지 않으면 조리를 할수는 없을 테니 물이 끓기 전까지는 어쩔수 없이 다음 과정을 수행하지 못하고 대기해야 할 것이다. 물이 끓기 전까지 기다렸다가 재료 손질 등 다음 단계를 진행한다면 물끓이기 작업을 동기화 방식으로 수행한 것이다. 하지만, 물을 끓이기 위해 불만 켜두고는 다 끓을 때까지 다른 작업을 진행한다면 물끓이기 작업을 비동기화 방식으로 수행한 것이 될 것이다."
   ]
  },
  {
   "cell_type": "markdown",
   "id": "a83eb603",
   "metadata": {},
   "source": [
    "### I/O Bound vs CPU Bound\n",
    "---\n",
    "컴퓨터가 일을 수행하면서 뭔가 기다릴 때, 즉 속도에 제한이 걸릴 때는 2가지 경우에 해당하는 경우가 대부분이다.\n",
    "\n",
    "* I/O 바운드: 입력과 출력에서의 데이터(파일)처리에 시간이 소요될 때.\n",
    "* CPU 바운드: 복잡한 수식 계산이나 그래픽 작업과 같은 엄청난 계산이 필요할 때.\n",
    "\n",
    "출처 및 참고: [What do the terms “CPU bound” and “I/O bound” mean?](https://stackoverflow.com/questions/868568/what-do-the-terms-cpu-bound-and-i-o-bound-mean)"
   ]
  },
  {
   "cell_type": "markdown",
   "id": "8ae63724",
   "metadata": {},
   "source": [
    "## 3. 멀티태스킹 (2) 프로세스, 쓰레드, 프로파일링\n",
    "\n",
    "우리는 PPT 문서 작업을 하면서, 노래를 듣기도 하고, 웹 브라우저를 이용해 검색을 하기도 한다. 요즘 컴퓨터에서는 이렇게 여러 개 프로그램을 동시에 실행시키는 멀티태스킹이 기본 사양이다.\n",
    "\n",
    "맥(Mac)의 `활성 상태 보기(Activity Monitor)`나 윈도우(Windows)의 `작업 관리자(Task Manager)`를 통해 현재 실행되고 있는 프로그램의 상태를 확인할 수 있다.\n",
    "\n",
    "우리가 프로그램을 실행할 때 컴퓨터에서는 어떤 일이 일어날까?"
   ]
  },
  {
   "cell_type": "markdown",
   "id": "36044f31",
   "metadata": {},
   "source": [
    "### Process(프로세스)\n",
    "---\n",
    "> *An Instance of a program (ex. Python Interpreter)*\n",
    "\n",
    "나의 프로그램을 실행할 때, 운영체제는 한 프로세스를 생성한. 프로세스는 운영체제의 커널(Kernel)에서 시스템 자원(CPU, 메모리, 디스크) 및 자료구조를 이용한다.\n",
    "\n",
    "프로세스는 \"프로그램을 구동하여 프로그램 자체와 프로그램의 상태가 메모리상에서 실행되는 작업 단위\"를 지칭한다 (출처: 위키백과 - [프로세스](https://ko.wikipedia.org/wiki/%ED%94%84%EB%A1%9C%EC%84%B8%EC%8A%A4)). 예를 들어, 하나의 프로그램을 한 번 구동하면 하나의 프로세스가 메모리상에서 실행되지만 여러 번 구동하면 여러 개의 프로세스가 실행된다.\n",
    "\n",
    "파이썬에서는 `os` 라는 모듈에서 프로세스 관련 정보를 얻을 수 있다.\n"
   ]
  },
  {
   "cell_type": "code",
   "execution_count": 1,
   "id": "a1346102",
   "metadata": {},
   "outputs": [
    {
     "name": "stdout",
     "output_type": "stream",
     "text": [
      "5163\n",
      "1000\n",
      "1000\n",
      "/home/aiffel-dj10/AIFFEL/Fundamentals\n"
     ]
    }
   ],
   "source": [
    "import os\n",
    "\n",
    "# process ID\n",
    "print(os.getpid())\n",
    "\n",
    "# user ID\n",
    "print(os.getuid())\n",
    "\n",
    "# group ID\n",
    "print(os.getgid())\n",
    "\n",
    "# 현재 작업중인 디렉토리\n",
    "print(os.getcwd())"
   ]
  },
  {
   "cell_type": "markdown",
   "id": "74536dbe",
   "metadata": {},
   "source": [
    "방금 `os.getpid()`를 통해 얻은 `pid`는 어떤 프로세스의 것일까? 터미널을 열어 다음과 같이 해당 프로세스의 상세 정보를 확인해보자.\n",
    "\n",
    "```bash\n",
    "$ ps -ef | grep 4352    # 위 코드에서 확인한 pid 값 입력.\n",
    "```"
   ]
  },
  {
   "cell_type": "markdown",
   "id": "46899836",
   "metadata": {},
   "source": [
    "### Thread(스레드)\n",
    "---\n",
    "프로그램 내에서도 많은 작업이 있다. 스레드(thread)는 어떠한 프로그램 내에서, 특히 프로세스 내에서 실행되는 흐름의 단위이다. 예를 들어 요리를 만드는 프로그램이라고 한다면 김밥, 떡볶이를 만드는 각각의 요리라는 프로세스에도, 밥 짓기, 재료 볶기, 끓이기 등등의 작업을 스레드에 비유할 수 있다. 같은 작업을 좀 더 빠르게 처리하기 위해 여러 개의 스레드를 생성하기도 한.\n",
    "\n",
    "아래 그림을 예로 들자면, 프로세스는 김밥, 떡볶이를 만드는 각각의 요리사와 같다. 이들은 각자의 전용 주방 공간에서 밥 짓기, 재료 볶기, 끓이기 등등의 작업을 병렬적으로 수행한다. 도마, 불판 등 주방 공간은 각각의 작업에 공유되지만, 요리사끼리 주방공간을 공유하지는 않는다. 마찬가지로 프로세스도 자신만의 전용 메모리공간(Heap)을 가진다. 이때 해당 프로세스 내의 스레드들은 이 메모리공간을 공유한다. 그러나 다른 프로세스와 공유하지는 않는다.\n",
    "\n",
    "스레드의 사용은 프로그램마다 다르지만, 가벼운 프로그램은 하나의 스레드를 가지기도 한다.\n",
    "\n",
    "<img src=\"./image/thread.png\" />\n",
    "<img src=\"./image/thread2.png\" />\n",
    "\n",
    "<center>[출처: https://en.wikipedia.org/wiki/Thread_(computing)]</center>"
   ]
  },
  {
   "cell_type": "markdown",
   "id": "953796cf",
   "metadata": {},
   "source": [
    "### 프로파일링(Profiling)\n",
    "---\n",
    "코드에서 시스템의 어느 부분이 느린지 혹은 어디서 RAM을 많이 사용하고 있는지를 확인하고 싶을 때 사용하는 기법이다. 맥(mac)의 활성 상태 보기(activity monitor)나 윈도우(windows)의 작업 관리자(task manager)를 통해 현재 실행 중인 프로그램의 상태를 확인하는 작업을 코딩하는 것을 프로파일링이라고 한다.\n",
    "\n",
    "파이썬에서는 다음 명령어로 확인 할 수 있다.\n",
    "\n",
    "```python\n",
    "%timeit\n",
    "```\n",
    "\n",
    "```python\n",
    "import time\n",
    "time.time()\n",
    "```\n",
    "\n",
    "```python\n",
    "import timeit\n",
    "timeit.Timer()\n",
    "```\n",
    "\n",
    "이렇게 간단하게 프로그램의 수행 시간을 계산해 보면서 프로파일링을 할 수 있다.\n",
    "\n",
    "100까지 숫자를 배열로 만드는 방법을 각각 다른 방법으로 구현해 보고 실행 시간을 측정해 보자."
   ]
  },
  {
   "cell_type": "code",
   "execution_count": 2,
   "id": "c8370bd2",
   "metadata": {},
   "outputs": [
    {
     "name": "stdout",
     "output_type": "stream",
     "text": [
      "set               : 1.6442306439994354 [ms]\n",
      "list              : 0.6868098429995371 [ms]\n",
      "tuple             : 0.8261590059992159 [ms]\n",
      "string            : 0.4685267570002907 [ms]\n",
      "set_add           : 5.701415436999923 [ms]\n",
      "list_append       : 5.000549407999642 [ms]\n",
      "set_comprehension : 5.748087480000322 [ms]\n",
      "list_comprehension: 4.975676265999937 [ms]\n"
     ]
    }
   ],
   "source": [
    "import timeit\n",
    "        \n",
    "def f1():\n",
    "    s = set(range(100))\n",
    "\n",
    "    \n",
    "def f2():\n",
    "    l = list(range(100))\n",
    "\n",
    "    \n",
    "def f3():\n",
    "    t = tuple(range(100))\n",
    "\n",
    "\n",
    "def f4():\n",
    "    s = str(range(100))\n",
    "\n",
    "    \n",
    "def f5():\n",
    "    s = set()\n",
    "    for i in range(100):\n",
    "        s.add(i)\n",
    "\n",
    "def f6():\n",
    "    l = []\n",
    "    for i in range(100):\n",
    "        l.append(i)\n",
    "    \n",
    "def f7():\n",
    "    s_comp = {i for i in range(100)}\n",
    "\n",
    "    \n",
    "def f8():\n",
    "    l_comp = [i for i in range(100)]\n",
    "    \n",
    "\n",
    "if __name__ == \"__main__\":\n",
    "    t1 = timeit.Timer(\"f1()\", \"from __main__ import f1\")\n",
    "    t2 = timeit.Timer(\"f2()\", \"from __main__ import f2\")\n",
    "    t3 = timeit.Timer(\"f3()\", \"from __main__ import f3\")\n",
    "    t4 = timeit.Timer(\"f4()\", \"from __main__ import f4\")\n",
    "    t5 = timeit.Timer(\"f5()\", \"from __main__ import f5\")\n",
    "    t6 = timeit.Timer(\"f6()\", \"from __main__ import f6\")\n",
    "    t7 = timeit.Timer(\"f7()\", \"from __main__ import f7\")\n",
    "    t8 = timeit.Timer(\"f8()\", \"from __main__ import f8\")\n",
    "    print(\"set               :\", t1.timeit(), '[ms]')\n",
    "    print(\"list              :\", t2.timeit(), '[ms]')\n",
    "    print(\"tuple             :\", t3.timeit(), '[ms]')\n",
    "    print(\"string            :\", t4.timeit(), '[ms]')\n",
    "    print(\"set_add           :\", t5.timeit(), '[ms]')\n",
    "    print(\"list_append       :\", t6.timeit(), '[ms]')\n",
    "    print(\"set_comprehension :\", t5.timeit(), '[ms]')\n",
    "    print(\"list_comprehension:\", t6.timeit(), '[ms]')"
   ]
  },
  {
   "cell_type": "markdown",
   "id": "bf94a09b",
   "metadata": {},
   "source": [
    "이런 식으로 함수의 성능을 측정할 수 있다.\n",
    "\n",
    ">좀 더 엄밀히 말하면 __프로파일링__은 애플리케이션에서 가장 자원이 집중되는 지점을 정밀하게 찾아내는 기법이다. __프로파일러__는 애플리케이션을 실행시키고 각각의 함수 실행에 드는 시간을 찾아내는 프로그램이다. 즉, __코드의 병목(bottleneck)__을 찾아내고 성능을 측정해 주는 도구이다.\n",
    "\n",
    "`profile` 모듈, `cProfile` 모듈과 `line_profiler` 패키지를 이용하면 높은 수준의 프로파일링이 가능한 점, 참고!"
   ]
  },
  {
   "cell_type": "markdown",
   "id": "c7c138ff",
   "metadata": {},
   "source": [
    "## 멀티태스킹 (3) Scale Up vs Scale Out\n",
    "프로그램과 성능에 대한 전반적인 개념에 대해 살펴보았다. 더 포괄적인 용어로 말하면 우리는 컴퓨터 자원을 활용하기 위해 자원을 Up(업그레이드, 최적화)시킬 수도 있고 자원을 Out(확장)시킬 수도 있다. Scale-Up은 한 대의 컴퓨터의 성능을 최적화시키는 방법이고 Scale-Out은 여러 대의 컴퓨터를 한 대처럼 사용하는 것이다.\n",
    "\n",
    "<img src=\"./image/scale-up.png\" />\n",
    "\n",
    "상세 내용은 이 [블로그](https://hyuntaeknote.tistory.com/m/4)를 참고\n",
    "\n",
    "> *멀티 태스킹, 프로그램, 동시성과 병렬성. 동시성에서 나오게 될 개념인 비동기와 동기. 추가로 바운드에 대한 설명을 했다. 프로세스와 스레드, 프로파일링, 그리고 마지막으로 Scale-Up과 Scale-Out이라는 단어들이 나왔다. 직접 구현해 보면서 성능이 어떻게 최적화되는지 위 개념에 대해 천천히 느껴 보자.*"
   ]
  },
  {
   "cell_type": "markdown",
   "id": "f50f2e33",
   "metadata": {},
   "source": [
    "## 5. 파이썬에서 멀티스레드 사용하기 (1) 스레드 생성\n",
    "\n",
    "파이썬에서 멀티스레드의 구현은 `threading` 모듈을 이용한다.\n",
    "\n",
    "참고: [threading - Thread-based parallelism - Python 3.7.9 documentation](https://docs.python.org/3.7/library/threading.html)"
   ]
  },
  {
   "cell_type": "markdown",
   "id": "07051fcf",
   "metadata": {},
   "source": [
    "### 기본 코드\n",
    "---\n",
    "아래 코드는 음식 배달과 그릇 찾기 2가지 작업을 **순차적으로** 수행하는 코드이다."
   ]
  },
  {
   "cell_type": "code",
   "execution_count": 4,
   "id": "29b895cd",
   "metadata": {},
   "outputs": [
    {
     "name": "stdout",
     "output_type": "stream",
     "text": [
      "delivery\n",
      "Retriving Dish\n"
     ]
    }
   ],
   "source": [
    "class Delivery:\n",
    "    def run(self):\n",
    "        print(\"delivery\")\n",
    "\n",
    "class RetriveDish:\n",
    "    def run(self):\n",
    "        print(\"Retriving Dish\")\n",
    "\n",
    "work1 = Delivery()\n",
    "work2 = RetriveDish()\n",
    "\n",
    "def main():\n",
    "    work1.run()\n",
    "    work2.run()\n",
    "\n",
    "if __name__ == '__main__':\n",
    "    main()"
   ]
  },
  {
   "cell_type": "markdown",
   "id": "0620ba13",
   "metadata": {},
   "source": [
    "### 멀티스레드\n",
    "---\n",
    "다음과 같이 코드를 고쳐보자.\n",
    "\n",
    "* threading 모듈을 import하고\n",
    "* 클래스에 Thread를 상속받는다."
   ]
  },
  {
   "cell_type": "code",
   "execution_count": 5,
   "id": "301168d7",
   "metadata": {},
   "outputs": [
    {
     "name": "stdout",
     "output_type": "stream",
     "text": [
      "delivery\n",
      "Retriving Dish\n"
     ]
    }
   ],
   "source": [
    "from threading import *\n",
    "\n",
    "class Delivery(Thread):\n",
    "    def run(self):\n",
    "        print(\"delivery\")\n",
    "\n",
    "class RetriveDish(Thread):\n",
    "    def run(self):\n",
    "        print(\"Retriving Dish\")\n",
    "\n",
    "work1 = Delivery()\n",
    "work2 = RetriveDish()\n",
    "\n",
    "def main():\n",
    "    work1.run()\n",
    "    work2.run()\n",
    "\n",
    "if __name__ == '__main__':\n",
    "    main()"
   ]
  },
  {
   "cell_type": "markdown",
   "id": "bcbf2e06",
   "metadata": {},
   "source": [
    "### 스레드 생성 확인\n",
    "---\n",
    "함수 이름을 출력하면 함수 객체를 확인할 수 있다."
   ]
  },
  {
   "cell_type": "code",
   "execution_count": 6,
   "id": "88145766",
   "metadata": {},
   "outputs": [
    {
     "name": "stdout",
     "output_type": "stream",
     "text": [
      "<bound method Delivery.run of <__main__.Delivery object at 0x7ff2c82cf310>>\n",
      "<bound method Delivery.run of <Delivery(Thread-6, initial)>>\n"
     ]
    }
   ],
   "source": [
    "from threading import *\n",
    "\n",
    "class Delivery:\n",
    "    def run(self):\n",
    "        print(\"delivering\")\n",
    "\n",
    "work1 = Delivery()\n",
    "print(work1.run)\n",
    "\n",
    "class Delivery(Thread):\n",
    "    def run(self):\n",
    "        print(\"delivering\")\n",
    "\n",
    "work2 = Delivery()\n",
    "print(work2.run)"
   ]
  },
  {
   "cell_type": "markdown",
   "id": "7b6093b7",
   "metadata": {},
   "source": [
    "위 코드를 실행해 확인해 보면, `work2` 는 다른 스레드(Thread-6, 컴퓨터마다 다름)에 할당되었다."
   ]
  },
  {
   "cell_type": "markdown",
   "id": "a0f2c307",
   "metadata": {},
   "source": [
    "## 6. 파이썬에서 멀티스레드 사용하기 (2) 스레드 생성 및 사용\n",
    "### 스레드 생성\n",
    "---\n",
    "`thread` 모듈의 `Thread` 클래스를 상속받아서 구현할 수도 있지만 그대로 인스턴스화 하여 스레드를 생성할 수도 있다.\n",
    "\n",
    "인스턴스화 하려면 `Thread` 클래스에 인자로 `target`과 `args` 값을 넣어준다. `args`에 넣어 준 파라미터는 스레드 함수의 인자로 넘어간다.\n",
    "\n",
    "```python\n",
    "t = Thread(target=함수이름, args=())\n",
    "```\n",
    "\n",
    "Thread 클래스에는 start(), join() 같은 스레드 동작 관련 메소드가 있다. Thread로 실행할 함수를 정의한 후 start() 를 통해 스레드를 실행한다."
   ]
  },
  {
   "cell_type": "code",
   "execution_count": 7,
   "id": "1018f3b2",
   "metadata": {},
   "outputs": [
    {
     "name": "stdout",
     "output_type": "stream",
     "text": [
      "do  Overwork\n",
      "do  Overwork\n",
      "do  Overwork\n",
      "do  Overwork\n",
      "do  Overwork\n",
      "do  Overwork\n",
      "do  Overwork\n",
      "do  Overwork\n",
      "do  Overwork\n",
      "do  Overwork\n",
      "do  Overwork\n",
      "do  Overwork\n",
      "do  Overwork\n",
      "do  Overwork\n",
      "do  Overwork\n",
      "do  Overwork\n",
      "do  Overwork\n",
      "do  Overwork\n",
      "do  Overwork\n",
      "do  Overwork\n",
      "do  Overwork\n",
      "do  Overwork\n",
      "do  Overwork\n",
      "do  Overwork\n",
      "do  Overwork\n",
      "do  Overwork\n"
     ]
    }
   ],
   "source": [
    "from threading import *\n",
    "from time import sleep\n",
    "\n",
    "Stopped = False\n",
    "\n",
    "def worker(work, sleep_sec):    # 일꾼 스레드입니다.\n",
    "    while not Stopped:   # 그만 하라고 할때까지\n",
    "        print('do ', work)    # 시키는 일을 하고\n",
    "        sleep(sleep_sec)    # 잠깐 쉽니다.\n",
    "    print('retired..')           # 언젠가 이 굴레를 벗어나면, 은퇴할 때가 오겠지요?\n",
    "        \n",
    "t = Thread(target=worker, args=('Overwork', 3))    # 일꾼 스레드를 하나 생성합니다. 열심히 일하고 3초간 쉽니다.\n",
    "t.start()    # 일꾼, 이제 일을 해야지? 😈"
   ]
  },
  {
   "cell_type": "markdown",
   "id": "d00d4a31",
   "metadata": {},
   "source": [
    "그런데, 이 일꾼의 일을 어떻게 멈춰주면 좋을까? t.terminate() 같은 메소드가 있느냐? 없다.<br>\n",
    "그래서 스레드 함수가 루프를 돌 때는 꼭 멈춰야 할지를 체크하는 flag(여기서는 `Stopped`)를 체크하도록 설계해야 한다.\n",
    "\n",
    "* (주의) 이 예제에서 while 문의 실행결과를 제대로 보려면 별도의 jupyter notebook 화면에서 실행하기를 권장한다."
   ]
  },
  {
   "cell_type": "code",
   "execution_count": 8,
   "id": "246a16f8",
   "metadata": {},
   "outputs": [
    {
     "name": "stdout",
     "output_type": "stream",
     "text": [
      "retired..\n",
      "worker is gone.\n"
     ]
    }
   ],
   "source": [
    "# 이 코드 블럭을 실행하기 전까지는 일꾼 스레드는 종료하지 않습니다. \n",
    "Stopped = True    # 일꾼 일 그만하라고 세팅해 줍시다. \n",
    "t.join()                    # 일꾼 스레드가 종료할때까지 기다립니다. \n",
    "print('worker is gone.')"
   ]
  },
  {
   "cell_type": "markdown",
   "id": "cd9e8c99",
   "metadata": {},
   "source": [
    "## 7. 파이썬에서 멀티프로세스 사용하기\n",
    "파이썬에서 멀티프로세스의 구현은 `multiprocessing` 모듈을 이용해서 할 수 있다.\n",
    "\n",
    "* [multiprocessing - Process-based parallelism - Python 3.7.9 documentation](https://docs.python.org/3.7/library/multiprocessing.html)"
   ]
  },
  {
   "cell_type": "markdown",
   "id": "414ad9df",
   "metadata": {},
   "source": [
    "### 프로세스 생성\n",
    "---\n",
    "프로세스 또한 스레드와 유사한 방법으로 생성한다.\n",
    "\n",
    "* `Process` 인스턴스를 만든 뒤, `target` 과 `args` 파라미터에 각각 함수 이름과 함수 인자를 전달한다."
   ]
  },
  {
   "cell_type": "code",
   "execution_count": 9,
   "id": "3a39e381",
   "metadata": {},
   "outputs": [
    {
     "name": "stdout",
     "output_type": "stream",
     "text": [
      "delivering...\n"
     ]
    }
   ],
   "source": [
    "import multiprocessing as mp\n",
    "\n",
    "def delivery():\n",
    "    print('delivering...')\n",
    "\n",
    "p = mp.Process(target=delivery, args=())\n",
    "p.start()"
   ]
  },
  {
   "cell_type": "markdown",
   "id": "91c84665",
   "metadata": {},
   "source": [
    "### 프로세스 사용\n",
    "---\n",
    "`Process` 클래스는 `start()`, `join()`, `terminate()` 같은 프로세스 동작 관련 메소드가 있다.\n",
    "\n",
    "```python\n",
    "p = mp.Process(target=delivery, args=())\n",
    "p.start() # 프로세스 시작\n",
    "p.join() # 실제 종료까지 기다림 (필요시에만 사용)\n",
    "p.terminate() # 프로세스 종료\n",
    "```"
   ]
  },
  {
   "cell_type": "markdown",
   "id": "d2f208d3",
   "metadata": {},
   "source": [
    "## 8. 파이썬에서 스레드/프로세스 풀 사용하기\n",
    "\n",
    "지금까지 스레드와 프로세스를 생성하는 방법을 보았다. 사실 멀티스레드/프로세스 작업을 할 때 가장 많은 연산이 필요한 작업은 바로 이런 스레드나 프로세스를 생성하고 종료하는 일이다. 특히 스레드/프로세스를 사용한 뒤에는 제대로 종료해 주어야 컴퓨팅 리소스가 낭비되지 않는다.\n",
    "\n",
    "또 지금까지 본 것처럼 하나씩 하나씩 실행한다고 전체적인 프로그램의 성능이 좋아지지는 않는다. 그래서 실제로 사용할 때에는 스레드/프로세스 풀을 사용해서 생성한다.\n",
    "\n",
    "\"풀\"이란 영어로 Pool인데, 스레드나 프로세스들로 가득 찬 풀장이라고 생각하면 된다. 스레드 풀을 만들면 각각의 태스크들에 대해 자동으로 스레드들을 할당하고 종료한다.\n",
    "\n",
    "풀을 만드는 방법은 크게 2가지가 있다.\n",
    "\n",
    "* [Queue라는 자료구조를 사용해서 스스로 만드는 방법](https://docs.python.org/3.7/library/queue.html)\n",
    "* [concurrent.futures 라이브러리의 `ThreadPoolExecutor` , `ProcessPoolExecutor`클래스를 이용하는 방법](https://docs.python.org/ko/3.7/library/concurrent.futures.html)\n",
    "\n",
    "2가지 방법 모두 많이 사용하는 방법이다. 아직 자료구조에 대해 공부하지 않았으니 여기서는 `concurrent.futures` 모듈을 사용하는 방법만을 이용해 구현해 보겠다."
   ]
  },
  {
   "cell_type": "markdown",
   "id": "a83bcd49",
   "metadata": {},
   "source": [
    "### 1. concurrent.future 모듈 소개\n",
    "---\n",
    "이 모듈은 파이썬 3.2부터 추가된 모듈이다. Java 언어를 배운 적이 있다면 `ThreadPoolExecutor` 에 대해 들어본 적이 있을 것이다. 이를 파이썬에서 구현한 형태라고 생각하면 편하다. 한국말로 \"동시성 퓨처\"라고 번역해서 부르기도 하는데, 기능은 크게 4가지가 있다.\n",
    "\n",
    "* `Executor` 객체\n",
    "* `ThreadPoolExecutor` 객체\n",
    "* `ProcessPoolExecutor` 객체\n",
    "* `Future` 객체\n",
    "\n",
    "여기서는 Thread/Process Pool 구현에 필요한 부분만 살펴보겠다."
   ]
  },
  {
   "cell_type": "markdown",
   "id": "64401a17",
   "metadata": {},
   "source": [
    "#### `ThreadPoolExecutor`\n",
    "\n",
    "`Executor` 객체를 이용하면 스레드 생성, 시작, 조인 같은 작업을 할 때, `with` 컨텍스트 관리자와 같은 방법으로 가독성 높은 코드를 구현할 수 있다. (프로세스 구현 방법 역시 동일 하므로 설명은 스레드로만 하겠다.)\n",
    "\n",
    "```python\n",
    "with ThreadPoolExecutor() as executor:\n",
    "    future = executor.submit(함수이름, 인자)\n",
    "```\n",
    "\n",
    "앞서 한 `Delivery` 클래스를 예시로 들면 다음과 같다."
   ]
  },
  {
   "cell_type": "code",
   "execution_count": 10,
   "id": "ba01dced",
   "metadata": {},
   "outputs": [
    {
     "name": "stdout",
     "output_type": "stream",
     "text": [
      "delivering\n"
     ]
    }
   ],
   "source": [
    "from concurrent.futures import ThreadPoolExecutor\n",
    "\n",
    "class Delivery:\n",
    "    def run(self):\n",
    "        print(\"delivering\")\n",
    "w = Delivery()\n",
    "\n",
    "with ThreadPoolExecutor() as executor:\n",
    "    future = executor.submit(w.run)"
   ]
  },
  {
   "cell_type": "markdown",
   "id": "99c280ac",
   "metadata": {},
   "source": [
    "#### `multiprocessing.Pool`\n",
    "---\n",
    "multiprocessing.Pool.map을 통해 여러 개의 프로세스에 특정 함수를 매핑해서 병렬처리하도록 구현하는 방법이 널리 사용된다."
   ]
  },
  {
   "cell_type": "code",
   "execution_count": 11,
   "id": "dd1fdf8e",
   "metadata": {},
   "outputs": [
    {
     "name": "stdout",
     "output_type": "stream",
     "text": [
      "I'm process I'm process I'm process I'm process  I'm process    157171571815720\n",
      "15721\n",
      "\n",
      "\n"
     ]
    }
   ],
   "source": [
    "from multiprocessing import Pool\n",
    "from os import getpid\n",
    "\n",
    "def double(i):\n",
    "    print(\"I'm process \", getpid())    # pool 안에서 이 메소드가 실행될 때 pid를 확인해 봅시다.\n",
    "    return i * 2\n",
    "\n",
    "with Pool() as pool:\n",
    "    result = pool.map(double, [1, 2, 3, 4, 5])\n",
    "    print(result)"
   ]
  },
  {
   "cell_type": "markdown",
   "id": "02488ce5",
   "metadata": {},
   "source": [
    "위에서 `double(i)`이라는 메소드가 pool을 통해 각각 다른 pid를 가진 프로세스들 위에서 multiprocess로 실행되었다는 것을 확인할 수 있다."
   ]
  },
  {
   "cell_type": "markdown",
   "id": "45516e34",
   "metadata": {},
   "source": [
    "## 9. 실전 예제 (1) futures 모듈\n",
    "`concurrent.futures` 모듈의 `ProcessPoolExecutor` 를 이용해 병렬 프로그래밍을 연습해 보도록 하자."
   ]
  },
  {
   "cell_type": "markdown",
   "id": "0fae9e4d",
   "metadata": {},
   "source": [
    "### concurrent.futures 모듈 공식 문서\n",
    "---\n",
    "* [concurrent.futures - Launching parallel tasks - Python 3.7.9 documentation](https://docs.python.org/ko/3.7/library/concurrent.futures.html)"
   ]
  },
  {
   "cell_type": "markdown",
   "id": "f9317a85",
   "metadata": {},
   "source": [
    "**`concurrent.futures` 모듈에는 2가지 객체가 있다. 무엇인가?**\n",
    "\n",
    "* Executor, Futures"
   ]
  },
  {
   "cell_type": "markdown",
   "id": "7338010a",
   "metadata": {},
   "source": [
    "**`Executor` 객체에는 2개의 서브클래스가 있는데 무엇인가?**\n",
    "\n",
    "* ThreadPoolExecutor, ProcessPoolExecutor"
   ]
  },
  {
   "cell_type": "markdown",
   "id": "ac66d8a7",
   "metadata": {},
   "source": [
    "**`Executor` 객체가 제공하는 메소드 3개는 무엇인가?**\n",
    "\n",
    "* submit(), map(), shutdown()"
   ]
  },
  {
   "cell_type": "markdown",
   "id": "a2b6d89d",
   "metadata": {},
   "source": [
    "## 10. 실전 예제 (2) 튜토리얼\n",
    "\n",
    "이번 예제에서 다루는 부분은 아래 2개이다.\n",
    "\n",
    "* `Executor` 객체의 `map()` 함수\n",
    "* `ProcessPoolExecutor` 부분\n",
    "\n",
    "우리는 `concurrent.futures` 모듈의 `ProcessPoolExecutor`를 이용해서 멀티프로세스를 구현을 연습해 보겠다.\n",
    "\n",
    "아래 코드는 [concurrent.futures 모듈 공식 문서](https://docs.python.org/ko/3.7/library/concurrent.futures.html)의 *ProcessPoolExecutor 예제*에 실린 코드이다. 아래부터는 다시 주피터 커널을 사용해도 좋고, 파일에 복사해서 사용해도 좋다."
   ]
  },
  {
   "cell_type": "markdown",
   "id": "627e04a7",
   "metadata": {},
   "source": [
    "```python\n",
    "import math\n",
    "import concurrent\n",
    "\n",
    "PRIMES = [\n",
    "    112272535095293,\n",
    "    112582705942171,\n",
    "    112272535095293,\n",
    "    115280095190773,\n",
    "    115797848077099,\n",
    "    1099726899285419]\n",
    "\n",
    "def is_prime(n):\n",
    "    if n < 2:\n",
    "        return False\n",
    "    if n == 2:\n",
    "        return True\n",
    "    if n % 2 == 0:\n",
    "        return False\n",
    "\n",
    "    sqrt_n = int(math.floor(math.sqrt(n)))\n",
    "    for i in range(3, sqrt_n + 1, 2):\n",
    "        if n % i == 0:\n",
    "            return False\n",
    "    return True\n",
    "\n",
    "def main():\n",
    "    with concurrent.futures.ProcessPoolExecutor() as executor:\n",
    "        for number, prime in zip(PRIMES, executor.map(is_prime, PRIMES)):\n",
    "            print('%d is prime: %s' % (number, prime))\n",
    "\n",
    "if __name__ == '__main__':\n",
    "    main()\n",
    "```\n",
    "\n",
    "위 코드를 하나씩 뜯어보자."
   ]
  },
  {
   "cell_type": "markdown",
   "id": "1a016e10",
   "metadata": {},
   "source": [
    "### 1) 문제\n",
    "---\n",
    "소수(prime) 판별 문제로 PRIMES 변수에 선언된 숫자들이 소수인지 아닌지를 판별한다."
   ]
  },
  {
   "cell_type": "code",
   "execution_count": 1,
   "id": "168e0521",
   "metadata": {
    "ExecuteTime": {
     "end_time": "2021-06-26T06:52:44.199857Z",
     "start_time": "2021-06-26T06:52:44.193423Z"
    }
   },
   "outputs": [
    {
     "name": "stdout",
     "output_type": "stream",
     "text": [
      "*    .\n",
      "·   *\n",
      "  *   *\n",
      "🌲 🦕 🌳\n"
     ]
    }
   ],
   "source": [
    "import math\n",
    "import concurrent\n",
    "\n",
    "PRIMES = [\n",
    "    112272535095293,\n",
    "    112582705942171,\n",
    "    112272535095293,\n",
    "    115280095190773,\n",
    "    115797848077099,\n",
    "    1099726899285419]\n",
    "print(\"*    .\\n·   *\\n  *   *\\n🌲 🦕 🌳\")"
   ]
  },
  {
   "cell_type": "markdown",
   "id": "ddbe35c0",
   "metadata": {},
   "source": [
    "### 2) 소수판별 함수 `is_prime`\n",
    "---\n",
    "소수를 판별하는 로직을 함수로 구현했다."
   ]
  },
  {
   "cell_type": "code",
   "execution_count": 2,
   "id": "12d4442c",
   "metadata": {
    "ExecuteTime": {
     "end_time": "2021-06-26T06:53:09.365020Z",
     "start_time": "2021-06-26T06:53:09.351849Z"
    }
   },
   "outputs": [
    {
     "name": "stdout",
     "output_type": "stream",
     "text": [
      "🌲      🦕...\n"
     ]
    }
   ],
   "source": [
    "def is_prime(n):\n",
    "    if n < 2:\n",
    "        return False\n",
    "    if n == 2:\n",
    "        return True\n",
    "    if n % 2 == 0:\n",
    "        return False\n",
    "\n",
    "    sqrt_n = int(math.floor(math.sqrt(n)))\n",
    "    for i in range(3, sqrt_n + 1, 2):\n",
    "        if n % i == 0:\n",
    "            return False\n",
    "    return True\n",
    "print(\"🌲      🦕...\")"
   ]
  },
  {
   "cell_type": "markdown",
   "id": "ea4ff33e",
   "metadata": {},
   "source": [
    "### 3) 소수 판별 함수 호출\n",
    "\n",
    "---\n",
    "\n",
    "**`main()`** 함수를 따로 작성하여 소수 판별 함수(**`is_prime`**)를 호출하였다.\n",
    "\n",
    "맵-리듀스(map-reduce)스타일로 코드를 작성하고 **`map()`** 함수를 **`ProcessPoolExecutor()`** 인스턴스에서 생성된 **`executor`** 에서 실행시킨다.\n",
    "\n",
    "**`concurrent.futures`** 라이브러리의 프로세스 풀에서 동작하게 하기 위해 **`with`** 문을 써서 구현했다."
   ]
  },
  {
   "cell_type": "code",
   "execution_count": 3,
   "id": "060076db",
   "metadata": {
    "ExecuteTime": {
     "end_time": "2021-06-26T06:53:38.035696Z",
     "start_time": "2021-06-26T06:53:38.025161Z"
    }
   },
   "outputs": [
    {
     "name": "stdout",
     "output_type": "stream",
     "text": [
      "🌲   🦕.....\n"
     ]
    }
   ],
   "source": [
    "def main():\n",
    "    with concurrent.futures.ProcessPoolExecutor() as executor:\n",
    "        for number, prime in zip(PRIMES, executor.map(is_prime, PRIMES)):\n",
    "            print('%d is prime: %s' % (number, prime))\n",
    "print(\"🌲   🦕.....\")"
   ]
  },
  {
   "cell_type": "markdown",
   "id": "9682954a",
   "metadata": {},
   "source": [
    "병렬처리와 단일처리의 비교를 위해 코드를 아래와 같이 수정해보자.\n",
    "\n",
    "* 프로파일링을 위한 시간계산 코드를 추가\n",
    "* 단일처리로 수행했을 때의 코드를 추가, 단일처리 프로파일링을 위한 시간계산 코드를 추가."
   ]
  },
  {
   "cell_type": "code",
   "execution_count": 4,
   "id": "4db4d4a7",
   "metadata": {
    "ExecuteTime": {
     "end_time": "2021-06-26T07:00:31.854959Z",
     "start_time": "2021-06-26T07:00:31.842257Z"
    }
   },
   "outputs": [
    {
     "name": "stdout",
     "output_type": "stream",
     "text": [
      " ❣\n",
      "🌲🦕.......\n"
     ]
    }
   ],
   "source": [
    "import time\n",
    "\n",
    "def main():\n",
    "    print(\"병렬처리 시작\")\n",
    "    start = time.time()\n",
    "    with concurrent.futures.ProcessPoolExecutor() as executor:\n",
    "        for number, prime in zip(PRIMES, executor.map(is_prime, PRIMES)):\n",
    "            print('%d is prime: %s' % (number, prime))\n",
    "    end = time.time()\n",
    "    print(\"병렬처리 수행 시각\", end-start, 's')\n",
    "\n",
    "    start = time.time()\n",
    "    for number, prime in zip(PRIMES, map(is_prime, PRIMES)):\n",
    "        print('%d is prime: %s' % (number, prime))\n",
    "    end = time.time()\n",
    "    print(\"단일처리 수행 시각\", end-start, 's')\n",
    "print(\" ❣\\n🌲🦕.......\")"
   ]
  },
  {
   "cell_type": "markdown",
   "id": "688aad8c",
   "metadata": {},
   "source": [
    "### 4) 전체 코드\n",
    "---"
   ]
  },
  {
   "cell_type": "code",
   "execution_count": 5,
   "id": "1e4615f4",
   "metadata": {
    "ExecuteTime": {
     "end_time": "2021-06-26T07:00:48.550809Z",
     "start_time": "2021-06-26T07:00:45.689031Z"
    }
   },
   "outputs": [
    {
     "name": "stdout",
     "output_type": "stream",
     "text": [
      "병렬처리 시작\n",
      "112272535095293 is prime: True\n",
      "112582705942171 is prime: True\n",
      "112272535095293 is prime: True\n",
      "115280095190773 is prime: True\n",
      "115797848077099 is prime: True\n",
      "1099726899285419 is prime: False\n",
      "병렬처리 수행 시각 0.5637052059173584 s\n",
      "112272535095293 is prime: True\n",
      "112582705942171 is prime: True\n",
      "112272535095293 is prime: True\n",
      "115280095190773 is prime: True\n",
      "115797848077099 is prime: True\n",
      "1099726899285419 is prime: False\n",
      "단일처리 수행 시각 2.2939610481262207 s\n"
     ]
    }
   ],
   "source": [
    "main()"
   ]
  }
 ],
 "metadata": {
  "kernelspec": {
   "display_name": "aiffel",
   "language": "python",
   "name": "aiffel"
  },
  "language_info": {
   "codemirror_mode": {
    "name": "ipython",
    "version": 3
   },
   "file_extension": ".py",
   "mimetype": "text/x-python",
   "name": "python",
   "nbconvert_exporter": "python",
   "pygments_lexer": "ipython3",
   "version": "3.7.9"
  },
  "toc": {
   "base_numbering": 1,
   "nav_menu": {},
   "number_sections": true,
   "sideBar": true,
   "skip_h1_title": false,
   "title_cell": "Table of Contents",
   "title_sidebar": "Contents",
   "toc_cell": false,
   "toc_position": {},
   "toc_section_display": true,
   "toc_window_display": true
  },
  "varInspector": {
   "cols": {
    "lenName": 16,
    "lenType": 16,
    "lenVar": 40
   },
   "kernels_config": {
    "python": {
     "delete_cmd_postfix": "",
     "delete_cmd_prefix": "del ",
     "library": "var_list.py",
     "varRefreshCmd": "print(var_dic_list())"
    },
    "r": {
     "delete_cmd_postfix": ") ",
     "delete_cmd_prefix": "rm(",
     "library": "var_list.r",
     "varRefreshCmd": "cat(var_dic_list()) "
    }
   },
   "types_to_exclude": [
    "module",
    "function",
    "builtin_function_or_method",
    "instance",
    "_Feature"
   ],
   "window_display": false
  }
 },
 "nbformat": 4,
 "nbformat_minor": 5
}
