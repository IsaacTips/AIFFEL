{
 "cells": [
  {
   "cell_type": "markdown",
   "id": "a567a368",
   "metadata": {},
   "source": [
    "# 5. Data 어떻게 표현하면 좋을까? 배열(array)과 표(table)"
   ]
  },
  {
   "cell_type": "markdown",
   "id": "68fe4106",
   "metadata": {},
   "source": [
    "## 1. Data 어떻게 표현하면 좋을까? 배열(array)과 표(table)"
   ]
  },
  {
   "cell_type": "markdown",
   "id": "79c451e9",
   "metadata": {},
   "source": [
    "### **학습 목표**\n",
    "\n",
    "---\n",
    "\n",
    "* 데이터를 배열로 저장하는 것에 대해 이해하고 list, numpy의 사용법을 학습한다.\n",
    "* 구조화된 데이터를 저장하는 것을 이해하고 dictonary와 pandas 사용법을 학습한다.\n",
    "* 이미지 데이터를 numpy 배열로 저장하는 것을 이해하고 그 사용법을 학습한다.\n",
    "* 학습한 자료 구조를 활용해서 통계 데이터를 어떻게 계산하는지 학습한다."
   ]
  },
  {
   "cell_type": "markdown",
   "id": "3f18ab4c",
   "metadata": {},
   "source": [
    "### 목차\n",
    "---"
   ]
  },
  {
   "cell_type": "markdown",
   "id": "d4013519",
   "metadata": {},
   "source": [
    "#### 배열은 가까이에~ 기본 통계 데이터를 계산해 볼까?\n",
    "\n",
    "1. 평균 계산하기\n",
    "2. 배열을 활용한 평균, 표준편차, 중앙값 계산"
   ]
  },
  {
   "cell_type": "markdown",
   "id": "fb26885c",
   "metadata": {},
   "source": [
    "#### 끝판왕 등장! numpy로 이 모든걸 한방에!\n",
    "\n",
    "1. NumPy 소개\n",
    "2. 주요기능\n",
    "3. NumPy로 기본 통계 데이터 계산 해보기"
   ]
  },
  {
   "cell_type": "markdown",
   "id": "530a5fed",
   "metadata": {},
   "source": [
    "#### 데이터의 행렬 변환\n",
    "\n",
    "1. 이미지 데이터의 행렬 변환"
   ]
  },
  {
   "cell_type": "markdown",
   "id": "7ae6d588",
   "metadata": {},
   "source": [
    "#### 구조화된 데이터란?\n",
    "\n",
    "1. 간단한 dictionary를 활용한 판타지 게임 logic 설계\n",
    "2. 구조화된 데이터와 pandas\n",
    "3. Pandas와 함께 EDA 시작하기\n"
   ]
  },
  {
   "cell_type": "markdown",
   "id": "bdd87d6b",
   "metadata": {},
   "source": []
  },
  {
   "cell_type": "markdown",
   "id": "c0b73c68",
   "metadata": {},
   "source": []
  },
  {
   "cell_type": "markdown",
   "id": "01b7e2c4",
   "metadata": {},
   "source": []
  },
  {
   "cell_type": "markdown",
   "id": "890ccbc9",
   "metadata": {},
   "source": []
  },
  {
   "cell_type": "markdown",
   "id": "958bb8ae",
   "metadata": {},
   "source": []
  },
  {
   "cell_type": "markdown",
   "id": "06c4a6e5",
   "metadata": {},
   "source": []
  },
  {
   "cell_type": "markdown",
   "id": "3e107ffd",
   "metadata": {},
   "source": []
  },
  {
   "cell_type": "markdown",
   "id": "f027d9ef",
   "metadata": {},
   "source": []
  },
  {
   "cell_type": "markdown",
   "id": "fff689e1",
   "metadata": {},
   "source": []
  },
  {
   "cell_type": "markdown",
   "id": "be4dcb5e",
   "metadata": {},
   "source": []
  },
  {
   "cell_type": "markdown",
   "id": "a1695b8e",
   "metadata": {},
   "source": []
  },
  {
   "cell_type": "markdown",
   "id": "e4a41396",
   "metadata": {},
   "source": []
  },
  {
   "cell_type": "markdown",
   "id": "525419a4",
   "metadata": {},
   "source": []
  },
  {
   "cell_type": "markdown",
   "id": "9227784a",
   "metadata": {},
   "source": []
  },
  {
   "cell_type": "markdown",
   "id": "696d5cab",
   "metadata": {},
   "source": []
  },
  {
   "cell_type": "markdown",
   "id": "998e6d56",
   "metadata": {},
   "source": []
  },
  {
   "cell_type": "markdown",
   "id": "0cde5c25",
   "metadata": {},
   "source": []
  },
  {
   "cell_type": "markdown",
   "id": "32e3eab2",
   "metadata": {},
   "source": []
  },
  {
   "cell_type": "markdown",
   "id": "ac6f214f",
   "metadata": {},
   "source": []
  },
  {
   "cell_type": "markdown",
   "id": "098be5eb",
   "metadata": {},
   "source": []
  },
  {
   "cell_type": "markdown",
   "id": "4f8c2df7",
   "metadata": {},
   "source": []
  },
  {
   "cell_type": "markdown",
   "id": "568811b9",
   "metadata": {},
   "source": []
  },
  {
   "cell_type": "markdown",
   "id": "57b3579e",
   "metadata": {},
   "source": []
  },
  {
   "cell_type": "markdown",
   "id": "dba88b3e",
   "metadata": {},
   "source": []
  },
  {
   "cell_type": "markdown",
   "id": "35b6f866",
   "metadata": {},
   "source": []
  },
  {
   "cell_type": "markdown",
   "id": "41ae202b",
   "metadata": {},
   "source": []
  },
  {
   "cell_type": "markdown",
   "id": "0d8581c0",
   "metadata": {},
   "source": []
  },
  {
   "cell_type": "markdown",
   "id": "3617a221",
   "metadata": {},
   "source": []
  },
  {
   "cell_type": "markdown",
   "id": "d3a225cc",
   "metadata": {},
   "source": []
  },
  {
   "cell_type": "markdown",
   "id": "0a56c59d",
   "metadata": {},
   "source": []
  },
  {
   "cell_type": "markdown",
   "id": "f3c1dfd3",
   "metadata": {},
   "source": []
  },
  {
   "cell_type": "markdown",
   "id": "8f5c1d8a",
   "metadata": {},
   "source": []
  }
 ],
 "metadata": {
  "kernelspec": {
   "display_name": "aiffel",
   "language": "python",
   "name": "aiffel"
  },
  "language_info": {
   "codemirror_mode": {
    "name": "ipython",
    "version": 3
   },
   "file_extension": ".py",
   "mimetype": "text/x-python",
   "name": "python",
   "nbconvert_exporter": "python",
   "pygments_lexer": "ipython3",
   "version": "3.7.9"
  },
  "toc": {
   "base_numbering": 1,
   "nav_menu": {},
   "number_sections": true,
   "sideBar": true,
   "skip_h1_title": false,
   "title_cell": "Table of Contents",
   "title_sidebar": "Contents",
   "toc_cell": false,
   "toc_position": {},
   "toc_section_display": true,
   "toc_window_display": false
  },
  "varInspector": {
   "cols": {
    "lenName": 16,
    "lenType": 16,
    "lenVar": 40
   },
   "kernels_config": {
    "python": {
     "delete_cmd_postfix": "",
     "delete_cmd_prefix": "del ",
     "library": "var_list.py",
     "varRefreshCmd": "print(var_dic_list())"
    },
    "r": {
     "delete_cmd_postfix": ") ",
     "delete_cmd_prefix": "rm(",
     "library": "var_list.r",
     "varRefreshCmd": "cat(var_dic_list()) "
    }
   },
   "types_to_exclude": [
    "module",
    "function",
    "builtin_function_or_method",
    "instance",
    "_Feature"
   ],
   "window_display": false
  }
 },
 "nbformat": 4,
 "nbformat_minor": 5
}
